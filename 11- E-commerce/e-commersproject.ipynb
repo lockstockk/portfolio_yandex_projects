{
 "cells": [
  {
   "cell_type": "markdown",
   "metadata": {},
   "source": [
    "# E-commerce — Выявление профилей потребления"
   ]
  },
  {
   "cell_type": "markdown",
   "metadata": {},
   "source": [
    "### Описание проекта:   \n",
    "Интернет-магазин товаров для дома «Пока все ещё тут» хочет проанализироватть профили покупателей, а также их сегментировать."
   ]
  },
  {
   "cell_type": "markdown",
   "metadata": {},
   "source": [
    "### Цель:  \n",
    "Выявить профили покупателей, сегментировать их и проанализировать."
   ]
  },
  {
   "cell_type": "markdown",
   "metadata": {},
   "source": [
    "Задачи проекта\n",
    "Провести анализ ассортимента интернет-магазина товаров для дома и быта «Пока все ещё тут» на основе тра### Цель:  \n",
    "Выявить профили покупателей, сегментировать их и проанализировать.нзакций для отдела закупки и сформулировать рекомендации.\n",
    "\n",
    "Описание проекта\n",
    "Интернет-магазином товаров для дома и быта «Пока все ещё тут» была предоставлена база данных о транзакциях.\n",
    "В данном проекте проведен исследовательский анализ данных EDA, проведена категоризация данных, использовано машинное обучение.\n",
    "Товары разделены на кластеры: охарактеризованы их основные свойства, проанализированы основные признаки, наиболее сильно влияющие на показатель выручки.\n",
    "Сформулированы и проверены статистические гипотезы.\n",
    "Даны рекомендации для повышения эффективности работы магазина"
   ]
  },
  {
   "cell_type": "markdown",
   "metadata": {},
   "source": [
    "ссылка на презентацию: https://disk.yandex.ru/i/AtHSyBbKckvjnw"
   ]
  },
  {
   "cell_type": "markdown",
   "metadata": {},
   "source": [
    "### Предобработка данных"
   ]
  },
  {
   "cell_type": "code",
   "execution_count": 69,
   "metadata": {},
   "outputs": [
    {
     "name": "stdout",
     "output_type": "stream",
     "text": [
      "Requirement already satisfied: ydata-profiling[notebook] in c:\\users\\igor\\anaconda3\\lib\\site-packages (4.1.1)\n",
      "Requirement already satisfied: phik<0.13,>=0.11.1 in c:\\users\\igor\\anaconda3\\lib\\site-packages (from ydata-profiling[notebook]) (0.12.3)\n",
      "Requirement already satisfied: pydantic<1.11,>=1.8.1 in c:\\users\\igor\\anaconda3\\lib\\site-packages (from ydata-profiling[notebook]) (1.10.5)\n",
      "Requirement already satisfied: multimethod<1.10,>=1.4 in c:\\users\\igor\\anaconda3\\lib\\site-packages (from ydata-profiling[notebook]) (1.9.1)\n",
      "Requirement already satisfied: statsmodels<0.14,>=0.13.2 in c:\\users\\igor\\anaconda3\\lib\\site-packages (from ydata-profiling[notebook]) (0.13.2)\n",
      "Requirement already satisfied: tqdm<4.65,>=4.48.2 in c:\\users\\igor\\anaconda3\\lib\\site-packages (from ydata-profiling[notebook]) (4.64.1)\n",
      "Requirement already satisfied: imagehash==4.3.1 in c:\\users\\igor\\anaconda3\\lib\\site-packages (from ydata-profiling[notebook]) (4.3.1)\n",
      "Requirement already satisfied: scipy<1.10,>=1.4.1 in c:\\users\\igor\\anaconda3\\lib\\site-packages (from ydata-profiling[notebook]) (1.9.1)\n",
      "Requirement already satisfied: typeguard<2.14,>=2.13.2 in c:\\users\\igor\\anaconda3\\lib\\site-packages (from ydata-profiling[notebook]) (2.13.3)\n",
      "Requirement already satisfied: visions[type_image_path]==0.7.5 in c:\\users\\igor\\anaconda3\\lib\\site-packages (from ydata-profiling[notebook]) (0.7.5)\n",
      "Requirement already satisfied: requests<2.29,>=2.24.0 in c:\\users\\igor\\anaconda3\\lib\\site-packages (from ydata-profiling[notebook]) (2.28.1)\n",
      "Requirement already satisfied: seaborn<0.13,>=0.10.1 in c:\\users\\igor\\anaconda3\\lib\\site-packages (from ydata-profiling[notebook]) (0.11.2)\n",
      "Requirement already satisfied: PyYAML<6.1,>=5.0.0 in c:\\users\\igor\\anaconda3\\lib\\site-packages (from ydata-profiling[notebook]) (6.0)\n",
      "Requirement already satisfied: numpy<1.24,>=1.16.0 in c:\\users\\igor\\anaconda3\\lib\\site-packages (from ydata-profiling[notebook]) (1.21.5)\n",
      "Requirement already satisfied: matplotlib<3.7,>=3.2 in c:\\users\\igor\\anaconda3\\lib\\site-packages (from ydata-profiling[notebook]) (3.5.2)\n",
      "Requirement already satisfied: pandas!=1.4.0,<1.6,>1.1 in c:\\users\\igor\\anaconda3\\lib\\site-packages (from ydata-profiling[notebook]) (1.4.4)\n",
      "Requirement already satisfied: htmlmin==0.1.12 in c:\\users\\igor\\anaconda3\\lib\\site-packages (from ydata-profiling[notebook]) (0.1.12)\n",
      "Requirement already satisfied: jinja2<3.2,>=2.11.1 in c:\\users\\igor\\anaconda3\\lib\\site-packages (from ydata-profiling[notebook]) (2.11.3)\n",
      "Requirement already satisfied: jupyter-core>=4.6.3 in c:\\users\\igor\\anaconda3\\lib\\site-packages (from ydata-profiling[notebook]) (4.11.1)\n",
      "Requirement already satisfied: jupyter-client>=5.3.4 in c:\\users\\igor\\anaconda3\\lib\\site-packages (from ydata-profiling[notebook]) (7.3.4)\n",
      "Requirement already satisfied: ipywidgets>=7.5.1 in c:\\users\\igor\\anaconda3\\lib\\site-packages (from ydata-profiling[notebook]) (7.6.5)\n",
      "Requirement already satisfied: pillow in c:\\users\\igor\\anaconda3\\lib\\site-packages (from imagehash==4.3.1->ydata-profiling[notebook]) (9.2.0)\n",
      "Requirement already satisfied: PyWavelets in c:\\users\\igor\\anaconda3\\lib\\site-packages (from imagehash==4.3.1->ydata-profiling[notebook]) (1.3.0)\n",
      "Requirement already satisfied: networkx>=2.4 in c:\\users\\igor\\anaconda3\\lib\\site-packages (from visions[type_image_path]==0.7.5->ydata-profiling[notebook]) (2.8.4)\n",
      "Requirement already satisfied: attrs>=19.3.0 in c:\\users\\igor\\anaconda3\\lib\\site-packages (from visions[type_image_path]==0.7.5->ydata-profiling[notebook]) (21.4.0)\n",
      "Requirement already satisfied: tangled-up-in-unicode>=0.0.4 in c:\\users\\igor\\anaconda3\\lib\\site-packages (from visions[type_image_path]==0.7.5->ydata-profiling[notebook]) (0.2.0)\n",
      "Requirement already satisfied: traitlets>=4.3.1 in c:\\users\\igor\\anaconda3\\lib\\site-packages (from ipywidgets>=7.5.1->ydata-profiling[notebook]) (5.1.1)\n",
      "Requirement already satisfied: ipython-genutils~=0.2.0 in c:\\users\\igor\\anaconda3\\lib\\site-packages (from ipywidgets>=7.5.1->ydata-profiling[notebook]) (0.2.0)\n",
      "Requirement already satisfied: nbformat>=4.2.0 in c:\\users\\igor\\anaconda3\\lib\\site-packages (from ipywidgets>=7.5.1->ydata-profiling[notebook]) (5.5.0)\n",
      "Requirement already satisfied: widgetsnbextension~=3.5.0 in c:\\users\\igor\\anaconda3\\lib\\site-packages (from ipywidgets>=7.5.1->ydata-profiling[notebook]) (3.5.2)\n",
      "Requirement already satisfied: ipykernel>=4.5.1 in c:\\users\\igor\\anaconda3\\lib\\site-packages (from ipywidgets>=7.5.1->ydata-profiling[notebook]) (6.15.2)\n",
      "Requirement already satisfied: jupyterlab-widgets>=1.0.0 in c:\\users\\igor\\anaconda3\\lib\\site-packages (from ipywidgets>=7.5.1->ydata-profiling[notebook]) (1.0.0)\n",
      "Requirement already satisfied: ipython>=4.0.0 in c:\\users\\igor\\anaconda3\\lib\\site-packages (from ipywidgets>=7.5.1->ydata-profiling[notebook]) (7.31.1)\n",
      "Requirement already satisfied: MarkupSafe>=0.23 in c:\\users\\igor\\anaconda3\\lib\\site-packages (from jinja2<3.2,>=2.11.1->ydata-profiling[notebook]) (2.0.1)\n",
      "Requirement already satisfied: entrypoints in c:\\users\\igor\\anaconda3\\lib\\site-packages (from jupyter-client>=5.3.4->ydata-profiling[notebook]) (0.4)\n",
      "Requirement already satisfied: pyzmq>=23.0 in c:\\users\\igor\\anaconda3\\lib\\site-packages (from jupyter-client>=5.3.4->ydata-profiling[notebook]) (23.2.0)\n",
      "Requirement already satisfied: tornado>=6.0 in c:\\users\\igor\\anaconda3\\lib\\site-packages (from jupyter-client>=5.3.4->ydata-profiling[notebook]) (6.1)\n",
      "Requirement already satisfied: nest-asyncio>=1.5.4 in c:\\users\\igor\\anaconda3\\lib\\site-packages (from jupyter-client>=5.3.4->ydata-profiling[notebook]) (1.5.5)\n",
      "Requirement already satisfied: python-dateutil>=2.8.2 in c:\\users\\igor\\anaconda3\\lib\\site-packages (from jupyter-client>=5.3.4->ydata-profiling[notebook]) (2.8.2)\n",
      "Requirement already satisfied: pywin32>=1.0 in c:\\users\\igor\\anaconda3\\lib\\site-packages (from jupyter-core>=4.6.3->ydata-profiling[notebook]) (302)\n",
      "Requirement already satisfied: kiwisolver>=1.0.1 in c:\\users\\igor\\anaconda3\\lib\\site-packages (from matplotlib<3.7,>=3.2->ydata-profiling[notebook]) (1.4.2)\n",
      "Requirement already satisfied: fonttools>=4.22.0 in c:\\users\\igor\\anaconda3\\lib\\site-packages (from matplotlib<3.7,>=3.2->ydata-profiling[notebook]) (4.25.0)\n",
      "Requirement already satisfied: cycler>=0.10 in c:\\users\\igor\\anaconda3\\lib\\site-packages (from matplotlib<3.7,>=3.2->ydata-profiling[notebook]) (0.11.0)\n",
      "Requirement already satisfied: pyparsing>=2.2.1 in c:\\users\\igor\\anaconda3\\lib\\site-packages (from matplotlib<3.7,>=3.2->ydata-profiling[notebook]) (3.0.9)\n",
      "Requirement already satisfied: packaging>=20.0 in c:\\users\\igor\\anaconda3\\lib\\site-packages (from matplotlib<3.7,>=3.2->ydata-profiling[notebook]) (21.3)\n",
      "Requirement already satisfied: pytz>=2020.1 in c:\\users\\igor\\anaconda3\\lib\\site-packages (from pandas!=1.4.0,<1.6,>1.1->ydata-profiling[notebook]) (2022.1)\n",
      "Requirement already satisfied: joblib>=0.14.1 in c:\\users\\igor\\anaconda3\\lib\\site-packages (from phik<0.13,>=0.11.1->ydata-profiling[notebook]) (1.1.0)\n",
      "Requirement already satisfied: typing-extensions>=4.2.0 in c:\\users\\igor\\anaconda3\\lib\\site-packages (from pydantic<1.11,>=1.8.1->ydata-profiling[notebook]) (4.3.0)\n",
      "Requirement already satisfied: idna<4,>=2.5 in c:\\users\\igor\\anaconda3\\lib\\site-packages (from requests<2.29,>=2.24.0->ydata-profiling[notebook]) (3.3)\n",
      "Requirement already satisfied: charset-normalizer<3,>=2 in c:\\users\\igor\\anaconda3\\lib\\site-packages (from requests<2.29,>=2.24.0->ydata-profiling[notebook]) (2.0.4)\n",
      "Requirement already satisfied: urllib3<1.27,>=1.21.1 in c:\\users\\igor\\anaconda3\\lib\\site-packages (from requests<2.29,>=2.24.0->ydata-profiling[notebook]) (1.26.11)\n",
      "Requirement already satisfied: certifi>=2017.4.17 in c:\\users\\igor\\anaconda3\\lib\\site-packages (from requests<2.29,>=2.24.0->ydata-profiling[notebook]) (2022.9.14)\n",
      "Requirement already satisfied: patsy>=0.5.2 in c:\\users\\igor\\anaconda3\\lib\\site-packages (from statsmodels<0.14,>=0.13.2->ydata-profiling[notebook]) (0.5.2)\n",
      "Requirement already satisfied: colorama in c:\\users\\igor\\anaconda3\\lib\\site-packages (from tqdm<4.65,>=4.48.2->ydata-profiling[notebook]) (0.4.5)\n",
      "Requirement already satisfied: matplotlib-inline>=0.1 in c:\\users\\igor\\anaconda3\\lib\\site-packages (from ipykernel>=4.5.1->ipywidgets>=7.5.1->ydata-profiling[notebook]) (0.1.6)\n",
      "Requirement already satisfied: psutil in c:\\users\\igor\\anaconda3\\lib\\site-packages (from ipykernel>=4.5.1->ipywidgets>=7.5.1->ydata-profiling[notebook]) (5.9.0)\n",
      "Requirement already satisfied: debugpy>=1.0 in c:\\users\\igor\\anaconda3\\lib\\site-packages (from ipykernel>=4.5.1->ipywidgets>=7.5.1->ydata-profiling[notebook]) (1.5.1)\n",
      "Requirement already satisfied: prompt-toolkit!=3.0.0,!=3.0.1,<3.1.0,>=2.0.0 in c:\\users\\igor\\anaconda3\\lib\\site-packages (from ipython>=4.0.0->ipywidgets>=7.5.1->ydata-profiling[notebook]) (3.0.20)\n",
      "Requirement already satisfied: pickleshare in c:\\users\\igor\\anaconda3\\lib\\site-packages (from ipython>=4.0.0->ipywidgets>=7.5.1->ydata-profiling[notebook]) (0.7.5)\n",
      "Requirement already satisfied: pygments in c:\\users\\igor\\anaconda3\\lib\\site-packages (from ipython>=4.0.0->ipywidgets>=7.5.1->ydata-profiling[notebook]) (2.11.2)\n",
      "Requirement already satisfied: jedi>=0.16 in c:\\users\\igor\\anaconda3\\lib\\site-packages (from ipython>=4.0.0->ipywidgets>=7.5.1->ydata-profiling[notebook]) (0.18.1)\n",
      "Requirement already satisfied: decorator in c:\\users\\igor\\anaconda3\\lib\\site-packages (from ipython>=4.0.0->ipywidgets>=7.5.1->ydata-profiling[notebook]) (5.1.1)\n",
      "Requirement already satisfied: backcall in c:\\users\\igor\\anaconda3\\lib\\site-packages (from ipython>=4.0.0->ipywidgets>=7.5.1->ydata-profiling[notebook]) (0.2.0)\n",
      "Requirement already satisfied: setuptools>=18.5 in c:\\users\\igor\\anaconda3\\lib\\site-packages (from ipython>=4.0.0->ipywidgets>=7.5.1->ydata-profiling[notebook]) (63.4.1)\n",
      "Requirement already satisfied: jsonschema>=2.6 in c:\\users\\igor\\anaconda3\\lib\\site-packages (from nbformat>=4.2.0->ipywidgets>=7.5.1->ydata-profiling[notebook]) (4.16.0)\n",
      "Requirement already satisfied: fastjsonschema in c:\\users\\igor\\anaconda3\\lib\\site-packages (from nbformat>=4.2.0->ipywidgets>=7.5.1->ydata-profiling[notebook]) (2.16.2)\n",
      "Requirement already satisfied: six in c:\\users\\igor\\anaconda3\\lib\\site-packages (from patsy>=0.5.2->statsmodels<0.14,>=0.13.2->ydata-profiling[notebook]) (1.16.0)\n",
      "Requirement already satisfied: notebook>=4.4.1 in c:\\users\\igor\\anaconda3\\lib\\site-packages (from widgetsnbextension~=3.5.0->ipywidgets>=7.5.1->ydata-profiling[notebook]) (6.4.12)\n",
      "Requirement already satisfied: parso<0.9.0,>=0.8.0 in c:\\users\\igor\\anaconda3\\lib\\site-packages (from jedi>=0.16->ipython>=4.0.0->ipywidgets>=7.5.1->ydata-profiling[notebook]) (0.8.3)\n",
      "Requirement already satisfied: pyrsistent!=0.17.0,!=0.17.1,!=0.17.2,>=0.14.0 in c:\\users\\igor\\anaconda3\\lib\\site-packages (from jsonschema>=2.6->nbformat>=4.2.0->ipywidgets>=7.5.1->ydata-profiling[notebook]) (0.18.0)\n",
      "Requirement already satisfied: terminado>=0.8.3 in c:\\users\\igor\\anaconda3\\lib\\site-packages (from notebook>=4.4.1->widgetsnbextension~=3.5.0->ipywidgets>=7.5.1->ydata-profiling[notebook]) (0.13.1)\n",
      "Requirement already satisfied: nbconvert>=5 in c:\\users\\igor\\anaconda3\\lib\\site-packages (from notebook>=4.4.1->widgetsnbextension~=3.5.0->ipywidgets>=7.5.1->ydata-profiling[notebook]) (6.4.4)\n",
      "Requirement already satisfied: prometheus-client in c:\\users\\igor\\anaconda3\\lib\\site-packages (from notebook>=4.4.1->widgetsnbextension~=3.5.0->ipywidgets>=7.5.1->ydata-profiling[notebook]) (0.14.1)\n",
      "Requirement already satisfied: argon2-cffi in c:\\users\\igor\\anaconda3\\lib\\site-packages (from notebook>=4.4.1->widgetsnbextension~=3.5.0->ipywidgets>=7.5.1->ydata-profiling[notebook]) (21.3.0)\n",
      "Requirement already satisfied: Send2Trash>=1.8.0 in c:\\users\\igor\\anaconda3\\lib\\site-packages (from notebook>=4.4.1->widgetsnbextension~=3.5.0->ipywidgets>=7.5.1->ydata-profiling[notebook]) (1.8.0)\n",
      "Requirement already satisfied: wcwidth in c:\\users\\igor\\anaconda3\\lib\\site-packages (from prompt-toolkit!=3.0.0,!=3.0.1,<3.1.0,>=2.0.0->ipython>=4.0.0->ipywidgets>=7.5.1->ydata-profiling[notebook]) (0.2.5)\n",
      "Requirement already satisfied: jupyterlab-pygments in c:\\users\\igor\\anaconda3\\lib\\site-packages (from nbconvert>=5->notebook>=4.4.1->widgetsnbextension~=3.5.0->ipywidgets>=7.5.1->ydata-profiling[notebook]) (0.1.2)\n",
      "Requirement already satisfied: bleach in c:\\users\\igor\\anaconda3\\lib\\site-packages (from nbconvert>=5->notebook>=4.4.1->widgetsnbextension~=3.5.0->ipywidgets>=7.5.1->ydata-profiling[notebook]) (4.1.0)\n",
      "Requirement already satisfied: defusedxml in c:\\users\\igor\\anaconda3\\lib\\site-packages (from nbconvert>=5->notebook>=4.4.1->widgetsnbextension~=3.5.0->ipywidgets>=7.5.1->ydata-profiling[notebook]) (0.7.1)\n",
      "Requirement already satisfied: testpath in c:\\users\\igor\\anaconda3\\lib\\site-packages (from nbconvert>=5->notebook>=4.4.1->widgetsnbextension~=3.5.0->ipywidgets>=7.5.1->ydata-profiling[notebook]) (0.6.0)\n",
      "Requirement already satisfied: beautifulsoup4 in c:\\users\\igor\\anaconda3\\lib\\site-packages (from nbconvert>=5->notebook>=4.4.1->widgetsnbextension~=3.5.0->ipywidgets>=7.5.1->ydata-profiling[notebook]) (4.11.1)\n",
      "Requirement already satisfied: nbclient<0.6.0,>=0.5.0 in c:\\users\\igor\\anaconda3\\lib\\site-packages (from nbconvert>=5->notebook>=4.4.1->widgetsnbextension~=3.5.0->ipywidgets>=7.5.1->ydata-profiling[notebook]) (0.5.13)\n",
      "Requirement already satisfied: mistune<2,>=0.8.1 in c:\\users\\igor\\anaconda3\\lib\\site-packages (from nbconvert>=5->notebook>=4.4.1->widgetsnbextension~=3.5.0->ipywidgets>=7.5.1->ydata-profiling[notebook]) (0.8.4)\n",
      "Requirement already satisfied: pandocfilters>=1.4.1 in c:\\users\\igor\\anaconda3\\lib\\site-packages (from nbconvert>=5->notebook>=4.4.1->widgetsnbextension~=3.5.0->ipywidgets>=7.5.1->ydata-profiling[notebook]) (1.5.0)\n",
      "Requirement already satisfied: pywinpty>=1.1.0 in c:\\users\\igor\\anaconda3\\lib\\site-packages (from terminado>=0.8.3->notebook>=4.4.1->widgetsnbextension~=3.5.0->ipywidgets>=7.5.1->ydata-profiling[notebook]) (2.0.2)\n",
      "Requirement already satisfied: argon2-cffi-bindings in c:\\users\\igor\\anaconda3\\lib\\site-packages (from argon2-cffi->notebook>=4.4.1->widgetsnbextension~=3.5.0->ipywidgets>=7.5.1->ydata-profiling[notebook]) (21.2.0)\n",
      "Requirement already satisfied: cffi>=1.0.1 in c:\\users\\igor\\anaconda3\\lib\\site-packages (from argon2-cffi-bindings->argon2-cffi->notebook>=4.4.1->widgetsnbextension~=3.5.0->ipywidgets>=7.5.1->ydata-profiling[notebook]) (1.15.1)\n",
      "Requirement already satisfied: soupsieve>1.2 in c:\\users\\igor\\anaconda3\\lib\\site-packages (from beautifulsoup4->nbconvert>=5->notebook>=4.4.1->widgetsnbextension~=3.5.0->ipywidgets>=7.5.1->ydata-profiling[notebook]) (2.3.1)\n",
      "Requirement already satisfied: webencodings in c:\\users\\igor\\anaconda3\\lib\\site-packages (from bleach->nbconvert>=5->notebook>=4.4.1->widgetsnbextension~=3.5.0->ipywidgets>=7.5.1->ydata-profiling[notebook]) (0.5.1)\n",
      "Requirement already satisfied: pycparser in c:\\users\\igor\\anaconda3\\lib\\site-packages (from cffi>=1.0.1->argon2-cffi-bindings->argon2-cffi->notebook>=4.4.1->widgetsnbextension~=3.5.0->ipywidgets>=7.5.1->ydata-profiling[notebook]) (2.21)\n"
     ]
    },
    {
     "name": "stderr",
     "output_type": "stream",
     "text": [
      "Enabling notebook extension jupyter-js-widgets/extension...\n",
      "      - Validating: ok\n"
     ]
    }
   ],
   "source": [
    "import sys\n",
    "!{sys.executable} -m pip install -U ydata-profiling[notebook]\n",
    "!jupyter nbextension enable --py widgetsnbextension\n",
    "#Импортируем библиотеки\n",
    "import pandas as pd\n",
    "import numpy as np\n",
    "import plotly.express as px\n",
    "import matplotlib.pyplot as plt\n",
    "import plotly.graph_objects as go\n",
    "import seaborn as sns\n",
    "from scipy import stats as st\n",
    "import matplotlib.pyplot as plt\n",
    "import ydata_profiling as pp\n",
    "import datetime as dt\n",
    "from mpl_toolkits import mplot3d"
   ]
  },
  {
   "cell_type": "code",
   "execution_count": 70,
   "metadata": {},
   "outputs": [],
   "source": [
    "#Создаем датафрейм\n",
    "data = pd.read_csv('C:/Users/Igor/Downloads/ecommerce_dataset.csv')"
   ]
  },
  {
   "cell_type": "code",
   "execution_count": 71,
   "metadata": {},
   "outputs": [
    {
     "data": {
      "text/html": [
       "<div>\n",
       "<style scoped>\n",
       "    .dataframe tbody tr th:only-of-type {\n",
       "        vertical-align: middle;\n",
       "    }\n",
       "\n",
       "    .dataframe tbody tr th {\n",
       "        vertical-align: top;\n",
       "    }\n",
       "\n",
       "    .dataframe thead th {\n",
       "        text-align: right;\n",
       "    }\n",
       "</style>\n",
       "<table border=\"1\" class=\"dataframe\">\n",
       "  <thead>\n",
       "    <tr style=\"text-align: right;\">\n",
       "      <th></th>\n",
       "      <th>date</th>\n",
       "      <th>customer_id</th>\n",
       "      <th>order_id</th>\n",
       "      <th>product</th>\n",
       "      <th>quantity</th>\n",
       "      <th>price</th>\n",
       "    </tr>\n",
       "  </thead>\n",
       "  <tbody>\n",
       "    <tr>\n",
       "      <th>0</th>\n",
       "      <td>2018100100</td>\n",
       "      <td>ee47d746-6d2f-4d3c-9622-c31412542920</td>\n",
       "      <td>68477</td>\n",
       "      <td>Комнатное растение в горшке Алое Вера, d12, h30</td>\n",
       "      <td>1</td>\n",
       "      <td>142.0</td>\n",
       "    </tr>\n",
       "    <tr>\n",
       "      <th>1</th>\n",
       "      <td>2018100100</td>\n",
       "      <td>ee47d746-6d2f-4d3c-9622-c31412542920</td>\n",
       "      <td>68477</td>\n",
       "      <td>Комнатное растение в горшке Кофе Арабика, d12,...</td>\n",
       "      <td>1</td>\n",
       "      <td>194.0</td>\n",
       "    </tr>\n",
       "    <tr>\n",
       "      <th>2</th>\n",
       "      <td>2018100100</td>\n",
       "      <td>ee47d746-6d2f-4d3c-9622-c31412542920</td>\n",
       "      <td>68477</td>\n",
       "      <td>Радермахера d-12 см h-20 см</td>\n",
       "      <td>1</td>\n",
       "      <td>112.0</td>\n",
       "    </tr>\n",
       "    <tr>\n",
       "      <th>3</th>\n",
       "      <td>2018100100</td>\n",
       "      <td>ee47d746-6d2f-4d3c-9622-c31412542920</td>\n",
       "      <td>68477</td>\n",
       "      <td>Хризолидокарпус Лутесценс d-9 см</td>\n",
       "      <td>1</td>\n",
       "      <td>179.0</td>\n",
       "    </tr>\n",
       "    <tr>\n",
       "      <th>4</th>\n",
       "      <td>2018100100</td>\n",
       "      <td>ee47d746-6d2f-4d3c-9622-c31412542920</td>\n",
       "      <td>68477</td>\n",
       "      <td>Циперус Зумула d-12 см h-25 см</td>\n",
       "      <td>1</td>\n",
       "      <td>112.0</td>\n",
       "    </tr>\n",
       "  </tbody>\n",
       "</table>\n",
       "</div>"
      ],
      "text/plain": [
       "         date                           customer_id  order_id  \\\n",
       "0  2018100100  ee47d746-6d2f-4d3c-9622-c31412542920     68477   \n",
       "1  2018100100  ee47d746-6d2f-4d3c-9622-c31412542920     68477   \n",
       "2  2018100100  ee47d746-6d2f-4d3c-9622-c31412542920     68477   \n",
       "3  2018100100  ee47d746-6d2f-4d3c-9622-c31412542920     68477   \n",
       "4  2018100100  ee47d746-6d2f-4d3c-9622-c31412542920     68477   \n",
       "\n",
       "                                             product  quantity  price  \n",
       "0    Комнатное растение в горшке Алое Вера, d12, h30         1  142.0  \n",
       "1  Комнатное растение в горшке Кофе Арабика, d12,...         1  194.0  \n",
       "2                        Радермахера d-12 см h-20 см         1  112.0  \n",
       "3                   Хризолидокарпус Лутесценс d-9 см         1  179.0  \n",
       "4                     Циперус Зумула d-12 см h-25 см         1  112.0  "
      ]
     },
     "execution_count": 71,
     "metadata": {},
     "output_type": "execute_result"
    }
   ],
   "source": [
    "#Ознакомимся с данными\n",
    "data.head()"
   ]
  },
  {
   "cell_type": "code",
   "execution_count": 72,
   "metadata": {},
   "outputs": [
    {
     "name": "stdout",
     "output_type": "stream",
     "text": [
      "<class 'pandas.core.frame.DataFrame'>\n",
      "RangeIndex: 6737 entries, 0 to 6736\n",
      "Data columns (total 6 columns):\n",
      " #   Column       Non-Null Count  Dtype  \n",
      "---  ------       --------------  -----  \n",
      " 0   date         6737 non-null   int64  \n",
      " 1   customer_id  6737 non-null   object \n",
      " 2   order_id     6737 non-null   int64  \n",
      " 3   product      6737 non-null   object \n",
      " 4   quantity     6737 non-null   int64  \n",
      " 5   price        6737 non-null   float64\n",
      "dtypes: float64(1), int64(3), object(2)\n",
      "memory usage: 315.9+ KB\n"
     ]
    }
   ],
   "source": [
    "data.info()"
   ]
  },
  {
   "cell_type": "markdown",
   "metadata": {},
   "source": [
    "Пропусков нет, надо скоректироватт формат некоторых столбцов"
   ]
  },
  {
   "cell_type": "code",
   "execution_count": 73,
   "metadata": {},
   "outputs": [
    {
     "name": "stdout",
     "output_type": "stream",
     "text": [
      "<class 'pandas.core.frame.DataFrame'>\n",
      "RangeIndex: 6737 entries, 0 to 6736\n",
      "Data columns (total 6 columns):\n",
      " #   Column       Non-Null Count  Dtype         \n",
      "---  ------       --------------  -----         \n",
      " 0   date         6737 non-null   datetime64[ns]\n",
      " 1   customer_id  6737 non-null   object        \n",
      " 2   order_id     6737 non-null   int64         \n",
      " 3   product      6737 non-null   object        \n",
      " 4   quantity     6737 non-null   int64         \n",
      " 5   price        6737 non-null   float64       \n",
      "dtypes: datetime64[ns](1), float64(1), int64(2), object(2)\n",
      "memory usage: 315.9+ KB\n"
     ]
    }
   ],
   "source": [
    "#Приведенм столбцы к формату даты\n",
    "data['date'] = pd.to_datetime(data['date'], format='%Y%m%d%H')\n",
    "data['date'] = data['date'].astype('datetime64[ns]')\n",
    "data.info()"
   ]
  },
  {
   "cell_type": "code",
   "execution_count": 74,
   "metadata": {},
   "outputs": [
    {
     "data": {
      "text/plain": [
       "0"
      ]
     },
     "execution_count": 74,
     "metadata": {},
     "output_type": "execute_result"
    }
   ],
   "source": [
    "#Проверим наличие явных дубликатов\n",
    "data.duplicated().sum()"
   ]
  },
  {
   "cell_type": "markdown",
   "metadata": {},
   "source": [
    "Явнях дубликатов нет, неявный дубликаты проверим далее"
   ]
  },
  {
   "cell_type": "markdown",
   "metadata": {},
   "source": [
    "### Исследовательский анализ"
   ]
  },
  {
   "cell_type": "code",
   "execution_count": 75,
   "metadata": {},
   "outputs": [
    {
     "data": {
      "text/html": [
       "<div>\n",
       "<style scoped>\n",
       "    .dataframe tbody tr th:only-of-type {\n",
       "        vertical-align: middle;\n",
       "    }\n",
       "\n",
       "    .dataframe tbody tr th {\n",
       "        vertical-align: top;\n",
       "    }\n",
       "\n",
       "    .dataframe thead th {\n",
       "        text-align: right;\n",
       "    }\n",
       "</style>\n",
       "<table border=\"1\" class=\"dataframe\">\n",
       "  <thead>\n",
       "    <tr style=\"text-align: right;\">\n",
       "      <th></th>\n",
       "      <th>order_id</th>\n",
       "      <th>quantity</th>\n",
       "      <th>price</th>\n",
       "    </tr>\n",
       "  </thead>\n",
       "  <tbody>\n",
       "    <tr>\n",
       "      <th>count</th>\n",
       "      <td>6737.000000</td>\n",
       "      <td>6737.000000</td>\n",
       "      <td>6737.000000</td>\n",
       "    </tr>\n",
       "    <tr>\n",
       "      <th>mean</th>\n",
       "      <td>43128.948345</td>\n",
       "      <td>2.501559</td>\n",
       "      <td>462.028499</td>\n",
       "    </tr>\n",
       "    <tr>\n",
       "      <th>std</th>\n",
       "      <td>27899.414662</td>\n",
       "      <td>15.266478</td>\n",
       "      <td>871.296064</td>\n",
       "    </tr>\n",
       "    <tr>\n",
       "      <th>min</th>\n",
       "      <td>12624.000000</td>\n",
       "      <td>1.000000</td>\n",
       "      <td>9.000000</td>\n",
       "    </tr>\n",
       "    <tr>\n",
       "      <th>25%</th>\n",
       "      <td>14827.000000</td>\n",
       "      <td>1.000000</td>\n",
       "      <td>101.000000</td>\n",
       "    </tr>\n",
       "    <tr>\n",
       "      <th>50%</th>\n",
       "      <td>68503.000000</td>\n",
       "      <td>1.000000</td>\n",
       "      <td>135.000000</td>\n",
       "    </tr>\n",
       "    <tr>\n",
       "      <th>75%</th>\n",
       "      <td>70504.000000</td>\n",
       "      <td>1.000000</td>\n",
       "      <td>398.000000</td>\n",
       "    </tr>\n",
       "    <tr>\n",
       "      <th>max</th>\n",
       "      <td>73164.000000</td>\n",
       "      <td>1000.000000</td>\n",
       "      <td>14917.000000</td>\n",
       "    </tr>\n",
       "  </tbody>\n",
       "</table>\n",
       "</div>"
      ],
      "text/plain": [
       "           order_id     quantity         price\n",
       "count   6737.000000  6737.000000   6737.000000\n",
       "mean   43128.948345     2.501559    462.028499\n",
       "std    27899.414662    15.266478    871.296064\n",
       "min    12624.000000     1.000000      9.000000\n",
       "25%    14827.000000     1.000000    101.000000\n",
       "50%    68503.000000     1.000000    135.000000\n",
       "75%    70504.000000     1.000000    398.000000\n",
       "max    73164.000000  1000.000000  14917.000000"
      ]
     },
     "execution_count": 75,
     "metadata": {},
     "output_type": "execute_result"
    }
   ],
   "source": [
    "#Посмотрим распределение данных\n",
    "data.describe()"
   ]
  },
  {
   "cell_type": "code",
   "execution_count": 76,
   "metadata": {},
   "outputs": [
    {
     "data": {
      "text/html": [
       "<div>\n",
       "<style scoped>\n",
       "    .dataframe tbody tr th:only-of-type {\n",
       "        vertical-align: middle;\n",
       "    }\n",
       "\n",
       "    .dataframe tbody tr th {\n",
       "        vertical-align: top;\n",
       "    }\n",
       "\n",
       "    .dataframe thead th {\n",
       "        text-align: right;\n",
       "    }\n",
       "</style>\n",
       "<table border=\"1\" class=\"dataframe\">\n",
       "  <thead>\n",
       "    <tr style=\"text-align: right;\">\n",
       "      <th></th>\n",
       "      <th>date</th>\n",
       "      <th>customer_id</th>\n",
       "      <th>order_id</th>\n",
       "      <th>product</th>\n",
       "      <th>quantity</th>\n",
       "      <th>price</th>\n",
       "    </tr>\n",
       "  </thead>\n",
       "  <tbody>\n",
       "    <tr>\n",
       "      <th>58</th>\n",
       "      <td>2018-10-02 18:00:00</td>\n",
       "      <td>b731df05-98fa-4610-8496-716ec530a02c</td>\n",
       "      <td>68474</td>\n",
       "      <td>Доска гладильная Eurogold Professional 130х48 ...</td>\n",
       "      <td>1</td>\n",
       "      <td>3299.0</td>\n",
       "    </tr>\n",
       "    <tr>\n",
       "      <th>59</th>\n",
       "      <td>2018-10-02 19:00:00</td>\n",
       "      <td>b731df05-98fa-4610-8496-716ec530a02c</td>\n",
       "      <td>68474</td>\n",
       "      <td>Доска гладильная Eurogold Professional 130х48 ...</td>\n",
       "      <td>1</td>\n",
       "      <td>3299.0</td>\n",
       "    </tr>\n",
       "    <tr>\n",
       "      <th>60</th>\n",
       "      <td>2018-10-02 20:00:00</td>\n",
       "      <td>b731df05-98fa-4610-8496-716ec530a02c</td>\n",
       "      <td>68474</td>\n",
       "      <td>Доска гладильная Eurogold Professional 130х48 ...</td>\n",
       "      <td>1</td>\n",
       "      <td>3299.0</td>\n",
       "    </tr>\n",
       "    <tr>\n",
       "      <th>63</th>\n",
       "      <td>2018-10-03 04:00:00</td>\n",
       "      <td>b731df05-98fa-4610-8496-716ec530a02c</td>\n",
       "      <td>68474</td>\n",
       "      <td>Доска гладильная Eurogold Professional 130х48 ...</td>\n",
       "      <td>1</td>\n",
       "      <td>3299.0</td>\n",
       "    </tr>\n",
       "    <tr>\n",
       "      <th>94</th>\n",
       "      <td>2018-10-04 13:00:00</td>\n",
       "      <td>32de7df8-8d4f-4c84-a7b9-c41d00dd83ba</td>\n",
       "      <td>68522</td>\n",
       "      <td>Эвкалипт Гунни d-17 см h-60 см</td>\n",
       "      <td>1</td>\n",
       "      <td>1409.0</td>\n",
       "    </tr>\n",
       "    <tr>\n",
       "      <th>...</th>\n",
       "      <td>...</td>\n",
       "      <td>...</td>\n",
       "      <td>...</td>\n",
       "      <td>...</td>\n",
       "      <td>...</td>\n",
       "      <td>...</td>\n",
       "    </tr>\n",
       "    <tr>\n",
       "      <th>6706</th>\n",
       "      <td>2019-10-28 10:00:00</td>\n",
       "      <td>57cc80a2-2610-4eef-9457-e7c3bf0c72f0</td>\n",
       "      <td>70960</td>\n",
       "      <td>Сумка-тележка 2-х колесная Gimi Argo красная</td>\n",
       "      <td>1</td>\n",
       "      <td>1087.0</td>\n",
       "    </tr>\n",
       "    <tr>\n",
       "      <th>6711</th>\n",
       "      <td>2019-10-28 21:00:00</td>\n",
       "      <td>cb65d08a-dae7-4890-aef0-bb9f79055e02</td>\n",
       "      <td>73108</td>\n",
       "      <td>Мирт d-9 см h-15 см</td>\n",
       "      <td>1</td>\n",
       "      <td>134.0</td>\n",
       "    </tr>\n",
       "    <tr>\n",
       "      <th>6728</th>\n",
       "      <td>2019-10-31 00:00:00</td>\n",
       "      <td>ffaeab76-3a8d-49ee-860f-17273b2fc8a2</td>\n",
       "      <td>73136</td>\n",
       "      <td>Таз пластмассовый со стиральной доской (Иж), 1...</td>\n",
       "      <td>1</td>\n",
       "      <td>397.0</td>\n",
       "    </tr>\n",
       "    <tr>\n",
       "      <th>6729</th>\n",
       "      <td>2019-10-31 02:00:00</td>\n",
       "      <td>ffaeab76-3a8d-49ee-860f-17273b2fc8a2</td>\n",
       "      <td>73136</td>\n",
       "      <td>Таз пластмассовый со стиральной доской (Иж), 1...</td>\n",
       "      <td>1</td>\n",
       "      <td>397.0</td>\n",
       "    </tr>\n",
       "    <tr>\n",
       "      <th>6736</th>\n",
       "      <td>2019-10-31 16:00:00</td>\n",
       "      <td>344aa778-e436-419e-a9c6-9b8f37b7c1df</td>\n",
       "      <td>73137</td>\n",
       "      <td>Сумка-тележка 2-х колесная Gimi Argo синяя</td>\n",
       "      <td>1</td>\n",
       "      <td>1087.0</td>\n",
       "    </tr>\n",
       "  </tbody>\n",
       "</table>\n",
       "<p>1886 rows × 6 columns</p>\n",
       "</div>"
      ],
      "text/plain": [
       "                    date                           customer_id  order_id  \\\n",
       "58   2018-10-02 18:00:00  b731df05-98fa-4610-8496-716ec530a02c     68474   \n",
       "59   2018-10-02 19:00:00  b731df05-98fa-4610-8496-716ec530a02c     68474   \n",
       "60   2018-10-02 20:00:00  b731df05-98fa-4610-8496-716ec530a02c     68474   \n",
       "63   2018-10-03 04:00:00  b731df05-98fa-4610-8496-716ec530a02c     68474   \n",
       "94   2018-10-04 13:00:00  32de7df8-8d4f-4c84-a7b9-c41d00dd83ba     68522   \n",
       "...                  ...                                   ...       ...   \n",
       "6706 2019-10-28 10:00:00  57cc80a2-2610-4eef-9457-e7c3bf0c72f0     70960   \n",
       "6711 2019-10-28 21:00:00  cb65d08a-dae7-4890-aef0-bb9f79055e02     73108   \n",
       "6728 2019-10-31 00:00:00  ffaeab76-3a8d-49ee-860f-17273b2fc8a2     73136   \n",
       "6729 2019-10-31 02:00:00  ffaeab76-3a8d-49ee-860f-17273b2fc8a2     73136   \n",
       "6736 2019-10-31 16:00:00  344aa778-e436-419e-a9c6-9b8f37b7c1df     73137   \n",
       "\n",
       "                                                product  quantity   price  \n",
       "58    Доска гладильная Eurogold Professional 130х48 ...         1  3299.0  \n",
       "59    Доска гладильная Eurogold Professional 130х48 ...         1  3299.0  \n",
       "60    Доска гладильная Eurogold Professional 130х48 ...         1  3299.0  \n",
       "63    Доска гладильная Eurogold Professional 130х48 ...         1  3299.0  \n",
       "94                       Эвкалипт Гунни d-17 см h-60 см         1  1409.0  \n",
       "...                                                 ...       ...     ...  \n",
       "6706       Сумка-тележка 2-х колесная Gimi Argo красная         1  1087.0  \n",
       "6711                                Мирт d-9 см h-15 см         1   134.0  \n",
       "6728  Таз пластмассовый со стиральной доской (Иж), 1...         1   397.0  \n",
       "6729  Таз пластмассовый со стиральной доской (Иж), 1...         1   397.0  \n",
       "6736         Сумка-тележка 2-х колесная Gimi Argo синяя         1  1087.0  \n",
       "\n",
       "[1886 rows x 6 columns]"
      ]
     },
     "execution_count": 76,
     "metadata": {},
     "output_type": "execute_result"
    }
   ],
   "source": [
    "#Проверим неявные дубликаты\n",
    "data_duplicate = data[data[['customer_id', 'order_id', 'product']].duplicated(keep = 'first')]\n",
    "data_duplicate"
   ]
  },
  {
   "cell_type": "code",
   "execution_count": 77,
   "metadata": {},
   "outputs": [],
   "source": [
    "#Удаляем \n",
    "data = data[~data[['customer_id', 'order_id', 'product']].duplicated()]"
   ]
  },
  {
   "cell_type": "code",
   "execution_count": 78,
   "metadata": {},
   "outputs": [
    {
     "data": {
      "image/png": "[encoded data removed]",
      "text/plain": [
       "<Figure size 640x480 with 1 Axes>"
      ]
     },
     "metadata": {},
     "output_type": "display_data"
    }
   ],
   "source": [
    "#Исследуем аномалии\n",
    "data['quantity'].plot(kind='box', title='Диаграмма размаха количества заказов')\n",
    "plt.show()"
   ]
  },
  {
   "cell_type": "code",
   "execution_count": 79,
   "metadata": {
    "scrolled": true
   },
   "outputs": [
    {
     "data": {
      "text/plain": [
       "1.0"
      ]
     },
     "execution_count": 79,
     "metadata": {},
     "output_type": "execute_result"
    }
   ],
   "source": [
    "data['quantity'].median()"
   ]
  },
  {
   "cell_type": "markdown",
   "metadata": {},
   "source": [
    "Среднее значение около 2,5 при этом медианное значение 1, по видимому значительное количество выбросов, которые заметны на графике. Далее конкретизируем выбросы и избавимя от них"
   ]
  },
  {
   "cell_type": "code",
   "execution_count": 80,
   "metadata": {
    "scrolled": true
   },
   "outputs": [
    {
     "data": {
      "text/plain": [
       "array([ 7.5, 30. ])"
      ]
     },
     "execution_count": 80,
     "metadata": {},
     "output_type": "execute_result"
    }
   ],
   "source": [
    "#Посмотрим 95 и 99 перцентили по количеству единиц в заказе\n",
    "percentiles = np.percentile(data['quantity'], [95, 99])\n",
    "percentiles"
   ]
  },
  {
   "cell_type": "markdown",
   "metadata": {},
   "source": [
    "Примим 99 персентиль за границу выбросов"
   ]
  },
  {
   "cell_type": "code",
   "execution_count": 81,
   "metadata": {},
   "outputs": [
    {
     "data": {
      "text/html": [
       "<div>\n",
       "<style scoped>\n",
       "    .dataframe tbody tr th:only-of-type {\n",
       "        vertical-align: middle;\n",
       "    }\n",
       "\n",
       "    .dataframe tbody tr th {\n",
       "        vertical-align: top;\n",
       "    }\n",
       "\n",
       "    .dataframe thead th {\n",
       "        text-align: right;\n",
       "    }\n",
       "</style>\n",
       "<table border=\"1\" class=\"dataframe\">\n",
       "  <thead>\n",
       "    <tr style=\"text-align: right;\">\n",
       "      <th></th>\n",
       "      <th>date</th>\n",
       "      <th>customer_id</th>\n",
       "      <th>order_id</th>\n",
       "      <th>product</th>\n",
       "      <th>quantity</th>\n",
       "      <th>price</th>\n",
       "    </tr>\n",
       "  </thead>\n",
       "  <tbody>\n",
       "    <tr>\n",
       "      <th>5456</th>\n",
       "      <td>2019-06-18 15:00:00</td>\n",
       "      <td>312e9a3e-5fca-43ff-a6a1-892d2b2d5ba6</td>\n",
       "      <td>71743</td>\n",
       "      <td>Вантуз с деревянной ручкой d14 см красный, Bur...</td>\n",
       "      <td>1000</td>\n",
       "      <td>675.0</td>\n",
       "    </tr>\n",
       "    <tr>\n",
       "      <th>5071</th>\n",
       "      <td>2019-06-11 07:00:00</td>\n",
       "      <td>146cd9bf-a95c-4afb-915b-5f6684b17444</td>\n",
       "      <td>71668</td>\n",
       "      <td>Вешалки мягкие для деликатных вещей 3 шт шоколад</td>\n",
       "      <td>334</td>\n",
       "      <td>148.0</td>\n",
       "    </tr>\n",
       "    <tr>\n",
       "      <th>3961</th>\n",
       "      <td>2019-05-20 21:00:00</td>\n",
       "      <td>5d189e88-d4d6-4eac-ab43-fa65a3c4d106</td>\n",
       "      <td>71478</td>\n",
       "      <td>Муляж ЯБЛОКО 9 см красное</td>\n",
       "      <td>300</td>\n",
       "      <td>51.0</td>\n",
       "    </tr>\n",
       "    <tr>\n",
       "      <th>1158</th>\n",
       "      <td>2018-12-10 14:00:00</td>\n",
       "      <td>a984c5b7-ff7e-4647-b84e-ef0b85a2762d</td>\n",
       "      <td>69289</td>\n",
       "      <td>Ручка-скоба РС-100 белая *Трибатрон*, 1108035</td>\n",
       "      <td>200</td>\n",
       "      <td>29.0</td>\n",
       "    </tr>\n",
       "    <tr>\n",
       "      <th>568</th>\n",
       "      <td>2018-11-01 08:00:00</td>\n",
       "      <td>aa42dc38-780f-4b50-9a65-83b6fa64e766</td>\n",
       "      <td>68815</td>\n",
       "      <td>Муляж ЯБЛОКО 9 см красное</td>\n",
       "      <td>170</td>\n",
       "      <td>51.0</td>\n",
       "    </tr>\n",
       "    <tr>\n",
       "      <th>211</th>\n",
       "      <td>2018-10-11 14:00:00</td>\n",
       "      <td>cd09ea73-d9ce-48c3-b4c5-018113735e80</td>\n",
       "      <td>68611</td>\n",
       "      <td>Крепеж для пружины дверной, 1107055</td>\n",
       "      <td>150</td>\n",
       "      <td>19.0</td>\n",
       "    </tr>\n",
       "    <tr>\n",
       "      <th>212</th>\n",
       "      <td>2018-10-11 14:00:00</td>\n",
       "      <td>cd09ea73-d9ce-48c3-b4c5-018113735e80</td>\n",
       "      <td>68611</td>\n",
       "      <td>Пружина дверная 240 мм оцинкованная (Д-19 мм) ...</td>\n",
       "      <td>150</td>\n",
       "      <td>38.0</td>\n",
       "    </tr>\n",
       "    <tr>\n",
       "      <th>2431</th>\n",
       "      <td>2019-03-23 10:00:00</td>\n",
       "      <td>685d3d84-aebb-485b-8e59-344b3df8b3d3</td>\n",
       "      <td>70841</td>\n",
       "      <td>Плечики пластмассовые Размер 52 - 54 Тула 1205158</td>\n",
       "      <td>150</td>\n",
       "      <td>20.0</td>\n",
       "    </tr>\n",
       "    <tr>\n",
       "      <th>586</th>\n",
       "      <td>2018-11-02 11:00:00</td>\n",
       "      <td>0c5aaa88-e346-4f87-8f7a-ad8cbc04e965</td>\n",
       "      <td>68831</td>\n",
       "      <td>Муляж ЯБЛОКО 9 см красное</td>\n",
       "      <td>140</td>\n",
       "      <td>59.0</td>\n",
       "    </tr>\n",
       "    <tr>\n",
       "      <th>6707</th>\n",
       "      <td>2019-10-28 10:00:00</td>\n",
       "      <td>018fb729-3525-4314-8e4d-1982b1062f9f</td>\n",
       "      <td>73110</td>\n",
       "      <td>Шпингалет 80 мм белый с пружиной, 1102188</td>\n",
       "      <td>100</td>\n",
       "      <td>44.0</td>\n",
       "    </tr>\n",
       "  </tbody>\n",
       "</table>\n",
       "</div>"
      ],
      "text/plain": [
       "                    date                           customer_id  order_id  \\\n",
       "5456 2019-06-18 15:00:00  312e9a3e-5fca-43ff-a6a1-892d2b2d5ba6     71743   \n",
       "5071 2019-06-11 07:00:00  146cd9bf-a95c-4afb-915b-5f6684b17444     71668   \n",
       "3961 2019-05-20 21:00:00  5d189e88-d4d6-4eac-ab43-fa65a3c4d106     71478   \n",
       "1158 2018-12-10 14:00:00  a984c5b7-ff7e-4647-b84e-ef0b85a2762d     69289   \n",
       "568  2018-11-01 08:00:00  aa42dc38-780f-4b50-9a65-83b6fa64e766     68815   \n",
       "211  2018-10-11 14:00:00  cd09ea73-d9ce-48c3-b4c5-018113735e80     68611   \n",
       "212  2018-10-11 14:00:00  cd09ea73-d9ce-48c3-b4c5-018113735e80     68611   \n",
       "2431 2019-03-23 10:00:00  685d3d84-aebb-485b-8e59-344b3df8b3d3     70841   \n",
       "586  2018-11-02 11:00:00  0c5aaa88-e346-4f87-8f7a-ad8cbc04e965     68831   \n",
       "6707 2019-10-28 10:00:00  018fb729-3525-4314-8e4d-1982b1062f9f     73110   \n",
       "\n",
       "                                                product  quantity  price  \n",
       "5456  Вантуз с деревянной ручкой d14 см красный, Bur...      1000  675.0  \n",
       "5071   Вешалки мягкие для деликатных вещей 3 шт шоколад       334  148.0  \n",
       "3961                          Муляж ЯБЛОКО 9 см красное       300   51.0  \n",
       "1158      Ручка-скоба РС-100 белая *Трибатрон*, 1108035       200   29.0  \n",
       "568                           Муляж ЯБЛОКО 9 см красное       170   51.0  \n",
       "211                 Крепеж для пружины дверной, 1107055       150   19.0  \n",
       "212   Пружина дверная 240 мм оцинкованная (Д-19 мм) ...       150   38.0  \n",
       "2431  Плечики пластмассовые Размер 52 - 54 Тула 1205158       150   20.0  \n",
       "586                           Муляж ЯБЛОКО 9 см красное       140   59.0  \n",
       "6707          Шпингалет 80 мм белый с пружиной, 1102188       100   44.0  "
      ]
     },
     "execution_count": 81,
     "metadata": {},
     "output_type": "execute_result"
    }
   ],
   "source": [
    "#Посмотрим  аномальные заказы\n",
    "data[data['quantity'] >= 30].sort_values(by = 'quantity', ascending = False).head(10)"
   ]
  },
  {
   "cell_type": "code",
   "execution_count": 82,
   "metadata": {},
   "outputs": [],
   "source": [
    "#Выделим отптовых покупателей в отдельный фрейм\n",
    "data_opt=data[data['quantity'] >= 30]"
   ]
  },
  {
   "cell_type": "markdown",
   "metadata": {},
   "source": [
    "Как видно из списка данные заказы могут представлять оптовых покупателей, отделим их из основного датафрейма, в реальной жизни я бы проконсультировался с коллегами стоит ли отдельно исследовать данную немногочисленную категорию, пока уделим внимание розниным заказам"
   ]
  },
  {
   "cell_type": "code",
   "execution_count": 83,
   "metadata": {},
   "outputs": [],
   "source": [
    "#И вырежем их из основного\n",
    "data=data[data['quantity'] < 30]"
   ]
  },
  {
   "cell_type": "code",
   "execution_count": 84,
   "metadata": {},
   "outputs": [
    {
     "data": {
      "text/plain": [
       "150.0"
      ]
     },
     "execution_count": 84,
     "metadata": {},
     "output_type": "execute_result"
    }
   ],
   "source": [
    "data['price'].median()"
   ]
  },
  {
   "cell_type": "markdown",
   "metadata": {},
   "source": [
    "Среднее и медианное значени стоимости так же сильно разняться, попробуем определить выбросы"
   ]
  },
  {
   "cell_type": "code",
   "execution_count": 85,
   "metadata": {
    "scrolled": true
   },
   "outputs": [
    {
     "data": {
      "text/plain": [
       "array([2249.  , 4962.36])"
      ]
     },
     "execution_count": 85,
     "metadata": {},
     "output_type": "execute_result"
    }
   ],
   "source": [
    "#Посмотрим 95 и 99 перцентили по стоимости\n",
    "percentiles = np.percentile(data['price'], [95, 99])\n",
    "percentiles"
   ]
  },
  {
   "cell_type": "code",
   "execution_count": 86,
   "metadata": {
    "scrolled": true
   },
   "outputs": [
    {
     "data": {
      "text/html": [
       "<div>\n",
       "<style scoped>\n",
       "    .dataframe tbody tr th:only-of-type {\n",
       "        vertical-align: middle;\n",
       "    }\n",
       "\n",
       "    .dataframe tbody tr th {\n",
       "        vertical-align: top;\n",
       "    }\n",
       "\n",
       "    .dataframe thead th {\n",
       "        text-align: right;\n",
       "    }\n",
       "</style>\n",
       "<table border=\"1\" class=\"dataframe\">\n",
       "  <thead>\n",
       "    <tr style=\"text-align: right;\">\n",
       "      <th></th>\n",
       "      <th>date</th>\n",
       "      <th>customer_id</th>\n",
       "      <th>order_id</th>\n",
       "      <th>product</th>\n",
       "      <th>quantity</th>\n",
       "      <th>price</th>\n",
       "    </tr>\n",
       "  </thead>\n",
       "  <tbody>\n",
       "    <tr>\n",
       "      <th>5992</th>\n",
       "      <td>2019-07-29 17:00:00</td>\n",
       "      <td>0d87f4ae-465a-4fac-81e6-5d629761783e</td>\n",
       "      <td>72139</td>\n",
       "      <td>Сушилка уличная Leifheit 85210 LINOMATIC V 400...</td>\n",
       "      <td>1</td>\n",
       "      <td>14917.0</td>\n",
       "    </tr>\n",
       "    <tr>\n",
       "      <th>2697</th>\n",
       "      <td>2019-04-05 19:00:00</td>\n",
       "      <td>c0c60544-3a99-49d0-8a8e-cf7f293c22cb</td>\n",
       "      <td>71035</td>\n",
       "      <td>Сумка-тележка хозяйственная Andersen Royal Sho...</td>\n",
       "      <td>1</td>\n",
       "      <td>8737.0</td>\n",
       "    </tr>\n",
       "    <tr>\n",
       "      <th>1981</th>\n",
       "      <td>2019-02-24 10:00:00</td>\n",
       "      <td>ac250053-a236-467a-97d2-ddbb9bf4a1ba</td>\n",
       "      <td>70423</td>\n",
       "      <td>Сумка-тележка хозяйственная Andersen Alu Star ...</td>\n",
       "      <td>1</td>\n",
       "      <td>8437.0</td>\n",
       "    </tr>\n",
       "    <tr>\n",
       "      <th>2997</th>\n",
       "      <td>2019-04-21 16:00:00</td>\n",
       "      <td>19d904d8-8d16-476d-8f66-b2a3b7a23660</td>\n",
       "      <td>71227</td>\n",
       "      <td>Сумка-тележка хозяйственная Rolser MNB019 rojo...</td>\n",
       "      <td>1</td>\n",
       "      <td>8077.0</td>\n",
       "    </tr>\n",
       "    <tr>\n",
       "      <th>6629</th>\n",
       "      <td>2019-10-16 15:00:00</td>\n",
       "      <td>d5584388-ffbe-42fd-a746-a98828ec919f</td>\n",
       "      <td>72992</td>\n",
       "      <td>Стремянка 7 ступенчатая Hailo 8040-707 XXL 13 ...</td>\n",
       "      <td>1</td>\n",
       "      <td>7724.0</td>\n",
       "    </tr>\n",
       "    <tr>\n",
       "      <th>2339</th>\n",
       "      <td>2019-03-14 18:00:00</td>\n",
       "      <td>27d4ce42-352b-4756-bf5b-8724e05d5131</td>\n",
       "      <td>70740</td>\n",
       "      <td>Сумка-тележка хозяйственная Rolser IMX006 bass...</td>\n",
       "      <td>1</td>\n",
       "      <td>7679.0</td>\n",
       "    </tr>\n",
       "    <tr>\n",
       "      <th>5994</th>\n",
       "      <td>2019-07-30 01:00:00</td>\n",
       "      <td>e2fe6b48-1955-4882-925c-733f545df026</td>\n",
       "      <td>72140</td>\n",
       "      <td>Сумка-тележка хозяйственная Rolser MNB017 fucs...</td>\n",
       "      <td>1</td>\n",
       "      <td>7679.0</td>\n",
       "    </tr>\n",
       "    <tr>\n",
       "      <th>654</th>\n",
       "      <td>2018-11-05 22:00:00</td>\n",
       "      <td>fc333417-1d11-4a2a-b946-0957ae0603e9</td>\n",
       "      <td>68872</td>\n",
       "      <td>Сумка-тележка хозяйственная Rolser MOU041 malv...</td>\n",
       "      <td>1</td>\n",
       "      <td>7597.0</td>\n",
       "    </tr>\n",
       "    <tr>\n",
       "      <th>1241</th>\n",
       "      <td>2018-12-17 17:00:00</td>\n",
       "      <td>86c97bf1-c834-423e-9e38-8acda68f97e8</td>\n",
       "      <td>69417</td>\n",
       "      <td>Гладильная доска Leifheit AirBoard Compact M P...</td>\n",
       "      <td>1</td>\n",
       "      <td>7424.0</td>\n",
       "    </tr>\n",
       "    <tr>\n",
       "      <th>6169</th>\n",
       "      <td>2019-08-23 12:00:00</td>\n",
       "      <td>8d85f320-5f55-4647-814c-da1a6b21c2a4</td>\n",
       "      <td>72381</td>\n",
       "      <td>Урна уличная стальная Сальвадор 02.021.0 46х11...</td>\n",
       "      <td>1</td>\n",
       "      <td>7349.0</td>\n",
       "    </tr>\n",
       "  </tbody>\n",
       "</table>\n",
       "</div>"
      ],
      "text/plain": [
       "                    date                           customer_id  order_id  \\\n",
       "5992 2019-07-29 17:00:00  0d87f4ae-465a-4fac-81e6-5d629761783e     72139   \n",
       "2697 2019-04-05 19:00:00  c0c60544-3a99-49d0-8a8e-cf7f293c22cb     71035   \n",
       "1981 2019-02-24 10:00:00  ac250053-a236-467a-97d2-ddbb9bf4a1ba     70423   \n",
       "2997 2019-04-21 16:00:00  19d904d8-8d16-476d-8f66-b2a3b7a23660     71227   \n",
       "6629 2019-10-16 15:00:00  d5584388-ffbe-42fd-a746-a98828ec919f     72992   \n",
       "2339 2019-03-14 18:00:00  27d4ce42-352b-4756-bf5b-8724e05d5131     70740   \n",
       "5994 2019-07-30 01:00:00  e2fe6b48-1955-4882-925c-733f545df026     72140   \n",
       "654  2018-11-05 22:00:00  fc333417-1d11-4a2a-b946-0957ae0603e9     68872   \n",
       "1241 2018-12-17 17:00:00  86c97bf1-c834-423e-9e38-8acda68f97e8     69417   \n",
       "6169 2019-08-23 12:00:00  8d85f320-5f55-4647-814c-da1a6b21c2a4     72381   \n",
       "\n",
       "                                                product  quantity    price  \n",
       "5992  Сушилка уличная Leifheit 85210 LINOMATIC V 400...         1  14917.0  \n",
       "2697  Сумка-тележка хозяйственная Andersen Royal Sho...         1   8737.0  \n",
       "1981  Сумка-тележка хозяйственная Andersen Alu Star ...         1   8437.0  \n",
       "2997  Сумка-тележка хозяйственная Rolser MNB019 rojo...         1   8077.0  \n",
       "6629  Стремянка 7 ступенчатая Hailo 8040-707 XXL 13 ...         1   7724.0  \n",
       "2339  Сумка-тележка хозяйственная Rolser IMX006 bass...         1   7679.0  \n",
       "5994  Сумка-тележка хозяйственная Rolser MNB017 fucs...         1   7679.0  \n",
       "654   Сумка-тележка хозяйственная Rolser MOU041 malv...         1   7597.0  \n",
       "1241  Гладильная доска Leifheit AirBoard Compact M P...         1   7424.0  \n",
       "6169  Урна уличная стальная Сальвадор 02.021.0 46х11...         1   7349.0  "
      ]
     },
     "execution_count": 86,
     "metadata": {},
     "output_type": "execute_result"
    }
   ],
   "source": [
    "#Посмотрим  аномальные заказы\n",
    "data[data['price'] >= 4962].sort_values(by = 'price', ascending = False).head(10)"
   ]
  },
  {
   "cell_type": "markdown",
   "metadata": {},
   "source": [
    "Дорогостоящие товары немногочисленны, примем за границу стоимость в 4962 единицы, остальное определм как выбросы"
   ]
  },
  {
   "cell_type": "code",
   "execution_count": 87,
   "metadata": {},
   "outputs": [],
   "source": [
    "#Вырежем их \n",
    "data=data[data['price'] < 4962]"
   ]
  },
  {
   "cell_type": "markdown",
   "metadata": {},
   "source": [
    "### Добавляем стобец с выручкой"
   ]
  },
  {
   "cell_type": "code",
   "execution_count": 88,
   "metadata": {},
   "outputs": [],
   "source": [
    "data['revenue'] = data['quantity'] * data['price']"
   ]
  },
  {
   "cell_type": "code",
   "execution_count": 89,
   "metadata": {
    "scrolled": true
   },
   "outputs": [
    {
     "data": {
      "text/html": [
       "<div>\n",
       "<style scoped>\n",
       "    .dataframe tbody tr th:only-of-type {\n",
       "        vertical-align: middle;\n",
       "    }\n",
       "\n",
       "    .dataframe tbody tr th {\n",
       "        vertical-align: top;\n",
       "    }\n",
       "\n",
       "    .dataframe thead th {\n",
       "        text-align: right;\n",
       "    }\n",
       "</style>\n",
       "<table border=\"1\" class=\"dataframe\">\n",
       "  <thead>\n",
       "    <tr style=\"text-align: right;\">\n",
       "      <th></th>\n",
       "      <th>date</th>\n",
       "      <th>customer_id</th>\n",
       "      <th>order_id</th>\n",
       "      <th>product</th>\n",
       "      <th>quantity</th>\n",
       "      <th>price</th>\n",
       "      <th>revenue</th>\n",
       "      <th>month</th>\n",
       "    </tr>\n",
       "  </thead>\n",
       "  <tbody>\n",
       "    <tr>\n",
       "      <th>0</th>\n",
       "      <td>2018-10-01 00:00:00</td>\n",
       "      <td>ee47d746-6d2f-4d3c-9622-c31412542920</td>\n",
       "      <td>68477</td>\n",
       "      <td>Комнатное растение в горшке Алое Вера, d12, h30</td>\n",
       "      <td>1</td>\n",
       "      <td>142.0</td>\n",
       "      <td>142.0</td>\n",
       "      <td>2018-10</td>\n",
       "    </tr>\n",
       "    <tr>\n",
       "      <th>1</th>\n",
       "      <td>2018-10-01 00:00:00</td>\n",
       "      <td>ee47d746-6d2f-4d3c-9622-c31412542920</td>\n",
       "      <td>68477</td>\n",
       "      <td>Комнатное растение в горшке Кофе Арабика, d12,...</td>\n",
       "      <td>1</td>\n",
       "      <td>194.0</td>\n",
       "      <td>194.0</td>\n",
       "      <td>2018-10</td>\n",
       "    </tr>\n",
       "    <tr>\n",
       "      <th>2</th>\n",
       "      <td>2018-10-01 00:00:00</td>\n",
       "      <td>ee47d746-6d2f-4d3c-9622-c31412542920</td>\n",
       "      <td>68477</td>\n",
       "      <td>Радермахера d-12 см h-20 см</td>\n",
       "      <td>1</td>\n",
       "      <td>112.0</td>\n",
       "      <td>112.0</td>\n",
       "      <td>2018-10</td>\n",
       "    </tr>\n",
       "    <tr>\n",
       "      <th>3</th>\n",
       "      <td>2018-10-01 00:00:00</td>\n",
       "      <td>ee47d746-6d2f-4d3c-9622-c31412542920</td>\n",
       "      <td>68477</td>\n",
       "      <td>Хризолидокарпус Лутесценс d-9 см</td>\n",
       "      <td>1</td>\n",
       "      <td>179.0</td>\n",
       "      <td>179.0</td>\n",
       "      <td>2018-10</td>\n",
       "    </tr>\n",
       "    <tr>\n",
       "      <th>4</th>\n",
       "      <td>2018-10-01 00:00:00</td>\n",
       "      <td>ee47d746-6d2f-4d3c-9622-c31412542920</td>\n",
       "      <td>68477</td>\n",
       "      <td>Циперус Зумула d-12 см h-25 см</td>\n",
       "      <td>1</td>\n",
       "      <td>112.0</td>\n",
       "      <td>112.0</td>\n",
       "      <td>2018-10</td>\n",
       "    </tr>\n",
       "    <tr>\n",
       "      <th>...</th>\n",
       "      <td>...</td>\n",
       "      <td>...</td>\n",
       "      <td>...</td>\n",
       "      <td>...</td>\n",
       "      <td>...</td>\n",
       "      <td>...</td>\n",
       "      <td>...</td>\n",
       "      <td>...</td>\n",
       "    </tr>\n",
       "    <tr>\n",
       "      <th>6731</th>\n",
       "      <td>2019-10-31 11:00:00</td>\n",
       "      <td>f17ed857-178e-45e1-a662-0a9dd3b58c5f</td>\n",
       "      <td>73155</td>\n",
       "      <td>Мимоза стыдливая d-9 см</td>\n",
       "      <td>1</td>\n",
       "      <td>329.0</td>\n",
       "      <td>329.0</td>\n",
       "      <td>2019-10</td>\n",
       "    </tr>\n",
       "    <tr>\n",
       "      <th>6732</th>\n",
       "      <td>2019-10-31 11:00:00</td>\n",
       "      <td>73d1cd35-5e5f-4629-8cf2-3fda829d4e58</td>\n",
       "      <td>73156</td>\n",
       "      <td>Таз пластмассовый 40,0 л пищевой овальный (Иж)...</td>\n",
       "      <td>1</td>\n",
       "      <td>404.0</td>\n",
       "      <td>404.0</td>\n",
       "      <td>2019-10</td>\n",
       "    </tr>\n",
       "    <tr>\n",
       "      <th>6733</th>\n",
       "      <td>2019-10-31 12:00:00</td>\n",
       "      <td>1f0a7f35-7459-4f23-b468-5e45bf481dd1</td>\n",
       "      <td>73158</td>\n",
       "      <td>Сумка-тележка 2-х колесная Gimi Argo синяя</td>\n",
       "      <td>1</td>\n",
       "      <td>1087.0</td>\n",
       "      <td>1087.0</td>\n",
       "      <td>2019-10</td>\n",
       "    </tr>\n",
       "    <tr>\n",
       "      <th>6734</th>\n",
       "      <td>2019-10-31 13:00:00</td>\n",
       "      <td>25df96a7-c453-4708-9cea-a3dfc7c342ea</td>\n",
       "      <td>73162</td>\n",
       "      <td>Герань домашняя (пеларгония зональная) цветуща...</td>\n",
       "      <td>1</td>\n",
       "      <td>157.0</td>\n",
       "      <td>157.0</td>\n",
       "      <td>2019-10</td>\n",
       "    </tr>\n",
       "    <tr>\n",
       "      <th>6735</th>\n",
       "      <td>2019-10-31 14:00:00</td>\n",
       "      <td>73d1cd35-5e5f-4629-8cf2-3fda829d4e58</td>\n",
       "      <td>73164</td>\n",
       "      <td>Таз пластмассовый со стиральной доской (Иж), 1...</td>\n",
       "      <td>1</td>\n",
       "      <td>397.0</td>\n",
       "      <td>397.0</td>\n",
       "      <td>2019-10</td>\n",
       "    </tr>\n",
       "  </tbody>\n",
       "</table>\n",
       "<p>4745 rows × 8 columns</p>\n",
       "</div>"
      ],
      "text/plain": [
       "                    date                           customer_id  order_id  \\\n",
       "0    2018-10-01 00:00:00  ee47d746-6d2f-4d3c-9622-c31412542920     68477   \n",
       "1    2018-10-01 00:00:00  ee47d746-6d2f-4d3c-9622-c31412542920     68477   \n",
       "2    2018-10-01 00:00:00  ee47d746-6d2f-4d3c-9622-c31412542920     68477   \n",
       "3    2018-10-01 00:00:00  ee47d746-6d2f-4d3c-9622-c31412542920     68477   \n",
       "4    2018-10-01 00:00:00  ee47d746-6d2f-4d3c-9622-c31412542920     68477   \n",
       "...                  ...                                   ...       ...   \n",
       "6731 2019-10-31 11:00:00  f17ed857-178e-45e1-a662-0a9dd3b58c5f     73155   \n",
       "6732 2019-10-31 11:00:00  73d1cd35-5e5f-4629-8cf2-3fda829d4e58     73156   \n",
       "6733 2019-10-31 12:00:00  1f0a7f35-7459-4f23-b468-5e45bf481dd1     73158   \n",
       "6734 2019-10-31 13:00:00  25df96a7-c453-4708-9cea-a3dfc7c342ea     73162   \n",
       "6735 2019-10-31 14:00:00  73d1cd35-5e5f-4629-8cf2-3fda829d4e58     73164   \n",
       "\n",
       "                                                product  quantity   price  \\\n",
       "0       Комнатное растение в горшке Алое Вера, d12, h30         1   142.0   \n",
       "1     Комнатное растение в горшке Кофе Арабика, d12,...         1   194.0   \n",
       "2                           Радермахера d-12 см h-20 см         1   112.0   \n",
       "3                      Хризолидокарпус Лутесценс d-9 см         1   179.0   \n",
       "4                        Циперус Зумула d-12 см h-25 см         1   112.0   \n",
       "...                                                 ...       ...     ...   \n",
       "6731                            Мимоза стыдливая d-9 см         1   329.0   \n",
       "6732  Таз пластмассовый 40,0 л пищевой овальный (Иж)...         1   404.0   \n",
       "6733         Сумка-тележка 2-х колесная Gimi Argo синяя         1  1087.0   \n",
       "6734  Герань домашняя (пеларгония зональная) цветуща...         1   157.0   \n",
       "6735  Таз пластмассовый со стиральной доской (Иж), 1...         1   397.0   \n",
       "\n",
       "      revenue    month  \n",
       "0       142.0  2018-10  \n",
       "1       194.0  2018-10  \n",
       "2       112.0  2018-10  \n",
       "3       179.0  2018-10  \n",
       "4       112.0  2018-10  \n",
       "...       ...      ...  \n",
       "6731    329.0  2019-10  \n",
       "6732    404.0  2019-10  \n",
       "6733   1087.0  2019-10  \n",
       "6734    157.0  2019-10  \n",
       "6735    397.0  2019-10  \n",
       "\n",
       "[4745 rows x 8 columns]"
      ]
     },
     "execution_count": 89,
     "metadata": {},
     "output_type": "execute_result"
    }
   ],
   "source": [
    "data['month'] = data['date'].apply(lambda x: x.strftime('%Y-%m'))\n",
    "data"
   ]
  },
  {
   "cell_type": "markdown",
   "metadata": {},
   "source": [
    "### Добавляем столбец с мясяцами"
   ]
  },
  {
   "cell_type": "markdown",
   "metadata": {},
   "source": [
    "В базе присутствуют даныне за 1 год и 1 месяц, думаю что месяц будет оптимальной единицей для анализа, так как недель и дней крайне высокое количество"
   ]
  },
  {
   "cell_type": "code",
   "execution_count": 90,
   "metadata": {},
   "outputs": [
    {
     "data": {
      "text/html": [
       "<div>\n",
       "<style scoped>\n",
       "    .dataframe tbody tr th:only-of-type {\n",
       "        vertical-align: middle;\n",
       "    }\n",
       "\n",
       "    .dataframe tbody tr th {\n",
       "        vertical-align: top;\n",
       "    }\n",
       "\n",
       "    .dataframe thead th {\n",
       "        text-align: right;\n",
       "    }\n",
       "</style>\n",
       "<table border=\"1\" class=\"dataframe\">\n",
       "  <thead>\n",
       "    <tr style=\"text-align: right;\">\n",
       "      <th></th>\n",
       "      <th>customer_id</th>\n",
       "      <th>order_id</th>\n",
       "      <th>price</th>\n",
       "      <th>product</th>\n",
       "      <th>quantity</th>\n",
       "      <th>revenue</th>\n",
       "    </tr>\n",
       "    <tr>\n",
       "      <th>month</th>\n",
       "      <th></th>\n",
       "      <th></th>\n",
       "      <th></th>\n",
       "      <th></th>\n",
       "      <th></th>\n",
       "      <th></th>\n",
       "    </tr>\n",
       "  </thead>\n",
       "  <tbody>\n",
       "    <tr>\n",
       "      <th>2018-10</th>\n",
       "      <td>177</td>\n",
       "      <td>232</td>\n",
       "      <td>554.0</td>\n",
       "      <td>474</td>\n",
       "      <td>881</td>\n",
       "      <td>319978.0</td>\n",
       "    </tr>\n",
       "    <tr>\n",
       "      <th>2018-11</th>\n",
       "      <td>173</td>\n",
       "      <td>197</td>\n",
       "      <td>478.0</td>\n",
       "      <td>420</td>\n",
       "      <td>863</td>\n",
       "      <td>282836.0</td>\n",
       "    </tr>\n",
       "    <tr>\n",
       "      <th>2018-12</th>\n",
       "      <td>229</td>\n",
       "      <td>273</td>\n",
       "      <td>772.0</td>\n",
       "      <td>305</td>\n",
       "      <td>523</td>\n",
       "      <td>277282.0</td>\n",
       "    </tr>\n",
       "    <tr>\n",
       "      <th>2019-01</th>\n",
       "      <td>147</td>\n",
       "      <td>162</td>\n",
       "      <td>698.0</td>\n",
       "      <td>180</td>\n",
       "      <td>388</td>\n",
       "      <td>208223.0</td>\n",
       "    </tr>\n",
       "    <tr>\n",
       "      <th>2019-02</th>\n",
       "      <td>239</td>\n",
       "      <td>279</td>\n",
       "      <td>556.0</td>\n",
       "      <td>352</td>\n",
       "      <td>784</td>\n",
       "      <td>256311.0</td>\n",
       "    </tr>\n",
       "    <tr>\n",
       "      <th>2019-03</th>\n",
       "      <td>226</td>\n",
       "      <td>237</td>\n",
       "      <td>446.0</td>\n",
       "      <td>405</td>\n",
       "      <td>725</td>\n",
       "      <td>220241.0</td>\n",
       "    </tr>\n",
       "    <tr>\n",
       "      <th>2019-04</th>\n",
       "      <td>230</td>\n",
       "      <td>256</td>\n",
       "      <td>260.0</td>\n",
       "      <td>666</td>\n",
       "      <td>1274</td>\n",
       "      <td>249668.0</td>\n",
       "    </tr>\n",
       "    <tr>\n",
       "      <th>2019-05</th>\n",
       "      <td>164</td>\n",
       "      <td>175</td>\n",
       "      <td>209.0</td>\n",
       "      <td>726</td>\n",
       "      <td>1085</td>\n",
       "      <td>197102.0</td>\n",
       "    </tr>\n",
       "    <tr>\n",
       "      <th>2019-06</th>\n",
       "      <td>147</td>\n",
       "      <td>154</td>\n",
       "      <td>339.0</td>\n",
       "      <td>287</td>\n",
       "      <td>541</td>\n",
       "      <td>144788.0</td>\n",
       "    </tr>\n",
       "    <tr>\n",
       "      <th>2019-07</th>\n",
       "      <td>182</td>\n",
       "      <td>194</td>\n",
       "      <td>486.0</td>\n",
       "      <td>308</td>\n",
       "      <td>555</td>\n",
       "      <td>199198.0</td>\n",
       "    </tr>\n",
       "    <tr>\n",
       "      <th>2019-08</th>\n",
       "      <td>163</td>\n",
       "      <td>171</td>\n",
       "      <td>672.0</td>\n",
       "      <td>199</td>\n",
       "      <td>367</td>\n",
       "      <td>153246.0</td>\n",
       "    </tr>\n",
       "    <tr>\n",
       "      <th>2019-09</th>\n",
       "      <td>172</td>\n",
       "      <td>179</td>\n",
       "      <td>633.0</td>\n",
       "      <td>218</td>\n",
       "      <td>364</td>\n",
       "      <td>167328.0</td>\n",
       "    </tr>\n",
       "    <tr>\n",
       "      <th>2019-10</th>\n",
       "      <td>161</td>\n",
       "      <td>188</td>\n",
       "      <td>690.0</td>\n",
       "      <td>205</td>\n",
       "      <td>371</td>\n",
       "      <td>166589.0</td>\n",
       "    </tr>\n",
       "  </tbody>\n",
       "</table>\n",
       "</div>"
      ],
      "text/plain": [
       "         customer_id  order_id  price  product  quantity   revenue\n",
       "month                                                             \n",
       "2018-10          177       232  554.0      474       881  319978.0\n",
       "2018-11          173       197  478.0      420       863  282836.0\n",
       "2018-12          229       273  772.0      305       523  277282.0\n",
       "2019-01          147       162  698.0      180       388  208223.0\n",
       "2019-02          239       279  556.0      352       784  256311.0\n",
       "2019-03          226       237  446.0      405       725  220241.0\n",
       "2019-04          230       256  260.0      666      1274  249668.0\n",
       "2019-05          164       175  209.0      726      1085  197102.0\n",
       "2019-06          147       154  339.0      287       541  144788.0\n",
       "2019-07          182       194  486.0      308       555  199198.0\n",
       "2019-08          163       171  672.0      199       367  153246.0\n",
       "2019-09          172       179  633.0      218       364  167328.0\n",
       "2019-10          161       188  690.0      205       371  166589.0"
      ]
     },
     "execution_count": 90,
     "metadata": {},
     "output_type": "execute_result"
    }
   ],
   "source": [
    "data_month = data.pivot_table(index=['month'], values=['customer_id', 'order_id', 'product', 'quantity', 'price', 'revenue'], \n",
    "                    aggfunc={'customer_id': 'nunique', \n",
    "                             'order_id': 'nunique', \n",
    "                             'product': 'count',\n",
    "                             'quantity': 'sum',\n",
    "                             'price': 'mean',\n",
    "                             'revenue': 'sum'}).round()\n",
    "\n",
    "data_month"
   ]
  },
  {
   "cell_type": "code",
   "execution_count": 91,
   "metadata": {
    "scrolled": true
   },
   "outputs": [
    {
     "data": {
      "text/plain": [
       "''"
      ]
     },
     "execution_count": 91,
     "metadata": {},
     "output_type": "execute_result"
    },
    {
     "data": {
      "image/png": "[encoded data removed]",
      "text/plain": [
       "<Figure size 1500x500 with 1 Axes>"
      ]
     },
     "metadata": {},
     "output_type": "display_data"
    }
   ],
   "source": [
    "#Построим графики по месяцам\n",
    "plt.figure(figsize=(15,5))\n",
    "plt.grid()\n",
    "plt.plot(data_month.index, data_month['customer_id'], label='Покупатели')\n",
    "plt.plot(data_month.index, data_month['order_id'], label='Заказы')\n",
    "plt.plot(data_month.index, data_month['product'], label='Товарные позиции')\n",
    "\n",
    "plt.legend()\n",
    "plt.title('График динамики по показателям\\n  ')\n",
    "plt.xlabel('\\nДата')\n",
    "plt.ylabel('Кол-во\\n')\n",
    ";"
   ]
  },
  {
   "cell_type": "markdown",
   "metadata": {},
   "source": [
    "Количество покупателей и заказов, за исключением января, колеблится не радикально. При этом товарные позиции варьируются весьма значительно. В дальнейшем я буду проверять гипотезу о сезонности в категории товаров растения, которая частично объяснит данные колебания. При этом увеличение ассортимента не приводит к значительному увеличению заказов, и как будет видно на следующем графике - выручки."
   ]
  },
  {
   "cell_type": "code",
   "execution_count": 92,
   "metadata": {
    "scrolled": false
   },
   "outputs": [
    {
     "data": {
      "text/plain": [
       "''"
      ]
     },
     "execution_count": 92,
     "metadata": {},
     "output_type": "execute_result"
    },
    {
     "data": {
      "image/png": "[encoded data removed]",
      "text/plain": [
       "<Figure size 1500x500 with 1 Axes>"
      ]
     },
     "metadata": {},
     "output_type": "display_data"
    }
   ],
   "source": [
    "#Построим графики выручки\n",
    "plt.figure(figsize=(15,5))\n",
    "plt.grid()\n",
    "plt.plot(data_month.index, data_month['revenue'], label='Выручка')\n",
    "\n",
    "plt.legend()\n",
    "plt.title('График динамики по показателям\\n  ')\n",
    "plt.xlabel('\\nДата')\n",
    "plt.ylabel('Кол-во\\n')\n",
    ";"
   ]
  },
  {
   "cell_type": "markdown",
   "metadata": {},
   "source": [
    "Выручка волнообразно снижается, при этом она не падает не пропорционально количеству заказов и покупателей."
   ]
  },
  {
   "cell_type": "markdown",
   "metadata": {},
   "source": [
    "### Добавляем показатель среднего чека"
   ]
  },
  {
   "cell_type": "markdown",
   "metadata": {},
   "source": [
    "Сформируем средний чек по заказам, посмотрим его среднее значение по покупателям"
   ]
  },
  {
   "cell_type": "code",
   "execution_count": 93,
   "metadata": {
    "scrolled": false
   },
   "outputs": [
    {
     "data": {
      "text/html": [
       "<div>\n",
       "<style scoped>\n",
       "    .dataframe tbody tr th:only-of-type {\n",
       "        vertical-align: middle;\n",
       "    }\n",
       "\n",
       "    .dataframe tbody tr th {\n",
       "        vertical-align: top;\n",
       "    }\n",
       "\n",
       "    .dataframe thead th {\n",
       "        text-align: right;\n",
       "    }\n",
       "</style>\n",
       "<table border=\"1\" class=\"dataframe\">\n",
       "  <thead>\n",
       "    <tr style=\"text-align: right;\">\n",
       "      <th></th>\n",
       "      <th>quantity</th>\n",
       "      <th>order_id</th>\n",
       "    </tr>\n",
       "    <tr>\n",
       "      <th>order_id</th>\n",
       "      <th></th>\n",
       "      <th></th>\n",
       "    </tr>\n",
       "  </thead>\n",
       "  <tbody>\n",
       "    <tr>\n",
       "      <th>12624</th>\n",
       "      <td>2</td>\n",
       "      <td>12624</td>\n",
       "    </tr>\n",
       "    <tr>\n",
       "      <th>13547</th>\n",
       "      <td>3</td>\n",
       "      <td>13547</td>\n",
       "    </tr>\n",
       "    <tr>\n",
       "      <th>14480</th>\n",
       "      <td>3</td>\n",
       "      <td>14480</td>\n",
       "    </tr>\n",
       "    <tr>\n",
       "      <th>14481</th>\n",
       "      <td>4</td>\n",
       "      <td>14481</td>\n",
       "    </tr>\n",
       "    <tr>\n",
       "      <th>14482</th>\n",
       "      <td>2</td>\n",
       "      <td>14482</td>\n",
       "    </tr>\n",
       "  </tbody>\n",
       "</table>\n",
       "</div>"
      ],
      "text/plain": [
       "          quantity  order_id\n",
       "order_id                    \n",
       "12624            2     12624\n",
       "13547            3     13547\n",
       "14480            3     14480\n",
       "14481            4     14481\n",
       "14482            2     14482"
      ]
     },
     "execution_count": 93,
     "metadata": {},
     "output_type": "execute_result"
    }
   ],
   "source": [
    "data_midle_check = data.pivot_table(index=['order_id'], values=['quantity'], \n",
    "                    aggfunc={\n",
    "                             'quantity': 'sum',}).round()\n",
    "\n",
    "data_midle_check['order_id'] = data_midle_check.index\n",
    "data_midle_check.head()"
   ]
  },
  {
   "cell_type": "code",
   "execution_count": 94,
   "metadata": {
    "scrolled": true
   },
   "outputs": [
    {
     "data": {
      "text/plain": [
       "''"
      ]
     },
     "execution_count": 94,
     "metadata": {},
     "output_type": "execute_result"
    },
    {
     "data": {
      "image/png": "[encoded data removed]",
      "text/plain": [
       "<Figure size 1500x500 with 1 Axes>"
      ]
     },
     "metadata": {},
     "output_type": "display_data"
    }
   ],
   "source": [
    "#Построим график распределения среднего чека по заказам\n",
    "plt.figure(figsize=(15,5))\n",
    "plt.grid()\n",
    "plt.plot(data_midle_check.index, data_midle_check['quantity'], label='Средний чек')\n",
    "\n",
    "plt.legend()\n",
    "plt.title('График динамики среднего чека по заказам\\n  ')\n",
    "plt.xlabel('\\n')\n",
    "plt.ylabel('Количество\\n')\n",
    ";"
   ]
  },
  {
   "cell_type": "code",
   "execution_count": 95,
   "metadata": {
    "scrolled": true
   },
   "outputs": [
    {
     "data": {
      "text/plain": [
       "3.245627093412728"
      ]
     },
     "execution_count": 95,
     "metadata": {},
     "output_type": "execute_result"
    }
   ],
   "source": [
    "#Посмотрим среднее значение\n",
    "data_midle_check['quantity'].mean()"
   ]
  },
  {
   "cell_type": "code",
   "execution_count": 96,
   "metadata": {},
   "outputs": [
    {
     "data": {
      "text/plain": [
       "1.0"
      ]
     },
     "execution_count": 96,
     "metadata": {},
     "output_type": "execute_result"
    }
   ],
   "source": [
    "#И медиану\n",
    "data_midle_check['quantity'].median()"
   ]
  },
  {
   "cell_type": "markdown",
   "metadata": {},
   "source": [
    "Значения среднего чека периода варьируются весьма сильно, в график, среднее и медианное значение показывают что в одном заказе покупатели зачастую приобретают от 1 до 3 единиц товара."
   ]
  },
  {
   "cell_type": "markdown",
   "metadata": {},
   "source": [
    "###  Сегментация"
   ]
  },
  {
   "cell_type": "markdown",
   "metadata": {},
   "source": [
    "Сгрупируем данные для RFM-анализа."
   ]
  },
  {
   "cell_type": "code",
   "execution_count": 97,
   "metadata": {
    "scrolled": true
   },
   "outputs": [
    {
     "data": {
      "text/html": [
       "<div>\n",
       "<style scoped>\n",
       "    .dataframe tbody tr th:only-of-type {\n",
       "        vertical-align: middle;\n",
       "    }\n",
       "\n",
       "    .dataframe tbody tr th {\n",
       "        vertical-align: top;\n",
       "    }\n",
       "\n",
       "    .dataframe thead th {\n",
       "        text-align: right;\n",
       "    }\n",
       "</style>\n",
       "<table border=\"1\" class=\"dataframe\">\n",
       "  <thead>\n",
       "    <tr style=\"text-align: right;\">\n",
       "      <th></th>\n",
       "      <th>recency</th>\n",
       "      <th>frequency</th>\n",
       "      <th>monetary_value</th>\n",
       "    </tr>\n",
       "    <tr>\n",
       "      <th>customer_id</th>\n",
       "      <th></th>\n",
       "      <th></th>\n",
       "      <th></th>\n",
       "    </tr>\n",
       "  </thead>\n",
       "  <tbody>\n",
       "    <tr>\n",
       "      <th>000d6849-084e-4d9f-ac03-37174eaf60c4</th>\n",
       "      <td>14</td>\n",
       "      <td>1</td>\n",
       "      <td>555.0</td>\n",
       "    </tr>\n",
       "    <tr>\n",
       "      <th>001cee7f-0b29-4716-b202-0042213ab038</th>\n",
       "      <td>256</td>\n",
       "      <td>1</td>\n",
       "      <td>442.0</td>\n",
       "    </tr>\n",
       "    <tr>\n",
       "      <th>00299f34-5385-4d13-9aea-c80b81658e1b</th>\n",
       "      <td>16</td>\n",
       "      <td>1</td>\n",
       "      <td>914.0</td>\n",
       "    </tr>\n",
       "    <tr>\n",
       "      <th>002d4d3a-4a59-406b-86ec-c3314357e498</th>\n",
       "      <td>276</td>\n",
       "      <td>1</td>\n",
       "      <td>1649.0</td>\n",
       "    </tr>\n",
       "    <tr>\n",
       "      <th>003bbd39-0000-41ff-b7f9-2ddaec152037</th>\n",
       "      <td>31</td>\n",
       "      <td>1</td>\n",
       "      <td>2324.0</td>\n",
       "    </tr>\n",
       "  </tbody>\n",
       "</table>\n",
       "</div>"
      ],
      "text/plain": [
       "                                      recency  frequency  monetary_value\n",
       "customer_id                                                             \n",
       "000d6849-084e-4d9f-ac03-37174eaf60c4       14          1           555.0\n",
       "001cee7f-0b29-4716-b202-0042213ab038      256          1           442.0\n",
       "00299f34-5385-4d13-9aea-c80b81658e1b       16          1           914.0\n",
       "002d4d3a-4a59-406b-86ec-c3314357e498      276          1          1649.0\n",
       "003bbd39-0000-41ff-b7f9-2ddaec152037       31          1          2324.0"
      ]
     },
     "execution_count": 97,
     "metadata": {},
     "output_type": "execute_result"
    }
   ],
   "source": [
    "#Задаем точку отстчета давности заказов и групируем даныне\n",
    "NOW = dt.datetime(2019,10,31)\n",
    "RFM_table=data.groupby('customer_id').agg({'date': lambda x: (NOW - x.max()).days, # Recency\n",
    "                                                'order_id': lambda x: len(x.unique()), # Frequency\n",
    "                                                'revenue': lambda x: x.sum()})    # Monetary \n",
    "\n",
    "RFM_table['date'] = RFM_table['date'].astype(int)\n",
    "\n",
    "RFM_table.rename(columns={'date': 'recency', \n",
    "                         'order_id': 'frequency',\n",
    "                         'revenue': 'monetary_value'}, inplace=True)\n",
    "RFM_table.head()"
   ]
  },
  {
   "cell_type": "markdown",
   "metadata": {},
   "source": [
    "Для деление на группы в данной формуле используется деление на квантили. Они помогут разделить на 4 группы пользователй по каждому из 3 признаков, в итоге мы получим 12 групп выделенных по давносте, частоте и денежным тратам. Название сегмента описывает строится следующим образом: первая цифра номер квартиля недавности посещения, вторая -квартиль частоты заказов, и последняя денежные траты. То есть лучшая категория 444 - заказывали недавно, делают это часто и на большие суммы. К примеру 114 - давно не было заказов, они бывают редно, но на большие суммы."
   ]
  },
  {
   "cell_type": "code",
   "execution_count": 98,
   "metadata": {},
   "outputs": [
    {
     "data": {
      "text/html": [
       "<div>\n",
       "<style scoped>\n",
       "    .dataframe tbody tr th:only-of-type {\n",
       "        vertical-align: middle;\n",
       "    }\n",
       "\n",
       "    .dataframe tbody tr th {\n",
       "        vertical-align: top;\n",
       "    }\n",
       "\n",
       "    .dataframe thead th {\n",
       "        text-align: right;\n",
       "    }\n",
       "</style>\n",
       "<table border=\"1\" class=\"dataframe\">\n",
       "  <thead>\n",
       "    <tr style=\"text-align: right;\">\n",
       "      <th></th>\n",
       "      <th>recency</th>\n",
       "      <th>frequency</th>\n",
       "      <th>monetary_value</th>\n",
       "    </tr>\n",
       "  </thead>\n",
       "  <tbody>\n",
       "    <tr>\n",
       "      <th>0.25</th>\n",
       "      <td>109.0</td>\n",
       "      <td>1.0</td>\n",
       "      <td>291.0</td>\n",
       "    </tr>\n",
       "    <tr>\n",
       "      <th>0.50</th>\n",
       "      <td>211.0</td>\n",
       "      <td>1.0</td>\n",
       "      <td>672.0</td>\n",
       "    </tr>\n",
       "    <tr>\n",
       "      <th>0.75</th>\n",
       "      <td>296.0</td>\n",
       "      <td>1.0</td>\n",
       "      <td>1424.0</td>\n",
       "    </tr>\n",
       "  </tbody>\n",
       "</table>\n",
       "</div>"
      ],
      "text/plain": [
       "      recency  frequency  monetary_value\n",
       "0.25    109.0        1.0           291.0\n",
       "0.50    211.0        1.0           672.0\n",
       "0.75    296.0        1.0          1424.0"
      ]
     },
     "execution_count": 98,
     "metadata": {},
     "output_type": "execute_result"
    }
   ],
   "source": [
    "# Задаем квантили\n",
    "quantiles = RFM_table.quantile(q=[0.25,0.5,0.75])\n",
    "quantiles"
   ]
  },
  {
   "cell_type": "code",
   "execution_count": 99,
   "metadata": {},
   "outputs": [],
   "source": [
    "# Сконвертируем формат\n",
    "quantiles = quantiles.to_dict()\n",
    "\n",
    "RFM_Segment = RFM_table.copy()\n",
    "# Задаем аргументы x = value, p = recency, monetary_value, frequency, k = quartiles dict\n",
    "def R_Class(x,p,d):\n",
    "    if x <= d[p][0.25]:\n",
    "        return 4\n",
    "    elif x <= d[p][0.50]:\n",
    "        return 3\n",
    "    elif x <= d[p][0.75]: \n",
    "        return 2\n",
    "    else:\n",
    "        return 1\n",
    "    \n",
    "\n",
    "def FM_Class(x,p,d):\n",
    "    if x <= d[p][0.25]:\n",
    "        return 1\n",
    "    elif x <= d[p][0.50]:\n",
    "        return 2\n",
    "    elif x <= d[p][0.75]: \n",
    "        return 3\n",
    "    else:\n",
    "        return 4\n",
    "# Формируем датасет\n",
    "RFM_Segment['R_Quartile'] = RFM_Segment['recency'].apply(R_Class, args=('recency',quantiles,))\n",
    "RFM_Segment['F_Quartile'] = RFM_Segment['frequency'].apply(FM_Class, args=('frequency',quantiles,))\n",
    "RFM_Segment['M_Quartile'] = RFM_Segment['monetary_value'].apply(FM_Class, args=('monetary_value',quantiles,))\n",
    "RFM_Segment['RFMClass'] = RFM_Segment.R_Quartile.map(str) \\\n",
    "                            + RFM_Segment.F_Quartile.map(str) \\\n",
    "                            + RFM_Segment.M_Quartile.map(str)"
   ]
  },
  {
   "cell_type": "code",
   "execution_count": 100,
   "metadata": {
    "scrolled": false
   },
   "outputs": [
    {
     "data": {
      "text/html": [
       "<div>\n",
       "<style scoped>\n",
       "    .dataframe tbody tr th:only-of-type {\n",
       "        vertical-align: middle;\n",
       "    }\n",
       "\n",
       "    .dataframe tbody tr th {\n",
       "        vertical-align: top;\n",
       "    }\n",
       "\n",
       "    .dataframe thead th {\n",
       "        text-align: right;\n",
       "    }\n",
       "</style>\n",
       "<table border=\"1\" class=\"dataframe\">\n",
       "  <thead>\n",
       "    <tr style=\"text-align: right;\">\n",
       "      <th></th>\n",
       "      <th>recency</th>\n",
       "      <th>frequency</th>\n",
       "      <th>monetary_value</th>\n",
       "      <th>R_Quartile</th>\n",
       "      <th>F_Quartile</th>\n",
       "      <th>M_Quartile</th>\n",
       "      <th>RFMClass</th>\n",
       "    </tr>\n",
       "    <tr>\n",
       "      <th>customer_id</th>\n",
       "      <th></th>\n",
       "      <th></th>\n",
       "      <th></th>\n",
       "      <th></th>\n",
       "      <th></th>\n",
       "      <th></th>\n",
       "      <th></th>\n",
       "    </tr>\n",
       "  </thead>\n",
       "  <tbody>\n",
       "    <tr>\n",
       "      <th>000d6849-084e-4d9f-ac03-37174eaf60c4</th>\n",
       "      <td>14</td>\n",
       "      <td>1</td>\n",
       "      <td>555.0</td>\n",
       "      <td>4</td>\n",
       "      <td>1</td>\n",
       "      <td>2</td>\n",
       "      <td>412</td>\n",
       "    </tr>\n",
       "    <tr>\n",
       "      <th>001cee7f-0b29-4716-b202-0042213ab038</th>\n",
       "      <td>256</td>\n",
       "      <td>1</td>\n",
       "      <td>442.0</td>\n",
       "      <td>2</td>\n",
       "      <td>1</td>\n",
       "      <td>2</td>\n",
       "      <td>212</td>\n",
       "    </tr>\n",
       "    <tr>\n",
       "      <th>00299f34-5385-4d13-9aea-c80b81658e1b</th>\n",
       "      <td>16</td>\n",
       "      <td>1</td>\n",
       "      <td>914.0</td>\n",
       "      <td>4</td>\n",
       "      <td>1</td>\n",
       "      <td>3</td>\n",
       "      <td>413</td>\n",
       "    </tr>\n",
       "    <tr>\n",
       "      <th>002d4d3a-4a59-406b-86ec-c3314357e498</th>\n",
       "      <td>276</td>\n",
       "      <td>1</td>\n",
       "      <td>1649.0</td>\n",
       "      <td>2</td>\n",
       "      <td>1</td>\n",
       "      <td>4</td>\n",
       "      <td>214</td>\n",
       "    </tr>\n",
       "    <tr>\n",
       "      <th>003bbd39-0000-41ff-b7f9-2ddaec152037</th>\n",
       "      <td>31</td>\n",
       "      <td>1</td>\n",
       "      <td>2324.0</td>\n",
       "      <td>4</td>\n",
       "      <td>1</td>\n",
       "      <td>4</td>\n",
       "      <td>414</td>\n",
       "    </tr>\n",
       "  </tbody>\n",
       "</table>\n",
       "</div>"
      ],
      "text/plain": [
       "                                      recency  frequency  monetary_value  \\\n",
       "customer_id                                                                \n",
       "000d6849-084e-4d9f-ac03-37174eaf60c4       14          1           555.0   \n",
       "001cee7f-0b29-4716-b202-0042213ab038      256          1           442.0   \n",
       "00299f34-5385-4d13-9aea-c80b81658e1b       16          1           914.0   \n",
       "002d4d3a-4a59-406b-86ec-c3314357e498      276          1          1649.0   \n",
       "003bbd39-0000-41ff-b7f9-2ddaec152037       31          1          2324.0   \n",
       "\n",
       "                                      R_Quartile  F_Quartile  M_Quartile  \\\n",
       "customer_id                                                                \n",
       "000d6849-084e-4d9f-ac03-37174eaf60c4           4           1           2   \n",
       "001cee7f-0b29-4716-b202-0042213ab038           2           1           2   \n",
       "00299f34-5385-4d13-9aea-c80b81658e1b           4           1           3   \n",
       "002d4d3a-4a59-406b-86ec-c3314357e498           2           1           4   \n",
       "003bbd39-0000-41ff-b7f9-2ddaec152037           4           1           4   \n",
       "\n",
       "                                     RFMClass  \n",
       "customer_id                                    \n",
       "000d6849-084e-4d9f-ac03-37174eaf60c4      412  \n",
       "001cee7f-0b29-4716-b202-0042213ab038      212  \n",
       "00299f34-5385-4d13-9aea-c80b81658e1b      413  \n",
       "002d4d3a-4a59-406b-86ec-c3314357e498      214  \n",
       "003bbd39-0000-41ff-b7f9-2ddaec152037      414  "
      ]
     },
     "execution_count": 100,
     "metadata": {},
     "output_type": "execute_result"
    }
   ],
   "source": [
    "RFM_Segment.head()"
   ]
  },
  {
   "cell_type": "markdown",
   "metadata": {},
   "source": [
    "Визуализируем полученную сегментацию, построим гистограмму выручки относительно сегментов и диаграмму количкества пользователей относительно сегмента"
   ]
  },
  {
   "cell_type": "code",
   "execution_count": 101,
   "metadata": {
    "scrolled": false
   },
   "outputs": [
    {
     "data": {
      "application/vnd.plotly.v1+json": {
       "config": {
        "plotlyServerURL": "https://plot.ly"
       },
       "data": [
        {
         "alignmentgroup": "True",
         "hovertemplate": "RFMClass=%{x}<br>monetary_value=%{y}<extra></extra>",
         "legendgroup": "",
         "marker": {
          "color": "#636efa",
          "pattern": {
           "shape": ""
          }
         },
         "name": "",
         "offsetgroup": "",
         "orientation": "v",
         "showlegend": false,
         "textposition": "auto",
         "type": "bar",
         "x": [
          "412",
          "212",
          "413",
          "214",
          "414",
          "214",
          "113",
          "113",
          "211",
          "213",
          "211",
          "414",
          "213",
          "413",
          "414",
          "414",
          "412",
          "344",
          "213",
          "414",
          "414",
          "312",
          "114",
          "211",
          "311",
          "213",
          "412",
          "114",
          "411",
          "411",
          "314",
          "211",
          "411",
          "313",
          "412",
          "412",
          "144",
          "214",
          "212",
          "311",
          "114",
          "314",
          "113",
          "411",
          "412",
          "413",
          "114",
          "213",
          "212",
          "414",
          "213",
          "113",
          "212",
          "112",
          "412",
          "313",
          "412",
          "413",
          "413",
          "413",
          "313",
          "211",
          "214",
          "111",
          "313",
          "212",
          "214",
          "211",
          "312",
          "312",
          "411",
          "213",
          "212",
          "212",
          "343",
          "413",
          "411",
          "312",
          "114",
          "414",
          "311",
          "241",
          "212",
          "311",
          "313",
          "213",
          "412",
          "114",
          "111",
          "212",
          "411",
          "312",
          "213",
          "214",
          "112",
          "313",
          "212",
          "211",
          "214",
          "112",
          "414",
          "412",
          "244",
          "212",
          "311",
          "113",
          "441",
          "313",
          "414",
          "113",
          "412",
          "112",
          "113",
          "211",
          "113",
          "113",
          "411",
          "413",
          "112",
          "113",
          "314",
          "312",
          "114",
          "444",
          "311",
          "412",
          "312",
          "412",
          "313",
          "212",
          "111",
          "111",
          "313",
          "111",
          "313",
          "112",
          "414",
          "244",
          "314",
          "213",
          "213",
          "113",
          "214",
          "313",
          "313",
          "411",
          "112",
          "211",
          "211",
          "114",
          "414",
          "413",
          "314",
          "213",
          "412",
          "312",
          "211",
          "411",
          "314",
          "211",
          "312",
          "314",
          "311",
          "113",
          "312",
          "241",
          "114",
          "412",
          "211",
          "214",
          "312",
          "444",
          "411",
          "114",
          "413",
          "414",
          "211",
          "212",
          "113",
          "114",
          "212",
          "211",
          "112",
          "114",
          "212",
          "211",
          "344",
          "311",
          "411",
          "311",
          "112",
          "411",
          "114",
          "114",
          "214",
          "311",
          "412",
          "114",
          "342",
          "312",
          "411",
          "111",
          "113",
          "211",
          "211",
          "312",
          "312",
          "213",
          "113",
          "113",
          "114",
          "311",
          "411",
          "211",
          "314",
          "314",
          "313",
          "411",
          "213",
          "111",
          "311",
          "313",
          "312",
          "313",
          "412",
          "113",
          "111",
          "311",
          "314",
          "113",
          "413",
          "113",
          "312",
          "313",
          "314",
          "114",
          "311",
          "114",
          "213",
          "311",
          "311",
          "412",
          "214",
          "311",
          "314",
          "411",
          "112",
          "112",
          "214",
          "213",
          "314",
          "212",
          "142",
          "114",
          "411",
          "412",
          "414",
          "413",
          "113",
          "112",
          "414",
          "113",
          "214",
          "243",
          "412",
          "112",
          "414",
          "112",
          "212",
          "211",
          "213",
          "411",
          "314",
          "314",
          "413",
          "111",
          "311",
          "411",
          "414",
          "442",
          "114",
          "311",
          "312",
          "414",
          "311",
          "413",
          "311",
          "411",
          "414",
          "213",
          "213",
          "214",
          "212",
          "411",
          "214",
          "314",
          "413",
          "113",
          "113",
          "411",
          "311",
          "314",
          "313",
          "413",
          "214",
          "213",
          "211",
          "214",
          "414",
          "441",
          "311",
          "211",
          "113",
          "111",
          "113",
          "312",
          "411",
          "412",
          "311",
          "311",
          "442",
          "312",
          "314",
          "213",
          "212",
          "414",
          "212",
          "211",
          "411",
          "313",
          "414",
          "214",
          "114",
          "413",
          "312",
          "311",
          "411",
          "412",
          "111",
          "213",
          "411",
          "412",
          "111",
          "113",
          "211",
          "214",
          "211",
          "413",
          "112",
          "112",
          "112",
          "342",
          "214",
          "214",
          "314",
          "212",
          "313",
          "413",
          "312",
          "213",
          "143",
          "211",
          "311",
          "413",
          "313",
          "113",
          "413",
          "111",
          "114",
          "314",
          "114",
          "313",
          "311",
          "214",
          "111",
          "111",
          "312",
          "442",
          "311",
          "214",
          "313",
          "112",
          "312",
          "212",
          "311",
          "111",
          "212",
          "211",
          "412",
          "311",
          "112",
          "112",
          "113",
          "311",
          "114",
          "113",
          "311",
          "412",
          "314",
          "214",
          "212",
          "112",
          "413",
          "113",
          "111",
          "412",
          "311",
          "211",
          "112",
          "314",
          "113",
          "114",
          "112",
          "444",
          "212",
          "114",
          "411",
          "311",
          "214",
          "414",
          "314",
          "413",
          "211",
          "314",
          "411",
          "114",
          "311",
          "441",
          "111",
          "212",
          "112",
          "313",
          "111",
          "313",
          "214",
          "411",
          "112",
          "214",
          "313",
          "313",
          "412",
          "311",
          "214",
          "411",
          "111",
          "411",
          "414",
          "114",
          "114",
          "314",
          "411",
          "112",
          "411",
          "113",
          "112",
          "212",
          "414",
          "314",
          "113",
          "111",
          "412",
          "214",
          "412",
          "313",
          "412",
          "314",
          "314",
          "313",
          "143",
          "413",
          "312",
          "113",
          "113",
          "114",
          "414",
          "414",
          "312",
          "344",
          "414",
          "214",
          "412",
          "411",
          "411",
          "214",
          "412",
          "344",
          "211",
          "114",
          "312",
          "312",
          "112",
          "114",
          "311",
          "313",
          "414",
          "244",
          "311",
          "411",
          "343",
          "112",
          "413",
          "212",
          "411",
          "412",
          "314",
          "311",
          "113",
          "211",
          "211",
          "312",
          "413",
          "112",
          "314",
          "211",
          "411",
          "113",
          "214",
          "444",
          "143",
          "113",
          "211",
          "314",
          "444",
          "414",
          "414",
          "212",
          "311",
          "314",
          "213",
          "311",
          "312",
          "413",
          "211",
          "214",
          "311",
          "313",
          "212",
          "211",
          "213",
          "114",
          "313",
          "113",
          "114",
          "413",
          "213",
          "212",
          "213",
          "211",
          "412",
          "212",
          "213",
          "114",
          "412",
          "314",
          "313",
          "312",
          "214",
          "313",
          "213",
          "113",
          "212",
          "242",
          "314",
          "213",
          "113",
          "311",
          "313",
          "144",
          "311",
          "212",
          "313",
          "114",
          "411",
          "312",
          "313",
          "412",
          "114",
          "313",
          "313",
          "113",
          "211",
          "414",
          "211",
          "212",
          "411",
          "214",
          "314",
          "213",
          "212",
          "111",
          "413",
          "313",
          "342",
          "114",
          "241",
          "413",
          "211",
          "112",
          "411",
          "111",
          "411",
          "212",
          "411",
          "312",
          "113",
          "414",
          "413",
          "314",
          "314",
          "213",
          "312",
          "412",
          "113",
          "311",
          "112",
          "312",
          "212",
          "314",
          "314",
          "411",
          "312",
          "211",
          "413",
          "442",
          "112",
          "311",
          "113",
          "214",
          "113",
          "114",
          "212",
          "113",
          "411",
          "411",
          "413",
          "214",
          "413",
          "411",
          "112",
          "112",
          "113",
          "312",
          "213",
          "211",
          "112",
          "214",
          "211",
          "311",
          "411",
          "211",
          "114",
          "314",
          "113",
          "313",
          "414",
          "344",
          "213",
          "311",
          "413",
          "114",
          "311",
          "313",
          "413",
          "344",
          "411",
          "414",
          "113",
          "114",
          "143",
          "313",
          "313",
          "414",
          "213",
          "214",
          "414",
          "314",
          "414",
          "214",
          "114",
          "211",
          "414",
          "311",
          "212",
          "411",
          "212",
          "413",
          "211",
          "411",
          "311",
          "212",
          "213",
          "111",
          "412",
          "212",
          "211",
          "313",
          "114",
          "113",
          "312",
          "111",
          "412",
          "114",
          "212",
          "114",
          "114",
          "114",
          "144",
          "413",
          "412",
          "213",
          "113",
          "411",
          "242",
          "312",
          "413",
          "111",
          "312",
          "411",
          "214",
          "414",
          "413",
          "313",
          "314",
          "211",
          "214",
          "211",
          "312",
          "211",
          "312",
          "312",
          "411",
          "111",
          "112",
          "413",
          "311",
          "413",
          "413",
          "411",
          "444",
          "311",
          "113",
          "311",
          "113",
          "113",
          "112",
          "442",
          "411",
          "213",
          "412",
          "212",
          "413",
          "412",
          "112",
          "312",
          "214",
          "112",
          "414",
          "444",
          "412",
          "213",
          "111",
          "413",
          "211",
          "312",
          "114",
          "212",
          "211",
          "244",
          "411",
          "111",
          "412",
          "411",
          "411",
          "413",
          "414",
          "444",
          "212",
          "412",
          "314",
          "214",
          "113",
          "213",
          "413",
          "413",
          "314",
          "113",
          "212",
          "111",
          "411",
          "414",
          "214",
          "213",
          "313",
          "214",
          "311",
          "411",
          "213",
          "111",
          "312",
          "314",
          "112",
          "311",
          "244",
          "312",
          "112",
          "411",
          "314",
          "413",
          "211",
          "311",
          "412",
          "344",
          "412",
          "312",
          "112",
          "443",
          "213",
          "412",
          "314",
          "213",
          "112",
          "112",
          "312",
          "414",
          "411",
          "112",
          "414",
          "113",
          "113",
          "214",
          "413",
          "313",
          "411",
          "314",
          "212",
          "314",
          "214",
          "312",
          "114",
          "412",
          "242",
          "414",
          "412",
          "412",
          "411",
          "114",
          "414",
          "111",
          "443",
          "344",
          "411",
          "211",
          "113",
          "112",
          "413",
          "112",
          "314",
          "411",
          "211",
          "413",
          "312",
          "112",
          "311",
          "241",
          "413",
          "311",
          "344",
          "112",
          "313",
          "211",
          "213",
          "411",
          "313",
          "213",
          "314",
          "211",
          "211",
          "414",
          "111",
          "111",
          "414",
          "414",
          "311",
          "212",
          "213",
          "111",
          "414",
          "113",
          "214",
          "414",
          "412",
          "244",
          "112",
          "311",
          "213",
          "412",
          "312",
          "312",
          "212",
          "412",
          "211",
          "111",
          "212",
          "213",
          "313",
          "442",
          "312",
          "414",
          "114",
          "413",
          "312",
          "411",
          "413",
          "312",
          "114",
          "213",
          "212",
          "412",
          "111",
          "211",
          "413",
          "414",
          "114",
          "212",
          "114",
          "313",
          "211",
          "312",
          "412",
          "413",
          "313",
          "114",
          "111",
          "312",
          "312",
          "411",
          "211",
          "413",
          "413",
          "212",
          "311",
          "211",
          "211",
          "112",
          "113",
          "113",
          "343",
          "114",
          "411",
          "313",
          "411",
          "314",
          "214",
          "314",
          "411",
          "214",
          "214",
          "214",
          "413",
          "111",
          "241",
          "311",
          "211",
          "113",
          "444",
          "212",
          "113",
          "114",
          "412",
          "442",
          "311",
          "312",
          "313",
          "314",
          "213",
          "214",
          "442",
          "312",
          "413",
          "212",
          "112",
          "311",
          "314",
          "413",
          "114",
          "412",
          "311",
          "311",
          "114",
          "214",
          "113",
          "414",
          "211",
          "311",
          "114",
          "411",
          "412",
          "412",
          "112",
          "214",
          "211",
          "213",
          "211",
          "414",
          "142",
          "214",
          "311",
          "113",
          "212",
          "313",
          "412",
          "111",
          "112",
          "412",
          "412",
          "214",
          "113",
          "311",
          "113",
          "412",
          "111",
          "413",
          "411",
          "113",
          "244",
          "112",
          "413",
          "111",
          "412",
          "313",
          "111",
          "312",
          "214",
          "114",
          "213",
          "311",
          "214",
          "414",
          "314",
          "114",
          "412",
          "312",
          "214",
          "412",
          "212",
          "112",
          "114",
          "414",
          "113",
          "342",
          "114",
          "412",
          "241",
          "312",
          "411",
          "211",
          "444",
          "111",
          "112",
          "311",
          "413",
          "313",
          "113",
          "213",
          "312",
          "213",
          "444",
          "311",
          "113",
          "413",
          "214",
          "114",
          "314",
          "114",
          "214",
          "112",
          "113",
          "212",
          "212",
          "211",
          "413",
          "111",
          "212",
          "312",
          "412",
          "413",
          "214",
          "113",
          "412",
          "414",
          "414",
          "313",
          "211",
          "311",
          "212",
          "114",
          "312",
          "411",
          "213",
          "114",
          "112",
          "411",
          "112",
          "113",
          "112",
          "213",
          "414",
          "314",
          "414",
          "211",
          "242",
          "114",
          "411",
          "112",
          "411",
          "411",
          "113",
          "214",
          "444",
          "414",
          "414",
          "344",
          "444",
          "112",
          "313",
          "342",
          "113",
          "414",
          "313",
          "113",
          "411",
          "412",
          "111",
          "214",
          "114",
          "414",
          "113",
          "311",
          "342",
          "314",
          "411",
          "314",
          "343",
          "313",
          "213",
          "114",
          "114",
          "213",
          "214",
          "112",
          "311",
          "243",
          "114",
          "113",
          "213",
          "113",
          "111",
          "311",
          "313",
          "214",
          "314",
          "411",
          "112",
          "412",
          "412",
          "311",
          "214",
          "311",
          "312",
          "211",
          "441",
          "413",
          "413",
          "414",
          "212",
          "213",
          "344",
          "214",
          "412",
          "113",
          "114",
          "114",
          "413",
          "311",
          "411",
          "313",
          "314",
          "314",
          "314",
          "112",
          "414",
          "113",
          "114",
          "411",
          "112",
          "313",
          "212",
          "112",
          "212",
          "411",
          "212",
          "311",
          "211",
          "212",
          "214",
          "114",
          "211",
          "411",
          "211",
          "113",
          "313",
          "311",
          "243",
          "211",
          "343",
          "212",
          "113",
          "112",
          "114",
          "314",
          "314",
          "412",
          "414",
          "311",
          "342",
          "211",
          "413",
          "412",
          "412",
          "411",
          "112",
          "111",
          "411",
          "111",
          "412",
          "113",
          "312",
          "243",
          "213",
          "114",
          "313",
          "114",
          "411",
          "212",
          "413",
          "113",
          "212",
          "313",
          "414",
          "311",
          "412",
          "312",
          "112",
          "411",
          "111",
          "413",
          "414",
          "411",
          "312",
          "314",
          "414",
          "214",
          "412",
          "413",
          "114",
          "112",
          "213",
          "413",
          "312",
          "211",
          "113",
          "212",
          "411",
          "313",
          "214",
          "214",
          "312",
          "111",
          "212",
          "113",
          "312",
          "413",
          "312",
          "211",
          "313",
          "213",
          "111",
          "214",
          "211",
          "113",
          "111",
          "112",
          "314",
          "213",
          "412",
          "212",
          "414",
          "114",
          "142",
          "114",
          "212",
          "412",
          "212",
          "311",
          "213",
          "314",
          "114",
          "214",
          "114",
          "311",
          "413",
          "112",
          "211",
          "414",
          "311",
          "412",
          "113",
          "112",
          "112",
          "312",
          "411",
          "312",
          "212",
          "411",
          "444",
          "411",
          "411",
          "413",
          "414",
          "313",
          "314",
          "313",
          "213",
          "212",
          "114",
          "313",
          "213",
          "112",
          "413",
          "113",
          "344",
          "313",
          "113",
          "311",
          "311",
          "413",
          "114",
          "411",
          "414",
          "212",
          "114",
          "142",
          "312",
          "113",
          "114",
          "311",
          "214",
          "113",
          "211",
          "213",
          "112",
          "111",
          "441",
          "213",
          "113",
          "313",
          "412",
          "412",
          "344",
          "411",
          "213",
          "113",
          "314",
          "344",
          "214",
          "211",
          "411",
          "111",
          "213",
          "211",
          "344",
          "111",
          "213",
          "311",
          "413",
          "211",
          "343",
          "114",
          "312",
          "413",
          "212",
          "212",
          "413",
          "111",
          "314",
          "314",
          "411",
          "311",
          "414",
          "211",
          "114",
          "311",
          "413",
          "213",
          "112",
          "341",
          "113",
          "113",
          "413",
          "314",
          "213",
          "214",
          "214",
          "212",
          "312",
          "313",
          "112",
          "112",
          "113",
          "211",
          "211",
          "413",
          "313",
          "412",
          "243",
          "212",
          "313",
          "113",
          "313",
          "113",
          "412",
          "412",
          "112",
          "211",
          "314",
          "214",
          "113",
          "311",
          "112",
          "414",
          "311",
          "313",
          "313",
          "114",
          "413",
          "214",
          "212",
          "314",
          "113",
          "212",
          "114",
          "114",
          "313",
          "113",
          "312",
          "314",
          "311",
          "213",
          "313",
          "411",
          "413",
          "214",
          "312",
          "114",
          "312",
          "444",
          "312",
          "213",
          "114",
          "111",
          "114",
          "411",
          "411",
          "312",
          "112",
          "344",
          "211",
          "411",
          "412",
          "313",
          "112",
          "211",
          "413",
          "412",
          "213",
          "112",
          "114",
          "114",
          "313",
          "211",
          "113",
          "114",
          "212",
          "112",
          "211",
          "111",
          "411",
          "111",
          "312",
          "213",
          "412",
          "311",
          "313",
          "214",
          "211",
          "411",
          "414",
          "344",
          "214",
          "212",
          "413",
          "113",
          "114",
          "413",
          "414",
          "411",
          "112",
          "312",
          "314",
          "211",
          "313",
          "212",
          "112",
          "341",
          "213",
          "344",
          "412",
          "412",
          "111",
          "113",
          "112",
          "343",
          "214",
          "311",
          "313",
          "214",
          "214",
          "311",
          "312",
          "112",
          "412",
          "443",
          "343",
          "112",
          "443",
          "211",
          "311",
          "312",
          "211",
          "411",
          "113",
          "113",
          "212",
          "313",
          "114",
          "213",
          "411",
          "213",
          "312",
          "113",
          "414",
          "213",
          "112",
          "212",
          "412",
          "111",
          "212",
          "314",
          "213",
          "212",
          "411",
          "411",
          "111",
          "211",
          "113",
          "311",
          "311",
          "213",
          "314",
          "413",
          "311",
          "113",
          "213",
          "314",
          "213",
          "311",
          "113",
          "212",
          "212",
          "311",
          "413",
          "112",
          "214",
          "211",
          "211",
          "412",
          "413",
          "211",
          "114",
          "444",
          "314",
          "111",
          "414",
          "411",
          "113",
          "411",
          "113",
          "412",
          "311",
          "312",
          "112",
          "443",
          "412",
          "313",
          "413",
          "111",
          "412",
          "212",
          "411",
          "311",
          "412",
          "413",
          "211",
          "311",
          "213",
          "212",
          "413",
          "144",
          "212",
          "113",
          "111",
          "212",
          "114",
          "114",
          "114",
          "314",
          "213",
          "114",
          "311",
          "314",
          "413",
          "112",
          "112",
          "114",
          "112",
          "241",
          "113",
          "112",
          "114",
          "111",
          "413",
          "211",
          "311",
          "213",
          "112",
          "311",
          "213",
          "213",
          "114",
          "412",
          "312",
          "212",
          "314",
          "211",
          "313",
          "111",
          "413",
          "414",
          "212",
          "313",
          "111",
          "212",
          "313",
          "213",
          "344",
          "113",
          "111",
          "312",
          "114",
          "312",
          "213",
          "241",
          "313",
          "144",
          "212",
          "344",
          "114",
          "414",
          "113",
          "213",
          "212",
          "414",
          "311",
          "112",
          "214",
          "311",
          "311",
          "213",
          "411",
          "312",
          "311",
          "313",
          "312",
          "213",
          "212",
          "311",
          "112",
          "214",
          "113",
          "112",
          "214",
          "313",
          "213",
          "312",
          "112",
          "213",
          "112",
          "312",
          "314",
          "113",
          "412",
          "113",
          "414",
          "212",
          "111",
          "312",
          "212",
          "112",
          "314",
          "312",
          "314",
          "114",
          "311",
          "113",
          "112",
          "111",
          "414",
          "413",
          "212",
          "113",
          "114",
          "213",
          "114",
          "211",
          "413",
          "412",
          "213",
          "114",
          "111",
          "312",
          "414",
          "311",
          "344",
          "343",
          "313",
          "112",
          "213",
          "112",
          "214",
          "113",
          "413",
          "414",
          "411",
          "314",
          "213",
          "414",
          "412",
          "112",
          "111",
          "111",
          "313",
          "311",
          "412",
          "414",
          "311",
          "312",
          "312",
          "214",
          "312",
          "241",
          "213",
          "313",
          "112",
          "212",
          "313",
          "114",
          "112",
          "213",
          "411",
          "414",
          "412",
          "311",
          "312",
          "313",
          "414",
          "313",
          "213",
          "111",
          "411",
          "211",
          "214",
          "412",
          "213",
          "414",
          "411",
          "214",
          "313",
          "214",
          "213",
          "114",
          "212",
          "113",
          "311",
          "314",
          "112",
          "312",
          "211",
          "111",
          "212",
          "112",
          "214",
          "313",
          "214",
          "412",
          "112",
          "212",
          "211",
          "112",
          "414",
          "113",
          "312",
          "414",
          "413",
          "211",
          "414",
          "311",
          "212",
          "244",
          "314",
          "112",
          "312",
          "411",
          "411",
          "312",
          "113",
          "413",
          "244",
          "314",
          "413",
          "111",
          "114",
          "214",
          "211",
          "314",
          "114",
          "413",
          "214",
          "211",
          "111",
          "311",
          "212",
          "112",
          "214",
          "213",
          "311",
          "411",
          "441",
          "312",
          "211",
          "112",
          "311",
          "112",
          "412",
          "111",
          "114",
          "213",
          "413",
          "314",
          "112",
          "314",
          "113",
          "411",
          "314",
          "113",
          "114",
          "213",
          "114",
          "442",
          "413",
          "313",
          "412",
          "114",
          "112",
          "214",
          "411",
          "211",
          "112",
          "413",
          "314",
          "214",
          "211",
          "112",
          "313",
          "211",
          "113",
          "114",
          "313",
          "211",
          "113",
          "444",
          "342",
          "314",
          "212",
          "413",
          "414",
          "111",
          "213",
          "411",
          "114",
          "113",
          "114",
          "114",
          "411",
          "311",
          "111",
          "343",
          "312",
          "114",
          "114",
          "111",
          "213",
          "211",
          "312",
          "114",
          "211",
          "112",
          "411",
          "112",
          "212",
          "314",
          "214",
          "312",
          "312",
          "311",
          "212",
          "411",
          "213",
          "314",
          "414",
          "112",
          "314",
          "314",
          "411",
          "112",
          "414",
          "213",
          "211",
          "313",
          "412",
          "213",
          "114",
          "313",
          "211",
          "411",
          "413",
          "311",
          "411",
          "114",
          "211",
          "112",
          "414",
          "413",
          "343",
          "313",
          "414",
          "113",
          "113",
          "113",
          "211",
          "411",
          "213",
          "212",
          "312",
          "213",
          "311",
          "312",
          "113",
          "113",
          "214",
          "411",
          "213",
          "414",
          "311",
          "312",
          "212",
          "114",
          "114",
          "413",
          "114",
          "441",
          "343",
          "114",
          "213",
          "413",
          "313",
          "313",
          "112",
          "313",
          "443",
          "411",
          "113",
          "412",
          "211",
          "111",
          "344",
          "212",
          "314",
          "113",
          "111",
          "313",
          "314",
          "113",
          "313",
          "112",
          "211",
          "413",
          "112",
          "213",
          "114",
          "313",
          "113",
          "214",
          "113",
          "214",
          "214",
          "211",
          "411",
          "113",
          "313",
          "214",
          "414",
          "114",
          "112",
          "311",
          "211",
          "213",
          "313",
          "212",
          "111",
          "412",
          "314",
          "114",
          "411",
          "311",
          "112",
          "144",
          "412",
          "312",
          "213",
          "211",
          "311",
          "213",
          "344",
          "242",
          "313",
          "313",
          "113",
          "312",
          "414",
          "342",
          "412",
          "212",
          "312",
          "212",
          "413",
          "113",
          "113",
          "113",
          "241",
          "313",
          "312",
          "411",
          "113",
          "412",
          "114",
          "412",
          "444",
          "212",
          "114",
          "314",
          "111",
          "114",
          "114",
          "212",
          "412",
          "411",
          "242",
          "411",
          "313",
          "312",
          "211",
          "114",
          "212",
          "212",
          "114",
          "213",
          "213",
          "312",
          "213",
          "411",
          "412",
          "112",
          "211",
          "311",
          "311",
          "211",
          "412",
          "212",
          "112",
          "311",
          "113",
          "113",
          "111",
          "312",
          "113",
          "114",
          "413",
          "411",
          "312",
          "211",
          "444",
          "311",
          "212",
          "214",
          "111",
          "114",
          "312",
          "314",
          "113",
          "314",
          "311",
          "111",
          "214",
          "211",
          "413",
          "411",
          "311",
          "412",
          "213",
          "243",
          "412",
          "214",
          "311",
          "311",
          "114",
          "344",
          "411",
          "411",
          "412",
          "211",
          "214",
          "213",
          "311",
          "114",
          "213",
          "212",
          "111",
          "413",
          "411",
          "211",
          "313",
          "413",
          "412",
          "241",
          "412",
          "212",
          "212",
          "414",
          "214",
          "213",
          "413",
          "441",
          "113",
          "244",
          "413",
          "112",
          "113",
          "411",
          "312",
          "211",
          "212",
          "413",
          "411",
          "413",
          "211",
          "114",
          "314",
          "111",
          "344",
          "213",
          "212",
          "312",
          "311",
          "211",
          "114",
          "242",
          "412",
          "442",
          "114",
          "114",
          "114",
          "214",
          "112",
          "114",
          "411",
          "113",
          "211",
          "414",
          "314",
          "214",
          "114",
          "411",
          "313",
          "311",
          "213",
          "212",
          "213",
          "144",
          "412",
          "312",
          "412",
          "313",
          "113",
          "114",
          "141",
          "413",
          "413",
          "243",
          "411",
          "313",
          "114",
          "211",
          "413",
          "314",
          "342",
          "113",
          "411",
          "342",
          "313",
          "311",
          "311",
          "411",
          "412",
          "242",
          "114",
          "411",
          "411",
          "211",
          "412",
          "411",
          "211",
          "214",
          "314",
          "211",
          "412",
          "112",
          "412",
          "111",
          "311",
          "312",
          "411",
          "413",
          "212",
          "111",
          "214",
          "314",
          "213",
          "111",
          "114",
          "143",
          "112",
          "112",
          "314",
          "313",
          "214",
          "412",
          "211",
          "411",
          "312",
          "312",
          "211",
          "411",
          "114",
          "312",
          "311",
          "312",
          "413",
          "312",
          "314",
          "111",
          "412",
          "412",
          "312",
          "344",
          "344",
          "313",
          "214",
          "211",
          "413",
          "211",
          "313",
          "413",
          "412",
          "211",
          "444",
          "313",
          "314",
          "411",
          "444",
          "313",
          "214",
          "211",
          "241",
          "244",
          "114",
          "111",
          "411",
          "311",
          "213",
          "114",
          "311",
          "411",
          "411",
          "413",
          "111",
          "213",
          "311",
          "311",
          "211",
          "213",
          "212",
          "411",
          "211",
          "113",
          "312",
          "413",
          "114",
          "213",
          "311",
          "114",
          "414",
          "212",
          "112",
          "212",
          "113",
          "212",
          "311",
          "113",
          "413",
          "344",
          "244",
          "414",
          "412",
          "112",
          "413",
          "412"
         ],
         "xaxis": "x",
         "y": [
          555,
          442,
          914,
          1649,
          2324,
          1536,
          1199,
          937,
          134,
          959,
          112,
          1798,
          1049,
          974,
          1574,
          2699,
          599,
          5891,
          940,
          2549,
          2924,
          408,
          5090,
          157,
          44,
          1214,
          524,
          1912,
          157,
          45,
          4574,
          134,
          150,
          1177,
          525,
          658,
          1926,
          2399,
          478,
          270,
          1574,
          4874,
          1049,
          30,
          599,
          734,
          1874,
          727,
          555,
          3599,
          1424,
          1424,
          614,
          427,
          554,
          1222,
          420,
          749,
          1199,
          675,
          688,
          44,
          2849,
          209,
          1087,
          442,
          3719,
          224,
          374,
          592,
          52,
          1120,
          412,
          518,
          1316,
          1424,
          74,
          376,
          3224,
          2474,
          157,
          134,
          328,
          59,
          1087,
          1199,
          592,
          2324,
          134,
          488,
          118,
          397,
          958,
          2099,
          464,
          1349,
          412,
          44,
          5775,
          374,
          1660,
          450,
          3740,
          516,
          232,
          1083,
          222,
          750,
          3712,
          1049,
          637,
          374,
          1101,
          236,
          945,
          1049,
          89,
          899,
          434,
          734,
          1804,
          389,
          1662,
          1538,
          88,
          472,
          374,
          510,
          1275,
          337,
          239,
          254,
          787,
          149,
          824,
          524,
          3298,
          2376,
          1912,
          812,
          764,
          712,
          2924,
          674,
          1049,
          262,
          637,
          59,
          134,
          1874,
          2460,
          1228,
          1874,
          1124,
          599,
          450,
          112,
          22,
          2549,
          120,
          374,
          1649,
          134,
          928,
          300,
          261,
          2923,
          524,
          176,
          1649,
          652,
          9148,
          149,
          1912,
          1168,
          1874,
          149,
          599,
          1199,
          3299,
          450,
          157,
          380,
          4859,
          599,
          74,
          5006,
          209,
          134,
          254,
          397,
          164,
          2187,
          2774,
          1780,
          284,
          500,
          2699,
          418,
          337,
          157,
          209,
          820,
          172,
          74,
          492,
          524,
          974,
          1049,
          1049,
          2374,
          118,
          224,
          209,
          2707,
          1434,
          899,
          66,
          898,
          59,
          74,
          690,
          445,
          928,
          577,
          1049,
          194,
          262,
          1574,
          899,
          853,
          734,
          360,
          1164,
          1649,
          3298,
          270,
          2549,
          727,
          200,
          134,
          374,
          2549,
          187,
          1784,
          224,
          449,
          486,
          2788,
          1237,
          2699,
          374,
          606,
          24370,
          119,
          402,
          1912,
          1424,
          824,
          300,
          1649,
          976,
          3674,
          1424,
          562,
          299,
          2774,
          449,
          299,
          59,
          824,
          150,
          1530,
          1949,
          749,
          127,
          134,
          239,
          2024,
          323,
          1475,
          164,
          584,
          3524,
          134,
          1087,
          232,
          112,
          4390,
          1087,
          727,
          2527,
          374,
          74,
          2549,
          1534,
          1087,
          930,
          749,
          225,
          22,
          4494,
          1087,
          1124,
          1649,
          734,
          209,
          4139,
          2136,
          268,
          88,
          134,
          974,
          15,
          1012,
          384,
          202,
          472,
          190,
          28,
          440,
          599,
          2236,
          974,
          614,
          1649,
          563,
          187,
          134,
          1087,
          1612,
          1794,
          4139,
          734,
          374,
          59,
          157,
          434,
          239,
          899,
          157,
          544,
          149,
          1274,
          134,
          2694,
          119,
          1087,
          363,
          442,
          300,
          411,
          2249,
          3448,
          3329,
          450,
          900,
          734,
          328,
          1198,
          1327,
          194,
          194,
          749,
          1350,
          1087,
          1424,
          193,
          1716,
          2280,
          2166,
          704,
          179,
          1649,
          59,
          239,
          344,
          640,
          134,
          1799,
          1076,
          380,
          487,
          509,
          22,
          134,
          600,
          157,
          562,
          127,
          375,
          307,
          894,
          157,
          2998,
          770,
          224,
          638,
          2549,
          2211,
          299,
          624,
          1124,
          1127,
          149,
          599,
          52,
          44,
          539,
          2527,
          749,
          2473,
          546,
          1574,
          524,
          3147,
          119,
          142,
          2699,
          2399,
          3705,
          974,
          164,
          1470,
          254,
          2624,
          134,
          95,
          164,
          652,
          478,
          808,
          224,
          1036,
          2324,
          59,
          488,
          1874,
          975,
          902,
          299,
          285,
          3329,
          224,
          149,
          149,
          1837,
          2699,
          1649,
          3074,
          97,
          374,
          150,
          1409,
          472,
          487,
          1649,
          2624,
          1274,
          44,
          546,
          1799,
          562,
          974,
          448,
          2928,
          2234,
          896,
          688,
          1087,
          430,
          697,
          674,
          1836,
          1642,
          2624,
          410,
          2174,
          1499,
          1649,
          599,
          195,
          110,
          4424,
          554,
          1799,
          59,
          2624,
          298,
          473,
          374,
          1797,
          74,
          734,
          5420,
          3824,
          134,
          59,
          1151,
          412,
          674,
          480,
          157,
          599,
          1800,
          52,
          824,
          134,
          59,
          405,
          697,
          490,
          3899,
          134,
          74,
          712,
          1471,
          1483,
          794,
          1012,
          127,
          2090,
          2736,
          1574,
          1649,
          667,
          97,
          1499,
          764,
          134,
          584,
          676,
          194,
          5098,
          164,
          752,
          652,
          104,
          1199,
          1574,
          674,
          974,
          2083,
          734,
          1275,
          449,
          727,
          112,
          299,
          599,
          1368,
          3440,
          389,
          1649,
          778,
          376,
          1724,
          1210,
          974,
          1274,
          389,
          342,
          2999,
          749,
          708,
          134,
          684,
          2450,
          74,
          449,
          1200,
          2550,
          66,
          404,
          742,
          445,
          1511,
          976,
          705,
          745,
          52,
          2249,
          224,
          405,
          44,
          3329,
          7870,
          922,
          487,
          225,
          745,
          674,
          574,
          2849,
          162,
          1424,
          148,
          539,
          172,
          59,
          195,
          442,
          74,
          599,
          1014,
          1649,
          1162,
          1457,
          1462,
          1215,
          434,
          307,
          1139,
          164,
          376,
          427,
          449,
          4312,
          3749,
          52,
          600,
          187,
          674,
          300,
          487,
          217,
          824,
          1572,
          1049,
          2924,
          314,
          749,
          134,
          149,
          1012,
          1649,
          1087,
          118,
          328,
          404,
          742,
          370,
          1198,
          112,
          637,
          1481,
          220,
          164,
          74,
          74,
          2024,
          1649,
          831,
          1148,
          1762,
          1782,
          1376,
          22,
          748,
          3524,
          208,
          734,
          1087,
          30440,
          82,
          3598,
          748,
          1987,
          1352,
          1196,
          830,
          3524,
          734,
          2849,
          1649,
          2528,
          1649,
          1677,
          1949,
          149,
          1874,
          74,
          635,
          172,
          494,
          937,
          187,
          134,
          74,
          590,
          974,
          187,
          375,
          300,
          157,
          749,
          1799,
          1049,
          442,
          200,
          404,
          1874,
          564,
          2324,
          2990,
          1949,
          51828,
          840,
          389,
          1056,
          802,
          157,
          626,
          374,
          1087,
          66,
          412,
          37,
          2998,
          1949,
          674,
          1012,
          4187,
          134,
          1800,
          134,
          464,
          135,
          539,
          388,
          188,
          112,
          329,
          1034,
          104,
          734,
          674,
          268,
          2548,
          74,
          1010,
          134,
          674,
          1191,
          665,
          598,
          260,
          1005,
          635,
          299,
          1124,
          577,
          418,
          336,
          4117,
          359,
          2774,
          6898,
          450,
          993,
          134,
          1274,
          149,
          561,
          3329,
          652,
          112,
          5398,
          149,
          148,
          375,
          202,
          22,
          1424,
          2025,
          1858,
          448,
          487,
          2230,
          2120,
          787,
          810,
          1050,
          952,
          1649,
          909,
          470,
          104,
          262,
          4648,
          2041,
          899,
          704,
          1949,
          134,
          74,
          1087,
          240,
          632,
          1649,
          514,
          277,
          53232,
          405,
          450,
          74,
          1837,
          712,
          134,
          269,
          412,
          2336,
          524,
          487,
          644,
          748,
          898,
          449,
          3674,
          1162,
          599,
          621,
          500,
          3599,
          157,
          427,
          2527,
          1199,
          1087,
          3599,
          929,
          742,
          75,
          2527,
          405,
          2254,
          2024,
          295,
          5024,
          329,
          434,
          1574,
          370,
          600,
          188,
          2209,
          2527,
          194,
          1048,
          3143,
          74,
          104,
          1049,
          292,
          1087,
          637,
          1588,
          74,
          104,
          974,
          299,
          447,
          59,
          291,
          674,
          134,
          3292,
          299,
          749,
          291,
          1350,
          104,
          869,
          727,
          3776,
          157,
          74,
          1447,
          134,
          149,
          3787,
          4724,
          249,
          357,
          689,
          149,
          1649,
          1349,
          2146,
          1499,
          450,
          1629,
          449,
          119,
          1180,
          596,
          299,
          475,
          598,
          599,
          119,
          81,
          637,
          749,
          830,
          596,
          466,
          5136,
          1799,
          1128,
          509,
          284,
          1087,
          600,
          2924,
          749,
          374,
          509,
          268,
          82,
          1349,
          2699,
          2996,
          376,
          2698,
          734,
          110,
          547,
          569,
          1087,
          974,
          1981,
          269,
          502,
          487,
          247,
          148,
          1124,
          836,
          569,
          284,
          67,
          286,
          449,
          974,
          1049,
          1160,
          1874,
          59,
          704,
          58,
          2180,
          1799,
          1574,
          149,
          3525,
          1949,
          2137,
          1087,
          89,
          208,
          200,
          134,
          974,
          3151,
          295,
          824,
          7722,
          412,
          660,
          142,
          419,
          1216,
          2624,
          734,
          1574,
          670,
          456,
          1108,
          299,
          440,
          277,
          4040,
          1424,
          2099,
          524,
          157,
          127,
          2849,
          1470,
          974,
          1498,
          157,
          134,
          5469,
          112,
          637,
          412,
          613,
          2399,
          134,
          832,
          67,
          1648,
          584,
          1874,
          148,
          750,
          413,
          712,
          412,
          149,
          479,
          592,
          450,
          1762,
          1347,
          239,
          1049,
          599,
          52,
          1050,
          42,
          974,
          1814,
          573,
          674,
          67,
          427,
          1018,
          247,
          449,
          1949,
          1490,
          1049,
          142,
          2624,
          2025,
          1574,
          1574,
          439,
          412,
          1649,
          320,
          487,
          376,
          2924,
          1612,
          1049,
          552,
          1547,
          450,
          253,
          592,
          134,
          119,
          14761,
          52,
          367,
          134,
          1162,
          925,
          734,
          937,
          328,
          1199,
          2120,
          134,
          1147,
          734,
          2399,
          1499,
          4558,
          3974,
          1916,
          298,
          1373,
          430,
          629,
          119,
          734,
          224,
          434,
          506,
          614,
          974,
          3749,
          749,
          300,
          2699,
          7496,
          1071,
          149,
          119,
          508,
          1798,
          593,
          217,
          824,
          2399,
          656,
          88,
          374,
          734,
          637,
          727,
          3375,
          1642,
          8810,
          208,
          607,
          1837,
          116,
          449,
          59,
          134,
          1049,
          1799,
          7950,
          2699,
          2137,
          2848,
          3223,
          343,
          1087,
          448,
          810,
          2849,
          734,
          898,
          119,
          598,
          134,
          2699,
          1686,
          1499,
          907,
          59,
          522,
          2174,
          174,
          3970,
          938,
          1087,
          1312,
          9915,
          4495,
          727,
          1574,
          374,
          236,
          725,
          1574,
          1213,
          783,
          689,
          88,
          209,
          848,
          2395,
          1574,
          225,
          299,
          614,
          552,
          200,
          1874,
          97,
          312,
          225,
          148,
          1048,
          742,
          4495,
          374,
          748,
          1603,
          2399,
          487,
          1049,
          1649,
          2109,
          749,
          232,
          254,
          976,
          5398,
          1498,
          2778,
          516,
          1612,
          1162,
          2999,
          59,
          442,
          899,
          487,
          614,
          464,
          97,
          413,
          134,
          104,
          524,
          3787,
          4867,
          148,
          112,
          127,
          922,
          734,
          157,
          859,
          187,
          786,
          307,
          734,
          614,
          4124,
          1649,
          3562,
          345,
          2774,
          262,
          448,
          74,
          750,
          449,
          577,
          232,
          638,
          267,
          188,
          202,
          599,
          1049,
          526,
          1088,
          974,
          1574,
          1035,
          2924,
          74,
          569,
          1210,
          749,
          488,
          734,
          3375,
          150,
          599,
          608,
          637,
          127,
          149,
          900,
          1500,
          268,
          374,
          3925,
          1949,
          1574,
          352,
          1199,
          1949,
          568,
          742,
          1199,
          352,
          202,
          712,
          637,
          82,
          1067,
          2924,
          1987,
          488,
          88,
          554,
          1049,
          524,
          862,
          637,
          209,
          1180,
          1087,
          224,
          3074,
          157,
          745,
          149,
          460,
          1499,
          727,
          329,
          540,
          1574,
          2249,
          597,
          3749,
          378,
          374,
          449,
          217,
          914,
          1483,
          3148,
          1515,
          4432,
          208,
          787,
          449,
          179,
          1649,
          231,
          404,
          1051,
          449,
          299,
          472,
          150,
          359,
          652,
          224,
          3674,
          187,
          134,
          1319,
          1699,
          1187,
          1974,
          726,
          1349,
          622,
          4949,
          900,
          727,
          418,
          1124,
          740,
          20232,
          1087,
          888,
          164,
          74,
          1050,
          3749,
          145,
          2549,
          413,
          1880,
          531,
          577,
          1049,
          1649,
          187,
          4272,
          1049,
          268,
          1199,
          637,
          74,
          230,
          1320,
          1238,
          1087,
          672,
          375,
          1508,
          134,
          1154,
          899,
          1649,
          1948,
          1649,
          74,
          149,
          45,
          1199,
          157,
          3154,
          236,
          742,
          280,
          728,
          194,
          1318,
          2999,
          488,
          1087,
          508,
          428,
          750,
          239,
          2527,
          2848,
          74,
          239,
          2658,
          225,
          2324,
          74,
          1087,
          1124,
          599,
          291,
          712,
          712,
          1199,
          3224,
          734,
          2247,
          3974,
          328,
          449,
          734,
          637,
          404,
          1199,
          44,
          104,
          1087,
          852,
          598,
          741,
          397,
          718,
          1124,
          824,
          1236,
          404,
          328,
          402,
          74,
          1949,
          3562,
          748,
          164,
          404,
          1900,
          74,
          964,
          937,
          2728,
          1368,
          1649,
          560,
          1642,
          742,
          524,
          22056,
          1874,
          749,
          1124,
          600,
          2050,
          254,
          727,
          824,
          177,
          1204,
          1799,
          300,
          4049,
          412,
          2961,
          568,
          727,
          2134,
          260,
          2441,
          37,
          220,
          448,
          599,
          1808,
          134,
          74,
          600,
          1381,
          299,
          114,
          1424,
          582,
          937,
          471,
          3006,
          3658,
          899,
          194,
          899,
          2699,
          667,
          547,
          87,
          188,
          88,
          188,
          329,
          899,
          564,
          190,
          898,
          1574,
          157,
          222,
          1856,
          2624,
          1910,
          598,
          975,
          1164,
          2249,
          1124,
          1800,
          134,
          447,
          299,
          1574,
          112,
          704,
          487,
          472,
          238,
          1090,
          5398,
          439,
          300,
          224,
          1203,
          447,
          876,
          2024,
          200,
          771,
          2800,
          1874,
          74,
          524,
          299,
          375,
          1199,
          1026,
          553,
          690,
          157,
          177,
          413,
          222,
          127,
          697,
          1049,
          539,
          1087,
          2849,
          1087,
          268,
          727,
          420,
          742,
          3524,
          742,
          464,
          580,
          376,
          149,
          344,
          2249,
          749,
          614,
          224,
          74,
          277,
          74,
          824,
          157,
          224,
          899,
          1799,
          899,
          87,
          1049,
          1167,
          1649,
          1302,
          209,
          899,
          614,
          299,
          58,
          1349,
          487,
          11000,
          74,
          268,
          449,
          862,
          134,
          2998,
          1762,
          1432,
          224,
          3749,
          157,
          1087,
          187,
          718,
          449,
          134,
          292,
          463,
          882,
          404,
          786,
          974,
          44,
          525,
          464,
          134,
          38,
          314,
          968,
          210,
          74,
          974,
          374,
          1087,
          1498,
          560,
          1087,
          224,
          614,
          1615,
          1949,
          1874,
          3787,
          1087,
          2624,
          268,
          2249,
          824,
          479,
          354,
          5160,
          300,
          268,
          750,
          582,
          3374,
          239,
          1101,
          127,
          240,
          727,
          479,
          52,
          922,
          1162,
          2999,
          314,
          596,
          603,
          2926,
          157,
          1292,
          149,
          1162,
          2249,
          449,
          1087,
          59,
          562,
          1087,
          750,
          2068,
          1049,
          280,
          314,
          3299,
          299,
          727,
          282,
          787,
          3223,
          434,
          3779,
          1799,
          4574,
          684,
          1087,
          562,
          1649,
          74,
          637,
          3329,
          187,
          97,
          959,
          224,
          562,
          44,
          734,
          591,
          710,
          374,
          149,
          524,
          1949,
          1012,
          299,
          1874,
          1087,
          1087,
          376,
          442,
          752,
          389,
          352,
          1612,
          704,
          478,
          820,
          6148,
          479,
          264,
          434,
          487,
          478,
          2001,
          295,
          3760,
          1912,
          164,
          1420,
          524,
          148,
          2699,
          749,
          592,
          750,
          1499,
          955,
          1648,
          240,
          1124,
          374,
          1087,
          1874,
          52,
          356,
          1649,
          284,
          4409,
          944,
          734,
          564,
          862,
          584,
          1949,
          749,
          830,
          3449,
          74,
          4303,
          1162,
          3779,
          637,
          464,
          247,
          59,
          1271,
          208,
          638,
          1649,
          224,
          524,
          397,
          1504,
          402,
          148,
          689,
          1424,
          447,
          300,
          1162,
          2098,
          374,
          900,
          134,
          4274,
          525,
          74,
          487,
          968,
          3149,
          787,
          1087,
          44,
          74,
          134,
          1994,
          472,
          802,
          3898,
          112,
          3112,
          734,
          2699,
          1087,
          3247,
          627,
          928,
          74,
          3620,
          434,
          599,
          134,
          210,
          554,
          427,
          4049,
          1087,
          1496,
          389,
          397,
          471,
          127,
          449,
          1949,
          749,
          562,
          2099,
          697,
          134,
          4124,
          149,
          449,
          1948,
          1499,
          637,
          520,
          157,
          164,
          569,
          742,
          1087,
          141787,
          2774,
          899,
          202,
          4499,
          1574,
          119,
          2421,
          2849,
          1087,
          1649,
          280,
          66,
          14,
          382,
          614,
          3524,
          735,
          194,
          262,
          261,
          296,
          66,
          374,
          254,
          651,
          577,
          156,
          3598,
          1424,
          1087,
          1916,
          356,
          2774,
          1281,
          134,
          4682,
          1049,
          1612,
          779,
          1612,
          298,
          824,
          954,
          599,
          1874,
          300,
          2699,
          225,
          239,
          336,
          824,
          1880,
          2249,
          164,
          584,
          749,
          149,
          1349,
          1949,
          988,
          187,
          1093,
          3261,
          589,
          3898,
          314,
          674,
          1649,
          194,
          1087,
          149,
          1574,
          708,
          1941,
          1723,
          97,
          208,
          156,
          1298,
          375,
          1473,
          3734,
          44,
          1087,
          74,
          540,
          2174,
          59,
          359,
          149,
          637,
          314,
          2850,
          5998,
          405,
          299,
          127,
          592,
          187,
          1162,
          10656,
          4198,
          631,
          1762,
          2922,
          134,
          450,
          2024,
          680,
          209,
          1266,
          646,
          776,
          1836,
          1218,
          67,
          187,
          899,
          22,
          240,
          1649,
          164,
          411,
          3562,
          745,
          1138,
          734,
          3580,
          852,
          937,
          1274,
          59,
          269,
          802,
          487,
          430,
          727,
          239,
          599,
          1049,
          1049,
          1574,
          194,
          1424,
          2399,
          74,
          397,
          524,
          1874,
          1856,
          935,
          1619,
          283,
          735,
          3298,
          741,
          1124,
          810,
          749,
          447,
          899,
          1228,
          22,
          1162,
          440,
          110,
          157,
          2233,
          374,
          1775,
          1237,
          89,
          974,
          3380,
          993,
          1348,
          524,
          44,
          1087,
          599,
          1087,
          5970,
          1128,
          1049,
          2699,
          1408,
          3562,
          2774,
          232,
          202,
          1012,
          1350,
          1724,
          3290,
          1649,
          412,
          198,
          149,
          674,
          1377,
          389,
          59,
          599,
          1664,
          2249,
          220,
          74,
          487,
          4161,
          562,
          488,
          1409,
          134,
          164,
          1344,
          2804,
          462,
          915,
          1087,
          1274,
          464,
          1949,
          636,
          600,
          300,
          502,
          569,
          1177,
          734,
          787,
          1049,
          231,
          1012,
          599,
          111,
          1199,
          300,
          2111,
          464,
          2548,
          599,
          2924,
          3974,
          164,
          4139,
          1574,
          487,
          450,
          127,
          553,
          208,
          974,
          389,
          225,
          2623,
          552,
          389,
          3329,
          893,
          1288,
          560,
          1415,
          254,
          652,
          567,
          104,
          134,
          134,
          209,
          442,
          444,
          598,
          157,
          1012,
          1346,
          225,
          555,
          1034,
          1461,
          838,
          74,
          487,
          134,
          3102,
          149,
          666,
          2999,
          262,
          4379,
          480,
          1574,
          1349,
          1949,
          120,
          112,
          1522,
          74,
          734,
          116,
          22,
          412,
          937,
          681,
          344,
          1574,
          74,
          194,
          2361,
          2903,
          142,
          59,
          389,
          88,
          1642,
          1012,
          217,
          2549,
          1012,
          492,
          149,
          974,
          134,
          134,
          914,
          938,
          449,
          118,
          599,
          299,
          389,
          3748,
          1649,
          974,
          749,
          268,
          974,
          2372,
          1424,
          584,
          1037,
          149,
          659,
          164,
          652,
          950,
          127,
          787,
          22,
          2549,
          2644,
          187,
          4482,
          680,
          592,
          464,
          97,
          232,
          1515,
          649,
          614,
          404,
          1738,
          1447,
          1762,
          1799,
          359,
          4049,
          58,
          1199,
          134,
          3674,
          3147,
          1736,
          1574,
          148,
          697,
          187,
          974,
          328,
          1085,
          2511,
          329,
          507,
          614,
          1049,
          719,
          1949,
          268,
          1087,
          674,
          801,
          44,
          1199,
          3089,
          164,
          749,
          2452,
          568,
          676,
          202,
          478,
          1276,
          22,
          15,
          22,
          374,
          418,
          4949,
          134,
          134,
          134,
          564,
          29,
          22,
          2915,
          2068,
          284,
          402,
          577,
          412,
          134,
          147,
          449,
          156,
          1275,
          312,
          225,
          3749,
          1762,
          787,
          172,
          6270,
          1124,
          470,
          544,
          2704,
          734,
          2219,
          412,
          134,
          52,
          412,
          487,
          135,
          134,
          2024,
          600,
          37,
          426,
          831,
          370,
          2166,
          239,
          517,
          569,
          296,
          1498,
          2096,
          974,
          4900,
          67,
          1049,
          149,
          795,
          1125,
          337,
          52,
          2698,
          787,
          2324,
          74,
          7049,
          734,
          2154,
          224,
          268,
          2112,
          1440,
          87,
          134,
          37,
          824,
          1951,
          74,
          134,
          74,
          1087,
          149,
          1012,
          112,
          152,
          104,
          974,
          440,
          119,
          149,
          868,
          569,
          1087,
          1574,
          712,
          135,
          2398,
          1649,
          502,
          672,
          374,
          1049,
          292,
          84,
          749,
          899,
          5998,
          1610,
          1649,
          397,
          389,
          974,
          577
         ],
         "yaxis": "y"
        }
       ],
       "layout": {
        "barmode": "relative",
        "legend": {
         "tracegroupgap": 0
        },
        "margin": {
         "t": 60
        },
        "template": {
         "data": {
          "bar": [
           {
            "error_x": {
             "color": "#2a3f5f"
            },
            "error_y": {
             "color": "#2a3f5f"
            },
            "marker": {
             "line": {
              "color": "#E5ECF6",
              "width": 0.5
             },
             "pattern": {
              "fillmode": "overlay",
              "size": 10,
              "solidity": 0.2
             }
            },
            "type": "bar"
           }
          ],
          "barpolar": [
           {
            "marker": {
             "line": {
              "color": "#E5ECF6",
              "width": 0.5
             },
             "pattern": {
              "fillmode": "overlay",
              "size": 10,
              "solidity": 0.2
             }
            },
            "type": "barpolar"
           }
          ],
          "carpet": [
           {
            "aaxis": {
             "endlinecolor": "#2a3f5f",
             "gridcolor": "white",
             "linecolor": "white",
             "minorgridcolor": "white",
             "startlinecolor": "#2a3f5f"
            },
            "baxis": {
             "endlinecolor": "#2a3f5f",
             "gridcolor": "white",
             "linecolor": "white",
             "minorgridcolor": "white",
             "startlinecolor": "#2a3f5f"
            },
            "type": "carpet"
           }
          ],
          "choropleth": [
           {
            "colorbar": {
             "outlinewidth": 0,
             "ticks": ""
            },
            "type": "choropleth"
           }
          ],
          "contour": [
           {
            "colorbar": {
             "outlinewidth": 0,
             "ticks": ""
            },
            "colorscale": [
             [
              0,
              "#0d0887"
             ],
             [
              0.1111111111111111,
              "#46039f"
             ],
             [
              0.2222222222222222,
              "#7201a8"
             ],
             [
              0.3333333333333333,
              "#9c179e"
             ],
             [
              0.4444444444444444,
              "#bd3786"
             ],
             [
              0.5555555555555556,
              "#d8576b"
             ],
             [
              0.6666666666666666,
              "#ed7953"
             ],
             [
              0.7777777777777778,
              "#fb9f3a"
             ],
             [
              0.8888888888888888,
              "#fdca26"
             ],
             [
              1,
              "#f0f921"
             ]
            ],
            "type": "contour"
           }
          ],
          "contourcarpet": [
           {
            "colorbar": {
             "outlinewidth": 0,
             "ticks": ""
            },
            "type": "contourcarpet"
           }
          ],
          "heatmap": [
           {
            "colorbar": {
             "outlinewidth": 0,
             "ticks": ""
            },
            "colorscale": [
             [
              0,
              "#0d0887"
             ],
             [
              0.1111111111111111,
              "#46039f"
             ],
             [
              0.2222222222222222,
              "#7201a8"
             ],
             [
              0.3333333333333333,
              "#9c179e"
             ],
             [
              0.4444444444444444,
              "#bd3786"
             ],
             [
              0.5555555555555556,
              "#d8576b"
             ],
             [
              0.6666666666666666,
              "#ed7953"
             ],
             [
              0.7777777777777778,
              "#fb9f3a"
             ],
             [
              0.8888888888888888,
              "#fdca26"
             ],
             [
              1,
              "#f0f921"
             ]
            ],
            "type": "heatmap"
           }
          ],
          "heatmapgl": [
           {
            "colorbar": {
             "outlinewidth": 0,
             "ticks": ""
            },
            "colorscale": [
             [
              0,
              "#0d0887"
             ],
             [
              0.1111111111111111,
              "#46039f"
             ],
             [
              0.2222222222222222,
              "#7201a8"
             ],
             [
              0.3333333333333333,
              "#9c179e"
             ],
             [
              0.4444444444444444,
              "#bd3786"
             ],
             [
              0.5555555555555556,
              "#d8576b"
             ],
             [
              0.6666666666666666,
              "#ed7953"
             ],
             [
              0.7777777777777778,
              "#fb9f3a"
             ],
             [
              0.8888888888888888,
              "#fdca26"
             ],
             [
              1,
              "#f0f921"
             ]
            ],
            "type": "heatmapgl"
           }
          ],
          "histogram": [
           {
            "marker": {
             "pattern": {
              "fillmode": "overlay",
              "size": 10,
              "solidity": 0.2
             }
            },
            "type": "histogram"
           }
          ],
          "histogram2d": [
           {
            "colorbar": {
             "outlinewidth": 0,
             "ticks": ""
            },
            "colorscale": [
             [
              0,
              "#0d0887"
             ],
             [
              0.1111111111111111,
              "#46039f"
             ],
             [
              0.2222222222222222,
              "#7201a8"
             ],
             [
              0.3333333333333333,
              "#9c179e"
             ],
             [
              0.4444444444444444,
              "#bd3786"
             ],
             [
              0.5555555555555556,
              "#d8576b"
             ],
             [
              0.6666666666666666,
              "#ed7953"
             ],
             [
              0.7777777777777778,
              "#fb9f3a"
             ],
             [
              0.8888888888888888,
              "#fdca26"
             ],
             [
              1,
              "#f0f921"
             ]
            ],
            "type": "histogram2d"
           }
          ],
          "histogram2dcontour": [
           {
            "colorbar": {
             "outlinewidth": 0,
             "ticks": ""
            },
            "colorscale": [
             [
              0,
              "#0d0887"
             ],
             [
              0.1111111111111111,
              "#46039f"
             ],
             [
              0.2222222222222222,
              "#7201a8"
             ],
             [
              0.3333333333333333,
              "#9c179e"
             ],
             [
              0.4444444444444444,
              "#bd3786"
             ],
             [
              0.5555555555555556,
              "#d8576b"
             ],
             [
              0.6666666666666666,
              "#ed7953"
             ],
             [
              0.7777777777777778,
              "#fb9f3a"
             ],
             [
              0.8888888888888888,
              "#fdca26"
             ],
             [
              1,
              "#f0f921"
             ]
            ],
            "type": "histogram2dcontour"
           }
          ],
          "mesh3d": [
           {
            "colorbar": {
             "outlinewidth": 0,
             "ticks": ""
            },
            "type": "mesh3d"
           }
          ],
          "parcoords": [
           {
            "line": {
             "colorbar": {
              "outlinewidth": 0,
              "ticks": ""
             }
            },
            "type": "parcoords"
           }
          ],
          "pie": [
           {
            "automargin": true,
            "type": "pie"
           }
          ],
          "scatter": [
           {
            "fillpattern": {
             "fillmode": "overlay",
             "size": 10,
             "solidity": 0.2
            },
            "type": "scatter"
           }
          ],
          "scatter3d": [
           {
            "line": {
             "colorbar": {
              "outlinewidth": 0,
              "ticks": ""
             }
            },
            "marker": {
             "colorbar": {
              "outlinewidth": 0,
              "ticks": ""
             }
            },
            "type": "scatter3d"
           }
          ],
          "scattercarpet": [
           {
            "marker": {
             "colorbar": {
              "outlinewidth": 0,
              "ticks": ""
             }
            },
            "type": "scattercarpet"
           }
          ],
          "scattergeo": [
           {
            "marker": {
             "colorbar": {
              "outlinewidth": 0,
              "ticks": ""
             }
            },
            "type": "scattergeo"
           }
          ],
          "scattergl": [
           {
            "marker": {
             "colorbar": {
              "outlinewidth": 0,
              "ticks": ""
             }
            },
            "type": "scattergl"
           }
          ],
          "scattermapbox": [
           {
            "marker": {
             "colorbar": {
              "outlinewidth": 0,
              "ticks": ""
             }
            },
            "type": "scattermapbox"
           }
          ],
          "scatterpolar": [
           {
            "marker": {
             "colorbar": {
              "outlinewidth": 0,
              "ticks": ""
             }
            },
            "type": "scatterpolar"
           }
          ],
          "scatterpolargl": [
           {
            "marker": {
             "colorbar": {
              "outlinewidth": 0,
              "ticks": ""
             }
            },
            "type": "scatterpolargl"
           }
          ],
          "scatterternary": [
           {
            "marker": {
             "colorbar": {
              "outlinewidth": 0,
              "ticks": ""
             }
            },
            "type": "scatterternary"
           }
          ],
          "surface": [
           {
            "colorbar": {
             "outlinewidth": 0,
             "ticks": ""
            },
            "colorscale": [
             [
              0,
              "#0d0887"
             ],
             [
              0.1111111111111111,
              "#46039f"
             ],
             [
              0.2222222222222222,
              "#7201a8"
             ],
             [
              0.3333333333333333,
              "#9c179e"
             ],
             [
              0.4444444444444444,
              "#bd3786"
             ],
             [
              0.5555555555555556,
              "#d8576b"
             ],
             [
              0.6666666666666666,
              "#ed7953"
             ],
             [
              0.7777777777777778,
              "#fb9f3a"
             ],
             [
              0.8888888888888888,
              "#fdca26"
             ],
             [
              1,
              "#f0f921"
             ]
            ],
            "type": "surface"
           }
          ],
          "table": [
           {
            "cells": {
             "fill": {
              "color": "#EBF0F8"
             },
             "line": {
              "color": "white"
             }
            },
            "header": {
             "fill": {
              "color": "#C8D4E3"
             },
             "line": {
              "color": "white"
             }
            },
            "type": "table"
           }
          ]
         },
         "layout": {
          "annotationdefaults": {
           "arrowcolor": "#2a3f5f",
           "arrowhead": 0,
           "arrowwidth": 1
          },
          "autotypenumbers": "strict",
          "coloraxis": {
           "colorbar": {
            "outlinewidth": 0,
            "ticks": ""
           }
          },
          "colorscale": {
           "diverging": [
            [
             0,
             "#8e0152"
            ],
            [
             0.1,
             "#c51b7d"
            ],
            [
             0.2,
             "#de77ae"
            ],
            [
             0.3,
             "#f1b6da"
            ],
            [
             0.4,
             "#fde0ef"
            ],
            [
             0.5,
             "#f7f7f7"
            ],
            [
             0.6,
             "#e6f5d0"
            ],
            [
             0.7,
             "#b8e186"
            ],
            [
             0.8,
             "#7fbc41"
            ],
            [
             0.9,
             "#4d9221"
            ],
            [
             1,
             "#276419"
            ]
           ],
           "sequential": [
            [
             0,
             "#0d0887"
            ],
            [
             0.1111111111111111,
             "#46039f"
            ],
            [
             0.2222222222222222,
             "#7201a8"
            ],
            [
             0.3333333333333333,
             "#9c179e"
            ],
            [
             0.4444444444444444,
             "#bd3786"
            ],
            [
             0.5555555555555556,
             "#d8576b"
            ],
            [
             0.6666666666666666,
             "#ed7953"
            ],
            [
             0.7777777777777778,
             "#fb9f3a"
            ],
            [
             0.8888888888888888,
             "#fdca26"
            ],
            [
             1,
             "#f0f921"
            ]
           ],
           "sequentialminus": [
            [
             0,
             "#0d0887"
            ],
            [
             0.1111111111111111,
             "#46039f"
            ],
            [
             0.2222222222222222,
             "#7201a8"
            ],
            [
             0.3333333333333333,
             "#9c179e"
            ],
            [
             0.4444444444444444,
             "#bd3786"
            ],
            [
             0.5555555555555556,
             "#d8576b"
            ],
            [
             0.6666666666666666,
             "#ed7953"
            ],
            [
             0.7777777777777778,
             "#fb9f3a"
            ],
            [
             0.8888888888888888,
             "#fdca26"
            ],
            [
             1,
             "#f0f921"
            ]
           ]
          },
          "colorway": [
           "#636efa",
           "#EF553B",
           "#00cc96",
           "#ab63fa",
           "#FFA15A",
           "#19d3f3",
           "#FF6692",
           "#B6E880",
           "#FF97FF",
           "#FECB52"
          ],
          "font": {
           "color": "#2a3f5f"
          },
          "geo": {
           "bgcolor": "white",
           "lakecolor": "white",
           "landcolor": "#E5ECF6",
           "showlakes": true,
           "showland": true,
           "subunitcolor": "white"
          },
          "hoverlabel": {
           "align": "left"
          },
          "hovermode": "closest",
          "mapbox": {
           "style": "light"
          },
          "paper_bgcolor": "white",
          "plot_bgcolor": "#E5ECF6",
          "polar": {
           "angularaxis": {
            "gridcolor": "white",
            "linecolor": "white",
            "ticks": ""
           },
           "bgcolor": "#E5ECF6",
           "radialaxis": {
            "gridcolor": "white",
            "linecolor": "white",
            "ticks": ""
           }
          },
          "scene": {
           "xaxis": {
            "backgroundcolor": "#E5ECF6",
            "gridcolor": "white",
            "gridwidth": 2,
            "linecolor": "white",
            "showbackground": true,
            "ticks": "",
            "zerolinecolor": "white"
           },
           "yaxis": {
            "backgroundcolor": "#E5ECF6",
            "gridcolor": "white",
            "gridwidth": 2,
            "linecolor": "white",
            "showbackground": true,
            "ticks": "",
            "zerolinecolor": "white"
           },
           "zaxis": {
            "backgroundcolor": "#E5ECF6",
            "gridcolor": "white",
            "gridwidth": 2,
            "linecolor": "white",
            "showbackground": true,
            "ticks": "",
            "zerolinecolor": "white"
           }
          },
          "shapedefaults": {
           "line": {
            "color": "#2a3f5f"
           }
          },
          "ternary": {
           "aaxis": {
            "gridcolor": "white",
            "linecolor": "white",
            "ticks": ""
           },
           "baxis": {
            "gridcolor": "white",
            "linecolor": "white",
            "ticks": ""
           },
           "bgcolor": "#E5ECF6",
           "caxis": {
            "gridcolor": "white",
            "linecolor": "white",
            "ticks": ""
           }
          },
          "title": {
           "x": 0.05
          },
          "xaxis": {
           "automargin": true,
           "gridcolor": "white",
           "linecolor": "white",
           "ticks": "",
           "title": {
            "standoff": 15
           },
           "zerolinecolor": "white",
           "zerolinewidth": 2
          },
          "yaxis": {
           "automargin": true,
           "gridcolor": "white",
           "linecolor": "white",
           "ticks": "",
           "title": {
            "standoff": 15
           },
           "zerolinecolor": "white",
           "zerolinewidth": 2
          }
         }
        },
        "xaxis": {
         "anchor": "y",
         "categoryorder": "total descending",
         "domain": [
          0,
          1
         ],
         "title": {
          "text": "Сегмент"
         }
        },
        "yaxis": {
         "anchor": "x",
         "domain": [
          0,
          1
         ],
         "title": {
          "text": "Выручка"
         }
        }
       }
      },
      "text/html": [
       "<div>                            <div id=\"0b800832-1d82-4cd4-bd73-44dd1a486099\" class=\"plotly-graph-div\" style=\"height:525px; width:100%;\"></div>            <script type=\"text/javascript\">                require([\"plotly\"], function(Plotly) {                    window.PLOTLYENV=window.PLOTLYENV || {};                                    if (document.getElementById(\"0b800832-1d82-4cd4-bd73-44dd1a486099\")) {                    Plotly.newPlot(                        \"0b800832-1d82-4cd4-bd73-44dd1a486099\",                        [{\"alignmentgroup\":\"True\",\"hovertemplate\":\"RFMClass=%{x}<br>monetary_value=%{y}<extra></extra>\",\"legendgroup\":\"\",\"marker\":{\"color\":\"#636efa\",\"pattern\":{\"shape\":\"\"}},\"name\":\"\",\"offsetgroup\":\"\",\"orientation\":\"v\",\"showlegend\":false,\"textposition\":\"auto\",\"x\":[\"412\",\"212\",\"413\",\"214\",\"414\",\"214\",\"113\",\"113\",\"211\",\"213\",\"211\",\"414\",\"213\",\"413\",\"414\",\"414\",\"412\",\"344\",\"213\",\"414\",\"414\",\"312\",\"114\",\"211\",\"311\",\"213\",\"412\",\"114\",\"411\",\"411\",\"314\",\"211\",\"411\",\"313\",\"412\",\"412\",\"144\",\"214\",\"212\",\"311\",\"114\",\"314\",\"113\",\"411\",\"412\",\"413\",\"114\",\"213\",\"212\",\"414\",\"213\",\"113\",\"212\",\"112\",\"412\",\"313\",\"412\",\"413\",\"413\",\"413\",\"313\",\"211\",\"214\",\"111\",\"313\",\"212\",\"214\",\"211\",\"312\",\"312\",\"411\",\"213\",\"212\",\"212\",\"343\",\"413\",\"411\",\"312\",\"114\",\"414\",\"311\",\"241\",\"212\",\"311\",\"313\",\"213\",\"412\",\"114\",\"111\",\"212\",\"411\",\"312\",\"213\",\"214\",\"112\",\"313\",\"212\",\"211\",\"214\",\"112\",\"414\",\"412\",\"244\",\"212\",\"311\",\"113\",\"441\",\"313\",\"414\",\"113\",\"412\",\"112\",\"113\",\"211\",\"113\",\"113\",\"411\",\"413\",\"112\",\"113\",\"314\",\"312\",\"114\",\"444\",\"311\",\"412\",\"312\",\"412\",\"313\",\"212\",\"111\",\"111\",\"313\",\"111\",\"313\",\"112\",\"414\",\"244\",\"314\",\"213\",\"213\",\"113\",\"214\",\"313\",\"313\",\"411\",\"112\",\"211\",\"211\",\"114\",\"414\",\"413\",\"314\",\"213\",\"412\",\"312\",\"211\",\"411\",\"314\",\"211\",\"312\",\"314\",\"311\",\"113\",\"312\",\"241\",\"114\",\"412\",\"211\",\"214\",\"312\",\"444\",\"411\",\"114\",\"413\",\"414\",\"211\",\"212\",\"113\",\"114\",\"212\",\"211\",\"112\",\"114\",\"212\",\"211\",\"344\",\"311\",\"411\",\"311\",\"112\",\"411\",\"114\",\"114\",\"214\",\"311\",\"412\",\"114\",\"342\",\"312\",\"411\",\"111\",\"113\",\"211\",\"211\",\"312\",\"312\",\"213\",\"113\",\"113\",\"114\",\"311\",\"411\",\"211\",\"314\",\"314\",\"313\",\"411\",\"213\",\"111\",\"311\",\"313\",\"312\",\"313\",\"412\",\"113\",\"111\",\"311\",\"314\",\"113\",\"413\",\"113\",\"312\",\"313\",\"314\",\"114\",\"311\",\"114\",\"213\",\"311\",\"311\",\"412\",\"214\",\"311\",\"314\",\"411\",\"112\",\"112\",\"214\",\"213\",\"314\",\"212\",\"142\",\"114\",\"411\",\"412\",\"414\",\"413\",\"113\",\"112\",\"414\",\"113\",\"214\",\"243\",\"412\",\"112\",\"414\",\"112\",\"212\",\"211\",\"213\",\"411\",\"314\",\"314\",\"413\",\"111\",\"311\",\"411\",\"414\",\"442\",\"114\",\"311\",\"312\",\"414\",\"311\",\"413\",\"311\",\"411\",\"414\",\"213\",\"213\",\"214\",\"212\",\"411\",\"214\",\"314\",\"413\",\"113\",\"113\",\"411\",\"311\",\"314\",\"313\",\"413\",\"214\",\"213\",\"211\",\"214\",\"414\",\"441\",\"311\",\"211\",\"113\",\"111\",\"113\",\"312\",\"411\",\"412\",\"311\",\"311\",\"442\",\"312\",\"314\",\"213\",\"212\",\"414\",\"212\",\"211\",\"411\",\"313\",\"414\",\"214\",\"114\",\"413\",\"312\",\"311\",\"411\",\"412\",\"111\",\"213\",\"411\",\"412\",\"111\",\"113\",\"211\",\"214\",\"211\",\"413\",\"112\",\"112\",\"112\",\"342\",\"214\",\"214\",\"314\",\"212\",\"313\",\"413\",\"312\",\"213\",\"143\",\"211\",\"311\",\"413\",\"313\",\"113\",\"413\",\"111\",\"114\",\"314\",\"114\",\"313\",\"311\",\"214\",\"111\",\"111\",\"312\",\"442\",\"311\",\"214\",\"313\",\"112\",\"312\",\"212\",\"311\",\"111\",\"212\",\"211\",\"412\",\"311\",\"112\",\"112\",\"113\",\"311\",\"114\",\"113\",\"311\",\"412\",\"314\",\"214\",\"212\",\"112\",\"413\",\"113\",\"111\",\"412\",\"311\",\"211\",\"112\",\"314\",\"113\",\"114\",\"112\",\"444\",\"212\",\"114\",\"411\",\"311\",\"214\",\"414\",\"314\",\"413\",\"211\",\"314\",\"411\",\"114\",\"311\",\"441\",\"111\",\"212\",\"112\",\"313\",\"111\",\"313\",\"214\",\"411\",\"112\",\"214\",\"313\",\"313\",\"412\",\"311\",\"214\",\"411\",\"111\",\"411\",\"414\",\"114\",\"114\",\"314\",\"411\",\"112\",\"411\",\"113\",\"112\",\"212\",\"414\",\"314\",\"113\",\"111\",\"412\",\"214\",\"412\",\"313\",\"412\",\"314\",\"314\",\"313\",\"143\",\"413\",\"312\",\"113\",\"113\",\"114\",\"414\",\"414\",\"312\",\"344\",\"414\",\"214\",\"412\",\"411\",\"411\",\"214\",\"412\",\"344\",\"211\",\"114\",\"312\",\"312\",\"112\",\"114\",\"311\",\"313\",\"414\",\"244\",\"311\",\"411\",\"343\",\"112\",\"413\",\"212\",\"411\",\"412\",\"314\",\"311\",\"113\",\"211\",\"211\",\"312\",\"413\",\"112\",\"314\",\"211\",\"411\",\"113\",\"214\",\"444\",\"143\",\"113\",\"211\",\"314\",\"444\",\"414\",\"414\",\"212\",\"311\",\"314\",\"213\",\"311\",\"312\",\"413\",\"211\",\"214\",\"311\",\"313\",\"212\",\"211\",\"213\",\"114\",\"313\",\"113\",\"114\",\"413\",\"213\",\"212\",\"213\",\"211\",\"412\",\"212\",\"213\",\"114\",\"412\",\"314\",\"313\",\"312\",\"214\",\"313\",\"213\",\"113\",\"212\",\"242\",\"314\",\"213\",\"113\",\"311\",\"313\",\"144\",\"311\",\"212\",\"313\",\"114\",\"411\",\"312\",\"313\",\"412\",\"114\",\"313\",\"313\",\"113\",\"211\",\"414\",\"211\",\"212\",\"411\",\"214\",\"314\",\"213\",\"212\",\"111\",\"413\",\"313\",\"342\",\"114\",\"241\",\"413\",\"211\",\"112\",\"411\",\"111\",\"411\",\"212\",\"411\",\"312\",\"113\",\"414\",\"413\",\"314\",\"314\",\"213\",\"312\",\"412\",\"113\",\"311\",\"112\",\"312\",\"212\",\"314\",\"314\",\"411\",\"312\",\"211\",\"413\",\"442\",\"112\",\"311\",\"113\",\"214\",\"113\",\"114\",\"212\",\"113\",\"411\",\"411\",\"413\",\"214\",\"413\",\"411\",\"112\",\"112\",\"113\",\"312\",\"213\",\"211\",\"112\",\"214\",\"211\",\"311\",\"411\",\"211\",\"114\",\"314\",\"113\",\"313\",\"414\",\"344\",\"213\",\"311\",\"413\",\"114\",\"311\",\"313\",\"413\",\"344\",\"411\",\"414\",\"113\",\"114\",\"143\",\"313\",\"313\",\"414\",\"213\",\"214\",\"414\",\"314\",\"414\",\"214\",\"114\",\"211\",\"414\",\"311\",\"212\",\"411\",\"212\",\"413\",\"211\",\"411\",\"311\",\"212\",\"213\",\"111\",\"412\",\"212\",\"211\",\"313\",\"114\",\"113\",\"312\",\"111\",\"412\",\"114\",\"212\",\"114\",\"114\",\"114\",\"144\",\"413\",\"412\",\"213\",\"113\",\"411\",\"242\",\"312\",\"413\",\"111\",\"312\",\"411\",\"214\",\"414\",\"413\",\"313\",\"314\",\"211\",\"214\",\"211\",\"312\",\"211\",\"312\",\"312\",\"411\",\"111\",\"112\",\"413\",\"311\",\"413\",\"413\",\"411\",\"444\",\"311\",\"113\",\"311\",\"113\",\"113\",\"112\",\"442\",\"411\",\"213\",\"412\",\"212\",\"413\",\"412\",\"112\",\"312\",\"214\",\"112\",\"414\",\"444\",\"412\",\"213\",\"111\",\"413\",\"211\",\"312\",\"114\",\"212\",\"211\",\"244\",\"411\",\"111\",\"412\",\"411\",\"411\",\"413\",\"414\",\"444\",\"212\",\"412\",\"314\",\"214\",\"113\",\"213\",\"413\",\"413\",\"314\",\"113\",\"212\",\"111\",\"411\",\"414\",\"214\",\"213\",\"313\",\"214\",\"311\",\"411\",\"213\",\"111\",\"312\",\"314\",\"112\",\"311\",\"244\",\"312\",\"112\",\"411\",\"314\",\"413\",\"211\",\"311\",\"412\",\"344\",\"412\",\"312\",\"112\",\"443\",\"213\",\"412\",\"314\",\"213\",\"112\",\"112\",\"312\",\"414\",\"411\",\"112\",\"414\",\"113\",\"113\",\"214\",\"413\",\"313\",\"411\",\"314\",\"212\",\"314\",\"214\",\"312\",\"114\",\"412\",\"242\",\"414\",\"412\",\"412\",\"411\",\"114\",\"414\",\"111\",\"443\",\"344\",\"411\",\"211\",\"113\",\"112\",\"413\",\"112\",\"314\",\"411\",\"211\",\"413\",\"312\",\"112\",\"311\",\"241\",\"413\",\"311\",\"344\",\"112\",\"313\",\"211\",\"213\",\"411\",\"313\",\"213\",\"314\",\"211\",\"211\",\"414\",\"111\",\"111\",\"414\",\"414\",\"311\",\"212\",\"213\",\"111\",\"414\",\"113\",\"214\",\"414\",\"412\",\"244\",\"112\",\"311\",\"213\",\"412\",\"312\",\"312\",\"212\",\"412\",\"211\",\"111\",\"212\",\"213\",\"313\",\"442\",\"312\",\"414\",\"114\",\"413\",\"312\",\"411\",\"413\",\"312\",\"114\",\"213\",\"212\",\"412\",\"111\",\"211\",\"413\",\"414\",\"114\",\"212\",\"114\",\"313\",\"211\",\"312\",\"412\",\"413\",\"313\",\"114\",\"111\",\"312\",\"312\",\"411\",\"211\",\"413\",\"413\",\"212\",\"311\",\"211\",\"211\",\"112\",\"113\",\"113\",\"343\",\"114\",\"411\",\"313\",\"411\",\"314\",\"214\",\"314\",\"411\",\"214\",\"214\",\"214\",\"413\",\"111\",\"241\",\"311\",\"211\",\"113\",\"444\",\"212\",\"113\",\"114\",\"412\",\"442\",\"311\",\"312\",\"313\",\"314\",\"213\",\"214\",\"442\",\"312\",\"413\",\"212\",\"112\",\"311\",\"314\",\"413\",\"114\",\"412\",\"311\",\"311\",\"114\",\"214\",\"113\",\"414\",\"211\",\"311\",\"114\",\"411\",\"412\",\"412\",\"112\",\"214\",\"211\",\"213\",\"211\",\"414\",\"142\",\"214\",\"311\",\"113\",\"212\",\"313\",\"412\",\"111\",\"112\",\"412\",\"412\",\"214\",\"113\",\"311\",\"113\",\"412\",\"111\",\"413\",\"411\",\"113\",\"244\",\"112\",\"413\",\"111\",\"412\",\"313\",\"111\",\"312\",\"214\",\"114\",\"213\",\"311\",\"214\",\"414\",\"314\",\"114\",\"412\",\"312\",\"214\",\"412\",\"212\",\"112\",\"114\",\"414\",\"113\",\"342\",\"114\",\"412\",\"241\",\"312\",\"411\",\"211\",\"444\",\"111\",\"112\",\"311\",\"413\",\"313\",\"113\",\"213\",\"312\",\"213\",\"444\",\"311\",\"113\",\"413\",\"214\",\"114\",\"314\",\"114\",\"214\",\"112\",\"113\",\"212\",\"212\",\"211\",\"413\",\"111\",\"212\",\"312\",\"412\",\"413\",\"214\",\"113\",\"412\",\"414\",\"414\",\"313\",\"211\",\"311\",\"212\",\"114\",\"312\",\"411\",\"213\",\"114\",\"112\",\"411\",\"112\",\"113\",\"112\",\"213\",\"414\",\"314\",\"414\",\"211\",\"242\",\"114\",\"411\",\"112\",\"411\",\"411\",\"113\",\"214\",\"444\",\"414\",\"414\",\"344\",\"444\",\"112\",\"313\",\"342\",\"113\",\"414\",\"313\",\"113\",\"411\",\"412\",\"111\",\"214\",\"114\",\"414\",\"113\",\"311\",\"342\",\"314\",\"411\",\"314\",\"343\",\"313\",\"213\",\"114\",\"114\",\"213\",\"214\",\"112\",\"311\",\"243\",\"114\",\"113\",\"213\",\"113\",\"111\",\"311\",\"313\",\"214\",\"314\",\"411\",\"112\",\"412\",\"412\",\"311\",\"214\",\"311\",\"312\",\"211\",\"441\",\"413\",\"413\",\"414\",\"212\",\"213\",\"344\",\"214\",\"412\",\"113\",\"114\",\"114\",\"413\",\"311\",\"411\",\"313\",\"314\",\"314\",\"314\",\"112\",\"414\",\"113\",\"114\",\"411\",\"112\",\"313\",\"212\",\"112\",\"212\",\"411\",\"212\",\"311\",\"211\",\"212\",\"214\",\"114\",\"211\",\"411\",\"211\",\"113\",\"313\",\"311\",\"243\",\"211\",\"343\",\"212\",\"113\",\"112\",\"114\",\"314\",\"314\",\"412\",\"414\",\"311\",\"342\",\"211\",\"413\",\"412\",\"412\",\"411\",\"112\",\"111\",\"411\",\"111\",\"412\",\"113\",\"312\",\"243\",\"213\",\"114\",\"313\",\"114\",\"411\",\"212\",\"413\",\"113\",\"212\",\"313\",\"414\",\"311\",\"412\",\"312\",\"112\",\"411\",\"111\",\"413\",\"414\",\"411\",\"312\",\"314\",\"414\",\"214\",\"412\",\"413\",\"114\",\"112\",\"213\",\"413\",\"312\",\"211\",\"113\",\"212\",\"411\",\"313\",\"214\",\"214\",\"312\",\"111\",\"212\",\"113\",\"312\",\"413\",\"312\",\"211\",\"313\",\"213\",\"111\",\"214\",\"211\",\"113\",\"111\",\"112\",\"314\",\"213\",\"412\",\"212\",\"414\",\"114\",\"142\",\"114\",\"212\",\"412\",\"212\",\"311\",\"213\",\"314\",\"114\",\"214\",\"114\",\"311\",\"413\",\"112\",\"211\",\"414\",\"311\",\"412\",\"113\",\"112\",\"112\",\"312\",\"411\",\"312\",\"212\",\"411\",\"444\",\"411\",\"411\",\"413\",\"414\",\"313\",\"314\",\"313\",\"213\",\"212\",\"114\",\"313\",\"213\",\"112\",\"413\",\"113\",\"344\",\"313\",\"113\",\"311\",\"311\",\"413\",\"114\",\"411\",\"414\",\"212\",\"114\",\"142\",\"312\",\"113\",\"114\",\"311\",\"214\",\"113\",\"211\",\"213\",\"112\",\"111\",\"441\",\"213\",\"113\",\"313\",\"412\",\"412\",\"344\",\"411\",\"213\",\"113\",\"314\",\"344\",\"214\",\"211\",\"411\",\"111\",\"213\",\"211\",\"344\",\"111\",\"213\",\"311\",\"413\",\"211\",\"343\",\"114\",\"312\",\"413\",\"212\",\"212\",\"413\",\"111\",\"314\",\"314\",\"411\",\"311\",\"414\",\"211\",\"114\",\"311\",\"413\",\"213\",\"112\",\"341\",\"113\",\"113\",\"413\",\"314\",\"213\",\"214\",\"214\",\"212\",\"312\",\"313\",\"112\",\"112\",\"113\",\"211\",\"211\",\"413\",\"313\",\"412\",\"243\",\"212\",\"313\",\"113\",\"313\",\"113\",\"412\",\"412\",\"112\",\"211\",\"314\",\"214\",\"113\",\"311\",\"112\",\"414\",\"311\",\"313\",\"313\",\"114\",\"413\",\"214\",\"212\",\"314\",\"113\",\"212\",\"114\",\"114\",\"313\",\"113\",\"312\",\"314\",\"311\",\"213\",\"313\",\"411\",\"413\",\"214\",\"312\",\"114\",\"312\",\"444\",\"312\",\"213\",\"114\",\"111\",\"114\",\"411\",\"411\",\"312\",\"112\",\"344\",\"211\",\"411\",\"412\",\"313\",\"112\",\"211\",\"413\",\"412\",\"213\",\"112\",\"114\",\"114\",\"313\",\"211\",\"113\",\"114\",\"212\",\"112\",\"211\",\"111\",\"411\",\"111\",\"312\",\"213\",\"412\",\"311\",\"313\",\"214\",\"211\",\"411\",\"414\",\"344\",\"214\",\"212\",\"413\",\"113\",\"114\",\"413\",\"414\",\"411\",\"112\",\"312\",\"314\",\"211\",\"313\",\"212\",\"112\",\"341\",\"213\",\"344\",\"412\",\"412\",\"111\",\"113\",\"112\",\"343\",\"214\",\"311\",\"313\",\"214\",\"214\",\"311\",\"312\",\"112\",\"412\",\"443\",\"343\",\"112\",\"443\",\"211\",\"311\",\"312\",\"211\",\"411\",\"113\",\"113\",\"212\",\"313\",\"114\",\"213\",\"411\",\"213\",\"312\",\"113\",\"414\",\"213\",\"112\",\"212\",\"412\",\"111\",\"212\",\"314\",\"213\",\"212\",\"411\",\"411\",\"111\",\"211\",\"113\",\"311\",\"311\",\"213\",\"314\",\"413\",\"311\",\"113\",\"213\",\"314\",\"213\",\"311\",\"113\",\"212\",\"212\",\"311\",\"413\",\"112\",\"214\",\"211\",\"211\",\"412\",\"413\",\"211\",\"114\",\"444\",\"314\",\"111\",\"414\",\"411\",\"113\",\"411\",\"113\",\"412\",\"311\",\"312\",\"112\",\"443\",\"412\",\"313\",\"413\",\"111\",\"412\",\"212\",\"411\",\"311\",\"412\",\"413\",\"211\",\"311\",\"213\",\"212\",\"413\",\"144\",\"212\",\"113\",\"111\",\"212\",\"114\",\"114\",\"114\",\"314\",\"213\",\"114\",\"311\",\"314\",\"413\",\"112\",\"112\",\"114\",\"112\",\"241\",\"113\",\"112\",\"114\",\"111\",\"413\",\"211\",\"311\",\"213\",\"112\",\"311\",\"213\",\"213\",\"114\",\"412\",\"312\",\"212\",\"314\",\"211\",\"313\",\"111\",\"413\",\"414\",\"212\",\"313\",\"111\",\"212\",\"313\",\"213\",\"344\",\"113\",\"111\",\"312\",\"114\",\"312\",\"213\",\"241\",\"313\",\"144\",\"212\",\"344\",\"114\",\"414\",\"113\",\"213\",\"212\",\"414\",\"311\",\"112\",\"214\",\"311\",\"311\",\"213\",\"411\",\"312\",\"311\",\"313\",\"312\",\"213\",\"212\",\"311\",\"112\",\"214\",\"113\",\"112\",\"214\",\"313\",\"213\",\"312\",\"112\",\"213\",\"112\",\"312\",\"314\",\"113\",\"412\",\"113\",\"414\",\"212\",\"111\",\"312\",\"212\",\"112\",\"314\",\"312\",\"314\",\"114\",\"311\",\"113\",\"112\",\"111\",\"414\",\"413\",\"212\",\"113\",\"114\",\"213\",\"114\",\"211\",\"413\",\"412\",\"213\",\"114\",\"111\",\"312\",\"414\",\"311\",\"344\",\"343\",\"313\",\"112\",\"213\",\"112\",\"214\",\"113\",\"413\",\"414\",\"411\",\"314\",\"213\",\"414\",\"412\",\"112\",\"111\",\"111\",\"313\",\"311\",\"412\",\"414\",\"311\",\"312\",\"312\",\"214\",\"312\",\"241\",\"213\",\"313\",\"112\",\"212\",\"313\",\"114\",\"112\",\"213\",\"411\",\"414\",\"412\",\"311\",\"312\",\"313\",\"414\",\"313\",\"213\",\"111\",\"411\",\"211\",\"214\",\"412\",\"213\",\"414\",\"411\",\"214\",\"313\",\"214\",\"213\",\"114\",\"212\",\"113\",\"311\",\"314\",\"112\",\"312\",\"211\",\"111\",\"212\",\"112\",\"214\",\"313\",\"214\",\"412\",\"112\",\"212\",\"211\",\"112\",\"414\",\"113\",\"312\",\"414\",\"413\",\"211\",\"414\",\"311\",\"212\",\"244\",\"314\",\"112\",\"312\",\"411\",\"411\",\"312\",\"113\",\"413\",\"244\",\"314\",\"413\",\"111\",\"114\",\"214\",\"211\",\"314\",\"114\",\"413\",\"214\",\"211\",\"111\",\"311\",\"212\",\"112\",\"214\",\"213\",\"311\",\"411\",\"441\",\"312\",\"211\",\"112\",\"311\",\"112\",\"412\",\"111\",\"114\",\"213\",\"413\",\"314\",\"112\",\"314\",\"113\",\"411\",\"314\",\"113\",\"114\",\"213\",\"114\",\"442\",\"413\",\"313\",\"412\",\"114\",\"112\",\"214\",\"411\",\"211\",\"112\",\"413\",\"314\",\"214\",\"211\",\"112\",\"313\",\"211\",\"113\",\"114\",\"313\",\"211\",\"113\",\"444\",\"342\",\"314\",\"212\",\"413\",\"414\",\"111\",\"213\",\"411\",\"114\",\"113\",\"114\",\"114\",\"411\",\"311\",\"111\",\"343\",\"312\",\"114\",\"114\",\"111\",\"213\",\"211\",\"312\",\"114\",\"211\",\"112\",\"411\",\"112\",\"212\",\"314\",\"214\",\"312\",\"312\",\"311\",\"212\",\"411\",\"213\",\"314\",\"414\",\"112\",\"314\",\"314\",\"411\",\"112\",\"414\",\"213\",\"211\",\"313\",\"412\",\"213\",\"114\",\"313\",\"211\",\"411\",\"413\",\"311\",\"411\",\"114\",\"211\",\"112\",\"414\",\"413\",\"343\",\"313\",\"414\",\"113\",\"113\",\"113\",\"211\",\"411\",\"213\",\"212\",\"312\",\"213\",\"311\",\"312\",\"113\",\"113\",\"214\",\"411\",\"213\",\"414\",\"311\",\"312\",\"212\",\"114\",\"114\",\"413\",\"114\",\"441\",\"343\",\"114\",\"213\",\"413\",\"313\",\"313\",\"112\",\"313\",\"443\",\"411\",\"113\",\"412\",\"211\",\"111\",\"344\",\"212\",\"314\",\"113\",\"111\",\"313\",\"314\",\"113\",\"313\",\"112\",\"211\",\"413\",\"112\",\"213\",\"114\",\"313\",\"113\",\"214\",\"113\",\"214\",\"214\",\"211\",\"411\",\"113\",\"313\",\"214\",\"414\",\"114\",\"112\",\"311\",\"211\",\"213\",\"313\",\"212\",\"111\",\"412\",\"314\",\"114\",\"411\",\"311\",\"112\",\"144\",\"412\",\"312\",\"213\",\"211\",\"311\",\"213\",\"344\",\"242\",\"313\",\"313\",\"113\",\"312\",\"414\",\"342\",\"412\",\"212\",\"312\",\"212\",\"413\",\"113\",\"113\",\"113\",\"241\",\"313\",\"312\",\"411\",\"113\",\"412\",\"114\",\"412\",\"444\",\"212\",\"114\",\"314\",\"111\",\"114\",\"114\",\"212\",\"412\",\"411\",\"242\",\"411\",\"313\",\"312\",\"211\",\"114\",\"212\",\"212\",\"114\",\"213\",\"213\",\"312\",\"213\",\"411\",\"412\",\"112\",\"211\",\"311\",\"311\",\"211\",\"412\",\"212\",\"112\",\"311\",\"113\",\"113\",\"111\",\"312\",\"113\",\"114\",\"413\",\"411\",\"312\",\"211\",\"444\",\"311\",\"212\",\"214\",\"111\",\"114\",\"312\",\"314\",\"113\",\"314\",\"311\",\"111\",\"214\",\"211\",\"413\",\"411\",\"311\",\"412\",\"213\",\"243\",\"412\",\"214\",\"311\",\"311\",\"114\",\"344\",\"411\",\"411\",\"412\",\"211\",\"214\",\"213\",\"311\",\"114\",\"213\",\"212\",\"111\",\"413\",\"411\",\"211\",\"313\",\"413\",\"412\",\"241\",\"412\",\"212\",\"212\",\"414\",\"214\",\"213\",\"413\",\"441\",\"113\",\"244\",\"413\",\"112\",\"113\",\"411\",\"312\",\"211\",\"212\",\"413\",\"411\",\"413\",\"211\",\"114\",\"314\",\"111\",\"344\",\"213\",\"212\",\"312\",\"311\",\"211\",\"114\",\"242\",\"412\",\"442\",\"114\",\"114\",\"114\",\"214\",\"112\",\"114\",\"411\",\"113\",\"211\",\"414\",\"314\",\"214\",\"114\",\"411\",\"313\",\"311\",\"213\",\"212\",\"213\",\"144\",\"412\",\"312\",\"412\",\"313\",\"113\",\"114\",\"141\",\"413\",\"413\",\"243\",\"411\",\"313\",\"114\",\"211\",\"413\",\"314\",\"342\",\"113\",\"411\",\"342\",\"313\",\"311\",\"311\",\"411\",\"412\",\"242\",\"114\",\"411\",\"411\",\"211\",\"412\",\"411\",\"211\",\"214\",\"314\",\"211\",\"412\",\"112\",\"412\",\"111\",\"311\",\"312\",\"411\",\"413\",\"212\",\"111\",\"214\",\"314\",\"213\",\"111\",\"114\",\"143\",\"112\",\"112\",\"314\",\"313\",\"214\",\"412\",\"211\",\"411\",\"312\",\"312\",\"211\",\"411\",\"114\",\"312\",\"311\",\"312\",\"413\",\"312\",\"314\",\"111\",\"412\",\"412\",\"312\",\"344\",\"344\",\"313\",\"214\",\"211\",\"413\",\"211\",\"313\",\"413\",\"412\",\"211\",\"444\",\"313\",\"314\",\"411\",\"444\",\"313\",\"214\",\"211\",\"241\",\"244\",\"114\",\"111\",\"411\",\"311\",\"213\",\"114\",\"311\",\"411\",\"411\",\"413\",\"111\",\"213\",\"311\",\"311\",\"211\",\"213\",\"212\",\"411\",\"211\",\"113\",\"312\",\"413\",\"114\",\"213\",\"311\",\"114\",\"414\",\"212\",\"112\",\"212\",\"113\",\"212\",\"311\",\"113\",\"413\",\"344\",\"244\",\"414\",\"412\",\"112\",\"413\",\"412\"],\"xaxis\":\"x\",\"y\":[555.0,442.0,914.0,1649.0,2324.0,1536.0,1199.0,937.0,134.0,959.0,112.0,1798.0,1049.0,974.0,1574.0,2699.0,599.0,5891.0,940.0,2549.0,2924.0,408.0,5090.0,157.0,44.0,1214.0,524.0,1912.0,157.0,45.0,4574.0,134.0,150.0,1177.0,525.0,658.0,1926.0,2399.0,478.0,270.0,1574.0,4874.0,1049.0,30.0,599.0,734.0,1874.0,727.0,555.0,3599.0,1424.0,1424.0,614.0,427.0,554.0,1222.0,420.0,749.0,1199.0,675.0,688.0,44.0,2849.0,209.0,1087.0,442.0,3719.0,224.0,374.0,592.0,52.0,1120.0,412.0,518.0,1316.0,1424.0,74.0,376.0,3224.0,2474.0,157.0,134.0,328.0,59.0,1087.0,1199.0,592.0,2324.0,134.0,488.0,118.0,397.0,958.0,2099.0,464.0,1349.0,412.0,44.0,5775.0,374.0,1660.0,450.0,3740.0,516.0,232.0,1083.0,222.0,750.0,3712.0,1049.0,637.0,374.0,1101.0,236.0,945.0,1049.0,89.0,899.0,434.0,734.0,1804.0,389.0,1662.0,1538.0,88.0,472.0,374.0,510.0,1275.0,337.0,239.0,254.0,787.0,149.0,824.0,524.0,3298.0,2376.0,1912.0,812.0,764.0,712.0,2924.0,674.0,1049.0,262.0,637.0,59.0,134.0,1874.0,2460.0,1228.0,1874.0,1124.0,599.0,450.0,112.0,22.0,2549.0,120.0,374.0,1649.0,134.0,928.0,300.0,261.0,2923.0,524.0,176.0,1649.0,652.0,9148.0,149.0,1912.0,1168.0,1874.0,149.0,599.0,1199.0,3299.0,450.0,157.0,380.0,4859.0,599.0,74.0,5006.0,209.0,134.0,254.0,397.0,164.0,2187.0,2774.0,1780.0,284.0,500.0,2699.0,418.0,337.0,157.0,209.0,820.0,172.0,74.0,492.0,524.0,974.0,1049.0,1049.0,2374.0,118.0,224.0,209.0,2707.0,1434.0,899.0,66.0,898.0,59.0,74.0,690.0,445.0,928.0,577.0,1049.0,194.0,262.0,1574.0,899.0,853.0,734.0,360.0,1164.0,1649.0,3298.0,270.0,2549.0,727.0,200.0,134.0,374.0,2549.0,187.0,1784.0,224.0,449.0,486.0,2788.0,1237.0,2699.0,374.0,606.0,24370.0,119.0,402.0,1912.0,1424.0,824.0,300.0,1649.0,976.0,3674.0,1424.0,562.0,299.0,2774.0,449.0,299.0,59.0,824.0,150.0,1530.0,1949.0,749.0,127.0,134.0,239.0,2024.0,323.0,1475.0,164.0,584.0,3524.0,134.0,1087.0,232.0,112.0,4390.0,1087.0,727.0,2527.0,374.0,74.0,2549.0,1534.0,1087.0,930.0,749.0,225.0,22.0,4494.0,1087.0,1124.0,1649.0,734.0,209.0,4139.0,2136.0,268.0,88.0,134.0,974.0,15.0,1012.0,384.0,202.0,472.0,190.0,28.0,440.0,599.0,2236.0,974.0,614.0,1649.0,563.0,187.0,134.0,1087.0,1612.0,1794.0,4139.0,734.0,374.0,59.0,157.0,434.0,239.0,899.0,157.0,544.0,149.0,1274.0,134.0,2694.0,119.0,1087.0,363.0,442.0,300.0,411.0,2249.0,3448.0,3329.0,450.0,900.0,734.0,328.0,1198.0,1327.0,194.0,194.0,749.0,1350.0,1087.0,1424.0,193.0,1716.0,2280.0,2166.0,704.0,179.0,1649.0,59.0,239.0,344.0,640.0,134.0,1799.0,1076.0,380.0,487.0,509.0,22.0,134.0,600.0,157.0,562.0,127.0,375.0,307.0,894.0,157.0,2998.0,770.0,224.0,638.0,2549.0,2211.0,299.0,624.0,1124.0,1127.0,149.0,599.0,52.0,44.0,539.0,2527.0,749.0,2473.0,546.0,1574.0,524.0,3147.0,119.0,142.0,2699.0,2399.0,3705.0,974.0,164.0,1470.0,254.0,2624.0,134.0,95.0,164.0,652.0,478.0,808.0,224.0,1036.0,2324.0,59.0,488.0,1874.0,975.0,902.0,299.0,285.0,3329.0,224.0,149.0,149.0,1837.0,2699.0,1649.0,3074.0,97.0,374.0,150.0,1409.0,472.0,487.0,1649.0,2624.0,1274.0,44.0,546.0,1799.0,562.0,974.0,448.0,2928.0,2234.0,896.0,688.0,1087.0,430.0,697.0,674.0,1836.0,1642.0,2624.0,410.0,2174.0,1499.0,1649.0,599.0,195.0,110.0,4424.0,554.0,1799.0,59.0,2624.0,298.0,473.0,374.0,1797.0,74.0,734.0,5420.0,3824.0,134.0,59.0,1151.0,412.0,674.0,480.0,157.0,599.0,1800.0,52.0,824.0,134.0,59.0,405.0,697.0,490.0,3899.0,134.0,74.0,712.0,1471.0,1483.0,794.0,1012.0,127.0,2090.0,2736.0,1574.0,1649.0,667.0,97.0,1499.0,764.0,134.0,584.0,676.0,194.0,5098.0,164.0,752.0,652.0,104.0,1199.0,1574.0,674.0,974.0,2083.0,734.0,1275.0,449.0,727.0,112.0,299.0,599.0,1368.0,3440.0,389.0,1649.0,778.0,376.0,1724.0,1210.0,974.0,1274.0,389.0,342.0,2999.0,749.0,708.0,134.0,684.0,2450.0,74.0,449.0,1200.0,2550.0,66.0,404.0,742.0,445.0,1511.0,976.0,705.0,745.0,52.0,2249.0,224.0,405.0,44.0,3329.0,7870.0,922.0,487.0,225.0,745.0,674.0,574.0,2849.0,162.0,1424.0,148.0,539.0,172.0,59.0,195.0,442.0,74.0,599.0,1014.0,1649.0,1162.0,1457.0,1462.0,1215.0,434.0,307.0,1139.0,164.0,376.0,427.0,449.0,4312.0,3749.0,52.0,600.0,187.0,674.0,300.0,487.0,217.0,824.0,1572.0,1049.0,2924.0,314.0,749.0,134.0,149.0,1012.0,1649.0,1087.0,118.0,328.0,404.0,742.0,370.0,1198.0,112.0,637.0,1481.0,220.0,164.0,74.0,74.0,2024.0,1649.0,831.0,1148.0,1762.0,1782.0,1376.0,22.0,748.0,3524.0,208.0,734.0,1087.0,30440.0,82.0,3598.0,748.0,1987.0,1352.0,1196.0,830.0,3524.0,734.0,2849.0,1649.0,2528.0,1649.0,1677.0,1949.0,149.0,1874.0,74.0,635.0,172.0,494.0,937.0,187.0,134.0,74.0,590.0,974.0,187.0,375.0,300.0,157.0,749.0,1799.0,1049.0,442.0,200.0,404.0,1874.0,564.0,2324.0,2990.0,1949.0,51828.0,840.0,389.0,1056.0,802.0,157.0,626.0,374.0,1087.0,66.0,412.0,37.0,2998.0,1949.0,674.0,1012.0,4187.0,134.0,1800.0,134.0,464.0,135.0,539.0,388.0,188.0,112.0,329.0,1034.0,104.0,734.0,674.0,268.0,2548.0,74.0,1010.0,134.0,674.0,1191.0,665.0,598.0,260.0,1005.0,635.0,299.0,1124.0,577.0,418.0,336.0,4117.0,359.0,2774.0,6898.0,450.0,993.0,134.0,1274.0,149.0,561.0,3329.0,652.0,112.0,5398.0,149.0,148.0,375.0,202.0,22.0,1424.0,2025.0,1858.0,448.0,487.0,2230.0,2120.0,787.0,810.0,1050.0,952.0,1649.0,909.0,470.0,104.0,262.0,4648.0,2041.0,899.0,704.0,1949.0,134.0,74.0,1087.0,240.0,632.0,1649.0,514.0,277.0,53232.0,405.0,450.0,74.0,1837.0,712.0,134.0,269.0,412.0,2336.0,524.0,487.0,644.0,748.0,898.0,449.0,3674.0,1162.0,599.0,621.0,500.0,3599.0,157.0,427.0,2527.0,1199.0,1087.0,3599.0,929.0,742.0,75.0,2527.0,405.0,2254.0,2024.0,295.0,5024.0,329.0,434.0,1574.0,370.0,600.0,188.0,2209.0,2527.0,194.0,1048.0,3143.0,74.0,104.0,1049.0,292.0,1087.0,637.0,1588.0,74.0,104.0,974.0,299.0,447.0,59.0,291.0,674.0,134.0,3292.0,299.0,749.0,291.0,1350.0,104.0,869.0,727.0,3776.0,157.0,74.0,1447.0,134.0,149.0,3787.0,4724.0,249.0,357.0,689.0,149.0,1649.0,1349.0,2146.0,1499.0,450.0,1629.0,449.0,119.0,1180.0,596.0,299.0,475.0,598.0,599.0,119.0,81.0,637.0,749.0,830.0,596.0,466.0,5136.0,1799.0,1128.0,509.0,284.0,1087.0,600.0,2924.0,749.0,374.0,509.0,268.0,82.0,1349.0,2699.0,2996.0,376.0,2698.0,734.0,110.0,547.0,569.0,1087.0,974.0,1981.0,269.0,502.0,487.0,247.0,148.0,1124.0,836.0,569.0,284.0,67.0,286.0,449.0,974.0,1049.0,1160.0,1874.0,59.0,704.0,58.0,2180.0,1799.0,1574.0,149.0,3525.0,1949.0,2137.0,1087.0,89.0,208.0,200.0,134.0,974.0,3151.0,295.0,824.0,7722.0,412.0,660.0,142.0,419.0,1216.0,2624.0,734.0,1574.0,670.0,456.0,1108.0,299.0,440.0,277.0,4040.0,1424.0,2099.0,524.0,157.0,127.0,2849.0,1470.0,974.0,1498.0,157.0,134.0,5469.0,112.0,637.0,412.0,613.0,2399.0,134.0,832.0,67.0,1648.0,584.0,1874.0,148.0,750.0,413.0,712.0,412.0,149.0,479.0,592.0,450.0,1762.0,1347.0,239.0,1049.0,599.0,52.0,1050.0,42.0,974.0,1814.0,573.0,674.0,67.0,427.0,1018.0,247.0,449.0,1949.0,1490.0,1049.0,142.0,2624.0,2025.0,1574.0,1574.0,439.0,412.0,1649.0,320.0,487.0,376.0,2924.0,1612.0,1049.0,552.0,1547.0,450.0,253.0,592.0,134.0,119.0,14761.0,52.0,367.0,134.0,1162.0,925.0,734.0,937.0,328.0,1199.0,2120.0,134.0,1147.0,734.0,2399.0,1499.0,4558.0,3974.0,1916.0,298.0,1373.0,430.0,629.0,119.0,734.0,224.0,434.0,506.0,614.0,974.0,3749.0,749.0,300.0,2699.0,7496.0,1071.0,149.0,119.0,508.0,1798.0,593.0,217.0,824.0,2399.0,656.0,88.0,374.0,734.0,637.0,727.0,3375.0,1642.0,8810.0,208.0,607.0,1837.0,116.0,449.0,59.0,134.0,1049.0,1799.0,7950.0,2699.0,2137.0,2848.0,3223.0,343.0,1087.0,448.0,810.0,2849.0,734.0,898.0,119.0,598.0,134.0,2699.0,1686.0,1499.0,907.0,59.0,522.0,2174.0,174.0,3970.0,938.0,1087.0,1312.0,9915.0,4495.0,727.0,1574.0,374.0,236.0,725.0,1574.0,1213.0,783.0,689.0,88.0,209.0,848.0,2395.0,1574.0,225.0,299.0,614.0,552.0,200.0,1874.0,97.0,312.0,225.0,148.0,1048.0,742.0,4495.0,374.0,748.0,1603.0,2399.0,487.0,1049.0,1649.0,2109.0,749.0,232.0,254.0,976.0,5398.0,1498.0,2778.0,516.0,1612.0,1162.0,2999.0,59.0,442.0,899.0,487.0,614.0,464.0,97.0,413.0,134.0,104.0,524.0,3787.0,4867.0,148.0,112.0,127.0,922.0,734.0,157.0,859.0,187.0,786.0,307.0,734.0,614.0,4124.0,1649.0,3562.0,345.0,2774.0,262.0,448.0,74.0,750.0,449.0,577.0,232.0,638.0,267.0,188.0,202.0,599.0,1049.0,526.0,1088.0,974.0,1574.0,1035.0,2924.0,74.0,569.0,1210.0,749.0,488.0,734.0,3375.0,150.0,599.0,608.0,637.0,127.0,149.0,900.0,1500.0,268.0,374.0,3925.0,1949.0,1574.0,352.0,1199.0,1949.0,568.0,742.0,1199.0,352.0,202.0,712.0,637.0,82.0,1067.0,2924.0,1987.0,488.0,88.0,554.0,1049.0,524.0,862.0,637.0,209.0,1180.0,1087.0,224.0,3074.0,157.0,745.0,149.0,460.0,1499.0,727.0,329.0,540.0,1574.0,2249.0,597.0,3749.0,378.0,374.0,449.0,217.0,914.0,1483.0,3148.0,1515.0,4432.0,208.0,787.0,449.0,179.0,1649.0,231.0,404.0,1051.0,449.0,299.0,472.0,150.0,359.0,652.0,224.0,3674.0,187.0,134.0,1319.0,1699.0,1187.0,1974.0,726.0,1349.0,622.0,4949.0,900.0,727.0,418.0,1124.0,740.0,20232.0,1087.0,888.0,164.0,74.0,1050.0,3749.0,145.0,2549.0,413.0,1880.0,531.0,577.0,1049.0,1649.0,187.0,4272.0,1049.0,268.0,1199.0,637.0,74.0,230.0,1320.0,1238.0,1087.0,672.0,375.0,1508.0,134.0,1154.0,899.0,1649.0,1948.0,1649.0,74.0,149.0,45.0,1199.0,157.0,3154.0,236.0,742.0,280.0,728.0,194.0,1318.0,2999.0,488.0,1087.0,508.0,428.0,750.0,239.0,2527.0,2848.0,74.0,239.0,2658.0,225.0,2324.0,74.0,1087.0,1124.0,599.0,291.0,712.0,712.0,1199.0,3224.0,734.0,2247.0,3974.0,328.0,449.0,734.0,637.0,404.0,1199.0,44.0,104.0,1087.0,852.0,598.0,741.0,397.0,718.0,1124.0,824.0,1236.0,404.0,328.0,402.0,74.0,1949.0,3562.0,748.0,164.0,404.0,1900.0,74.0,964.0,937.0,2728.0,1368.0,1649.0,560.0,1642.0,742.0,524.0,22056.0,1874.0,749.0,1124.0,600.0,2050.0,254.0,727.0,824.0,177.0,1204.0,1799.0,300.0,4049.0,412.0,2961.0,568.0,727.0,2134.0,260.0,2441.0,37.0,220.0,448.0,599.0,1808.0,134.0,74.0,600.0,1381.0,299.0,114.0,1424.0,582.0,937.0,471.0,3006.0,3658.0,899.0,194.0,899.0,2699.0,667.0,547.0,87.0,188.0,88.0,188.0,329.0,899.0,564.0,190.0,898.0,1574.0,157.0,222.0,1856.0,2624.0,1910.0,598.0,975.0,1164.0,2249.0,1124.0,1800.0,134.0,447.0,299.0,1574.0,112.0,704.0,487.0,472.0,238.0,1090.0,5398.0,439.0,300.0,224.0,1203.0,447.0,876.0,2024.0,200.0,771.0,2800.0,1874.0,74.0,524.0,299.0,375.0,1199.0,1026.0,553.0,690.0,157.0,177.0,413.0,222.0,127.0,697.0,1049.0,539.0,1087.0,2849.0,1087.0,268.0,727.0,420.0,742.0,3524.0,742.0,464.0,580.0,376.0,149.0,344.0,2249.0,749.0,614.0,224.0,74.0,277.0,74.0,824.0,157.0,224.0,899.0,1799.0,899.0,87.0,1049.0,1167.0,1649.0,1302.0,209.0,899.0,614.0,299.0,58.0,1349.0,487.0,11000.0,74.0,268.0,449.0,862.0,134.0,2998.0,1762.0,1432.0,224.0,3749.0,157.0,1087.0,187.0,718.0,449.0,134.0,292.0,463.0,882.0,404.0,786.0,974.0,44.0,525.0,464.0,134.0,38.0,314.0,968.0,210.0,74.0,974.0,374.0,1087.0,1498.0,560.0,1087.0,224.0,614.0,1615.0,1949.0,1874.0,3787.0,1087.0,2624.0,268.0,2249.0,824.0,479.0,354.0,5160.0,300.0,268.0,750.0,582.0,3374.0,239.0,1101.0,127.0,240.0,727.0,479.0,52.0,922.0,1162.0,2999.0,314.0,596.0,603.0,2926.0,157.0,1292.0,149.0,1162.0,2249.0,449.0,1087.0,59.0,562.0,1087.0,750.0,2068.0,1049.0,280.0,314.0,3299.0,299.0,727.0,282.0,787.0,3223.0,434.0,3779.0,1799.0,4574.0,684.0,1087.0,562.0,1649.0,74.0,637.0,3329.0,187.0,97.0,959.0,224.0,562.0,44.0,734.0,591.0,710.0,374.0,149.0,524.0,1949.0,1012.0,299.0,1874.0,1087.0,1087.0,376.0,442.0,752.0,389.0,352.0,1612.0,704.0,478.0,820.0,6148.0,479.0,264.0,434.0,487.0,478.0,2001.0,295.0,3760.0,1912.0,164.0,1420.0,524.0,148.0,2699.0,749.0,592.0,750.0,1499.0,955.0,1648.0,240.0,1124.0,374.0,1087.0,1874.0,52.0,356.0,1649.0,284.0,4409.0,944.0,734.0,564.0,862.0,584.0,1949.0,749.0,830.0,3449.0,74.0,4303.0,1162.0,3779.0,637.0,464.0,247.0,59.0,1271.0,208.0,638.0,1649.0,224.0,524.0,397.0,1504.0,402.0,148.0,689.0,1424.0,447.0,300.0,1162.0,2098.0,374.0,900.0,134.0,4274.0,525.0,74.0,487.0,968.0,3149.0,787.0,1087.0,44.0,74.0,134.0,1994.0,472.0,802.0,3898.0,112.0,3112.0,734.0,2699.0,1087.0,3247.0,627.0,928.0,74.0,3620.0,434.0,599.0,134.0,210.0,554.0,427.0,4049.0,1087.0,1496.0,389.0,397.0,471.0,127.0,449.0,1949.0,749.0,562.0,2099.0,697.0,134.0,4124.0,149.0,449.0,1948.0,1499.0,637.0,520.0,157.0,164.0,569.0,742.0,1087.0,141787.0,2774.0,899.0,202.0,4499.0,1574.0,119.0,2421.0,2849.0,1087.0,1649.0,280.0,66.0,14.0,382.0,614.0,3524.0,735.0,194.0,262.0,261.0,296.0,66.0,374.0,254.0,651.0,577.0,156.0,3598.0,1424.0,1087.0,1916.0,356.0,2774.0,1281.0,134.0,4682.0,1049.0,1612.0,779.0,1612.0,298.0,824.0,954.0,599.0,1874.0,300.0,2699.0,225.0,239.0,336.0,824.0,1880.0,2249.0,164.0,584.0,749.0,149.0,1349.0,1949.0,988.0,187.0,1093.0,3261.0,589.0,3898.0,314.0,674.0,1649.0,194.0,1087.0,149.0,1574.0,708.0,1941.0,1723.0,97.0,208.0,156.0,1298.0,375.0,1473.0,3734.0,44.0,1087.0,74.0,540.0,2174.0,59.0,359.0,149.0,637.0,314.0,2850.0,5998.0,405.0,299.0,127.0,592.0,187.0,1162.0,10656.0,4198.0,631.0,1762.0,2922.0,134.0,450.0,2024.0,680.0,209.0,1266.0,646.0,776.0,1836.0,1218.0,67.0,187.0,899.0,22.0,240.0,1649.0,164.0,411.0,3562.0,745.0,1138.0,734.0,3580.0,852.0,937.0,1274.0,59.0,269.0,802.0,487.0,430.0,727.0,239.0,599.0,1049.0,1049.0,1574.0,194.0,1424.0,2399.0,74.0,397.0,524.0,1874.0,1856.0,935.0,1619.0,283.0,735.0,3298.0,741.0,1124.0,810.0,749.0,447.0,899.0,1228.0,22.0,1162.0,440.0,110.0,157.0,2233.0,374.0,1775.0,1237.0,89.0,974.0,3380.0,993.0,1348.0,524.0,44.0,1087.0,599.0,1087.0,5970.0,1128.0,1049.0,2699.0,1408.0,3562.0,2774.0,232.0,202.0,1012.0,1350.0,1724.0,3290.0,1649.0,412.0,198.0,149.0,674.0,1377.0,389.0,59.0,599.0,1664.0,2249.0,220.0,74.0,487.0,4161.0,562.0,488.0,1409.0,134.0,164.0,1344.0,2804.0,462.0,915.0,1087.0,1274.0,464.0,1949.0,636.0,600.0,300.0,502.0,569.0,1177.0,734.0,787.0,1049.0,231.0,1012.0,599.0,111.0,1199.0,300.0,2111.0,464.0,2548.0,599.0,2924.0,3974.0,164.0,4139.0,1574.0,487.0,450.0,127.0,553.0,208.0,974.0,389.0,225.0,2623.0,552.0,389.0,3329.0,893.0,1288.0,560.0,1415.0,254.0,652.0,567.0,104.0,134.0,134.0,209.0,442.0,444.0,598.0,157.0,1012.0,1346.0,225.0,555.0,1034.0,1461.0,838.0,74.0,487.0,134.0,3102.0,149.0,666.0,2999.0,262.0,4379.0,480.0,1574.0,1349.0,1949.0,120.0,112.0,1522.0,74.0,734.0,116.0,22.0,412.0,937.0,681.0,344.0,1574.0,74.0,194.0,2361.0,2903.0,142.0,59.0,389.0,88.0,1642.0,1012.0,217.0,2549.0,1012.0,492.0,149.0,974.0,134.0,134.0,914.0,938.0,449.0,118.0,599.0,299.0,389.0,3748.0,1649.0,974.0,749.0,268.0,974.0,2372.0,1424.0,584.0,1037.0,149.0,659.0,164.0,652.0,950.0,127.0,787.0,22.0,2549.0,2644.0,187.0,4482.0,680.0,592.0,464.0,97.0,232.0,1515.0,649.0,614.0,404.0,1738.0,1447.0,1762.0,1799.0,359.0,4049.0,58.0,1199.0,134.0,3674.0,3147.0,1736.0,1574.0,148.0,697.0,187.0,974.0,328.0,1085.0,2511.0,329.0,507.0,614.0,1049.0,719.0,1949.0,268.0,1087.0,674.0,801.0,44.0,1199.0,3089.0,164.0,749.0,2452.0,568.0,676.0,202.0,478.0,1276.0,22.0,15.0,22.0,374.0,418.0,4949.0,134.0,134.0,134.0,564.0,29.0,22.0,2915.0,2068.0,284.0,402.0,577.0,412.0,134.0,147.0,449.0,156.0,1275.0,312.0,225.0,3749.0,1762.0,787.0,172.0,6270.0,1124.0,470.0,544.0,2704.0,734.0,2219.0,412.0,134.0,52.0,412.0,487.0,135.0,134.0,2024.0,600.0,37.0,426.0,831.0,370.0,2166.0,239.0,517.0,569.0,296.0,1498.0,2096.0,974.0,4900.0,67.0,1049.0,149.0,795.0,1125.0,337.0,52.0,2698.0,787.0,2324.0,74.0,7049.0,734.0,2154.0,224.0,268.0,2112.0,1440.0,87.0,134.0,37.0,824.0,1951.0,74.0,134.0,74.0,1087.0,149.0,1012.0,112.0,152.0,104.0,974.0,440.0,119.0,149.0,868.0,569.0,1087.0,1574.0,712.0,135.0,2398.0,1649.0,502.0,672.0,374.0,1049.0,292.0,84.0,749.0,899.0,5998.0,1610.0,1649.0,397.0,389.0,974.0,577.0],\"yaxis\":\"y\",\"type\":\"bar\"}],                        {\"template\":{\"data\":{\"histogram2dcontour\":[{\"type\":\"histogram2dcontour\",\"colorbar\":{\"outlinewidth\":0,\"ticks\":\"\"},\"colorscale\":[[0.0,\"#0d0887\"],[0.1111111111111111,\"#46039f\"],[0.2222222222222222,\"#7201a8\"],[0.3333333333333333,\"#9c179e\"],[0.4444444444444444,\"#bd3786\"],[0.5555555555555556,\"#d8576b\"],[0.6666666666666666,\"#ed7953\"],[0.7777777777777778,\"#fb9f3a\"],[0.8888888888888888,\"#fdca26\"],[1.0,\"#f0f921\"]]}],\"choropleth\":[{\"type\":\"choropleth\",\"colorbar\":{\"outlinewidth\":0,\"ticks\":\"\"}}],\"histogram2d\":[{\"type\":\"histogram2d\",\"colorbar\":{\"outlinewidth\":0,\"ticks\":\"\"},\"colorscale\":[[0.0,\"#0d0887\"],[0.1111111111111111,\"#46039f\"],[0.2222222222222222,\"#7201a8\"],[0.3333333333333333,\"#9c179e\"],[0.4444444444444444,\"#bd3786\"],[0.5555555555555556,\"#d8576b\"],[0.6666666666666666,\"#ed7953\"],[0.7777777777777778,\"#fb9f3a\"],[0.8888888888888888,\"#fdca26\"],[1.0,\"#f0f921\"]]}],\"heatmap\":[{\"type\":\"heatmap\",\"colorbar\":{\"outlinewidth\":0,\"ticks\":\"\"},\"colorscale\":[[0.0,\"#0d0887\"],[0.1111111111111111,\"#46039f\"],[0.2222222222222222,\"#7201a8\"],[0.3333333333333333,\"#9c179e\"],[0.4444444444444444,\"#bd3786\"],[0.5555555555555556,\"#d8576b\"],[0.6666666666666666,\"#ed7953\"],[0.7777777777777778,\"#fb9f3a\"],[0.8888888888888888,\"#fdca26\"],[1.0,\"#f0f921\"]]}],\"heatmapgl\":[{\"type\":\"heatmapgl\",\"colorbar\":{\"outlinewidth\":0,\"ticks\":\"\"},\"colorscale\":[[0.0,\"#0d0887\"],[0.1111111111111111,\"#46039f\"],[0.2222222222222222,\"#7201a8\"],[0.3333333333333333,\"#9c179e\"],[0.4444444444444444,\"#bd3786\"],[0.5555555555555556,\"#d8576b\"],[0.6666666666666666,\"#ed7953\"],[0.7777777777777778,\"#fb9f3a\"],[0.8888888888888888,\"#fdca26\"],[1.0,\"#f0f921\"]]}],\"contourcarpet\":[{\"type\":\"contourcarpet\",\"colorbar\":{\"outlinewidth\":0,\"ticks\":\"\"}}],\"contour\":[{\"type\":\"contour\",\"colorbar\":{\"outlinewidth\":0,\"ticks\":\"\"},\"colorscale\":[[0.0,\"#0d0887\"],[0.1111111111111111,\"#46039f\"],[0.2222222222222222,\"#7201a8\"],[0.3333333333333333,\"#9c179e\"],[0.4444444444444444,\"#bd3786\"],[0.5555555555555556,\"#d8576b\"],[0.6666666666666666,\"#ed7953\"],[0.7777777777777778,\"#fb9f3a\"],[0.8888888888888888,\"#fdca26\"],[1.0,\"#f0f921\"]]}],\"surface\":[{\"type\":\"surface\",\"colorbar\":{\"outlinewidth\":0,\"ticks\":\"\"},\"colorscale\":[[0.0,\"#0d0887\"],[0.1111111111111111,\"#46039f\"],[0.2222222222222222,\"#7201a8\"],[0.3333333333333333,\"#9c179e\"],[0.4444444444444444,\"#bd3786\"],[0.5555555555555556,\"#d8576b\"],[0.6666666666666666,\"#ed7953\"],[0.7777777777777778,\"#fb9f3a\"],[0.8888888888888888,\"#fdca26\"],[1.0,\"#f0f921\"]]}],\"mesh3d\":[{\"type\":\"mesh3d\",\"colorbar\":{\"outlinewidth\":0,\"ticks\":\"\"}}],\"scatter\":[{\"fillpattern\":{\"fillmode\":\"overlay\",\"size\":10,\"solidity\":0.2},\"type\":\"scatter\"}],\"parcoords\":[{\"type\":\"parcoords\",\"line\":{\"colorbar\":{\"outlinewidth\":0,\"ticks\":\"\"}}}],\"scatterpolargl\":[{\"type\":\"scatterpolargl\",\"marker\":{\"colorbar\":{\"outlinewidth\":0,\"ticks\":\"\"}}}],\"bar\":[{\"error_x\":{\"color\":\"#2a3f5f\"},\"error_y\":{\"color\":\"#2a3f5f\"},\"marker\":{\"line\":{\"color\":\"#E5ECF6\",\"width\":0.5},\"pattern\":{\"fillmode\":\"overlay\",\"size\":10,\"solidity\":0.2}},\"type\":\"bar\"}],\"scattergeo\":[{\"type\":\"scattergeo\",\"marker\":{\"colorbar\":{\"outlinewidth\":0,\"ticks\":\"\"}}}],\"scatterpolar\":[{\"type\":\"scatterpolar\",\"marker\":{\"colorbar\":{\"outlinewidth\":0,\"ticks\":\"\"}}}],\"histogram\":[{\"marker\":{\"pattern\":{\"fillmode\":\"overlay\",\"size\":10,\"solidity\":0.2}},\"type\":\"histogram\"}],\"scattergl\":[{\"type\":\"scattergl\",\"marker\":{\"colorbar\":{\"outlinewidth\":0,\"ticks\":\"\"}}}],\"scatter3d\":[{\"type\":\"scatter3d\",\"line\":{\"colorbar\":{\"outlinewidth\":0,\"ticks\":\"\"}},\"marker\":{\"colorbar\":{\"outlinewidth\":0,\"ticks\":\"\"}}}],\"scattermapbox\":[{\"type\":\"scattermapbox\",\"marker\":{\"colorbar\":{\"outlinewidth\":0,\"ticks\":\"\"}}}],\"scatterternary\":[{\"type\":\"scatterternary\",\"marker\":{\"colorbar\":{\"outlinewidth\":0,\"ticks\":\"\"}}}],\"scattercarpet\":[{\"type\":\"scattercarpet\",\"marker\":{\"colorbar\":{\"outlinewidth\":0,\"ticks\":\"\"}}}],\"carpet\":[{\"aaxis\":{\"endlinecolor\":\"#2a3f5f\",\"gridcolor\":\"white\",\"linecolor\":\"white\",\"minorgridcolor\":\"white\",\"startlinecolor\":\"#2a3f5f\"},\"baxis\":{\"endlinecolor\":\"#2a3f5f\",\"gridcolor\":\"white\",\"linecolor\":\"white\",\"minorgridcolor\":\"white\",\"startlinecolor\":\"#2a3f5f\"},\"type\":\"carpet\"}],\"table\":[{\"cells\":{\"fill\":{\"color\":\"#EBF0F8\"},\"line\":{\"color\":\"white\"}},\"header\":{\"fill\":{\"color\":\"#C8D4E3\"},\"line\":{\"color\":\"white\"}},\"type\":\"table\"}],\"barpolar\":[{\"marker\":{\"line\":{\"color\":\"#E5ECF6\",\"width\":0.5},\"pattern\":{\"fillmode\":\"overlay\",\"size\":10,\"solidity\":0.2}},\"type\":\"barpolar\"}],\"pie\":[{\"automargin\":true,\"type\":\"pie\"}]},\"layout\":{\"autotypenumbers\":\"strict\",\"colorway\":[\"#636efa\",\"#EF553B\",\"#00cc96\",\"#ab63fa\",\"#FFA15A\",\"#19d3f3\",\"#FF6692\",\"#B6E880\",\"#FF97FF\",\"#FECB52\"],\"font\":{\"color\":\"#2a3f5f\"},\"hovermode\":\"closest\",\"hoverlabel\":{\"align\":\"left\"},\"paper_bgcolor\":\"white\",\"plot_bgcolor\":\"#E5ECF6\",\"polar\":{\"bgcolor\":\"#E5ECF6\",\"angularaxis\":{\"gridcolor\":\"white\",\"linecolor\":\"white\",\"ticks\":\"\"},\"radialaxis\":{\"gridcolor\":\"white\",\"linecolor\":\"white\",\"ticks\":\"\"}},\"ternary\":{\"bgcolor\":\"#E5ECF6\",\"aaxis\":{\"gridcolor\":\"white\",\"linecolor\":\"white\",\"ticks\":\"\"},\"baxis\":{\"gridcolor\":\"white\",\"linecolor\":\"white\",\"ticks\":\"\"},\"caxis\":{\"gridcolor\":\"white\",\"linecolor\":\"white\",\"ticks\":\"\"}},\"coloraxis\":{\"colorbar\":{\"outlinewidth\":0,\"ticks\":\"\"}},\"colorscale\":{\"sequential\":[[0.0,\"#0d0887\"],[0.1111111111111111,\"#46039f\"],[0.2222222222222222,\"#7201a8\"],[0.3333333333333333,\"#9c179e\"],[0.4444444444444444,\"#bd3786\"],[0.5555555555555556,\"#d8576b\"],[0.6666666666666666,\"#ed7953\"],[0.7777777777777778,\"#fb9f3a\"],[0.8888888888888888,\"#fdca26\"],[1.0,\"#f0f921\"]],\"sequentialminus\":[[0.0,\"#0d0887\"],[0.1111111111111111,\"#46039f\"],[0.2222222222222222,\"#7201a8\"],[0.3333333333333333,\"#9c179e\"],[0.4444444444444444,\"#bd3786\"],[0.5555555555555556,\"#d8576b\"],[0.6666666666666666,\"#ed7953\"],[0.7777777777777778,\"#fb9f3a\"],[0.8888888888888888,\"#fdca26\"],[1.0,\"#f0f921\"]],\"diverging\":[[0,\"#8e0152\"],[0.1,\"#c51b7d\"],[0.2,\"#de77ae\"],[0.3,\"#f1b6da\"],[0.4,\"#fde0ef\"],[0.5,\"#f7f7f7\"],[0.6,\"#e6f5d0\"],[0.7,\"#b8e186\"],[0.8,\"#7fbc41\"],[0.9,\"#4d9221\"],[1,\"#276419\"]]},\"xaxis\":{\"gridcolor\":\"white\",\"linecolor\":\"white\",\"ticks\":\"\",\"title\":{\"standoff\":15},\"zerolinecolor\":\"white\",\"automargin\":true,\"zerolinewidth\":2},\"yaxis\":{\"gridcolor\":\"white\",\"linecolor\":\"white\",\"ticks\":\"\",\"title\":{\"standoff\":15},\"zerolinecolor\":\"white\",\"automargin\":true,\"zerolinewidth\":2},\"scene\":{\"xaxis\":{\"backgroundcolor\":\"#E5ECF6\",\"gridcolor\":\"white\",\"linecolor\":\"white\",\"showbackground\":true,\"ticks\":\"\",\"zerolinecolor\":\"white\",\"gridwidth\":2},\"yaxis\":{\"backgroundcolor\":\"#E5ECF6\",\"gridcolor\":\"white\",\"linecolor\":\"white\",\"showbackground\":true,\"ticks\":\"\",\"zerolinecolor\":\"white\",\"gridwidth\":2},\"zaxis\":{\"backgroundcolor\":\"#E5ECF6\",\"gridcolor\":\"white\",\"linecolor\":\"white\",\"showbackground\":true,\"ticks\":\"\",\"zerolinecolor\":\"white\",\"gridwidth\":2}},\"shapedefaults\":{\"line\":{\"color\":\"#2a3f5f\"}},\"annotationdefaults\":{\"arrowcolor\":\"#2a3f5f\",\"arrowhead\":0,\"arrowwidth\":1},\"geo\":{\"bgcolor\":\"white\",\"landcolor\":\"#E5ECF6\",\"subunitcolor\":\"white\",\"showland\":true,\"showlakes\":true,\"lakecolor\":\"white\"},\"title\":{\"x\":0.05},\"mapbox\":{\"style\":\"light\"}}},\"xaxis\":{\"anchor\":\"y\",\"domain\":[0.0,1.0],\"title\":{\"text\":\"\\u0421\\u0435\\u0433\\u043c\\u0435\\u043d\\u0442\"},\"categoryorder\":\"total descending\"},\"yaxis\":{\"anchor\":\"x\",\"domain\":[0.0,1.0],\"title\":{\"text\":\"\\u0412\\u044b\\u0440\\u0443\\u0447\\u043a\\u0430\"}},\"legend\":{\"tracegroupgap\":0},\"margin\":{\"t\":60},\"barmode\":\"relative\"},                        {\"responsive\": true}                    ).then(function(){\n",
       "                            \n",
       "var gd = document.getElementById('0b800832-1d82-4cd4-bd73-44dd1a486099');\n",
       "var x = new MutationObserver(function (mutations, observer) {{\n",
       "        var display = window.getComputedStyle(gd).display;\n",
       "        if (!display || display === 'none') {{\n",
       "            console.log([gd, 'removed!']);\n",
       "            Plotly.purge(gd);\n",
       "            observer.disconnect();\n",
       "        }}\n",
       "}});\n",
       "\n",
       "// Listen for the removal of the full notebook cells\n",
       "var notebookContainer = gd.closest('#notebook-container');\n",
       "if (notebookContainer) {{\n",
       "    x.observe(notebookContainer, {childList: true});\n",
       "}}\n",
       "\n",
       "// Listen for the clearing of the current output cell\n",
       "var outputEl = gd.closest('.output');\n",
       "if (outputEl) {{\n",
       "    x.observe(outputEl, {childList: true});\n",
       "}}\n",
       "\n",
       "                        })                };                });            </script>        </div>"
      ]
     },
     "metadata": {},
     "output_type": "display_data"
    }
   ],
   "source": [
    "#Визуализируем\n",
    "RFM_Segment.groupby(by= 'RFMClass')\n",
    "\n",
    "fig = px.bar(RFM_Segment, \n",
    "             x='RFMClass', \n",
    "             y='monetary_value', \n",
    "            )\n",
    "fig.update_layout(xaxis_title='Сегмент',\n",
    "                  yaxis_title='Выручка',\n",
    "                  xaxis={'categoryorder':'total descending'})\n",
    "fig.show()\n",
    "\n"
   ]
  },
  {
   "cell_type": "code",
   "execution_count": 102,
   "metadata": {
    "scrolled": false
   },
   "outputs": [
    {
     "data": {
      "image/png": "[encoded data removed]",
      "text/plain": [
       "<Figure size 1000x1000 with 1 Axes>"
      ]
     },
     "metadata": {},
     "output_type": "display_data"
    }
   ],
   "source": [
    "#Визуализируем\n",
    "plt.figure(figsize=(10,10))\n",
    "plt.pie(RFM_Segment.RFMClass.value_counts(),\n",
    "        labels=RFM_Segment.RFMClass.value_counts().index, textprops={'fontsize': 14},\n",
    "        autopct='%.2f')\n",
    "plt.show()"
   ]
  },
  {
   "cell_type": "markdown",
   "metadata": {},
   "source": [
    "Как видно из графиков внимание стоит обратить на 114 когорту покупателей - она лидирует по количеству заказов и приносит наибольшую прибыл. НО так как первые цифры 11 то это не постоянные покупатели, которые заказывали достаточно давно, то есть большинство денег приносят разовые покупатели, стоит маркетологам задуматься над вопросом удержания покупателей. В целом можно заметить что когорты постоянных покупателей замыкают оба графика.  По видимому маркетинговые акции кампании привлекают, но не удерживают покупателей."
   ]
  },
  {
   "cell_type": "markdown",
   "metadata": {},
   "source": [
    "На основании данной сегментации мы можем дать отделу маркетинга рекомендации по определенным целевым аудиториям, вот несколько примеров:"
   ]
  },
  {
   "cell_type": "code",
   "execution_count": 103,
   "metadata": {},
   "outputs": [
    {
     "data": {
      "text/html": [
       "<div>\n",
       "<style scoped>\n",
       "    .dataframe tbody tr th:only-of-type {\n",
       "        vertical-align: middle;\n",
       "    }\n",
       "\n",
       "    .dataframe tbody tr th {\n",
       "        vertical-align: top;\n",
       "    }\n",
       "\n",
       "    .dataframe thead th {\n",
       "        text-align: right;\n",
       "    }\n",
       "</style>\n",
       "<table border=\"1\" class=\"dataframe\">\n",
       "  <thead>\n",
       "    <tr style=\"text-align: right;\">\n",
       "      <th></th>\n",
       "      <th>recency</th>\n",
       "      <th>frequency</th>\n",
       "      <th>monetary_value</th>\n",
       "      <th>R_Quartile</th>\n",
       "      <th>F_Quartile</th>\n",
       "      <th>M_Quartile</th>\n",
       "      <th>RFMClass</th>\n",
       "    </tr>\n",
       "    <tr>\n",
       "      <th>customer_id</th>\n",
       "      <th></th>\n",
       "      <th></th>\n",
       "      <th></th>\n",
       "      <th></th>\n",
       "      <th></th>\n",
       "      <th></th>\n",
       "      <th></th>\n",
       "    </tr>\n",
       "  </thead>\n",
       "  <tbody>\n",
       "    <tr>\n",
       "      <th>c971fb21-d54c-4134-938f-16b62ee86d3b</th>\n",
       "      <td>238</td>\n",
       "      <td>122</td>\n",
       "      <td>141787.0</td>\n",
       "      <td>2</td>\n",
       "      <td>4</td>\n",
       "      <td>4</td>\n",
       "      <td>244</td>\n",
       "    </tr>\n",
       "    <tr>\n",
       "      <th>58a4c3cc-504f-43ea-a74a-bae19e665552</th>\n",
       "      <td>288</td>\n",
       "      <td>2</td>\n",
       "      <td>53232.0</td>\n",
       "      <td>2</td>\n",
       "      <td>4</td>\n",
       "      <td>4</td>\n",
       "      <td>244</td>\n",
       "    </tr>\n",
       "    <tr>\n",
       "      <th>4d93d3f6-8b24-403b-a74b-f5173e40d7db</th>\n",
       "      <td>371</td>\n",
       "      <td>33</td>\n",
       "      <td>51828.0</td>\n",
       "      <td>1</td>\n",
       "      <td>4</td>\n",
       "      <td>4</td>\n",
       "      <td>144</td>\n",
       "    </tr>\n",
       "    <tr>\n",
       "      <th>1b2764ad-9151-4051-a46a-9b01b62e6335</th>\n",
       "      <td>358</td>\n",
       "      <td>1</td>\n",
       "      <td>24370.0</td>\n",
       "      <td>1</td>\n",
       "      <td>1</td>\n",
       "      <td>4</td>\n",
       "      <td>114</td>\n",
       "    </tr>\n",
       "    <tr>\n",
       "      <th>9f1e7d7d-ff10-4eb1-b596-1cbf8075aa3f</th>\n",
       "      <td>369</td>\n",
       "      <td>1</td>\n",
       "      <td>22056.0</td>\n",
       "      <td>1</td>\n",
       "      <td>1</td>\n",
       "      <td>4</td>\n",
       "      <td>114</td>\n",
       "    </tr>\n",
       "    <tr>\n",
       "      <th>...</th>\n",
       "      <td>...</td>\n",
       "      <td>...</td>\n",
       "      <td>...</td>\n",
       "      <td>...</td>\n",
       "      <td>...</td>\n",
       "      <td>...</td>\n",
       "      <td>...</td>\n",
       "    </tr>\n",
       "    <tr>\n",
       "      <th>c3c6e13a-9b7f-419c-8053-0547033efa07</th>\n",
       "      <td>338</td>\n",
       "      <td>1</td>\n",
       "      <td>44.0</td>\n",
       "      <td>1</td>\n",
       "      <td>1</td>\n",
       "      <td>1</td>\n",
       "      <td>111</td>\n",
       "    </tr>\n",
       "    <tr>\n",
       "      <th>33375310-60ae-4c95-86f4-7bed8d0b3d3e</th>\n",
       "      <td>310</td>\n",
       "      <td>1</td>\n",
       "      <td>44.0</td>\n",
       "      <td>1</td>\n",
       "      <td>1</td>\n",
       "      <td>1</td>\n",
       "      <td>111</td>\n",
       "    </tr>\n",
       "    <tr>\n",
       "      <th>f420bf6d-9985-47bc-95a7-5c640ad6d001</th>\n",
       "      <td>287</td>\n",
       "      <td>1</td>\n",
       "      <td>22.0</td>\n",
       "      <td>2</td>\n",
       "      <td>1</td>\n",
       "      <td>1</td>\n",
       "      <td>211</td>\n",
       "    </tr>\n",
       "    <tr>\n",
       "      <th>eec973c9-6ae9-4c1b-b1c7-a2718fde2f84</th>\n",
       "      <td>273</td>\n",
       "      <td>1</td>\n",
       "      <td>22.0</td>\n",
       "      <td>2</td>\n",
       "      <td>1</td>\n",
       "      <td>1</td>\n",
       "      <td>211</td>\n",
       "    </tr>\n",
       "    <tr>\n",
       "      <th>2330d859-e9cb-4c8f-abd0-55f9e27e6745</th>\n",
       "      <td>351</td>\n",
       "      <td>1</td>\n",
       "      <td>15.0</td>\n",
       "      <td>1</td>\n",
       "      <td>1</td>\n",
       "      <td>1</td>\n",
       "      <td>111</td>\n",
       "    </tr>\n",
       "  </tbody>\n",
       "</table>\n",
       "<p>1179 rows × 7 columns</p>\n",
       "</div>"
      ],
      "text/plain": [
       "                                      recency  frequency  monetary_value  \\\n",
       "customer_id                                                                \n",
       "c971fb21-d54c-4134-938f-16b62ee86d3b      238        122        141787.0   \n",
       "58a4c3cc-504f-43ea-a74a-bae19e665552      288          2         53232.0   \n",
       "4d93d3f6-8b24-403b-a74b-f5173e40d7db      371         33         51828.0   \n",
       "1b2764ad-9151-4051-a46a-9b01b62e6335      358          1         24370.0   \n",
       "9f1e7d7d-ff10-4eb1-b596-1cbf8075aa3f      369          1         22056.0   \n",
       "...                                       ...        ...             ...   \n",
       "c3c6e13a-9b7f-419c-8053-0547033efa07      338          1            44.0   \n",
       "33375310-60ae-4c95-86f4-7bed8d0b3d3e      310          1            44.0   \n",
       "f420bf6d-9985-47bc-95a7-5c640ad6d001      287          1            22.0   \n",
       "eec973c9-6ae9-4c1b-b1c7-a2718fde2f84      273          1            22.0   \n",
       "2330d859-e9cb-4c8f-abd0-55f9e27e6745      351          1            15.0   \n",
       "\n",
       "                                      R_Quartile  F_Quartile  M_Quartile  \\\n",
       "customer_id                                                                \n",
       "c971fb21-d54c-4134-938f-16b62ee86d3b           2           4           4   \n",
       "58a4c3cc-504f-43ea-a74a-bae19e665552           2           4           4   \n",
       "4d93d3f6-8b24-403b-a74b-f5173e40d7db           1           4           4   \n",
       "1b2764ad-9151-4051-a46a-9b01b62e6335           1           1           4   \n",
       "9f1e7d7d-ff10-4eb1-b596-1cbf8075aa3f           1           1           4   \n",
       "...                                          ...         ...         ...   \n",
       "c3c6e13a-9b7f-419c-8053-0547033efa07           1           1           1   \n",
       "33375310-60ae-4c95-86f4-7bed8d0b3d3e           1           1           1   \n",
       "f420bf6d-9985-47bc-95a7-5c640ad6d001           2           1           1   \n",
       "eec973c9-6ae9-4c1b-b1c7-a2718fde2f84           2           1           1   \n",
       "2330d859-e9cb-4c8f-abd0-55f9e27e6745           1           1           1   \n",
       "\n",
       "                                     RFMClass  \n",
       "customer_id                                    \n",
       "c971fb21-d54c-4134-938f-16b62ee86d3b      244  \n",
       "58a4c3cc-504f-43ea-a74a-bae19e665552      244  \n",
       "4d93d3f6-8b24-403b-a74b-f5173e40d7db      144  \n",
       "1b2764ad-9151-4051-a46a-9b01b62e6335      114  \n",
       "9f1e7d7d-ff10-4eb1-b596-1cbf8075aa3f      114  \n",
       "...                                       ...  \n",
       "c3c6e13a-9b7f-419c-8053-0547033efa07      111  \n",
       "33375310-60ae-4c95-86f4-7bed8d0b3d3e      111  \n",
       "f420bf6d-9985-47bc-95a7-5c640ad6d001      211  \n",
       "eec973c9-6ae9-4c1b-b1c7-a2718fde2f84      211  \n",
       "2330d859-e9cb-4c8f-abd0-55f9e27e6745      111  \n",
       "\n",
       "[1179 rows x 7 columns]"
      ]
     },
     "execution_count": 103,
     "metadata": {},
     "output_type": "execute_result"
    }
   ],
   "source": [
    "#Хотим заинтересовать покупателей находящихся на пороге оттока, вот их индификаторы\n",
    "\n",
    "RFM_Segment[RFM_Segment['R_Quartile'] <= 2 ].sort_values('monetary_value', ascending=False)"
   ]
  },
  {
   "cell_type": "code",
   "execution_count": 104,
   "metadata": {},
   "outputs": [
    {
     "data": {
      "text/html": [
       "<div>\n",
       "<style scoped>\n",
       "    .dataframe tbody tr th:only-of-type {\n",
       "        vertical-align: middle;\n",
       "    }\n",
       "\n",
       "    .dataframe tbody tr th {\n",
       "        vertical-align: top;\n",
       "    }\n",
       "\n",
       "    .dataframe thead th {\n",
       "        text-align: right;\n",
       "    }\n",
       "</style>\n",
       "<table border=\"1\" class=\"dataframe\">\n",
       "  <thead>\n",
       "    <tr style=\"text-align: right;\">\n",
       "      <th></th>\n",
       "      <th>recency</th>\n",
       "      <th>frequency</th>\n",
       "      <th>monetary_value</th>\n",
       "      <th>R_Quartile</th>\n",
       "      <th>F_Quartile</th>\n",
       "      <th>M_Quartile</th>\n",
       "      <th>RFMClass</th>\n",
       "    </tr>\n",
       "    <tr>\n",
       "      <th>customer_id</th>\n",
       "      <th></th>\n",
       "      <th></th>\n",
       "      <th></th>\n",
       "      <th></th>\n",
       "      <th></th>\n",
       "      <th></th>\n",
       "      <th></th>\n",
       "    </tr>\n",
       "  </thead>\n",
       "  <tbody>\n",
       "    <tr>\n",
       "      <th>6644e5b4-9934-4863-9778-aaa125207701</th>\n",
       "      <td>394</td>\n",
       "      <td>1</td>\n",
       "      <td>269.0</td>\n",
       "      <td>1</td>\n",
       "      <td>1</td>\n",
       "      <td>1</td>\n",
       "      <td>111</td>\n",
       "    </tr>\n",
       "    <tr>\n",
       "      <th>a576fa59-7b28-4a4c-a496-92f128754a94</th>\n",
       "      <td>394</td>\n",
       "      <td>1</td>\n",
       "      <td>188.0</td>\n",
       "      <td>1</td>\n",
       "      <td>1</td>\n",
       "      <td>1</td>\n",
       "      <td>111</td>\n",
       "    </tr>\n",
       "    <tr>\n",
       "      <th>29a514f5-a27e-4939-85d5-874a0c3f7a2c</th>\n",
       "      <td>393</td>\n",
       "      <td>1</td>\n",
       "      <td>193.0</td>\n",
       "      <td>1</td>\n",
       "      <td>1</td>\n",
       "      <td>1</td>\n",
       "      <td>111</td>\n",
       "    </tr>\n",
       "    <tr>\n",
       "      <th>eee7b1fa-ba81-4049-add6-370ee5e62e72</th>\n",
       "      <td>392</td>\n",
       "      <td>1</td>\n",
       "      <td>187.0</td>\n",
       "      <td>1</td>\n",
       "      <td>1</td>\n",
       "      <td>1</td>\n",
       "      <td>111</td>\n",
       "    </tr>\n",
       "    <tr>\n",
       "      <th>1e17318f-c4f1-4d0f-8ee4-9bf976c5b4ef</th>\n",
       "      <td>392</td>\n",
       "      <td>1</td>\n",
       "      <td>127.0</td>\n",
       "      <td>1</td>\n",
       "      <td>1</td>\n",
       "      <td>1</td>\n",
       "      <td>111</td>\n",
       "    </tr>\n",
       "    <tr>\n",
       "      <th>...</th>\n",
       "      <td>...</td>\n",
       "      <td>...</td>\n",
       "      <td>...</td>\n",
       "      <td>...</td>\n",
       "      <td>...</td>\n",
       "      <td>...</td>\n",
       "      <td>...</td>\n",
       "    </tr>\n",
       "    <tr>\n",
       "      <th>0e6ed482-a9d9-4c94-a4ff-382502a08d98</th>\n",
       "      <td>307</td>\n",
       "      <td>1</td>\n",
       "      <td>254.0</td>\n",
       "      <td>1</td>\n",
       "      <td>1</td>\n",
       "      <td>1</td>\n",
       "      <td>111</td>\n",
       "    </tr>\n",
       "    <tr>\n",
       "      <th>e88af26b-f634-461d-b6c1-c3e7c8121add</th>\n",
       "      <td>306</td>\n",
       "      <td>1</td>\n",
       "      <td>262.0</td>\n",
       "      <td>1</td>\n",
       "      <td>1</td>\n",
       "      <td>1</td>\n",
       "      <td>111</td>\n",
       "    </tr>\n",
       "    <tr>\n",
       "      <th>f84d0b80-6d88-4cc6-8f33-8ee4b3c8a5e4</th>\n",
       "      <td>306</td>\n",
       "      <td>1</td>\n",
       "      <td>239.0</td>\n",
       "      <td>1</td>\n",
       "      <td>1</td>\n",
       "      <td>1</td>\n",
       "      <td>111</td>\n",
       "    </tr>\n",
       "    <tr>\n",
       "      <th>8833719d-2c81-48d3-ab89-d92ed8f6d813</th>\n",
       "      <td>306</td>\n",
       "      <td>1</td>\n",
       "      <td>202.0</td>\n",
       "      <td>1</td>\n",
       "      <td>1</td>\n",
       "      <td>1</td>\n",
       "      <td>111</td>\n",
       "    </tr>\n",
       "    <tr>\n",
       "      <th>8a01a2ca-f8d3-4403-bb3e-2e929dd84ebd</th>\n",
       "      <td>306</td>\n",
       "      <td>1</td>\n",
       "      <td>149.0</td>\n",
       "      <td>1</td>\n",
       "      <td>1</td>\n",
       "      <td>1</td>\n",
       "      <td>111</td>\n",
       "    </tr>\n",
       "  </tbody>\n",
       "</table>\n",
       "<p>98 rows × 7 columns</p>\n",
       "</div>"
      ],
      "text/plain": [
       "                                      recency  frequency  monetary_value  \\\n",
       "customer_id                                                                \n",
       "6644e5b4-9934-4863-9778-aaa125207701      394          1           269.0   \n",
       "a576fa59-7b28-4a4c-a496-92f128754a94      394          1           188.0   \n",
       "29a514f5-a27e-4939-85d5-874a0c3f7a2c      393          1           193.0   \n",
       "eee7b1fa-ba81-4049-add6-370ee5e62e72      392          1           187.0   \n",
       "1e17318f-c4f1-4d0f-8ee4-9bf976c5b4ef      392          1           127.0   \n",
       "...                                       ...        ...             ...   \n",
       "0e6ed482-a9d9-4c94-a4ff-382502a08d98      307          1           254.0   \n",
       "e88af26b-f634-461d-b6c1-c3e7c8121add      306          1           262.0   \n",
       "f84d0b80-6d88-4cc6-8f33-8ee4b3c8a5e4      306          1           239.0   \n",
       "8833719d-2c81-48d3-ab89-d92ed8f6d813      306          1           202.0   \n",
       "8a01a2ca-f8d3-4403-bb3e-2e929dd84ebd      306          1           149.0   \n",
       "\n",
       "                                      R_Quartile  F_Quartile  M_Quartile  \\\n",
       "customer_id                                                                \n",
       "6644e5b4-9934-4863-9778-aaa125207701           1           1           1   \n",
       "a576fa59-7b28-4a4c-a496-92f128754a94           1           1           1   \n",
       "29a514f5-a27e-4939-85d5-874a0c3f7a2c           1           1           1   \n",
       "eee7b1fa-ba81-4049-add6-370ee5e62e72           1           1           1   \n",
       "1e17318f-c4f1-4d0f-8ee4-9bf976c5b4ef           1           1           1   \n",
       "...                                          ...         ...         ...   \n",
       "0e6ed482-a9d9-4c94-a4ff-382502a08d98           1           1           1   \n",
       "e88af26b-f634-461d-b6c1-c3e7c8121add           1           1           1   \n",
       "f84d0b80-6d88-4cc6-8f33-8ee4b3c8a5e4           1           1           1   \n",
       "8833719d-2c81-48d3-ab89-d92ed8f6d813           1           1           1   \n",
       "8a01a2ca-f8d3-4403-bb3e-2e929dd84ebd           1           1           1   \n",
       "\n",
       "                                     RFMClass  \n",
       "customer_id                                    \n",
       "6644e5b4-9934-4863-9778-aaa125207701      111  \n",
       "a576fa59-7b28-4a4c-a496-92f128754a94      111  \n",
       "29a514f5-a27e-4939-85d5-874a0c3f7a2c      111  \n",
       "eee7b1fa-ba81-4049-add6-370ee5e62e72      111  \n",
       "1e17318f-c4f1-4d0f-8ee4-9bf976c5b4ef      111  \n",
       "...                                       ...  \n",
       "0e6ed482-a9d9-4c94-a4ff-382502a08d98      111  \n",
       "e88af26b-f634-461d-b6c1-c3e7c8121add      111  \n",
       "f84d0b80-6d88-4cc6-8f33-8ee4b3c8a5e4      111  \n",
       "8833719d-2c81-48d3-ab89-d92ed8f6d813      111  \n",
       "8a01a2ca-f8d3-4403-bb3e-2e929dd84ebd      111  \n",
       "\n",
       "[98 rows x 7 columns]"
      ]
     },
     "execution_count": 104,
     "metadata": {},
     "output_type": "execute_result"
    }
   ],
   "source": [
    "#Хотим список ушедших клиентов чтобы их вернуть\n",
    "\n",
    "RFM_Segment[RFM_Segment['RFMClass']=='111'].sort_values('recency',ascending=False)"
   ]
  },
  {
   "cell_type": "code",
   "execution_count": 105,
   "metadata": {
    "scrolled": true
   },
   "outputs": [
    {
     "data": {
      "text/html": [
       "<div>\n",
       "<style scoped>\n",
       "    .dataframe tbody tr th:only-of-type {\n",
       "        vertical-align: middle;\n",
       "    }\n",
       "\n",
       "    .dataframe tbody tr th {\n",
       "        vertical-align: top;\n",
       "    }\n",
       "\n",
       "    .dataframe thead th {\n",
       "        text-align: right;\n",
       "    }\n",
       "</style>\n",
       "<table border=\"1\" class=\"dataframe\">\n",
       "  <thead>\n",
       "    <tr style=\"text-align: right;\">\n",
       "      <th></th>\n",
       "      <th>recency</th>\n",
       "      <th>frequency</th>\n",
       "      <th>monetary_value</th>\n",
       "      <th>R_Quartile</th>\n",
       "      <th>F_Quartile</th>\n",
       "      <th>M_Quartile</th>\n",
       "      <th>RFMClass</th>\n",
       "    </tr>\n",
       "    <tr>\n",
       "      <th>customer_id</th>\n",
       "      <th></th>\n",
       "      <th></th>\n",
       "      <th></th>\n",
       "      <th></th>\n",
       "      <th></th>\n",
       "      <th></th>\n",
       "      <th></th>\n",
       "    </tr>\n",
       "  </thead>\n",
       "  <tbody>\n",
       "    <tr>\n",
       "      <th>c971fb21-d54c-4134-938f-16b62ee86d3b</th>\n",
       "      <td>238</td>\n",
       "      <td>122</td>\n",
       "      <td>141787.0</td>\n",
       "      <td>2</td>\n",
       "      <td>4</td>\n",
       "      <td>4</td>\n",
       "      <td>244</td>\n",
       "    </tr>\n",
       "    <tr>\n",
       "      <th>58a4c3cc-504f-43ea-a74a-bae19e665552</th>\n",
       "      <td>288</td>\n",
       "      <td>2</td>\n",
       "      <td>53232.0</td>\n",
       "      <td>2</td>\n",
       "      <td>4</td>\n",
       "      <td>4</td>\n",
       "      <td>244</td>\n",
       "    </tr>\n",
       "    <tr>\n",
       "      <th>4d93d3f6-8b24-403b-a74b-f5173e40d7db</th>\n",
       "      <td>371</td>\n",
       "      <td>33</td>\n",
       "      <td>51828.0</td>\n",
       "      <td>1</td>\n",
       "      <td>4</td>\n",
       "      <td>4</td>\n",
       "      <td>144</td>\n",
       "    </tr>\n",
       "    <tr>\n",
       "      <th>498f12a4-6a62-4725-8516-cf5dc9ab8a3a</th>\n",
       "      <td>194</td>\n",
       "      <td>3</td>\n",
       "      <td>30440.0</td>\n",
       "      <td>3</td>\n",
       "      <td>4</td>\n",
       "      <td>4</td>\n",
       "      <td>344</td>\n",
       "    </tr>\n",
       "    <tr>\n",
       "      <th>940c175f-ea87-44e0-9e16-0a3d0a9abecd</th>\n",
       "      <td>140</td>\n",
       "      <td>2</td>\n",
       "      <td>20232.0</td>\n",
       "      <td>3</td>\n",
       "      <td>4</td>\n",
       "      <td>4</td>\n",
       "      <td>344</td>\n",
       "    </tr>\n",
       "    <tr>\n",
       "      <th>...</th>\n",
       "      <td>...</td>\n",
       "      <td>...</td>\n",
       "      <td>...</td>\n",
       "      <td>...</td>\n",
       "      <td>...</td>\n",
       "      <td>...</td>\n",
       "      <td>...</td>\n",
       "    </tr>\n",
       "    <tr>\n",
       "      <th>c147ccde-54bc-43c1-a276-64ebef5beef8</th>\n",
       "      <td>244</td>\n",
       "      <td>2</td>\n",
       "      <td>148.0</td>\n",
       "      <td>2</td>\n",
       "      <td>4</td>\n",
       "      <td>1</td>\n",
       "      <td>241</td>\n",
       "    </tr>\n",
       "    <tr>\n",
       "      <th>7f70ecd3-d9f0-46c3-bb20-2cc333b92fa2</th>\n",
       "      <td>99</td>\n",
       "      <td>2</td>\n",
       "      <td>148.0</td>\n",
       "      <td>4</td>\n",
       "      <td>4</td>\n",
       "      <td>1</td>\n",
       "      <td>441</td>\n",
       "    </tr>\n",
       "    <tr>\n",
       "      <th>08199320-6a87-4a2c-8565-dfc0c8484184</th>\n",
       "      <td>244</td>\n",
       "      <td>2</td>\n",
       "      <td>134.0</td>\n",
       "      <td>2</td>\n",
       "      <td>4</td>\n",
       "      <td>1</td>\n",
       "      <td>241</td>\n",
       "    </tr>\n",
       "    <tr>\n",
       "      <th>ecefadc1-e7f3-4026-a5e7-1cf00195148b</th>\n",
       "      <td>288</td>\n",
       "      <td>2</td>\n",
       "      <td>118.0</td>\n",
       "      <td>2</td>\n",
       "      <td>4</td>\n",
       "      <td>1</td>\n",
       "      <td>241</td>\n",
       "    </tr>\n",
       "    <tr>\n",
       "      <th>2f639db6-6ce7-426b-9a6d-edbb9025463c</th>\n",
       "      <td>53</td>\n",
       "      <td>2</td>\n",
       "      <td>95.0</td>\n",
       "      <td>4</td>\n",
       "      <td>4</td>\n",
       "      <td>1</td>\n",
       "      <td>441</td>\n",
       "    </tr>\n",
       "  </tbody>\n",
       "</table>\n",
       "<p>154 rows × 7 columns</p>\n",
       "</div>"
      ],
      "text/plain": [
       "                                      recency  frequency  monetary_value  \\\n",
       "customer_id                                                                \n",
       "c971fb21-d54c-4134-938f-16b62ee86d3b      238        122        141787.0   \n",
       "58a4c3cc-504f-43ea-a74a-bae19e665552      288          2         53232.0   \n",
       "4d93d3f6-8b24-403b-a74b-f5173e40d7db      371         33         51828.0   \n",
       "498f12a4-6a62-4725-8516-cf5dc9ab8a3a      194          3         30440.0   \n",
       "940c175f-ea87-44e0-9e16-0a3d0a9abecd      140          2         20232.0   \n",
       "...                                       ...        ...             ...   \n",
       "c147ccde-54bc-43c1-a276-64ebef5beef8      244          2           148.0   \n",
       "7f70ecd3-d9f0-46c3-bb20-2cc333b92fa2       99          2           148.0   \n",
       "08199320-6a87-4a2c-8565-dfc0c8484184      244          2           134.0   \n",
       "ecefadc1-e7f3-4026-a5e7-1cf00195148b      288          2           118.0   \n",
       "2f639db6-6ce7-426b-9a6d-edbb9025463c       53          2            95.0   \n",
       "\n",
       "                                      R_Quartile  F_Quartile  M_Quartile  \\\n",
       "customer_id                                                                \n",
       "c971fb21-d54c-4134-938f-16b62ee86d3b           2           4           4   \n",
       "58a4c3cc-504f-43ea-a74a-bae19e665552           2           4           4   \n",
       "4d93d3f6-8b24-403b-a74b-f5173e40d7db           1           4           4   \n",
       "498f12a4-6a62-4725-8516-cf5dc9ab8a3a           3           4           4   \n",
       "940c175f-ea87-44e0-9e16-0a3d0a9abecd           3           4           4   \n",
       "...                                          ...         ...         ...   \n",
       "c147ccde-54bc-43c1-a276-64ebef5beef8           2           4           1   \n",
       "7f70ecd3-d9f0-46c3-bb20-2cc333b92fa2           4           4           1   \n",
       "08199320-6a87-4a2c-8565-dfc0c8484184           2           4           1   \n",
       "ecefadc1-e7f3-4026-a5e7-1cf00195148b           2           4           1   \n",
       "2f639db6-6ce7-426b-9a6d-edbb9025463c           4           4           1   \n",
       "\n",
       "                                     RFMClass  \n",
       "customer_id                                    \n",
       "c971fb21-d54c-4134-938f-16b62ee86d3b      244  \n",
       "58a4c3cc-504f-43ea-a74a-bae19e665552      244  \n",
       "4d93d3f6-8b24-403b-a74b-f5173e40d7db      144  \n",
       "498f12a4-6a62-4725-8516-cf5dc9ab8a3a      344  \n",
       "940c175f-ea87-44e0-9e16-0a3d0a9abecd      344  \n",
       "...                                       ...  \n",
       "c147ccde-54bc-43c1-a276-64ebef5beef8      241  \n",
       "7f70ecd3-d9f0-46c3-bb20-2cc333b92fa2      441  \n",
       "08199320-6a87-4a2c-8565-dfc0c8484184      241  \n",
       "ecefadc1-e7f3-4026-a5e7-1cf00195148b      241  \n",
       "2f639db6-6ce7-426b-9a6d-edbb9025463c      441  \n",
       "\n",
       "[154 rows x 7 columns]"
      ]
     },
     "execution_count": 105,
     "metadata": {},
     "output_type": "execute_result"
    }
   ],
   "source": [
    "#Хотим улучшить програмы лояльности для самых верных\n",
    "\n",
    "clients_loyal= RFM_Segment[RFM_Segment['F_Quartile'] >= 3 ].sort_values('monetary_value', ascending=False)\n",
    "clients_loyal"
   ]
  },
  {
   "cell_type": "markdown",
   "metadata": {},
   "source": [
    "В дальнейшем подробнее наиболее лояльных покупателей чтобы узнать структуру их потребления"
   ]
  },
  {
   "cell_type": "markdown",
   "metadata": {},
   "source": [
    "###  Разделим товары на категории"
   ]
  },
  {
   "cell_type": "markdown",
   "metadata": {},
   "source": [
    "Сегментируем пользователей по покупаемым товарам. К сожалению деление товаров по категорием отсутствует, а запросы категориального менеджера удовлетворить требуется. Категоризируем товары исходя из названий."
   ]
  },
  {
   "cell_type": "code",
   "execution_count": 106,
   "metadata": {},
   "outputs": [],
   "source": [
    "product = data"
   ]
  },
  {
   "cell_type": "code",
   "execution_count": 107,
   "metadata": {},
   "outputs": [
    {
     "data": {
      "text/html": [
       "<div>\n",
       "<style scoped>\n",
       "    .dataframe tbody tr th:only-of-type {\n",
       "        vertical-align: middle;\n",
       "    }\n",
       "\n",
       "    .dataframe tbody tr th {\n",
       "        vertical-align: top;\n",
       "    }\n",
       "\n",
       "    .dataframe thead th {\n",
       "        text-align: right;\n",
       "    }\n",
       "</style>\n",
       "<table border=\"1\" class=\"dataframe\">\n",
       "  <thead>\n",
       "    <tr style=\"text-align: right;\">\n",
       "      <th></th>\n",
       "      <th>date</th>\n",
       "      <th>customer_id</th>\n",
       "      <th>order_id</th>\n",
       "      <th>product</th>\n",
       "      <th>quantity</th>\n",
       "      <th>price</th>\n",
       "      <th>revenue</th>\n",
       "      <th>month</th>\n",
       "      <th>name</th>\n",
       "    </tr>\n",
       "  </thead>\n",
       "  <tbody>\n",
       "    <tr>\n",
       "      <th>0</th>\n",
       "      <td>2018-10-01 00:00:00</td>\n",
       "      <td>ee47d746-6d2f-4d3c-9622-c31412542920</td>\n",
       "      <td>68477</td>\n",
       "      <td>Комнатное растение в горшке Алое Вера, d12, h30</td>\n",
       "      <td>1</td>\n",
       "      <td>142.0</td>\n",
       "      <td>142.0</td>\n",
       "      <td>2018-10</td>\n",
       "      <td>[Комнатное, растение]</td>\n",
       "    </tr>\n",
       "    <tr>\n",
       "      <th>1</th>\n",
       "      <td>2018-10-01 00:00:00</td>\n",
       "      <td>ee47d746-6d2f-4d3c-9622-c31412542920</td>\n",
       "      <td>68477</td>\n",
       "      <td>Комнатное растение в горшке Кофе Арабика, d12,...</td>\n",
       "      <td>1</td>\n",
       "      <td>194.0</td>\n",
       "      <td>194.0</td>\n",
       "      <td>2018-10</td>\n",
       "      <td>[Комнатное, растение]</td>\n",
       "    </tr>\n",
       "    <tr>\n",
       "      <th>2</th>\n",
       "      <td>2018-10-01 00:00:00</td>\n",
       "      <td>ee47d746-6d2f-4d3c-9622-c31412542920</td>\n",
       "      <td>68477</td>\n",
       "      <td>Радермахера d-12 см h-20 см</td>\n",
       "      <td>1</td>\n",
       "      <td>112.0</td>\n",
       "      <td>112.0</td>\n",
       "      <td>2018-10</td>\n",
       "      <td>[Радермахера, d-12]</td>\n",
       "    </tr>\n",
       "    <tr>\n",
       "      <th>3</th>\n",
       "      <td>2018-10-01 00:00:00</td>\n",
       "      <td>ee47d746-6d2f-4d3c-9622-c31412542920</td>\n",
       "      <td>68477</td>\n",
       "      <td>Хризолидокарпус Лутесценс d-9 см</td>\n",
       "      <td>1</td>\n",
       "      <td>179.0</td>\n",
       "      <td>179.0</td>\n",
       "      <td>2018-10</td>\n",
       "      <td>[Хризолидокарпус, Лутесценс]</td>\n",
       "    </tr>\n",
       "    <tr>\n",
       "      <th>4</th>\n",
       "      <td>2018-10-01 00:00:00</td>\n",
       "      <td>ee47d746-6d2f-4d3c-9622-c31412542920</td>\n",
       "      <td>68477</td>\n",
       "      <td>Циперус Зумула d-12 см h-25 см</td>\n",
       "      <td>1</td>\n",
       "      <td>112.0</td>\n",
       "      <td>112.0</td>\n",
       "      <td>2018-10</td>\n",
       "      <td>[Циперус, Зумула]</td>\n",
       "    </tr>\n",
       "    <tr>\n",
       "      <th>...</th>\n",
       "      <td>...</td>\n",
       "      <td>...</td>\n",
       "      <td>...</td>\n",
       "      <td>...</td>\n",
       "      <td>...</td>\n",
       "      <td>...</td>\n",
       "      <td>...</td>\n",
       "      <td>...</td>\n",
       "      <td>...</td>\n",
       "    </tr>\n",
       "    <tr>\n",
       "      <th>6731</th>\n",
       "      <td>2019-10-31 11:00:00</td>\n",
       "      <td>f17ed857-178e-45e1-a662-0a9dd3b58c5f</td>\n",
       "      <td>73155</td>\n",
       "      <td>Мимоза стыдливая d-9 см</td>\n",
       "      <td>1</td>\n",
       "      <td>329.0</td>\n",
       "      <td>329.0</td>\n",
       "      <td>2019-10</td>\n",
       "      <td>[Мимоза, стыдливая]</td>\n",
       "    </tr>\n",
       "    <tr>\n",
       "      <th>6732</th>\n",
       "      <td>2019-10-31 11:00:00</td>\n",
       "      <td>73d1cd35-5e5f-4629-8cf2-3fda829d4e58</td>\n",
       "      <td>73156</td>\n",
       "      <td>Таз пластмассовый 40,0 л пищевой овальный (Иж)...</td>\n",
       "      <td>1</td>\n",
       "      <td>404.0</td>\n",
       "      <td>404.0</td>\n",
       "      <td>2019-10</td>\n",
       "      <td>[Таз, пластмассовый]</td>\n",
       "    </tr>\n",
       "    <tr>\n",
       "      <th>6733</th>\n",
       "      <td>2019-10-31 12:00:00</td>\n",
       "      <td>1f0a7f35-7459-4f23-b468-5e45bf481dd1</td>\n",
       "      <td>73158</td>\n",
       "      <td>Сумка-тележка 2-х колесная Gimi Argo синяя</td>\n",
       "      <td>1</td>\n",
       "      <td>1087.0</td>\n",
       "      <td>1087.0</td>\n",
       "      <td>2019-10</td>\n",
       "      <td>[Сумка-тележка, 2-х]</td>\n",
       "    </tr>\n",
       "    <tr>\n",
       "      <th>6734</th>\n",
       "      <td>2019-10-31 13:00:00</td>\n",
       "      <td>25df96a7-c453-4708-9cea-a3dfc7c342ea</td>\n",
       "      <td>73162</td>\n",
       "      <td>Герань домашняя (пеларгония зональная) цветуща...</td>\n",
       "      <td>1</td>\n",
       "      <td>157.0</td>\n",
       "      <td>157.0</td>\n",
       "      <td>2019-10</td>\n",
       "      <td>[Герань, домашняя]</td>\n",
       "    </tr>\n",
       "    <tr>\n",
       "      <th>6735</th>\n",
       "      <td>2019-10-31 14:00:00</td>\n",
       "      <td>73d1cd35-5e5f-4629-8cf2-3fda829d4e58</td>\n",
       "      <td>73164</td>\n",
       "      <td>Таз пластмассовый со стиральной доской (Иж), 1...</td>\n",
       "      <td>1</td>\n",
       "      <td>397.0</td>\n",
       "      <td>397.0</td>\n",
       "      <td>2019-10</td>\n",
       "      <td>[Таз, пластмассовый]</td>\n",
       "    </tr>\n",
       "  </tbody>\n",
       "</table>\n",
       "<p>4745 rows × 9 columns</p>\n",
       "</div>"
      ],
      "text/plain": [
       "                    date                           customer_id  order_id  \\\n",
       "0    2018-10-01 00:00:00  ee47d746-6d2f-4d3c-9622-c31412542920     68477   \n",
       "1    2018-10-01 00:00:00  ee47d746-6d2f-4d3c-9622-c31412542920     68477   \n",
       "2    2018-10-01 00:00:00  ee47d746-6d2f-4d3c-9622-c31412542920     68477   \n",
       "3    2018-10-01 00:00:00  ee47d746-6d2f-4d3c-9622-c31412542920     68477   \n",
       "4    2018-10-01 00:00:00  ee47d746-6d2f-4d3c-9622-c31412542920     68477   \n",
       "...                  ...                                   ...       ...   \n",
       "6731 2019-10-31 11:00:00  f17ed857-178e-45e1-a662-0a9dd3b58c5f     73155   \n",
       "6732 2019-10-31 11:00:00  73d1cd35-5e5f-4629-8cf2-3fda829d4e58     73156   \n",
       "6733 2019-10-31 12:00:00  1f0a7f35-7459-4f23-b468-5e45bf481dd1     73158   \n",
       "6734 2019-10-31 13:00:00  25df96a7-c453-4708-9cea-a3dfc7c342ea     73162   \n",
       "6735 2019-10-31 14:00:00  73d1cd35-5e5f-4629-8cf2-3fda829d4e58     73164   \n",
       "\n",
       "                                                product  quantity   price  \\\n",
       "0       Комнатное растение в горшке Алое Вера, d12, h30         1   142.0   \n",
       "1     Комнатное растение в горшке Кофе Арабика, d12,...         1   194.0   \n",
       "2                           Радермахера d-12 см h-20 см         1   112.0   \n",
       "3                      Хризолидокарпус Лутесценс d-9 см         1   179.0   \n",
       "4                        Циперус Зумула d-12 см h-25 см         1   112.0   \n",
       "...                                                 ...       ...     ...   \n",
       "6731                            Мимоза стыдливая d-9 см         1   329.0   \n",
       "6732  Таз пластмассовый 40,0 л пищевой овальный (Иж)...         1   404.0   \n",
       "6733         Сумка-тележка 2-х колесная Gimi Argo синяя         1  1087.0   \n",
       "6734  Герань домашняя (пеларгония зональная) цветуща...         1   157.0   \n",
       "6735  Таз пластмассовый со стиральной доской (Иж), 1...         1   397.0   \n",
       "\n",
       "      revenue    month                          name  \n",
       "0       142.0  2018-10         [Комнатное, растение]  \n",
       "1       194.0  2018-10         [Комнатное, растение]  \n",
       "2       112.0  2018-10           [Радермахера, d-12]  \n",
       "3       179.0  2018-10  [Хризолидокарпус, Лутесценс]  \n",
       "4       112.0  2018-10             [Циперус, Зумула]  \n",
       "...       ...      ...                           ...  \n",
       "6731    329.0  2019-10           [Мимоза, стыдливая]  \n",
       "6732    404.0  2019-10          [Таз, пластмассовый]  \n",
       "6733   1087.0  2019-10          [Сумка-тележка, 2-х]  \n",
       "6734    157.0  2019-10            [Герань, домашняя]  \n",
       "6735    397.0  2019-10          [Таз, пластмассовый]  \n",
       "\n",
       "[4745 rows x 9 columns]"
      ]
     },
     "execution_count": 107,
     "metadata": {},
     "output_type": "execute_result"
    }
   ],
   "source": [
    "product['name'] = data['product'].apply(lambda x: x.split(' ')[0:2])\n",
    "product"
   ]
  },
  {
   "cell_type": "code",
   "execution_count": 108,
   "metadata": {},
   "outputs": [
    {
     "data": {
      "text/html": [
       "<div>\n",
       "<style scoped>\n",
       "    .dataframe tbody tr th:only-of-type {\n",
       "        vertical-align: middle;\n",
       "    }\n",
       "\n",
       "    .dataframe tbody tr th {\n",
       "        vertical-align: top;\n",
       "    }\n",
       "\n",
       "    .dataframe thead th {\n",
       "        text-align: right;\n",
       "    }\n",
       "</style>\n",
       "<table border=\"1\" class=\"dataframe\">\n",
       "  <thead>\n",
       "    <tr style=\"text-align: right;\">\n",
       "      <th></th>\n",
       "      <th>date</th>\n",
       "      <th>customer_id</th>\n",
       "      <th>order_id</th>\n",
       "      <th>product</th>\n",
       "      <th>quantity</th>\n",
       "      <th>price</th>\n",
       "      <th>revenue</th>\n",
       "      <th>month</th>\n",
       "      <th>name</th>\n",
       "    </tr>\n",
       "  </thead>\n",
       "  <tbody>\n",
       "    <tr>\n",
       "      <th>0</th>\n",
       "      <td>2018-10-01 00:00:00</td>\n",
       "      <td>ee47d746-6d2f-4d3c-9622-c31412542920</td>\n",
       "      <td>68477</td>\n",
       "      <td>Комнатное растение в горшке Алое Вера, d12, h30</td>\n",
       "      <td>1</td>\n",
       "      <td>142.0</td>\n",
       "      <td>142.0</td>\n",
       "      <td>2018-10</td>\n",
       "      <td>[Комнатное, растение]</td>\n",
       "    </tr>\n",
       "    <tr>\n",
       "      <th>1</th>\n",
       "      <td>2018-10-01 00:00:00</td>\n",
       "      <td>ee47d746-6d2f-4d3c-9622-c31412542920</td>\n",
       "      <td>68477</td>\n",
       "      <td>Комнатное растение в горшке Кофе Арабика, d12,...</td>\n",
       "      <td>1</td>\n",
       "      <td>194.0</td>\n",
       "      <td>194.0</td>\n",
       "      <td>2018-10</td>\n",
       "      <td>[Комнатное, растение]</td>\n",
       "    </tr>\n",
       "    <tr>\n",
       "      <th>2</th>\n",
       "      <td>2018-10-01 00:00:00</td>\n",
       "      <td>ee47d746-6d2f-4d3c-9622-c31412542920</td>\n",
       "      <td>68477</td>\n",
       "      <td>Радермахера d-12 см h-20 см</td>\n",
       "      <td>1</td>\n",
       "      <td>112.0</td>\n",
       "      <td>112.0</td>\n",
       "      <td>2018-10</td>\n",
       "      <td>[Радермахера, d-12]</td>\n",
       "    </tr>\n",
       "    <tr>\n",
       "      <th>3</th>\n",
       "      <td>2018-10-01 00:00:00</td>\n",
       "      <td>ee47d746-6d2f-4d3c-9622-c31412542920</td>\n",
       "      <td>68477</td>\n",
       "      <td>Хризолидокарпус Лутесценс d-9 см</td>\n",
       "      <td>1</td>\n",
       "      <td>179.0</td>\n",
       "      <td>179.0</td>\n",
       "      <td>2018-10</td>\n",
       "      <td>[Хризолидокарпус, Лутесценс]</td>\n",
       "    </tr>\n",
       "    <tr>\n",
       "      <th>4</th>\n",
       "      <td>2018-10-01 00:00:00</td>\n",
       "      <td>ee47d746-6d2f-4d3c-9622-c31412542920</td>\n",
       "      <td>68477</td>\n",
       "      <td>Циперус Зумула d-12 см h-25 см</td>\n",
       "      <td>1</td>\n",
       "      <td>112.0</td>\n",
       "      <td>112.0</td>\n",
       "      <td>2018-10</td>\n",
       "      <td>[Циперус, Зумула]</td>\n",
       "    </tr>\n",
       "    <tr>\n",
       "      <th>...</th>\n",
       "      <td>...</td>\n",
       "      <td>...</td>\n",
       "      <td>...</td>\n",
       "      <td>...</td>\n",
       "      <td>...</td>\n",
       "      <td>...</td>\n",
       "      <td>...</td>\n",
       "      <td>...</td>\n",
       "      <td>...</td>\n",
       "    </tr>\n",
       "    <tr>\n",
       "      <th>6731</th>\n",
       "      <td>2019-10-31 11:00:00</td>\n",
       "      <td>f17ed857-178e-45e1-a662-0a9dd3b58c5f</td>\n",
       "      <td>73155</td>\n",
       "      <td>Мимоза стыдливая d-9 см</td>\n",
       "      <td>1</td>\n",
       "      <td>329.0</td>\n",
       "      <td>329.0</td>\n",
       "      <td>2019-10</td>\n",
       "      <td>[Мимоза, стыдливая]</td>\n",
       "    </tr>\n",
       "    <tr>\n",
       "      <th>6732</th>\n",
       "      <td>2019-10-31 11:00:00</td>\n",
       "      <td>73d1cd35-5e5f-4629-8cf2-3fda829d4e58</td>\n",
       "      <td>73156</td>\n",
       "      <td>Таз пластмассовый 40,0 л пищевой овальный (Иж)...</td>\n",
       "      <td>1</td>\n",
       "      <td>404.0</td>\n",
       "      <td>404.0</td>\n",
       "      <td>2019-10</td>\n",
       "      <td>[Таз, пластмассовый]</td>\n",
       "    </tr>\n",
       "    <tr>\n",
       "      <th>6733</th>\n",
       "      <td>2019-10-31 12:00:00</td>\n",
       "      <td>1f0a7f35-7459-4f23-b468-5e45bf481dd1</td>\n",
       "      <td>73158</td>\n",
       "      <td>Сумка-тележка 2-х колесная Gimi Argo синяя</td>\n",
       "      <td>1</td>\n",
       "      <td>1087.0</td>\n",
       "      <td>1087.0</td>\n",
       "      <td>2019-10</td>\n",
       "      <td>[Сумка-тележка, 2-х]</td>\n",
       "    </tr>\n",
       "    <tr>\n",
       "      <th>6734</th>\n",
       "      <td>2019-10-31 13:00:00</td>\n",
       "      <td>25df96a7-c453-4708-9cea-a3dfc7c342ea</td>\n",
       "      <td>73162</td>\n",
       "      <td>Герань домашняя (пеларгония зональная) цветуща...</td>\n",
       "      <td>1</td>\n",
       "      <td>157.0</td>\n",
       "      <td>157.0</td>\n",
       "      <td>2019-10</td>\n",
       "      <td>[Герань, домашняя]</td>\n",
       "    </tr>\n",
       "    <tr>\n",
       "      <th>6735</th>\n",
       "      <td>2019-10-31 14:00:00</td>\n",
       "      <td>73d1cd35-5e5f-4629-8cf2-3fda829d4e58</td>\n",
       "      <td>73164</td>\n",
       "      <td>Таз пластмассовый со стиральной доской (Иж), 1...</td>\n",
       "      <td>1</td>\n",
       "      <td>397.0</td>\n",
       "      <td>397.0</td>\n",
       "      <td>2019-10</td>\n",
       "      <td>[Таз, пластмассовый]</td>\n",
       "    </tr>\n",
       "  </tbody>\n",
       "</table>\n",
       "<p>4745 rows × 9 columns</p>\n",
       "</div>"
      ],
      "text/plain": [
       "                    date                           customer_id  order_id  \\\n",
       "0    2018-10-01 00:00:00  ee47d746-6d2f-4d3c-9622-c31412542920     68477   \n",
       "1    2018-10-01 00:00:00  ee47d746-6d2f-4d3c-9622-c31412542920     68477   \n",
       "2    2018-10-01 00:00:00  ee47d746-6d2f-4d3c-9622-c31412542920     68477   \n",
       "3    2018-10-01 00:00:00  ee47d746-6d2f-4d3c-9622-c31412542920     68477   \n",
       "4    2018-10-01 00:00:00  ee47d746-6d2f-4d3c-9622-c31412542920     68477   \n",
       "...                  ...                                   ...       ...   \n",
       "6731 2019-10-31 11:00:00  f17ed857-178e-45e1-a662-0a9dd3b58c5f     73155   \n",
       "6732 2019-10-31 11:00:00  73d1cd35-5e5f-4629-8cf2-3fda829d4e58     73156   \n",
       "6733 2019-10-31 12:00:00  1f0a7f35-7459-4f23-b468-5e45bf481dd1     73158   \n",
       "6734 2019-10-31 13:00:00  25df96a7-c453-4708-9cea-a3dfc7c342ea     73162   \n",
       "6735 2019-10-31 14:00:00  73d1cd35-5e5f-4629-8cf2-3fda829d4e58     73164   \n",
       "\n",
       "                                                product  quantity   price  \\\n",
       "0       Комнатное растение в горшке Алое Вера, d12, h30         1   142.0   \n",
       "1     Комнатное растение в горшке Кофе Арабика, d12,...         1   194.0   \n",
       "2                           Радермахера d-12 см h-20 см         1   112.0   \n",
       "3                      Хризолидокарпус Лутесценс d-9 см         1   179.0   \n",
       "4                        Циперус Зумула d-12 см h-25 см         1   112.0   \n",
       "...                                                 ...       ...     ...   \n",
       "6731                            Мимоза стыдливая d-9 см         1   329.0   \n",
       "6732  Таз пластмассовый 40,0 л пищевой овальный (Иж)...         1   404.0   \n",
       "6733         Сумка-тележка 2-х колесная Gimi Argo синяя         1  1087.0   \n",
       "6734  Герань домашняя (пеларгония зональная) цветуща...         1   157.0   \n",
       "6735  Таз пластмассовый со стиральной доской (Иж), 1...         1   397.0   \n",
       "\n",
       "      revenue    month                          name  \n",
       "0       142.0  2018-10         [Комнатное, растение]  \n",
       "1       194.0  2018-10         [Комнатное, растение]  \n",
       "2       112.0  2018-10           [Радермахера, d-12]  \n",
       "3       179.0  2018-10  [Хризолидокарпус, Лутесценс]  \n",
       "4       112.0  2018-10             [Циперус, Зумула]  \n",
       "...       ...      ...                           ...  \n",
       "6731    329.0  2019-10           [Мимоза, стыдливая]  \n",
       "6732    404.0  2019-10          [Таз, пластмассовый]  \n",
       "6733   1087.0  2019-10          [Сумка-тележка, 2-х]  \n",
       "6734    157.0  2019-10            [Герань, домашняя]  \n",
       "6735    397.0  2019-10          [Таз, пластмассовый]  \n",
       "\n",
       "[4745 rows x 9 columns]"
      ]
     },
     "execution_count": 108,
     "metadata": {},
     "output_type": "execute_result"
    }
   ],
   "source": [
    "product"
   ]
  },
  {
   "cell_type": "code",
   "execution_count": 109,
   "metadata": {
    "scrolled": true
   },
   "outputs": [
    {
     "data": {
      "text/html": [
       "<div>\n",
       "<style scoped>\n",
       "    .dataframe tbody tr th:only-of-type {\n",
       "        vertical-align: middle;\n",
       "    }\n",
       "\n",
       "    .dataframe tbody tr th {\n",
       "        vertical-align: top;\n",
       "    }\n",
       "\n",
       "    .dataframe thead th {\n",
       "        text-align: right;\n",
       "    }\n",
       "</style>\n",
       "<table border=\"1\" class=\"dataframe\">\n",
       "  <thead>\n",
       "    <tr style=\"text-align: right;\">\n",
       "      <th></th>\n",
       "      <th>date</th>\n",
       "      <th>customer_id</th>\n",
       "      <th>order_id</th>\n",
       "      <th>product</th>\n",
       "      <th>quantity</th>\n",
       "      <th>price</th>\n",
       "      <th>revenue</th>\n",
       "      <th>month</th>\n",
       "      <th>name</th>\n",
       "    </tr>\n",
       "  </thead>\n",
       "  <tbody>\n",
       "    <tr>\n",
       "      <th>0</th>\n",
       "      <td>2018-10-01</td>\n",
       "      <td>ee47d746-6d2f-4d3c-9622-c31412542920</td>\n",
       "      <td>68477</td>\n",
       "      <td>Комнатное растение в горшке Алое Вера, d12, h30</td>\n",
       "      <td>1</td>\n",
       "      <td>142.0</td>\n",
       "      <td>142.0</td>\n",
       "      <td>2018-10</td>\n",
       "      <td>[Комнатное, растение]</td>\n",
       "    </tr>\n",
       "    <tr>\n",
       "      <th>1</th>\n",
       "      <td>2018-10-01</td>\n",
       "      <td>ee47d746-6d2f-4d3c-9622-c31412542920</td>\n",
       "      <td>68477</td>\n",
       "      <td>Комнатное растение в горшке Кофе Арабика, d12,...</td>\n",
       "      <td>1</td>\n",
       "      <td>194.0</td>\n",
       "      <td>194.0</td>\n",
       "      <td>2018-10</td>\n",
       "      <td>[Комнатное, растение]</td>\n",
       "    </tr>\n",
       "    <tr>\n",
       "      <th>2</th>\n",
       "      <td>2018-10-01</td>\n",
       "      <td>ee47d746-6d2f-4d3c-9622-c31412542920</td>\n",
       "      <td>68477</td>\n",
       "      <td>Радермахера d-12 см h-20 см</td>\n",
       "      <td>1</td>\n",
       "      <td>112.0</td>\n",
       "      <td>112.0</td>\n",
       "      <td>2018-10</td>\n",
       "      <td>[Радермахера, d-12]</td>\n",
       "    </tr>\n",
       "    <tr>\n",
       "      <th>3</th>\n",
       "      <td>2018-10-01</td>\n",
       "      <td>ee47d746-6d2f-4d3c-9622-c31412542920</td>\n",
       "      <td>68477</td>\n",
       "      <td>Хризолидокарпус Лутесценс d-9 см</td>\n",
       "      <td>1</td>\n",
       "      <td>179.0</td>\n",
       "      <td>179.0</td>\n",
       "      <td>2018-10</td>\n",
       "      <td>[Хризолидокарпус, Лутесценс]</td>\n",
       "    </tr>\n",
       "    <tr>\n",
       "      <th>4</th>\n",
       "      <td>2018-10-01</td>\n",
       "      <td>ee47d746-6d2f-4d3c-9622-c31412542920</td>\n",
       "      <td>68477</td>\n",
       "      <td>Циперус Зумула d-12 см h-25 см</td>\n",
       "      <td>1</td>\n",
       "      <td>112.0</td>\n",
       "      <td>112.0</td>\n",
       "      <td>2018-10</td>\n",
       "      <td>[Циперус, Зумула]</td>\n",
       "    </tr>\n",
       "  </tbody>\n",
       "</table>\n",
       "</div>"
      ],
      "text/plain": [
       "        date                           customer_id  order_id  \\\n",
       "0 2018-10-01  ee47d746-6d2f-4d3c-9622-c31412542920     68477   \n",
       "1 2018-10-01  ee47d746-6d2f-4d3c-9622-c31412542920     68477   \n",
       "2 2018-10-01  ee47d746-6d2f-4d3c-9622-c31412542920     68477   \n",
       "3 2018-10-01  ee47d746-6d2f-4d3c-9622-c31412542920     68477   \n",
       "4 2018-10-01  ee47d746-6d2f-4d3c-9622-c31412542920     68477   \n",
       "\n",
       "                                             product  quantity  price  \\\n",
       "0    Комнатное растение в горшке Алое Вера, d12, h30         1  142.0   \n",
       "1  Комнатное растение в горшке Кофе Арабика, d12,...         1  194.0   \n",
       "2                        Радермахера d-12 см h-20 см         1  112.0   \n",
       "3                   Хризолидокарпус Лутесценс d-9 см         1  179.0   \n",
       "4                     Циперус Зумула d-12 см h-25 см         1  112.0   \n",
       "\n",
       "   revenue    month                          name  \n",
       "0    142.0  2018-10         [Комнатное, растение]  \n",
       "1    194.0  2018-10         [Комнатное, растение]  \n",
       "2    112.0  2018-10           [Радермахера, d-12]  \n",
       "3    179.0  2018-10  [Хризолидокарпус, Лутесценс]  \n",
       "4    112.0  2018-10             [Циперус, Зумула]  "
      ]
     },
     "execution_count": 109,
     "metadata": {},
     "output_type": "execute_result"
    }
   ],
   "source": [
    "# Посмотрим на промежуточный результат\n",
    "product.head()"
   ]
  },
  {
   "cell_type": "markdown",
   "metadata": {},
   "source": [
    "Сгрупируем товары для того чтобы выделить названия самых популярных товаров"
   ]
  },
  {
   "cell_type": "code",
   "execution_count": 110,
   "metadata": {},
   "outputs": [
    {
     "data": {
      "text/html": [
       "<div>\n",
       "<style scoped>\n",
       "    .dataframe tbody tr th:only-of-type {\n",
       "        vertical-align: middle;\n",
       "    }\n",
       "\n",
       "    .dataframe tbody tr th {\n",
       "        vertical-align: top;\n",
       "    }\n",
       "\n",
       "    .dataframe thead th {\n",
       "        text-align: right;\n",
       "    }\n",
       "</style>\n",
       "<table border=\"1\" class=\"dataframe\">\n",
       "  <thead>\n",
       "    <tr style=\"text-align: right;\">\n",
       "      <th></th>\n",
       "      <th>product</th>\n",
       "      <th>price</th>\n",
       "      <th>quantity</th>\n",
       "      <th>revenue</th>\n",
       "    </tr>\n",
       "  </thead>\n",
       "  <tbody>\n",
       "    <tr>\n",
       "      <th>0</th>\n",
       "      <td>Простынь вафельная 200х180 см WELLNESS RW180-0...</td>\n",
       "      <td>1852.0</td>\n",
       "      <td>30</td>\n",
       "      <td>53232.0</td>\n",
       "    </tr>\n",
       "    <tr>\n",
       "      <th>1</th>\n",
       "      <td>Сумка-тележка 2-х колесная Gimi Argo синяя</td>\n",
       "      <td>1072.0</td>\n",
       "      <td>47</td>\n",
       "      <td>50405.0</td>\n",
       "    </tr>\n",
       "    <tr>\n",
       "      <th>2</th>\n",
       "      <td>Урна уличная \"Гео\", Hobbyka/Хоббика, 59*37,5см...</td>\n",
       "      <td>4874.0</td>\n",
       "      <td>5</td>\n",
       "      <td>24370.0</td>\n",
       "    </tr>\n",
       "    <tr>\n",
       "      <th>3</th>\n",
       "      <td>Веник сорго с деревянной ручкой с 4-мя швами, ...</td>\n",
       "      <td>540.0</td>\n",
       "      <td>37</td>\n",
       "      <td>20010.0</td>\n",
       "    </tr>\n",
       "    <tr>\n",
       "      <th>4</th>\n",
       "      <td>Сумка-тележка 3-х колесная Gimi Tris Floral синяя</td>\n",
       "      <td>2699.0</td>\n",
       "      <td>7</td>\n",
       "      <td>18893.0</td>\n",
       "    </tr>\n",
       "    <tr>\n",
       "      <th>...</th>\n",
       "      <td>...</td>\n",
       "      <td>...</td>\n",
       "      <td>...</td>\n",
       "      <td>...</td>\n",
       "    </tr>\n",
       "    <tr>\n",
       "      <th>2278</th>\n",
       "      <td>Огурец Засолочный 0,3 г 4660010776102</td>\n",
       "      <td>10.0</td>\n",
       "      <td>1</td>\n",
       "      <td>10.0</td>\n",
       "    </tr>\n",
       "    <tr>\n",
       "      <th>2279</th>\n",
       "      <td>Петрушка Итальянский гигант 2 г 4660010776553</td>\n",
       "      <td>10.0</td>\n",
       "      <td>1</td>\n",
       "      <td>10.0</td>\n",
       "    </tr>\n",
       "    <tr>\n",
       "      <th>2280</th>\n",
       "      <td>Морковь Детская сладость 2 г 4660010775921</td>\n",
       "      <td>10.0</td>\n",
       "      <td>1</td>\n",
       "      <td>10.0</td>\n",
       "    </tr>\n",
       "    <tr>\n",
       "      <th>2281</th>\n",
       "      <td>Львиный зев Волшебный ковер 0,05 г 4660010779639</td>\n",
       "      <td>9.0</td>\n",
       "      <td>1</td>\n",
       "      <td>9.0</td>\n",
       "    </tr>\n",
       "    <tr>\n",
       "      <th>2282</th>\n",
       "      <td>Горох Амброзия 10,0 г 4660010772616</td>\n",
       "      <td>9.0</td>\n",
       "      <td>1</td>\n",
       "      <td>9.0</td>\n",
       "    </tr>\n",
       "  </tbody>\n",
       "</table>\n",
       "<p>2283 rows × 4 columns</p>\n",
       "</div>"
      ],
      "text/plain": [
       "                                                product   price  quantity  \\\n",
       "0     Простынь вафельная 200х180 см WELLNESS RW180-0...  1852.0        30   \n",
       "1            Сумка-тележка 2-х колесная Gimi Argo синяя  1072.0        47   \n",
       "2     Урна уличная \"Гео\", Hobbyka/Хоббика, 59*37,5см...  4874.0         5   \n",
       "3     Веник сорго с деревянной ручкой с 4-мя швами, ...   540.0        37   \n",
       "4     Сумка-тележка 3-х колесная Gimi Tris Floral синяя  2699.0         7   \n",
       "...                                                 ...     ...       ...   \n",
       "2278              Огурец Засолочный 0,3 г 4660010776102    10.0         1   \n",
       "2279      Петрушка Итальянский гигант 2 г 4660010776553    10.0         1   \n",
       "2280         Морковь Детская сладость 2 г 4660010775921    10.0         1   \n",
       "2281   Львиный зев Волшебный ковер 0,05 г 4660010779639     9.0         1   \n",
       "2282                Горох Амброзия 10,0 г 4660010772616     9.0         1   \n",
       "\n",
       "      revenue  \n",
       "0     53232.0  \n",
       "1     50405.0  \n",
       "2     24370.0  \n",
       "3     20010.0  \n",
       "4     18893.0  \n",
       "...       ...  \n",
       "2278     10.0  \n",
       "2279     10.0  \n",
       "2280     10.0  \n",
       "2281      9.0  \n",
       "2282      9.0  \n",
       "\n",
       "[2283 rows x 4 columns]"
      ]
     },
     "execution_count": 110,
     "metadata": {},
     "output_type": "execute_result"
    }
   ],
   "source": [
    "#Cводная таблица продаж по товарам\n",
    "product = data.pivot_table(index=['product'], values=['revenue', 'price', 'quantity', 'month'], \n",
    "                    aggfunc={'revenue': 'sum', \n",
    "                             'price': 'mean', \n",
    "                             'quantity': 'sum'}).round().sort_values(by = 'revenue', ascending = False)\n",
    "product = product.reset_index()\n",
    "product"
   ]
  },
  {
   "cell_type": "code",
   "execution_count": 111,
   "metadata": {},
   "outputs": [
    {
     "data": {
      "text/html": [
       "<div>\n",
       "<style scoped>\n",
       "    .dataframe tbody tr th:only-of-type {\n",
       "        vertical-align: middle;\n",
       "    }\n",
       "\n",
       "    .dataframe tbody tr th {\n",
       "        vertical-align: top;\n",
       "    }\n",
       "\n",
       "    .dataframe thead th {\n",
       "        text-align: right;\n",
       "    }\n",
       "</style>\n",
       "<table border=\"1\" class=\"dataframe\">\n",
       "  <thead>\n",
       "    <tr style=\"text-align: right;\">\n",
       "      <th></th>\n",
       "      <th>product</th>\n",
       "      <th>price</th>\n",
       "      <th>quantity</th>\n",
       "      <th>revenue</th>\n",
       "      <th>name</th>\n",
       "    </tr>\n",
       "  </thead>\n",
       "  <tbody>\n",
       "    <tr>\n",
       "      <th>0</th>\n",
       "      <td>Простынь вафельная 200х180 см WELLNESS RW180-0...</td>\n",
       "      <td>1852.0</td>\n",
       "      <td>30</td>\n",
       "      <td>53232.0</td>\n",
       "      <td>Простынь</td>\n",
       "    </tr>\n",
       "    <tr>\n",
       "      <th>1</th>\n",
       "      <td>Сумка-тележка 2-х колесная Gimi Argo синяя</td>\n",
       "      <td>1072.0</td>\n",
       "      <td>47</td>\n",
       "      <td>50405.0</td>\n",
       "      <td>Сумка-тележка</td>\n",
       "    </tr>\n",
       "    <tr>\n",
       "      <th>2</th>\n",
       "      <td>Урна уличная \"Гео\", Hobbyka/Хоббика, 59*37,5см...</td>\n",
       "      <td>4874.0</td>\n",
       "      <td>5</td>\n",
       "      <td>24370.0</td>\n",
       "      <td>Урна</td>\n",
       "    </tr>\n",
       "    <tr>\n",
       "      <th>3</th>\n",
       "      <td>Веник сорго с деревянной ручкой с 4-мя швами, ...</td>\n",
       "      <td>540.0</td>\n",
       "      <td>37</td>\n",
       "      <td>20010.0</td>\n",
       "      <td>Веник</td>\n",
       "    </tr>\n",
       "    <tr>\n",
       "      <th>4</th>\n",
       "      <td>Сумка-тележка 3-х колесная Gimi Tris Floral синяя</td>\n",
       "      <td>2699.0</td>\n",
       "      <td>7</td>\n",
       "      <td>18893.0</td>\n",
       "      <td>Сумка-тележка</td>\n",
       "    </tr>\n",
       "    <tr>\n",
       "      <th>...</th>\n",
       "      <td>...</td>\n",
       "      <td>...</td>\n",
       "      <td>...</td>\n",
       "      <td>...</td>\n",
       "      <td>...</td>\n",
       "    </tr>\n",
       "    <tr>\n",
       "      <th>2278</th>\n",
       "      <td>Огурец Засолочный 0,3 г 4660010776102</td>\n",
       "      <td>10.0</td>\n",
       "      <td>1</td>\n",
       "      <td>10.0</td>\n",
       "      <td>Огурец</td>\n",
       "    </tr>\n",
       "    <tr>\n",
       "      <th>2279</th>\n",
       "      <td>Петрушка Итальянский гигант 2 г 4660010776553</td>\n",
       "      <td>10.0</td>\n",
       "      <td>1</td>\n",
       "      <td>10.0</td>\n",
       "      <td>Петрушка</td>\n",
       "    </tr>\n",
       "    <tr>\n",
       "      <th>2280</th>\n",
       "      <td>Морковь Детская сладость 2 г 4660010775921</td>\n",
       "      <td>10.0</td>\n",
       "      <td>1</td>\n",
       "      <td>10.0</td>\n",
       "      <td>Морковь</td>\n",
       "    </tr>\n",
       "    <tr>\n",
       "      <th>2281</th>\n",
       "      <td>Львиный зев Волшебный ковер 0,05 г 4660010779639</td>\n",
       "      <td>9.0</td>\n",
       "      <td>1</td>\n",
       "      <td>9.0</td>\n",
       "      <td>Львиный</td>\n",
       "    </tr>\n",
       "    <tr>\n",
       "      <th>2282</th>\n",
       "      <td>Горох Амброзия 10,0 г 4660010772616</td>\n",
       "      <td>9.0</td>\n",
       "      <td>1</td>\n",
       "      <td>9.0</td>\n",
       "      <td>Горох</td>\n",
       "    </tr>\n",
       "  </tbody>\n",
       "</table>\n",
       "<p>2283 rows × 5 columns</p>\n",
       "</div>"
      ],
      "text/plain": [
       "                                                product   price  quantity  \\\n",
       "0     Простынь вафельная 200х180 см WELLNESS RW180-0...  1852.0        30   \n",
       "1            Сумка-тележка 2-х колесная Gimi Argo синяя  1072.0        47   \n",
       "2     Урна уличная \"Гео\", Hobbyka/Хоббика, 59*37,5см...  4874.0         5   \n",
       "3     Веник сорго с деревянной ручкой с 4-мя швами, ...   540.0        37   \n",
       "4     Сумка-тележка 3-х колесная Gimi Tris Floral синяя  2699.0         7   \n",
       "...                                                 ...     ...       ...   \n",
       "2278              Огурец Засолочный 0,3 г 4660010776102    10.0         1   \n",
       "2279      Петрушка Итальянский гигант 2 г 4660010776553    10.0         1   \n",
       "2280         Морковь Детская сладость 2 г 4660010775921    10.0         1   \n",
       "2281   Львиный зев Волшебный ковер 0,05 г 4660010779639     9.0         1   \n",
       "2282                Горох Амброзия 10,0 г 4660010772616     9.0         1   \n",
       "\n",
       "      revenue           name  \n",
       "0     53232.0       Простынь  \n",
       "1     50405.0  Сумка-тележка  \n",
       "2     24370.0           Урна  \n",
       "3     20010.0          Веник  \n",
       "4     18893.0  Сумка-тележка  \n",
       "...       ...            ...  \n",
       "2278     10.0         Огурец  \n",
       "2279     10.0       Петрушка  \n",
       "2280     10.0        Морковь  \n",
       "2281      9.0        Львиный  \n",
       "2282      9.0          Горох  \n",
       "\n",
       "[2283 rows x 5 columns]"
      ]
     },
     "execution_count": 111,
     "metadata": {},
     "output_type": "execute_result"
    }
   ],
   "source": [
    "product['name'] = product['product'].apply(lambda x: x.split(' ')[0])\n",
    "data['name'] = data['product'].apply(lambda x: x.split(' ')[0])\n",
    "product"
   ]
  },
  {
   "cell_type": "code",
   "execution_count": 112,
   "metadata": {},
   "outputs": [
    {
     "name": "stdout",
     "output_type": "stream",
     "text": [
      "455\n"
     ]
    }
   ],
   "source": [
    "#Посчитаем уникальные названия\n",
    "name = product.pivot_table(\n",
    "    index ='name', values = 'product', aggfunc='count').sort_values(by = 'product', ascending = False)\n",
    "\n",
    "print(len(name))"
   ]
  },
  {
   "cell_type": "code",
   "execution_count": 113,
   "metadata": {
    "scrolled": false
   },
   "outputs": [
    {
     "name": "stdout",
     "output_type": "stream",
     "text": [
      "                    product\n",
      "name                       \n",
      "Рассада                 175\n",
      "Сушилка                 112\n",
      "томата                   73\n",
      "Коврик                   71\n",
      "Гладильная               70\n",
      "Муляж                    68\n",
      "Сумка-тележка            64\n",
      "Пеларгония               60\n",
      "Чехол                    52\n",
      "Штора                    52\n",
      "Роза                     49\n",
      "Петуния                  42\n",
      "Набор                    36\n",
      "Искусственный            36\n",
      "Таз                      35\n",
      "Тарелка                  31\n",
      "Вешалка                  29\n",
      "Скатерть                 28\n",
      "Корзина                  23\n",
      "Герань                   21\n",
      "Стремянка                20\n",
      "Тележка                  19\n",
      "Салатник                 18\n",
      "Чайник                   18\n",
      "Цветок                   18\n",
      "Однолетнее               16\n",
      "Подвесное                15\n",
      "Банка                    14\n",
      "Флокс                    14\n",
      "Цикламен                 13\n",
      "Контейнер                12\n",
      "Примула                  12\n",
      "Кружка                   12\n",
      "Капуста                  11\n",
      "Нож                      11\n",
      "Калибрахоа               11\n",
      "Полки                    10\n",
      "Фуксия                   10\n",
      "Швабра                    9\n",
      "Пуансеттия                9\n",
      "Фиалка                    9\n",
      "Лестница-стремянка        9\n",
      "Щетка                     9\n",
      "Вербена                   9\n",
      "Салфетка                  8\n",
      "Карниз                    8\n",
      "Сковорода                 8\n",
      "Дыня                      8\n",
      "Комнатное                 8\n",
      "Базилик                   8\n",
      "Бегония                   8\n",
      "Бальзамин                 8\n",
      "Ведро                     8\n",
      "Бакопа                    8\n",
      "Антуриум                  7\n",
      "Мята                      7\n",
      "Ёрш                       7\n",
      "Космея                    7\n",
      "Перчатки                  7\n",
      "Декоративная              6\n",
      "Хризантема                6\n",
      "Огурец                    6\n",
      "Ковер                     6\n",
      "Средство                  6\n",
      "Кастрюля                  6\n",
      "Петрушка                  5\n",
      "Ложка                     5\n",
      "Новогоднее                5\n",
      "Декабрист                 5\n",
      "Подарочный                5\n",
      "Эвкалипт                  5\n",
      "Чайный                    5\n",
      "Арбуз                     5\n",
      "Вилка                     5\n",
      "Кофр                      5\n",
      "Томат                     5\n",
      "Термокружка               5\n",
      "Весы                      5\n",
      "Термос                    5\n",
      "Крючок                    5\n",
      "Лоток                     4\n",
      "Патиссон                  4\n",
      "Цинния                    4\n",
      "Жестяная                  4\n",
      "Азалия                    4\n",
      "Махровое                  4\n",
      "Настенная                 4\n",
      "Стакан                    4\n",
      "Насадка                   4\n",
      "Зубная                    4\n",
      "Ящик                      4\n",
      "Комплект                  4\n",
      "Коробка                   4\n",
      "Алиссум                   4\n",
      "Шнур                      4\n",
      "Искусственная             4\n",
      "Плед                      4\n",
      "Полотенце                 4\n",
      "Этажерка                  4\n",
      "Дендробиум                4\n",
      "Гвоздика                  4\n",
      "Тимьян                    4\n",
      "Подставка                 4\n",
      "Щетка-сметка              4\n",
      "Кувшин                    3\n",
      "Лаванда                   3\n",
      "Эхеверия                  3\n",
      "Миска                     3\n",
      "Кофе                      3\n",
      "Миксер                    3\n",
      "Лобелия                   3\n",
      "Львиный                   3\n",
      "Лавр                      3\n",
      "Стремянки                 3\n",
      "Мыло                      3\n",
      "Настурция                 3\n",
      "Столовая                  3\n",
      "Стеклянная                3\n",
      "Спатифиллум               3\n",
      "Совок                     3\n",
      "Скребок                   3\n",
      "Табак                     3\n",
      "Терка                     3\n",
      "Сиденье                   3\n",
      "Розмарин                  3\n",
      "Ткань                     3\n",
      "Колокольчик               3\n",
      "Фаленопсис                3\n",
      "Простыня                  3\n",
      "Форма                     3\n",
      "Покрытие                  3\n",
      "Покрывало                 3\n",
      "Подрукавник               3\n",
      "Подголовник               3\n",
      "Плечики                   3\n",
      "Хлебница                  3\n",
      "Петля                     3\n",
      "Сумка                     3\n",
      "Окномойка                 3\n",
      "Одеяло                    3\n",
      "Чайная                    3\n",
      "Разделочная               3\n",
      "Tepмокружка               3\n",
      "Вешалка-плечики           3\n",
      "Календула                 3\n",
      "Зверобой                  3\n",
      "Вешалка-стойка            3\n",
      "Гортензия                 3\n",
      "Клубника                  3\n",
      "Веник                     3\n",
      "Вешалки                   3\n",
      "Каланхое                  3\n",
      "Емкость                   3\n",
      "Астра                     3\n",
      "Виола                     3\n",
      "Ерш                       2\n",
      "Утюг                      2\n",
      "Бельевые                  2\n",
      "Осина                     2\n",
      "Сервировочная             2\n",
      "Толкушка                  2\n",
      "Насадка-моп               2\n",
      "Колеус                    2\n",
      "Земляника                 2\n",
      "Измерительный             2\n",
      "Паста                     2\n",
      "Мусорный                  2\n",
      "Хлорофитум                2\n",
      "Холодная                  2\n",
      "Монарда                   2\n",
      "Молодило                  2\n",
      "Афеляндра                 2\n",
      "Многолетнее               2\n",
      "Цветущее                  2\n",
      "Мирт                      2\n",
      "Бидон                     2\n",
      "Дозатор                   2\n",
      "Термостакан               2\n",
      "Термометр                 2\n",
      "Седум                     2\n",
      "Сверло-фреза,             2\n",
      "Газания                   2\n",
      "Салат                     2\n",
      "Рыбочистка                2\n",
      "Рукав                     2\n",
      "Гардения                  2\n",
      "Гербера                   2\n",
      "Соковарка                 2\n",
      "Пылесос                   2\n",
      "Пробка                    2\n",
      "Стеллаж                   2\n",
      "Портулак                  2\n",
      "Столовый                  2\n",
      "Полка                     2\n",
      "Подушка                   2\n",
      "Подкладка                 2\n",
      "Вантуз                    2\n",
      "Тагетис                   2\n",
      "Диффенбахия               2\n",
      "Доска                     2\n",
      "Целозия                   2\n",
      "Фатсия                    2\n",
      "Сетка                     2\n",
      "Шеффлера                  2\n",
      "Лопатка                   2\n",
      "Калла                     2\n",
      "Кориандр                  2\n",
      "Аптения                   2\n",
      "Короб                     2\n",
      "Аквилегия                 2\n",
      "Кисточка                  2\n",
      "Крассула                  2\n",
      "Кореопсис                 2\n",
      "Шпагат                    2\n",
      "Лапчатка                  2\n",
      "Лантана                   2\n",
      "Камнеломка                2\n",
      "Мешок                     2\n",
      "Штанга                    2\n",
      "Кухонное                  2\n",
      "Эхинокактус               2\n",
      "Корыто                    2\n",
      "Цинерания                 2\n",
      "Ковш                      2\n",
      "Цинерария                 2\n",
      "Калатея                   2\n",
      "Комод                     2\n",
      "Аспарагус                 2\n"
     ]
    }
   ],
   "source": [
    "#Оставляем товары заказанные более 1 раза\n",
    "value = 1\n",
    "name=name.query(\"product != @value\")\n",
    "print(name.to_string())"
   ]
  },
  {
   "cell_type": "code",
   "execution_count": 114,
   "metadata": {},
   "outputs": [],
   "source": [
    "#Распределим на категории\n",
    "#Растения\n",
    "plants = ['Рассада', 'томата', 'Пеларгония', 'Однолетнее', 'Новогоднее','Циперус','Мединилла','Роза', 'Петуния', 'Герань', 'Цветок', 'Однолетнее ', 'Флокс','Цикламен','Примула', 'Капуста ', 'Калибрахоа', 'Фуксия', 'Пуансеттия', 'Фиалка', 'Вербена', 'Дыня', 'Комнатное', 'Базилик', 'Бегония', 'Бальзамин', 'Бакопа', 'Антуриум', 'Мята', 'Космея', 'Декоративная', 'Хризантема', 'Огурец', 'Петрушка', 'Декабрист', 'Эвкалипт', 'Арбуз', 'Томат', 'Цинния', 'Патиссон', 'Азалия', 'Алиссум', 'Дендробиум', 'Гвоздика', 'Тимьян', 'Лаванда', 'Эхеверия', 'Лавр', 'Спатифиллум', 'Эхеверия', 'Аспарагус', 'Калатея', 'Цинерария', 'Цинерания', 'Эхинокактус', 'Лантана', 'Кореопсис', 'Крассула', 'Аквилегия', 'Аптения', 'Дендробиум', 'Гвоздика', 'Тимьян', 'Лаванда','Лавр', 'Настурция', 'Спатифиллум', 'Розмарин', 'Фаленопсис', 'Календула', 'Зверобой', 'Гортензия', 'Клубника', 'Каланхое', 'Астра', 'Виола', 'Осина', 'Колеус','Земляника', 'Хлорофитум', 'Монарда', 'Афеляндра', 'Многолетнее', 'Цветущее', 'Мирт', 'Седум', 'Газания', 'Салат', 'Гардения', 'Гербера', 'Тагетис', 'Диффенбахия', 'Целозия'       \n",
    "]\n",
    " \n",
    "#Хозяйственные товары\n",
    "households = ['Сушилка', 'Гладильная', 'Вешалка', 'Таз', 'Банка', 'Полки', 'Контейнер', 'Швабра', 'Щетка', 'Паста',\n",
    "              'Щетка-сметка', 'Сметка', 'Ведро', 'Корыто', 'Карниз', 'Подвесное', 'Складная', 'Мусорный', 'Автоматическая',\n",
    "              'Перчатки', 'Ёрш', 'Ерш', 'Средство', 'Насадка', 'Кофр', 'Весы','Крючок', 'Коробка', 'Веник', 'Комплект', 'Щетка-сметка', 'Скребок', 'Окномойка',  'Бельевые', 'Термометр',  'Вантуз', 'Мешок']\n",
    "\n",
    "#Сумки\n",
    "trolley_bag = ['Сумка-тележка', 'Тележка', 'Сумка', 'Этажерка']\n",
    "\n",
    "#Лестницы\n",
    "ladder = ['Стремянка', 'Стремянки', 'Стремянка-табурет', 'Лестница-стремянка']\n",
    "\n",
    "#Для дома\n",
    "home = ['Набор', 'Муляж','Чехол', 'Искусственный', 'Искусственная', 'Цветок', 'Декоративная', 'Настенная', 'Утюг', 'Вешалка-плечики', 'Вешалка-стойка', 'Вешалки', 'Ерш', 'Дозатор', 'Пылесос',\n",
    "       'Урна', 'Штанга']\n",
    "\n",
    "#Текстиль\n",
    "textile = ['Коврик', 'Ковер',  'Штора', 'Полотенце', 'Простынь', 'Махровое', 'Одеяло', 'Наматрацник', 'Покрывало', 'Подушка']\n",
    "\n",
    "#Кухонная утварь\n",
    "kitchen = ['Нож', 'Кружка', 'Салатник', 'Тарелка', 'Чайник', 'Скатерть', 'Салфетка', 'Сковорода', 'Кастрюля', \n",
    "           'Термокружка', 'Tepмокружка','Ложка', 'Термос', 'Вилка', 'Стакан', 'Жестяная', 'Лоток', 'Чайный', 'Ковш', 'Кухонное', 'Столовый', 'Соковарка', 'Рыбочистка', 'Термостакан', 'Бидон']\n",
    "\n",
    "\n",
    "#Присваиваем товарам категории\n",
    "product['category'] = 'другое'\n",
    "product.loc[product.query('name == @plants').index, 'category'] = 'растения'\n",
    "product.loc[product.query('name == @ladder').index, 'category'] = 'лестницы'\n",
    "product.loc[product.query('name == @households').index, 'category'] = 'хозтовары'\n",
    "product.loc[product.query('name == @trolley_bag').index, 'category'] = 'сумки'\n",
    "product.loc[product.query('name == @home').index, 'category'] = 'для дома'\n",
    "product.loc[product.query('name == @textile').index, 'category'] = 'текстиль'\n",
    "product.loc[product.query('name == @kitchen').index, 'category'] = 'кухонная утварь'"
   ]
  },
  {
   "cell_type": "code",
   "execution_count": 115,
   "metadata": {},
   "outputs": [
    {
     "data": {
      "text/html": [
       "<div>\n",
       "<style scoped>\n",
       "    .dataframe tbody tr th:only-of-type {\n",
       "        vertical-align: middle;\n",
       "    }\n",
       "\n",
       "    .dataframe tbody tr th {\n",
       "        vertical-align: top;\n",
       "    }\n",
       "\n",
       "    .dataframe thead th {\n",
       "        text-align: right;\n",
       "    }\n",
       "</style>\n",
       "<table border=\"1\" class=\"dataframe\">\n",
       "  <thead>\n",
       "    <tr style=\"text-align: right;\">\n",
       "      <th></th>\n",
       "      <th>product</th>\n",
       "      <th>price</th>\n",
       "      <th>quantity</th>\n",
       "      <th>revenue</th>\n",
       "      <th>name</th>\n",
       "      <th>category</th>\n",
       "    </tr>\n",
       "  </thead>\n",
       "  <tbody>\n",
       "    <tr>\n",
       "      <th>0</th>\n",
       "      <td>Простынь вафельная 200х180 см WELLNESS RW180-0...</td>\n",
       "      <td>1852.0</td>\n",
       "      <td>30</td>\n",
       "      <td>53232.0</td>\n",
       "      <td>Простынь</td>\n",
       "      <td>текстиль</td>\n",
       "    </tr>\n",
       "    <tr>\n",
       "      <th>1</th>\n",
       "      <td>Сумка-тележка 2-х колесная Gimi Argo синяя</td>\n",
       "      <td>1072.0</td>\n",
       "      <td>47</td>\n",
       "      <td>50405.0</td>\n",
       "      <td>Сумка-тележка</td>\n",
       "      <td>сумки</td>\n",
       "    </tr>\n",
       "    <tr>\n",
       "      <th>2</th>\n",
       "      <td>Урна уличная \"Гео\", Hobbyka/Хоббика, 59*37,5см...</td>\n",
       "      <td>4874.0</td>\n",
       "      <td>5</td>\n",
       "      <td>24370.0</td>\n",
       "      <td>Урна</td>\n",
       "      <td>для дома</td>\n",
       "    </tr>\n",
       "    <tr>\n",
       "      <th>3</th>\n",
       "      <td>Веник сорго с деревянной ручкой с 4-мя швами, ...</td>\n",
       "      <td>540.0</td>\n",
       "      <td>37</td>\n",
       "      <td>20010.0</td>\n",
       "      <td>Веник</td>\n",
       "      <td>хозтовары</td>\n",
       "    </tr>\n",
       "    <tr>\n",
       "      <th>4</th>\n",
       "      <td>Сумка-тележка 3-х колесная Gimi Tris Floral синяя</td>\n",
       "      <td>2699.0</td>\n",
       "      <td>7</td>\n",
       "      <td>18893.0</td>\n",
       "      <td>Сумка-тележка</td>\n",
       "      <td>сумки</td>\n",
       "    </tr>\n",
       "    <tr>\n",
       "      <th>...</th>\n",
       "      <td>...</td>\n",
       "      <td>...</td>\n",
       "      <td>...</td>\n",
       "      <td>...</td>\n",
       "      <td>...</td>\n",
       "      <td>...</td>\n",
       "    </tr>\n",
       "    <tr>\n",
       "      <th>2278</th>\n",
       "      <td>Огурец Засолочный 0,3 г 4660010776102</td>\n",
       "      <td>10.0</td>\n",
       "      <td>1</td>\n",
       "      <td>10.0</td>\n",
       "      <td>Огурец</td>\n",
       "      <td>растения</td>\n",
       "    </tr>\n",
       "    <tr>\n",
       "      <th>2279</th>\n",
       "      <td>Петрушка Итальянский гигант 2 г 4660010776553</td>\n",
       "      <td>10.0</td>\n",
       "      <td>1</td>\n",
       "      <td>10.0</td>\n",
       "      <td>Петрушка</td>\n",
       "      <td>растения</td>\n",
       "    </tr>\n",
       "    <tr>\n",
       "      <th>2280</th>\n",
       "      <td>Морковь Детская сладость 2 г 4660010775921</td>\n",
       "      <td>10.0</td>\n",
       "      <td>1</td>\n",
       "      <td>10.0</td>\n",
       "      <td>Морковь</td>\n",
       "      <td>другое</td>\n",
       "    </tr>\n",
       "    <tr>\n",
       "      <th>2281</th>\n",
       "      <td>Львиный зев Волшебный ковер 0,05 г 4660010779639</td>\n",
       "      <td>9.0</td>\n",
       "      <td>1</td>\n",
       "      <td>9.0</td>\n",
       "      <td>Львиный</td>\n",
       "      <td>другое</td>\n",
       "    </tr>\n",
       "    <tr>\n",
       "      <th>2282</th>\n",
       "      <td>Горох Амброзия 10,0 г 4660010772616</td>\n",
       "      <td>9.0</td>\n",
       "      <td>1</td>\n",
       "      <td>9.0</td>\n",
       "      <td>Горох</td>\n",
       "      <td>другое</td>\n",
       "    </tr>\n",
       "  </tbody>\n",
       "</table>\n",
       "<p>2283 rows × 6 columns</p>\n",
       "</div>"
      ],
      "text/plain": [
       "                                                product   price  quantity  \\\n",
       "0     Простынь вафельная 200х180 см WELLNESS RW180-0...  1852.0        30   \n",
       "1            Сумка-тележка 2-х колесная Gimi Argo синяя  1072.0        47   \n",
       "2     Урна уличная \"Гео\", Hobbyka/Хоббика, 59*37,5см...  4874.0         5   \n",
       "3     Веник сорго с деревянной ручкой с 4-мя швами, ...   540.0        37   \n",
       "4     Сумка-тележка 3-х колесная Gimi Tris Floral синяя  2699.0         7   \n",
       "...                                                 ...     ...       ...   \n",
       "2278              Огурец Засолочный 0,3 г 4660010776102    10.0         1   \n",
       "2279      Петрушка Итальянский гигант 2 г 4660010776553    10.0         1   \n",
       "2280         Морковь Детская сладость 2 г 4660010775921    10.0         1   \n",
       "2281   Львиный зев Волшебный ковер 0,05 г 4660010779639     9.0         1   \n",
       "2282                Горох Амброзия 10,0 г 4660010772616     9.0         1   \n",
       "\n",
       "      revenue           name   category  \n",
       "0     53232.0       Простынь   текстиль  \n",
       "1     50405.0  Сумка-тележка      сумки  \n",
       "2     24370.0           Урна   для дома  \n",
       "3     20010.0          Веник  хозтовары  \n",
       "4     18893.0  Сумка-тележка      сумки  \n",
       "...       ...            ...        ...  \n",
       "2278     10.0         Огурец   растения  \n",
       "2279     10.0       Петрушка   растения  \n",
       "2280     10.0        Морковь     другое  \n",
       "2281      9.0        Львиный     другое  \n",
       "2282      9.0          Горох     другое  \n",
       "\n",
       "[2283 rows x 6 columns]"
      ]
     },
     "execution_count": 115,
     "metadata": {},
     "output_type": "execute_result"
    }
   ],
   "source": [
    "#Посмотрим промежуточный результат\n",
    "product"
   ]
  },
  {
   "cell_type": "code",
   "execution_count": 116,
   "metadata": {},
   "outputs": [],
   "source": [
    "#Добавим в основную базу, так как из предыдущей мы вырезали часть позиций\n",
    "data['category'] = 'другое'\n",
    "data.loc[data.query('name == @plants').index, 'category'] = 'растения'\n",
    "data.loc[data.query('name == @ladder').index, 'category'] = 'лестницы'\n",
    "data.loc[data.query('name == @households').index, 'category'] = 'хозтовары'\n",
    "data.loc[data.query('name == @trolley_bag').index, 'category'] = 'сумки'\n",
    "data.loc[data.query('name == @home').index, 'category'] = 'для дома'\n",
    "data.loc[data.query('name == @textile').index, 'category'] = 'текстиль'\n",
    "data.loc[data.query('name == @kitchen').index, 'category'] = 'кухонная утварь'"
   ]
  },
  {
   "cell_type": "code",
   "execution_count": 117,
   "metadata": {
    "scrolled": true
   },
   "outputs": [
    {
     "data": {
      "text/html": [
       "<div>\n",
       "<style scoped>\n",
       "    .dataframe tbody tr th:only-of-type {\n",
       "        vertical-align: middle;\n",
       "    }\n",
       "\n",
       "    .dataframe tbody tr th {\n",
       "        vertical-align: top;\n",
       "    }\n",
       "\n",
       "    .dataframe thead th {\n",
       "        text-align: right;\n",
       "    }\n",
       "</style>\n",
       "<table border=\"1\" class=\"dataframe\">\n",
       "  <thead>\n",
       "    <tr style=\"text-align: right;\">\n",
       "      <th></th>\n",
       "      <th>category</th>\n",
       "      <th>product</th>\n",
       "      <th>revenue</th>\n",
       "      <th>%_всех_товаров</th>\n",
       "      <th>%_всей_выручке</th>\n",
       "    </tr>\n",
       "  </thead>\n",
       "  <tbody>\n",
       "    <tr>\n",
       "      <th>4</th>\n",
       "      <td>растения</td>\n",
       "      <td>2255</td>\n",
       "      <td>433601.0</td>\n",
       "      <td>47.52</td>\n",
       "      <td>15.25</td>\n",
       "    </tr>\n",
       "    <tr>\n",
       "      <th>7</th>\n",
       "      <td>хозтовары</td>\n",
       "      <td>717</td>\n",
       "      <td>816019.0</td>\n",
       "      <td>15.11</td>\n",
       "      <td>28.70</td>\n",
       "    </tr>\n",
       "    <tr>\n",
       "      <th>1</th>\n",
       "      <td>другое</td>\n",
       "      <td>540</td>\n",
       "      <td>253236.0</td>\n",
       "      <td>11.38</td>\n",
       "      <td>8.91</td>\n",
       "    </tr>\n",
       "    <tr>\n",
       "      <th>0</th>\n",
       "      <td>для дома</td>\n",
       "      <td>431</td>\n",
       "      <td>223639.0</td>\n",
       "      <td>9.08</td>\n",
       "      <td>7.87</td>\n",
       "    </tr>\n",
       "    <tr>\n",
       "      <th>5</th>\n",
       "      <td>сумки</td>\n",
       "      <td>321</td>\n",
       "      <td>501961.0</td>\n",
       "      <td>6.77</td>\n",
       "      <td>17.66</td>\n",
       "    </tr>\n",
       "    <tr>\n",
       "      <th>2</th>\n",
       "      <td>кухонная утварь</td>\n",
       "      <td>231</td>\n",
       "      <td>198381.0</td>\n",
       "      <td>4.87</td>\n",
       "      <td>6.98</td>\n",
       "    </tr>\n",
       "    <tr>\n",
       "      <th>6</th>\n",
       "      <td>текстиль</td>\n",
       "      <td>206</td>\n",
       "      <td>319508.0</td>\n",
       "      <td>4.34</td>\n",
       "      <td>11.24</td>\n",
       "    </tr>\n",
       "    <tr>\n",
       "      <th>3</th>\n",
       "      <td>лестницы</td>\n",
       "      <td>44</td>\n",
       "      <td>96445.0</td>\n",
       "      <td>0.93</td>\n",
       "      <td>3.39</td>\n",
       "    </tr>\n",
       "  </tbody>\n",
       "</table>\n",
       "</div>"
      ],
      "text/plain": [
       "          category  product   revenue  %_всех_товаров  %_всей_выручке\n",
       "4         растения     2255  433601.0           47.52           15.25\n",
       "7        хозтовары      717  816019.0           15.11           28.70\n",
       "1           другое      540  253236.0           11.38            8.91\n",
       "0         для дома      431  223639.0            9.08            7.87\n",
       "5            сумки      321  501961.0            6.77           17.66\n",
       "2  кухонная утварь      231  198381.0            4.87            6.98\n",
       "6         текстиль      206  319508.0            4.34           11.24\n",
       "3         лестницы       44   96445.0            0.93            3.39"
      ]
     },
     "execution_count": 117,
     "metadata": {},
     "output_type": "execute_result"
    }
   ],
   "source": [
    "#Посмотрим какие доли приходятся на категории\n",
    "category = data.groupby(['category']).agg({'product':'count', 'revenue':'sum'}).reset_index()\n",
    "category['%_всех_товаров'] = (category['product'] / category['product'].sum() * 100).round(2)\n",
    "category['%_всей_выручке'] = (category['revenue'] / category['revenue'].sum() * 100).round(2)\n",
    "category.sort_values(by = 'product', ascending = False)"
   ]
  },
  {
   "cell_type": "markdown",
   "metadata": {},
   "source": [
    "Результаты немного неожиданыне: растения составляют почти половину товарных позиций, по при этом не приносят значительного количества денег. При этом хозтовары, сумки и текстиль приносят значительные средства, не занимаю большого количества ассортимента."
   ]
  },
  {
   "cell_type": "code",
   "execution_count": 118,
   "metadata": {
    "scrolled": false
   },
   "outputs": [
    {
     "data": {
      "application/vnd.plotly.v1+json": {
       "config": {
        "plotlyServerURL": "https://plot.ly"
       },
       "data": [
        {
         "alignmentgroup": "True",
         "hovertemplate": "category=для дома<br>month=%{x}<br>revenue=%{y}<extra></extra>",
         "legendgroup": "для дома",
         "marker": {
          "color": "#636efa",
          "pattern": {
           "shape": ""
          }
         },
         "name": "для дома",
         "offsetgroup": "для дома",
         "orientation": "v",
         "showlegend": true,
         "textposition": "auto",
         "type": "bar",
         "x": [
          "2018-10",
          "2018-11",
          "2018-12",
          "2019-01",
          "2019-02",
          "2019-03",
          "2019-04",
          "2019-05",
          "2019-06",
          "2019-07",
          "2019-08",
          "2019-09",
          "2019-10"
         ],
         "xaxis": "x",
         "y": [
          32120,
          56723,
          23423,
          9107,
          25496,
          14077,
          14456,
          4998,
          10498,
          15554,
          5198,
          8383,
          3606
         ],
         "yaxis": "y"
        },
        {
         "alignmentgroup": "True",
         "hovertemplate": "category=другое<br>month=%{x}<br>revenue=%{y}<extra></extra>",
         "legendgroup": "другое",
         "marker": {
          "color": "#EF553B",
          "pattern": {
           "shape": ""
          }
         },
         "name": "другое",
         "offsetgroup": "другое",
         "orientation": "v",
         "showlegend": true,
         "textposition": "auto",
         "type": "bar",
         "x": [
          "2018-10",
          "2018-11",
          "2018-12",
          "2019-01",
          "2019-02",
          "2019-03",
          "2019-04",
          "2019-05",
          "2019-06",
          "2019-07",
          "2019-08",
          "2019-09",
          "2019-10"
         ],
         "xaxis": "x",
         "y": [
          34059,
          14750,
          16770,
          23859,
          20045,
          35383,
          17118,
          12255,
          9683,
          18680,
          16418,
          15550,
          18666
         ],
         "yaxis": "y"
        },
        {
         "alignmentgroup": "True",
         "hovertemplate": "category=кухонная утварь<br>month=%{x}<br>revenue=%{y}<extra></extra>",
         "legendgroup": "кухонная утварь",
         "marker": {
          "color": "#00cc96",
          "pattern": {
           "shape": ""
          }
         },
         "name": "кухонная утварь",
         "offsetgroup": "кухонная утварь",
         "orientation": "v",
         "showlegend": true,
         "textposition": "auto",
         "type": "bar",
         "x": [
          "2018-10",
          "2018-11",
          "2018-12",
          "2019-01",
          "2019-02",
          "2019-03",
          "2019-04",
          "2019-05",
          "2019-06",
          "2019-07",
          "2019-08",
          "2019-09",
          "2019-10"
         ],
         "xaxis": "x",
         "y": [
          19550,
          30105,
          23841,
          13917,
          20202,
          12832,
          3098,
          10522,
          22154,
          6189,
          4120,
          26650,
          5201
         ],
         "yaxis": "y"
        },
        {
         "alignmentgroup": "True",
         "hovertemplate": "category=лестницы<br>month=%{x}<br>revenue=%{y}<extra></extra>",
         "legendgroup": "лестницы",
         "marker": {
          "color": "#ab63fa",
          "pattern": {
           "shape": ""
          }
         },
         "name": "лестницы",
         "offsetgroup": "лестницы",
         "orientation": "v",
         "showlegend": true,
         "textposition": "auto",
         "type": "bar",
         "x": [
          "2018-10",
          "2018-11",
          "2018-12",
          "2019-01",
          "2019-02",
          "2019-03",
          "2019-04",
          "2019-05",
          "2019-06",
          "2019-07",
          "2019-08",
          "2019-09",
          "2019-10"
         ],
         "xaxis": "x",
         "y": [
          16418,
          6822,
          8920,
          10271,
          5247,
          1574,
          4948,
          10944,
          3974,
          8545,
          6898,
          1462,
          10422
         ],
         "yaxis": "y"
        },
        {
         "alignmentgroup": "True",
         "hovertemplate": "category=растения<br>month=%{x}<br>revenue=%{y}<extra></extra>",
         "legendgroup": "растения",
         "marker": {
          "color": "#FFA15A",
          "pattern": {
           "shape": ""
          }
         },
         "name": "растения",
         "offsetgroup": "растения",
         "orientation": "v",
         "showlegend": true,
         "textposition": "auto",
         "type": "bar",
         "x": [
          "2018-10",
          "2018-11",
          "2018-12",
          "2019-01",
          "2019-02",
          "2019-03",
          "2019-04",
          "2019-05",
          "2019-06",
          "2019-07",
          "2019-08",
          "2019-09",
          "2019-10"
         ],
         "xaxis": "x",
         "y": [
          27897,
          17605,
          26313,
          11365,
          27757,
          39167,
          81823,
          92271,
          28895,
          31023,
          14874,
          19155,
          15456
         ],
         "yaxis": "y"
        },
        {
         "alignmentgroup": "True",
         "hovertemplate": "category=сумки<br>month=%{x}<br>revenue=%{y}<extra></extra>",
         "legendgroup": "сумки",
         "marker": {
          "color": "#19d3f3",
          "pattern": {
           "shape": ""
          }
         },
         "name": "сумки",
         "offsetgroup": "сумки",
         "orientation": "v",
         "showlegend": true,
         "textposition": "auto",
         "type": "bar",
         "x": [
          "2018-10",
          "2018-11",
          "2018-12",
          "2019-01",
          "2019-02",
          "2019-03",
          "2019-04",
          "2019-05",
          "2019-06",
          "2019-07",
          "2019-08",
          "2019-09",
          "2019-10"
         ],
         "xaxis": "x",
         "y": [
          43503,
          53014,
          60849,
          21929,
          48358,
          41698,
          41101,
          21321,
          19206,
          24221,
          53738,
          39265,
          33758
         ],
         "yaxis": "y"
        },
        {
         "alignmentgroup": "True",
         "hovertemplate": "category=текстиль<br>month=%{x}<br>revenue=%{y}<extra></extra>",
         "legendgroup": "текстиль",
         "marker": {
          "color": "#FF6692",
          "pattern": {
           "shape": ""
          }
         },
         "name": "текстиль",
         "offsetgroup": "текстиль",
         "orientation": "v",
         "showlegend": true,
         "textposition": "auto",
         "type": "bar",
         "x": [
          "2018-10",
          "2018-11",
          "2018-12",
          "2019-01",
          "2019-02",
          "2019-03",
          "2019-04",
          "2019-05",
          "2019-06",
          "2019-07",
          "2019-08",
          "2019-09",
          "2019-10"
         ],
         "xaxis": "x",
         "y": [
          24716,
          29354,
          34082,
          73690,
          15388,
          14877,
          41116,
          6714,
          15490,
          24749,
          11769,
          12452,
          15111
         ],
         "yaxis": "y"
        },
        {
         "alignmentgroup": "True",
         "hovertemplate": "category=хозтовары<br>month=%{x}<br>revenue=%{y}<extra></extra>",
         "legendgroup": "хозтовары",
         "marker": {
          "color": "#B6E880",
          "pattern": {
           "shape": ""
          }
         },
         "name": "хозтовары",
         "offsetgroup": "хозтовары",
         "orientation": "v",
         "showlegend": true,
         "textposition": "auto",
         "type": "bar",
         "x": [
          "2018-10",
          "2018-11",
          "2018-12",
          "2019-01",
          "2019-02",
          "2019-03",
          "2019-04",
          "2019-05",
          "2019-06",
          "2019-07",
          "2019-08",
          "2019-09",
          "2019-10"
         ],
         "xaxis": "x",
         "y": [
          121715,
          74463,
          83084,
          44085,
          93818,
          60633,
          46008,
          38077,
          34888,
          70237,
          40231,
          44411,
          64369
         ],
         "yaxis": "y"
        }
       ],
       "layout": {
        "barmode": "relative",
        "legend": {
         "title": {
          "text": "category"
         },
         "tracegroupgap": 0
        },
        "template": {
         "data": {
          "bar": [
           {
            "error_x": {
             "color": "#2a3f5f"
            },
            "error_y": {
             "color": "#2a3f5f"
            },
            "marker": {
             "line": {
              "color": "#E5ECF6",
              "width": 0.5
             },
             "pattern": {
              "fillmode": "overlay",
              "size": 10,
              "solidity": 0.2
             }
            },
            "type": "bar"
           }
          ],
          "barpolar": [
           {
            "marker": {
             "line": {
              "color": "#E5ECF6",
              "width": 0.5
             },
             "pattern": {
              "fillmode": "overlay",
              "size": 10,
              "solidity": 0.2
             }
            },
            "type": "barpolar"
           }
          ],
          "carpet": [
           {
            "aaxis": {
             "endlinecolor": "#2a3f5f",
             "gridcolor": "white",
             "linecolor": "white",
             "minorgridcolor": "white",
             "startlinecolor": "#2a3f5f"
            },
            "baxis": {
             "endlinecolor": "#2a3f5f",
             "gridcolor": "white",
             "linecolor": "white",
             "minorgridcolor": "white",
             "startlinecolor": "#2a3f5f"
            },
            "type": "carpet"
           }
          ],
          "choropleth": [
           {
            "colorbar": {
             "outlinewidth": 0,
             "ticks": ""
            },
            "type": "choropleth"
           }
          ],
          "contour": [
           {
            "colorbar": {
             "outlinewidth": 0,
             "ticks": ""
            },
            "colorscale": [
             [
              0,
              "#0d0887"
             ],
             [
              0.1111111111111111,
              "#46039f"
             ],
             [
              0.2222222222222222,
              "#7201a8"
             ],
             [
              0.3333333333333333,
              "#9c179e"
             ],
             [
              0.4444444444444444,
              "#bd3786"
             ],
             [
              0.5555555555555556,
              "#d8576b"
             ],
             [
              0.6666666666666666,
              "#ed7953"
             ],
             [
              0.7777777777777778,
              "#fb9f3a"
             ],
             [
              0.8888888888888888,
              "#fdca26"
             ],
             [
              1,
              "#f0f921"
             ]
            ],
            "type": "contour"
           }
          ],
          "contourcarpet": [
           {
            "colorbar": {
             "outlinewidth": 0,
             "ticks": ""
            },
            "type": "contourcarpet"
           }
          ],
          "heatmap": [
           {
            "colorbar": {
             "outlinewidth": 0,
             "ticks": ""
            },
            "colorscale": [
             [
              0,
              "#0d0887"
             ],
             [
              0.1111111111111111,
              "#46039f"
             ],
             [
              0.2222222222222222,
              "#7201a8"
             ],
             [
              0.3333333333333333,
              "#9c179e"
             ],
             [
              0.4444444444444444,
              "#bd3786"
             ],
             [
              0.5555555555555556,
              "#d8576b"
             ],
             [
              0.6666666666666666,
              "#ed7953"
             ],
             [
              0.7777777777777778,
              "#fb9f3a"
             ],
             [
              0.8888888888888888,
              "#fdca26"
             ],
             [
              1,
              "#f0f921"
             ]
            ],
            "type": "heatmap"
           }
          ],
          "heatmapgl": [
           {
            "colorbar": {
             "outlinewidth": 0,
             "ticks": ""
            },
            "colorscale": [
             [
              0,
              "#0d0887"
             ],
             [
              0.1111111111111111,
              "#46039f"
             ],
             [
              0.2222222222222222,
              "#7201a8"
             ],
             [
              0.3333333333333333,
              "#9c179e"
             ],
             [
              0.4444444444444444,
              "#bd3786"
             ],
             [
              0.5555555555555556,
              "#d8576b"
             ],
             [
              0.6666666666666666,
              "#ed7953"
             ],
             [
              0.7777777777777778,
              "#fb9f3a"
             ],
             [
              0.8888888888888888,
              "#fdca26"
             ],
             [
              1,
              "#f0f921"
             ]
            ],
            "type": "heatmapgl"
           }
          ],
          "histogram": [
           {
            "marker": {
             "pattern": {
              "fillmode": "overlay",
              "size": 10,
              "solidity": 0.2
             }
            },
            "type": "histogram"
           }
          ],
          "histogram2d": [
           {
            "colorbar": {
             "outlinewidth": 0,
             "ticks": ""
            },
            "colorscale": [
             [
              0,
              "#0d0887"
             ],
             [
              0.1111111111111111,
              "#46039f"
             ],
             [
              0.2222222222222222,
              "#7201a8"
             ],
             [
              0.3333333333333333,
              "#9c179e"
             ],
             [
              0.4444444444444444,
              "#bd3786"
             ],
             [
              0.5555555555555556,
              "#d8576b"
             ],
             [
              0.6666666666666666,
              "#ed7953"
             ],
             [
              0.7777777777777778,
              "#fb9f3a"
             ],
             [
              0.8888888888888888,
              "#fdca26"
             ],
             [
              1,
              "#f0f921"
             ]
            ],
            "type": "histogram2d"
           }
          ],
          "histogram2dcontour": [
           {
            "colorbar": {
             "outlinewidth": 0,
             "ticks": ""
            },
            "colorscale": [
             [
              0,
              "#0d0887"
             ],
             [
              0.1111111111111111,
              "#46039f"
             ],
             [
              0.2222222222222222,
              "#7201a8"
             ],
             [
              0.3333333333333333,
              "#9c179e"
             ],
             [
              0.4444444444444444,
              "#bd3786"
             ],
             [
              0.5555555555555556,
              "#d8576b"
             ],
             [
              0.6666666666666666,
              "#ed7953"
             ],
             [
              0.7777777777777778,
              "#fb9f3a"
             ],
             [
              0.8888888888888888,
              "#fdca26"
             ],
             [
              1,
              "#f0f921"
             ]
            ],
            "type": "histogram2dcontour"
           }
          ],
          "mesh3d": [
           {
            "colorbar": {
             "outlinewidth": 0,
             "ticks": ""
            },
            "type": "mesh3d"
           }
          ],
          "parcoords": [
           {
            "line": {
             "colorbar": {
              "outlinewidth": 0,
              "ticks": ""
             }
            },
            "type": "parcoords"
           }
          ],
          "pie": [
           {
            "automargin": true,
            "type": "pie"
           }
          ],
          "scatter": [
           {
            "fillpattern": {
             "fillmode": "overlay",
             "size": 10,
             "solidity": 0.2
            },
            "type": "scatter"
           }
          ],
          "scatter3d": [
           {
            "line": {
             "colorbar": {
              "outlinewidth": 0,
              "ticks": ""
             }
            },
            "marker": {
             "colorbar": {
              "outlinewidth": 0,
              "ticks": ""
             }
            },
            "type": "scatter3d"
           }
          ],
          "scattercarpet": [
           {
            "marker": {
             "colorbar": {
              "outlinewidth": 0,
              "ticks": ""
             }
            },
            "type": "scattercarpet"
           }
          ],
          "scattergeo": [
           {
            "marker": {
             "colorbar": {
              "outlinewidth": 0,
              "ticks": ""
             }
            },
            "type": "scattergeo"
           }
          ],
          "scattergl": [
           {
            "marker": {
             "colorbar": {
              "outlinewidth": 0,
              "ticks": ""
             }
            },
            "type": "scattergl"
           }
          ],
          "scattermapbox": [
           {
            "marker": {
             "colorbar": {
              "outlinewidth": 0,
              "ticks": ""
             }
            },
            "type": "scattermapbox"
           }
          ],
          "scatterpolar": [
           {
            "marker": {
             "colorbar": {
              "outlinewidth": 0,
              "ticks": ""
             }
            },
            "type": "scatterpolar"
           }
          ],
          "scatterpolargl": [
           {
            "marker": {
             "colorbar": {
              "outlinewidth": 0,
              "ticks": ""
             }
            },
            "type": "scatterpolargl"
           }
          ],
          "scatterternary": [
           {
            "marker": {
             "colorbar": {
              "outlinewidth": 0,
              "ticks": ""
             }
            },
            "type": "scatterternary"
           }
          ],
          "surface": [
           {
            "colorbar": {
             "outlinewidth": 0,
             "ticks": ""
            },
            "colorscale": [
             [
              0,
              "#0d0887"
             ],
             [
              0.1111111111111111,
              "#46039f"
             ],
             [
              0.2222222222222222,
              "#7201a8"
             ],
             [
              0.3333333333333333,
              "#9c179e"
             ],
             [
              0.4444444444444444,
              "#bd3786"
             ],
             [
              0.5555555555555556,
              "#d8576b"
             ],
             [
              0.6666666666666666,
              "#ed7953"
             ],
             [
              0.7777777777777778,
              "#fb9f3a"
             ],
             [
              0.8888888888888888,
              "#fdca26"
             ],
             [
              1,
              "#f0f921"
             ]
            ],
            "type": "surface"
           }
          ],
          "table": [
           {
            "cells": {
             "fill": {
              "color": "#EBF0F8"
             },
             "line": {
              "color": "white"
             }
            },
            "header": {
             "fill": {
              "color": "#C8D4E3"
             },
             "line": {
              "color": "white"
             }
            },
            "type": "table"
           }
          ]
         },
         "layout": {
          "annotationdefaults": {
           "arrowcolor": "#2a3f5f",
           "arrowhead": 0,
           "arrowwidth": 1
          },
          "autotypenumbers": "strict",
          "coloraxis": {
           "colorbar": {
            "outlinewidth": 0,
            "ticks": ""
           }
          },
          "colorscale": {
           "diverging": [
            [
             0,
             "#8e0152"
            ],
            [
             0.1,
             "#c51b7d"
            ],
            [
             0.2,
             "#de77ae"
            ],
            [
             0.3,
             "#f1b6da"
            ],
            [
             0.4,
             "#fde0ef"
            ],
            [
             0.5,
             "#f7f7f7"
            ],
            [
             0.6,
             "#e6f5d0"
            ],
            [
             0.7,
             "#b8e186"
            ],
            [
             0.8,
             "#7fbc41"
            ],
            [
             0.9,
             "#4d9221"
            ],
            [
             1,
             "#276419"
            ]
           ],
           "sequential": [
            [
             0,
             "#0d0887"
            ],
            [
             0.1111111111111111,
             "#46039f"
            ],
            [
             0.2222222222222222,
             "#7201a8"
            ],
            [
             0.3333333333333333,
             "#9c179e"
            ],
            [
             0.4444444444444444,
             "#bd3786"
            ],
            [
             0.5555555555555556,
             "#d8576b"
            ],
            [
             0.6666666666666666,
             "#ed7953"
            ],
            [
             0.7777777777777778,
             "#fb9f3a"
            ],
            [
             0.8888888888888888,
             "#fdca26"
            ],
            [
             1,
             "#f0f921"
            ]
           ],
           "sequentialminus": [
            [
             0,
             "#0d0887"
            ],
            [
             0.1111111111111111,
             "#46039f"
            ],
            [
             0.2222222222222222,
             "#7201a8"
            ],
            [
             0.3333333333333333,
             "#9c179e"
            ],
            [
             0.4444444444444444,
             "#bd3786"
            ],
            [
             0.5555555555555556,
             "#d8576b"
            ],
            [
             0.6666666666666666,
             "#ed7953"
            ],
            [
             0.7777777777777778,
             "#fb9f3a"
            ],
            [
             0.8888888888888888,
             "#fdca26"
            ],
            [
             1,
             "#f0f921"
            ]
           ]
          },
          "colorway": [
           "#636efa",
           "#EF553B",
           "#00cc96",
           "#ab63fa",
           "#FFA15A",
           "#19d3f3",
           "#FF6692",
           "#B6E880",
           "#FF97FF",
           "#FECB52"
          ],
          "font": {
           "color": "#2a3f5f"
          },
          "geo": {
           "bgcolor": "white",
           "lakecolor": "white",
           "landcolor": "#E5ECF6",
           "showlakes": true,
           "showland": true,
           "subunitcolor": "white"
          },
          "hoverlabel": {
           "align": "left"
          },
          "hovermode": "closest",
          "mapbox": {
           "style": "light"
          },
          "paper_bgcolor": "white",
          "plot_bgcolor": "#E5ECF6",
          "polar": {
           "angularaxis": {
            "gridcolor": "white",
            "linecolor": "white",
            "ticks": ""
           },
           "bgcolor": "#E5ECF6",
           "radialaxis": {
            "gridcolor": "white",
            "linecolor": "white",
            "ticks": ""
           }
          },
          "scene": {
           "xaxis": {
            "backgroundcolor": "#E5ECF6",
            "gridcolor": "white",
            "gridwidth": 2,
            "linecolor": "white",
            "showbackground": true,
            "ticks": "",
            "zerolinecolor": "white"
           },
           "yaxis": {
            "backgroundcolor": "#E5ECF6",
            "gridcolor": "white",
            "gridwidth": 2,
            "linecolor": "white",
            "showbackground": true,
            "ticks": "",
            "zerolinecolor": "white"
           },
           "zaxis": {
            "backgroundcolor": "#E5ECF6",
            "gridcolor": "white",
            "gridwidth": 2,
            "linecolor": "white",
            "showbackground": true,
            "ticks": "",
            "zerolinecolor": "white"
           }
          },
          "shapedefaults": {
           "line": {
            "color": "#2a3f5f"
           }
          },
          "ternary": {
           "aaxis": {
            "gridcolor": "white",
            "linecolor": "white",
            "ticks": ""
           },
           "baxis": {
            "gridcolor": "white",
            "linecolor": "white",
            "ticks": ""
           },
           "bgcolor": "#E5ECF6",
           "caxis": {
            "gridcolor": "white",
            "linecolor": "white",
            "ticks": ""
           }
          },
          "title": {
           "x": 0.05
          },
          "xaxis": {
           "automargin": true,
           "gridcolor": "white",
           "linecolor": "white",
           "ticks": "",
           "title": {
            "standoff": 15
           },
           "zerolinecolor": "white",
           "zerolinewidth": 2
          },
          "yaxis": {
           "automargin": true,
           "gridcolor": "white",
           "linecolor": "white",
           "ticks": "",
           "title": {
            "standoff": 15
           },
           "zerolinecolor": "white",
           "zerolinewidth": 2
          }
         }
        },
        "title": {
         "text": "Динамика выручки по категориям наименований"
        },
        "xaxis": {
         "anchor": "y",
         "domain": [
          0,
          1
         ],
         "title": {
          "text": "month"
         }
        },
        "yaxis": {
         "anchor": "x",
         "domain": [
          0,
          1
         ],
         "title": {
          "text": "revenue"
         }
        }
       }
      },
      "text/html": [
       "<div>                            <div id=\"11d3b91b-16a2-408f-ad43-914d86298164\" class=\"plotly-graph-div\" style=\"height:525px; width:100%;\"></div>            <script type=\"text/javascript\">                require([\"plotly\"], function(Plotly) {                    window.PLOTLYENV=window.PLOTLYENV || {};                                    if (document.getElementById(\"11d3b91b-16a2-408f-ad43-914d86298164\")) {                    Plotly.newPlot(                        \"11d3b91b-16a2-408f-ad43-914d86298164\",                        [{\"alignmentgroup\":\"True\",\"hovertemplate\":\"category=\\u0434\\u043b\\u044f \\u0434\\u043e\\u043c\\u0430<br>month=%{x}<br>revenue=%{y}<extra></extra>\",\"legendgroup\":\"\\u0434\\u043b\\u044f \\u0434\\u043e\\u043c\\u0430\",\"marker\":{\"color\":\"#636efa\",\"pattern\":{\"shape\":\"\"}},\"name\":\"\\u0434\\u043b\\u044f \\u0434\\u043e\\u043c\\u0430\",\"offsetgroup\":\"\\u0434\\u043b\\u044f \\u0434\\u043e\\u043c\\u0430\",\"orientation\":\"v\",\"showlegend\":true,\"textposition\":\"auto\",\"x\":[\"2018-10\",\"2018-11\",\"2018-12\",\"2019-01\",\"2019-02\",\"2019-03\",\"2019-04\",\"2019-05\",\"2019-06\",\"2019-07\",\"2019-08\",\"2019-09\",\"2019-10\"],\"xaxis\":\"x\",\"y\":[32120.0,56723.0,23423.0,9107.0,25496.0,14077.0,14456.0,4998.0,10498.0,15554.0,5198.0,8383.0,3606.0],\"yaxis\":\"y\",\"type\":\"bar\"},{\"alignmentgroup\":\"True\",\"hovertemplate\":\"category=\\u0434\\u0440\\u0443\\u0433\\u043e\\u0435<br>month=%{x}<br>revenue=%{y}<extra></extra>\",\"legendgroup\":\"\\u0434\\u0440\\u0443\\u0433\\u043e\\u0435\",\"marker\":{\"color\":\"#EF553B\",\"pattern\":{\"shape\":\"\"}},\"name\":\"\\u0434\\u0440\\u0443\\u0433\\u043e\\u0435\",\"offsetgroup\":\"\\u0434\\u0440\\u0443\\u0433\\u043e\\u0435\",\"orientation\":\"v\",\"showlegend\":true,\"textposition\":\"auto\",\"x\":[\"2018-10\",\"2018-11\",\"2018-12\",\"2019-01\",\"2019-02\",\"2019-03\",\"2019-04\",\"2019-05\",\"2019-06\",\"2019-07\",\"2019-08\",\"2019-09\",\"2019-10\"],\"xaxis\":\"x\",\"y\":[34059.0,14750.0,16770.0,23859.0,20045.0,35383.0,17118.0,12255.0,9683.0,18680.0,16418.0,15550.0,18666.0],\"yaxis\":\"y\",\"type\":\"bar\"},{\"alignmentgroup\":\"True\",\"hovertemplate\":\"category=\\u043a\\u0443\\u0445\\u043e\\u043d\\u043d\\u0430\\u044f \\u0443\\u0442\\u0432\\u0430\\u0440\\u044c<br>month=%{x}<br>revenue=%{y}<extra></extra>\",\"legendgroup\":\"\\u043a\\u0443\\u0445\\u043e\\u043d\\u043d\\u0430\\u044f \\u0443\\u0442\\u0432\\u0430\\u0440\\u044c\",\"marker\":{\"color\":\"#00cc96\",\"pattern\":{\"shape\":\"\"}},\"name\":\"\\u043a\\u0443\\u0445\\u043e\\u043d\\u043d\\u0430\\u044f \\u0443\\u0442\\u0432\\u0430\\u0440\\u044c\",\"offsetgroup\":\"\\u043a\\u0443\\u0445\\u043e\\u043d\\u043d\\u0430\\u044f \\u0443\\u0442\\u0432\\u0430\\u0440\\u044c\",\"orientation\":\"v\",\"showlegend\":true,\"textposition\":\"auto\",\"x\":[\"2018-10\",\"2018-11\",\"2018-12\",\"2019-01\",\"2019-02\",\"2019-03\",\"2019-04\",\"2019-05\",\"2019-06\",\"2019-07\",\"2019-08\",\"2019-09\",\"2019-10\"],\"xaxis\":\"x\",\"y\":[19550.0,30105.0,23841.0,13917.0,20202.0,12832.0,3098.0,10522.0,22154.0,6189.0,4120.0,26650.0,5201.0],\"yaxis\":\"y\",\"type\":\"bar\"},{\"alignmentgroup\":\"True\",\"hovertemplate\":\"category=\\u043b\\u0435\\u0441\\u0442\\u043d\\u0438\\u0446\\u044b<br>month=%{x}<br>revenue=%{y}<extra></extra>\",\"legendgroup\":\"\\u043b\\u0435\\u0441\\u0442\\u043d\\u0438\\u0446\\u044b\",\"marker\":{\"color\":\"#ab63fa\",\"pattern\":{\"shape\":\"\"}},\"name\":\"\\u043b\\u0435\\u0441\\u0442\\u043d\\u0438\\u0446\\u044b\",\"offsetgroup\":\"\\u043b\\u0435\\u0441\\u0442\\u043d\\u0438\\u0446\\u044b\",\"orientation\":\"v\",\"showlegend\":true,\"textposition\":\"auto\",\"x\":[\"2018-10\",\"2018-11\",\"2018-12\",\"2019-01\",\"2019-02\",\"2019-03\",\"2019-04\",\"2019-05\",\"2019-06\",\"2019-07\",\"2019-08\",\"2019-09\",\"2019-10\"],\"xaxis\":\"x\",\"y\":[16418.0,6822.0,8920.0,10271.0,5247.0,1574.0,4948.0,10944.0,3974.0,8545.0,6898.0,1462.0,10422.0],\"yaxis\":\"y\",\"type\":\"bar\"},{\"alignmentgroup\":\"True\",\"hovertemplate\":\"category=\\u0440\\u0430\\u0441\\u0442\\u0435\\u043d\\u0438\\u044f<br>month=%{x}<br>revenue=%{y}<extra></extra>\",\"legendgroup\":\"\\u0440\\u0430\\u0441\\u0442\\u0435\\u043d\\u0438\\u044f\",\"marker\":{\"color\":\"#FFA15A\",\"pattern\":{\"shape\":\"\"}},\"name\":\"\\u0440\\u0430\\u0441\\u0442\\u0435\\u043d\\u0438\\u044f\",\"offsetgroup\":\"\\u0440\\u0430\\u0441\\u0442\\u0435\\u043d\\u0438\\u044f\",\"orientation\":\"v\",\"showlegend\":true,\"textposition\":\"auto\",\"x\":[\"2018-10\",\"2018-11\",\"2018-12\",\"2019-01\",\"2019-02\",\"2019-03\",\"2019-04\",\"2019-05\",\"2019-06\",\"2019-07\",\"2019-08\",\"2019-09\",\"2019-10\"],\"xaxis\":\"x\",\"y\":[27897.0,17605.0,26313.0,11365.0,27757.0,39167.0,81823.0,92271.0,28895.0,31023.0,14874.0,19155.0,15456.0],\"yaxis\":\"y\",\"type\":\"bar\"},{\"alignmentgroup\":\"True\",\"hovertemplate\":\"category=\\u0441\\u0443\\u043c\\u043a\\u0438<br>month=%{x}<br>revenue=%{y}<extra></extra>\",\"legendgroup\":\"\\u0441\\u0443\\u043c\\u043a\\u0438\",\"marker\":{\"color\":\"#19d3f3\",\"pattern\":{\"shape\":\"\"}},\"name\":\"\\u0441\\u0443\\u043c\\u043a\\u0438\",\"offsetgroup\":\"\\u0441\\u0443\\u043c\\u043a\\u0438\",\"orientation\":\"v\",\"showlegend\":true,\"textposition\":\"auto\",\"x\":[\"2018-10\",\"2018-11\",\"2018-12\",\"2019-01\",\"2019-02\",\"2019-03\",\"2019-04\",\"2019-05\",\"2019-06\",\"2019-07\",\"2019-08\",\"2019-09\",\"2019-10\"],\"xaxis\":\"x\",\"y\":[43503.0,53014.0,60849.0,21929.0,48358.0,41698.0,41101.0,21321.0,19206.0,24221.0,53738.0,39265.0,33758.0],\"yaxis\":\"y\",\"type\":\"bar\"},{\"alignmentgroup\":\"True\",\"hovertemplate\":\"category=\\u0442\\u0435\\u043a\\u0441\\u0442\\u0438\\u043b\\u044c<br>month=%{x}<br>revenue=%{y}<extra></extra>\",\"legendgroup\":\"\\u0442\\u0435\\u043a\\u0441\\u0442\\u0438\\u043b\\u044c\",\"marker\":{\"color\":\"#FF6692\",\"pattern\":{\"shape\":\"\"}},\"name\":\"\\u0442\\u0435\\u043a\\u0441\\u0442\\u0438\\u043b\\u044c\",\"offsetgroup\":\"\\u0442\\u0435\\u043a\\u0441\\u0442\\u0438\\u043b\\u044c\",\"orientation\":\"v\",\"showlegend\":true,\"textposition\":\"auto\",\"x\":[\"2018-10\",\"2018-11\",\"2018-12\",\"2019-01\",\"2019-02\",\"2019-03\",\"2019-04\",\"2019-05\",\"2019-06\",\"2019-07\",\"2019-08\",\"2019-09\",\"2019-10\"],\"xaxis\":\"x\",\"y\":[24716.0,29354.0,34082.0,73690.0,15388.0,14877.0,41116.0,6714.0,15490.0,24749.0,11769.0,12452.0,15111.0],\"yaxis\":\"y\",\"type\":\"bar\"},{\"alignmentgroup\":\"True\",\"hovertemplate\":\"category=\\u0445\\u043e\\u0437\\u0442\\u043e\\u0432\\u0430\\u0440\\u044b<br>month=%{x}<br>revenue=%{y}<extra></extra>\",\"legendgroup\":\"\\u0445\\u043e\\u0437\\u0442\\u043e\\u0432\\u0430\\u0440\\u044b\",\"marker\":{\"color\":\"#B6E880\",\"pattern\":{\"shape\":\"\"}},\"name\":\"\\u0445\\u043e\\u0437\\u0442\\u043e\\u0432\\u0430\\u0440\\u044b\",\"offsetgroup\":\"\\u0445\\u043e\\u0437\\u0442\\u043e\\u0432\\u0430\\u0440\\u044b\",\"orientation\":\"v\",\"showlegend\":true,\"textposition\":\"auto\",\"x\":[\"2018-10\",\"2018-11\",\"2018-12\",\"2019-01\",\"2019-02\",\"2019-03\",\"2019-04\",\"2019-05\",\"2019-06\",\"2019-07\",\"2019-08\",\"2019-09\",\"2019-10\"],\"xaxis\":\"x\",\"y\":[121715.0,74463.0,83084.0,44085.0,93818.0,60633.0,46008.0,38077.0,34888.0,70237.0,40231.0,44411.0,64369.0],\"yaxis\":\"y\",\"type\":\"bar\"}],                        {\"template\":{\"data\":{\"histogram2dcontour\":[{\"type\":\"histogram2dcontour\",\"colorbar\":{\"outlinewidth\":0,\"ticks\":\"\"},\"colorscale\":[[0.0,\"#0d0887\"],[0.1111111111111111,\"#46039f\"],[0.2222222222222222,\"#7201a8\"],[0.3333333333333333,\"#9c179e\"],[0.4444444444444444,\"#bd3786\"],[0.5555555555555556,\"#d8576b\"],[0.6666666666666666,\"#ed7953\"],[0.7777777777777778,\"#fb9f3a\"],[0.8888888888888888,\"#fdca26\"],[1.0,\"#f0f921\"]]}],\"choropleth\":[{\"type\":\"choropleth\",\"colorbar\":{\"outlinewidth\":0,\"ticks\":\"\"}}],\"histogram2d\":[{\"type\":\"histogram2d\",\"colorbar\":{\"outlinewidth\":0,\"ticks\":\"\"},\"colorscale\":[[0.0,\"#0d0887\"],[0.1111111111111111,\"#46039f\"],[0.2222222222222222,\"#7201a8\"],[0.3333333333333333,\"#9c179e\"],[0.4444444444444444,\"#bd3786\"],[0.5555555555555556,\"#d8576b\"],[0.6666666666666666,\"#ed7953\"],[0.7777777777777778,\"#fb9f3a\"],[0.8888888888888888,\"#fdca26\"],[1.0,\"#f0f921\"]]}],\"heatmap\":[{\"type\":\"heatmap\",\"colorbar\":{\"outlinewidth\":0,\"ticks\":\"\"},\"colorscale\":[[0.0,\"#0d0887\"],[0.1111111111111111,\"#46039f\"],[0.2222222222222222,\"#7201a8\"],[0.3333333333333333,\"#9c179e\"],[0.4444444444444444,\"#bd3786\"],[0.5555555555555556,\"#d8576b\"],[0.6666666666666666,\"#ed7953\"],[0.7777777777777778,\"#fb9f3a\"],[0.8888888888888888,\"#fdca26\"],[1.0,\"#f0f921\"]]}],\"heatmapgl\":[{\"type\":\"heatmapgl\",\"colorbar\":{\"outlinewidth\":0,\"ticks\":\"\"},\"colorscale\":[[0.0,\"#0d0887\"],[0.1111111111111111,\"#46039f\"],[0.2222222222222222,\"#7201a8\"],[0.3333333333333333,\"#9c179e\"],[0.4444444444444444,\"#bd3786\"],[0.5555555555555556,\"#d8576b\"],[0.6666666666666666,\"#ed7953\"],[0.7777777777777778,\"#fb9f3a\"],[0.8888888888888888,\"#fdca26\"],[1.0,\"#f0f921\"]]}],\"contourcarpet\":[{\"type\":\"contourcarpet\",\"colorbar\":{\"outlinewidth\":0,\"ticks\":\"\"}}],\"contour\":[{\"type\":\"contour\",\"colorbar\":{\"outlinewidth\":0,\"ticks\":\"\"},\"colorscale\":[[0.0,\"#0d0887\"],[0.1111111111111111,\"#46039f\"],[0.2222222222222222,\"#7201a8\"],[0.3333333333333333,\"#9c179e\"],[0.4444444444444444,\"#bd3786\"],[0.5555555555555556,\"#d8576b\"],[0.6666666666666666,\"#ed7953\"],[0.7777777777777778,\"#fb9f3a\"],[0.8888888888888888,\"#fdca26\"],[1.0,\"#f0f921\"]]}],\"surface\":[{\"type\":\"surface\",\"colorbar\":{\"outlinewidth\":0,\"ticks\":\"\"},\"colorscale\":[[0.0,\"#0d0887\"],[0.1111111111111111,\"#46039f\"],[0.2222222222222222,\"#7201a8\"],[0.3333333333333333,\"#9c179e\"],[0.4444444444444444,\"#bd3786\"],[0.5555555555555556,\"#d8576b\"],[0.6666666666666666,\"#ed7953\"],[0.7777777777777778,\"#fb9f3a\"],[0.8888888888888888,\"#fdca26\"],[1.0,\"#f0f921\"]]}],\"mesh3d\":[{\"type\":\"mesh3d\",\"colorbar\":{\"outlinewidth\":0,\"ticks\":\"\"}}],\"scatter\":[{\"fillpattern\":{\"fillmode\":\"overlay\",\"size\":10,\"solidity\":0.2},\"type\":\"scatter\"}],\"parcoords\":[{\"type\":\"parcoords\",\"line\":{\"colorbar\":{\"outlinewidth\":0,\"ticks\":\"\"}}}],\"scatterpolargl\":[{\"type\":\"scatterpolargl\",\"marker\":{\"colorbar\":{\"outlinewidth\":0,\"ticks\":\"\"}}}],\"bar\":[{\"error_x\":{\"color\":\"#2a3f5f\"},\"error_y\":{\"color\":\"#2a3f5f\"},\"marker\":{\"line\":{\"color\":\"#E5ECF6\",\"width\":0.5},\"pattern\":{\"fillmode\":\"overlay\",\"size\":10,\"solidity\":0.2}},\"type\":\"bar\"}],\"scattergeo\":[{\"type\":\"scattergeo\",\"marker\":{\"colorbar\":{\"outlinewidth\":0,\"ticks\":\"\"}}}],\"scatterpolar\":[{\"type\":\"scatterpolar\",\"marker\":{\"colorbar\":{\"outlinewidth\":0,\"ticks\":\"\"}}}],\"histogram\":[{\"marker\":{\"pattern\":{\"fillmode\":\"overlay\",\"size\":10,\"solidity\":0.2}},\"type\":\"histogram\"}],\"scattergl\":[{\"type\":\"scattergl\",\"marker\":{\"colorbar\":{\"outlinewidth\":0,\"ticks\":\"\"}}}],\"scatter3d\":[{\"type\":\"scatter3d\",\"line\":{\"colorbar\":{\"outlinewidth\":0,\"ticks\":\"\"}},\"marker\":{\"colorbar\":{\"outlinewidth\":0,\"ticks\":\"\"}}}],\"scattermapbox\":[{\"type\":\"scattermapbox\",\"marker\":{\"colorbar\":{\"outlinewidth\":0,\"ticks\":\"\"}}}],\"scatterternary\":[{\"type\":\"scatterternary\",\"marker\":{\"colorbar\":{\"outlinewidth\":0,\"ticks\":\"\"}}}],\"scattercarpet\":[{\"type\":\"scattercarpet\",\"marker\":{\"colorbar\":{\"outlinewidth\":0,\"ticks\":\"\"}}}],\"carpet\":[{\"aaxis\":{\"endlinecolor\":\"#2a3f5f\",\"gridcolor\":\"white\",\"linecolor\":\"white\",\"minorgridcolor\":\"white\",\"startlinecolor\":\"#2a3f5f\"},\"baxis\":{\"endlinecolor\":\"#2a3f5f\",\"gridcolor\":\"white\",\"linecolor\":\"white\",\"minorgridcolor\":\"white\",\"startlinecolor\":\"#2a3f5f\"},\"type\":\"carpet\"}],\"table\":[{\"cells\":{\"fill\":{\"color\":\"#EBF0F8\"},\"line\":{\"color\":\"white\"}},\"header\":{\"fill\":{\"color\":\"#C8D4E3\"},\"line\":{\"color\":\"white\"}},\"type\":\"table\"}],\"barpolar\":[{\"marker\":{\"line\":{\"color\":\"#E5ECF6\",\"width\":0.5},\"pattern\":{\"fillmode\":\"overlay\",\"size\":10,\"solidity\":0.2}},\"type\":\"barpolar\"}],\"pie\":[{\"automargin\":true,\"type\":\"pie\"}]},\"layout\":{\"autotypenumbers\":\"strict\",\"colorway\":[\"#636efa\",\"#EF553B\",\"#00cc96\",\"#ab63fa\",\"#FFA15A\",\"#19d3f3\",\"#FF6692\",\"#B6E880\",\"#FF97FF\",\"#FECB52\"],\"font\":{\"color\":\"#2a3f5f\"},\"hovermode\":\"closest\",\"hoverlabel\":{\"align\":\"left\"},\"paper_bgcolor\":\"white\",\"plot_bgcolor\":\"#E5ECF6\",\"polar\":{\"bgcolor\":\"#E5ECF6\",\"angularaxis\":{\"gridcolor\":\"white\",\"linecolor\":\"white\",\"ticks\":\"\"},\"radialaxis\":{\"gridcolor\":\"white\",\"linecolor\":\"white\",\"ticks\":\"\"}},\"ternary\":{\"bgcolor\":\"#E5ECF6\",\"aaxis\":{\"gridcolor\":\"white\",\"linecolor\":\"white\",\"ticks\":\"\"},\"baxis\":{\"gridcolor\":\"white\",\"linecolor\":\"white\",\"ticks\":\"\"},\"caxis\":{\"gridcolor\":\"white\",\"linecolor\":\"white\",\"ticks\":\"\"}},\"coloraxis\":{\"colorbar\":{\"outlinewidth\":0,\"ticks\":\"\"}},\"colorscale\":{\"sequential\":[[0.0,\"#0d0887\"],[0.1111111111111111,\"#46039f\"],[0.2222222222222222,\"#7201a8\"],[0.3333333333333333,\"#9c179e\"],[0.4444444444444444,\"#bd3786\"],[0.5555555555555556,\"#d8576b\"],[0.6666666666666666,\"#ed7953\"],[0.7777777777777778,\"#fb9f3a\"],[0.8888888888888888,\"#fdca26\"],[1.0,\"#f0f921\"]],\"sequentialminus\":[[0.0,\"#0d0887\"],[0.1111111111111111,\"#46039f\"],[0.2222222222222222,\"#7201a8\"],[0.3333333333333333,\"#9c179e\"],[0.4444444444444444,\"#bd3786\"],[0.5555555555555556,\"#d8576b\"],[0.6666666666666666,\"#ed7953\"],[0.7777777777777778,\"#fb9f3a\"],[0.8888888888888888,\"#fdca26\"],[1.0,\"#f0f921\"]],\"diverging\":[[0,\"#8e0152\"],[0.1,\"#c51b7d\"],[0.2,\"#de77ae\"],[0.3,\"#f1b6da\"],[0.4,\"#fde0ef\"],[0.5,\"#f7f7f7\"],[0.6,\"#e6f5d0\"],[0.7,\"#b8e186\"],[0.8,\"#7fbc41\"],[0.9,\"#4d9221\"],[1,\"#276419\"]]},\"xaxis\":{\"gridcolor\":\"white\",\"linecolor\":\"white\",\"ticks\":\"\",\"title\":{\"standoff\":15},\"zerolinecolor\":\"white\",\"automargin\":true,\"zerolinewidth\":2},\"yaxis\":{\"gridcolor\":\"white\",\"linecolor\":\"white\",\"ticks\":\"\",\"title\":{\"standoff\":15},\"zerolinecolor\":\"white\",\"automargin\":true,\"zerolinewidth\":2},\"scene\":{\"xaxis\":{\"backgroundcolor\":\"#E5ECF6\",\"gridcolor\":\"white\",\"linecolor\":\"white\",\"showbackground\":true,\"ticks\":\"\",\"zerolinecolor\":\"white\",\"gridwidth\":2},\"yaxis\":{\"backgroundcolor\":\"#E5ECF6\",\"gridcolor\":\"white\",\"linecolor\":\"white\",\"showbackground\":true,\"ticks\":\"\",\"zerolinecolor\":\"white\",\"gridwidth\":2},\"zaxis\":{\"backgroundcolor\":\"#E5ECF6\",\"gridcolor\":\"white\",\"linecolor\":\"white\",\"showbackground\":true,\"ticks\":\"\",\"zerolinecolor\":\"white\",\"gridwidth\":2}},\"shapedefaults\":{\"line\":{\"color\":\"#2a3f5f\"}},\"annotationdefaults\":{\"arrowcolor\":\"#2a3f5f\",\"arrowhead\":0,\"arrowwidth\":1},\"geo\":{\"bgcolor\":\"white\",\"landcolor\":\"#E5ECF6\",\"subunitcolor\":\"white\",\"showland\":true,\"showlakes\":true,\"lakecolor\":\"white\"},\"title\":{\"x\":0.05},\"mapbox\":{\"style\":\"light\"}}},\"xaxis\":{\"anchor\":\"y\",\"domain\":[0.0,1.0],\"title\":{\"text\":\"month\"}},\"yaxis\":{\"anchor\":\"x\",\"domain\":[0.0,1.0],\"title\":{\"text\":\"revenue\"}},\"legend\":{\"title\":{\"text\":\"category\"},\"tracegroupgap\":0},\"title\":{\"text\":\"\\u0414\\u0438\\u043d\\u0430\\u043c\\u0438\\u043a\\u0430 \\u0432\\u044b\\u0440\\u0443\\u0447\\u043a\\u0438 \\u043f\\u043e \\u043a\\u0430\\u0442\\u0435\\u0433\\u043e\\u0440\\u0438\\u044f\\u043c \\u043d\\u0430\\u0438\\u043c\\u0435\\u043d\\u043e\\u0432\\u0430\\u043d\\u0438\\u0439\"},\"barmode\":\"relative\"},                        {\"responsive\": true}                    ).then(function(){\n",
       "                            \n",
       "var gd = document.getElementById('11d3b91b-16a2-408f-ad43-914d86298164');\n",
       "var x = new MutationObserver(function (mutations, observer) {{\n",
       "        var display = window.getComputedStyle(gd).display;\n",
       "        if (!display || display === 'none') {{\n",
       "            console.log([gd, 'removed!']);\n",
       "            Plotly.purge(gd);\n",
       "            observer.disconnect();\n",
       "        }}\n",
       "}});\n",
       "\n",
       "// Listen for the removal of the full notebook cells\n",
       "var notebookContainer = gd.closest('#notebook-container');\n",
       "if (notebookContainer) {{\n",
       "    x.observe(notebookContainer, {childList: true});\n",
       "}}\n",
       "\n",
       "// Listen for the clearing of the current output cell\n",
       "var outputEl = gd.closest('.output');\n",
       "if (outputEl) {{\n",
       "    x.observe(outputEl, {childList: true});\n",
       "}}\n",
       "\n",
       "                        })                };                });            </script>        </div>"
      ]
     },
     "metadata": {},
     "output_type": "display_data"
    }
   ],
   "source": [
    "#Построим графики динамики выручки категорий \n",
    "category_plot = data.groupby(['category', 'month']).agg({'revenue':'sum'}).reset_index()\n",
    "\n",
    "fig = px.bar(\n",
    "    category_plot,\n",
    "    x='month',\n",
    "    y='revenue',\n",
    "    color='category',\n",
    "    title='Динамика выручки по категориям наименований',\n",
    ")\n",
    "\n",
    "fig.show() "
   ]
  },
  {
   "cell_type": "markdown",
   "metadata": {},
   "source": [
    "Как мы видели ранее прибыль падает, при этом прибыль в различных категорияъх весьма волноообразна. Но основании данного графика будет выдвинута следующпая статистическая далее теория."
   ]
  },
  {
   "cell_type": "code",
   "execution_count": 119,
   "metadata": {
    "scrolled": true
   },
   "outputs": [
    {
     "data": {
      "text/html": [
       "<div>\n",
       "<style scoped>\n",
       "    .dataframe tbody tr th:only-of-type {\n",
       "        vertical-align: middle;\n",
       "    }\n",
       "\n",
       "    .dataframe tbody tr th {\n",
       "        vertical-align: top;\n",
       "    }\n",
       "\n",
       "    .dataframe thead th {\n",
       "        text-align: right;\n",
       "    }\n",
       "</style>\n",
       "<table border=\"1\" class=\"dataframe\">\n",
       "  <thead>\n",
       "    <tr style=\"text-align: right;\">\n",
       "      <th></th>\n",
       "      <th>category</th>\n",
       "      <th>month</th>\n",
       "      <th>revenue</th>\n",
       "    </tr>\n",
       "  </thead>\n",
       "  <tbody>\n",
       "    <tr>\n",
       "      <th>0</th>\n",
       "      <td>для дома</td>\n",
       "      <td>2018-10</td>\n",
       "      <td>32120.0</td>\n",
       "    </tr>\n",
       "    <tr>\n",
       "      <th>1</th>\n",
       "      <td>для дома</td>\n",
       "      <td>2018-11</td>\n",
       "      <td>56723.0</td>\n",
       "    </tr>\n",
       "    <tr>\n",
       "      <th>2</th>\n",
       "      <td>для дома</td>\n",
       "      <td>2018-12</td>\n",
       "      <td>23423.0</td>\n",
       "    </tr>\n",
       "    <tr>\n",
       "      <th>3</th>\n",
       "      <td>для дома</td>\n",
       "      <td>2019-01</td>\n",
       "      <td>9107.0</td>\n",
       "    </tr>\n",
       "    <tr>\n",
       "      <th>4</th>\n",
       "      <td>для дома</td>\n",
       "      <td>2019-02</td>\n",
       "      <td>25496.0</td>\n",
       "    </tr>\n",
       "    <tr>\n",
       "      <th>...</th>\n",
       "      <td>...</td>\n",
       "      <td>...</td>\n",
       "      <td>...</td>\n",
       "    </tr>\n",
       "    <tr>\n",
       "      <th>99</th>\n",
       "      <td>хозтовары</td>\n",
       "      <td>2019-06</td>\n",
       "      <td>34888.0</td>\n",
       "    </tr>\n",
       "    <tr>\n",
       "      <th>100</th>\n",
       "      <td>хозтовары</td>\n",
       "      <td>2019-07</td>\n",
       "      <td>70237.0</td>\n",
       "    </tr>\n",
       "    <tr>\n",
       "      <th>101</th>\n",
       "      <td>хозтовары</td>\n",
       "      <td>2019-08</td>\n",
       "      <td>40231.0</td>\n",
       "    </tr>\n",
       "    <tr>\n",
       "      <th>102</th>\n",
       "      <td>хозтовары</td>\n",
       "      <td>2019-09</td>\n",
       "      <td>44411.0</td>\n",
       "    </tr>\n",
       "    <tr>\n",
       "      <th>103</th>\n",
       "      <td>хозтовары</td>\n",
       "      <td>2019-10</td>\n",
       "      <td>64369.0</td>\n",
       "    </tr>\n",
       "  </tbody>\n",
       "</table>\n",
       "<p>104 rows × 3 columns</p>\n",
       "</div>"
      ],
      "text/plain": [
       "      category    month  revenue\n",
       "0     для дома  2018-10  32120.0\n",
       "1     для дома  2018-11  56723.0\n",
       "2     для дома  2018-12  23423.0\n",
       "3     для дома  2019-01   9107.0\n",
       "4     для дома  2019-02  25496.0\n",
       "..         ...      ...      ...\n",
       "99   хозтовары  2019-06  34888.0\n",
       "100  хозтовары  2019-07  70237.0\n",
       "101  хозтовары  2019-08  40231.0\n",
       "102  хозтовары  2019-09  44411.0\n",
       "103  хозтовары  2019-10  64369.0\n",
       "\n",
       "[104 rows x 3 columns]"
      ]
     },
     "execution_count": 119,
     "metadata": {},
     "output_type": "execute_result"
    }
   ],
   "source": [
    "category_plot"
   ]
  },
  {
   "cell_type": "markdown",
   "metadata": {},
   "source": [
    "### Подробнее проанализируем наиболее лояльных покупателей"
   ]
  },
  {
   "cell_type": "markdown",
   "metadata": {},
   "source": [
    "Изучим структуру потребления лояльных потребителей"
   ]
  },
  {
   "cell_type": "code",
   "execution_count": 120,
   "metadata": {},
   "outputs": [],
   "source": [
    "clients_loyal['customer_id']= clients_loyal.index"
   ]
  },
  {
   "cell_type": "code",
   "execution_count": 121,
   "metadata": {},
   "outputs": [
    {
     "data": {
      "text/html": [
       "<div>\n",
       "<style scoped>\n",
       "    .dataframe tbody tr th:only-of-type {\n",
       "        vertical-align: middle;\n",
       "    }\n",
       "\n",
       "    .dataframe tbody tr th {\n",
       "        vertical-align: top;\n",
       "    }\n",
       "\n",
       "    .dataframe thead th {\n",
       "        text-align: right;\n",
       "    }\n",
       "</style>\n",
       "<table border=\"1\" class=\"dataframe\">\n",
       "  <thead>\n",
       "    <tr style=\"text-align: right;\">\n",
       "      <th></th>\n",
       "      <th>customer_id</th>\n",
       "    </tr>\n",
       "    <tr>\n",
       "      <th>customer_id</th>\n",
       "      <th></th>\n",
       "    </tr>\n",
       "  </thead>\n",
       "  <tbody>\n",
       "    <tr>\n",
       "      <th>c971fb21-d54c-4134-938f-16b62ee86d3b</th>\n",
       "      <td>c971fb21-d54c-4134-938f-16b62ee86d3b</td>\n",
       "    </tr>\n",
       "    <tr>\n",
       "      <th>58a4c3cc-504f-43ea-a74a-bae19e665552</th>\n",
       "      <td>58a4c3cc-504f-43ea-a74a-bae19e665552</td>\n",
       "    </tr>\n",
       "    <tr>\n",
       "      <th>4d93d3f6-8b24-403b-a74b-f5173e40d7db</th>\n",
       "      <td>4d93d3f6-8b24-403b-a74b-f5173e40d7db</td>\n",
       "    </tr>\n",
       "    <tr>\n",
       "      <th>498f12a4-6a62-4725-8516-cf5dc9ab8a3a</th>\n",
       "      <td>498f12a4-6a62-4725-8516-cf5dc9ab8a3a</td>\n",
       "    </tr>\n",
       "    <tr>\n",
       "      <th>940c175f-ea87-44e0-9e16-0a3d0a9abecd</th>\n",
       "      <td>940c175f-ea87-44e0-9e16-0a3d0a9abecd</td>\n",
       "    </tr>\n",
       "  </tbody>\n",
       "</table>\n",
       "</div>"
      ],
      "text/plain": [
       "                                                               customer_id\n",
       "customer_id                                                               \n",
       "c971fb21-d54c-4134-938f-16b62ee86d3b  c971fb21-d54c-4134-938f-16b62ee86d3b\n",
       "58a4c3cc-504f-43ea-a74a-bae19e665552  58a4c3cc-504f-43ea-a74a-bae19e665552\n",
       "4d93d3f6-8b24-403b-a74b-f5173e40d7db  4d93d3f6-8b24-403b-a74b-f5173e40d7db\n",
       "498f12a4-6a62-4725-8516-cf5dc9ab8a3a  498f12a4-6a62-4725-8516-cf5dc9ab8a3a\n",
       "940c175f-ea87-44e0-9e16-0a3d0a9abecd  940c175f-ea87-44e0-9e16-0a3d0a9abecd"
      ]
     },
     "execution_count": 121,
     "metadata": {},
     "output_type": "execute_result"
    }
   ],
   "source": [
    "clients_loyal2=pd.concat([clients_loyal['customer_id']], axis= 1 )\n",
    "clients_loyal2.head()"
   ]
  },
  {
   "cell_type": "code",
   "execution_count": 122,
   "metadata": {},
   "outputs": [
    {
     "data": {
      "text/html": [
       "<div>\n",
       "<style scoped>\n",
       "    .dataframe tbody tr th:only-of-type {\n",
       "        vertical-align: middle;\n",
       "    }\n",
       "\n",
       "    .dataframe tbody tr th {\n",
       "        vertical-align: top;\n",
       "    }\n",
       "\n",
       "    .dataframe thead th {\n",
       "        text-align: right;\n",
       "    }\n",
       "</style>\n",
       "<table border=\"1\" class=\"dataframe\">\n",
       "  <thead>\n",
       "    <tr style=\"text-align: right;\">\n",
       "      <th></th>\n",
       "      <th>date</th>\n",
       "      <th>customer_id</th>\n",
       "      <th>order_id</th>\n",
       "      <th>product</th>\n",
       "      <th>quantity</th>\n",
       "      <th>price</th>\n",
       "      <th>revenue</th>\n",
       "      <th>month</th>\n",
       "      <th>name</th>\n",
       "      <th>category</th>\n",
       "    </tr>\n",
       "  </thead>\n",
       "  <tbody>\n",
       "    <tr>\n",
       "      <th>9</th>\n",
       "      <td>2018-10-01 09:00:00</td>\n",
       "      <td>c971fb21-d54c-4134-938f-16b62ee86d3b</td>\n",
       "      <td>68480</td>\n",
       "      <td>Чехол для гладильной доски Colombo Persia Beig...</td>\n",
       "      <td>1</td>\n",
       "      <td>674.0</td>\n",
       "      <td>674.0</td>\n",
       "      <td>2018-10</td>\n",
       "      <td>Чехол</td>\n",
       "      <td>для дома</td>\n",
       "    </tr>\n",
       "    <tr>\n",
       "      <th>12</th>\n",
       "      <td>2018-10-01 13:00:00</td>\n",
       "      <td>4d93d3f6-8b24-403b-a74b-f5173e40d7db</td>\n",
       "      <td>68485</td>\n",
       "      <td>Чехол Eurogold Clean Basic хлопок для досок 12...</td>\n",
       "      <td>1</td>\n",
       "      <td>187.0</td>\n",
       "      <td>187.0</td>\n",
       "      <td>2018-10</td>\n",
       "      <td>Чехол</td>\n",
       "      <td>для дома</td>\n",
       "    </tr>\n",
       "    <tr>\n",
       "      <th>20</th>\n",
       "      <td>2018-10-02 08:00:00</td>\n",
       "      <td>c971fb21-d54c-4134-938f-16b62ee86d3b</td>\n",
       "      <td>68490</td>\n",
       "      <td>Чехол для гладильной доски Festival 137x60 см ...</td>\n",
       "      <td>1</td>\n",
       "      <td>1162.0</td>\n",
       "      <td>1162.0</td>\n",
       "      <td>2018-10</td>\n",
       "      <td>Чехол</td>\n",
       "      <td>для дома</td>\n",
       "    </tr>\n",
       "    <tr>\n",
       "      <th>21</th>\n",
       "      <td>2018-10-02 10:00:00</td>\n",
       "      <td>4d93d3f6-8b24-403b-a74b-f5173e40d7db</td>\n",
       "      <td>68491</td>\n",
       "      <td>Сумка-тележка 2-х колесная Gimi Argo синяя</td>\n",
       "      <td>1</td>\n",
       "      <td>1049.0</td>\n",
       "      <td>1049.0</td>\n",
       "      <td>2018-10</td>\n",
       "      <td>Сумка-тележка</td>\n",
       "      <td>сумки</td>\n",
       "    </tr>\n",
       "    <tr>\n",
       "      <th>42</th>\n",
       "      <td>2018-10-02 11:00:00</td>\n",
       "      <td>4d93d3f6-8b24-403b-a74b-f5173e40d7db</td>\n",
       "      <td>68493</td>\n",
       "      <td>Щетка-сметка 3-х рядная деревянная 450 мм (пло...</td>\n",
       "      <td>15</td>\n",
       "      <td>49.0</td>\n",
       "      <td>735.0</td>\n",
       "      <td>2018-10</td>\n",
       "      <td>Щетка-сметка</td>\n",
       "      <td>хозтовары</td>\n",
       "    </tr>\n",
       "  </tbody>\n",
       "</table>\n",
       "</div>"
      ],
      "text/plain": [
       "                  date                           customer_id  order_id  \\\n",
       "9  2018-10-01 09:00:00  c971fb21-d54c-4134-938f-16b62ee86d3b     68480   \n",
       "12 2018-10-01 13:00:00  4d93d3f6-8b24-403b-a74b-f5173e40d7db     68485   \n",
       "20 2018-10-02 08:00:00  c971fb21-d54c-4134-938f-16b62ee86d3b     68490   \n",
       "21 2018-10-02 10:00:00  4d93d3f6-8b24-403b-a74b-f5173e40d7db     68491   \n",
       "42 2018-10-02 11:00:00  4d93d3f6-8b24-403b-a74b-f5173e40d7db     68493   \n",
       "\n",
       "                                              product  quantity   price  \\\n",
       "9   Чехол для гладильной доски Colombo Persia Beig...         1   674.0   \n",
       "12  Чехол Eurogold Clean Basic хлопок для досок 12...         1   187.0   \n",
       "20  Чехол для гладильной доски Festival 137x60 см ...         1  1162.0   \n",
       "21         Сумка-тележка 2-х колесная Gimi Argo синяя         1  1049.0   \n",
       "42  Щетка-сметка 3-х рядная деревянная 450 мм (пло...        15    49.0   \n",
       "\n",
       "    revenue    month           name   category  \n",
       "9     674.0  2018-10          Чехол   для дома  \n",
       "12    187.0  2018-10          Чехол   для дома  \n",
       "20   1162.0  2018-10          Чехол   для дома  \n",
       "21   1049.0  2018-10  Сумка-тележка      сумки  \n",
       "42    735.0  2018-10   Щетка-сметка  хозтовары  "
      ]
     },
     "execution_count": 122,
     "metadata": {},
     "output_type": "execute_result"
    }
   ],
   "source": [
    "#Сформирует фрейм\n",
    "data_loyal=data[data['customer_id'].isin(clients_loyal2['customer_id'])]\n",
    "data_loyal.head()"
   ]
  },
  {
   "cell_type": "code",
   "execution_count": 123,
   "metadata": {
    "scrolled": false
   },
   "outputs": [
    {
     "data": {
      "application/vnd.plotly.v1+json": {
       "config": {
        "plotlyServerURL": "https://plot.ly"
       },
       "data": [
        {
         "alignmentgroup": "True",
         "hovertemplate": "category=для дома<br>month=%{x}<br>revenue=%{y}<extra></extra>",
         "legendgroup": "для дома",
         "marker": {
          "color": "#636efa",
          "pattern": {
           "shape": ""
          }
         },
         "name": "для дома",
         "offsetgroup": "для дома",
         "orientation": "v",
         "showlegend": true,
         "textposition": "auto",
         "type": "bar",
         "x": [
          "2018-10",
          "2018-11",
          "2018-12",
          "2019-01",
          "2019-02",
          "2019-03",
          "2019-04",
          "2019-06",
          "2019-07",
          "2019-08",
          "2019-09",
          "2019-10"
         ],
         "xaxis": "x",
         "y": [
          8092,
          926,
          1167,
          3011,
          8913,
          827,
          1172,
          1948,
          2298,
          194,
          1069,
          680
         ],
         "yaxis": "y"
        },
        {
         "alignmentgroup": "True",
         "hovertemplate": "category=другое<br>month=%{x}<br>revenue=%{y}<extra></extra>",
         "legendgroup": "другое",
         "marker": {
          "color": "#EF553B",
          "pattern": {
           "shape": ""
          }
         },
         "name": "другое",
         "offsetgroup": "другое",
         "orientation": "v",
         "showlegend": true,
         "textposition": "auto",
         "type": "bar",
         "x": [
          "2018-10",
          "2018-11",
          "2018-12",
          "2019-01",
          "2019-02",
          "2019-03",
          "2019-04",
          "2019-05",
          "2019-06",
          "2019-08",
          "2019-10"
         ],
         "xaxis": "x",
         "y": [
          4345,
          2144,
          3727,
          718,
          163,
          2017,
          565,
          1627,
          1305,
          4572,
          4262
         ],
         "yaxis": "y"
        },
        {
         "alignmentgroup": "True",
         "hovertemplate": "category=кухонная утварь<br>month=%{x}<br>revenue=%{y}<extra></extra>",
         "legendgroup": "кухонная утварь",
         "marker": {
          "color": "#00cc96",
          "pattern": {
           "shape": ""
          }
         },
         "name": "кухонная утварь",
         "offsetgroup": "кухонная утварь",
         "orientation": "v",
         "showlegend": true,
         "textposition": "auto",
         "type": "bar",
         "x": [
          "2018-10",
          "2018-11",
          "2018-12",
          "2019-01",
          "2019-02",
          "2019-03",
          "2019-04",
          "2019-06",
          "2019-08",
          "2019-09",
          "2019-10"
         ],
         "xaxis": "x",
         "y": [
          8304,
          3344,
          4578,
          492,
          3149,
          3745,
          418,
          20232,
          598,
          675,
          1453
         ],
         "yaxis": "y"
        },
        {
         "alignmentgroup": "True",
         "hovertemplate": "category=лестницы<br>month=%{x}<br>revenue=%{y}<extra></extra>",
         "legendgroup": "лестницы",
         "marker": {
          "color": "#ab63fa",
          "pattern": {
           "shape": ""
          }
         },
         "name": "лестницы",
         "offsetgroup": "лестницы",
         "orientation": "v",
         "showlegend": true,
         "textposition": "auto",
         "type": "bar",
         "x": [
          "2018-10",
          "2018-12",
          "2019-04",
          "2019-05",
          "2019-08",
          "2019-10"
         ],
         "xaxis": "x",
         "y": [
          3974,
          1799,
          2999,
          2999,
          6898,
          2849
         ],
         "yaxis": "y"
        },
        {
         "alignmentgroup": "True",
         "hovertemplate": "category=растения<br>month=%{x}<br>revenue=%{y}<extra></extra>",
         "legendgroup": "растения",
         "marker": {
          "color": "#FFA15A",
          "pattern": {
           "shape": ""
          }
         },
         "name": "растения",
         "offsetgroup": "растения",
         "orientation": "v",
         "showlegend": true,
         "textposition": "auto",
         "type": "bar",
         "x": [
          "2018-10",
          "2018-11",
          "2018-12",
          "2019-01",
          "2019-02",
          "2019-03",
          "2019-04",
          "2019-05",
          "2019-06",
          "2019-07",
          "2019-08",
          "2019-09",
          "2019-10"
         ],
         "xaxis": "x",
         "y": [
          4414,
          2615,
          6028,
          1567,
          6250,
          2988,
          23380,
          21025,
          5431,
          3557,
          2674,
          4838,
          3914
         ],
         "yaxis": "y"
        },
        {
         "alignmentgroup": "True",
         "hovertemplate": "category=сумки<br>month=%{x}<br>revenue=%{y}<extra></extra>",
         "legendgroup": "сумки",
         "marker": {
          "color": "#19d3f3",
          "pattern": {
           "shape": ""
          }
         },
         "name": "сумки",
         "offsetgroup": "сумки",
         "orientation": "v",
         "showlegend": true,
         "textposition": "auto",
         "type": "bar",
         "x": [
          "2018-10",
          "2018-11",
          "2018-12",
          "2019-01",
          "2019-02",
          "2019-03",
          "2019-04",
          "2019-06",
          "2019-07",
          "2019-08",
          "2019-09",
          "2019-10"
         ],
         "xaxis": "x",
         "y": [
          13065,
          5007,
          7585,
          4957,
          9417,
          4874,
          10196,
          734,
          1762,
          15145,
          2007,
          13009
         ],
         "yaxis": "y"
        },
        {
         "alignmentgroup": "True",
         "hovertemplate": "category=текстиль<br>month=%{x}<br>revenue=%{y}<extra></extra>",
         "legendgroup": "текстиль",
         "marker": {
          "color": "#FF6692",
          "pattern": {
           "shape": ""
          }
         },
         "name": "текстиль",
         "offsetgroup": "текстиль",
         "orientation": "v",
         "showlegend": true,
         "textposition": "auto",
         "type": "bar",
         "x": [
          "2018-10",
          "2018-11",
          "2018-12",
          "2019-01",
          "2019-02",
          "2019-03",
          "2019-04",
          "2019-06",
          "2019-07",
          "2019-08",
          "2019-10"
         ],
         "xaxis": "x",
         "y": [
          6744,
          3056,
          8146,
          57984,
          899,
          209,
          30085,
          1607,
          7049,
          74,
          1199
         ],
         "yaxis": "y"
        },
        {
         "alignmentgroup": "True",
         "hovertemplate": "category=хозтовары<br>month=%{x}<br>revenue=%{y}<extra></extra>",
         "legendgroup": "хозтовары",
         "marker": {
          "color": "#B6E880",
          "pattern": {
           "shape": ""
          }
         },
         "name": "хозтовары",
         "offsetgroup": "хозтовары",
         "orientation": "v",
         "showlegend": true,
         "textposition": "auto",
         "type": "bar",
         "x": [
          "2018-10",
          "2018-11",
          "2018-12",
          "2019-01",
          "2019-02",
          "2019-03",
          "2019-04",
          "2019-05",
          "2019-06",
          "2019-07",
          "2019-09",
          "2019-10"
         ],
         "xaxis": "x",
         "y": [
          41061,
          12847,
          19345,
          4653,
          23257,
          4697,
          10959,
          2869,
          2754,
          3678,
          5248,
          7894
         ],
         "yaxis": "y"
        }
       ],
       "layout": {
        "barmode": "relative",
        "legend": {
         "title": {
          "text": "category"
         },
         "tracegroupgap": 0
        },
        "template": {
         "data": {
          "bar": [
           {
            "error_x": {
             "color": "#2a3f5f"
            },
            "error_y": {
             "color": "#2a3f5f"
            },
            "marker": {
             "line": {
              "color": "#E5ECF6",
              "width": 0.5
             },
             "pattern": {
              "fillmode": "overlay",
              "size": 10,
              "solidity": 0.2
             }
            },
            "type": "bar"
           }
          ],
          "barpolar": [
           {
            "marker": {
             "line": {
              "color": "#E5ECF6",
              "width": 0.5
             },
             "pattern": {
              "fillmode": "overlay",
              "size": 10,
              "solidity": 0.2
             }
            },
            "type": "barpolar"
           }
          ],
          "carpet": [
           {
            "aaxis": {
             "endlinecolor": "#2a3f5f",
             "gridcolor": "white",
             "linecolor": "white",
             "minorgridcolor": "white",
             "startlinecolor": "#2a3f5f"
            },
            "baxis": {
             "endlinecolor": "#2a3f5f",
             "gridcolor": "white",
             "linecolor": "white",
             "minorgridcolor": "white",
             "startlinecolor": "#2a3f5f"
            },
            "type": "carpet"
           }
          ],
          "choropleth": [
           {
            "colorbar": {
             "outlinewidth": 0,
             "ticks": ""
            },
            "type": "choropleth"
           }
          ],
          "contour": [
           {
            "colorbar": {
             "outlinewidth": 0,
             "ticks": ""
            },
            "colorscale": [
             [
              0,
              "#0d0887"
             ],
             [
              0.1111111111111111,
              "#46039f"
             ],
             [
              0.2222222222222222,
              "#7201a8"
             ],
             [
              0.3333333333333333,
              "#9c179e"
             ],
             [
              0.4444444444444444,
              "#bd3786"
             ],
             [
              0.5555555555555556,
              "#d8576b"
             ],
             [
              0.6666666666666666,
              "#ed7953"
             ],
             [
              0.7777777777777778,
              "#fb9f3a"
             ],
             [
              0.8888888888888888,
              "#fdca26"
             ],
             [
              1,
              "#f0f921"
             ]
            ],
            "type": "contour"
           }
          ],
          "contourcarpet": [
           {
            "colorbar": {
             "outlinewidth": 0,
             "ticks": ""
            },
            "type": "contourcarpet"
           }
          ],
          "heatmap": [
           {
            "colorbar": {
             "outlinewidth": 0,
             "ticks": ""
            },
            "colorscale": [
             [
              0,
              "#0d0887"
             ],
             [
              0.1111111111111111,
              "#46039f"
             ],
             [
              0.2222222222222222,
              "#7201a8"
             ],
             [
              0.3333333333333333,
              "#9c179e"
             ],
             [
              0.4444444444444444,
              "#bd3786"
             ],
             [
              0.5555555555555556,
              "#d8576b"
             ],
             [
              0.6666666666666666,
              "#ed7953"
             ],
             [
              0.7777777777777778,
              "#fb9f3a"
             ],
             [
              0.8888888888888888,
              "#fdca26"
             ],
             [
              1,
              "#f0f921"
             ]
            ],
            "type": "heatmap"
           }
          ],
          "heatmapgl": [
           {
            "colorbar": {
             "outlinewidth": 0,
             "ticks": ""
            },
            "colorscale": [
             [
              0,
              "#0d0887"
             ],
             [
              0.1111111111111111,
              "#46039f"
             ],
             [
              0.2222222222222222,
              "#7201a8"
             ],
             [
              0.3333333333333333,
              "#9c179e"
             ],
             [
              0.4444444444444444,
              "#bd3786"
             ],
             [
              0.5555555555555556,
              "#d8576b"
             ],
             [
              0.6666666666666666,
              "#ed7953"
             ],
             [
              0.7777777777777778,
              "#fb9f3a"
             ],
             [
              0.8888888888888888,
              "#fdca26"
             ],
             [
              1,
              "#f0f921"
             ]
            ],
            "type": "heatmapgl"
           }
          ],
          "histogram": [
           {
            "marker": {
             "pattern": {
              "fillmode": "overlay",
              "size": 10,
              "solidity": 0.2
             }
            },
            "type": "histogram"
           }
          ],
          "histogram2d": [
           {
            "colorbar": {
             "outlinewidth": 0,
             "ticks": ""
            },
            "colorscale": [
             [
              0,
              "#0d0887"
             ],
             [
              0.1111111111111111,
              "#46039f"
             ],
             [
              0.2222222222222222,
              "#7201a8"
             ],
             [
              0.3333333333333333,
              "#9c179e"
             ],
             [
              0.4444444444444444,
              "#bd3786"
             ],
             [
              0.5555555555555556,
              "#d8576b"
             ],
             [
              0.6666666666666666,
              "#ed7953"
             ],
             [
              0.7777777777777778,
              "#fb9f3a"
             ],
             [
              0.8888888888888888,
              "#fdca26"
             ],
             [
              1,
              "#f0f921"
             ]
            ],
            "type": "histogram2d"
           }
          ],
          "histogram2dcontour": [
           {
            "colorbar": {
             "outlinewidth": 0,
             "ticks": ""
            },
            "colorscale": [
             [
              0,
              "#0d0887"
             ],
             [
              0.1111111111111111,
              "#46039f"
             ],
             [
              0.2222222222222222,
              "#7201a8"
             ],
             [
              0.3333333333333333,
              "#9c179e"
             ],
             [
              0.4444444444444444,
              "#bd3786"
             ],
             [
              0.5555555555555556,
              "#d8576b"
             ],
             [
              0.6666666666666666,
              "#ed7953"
             ],
             [
              0.7777777777777778,
              "#fb9f3a"
             ],
             [
              0.8888888888888888,
              "#fdca26"
             ],
             [
              1,
              "#f0f921"
             ]
            ],
            "type": "histogram2dcontour"
           }
          ],
          "mesh3d": [
           {
            "colorbar": {
             "outlinewidth": 0,
             "ticks": ""
            },
            "type": "mesh3d"
           }
          ],
          "parcoords": [
           {
            "line": {
             "colorbar": {
              "outlinewidth": 0,
              "ticks": ""
             }
            },
            "type": "parcoords"
           }
          ],
          "pie": [
           {
            "automargin": true,
            "type": "pie"
           }
          ],
          "scatter": [
           {
            "fillpattern": {
             "fillmode": "overlay",
             "size": 10,
             "solidity": 0.2
            },
            "type": "scatter"
           }
          ],
          "scatter3d": [
           {
            "line": {
             "colorbar": {
              "outlinewidth": 0,
              "ticks": ""
             }
            },
            "marker": {
             "colorbar": {
              "outlinewidth": 0,
              "ticks": ""
             }
            },
            "type": "scatter3d"
           }
          ],
          "scattercarpet": [
           {
            "marker": {
             "colorbar": {
              "outlinewidth": 0,
              "ticks": ""
             }
            },
            "type": "scattercarpet"
           }
          ],
          "scattergeo": [
           {
            "marker": {
             "colorbar": {
              "outlinewidth": 0,
              "ticks": ""
             }
            },
            "type": "scattergeo"
           }
          ],
          "scattergl": [
           {
            "marker": {
             "colorbar": {
              "outlinewidth": 0,
              "ticks": ""
             }
            },
            "type": "scattergl"
           }
          ],
          "scattermapbox": [
           {
            "marker": {
             "colorbar": {
              "outlinewidth": 0,
              "ticks": ""
             }
            },
            "type": "scattermapbox"
           }
          ],
          "scatterpolar": [
           {
            "marker": {
             "colorbar": {
              "outlinewidth": 0,
              "ticks": ""
             }
            },
            "type": "scatterpolar"
           }
          ],
          "scatterpolargl": [
           {
            "marker": {
             "colorbar": {
              "outlinewidth": 0,
              "ticks": ""
             }
            },
            "type": "scatterpolargl"
           }
          ],
          "scatterternary": [
           {
            "marker": {
             "colorbar": {
              "outlinewidth": 0,
              "ticks": ""
             }
            },
            "type": "scatterternary"
           }
          ],
          "surface": [
           {
            "colorbar": {
             "outlinewidth": 0,
             "ticks": ""
            },
            "colorscale": [
             [
              0,
              "#0d0887"
             ],
             [
              0.1111111111111111,
              "#46039f"
             ],
             [
              0.2222222222222222,
              "#7201a8"
             ],
             [
              0.3333333333333333,
              "#9c179e"
             ],
             [
              0.4444444444444444,
              "#bd3786"
             ],
             [
              0.5555555555555556,
              "#d8576b"
             ],
             [
              0.6666666666666666,
              "#ed7953"
             ],
             [
              0.7777777777777778,
              "#fb9f3a"
             ],
             [
              0.8888888888888888,
              "#fdca26"
             ],
             [
              1,
              "#f0f921"
             ]
            ],
            "type": "surface"
           }
          ],
          "table": [
           {
            "cells": {
             "fill": {
              "color": "#EBF0F8"
             },
             "line": {
              "color": "white"
             }
            },
            "header": {
             "fill": {
              "color": "#C8D4E3"
             },
             "line": {
              "color": "white"
             }
            },
            "type": "table"
           }
          ]
         },
         "layout": {
          "annotationdefaults": {
           "arrowcolor": "#2a3f5f",
           "arrowhead": 0,
           "arrowwidth": 1
          },
          "autotypenumbers": "strict",
          "coloraxis": {
           "colorbar": {
            "outlinewidth": 0,
            "ticks": ""
           }
          },
          "colorscale": {
           "diverging": [
            [
             0,
             "#8e0152"
            ],
            [
             0.1,
             "#c51b7d"
            ],
            [
             0.2,
             "#de77ae"
            ],
            [
             0.3,
             "#f1b6da"
            ],
            [
             0.4,
             "#fde0ef"
            ],
            [
             0.5,
             "#f7f7f7"
            ],
            [
             0.6,
             "#e6f5d0"
            ],
            [
             0.7,
             "#b8e186"
            ],
            [
             0.8,
             "#7fbc41"
            ],
            [
             0.9,
             "#4d9221"
            ],
            [
             1,
             "#276419"
            ]
           ],
           "sequential": [
            [
             0,
             "#0d0887"
            ],
            [
             0.1111111111111111,
             "#46039f"
            ],
            [
             0.2222222222222222,
             "#7201a8"
            ],
            [
             0.3333333333333333,
             "#9c179e"
            ],
            [
             0.4444444444444444,
             "#bd3786"
            ],
            [
             0.5555555555555556,
             "#d8576b"
            ],
            [
             0.6666666666666666,
             "#ed7953"
            ],
            [
             0.7777777777777778,
             "#fb9f3a"
            ],
            [
             0.8888888888888888,
             "#fdca26"
            ],
            [
             1,
             "#f0f921"
            ]
           ],
           "sequentialminus": [
            [
             0,
             "#0d0887"
            ],
            [
             0.1111111111111111,
             "#46039f"
            ],
            [
             0.2222222222222222,
             "#7201a8"
            ],
            [
             0.3333333333333333,
             "#9c179e"
            ],
            [
             0.4444444444444444,
             "#bd3786"
            ],
            [
             0.5555555555555556,
             "#d8576b"
            ],
            [
             0.6666666666666666,
             "#ed7953"
            ],
            [
             0.7777777777777778,
             "#fb9f3a"
            ],
            [
             0.8888888888888888,
             "#fdca26"
            ],
            [
             1,
             "#f0f921"
            ]
           ]
          },
          "colorway": [
           "#636efa",
           "#EF553B",
           "#00cc96",
           "#ab63fa",
           "#FFA15A",
           "#19d3f3",
           "#FF6692",
           "#B6E880",
           "#FF97FF",
           "#FECB52"
          ],
          "font": {
           "color": "#2a3f5f"
          },
          "geo": {
           "bgcolor": "white",
           "lakecolor": "white",
           "landcolor": "#E5ECF6",
           "showlakes": true,
           "showland": true,
           "subunitcolor": "white"
          },
          "hoverlabel": {
           "align": "left"
          },
          "hovermode": "closest",
          "mapbox": {
           "style": "light"
          },
          "paper_bgcolor": "white",
          "plot_bgcolor": "#E5ECF6",
          "polar": {
           "angularaxis": {
            "gridcolor": "white",
            "linecolor": "white",
            "ticks": ""
           },
           "bgcolor": "#E5ECF6",
           "radialaxis": {
            "gridcolor": "white",
            "linecolor": "white",
            "ticks": ""
           }
          },
          "scene": {
           "xaxis": {
            "backgroundcolor": "#E5ECF6",
            "gridcolor": "white",
            "gridwidth": 2,
            "linecolor": "white",
            "showbackground": true,
            "ticks": "",
            "zerolinecolor": "white"
           },
           "yaxis": {
            "backgroundcolor": "#E5ECF6",
            "gridcolor": "white",
            "gridwidth": 2,
            "linecolor": "white",
            "showbackground": true,
            "ticks": "",
            "zerolinecolor": "white"
           },
           "zaxis": {
            "backgroundcolor": "#E5ECF6",
            "gridcolor": "white",
            "gridwidth": 2,
            "linecolor": "white",
            "showbackground": true,
            "ticks": "",
            "zerolinecolor": "white"
           }
          },
          "shapedefaults": {
           "line": {
            "color": "#2a3f5f"
           }
          },
          "ternary": {
           "aaxis": {
            "gridcolor": "white",
            "linecolor": "white",
            "ticks": ""
           },
           "baxis": {
            "gridcolor": "white",
            "linecolor": "white",
            "ticks": ""
           },
           "bgcolor": "#E5ECF6",
           "caxis": {
            "gridcolor": "white",
            "linecolor": "white",
            "ticks": ""
           }
          },
          "title": {
           "x": 0.05
          },
          "xaxis": {
           "automargin": true,
           "gridcolor": "white",
           "linecolor": "white",
           "ticks": "",
           "title": {
            "standoff": 15
           },
           "zerolinecolor": "white",
           "zerolinewidth": 2
          },
          "yaxis": {
           "automargin": true,
           "gridcolor": "white",
           "linecolor": "white",
           "ticks": "",
           "title": {
            "standoff": 15
           },
           "zerolinecolor": "white",
           "zerolinewidth": 2
          }
         }
        },
        "title": {
         "text": "Динамика выручки по категориям наименований"
        },
        "xaxis": {
         "anchor": "y",
         "domain": [
          0,
          1
         ],
         "title": {
          "text": "month"
         }
        },
        "yaxis": {
         "anchor": "x",
         "domain": [
          0,
          1
         ],
         "title": {
          "text": "revenue"
         }
        }
       }
      },
      "text/html": [
       "<div>                            <div id=\"97a5e76c-c710-4e4f-a3e8-7f3577f5dc7e\" class=\"plotly-graph-div\" style=\"height:525px; width:100%;\"></div>            <script type=\"text/javascript\">                require([\"plotly\"], function(Plotly) {                    window.PLOTLYENV=window.PLOTLYENV || {};                                    if (document.getElementById(\"97a5e76c-c710-4e4f-a3e8-7f3577f5dc7e\")) {                    Plotly.newPlot(                        \"97a5e76c-c710-4e4f-a3e8-7f3577f5dc7e\",                        [{\"alignmentgroup\":\"True\",\"hovertemplate\":\"category=\\u0434\\u043b\\u044f \\u0434\\u043e\\u043c\\u0430<br>month=%{x}<br>revenue=%{y}<extra></extra>\",\"legendgroup\":\"\\u0434\\u043b\\u044f \\u0434\\u043e\\u043c\\u0430\",\"marker\":{\"color\":\"#636efa\",\"pattern\":{\"shape\":\"\"}},\"name\":\"\\u0434\\u043b\\u044f \\u0434\\u043e\\u043c\\u0430\",\"offsetgroup\":\"\\u0434\\u043b\\u044f \\u0434\\u043e\\u043c\\u0430\",\"orientation\":\"v\",\"showlegend\":true,\"textposition\":\"auto\",\"x\":[\"2018-10\",\"2018-11\",\"2018-12\",\"2019-01\",\"2019-02\",\"2019-03\",\"2019-04\",\"2019-06\",\"2019-07\",\"2019-08\",\"2019-09\",\"2019-10\"],\"xaxis\":\"x\",\"y\":[8092.0,926.0,1167.0,3011.0,8913.0,827.0,1172.0,1948.0,2298.0,194.0,1069.0,680.0],\"yaxis\":\"y\",\"type\":\"bar\"},{\"alignmentgroup\":\"True\",\"hovertemplate\":\"category=\\u0434\\u0440\\u0443\\u0433\\u043e\\u0435<br>month=%{x}<br>revenue=%{y}<extra></extra>\",\"legendgroup\":\"\\u0434\\u0440\\u0443\\u0433\\u043e\\u0435\",\"marker\":{\"color\":\"#EF553B\",\"pattern\":{\"shape\":\"\"}},\"name\":\"\\u0434\\u0440\\u0443\\u0433\\u043e\\u0435\",\"offsetgroup\":\"\\u0434\\u0440\\u0443\\u0433\\u043e\\u0435\",\"orientation\":\"v\",\"showlegend\":true,\"textposition\":\"auto\",\"x\":[\"2018-10\",\"2018-11\",\"2018-12\",\"2019-01\",\"2019-02\",\"2019-03\",\"2019-04\",\"2019-05\",\"2019-06\",\"2019-08\",\"2019-10\"],\"xaxis\":\"x\",\"y\":[4345.0,2144.0,3727.0,718.0,163.0,2017.0,565.0,1627.0,1305.0,4572.0,4262.0],\"yaxis\":\"y\",\"type\":\"bar\"},{\"alignmentgroup\":\"True\",\"hovertemplate\":\"category=\\u043a\\u0443\\u0445\\u043e\\u043d\\u043d\\u0430\\u044f \\u0443\\u0442\\u0432\\u0430\\u0440\\u044c<br>month=%{x}<br>revenue=%{y}<extra></extra>\",\"legendgroup\":\"\\u043a\\u0443\\u0445\\u043e\\u043d\\u043d\\u0430\\u044f \\u0443\\u0442\\u0432\\u0430\\u0440\\u044c\",\"marker\":{\"color\":\"#00cc96\",\"pattern\":{\"shape\":\"\"}},\"name\":\"\\u043a\\u0443\\u0445\\u043e\\u043d\\u043d\\u0430\\u044f \\u0443\\u0442\\u0432\\u0430\\u0440\\u044c\",\"offsetgroup\":\"\\u043a\\u0443\\u0445\\u043e\\u043d\\u043d\\u0430\\u044f \\u0443\\u0442\\u0432\\u0430\\u0440\\u044c\",\"orientation\":\"v\",\"showlegend\":true,\"textposition\":\"auto\",\"x\":[\"2018-10\",\"2018-11\",\"2018-12\",\"2019-01\",\"2019-02\",\"2019-03\",\"2019-04\",\"2019-06\",\"2019-08\",\"2019-09\",\"2019-10\"],\"xaxis\":\"x\",\"y\":[8304.0,3344.0,4578.0,492.0,3149.0,3745.0,418.0,20232.0,598.0,675.0,1453.0],\"yaxis\":\"y\",\"type\":\"bar\"},{\"alignmentgroup\":\"True\",\"hovertemplate\":\"category=\\u043b\\u0435\\u0441\\u0442\\u043d\\u0438\\u0446\\u044b<br>month=%{x}<br>revenue=%{y}<extra></extra>\",\"legendgroup\":\"\\u043b\\u0435\\u0441\\u0442\\u043d\\u0438\\u0446\\u044b\",\"marker\":{\"color\":\"#ab63fa\",\"pattern\":{\"shape\":\"\"}},\"name\":\"\\u043b\\u0435\\u0441\\u0442\\u043d\\u0438\\u0446\\u044b\",\"offsetgroup\":\"\\u043b\\u0435\\u0441\\u0442\\u043d\\u0438\\u0446\\u044b\",\"orientation\":\"v\",\"showlegend\":true,\"textposition\":\"auto\",\"x\":[\"2018-10\",\"2018-12\",\"2019-04\",\"2019-05\",\"2019-08\",\"2019-10\"],\"xaxis\":\"x\",\"y\":[3974.0,1799.0,2999.0,2999.0,6898.0,2849.0],\"yaxis\":\"y\",\"type\":\"bar\"},{\"alignmentgroup\":\"True\",\"hovertemplate\":\"category=\\u0440\\u0430\\u0441\\u0442\\u0435\\u043d\\u0438\\u044f<br>month=%{x}<br>revenue=%{y}<extra></extra>\",\"legendgroup\":\"\\u0440\\u0430\\u0441\\u0442\\u0435\\u043d\\u0438\\u044f\",\"marker\":{\"color\":\"#FFA15A\",\"pattern\":{\"shape\":\"\"}},\"name\":\"\\u0440\\u0430\\u0441\\u0442\\u0435\\u043d\\u0438\\u044f\",\"offsetgroup\":\"\\u0440\\u0430\\u0441\\u0442\\u0435\\u043d\\u0438\\u044f\",\"orientation\":\"v\",\"showlegend\":true,\"textposition\":\"auto\",\"x\":[\"2018-10\",\"2018-11\",\"2018-12\",\"2019-01\",\"2019-02\",\"2019-03\",\"2019-04\",\"2019-05\",\"2019-06\",\"2019-07\",\"2019-08\",\"2019-09\",\"2019-10\"],\"xaxis\":\"x\",\"y\":[4414.0,2615.0,6028.0,1567.0,6250.0,2988.0,23380.0,21025.0,5431.0,3557.0,2674.0,4838.0,3914.0],\"yaxis\":\"y\",\"type\":\"bar\"},{\"alignmentgroup\":\"True\",\"hovertemplate\":\"category=\\u0441\\u0443\\u043c\\u043a\\u0438<br>month=%{x}<br>revenue=%{y}<extra></extra>\",\"legendgroup\":\"\\u0441\\u0443\\u043c\\u043a\\u0438\",\"marker\":{\"color\":\"#19d3f3\",\"pattern\":{\"shape\":\"\"}},\"name\":\"\\u0441\\u0443\\u043c\\u043a\\u0438\",\"offsetgroup\":\"\\u0441\\u0443\\u043c\\u043a\\u0438\",\"orientation\":\"v\",\"showlegend\":true,\"textposition\":\"auto\",\"x\":[\"2018-10\",\"2018-11\",\"2018-12\",\"2019-01\",\"2019-02\",\"2019-03\",\"2019-04\",\"2019-06\",\"2019-07\",\"2019-08\",\"2019-09\",\"2019-10\"],\"xaxis\":\"x\",\"y\":[13065.0,5007.0,7585.0,4957.0,9417.0,4874.0,10196.0,734.0,1762.0,15145.0,2007.0,13009.0],\"yaxis\":\"y\",\"type\":\"bar\"},{\"alignmentgroup\":\"True\",\"hovertemplate\":\"category=\\u0442\\u0435\\u043a\\u0441\\u0442\\u0438\\u043b\\u044c<br>month=%{x}<br>revenue=%{y}<extra></extra>\",\"legendgroup\":\"\\u0442\\u0435\\u043a\\u0441\\u0442\\u0438\\u043b\\u044c\",\"marker\":{\"color\":\"#FF6692\",\"pattern\":{\"shape\":\"\"}},\"name\":\"\\u0442\\u0435\\u043a\\u0441\\u0442\\u0438\\u043b\\u044c\",\"offsetgroup\":\"\\u0442\\u0435\\u043a\\u0441\\u0442\\u0438\\u043b\\u044c\",\"orientation\":\"v\",\"showlegend\":true,\"textposition\":\"auto\",\"x\":[\"2018-10\",\"2018-11\",\"2018-12\",\"2019-01\",\"2019-02\",\"2019-03\",\"2019-04\",\"2019-06\",\"2019-07\",\"2019-08\",\"2019-10\"],\"xaxis\":\"x\",\"y\":[6744.0,3056.0,8146.0,57984.0,899.0,209.0,30085.0,1607.0,7049.0,74.0,1199.0],\"yaxis\":\"y\",\"type\":\"bar\"},{\"alignmentgroup\":\"True\",\"hovertemplate\":\"category=\\u0445\\u043e\\u0437\\u0442\\u043e\\u0432\\u0430\\u0440\\u044b<br>month=%{x}<br>revenue=%{y}<extra></extra>\",\"legendgroup\":\"\\u0445\\u043e\\u0437\\u0442\\u043e\\u0432\\u0430\\u0440\\u044b\",\"marker\":{\"color\":\"#B6E880\",\"pattern\":{\"shape\":\"\"}},\"name\":\"\\u0445\\u043e\\u0437\\u0442\\u043e\\u0432\\u0430\\u0440\\u044b\",\"offsetgroup\":\"\\u0445\\u043e\\u0437\\u0442\\u043e\\u0432\\u0430\\u0440\\u044b\",\"orientation\":\"v\",\"showlegend\":true,\"textposition\":\"auto\",\"x\":[\"2018-10\",\"2018-11\",\"2018-12\",\"2019-01\",\"2019-02\",\"2019-03\",\"2019-04\",\"2019-05\",\"2019-06\",\"2019-07\",\"2019-09\",\"2019-10\"],\"xaxis\":\"x\",\"y\":[41061.0,12847.0,19345.0,4653.0,23257.0,4697.0,10959.0,2869.0,2754.0,3678.0,5248.0,7894.0],\"yaxis\":\"y\",\"type\":\"bar\"}],                        {\"template\":{\"data\":{\"histogram2dcontour\":[{\"type\":\"histogram2dcontour\",\"colorbar\":{\"outlinewidth\":0,\"ticks\":\"\"},\"colorscale\":[[0.0,\"#0d0887\"],[0.1111111111111111,\"#46039f\"],[0.2222222222222222,\"#7201a8\"],[0.3333333333333333,\"#9c179e\"],[0.4444444444444444,\"#bd3786\"],[0.5555555555555556,\"#d8576b\"],[0.6666666666666666,\"#ed7953\"],[0.7777777777777778,\"#fb9f3a\"],[0.8888888888888888,\"#fdca26\"],[1.0,\"#f0f921\"]]}],\"choropleth\":[{\"type\":\"choropleth\",\"colorbar\":{\"outlinewidth\":0,\"ticks\":\"\"}}],\"histogram2d\":[{\"type\":\"histogram2d\",\"colorbar\":{\"outlinewidth\":0,\"ticks\":\"\"},\"colorscale\":[[0.0,\"#0d0887\"],[0.1111111111111111,\"#46039f\"],[0.2222222222222222,\"#7201a8\"],[0.3333333333333333,\"#9c179e\"],[0.4444444444444444,\"#bd3786\"],[0.5555555555555556,\"#d8576b\"],[0.6666666666666666,\"#ed7953\"],[0.7777777777777778,\"#fb9f3a\"],[0.8888888888888888,\"#fdca26\"],[1.0,\"#f0f921\"]]}],\"heatmap\":[{\"type\":\"heatmap\",\"colorbar\":{\"outlinewidth\":0,\"ticks\":\"\"},\"colorscale\":[[0.0,\"#0d0887\"],[0.1111111111111111,\"#46039f\"],[0.2222222222222222,\"#7201a8\"],[0.3333333333333333,\"#9c179e\"],[0.4444444444444444,\"#bd3786\"],[0.5555555555555556,\"#d8576b\"],[0.6666666666666666,\"#ed7953\"],[0.7777777777777778,\"#fb9f3a\"],[0.8888888888888888,\"#fdca26\"],[1.0,\"#f0f921\"]]}],\"heatmapgl\":[{\"type\":\"heatmapgl\",\"colorbar\":{\"outlinewidth\":0,\"ticks\":\"\"},\"colorscale\":[[0.0,\"#0d0887\"],[0.1111111111111111,\"#46039f\"],[0.2222222222222222,\"#7201a8\"],[0.3333333333333333,\"#9c179e\"],[0.4444444444444444,\"#bd3786\"],[0.5555555555555556,\"#d8576b\"],[0.6666666666666666,\"#ed7953\"],[0.7777777777777778,\"#fb9f3a\"],[0.8888888888888888,\"#fdca26\"],[1.0,\"#f0f921\"]]}],\"contourcarpet\":[{\"type\":\"contourcarpet\",\"colorbar\":{\"outlinewidth\":0,\"ticks\":\"\"}}],\"contour\":[{\"type\":\"contour\",\"colorbar\":{\"outlinewidth\":0,\"ticks\":\"\"},\"colorscale\":[[0.0,\"#0d0887\"],[0.1111111111111111,\"#46039f\"],[0.2222222222222222,\"#7201a8\"],[0.3333333333333333,\"#9c179e\"],[0.4444444444444444,\"#bd3786\"],[0.5555555555555556,\"#d8576b\"],[0.6666666666666666,\"#ed7953\"],[0.7777777777777778,\"#fb9f3a\"],[0.8888888888888888,\"#fdca26\"],[1.0,\"#f0f921\"]]}],\"surface\":[{\"type\":\"surface\",\"colorbar\":{\"outlinewidth\":0,\"ticks\":\"\"},\"colorscale\":[[0.0,\"#0d0887\"],[0.1111111111111111,\"#46039f\"],[0.2222222222222222,\"#7201a8\"],[0.3333333333333333,\"#9c179e\"],[0.4444444444444444,\"#bd3786\"],[0.5555555555555556,\"#d8576b\"],[0.6666666666666666,\"#ed7953\"],[0.7777777777777778,\"#fb9f3a\"],[0.8888888888888888,\"#fdca26\"],[1.0,\"#f0f921\"]]}],\"mesh3d\":[{\"type\":\"mesh3d\",\"colorbar\":{\"outlinewidth\":0,\"ticks\":\"\"}}],\"scatter\":[{\"fillpattern\":{\"fillmode\":\"overlay\",\"size\":10,\"solidity\":0.2},\"type\":\"scatter\"}],\"parcoords\":[{\"type\":\"parcoords\",\"line\":{\"colorbar\":{\"outlinewidth\":0,\"ticks\":\"\"}}}],\"scatterpolargl\":[{\"type\":\"scatterpolargl\",\"marker\":{\"colorbar\":{\"outlinewidth\":0,\"ticks\":\"\"}}}],\"bar\":[{\"error_x\":{\"color\":\"#2a3f5f\"},\"error_y\":{\"color\":\"#2a3f5f\"},\"marker\":{\"line\":{\"color\":\"#E5ECF6\",\"width\":0.5},\"pattern\":{\"fillmode\":\"overlay\",\"size\":10,\"solidity\":0.2}},\"type\":\"bar\"}],\"scattergeo\":[{\"type\":\"scattergeo\",\"marker\":{\"colorbar\":{\"outlinewidth\":0,\"ticks\":\"\"}}}],\"scatterpolar\":[{\"type\":\"scatterpolar\",\"marker\":{\"colorbar\":{\"outlinewidth\":0,\"ticks\":\"\"}}}],\"histogram\":[{\"marker\":{\"pattern\":{\"fillmode\":\"overlay\",\"size\":10,\"solidity\":0.2}},\"type\":\"histogram\"}],\"scattergl\":[{\"type\":\"scattergl\",\"marker\":{\"colorbar\":{\"outlinewidth\":0,\"ticks\":\"\"}}}],\"scatter3d\":[{\"type\":\"scatter3d\",\"line\":{\"colorbar\":{\"outlinewidth\":0,\"ticks\":\"\"}},\"marker\":{\"colorbar\":{\"outlinewidth\":0,\"ticks\":\"\"}}}],\"scattermapbox\":[{\"type\":\"scattermapbox\",\"marker\":{\"colorbar\":{\"outlinewidth\":0,\"ticks\":\"\"}}}],\"scatterternary\":[{\"type\":\"scatterternary\",\"marker\":{\"colorbar\":{\"outlinewidth\":0,\"ticks\":\"\"}}}],\"scattercarpet\":[{\"type\":\"scattercarpet\",\"marker\":{\"colorbar\":{\"outlinewidth\":0,\"ticks\":\"\"}}}],\"carpet\":[{\"aaxis\":{\"endlinecolor\":\"#2a3f5f\",\"gridcolor\":\"white\",\"linecolor\":\"white\",\"minorgridcolor\":\"white\",\"startlinecolor\":\"#2a3f5f\"},\"baxis\":{\"endlinecolor\":\"#2a3f5f\",\"gridcolor\":\"white\",\"linecolor\":\"white\",\"minorgridcolor\":\"white\",\"startlinecolor\":\"#2a3f5f\"},\"type\":\"carpet\"}],\"table\":[{\"cells\":{\"fill\":{\"color\":\"#EBF0F8\"},\"line\":{\"color\":\"white\"}},\"header\":{\"fill\":{\"color\":\"#C8D4E3\"},\"line\":{\"color\":\"white\"}},\"type\":\"table\"}],\"barpolar\":[{\"marker\":{\"line\":{\"color\":\"#E5ECF6\",\"width\":0.5},\"pattern\":{\"fillmode\":\"overlay\",\"size\":10,\"solidity\":0.2}},\"type\":\"barpolar\"}],\"pie\":[{\"automargin\":true,\"type\":\"pie\"}]},\"layout\":{\"autotypenumbers\":\"strict\",\"colorway\":[\"#636efa\",\"#EF553B\",\"#00cc96\",\"#ab63fa\",\"#FFA15A\",\"#19d3f3\",\"#FF6692\",\"#B6E880\",\"#FF97FF\",\"#FECB52\"],\"font\":{\"color\":\"#2a3f5f\"},\"hovermode\":\"closest\",\"hoverlabel\":{\"align\":\"left\"},\"paper_bgcolor\":\"white\",\"plot_bgcolor\":\"#E5ECF6\",\"polar\":{\"bgcolor\":\"#E5ECF6\",\"angularaxis\":{\"gridcolor\":\"white\",\"linecolor\":\"white\",\"ticks\":\"\"},\"radialaxis\":{\"gridcolor\":\"white\",\"linecolor\":\"white\",\"ticks\":\"\"}},\"ternary\":{\"bgcolor\":\"#E5ECF6\",\"aaxis\":{\"gridcolor\":\"white\",\"linecolor\":\"white\",\"ticks\":\"\"},\"baxis\":{\"gridcolor\":\"white\",\"linecolor\":\"white\",\"ticks\":\"\"},\"caxis\":{\"gridcolor\":\"white\",\"linecolor\":\"white\",\"ticks\":\"\"}},\"coloraxis\":{\"colorbar\":{\"outlinewidth\":0,\"ticks\":\"\"}},\"colorscale\":{\"sequential\":[[0.0,\"#0d0887\"],[0.1111111111111111,\"#46039f\"],[0.2222222222222222,\"#7201a8\"],[0.3333333333333333,\"#9c179e\"],[0.4444444444444444,\"#bd3786\"],[0.5555555555555556,\"#d8576b\"],[0.6666666666666666,\"#ed7953\"],[0.7777777777777778,\"#fb9f3a\"],[0.8888888888888888,\"#fdca26\"],[1.0,\"#f0f921\"]],\"sequentialminus\":[[0.0,\"#0d0887\"],[0.1111111111111111,\"#46039f\"],[0.2222222222222222,\"#7201a8\"],[0.3333333333333333,\"#9c179e\"],[0.4444444444444444,\"#bd3786\"],[0.5555555555555556,\"#d8576b\"],[0.6666666666666666,\"#ed7953\"],[0.7777777777777778,\"#fb9f3a\"],[0.8888888888888888,\"#fdca26\"],[1.0,\"#f0f921\"]],\"diverging\":[[0,\"#8e0152\"],[0.1,\"#c51b7d\"],[0.2,\"#de77ae\"],[0.3,\"#f1b6da\"],[0.4,\"#fde0ef\"],[0.5,\"#f7f7f7\"],[0.6,\"#e6f5d0\"],[0.7,\"#b8e186\"],[0.8,\"#7fbc41\"],[0.9,\"#4d9221\"],[1,\"#276419\"]]},\"xaxis\":{\"gridcolor\":\"white\",\"linecolor\":\"white\",\"ticks\":\"\",\"title\":{\"standoff\":15},\"zerolinecolor\":\"white\",\"automargin\":true,\"zerolinewidth\":2},\"yaxis\":{\"gridcolor\":\"white\",\"linecolor\":\"white\",\"ticks\":\"\",\"title\":{\"standoff\":15},\"zerolinecolor\":\"white\",\"automargin\":true,\"zerolinewidth\":2},\"scene\":{\"xaxis\":{\"backgroundcolor\":\"#E5ECF6\",\"gridcolor\":\"white\",\"linecolor\":\"white\",\"showbackground\":true,\"ticks\":\"\",\"zerolinecolor\":\"white\",\"gridwidth\":2},\"yaxis\":{\"backgroundcolor\":\"#E5ECF6\",\"gridcolor\":\"white\",\"linecolor\":\"white\",\"showbackground\":true,\"ticks\":\"\",\"zerolinecolor\":\"white\",\"gridwidth\":2},\"zaxis\":{\"backgroundcolor\":\"#E5ECF6\",\"gridcolor\":\"white\",\"linecolor\":\"white\",\"showbackground\":true,\"ticks\":\"\",\"zerolinecolor\":\"white\",\"gridwidth\":2}},\"shapedefaults\":{\"line\":{\"color\":\"#2a3f5f\"}},\"annotationdefaults\":{\"arrowcolor\":\"#2a3f5f\",\"arrowhead\":0,\"arrowwidth\":1},\"geo\":{\"bgcolor\":\"white\",\"landcolor\":\"#E5ECF6\",\"subunitcolor\":\"white\",\"showland\":true,\"showlakes\":true,\"lakecolor\":\"white\"},\"title\":{\"x\":0.05},\"mapbox\":{\"style\":\"light\"}}},\"xaxis\":{\"anchor\":\"y\",\"domain\":[0.0,1.0],\"title\":{\"text\":\"month\"}},\"yaxis\":{\"anchor\":\"x\",\"domain\":[0.0,1.0],\"title\":{\"text\":\"revenue\"}},\"legend\":{\"title\":{\"text\":\"category\"},\"tracegroupgap\":0},\"title\":{\"text\":\"\\u0414\\u0438\\u043d\\u0430\\u043c\\u0438\\u043a\\u0430 \\u0432\\u044b\\u0440\\u0443\\u0447\\u043a\\u0438 \\u043f\\u043e \\u043a\\u0430\\u0442\\u0435\\u0433\\u043e\\u0440\\u0438\\u044f\\u043c \\u043d\\u0430\\u0438\\u043c\\u0435\\u043d\\u043e\\u0432\\u0430\\u043d\\u0438\\u0439\"},\"barmode\":\"relative\"},                        {\"responsive\": true}                    ).then(function(){\n",
       "                            \n",
       "var gd = document.getElementById('97a5e76c-c710-4e4f-a3e8-7f3577f5dc7e');\n",
       "var x = new MutationObserver(function (mutations, observer) {{\n",
       "        var display = window.getComputedStyle(gd).display;\n",
       "        if (!display || display === 'none') {{\n",
       "            console.log([gd, 'removed!']);\n",
       "            Plotly.purge(gd);\n",
       "            observer.disconnect();\n",
       "        }}\n",
       "}});\n",
       "\n",
       "// Listen for the removal of the full notebook cells\n",
       "var notebookContainer = gd.closest('#notebook-container');\n",
       "if (notebookContainer) {{\n",
       "    x.observe(notebookContainer, {childList: true});\n",
       "}}\n",
       "\n",
       "// Listen for the clearing of the current output cell\n",
       "var outputEl = gd.closest('.output');\n",
       "if (outputEl) {{\n",
       "    x.observe(outputEl, {childList: true});\n",
       "}}\n",
       "\n",
       "                        })                };                });            </script>        </div>"
      ]
     },
     "metadata": {},
     "output_type": "display_data"
    }
   ],
   "source": [
    "#Построим график выручки по категориям\n",
    "category_plot2 = data_loyal.groupby(['category', 'month']).agg({'revenue':'sum'}).reset_index()\n",
    "\n",
    "fig = px.bar(\n",
    "    category_plot2,\n",
    "    x='month',\n",
    "    y='revenue',\n",
    "    color='category',\n",
    "    title='Динамика выручки по категориям наименований',\n",
    ")\n",
    "\n",
    "fig.show() "
   ]
  },
  {
   "cell_type": "markdown",
   "metadata": {},
   "source": [
    "Покупательский спрос лояльных потребителей весьма варьетивный, не получиться выделить явно доминирующую категорию."
   ]
  },
  {
   "cell_type": "code",
   "execution_count": 124,
   "metadata": {
    "scrolled": false
   },
   "outputs": [
    {
     "data": {
      "text/plain": [
       "''"
      ]
     },
     "execution_count": 124,
     "metadata": {},
     "output_type": "execute_result"
    },
    {
     "data": {
      "image/png": "[encoded data removed]",
      "text/plain": [
       "<Figure size 1500x500 with 1 Axes>"
      ]
     },
     "metadata": {},
     "output_type": "display_data"
    }
   ],
   "source": [
    "#Посмотрим выручку от постоянных клиентов\n",
    "plt.figure(figsize=(15,5))\n",
    "plt.plot(data_loyal['date'], data_loyal['revenue'], label='Выручка')\n",
    "\n",
    "plt.legend()\n",
    "plt.title('График выручки\\n  ')\n",
    "plt.xlabel('\\nДата')\n",
    "plt.ylabel('Кол-во\\n')\n",
    ";\n"
   ]
  },
  {
   "cell_type": "markdown",
   "metadata": {},
   "source": [
    "Выручка тоже весьма сильно колеблиться"
   ]
  },
  {
   "cell_type": "code",
   "execution_count": 125,
   "metadata": {
    "scrolled": true
   },
   "outputs": [
    {
     "data": {
      "text/html": [
       "<div>\n",
       "<style scoped>\n",
       "    .dataframe tbody tr th:only-of-type {\n",
       "        vertical-align: middle;\n",
       "    }\n",
       "\n",
       "    .dataframe tbody tr th {\n",
       "        vertical-align: top;\n",
       "    }\n",
       "\n",
       "    .dataframe thead th {\n",
       "        text-align: right;\n",
       "    }\n",
       "</style>\n",
       "<table border=\"1\" class=\"dataframe\">\n",
       "  <thead>\n",
       "    <tr style=\"text-align: right;\">\n",
       "      <th></th>\n",
       "      <th>order_id</th>\n",
       "      <th>quantity</th>\n",
       "      <th>price</th>\n",
       "      <th>revenue</th>\n",
       "    </tr>\n",
       "  </thead>\n",
       "  <tbody>\n",
       "    <tr>\n",
       "      <th>count</th>\n",
       "      <td>882.000000</td>\n",
       "      <td>882.000000</td>\n",
       "      <td>882.000000</td>\n",
       "      <td>882.000000</td>\n",
       "    </tr>\n",
       "    <tr>\n",
       "      <th>mean</th>\n",
       "      <td>45628.860544</td>\n",
       "      <td>1.956916</td>\n",
       "      <td>423.140590</td>\n",
       "      <td>631.520408</td>\n",
       "    </tr>\n",
       "    <tr>\n",
       "      <th>std</th>\n",
       "      <td>27682.854631</td>\n",
       "      <td>2.667831</td>\n",
       "      <td>693.689217</td>\n",
       "      <td>1964.079913</td>\n",
       "    </tr>\n",
       "    <tr>\n",
       "      <th>min</th>\n",
       "      <td>14481.000000</td>\n",
       "      <td>1.000000</td>\n",
       "      <td>14.000000</td>\n",
       "      <td>15.000000</td>\n",
       "    </tr>\n",
       "    <tr>\n",
       "      <th>25%</th>\n",
       "      <td>14765.250000</td>\n",
       "      <td>1.000000</td>\n",
       "      <td>90.000000</td>\n",
       "      <td>120.000000</td>\n",
       "    </tr>\n",
       "    <tr>\n",
       "      <th>50%</th>\n",
       "      <td>68604.500000</td>\n",
       "      <td>1.000000</td>\n",
       "      <td>142.000000</td>\n",
       "      <td>188.000000</td>\n",
       "    </tr>\n",
       "    <tr>\n",
       "      <th>75%</th>\n",
       "      <td>70392.500000</td>\n",
       "      <td>1.000000</td>\n",
       "      <td>395.000000</td>\n",
       "      <td>598.750000</td>\n",
       "    </tr>\n",
       "    <tr>\n",
       "      <th>max</th>\n",
       "      <td>73164.000000</td>\n",
       "      <td>27.000000</td>\n",
       "      <td>4957.000000</td>\n",
       "      <td>47385.000000</td>\n",
       "    </tr>\n",
       "  </tbody>\n",
       "</table>\n",
       "</div>"
      ],
      "text/plain": [
       "           order_id    quantity        price       revenue\n",
       "count    882.000000  882.000000   882.000000    882.000000\n",
       "mean   45628.860544    1.956916   423.140590    631.520408\n",
       "std    27682.854631    2.667831   693.689217   1964.079913\n",
       "min    14481.000000    1.000000    14.000000     15.000000\n",
       "25%    14765.250000    1.000000    90.000000    120.000000\n",
       "50%    68604.500000    1.000000   142.000000    188.000000\n",
       "75%    70392.500000    1.000000   395.000000    598.750000\n",
       "max    73164.000000   27.000000  4957.000000  47385.000000"
      ]
     },
     "execution_count": 125,
     "metadata": {},
     "output_type": "execute_result"
    }
   ],
   "source": [
    "#Посмотрим средние показатели\n",
    "data_loyal.describe()"
   ]
  },
  {
   "cell_type": "markdown",
   "metadata": {},
   "source": [
    "Количество единиц артикула в заказе (2 против 2,5) и сумма(423 против 462) уступают средним показателям по генеральной совокупности, но выручка больше (631 против 599)."
   ]
  },
  {
   "cell_type": "code",
   "execution_count": 126,
   "metadata": {},
   "outputs": [
    {
     "data": {
      "application/vnd.plotly.v1+json": {
       "config": {
        "plotlyServerURL": "https://plot.ly"
       },
       "data": [
        {
         "alignmentgroup": "True",
         "hovertemplate": "month=%{x}<br>order_id=%{y}<extra></extra>",
         "legendgroup": "",
         "marker": {
          "color": "#636efa",
          "pattern": {
           "shape": ""
          }
         },
         "name": "",
         "offsetgroup": "",
         "orientation": "v",
         "showlegend": false,
         "textposition": "auto",
         "type": "bar",
         "x": [
          "2018-10",
          "2018-11",
          "2018-12",
          "2019-01",
          "2019-02",
          "2019-03",
          "2019-04",
          "2019-05",
          "2019-06",
          "2019-07",
          "2019-08",
          "2019-09",
          "2019-10"
         ],
         "xaxis": "x",
         "y": [
          105,
          53,
          60,
          39,
          76,
          42,
          172,
          145,
          61,
          34,
          30,
          19,
          46
         ],
         "yaxis": "y"
        }
       ],
       "layout": {
        "barmode": "relative",
        "legend": {
         "tracegroupgap": 0
        },
        "template": {
         "data": {
          "bar": [
           {
            "error_x": {
             "color": "#2a3f5f"
            },
            "error_y": {
             "color": "#2a3f5f"
            },
            "marker": {
             "line": {
              "color": "#E5ECF6",
              "width": 0.5
             },
             "pattern": {
              "fillmode": "overlay",
              "size": 10,
              "solidity": 0.2
             }
            },
            "type": "bar"
           }
          ],
          "barpolar": [
           {
            "marker": {
             "line": {
              "color": "#E5ECF6",
              "width": 0.5
             },
             "pattern": {
              "fillmode": "overlay",
              "size": 10,
              "solidity": 0.2
             }
            },
            "type": "barpolar"
           }
          ],
          "carpet": [
           {
            "aaxis": {
             "endlinecolor": "#2a3f5f",
             "gridcolor": "white",
             "linecolor": "white",
             "minorgridcolor": "white",
             "startlinecolor": "#2a3f5f"
            },
            "baxis": {
             "endlinecolor": "#2a3f5f",
             "gridcolor": "white",
             "linecolor": "white",
             "minorgridcolor": "white",
             "startlinecolor": "#2a3f5f"
            },
            "type": "carpet"
           }
          ],
          "choropleth": [
           {
            "colorbar": {
             "outlinewidth": 0,
             "ticks": ""
            },
            "type": "choropleth"
           }
          ],
          "contour": [
           {
            "colorbar": {
             "outlinewidth": 0,
             "ticks": ""
            },
            "colorscale": [
             [
              0,
              "#0d0887"
             ],
             [
              0.1111111111111111,
              "#46039f"
             ],
             [
              0.2222222222222222,
              "#7201a8"
             ],
             [
              0.3333333333333333,
              "#9c179e"
             ],
             [
              0.4444444444444444,
              "#bd3786"
             ],
             [
              0.5555555555555556,
              "#d8576b"
             ],
             [
              0.6666666666666666,
              "#ed7953"
             ],
             [
              0.7777777777777778,
              "#fb9f3a"
             ],
             [
              0.8888888888888888,
              "#fdca26"
             ],
             [
              1,
              "#f0f921"
             ]
            ],
            "type": "contour"
           }
          ],
          "contourcarpet": [
           {
            "colorbar": {
             "outlinewidth": 0,
             "ticks": ""
            },
            "type": "contourcarpet"
           }
          ],
          "heatmap": [
           {
            "colorbar": {
             "outlinewidth": 0,
             "ticks": ""
            },
            "colorscale": [
             [
              0,
              "#0d0887"
             ],
             [
              0.1111111111111111,
              "#46039f"
             ],
             [
              0.2222222222222222,
              "#7201a8"
             ],
             [
              0.3333333333333333,
              "#9c179e"
             ],
             [
              0.4444444444444444,
              "#bd3786"
             ],
             [
              0.5555555555555556,
              "#d8576b"
             ],
             [
              0.6666666666666666,
              "#ed7953"
             ],
             [
              0.7777777777777778,
              "#fb9f3a"
             ],
             [
              0.8888888888888888,
              "#fdca26"
             ],
             [
              1,
              "#f0f921"
             ]
            ],
            "type": "heatmap"
           }
          ],
          "heatmapgl": [
           {
            "colorbar": {
             "outlinewidth": 0,
             "ticks": ""
            },
            "colorscale": [
             [
              0,
              "#0d0887"
             ],
             [
              0.1111111111111111,
              "#46039f"
             ],
             [
              0.2222222222222222,
              "#7201a8"
             ],
             [
              0.3333333333333333,
              "#9c179e"
             ],
             [
              0.4444444444444444,
              "#bd3786"
             ],
             [
              0.5555555555555556,
              "#d8576b"
             ],
             [
              0.6666666666666666,
              "#ed7953"
             ],
             [
              0.7777777777777778,
              "#fb9f3a"
             ],
             [
              0.8888888888888888,
              "#fdca26"
             ],
             [
              1,
              "#f0f921"
             ]
            ],
            "type": "heatmapgl"
           }
          ],
          "histogram": [
           {
            "marker": {
             "pattern": {
              "fillmode": "overlay",
              "size": 10,
              "solidity": 0.2
             }
            },
            "type": "histogram"
           }
          ],
          "histogram2d": [
           {
            "colorbar": {
             "outlinewidth": 0,
             "ticks": ""
            },
            "colorscale": [
             [
              0,
              "#0d0887"
             ],
             [
              0.1111111111111111,
              "#46039f"
             ],
             [
              0.2222222222222222,
              "#7201a8"
             ],
             [
              0.3333333333333333,
              "#9c179e"
             ],
             [
              0.4444444444444444,
              "#bd3786"
             ],
             [
              0.5555555555555556,
              "#d8576b"
             ],
             [
              0.6666666666666666,
              "#ed7953"
             ],
             [
              0.7777777777777778,
              "#fb9f3a"
             ],
             [
              0.8888888888888888,
              "#fdca26"
             ],
             [
              1,
              "#f0f921"
             ]
            ],
            "type": "histogram2d"
           }
          ],
          "histogram2dcontour": [
           {
            "colorbar": {
             "outlinewidth": 0,
             "ticks": ""
            },
            "colorscale": [
             [
              0,
              "#0d0887"
             ],
             [
              0.1111111111111111,
              "#46039f"
             ],
             [
              0.2222222222222222,
              "#7201a8"
             ],
             [
              0.3333333333333333,
              "#9c179e"
             ],
             [
              0.4444444444444444,
              "#bd3786"
             ],
             [
              0.5555555555555556,
              "#d8576b"
             ],
             [
              0.6666666666666666,
              "#ed7953"
             ],
             [
              0.7777777777777778,
              "#fb9f3a"
             ],
             [
              0.8888888888888888,
              "#fdca26"
             ],
             [
              1,
              "#f0f921"
             ]
            ],
            "type": "histogram2dcontour"
           }
          ],
          "mesh3d": [
           {
            "colorbar": {
             "outlinewidth": 0,
             "ticks": ""
            },
            "type": "mesh3d"
           }
          ],
          "parcoords": [
           {
            "line": {
             "colorbar": {
              "outlinewidth": 0,
              "ticks": ""
             }
            },
            "type": "parcoords"
           }
          ],
          "pie": [
           {
            "automargin": true,
            "type": "pie"
           }
          ],
          "scatter": [
           {
            "fillpattern": {
             "fillmode": "overlay",
             "size": 10,
             "solidity": 0.2
            },
            "type": "scatter"
           }
          ],
          "scatter3d": [
           {
            "line": {
             "colorbar": {
              "outlinewidth": 0,
              "ticks": ""
             }
            },
            "marker": {
             "colorbar": {
              "outlinewidth": 0,
              "ticks": ""
             }
            },
            "type": "scatter3d"
           }
          ],
          "scattercarpet": [
           {
            "marker": {
             "colorbar": {
              "outlinewidth": 0,
              "ticks": ""
             }
            },
            "type": "scattercarpet"
           }
          ],
          "scattergeo": [
           {
            "marker": {
             "colorbar": {
              "outlinewidth": 0,
              "ticks": ""
             }
            },
            "type": "scattergeo"
           }
          ],
          "scattergl": [
           {
            "marker": {
             "colorbar": {
              "outlinewidth": 0,
              "ticks": ""
             }
            },
            "type": "scattergl"
           }
          ],
          "scattermapbox": [
           {
            "marker": {
             "colorbar": {
              "outlinewidth": 0,
              "ticks": ""
             }
            },
            "type": "scattermapbox"
           }
          ],
          "scatterpolar": [
           {
            "marker": {
             "colorbar": {
              "outlinewidth": 0,
              "ticks": ""
             }
            },
            "type": "scatterpolar"
           }
          ],
          "scatterpolargl": [
           {
            "marker": {
             "colorbar": {
              "outlinewidth": 0,
              "ticks": ""
             }
            },
            "type": "scatterpolargl"
           }
          ],
          "scatterternary": [
           {
            "marker": {
             "colorbar": {
              "outlinewidth": 0,
              "ticks": ""
             }
            },
            "type": "scatterternary"
           }
          ],
          "surface": [
           {
            "colorbar": {
             "outlinewidth": 0,
             "ticks": ""
            },
            "colorscale": [
             [
              0,
              "#0d0887"
             ],
             [
              0.1111111111111111,
              "#46039f"
             ],
             [
              0.2222222222222222,
              "#7201a8"
             ],
             [
              0.3333333333333333,
              "#9c179e"
             ],
             [
              0.4444444444444444,
              "#bd3786"
             ],
             [
              0.5555555555555556,
              "#d8576b"
             ],
             [
              0.6666666666666666,
              "#ed7953"
             ],
             [
              0.7777777777777778,
              "#fb9f3a"
             ],
             [
              0.8888888888888888,
              "#fdca26"
             ],
             [
              1,
              "#f0f921"
             ]
            ],
            "type": "surface"
           }
          ],
          "table": [
           {
            "cells": {
             "fill": {
              "color": "#EBF0F8"
             },
             "line": {
              "color": "white"
             }
            },
            "header": {
             "fill": {
              "color": "#C8D4E3"
             },
             "line": {
              "color": "white"
             }
            },
            "type": "table"
           }
          ]
         },
         "layout": {
          "annotationdefaults": {
           "arrowcolor": "#2a3f5f",
           "arrowhead": 0,
           "arrowwidth": 1
          },
          "autotypenumbers": "strict",
          "coloraxis": {
           "colorbar": {
            "outlinewidth": 0,
            "ticks": ""
           }
          },
          "colorscale": {
           "diverging": [
            [
             0,
             "#8e0152"
            ],
            [
             0.1,
             "#c51b7d"
            ],
            [
             0.2,
             "#de77ae"
            ],
            [
             0.3,
             "#f1b6da"
            ],
            [
             0.4,
             "#fde0ef"
            ],
            [
             0.5,
             "#f7f7f7"
            ],
            [
             0.6,
             "#e6f5d0"
            ],
            [
             0.7,
             "#b8e186"
            ],
            [
             0.8,
             "#7fbc41"
            ],
            [
             0.9,
             "#4d9221"
            ],
            [
             1,
             "#276419"
            ]
           ],
           "sequential": [
            [
             0,
             "#0d0887"
            ],
            [
             0.1111111111111111,
             "#46039f"
            ],
            [
             0.2222222222222222,
             "#7201a8"
            ],
            [
             0.3333333333333333,
             "#9c179e"
            ],
            [
             0.4444444444444444,
             "#bd3786"
            ],
            [
             0.5555555555555556,
             "#d8576b"
            ],
            [
             0.6666666666666666,
             "#ed7953"
            ],
            [
             0.7777777777777778,
             "#fb9f3a"
            ],
            [
             0.8888888888888888,
             "#fdca26"
            ],
            [
             1,
             "#f0f921"
            ]
           ],
           "sequentialminus": [
            [
             0,
             "#0d0887"
            ],
            [
             0.1111111111111111,
             "#46039f"
            ],
            [
             0.2222222222222222,
             "#7201a8"
            ],
            [
             0.3333333333333333,
             "#9c179e"
            ],
            [
             0.4444444444444444,
             "#bd3786"
            ],
            [
             0.5555555555555556,
             "#d8576b"
            ],
            [
             0.6666666666666666,
             "#ed7953"
            ],
            [
             0.7777777777777778,
             "#fb9f3a"
            ],
            [
             0.8888888888888888,
             "#fdca26"
            ],
            [
             1,
             "#f0f921"
            ]
           ]
          },
          "colorway": [
           "#636efa",
           "#EF553B",
           "#00cc96",
           "#ab63fa",
           "#FFA15A",
           "#19d3f3",
           "#FF6692",
           "#B6E880",
           "#FF97FF",
           "#FECB52"
          ],
          "font": {
           "color": "#2a3f5f"
          },
          "geo": {
           "bgcolor": "white",
           "lakecolor": "white",
           "landcolor": "#E5ECF6",
           "showlakes": true,
           "showland": true,
           "subunitcolor": "white"
          },
          "hoverlabel": {
           "align": "left"
          },
          "hovermode": "closest",
          "mapbox": {
           "style": "light"
          },
          "paper_bgcolor": "white",
          "plot_bgcolor": "#E5ECF6",
          "polar": {
           "angularaxis": {
            "gridcolor": "white",
            "linecolor": "white",
            "ticks": ""
           },
           "bgcolor": "#E5ECF6",
           "radialaxis": {
            "gridcolor": "white",
            "linecolor": "white",
            "ticks": ""
           }
          },
          "scene": {
           "xaxis": {
            "backgroundcolor": "#E5ECF6",
            "gridcolor": "white",
            "gridwidth": 2,
            "linecolor": "white",
            "showbackground": true,
            "ticks": "",
            "zerolinecolor": "white"
           },
           "yaxis": {
            "backgroundcolor": "#E5ECF6",
            "gridcolor": "white",
            "gridwidth": 2,
            "linecolor": "white",
            "showbackground": true,
            "ticks": "",
            "zerolinecolor": "white"
           },
           "zaxis": {
            "backgroundcolor": "#E5ECF6",
            "gridcolor": "white",
            "gridwidth": 2,
            "linecolor": "white",
            "showbackground": true,
            "ticks": "",
            "zerolinecolor": "white"
           }
          },
          "shapedefaults": {
           "line": {
            "color": "#2a3f5f"
           }
          },
          "ternary": {
           "aaxis": {
            "gridcolor": "white",
            "linecolor": "white",
            "ticks": ""
           },
           "baxis": {
            "gridcolor": "white",
            "linecolor": "white",
            "ticks": ""
           },
           "bgcolor": "#E5ECF6",
           "caxis": {
            "gridcolor": "white",
            "linecolor": "white",
            "ticks": ""
           }
          },
          "title": {
           "x": 0.05
          },
          "xaxis": {
           "automargin": true,
           "gridcolor": "white",
           "linecolor": "white",
           "ticks": "",
           "title": {
            "standoff": 15
           },
           "zerolinecolor": "white",
           "zerolinewidth": 2
          },
          "yaxis": {
           "automargin": true,
           "gridcolor": "white",
           "linecolor": "white",
           "ticks": "",
           "title": {
            "standoff": 15
           },
           "zerolinecolor": "white",
           "zerolinewidth": 2
          }
         }
        },
        "title": {
         "text": "Динамика заказов"
        },
        "xaxis": {
         "anchor": "y",
         "domain": [
          0,
          1
         ],
         "title": {
          "text": "month"
         }
        },
        "yaxis": {
         "anchor": "x",
         "domain": [
          0,
          1
         ],
         "title": {
          "text": "order_id"
         }
        }
       }
      },
      "text/html": [
       "<div>                            <div id=\"92f1e877-f18a-4ab4-9886-535221fd9da1\" class=\"plotly-graph-div\" style=\"height:525px; width:100%;\"></div>            <script type=\"text/javascript\">                require([\"plotly\"], function(Plotly) {                    window.PLOTLYENV=window.PLOTLYENV || {};                                    if (document.getElementById(\"92f1e877-f18a-4ab4-9886-535221fd9da1\")) {                    Plotly.newPlot(                        \"92f1e877-f18a-4ab4-9886-535221fd9da1\",                        [{\"alignmentgroup\":\"True\",\"hovertemplate\":\"month=%{x}<br>order_id=%{y}<extra></extra>\",\"legendgroup\":\"\",\"marker\":{\"color\":\"#636efa\",\"pattern\":{\"shape\":\"\"}},\"name\":\"\",\"offsetgroup\":\"\",\"orientation\":\"v\",\"showlegend\":false,\"textposition\":\"auto\",\"x\":[\"2018-10\",\"2018-11\",\"2018-12\",\"2019-01\",\"2019-02\",\"2019-03\",\"2019-04\",\"2019-05\",\"2019-06\",\"2019-07\",\"2019-08\",\"2019-09\",\"2019-10\"],\"xaxis\":\"x\",\"y\":[105,53,60,39,76,42,172,145,61,34,30,19,46],\"yaxis\":\"y\",\"type\":\"bar\"}],                        {\"template\":{\"data\":{\"histogram2dcontour\":[{\"type\":\"histogram2dcontour\",\"colorbar\":{\"outlinewidth\":0,\"ticks\":\"\"},\"colorscale\":[[0.0,\"#0d0887\"],[0.1111111111111111,\"#46039f\"],[0.2222222222222222,\"#7201a8\"],[0.3333333333333333,\"#9c179e\"],[0.4444444444444444,\"#bd3786\"],[0.5555555555555556,\"#d8576b\"],[0.6666666666666666,\"#ed7953\"],[0.7777777777777778,\"#fb9f3a\"],[0.8888888888888888,\"#fdca26\"],[1.0,\"#f0f921\"]]}],\"choropleth\":[{\"type\":\"choropleth\",\"colorbar\":{\"outlinewidth\":0,\"ticks\":\"\"}}],\"histogram2d\":[{\"type\":\"histogram2d\",\"colorbar\":{\"outlinewidth\":0,\"ticks\":\"\"},\"colorscale\":[[0.0,\"#0d0887\"],[0.1111111111111111,\"#46039f\"],[0.2222222222222222,\"#7201a8\"],[0.3333333333333333,\"#9c179e\"],[0.4444444444444444,\"#bd3786\"],[0.5555555555555556,\"#d8576b\"],[0.6666666666666666,\"#ed7953\"],[0.7777777777777778,\"#fb9f3a\"],[0.8888888888888888,\"#fdca26\"],[1.0,\"#f0f921\"]]}],\"heatmap\":[{\"type\":\"heatmap\",\"colorbar\":{\"outlinewidth\":0,\"ticks\":\"\"},\"colorscale\":[[0.0,\"#0d0887\"],[0.1111111111111111,\"#46039f\"],[0.2222222222222222,\"#7201a8\"],[0.3333333333333333,\"#9c179e\"],[0.4444444444444444,\"#bd3786\"],[0.5555555555555556,\"#d8576b\"],[0.6666666666666666,\"#ed7953\"],[0.7777777777777778,\"#fb9f3a\"],[0.8888888888888888,\"#fdca26\"],[1.0,\"#f0f921\"]]}],\"heatmapgl\":[{\"type\":\"heatmapgl\",\"colorbar\":{\"outlinewidth\":0,\"ticks\":\"\"},\"colorscale\":[[0.0,\"#0d0887\"],[0.1111111111111111,\"#46039f\"],[0.2222222222222222,\"#7201a8\"],[0.3333333333333333,\"#9c179e\"],[0.4444444444444444,\"#bd3786\"],[0.5555555555555556,\"#d8576b\"],[0.6666666666666666,\"#ed7953\"],[0.7777777777777778,\"#fb9f3a\"],[0.8888888888888888,\"#fdca26\"],[1.0,\"#f0f921\"]]}],\"contourcarpet\":[{\"type\":\"contourcarpet\",\"colorbar\":{\"outlinewidth\":0,\"ticks\":\"\"}}],\"contour\":[{\"type\":\"contour\",\"colorbar\":{\"outlinewidth\":0,\"ticks\":\"\"},\"colorscale\":[[0.0,\"#0d0887\"],[0.1111111111111111,\"#46039f\"],[0.2222222222222222,\"#7201a8\"],[0.3333333333333333,\"#9c179e\"],[0.4444444444444444,\"#bd3786\"],[0.5555555555555556,\"#d8576b\"],[0.6666666666666666,\"#ed7953\"],[0.7777777777777778,\"#fb9f3a\"],[0.8888888888888888,\"#fdca26\"],[1.0,\"#f0f921\"]]}],\"surface\":[{\"type\":\"surface\",\"colorbar\":{\"outlinewidth\":0,\"ticks\":\"\"},\"colorscale\":[[0.0,\"#0d0887\"],[0.1111111111111111,\"#46039f\"],[0.2222222222222222,\"#7201a8\"],[0.3333333333333333,\"#9c179e\"],[0.4444444444444444,\"#bd3786\"],[0.5555555555555556,\"#d8576b\"],[0.6666666666666666,\"#ed7953\"],[0.7777777777777778,\"#fb9f3a\"],[0.8888888888888888,\"#fdca26\"],[1.0,\"#f0f921\"]]}],\"mesh3d\":[{\"type\":\"mesh3d\",\"colorbar\":{\"outlinewidth\":0,\"ticks\":\"\"}}],\"scatter\":[{\"fillpattern\":{\"fillmode\":\"overlay\",\"size\":10,\"solidity\":0.2},\"type\":\"scatter\"}],\"parcoords\":[{\"type\":\"parcoords\",\"line\":{\"colorbar\":{\"outlinewidth\":0,\"ticks\":\"\"}}}],\"scatterpolargl\":[{\"type\":\"scatterpolargl\",\"marker\":{\"colorbar\":{\"outlinewidth\":0,\"ticks\":\"\"}}}],\"bar\":[{\"error_x\":{\"color\":\"#2a3f5f\"},\"error_y\":{\"color\":\"#2a3f5f\"},\"marker\":{\"line\":{\"color\":\"#E5ECF6\",\"width\":0.5},\"pattern\":{\"fillmode\":\"overlay\",\"size\":10,\"solidity\":0.2}},\"type\":\"bar\"}],\"scattergeo\":[{\"type\":\"scattergeo\",\"marker\":{\"colorbar\":{\"outlinewidth\":0,\"ticks\":\"\"}}}],\"scatterpolar\":[{\"type\":\"scatterpolar\",\"marker\":{\"colorbar\":{\"outlinewidth\":0,\"ticks\":\"\"}}}],\"histogram\":[{\"marker\":{\"pattern\":{\"fillmode\":\"overlay\",\"size\":10,\"solidity\":0.2}},\"type\":\"histogram\"}],\"scattergl\":[{\"type\":\"scattergl\",\"marker\":{\"colorbar\":{\"outlinewidth\":0,\"ticks\":\"\"}}}],\"scatter3d\":[{\"type\":\"scatter3d\",\"line\":{\"colorbar\":{\"outlinewidth\":0,\"ticks\":\"\"}},\"marker\":{\"colorbar\":{\"outlinewidth\":0,\"ticks\":\"\"}}}],\"scattermapbox\":[{\"type\":\"scattermapbox\",\"marker\":{\"colorbar\":{\"outlinewidth\":0,\"ticks\":\"\"}}}],\"scatterternary\":[{\"type\":\"scatterternary\",\"marker\":{\"colorbar\":{\"outlinewidth\":0,\"ticks\":\"\"}}}],\"scattercarpet\":[{\"type\":\"scattercarpet\",\"marker\":{\"colorbar\":{\"outlinewidth\":0,\"ticks\":\"\"}}}],\"carpet\":[{\"aaxis\":{\"endlinecolor\":\"#2a3f5f\",\"gridcolor\":\"white\",\"linecolor\":\"white\",\"minorgridcolor\":\"white\",\"startlinecolor\":\"#2a3f5f\"},\"baxis\":{\"endlinecolor\":\"#2a3f5f\",\"gridcolor\":\"white\",\"linecolor\":\"white\",\"minorgridcolor\":\"white\",\"startlinecolor\":\"#2a3f5f\"},\"type\":\"carpet\"}],\"table\":[{\"cells\":{\"fill\":{\"color\":\"#EBF0F8\"},\"line\":{\"color\":\"white\"}},\"header\":{\"fill\":{\"color\":\"#C8D4E3\"},\"line\":{\"color\":\"white\"}},\"type\":\"table\"}],\"barpolar\":[{\"marker\":{\"line\":{\"color\":\"#E5ECF6\",\"width\":0.5},\"pattern\":{\"fillmode\":\"overlay\",\"size\":10,\"solidity\":0.2}},\"type\":\"barpolar\"}],\"pie\":[{\"automargin\":true,\"type\":\"pie\"}]},\"layout\":{\"autotypenumbers\":\"strict\",\"colorway\":[\"#636efa\",\"#EF553B\",\"#00cc96\",\"#ab63fa\",\"#FFA15A\",\"#19d3f3\",\"#FF6692\",\"#B6E880\",\"#FF97FF\",\"#FECB52\"],\"font\":{\"color\":\"#2a3f5f\"},\"hovermode\":\"closest\",\"hoverlabel\":{\"align\":\"left\"},\"paper_bgcolor\":\"white\",\"plot_bgcolor\":\"#E5ECF6\",\"polar\":{\"bgcolor\":\"#E5ECF6\",\"angularaxis\":{\"gridcolor\":\"white\",\"linecolor\":\"white\",\"ticks\":\"\"},\"radialaxis\":{\"gridcolor\":\"white\",\"linecolor\":\"white\",\"ticks\":\"\"}},\"ternary\":{\"bgcolor\":\"#E5ECF6\",\"aaxis\":{\"gridcolor\":\"white\",\"linecolor\":\"white\",\"ticks\":\"\"},\"baxis\":{\"gridcolor\":\"white\",\"linecolor\":\"white\",\"ticks\":\"\"},\"caxis\":{\"gridcolor\":\"white\",\"linecolor\":\"white\",\"ticks\":\"\"}},\"coloraxis\":{\"colorbar\":{\"outlinewidth\":0,\"ticks\":\"\"}},\"colorscale\":{\"sequential\":[[0.0,\"#0d0887\"],[0.1111111111111111,\"#46039f\"],[0.2222222222222222,\"#7201a8\"],[0.3333333333333333,\"#9c179e\"],[0.4444444444444444,\"#bd3786\"],[0.5555555555555556,\"#d8576b\"],[0.6666666666666666,\"#ed7953\"],[0.7777777777777778,\"#fb9f3a\"],[0.8888888888888888,\"#fdca26\"],[1.0,\"#f0f921\"]],\"sequentialminus\":[[0.0,\"#0d0887\"],[0.1111111111111111,\"#46039f\"],[0.2222222222222222,\"#7201a8\"],[0.3333333333333333,\"#9c179e\"],[0.4444444444444444,\"#bd3786\"],[0.5555555555555556,\"#d8576b\"],[0.6666666666666666,\"#ed7953\"],[0.7777777777777778,\"#fb9f3a\"],[0.8888888888888888,\"#fdca26\"],[1.0,\"#f0f921\"]],\"diverging\":[[0,\"#8e0152\"],[0.1,\"#c51b7d\"],[0.2,\"#de77ae\"],[0.3,\"#f1b6da\"],[0.4,\"#fde0ef\"],[0.5,\"#f7f7f7\"],[0.6,\"#e6f5d0\"],[0.7,\"#b8e186\"],[0.8,\"#7fbc41\"],[0.9,\"#4d9221\"],[1,\"#276419\"]]},\"xaxis\":{\"gridcolor\":\"white\",\"linecolor\":\"white\",\"ticks\":\"\",\"title\":{\"standoff\":15},\"zerolinecolor\":\"white\",\"automargin\":true,\"zerolinewidth\":2},\"yaxis\":{\"gridcolor\":\"white\",\"linecolor\":\"white\",\"ticks\":\"\",\"title\":{\"standoff\":15},\"zerolinecolor\":\"white\",\"automargin\":true,\"zerolinewidth\":2},\"scene\":{\"xaxis\":{\"backgroundcolor\":\"#E5ECF6\",\"gridcolor\":\"white\",\"linecolor\":\"white\",\"showbackground\":true,\"ticks\":\"\",\"zerolinecolor\":\"white\",\"gridwidth\":2},\"yaxis\":{\"backgroundcolor\":\"#E5ECF6\",\"gridcolor\":\"white\",\"linecolor\":\"white\",\"showbackground\":true,\"ticks\":\"\",\"zerolinecolor\":\"white\",\"gridwidth\":2},\"zaxis\":{\"backgroundcolor\":\"#E5ECF6\",\"gridcolor\":\"white\",\"linecolor\":\"white\",\"showbackground\":true,\"ticks\":\"\",\"zerolinecolor\":\"white\",\"gridwidth\":2}},\"shapedefaults\":{\"line\":{\"color\":\"#2a3f5f\"}},\"annotationdefaults\":{\"arrowcolor\":\"#2a3f5f\",\"arrowhead\":0,\"arrowwidth\":1},\"geo\":{\"bgcolor\":\"white\",\"landcolor\":\"#E5ECF6\",\"subunitcolor\":\"white\",\"showland\":true,\"showlakes\":true,\"lakecolor\":\"white\"},\"title\":{\"x\":0.05},\"mapbox\":{\"style\":\"light\"}}},\"xaxis\":{\"anchor\":\"y\",\"domain\":[0.0,1.0],\"title\":{\"text\":\"month\"}},\"yaxis\":{\"anchor\":\"x\",\"domain\":[0.0,1.0],\"title\":{\"text\":\"order_id\"}},\"legend\":{\"tracegroupgap\":0},\"title\":{\"text\":\"\\u0414\\u0438\\u043d\\u0430\\u043c\\u0438\\u043a\\u0430 \\u0437\\u0430\\u043a\\u0430\\u0437\\u043e\\u0432\"},\"barmode\":\"relative\"},                        {\"responsive\": true}                    ).then(function(){\n",
       "                            \n",
       "var gd = document.getElementById('92f1e877-f18a-4ab4-9886-535221fd9da1');\n",
       "var x = new MutationObserver(function (mutations, observer) {{\n",
       "        var display = window.getComputedStyle(gd).display;\n",
       "        if (!display || display === 'none') {{\n",
       "            console.log([gd, 'removed!']);\n",
       "            Plotly.purge(gd);\n",
       "            observer.disconnect();\n",
       "        }}\n",
       "}});\n",
       "\n",
       "// Listen for the removal of the full notebook cells\n",
       "var notebookContainer = gd.closest('#notebook-container');\n",
       "if (notebookContainer) {{\n",
       "    x.observe(notebookContainer, {childList: true});\n",
       "}}\n",
       "\n",
       "// Listen for the clearing of the current output cell\n",
       "var outputEl = gd.closest('.output');\n",
       "if (outputEl) {{\n",
       "    x.observe(outputEl, {childList: true});\n",
       "}}\n",
       "\n",
       "                        })                };                });            </script>        </div>"
      ]
     },
     "metadata": {},
     "output_type": "display_data"
    }
   ],
   "source": [
    "category_plot3 = data_loyal.groupby(['month']).agg({'order_id':'count'}).reset_index()\n",
    "fig = px.bar(\n",
    "    category_plot3,\n",
    "    x='month',\n",
    "    y='order_id',\n",
    "    title='Динамика заказов',)\n",
    "\n",
    "fig.show() "
   ]
  },
  {
   "cell_type": "markdown",
   "metadata": {},
   "source": [
    "Динамика заказов также крайне не стабильна, от генеральной совокупности отличается  заментными всплесками в апреле и мае."
   ]
  },
  {
   "cell_type": "markdown",
   "metadata": {},
   "source": [
    "Подведем промежуточный итог: наиболее лояльные покупатели данного интернет-магазина крайне разносторонние, по видимому люди настроения ибо покупают часто, но товары разных категорий и в небольшом количестве."
   ]
  },
  {
   "cell_type": "markdown",
   "metadata": {},
   "source": [
    "## Статистические гипотезы"
   ]
  },
  {
   "cell_type": "markdown",
   "metadata": {},
   "source": [
    "### Сезонная зависимость у покупателей категории - растения"
   ]
  },
  {
   "cell_type": "markdown",
   "metadata": {},
   "source": [
    "Категория растения колеблиться в течении года. Выделим отдельно весенний период, то есть посевную(предположим что основная часть покупателей дачники и они озимые не сажают). Остальные месецы года выделим в отдельнвй блок."
   ]
  },
  {
   "cell_type": "code",
   "execution_count": 127,
   "metadata": {},
   "outputs": [],
   "source": [
    "#Сегментируем по сезонам\n",
    "category_plants= category_plot.query(\"category == 'растения'\")\n",
    "plants_spring=category_plants.iloc[5:8]\n",
    "plants_other=category_plants.iloc[[0, 1, 2, 3, 4 , 8, 9, 10 ,11, 12]]"
   ]
  },
  {
   "cell_type": "markdown",
   "metadata": {},
   "source": [
    "Формируем гипотезы:  \n",
    "Нулевая - статистически значимой разницы в продажах между весенними месяцами и остальным годом нет  \n",
    "Альтернативная - в продажах между весенними месяцами и остальным годом присутствует статичтисески значимая разница, что говорим о наличии сезонности"
   ]
  },
  {
   "cell_type": "code",
   "execution_count": 128,
   "metadata": {},
   "outputs": [
    {
     "name": "stdout",
     "output_type": "stream",
     "text": [
      "p-значение: 0.00019136756222643255\n",
      "Отвергаем нулевую гипотезу\n"
     ]
    }
   ],
   "source": [
    "alpha = 0.05 # показатель статистической значимости\n",
    "\n",
    "results = st.ttest_ind(plants_spring['revenue'], plants_other['revenue'])\n",
    "\n",
    "print('p-значение:', results.pvalue)\n",
    "\n",
    "if results.pvalue < alpha:\n",
    "    print('Отвергаем нулевую гипотезу')\n",
    "else:\n",
    "    print('Не получилось отвергнуть нулевую гипотезу')"
   ]
  },
  {
   "cell_type": "markdown",
   "metadata": {},
   "source": [
    "Итог: статитстическа значимая разница присутствует, в продажах товаров категории растения присутстует сезонность в весенние месяцы."
   ]
  },
  {
   "cell_type": "markdown",
   "metadata": {},
   "source": [
    "### Разные категории покупателей имеют разные средние стоимости"
   ]
  },
  {
   "cell_type": "markdown",
   "metadata": {},
   "source": [
    "Сраним группы покупателей,  объединенных по сумме трат и  различной частотой/давностью заказа, на наличие статистически значимой разности в выручке. "
   ]
  },
  {
   "cell_type": "code",
   "execution_count": 129,
   "metadata": {
    "scrolled": true
   },
   "outputs": [
    {
     "data": {
      "text/html": [
       "<div>\n",
       "<style scoped>\n",
       "    .dataframe tbody tr th:only-of-type {\n",
       "        vertical-align: middle;\n",
       "    }\n",
       "\n",
       "    .dataframe tbody tr th {\n",
       "        vertical-align: top;\n",
       "    }\n",
       "\n",
       "    .dataframe thead th {\n",
       "        text-align: right;\n",
       "    }\n",
       "</style>\n",
       "<table border=\"1\" class=\"dataframe\">\n",
       "  <thead>\n",
       "    <tr style=\"text-align: right;\">\n",
       "      <th></th>\n",
       "      <th>frequency</th>\n",
       "      <th>monetary_value</th>\n",
       "      <th>recency</th>\n",
       "    </tr>\n",
       "    <tr>\n",
       "      <th>RFMClass</th>\n",
       "      <th></th>\n",
       "      <th></th>\n",
       "      <th></th>\n",
       "    </tr>\n",
       "  </thead>\n",
       "  <tbody>\n",
       "    <tr>\n",
       "      <th>111</th>\n",
       "      <td>1.0</td>\n",
       "      <td>159.0</td>\n",
       "      <td>341.0</td>\n",
       "    </tr>\n",
       "    <tr>\n",
       "      <th>112</th>\n",
       "      <td>1.0</td>\n",
       "      <td>469.0</td>\n",
       "      <td>345.0</td>\n",
       "    </tr>\n",
       "    <tr>\n",
       "      <th>113</th>\n",
       "      <td>1.0</td>\n",
       "      <td>970.0</td>\n",
       "      <td>343.0</td>\n",
       "    </tr>\n",
       "    <tr>\n",
       "      <th>114</th>\n",
       "      <td>1.0</td>\n",
       "      <td>2901.0</td>\n",
       "      <td>349.0</td>\n",
       "    </tr>\n",
       "    <tr>\n",
       "      <th>141</th>\n",
       "      <td>2.0</td>\n",
       "      <td>268.0</td>\n",
       "      <td>354.0</td>\n",
       "    </tr>\n",
       "    <tr>\n",
       "      <th>142</th>\n",
       "      <td>2.0</td>\n",
       "      <td>580.0</td>\n",
       "      <td>344.0</td>\n",
       "    </tr>\n",
       "    <tr>\n",
       "      <th>143</th>\n",
       "      <td>2.0</td>\n",
       "      <td>1057.0</td>\n",
       "      <td>349.0</td>\n",
       "    </tr>\n",
       "    <tr>\n",
       "      <th>144</th>\n",
       "      <td>7.0</td>\n",
       "      <td>9657.0</td>\n",
       "      <td>340.0</td>\n",
       "    </tr>\n",
       "    <tr>\n",
       "      <th>211</th>\n",
       "      <td>1.0</td>\n",
       "      <td>140.0</td>\n",
       "      <td>250.0</td>\n",
       "    </tr>\n",
       "    <tr>\n",
       "      <th>212</th>\n",
       "      <td>1.0</td>\n",
       "      <td>477.0</td>\n",
       "      <td>253.0</td>\n",
       "    </tr>\n",
       "    <tr>\n",
       "      <th>213</th>\n",
       "      <td>1.0</td>\n",
       "      <td>967.0</td>\n",
       "      <td>250.0</td>\n",
       "    </tr>\n",
       "    <tr>\n",
       "      <th>214</th>\n",
       "      <td>1.0</td>\n",
       "      <td>2520.0</td>\n",
       "      <td>251.0</td>\n",
       "    </tr>\n",
       "    <tr>\n",
       "      <th>241</th>\n",
       "      <td>2.0</td>\n",
       "      <td>219.0</td>\n",
       "      <td>251.0</td>\n",
       "    </tr>\n",
       "    <tr>\n",
       "      <th>242</th>\n",
       "      <td>2.0</td>\n",
       "      <td>511.0</td>\n",
       "      <td>242.0</td>\n",
       "    </tr>\n",
       "    <tr>\n",
       "      <th>243</th>\n",
       "      <td>2.0</td>\n",
       "      <td>903.0</td>\n",
       "      <td>258.0</td>\n",
       "    </tr>\n",
       "    <tr>\n",
       "      <th>244</th>\n",
       "      <td>12.0</td>\n",
       "      <td>18487.0</td>\n",
       "      <td>260.0</td>\n",
       "    </tr>\n",
       "    <tr>\n",
       "      <th>311</th>\n",
       "      <td>1.0</td>\n",
       "      <td>147.0</td>\n",
       "      <td>165.0</td>\n",
       "    </tr>\n",
       "    <tr>\n",
       "      <th>312</th>\n",
       "      <td>1.0</td>\n",
       "      <td>453.0</td>\n",
       "      <td>161.0</td>\n",
       "    </tr>\n",
       "    <tr>\n",
       "      <th>313</th>\n",
       "      <td>1.0</td>\n",
       "      <td>946.0</td>\n",
       "      <td>166.0</td>\n",
       "    </tr>\n",
       "    <tr>\n",
       "      <th>314</th>\n",
       "      <td>1.0</td>\n",
       "      <td>2621.0</td>\n",
       "      <td>164.0</td>\n",
       "    </tr>\n",
       "    <tr>\n",
       "      <th>341</th>\n",
       "      <td>2.0</td>\n",
       "      <td>264.0</td>\n",
       "      <td>158.0</td>\n",
       "    </tr>\n",
       "    <tr>\n",
       "      <th>342</th>\n",
       "      <td>2.0</td>\n",
       "      <td>513.0</td>\n",
       "      <td>175.0</td>\n",
       "    </tr>\n",
       "    <tr>\n",
       "      <th>343</th>\n",
       "      <td>2.0</td>\n",
       "      <td>1057.0</td>\n",
       "      <td>151.0</td>\n",
       "    </tr>\n",
       "    <tr>\n",
       "      <th>344</th>\n",
       "      <td>2.0</td>\n",
       "      <td>4616.0</td>\n",
       "      <td>173.0</td>\n",
       "    </tr>\n",
       "    <tr>\n",
       "      <th>411</th>\n",
       "      <td>1.0</td>\n",
       "      <td>138.0</td>\n",
       "      <td>51.0</td>\n",
       "    </tr>\n",
       "    <tr>\n",
       "      <th>412</th>\n",
       "      <td>1.0</td>\n",
       "      <td>486.0</td>\n",
       "      <td>55.0</td>\n",
       "    </tr>\n",
       "    <tr>\n",
       "      <th>413</th>\n",
       "      <td>1.0</td>\n",
       "      <td>985.0</td>\n",
       "      <td>56.0</td>\n",
       "    </tr>\n",
       "    <tr>\n",
       "      <th>414</th>\n",
       "      <td>1.0</td>\n",
       "      <td>2689.0</td>\n",
       "      <td>59.0</td>\n",
       "    </tr>\n",
       "    <tr>\n",
       "      <th>441</th>\n",
       "      <td>2.0</td>\n",
       "      <td>222.0</td>\n",
       "      <td>50.0</td>\n",
       "    </tr>\n",
       "    <tr>\n",
       "      <th>442</th>\n",
       "      <td>2.0</td>\n",
       "      <td>493.0</td>\n",
       "      <td>58.0</td>\n",
       "    </tr>\n",
       "    <tr>\n",
       "      <th>443</th>\n",
       "      <td>2.0</td>\n",
       "      <td>966.0</td>\n",
       "      <td>48.0</td>\n",
       "    </tr>\n",
       "    <tr>\n",
       "      <th>444</th>\n",
       "      <td>3.0</td>\n",
       "      <td>4097.0</td>\n",
       "      <td>50.0</td>\n",
       "    </tr>\n",
       "  </tbody>\n",
       "</table>\n",
       "</div>"
      ],
      "text/plain": [
       "          frequency  monetary_value  recency\n",
       "RFMClass                                    \n",
       "111             1.0           159.0    341.0\n",
       "112             1.0           469.0    345.0\n",
       "113             1.0           970.0    343.0\n",
       "114             1.0          2901.0    349.0\n",
       "141             2.0           268.0    354.0\n",
       "142             2.0           580.0    344.0\n",
       "143             2.0          1057.0    349.0\n",
       "144             7.0          9657.0    340.0\n",
       "211             1.0           140.0    250.0\n",
       "212             1.0           477.0    253.0\n",
       "213             1.0           967.0    250.0\n",
       "214             1.0          2520.0    251.0\n",
       "241             2.0           219.0    251.0\n",
       "242             2.0           511.0    242.0\n",
       "243             2.0           903.0    258.0\n",
       "244            12.0         18487.0    260.0\n",
       "311             1.0           147.0    165.0\n",
       "312             1.0           453.0    161.0\n",
       "313             1.0           946.0    166.0\n",
       "314             1.0          2621.0    164.0\n",
       "341             2.0           264.0    158.0\n",
       "342             2.0           513.0    175.0\n",
       "343             2.0          1057.0    151.0\n",
       "344             2.0          4616.0    173.0\n",
       "411             1.0           138.0     51.0\n",
       "412             1.0           486.0     55.0\n",
       "413             1.0           985.0     56.0\n",
       "414             1.0          2689.0     59.0\n",
       "441             2.0           222.0     50.0\n",
       "442             2.0           493.0     58.0\n",
       "443             2.0           966.0     48.0\n",
       "444             3.0          4097.0     50.0"
      ]
     },
     "execution_count": 129,
     "metadata": {},
     "output_type": "execute_result"
    }
   ],
   "source": [
    "#Сргупируем даныне\n",
    "RFM_Segment_grouped=RFM_Segment.pivot_table(index=['RFMClass'], values=['recency', 'frequency', 'monetary_value'], \n",
    "                    aggfunc={\n",
    "                             'recency': 'mean',\n",
    "                             'frequency': 'mean',\n",
    "                             'monetary_value': 'mean'}).round()\n",
    "RFM_Segment_grouped"
   ]
  },
  {
   "cell_type": "markdown",
   "metadata": {},
   "source": [
    "Используем гипотеза о равенстве средних двух генеральных совокупностей и попарно сравним относящие к соседним по выручке группам.  \n",
    "Формируем гипотезы:    \n",
    "Нулевая - статистически значимой разницы  в смежных по выручке группах нет  \n",
    "Альтернативная - смежные по выручке группы статистически значимо различаются в показатели выручки"
   ]
  },
  {
   "cell_type": "markdown",
   "metadata": {},
   "source": [
    "Сравним среднее значение выручки групп относящиеся к первому квартилю выручки (111,141,211,241,311,341,411,441) с групами второго квартиля (112,142,212,242,312,342,412,442)"
   ]
  },
  {
   "cell_type": "code",
   "execution_count": 130,
   "metadata": {},
   "outputs": [
    {
     "name": "stdout",
     "output_type": "stream",
     "text": [
      "p-значение: 4.465249650811738e-09\n",
      "Отвергаем нулевую гипотезу\n"
     ]
    }
   ],
   "source": [
    "sample_1 = [159, 268, 140, 219, 147, 264, 138, 222]\n",
    "sample_2 = [469, 580, 477, 511, 453, 513, 486, 493]\n",
    "\n",
    "alpha = 0.05 # уровень статистической значимости\n",
    "# если p-value окажется меньше него, отвергнем гипотезу\n",
    "\n",
    "results = st.ttest_ind(sample_1, sample_2)\n",
    "\n",
    "print('p-значение:', results.pvalue)\n",
    "\n",
    "if results.pvalue < alpha:\n",
    "    print('Отвергаем нулевую гипотезу')\n",
    "else:\n",
    "    print('Не получилось отвергнуть нулевую гипотезу') "
   ]
  },
  {
   "cell_type": "markdown",
   "metadata": {},
   "source": [
    "Статистически знчимые различия между группами 1 и 2 квартиля по выручке присутствуют, что доказывает состоятельность даннлой модели сегментирования. Для того чтобы быть уверенным в данном утверждении далее следуют сравнения 2 и 3, 3 и 4 квартилей, во всех случаях нулевая гипотеза была отвергнута."
   ]
  },
  {
   "cell_type": "markdown",
   "metadata": {},
   "source": [
    "Сравним среднее значение выручки групп относящиеся к второму квартилю выручки (112,142,212,242,312,342,412,442) с групами третьего квартиля (113,143,213,243,313,343,413,443)"
   ]
  },
  {
   "cell_type": "code",
   "execution_count": 131,
   "metadata": {},
   "outputs": [
    {
     "name": "stdout",
     "output_type": "stream",
     "text": [
      "p-значение: 2.1317525286135047e-10\n",
      "Отвергаем нулевую гипотезу\n"
     ]
    }
   ],
   "source": [
    "sample_1 = [469, 280, 477, 511, 453, 513, 486, 493]\n",
    "sample_2 = [970, 1057, 967, 903, 946, 1057, 995, 966]\n",
    "\n",
    "alpha = 0.05 # уровень статистической значимости\n",
    "# если p-value окажется меньше него, отвергнем гипотезу\n",
    "\n",
    "results = st.ttest_ind(sample_1, sample_2)\n",
    "\n",
    "print('p-значение:', results.pvalue)\n",
    "\n",
    "if results.pvalue < alpha:\n",
    "    print('Отвергаем нулевую гипотезу')\n",
    "else:\n",
    "    print('Не получилось отвергнуть нулевую гипотезу') "
   ]
  },
  {
   "cell_type": "markdown",
   "metadata": {},
   "source": [
    "Сравним среднее значение выручки групп относящиеся к третьему квартилю выручки (113,143,213,243,313,343,413,443) с групами яетвертого квартиля (114,144,214,244,314,344,414,444)"
   ]
  },
  {
   "cell_type": "code",
   "execution_count": 132,
   "metadata": {},
   "outputs": [
    {
     "name": "stdout",
     "output_type": "stream",
     "text": [
      "p-значение: 0.024905359337515143\n",
      "Отвергаем нулевую гипотезу\n"
     ]
    }
   ],
   "source": [
    "sample_1 = [970, 1057, 967, 903, 946, 1057, 995, 966]\n",
    "sample_2 = [2901, 9657, 2520, 18487, 2621, 4616, 2689, 4097]\n",
    "\n",
    "alpha = 0.05 # уровень статистической значимости\n",
    "# если p-value окажется меньше него, отвергнем гипотезу\n",
    "\n",
    "results = st.ttest_ind(sample_1, sample_2)\n",
    "\n",
    "print('p-значение:', results.pvalue)\n",
    "\n",
    "if results.pvalue < alpha:\n",
    "    print('Отвергаем нулевую гипотезу')\n",
    "else:\n",
    "    print('Не получилось отвергнуть нулевую гипотезу') "
   ]
  },
  {
   "cell_type": "markdown",
   "metadata": {},
   "source": [
    "Данная проверка гипотиз подтваржадет состоятельность сегментирования. В тоерии надо было сранить группы по даности и частоте заказов на наличие статистически значимой разности, но я сомневался в обстоятельности своих суждений, так как разница очевидна из таблицы выше, а следовательно данная гипотеза может быть рне принята. Если необходи могу дополнить необходимыми проверками."
   ]
  },
  {
   "cell_type": "markdown",
   "metadata": {},
   "source": [
    "### Вывод"
   ]
  },
  {
   "cell_type": "markdown",
   "metadata": {},
   "source": [
    "Интернет-магазин \"Пока все еще тут\" столкнулся с проблемами падения выручки вполне обоснованно:  \n",
    "Отсутствие устойчевой базы покупателей - клиентов совершающих покупки регулярно скорее всего привлекают некие прочие факторы, нежели ассортимент магазина. Так как специфика их заказов крайне хаотична: разные стоимости, товарные категории. Единсвенное что их объединяет, то что они относительно регулярно пользуются сервисом. Для стабильной и долгосройной стратегии экономического развитя необходимо иметь якорные товары/услуги постоянно привлекающие определенную категорию покупателей.\n",
    "Низкие показатели розничной торговли - не высокий средний чек, редкость заказов, не большая выручка. Данные метрики рисуют нам портрет покупателя среднестатистического покупателя который разово купил немного недорого товара и перестал пользоваться услуагми интернет-магазина.  \n",
    "Сезонность - категория растения логично имеет сезонный спрос, но в остальное время года ее не заменяют полноценно другие категории товаров.График показывает нам что растения мало покупают осенью и зимой, что весьма логично, но для сохранения объемов выручки их должна заменить другая категория."
   ]
  },
  {
   "cell_type": "markdown",
   "metadata": {},
   "source": [
    "В базе данных помимо значительного количества неявных дубликатов отсутсвую крайне выжные для розничной торговли показатели: средний чек и выручка. Было бы неплохо скоректировать ведение базы данных так что данные показатели там фиксировались и не появлялись дубликаты."
   ]
  },
  {
   "cell_type": "markdown",
   "metadata": {},
   "source": [
    "### Рекомендации для категорийного менеджера:  \n",
    "Серьзено? У вас есть категорийный менеджер, но нет деления товаров на категории в базе данных? Так вот оно - ловите. Товары сегментированы на категории:'другое','растения','лестницы', 'хозтовары', 'сумки', для дома', 'текстиль' и 'кухонная утварь' (не понятно чем этот парень раньше занимался, полюбому чей-то родственник).  \n",
    "На что стоит обратить внимание: категория растения занимает почти половину аасортиментного рядя и при этом приносит только 15% выручки(не будем забывать про сезонность покупок). В то время как текстиль, хозяйственные товары и сумки приносят нелохие деньги, не захламляя ассортиментный ряд. Было бы неплохо подмать над сокращением категории растения в пользую увеличения объемов текстиля, сумок и хозтоваров при сохранении прежних складских объемов."
   ]
  },
  {
   "cell_type": "markdown",
   "metadata": {},
   "source": [
    "### Рекомендации для круководителя маркетинга: \n",
    "Стоит начать активное взаимодействие с 114 категорией покупателей, так как она приносит наибольшую выручку - это люди редко и давно совершавшие покупки на значиьельные суммы. Средняя давность заказов(если считать от последнего дня в базе данных_ составляет 349 дней, при этом средние количество заказаов - 1. Однако их количество составляет 7,06% всех пользователей и приносит 485к выручки(за указанный период). Повторное возвращение данныъ пользователй станет весомым тригером для развития магазина.  \n",
    "Так же стоит формирования якорной категории товаров для наиболее лояльных пользователей, их спросы весьма хаотичны, что приводит к колебаниям выручки магазина, как видно из графиков в сезон они потребляют категорию растения, в остальное время хозтовары, текстиль и сумки, но спрос их крайне вартиативен. Скорее всего он был обусловлен проведеникм маккетинговых акций на данные товары. Стоит с большей стабильнойстью подогревать интерес лояльных потребителей к несезонным товарам в течении всего года."
   ]
  },
  {
   "cell_type": "code",
   "execution_count": null,
   "metadata": {},
   "outputs": [],
   "source": []
  }
 ],
 "metadata": {
  "ExecuteTimeLog": [
   {
    "duration": 52,
    "start_time": "2023-03-07T10:39:58.755Z"
   },
   {
    "duration": 1723,
    "start_time": "2023-03-07T10:40:04.867Z"
   },
   {
    "duration": 161,
    "start_time": "2023-03-07T10:40:07.333Z"
   },
   {
    "duration": 97,
    "start_time": "2023-03-07T10:40:39.869Z"
   },
   {
    "duration": 60,
    "start_time": "2023-03-07T10:41:58.964Z"
   },
   {
    "duration": 186,
    "start_time": "2023-03-07T10:42:22.312Z"
   },
   {
    "duration": 15,
    "start_time": "2023-03-07T10:42:39.589Z"
   },
   {
    "duration": 13,
    "start_time": "2023-03-07T10:43:39.568Z"
   },
   {
    "duration": 21,
    "start_time": "2023-03-07T10:44:06.574Z"
   },
   {
    "duration": 11,
    "start_time": "2023-03-07T10:44:52.718Z"
   },
   {
    "duration": 21,
    "start_time": "2023-03-07T10:45:14.108Z"
   },
   {
    "duration": 3,
    "start_time": "2023-03-07T10:46:20.081Z"
   },
   {
    "duration": 137,
    "start_time": "2023-03-07T10:46:20.086Z"
   },
   {
    "duration": 19,
    "start_time": "2023-03-07T10:46:20.225Z"
   },
   {
    "duration": 49,
    "start_time": "2023-03-07T10:46:20.248Z"
   },
   {
    "duration": 16,
    "start_time": "2023-03-07T10:46:20.299Z"
   },
   {
    "duration": 9,
    "start_time": "2023-03-07T10:46:20.317Z"
   },
   {
    "duration": 32,
    "start_time": "2023-03-07T10:46:20.328Z"
   },
   {
    "duration": 2747,
    "start_time": "2023-03-07T10:47:23.177Z"
   },
   {
    "duration": 1,
    "start_time": "2023-03-07T10:47:25.925Z"
   },
   {
    "duration": 136,
    "start_time": "2023-03-07T10:47:37.867Z"
   },
   {
    "duration": 16,
    "start_time": "2023-03-07T10:47:42.424Z"
   },
   {
    "duration": 46,
    "start_time": "2023-03-07T11:58:39.214Z"
   },
   {
    "duration": 3203,
    "start_time": "2023-03-07T12:01:14.684Z"
   },
   {
    "duration": 12,
    "start_time": "2023-03-07T12:01:18.868Z"
   },
   {
    "duration": 124,
    "start_time": "2023-03-07T12:01:56.393Z"
   },
   {
    "duration": 23,
    "start_time": "2023-03-07T12:03:51.489Z"
   },
   {
    "duration": 10,
    "start_time": "2023-03-07T12:06:57.326Z"
   },
   {
    "duration": 19,
    "start_time": "2023-03-07T12:15:04.055Z"
   },
   {
    "duration": 167,
    "start_time": "2023-03-07T12:15:44.131Z"
   },
   {
    "duration": 196,
    "start_time": "2023-03-07T12:17:27.208Z"
   },
   {
    "duration": 155,
    "start_time": "2023-03-07T12:17:31.761Z"
   },
   {
    "duration": 115,
    "start_time": "2023-03-07T12:18:01.107Z"
   },
   {
    "duration": 164,
    "start_time": "2023-03-07T12:19:11.021Z"
   },
   {
    "duration": 138,
    "start_time": "2023-03-07T12:19:20.127Z"
   },
   {
    "duration": 119,
    "start_time": "2023-03-07T12:19:28.571Z"
   },
   {
    "duration": 126,
    "start_time": "2023-03-07T12:19:41.916Z"
   },
   {
    "duration": 191,
    "start_time": "2023-03-07T12:19:49.164Z"
   },
   {
    "duration": 159,
    "start_time": "2023-03-07T12:19:59.918Z"
   },
   {
    "duration": 138,
    "start_time": "2023-03-07T12:20:16.108Z"
   },
   {
    "duration": 104,
    "start_time": "2023-03-07T12:20:26.705Z"
   },
   {
    "duration": 121,
    "start_time": "2023-03-07T12:20:45.058Z"
   },
   {
    "duration": 137,
    "start_time": "2023-03-07T12:21:01.780Z"
   },
   {
    "duration": 138,
    "start_time": "2023-03-07T12:21:15.105Z"
   },
   {
    "duration": 90,
    "start_time": "2023-03-07T12:23:22.377Z"
   },
   {
    "duration": 105,
    "start_time": "2023-03-07T12:23:27.741Z"
   },
   {
    "duration": 107,
    "start_time": "2023-03-07T12:26:30.550Z"
   },
   {
    "duration": 5,
    "start_time": "2023-03-07T12:27:20.465Z"
   },
   {
    "duration": 5,
    "start_time": "2023-03-07T12:27:44.317Z"
   },
   {
    "duration": 5,
    "start_time": "2023-03-07T12:30:18.457Z"
   },
   {
    "duration": 16,
    "start_time": "2023-03-07T12:31:58.945Z"
   },
   {
    "duration": 13,
    "start_time": "2023-03-07T12:32:08.961Z"
   },
   {
    "duration": 4,
    "start_time": "2023-03-07T12:33:12.473Z"
   },
   {
    "duration": 6,
    "start_time": "2023-03-07T12:37:02.292Z"
   },
   {
    "duration": 8,
    "start_time": "2023-03-07T12:37:41.163Z"
   },
   {
    "duration": 13,
    "start_time": "2023-03-07T12:38:34.013Z"
   },
   {
    "duration": 85,
    "start_time": "2023-03-07T12:40:35.633Z"
   },
   {
    "duration": 5,
    "start_time": "2023-03-07T12:40:43.373Z"
   },
   {
    "duration": 6,
    "start_time": "2023-03-07T12:41:12.893Z"
   },
   {
    "duration": 4,
    "start_time": "2023-03-07T12:41:16.171Z"
   },
   {
    "duration": 7,
    "start_time": "2023-03-07T12:47:10.786Z"
   },
   {
    "duration": 455,
    "start_time": "2023-03-07T13:27:40.681Z"
   },
   {
    "duration": 4,
    "start_time": "2023-03-07T13:27:48.278Z"
   },
   {
    "duration": 503,
    "start_time": "2023-03-07T13:27:48.284Z"
   },
   {
    "duration": 12,
    "start_time": "2023-03-07T13:27:48.789Z"
   },
   {
    "duration": 43,
    "start_time": "2023-03-07T13:27:48.803Z"
   },
   {
    "duration": 41,
    "start_time": "2023-03-07T13:27:48.849Z"
   },
   {
    "duration": 20,
    "start_time": "2023-03-07T13:27:48.892Z"
   },
   {
    "duration": 26,
    "start_time": "2023-03-07T13:27:48.914Z"
   },
   {
    "duration": 54,
    "start_time": "2023-03-07T13:27:48.943Z"
   },
   {
    "duration": 11,
    "start_time": "2023-03-07T13:27:48.999Z"
   },
   {
    "duration": 138,
    "start_time": "2023-03-07T13:27:49.012Z"
   },
   {
    "duration": 5,
    "start_time": "2023-03-07T13:27:49.154Z"
   },
   {
    "duration": 14,
    "start_time": "2023-03-07T13:27:49.161Z"
   },
   {
    "duration": 20,
    "start_time": "2023-03-07T13:27:49.178Z"
   },
   {
    "duration": 6,
    "start_time": "2023-03-07T13:27:49.201Z"
   },
   {
    "duration": 30,
    "start_time": "2023-03-07T13:27:49.209Z"
   },
   {
    "duration": 29,
    "start_time": "2023-03-07T13:27:49.240Z"
   },
   {
    "duration": 8,
    "start_time": "2023-03-07T13:27:49.271Z"
   },
   {
    "duration": 14,
    "start_time": "2023-03-07T13:27:49.281Z"
   },
   {
    "duration": 12,
    "start_time": "2023-03-07T13:27:49.298Z"
   },
   {
    "duration": 9,
    "start_time": "2023-03-07T13:27:49.312Z"
   },
   {
    "duration": 65,
    "start_time": "2023-03-07T13:27:49.323Z"
   },
   {
    "duration": 27,
    "start_time": "2023-03-07T13:29:00.887Z"
   },
   {
    "duration": 45,
    "start_time": "2023-03-07T13:29:14.518Z"
   },
   {
    "duration": 51,
    "start_time": "2023-03-07T13:29:25.695Z"
   },
   {
    "duration": 32,
    "start_time": "2023-03-07T13:29:31.702Z"
   },
   {
    "duration": 40,
    "start_time": "2023-03-07T13:29:39.757Z"
   },
   {
    "duration": 7,
    "start_time": "2023-03-07T13:37:22.910Z"
   },
   {
    "duration": 6,
    "start_time": "2023-03-07T13:37:31.378Z"
   },
   {
    "duration": 12,
    "start_time": "2023-03-07T13:37:46.727Z"
   },
   {
    "duration": 15,
    "start_time": "2023-03-07T13:37:57.942Z"
   },
   {
    "duration": 6,
    "start_time": "2023-03-07T13:38:18.189Z"
   },
   {
    "duration": 10,
    "start_time": "2023-03-07T13:39:27.546Z"
   },
   {
    "duration": 10,
    "start_time": "2023-03-07T13:40:44.145Z"
   },
   {
    "duration": 7,
    "start_time": "2023-03-07T13:40:58.375Z"
   },
   {
    "duration": 9,
    "start_time": "2023-03-07T13:41:15.649Z"
   },
   {
    "duration": 27,
    "start_time": "2023-03-07T13:43:38.187Z"
   },
   {
    "duration": 103,
    "start_time": "2023-03-07T13:50:25.289Z"
   },
   {
    "duration": 17,
    "start_time": "2023-03-07T13:50:33.414Z"
   },
   {
    "duration": 3,
    "start_time": "2023-03-07T13:53:18.792Z"
   },
   {
    "duration": 11,
    "start_time": "2023-03-07T13:55:55.400Z"
   },
   {
    "duration": 4,
    "start_time": "2023-03-07T13:56:37.295Z"
   },
   {
    "duration": 28,
    "start_time": "2023-03-07T13:56:58.166Z"
   },
   {
    "duration": 30,
    "start_time": "2023-03-07T13:58:57.196Z"
   },
   {
    "duration": 152,
    "start_time": "2023-03-07T14:03:28.913Z"
   },
   {
    "duration": 20,
    "start_time": "2023-03-07T14:04:23.675Z"
   },
   {
    "duration": 20,
    "start_time": "2023-03-07T14:04:23.826Z"
   },
   {
    "duration": 12,
    "start_time": "2023-03-07T14:05:23.132Z"
   },
   {
    "duration": 214,
    "start_time": "2023-03-07T14:05:34.979Z"
   },
   {
    "duration": 288,
    "start_time": "2023-03-07T14:11:55.848Z"
   },
   {
    "duration": 229,
    "start_time": "2023-03-07T14:12:43.217Z"
   },
   {
    "duration": 325,
    "start_time": "2023-03-07T14:14:04.942Z"
   },
   {
    "duration": 796,
    "start_time": "2023-03-07T14:26:15.746Z"
   },
   {
    "duration": 14,
    "start_time": "2023-03-07T14:27:38.735Z"
   },
   {
    "duration": 12,
    "start_time": "2023-03-07T14:29:23.927Z"
   },
   {
    "duration": 0,
    "start_time": "2023-03-07T14:29:23.941Z"
   },
   {
    "duration": 0,
    "start_time": "2023-03-07T14:29:23.943Z"
   },
   {
    "duration": 0,
    "start_time": "2023-03-07T14:29:23.944Z"
   },
   {
    "duration": 0,
    "start_time": "2023-03-07T14:29:23.945Z"
   },
   {
    "duration": 11,
    "start_time": "2023-03-07T14:29:23.947Z"
   },
   {
    "duration": 22,
    "start_time": "2023-03-07T14:29:23.960Z"
   },
   {
    "duration": 11,
    "start_time": "2023-03-07T14:29:24.119Z"
   },
   {
    "duration": 7,
    "start_time": "2023-03-07T14:29:24.132Z"
   },
   {
    "duration": 104,
    "start_time": "2023-03-07T14:29:24.140Z"
   },
   {
    "duration": 6,
    "start_time": "2023-03-07T14:29:24.246Z"
   },
   {
    "duration": 10,
    "start_time": "2023-03-07T14:29:24.255Z"
   },
   {
    "duration": 16,
    "start_time": "2023-03-07T14:29:24.266Z"
   },
   {
    "duration": 10,
    "start_time": "2023-03-07T14:29:24.284Z"
   },
   {
    "duration": 14,
    "start_time": "2023-03-07T14:29:24.297Z"
   },
   {
    "duration": 25,
    "start_time": "2023-03-07T14:29:24.313Z"
   },
   {
    "duration": 39,
    "start_time": "2023-03-07T14:29:24.340Z"
   },
   {
    "duration": 10,
    "start_time": "2023-03-07T14:29:24.381Z"
   },
   {
    "duration": 9,
    "start_time": "2023-03-07T14:29:24.393Z"
   },
   {
    "duration": 166,
    "start_time": "2023-03-07T14:29:24.404Z"
   },
   {
    "duration": 4,
    "start_time": "2023-03-07T14:29:24.571Z"
   },
   {
    "duration": 54,
    "start_time": "2023-03-07T14:29:24.577Z"
   },
   {
    "duration": 27,
    "start_time": "2023-03-07T14:29:24.633Z"
   },
   {
    "duration": 261,
    "start_time": "2023-03-07T14:29:24.662Z"
   },
   {
    "duration": 222,
    "start_time": "2023-03-07T14:29:24.926Z"
   },
   {
    "duration": 13,
    "start_time": "2023-03-07T14:29:25.151Z"
   },
   {
    "duration": 2,
    "start_time": "2023-03-07T14:29:53.442Z"
   },
   {
    "duration": 28,
    "start_time": "2023-03-07T14:29:56.329Z"
   },
   {
    "duration": 0,
    "start_time": "2023-03-07T14:29:56.359Z"
   },
   {
    "duration": 0,
    "start_time": "2023-03-07T14:29:56.361Z"
   },
   {
    "duration": 0,
    "start_time": "2023-03-07T14:29:56.362Z"
   },
   {
    "duration": 0,
    "start_time": "2023-03-07T14:29:56.364Z"
   },
   {
    "duration": 0,
    "start_time": "2023-03-07T14:29:56.365Z"
   },
   {
    "duration": 0,
    "start_time": "2023-03-07T14:29:56.366Z"
   },
   {
    "duration": 0,
    "start_time": "2023-03-07T14:29:56.368Z"
   },
   {
    "duration": 0,
    "start_time": "2023-03-07T14:29:56.369Z"
   },
   {
    "duration": 0,
    "start_time": "2023-03-07T14:29:56.374Z"
   },
   {
    "duration": 6,
    "start_time": "2023-03-07T14:29:56.464Z"
   },
   {
    "duration": 12,
    "start_time": "2023-03-07T14:29:56.472Z"
   },
   {
    "duration": 21,
    "start_time": "2023-03-07T14:29:56.491Z"
   },
   {
    "duration": 6,
    "start_time": "2023-03-07T14:29:56.514Z"
   },
   {
    "duration": 9,
    "start_time": "2023-03-07T14:29:56.522Z"
   },
   {
    "duration": 9,
    "start_time": "2023-03-07T14:29:56.533Z"
   },
   {
    "duration": 13,
    "start_time": "2023-03-07T14:29:56.545Z"
   },
   {
    "duration": 13,
    "start_time": "2023-03-07T14:29:56.560Z"
   },
   {
    "duration": 16,
    "start_time": "2023-03-07T14:29:56.575Z"
   },
   {
    "duration": 22,
    "start_time": "2023-03-07T14:29:56.593Z"
   },
   {
    "duration": 13,
    "start_time": "2023-03-07T14:29:56.621Z"
   },
   {
    "duration": 43,
    "start_time": "2023-03-07T14:29:56.636Z"
   },
   {
    "duration": 33,
    "start_time": "2023-03-07T14:29:56.681Z"
   },
   {
    "duration": 278,
    "start_time": "2023-03-07T14:29:56.716Z"
   },
   {
    "duration": 217,
    "start_time": "2023-03-07T14:29:56.997Z"
   },
   {
    "duration": 25,
    "start_time": "2023-03-07T14:29:57.217Z"
   },
   {
    "duration": 11,
    "start_time": "2023-03-07T14:41:11.258Z"
   },
   {
    "duration": 0,
    "start_time": "2023-03-07T14:41:11.272Z"
   },
   {
    "duration": 0,
    "start_time": "2023-03-07T14:41:11.273Z"
   },
   {
    "duration": 12,
    "start_time": "2023-03-07T14:41:11.699Z"
   },
   {
    "duration": 36,
    "start_time": "2023-03-07T14:41:11.713Z"
   },
   {
    "duration": 21,
    "start_time": "2023-03-07T14:41:11.751Z"
   },
   {
    "duration": 23,
    "start_time": "2023-03-07T14:41:11.931Z"
   },
   {
    "duration": 29,
    "start_time": "2023-03-07T14:41:11.956Z"
   },
   {
    "duration": 32,
    "start_time": "2023-03-07T14:41:11.986Z"
   },
   {
    "duration": 117,
    "start_time": "2023-03-07T14:41:12.019Z"
   },
   {
    "duration": 5,
    "start_time": "2023-03-07T14:41:12.138Z"
   },
   {
    "duration": 6,
    "start_time": "2023-03-07T14:41:12.210Z"
   },
   {
    "duration": 17,
    "start_time": "2023-03-07T14:41:12.218Z"
   },
   {
    "duration": 17,
    "start_time": "2023-03-07T14:41:12.237Z"
   },
   {
    "duration": 12,
    "start_time": "2023-03-07T14:41:12.256Z"
   },
   {
    "duration": 18,
    "start_time": "2023-03-07T14:41:12.270Z"
   },
   {
    "duration": 17,
    "start_time": "2023-03-07T14:41:12.290Z"
   },
   {
    "duration": 10,
    "start_time": "2023-03-07T14:41:12.459Z"
   },
   {
    "duration": 7,
    "start_time": "2023-03-07T14:41:12.472Z"
   },
   {
    "duration": 17,
    "start_time": "2023-03-07T14:41:12.481Z"
   },
   {
    "duration": 10,
    "start_time": "2023-03-07T14:41:12.500Z"
   },
   {
    "duration": 45,
    "start_time": "2023-03-07T14:41:12.512Z"
   },
   {
    "duration": 23,
    "start_time": "2023-03-07T14:41:12.559Z"
   },
   {
    "duration": 250,
    "start_time": "2023-03-07T14:41:12.585Z"
   },
   {
    "duration": 221,
    "start_time": "2023-03-07T14:41:12.837Z"
   },
   {
    "duration": 13,
    "start_time": "2023-03-07T14:41:13.060Z"
   },
   {
    "duration": 13,
    "start_time": "2023-03-07T14:41:31.468Z"
   },
   {
    "duration": 72,
    "start_time": "2023-03-07T14:42:47.240Z"
   },
   {
    "duration": 109,
    "start_time": "2023-03-07T14:43:16.817Z"
   },
   {
    "duration": 29,
    "start_time": "2023-03-07T14:47:53.449Z"
   },
   {
    "duration": 51,
    "start_time": "2023-03-15T16:44:58.277Z"
   },
   {
    "duration": 1520,
    "start_time": "2023-03-15T16:45:00.925Z"
   },
   {
    "duration": 0,
    "start_time": "2023-03-15T16:45:02.446Z"
   },
   {
    "duration": 4,
    "start_time": "2023-03-15T16:46:30.966Z"
   },
   {
    "duration": 185,
    "start_time": "2023-03-15T16:46:33.533Z"
   },
   {
    "duration": 1371,
    "start_time": "2023-03-15T16:46:38.468Z"
   },
   {
    "duration": 46,
    "start_time": "2023-03-15T16:46:39.841Z"
   },
   {
    "duration": 13,
    "start_time": "2023-03-15T16:46:39.888Z"
   },
   {
    "duration": 14,
    "start_time": "2023-03-15T16:46:39.904Z"
   },
   {
    "duration": 26,
    "start_time": "2023-03-15T16:46:39.920Z"
   },
   {
    "duration": 11,
    "start_time": "2023-03-15T16:46:39.948Z"
   },
   {
    "duration": 18,
    "start_time": "2023-03-15T16:46:39.961Z"
   },
   {
    "duration": 53,
    "start_time": "2023-03-15T16:46:39.982Z"
   },
   {
    "duration": 10,
    "start_time": "2023-03-15T16:46:40.037Z"
   },
   {
    "duration": 144,
    "start_time": "2023-03-15T16:46:40.050Z"
   },
   {
    "duration": 5,
    "start_time": "2023-03-15T16:46:40.196Z"
   },
   {
    "duration": 9,
    "start_time": "2023-03-15T16:46:40.203Z"
   },
   {
    "duration": 31,
    "start_time": "2023-03-15T16:46:40.214Z"
   },
   {
    "duration": 4,
    "start_time": "2023-03-15T16:46:40.247Z"
   },
   {
    "duration": 10,
    "start_time": "2023-03-15T16:46:40.253Z"
   },
   {
    "duration": 10,
    "start_time": "2023-03-15T16:46:40.265Z"
   },
   {
    "duration": 8,
    "start_time": "2023-03-15T16:46:40.277Z"
   },
   {
    "duration": 16,
    "start_time": "2023-03-15T16:46:40.287Z"
   },
   {
    "duration": 8,
    "start_time": "2023-03-15T16:46:40.330Z"
   },
   {
    "duration": 8,
    "start_time": "2023-03-15T16:46:40.340Z"
   },
   {
    "duration": 48,
    "start_time": "2023-03-15T16:46:40.350Z"
   },
   {
    "duration": 42,
    "start_time": "2023-03-15T16:46:40.400Z"
   },
   {
    "duration": 240,
    "start_time": "2023-03-15T16:46:40.444Z"
   },
   {
    "duration": 227,
    "start_time": "2023-03-15T16:46:40.687Z"
   },
   {
    "duration": 27,
    "start_time": "2023-03-15T16:46:40.916Z"
   },
   {
    "duration": 270,
    "start_time": "2023-03-15T16:46:40.944Z"
   },
   {
    "duration": 4,
    "start_time": "2023-03-15T16:46:41.216Z"
   },
   {
    "duration": 6,
    "start_time": "2023-03-15T16:46:41.233Z"
   },
   {
    "duration": 435,
    "start_time": "2023-03-15T16:46:41.240Z"
   },
   {
    "duration": 9,
    "start_time": "2023-03-15T16:46:41.677Z"
   },
   {
    "duration": 23,
    "start_time": "2023-03-15T16:46:41.688Z"
   },
   {
    "duration": 23,
    "start_time": "2023-03-15T16:46:41.713Z"
   },
   {
    "duration": 491,
    "start_time": "2023-03-15T16:46:41.738Z"
   },
   {
    "duration": 567,
    "start_time": "2023-03-15T16:46:42.231Z"
   },
   {
    "duration": 18,
    "start_time": "2023-03-15T16:46:42.800Z"
   },
   {
    "duration": 17,
    "start_time": "2023-03-15T16:46:42.831Z"
   },
   {
    "duration": 19,
    "start_time": "2023-03-15T16:46:42.850Z"
   },
   {
    "duration": 8,
    "start_time": "2023-03-15T16:46:42.871Z"
   },
   {
    "duration": 52,
    "start_time": "2023-03-15T16:46:42.881Z"
   },
   {
    "duration": 264,
    "start_time": "2023-03-15T16:46:42.935Z"
   },
   {
    "duration": 0,
    "start_time": "2023-03-15T16:46:43.202Z"
   },
   {
    "duration": 0,
    "start_time": "2023-03-15T16:46:43.204Z"
   },
   {
    "duration": 0,
    "start_time": "2023-03-15T16:46:43.205Z"
   },
   {
    "duration": 0,
    "start_time": "2023-03-15T16:46:43.207Z"
   },
   {
    "duration": 0,
    "start_time": "2023-03-15T16:46:43.208Z"
   },
   {
    "duration": 0,
    "start_time": "2023-03-15T16:46:43.210Z"
   },
   {
    "duration": 0,
    "start_time": "2023-03-15T16:46:43.211Z"
   },
   {
    "duration": 0,
    "start_time": "2023-03-15T16:46:43.213Z"
   },
   {
    "duration": 0,
    "start_time": "2023-03-15T16:46:43.230Z"
   },
   {
    "duration": 0,
    "start_time": "2023-03-15T16:46:43.232Z"
   },
   {
    "duration": 0,
    "start_time": "2023-03-15T16:46:43.233Z"
   },
   {
    "duration": 0,
    "start_time": "2023-03-15T16:46:43.234Z"
   },
   {
    "duration": 0,
    "start_time": "2023-03-15T16:46:43.235Z"
   },
   {
    "duration": 0,
    "start_time": "2023-03-15T16:46:43.236Z"
   },
   {
    "duration": 0,
    "start_time": "2023-03-15T16:46:43.237Z"
   },
   {
    "duration": 0,
    "start_time": "2023-03-15T16:46:43.239Z"
   },
   {
    "duration": 0,
    "start_time": "2023-03-15T16:46:43.239Z"
   },
   {
    "duration": 0,
    "start_time": "2023-03-15T16:46:43.240Z"
   },
   {
    "duration": 0,
    "start_time": "2023-03-15T16:46:43.242Z"
   },
   {
    "duration": 0,
    "start_time": "2023-03-15T16:46:43.243Z"
   },
   {
    "duration": 0,
    "start_time": "2023-03-15T16:46:43.244Z"
   },
   {
    "duration": 0,
    "start_time": "2023-03-15T16:46:43.245Z"
   },
   {
    "duration": 0,
    "start_time": "2023-03-15T16:46:43.246Z"
   },
   {
    "duration": 0,
    "start_time": "2023-03-15T16:46:43.247Z"
   },
   {
    "duration": 734,
    "start_time": "2023-03-15T16:47:19.231Z"
   },
   {
    "duration": 22,
    "start_time": "2023-03-15T16:47:35.181Z"
   },
   {
    "duration": 673,
    "start_time": "2023-03-15T16:47:43.022Z"
   },
   {
    "duration": 14,
    "start_time": "2023-03-15T16:56:36.697Z"
   },
   {
    "duration": 29,
    "start_time": "2023-03-15T16:56:39.586Z"
   },
   {
    "duration": 24,
    "start_time": "2023-03-15T16:56:40.289Z"
   },
   {
    "duration": 13,
    "start_time": "2023-03-15T16:56:40.816Z"
   },
   {
    "duration": 8,
    "start_time": "2023-03-15T16:56:41.145Z"
   },
   {
    "duration": 29,
    "start_time": "2023-03-15T16:56:41.402Z"
   },
   {
    "duration": 25,
    "start_time": "2023-03-15T16:56:42.031Z"
   },
   {
    "duration": 24,
    "start_time": "2023-03-15T16:56:42.320Z"
   },
   {
    "duration": 19,
    "start_time": "2023-03-15T16:56:42.703Z"
   },
   {
    "duration": 78,
    "start_time": "2023-03-15T16:56:43.415Z"
   },
   {
    "duration": 13,
    "start_time": "2023-03-15T16:56:44.543Z"
   },
   {
    "duration": 4,
    "start_time": "2023-03-15T16:56:45.687Z"
   },
   {
    "duration": 8,
    "start_time": "2023-03-15T16:56:45.874Z"
   },
   {
    "duration": 15,
    "start_time": "2023-03-15T16:56:46.072Z"
   },
   {
    "duration": 77,
    "start_time": "2023-03-15T16:56:46.540Z"
   },
   {
    "duration": 265,
    "start_time": "2023-03-15T16:56:47.675Z"
   },
   {
    "duration": 22,
    "start_time": "2023-03-15T16:56:48.302Z"
   },
   {
    "duration": 49,
    "start_time": "2023-03-15T16:56:49.057Z"
   },
   {
    "duration": 6,
    "start_time": "2023-03-15T16:56:50.735Z"
   },
   {
    "duration": 7,
    "start_time": "2023-03-15T16:56:51.127Z"
   },
   {
    "duration": 27,
    "start_time": "2023-03-15T16:56:52.496Z"
   },
   {
    "duration": 5,
    "start_time": "2023-03-15T16:56:56.071Z"
   },
   {
    "duration": 6,
    "start_time": "2023-03-15T16:56:56.776Z"
   },
   {
    "duration": 7,
    "start_time": "2023-03-15T16:56:58.601Z"
   },
   {
    "duration": 1627,
    "start_time": "2023-03-16T11:37:23.888Z"
   },
   {
    "duration": 0,
    "start_time": "2023-03-16T11:37:25.519Z"
   },
   {
    "duration": 0,
    "start_time": "2023-03-16T11:37:25.520Z"
   },
   {
    "duration": 0,
    "start_time": "2023-03-16T11:37:25.521Z"
   },
   {
    "duration": 0,
    "start_time": "2023-03-16T11:37:25.523Z"
   },
   {
    "duration": 0,
    "start_time": "2023-03-16T11:37:25.525Z"
   },
   {
    "duration": 0,
    "start_time": "2023-03-16T11:37:25.526Z"
   },
   {
    "duration": 0,
    "start_time": "2023-03-16T11:37:25.527Z"
   },
   {
    "duration": 0,
    "start_time": "2023-03-16T11:37:25.529Z"
   },
   {
    "duration": 0,
    "start_time": "2023-03-16T11:37:25.531Z"
   },
   {
    "duration": 0,
    "start_time": "2023-03-16T11:37:25.532Z"
   },
   {
    "duration": 0,
    "start_time": "2023-03-16T11:37:25.534Z"
   },
   {
    "duration": 0,
    "start_time": "2023-03-16T11:37:25.535Z"
   },
   {
    "duration": 0,
    "start_time": "2023-03-16T11:37:25.537Z"
   },
   {
    "duration": 0,
    "start_time": "2023-03-16T11:37:25.539Z"
   },
   {
    "duration": 1,
    "start_time": "2023-03-16T11:37:25.540Z"
   },
   {
    "duration": 0,
    "start_time": "2023-03-16T11:37:25.542Z"
   },
   {
    "duration": 0,
    "start_time": "2023-03-16T11:37:25.544Z"
   },
   {
    "duration": 0,
    "start_time": "2023-03-16T11:37:25.545Z"
   },
   {
    "duration": 0,
    "start_time": "2023-03-16T11:37:25.591Z"
   },
   {
    "duration": 0,
    "start_time": "2023-03-16T11:37:25.592Z"
   },
   {
    "duration": 0,
    "start_time": "2023-03-16T11:37:25.594Z"
   },
   {
    "duration": 0,
    "start_time": "2023-03-16T11:37:25.595Z"
   },
   {
    "duration": 0,
    "start_time": "2023-03-16T11:37:25.597Z"
   },
   {
    "duration": 0,
    "start_time": "2023-03-16T11:37:25.599Z"
   },
   {
    "duration": 0,
    "start_time": "2023-03-16T11:37:25.600Z"
   },
   {
    "duration": 0,
    "start_time": "2023-03-16T11:37:25.601Z"
   },
   {
    "duration": 0,
    "start_time": "2023-03-16T11:37:25.602Z"
   },
   {
    "duration": 0,
    "start_time": "2023-03-16T11:37:25.603Z"
   },
   {
    "duration": 0,
    "start_time": "2023-03-16T11:37:25.605Z"
   },
   {
    "duration": 0,
    "start_time": "2023-03-16T11:37:25.606Z"
   },
   {
    "duration": 0,
    "start_time": "2023-03-16T11:37:25.607Z"
   },
   {
    "duration": 0,
    "start_time": "2023-03-16T11:37:25.608Z"
   },
   {
    "duration": 0,
    "start_time": "2023-03-16T11:37:25.610Z"
   },
   {
    "duration": 0,
    "start_time": "2023-03-16T11:37:25.612Z"
   },
   {
    "duration": 0,
    "start_time": "2023-03-16T11:37:25.613Z"
   },
   {
    "duration": 0,
    "start_time": "2023-03-16T11:37:25.615Z"
   },
   {
    "duration": 0,
    "start_time": "2023-03-16T11:37:25.616Z"
   },
   {
    "duration": 0,
    "start_time": "2023-03-16T11:37:25.617Z"
   },
   {
    "duration": 0,
    "start_time": "2023-03-16T11:37:25.618Z"
   },
   {
    "duration": 0,
    "start_time": "2023-03-16T11:37:25.620Z"
   },
   {
    "duration": 0,
    "start_time": "2023-03-16T11:37:25.621Z"
   },
   {
    "duration": 0,
    "start_time": "2023-03-16T11:37:25.622Z"
   },
   {
    "duration": 0,
    "start_time": "2023-03-16T11:37:25.623Z"
   },
   {
    "duration": 0,
    "start_time": "2023-03-16T11:37:25.624Z"
   },
   {
    "duration": 0,
    "start_time": "2023-03-16T11:37:25.625Z"
   },
   {
    "duration": 0,
    "start_time": "2023-03-16T11:37:25.690Z"
   },
   {
    "duration": 0,
    "start_time": "2023-03-16T11:37:25.691Z"
   },
   {
    "duration": 0,
    "start_time": "2023-03-16T11:37:25.692Z"
   },
   {
    "duration": 0,
    "start_time": "2023-03-16T11:37:25.693Z"
   },
   {
    "duration": 0,
    "start_time": "2023-03-16T11:37:25.695Z"
   },
   {
    "duration": 0,
    "start_time": "2023-03-16T11:37:25.696Z"
   },
   {
    "duration": 0,
    "start_time": "2023-03-16T11:37:25.697Z"
   },
   {
    "duration": 0,
    "start_time": "2023-03-16T11:37:25.699Z"
   },
   {
    "duration": 0,
    "start_time": "2023-03-16T11:37:25.700Z"
   },
   {
    "duration": 0,
    "start_time": "2023-03-16T11:37:25.701Z"
   },
   {
    "duration": 0,
    "start_time": "2023-03-16T11:37:25.702Z"
   },
   {
    "duration": 0,
    "start_time": "2023-03-16T11:37:25.704Z"
   },
   {
    "duration": 0,
    "start_time": "2023-03-16T11:37:25.705Z"
   },
   {
    "duration": 0,
    "start_time": "2023-03-16T11:37:25.706Z"
   },
   {
    "duration": 0,
    "start_time": "2023-03-16T11:37:25.707Z"
   },
   {
    "duration": 0,
    "start_time": "2023-03-16T11:37:25.709Z"
   },
   {
    "duration": 0,
    "start_time": "2023-03-16T11:37:25.710Z"
   },
   {
    "duration": 0,
    "start_time": "2023-03-16T11:37:25.711Z"
   },
   {
    "duration": 0,
    "start_time": "2023-03-16T11:37:25.712Z"
   },
   {
    "duration": 11,
    "start_time": "2023-03-16T11:38:25.087Z"
   },
   {
    "duration": 11,
    "start_time": "2023-03-16T11:38:41.742Z"
   },
   {
    "duration": 16984,
    "start_time": "2023-03-16T11:39:35.719Z"
   },
   {
    "duration": 4121,
    "start_time": "2023-03-16T11:39:55.817Z"
   },
   {
    "duration": 5,
    "start_time": "2023-03-16T11:40:12.188Z"
   },
   {
    "duration": 5,
    "start_time": "2023-03-16T11:40:22.436Z"
   },
   {
    "duration": 4,
    "start_time": "2023-03-16T11:40:26.625Z"
   },
   {
    "duration": 4,
    "start_time": "2023-03-16T11:49:17.132Z"
   },
   {
    "duration": 190,
    "start_time": "2023-03-16T11:49:17.150Z"
   },
   {
    "duration": 15,
    "start_time": "2023-03-16T11:49:17.342Z"
   },
   {
    "duration": 13,
    "start_time": "2023-03-16T11:49:17.359Z"
   },
   {
    "duration": 21,
    "start_time": "2023-03-16T11:49:17.374Z"
   },
   {
    "duration": 9,
    "start_time": "2023-03-16T11:49:17.398Z"
   },
   {
    "duration": 17,
    "start_time": "2023-03-16T11:49:17.409Z"
   },
   {
    "duration": 19,
    "start_time": "2023-03-16T11:49:17.428Z"
   },
   {
    "duration": 8,
    "start_time": "2023-03-16T11:49:17.448Z"
   },
   {
    "duration": 149,
    "start_time": "2023-03-16T11:49:17.457Z"
   },
   {
    "duration": 4,
    "start_time": "2023-03-16T11:49:17.608Z"
   },
   {
    "duration": 8,
    "start_time": "2023-03-16T11:49:17.614Z"
   },
   {
    "duration": 21,
    "start_time": "2023-03-16T11:49:17.624Z"
   },
   {
    "duration": 4,
    "start_time": "2023-03-16T11:49:17.647Z"
   },
   {
    "duration": 7,
    "start_time": "2023-03-16T11:49:17.654Z"
   },
   {
    "duration": 6,
    "start_time": "2023-03-16T11:49:17.663Z"
   },
   {
    "duration": 20,
    "start_time": "2023-03-16T11:49:17.671Z"
   },
   {
    "duration": 24,
    "start_time": "2023-03-16T11:49:17.692Z"
   },
   {
    "duration": 6,
    "start_time": "2023-03-16T11:49:17.717Z"
   },
   {
    "duration": 7,
    "start_time": "2023-03-16T11:49:17.724Z"
   },
   {
    "duration": 42,
    "start_time": "2023-03-16T11:49:17.732Z"
   },
   {
    "duration": 34,
    "start_time": "2023-03-16T11:49:17.776Z"
   },
   {
    "duration": 346,
    "start_time": "2023-03-16T11:49:17.812Z"
   },
   {
    "duration": 232,
    "start_time": "2023-03-16T11:49:18.160Z"
   },
   {
    "duration": 15,
    "start_time": "2023-03-16T11:49:18.394Z"
   },
   {
    "duration": 210,
    "start_time": "2023-03-16T11:49:18.411Z"
   },
   {
    "duration": 4,
    "start_time": "2023-03-16T11:49:18.623Z"
   },
   {
    "duration": 22,
    "start_time": "2023-03-16T11:49:18.629Z"
   },
   {
    "duration": 434,
    "start_time": "2023-03-16T11:49:18.653Z"
   },
   {
    "duration": 10,
    "start_time": "2023-03-16T11:49:19.088Z"
   },
   {
    "duration": 37,
    "start_time": "2023-03-16T11:49:19.100Z"
   },
   {
    "duration": 28,
    "start_time": "2023-03-16T11:49:19.138Z"
   },
   {
    "duration": 414,
    "start_time": "2023-03-16T11:49:19.167Z"
   },
   {
    "duration": 562,
    "start_time": "2023-03-16T11:49:19.582Z"
   },
   {
    "duration": 16,
    "start_time": "2023-03-16T11:49:20.146Z"
   },
   {
    "duration": 31,
    "start_time": "2023-03-16T11:49:20.163Z"
   },
   {
    "duration": 19,
    "start_time": "2023-03-16T11:49:20.196Z"
   },
   {
    "duration": 13,
    "start_time": "2023-03-16T11:49:20.217Z"
   },
   {
    "duration": 35,
    "start_time": "2023-03-16T11:49:20.231Z"
   },
   {
    "duration": 35,
    "start_time": "2023-03-16T11:49:20.267Z"
   },
   {
    "duration": 188,
    "start_time": "2023-03-16T11:49:20.303Z"
   },
   {
    "duration": 0,
    "start_time": "2023-03-16T11:49:20.493Z"
   },
   {
    "duration": 0,
    "start_time": "2023-03-16T11:49:20.494Z"
   },
   {
    "duration": 0,
    "start_time": "2023-03-16T11:49:20.496Z"
   },
   {
    "duration": 0,
    "start_time": "2023-03-16T11:49:20.497Z"
   },
   {
    "duration": 0,
    "start_time": "2023-03-16T11:49:20.498Z"
   },
   {
    "duration": 0,
    "start_time": "2023-03-16T11:49:20.499Z"
   },
   {
    "duration": 1,
    "start_time": "2023-03-16T11:49:20.499Z"
   },
   {
    "duration": 0,
    "start_time": "2023-03-16T11:49:20.501Z"
   },
   {
    "duration": 0,
    "start_time": "2023-03-16T11:49:20.502Z"
   },
   {
    "duration": 0,
    "start_time": "2023-03-16T11:49:20.503Z"
   },
   {
    "duration": 0,
    "start_time": "2023-03-16T11:49:20.505Z"
   },
   {
    "duration": 0,
    "start_time": "2023-03-16T11:49:20.507Z"
   },
   {
    "duration": 0,
    "start_time": "2023-03-16T11:49:20.508Z"
   },
   {
    "duration": 0,
    "start_time": "2023-03-16T11:49:20.509Z"
   },
   {
    "duration": 0,
    "start_time": "2023-03-16T11:49:20.511Z"
   },
   {
    "duration": 0,
    "start_time": "2023-03-16T11:49:20.512Z"
   },
   {
    "duration": 0,
    "start_time": "2023-03-16T11:49:20.514Z"
   },
   {
    "duration": 0,
    "start_time": "2023-03-16T11:49:20.515Z"
   },
   {
    "duration": 0,
    "start_time": "2023-03-16T11:49:20.517Z"
   },
   {
    "duration": 0,
    "start_time": "2023-03-16T11:49:20.518Z"
   },
   {
    "duration": 0,
    "start_time": "2023-03-16T11:49:20.519Z"
   },
   {
    "duration": 0,
    "start_time": "2023-03-16T11:49:20.521Z"
   },
   {
    "duration": 0,
    "start_time": "2023-03-16T11:49:20.522Z"
   },
   {
    "duration": 0,
    "start_time": "2023-03-16T11:49:20.523Z"
   },
   {
    "duration": 59,
    "start_time": "2023-03-16T11:52:28.183Z"
   },
   {
    "duration": 23,
    "start_time": "2023-03-16T12:04:11.115Z"
   },
   {
    "duration": 67,
    "start_time": "2023-03-16T12:04:20.450Z"
   },
   {
    "duration": 22,
    "start_time": "2023-03-16T12:04:25.484Z"
   },
   {
    "duration": 696,
    "start_time": "2023-03-16T12:09:58.586Z"
   },
   {
    "duration": 696,
    "start_time": "2023-03-16T12:10:10.045Z"
   },
   {
    "duration": 1058,
    "start_time": "2023-03-16T12:13:06.040Z"
   },
   {
    "duration": 822,
    "start_time": "2023-03-16T12:13:10.889Z"
   },
   {
    "duration": 55,
    "start_time": "2023-03-16T12:13:26.607Z"
   },
   {
    "duration": 54,
    "start_time": "2023-03-16T12:13:36.026Z"
   },
   {
    "duration": 659,
    "start_time": "2023-03-16T12:16:32.947Z"
   },
   {
    "duration": 10,
    "start_time": "2023-03-16T12:17:06.104Z"
   },
   {
    "duration": 13,
    "start_time": "2023-03-16T12:17:15.487Z"
   },
   {
    "duration": 17,
    "start_time": "2023-03-16T12:17:36.350Z"
   },
   {
    "duration": 15,
    "start_time": "2023-03-16T12:27:00.107Z"
   },
   {
    "duration": 13,
    "start_time": "2023-03-16T12:28:19.936Z"
   },
   {
    "duration": 13,
    "start_time": "2023-03-16T12:29:17.015Z"
   },
   {
    "duration": 15,
    "start_time": "2023-03-16T12:29:32.428Z"
   },
   {
    "duration": 14,
    "start_time": "2023-03-16T12:30:15.883Z"
   },
   {
    "duration": 12,
    "start_time": "2023-03-16T12:30:34.681Z"
   },
   {
    "duration": 94,
    "start_time": "2023-03-16T12:31:56.196Z"
   },
   {
    "duration": 13,
    "start_time": "2023-03-16T12:34:05.828Z"
   },
   {
    "duration": 13,
    "start_time": "2023-03-16T12:35:59.685Z"
   },
   {
    "duration": 13,
    "start_time": "2023-03-16T12:37:13.929Z"
   },
   {
    "duration": 12,
    "start_time": "2023-03-16T12:37:59.635Z"
   },
   {
    "duration": 4,
    "start_time": "2023-03-16T12:38:13.611Z"
   },
   {
    "duration": 2,
    "start_time": "2023-03-16T12:38:19.942Z"
   },
   {
    "duration": 29,
    "start_time": "2023-03-16T12:38:23.606Z"
   },
   {
    "duration": 19,
    "start_time": "2023-03-16T12:38:27.350Z"
   },
   {
    "duration": 14,
    "start_time": "2023-03-16T12:38:34.087Z"
   },
   {
    "duration": 16,
    "start_time": "2023-03-16T12:38:49.510Z"
   },
   {
    "duration": 716,
    "start_time": "2023-03-16T12:42:58.514Z"
   },
   {
    "duration": 4,
    "start_time": "2023-03-16T12:43:31.593Z"
   },
   {
    "duration": 88,
    "start_time": "2023-03-16T12:43:31.600Z"
   },
   {
    "duration": 10,
    "start_time": "2023-03-16T12:43:31.690Z"
   },
   {
    "duration": 21,
    "start_time": "2023-03-16T12:43:31.702Z"
   },
   {
    "duration": 25,
    "start_time": "2023-03-16T12:43:31.725Z"
   },
   {
    "duration": 10,
    "start_time": "2023-03-16T12:43:31.751Z"
   },
   {
    "duration": 39,
    "start_time": "2023-03-16T12:43:31.762Z"
   },
   {
    "duration": 21,
    "start_time": "2023-03-16T12:43:31.803Z"
   },
   {
    "duration": 15,
    "start_time": "2023-03-16T12:43:31.825Z"
   },
   {
    "duration": 124,
    "start_time": "2023-03-16T12:43:31.841Z"
   },
   {
    "duration": 5,
    "start_time": "2023-03-16T12:43:31.969Z"
   },
   {
    "duration": 21,
    "start_time": "2023-03-16T12:43:31.976Z"
   },
   {
    "duration": 20,
    "start_time": "2023-03-16T12:43:31.999Z"
   },
   {
    "duration": 27,
    "start_time": "2023-03-16T12:43:32.021Z"
   },
   {
    "duration": 15,
    "start_time": "2023-03-16T12:43:32.050Z"
   },
   {
    "duration": 26,
    "start_time": "2023-03-16T12:43:32.067Z"
   },
   {
    "duration": 14,
    "start_time": "2023-03-16T12:43:32.094Z"
   },
   {
    "duration": 18,
    "start_time": "2023-03-16T12:43:32.110Z"
   },
   {
    "duration": 6,
    "start_time": "2023-03-16T12:43:32.130Z"
   },
   {
    "duration": 9,
    "start_time": "2023-03-16T12:43:32.137Z"
   },
   {
    "duration": 172,
    "start_time": "2023-03-16T12:43:32.147Z"
   },
   {
    "duration": 30,
    "start_time": "2023-03-16T12:43:32.321Z"
   },
   {
    "duration": 279,
    "start_time": "2023-03-16T12:43:32.353Z"
   },
   {
    "duration": 236,
    "start_time": "2023-03-16T12:43:32.634Z"
   },
   {
    "duration": 29,
    "start_time": "2023-03-16T12:43:32.872Z"
   },
   {
    "duration": 214,
    "start_time": "2023-03-16T12:43:32.903Z"
   },
   {
    "duration": 5,
    "start_time": "2023-03-16T12:43:33.119Z"
   },
   {
    "duration": 5,
    "start_time": "2023-03-16T12:43:33.130Z"
   },
   {
    "duration": 481,
    "start_time": "2023-03-16T12:43:33.137Z"
   },
   {
    "duration": 9,
    "start_time": "2023-03-16T12:43:33.619Z"
   },
   {
    "duration": 24,
    "start_time": "2023-03-16T12:43:33.630Z"
   },
   {
    "duration": 40,
    "start_time": "2023-03-16T12:43:33.656Z"
   },
   {
    "duration": 73,
    "start_time": "2023-03-16T12:43:33.697Z"
   },
   {
    "duration": 499,
    "start_time": "2023-03-16T12:43:33.772Z"
   },
   {
    "duration": 27,
    "start_time": "2023-03-16T12:43:34.273Z"
   },
   {
    "duration": 16,
    "start_time": "2023-03-16T12:43:34.302Z"
   },
   {
    "duration": 29,
    "start_time": "2023-03-16T12:43:34.320Z"
   },
   {
    "duration": 4,
    "start_time": "2023-03-16T12:43:34.351Z"
   },
   {
    "duration": 45,
    "start_time": "2023-03-16T12:43:34.356Z"
   },
   {
    "duration": 26,
    "start_time": "2023-03-16T12:43:34.403Z"
   },
   {
    "duration": 1613,
    "start_time": "2023-03-16T12:43:34.432Z"
   },
   {
    "duration": 0,
    "start_time": "2023-03-16T12:43:36.047Z"
   },
   {
    "duration": 0,
    "start_time": "2023-03-16T12:43:36.048Z"
   },
   {
    "duration": 0,
    "start_time": "2023-03-16T12:43:36.050Z"
   },
   {
    "duration": 0,
    "start_time": "2023-03-16T12:43:36.050Z"
   },
   {
    "duration": 0,
    "start_time": "2023-03-16T12:43:36.052Z"
   },
   {
    "duration": 0,
    "start_time": "2023-03-16T12:43:36.053Z"
   },
   {
    "duration": 0,
    "start_time": "2023-03-16T12:43:36.054Z"
   },
   {
    "duration": 0,
    "start_time": "2023-03-16T12:43:36.055Z"
   },
   {
    "duration": 0,
    "start_time": "2023-03-16T12:43:36.056Z"
   },
   {
    "duration": 0,
    "start_time": "2023-03-16T12:43:36.057Z"
   },
   {
    "duration": 0,
    "start_time": "2023-03-16T12:43:36.058Z"
   },
   {
    "duration": 0,
    "start_time": "2023-03-16T12:43:36.059Z"
   },
   {
    "duration": 0,
    "start_time": "2023-03-16T12:43:36.060Z"
   },
   {
    "duration": 0,
    "start_time": "2023-03-16T12:43:36.061Z"
   },
   {
    "duration": 0,
    "start_time": "2023-03-16T12:43:36.062Z"
   },
   {
    "duration": 0,
    "start_time": "2023-03-16T12:43:36.063Z"
   },
   {
    "duration": 0,
    "start_time": "2023-03-16T12:43:36.064Z"
   },
   {
    "duration": 0,
    "start_time": "2023-03-16T12:43:36.065Z"
   },
   {
    "duration": 0,
    "start_time": "2023-03-16T12:43:36.066Z"
   },
   {
    "duration": 0,
    "start_time": "2023-03-16T12:43:36.067Z"
   },
   {
    "duration": 0,
    "start_time": "2023-03-16T12:43:36.068Z"
   },
   {
    "duration": 0,
    "start_time": "2023-03-16T12:43:36.069Z"
   },
   {
    "duration": 0,
    "start_time": "2023-03-16T12:43:36.070Z"
   },
   {
    "duration": 0,
    "start_time": "2023-03-16T12:43:36.071Z"
   },
   {
    "duration": 1553,
    "start_time": "2023-03-16T13:53:29.156Z"
   },
   {
    "duration": 0,
    "start_time": "2023-03-16T13:53:30.712Z"
   },
   {
    "duration": 0,
    "start_time": "2023-03-16T13:53:30.713Z"
   },
   {
    "duration": 0,
    "start_time": "2023-03-16T13:53:30.714Z"
   },
   {
    "duration": 0,
    "start_time": "2023-03-16T13:53:30.716Z"
   },
   {
    "duration": 0,
    "start_time": "2023-03-16T13:53:30.717Z"
   },
   {
    "duration": 0,
    "start_time": "2023-03-16T13:53:30.718Z"
   },
   {
    "duration": 0,
    "start_time": "2023-03-16T13:53:30.719Z"
   },
   {
    "duration": 0,
    "start_time": "2023-03-16T13:53:30.720Z"
   },
   {
    "duration": 0,
    "start_time": "2023-03-16T13:53:30.721Z"
   },
   {
    "duration": 0,
    "start_time": "2023-03-16T13:53:30.722Z"
   },
   {
    "duration": 0,
    "start_time": "2023-03-16T13:53:30.723Z"
   },
   {
    "duration": 0,
    "start_time": "2023-03-16T13:53:30.724Z"
   },
   {
    "duration": 0,
    "start_time": "2023-03-16T13:53:30.725Z"
   },
   {
    "duration": 0,
    "start_time": "2023-03-16T13:53:30.726Z"
   },
   {
    "duration": 0,
    "start_time": "2023-03-16T13:53:30.727Z"
   },
   {
    "duration": 0,
    "start_time": "2023-03-16T13:53:30.728Z"
   },
   {
    "duration": 0,
    "start_time": "2023-03-16T13:53:30.729Z"
   },
   {
    "duration": 0,
    "start_time": "2023-03-16T13:53:30.730Z"
   },
   {
    "duration": 0,
    "start_time": "2023-03-16T13:53:30.731Z"
   },
   {
    "duration": 0,
    "start_time": "2023-03-16T13:53:30.733Z"
   },
   {
    "duration": 0,
    "start_time": "2023-03-16T13:53:30.734Z"
   },
   {
    "duration": 0,
    "start_time": "2023-03-16T13:53:30.769Z"
   },
   {
    "duration": 0,
    "start_time": "2023-03-16T13:53:30.771Z"
   },
   {
    "duration": 0,
    "start_time": "2023-03-16T13:53:30.772Z"
   },
   {
    "duration": 0,
    "start_time": "2023-03-16T13:53:30.773Z"
   },
   {
    "duration": 0,
    "start_time": "2023-03-16T13:53:30.774Z"
   },
   {
    "duration": 0,
    "start_time": "2023-03-16T13:53:30.775Z"
   },
   {
    "duration": 0,
    "start_time": "2023-03-16T13:53:30.776Z"
   },
   {
    "duration": 0,
    "start_time": "2023-03-16T13:53:30.777Z"
   },
   {
    "duration": 0,
    "start_time": "2023-03-16T13:53:30.778Z"
   },
   {
    "duration": 0,
    "start_time": "2023-03-16T13:53:30.779Z"
   },
   {
    "duration": 0,
    "start_time": "2023-03-16T13:53:30.781Z"
   },
   {
    "duration": 0,
    "start_time": "2023-03-16T13:53:30.782Z"
   },
   {
    "duration": 0,
    "start_time": "2023-03-16T13:53:30.783Z"
   },
   {
    "duration": 0,
    "start_time": "2023-03-16T13:53:30.784Z"
   },
   {
    "duration": 0,
    "start_time": "2023-03-16T13:53:30.785Z"
   },
   {
    "duration": 0,
    "start_time": "2023-03-16T13:53:30.786Z"
   },
   {
    "duration": 0,
    "start_time": "2023-03-16T13:53:30.787Z"
   },
   {
    "duration": 0,
    "start_time": "2023-03-16T13:53:30.788Z"
   },
   {
    "duration": 0,
    "start_time": "2023-03-16T13:53:30.789Z"
   },
   {
    "duration": 0,
    "start_time": "2023-03-16T13:53:30.789Z"
   },
   {
    "duration": 0,
    "start_time": "2023-03-16T13:53:30.790Z"
   },
   {
    "duration": 0,
    "start_time": "2023-03-16T13:53:30.791Z"
   },
   {
    "duration": 0,
    "start_time": "2023-03-16T13:53:30.792Z"
   },
   {
    "duration": 0,
    "start_time": "2023-03-16T13:53:30.793Z"
   },
   {
    "duration": 0,
    "start_time": "2023-03-16T13:53:30.794Z"
   },
   {
    "duration": 0,
    "start_time": "2023-03-16T13:53:30.795Z"
   },
   {
    "duration": 0,
    "start_time": "2023-03-16T13:53:30.796Z"
   },
   {
    "duration": 0,
    "start_time": "2023-03-16T13:53:30.797Z"
   },
   {
    "duration": 0,
    "start_time": "2023-03-16T13:53:30.798Z"
   },
   {
    "duration": 0,
    "start_time": "2023-03-16T13:53:30.799Z"
   },
   {
    "duration": 0,
    "start_time": "2023-03-16T13:53:30.800Z"
   },
   {
    "duration": 0,
    "start_time": "2023-03-16T13:53:30.801Z"
   },
   {
    "duration": 0,
    "start_time": "2023-03-16T13:53:30.802Z"
   },
   {
    "duration": 0,
    "start_time": "2023-03-16T13:53:30.803Z"
   },
   {
    "duration": 0,
    "start_time": "2023-03-16T13:53:30.803Z"
   },
   {
    "duration": 0,
    "start_time": "2023-03-16T13:53:30.804Z"
   },
   {
    "duration": 0,
    "start_time": "2023-03-16T13:53:30.869Z"
   },
   {
    "duration": 0,
    "start_time": "2023-03-16T13:53:30.870Z"
   },
   {
    "duration": 0,
    "start_time": "2023-03-16T13:53:30.871Z"
   },
   {
    "duration": 0,
    "start_time": "2023-03-16T13:53:30.872Z"
   },
   {
    "duration": 0,
    "start_time": "2023-03-16T13:53:30.873Z"
   },
   {
    "duration": 0,
    "start_time": "2023-03-16T13:53:30.875Z"
   },
   {
    "duration": 0,
    "start_time": "2023-03-16T13:53:30.876Z"
   },
   {
    "duration": 11,
    "start_time": "2023-03-16T13:53:36.269Z"
   },
   {
    "duration": 0,
    "start_time": "2023-03-16T13:53:36.282Z"
   },
   {
    "duration": 0,
    "start_time": "2023-03-16T13:53:36.283Z"
   },
   {
    "duration": 0,
    "start_time": "2023-03-16T13:53:36.285Z"
   },
   {
    "duration": 0,
    "start_time": "2023-03-16T13:53:36.286Z"
   },
   {
    "duration": 0,
    "start_time": "2023-03-16T13:53:36.287Z"
   },
   {
    "duration": 0,
    "start_time": "2023-03-16T13:53:36.289Z"
   },
   {
    "duration": 9,
    "start_time": "2023-03-16T13:53:36.292Z"
   },
   {
    "duration": 0,
    "start_time": "2023-03-16T13:53:36.303Z"
   },
   {
    "duration": 0,
    "start_time": "2023-03-16T13:53:36.304Z"
   },
   {
    "duration": 0,
    "start_time": "2023-03-16T13:53:36.305Z"
   },
   {
    "duration": 0,
    "start_time": "2023-03-16T13:53:36.307Z"
   },
   {
    "duration": 0,
    "start_time": "2023-03-16T13:53:36.308Z"
   },
   {
    "duration": 0,
    "start_time": "2023-03-16T13:53:36.309Z"
   },
   {
    "duration": 0,
    "start_time": "2023-03-16T13:53:36.309Z"
   },
   {
    "duration": 0,
    "start_time": "2023-03-16T13:53:36.310Z"
   },
   {
    "duration": 0,
    "start_time": "2023-03-16T13:53:36.311Z"
   },
   {
    "duration": 0,
    "start_time": "2023-03-16T13:53:36.312Z"
   },
   {
    "duration": 0,
    "start_time": "2023-03-16T13:53:36.313Z"
   },
   {
    "duration": 0,
    "start_time": "2023-03-16T13:53:36.369Z"
   },
   {
    "duration": 9,
    "start_time": "2023-03-16T13:53:36.372Z"
   },
   {
    "duration": 0,
    "start_time": "2023-03-16T13:53:36.383Z"
   },
   {
    "duration": 0,
    "start_time": "2023-03-16T13:53:36.385Z"
   },
   {
    "duration": 0,
    "start_time": "2023-03-16T13:53:36.386Z"
   },
   {
    "duration": 0,
    "start_time": "2023-03-16T13:53:36.387Z"
   },
   {
    "duration": 0,
    "start_time": "2023-03-16T13:53:36.388Z"
   },
   {
    "duration": 0,
    "start_time": "2023-03-16T13:53:36.389Z"
   },
   {
    "duration": 0,
    "start_time": "2023-03-16T13:53:36.390Z"
   },
   {
    "duration": 0,
    "start_time": "2023-03-16T13:53:36.392Z"
   },
   {
    "duration": 0,
    "start_time": "2023-03-16T13:53:36.393Z"
   },
   {
    "duration": 0,
    "start_time": "2023-03-16T13:53:36.394Z"
   },
   {
    "duration": 0,
    "start_time": "2023-03-16T13:53:36.396Z"
   },
   {
    "duration": 0,
    "start_time": "2023-03-16T13:53:36.397Z"
   },
   {
    "duration": 0,
    "start_time": "2023-03-16T13:53:36.398Z"
   },
   {
    "duration": 0,
    "start_time": "2023-03-16T13:53:36.399Z"
   },
   {
    "duration": 0,
    "start_time": "2023-03-16T13:53:36.400Z"
   },
   {
    "duration": 0,
    "start_time": "2023-03-16T13:53:36.401Z"
   },
   {
    "duration": 0,
    "start_time": "2023-03-16T13:53:36.402Z"
   },
   {
    "duration": 0,
    "start_time": "2023-03-16T13:53:36.403Z"
   },
   {
    "duration": 0,
    "start_time": "2023-03-16T13:53:36.404Z"
   },
   {
    "duration": 0,
    "start_time": "2023-03-16T13:53:36.405Z"
   },
   {
    "duration": 0,
    "start_time": "2023-03-16T13:53:36.406Z"
   },
   {
    "duration": 0,
    "start_time": "2023-03-16T13:53:36.469Z"
   },
   {
    "duration": 0,
    "start_time": "2023-03-16T13:53:36.470Z"
   },
   {
    "duration": 0,
    "start_time": "2023-03-16T13:53:36.472Z"
   },
   {
    "duration": 0,
    "start_time": "2023-03-16T13:53:36.473Z"
   },
   {
    "duration": 0,
    "start_time": "2023-03-16T13:53:36.475Z"
   },
   {
    "duration": 0,
    "start_time": "2023-03-16T13:53:36.476Z"
   },
   {
    "duration": 0,
    "start_time": "2023-03-16T13:53:36.477Z"
   },
   {
    "duration": 0,
    "start_time": "2023-03-16T13:53:36.478Z"
   },
   {
    "duration": 0,
    "start_time": "2023-03-16T13:53:36.479Z"
   },
   {
    "duration": 0,
    "start_time": "2023-03-16T13:53:36.480Z"
   },
   {
    "duration": 0,
    "start_time": "2023-03-16T13:53:36.482Z"
   },
   {
    "duration": 0,
    "start_time": "2023-03-16T13:53:36.483Z"
   },
   {
    "duration": 0,
    "start_time": "2023-03-16T13:53:36.484Z"
   },
   {
    "duration": 0,
    "start_time": "2023-03-16T13:53:36.486Z"
   },
   {
    "duration": 0,
    "start_time": "2023-03-16T13:53:36.487Z"
   },
   {
    "duration": 0,
    "start_time": "2023-03-16T13:53:36.488Z"
   },
   {
    "duration": 0,
    "start_time": "2023-03-16T13:53:36.489Z"
   },
   {
    "duration": 0,
    "start_time": "2023-03-16T13:53:36.490Z"
   },
   {
    "duration": 0,
    "start_time": "2023-03-16T13:53:36.492Z"
   },
   {
    "duration": 0,
    "start_time": "2023-03-16T13:53:36.493Z"
   },
   {
    "duration": 0,
    "start_time": "2023-03-16T13:53:36.494Z"
   },
   {
    "duration": 0,
    "start_time": "2023-03-16T13:53:36.495Z"
   },
   {
    "duration": 8,
    "start_time": "2023-03-16T13:53:36.498Z"
   },
   {
    "duration": 9,
    "start_time": "2023-03-16T13:54:23.754Z"
   },
   {
    "duration": 13,
    "start_time": "2023-03-16T13:54:27.868Z"
   },
   {
    "duration": 0,
    "start_time": "2023-03-16T13:54:27.883Z"
   },
   {
    "duration": 0,
    "start_time": "2023-03-16T13:54:27.884Z"
   },
   {
    "duration": 8,
    "start_time": "2023-03-16T13:54:27.916Z"
   },
   {
    "duration": 0,
    "start_time": "2023-03-16T13:54:27.926Z"
   },
   {
    "duration": 0,
    "start_time": "2023-03-16T13:54:27.928Z"
   },
   {
    "duration": 0,
    "start_time": "2023-03-16T13:54:27.930Z"
   },
   {
    "duration": 0,
    "start_time": "2023-03-16T13:54:27.931Z"
   },
   {
    "duration": 0,
    "start_time": "2023-03-16T13:54:27.932Z"
   },
   {
    "duration": 0,
    "start_time": "2023-03-16T13:54:27.935Z"
   },
   {
    "duration": 9,
    "start_time": "2023-03-16T13:54:27.959Z"
   },
   {
    "duration": 0,
    "start_time": "2023-03-16T13:54:27.980Z"
   },
   {
    "duration": 0,
    "start_time": "2023-03-16T13:54:27.982Z"
   },
   {
    "duration": 0,
    "start_time": "2023-03-16T13:54:27.983Z"
   },
   {
    "duration": 0,
    "start_time": "2023-03-16T13:54:27.984Z"
   },
   {
    "duration": 0,
    "start_time": "2023-03-16T13:54:27.985Z"
   },
   {
    "duration": 0,
    "start_time": "2023-03-16T13:54:27.986Z"
   },
   {
    "duration": 0,
    "start_time": "2023-03-16T13:54:27.990Z"
   },
   {
    "duration": 0,
    "start_time": "2023-03-16T13:54:27.991Z"
   },
   {
    "duration": 0,
    "start_time": "2023-03-16T13:54:27.992Z"
   },
   {
    "duration": 0,
    "start_time": "2023-03-16T13:54:27.993Z"
   },
   {
    "duration": 0,
    "start_time": "2023-03-16T13:54:27.994Z"
   },
   {
    "duration": 0,
    "start_time": "2023-03-16T13:54:27.995Z"
   },
   {
    "duration": 167,
    "start_time": "2023-03-16T13:54:28.017Z"
   },
   {
    "duration": 0,
    "start_time": "2023-03-16T13:54:28.187Z"
   },
   {
    "duration": 0,
    "start_time": "2023-03-16T13:54:28.188Z"
   },
   {
    "duration": 0,
    "start_time": "2023-03-16T13:54:28.190Z"
   },
   {
    "duration": 0,
    "start_time": "2023-03-16T13:54:28.192Z"
   },
   {
    "duration": 0,
    "start_time": "2023-03-16T13:54:28.193Z"
   },
   {
    "duration": 0,
    "start_time": "2023-03-16T13:54:28.194Z"
   },
   {
    "duration": 0,
    "start_time": "2023-03-16T13:54:28.195Z"
   },
   {
    "duration": 0,
    "start_time": "2023-03-16T13:54:28.197Z"
   },
   {
    "duration": 0,
    "start_time": "2023-03-16T13:54:28.198Z"
   },
   {
    "duration": 0,
    "start_time": "2023-03-16T13:54:28.199Z"
   },
   {
    "duration": 0,
    "start_time": "2023-03-16T13:54:28.200Z"
   },
   {
    "duration": 0,
    "start_time": "2023-03-16T13:54:28.201Z"
   },
   {
    "duration": 0,
    "start_time": "2023-03-16T13:54:28.203Z"
   },
   {
    "duration": 0,
    "start_time": "2023-03-16T13:54:28.204Z"
   },
   {
    "duration": 0,
    "start_time": "2023-03-16T13:54:28.205Z"
   },
   {
    "duration": 0,
    "start_time": "2023-03-16T13:54:28.206Z"
   },
   {
    "duration": 0,
    "start_time": "2023-03-16T13:54:28.211Z"
   },
   {
    "duration": 0,
    "start_time": "2023-03-16T13:54:28.214Z"
   },
   {
    "duration": 0,
    "start_time": "2023-03-16T13:54:28.216Z"
   },
   {
    "duration": 0,
    "start_time": "2023-03-16T13:54:28.217Z"
   },
   {
    "duration": 0,
    "start_time": "2023-03-16T13:54:28.218Z"
   },
   {
    "duration": 0,
    "start_time": "2023-03-16T13:54:28.275Z"
   },
   {
    "duration": 22,
    "start_time": "2023-03-16T13:54:28.281Z"
   },
   {
    "duration": 0,
    "start_time": "2023-03-16T13:54:28.305Z"
   },
   {
    "duration": 0,
    "start_time": "2023-03-16T13:54:28.306Z"
   },
   {
    "duration": 0,
    "start_time": "2023-03-16T13:54:28.308Z"
   },
   {
    "duration": 0,
    "start_time": "2023-03-16T13:54:28.309Z"
   },
   {
    "duration": 0,
    "start_time": "2023-03-16T13:54:28.310Z"
   },
   {
    "duration": 0,
    "start_time": "2023-03-16T13:54:28.313Z"
   },
   {
    "duration": 0,
    "start_time": "2023-03-16T13:54:28.314Z"
   },
   {
    "duration": 0,
    "start_time": "2023-03-16T13:54:28.316Z"
   },
   {
    "duration": 0,
    "start_time": "2023-03-16T13:54:28.317Z"
   },
   {
    "duration": 0,
    "start_time": "2023-03-16T13:54:28.319Z"
   },
   {
    "duration": 0,
    "start_time": "2023-03-16T13:54:28.320Z"
   },
   {
    "duration": 0,
    "start_time": "2023-03-16T13:54:28.373Z"
   },
   {
    "duration": 0,
    "start_time": "2023-03-16T13:54:28.374Z"
   },
   {
    "duration": 0,
    "start_time": "2023-03-16T13:54:28.375Z"
   },
   {
    "duration": 0,
    "start_time": "2023-03-16T13:54:28.376Z"
   },
   {
    "duration": 0,
    "start_time": "2023-03-16T13:54:28.376Z"
   },
   {
    "duration": 0,
    "start_time": "2023-03-16T13:54:28.377Z"
   },
   {
    "duration": 0,
    "start_time": "2023-03-16T13:54:28.379Z"
   },
   {
    "duration": 9,
    "start_time": "2023-03-16T13:55:10.960Z"
   },
   {
    "duration": 10,
    "start_time": "2023-03-16T13:55:18.648Z"
   },
   {
    "duration": 10,
    "start_time": "2023-03-16T13:56:42.814Z"
   },
   {
    "duration": 10,
    "start_time": "2023-03-16T14:03:19.888Z"
   },
   {
    "duration": 3697,
    "start_time": "2023-03-16T14:04:33.282Z"
   },
   {
    "duration": 101,
    "start_time": "2023-03-16T14:04:36.981Z"
   },
   {
    "duration": 15,
    "start_time": "2023-03-16T14:04:37.084Z"
   },
   {
    "duration": 13,
    "start_time": "2023-03-16T14:04:37.100Z"
   },
   {
    "duration": 25,
    "start_time": "2023-03-16T14:04:37.114Z"
   },
   {
    "duration": 8,
    "start_time": "2023-03-16T14:04:37.141Z"
   },
   {
    "duration": 41,
    "start_time": "2023-03-16T14:04:37.152Z"
   },
   {
    "duration": 21,
    "start_time": "2023-03-16T14:04:37.195Z"
   },
   {
    "duration": 9,
    "start_time": "2023-03-16T14:04:37.220Z"
   },
   {
    "duration": 155,
    "start_time": "2023-03-16T14:04:37.231Z"
   },
   {
    "duration": 6,
    "start_time": "2023-03-16T14:04:37.388Z"
   },
   {
    "duration": 10,
    "start_time": "2023-03-16T14:04:37.395Z"
   },
   {
    "duration": 17,
    "start_time": "2023-03-16T14:04:37.407Z"
   },
   {
    "duration": 3,
    "start_time": "2023-03-16T14:04:37.426Z"
   },
   {
    "duration": 13,
    "start_time": "2023-03-16T14:04:37.431Z"
   },
   {
    "duration": 7,
    "start_time": "2023-03-16T14:04:37.446Z"
   },
   {
    "duration": 27,
    "start_time": "2023-03-16T14:04:37.455Z"
   },
   {
    "duration": 17,
    "start_time": "2023-03-16T14:04:37.483Z"
   },
   {
    "duration": 13,
    "start_time": "2023-03-16T14:04:37.502Z"
   },
   {
    "duration": 126,
    "start_time": "2023-03-16T14:04:37.517Z"
   },
   {
    "duration": 43,
    "start_time": "2023-03-16T14:04:37.645Z"
   },
   {
    "duration": 39,
    "start_time": "2023-03-16T14:04:37.690Z"
   },
   {
    "duration": 256,
    "start_time": "2023-03-16T14:04:37.730Z"
   },
   {
    "duration": 233,
    "start_time": "2023-03-16T14:04:37.988Z"
   },
   {
    "duration": 15,
    "start_time": "2023-03-16T14:04:38.223Z"
   },
   {
    "duration": 208,
    "start_time": "2023-03-16T14:04:38.239Z"
   },
   {
    "duration": 5,
    "start_time": "2023-03-16T14:04:38.451Z"
   },
   {
    "duration": 29,
    "start_time": "2023-03-16T14:04:38.458Z"
   },
   {
    "duration": 419,
    "start_time": "2023-03-16T14:04:38.488Z"
   },
   {
    "duration": 9,
    "start_time": "2023-03-16T14:04:38.909Z"
   },
   {
    "duration": 19,
    "start_time": "2023-03-16T14:04:38.919Z"
   },
   {
    "duration": 35,
    "start_time": "2023-03-16T14:04:38.940Z"
   },
   {
    "duration": 421,
    "start_time": "2023-03-16T14:04:38.977Z"
   },
   {
    "duration": 645,
    "start_time": "2023-03-16T14:04:39.400Z"
   },
   {
    "duration": 32,
    "start_time": "2023-03-16T14:04:40.048Z"
   },
   {
    "duration": 21,
    "start_time": "2023-03-16T14:04:40.083Z"
   },
   {
    "duration": 15,
    "start_time": "2023-03-16T14:04:40.105Z"
   },
   {
    "duration": 9,
    "start_time": "2023-03-16T14:04:40.122Z"
   },
   {
    "duration": 42,
    "start_time": "2023-03-16T14:04:40.133Z"
   },
   {
    "duration": 21,
    "start_time": "2023-03-16T14:04:40.177Z"
   },
   {
    "duration": 507,
    "start_time": "2023-03-16T14:04:40.200Z"
   },
   {
    "duration": 0,
    "start_time": "2023-03-16T14:04:40.709Z"
   },
   {
    "duration": 0,
    "start_time": "2023-03-16T14:04:40.710Z"
   },
   {
    "duration": 0,
    "start_time": "2023-03-16T14:04:40.712Z"
   },
   {
    "duration": 0,
    "start_time": "2023-03-16T14:04:40.713Z"
   },
   {
    "duration": 0,
    "start_time": "2023-03-16T14:04:40.714Z"
   },
   {
    "duration": 0,
    "start_time": "2023-03-16T14:04:40.716Z"
   },
   {
    "duration": 0,
    "start_time": "2023-03-16T14:04:40.717Z"
   },
   {
    "duration": 0,
    "start_time": "2023-03-16T14:04:40.717Z"
   },
   {
    "duration": 0,
    "start_time": "2023-03-16T14:04:40.719Z"
   },
   {
    "duration": 0,
    "start_time": "2023-03-16T14:04:40.720Z"
   },
   {
    "duration": 0,
    "start_time": "2023-03-16T14:04:40.721Z"
   },
   {
    "duration": 0,
    "start_time": "2023-03-16T14:04:40.722Z"
   },
   {
    "duration": 0,
    "start_time": "2023-03-16T14:04:40.724Z"
   },
   {
    "duration": 0,
    "start_time": "2023-03-16T14:04:40.725Z"
   },
   {
    "duration": 0,
    "start_time": "2023-03-16T14:04:40.726Z"
   },
   {
    "duration": 0,
    "start_time": "2023-03-16T14:04:40.727Z"
   },
   {
    "duration": 0,
    "start_time": "2023-03-16T14:04:40.728Z"
   },
   {
    "duration": 0,
    "start_time": "2023-03-16T14:04:40.730Z"
   },
   {
    "duration": 0,
    "start_time": "2023-03-16T14:04:40.731Z"
   },
   {
    "duration": 0,
    "start_time": "2023-03-16T14:04:40.732Z"
   },
   {
    "duration": 0,
    "start_time": "2023-03-16T14:04:40.733Z"
   },
   {
    "duration": 0,
    "start_time": "2023-03-16T14:04:40.734Z"
   },
   {
    "duration": 0,
    "start_time": "2023-03-16T14:04:40.736Z"
   },
   {
    "duration": 0,
    "start_time": "2023-03-16T14:04:40.737Z"
   },
   {
    "duration": 452,
    "start_time": "2023-03-16T14:06:37.735Z"
   },
   {
    "duration": 58,
    "start_time": "2023-03-16T14:06:56.308Z"
   },
   {
    "duration": 4,
    "start_time": "2023-03-16T14:08:10.337Z"
   },
   {
    "duration": 5,
    "start_time": "2023-03-16T14:08:19.596Z"
   },
   {
    "duration": 14,
    "start_time": "2023-03-16T14:08:39.513Z"
   },
   {
    "duration": 423,
    "start_time": "2023-03-16T14:09:44.449Z"
   },
   {
    "duration": 55,
    "start_time": "2023-03-16T14:10:20.629Z"
   },
   {
    "duration": 56,
    "start_time": "2023-03-16T14:13:19.727Z"
   },
   {
    "duration": 63,
    "start_time": "2023-03-16T14:14:26.767Z"
   },
   {
    "duration": 425,
    "start_time": "2023-03-16T14:19:19.256Z"
   },
   {
    "duration": 478,
    "start_time": "2023-03-16T14:22:54.414Z"
   },
   {
    "duration": 476,
    "start_time": "2023-03-16T14:23:03.454Z"
   },
   {
    "duration": 478,
    "start_time": "2023-03-16T14:23:33.502Z"
   },
   {
    "duration": 649,
    "start_time": "2023-03-16T14:26:14.247Z"
   },
   {
    "duration": 3896,
    "start_time": "2023-03-16T14:26:31.211Z"
   },
   {
    "duration": 46,
    "start_time": "2023-03-16T14:26:35.109Z"
   },
   {
    "duration": 10,
    "start_time": "2023-03-16T14:26:35.156Z"
   },
   {
    "duration": 18,
    "start_time": "2023-03-16T14:26:35.167Z"
   },
   {
    "duration": 23,
    "start_time": "2023-03-16T14:26:35.188Z"
   },
   {
    "duration": 11,
    "start_time": "2023-03-16T14:26:35.213Z"
   },
   {
    "duration": 20,
    "start_time": "2023-03-16T14:26:35.225Z"
   },
   {
    "duration": 20,
    "start_time": "2023-03-16T14:26:35.247Z"
   },
   {
    "duration": 38,
    "start_time": "2023-03-16T14:26:35.268Z"
   },
   {
    "duration": 244,
    "start_time": "2023-03-16T14:26:35.308Z"
   },
   {
    "duration": 5,
    "start_time": "2023-03-16T14:26:35.554Z"
   },
   {
    "duration": 16,
    "start_time": "2023-03-16T14:26:35.560Z"
   },
   {
    "duration": 29,
    "start_time": "2023-03-16T14:26:35.578Z"
   },
   {
    "duration": 7,
    "start_time": "2023-03-16T14:26:35.611Z"
   },
   {
    "duration": 10,
    "start_time": "2023-03-16T14:26:35.620Z"
   },
   {
    "duration": 6,
    "start_time": "2023-03-16T14:26:35.632Z"
   },
   {
    "duration": 13,
    "start_time": "2023-03-16T14:26:35.640Z"
   },
   {
    "duration": 17,
    "start_time": "2023-03-16T14:26:35.656Z"
   },
   {
    "duration": 12,
    "start_time": "2023-03-16T14:26:35.675Z"
   },
   {
    "duration": 24,
    "start_time": "2023-03-16T14:26:35.695Z"
   },
   {
    "duration": 44,
    "start_time": "2023-03-16T14:26:35.721Z"
   },
   {
    "duration": 26,
    "start_time": "2023-03-16T14:26:35.767Z"
   },
   {
    "duration": 248,
    "start_time": "2023-03-16T14:26:35.795Z"
   },
   {
    "duration": 240,
    "start_time": "2023-03-16T14:26:36.044Z"
   },
   {
    "duration": 23,
    "start_time": "2023-03-16T14:26:36.286Z"
   },
   {
    "duration": 201,
    "start_time": "2023-03-16T14:26:36.311Z"
   },
   {
    "duration": 4,
    "start_time": "2023-03-16T14:26:36.514Z"
   },
   {
    "duration": 16,
    "start_time": "2023-03-16T14:26:36.520Z"
   },
   {
    "duration": 409,
    "start_time": "2023-03-16T14:26:36.537Z"
   },
   {
    "duration": 9,
    "start_time": "2023-03-16T14:26:36.948Z"
   },
   {
    "duration": 26,
    "start_time": "2023-03-16T14:26:36.959Z"
   },
   {
    "duration": 15,
    "start_time": "2023-03-16T14:26:37.000Z"
   },
   {
    "duration": 62,
    "start_time": "2023-03-16T14:26:37.017Z"
   },
   {
    "duration": 519,
    "start_time": "2023-03-16T14:26:37.081Z"
   },
   {
    "duration": 20,
    "start_time": "2023-03-16T14:26:37.602Z"
   },
   {
    "duration": 16,
    "start_time": "2023-03-16T14:26:37.624Z"
   },
   {
    "duration": 39,
    "start_time": "2023-03-16T14:26:37.641Z"
   },
   {
    "duration": 9,
    "start_time": "2023-03-16T14:26:37.681Z"
   },
   {
    "duration": 41,
    "start_time": "2023-03-16T14:26:37.692Z"
   },
   {
    "duration": 21,
    "start_time": "2023-03-16T14:26:37.735Z"
   },
   {
    "duration": 2,
    "start_time": "2023-03-16T14:26:37.761Z"
   },
   {
    "duration": 23,
    "start_time": "2023-03-16T14:26:37.765Z"
   },
   {
    "duration": 46,
    "start_time": "2023-03-16T14:26:37.790Z"
   },
   {
    "duration": 28,
    "start_time": "2023-03-16T14:26:37.838Z"
   },
   {
    "duration": 11,
    "start_time": "2023-03-16T14:26:37.868Z"
   },
   {
    "duration": 23,
    "start_time": "2023-03-16T14:26:37.881Z"
   },
   {
    "duration": 29,
    "start_time": "2023-03-16T14:26:37.908Z"
   },
   {
    "duration": 14,
    "start_time": "2023-03-16T14:26:37.939Z"
   },
   {
    "duration": 42,
    "start_time": "2023-03-16T14:26:37.955Z"
   },
   {
    "duration": 20,
    "start_time": "2023-03-16T14:26:38.007Z"
   },
   {
    "duration": 91,
    "start_time": "2023-03-16T14:26:38.029Z"
   },
   {
    "duration": 12,
    "start_time": "2023-03-16T14:26:38.122Z"
   },
   {
    "duration": 6,
    "start_time": "2023-03-16T14:26:38.136Z"
   },
   {
    "duration": 10,
    "start_time": "2023-03-16T14:26:38.144Z"
   },
   {
    "duration": 24,
    "start_time": "2023-03-16T14:26:38.155Z"
   },
   {
    "duration": 95,
    "start_time": "2023-03-16T14:26:38.181Z"
   },
   {
    "duration": 281,
    "start_time": "2023-03-16T14:26:38.278Z"
   },
   {
    "duration": 20,
    "start_time": "2023-03-16T14:26:38.561Z"
   },
   {
    "duration": 73,
    "start_time": "2023-03-16T14:26:38.582Z"
   },
   {
    "duration": 5,
    "start_time": "2023-03-16T14:26:38.657Z"
   },
   {
    "duration": 15,
    "start_time": "2023-03-16T14:26:38.665Z"
   },
   {
    "duration": 47,
    "start_time": "2023-03-16T14:26:38.683Z"
   },
   {
    "duration": 6,
    "start_time": "2023-03-16T14:26:38.732Z"
   },
   {
    "duration": 7,
    "start_time": "2023-03-16T14:26:38.740Z"
   },
   {
    "duration": 28,
    "start_time": "2023-03-16T14:26:38.749Z"
   },
   {
    "duration": 3,
    "start_time": "2023-03-16T14:27:15.034Z"
   },
   {
    "duration": 28,
    "start_time": "2023-03-16T14:27:18.529Z"
   },
   {
    "duration": 423,
    "start_time": "2023-03-16T14:27:38.120Z"
   },
   {
    "duration": 463,
    "start_time": "2023-03-16T14:27:49.283Z"
   },
   {
    "duration": 421,
    "start_time": "2023-03-16T14:28:11.644Z"
   },
   {
    "duration": 428,
    "start_time": "2023-03-16T14:28:24.035Z"
   },
   {
    "duration": 393,
    "start_time": "2023-03-16T14:28:37.384Z"
   },
   {
    "duration": 4,
    "start_time": "2023-03-16T14:30:12.983Z"
   },
   {
    "duration": 5,
    "start_time": "2023-03-16T14:30:23.980Z"
   },
   {
    "duration": 451,
    "start_time": "2023-03-16T14:31:41.885Z"
   },
   {
    "duration": 57,
    "start_time": "2023-03-16T14:32:40.224Z"
   },
   {
    "duration": 455,
    "start_time": "2023-03-16T14:33:27.609Z"
   },
   {
    "duration": 422,
    "start_time": "2023-03-16T14:34:21.325Z"
   },
   {
    "duration": 7,
    "start_time": "2023-03-16T14:34:42.647Z"
   },
   {
    "duration": 26,
    "start_time": "2023-03-16T14:34:52.148Z"
   },
   {
    "duration": 407,
    "start_time": "2023-03-16T14:35:36.417Z"
   },
   {
    "duration": 6,
    "start_time": "2023-03-16T14:35:59.282Z"
   },
   {
    "duration": 31,
    "start_time": "2023-03-16T14:36:06.076Z"
   },
   {
    "duration": 3,
    "start_time": "2023-03-16T14:36:50.622Z"
   },
   {
    "duration": 26,
    "start_time": "2023-03-16T14:36:52.913Z"
   },
   {
    "duration": 14,
    "start_time": "2023-03-16T14:37:50.307Z"
   },
   {
    "duration": 18,
    "start_time": "2023-03-16T14:38:26.097Z"
   },
   {
    "duration": 2,
    "start_time": "2023-03-16T14:41:10.930Z"
   },
   {
    "duration": 838,
    "start_time": "2023-03-16T14:41:44.447Z"
   },
   {
    "duration": 609,
    "start_time": "2023-03-16T14:42:34.562Z"
   },
   {
    "duration": 606,
    "start_time": "2023-03-16T14:42:54.894Z"
   },
   {
    "duration": 4109,
    "start_time": "2023-03-16T14:42:59.536Z"
   },
   {
    "duration": 44,
    "start_time": "2023-03-16T14:43:03.648Z"
   },
   {
    "duration": 23,
    "start_time": "2023-03-16T14:43:03.694Z"
   },
   {
    "duration": 20,
    "start_time": "2023-03-16T14:43:03.719Z"
   },
   {
    "duration": 28,
    "start_time": "2023-03-16T14:43:03.741Z"
   },
   {
    "duration": 9,
    "start_time": "2023-03-16T14:43:03.772Z"
   },
   {
    "duration": 21,
    "start_time": "2023-03-16T14:43:03.796Z"
   },
   {
    "duration": 22,
    "start_time": "2023-03-16T14:43:03.818Z"
   },
   {
    "duration": 8,
    "start_time": "2023-03-16T14:43:03.842Z"
   },
   {
    "duration": 384,
    "start_time": "2023-03-16T14:43:03.852Z"
   },
   {
    "duration": 6,
    "start_time": "2023-03-16T14:43:04.238Z"
   },
   {
    "duration": 14,
    "start_time": "2023-03-16T14:43:04.247Z"
   },
   {
    "duration": 28,
    "start_time": "2023-03-16T14:43:04.263Z"
   },
   {
    "duration": 15,
    "start_time": "2023-03-16T14:43:04.294Z"
   },
   {
    "duration": 28,
    "start_time": "2023-03-16T14:43:04.312Z"
   },
   {
    "duration": 17,
    "start_time": "2023-03-16T14:43:04.342Z"
   },
   {
    "duration": 15,
    "start_time": "2023-03-16T14:43:04.361Z"
   },
   {
    "duration": 23,
    "start_time": "2023-03-16T14:43:04.379Z"
   },
   {
    "duration": 17,
    "start_time": "2023-03-16T14:43:04.404Z"
   },
   {
    "duration": 10,
    "start_time": "2023-03-16T14:43:04.423Z"
   },
   {
    "duration": 48,
    "start_time": "2023-03-16T14:43:04.435Z"
   },
   {
    "duration": 25,
    "start_time": "2023-03-16T14:43:04.485Z"
   },
   {
    "duration": 308,
    "start_time": "2023-03-16T14:43:04.512Z"
   },
   {
    "duration": 251,
    "start_time": "2023-03-16T14:43:04.822Z"
   },
   {
    "duration": 38,
    "start_time": "2023-03-16T14:43:05.075Z"
   },
   {
    "duration": 242,
    "start_time": "2023-03-16T14:43:05.117Z"
   },
   {
    "duration": 5,
    "start_time": "2023-03-16T14:43:05.361Z"
   },
   {
    "duration": 23,
    "start_time": "2023-03-16T14:43:05.368Z"
   },
   {
    "duration": 465,
    "start_time": "2023-03-16T14:43:05.393Z"
   },
   {
    "duration": 11,
    "start_time": "2023-03-16T14:43:05.859Z"
   },
   {
    "duration": 35,
    "start_time": "2023-03-16T14:43:05.872Z"
   },
   {
    "duration": 28,
    "start_time": "2023-03-16T14:43:05.909Z"
   },
   {
    "duration": 86,
    "start_time": "2023-03-16T14:43:05.939Z"
   },
   {
    "duration": 532,
    "start_time": "2023-03-16T14:43:06.027Z"
   },
   {
    "duration": 17,
    "start_time": "2023-03-16T14:43:06.562Z"
   },
   {
    "duration": 40,
    "start_time": "2023-03-16T14:43:06.581Z"
   },
   {
    "duration": 17,
    "start_time": "2023-03-16T14:43:06.623Z"
   },
   {
    "duration": 8,
    "start_time": "2023-03-16T14:43:06.641Z"
   },
   {
    "duration": 54,
    "start_time": "2023-03-16T14:43:06.650Z"
   },
   {
    "duration": 23,
    "start_time": "2023-03-16T14:43:06.707Z"
   },
   {
    "duration": 4,
    "start_time": "2023-03-16T14:43:06.734Z"
   },
   {
    "duration": 17,
    "start_time": "2023-03-16T14:43:06.740Z"
   },
   {
    "duration": 45,
    "start_time": "2023-03-16T14:43:06.759Z"
   },
   {
    "duration": 24,
    "start_time": "2023-03-16T14:43:06.806Z"
   },
   {
    "duration": 17,
    "start_time": "2023-03-16T14:43:06.832Z"
   },
   {
    "duration": 11,
    "start_time": "2023-03-16T14:43:06.851Z"
   },
   {
    "duration": 55,
    "start_time": "2023-03-16T14:43:06.863Z"
   },
   {
    "duration": 16,
    "start_time": "2023-03-16T14:43:06.920Z"
   },
   {
    "duration": 29,
    "start_time": "2023-03-16T14:43:06.937Z"
   },
   {
    "duration": 42,
    "start_time": "2023-03-16T14:43:06.968Z"
   },
   {
    "duration": 88,
    "start_time": "2023-03-16T14:43:07.012Z"
   },
   {
    "duration": 19,
    "start_time": "2023-03-16T14:43:07.102Z"
   },
   {
    "duration": 7,
    "start_time": "2023-03-16T14:43:07.123Z"
   },
   {
    "duration": 25,
    "start_time": "2023-03-16T14:43:07.131Z"
   },
   {
    "duration": 17,
    "start_time": "2023-03-16T14:43:07.158Z"
   },
   {
    "duration": 94,
    "start_time": "2023-03-16T14:43:07.176Z"
   },
   {
    "duration": 207,
    "start_time": "2023-03-16T14:43:07.272Z"
   },
   {
    "duration": 30,
    "start_time": "2023-03-16T14:43:07.480Z"
   },
   {
    "duration": 51,
    "start_time": "2023-03-16T14:43:07.512Z"
   },
   {
    "duration": 6,
    "start_time": "2023-03-16T14:43:07.566Z"
   },
   {
    "duration": 26,
    "start_time": "2023-03-16T14:43:07.574Z"
   },
   {
    "duration": 38,
    "start_time": "2023-03-16T14:43:07.602Z"
   },
   {
    "duration": 5,
    "start_time": "2023-03-16T14:43:07.642Z"
   },
   {
    "duration": 15,
    "start_time": "2023-03-16T14:43:07.649Z"
   },
   {
    "duration": 9,
    "start_time": "2023-03-16T14:43:07.666Z"
   },
   {
    "duration": 5,
    "start_time": "2023-03-16T14:46:02.921Z"
   },
   {
    "duration": 28,
    "start_time": "2023-03-16T14:46:03.424Z"
   },
   {
    "duration": 26,
    "start_time": "2023-03-16T14:46:03.942Z"
   },
   {
    "duration": 3,
    "start_time": "2023-03-16T14:46:07.164Z"
   },
   {
    "duration": 14,
    "start_time": "2023-03-16T14:46:09.465Z"
   },
   {
    "duration": 32,
    "start_time": "2023-03-16T14:46:11.130Z"
   },
   {
    "duration": 25,
    "start_time": "2023-03-16T14:46:12.950Z"
   },
   {
    "duration": 11,
    "start_time": "2023-03-16T14:46:14.726Z"
   }
  ],
  "kernelspec": {
   "display_name": "Python 3 (ipykernel)",
   "language": "python",
   "name": "python3"
  },
  "language_info": {
   "codemirror_mode": {
    "name": "ipython",
    "version": 3
   },
   "file_extension": ".py",
   "mimetype": "text/x-python",
   "name": "python",
   "nbconvert_exporter": "python",
   "pygments_lexer": "ipython3",
   "version": "3.9.13"
  },
  "toc": {
   "base_numbering": 1,
   "nav_menu": {},
   "number_sections": true,
   "sideBar": true,
   "skip_h1_title": true,
   "title_cell": "Table of Contents",
   "title_sidebar": "Contents",
   "toc_cell": false,
   "toc_position": {},
   "toc_section_display": true,
   "toc_window_display": false
  }
 },
 "nbformat": 4,
 "nbformat_minor": 2
}
