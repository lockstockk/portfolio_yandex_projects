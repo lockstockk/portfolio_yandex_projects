{
 "cells": [
  {
   "cell_type": "markdown",
   "metadata": {
    "id": "E0vqbgi9ay0H"
   },
   "source": [
    "# Яндекс.Музыка"
   ]
  },
  {
   "cell_type": "markdown",
   "metadata": {
    "id": "VUC88oWjTJw2"
   },
   "source": [
    "Сравнение Москвы и Петербурга окружено мифами. Например:\n",
    " * Москва — мегаполис, подчинённый жёсткому ритму рабочей недели;\n",
    " * Петербург — культурная столица, со своими вкусами.\n",
    "\n",
    "На данных Яндекс.Музыки вы сравните поведение пользователей двух столиц.\n",
    "\n",
    "**Цель исследования** — проверить три гипотезы:\n",
    "1. Активность пользователей зависит от дня недели. Причём в Москве и Петербурге это проявляется по-разному.\n",
    "2. В понедельник утром в Москве преобладают одни жанры, а в Петербурге — другие. Так же и вечером пятницы преобладают разные жанры — в зависимости от города. \n",
    "3. Москва и Петербург предпочитают разные жанры музыки. В Москве чаще слушают поп-музыку, в Петербурге — русский рэп.\n",
    "\n",
    "**Ход исследования**\n",
    "\n",
    "Данные о поведении пользователей получены из файла `yandex_music_project.csv`. О качестве данных ничего не известно. Поэтому перед проверкой гипотез понадобится обзор данных. \n",
    "\n",
    "Проверим данные на ошибки и оценим их влияние на исследование. Затем, на этапе предобработки найдем возможность исправить самые критичные ошибки данных.\n",
    " \n",
    "Таким образом, исследование пройдёт в три этапа:\n",
    " 1. Обзор данных.\n",
    " 2. Предобработка данных.\n",
    " 3. Проверка гипотез.\n",
    "\n"
   ]
  },
  {
   "cell_type": "markdown",
   "metadata": {
    "id": "Ml1hmfXC_Zcs"
   },
   "source": [
    "## Обзор данных\n",
    "\n",
    "Составляем первое представление о данных Яндекс.Музыки.\n",
    "\n",
    "\n"
   ]
  },
  {
   "cell_type": "markdown",
   "metadata": {
    "id": "57eAOGIz_Zcs"
   },
   "source": [
    "Основной инструмент аналитика — `pandas`. Импортируем эту библиотеку."
   ]
  },
  {
   "cell_type": "code",
   "execution_count": 46,
   "metadata": {
    "id": "AXN7PHPN_Zcs"
   },
   "outputs": [],
   "source": [
    "import pandas as pd"
   ]
  },
  {
   "cell_type": "markdown",
   "metadata": {
    "id": "SG23P8tt_Zcs"
   },
   "source": [
    "Прочитаем файл `yandex_music_project.csv` из папки `/datasets` и сохраним его в переменной `df`:"
   ]
  },
  {
   "cell_type": "code",
   "execution_count": 47,
   "metadata": {
    "id": "fFVu7vqh_Zct"
   },
   "outputs": [],
   "source": [
    "df = pd.read_csv('/datasets/yandex_music_project.csv')"
   ]
  },
  {
   "cell_type": "markdown",
   "metadata": {
    "id": "rDoOMd3uTqnZ"
   },
   "source": [
    "Вывод на экран первых 10 строк таблицы:"
   ]
  },
  {
   "cell_type": "code",
   "execution_count": 48,
   "metadata": {
    "id": "oWTVX3gW_Zct"
   },
   "outputs": [
    {
     "data": {
      "text/html": [
       "<div>\n",
       "<style scoped>\n",
       "    .dataframe tbody tr th:only-of-type {\n",
       "        vertical-align: middle;\n",
       "    }\n",
       "\n",
       "    .dataframe tbody tr th {\n",
       "        vertical-align: top;\n",
       "    }\n",
       "\n",
       "    .dataframe thead th {\n",
       "        text-align: right;\n",
       "    }\n",
       "</style>\n",
       "<table border=\"1\" class=\"dataframe\">\n",
       "  <thead>\n",
       "    <tr style=\"text-align: right;\">\n",
       "      <th></th>\n",
       "      <th>userID</th>\n",
       "      <th>Track</th>\n",
       "      <th>artist</th>\n",
       "      <th>genre</th>\n",
       "      <th>City</th>\n",
       "      <th>time</th>\n",
       "      <th>Day</th>\n",
       "    </tr>\n",
       "  </thead>\n",
       "  <tbody>\n",
       "    <tr>\n",
       "      <td>0</td>\n",
       "      <td>FFB692EC</td>\n",
       "      <td>Kamigata To Boots</td>\n",
       "      <td>The Mass Missile</td>\n",
       "      <td>rock</td>\n",
       "      <td>Saint-Petersburg</td>\n",
       "      <td>20:28:33</td>\n",
       "      <td>Wednesday</td>\n",
       "    </tr>\n",
       "    <tr>\n",
       "      <td>1</td>\n",
       "      <td>55204538</td>\n",
       "      <td>Delayed Because of Accident</td>\n",
       "      <td>Andreas Rönnberg</td>\n",
       "      <td>rock</td>\n",
       "      <td>Moscow</td>\n",
       "      <td>14:07:09</td>\n",
       "      <td>Friday</td>\n",
       "    </tr>\n",
       "    <tr>\n",
       "      <td>2</td>\n",
       "      <td>20EC38</td>\n",
       "      <td>Funiculì funiculà</td>\n",
       "      <td>Mario Lanza</td>\n",
       "      <td>pop</td>\n",
       "      <td>Saint-Petersburg</td>\n",
       "      <td>20:58:07</td>\n",
       "      <td>Wednesday</td>\n",
       "    </tr>\n",
       "    <tr>\n",
       "      <td>3</td>\n",
       "      <td>A3DD03C9</td>\n",
       "      <td>Dragons in the Sunset</td>\n",
       "      <td>Fire + Ice</td>\n",
       "      <td>folk</td>\n",
       "      <td>Saint-Petersburg</td>\n",
       "      <td>08:37:09</td>\n",
       "      <td>Monday</td>\n",
       "    </tr>\n",
       "    <tr>\n",
       "      <td>4</td>\n",
       "      <td>E2DC1FAE</td>\n",
       "      <td>Soul People</td>\n",
       "      <td>Space Echo</td>\n",
       "      <td>dance</td>\n",
       "      <td>Moscow</td>\n",
       "      <td>08:34:34</td>\n",
       "      <td>Monday</td>\n",
       "    </tr>\n",
       "    <tr>\n",
       "      <td>5</td>\n",
       "      <td>842029A1</td>\n",
       "      <td>Преданная</td>\n",
       "      <td>IMPERVTOR</td>\n",
       "      <td>rusrap</td>\n",
       "      <td>Saint-Petersburg</td>\n",
       "      <td>13:09:41</td>\n",
       "      <td>Friday</td>\n",
       "    </tr>\n",
       "    <tr>\n",
       "      <td>6</td>\n",
       "      <td>4CB90AA5</td>\n",
       "      <td>True</td>\n",
       "      <td>Roman Messer</td>\n",
       "      <td>dance</td>\n",
       "      <td>Moscow</td>\n",
       "      <td>13:00:07</td>\n",
       "      <td>Wednesday</td>\n",
       "    </tr>\n",
       "    <tr>\n",
       "      <td>7</td>\n",
       "      <td>F03E1C1F</td>\n",
       "      <td>Feeling This Way</td>\n",
       "      <td>Polina Griffith</td>\n",
       "      <td>dance</td>\n",
       "      <td>Moscow</td>\n",
       "      <td>20:47:49</td>\n",
       "      <td>Wednesday</td>\n",
       "    </tr>\n",
       "    <tr>\n",
       "      <td>8</td>\n",
       "      <td>8FA1D3BE</td>\n",
       "      <td>И вновь продолжается бой</td>\n",
       "      <td>NaN</td>\n",
       "      <td>ruspop</td>\n",
       "      <td>Moscow</td>\n",
       "      <td>09:17:40</td>\n",
       "      <td>Friday</td>\n",
       "    </tr>\n",
       "    <tr>\n",
       "      <td>9</td>\n",
       "      <td>E772D5C0</td>\n",
       "      <td>Pessimist</td>\n",
       "      <td>NaN</td>\n",
       "      <td>dance</td>\n",
       "      <td>Saint-Petersburg</td>\n",
       "      <td>21:20:49</td>\n",
       "      <td>Wednesday</td>\n",
       "    </tr>\n",
       "  </tbody>\n",
       "</table>\n",
       "</div>"
      ],
      "text/plain": [
       "     userID                        Track            artist   genre  \\\n",
       "0  FFB692EC            Kamigata To Boots  The Mass Missile    rock   \n",
       "1  55204538  Delayed Because of Accident  Andreas Rönnberg    rock   \n",
       "2    20EC38            Funiculì funiculà       Mario Lanza     pop   \n",
       "3  A3DD03C9        Dragons in the Sunset        Fire + Ice    folk   \n",
       "4  E2DC1FAE                  Soul People        Space Echo   dance   \n",
       "5  842029A1                    Преданная         IMPERVTOR  rusrap   \n",
       "6  4CB90AA5                         True      Roman Messer   dance   \n",
       "7  F03E1C1F             Feeling This Way   Polina Griffith   dance   \n",
       "8  8FA1D3BE     И вновь продолжается бой               NaN  ruspop   \n",
       "9  E772D5C0                    Pessimist               NaN   dance   \n",
       "\n",
       "             City        time        Day  \n",
       "0  Saint-Petersburg  20:28:33  Wednesday  \n",
       "1            Moscow  14:07:09     Friday  \n",
       "2  Saint-Petersburg  20:58:07  Wednesday  \n",
       "3  Saint-Petersburg  08:37:09     Monday  \n",
       "4            Moscow  08:34:34     Monday  \n",
       "5  Saint-Petersburg  13:09:41     Friday  \n",
       "6            Moscow  13:00:07  Wednesday  \n",
       "7            Moscow  20:47:49  Wednesday  \n",
       "8            Moscow  09:17:40     Friday  \n",
       "9  Saint-Petersburg  21:20:49  Wednesday  "
      ]
     },
     "execution_count": 48,
     "metadata": {},
     "output_type": "execute_result"
    }
   ],
   "source": [
    "df.head(10)"
   ]
  },
  {
   "cell_type": "markdown",
   "metadata": {
    "id": "EO73Kwic_Zct"
   },
   "source": [
    "Одной командой получить общую информацию о таблице:"
   ]
  },
  {
   "cell_type": "code",
   "execution_count": 49,
   "metadata": {
    "id": "DSf2kIb-_Zct"
   },
   "outputs": [
    {
     "name": "stdout",
     "output_type": "stream",
     "text": [
      "<class 'pandas.core.frame.DataFrame'>\n",
      "RangeIndex: 65079 entries, 0 to 65078\n",
      "Data columns (total 7 columns):\n",
      "  userID    65079 non-null object\n",
      "Track       63848 non-null object\n",
      "artist      57876 non-null object\n",
      "genre       63881 non-null object\n",
      "  City      65079 non-null object\n",
      "time        65079 non-null object\n",
      "Day         65079 non-null object\n",
      "dtypes: object(7)\n",
      "memory usage: 3.5+ MB\n"
     ]
    }
   ],
   "source": [
    "df.info()"
   ]
  },
  {
   "cell_type": "markdown",
   "metadata": {
    "id": "TaQ2Iwbr_Zct"
   },
   "source": [
    "Итак, в таблице семь столбцов. Тип данных во всех столбцах — `object`.\n",
    "\n",
    "Согласно документации к данным:\n",
    "* `userID` — идентификатор пользователя;\n",
    "* `Track` — название трека;  \n",
    "* `artist` — имя исполнителя;\n",
    "* `genre` — название жанра;\n",
    "* `City` — город пользователя;\n",
    "* `time` — время начала прослушивания;\n",
    "* `Day` — день недели.\n",
    "\n",
    "В названиях колонок видны три нарушения стиля:\n",
    "1. Строчные буквы сочетаются с прописными.\n",
    "2. Встречаются пробелы.\n",
    "3. Из названия непонятно, что за данные хранятся в столбце. \n",
    "\n",
    "\n",
    "\n",
    "Количество значений в столбцах различается. Значит, в данных есть пропущенные значения.\n"
   ]
  },
  {
   "cell_type": "markdown",
   "metadata": {
    "id": "MCB6-dXG_Zct"
   },
   "source": [
    "**Выводы**\n",
    "\n",
    "В каждой строке таблицы — данные о прослушанном треке. Часть колонок описывает саму композицию: название, исполнителя и жанр. Остальные данные рассказывают о пользователе: из какого он города, когда он слушал музыку. \n",
    "\n",
    "Предварительно можно утверждать, что, данных достаточно для проверки гипотез. Но встречаются пропуски в данных, а в названиях колонок — расхождения с хорошим стилем.\n",
    "\n",
    "Чтобы двигаться дальше, нужно устранить проблемы в данных."
   ]
  },
  {
   "cell_type": "markdown",
   "metadata": {
    "id": "SjYF6Ub9_Zct"
   },
   "source": [
    "## Предобработка данных\n",
    "Исправим стиль в заголовках столбцов, исключим пропуски. Затем проверим данные на дубликаты."
   ]
  },
  {
   "cell_type": "markdown",
   "metadata": {
    "id": "dIaKXr29_Zct"
   },
   "source": [
    "### Стиль заголовков\n",
    "Выведем на экран названия столбцов:"
   ]
  },
  {
   "cell_type": "code",
   "execution_count": 50,
   "metadata": {
    "id": "oKOTdF_Q_Zct"
   },
   "outputs": [
    {
     "data": {
      "text/plain": [
       "Index(['  userID', 'Track', 'artist', 'genre', '  City  ', 'time', 'Day'], dtype='object')"
      ]
     },
     "execution_count": 50,
     "metadata": {},
     "output_type": "execute_result"
    }
   ],
   "source": [
    "df.columns"
   ]
  },
  {
   "cell_type": "markdown",
   "metadata": {
    "id": "zj5534cv_Zct"
   },
   "source": [
    "Приведем названия в соответствие с хорошим стилем:\n",
    "* несколько слов в названии запишите в «змеином_регистре»,\n",
    "* все символы сделайте строчными,\n",
    "* устраните пробелы.\n",
    "\n",
    "Для этого переименуем колонки так:\n",
    "* `'  userID'` → `'user_id'`;\n",
    "* `'Track'` → `'track'`;\n",
    "* `'  City  '` → `'city'`;\n",
    "* `'Day'` → `'day'`."
   ]
  },
  {
   "cell_type": "code",
   "execution_count": 51,
   "metadata": {
    "id": "ISlFqs5y_Zct"
   },
   "outputs": [
    {
     "data": {
      "text/plain": [
       "Index(['user_id', 'track', 'artist', 'genre', 'city', 'time', 'day'], dtype='object')"
      ]
     },
     "execution_count": 51,
     "metadata": {},
     "output_type": "execute_result"
    }
   ],
   "source": [
    "df = df.rename(columns={'  userID':'user_id', 'Track':'track','  City  ':'city','Day':'day'})\n",
    "df.columns"
   ]
  },
  {
   "cell_type": "code",
   "execution_count": 52,
   "metadata": {},
   "outputs": [],
   "source": [
    "df = df.rename(columns = {\n",
    "    '  userID':'user_id',\n",
    "    'Track':'track',\n",
    "    '  City  ':'city',\n",
    "    'Day':'day'})"
   ]
  },
  {
   "cell_type": "markdown",
   "metadata": {
    "id": "1dqbh00J_Zct"
   },
   "source": [
    "Проверим результат. Для этого ещё раз сделаем вывод на экран названия столбцов:"
   ]
  },
  {
   "cell_type": "code",
   "execution_count": 53,
   "metadata": {
    "id": "d4NOAmTW_Zct"
   },
   "outputs": [
    {
     "data": {
      "text/plain": [
       "Index(['user_id', 'track', 'artist', 'genre', 'city', 'time', 'day'], dtype='object')"
      ]
     },
     "execution_count": 53,
     "metadata": {},
     "output_type": "execute_result"
    }
   ],
   "source": [
    "df.columns"
   ]
  },
  {
   "cell_type": "markdown",
   "metadata": {
    "id": "5ISfbcfY_Zct"
   },
   "source": [
    "### Пропуски значений\n",
    "Сначала посчитаем, сколько в таблице пропущенных значений. Для этого достаточно двух методов `pandas`:"
   ]
  },
  {
   "cell_type": "code",
   "execution_count": 54,
   "metadata": {
    "id": "RskX29qr_Zct"
   },
   "outputs": [
    {
     "data": {
      "text/plain": [
       "user_id       0\n",
       "track      1231\n",
       "artist     7203\n",
       "genre      1198\n",
       "city          0\n",
       "time          0\n",
       "day           0\n",
       "dtype: int64"
      ]
     },
     "execution_count": 54,
     "metadata": {},
     "output_type": "execute_result"
    }
   ],
   "source": [
    "df.isnull().sum()"
   ]
  },
  {
   "cell_type": "markdown",
   "metadata": {
    "id": "qubhgnlO_Zct"
   },
   "source": [
    "Не все пропущенные значения влияют на исследование. Так в `track` и `artist` пропуски не важны для вашей работы. Достаточно заменить их явными обозначениями.\n",
    "\n",
    "Но пропуски в `genre` могут помешать сравнению музыкальных вкусов в Москве и Санкт-Петербурге. На практике было бы правильно установить причину пропусков и восстановить данные. Такой возможности нет в учебном проекте. Придётся:\n",
    "* заполнить и эти пропуски явными обозначениями,\n",
    "* оценить, насколько они повредят расчётам. "
   ]
  },
  {
   "cell_type": "markdown",
   "metadata": {
    "id": "fSv2laPA_Zct"
   },
   "source": [
    "Замените пропущенные значения в столбцах `track`, `artist` и `genre` на строку `'unknown'`. Для этого создайте список `columns_to_replace`, переберите его элементы циклом `for` и для каждого столбца выполните замену пропущенных значений:"
   ]
  },
  {
   "cell_type": "code",
   "execution_count": 55,
   "metadata": {
    "id": "KplB5qWs_Zct"
   },
   "outputs": [],
   "source": [
    "columns_to_replace = ['track', 'artist', 'genre']\n",
    "for column in columns_to_replace:\n",
    "    df[column] = df[column].fillna('unknown')"
   ]
  },
  {
   "cell_type": "markdown",
   "metadata": {
    "id": "Ilsm-MZo_Zct"
   },
   "source": [
    "Убедимся, что в таблице не осталось пропусков. Для этого ещё раз посчитаем пропущенные значения."
   ]
  },
  {
   "cell_type": "code",
   "execution_count": 56,
   "metadata": {
    "id": "Tq4nYRX4_Zct"
   },
   "outputs": [
    {
     "data": {
      "text/plain": [
       "user_id    0\n",
       "track      0\n",
       "artist     0\n",
       "genre      0\n",
       "city       0\n",
       "time       0\n",
       "day        0\n",
       "dtype: int64"
      ]
     },
     "execution_count": 56,
     "metadata": {},
     "output_type": "execute_result"
    }
   ],
   "source": [
    "df.isnull().sum()"
   ]
  },
  {
   "cell_type": "markdown",
   "metadata": {
    "id": "BWKRtBJ3_Zct"
   },
   "source": [
    "### Дубликаты\n",
    "Посчитаем явные дубликаты в таблице одной командой:"
   ]
  },
  {
   "cell_type": "code",
   "execution_count": 57,
   "metadata": {
    "id": "36eES_S0_Zct"
   },
   "outputs": [
    {
     "data": {
      "text/plain": [
       "3826"
      ]
     },
     "execution_count": 57,
     "metadata": {},
     "output_type": "execute_result"
    }
   ],
   "source": [
    "df.duplicated().sum()"
   ]
  },
  {
   "cell_type": "markdown",
   "metadata": {
    "id": "Ot25h6XR_Zct"
   },
   "source": [
    "Вызовим специальный метод `pandas`, чтобы удалить явные дубликаты:"
   ]
  },
  {
   "cell_type": "code",
   "execution_count": 58,
   "metadata": {
    "id": "exFHq6tt_Zct"
   },
   "outputs": [],
   "source": [
    "df = df.drop_duplicates().reset_index(drop=True)"
   ]
  },
  {
   "cell_type": "markdown",
   "metadata": {
    "id": "Im2YwBEG_Zct"
   },
   "source": [
    "Ещё раз посчитаем явные дубликаты в таблице — убедимся, что полностью от них избавились:"
   ]
  },
  {
   "cell_type": "code",
   "execution_count": 60,
   "metadata": {},
   "outputs": [
    {
     "name": "stdout",
     "output_type": "stream",
     "text": [
      "Количество пропусков: 0\n"
     ]
    }
   ],
   "source": [
    "print(\"Количество пропусков: {}\".format(df.duplicated().sum()))"
   ]
  },
  {
   "cell_type": "markdown",
   "metadata": {
    "id": "QlFBsxAr_Zct"
   },
   "source": [
    "Теперь избавимся от неявных дубликатов в колонке `genre`. Например, название одного и того же жанра может быть записано немного по-разному. Такие ошибки тоже повлияют на результат исследования."
   ]
  },
  {
   "cell_type": "markdown",
   "metadata": {
    "id": "eSjWwsOh_Zct"
   },
   "source": [
    "Выведем на экран список уникальных названий жанров, отсортированный в алфавитном порядке. Для этого:\n",
    "* извлечем нужный столбец датафрейма, \n",
    "* применим к нему метод сортировки,\n",
    "* для отсортированного столбца вызовим метод, который вернёт уникальные значения из столбца."
   ]
  },
  {
   "cell_type": "code",
   "execution_count": 61,
   "metadata": {
    "id": "JIUcqzZN_Zct",
    "scrolled": true
   },
   "outputs": [
    {
     "data": {
      "text/plain": [
       "array(['acid', 'acoustic', 'action', 'adult', 'africa', 'afrikaans',\n",
       "       'alternative', 'alternativepunk', 'ambient', 'americana',\n",
       "       'animated', 'anime', 'arabesk', 'arabic', 'arena',\n",
       "       'argentinetango', 'art', 'audiobook', 'author', 'avantgarde',\n",
       "       'axé', 'baile', 'balkan', 'beats', 'bigroom', 'black', 'bluegrass',\n",
       "       'blues', 'bollywood', 'bossa', 'brazilian', 'breakbeat', 'breaks',\n",
       "       'broadway', 'cantautori', 'cantopop', 'canzone', 'caribbean',\n",
       "       'caucasian', 'celtic', 'chamber', 'chanson', 'children', 'chill',\n",
       "       'chinese', 'choral', 'christian', 'christmas', 'classical',\n",
       "       'classicmetal', 'club', 'colombian', 'comedy', 'conjazz',\n",
       "       'contemporary', 'country', 'cuban', 'dance', 'dancehall',\n",
       "       'dancepop', 'dark', 'death', 'deep', 'deutschrock', 'deutschspr',\n",
       "       'dirty', 'disco', 'dnb', 'documentary', 'downbeat', 'downtempo',\n",
       "       'drum', 'dub', 'dubstep', 'eastern', 'easy', 'electronic',\n",
       "       'electropop', 'emo', 'entehno', 'epicmetal', 'estrada', 'ethnic',\n",
       "       'eurofolk', 'european', 'experimental', 'extrememetal', 'fado',\n",
       "       'fairytail', 'film', 'fitness', 'flamenco', 'folk', 'folklore',\n",
       "       'folkmetal', 'folkrock', 'folktronica', 'forró', 'frankreich',\n",
       "       'französisch', 'french', 'funk', 'future', 'gangsta', 'garage',\n",
       "       'german', 'ghazal', 'gitarre', 'glitch', 'gospel', 'gothic',\n",
       "       'grime', 'grunge', 'gypsy', 'handsup', \"hard'n'heavy\", 'hardcore',\n",
       "       'hardstyle', 'hardtechno', 'hip', 'hip-hop', 'hiphop',\n",
       "       'historisch', 'holiday', 'hop', 'horror', 'house', 'hymn', 'idm',\n",
       "       'independent', 'indian', 'indie', 'indipop', 'industrial',\n",
       "       'inspirational', 'instrumental', 'international', 'irish', 'jam',\n",
       "       'japanese', 'jazz', 'jewish', 'jpop', 'jungle', 'k-pop',\n",
       "       'karadeniz', 'karaoke', 'kayokyoku', 'korean', 'laiko', 'latin',\n",
       "       'latino', 'leftfield', 'local', 'lounge', 'loungeelectronic',\n",
       "       'lovers', 'malaysian', 'mandopop', 'marschmusik', 'meditative',\n",
       "       'mediterranean', 'melodic', 'metal', 'metalcore', 'mexican',\n",
       "       'middle', 'minimal', 'miscellaneous', 'modern', 'mood', 'mpb',\n",
       "       'muslim', 'native', 'neoklassik', 'neue', 'new', 'newage',\n",
       "       'newwave', 'nu', 'nujazz', 'numetal', 'oceania', 'old', 'opera',\n",
       "       'orchestral', 'other', 'piano', 'podcasts', 'pop', 'popdance',\n",
       "       'popelectronic', 'popeurodance', 'poprussian', 'post',\n",
       "       'posthardcore', 'postrock', 'power', 'progmetal', 'progressive',\n",
       "       'psychedelic', 'punjabi', 'punk', 'quebecois', 'ragga', 'ram',\n",
       "       'rancheras', 'rap', 'rave', 'reggae', 'reggaeton', 'regional',\n",
       "       'relax', 'religious', 'retro', 'rhythm', 'rnb', 'rnr', 'rock',\n",
       "       'rockabilly', 'rockalternative', 'rockindie', 'rockother',\n",
       "       'romance', 'roots', 'ruspop', 'rusrap', 'rusrock', 'russian',\n",
       "       'salsa', 'samba', 'scenic', 'schlager', 'self', 'sertanejo',\n",
       "       'shanson', 'shoegazing', 'showtunes', 'singer', 'ska', 'skarock',\n",
       "       'slow', 'smooth', 'soft', 'soul', 'soulful', 'sound', 'soundtrack',\n",
       "       'southern', 'specialty', 'speech', 'spiritual', 'sport',\n",
       "       'stonerrock', 'surf', 'swing', 'synthpop', 'synthrock',\n",
       "       'sängerportrait', 'tango', 'tanzorchester', 'taraftar', 'tatar',\n",
       "       'tech', 'techno', 'teen', 'thrash', 'top', 'traditional',\n",
       "       'tradjazz', 'trance', 'tribal', 'trip', 'triphop', 'tropical',\n",
       "       'türk', 'türkçe', 'ukrrock', 'unknown', 'urban', 'uzbek',\n",
       "       'variété', 'vi', 'videogame', 'vocal', 'western', 'world',\n",
       "       'worldbeat', 'ïîï', 'электроника'], dtype=object)"
      ]
     },
     "metadata": {},
     "output_type": "display_data"
    }
   ],
   "source": [
    "display(df['genre'].sort_values().unique())"
   ]
  },
  {
   "cell_type": "markdown",
   "metadata": {
    "id": "qej-Qmuo_Zct"
   },
   "source": [
    "Просмотрим список и найдем неявные дубликаты названия `hiphop`. Это могут быть названия с ошибками или альтернативные названия того же жанра.\n",
    "\n",
    "Неявные дубликаты:\n",
    "* *hip*,\n",
    "* *hop*,\n",
    "* *hip-hop*.\n",
    "\n",
    "Чтобы очистить от них таблицу, напишем функцию `replace_wrong_genres()` с двумя параметрами: \n",
    "* `wrong_genres` — список дубликатов,\n",
    "* `correct_genre` — строка с правильным значением.\n",
    "\n",
    "Функция должна исправить колонку `genre` в таблице `df`: заменить каждое значение из списка `wrong_genres` на значение из `correct_genre`."
   ]
  },
  {
   "cell_type": "code",
   "execution_count": 62,
   "metadata": {
    "id": "ErNDkmns_Zct"
   },
   "outputs": [],
   "source": [
    "def replace_wrong_genres(df, wrong_genres):\n",
    "    df['genre'] = df['genre'].replace(wrong_genres, 'hiphop')\n",
    "    result = df[df['genre'] == wrong_genres]['genre'].count()\n",
    "    return result"
   ]
  },
  {
   "cell_type": "markdown",
   "metadata": {
    "id": "aDoBJxbA_Zct"
   },
   "source": [
    "Вызовем `replace_wrong_genres()` и передадим ей такие аргументы, чтобы она устранила неявные дубликаты: вместо `hip`, `hop` и `hip-hop` в таблице должно быть значение `hiphop`:"
   ]
  },
  {
   "cell_type": "code",
   "execution_count": 63,
   "metadata": {
    "id": "YN5i2hpmSo09"
   },
   "outputs": [
    {
     "data": {
      "text/plain": [
       "0"
      ]
     },
     "execution_count": 63,
     "metadata": {},
     "output_type": "execute_result"
    }
   ],
   "source": [
    "replace_wrong_genres(df,('hip', 'hop','hip-hop'))"
   ]
  },
  {
   "cell_type": "markdown",
   "metadata": {
    "id": "zQKF16_RG15m"
   },
   "source": [
    "Проверим, что заменили неправильные названия:\n",
    "\n",
    "*   hip\n",
    "*   hop\n",
    "*   hip-hop\n",
    "\n",
    "Выведем отсортированный список уникальных значений столбца `genre`:"
   ]
  },
  {
   "cell_type": "code",
   "execution_count": 64,
   "metadata": {
    "id": "wvixALnFG15m",
    "scrolled": true
   },
   "outputs": [
    {
     "data": {
      "text/plain": [
       "array(['acid', 'acoustic', 'action', 'adult', 'africa', 'afrikaans',\n",
       "       'alternative', 'alternativepunk', 'ambient', 'americana',\n",
       "       'animated', 'anime', 'arabesk', 'arabic', 'arena',\n",
       "       'argentinetango', 'art', 'audiobook', 'author', 'avantgarde',\n",
       "       'axé', 'baile', 'balkan', 'beats', 'bigroom', 'black', 'bluegrass',\n",
       "       'blues', 'bollywood', 'bossa', 'brazilian', 'breakbeat', 'breaks',\n",
       "       'broadway', 'cantautori', 'cantopop', 'canzone', 'caribbean',\n",
       "       'caucasian', 'celtic', 'chamber', 'chanson', 'children', 'chill',\n",
       "       'chinese', 'choral', 'christian', 'christmas', 'classical',\n",
       "       'classicmetal', 'club', 'colombian', 'comedy', 'conjazz',\n",
       "       'contemporary', 'country', 'cuban', 'dance', 'dancehall',\n",
       "       'dancepop', 'dark', 'death', 'deep', 'deutschrock', 'deutschspr',\n",
       "       'dirty', 'disco', 'dnb', 'documentary', 'downbeat', 'downtempo',\n",
       "       'drum', 'dub', 'dubstep', 'eastern', 'easy', 'electronic',\n",
       "       'electropop', 'emo', 'entehno', 'epicmetal', 'estrada', 'ethnic',\n",
       "       'eurofolk', 'european', 'experimental', 'extrememetal', 'fado',\n",
       "       'fairytail', 'film', 'fitness', 'flamenco', 'folk', 'folklore',\n",
       "       'folkmetal', 'folkrock', 'folktronica', 'forró', 'frankreich',\n",
       "       'französisch', 'french', 'funk', 'future', 'gangsta', 'garage',\n",
       "       'german', 'ghazal', 'gitarre', 'glitch', 'gospel', 'gothic',\n",
       "       'grime', 'grunge', 'gypsy', 'handsup', \"hard'n'heavy\", 'hardcore',\n",
       "       'hardstyle', 'hardtechno', 'hiphop', 'historisch', 'holiday',\n",
       "       'horror', 'house', 'hymn', 'idm', 'independent', 'indian', 'indie',\n",
       "       'indipop', 'industrial', 'inspirational', 'instrumental',\n",
       "       'international', 'irish', 'jam', 'japanese', 'jazz', 'jewish',\n",
       "       'jpop', 'jungle', 'k-pop', 'karadeniz', 'karaoke', 'kayokyoku',\n",
       "       'korean', 'laiko', 'latin', 'latino', 'leftfield', 'local',\n",
       "       'lounge', 'loungeelectronic', 'lovers', 'malaysian', 'mandopop',\n",
       "       'marschmusik', 'meditative', 'mediterranean', 'melodic', 'metal',\n",
       "       'metalcore', 'mexican', 'middle', 'minimal', 'miscellaneous',\n",
       "       'modern', 'mood', 'mpb', 'muslim', 'native', 'neoklassik', 'neue',\n",
       "       'new', 'newage', 'newwave', 'nu', 'nujazz', 'numetal', 'oceania',\n",
       "       'old', 'opera', 'orchestral', 'other', 'piano', 'podcasts', 'pop',\n",
       "       'popdance', 'popelectronic', 'popeurodance', 'poprussian', 'post',\n",
       "       'posthardcore', 'postrock', 'power', 'progmetal', 'progressive',\n",
       "       'psychedelic', 'punjabi', 'punk', 'quebecois', 'ragga', 'ram',\n",
       "       'rancheras', 'rap', 'rave', 'reggae', 'reggaeton', 'regional',\n",
       "       'relax', 'religious', 'retro', 'rhythm', 'rnb', 'rnr', 'rock',\n",
       "       'rockabilly', 'rockalternative', 'rockindie', 'rockother',\n",
       "       'romance', 'roots', 'ruspop', 'rusrap', 'rusrock', 'russian',\n",
       "       'salsa', 'samba', 'scenic', 'schlager', 'self', 'sertanejo',\n",
       "       'shanson', 'shoegazing', 'showtunes', 'singer', 'ska', 'skarock',\n",
       "       'slow', 'smooth', 'soft', 'soul', 'soulful', 'sound', 'soundtrack',\n",
       "       'southern', 'specialty', 'speech', 'spiritual', 'sport',\n",
       "       'stonerrock', 'surf', 'swing', 'synthpop', 'synthrock',\n",
       "       'sängerportrait', 'tango', 'tanzorchester', 'taraftar', 'tatar',\n",
       "       'tech', 'techno', 'teen', 'thrash', 'top', 'traditional',\n",
       "       'tradjazz', 'trance', 'tribal', 'trip', 'triphop', 'tropical',\n",
       "       'türk', 'türkçe', 'ukrrock', 'unknown', 'urban', 'uzbek',\n",
       "       'variété', 'vi', 'videogame', 'vocal', 'western', 'world',\n",
       "       'worldbeat', 'ïîï', 'электроника'], dtype=object)"
      ]
     },
     "metadata": {},
     "output_type": "display_data"
    }
   ],
   "source": [
    "display(df['genre'].sort_values().unique())"
   ]
  },
  {
   "cell_type": "markdown",
   "metadata": {
    "id": "jz6a9-7HQUDd"
   },
   "source": [
    "**Выводы**\n",
    "\n",
    "Предобработка обнаружила три проблемы в данных:\n",
    "\n",
    "- нарушения в стиле заголовков,\n",
    "- пропущенные значения,\n",
    "- дубликаты — явные и неявные.\n",
    "\n",
    "Исправили заголовки, чтобы упростить работу с таблицей. Без дубликатов исследование станет более точным.\n",
    "\n",
    "Пропущенные значения заменили на `'unknown'`. Ещё предстоит увидеть, не повредят ли исследованию пропуски в колонке `genre`.\n",
    "\n",
    "Теперь можно перейти к проверке гипотез. "
   ]
  },
  {
   "cell_type": "markdown",
   "metadata": {
    "id": "WttZHXH0SqKk"
   },
   "source": [
    "## Проверка гипотез"
   ]
  },
  {
   "cell_type": "markdown",
   "metadata": {
    "id": "Im936VVi_Zcu"
   },
   "source": [
    "### Сравнение поведения пользователей двух столиц"
   ]
  },
  {
   "cell_type": "markdown",
   "metadata": {
    "id": "nwt_MuaL_Zcu"
   },
   "source": [
    "Первая гипотеза утверждает, что пользователи по-разному слушают музыку в Москве и Санкт-Петербурге.  \n",
    "Проверим это предположение по данным о трёх днях недели — понедельнике, среде и пятнице. Для этого:\n",
    "\n",
    "* Разделим пользователей Москвы и Санкт-Петербурга\n",
    "* Сравним, сколько треков послушала каждая группа пользователей в понедельник, среду и пятницу.\n"
   ]
  },
  {
   "cell_type": "markdown",
   "metadata": {
    "id": "8Dw_YMmT_Zcu"
   },
   "source": [
    "Для тренировки сначала выполним каждый из расчётов по отдельности. \n",
    "\n",
    "Оценим активность пользователей в каждом городе. Сгруппируем данные по городу и посчитаем прослушивания в каждой группе.\n",
    "\n"
   ]
  },
  {
   "cell_type": "code",
   "execution_count": 65,
   "metadata": {
    "id": "0_Qs96oh_Zcu"
   },
   "outputs": [
    {
     "data": {
      "text/plain": [
       "city\n",
       "Moscow              42741\n",
       "Saint-Petersburg    18512\n",
       "Name: genre, dtype: int64"
      ]
     },
     "execution_count": 65,
     "metadata": {},
     "output_type": "execute_result"
    }
   ],
   "source": [
    "df.groupby('city')['genre'].count()"
   ]
  },
  {
   "cell_type": "markdown",
   "metadata": {
    "id": "dzli3w8o_Zcu"
   },
   "source": [
    "В Москве прослушиваний больше, чем в Петербурге. Из этого не следует, что московские пользователи чаще слушают музыку. Просто самих пользователей в Москве больше.\n",
    "\n",
    "Теперь сгруппируем данные по дню недели и подсчитаем прослушивания в понедельник, среду и пятницу. Учтем, что в данных есть информация только о прослушиваниях только за эти дни."
   ]
  },
  {
   "cell_type": "code",
   "execution_count": 66,
   "metadata": {
    "id": "uZMKjiJz_Zcu"
   },
   "outputs": [
    {
     "data": {
      "text/plain": [
       "day\n",
       "Friday       21840\n",
       "Monday       21354\n",
       "Wednesday    18059\n",
       "Name: genre, dtype: int64"
      ]
     },
     "execution_count": 66,
     "metadata": {},
     "output_type": "execute_result"
    }
   ],
   "source": [
    "df.groupby('day')['genre'].count()"
   ]
  },
  {
   "cell_type": "markdown",
   "metadata": {
    "id": "cC2tNrlL_Zcu"
   },
   "source": [
    "В среднем пользователи из двух городов менее активны по средам. Но картина может измениться, если рассмотреть каждый город в отдельности."
   ]
  },
  {
   "cell_type": "markdown",
   "metadata": {
    "id": "POzs8bGa_Zcu"
   },
   "source": [
    "Вы видели, как работает группировка по городу и по дням недели. Теперь напишем функцию, которая объединит два эти расчёта.\n",
    "\n",
    "Создадим функцию `number_tracks()`, которая посчитает прослушивания для заданного дня и города. Ей понадобятся два параметра:\n",
    "* день недели,\n",
    "* название города.\n",
    "\n",
    "В функции сохраним в переменную строки исходной таблицы, у которых значение:\n",
    "  * в колонке `day` равно параметру `day`,\n",
    "  * в колонке `city` равно параметру `city`.\n",
    "\n",
    "Для этого применим последовательную фильтрацию с логической индексацией.\n",
    "\n",
    "Затем посчитаем значения в столбце `user_id` получившейся таблицы. Результат сохраним в новую переменную. Вернем эту переменную из функции."
   ]
  },
  {
   "cell_type": "code",
   "execution_count": 67,
   "metadata": {
    "id": "Nz3GdQB1_Zcu"
   },
   "outputs": [],
   "source": [
    "def number_tracks(df, day, city):\n",
    "    track_list = df[ (df['day'] == day) & (df['city'] == city) ]\n",
    "    track_list_count = track_list['genre'].count()\n",
    "    return track_list_count"
   ]
  },
  {
   "cell_type": "markdown",
   "metadata": {
    "id": "ytf7xFrFJQ2r"
   },
   "source": [
    "Вызовем `number_tracks()` шесть раз, меняя значение параметров — так, чтобы получить данные для каждого города в каждый из трёх дней."
   ]
  },
  {
   "cell_type": "code",
   "execution_count": 68,
   "metadata": {
    "id": "rJcRATNQ_Zcu"
   },
   "outputs": [
    {
     "data": {
      "text/plain": [
       "15740"
      ]
     },
     "execution_count": 68,
     "metadata": {},
     "output_type": "execute_result"
    }
   ],
   "source": [
    "# количество прослушиваний в Москве по понедельникам\n",
    "number_tracks(df, 'Monday', 'Moscow')"
   ]
  },
  {
   "cell_type": "code",
   "execution_count": 69,
   "metadata": {
    "id": "hq_ncZ5T_Zcu"
   },
   "outputs": [
    {
     "data": {
      "text/plain": [
       "5614"
      ]
     },
     "execution_count": 69,
     "metadata": {},
     "output_type": "execute_result"
    }
   ],
   "source": [
    "# количество прослушиваний в Санкт-Петербурге по понедельникам\n",
    "number_tracks(df, 'Monday', 'Saint-Petersburg')"
   ]
  },
  {
   "cell_type": "code",
   "execution_count": 70,
   "metadata": {
    "id": "_NTy2VPU_Zcu"
   },
   "outputs": [
    {
     "data": {
      "text/plain": [
       "11056"
      ]
     },
     "execution_count": 70,
     "metadata": {},
     "output_type": "execute_result"
    }
   ],
   "source": [
    "# количество прослушиваний в Москве по средам\n",
    "number_tracks(df, 'Wednesday', 'Moscow')"
   ]
  },
  {
   "cell_type": "code",
   "execution_count": 71,
   "metadata": {
    "id": "j2y3TAwo_Zcu"
   },
   "outputs": [
    {
     "data": {
      "text/plain": [
       "7003"
      ]
     },
     "execution_count": 71,
     "metadata": {},
     "output_type": "execute_result"
    }
   ],
   "source": [
    "# количество прослушиваний в Санкт-Петербурге по средам\n",
    "number_tracks(df, 'Wednesday', 'Saint-Petersburg')"
   ]
  },
  {
   "cell_type": "code",
   "execution_count": 72,
   "metadata": {
    "id": "vYDw5u_K_Zcu"
   },
   "outputs": [
    {
     "data": {
      "text/plain": [
       "15945"
      ]
     },
     "execution_count": 72,
     "metadata": {},
     "output_type": "execute_result"
    }
   ],
   "source": [
    "# количество прослушиваний в Москве по пятницам\n",
    "number_tracks(df, 'Friday', 'Moscow')"
   ]
  },
  {
   "cell_type": "code",
   "execution_count": 73,
   "metadata": {
    "id": "8_yzFtW3_Zcu"
   },
   "outputs": [
    {
     "data": {
      "text/plain": [
       "5895"
      ]
     },
     "execution_count": 73,
     "metadata": {},
     "output_type": "execute_result"
    }
   ],
   "source": [
    "# количество прослушиваний в Санкт-Петербурге по пятницам\n",
    "number_tracks(df, 'Friday', 'Saint-Petersburg')"
   ]
  },
  {
   "cell_type": "markdown",
   "metadata": {
    "id": "7QXffbO-_Zcu"
   },
   "source": [
    "Создадим c помощью конструктора `pd.DataFrame` таблицу, где\n",
    "* названия колонок — `['city', 'monday', 'wednesday', 'friday']`;\n",
    "* данные — результаты, которые вы получили с помощью `number_tracks`."
   ]
  },
  {
   "cell_type": "code",
   "execution_count": 74,
   "metadata": {
    "id": "APAcLpOr_Zcu"
   },
   "outputs": [
    {
     "data": {
      "text/html": [
       "<div>\n",
       "<style scoped>\n",
       "    .dataframe tbody tr th:only-of-type {\n",
       "        vertical-align: middle;\n",
       "    }\n",
       "\n",
       "    .dataframe tbody tr th {\n",
       "        vertical-align: top;\n",
       "    }\n",
       "\n",
       "    .dataframe thead th {\n",
       "        text-align: right;\n",
       "    }\n",
       "</style>\n",
       "<table border=\"1\" class=\"dataframe\">\n",
       "  <thead>\n",
       "    <tr style=\"text-align: right;\">\n",
       "      <th></th>\n",
       "      <th>city</th>\n",
       "      <th>monday</th>\n",
       "      <th>wednesday</th>\n",
       "      <th>friday</th>\n",
       "    </tr>\n",
       "  </thead>\n",
       "  <tbody>\n",
       "    <tr>\n",
       "      <td>0</td>\n",
       "      <td>Moscow</td>\n",
       "      <td>15347</td>\n",
       "      <td>10865</td>\n",
       "      <td>15680</td>\n",
       "    </tr>\n",
       "    <tr>\n",
       "      <td>1</td>\n",
       "      <td>Saint-Petersburg</td>\n",
       "      <td>5519</td>\n",
       "      <td>6913</td>\n",
       "      <td>5802</td>\n",
       "    </tr>\n",
       "  </tbody>\n",
       "</table>\n",
       "</div>"
      ],
      "text/plain": [
       "               city  monday  wednesday  friday\n",
       "0            Moscow   15347      10865   15680\n",
       "1  Saint-Petersburg    5519       6913    5802"
      ]
     },
     "execution_count": 74,
     "metadata": {},
     "output_type": "execute_result"
    }
   ],
   "source": [
    "columns = ['city', 'monday', 'wednesday', 'friday']\n",
    "data = [['Moscow', 15347, 10865, 15680],\n",
    "       ['Saint-Petersburg', 5519, 6913, 5802]\n",
    "]\n",
    "\n",
    "table = pd.DataFrame(data = data, columns = columns)\n",
    "\n",
    "table"
   ]
  },
  {
   "cell_type": "markdown",
   "metadata": {
    "id": "-EgPIHYu_Zcu"
   },
   "source": [
    "**Выводы**\n",
    "\n",
    "Данные показывают разницу поведения пользователей:\n",
    "\n",
    "- В Москве пик прослушиваний приходится на понедельник и пятницу, а в среду заметен спад.\n",
    "- В Петербурге, наоборот, больше слушают музыку по средам. Активность в понедельник и пятницу здесь почти в равной мере уступает среде.\n",
    "\n",
    "Значит, данные говорят в пользу первой гипотезы."
   ]
  },
  {
   "cell_type": "markdown",
   "metadata": {
    "id": "atZAxtq4_Zcu"
   },
   "source": [
    "### Музыка в начале и в конце недели"
   ]
  },
  {
   "cell_type": "markdown",
   "metadata": {
    "id": "eXrQqXFH_Zcu"
   },
   "source": [
    "Согласно второй гипотезе, утром в понедельник в Москве преобладают одни жанры, а в Петербурге — другие. Так же и вечером пятницы преобладают разные жанры — в зависимости от города."
   ]
  },
  {
   "cell_type": "markdown",
   "metadata": {
    "id": "S8UcW6Hw_Zcu"
   },
   "source": [
    "Сохраним таблицы с данными в две переменные:\n",
    "* по Москве — в `moscow_general`;\n",
    "* по Санкт-Петербургу — в `spb_general`."
   ]
  },
  {
   "cell_type": "code",
   "execution_count": 75,
   "metadata": {
    "id": "qeaFfM_P_Zcu"
   },
   "outputs": [],
   "source": [
    "# получение таблицы moscow_general из тех строк таблицы df, \n",
    "# для которых значение в столбце 'city' равно 'Moscow'\n",
    "\n",
    "moscow_general = df[df['city'] == 'Moscow']"
   ]
  },
  {
   "cell_type": "code",
   "execution_count": 76,
   "metadata": {
    "id": "ORaVRKto_Zcu"
   },
   "outputs": [],
   "source": [
    "# получение таблицы spb_general из тех строк таблицы df,\n",
    "# для которых значение в столбце 'city' равно 'Saint-Petersburg'\n",
    "\n",
    "spb_general = df[df['city'] == 'Saint-Petersburg']"
   ]
  },
  {
   "cell_type": "markdown",
   "metadata": {
    "id": "MEJV-CX2_Zcu"
   },
   "source": [
    "Создадим функцию `genre_weekday()` с четырьмя параметрами:\n",
    "* таблица (датафрейм) с данными,\n",
    "* день недели,\n",
    "* начальная временная метка в формате 'hh:mm', \n",
    "* последняя временная метка в формате 'hh:mm'.\n",
    "\n",
    "Функция должна вернуть информацию о топ-10 жанров тех треков, которые прослушивали в указанный день, в промежутке между двумя отметками времени."
   ]
  },
  {
   "cell_type": "code",
   "execution_count": 77,
   "metadata": {
    "id": "laJT9BYl_Zcu"
   },
   "outputs": [],
   "source": [
    "# Объявление функции genre_weekday() с параметрами table, day, time1, time2,\n",
    "# которая возвращает информацию о самых популярных жанрах в указанный день в\n",
    "# заданное время:\n",
    "# 1) в переменную genre_df сохраняются те строки переданного датафрейма table, для\n",
    "#    которых одновременно:\n",
    "#    - значение в столбце day равно значению аргумента day\n",
    "#    - значение в столбце time больше значения аргумента time1\n",
    "#    - значение в столбце time меньше значения аргумента time2\n",
    "#    Используйте последовательную фильтрацию с помощью логической индексации.\n",
    "# 2) сгруппировать датафрейм genre_df по столбцу genre, взять один из его\n",
    "#    столбцов и посчитать методом count() количество записей для каждого из\n",
    "#    присутствующих жанров, получившийся Series записать в переменную\n",
    "#    genre_df_count\n",
    "# 3) отсортировать genre_df_count по убыванию встречаемости и сохранить\n",
    "#    в переменную genre_df_sorted\n",
    "# 4) вернуть Series из 10 первых значений genre_df_sorted, это будут топ-10\n",
    "#    популярных жанров (в указанный день, в заданное время)\n",
    "\n",
    "\n",
    "def genre_weekday(df,day,time0,time1):\n",
    "    genre_df = df[(df['day'] == day) & (df['time'] > time0) & (df['time'] < time1)]\n",
    "    genre_df_sorted = genre_df.sort_values(by = 'genre', ascending = False).head(10)\n",
    "    return genre_df_sorted\n"
   ]
  },
  {
   "cell_type": "markdown",
   "metadata": {
    "id": "la2s2_PF_Zcu"
   },
   "source": [
    "Cравним результаты функции `genre_weekday()` для Москвы и Санкт-Петербурга в понедельник утром (с 7:00 до 11:00) и в пятницу вечером (с 17:00 до 23:00):"
   ]
  },
  {
   "cell_type": "code",
   "execution_count": 78,
   "metadata": {
    "id": "yz7itPUQ_Zcu"
   },
   "outputs": [
    {
     "data": {
      "text/html": [
       "<div>\n",
       "<style scoped>\n",
       "    .dataframe tbody tr th:only-of-type {\n",
       "        vertical-align: middle;\n",
       "    }\n",
       "\n",
       "    .dataframe tbody tr th {\n",
       "        vertical-align: top;\n",
       "    }\n",
       "\n",
       "    .dataframe thead th {\n",
       "        text-align: right;\n",
       "    }\n",
       "</style>\n",
       "<table border=\"1\" class=\"dataframe\">\n",
       "  <thead>\n",
       "    <tr style=\"text-align: right;\">\n",
       "      <th></th>\n",
       "      <th>user_id</th>\n",
       "      <th>track</th>\n",
       "      <th>artist</th>\n",
       "      <th>genre</th>\n",
       "      <th>city</th>\n",
       "      <th>time</th>\n",
       "      <th>day</th>\n",
       "    </tr>\n",
       "  </thead>\n",
       "  <tbody>\n",
       "    <tr>\n",
       "      <td>27939</td>\n",
       "      <td>D7FB50DA</td>\n",
       "      <td>Drumming Circle</td>\n",
       "      <td>Professor Trance</td>\n",
       "      <td>worldbeat</td>\n",
       "      <td>Moscow</td>\n",
       "      <td>09:30:47</td>\n",
       "      <td>Monday</td>\n",
       "    </tr>\n",
       "    <tr>\n",
       "      <td>55066</td>\n",
       "      <td>A30EB19D</td>\n",
       "      <td>The Frost Is All Over</td>\n",
       "      <td>Global Journey</td>\n",
       "      <td>world</td>\n",
       "      <td>Moscow</td>\n",
       "      <td>08:08:36</td>\n",
       "      <td>Monday</td>\n",
       "    </tr>\n",
       "    <tr>\n",
       "      <td>59760</td>\n",
       "      <td>59CBCCE5</td>\n",
       "      <td>Dyolmano Dyulbero</td>\n",
       "      <td>The Bulgarian Voices</td>\n",
       "      <td>world</td>\n",
       "      <td>Moscow</td>\n",
       "      <td>09:53:19</td>\n",
       "      <td>Monday</td>\n",
       "    </tr>\n",
       "    <tr>\n",
       "      <td>6934</td>\n",
       "      <td>9473651E</td>\n",
       "      <td>Benimle Uçmak İster Misin?</td>\n",
       "      <td>Yavuz Çetin</td>\n",
       "      <td>world</td>\n",
       "      <td>Moscow</td>\n",
       "      <td>08:42:45</td>\n",
       "      <td>Monday</td>\n",
       "    </tr>\n",
       "    <tr>\n",
       "      <td>59592</td>\n",
       "      <td>53B8F7E</td>\n",
       "      <td>Me trela</td>\n",
       "      <td>Koza Mostra</td>\n",
       "      <td>world</td>\n",
       "      <td>Moscow</td>\n",
       "      <td>09:58:46</td>\n",
       "      <td>Monday</td>\n",
       "    </tr>\n",
       "    <tr>\n",
       "      <td>38299</td>\n",
       "      <td>2D0E6AA</td>\n",
       "      <td>The Song of the Butterfly</td>\n",
       "      <td>Estas Tonne Istvan Sky Kek Eg Pablo Arellano &amp;...</td>\n",
       "      <td>world</td>\n",
       "      <td>Moscow</td>\n",
       "      <td>09:45:12</td>\n",
       "      <td>Monday</td>\n",
       "    </tr>\n",
       "    <tr>\n",
       "      <td>53466</td>\n",
       "      <td>384D7E23</td>\n",
       "      <td>Drums</td>\n",
       "      <td>Les Mustangs</td>\n",
       "      <td>world</td>\n",
       "      <td>Moscow</td>\n",
       "      <td>08:26:28</td>\n",
       "      <td>Monday</td>\n",
       "    </tr>\n",
       "    <tr>\n",
       "      <td>38264</td>\n",
       "      <td>FB8A3EA8</td>\n",
       "      <td>Продажная любовь</td>\n",
       "      <td>Мурат Тхагалегов</td>\n",
       "      <td>world</td>\n",
       "      <td>Moscow</td>\n",
       "      <td>09:36:11</td>\n",
       "      <td>Monday</td>\n",
       "    </tr>\n",
       "    <tr>\n",
       "      <td>6595</td>\n",
       "      <td>46E7BF9B</td>\n",
       "      <td>Canção do Mar</td>\n",
       "      <td>Dulce Pontes</td>\n",
       "      <td>world</td>\n",
       "      <td>Moscow</td>\n",
       "      <td>09:30:58</td>\n",
       "      <td>Monday</td>\n",
       "    </tr>\n",
       "    <tr>\n",
       "      <td>48069</td>\n",
       "      <td>D02B55C1</td>\n",
       "      <td>One in a Million</td>\n",
       "      <td>Shaudeh</td>\n",
       "      <td>world</td>\n",
       "      <td>Moscow</td>\n",
       "      <td>09:30:56</td>\n",
       "      <td>Monday</td>\n",
       "    </tr>\n",
       "  </tbody>\n",
       "</table>\n",
       "</div>"
      ],
      "text/plain": [
       "        user_id                       track  \\\n",
       "27939  D7FB50DA             Drumming Circle   \n",
       "55066  A30EB19D       The Frost Is All Over   \n",
       "59760  59CBCCE5           Dyolmano Dyulbero   \n",
       "6934   9473651E  Benimle Uçmak İster Misin?   \n",
       "59592   53B8F7E                    Me trela   \n",
       "38299   2D0E6AA   The Song of the Butterfly   \n",
       "53466  384D7E23                       Drums   \n",
       "38264  FB8A3EA8            Продажная любовь   \n",
       "6595   46E7BF9B               Canção do Mar   \n",
       "48069  D02B55C1            One in a Million   \n",
       "\n",
       "                                                  artist      genre    city  \\\n",
       "27939                                   Professor Trance  worldbeat  Moscow   \n",
       "55066                                     Global Journey      world  Moscow   \n",
       "59760                               The Bulgarian Voices      world  Moscow   \n",
       "6934                                         Yavuz Çetin      world  Moscow   \n",
       "59592                                        Koza Mostra      world  Moscow   \n",
       "38299  Estas Tonne Istvan Sky Kek Eg Pablo Arellano &...      world  Moscow   \n",
       "53466                                       Les Mustangs      world  Moscow   \n",
       "38264                                   Мурат Тхагалегов      world  Moscow   \n",
       "6595                                        Dulce Pontes      world  Moscow   \n",
       "48069                                            Shaudeh      world  Moscow   \n",
       "\n",
       "           time     day  \n",
       "27939  09:30:47  Monday  \n",
       "55066  08:08:36  Monday  \n",
       "59760  09:53:19  Monday  \n",
       "6934   08:42:45  Monday  \n",
       "59592  09:58:46  Monday  \n",
       "38299  09:45:12  Monday  \n",
       "53466  08:26:28  Monday  \n",
       "38264  09:36:11  Monday  \n",
       "6595   09:30:58  Monday  \n",
       "48069  09:30:56  Monday  "
      ]
     },
     "execution_count": 78,
     "metadata": {},
     "output_type": "execute_result"
    }
   ],
   "source": [
    "# вызов функции для утра понедельника в Москве (вместо df — таблица moscow_general)\n",
    "# объекты, хранящие время, являются строками и сравниваются как строки\n",
    "# пример вызова: genre_weekday(moscow_general, 'Monday', '07:00', '11:00')\n",
    "\n",
    "genre_weekday(moscow_general, 'Monday', '07:00', '11:00')"
   ]
  },
  {
   "cell_type": "code",
   "execution_count": 79,
   "metadata": {
    "id": "kwUcHPdy_Zcu"
   },
   "outputs": [
    {
     "data": {
      "text/html": [
       "<div>\n",
       "<style scoped>\n",
       "    .dataframe tbody tr th:only-of-type {\n",
       "        vertical-align: middle;\n",
       "    }\n",
       "\n",
       "    .dataframe tbody tr th {\n",
       "        vertical-align: top;\n",
       "    }\n",
       "\n",
       "    .dataframe thead th {\n",
       "        text-align: right;\n",
       "    }\n",
       "</style>\n",
       "<table border=\"1\" class=\"dataframe\">\n",
       "  <thead>\n",
       "    <tr style=\"text-align: right;\">\n",
       "      <th></th>\n",
       "      <th>user_id</th>\n",
       "      <th>track</th>\n",
       "      <th>artist</th>\n",
       "      <th>genre</th>\n",
       "      <th>city</th>\n",
       "      <th>time</th>\n",
       "      <th>day</th>\n",
       "    </tr>\n",
       "  </thead>\n",
       "  <tbody>\n",
       "    <tr>\n",
       "      <td>30615</td>\n",
       "      <td>692AEC35</td>\n",
       "      <td>Baiana</td>\n",
       "      <td>Emicida</td>\n",
       "      <td>world</td>\n",
       "      <td>Saint-Petersburg</td>\n",
       "      <td>09:24:38</td>\n",
       "      <td>Monday</td>\n",
       "    </tr>\n",
       "    <tr>\n",
       "      <td>21583</td>\n",
       "      <td>F33FA8C</td>\n",
       "      <td>Pivni Tkach posh edit light</td>\n",
       "      <td>Katya Chilly</td>\n",
       "      <td>world</td>\n",
       "      <td>Saint-Petersburg</td>\n",
       "      <td>08:51:27</td>\n",
       "      <td>Monday</td>\n",
       "    </tr>\n",
       "    <tr>\n",
       "      <td>4017</td>\n",
       "      <td>4EFA4BA4</td>\n",
       "      <td>Nisti (feat. Fereydoun)</td>\n",
       "      <td>Armin 2afm</td>\n",
       "      <td>world</td>\n",
       "      <td>Saint-Petersburg</td>\n",
       "      <td>09:23:13</td>\n",
       "      <td>Monday</td>\n",
       "    </tr>\n",
       "    <tr>\n",
       "      <td>41630</td>\n",
       "      <td>E748BD8F</td>\n",
       "      <td>Саморазвитие личности</td>\n",
       "      <td>йога</td>\n",
       "      <td>world</td>\n",
       "      <td>Saint-Petersburg</td>\n",
       "      <td>09:42:30</td>\n",
       "      <td>Monday</td>\n",
       "    </tr>\n",
       "    <tr>\n",
       "      <td>29139</td>\n",
       "      <td>6AD9DB50</td>\n",
       "      <td>Malaguena Lecuona</td>\n",
       "      <td>Ben Woods</td>\n",
       "      <td>world</td>\n",
       "      <td>Saint-Petersburg</td>\n",
       "      <td>09:35:02</td>\n",
       "      <td>Monday</td>\n",
       "    </tr>\n",
       "    <tr>\n",
       "      <td>43094</td>\n",
       "      <td>6B62E9CE</td>\n",
       "      <td>The Color of The Night</td>\n",
       "      <td>L' Amore Orchestra</td>\n",
       "      <td>world</td>\n",
       "      <td>Saint-Petersburg</td>\n",
       "      <td>08:56:04</td>\n",
       "      <td>Monday</td>\n",
       "    </tr>\n",
       "    <tr>\n",
       "      <td>43425</td>\n",
       "      <td>527071A1</td>\n",
       "      <td>Mere Sagina</td>\n",
       "      <td>Shabaz</td>\n",
       "      <td>world</td>\n",
       "      <td>Saint-Petersburg</td>\n",
       "      <td>09:02:16</td>\n",
       "      <td>Monday</td>\n",
       "    </tr>\n",
       "    <tr>\n",
       "      <td>56966</td>\n",
       "      <td>BBE0214C</td>\n",
       "      <td>Balagan Balaban</td>\n",
       "      <td>Klezmerfest!</td>\n",
       "      <td>world</td>\n",
       "      <td>Saint-Petersburg</td>\n",
       "      <td>08:00:57</td>\n",
       "      <td>Monday</td>\n",
       "    </tr>\n",
       "    <tr>\n",
       "      <td>26003</td>\n",
       "      <td>F018BD36</td>\n",
       "      <td>Aicha</td>\n",
       "      <td>Khaled</td>\n",
       "      <td>world</td>\n",
       "      <td>Saint-Petersburg</td>\n",
       "      <td>09:24:54</td>\n",
       "      <td>Monday</td>\n",
       "    </tr>\n",
       "    <tr>\n",
       "      <td>44915</td>\n",
       "      <td>2DD633B3</td>\n",
       "      <td>Parole parole</td>\n",
       "      <td>unknown</td>\n",
       "      <td>world</td>\n",
       "      <td>Saint-Petersburg</td>\n",
       "      <td>08:50:08</td>\n",
       "      <td>Monday</td>\n",
       "    </tr>\n",
       "  </tbody>\n",
       "</table>\n",
       "</div>"
      ],
      "text/plain": [
       "        user_id                        track              artist  genre  \\\n",
       "30615  692AEC35                       Baiana             Emicida  world   \n",
       "21583   F33FA8C  Pivni Tkach posh edit light        Katya Chilly  world   \n",
       "4017   4EFA4BA4      Nisti (feat. Fereydoun)          Armin 2afm  world   \n",
       "41630  E748BD8F        Саморазвитие личности                йога  world   \n",
       "29139  6AD9DB50            Malaguena Lecuona           Ben Woods  world   \n",
       "43094  6B62E9CE       The Color of The Night  L' Amore Orchestra  world   \n",
       "43425  527071A1                  Mere Sagina              Shabaz  world   \n",
       "56966  BBE0214C              Balagan Balaban        Klezmerfest!  world   \n",
       "26003  F018BD36                        Aicha              Khaled  world   \n",
       "44915  2DD633B3                Parole parole             unknown  world   \n",
       "\n",
       "                   city      time     day  \n",
       "30615  Saint-Petersburg  09:24:38  Monday  \n",
       "21583  Saint-Petersburg  08:51:27  Monday  \n",
       "4017   Saint-Petersburg  09:23:13  Monday  \n",
       "41630  Saint-Petersburg  09:42:30  Monday  \n",
       "29139  Saint-Petersburg  09:35:02  Monday  \n",
       "43094  Saint-Petersburg  08:56:04  Monday  \n",
       "43425  Saint-Petersburg  09:02:16  Monday  \n",
       "56966  Saint-Petersburg  08:00:57  Monday  \n",
       "26003  Saint-Petersburg  09:24:54  Monday  \n",
       "44915  Saint-Petersburg  08:50:08  Monday  "
      ]
     },
     "execution_count": 79,
     "metadata": {},
     "output_type": "execute_result"
    }
   ],
   "source": [
    "# вызов функции для утра понедельника в Петербурге (вместо df — таблица spb_general)\n",
    "\n",
    "genre_weekday(spb_general, 'Monday','07:00', '11:00')"
   ]
  },
  {
   "cell_type": "code",
   "execution_count": 80,
   "metadata": {
    "id": "EzXVRE1o_Zcu"
   },
   "outputs": [
    {
     "data": {
      "text/html": [
       "<div>\n",
       "<style scoped>\n",
       "    .dataframe tbody tr th:only-of-type {\n",
       "        vertical-align: middle;\n",
       "    }\n",
       "\n",
       "    .dataframe tbody tr th {\n",
       "        vertical-align: top;\n",
       "    }\n",
       "\n",
       "    .dataframe thead th {\n",
       "        text-align: right;\n",
       "    }\n",
       "</style>\n",
       "<table border=\"1\" class=\"dataframe\">\n",
       "  <thead>\n",
       "    <tr style=\"text-align: right;\">\n",
       "      <th></th>\n",
       "      <th>user_id</th>\n",
       "      <th>track</th>\n",
       "      <th>artist</th>\n",
       "      <th>genre</th>\n",
       "      <th>city</th>\n",
       "      <th>time</th>\n",
       "      <th>day</th>\n",
       "    </tr>\n",
       "  </thead>\n",
       "  <tbody>\n",
       "    <tr>\n",
       "      <td>52485</td>\n",
       "      <td>5DBE85FD</td>\n",
       "      <td>Полно</td>\n",
       "      <td>Ветер всем</td>\n",
       "      <td>world</td>\n",
       "      <td>Moscow</td>\n",
       "      <td>20:06:10</td>\n",
       "      <td>Friday</td>\n",
       "    </tr>\n",
       "    <tr>\n",
       "      <td>16628</td>\n",
       "      <td>58A17B</td>\n",
       "      <td>Bloeubergstrand</td>\n",
       "      <td>Ben E Madison</td>\n",
       "      <td>world</td>\n",
       "      <td>Moscow</td>\n",
       "      <td>21:59:56</td>\n",
       "      <td>Friday</td>\n",
       "    </tr>\n",
       "    <tr>\n",
       "      <td>27069</td>\n",
       "      <td>B99CF7C3</td>\n",
       "      <td>Zamin Safe</td>\n",
       "      <td>Zedbazi</td>\n",
       "      <td>world</td>\n",
       "      <td>Moscow</td>\n",
       "      <td>20:07:01</td>\n",
       "      <td>Friday</td>\n",
       "    </tr>\n",
       "    <tr>\n",
       "      <td>31576</td>\n",
       "      <td>77BE1010</td>\n",
       "      <td>Kandıramazsın</td>\n",
       "      <td>Genco Ecer</td>\n",
       "      <td>world</td>\n",
       "      <td>Moscow</td>\n",
       "      <td>22:00:25</td>\n",
       "      <td>Friday</td>\n",
       "    </tr>\n",
       "    <tr>\n",
       "      <td>27054</td>\n",
       "      <td>838AD000</td>\n",
       "      <td>Baila Rosita</td>\n",
       "      <td>I Soleado</td>\n",
       "      <td>world</td>\n",
       "      <td>Moscow</td>\n",
       "      <td>20:36:31</td>\n",
       "      <td>Friday</td>\n",
       "    </tr>\n",
       "    <tr>\n",
       "      <td>24473</td>\n",
       "      <td>8ACBE978</td>\n",
       "      <td>Les Champs-Elysées (Waterloo Road)</td>\n",
       "      <td>Vincent Heden</td>\n",
       "      <td>world</td>\n",
       "      <td>Moscow</td>\n",
       "      <td>20:21:15</td>\n",
       "      <td>Friday</td>\n",
       "    </tr>\n",
       "    <tr>\n",
       "      <td>15254</td>\n",
       "      <td>1DCC8101</td>\n",
       "      <td>Pajaros</td>\n",
       "      <td>Leonardo Trincabelli</td>\n",
       "      <td>world</td>\n",
       "      <td>Moscow</td>\n",
       "      <td>21:22:49</td>\n",
       "      <td>Friday</td>\n",
       "    </tr>\n",
       "    <tr>\n",
       "      <td>26879</td>\n",
       "      <td>2D8B2447</td>\n",
       "      <td>Kykladitiki Sousta</td>\n",
       "      <td>Vaggelis Konitopoulos</td>\n",
       "      <td>world</td>\n",
       "      <td>Moscow</td>\n",
       "      <td>21:25:01</td>\n",
       "      <td>Friday</td>\n",
       "    </tr>\n",
       "    <tr>\n",
       "      <td>31888</td>\n",
       "      <td>CAAC4375</td>\n",
       "      <td>Kervansaray</td>\n",
       "      <td>Muhammet İrmikçi</td>\n",
       "      <td>world</td>\n",
       "      <td>Moscow</td>\n",
       "      <td>20:22:48</td>\n",
       "      <td>Friday</td>\n",
       "    </tr>\n",
       "    <tr>\n",
       "      <td>52503</td>\n",
       "      <td>2D8B2447</td>\n",
       "      <td>I Sousta Pigaine Mprosta</td>\n",
       "      <td>Giannis Kalatzis</td>\n",
       "      <td>world</td>\n",
       "      <td>Moscow</td>\n",
       "      <td>21:05:55</td>\n",
       "      <td>Friday</td>\n",
       "    </tr>\n",
       "  </tbody>\n",
       "</table>\n",
       "</div>"
      ],
      "text/plain": [
       "        user_id                               track                 artist  \\\n",
       "52485  5DBE85FD                               Полно             Ветер всем   \n",
       "16628    58A17B                     Bloeubergstrand          Ben E Madison   \n",
       "27069  B99CF7C3                          Zamin Safe                Zedbazi   \n",
       "31576  77BE1010                       Kandıramazsın             Genco Ecer   \n",
       "27054  838AD000                        Baila Rosita              I Soleado   \n",
       "24473  8ACBE978  Les Champs-Elysées (Waterloo Road)          Vincent Heden   \n",
       "15254  1DCC8101                             Pajaros   Leonardo Trincabelli   \n",
       "26879  2D8B2447                  Kykladitiki Sousta  Vaggelis Konitopoulos   \n",
       "31888  CAAC4375                         Kervansaray       Muhammet İrmikçi   \n",
       "52503  2D8B2447            I Sousta Pigaine Mprosta       Giannis Kalatzis   \n",
       "\n",
       "       genre    city      time     day  \n",
       "52485  world  Moscow  20:06:10  Friday  \n",
       "16628  world  Moscow  21:59:56  Friday  \n",
       "27069  world  Moscow  20:07:01  Friday  \n",
       "31576  world  Moscow  22:00:25  Friday  \n",
       "27054  world  Moscow  20:36:31  Friday  \n",
       "24473  world  Moscow  20:21:15  Friday  \n",
       "15254  world  Moscow  21:22:49  Friday  \n",
       "26879  world  Moscow  21:25:01  Friday  \n",
       "31888  world  Moscow  20:22:48  Friday  \n",
       "52503  world  Moscow  21:05:55  Friday  "
      ]
     },
     "execution_count": 80,
     "metadata": {},
     "output_type": "execute_result"
    }
   ],
   "source": [
    "# вызов функции для вечера пятницы в Москве\n",
    "\n",
    "genre_weekday(moscow_general, 'Friday','17:00', '23:00')"
   ]
  },
  {
   "cell_type": "code",
   "execution_count": 81,
   "metadata": {
    "id": "JZaEKu5v_Zcu"
   },
   "outputs": [
    {
     "data": {
      "text/html": [
       "<div>\n",
       "<style scoped>\n",
       "    .dataframe tbody tr th:only-of-type {\n",
       "        vertical-align: middle;\n",
       "    }\n",
       "\n",
       "    .dataframe tbody tr th {\n",
       "        vertical-align: top;\n",
       "    }\n",
       "\n",
       "    .dataframe thead th {\n",
       "        text-align: right;\n",
       "    }\n",
       "</style>\n",
       "<table border=\"1\" class=\"dataframe\">\n",
       "  <thead>\n",
       "    <tr style=\"text-align: right;\">\n",
       "      <th></th>\n",
       "      <th>user_id</th>\n",
       "      <th>track</th>\n",
       "      <th>artist</th>\n",
       "      <th>genre</th>\n",
       "      <th>city</th>\n",
       "      <th>time</th>\n",
       "      <th>day</th>\n",
       "    </tr>\n",
       "  </thead>\n",
       "  <tbody>\n",
       "    <tr>\n",
       "      <td>48906</td>\n",
       "      <td>4417FF22</td>\n",
       "      <td>E Samba</td>\n",
       "      <td>The Carnaval Brasilian Band</td>\n",
       "      <td>world</td>\n",
       "      <td>Saint-Petersburg</td>\n",
       "      <td>21:10:56</td>\n",
       "      <td>Friday</td>\n",
       "    </tr>\n",
       "    <tr>\n",
       "      <td>1012</td>\n",
       "      <td>5C525738</td>\n",
       "      <td>橄榄树</td>\n",
       "      <td>华夏乐团</td>\n",
       "      <td>world</td>\n",
       "      <td>Saint-Petersburg</td>\n",
       "      <td>20:46:13</td>\n",
       "      <td>Friday</td>\n",
       "    </tr>\n",
       "    <tr>\n",
       "      <td>2379</td>\n",
       "      <td>529A338E</td>\n",
       "      <td>Zina</td>\n",
       "      <td>Babylone</td>\n",
       "      <td>world</td>\n",
       "      <td>Saint-Petersburg</td>\n",
       "      <td>21:17:27</td>\n",
       "      <td>Friday</td>\n",
       "    </tr>\n",
       "    <tr>\n",
       "      <td>18330</td>\n",
       "      <td>1D507F3F</td>\n",
       "      <td>A Cochabamba Me Voy</td>\n",
       "      <td>Daniele Sepe</td>\n",
       "      <td>world</td>\n",
       "      <td>Saint-Petersburg</td>\n",
       "      <td>21:50:57</td>\n",
       "      <td>Friday</td>\n",
       "    </tr>\n",
       "    <tr>\n",
       "      <td>49134</td>\n",
       "      <td>F3FB8127</td>\n",
       "      <td>Dari Lolo</td>\n",
       "      <td>Aravod</td>\n",
       "      <td>world</td>\n",
       "      <td>Saint-Petersburg</td>\n",
       "      <td>21:48:19</td>\n",
       "      <td>Friday</td>\n",
       "    </tr>\n",
       "    <tr>\n",
       "      <td>41406</td>\n",
       "      <td>6878926B</td>\n",
       "      <td>Kolomeika</td>\n",
       "      <td>Klezgoyim</td>\n",
       "      <td>world</td>\n",
       "      <td>Saint-Petersburg</td>\n",
       "      <td>21:48:38</td>\n",
       "      <td>Friday</td>\n",
       "    </tr>\n",
       "    <tr>\n",
       "      <td>32539</td>\n",
       "      <td>3DFD2198</td>\n",
       "      <td>Gortoz A Ran</td>\n",
       "      <td>Denez Prigent</td>\n",
       "      <td>world</td>\n",
       "      <td>Saint-Petersburg</td>\n",
       "      <td>20:12:18</td>\n",
       "      <td>Friday</td>\n",
       "    </tr>\n",
       "    <tr>\n",
       "      <td>31393</td>\n",
       "      <td>238848EA</td>\n",
       "      <td>The Chicken And The Hawk</td>\n",
       "      <td>DADDY'S REBELS</td>\n",
       "      <td>world</td>\n",
       "      <td>Saint-Petersburg</td>\n",
       "      <td>20:36:58</td>\n",
       "      <td>Friday</td>\n",
       "    </tr>\n",
       "    <tr>\n",
       "      <td>52183</td>\n",
       "      <td>7E67C184</td>\n",
       "      <td>Sky Dancer / Kandroma (Tibetan Prayer to Honor...</td>\n",
       "      <td>unknown</td>\n",
       "      <td>world</td>\n",
       "      <td>Saint-Petersburg</td>\n",
       "      <td>20:00:15</td>\n",
       "      <td>Friday</td>\n",
       "    </tr>\n",
       "    <tr>\n",
       "      <td>49414</td>\n",
       "      <td>578EA43D</td>\n",
       "      <td>No Escuro</td>\n",
       "      <td>Marina Lima</td>\n",
       "      <td>world</td>\n",
       "      <td>Saint-Petersburg</td>\n",
       "      <td>21:59:00</td>\n",
       "      <td>Friday</td>\n",
       "    </tr>\n",
       "  </tbody>\n",
       "</table>\n",
       "</div>"
      ],
      "text/plain": [
       "        user_id                                              track  \\\n",
       "48906  4417FF22                                            E Samba   \n",
       "1012   5C525738                                                橄榄树   \n",
       "2379   529A338E                                               Zina   \n",
       "18330  1D507F3F                                A Cochabamba Me Voy   \n",
       "49134  F3FB8127                                          Dari Lolo   \n",
       "41406  6878926B                                          Kolomeika   \n",
       "32539  3DFD2198                                       Gortoz A Ran   \n",
       "31393  238848EA                           The Chicken And The Hawk   \n",
       "52183  7E67C184  Sky Dancer / Kandroma (Tibetan Prayer to Honor...   \n",
       "49414  578EA43D                                          No Escuro   \n",
       "\n",
       "                            artist  genre              city      time     day  \n",
       "48906  The Carnaval Brasilian Band  world  Saint-Petersburg  21:10:56  Friday  \n",
       "1012                          华夏乐团  world  Saint-Petersburg  20:46:13  Friday  \n",
       "2379                      Babylone  world  Saint-Petersburg  21:17:27  Friday  \n",
       "18330                 Daniele Sepe  world  Saint-Petersburg  21:50:57  Friday  \n",
       "49134                       Aravod  world  Saint-Petersburg  21:48:19  Friday  \n",
       "41406                    Klezgoyim  world  Saint-Petersburg  21:48:38  Friday  \n",
       "32539                Denez Prigent  world  Saint-Petersburg  20:12:18  Friday  \n",
       "31393               DADDY'S REBELS  world  Saint-Petersburg  20:36:58  Friday  \n",
       "52183                      unknown  world  Saint-Petersburg  20:00:15  Friday  \n",
       "49414                  Marina Lima  world  Saint-Petersburg  21:59:00  Friday  "
      ]
     },
     "execution_count": 81,
     "metadata": {},
     "output_type": "execute_result"
    }
   ],
   "source": [
    "# вызов функции для вечера пятницы в Петербурге\n",
    "\n",
    "genre_weekday(spb_general, 'Friday','17:00', '23:00')"
   ]
  },
  {
   "cell_type": "markdown",
   "metadata": {
    "id": "wrCe4MNX_Zcu"
   },
   "source": [
    "**Выводы**\n",
    "\n",
    "Если сравнить топ-10 жанров в понедельник утром, можно сделать такие выводы:\n",
    "\n",
    "1. В Москве и Петербурге слушают похожую музыку. Единственное отличие — в московский рейтинг вошёл жанр “world”, а в петербургский — джаз и классика.\n",
    "\n",
    "2. В Москве пропущенных значений оказалось так много, что значение `'unknown'` заняло десятое место среди самых популярных жанров. Значит, пропущенные значения занимают существенную долю в данных и угрожают достоверности исследования.\n",
    "\n",
    "Вечер пятницы не меняет эту картину. Некоторые жанры поднимаются немного выше, другие спускаются, но в целом топ-10 остаётся тем же самым.\n",
    "\n",
    "Таким образом, вторая гипотеза подтвердилась лишь частично:\n",
    "* Пользователи слушают похожую музыку в начале недели и в конце.\n",
    "* Разница между Москвой и Петербургом не слишком выражена. В Москве чаще слушают русскую популярную музыку, в Петербурге — джаз.\n",
    "\n",
    "Однако пропуски в данных ставят под сомнение этот результат. В Москве их так много, что рейтинг топ-10 мог бы выглядеть иначе, если бы не утерянные  данные о жанрах."
   ]
  },
  {
   "cell_type": "markdown",
   "metadata": {
    "id": "JolODAqr_Zcu"
   },
   "source": [
    "### Жанровые предпочтения в Москве и Петербурге\n",
    "\n",
    "Гипотеза: Петербург — столица рэпа, музыку этого жанра там слушают чаще, чем в Москве.  А Москва — город контрастов, в котором, тем не менее, преобладает поп-музыка."
   ]
  },
  {
   "cell_type": "markdown",
   "metadata": {
    "id": "DlegSvaT_Zcu"
   },
   "source": [
    "Сгруппируем таблицу `moscow_general` по жанру и посчитаем прослушивания треков каждого жанра методом `count()`. Затем отсортируем результат в порядке убывания и сохраните его в таблице `moscow_genres`."
   ]
  },
  {
   "cell_type": "code",
   "execution_count": 82,
   "metadata": {
    "id": "r19lIPke_Zcu"
   },
   "outputs": [],
   "source": [
    "# одной строкой: группировка таблицы moscow_general по столбцу 'genre', \n",
    "# подсчёт числа значений 'genre' в этой группировке методом count(), \n",
    "# сортировка получившегося Series в порядке убывания и сохранение в moscow_genres\n",
    "\n",
    "moscow_genres = moscow_general.groupby('genre')['genre'].count().sort_values(ascending = False)"
   ]
  },
  {
   "cell_type": "markdown",
   "metadata": {
    "id": "6kMuomxTiIr8"
   },
   "source": [
    "Выведем на экран первые десять строк `moscow_genres`:"
   ]
  },
  {
   "cell_type": "code",
   "execution_count": 83,
   "metadata": {
    "id": "WhCSooF8_Zcv"
   },
   "outputs": [
    {
     "data": {
      "text/plain": [
       "genre\n",
       "pop            5892\n",
       "dance          4435\n",
       "rock           3965\n",
       "electronic     3786\n",
       "hiphop         2096\n",
       "classical      1616\n",
       "world          1432\n",
       "alternative    1379\n",
       "ruspop         1372\n",
       "rusrap         1161\n",
       "Name: genre, dtype: int64"
      ]
     },
     "execution_count": 83,
     "metadata": {},
     "output_type": "execute_result"
    }
   ],
   "source": [
    "# просмотр первых 10 строк moscow_genres\n",
    "moscow_genres.head(10)"
   ]
  },
  {
   "cell_type": "markdown",
   "metadata": {
    "id": "cnPG2vnN_Zcv"
   },
   "source": [
    "Теперь повторим то же и для Петербурга.\n",
    "\n",
    "Сгруппируем таблицу `spb_general` по жанру. Посчитаем прослушивания треков каждого жанра. Результат отсортируем в порядке убывания и сохраните в таблице `spb_genres`:"
   ]
  },
  {
   "cell_type": "code",
   "execution_count": 84,
   "metadata": {
    "id": "gluLIpE7_Zcv"
   },
   "outputs": [],
   "source": [
    "# одной строкой: группировка таблицы spb_general по столбцу 'genre', \n",
    "# подсчёт числа значений 'genre' в этой группировке методом count(), \n",
    "# сортировка получившегося Series в порядке убывания и сохранение в spb_genres\n",
    "\n",
    "spb_genres = spb_general.groupby('genre')['genre'].count().sort_values(ascending = False)"
   ]
  },
  {
   "cell_type": "markdown",
   "metadata": {
    "id": "5Doha_ODgyQ8"
   },
   "source": [
    "Выведите на экран первые десять строк `spb_genres`:"
   ]
  },
  {
   "cell_type": "code",
   "execution_count": 85,
   "metadata": {
    "id": "uaGJHjVU_Zcv"
   },
   "outputs": [
    {
     "data": {
      "text/plain": [
       "genre\n",
       "pop            2431\n",
       "dance          1932\n",
       "rock           1879\n",
       "electronic     1736\n",
       "hiphop          960\n",
       "alternative     649\n",
       "classical       646\n",
       "rusrap          564\n",
       "ruspop          538\n",
       "world           515\n",
       "Name: genre, dtype: int64"
      ]
     },
     "execution_count": 85,
     "metadata": {},
     "output_type": "execute_result"
    }
   ],
   "source": [
    "# просмотр первых 10 строк spb_genres\n",
    "spb_genres.head(10)"
   ]
  },
  {
   "cell_type": "markdown",
   "metadata": {
    "id": "RY51YJYu_Zcv"
   },
   "source": [
    "**Выводы**"
   ]
  },
  {
   "cell_type": "markdown",
   "metadata": {
    "id": "nVhnJEm__Zcv"
   },
   "source": [
    "Гипотеза частично подтвердилась:\n",
    "* Поп-музыка — самый популярный жанр в Москве, как и предполагала гипотеза. Более того, в топ-10 жанров встречается близкий жанр — русская популярная музыка.\n",
    "* Вопреки ожиданиям, рэп одинаково популярен в Москве и Петербурге. \n"
   ]
  },
  {
   "cell_type": "markdown",
   "metadata": {
    "id": "ykKQ0N65_Zcv"
   },
   "source": [
    "## Итоги исследования"
   ]
  },
  {
   "cell_type": "markdown",
   "metadata": {
    "id": "tjUwbHb3_Zcv"
   },
   "source": [
    "Вы проверили три гипотезы и установили:\n",
    "\n",
    "1. День недели по-разному влияет на активность пользователей в Москве и Петербурге. \n",
    "\n",
    "Первая гипотеза полностью подтвердилась.\n",
    "\n",
    "2. Музыкальные предпочтения не сильно меняются в течение недели — будь то Москва или Петербург. Небольшие различия заметны в начале недели, по понедельникам:\n",
    "* в Москве слушают музыку жанра “world”,\n",
    "* в Петербурге — джаз и классику.\n",
    "\n",
    "Таким образом, вторая гипотеза подтвердилась лишь отчасти. Этот результат мог оказаться иным, если бы не пропуски в данных.\n",
    "\n",
    "3. Во вкусах пользователей Москвы и Петербурга больше общего чем различий. Вопреки ожиданиям, предпочтения жанров в Петербурге напоминают московские.\n",
    "\n",
    "Третья гипотеза не подтвердилась. Если различия в предпочтениях и существуют, на основной массе пользователей они незаметны.\n",
    "\n",
    "**На практике исследования содержат проверки статистических гипотез.**\n",
    "Из данных одного сервиса не всегда можно сделать вывод о всех жителях города.\n",
    "Проверки статистических гипотез покажут, насколько они достоверны, исходя из имеющихся данных. \n",
    "С методами проверок гипотез вы ещё познакомитесь в следующих темах."
   ]
  }
 ],
 "metadata": {
  "ExecuteTimeLog": [
   {
    "duration": 297,
    "start_time": "2021-11-23T15:47:30.302Z"
   },
   {
    "duration": 82,
    "start_time": "2021-11-23T15:47:37.005Z"
   },
   {
    "duration": 96,
    "start_time": "2021-11-23T15:48:04.413Z"
   },
   {
    "duration": 263,
    "start_time": "2021-11-23T15:48:42.399Z"
   },
   {
    "duration": 256,
    "start_time": "2021-11-23T15:48:54.611Z"
   },
   {
    "duration": 557,
    "start_time": "2021-11-23T15:49:14.417Z"
   },
   {
    "duration": 3,
    "start_time": "2021-11-23T15:49:18.392Z"
   },
   {
    "duration": 145,
    "start_time": "2021-11-23T15:49:23.070Z"
   },
   {
    "duration": 22,
    "start_time": "2021-11-23T15:49:27.082Z"
   },
   {
    "duration": 41,
    "start_time": "2021-11-23T15:49:33.869Z"
   },
   {
    "duration": 4,
    "start_time": "2021-11-23T15:58:30.960Z"
   },
   {
    "duration": 135,
    "start_time": "2021-11-23T20:13:49.053Z"
   },
   {
    "duration": 145,
    "start_time": "2021-11-23T20:14:26.042Z"
   },
   {
    "duration": 459,
    "start_time": "2021-11-23T20:15:51.666Z"
   },
   {
    "duration": 370,
    "start_time": "2021-11-23T20:16:09.542Z"
   },
   {
    "duration": 806,
    "start_time": "2021-11-23T20:16:17.433Z"
   },
   {
    "duration": 180,
    "start_time": "2021-11-23T20:16:21.373Z"
   },
   {
    "duration": 26,
    "start_time": "2021-11-23T20:16:25.603Z"
   },
   {
    "duration": 36,
    "start_time": "2021-11-23T20:16:29.140Z"
   },
   {
    "duration": 6,
    "start_time": "2021-11-23T20:16:34.348Z"
   },
   {
    "duration": 27,
    "start_time": "2021-11-23T20:16:38.876Z"
   },
   {
    "duration": 7,
    "start_time": "2021-11-23T20:17:13.368Z"
   },
   {
    "duration": 5,
    "start_time": "2021-11-23T20:38:49.923Z"
   },
   {
    "duration": 32,
    "start_time": "2021-11-23T20:39:12.716Z"
   },
   {
    "duration": 23,
    "start_time": "2021-11-23T20:43:15.013Z"
   },
   {
    "duration": 22,
    "start_time": "2021-11-23T20:43:17.726Z"
   },
   {
    "duration": 31,
    "start_time": "2021-11-23T20:43:30.126Z"
   },
   {
    "duration": 87,
    "start_time": "2021-11-23T20:43:54.665Z"
   },
   {
    "duration": 105,
    "start_time": "2021-11-23T20:44:34.861Z"
   },
   {
    "duration": 77,
    "start_time": "2021-11-23T20:44:42.384Z"
   },
   {
    "duration": 102,
    "start_time": "2021-11-23T20:47:04.279Z"
   },
   {
    "duration": 10,
    "start_time": "2021-11-23T20:47:26.556Z"
   },
   {
    "duration": 384,
    "start_time": "2021-11-23T20:53:23.225Z"
   },
   {
    "duration": 4,
    "start_time": "2021-11-23T20:53:29.095Z"
   },
   {
    "duration": 392,
    "start_time": "2021-11-23T20:53:32.467Z"
   },
   {
    "duration": 5,
    "start_time": "2021-11-23T21:00:35.547Z"
   },
   {
    "duration": 4,
    "start_time": "2021-11-23T21:01:03.380Z"
   },
   {
    "duration": 387,
    "start_time": "2021-11-23T21:01:06.183Z"
   },
   {
    "duration": 439,
    "start_time": "2021-11-23T21:01:13.052Z"
   },
   {
    "duration": 776,
    "start_time": "2021-11-23T21:05:24.393Z"
   },
   {
    "duration": 4,
    "start_time": "2021-11-23T21:05:39.416Z"
   },
   {
    "duration": 14,
    "start_time": "2021-11-23T21:05:42.242Z"
   },
   {
    "duration": 1157,
    "start_time": "2021-11-23T21:06:13.362Z"
   },
   {
    "duration": 16,
    "start_time": "2021-11-23T21:06:34.666Z"
   },
   {
    "duration": 17,
    "start_time": "2021-11-23T21:06:50.287Z"
   },
   {
    "duration": 11,
    "start_time": "2021-11-23T21:07:10.092Z"
   },
   {
    "duration": 16,
    "start_time": "2021-11-23T21:11:25.870Z"
   },
   {
    "duration": 745,
    "start_time": "2021-11-23T21:12:34.102Z"
   },
   {
    "duration": 15,
    "start_time": "2021-11-23T21:12:57.953Z"
   },
   {
    "duration": 5,
    "start_time": "2021-11-23T21:23:00.721Z"
   },
   {
    "duration": 3,
    "start_time": "2021-11-23T21:23:12.181Z"
   },
   {
    "duration": 20,
    "start_time": "2021-11-23T21:23:18.595Z"
   },
   {
    "duration": 18,
    "start_time": "2021-11-23T21:23:31.800Z"
   },
   {
    "duration": 19,
    "start_time": "2021-11-23T21:23:44.479Z"
   },
   {
    "duration": 18,
    "start_time": "2021-11-23T21:23:56.725Z"
   },
   {
    "duration": 3,
    "start_time": "2021-11-23T21:24:05.611Z"
   },
   {
    "duration": 4,
    "start_time": "2021-11-23T21:24:08.417Z"
   },
   {
    "duration": 373,
    "start_time": "2021-11-23T21:24:12.846Z"
   },
   {
    "duration": 18,
    "start_time": "2021-11-23T21:24:24.256Z"
   },
   {
    "duration": 449,
    "start_time": "2021-11-23T21:24:27.011Z"
   },
   {
    "duration": 20,
    "start_time": "2021-11-23T21:24:42.950Z"
   },
   {
    "duration": 3,
    "start_time": "2021-11-23T21:24:53.957Z"
   },
   {
    "duration": 21,
    "start_time": "2021-11-23T21:24:58.933Z"
   },
   {
    "duration": 12,
    "start_time": "2021-11-23T21:26:48.144Z"
   },
   {
    "duration": 15,
    "start_time": "2021-11-23T21:28:19.877Z"
   },
   {
    "duration": 13,
    "start_time": "2021-11-23T21:28:23.309Z"
   },
   {
    "duration": 500,
    "start_time": "2021-11-23T21:35:56.507Z"
   },
   {
    "duration": 5,
    "start_time": "2021-11-23T21:36:02.975Z"
   },
   {
    "duration": 806,
    "start_time": "2021-11-23T21:36:06.299Z"
   },
   {
    "duration": 15,
    "start_time": "2021-11-23T21:36:24.792Z"
   },
   {
    "duration": 15,
    "start_time": "2021-11-23T21:36:27.748Z"
   },
   {
    "duration": 6,
    "start_time": "2021-11-23T21:36:32.436Z"
   },
   {
    "duration": 843,
    "start_time": "2021-11-23T21:36:35.144Z"
   },
   {
    "duration": 6,
    "start_time": "2021-11-23T21:36:57.210Z"
   },
   {
    "duration": 5,
    "start_time": "2021-11-23T21:37:08.208Z"
   },
   {
    "duration": 1264,
    "start_time": "2021-11-23T21:37:11.406Z"
   },
   {
    "duration": 5,
    "start_time": "2021-11-23T21:37:24.289Z"
   },
   {
    "duration": 6,
    "start_time": "2021-11-23T21:37:27.883Z"
   },
   {
    "duration": 772,
    "start_time": "2021-11-23T21:37:30.924Z"
   },
   {
    "duration": 5,
    "start_time": "2021-11-23T21:38:20.152Z"
   },
   {
    "duration": 968,
    "start_time": "2021-11-23T21:38:22.927Z"
   },
   {
    "duration": 6,
    "start_time": "2021-11-23T21:38:44.955Z"
   },
   {
    "duration": 36,
    "start_time": "2021-11-23T21:38:48.935Z"
   },
   {
    "duration": 28,
    "start_time": "2021-11-23T21:39:53.402Z"
   },
   {
    "duration": 38,
    "start_time": "2021-11-23T21:40:14.109Z"
   },
   {
    "duration": 34,
    "start_time": "2021-11-23T21:40:17.807Z"
   },
   {
    "duration": 29,
    "start_time": "2021-11-23T21:40:28.036Z"
   },
   {
    "duration": 34,
    "start_time": "2021-11-23T21:40:50.226Z"
   },
   {
    "duration": 27,
    "start_time": "2021-11-23T21:41:08.883Z"
   },
   {
    "duration": 12,
    "start_time": "2021-11-23T21:45:14.451Z"
   },
   {
    "duration": 4,
    "start_time": "2021-11-23T21:45:24.508Z"
   },
   {
    "duration": 7,
    "start_time": "2021-11-23T21:45:28.746Z"
   },
   {
    "duration": 8,
    "start_time": "2021-11-23T21:45:59.405Z"
   },
   {
    "duration": 6,
    "start_time": "2021-11-23T21:46:09.617Z"
   },
   {
    "duration": 811,
    "start_time": "2021-11-24T08:22:34.654Z"
   },
   {
    "duration": 187,
    "start_time": "2021-11-24T08:22:35.467Z"
   },
   {
    "duration": 26,
    "start_time": "2021-11-24T08:22:35.657Z"
   },
   {
    "duration": 33,
    "start_time": "2021-11-24T08:22:35.686Z"
   },
   {
    "duration": 5,
    "start_time": "2021-11-24T08:22:35.721Z"
   },
   {
    "duration": 62,
    "start_time": "2021-11-24T08:22:35.729Z"
   },
   {
    "duration": 5,
    "start_time": "2021-11-24T08:22:35.793Z"
   },
   {
    "duration": 36,
    "start_time": "2021-11-24T08:22:35.800Z"
   },
   {
    "duration": 50,
    "start_time": "2021-11-24T08:22:35.840Z"
   },
   {
    "duration": 29,
    "start_time": "2021-11-24T08:22:35.894Z"
   },
   {
    "duration": 110,
    "start_time": "2021-11-24T08:22:35.926Z"
   },
   {
    "duration": 113,
    "start_time": "2021-11-24T08:22:36.038Z"
   },
   {
    "duration": 81,
    "start_time": "2021-11-24T08:22:36.154Z"
   },
   {
    "duration": 31,
    "start_time": "2021-11-24T08:22:36.238Z"
   },
   {
    "duration": 4,
    "start_time": "2021-11-24T08:22:36.272Z"
   },
   {
    "duration": 20,
    "start_time": "2021-11-24T08:22:36.279Z"
   },
   {
    "duration": 9,
    "start_time": "2021-11-24T08:22:36.302Z"
   },
   {
    "duration": 56,
    "start_time": "2021-11-24T08:22:36.313Z"
   },
   {
    "duration": 15,
    "start_time": "2021-11-24T08:22:36.372Z"
   },
   {
    "duration": 5,
    "start_time": "2021-11-24T08:22:36.390Z"
   },
   {
    "duration": 24,
    "start_time": "2021-11-24T08:22:36.398Z"
   },
   {
    "duration": 51,
    "start_time": "2021-11-24T08:22:36.425Z"
   },
   {
    "duration": 18,
    "start_time": "2021-11-24T08:22:36.478Z"
   },
   {
    "duration": 17,
    "start_time": "2021-11-24T08:22:36.498Z"
   },
   {
    "duration": 55,
    "start_time": "2021-11-24T08:22:36.518Z"
   },
   {
    "duration": 18,
    "start_time": "2021-11-24T08:22:36.575Z"
   },
   {
    "duration": 15,
    "start_time": "2021-11-24T08:22:36.597Z"
   },
   {
    "duration": 16,
    "start_time": "2021-11-24T08:22:36.615Z"
   },
   {
    "duration": 12,
    "start_time": "2021-11-24T08:22:36.668Z"
   },
   {
    "duration": 5,
    "start_time": "2021-11-24T08:22:36.683Z"
   },
   {
    "duration": 41,
    "start_time": "2021-11-24T08:22:36.691Z"
   },
   {
    "duration": 51,
    "start_time": "2021-11-24T08:22:36.735Z"
   },
   {
    "duration": 35,
    "start_time": "2021-11-24T08:22:36.788Z"
   },
   {
    "duration": 49,
    "start_time": "2021-11-24T08:22:36.825Z"
   },
   {
    "duration": 12,
    "start_time": "2021-11-24T08:22:36.877Z"
   },
   {
    "duration": 7,
    "start_time": "2021-11-24T08:22:36.892Z"
   },
   {
    "duration": 9,
    "start_time": "2021-11-24T08:22:36.901Z"
   },
   {
    "duration": 53,
    "start_time": "2021-11-24T08:22:36.913Z"
   },
   {
    "duration": 22,
    "start_time": "2021-11-24T08:23:08.574Z"
   },
   {
    "duration": 76,
    "start_time": "2021-11-24T08:23:36.382Z"
   },
   {
    "duration": 593,
    "start_time": "2021-11-24T12:27:13.611Z"
   },
   {
    "duration": 128,
    "start_time": "2021-11-24T12:27:18.669Z"
   },
   {
    "duration": 20,
    "start_time": "2021-11-24T12:27:21.700Z"
   },
   {
    "duration": 22,
    "start_time": "2021-11-24T12:27:26.796Z"
   },
   {
    "duration": 5,
    "start_time": "2021-11-24T12:28:08.517Z"
   },
   {
    "duration": 21,
    "start_time": "2021-11-24T12:28:11.548Z"
   },
   {
    "duration": 18,
    "start_time": "2021-11-24T12:28:14.201Z"
   },
   {
    "duration": 4,
    "start_time": "2021-11-24T12:28:24.697Z"
   },
   {
    "duration": 21,
    "start_time": "2021-11-24T12:28:28.530Z"
   },
   {
    "duration": 15,
    "start_time": "2021-11-24T12:28:37.892Z"
   },
   {
    "duration": 20,
    "start_time": "2021-11-24T12:28:41.139Z"
   },
   {
    "duration": 51,
    "start_time": "2021-11-24T12:28:51.460Z"
   },
   {
    "duration": 54,
    "start_time": "2021-11-24T12:28:54.629Z"
   },
   {
    "duration": 43,
    "start_time": "2021-11-24T12:28:57.447Z"
   },
   {
    "duration": 43,
    "start_time": "2021-11-24T12:29:00.772Z"
   },
   {
    "duration": 314,
    "start_time": "2021-11-24T12:29:16.531Z"
   },
   {
    "duration": 36,
    "start_time": "2021-11-24T12:29:45.176Z"
   },
   {
    "duration": 3,
    "start_time": "2021-11-24T12:30:20.376Z"
   },
   {
    "duration": 12,
    "start_time": "2021-11-24T12:30:23.109Z"
   },
   {
    "duration": 42,
    "start_time": "2021-11-24T12:30:49.522Z"
   },
   {
    "duration": 9,
    "start_time": "2021-11-24T12:32:01.188Z"
   },
   {
    "duration": 9,
    "start_time": "2021-11-24T12:32:10.614Z"
   },
   {
    "duration": 3,
    "start_time": "2021-11-24T12:32:13.366Z"
   },
   {
    "duration": 17,
    "start_time": "2021-11-24T12:32:14.989Z"
   },
   {
    "duration": 13,
    "start_time": "2021-11-24T12:32:16.820Z"
   },
   {
    "duration": 13,
    "start_time": "2021-11-24T12:32:18.994Z"
   },
   {
    "duration": 13,
    "start_time": "2021-11-24T12:32:20.432Z"
   },
   {
    "duration": 15,
    "start_time": "2021-11-24T12:32:21.682Z"
   },
   {
    "duration": 12,
    "start_time": "2021-11-24T12:32:24.478Z"
   },
   {
    "duration": 8,
    "start_time": "2021-11-24T12:32:26.178Z"
   },
   {
    "duration": 9,
    "start_time": "2021-11-24T12:32:31.272Z"
   },
   {
    "duration": 8,
    "start_time": "2021-11-24T12:32:32.455Z"
   },
   {
    "duration": 3,
    "start_time": "2021-11-24T12:32:41.231Z"
   },
   {
    "duration": 23,
    "start_time": "2021-11-24T12:32:44.553Z"
   },
   {
    "duration": 16,
    "start_time": "2021-11-24T12:32:56.697Z"
   },
   {
    "duration": 22,
    "start_time": "2021-11-24T12:33:00.271Z"
   },
   {
    "duration": 17,
    "start_time": "2021-11-24T12:33:03.886Z"
   },
   {
    "duration": 7,
    "start_time": "2021-11-24T12:33:08.946Z"
   },
   {
    "duration": 4,
    "start_time": "2021-11-24T12:33:11.760Z"
   },
   {
    "duration": 5,
    "start_time": "2021-11-24T12:33:31.168Z"
   },
   {
    "duration": 4,
    "start_time": "2021-11-24T12:33:33.426Z"
   },
   {
    "duration": 80,
    "start_time": "2021-11-24T12:34:33.752Z"
   },
   {
    "duration": 110,
    "start_time": "2021-11-24T12:34:42.913Z"
   },
   {
    "duration": 79,
    "start_time": "2021-11-24T12:35:02.223Z"
   },
   {
    "duration": 77,
    "start_time": "2021-11-24T12:35:44.110Z"
   },
   {
    "duration": 3,
    "start_time": "2021-11-24T12:36:10.402Z"
   },
   {
    "duration": 165,
    "start_time": "2021-11-24T12:36:10.407Z"
   },
   {
    "duration": 26,
    "start_time": "2021-11-24T12:36:10.574Z"
   },
   {
    "duration": 25,
    "start_time": "2021-11-24T12:36:10.602Z"
   },
   {
    "duration": 3,
    "start_time": "2021-11-24T12:36:10.629Z"
   },
   {
    "duration": 14,
    "start_time": "2021-11-24T12:36:10.633Z"
   },
   {
    "duration": 12,
    "start_time": "2021-11-24T12:36:10.648Z"
   },
   {
    "duration": 4,
    "start_time": "2021-11-24T12:36:10.687Z"
   },
   {
    "duration": 23,
    "start_time": "2021-11-24T12:36:10.693Z"
   },
   {
    "duration": 19,
    "start_time": "2021-11-24T12:36:10.718Z"
   },
   {
    "duration": 20,
    "start_time": "2021-11-24T12:36:10.738Z"
   },
   {
    "duration": 70,
    "start_time": "2021-11-24T12:36:10.759Z"
   },
   {
    "duration": 56,
    "start_time": "2021-11-24T12:36:10.831Z"
   },
   {
    "duration": 45,
    "start_time": "2021-11-24T12:36:10.889Z"
   },
   {
    "duration": 56,
    "start_time": "2021-11-24T12:36:10.935Z"
   },
   {
    "duration": 37,
    "start_time": "2021-11-24T12:36:10.993Z"
   },
   {
    "duration": 3,
    "start_time": "2021-11-24T12:36:11.031Z"
   },
   {
    "duration": 17,
    "start_time": "2021-11-24T12:36:11.036Z"
   },
   {
    "duration": 54,
    "start_time": "2021-11-24T12:36:11.054Z"
   },
   {
    "duration": 9,
    "start_time": "2021-11-24T12:36:11.109Z"
   },
   {
    "duration": 9,
    "start_time": "2021-11-24T12:36:11.120Z"
   },
   {
    "duration": 3,
    "start_time": "2021-11-24T12:36:11.130Z"
   },
   {
    "duration": 18,
    "start_time": "2021-11-24T12:36:11.134Z"
   },
   {
    "duration": 32,
    "start_time": "2021-11-24T12:36:11.156Z"
   },
   {
    "duration": 13,
    "start_time": "2021-11-24T12:36:11.190Z"
   },
   {
    "duration": 11,
    "start_time": "2021-11-24T12:36:11.205Z"
   },
   {
    "duration": 14,
    "start_time": "2021-11-24T12:36:11.217Z"
   },
   {
    "duration": 13,
    "start_time": "2021-11-24T12:36:11.232Z"
   },
   {
    "duration": 7,
    "start_time": "2021-11-24T12:36:11.246Z"
   },
   {
    "duration": 42,
    "start_time": "2021-11-24T12:36:11.255Z"
   },
   {
    "duration": 8,
    "start_time": "2021-11-24T12:36:11.299Z"
   },
   {
    "duration": 4,
    "start_time": "2021-11-24T12:36:11.308Z"
   },
   {
    "duration": 29,
    "start_time": "2021-11-24T12:36:11.313Z"
   },
   {
    "duration": 15,
    "start_time": "2021-11-24T12:36:11.343Z"
   },
   {
    "duration": 45,
    "start_time": "2021-11-24T12:36:11.359Z"
   },
   {
    "duration": 16,
    "start_time": "2021-11-24T12:36:11.405Z"
   },
   {
    "duration": 7,
    "start_time": "2021-11-24T12:36:11.423Z"
   },
   {
    "duration": 20,
    "start_time": "2021-11-24T12:36:11.431Z"
   },
   {
    "duration": 10,
    "start_time": "2021-11-24T12:36:11.452Z"
   },
   {
    "duration": 5,
    "start_time": "2021-11-24T12:36:11.463Z"
   },
   {
    "duration": 86,
    "start_time": "2021-11-24T12:36:11.469Z"
   },
   {
    "duration": 78,
    "start_time": "2021-11-24T12:36:16.098Z"
   }
  ],
  "colab": {
   "collapsed_sections": [
    "E0vqbgi9ay0H",
    "VUC88oWjTJw2"
   ],
   "name": "yandex_music_project_2021.2.ipynb",
   "provenance": []
  },
  "kernelspec": {
   "display_name": "Python 3 (ipykernel)",
   "language": "python",
   "name": "python3"
  },
  "language_info": {
   "codemirror_mode": {
    "name": "ipython",
    "version": 3
   },
   "file_extension": ".py",
   "mimetype": "text/x-python",
   "name": "python",
   "nbconvert_exporter": "python",
   "pygments_lexer": "ipython3",
   "version": "3.9.7"
  },
  "toc": {
   "base_numbering": 1,
   "nav_menu": {},
   "number_sections": true,
   "sideBar": true,
   "skip_h1_title": true,
   "title_cell": "Table of Contents",
   "title_sidebar": "Contents",
   "toc_cell": false,
   "toc_position": {
    "height": "calc(100% - 180px)",
    "left": "10px",
    "top": "150px",
    "width": "174.188px"
   },
   "toc_section_display": true,
   "toc_window_display": true
  }
 },
 "nbformat": 4,
 "nbformat_minor": 1
}
