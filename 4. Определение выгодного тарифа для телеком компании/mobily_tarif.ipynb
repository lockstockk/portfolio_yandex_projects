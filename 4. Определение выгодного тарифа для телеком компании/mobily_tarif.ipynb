{
 "cells": [
  {
   "cell_type": "markdown",
   "metadata": {},
   "source": [
    "# Определение перспективного тарифа для телеком-компании"
   ]
  },
  {
   "cell_type": "markdown",
   "metadata": {},
   "source": [
    "**Описание проекта**\n",
    "\n",
    "Компания «Мегалайн» — федеральный оператор сотовой связи. Клиентам предлагается два тарифных плана: «Смарт» и «Ультра». Чтобы скорректировать рекламный бюджет, необходимо понять, какой тариф приносит больше денег.\n",
    "В рамках исследования необходимо сделать предварительный анализ тарифов на небольшой выборке клиентов. В нашем распоряжении данные 500 пользователей «Мегалайна»: кто они, откуда, каким тарифом пользуются, сколько звонков и сообщений каждый отправил за 2018 год. Нужно проанализировать поведение клиентов и сделать вывод — какой тариф лучше.\n"
   ]
  },
  {
   "cell_type": "markdown",
   "metadata": {},
   "source": [
    "**Описание тарифов**\n",
    "\n",
    "**Тариф «Смарт»**\n",
    "1.\tЕжемесячная плата: 550 рублей\n",
    "2.\tВключено 500 минут разговора, 50 сообщений и 15 Гб интернет-трафика\n",
    "3.\tСтоимость услуг сверх тарифного пакета: 1. минута разговора: 3 рубля («Мегалайн» всегда округляет вверх значения минут и мегабайтов. Если пользователь проговорил всего 1 секунду, в тарифе засчитывается целая минута); 2. сообщение: 3 рубля; 3. 1 Гб интернет-трафика: 200 рублей.  \n",
    "\n",
    "**Тариф «Ультра»**\n",
    "1.\tЕжемесячная плата: 1950 рублей\n",
    "2.\tВключено 3000 минут разговора, 1000 сообщений и 30 Гб интернет-трафика\n",
    "3.\tСтоимость услуг сверх тарифного пакета: 1. минута разговора: 1 рубль; 2. сообщение: 1 рубль; 3. 1 Гб интернет-трафика: 150 рублей.\n",
    "\n",
    "**Примечание:**  \n",
    "«Мегалайн» всегда округляет секунды до минут, а мегабайты — до гигабайт. Каждый звонок округляется отдельно: даже если он длился всего 1 секунду, будет засчитан как 1 минута.\n",
    "Для веб-трафика отдельные сессии не считаются. Вместо этого общая сумма за месяц округляется в бо́льшую сторону. Если абонент использует 1025 мегабайт в этом месяце, с него возьмут плату за 2 гигабайта.\n"
   ]
  },
  {
   "cell_type": "markdown",
   "metadata": {},
   "source": [
    "## Изучение и обработка данных из файлов"
   ]
  },
  {
   "cell_type": "markdown",
   "metadata": {},
   "source": [
    "### Описание данных"
   ]
  },
  {
   "cell_type": "markdown",
   "metadata": {},
   "source": [
    "**Таблица users (информация о пользователях):**  \n",
    "- user_id — уникальный идентификатор пользователя\n",
    "- first_name — имя пользователя\n",
    "- last_name — фамилия пользователя\n",
    "- age — возраст пользователя (годы)\n",
    "- reg_date — дата подключения тарифа (день, месяц, год)\n",
    "- churn_date — дата прекращения пользования тарифом (если значение пропущено, то тариф ещё действовал на момент выгрузки данных)\n",
    "- city — город проживания пользователя\n",
    "- tarif — название тарифного плана\n"
   ]
  },
  {
   "cell_type": "markdown",
   "metadata": {},
   "source": [
    "**Таблица calls (информация о звонках):**\n",
    "- id — уникальный номер звонка\n",
    "- call_date — дата звонка\n",
    "- duration — длительность звонка в минутах\n",
    "- user_id — идентификатор пользователя, сделавшего звонок\n"
   ]
  },
  {
   "cell_type": "markdown",
   "metadata": {},
   "source": [
    "**Таблица messages (информация о сообщениях):**\n",
    "- id — уникальный номер сообщения\n",
    "- message_date — дата сообщения\n",
    "- user_id — идентификатор пользователя, отправившего сообщение\n"
   ]
  },
  {
   "cell_type": "markdown",
   "metadata": {},
   "source": [
    "**Таблица internet (информация об интернет-сессиях):**\n",
    "- id — уникальный номер сессии\n",
    "- mb_used — объём потраченного за сессию интернет-трафика (в мегабайтах)\n",
    "- session_date — дата интернет-сессии\n",
    "- user_id — идентификатор пользователя\n"
   ]
  },
  {
   "cell_type": "markdown",
   "metadata": {},
   "source": [
    "**Таблица tariffs (информация о тарифах):**\n",
    "- tariff_name — название тарифа\n",
    "- rub_monthly_fee — ежемесячная абонентская плата в рублях\n",
    "- minutes_included — количество минут разговора в месяц, включённых в абонентскую плату\n",
    "- messages_included — количество сообщений в месяц, включённых в абонентскую плату\n",
    "- mb_per_month_included — объём интернет-трафика, включённого в абонентскую плату (в мегабайтах)\n",
    "- rub_per_minute — стоимость минуты разговора сверх тарифного пакета (например, если в тарифе 100 минут разговора в месяц, то со 101 минуты будет взиматься плата)\n",
    "- rub_per_message — стоимость отправки сообщения сверх тарифного пакета\n",
    "- rub_per_gb — стоимость дополнительного гигабайта интернет-трафика сверх тарифного пакета (1 гигабайт = 1024 мегабайта)\n"
   ]
  },
  {
   "cell_type": "markdown",
   "metadata": {},
   "source": [
    "### Загрузка и осмотр датасетов"
   ]
  },
  {
   "cell_type": "code",
   "execution_count": 1,
   "metadata": {},
   "outputs": [],
   "source": [
    "#Импорт библиотек\n",
    "import pandas as pd\n",
    "import numpy as np\n",
    "import matplotlib.pyplot as plt\n",
    "from datetime import datetime\n",
    "import seaborn as sns\n",
    "from pymystem3 import Mystem\n",
    "from collections import Counter\n",
    "from scipy import stats as st"
   ]
  },
  {
   "cell_type": "code",
   "execution_count": 2,
   "metadata": {},
   "outputs": [],
   "source": [
    "#Сформируем датасеты\n",
    "calls = pd.read_csv('/datasets/calls.csv')\n",
    "internet = pd.read_csv('/datasets/internet.csv')\n",
    "messages = pd.read_csv('/datasets/messages.csv')\n",
    "tariffs = pd.read_csv('/datasets/tariffs.csv')\n",
    "users = pd.read_csv('/datasets/users.csv')"
   ]
  },
  {
   "cell_type": "markdown",
   "metadata": {},
   "source": [
    "#### Изучим датасет со звонками"
   ]
  },
  {
   "cell_type": "code",
   "execution_count": 3,
   "metadata": {},
   "outputs": [
    {
     "name": "stdout",
     "output_type": "stream",
     "text": [
      "<class 'pandas.core.frame.DataFrame'>\n",
      "RangeIndex: 202607 entries, 0 to 202606\n",
      "Data columns (total 4 columns):\n",
      "id           202607 non-null object\n",
      "call_date    202607 non-null object\n",
      "duration     202607 non-null float64\n",
      "user_id      202607 non-null int64\n",
      "dtypes: float64(1), int64(1), object(2)\n",
      "memory usage: 6.2+ MB\n"
     ]
    }
   ],
   "source": [
    "calls.info()"
   ]
  },
  {
   "cell_type": "code",
   "execution_count": 4,
   "metadata": {},
   "outputs": [
    {
     "data": {
      "text/html": [
       "<div>\n",
       "<style scoped>\n",
       "    .dataframe tbody tr th:only-of-type {\n",
       "        vertical-align: middle;\n",
       "    }\n",
       "\n",
       "    .dataframe tbody tr th {\n",
       "        vertical-align: top;\n",
       "    }\n",
       "\n",
       "    .dataframe thead th {\n",
       "        text-align: right;\n",
       "    }\n",
       "</style>\n",
       "<table border=\"1\" class=\"dataframe\">\n",
       "  <thead>\n",
       "    <tr style=\"text-align: right;\">\n",
       "      <th></th>\n",
       "      <th>duration</th>\n",
       "      <th>user_id</th>\n",
       "    </tr>\n",
       "  </thead>\n",
       "  <tbody>\n",
       "    <tr>\n",
       "      <td>count</td>\n",
       "      <td>202607.000000</td>\n",
       "      <td>202607.000000</td>\n",
       "    </tr>\n",
       "    <tr>\n",
       "      <td>mean</td>\n",
       "      <td>6.755887</td>\n",
       "      <td>1253.940619</td>\n",
       "    </tr>\n",
       "    <tr>\n",
       "      <td>std</td>\n",
       "      <td>5.843365</td>\n",
       "      <td>144.722751</td>\n",
       "    </tr>\n",
       "    <tr>\n",
       "      <td>min</td>\n",
       "      <td>0.000000</td>\n",
       "      <td>1000.000000</td>\n",
       "    </tr>\n",
       "    <tr>\n",
       "      <td>25%</td>\n",
       "      <td>1.300000</td>\n",
       "      <td>1126.000000</td>\n",
       "    </tr>\n",
       "    <tr>\n",
       "      <td>50%</td>\n",
       "      <td>6.000000</td>\n",
       "      <td>1260.000000</td>\n",
       "    </tr>\n",
       "    <tr>\n",
       "      <td>75%</td>\n",
       "      <td>10.700000</td>\n",
       "      <td>1379.000000</td>\n",
       "    </tr>\n",
       "    <tr>\n",
       "      <td>max</td>\n",
       "      <td>38.000000</td>\n",
       "      <td>1499.000000</td>\n",
       "    </tr>\n",
       "  </tbody>\n",
       "</table>\n",
       "</div>"
      ],
      "text/plain": [
       "            duration        user_id\n",
       "count  202607.000000  202607.000000\n",
       "mean        6.755887    1253.940619\n",
       "std         5.843365     144.722751\n",
       "min         0.000000    1000.000000\n",
       "25%         1.300000    1126.000000\n",
       "50%         6.000000    1260.000000\n",
       "75%        10.700000    1379.000000\n",
       "max        38.000000    1499.000000"
      ]
     },
     "execution_count": 4,
     "metadata": {},
     "output_type": "execute_result"
    }
   ],
   "source": [
    "calls.describe()"
   ]
  },
  {
   "cell_type": "code",
   "execution_count": 5,
   "metadata": {},
   "outputs": [
    {
     "data": {
      "text/html": [
       "<div>\n",
       "<style scoped>\n",
       "    .dataframe tbody tr th:only-of-type {\n",
       "        vertical-align: middle;\n",
       "    }\n",
       "\n",
       "    .dataframe tbody tr th {\n",
       "        vertical-align: top;\n",
       "    }\n",
       "\n",
       "    .dataframe thead th {\n",
       "        text-align: right;\n",
       "    }\n",
       "</style>\n",
       "<table border=\"1\" class=\"dataframe\">\n",
       "  <thead>\n",
       "    <tr style=\"text-align: right;\">\n",
       "      <th></th>\n",
       "      <th>id</th>\n",
       "      <th>call_date</th>\n",
       "      <th>duration</th>\n",
       "      <th>user_id</th>\n",
       "    </tr>\n",
       "  </thead>\n",
       "  <tbody>\n",
       "    <tr>\n",
       "      <td>199007</td>\n",
       "      <td>1490_353</td>\n",
       "      <td>2018-04-26</td>\n",
       "      <td>2.41</td>\n",
       "      <td>1490</td>\n",
       "    </tr>\n",
       "    <tr>\n",
       "      <td>79067</td>\n",
       "      <td>1197_59</td>\n",
       "      <td>2018-11-24</td>\n",
       "      <td>0.00</td>\n",
       "      <td>1197</td>\n",
       "    </tr>\n",
       "    <tr>\n",
       "      <td>195833</td>\n",
       "      <td>1480_144</td>\n",
       "      <td>2018-03-14</td>\n",
       "      <td>1.68</td>\n",
       "      <td>1480</td>\n",
       "    </tr>\n",
       "    <tr>\n",
       "      <td>160628</td>\n",
       "      <td>1395_289</td>\n",
       "      <td>2018-08-30</td>\n",
       "      <td>1.32</td>\n",
       "      <td>1395</td>\n",
       "    </tr>\n",
       "    <tr>\n",
       "      <td>173494</td>\n",
       "      <td>1428_183</td>\n",
       "      <td>2018-10-03</td>\n",
       "      <td>2.35</td>\n",
       "      <td>1428</td>\n",
       "    </tr>\n",
       "  </tbody>\n",
       "</table>\n",
       "</div>"
      ],
      "text/plain": [
       "              id   call_date  duration  user_id\n",
       "199007  1490_353  2018-04-26      2.41     1490\n",
       "79067    1197_59  2018-11-24      0.00     1197\n",
       "195833  1480_144  2018-03-14      1.68     1480\n",
       "160628  1395_289  2018-08-30      1.32     1395\n",
       "173494  1428_183  2018-10-03      2.35     1428"
      ]
     },
     "execution_count": 5,
     "metadata": {},
     "output_type": "execute_result"
    }
   ],
   "source": [
    "calls.sample(random_state = None, n = 5)"
   ]
  },
  {
   "cell_type": "markdown",
   "metadata": {},
   "source": [
    "Звонки с нулевой продолжительностью не ошибка: нулями обозначены пропущенные звонки, поэтому их не нужно удалять.  \n",
    "Нужно поменять тип на DataTime в \"call_date\t\".\n"
   ]
  },
  {
   "cell_type": "markdown",
   "metadata": {},
   "source": [
    "#### Изучим датасет с интернетом"
   ]
  },
  {
   "cell_type": "code",
   "execution_count": 6,
   "metadata": {},
   "outputs": [
    {
     "name": "stdout",
     "output_type": "stream",
     "text": [
      "<class 'pandas.core.frame.DataFrame'>\n",
      "RangeIndex: 149396 entries, 0 to 149395\n",
      "Data columns (total 5 columns):\n",
      "Unnamed: 0      149396 non-null int64\n",
      "id              149396 non-null object\n",
      "mb_used         149396 non-null float64\n",
      "session_date    149396 non-null object\n",
      "user_id         149396 non-null int64\n",
      "dtypes: float64(1), int64(2), object(2)\n",
      "memory usage: 5.7+ MB\n"
     ]
    }
   ],
   "source": [
    "internet.info()"
   ]
  },
  {
   "cell_type": "code",
   "execution_count": 7,
   "metadata": {
    "scrolled": true
   },
   "outputs": [
    {
     "data": {
      "text/html": [
       "<div>\n",
       "<style scoped>\n",
       "    .dataframe tbody tr th:only-of-type {\n",
       "        vertical-align: middle;\n",
       "    }\n",
       "\n",
       "    .dataframe tbody tr th {\n",
       "        vertical-align: top;\n",
       "    }\n",
       "\n",
       "    .dataframe thead th {\n",
       "        text-align: right;\n",
       "    }\n",
       "</style>\n",
       "<table border=\"1\" class=\"dataframe\">\n",
       "  <thead>\n",
       "    <tr style=\"text-align: right;\">\n",
       "      <th></th>\n",
       "      <th>Unnamed: 0</th>\n",
       "      <th>mb_used</th>\n",
       "      <th>user_id</th>\n",
       "    </tr>\n",
       "  </thead>\n",
       "  <tbody>\n",
       "    <tr>\n",
       "      <td>count</td>\n",
       "      <td>149396.000000</td>\n",
       "      <td>149396.000000</td>\n",
       "      <td>149396.000000</td>\n",
       "    </tr>\n",
       "    <tr>\n",
       "      <td>mean</td>\n",
       "      <td>74697.500000</td>\n",
       "      <td>370.192426</td>\n",
       "      <td>1252.099842</td>\n",
       "    </tr>\n",
       "    <tr>\n",
       "      <td>std</td>\n",
       "      <td>43127.054745</td>\n",
       "      <td>278.300951</td>\n",
       "      <td>144.050823</td>\n",
       "    </tr>\n",
       "    <tr>\n",
       "      <td>min</td>\n",
       "      <td>0.000000</td>\n",
       "      <td>0.000000</td>\n",
       "      <td>1000.000000</td>\n",
       "    </tr>\n",
       "    <tr>\n",
       "      <td>25%</td>\n",
       "      <td>37348.750000</td>\n",
       "      <td>138.187500</td>\n",
       "      <td>1130.000000</td>\n",
       "    </tr>\n",
       "    <tr>\n",
       "      <td>50%</td>\n",
       "      <td>74697.500000</td>\n",
       "      <td>348.015000</td>\n",
       "      <td>1251.000000</td>\n",
       "    </tr>\n",
       "    <tr>\n",
       "      <td>75%</td>\n",
       "      <td>112046.250000</td>\n",
       "      <td>559.552500</td>\n",
       "      <td>1380.000000</td>\n",
       "    </tr>\n",
       "    <tr>\n",
       "      <td>max</td>\n",
       "      <td>149395.000000</td>\n",
       "      <td>1724.830000</td>\n",
       "      <td>1499.000000</td>\n",
       "    </tr>\n",
       "  </tbody>\n",
       "</table>\n",
       "</div>"
      ],
      "text/plain": [
       "          Unnamed: 0        mb_used        user_id\n",
       "count  149396.000000  149396.000000  149396.000000\n",
       "mean    74697.500000     370.192426    1252.099842\n",
       "std     43127.054745     278.300951     144.050823\n",
       "min         0.000000       0.000000    1000.000000\n",
       "25%     37348.750000     138.187500    1130.000000\n",
       "50%     74697.500000     348.015000    1251.000000\n",
       "75%    112046.250000     559.552500    1380.000000\n",
       "max    149395.000000    1724.830000    1499.000000"
      ]
     },
     "execution_count": 7,
     "metadata": {},
     "output_type": "execute_result"
    }
   ],
   "source": [
    "internet.describe()"
   ]
  },
  {
   "cell_type": "code",
   "execution_count": 8,
   "metadata": {},
   "outputs": [
    {
     "data": {
      "text/html": [
       "<div>\n",
       "<style scoped>\n",
       "    .dataframe tbody tr th:only-of-type {\n",
       "        vertical-align: middle;\n",
       "    }\n",
       "\n",
       "    .dataframe tbody tr th {\n",
       "        vertical-align: top;\n",
       "    }\n",
       "\n",
       "    .dataframe thead th {\n",
       "        text-align: right;\n",
       "    }\n",
       "</style>\n",
       "<table border=\"1\" class=\"dataframe\">\n",
       "  <thead>\n",
       "    <tr style=\"text-align: right;\">\n",
       "      <th></th>\n",
       "      <th>Unnamed: 0</th>\n",
       "      <th>id</th>\n",
       "      <th>mb_used</th>\n",
       "      <th>session_date</th>\n",
       "      <th>user_id</th>\n",
       "    </tr>\n",
       "  </thead>\n",
       "  <tbody>\n",
       "    <tr>\n",
       "      <td>9809</td>\n",
       "      <td>9809</td>\n",
       "      <td>1033_189</td>\n",
       "      <td>108.14</td>\n",
       "      <td>2018-07-17</td>\n",
       "      <td>1033</td>\n",
       "    </tr>\n",
       "    <tr>\n",
       "      <td>135577</td>\n",
       "      <td>135577</td>\n",
       "      <td>1454_268</td>\n",
       "      <td>310.86</td>\n",
       "      <td>2018-08-08</td>\n",
       "      <td>1454</td>\n",
       "    </tr>\n",
       "    <tr>\n",
       "      <td>124289</td>\n",
       "      <td>124289</td>\n",
       "      <td>1419_9</td>\n",
       "      <td>175.77</td>\n",
       "      <td>2018-12-09</td>\n",
       "      <td>1419</td>\n",
       "    </tr>\n",
       "    <tr>\n",
       "      <td>104595</td>\n",
       "      <td>104595</td>\n",
       "      <td>1354_110</td>\n",
       "      <td>836.96</td>\n",
       "      <td>2018-12-17</td>\n",
       "      <td>1354</td>\n",
       "    </tr>\n",
       "    <tr>\n",
       "      <td>72586</td>\n",
       "      <td>72586</td>\n",
       "      <td>1244_418</td>\n",
       "      <td>407.89</td>\n",
       "      <td>2018-09-19</td>\n",
       "      <td>1244</td>\n",
       "    </tr>\n",
       "  </tbody>\n",
       "</table>\n",
       "</div>"
      ],
      "text/plain": [
       "        Unnamed: 0        id  mb_used session_date  user_id\n",
       "9809          9809  1033_189   108.14   2018-07-17     1033\n",
       "135577      135577  1454_268   310.86   2018-08-08     1454\n",
       "124289      124289    1419_9   175.77   2018-12-09     1419\n",
       "104595      104595  1354_110   836.96   2018-12-17     1354\n",
       "72586        72586  1244_418   407.89   2018-09-19     1244"
      ]
     },
     "execution_count": 8,
     "metadata": {},
     "output_type": "execute_result"
    }
   ],
   "source": [
    "internet.sample(5)"
   ]
  },
  {
   "cell_type": "markdown",
   "metadata": {},
   "source": [
    "Нужно поменять тип на DataTime в \"session_date\". Есть абоненты, которые не пользуются интернетом.  \n",
    "Столбец 'Unnamed: 0' содержит дублирующие данные (индексы). Удалим этот столбец.\n"
   ]
  },
  {
   "cell_type": "markdown",
   "metadata": {},
   "source": [
    "#### Изучим датасет с сообщениями\n",
    "    "
   ]
  },
  {
   "cell_type": "code",
   "execution_count": 9,
   "metadata": {},
   "outputs": [
    {
     "name": "stdout",
     "output_type": "stream",
     "text": [
      "<class 'pandas.core.frame.DataFrame'>\n",
      "RangeIndex: 123036 entries, 0 to 123035\n",
      "Data columns (total 3 columns):\n",
      "id              123036 non-null object\n",
      "message_date    123036 non-null object\n",
      "user_id         123036 non-null int64\n",
      "dtypes: int64(1), object(2)\n",
      "memory usage: 2.8+ MB\n"
     ]
    }
   ],
   "source": [
    "messages.info()"
   ]
  },
  {
   "cell_type": "code",
   "execution_count": 10,
   "metadata": {},
   "outputs": [
    {
     "data": {
      "text/html": [
       "<div>\n",
       "<style scoped>\n",
       "    .dataframe tbody tr th:only-of-type {\n",
       "        vertical-align: middle;\n",
       "    }\n",
       "\n",
       "    .dataframe tbody tr th {\n",
       "        vertical-align: top;\n",
       "    }\n",
       "\n",
       "    .dataframe thead th {\n",
       "        text-align: right;\n",
       "    }\n",
       "</style>\n",
       "<table border=\"1\" class=\"dataframe\">\n",
       "  <thead>\n",
       "    <tr style=\"text-align: right;\">\n",
       "      <th></th>\n",
       "      <th>id</th>\n",
       "      <th>message_date</th>\n",
       "      <th>user_id</th>\n",
       "    </tr>\n",
       "  </thead>\n",
       "  <tbody>\n",
       "    <tr>\n",
       "      <td>14149</td>\n",
       "      <td>1059_166</td>\n",
       "      <td>2018-12-31</td>\n",
       "      <td>1059</td>\n",
       "    </tr>\n",
       "    <tr>\n",
       "      <td>18865</td>\n",
       "      <td>1083_54</td>\n",
       "      <td>2018-07-10</td>\n",
       "      <td>1083</td>\n",
       "    </tr>\n",
       "    <tr>\n",
       "      <td>98476</td>\n",
       "      <td>1403_0</td>\n",
       "      <td>2018-07-13</td>\n",
       "      <td>1403</td>\n",
       "    </tr>\n",
       "    <tr>\n",
       "      <td>18317</td>\n",
       "      <td>1080_263</td>\n",
       "      <td>2018-10-06</td>\n",
       "      <td>1080</td>\n",
       "    </tr>\n",
       "    <tr>\n",
       "      <td>97199</td>\n",
       "      <td>1396_850</td>\n",
       "      <td>2018-05-30</td>\n",
       "      <td>1396</td>\n",
       "    </tr>\n",
       "  </tbody>\n",
       "</table>\n",
       "</div>"
      ],
      "text/plain": [
       "             id message_date  user_id\n",
       "14149  1059_166   2018-12-31     1059\n",
       "18865   1083_54   2018-07-10     1083\n",
       "98476    1403_0   2018-07-13     1403\n",
       "18317  1080_263   2018-10-06     1080\n",
       "97199  1396_850   2018-05-30     1396"
      ]
     },
     "execution_count": 10,
     "metadata": {},
     "output_type": "execute_result"
    }
   ],
   "source": [
    "messages.sample(5)"
   ]
  },
  {
   "cell_type": "markdown",
   "metadata": {},
   "source": [
    "Нужно поменять тип на DataTime в \"message_date\""
   ]
  },
  {
   "cell_type": "markdown",
   "metadata": {},
   "source": [
    "#### Изучим датасет с тарифами"
   ]
  },
  {
   "cell_type": "code",
   "execution_count": 11,
   "metadata": {},
   "outputs": [
    {
     "name": "stdout",
     "output_type": "stream",
     "text": [
      "<class 'pandas.core.frame.DataFrame'>\n",
      "RangeIndex: 2 entries, 0 to 1\n",
      "Data columns (total 8 columns):\n",
      "messages_included        2 non-null int64\n",
      "mb_per_month_included    2 non-null int64\n",
      "minutes_included         2 non-null int64\n",
      "rub_monthly_fee          2 non-null int64\n",
      "rub_per_gb               2 non-null int64\n",
      "rub_per_message          2 non-null int64\n",
      "rub_per_minute           2 non-null int64\n",
      "tariff_name              2 non-null object\n",
      "dtypes: int64(7), object(1)\n",
      "memory usage: 256.0+ bytes\n"
     ]
    }
   ],
   "source": [
    "tariffs.info()"
   ]
  },
  {
   "cell_type": "code",
   "execution_count": 12,
   "metadata": {
    "scrolled": true
   },
   "outputs": [
    {
     "data": {
      "text/html": [
       "<div>\n",
       "<style scoped>\n",
       "    .dataframe tbody tr th:only-of-type {\n",
       "        vertical-align: middle;\n",
       "    }\n",
       "\n",
       "    .dataframe tbody tr th {\n",
       "        vertical-align: top;\n",
       "    }\n",
       "\n",
       "    .dataframe thead th {\n",
       "        text-align: right;\n",
       "    }\n",
       "</style>\n",
       "<table border=\"1\" class=\"dataframe\">\n",
       "  <thead>\n",
       "    <tr style=\"text-align: right;\">\n",
       "      <th></th>\n",
       "      <th>messages_included</th>\n",
       "      <th>mb_per_month_included</th>\n",
       "      <th>minutes_included</th>\n",
       "      <th>rub_monthly_fee</th>\n",
       "      <th>rub_per_gb</th>\n",
       "      <th>rub_per_message</th>\n",
       "      <th>rub_per_minute</th>\n",
       "      <th>tariff_name</th>\n",
       "    </tr>\n",
       "  </thead>\n",
       "  <tbody>\n",
       "    <tr>\n",
       "      <td>0</td>\n",
       "      <td>50</td>\n",
       "      <td>15360</td>\n",
       "      <td>500</td>\n",
       "      <td>550</td>\n",
       "      <td>200</td>\n",
       "      <td>3</td>\n",
       "      <td>3</td>\n",
       "      <td>smart</td>\n",
       "    </tr>\n",
       "    <tr>\n",
       "      <td>1</td>\n",
       "      <td>1000</td>\n",
       "      <td>30720</td>\n",
       "      <td>3000</td>\n",
       "      <td>1950</td>\n",
       "      <td>150</td>\n",
       "      <td>1</td>\n",
       "      <td>1</td>\n",
       "      <td>ultra</td>\n",
       "    </tr>\n",
       "  </tbody>\n",
       "</table>\n",
       "</div>"
      ],
      "text/plain": [
       "   messages_included  mb_per_month_included  minutes_included  \\\n",
       "0                 50                  15360               500   \n",
       "1               1000                  30720              3000   \n",
       "\n",
       "   rub_monthly_fee  rub_per_gb  rub_per_message  rub_per_minute tariff_name  \n",
       "0              550         200                3               3       smart  \n",
       "1             1950         150                1               1       ultra  "
      ]
     },
     "execution_count": 12,
     "metadata": {},
     "output_type": "execute_result"
    }
   ],
   "source": [
    "tariffs.head()"
   ]
  },
  {
   "cell_type": "markdown",
   "metadata": {},
   "source": [
    "#### Изучим датасет с пользователями"
   ]
  },
  {
   "cell_type": "code",
   "execution_count": 13,
   "metadata": {},
   "outputs": [
    {
     "name": "stdout",
     "output_type": "stream",
     "text": [
      "<class 'pandas.core.frame.DataFrame'>\n",
      "RangeIndex: 500 entries, 0 to 499\n",
      "Data columns (total 8 columns):\n",
      "user_id       500 non-null int64\n",
      "age           500 non-null int64\n",
      "churn_date    38 non-null object\n",
      "city          500 non-null object\n",
      "first_name    500 non-null object\n",
      "last_name     500 non-null object\n",
      "reg_date      500 non-null object\n",
      "tariff        500 non-null object\n",
      "dtypes: int64(2), object(6)\n",
      "memory usage: 31.4+ KB\n"
     ]
    }
   ],
   "source": [
    "users.info()"
   ]
  },
  {
   "cell_type": "code",
   "execution_count": 14,
   "metadata": {
    "scrolled": true
   },
   "outputs": [
    {
     "data": {
      "text/html": [
       "<div>\n",
       "<style scoped>\n",
       "    .dataframe tbody tr th:only-of-type {\n",
       "        vertical-align: middle;\n",
       "    }\n",
       "\n",
       "    .dataframe tbody tr th {\n",
       "        vertical-align: top;\n",
       "    }\n",
       "\n",
       "    .dataframe thead th {\n",
       "        text-align: right;\n",
       "    }\n",
       "</style>\n",
       "<table border=\"1\" class=\"dataframe\">\n",
       "  <thead>\n",
       "    <tr style=\"text-align: right;\">\n",
       "      <th></th>\n",
       "      <th>user_id</th>\n",
       "      <th>age</th>\n",
       "    </tr>\n",
       "  </thead>\n",
       "  <tbody>\n",
       "    <tr>\n",
       "      <td>count</td>\n",
       "      <td>500.000000</td>\n",
       "      <td>500.00000</td>\n",
       "    </tr>\n",
       "    <tr>\n",
       "      <td>mean</td>\n",
       "      <td>1249.500000</td>\n",
       "      <td>46.58800</td>\n",
       "    </tr>\n",
       "    <tr>\n",
       "      <td>std</td>\n",
       "      <td>144.481833</td>\n",
       "      <td>16.66763</td>\n",
       "    </tr>\n",
       "    <tr>\n",
       "      <td>min</td>\n",
       "      <td>1000.000000</td>\n",
       "      <td>18.00000</td>\n",
       "    </tr>\n",
       "    <tr>\n",
       "      <td>25%</td>\n",
       "      <td>1124.750000</td>\n",
       "      <td>32.00000</td>\n",
       "    </tr>\n",
       "    <tr>\n",
       "      <td>50%</td>\n",
       "      <td>1249.500000</td>\n",
       "      <td>46.00000</td>\n",
       "    </tr>\n",
       "    <tr>\n",
       "      <td>75%</td>\n",
       "      <td>1374.250000</td>\n",
       "      <td>62.00000</td>\n",
       "    </tr>\n",
       "    <tr>\n",
       "      <td>max</td>\n",
       "      <td>1499.000000</td>\n",
       "      <td>75.00000</td>\n",
       "    </tr>\n",
       "  </tbody>\n",
       "</table>\n",
       "</div>"
      ],
      "text/plain": [
       "           user_id        age\n",
       "count   500.000000  500.00000\n",
       "mean   1249.500000   46.58800\n",
       "std     144.481833   16.66763\n",
       "min    1000.000000   18.00000\n",
       "25%    1124.750000   32.00000\n",
       "50%    1249.500000   46.00000\n",
       "75%    1374.250000   62.00000\n",
       "max    1499.000000   75.00000"
      ]
     },
     "execution_count": 14,
     "metadata": {},
     "output_type": "execute_result"
    }
   ],
   "source": [
    "users.describe()"
   ]
  },
  {
   "cell_type": "code",
   "execution_count": 15,
   "metadata": {},
   "outputs": [
    {
     "data": {
      "text/html": [
       "<div>\n",
       "<style scoped>\n",
       "    .dataframe tbody tr th:only-of-type {\n",
       "        vertical-align: middle;\n",
       "    }\n",
       "\n",
       "    .dataframe tbody tr th {\n",
       "        vertical-align: top;\n",
       "    }\n",
       "\n",
       "    .dataframe thead th {\n",
       "        text-align: right;\n",
       "    }\n",
       "</style>\n",
       "<table border=\"1\" class=\"dataframe\">\n",
       "  <thead>\n",
       "    <tr style=\"text-align: right;\">\n",
       "      <th></th>\n",
       "      <th>user_id</th>\n",
       "      <th>age</th>\n",
       "      <th>churn_date</th>\n",
       "      <th>city</th>\n",
       "      <th>first_name</th>\n",
       "      <th>last_name</th>\n",
       "      <th>reg_date</th>\n",
       "      <th>tariff</th>\n",
       "    </tr>\n",
       "  </thead>\n",
       "  <tbody>\n",
       "    <tr>\n",
       "      <td>495</td>\n",
       "      <td>1495</td>\n",
       "      <td>65</td>\n",
       "      <td>NaN</td>\n",
       "      <td>Иркутск</td>\n",
       "      <td>Авксентий</td>\n",
       "      <td>Фокин</td>\n",
       "      <td>2018-08-28</td>\n",
       "      <td>ultra</td>\n",
       "    </tr>\n",
       "    <tr>\n",
       "      <td>496</td>\n",
       "      <td>1496</td>\n",
       "      <td>36</td>\n",
       "      <td>NaN</td>\n",
       "      <td>Вологда</td>\n",
       "      <td>Трифон</td>\n",
       "      <td>Блохин</td>\n",
       "      <td>2018-01-27</td>\n",
       "      <td>smart</td>\n",
       "    </tr>\n",
       "    <tr>\n",
       "      <td>497</td>\n",
       "      <td>1497</td>\n",
       "      <td>32</td>\n",
       "      <td>NaN</td>\n",
       "      <td>Челябинск</td>\n",
       "      <td>Каролина</td>\n",
       "      <td>Агеева</td>\n",
       "      <td>2018-10-09</td>\n",
       "      <td>smart</td>\n",
       "    </tr>\n",
       "    <tr>\n",
       "      <td>498</td>\n",
       "      <td>1498</td>\n",
       "      <td>68</td>\n",
       "      <td>2018-10-25</td>\n",
       "      <td>Владикавказ</td>\n",
       "      <td>Всеволод</td>\n",
       "      <td>Акимчин</td>\n",
       "      <td>2018-07-19</td>\n",
       "      <td>smart</td>\n",
       "    </tr>\n",
       "    <tr>\n",
       "      <td>499</td>\n",
       "      <td>1499</td>\n",
       "      <td>35</td>\n",
       "      <td>NaN</td>\n",
       "      <td>Пермь</td>\n",
       "      <td>Гектор</td>\n",
       "      <td>Корнилов</td>\n",
       "      <td>2018-09-27</td>\n",
       "      <td>smart</td>\n",
       "    </tr>\n",
       "  </tbody>\n",
       "</table>\n",
       "</div>"
      ],
      "text/plain": [
       "     user_id  age  churn_date         city first_name last_name    reg_date  \\\n",
       "495     1495   65         NaN      Иркутск  Авксентий     Фокин  2018-08-28   \n",
       "496     1496   36         NaN      Вологда     Трифон    Блохин  2018-01-27   \n",
       "497     1497   32         NaN    Челябинск   Каролина    Агеева  2018-10-09   \n",
       "498     1498   68  2018-10-25  Владикавказ   Всеволод   Акимчин  2018-07-19   \n",
       "499     1499   35         NaN        Пермь     Гектор  Корнилов  2018-09-27   \n",
       "\n",
       "    tariff  \n",
       "495  ultra  \n",
       "496  smart  \n",
       "497  smart  \n",
       "498  smart  \n",
       "499  smart  "
      ]
     },
     "execution_count": 15,
     "metadata": {},
     "output_type": "execute_result"
    }
   ],
   "source": [
    "users.tail(5)"
   ]
  },
  {
   "cell_type": "code",
   "execution_count": 16,
   "metadata": {
    "scrolled": true
   },
   "outputs": [
    {
     "data": {
      "text/html": [
       "<div>\n",
       "<style scoped>\n",
       "    .dataframe tbody tr th:only-of-type {\n",
       "        vertical-align: middle;\n",
       "    }\n",
       "\n",
       "    .dataframe tbody tr th {\n",
       "        vertical-align: top;\n",
       "    }\n",
       "\n",
       "    .dataframe thead th {\n",
       "        text-align: right;\n",
       "    }\n",
       "</style>\n",
       "<table border=\"1\" class=\"dataframe\">\n",
       "  <thead>\n",
       "    <tr style=\"text-align: right;\">\n",
       "      <th></th>\n",
       "      <th>user_id</th>\n",
       "      <th>age</th>\n",
       "      <th>churn_date</th>\n",
       "      <th>city</th>\n",
       "      <th>first_name</th>\n",
       "      <th>last_name</th>\n",
       "      <th>reg_date</th>\n",
       "      <th>tariff</th>\n",
       "    </tr>\n",
       "  </thead>\n",
       "  <tbody>\n",
       "    <tr>\n",
       "      <td>268</td>\n",
       "      <td>1268</td>\n",
       "      <td>18</td>\n",
       "      <td>NaN</td>\n",
       "      <td>Москва</td>\n",
       "      <td>Трофим</td>\n",
       "      <td>Трошин</td>\n",
       "      <td>2018-05-28</td>\n",
       "      <td>smart</td>\n",
       "    </tr>\n",
       "    <tr>\n",
       "      <td>439</td>\n",
       "      <td>1439</td>\n",
       "      <td>62</td>\n",
       "      <td>NaN</td>\n",
       "      <td>Орёл</td>\n",
       "      <td>Евгения</td>\n",
       "      <td>Афонина</td>\n",
       "      <td>2018-06-30</td>\n",
       "      <td>smart</td>\n",
       "    </tr>\n",
       "    <tr>\n",
       "      <td>215</td>\n",
       "      <td>1215</td>\n",
       "      <td>55</td>\n",
       "      <td>NaN</td>\n",
       "      <td>Рязань</td>\n",
       "      <td>Руслан</td>\n",
       "      <td>Алиев</td>\n",
       "      <td>2018-08-12</td>\n",
       "      <td>smart</td>\n",
       "    </tr>\n",
       "    <tr>\n",
       "      <td>153</td>\n",
       "      <td>1153</td>\n",
       "      <td>59</td>\n",
       "      <td>NaN</td>\n",
       "      <td>Ульяновск</td>\n",
       "      <td>Евдокия</td>\n",
       "      <td>Одинцова</td>\n",
       "      <td>2018-10-18</td>\n",
       "      <td>smart</td>\n",
       "    </tr>\n",
       "    <tr>\n",
       "      <td>412</td>\n",
       "      <td>1412</td>\n",
       "      <td>63</td>\n",
       "      <td>NaN</td>\n",
       "      <td>Волгоград</td>\n",
       "      <td>Геодар</td>\n",
       "      <td>Афонин</td>\n",
       "      <td>2018-06-05</td>\n",
       "      <td>ultra</td>\n",
       "    </tr>\n",
       "    <tr>\n",
       "      <td>137</td>\n",
       "      <td>1137</td>\n",
       "      <td>64</td>\n",
       "      <td>NaN</td>\n",
       "      <td>Кемерово</td>\n",
       "      <td>Ким</td>\n",
       "      <td>Артёшин</td>\n",
       "      <td>2018-12-02</td>\n",
       "      <td>smart</td>\n",
       "    </tr>\n",
       "    <tr>\n",
       "      <td>323</td>\n",
       "      <td>1323</td>\n",
       "      <td>67</td>\n",
       "      <td>NaN</td>\n",
       "      <td>Челябинск</td>\n",
       "      <td>Эсмеральда</td>\n",
       "      <td>Носкова</td>\n",
       "      <td>2018-08-02</td>\n",
       "      <td>smart</td>\n",
       "    </tr>\n",
       "    <tr>\n",
       "      <td>415</td>\n",
       "      <td>1415</td>\n",
       "      <td>41</td>\n",
       "      <td>NaN</td>\n",
       "      <td>Москва</td>\n",
       "      <td>Андрей</td>\n",
       "      <td>Лукин</td>\n",
       "      <td>2018-06-29</td>\n",
       "      <td>ultra</td>\n",
       "    </tr>\n",
       "    <tr>\n",
       "      <td>409</td>\n",
       "      <td>1409</td>\n",
       "      <td>42</td>\n",
       "      <td>NaN</td>\n",
       "      <td>Набережные Челны</td>\n",
       "      <td>Даниил</td>\n",
       "      <td>Алиев</td>\n",
       "      <td>2018-03-14</td>\n",
       "      <td>smart</td>\n",
       "    </tr>\n",
       "    <tr>\n",
       "      <td>304</td>\n",
       "      <td>1304</td>\n",
       "      <td>68</td>\n",
       "      <td>NaN</td>\n",
       "      <td>Владимир</td>\n",
       "      <td>Илья</td>\n",
       "      <td>Соловьёв</td>\n",
       "      <td>2018-11-05</td>\n",
       "      <td>ultra</td>\n",
       "    </tr>\n",
       "  </tbody>\n",
       "</table>\n",
       "</div>"
      ],
      "text/plain": [
       "     user_id  age churn_date              city  first_name last_name  \\\n",
       "268     1268   18        NaN            Москва      Трофим    Трошин   \n",
       "439     1439   62        NaN              Орёл     Евгения   Афонина   \n",
       "215     1215   55        NaN            Рязань      Руслан     Алиев   \n",
       "153     1153   59        NaN         Ульяновск     Евдокия  Одинцова   \n",
       "412     1412   63        NaN         Волгоград      Геодар    Афонин   \n",
       "137     1137   64        NaN          Кемерово         Ким   Артёшин   \n",
       "323     1323   67        NaN         Челябинск  Эсмеральда   Носкова   \n",
       "415     1415   41        NaN            Москва      Андрей     Лукин   \n",
       "409     1409   42        NaN  Набережные Челны      Даниил     Алиев   \n",
       "304     1304   68        NaN          Владимир        Илья  Соловьёв   \n",
       "\n",
       "       reg_date tariff  \n",
       "268  2018-05-28  smart  \n",
       "439  2018-06-30  smart  \n",
       "215  2018-08-12  smart  \n",
       "153  2018-10-18  smart  \n",
       "412  2018-06-05  ultra  \n",
       "137  2018-12-02  smart  \n",
       "323  2018-08-02  smart  \n",
       "415  2018-06-29  ultra  \n",
       "409  2018-03-14  smart  \n",
       "304  2018-11-05  ultra  "
      ]
     },
     "execution_count": 16,
     "metadata": {},
     "output_type": "execute_result"
    }
   ],
   "source": [
    "users.sample(10)"
   ]
  },
  {
   "cell_type": "markdown",
   "metadata": {},
   "source": [
    "Есть пропущенные значения в \"churn_date\" (дата прекращения пользования тарифом). Согласно условиям, если значение пропущено, то тариф ещё действовал на момент выгрузки данных."
   ]
  },
  {
   "cell_type": "markdown",
   "metadata": {},
   "source": [
    "### Выводы "
   ]
  },
  {
   "cell_type": "markdown",
   "metadata": {},
   "source": [
    "Нужно справить неверный формат даты в таблицах.  \n",
    "Нужно округлить время звонков и мегабайты трафика в большую сторону в соответствии с условиями тарифов"
   ]
  },
  {
   "cell_type": "markdown",
   "metadata": {},
   "source": [
    "## Предобработка данных"
   ]
  },
  {
   "cell_type": "markdown",
   "metadata": {},
   "source": [
    "### Приведение данных к нужным типам"
   ]
  },
  {
   "cell_type": "markdown",
   "metadata": {},
   "source": [
    "Во всех столбцах с датой, меняем тип на date_time и задаем формат"
   ]
  },
  {
   "cell_type": "code",
   "execution_count": 17,
   "metadata": {},
   "outputs": [],
   "source": [
    "calls['call_date']=pd.to_datetime(calls['call_date'],format='%Y-%m-%d')"
   ]
  },
  {
   "cell_type": "code",
   "execution_count": 18,
   "metadata": {},
   "outputs": [],
   "source": [
    "messages['message_date'] = pd.to_datetime(messages['message_date'], format='%Y-%m-%d')"
   ]
  },
  {
   "cell_type": "code",
   "execution_count": 19,
   "metadata": {},
   "outputs": [],
   "source": [
    "internet['session_date'] = pd.to_datetime(internet['session_date'], format='%Y-%m-%d')"
   ]
  },
  {
   "cell_type": "code",
   "execution_count": 20,
   "metadata": {},
   "outputs": [],
   "source": [
    "users['reg_date'] = pd.to_datetime(users['reg_date'], format='%Y-%m-%d')"
   ]
  },
  {
   "cell_type": "code",
   "execution_count": 21,
   "metadata": {},
   "outputs": [],
   "source": [
    "users['churn_date'] = pd.to_datetime(users['churn_date'], format='%Y-%m-%d')"
   ]
  },
  {
   "cell_type": "markdown",
   "metadata": {},
   "source": [
    "### Обработка и исправление ошибок в данных"
   ]
  },
  {
   "cell_type": "code",
   "execution_count": 25,
   "metadata": {
    "scrolled": true
   },
   "outputs": [
    {
     "name": "stdout",
     "output_type": "stream",
     "text": [
      "\n",
      "Обнаружено дубликатов: 0\n",
      "\n",
      "Обнаружено дубликатов: 0\n",
      "\n",
      "Обнаружено дубликатов: 0\n",
      "\n",
      "Обнаружено дубликатов: 0\n",
      "\n",
      "Обнаружено дубликатов: 0\n"
     ]
    }
   ],
   "source": [
    "#Проверим дибликаты\n",
    "def dataset_duplicated(name_dataset): \n",
    "    print(\"Обнаружено дубликатов:\", name_dataset.duplicated().sum())\n",
    "        \n",
    "for ds in [calls, internet, messages, tariffs, users]:\n",
    "    print()\n",
    "    dataset_duplicated(ds)\n"
   ]
  },
  {
   "cell_type": "code",
   "execution_count": 26,
   "metadata": {
    "scrolled": true
   },
   "outputs": [
    {
     "data": {
      "text/plain": [
       "0"
      ]
     },
     "execution_count": 26,
     "metadata": {},
     "output_type": "execute_result"
    }
   ],
   "source": [
    "users.duplicated().sum()"
   ]
  },
  {
   "cell_type": "code",
   "execution_count": 27,
   "metadata": {
    "scrolled": false
   },
   "outputs": [
    {
     "data": {
      "text/plain": [
       "1023    1\n",
       "1194    1\n",
       "1181    1\n",
       "1182    1\n",
       "1183    1\n",
       "       ..\n",
       "1362    1\n",
       "1363    1\n",
       "1364    1\n",
       "1365    1\n",
       "1024    1\n",
       "Name: user_id, Length: 500, dtype: int64"
      ]
     },
     "execution_count": 27,
     "metadata": {},
     "output_type": "execute_result"
    }
   ],
   "source": [
    "#Проверим уникальность id\n",
    "users['user_id'].value_counts()"
   ]
  },
  {
   "cell_type": "markdown",
   "metadata": {},
   "source": [
    "«Мегалайн» всегда округляет секунды до минут, а мегабайты — до гигабайт.  \n",
    "Каждый звонок округляется отдельно: даже если он длился всего 1 секунду, будет засчитан как 1 минута.\n"
   ]
  },
  {
   "cell_type": "markdown",
   "metadata": {},
   "source": [
    "Для веб-трафика отдельные сессии не считаются.  \n",
    "Вместо этого общая сумма за месяц округляется в бо́льшую сторону. Если абонент использует 1025 мегабайт в этом месяце, с него возьмут плату за 2 гигабайта."
   ]
  },
  {
   "cell_type": "code",
   "execution_count": 28,
   "metadata": {},
   "outputs": [],
   "source": [
    "#Округлим продолжительность звонков\n",
    "calls['duration'] = np.ceil(calls['duration']).astype('Int64')"
   ]
  },
  {
   "cell_type": "code",
   "execution_count": 29,
   "metadata": {},
   "outputs": [
    {
     "data": {
      "text/html": [
       "<div>\n",
       "<style scoped>\n",
       "    .dataframe tbody tr th:only-of-type {\n",
       "        vertical-align: middle;\n",
       "    }\n",
       "\n",
       "    .dataframe tbody tr th {\n",
       "        vertical-align: top;\n",
       "    }\n",
       "\n",
       "    .dataframe thead th {\n",
       "        text-align: right;\n",
       "    }\n",
       "</style>\n",
       "<table border=\"1\" class=\"dataframe\">\n",
       "  <thead>\n",
       "    <tr style=\"text-align: right;\">\n",
       "      <th></th>\n",
       "      <th>Unnamed: 0</th>\n",
       "      <th>id</th>\n",
       "      <th>mb_used</th>\n",
       "      <th>session_date</th>\n",
       "      <th>user_id</th>\n",
       "    </tr>\n",
       "  </thead>\n",
       "  <tbody>\n",
       "    <tr>\n",
       "      <td>0</td>\n",
       "      <td>0</td>\n",
       "      <td>1000_0</td>\n",
       "      <td>112.95</td>\n",
       "      <td>2018-11-25</td>\n",
       "      <td>1000</td>\n",
       "    </tr>\n",
       "    <tr>\n",
       "      <td>1</td>\n",
       "      <td>1</td>\n",
       "      <td>1000_1</td>\n",
       "      <td>1052.81</td>\n",
       "      <td>2018-09-07</td>\n",
       "      <td>1000</td>\n",
       "    </tr>\n",
       "    <tr>\n",
       "      <td>2</td>\n",
       "      <td>2</td>\n",
       "      <td>1000_2</td>\n",
       "      <td>1197.26</td>\n",
       "      <td>2018-06-25</td>\n",
       "      <td>1000</td>\n",
       "    </tr>\n",
       "    <tr>\n",
       "      <td>3</td>\n",
       "      <td>3</td>\n",
       "      <td>1000_3</td>\n",
       "      <td>550.27</td>\n",
       "      <td>2018-08-22</td>\n",
       "      <td>1000</td>\n",
       "    </tr>\n",
       "    <tr>\n",
       "      <td>4</td>\n",
       "      <td>4</td>\n",
       "      <td>1000_4</td>\n",
       "      <td>302.56</td>\n",
       "      <td>2018-09-24</td>\n",
       "      <td>1000</td>\n",
       "    </tr>\n",
       "  </tbody>\n",
       "</table>\n",
       "</div>"
      ],
      "text/plain": [
       "   Unnamed: 0      id  mb_used session_date  user_id\n",
       "0           0  1000_0   112.95   2018-11-25     1000\n",
       "1           1  1000_1  1052.81   2018-09-07     1000\n",
       "2           2  1000_2  1197.26   2018-06-25     1000\n",
       "3           3  1000_3   550.27   2018-08-22     1000\n",
       "4           4  1000_4   302.56   2018-09-24     1000"
      ]
     },
     "execution_count": 29,
     "metadata": {},
     "output_type": "execute_result"
    }
   ],
   "source": [
    "internet.head(5)"
   ]
  },
  {
   "cell_type": "code",
   "execution_count": 31,
   "metadata": {
    "scrolled": true
   },
   "outputs": [
    {
     "data": {
      "text/html": [
       "<div>\n",
       "<style scoped>\n",
       "    .dataframe tbody tr th:only-of-type {\n",
       "        vertical-align: middle;\n",
       "    }\n",
       "\n",
       "    .dataframe tbody tr th {\n",
       "        vertical-align: top;\n",
       "    }\n",
       "\n",
       "    .dataframe thead th {\n",
       "        text-align: right;\n",
       "    }\n",
       "</style>\n",
       "<table border=\"1\" class=\"dataframe\">\n",
       "  <thead>\n",
       "    <tr style=\"text-align: right;\">\n",
       "      <th></th>\n",
       "      <th>Unnamed: 0</th>\n",
       "      <th>id</th>\n",
       "      <th>mb_used</th>\n",
       "      <th>session_date</th>\n",
       "      <th>user_id</th>\n",
       "    </tr>\n",
       "  </thead>\n",
       "  <tbody>\n",
       "    <tr>\n",
       "      <td>0</td>\n",
       "      <td>0</td>\n",
       "      <td>1000_0</td>\n",
       "      <td>112.95</td>\n",
       "      <td>2018-11-25</td>\n",
       "      <td>1000</td>\n",
       "    </tr>\n",
       "    <tr>\n",
       "      <td>1</td>\n",
       "      <td>1</td>\n",
       "      <td>1000_1</td>\n",
       "      <td>1052.81</td>\n",
       "      <td>2018-09-07</td>\n",
       "      <td>1000</td>\n",
       "    </tr>\n",
       "    <tr>\n",
       "      <td>2</td>\n",
       "      <td>2</td>\n",
       "      <td>1000_2</td>\n",
       "      <td>1197.26</td>\n",
       "      <td>2018-06-25</td>\n",
       "      <td>1000</td>\n",
       "    </tr>\n",
       "    <tr>\n",
       "      <td>3</td>\n",
       "      <td>3</td>\n",
       "      <td>1000_3</td>\n",
       "      <td>550.27</td>\n",
       "      <td>2018-08-22</td>\n",
       "      <td>1000</td>\n",
       "    </tr>\n",
       "    <tr>\n",
       "      <td>4</td>\n",
       "      <td>4</td>\n",
       "      <td>1000_4</td>\n",
       "      <td>302.56</td>\n",
       "      <td>2018-09-24</td>\n",
       "      <td>1000</td>\n",
       "    </tr>\n",
       "  </tbody>\n",
       "</table>\n",
       "</div>"
      ],
      "text/plain": [
       "   Unnamed: 0      id  mb_used session_date  user_id\n",
       "0           0  1000_0   112.95   2018-11-25     1000\n",
       "1           1  1000_1  1052.81   2018-09-07     1000\n",
       "2           2  1000_2  1197.26   2018-06-25     1000\n",
       "3           3  1000_3   550.27   2018-08-22     1000\n",
       "4           4  1000_4   302.56   2018-09-24     1000"
      ]
     },
     "execution_count": 31,
     "metadata": {},
     "output_type": "execute_result"
    }
   ],
   "source": [
    "internet.head(5)"
   ]
  },
  {
   "cell_type": "code",
   "execution_count": 32,
   "metadata": {
    "scrolled": true
   },
   "outputs": [
    {
     "data": {
      "text/html": [
       "<div>\n",
       "<style scoped>\n",
       "    .dataframe tbody tr th:only-of-type {\n",
       "        vertical-align: middle;\n",
       "    }\n",
       "\n",
       "    .dataframe tbody tr th {\n",
       "        vertical-align: top;\n",
       "    }\n",
       "\n",
       "    .dataframe thead th {\n",
       "        text-align: right;\n",
       "    }\n",
       "</style>\n",
       "<table border=\"1\" class=\"dataframe\">\n",
       "  <thead>\n",
       "    <tr style=\"text-align: right;\">\n",
       "      <th></th>\n",
       "      <th>id</th>\n",
       "      <th>mb_used</th>\n",
       "      <th>session_date</th>\n",
       "      <th>user_id</th>\n",
       "    </tr>\n",
       "  </thead>\n",
       "  <tbody>\n",
       "    <tr>\n",
       "      <td>134205</td>\n",
       "      <td>1450_88</td>\n",
       "      <td>98.25</td>\n",
       "      <td>2018-10-31</td>\n",
       "      <td>1450</td>\n",
       "    </tr>\n",
       "    <tr>\n",
       "      <td>19071</td>\n",
       "      <td>1065_216</td>\n",
       "      <td>186.19</td>\n",
       "      <td>2018-08-31</td>\n",
       "      <td>1065</td>\n",
       "    </tr>\n",
       "    <tr>\n",
       "      <td>91349</td>\n",
       "      <td>1308_532</td>\n",
       "      <td>366.31</td>\n",
       "      <td>2018-05-10</td>\n",
       "      <td>1308</td>\n",
       "    </tr>\n",
       "    <tr>\n",
       "      <td>56497</td>\n",
       "      <td>1188_303</td>\n",
       "      <td>140.81</td>\n",
       "      <td>2018-08-18</td>\n",
       "      <td>1188</td>\n",
       "    </tr>\n",
       "    <tr>\n",
       "      <td>126686</td>\n",
       "      <td>1425_215</td>\n",
       "      <td>469.29</td>\n",
       "      <td>2018-08-01</td>\n",
       "      <td>1425</td>\n",
       "    </tr>\n",
       "  </tbody>\n",
       "</table>\n",
       "</div>"
      ],
      "text/plain": [
       "              id  mb_used session_date  user_id\n",
       "134205   1450_88    98.25   2018-10-31     1450\n",
       "19071   1065_216   186.19   2018-08-31     1065\n",
       "91349   1308_532   366.31   2018-05-10     1308\n",
       "56497   1188_303   140.81   2018-08-18     1188\n",
       "126686  1425_215   469.29   2018-08-01     1425"
      ]
     },
     "execution_count": 32,
     "metadata": {},
     "output_type": "execute_result"
    }
   ],
   "source": [
    "#Столбец 'Unnamed: 0' содержит дублирующие данные (индексы). Удалим этот столбец.\n",
    "internet.drop('Unnamed: 0', axis=1, inplace=True)\n",
    "#Проверим, как прошло удаление\n",
    "internet.sample(5)"
   ]
  },
  {
   "cell_type": "markdown",
   "metadata": {},
   "source": [
    "Данные в исходных таблицах скорректированы, можно приступать к рассчётам"
   ]
  },
  {
   "cell_type": "markdown",
   "metadata": {},
   "source": [
    "### Расчёты и добавление результатов в таблицу¶"
   ]
  },
  {
   "cell_type": "markdown",
   "metadata": {},
   "source": [
    "Посчитаем для каждого пользователя: \n",
    "- количество сделанных звонков и израсходованных минут разговора по месяцам\n",
    "- количество отправленных сообщений по месяцам\n",
    "- объем израсходованного интернет-трафика по месяцам"
   ]
  },
  {
   "cell_type": "code",
   "execution_count": 33,
   "metadata": {},
   "outputs": [],
   "source": [
    "#добавляем столбец month\n",
    "calls['month'] = pd.to_datetime(calls['call_date']).dt.month\n",
    "messages['month'] = pd.to_datetime(messages['message_date']).dt.month\n",
    "internet['month'] = pd.to_datetime(internet['session_date']).dt.month"
   ]
  },
  {
   "cell_type": "markdown",
   "metadata": {},
   "source": [
    "Посчитаем количество сделанных звонков и израсходованных минут разговора по месяцам"
   ]
  },
  {
   "cell_type": "code",
   "execution_count": 34,
   "metadata": {},
   "outputs": [
    {
     "data": {
      "text/html": [
       "<div>\n",
       "<style scoped>\n",
       "    .dataframe tbody tr th:only-of-type {\n",
       "        vertical-align: middle;\n",
       "    }\n",
       "\n",
       "    .dataframe tbody tr th {\n",
       "        vertical-align: top;\n",
       "    }\n",
       "\n",
       "    .dataframe thead th {\n",
       "        text-align: right;\n",
       "    }\n",
       "</style>\n",
       "<table border=\"1\" class=\"dataframe\">\n",
       "  <thead>\n",
       "    <tr style=\"text-align: right;\">\n",
       "      <th></th>\n",
       "      <th>user_id</th>\n",
       "      <th>month</th>\n",
       "      <th>month_calls_duration</th>\n",
       "      <th>calls_total_in_month</th>\n",
       "    </tr>\n",
       "  </thead>\n",
       "  <tbody>\n",
       "    <tr>\n",
       "      <td>0</td>\n",
       "      <td>1000</td>\n",
       "      <td>5</td>\n",
       "      <td>159</td>\n",
       "      <td>22</td>\n",
       "    </tr>\n",
       "    <tr>\n",
       "      <td>1</td>\n",
       "      <td>1000</td>\n",
       "      <td>6</td>\n",
       "      <td>172</td>\n",
       "      <td>43</td>\n",
       "    </tr>\n",
       "    <tr>\n",
       "      <td>2</td>\n",
       "      <td>1000</td>\n",
       "      <td>7</td>\n",
       "      <td>340</td>\n",
       "      <td>47</td>\n",
       "    </tr>\n",
       "    <tr>\n",
       "      <td>3</td>\n",
       "      <td>1000</td>\n",
       "      <td>8</td>\n",
       "      <td>408</td>\n",
       "      <td>52</td>\n",
       "    </tr>\n",
       "    <tr>\n",
       "      <td>4</td>\n",
       "      <td>1000</td>\n",
       "      <td>9</td>\n",
       "      <td>466</td>\n",
       "      <td>58</td>\n",
       "    </tr>\n",
       "  </tbody>\n",
       "</table>\n",
       "</div>"
      ],
      "text/plain": [
       "   user_id  month  month_calls_duration  calls_total_in_month\n",
       "0     1000      5                   159                    22\n",
       "1     1000      6                   172                    43\n",
       "2     1000      7                   340                    47\n",
       "3     1000      8                   408                    52\n",
       "4     1000      9                   466                    58"
      ]
     },
     "execution_count": 34,
     "metadata": {},
     "output_type": "execute_result"
    }
   ],
   "source": [
    "user_calls = calls.groupby(['user_id', 'month'])\\\n",
    "                  .agg({'duration':'sum', 'id':'count'})\\\n",
    "                  .reset_index()\\\n",
    "                  .rename(columns={'duration':'month_calls_duration','id':'calls_total_in_month'})\\\n",
    "\n",
    "user_calls.head()"
   ]
  },
  {
   "cell_type": "markdown",
   "metadata": {},
   "source": [
    "Посчитаем количество отправленных сообщений по месяцам\n"
   ]
  },
  {
   "cell_type": "code",
   "execution_count": 35,
   "metadata": {},
   "outputs": [],
   "source": [
    "user_messages = messages.groupby(['user_id', 'month'])\\\n",
    "                        .agg({'id':'count'})\\\n",
    "                        .reset_index()\\\n",
    "                        .rename(columns={'id':'sms_total_in_month'})"
   ]
  },
  {
   "cell_type": "code",
   "execution_count": 36,
   "metadata": {
    "scrolled": true
   },
   "outputs": [
    {
     "data": {
      "text/html": [
       "<div>\n",
       "<style scoped>\n",
       "    .dataframe tbody tr th:only-of-type {\n",
       "        vertical-align: middle;\n",
       "    }\n",
       "\n",
       "    .dataframe tbody tr th {\n",
       "        vertical-align: top;\n",
       "    }\n",
       "\n",
       "    .dataframe thead th {\n",
       "        text-align: right;\n",
       "    }\n",
       "</style>\n",
       "<table border=\"1\" class=\"dataframe\">\n",
       "  <thead>\n",
       "    <tr style=\"text-align: right;\">\n",
       "      <th></th>\n",
       "      <th>user_id</th>\n",
       "      <th>month</th>\n",
       "      <th>sms_total_in_month</th>\n",
       "    </tr>\n",
       "  </thead>\n",
       "  <tbody>\n",
       "    <tr>\n",
       "      <td>0</td>\n",
       "      <td>1000</td>\n",
       "      <td>5</td>\n",
       "      <td>22</td>\n",
       "    </tr>\n",
       "    <tr>\n",
       "      <td>1</td>\n",
       "      <td>1000</td>\n",
       "      <td>6</td>\n",
       "      <td>60</td>\n",
       "    </tr>\n",
       "    <tr>\n",
       "      <td>2</td>\n",
       "      <td>1000</td>\n",
       "      <td>7</td>\n",
       "      <td>75</td>\n",
       "    </tr>\n",
       "    <tr>\n",
       "      <td>3</td>\n",
       "      <td>1000</td>\n",
       "      <td>8</td>\n",
       "      <td>81</td>\n",
       "    </tr>\n",
       "    <tr>\n",
       "      <td>4</td>\n",
       "      <td>1000</td>\n",
       "      <td>9</td>\n",
       "      <td>57</td>\n",
       "    </tr>\n",
       "  </tbody>\n",
       "</table>\n",
       "</div>"
      ],
      "text/plain": [
       "   user_id  month  sms_total_in_month\n",
       "0     1000      5                  22\n",
       "1     1000      6                  60\n",
       "2     1000      7                  75\n",
       "3     1000      8                  81\n",
       "4     1000      9                  57"
      ]
     },
     "execution_count": 36,
     "metadata": {},
     "output_type": "execute_result"
    }
   ],
   "source": [
    "user_messages.head()"
   ]
  },
  {
   "cell_type": "markdown",
   "metadata": {},
   "source": [
    "Посчитаем объем израсходованного интернет-трафика по месяцам"
   ]
  },
  {
   "cell_type": "code",
   "execution_count": 37,
   "metadata": {},
   "outputs": [
    {
     "data": {
      "text/html": [
       "<div>\n",
       "<style scoped>\n",
       "    .dataframe tbody tr th:only-of-type {\n",
       "        vertical-align: middle;\n",
       "    }\n",
       "\n",
       "    .dataframe tbody tr th {\n",
       "        vertical-align: top;\n",
       "    }\n",
       "\n",
       "    .dataframe thead th {\n",
       "        text-align: right;\n",
       "    }\n",
       "</style>\n",
       "<table border=\"1\" class=\"dataframe\">\n",
       "  <thead>\n",
       "    <tr style=\"text-align: right;\">\n",
       "      <th></th>\n",
       "      <th>user_id</th>\n",
       "      <th>month</th>\n",
       "      <th>mb_total_in_month</th>\n",
       "    </tr>\n",
       "  </thead>\n",
       "  <tbody>\n",
       "    <tr>\n",
       "      <td>0</td>\n",
       "      <td>1000</td>\n",
       "      <td>5</td>\n",
       "      <td>2253.49</td>\n",
       "    </tr>\n",
       "    <tr>\n",
       "      <td>1</td>\n",
       "      <td>1000</td>\n",
       "      <td>6</td>\n",
       "      <td>23233.77</td>\n",
       "    </tr>\n",
       "    <tr>\n",
       "      <td>2</td>\n",
       "      <td>1000</td>\n",
       "      <td>7</td>\n",
       "      <td>14003.64</td>\n",
       "    </tr>\n",
       "    <tr>\n",
       "      <td>3</td>\n",
       "      <td>1000</td>\n",
       "      <td>8</td>\n",
       "      <td>14055.93</td>\n",
       "    </tr>\n",
       "    <tr>\n",
       "      <td>4</td>\n",
       "      <td>1000</td>\n",
       "      <td>9</td>\n",
       "      <td>14568.91</td>\n",
       "    </tr>\n",
       "    <tr>\n",
       "      <td>5</td>\n",
       "      <td>1000</td>\n",
       "      <td>10</td>\n",
       "      <td>14702.49</td>\n",
       "    </tr>\n",
       "    <tr>\n",
       "      <td>6</td>\n",
       "      <td>1000</td>\n",
       "      <td>11</td>\n",
       "      <td>14756.47</td>\n",
       "    </tr>\n",
       "    <tr>\n",
       "      <td>7</td>\n",
       "      <td>1000</td>\n",
       "      <td>12</td>\n",
       "      <td>9817.61</td>\n",
       "    </tr>\n",
       "    <tr>\n",
       "      <td>8</td>\n",
       "      <td>1001</td>\n",
       "      <td>11</td>\n",
       "      <td>18429.34</td>\n",
       "    </tr>\n",
       "    <tr>\n",
       "      <td>9</td>\n",
       "      <td>1001</td>\n",
       "      <td>12</td>\n",
       "      <td>14036.66</td>\n",
       "    </tr>\n",
       "    <tr>\n",
       "      <td>10</td>\n",
       "      <td>1002</td>\n",
       "      <td>6</td>\n",
       "      <td>10856.82</td>\n",
       "    </tr>\n",
       "    <tr>\n",
       "      <td>11</td>\n",
       "      <td>1002</td>\n",
       "      <td>7</td>\n",
       "      <td>17580.10</td>\n",
       "    </tr>\n",
       "    <tr>\n",
       "      <td>12</td>\n",
       "      <td>1002</td>\n",
       "      <td>8</td>\n",
       "      <td>20319.26</td>\n",
       "    </tr>\n",
       "    <tr>\n",
       "      <td>13</td>\n",
       "      <td>1002</td>\n",
       "      <td>9</td>\n",
       "      <td>16691.08</td>\n",
       "    </tr>\n",
       "    <tr>\n",
       "      <td>14</td>\n",
       "      <td>1002</td>\n",
       "      <td>10</td>\n",
       "      <td>13888.25</td>\n",
       "    </tr>\n",
       "  </tbody>\n",
       "</table>\n",
       "</div>"
      ],
      "text/plain": [
       "    user_id  month  mb_total_in_month\n",
       "0      1000      5            2253.49\n",
       "1      1000      6           23233.77\n",
       "2      1000      7           14003.64\n",
       "3      1000      8           14055.93\n",
       "4      1000      9           14568.91\n",
       "5      1000     10           14702.49\n",
       "6      1000     11           14756.47\n",
       "7      1000     12            9817.61\n",
       "8      1001     11           18429.34\n",
       "9      1001     12           14036.66\n",
       "10     1002      6           10856.82\n",
       "11     1002      7           17580.10\n",
       "12     1002      8           20319.26\n",
       "13     1002      9           16691.08\n",
       "14     1002     10           13888.25"
      ]
     },
     "execution_count": 37,
     "metadata": {},
     "output_type": "execute_result"
    }
   ],
   "source": [
    "user_internet = internet.groupby(['user_id', 'month'])\\\n",
    "                        .agg({'mb_used':'sum'})\\\n",
    "                        .reset_index()\\\n",
    "                        .rename(columns={'mb_used':'mb_total_in_month'})\n",
    "\n",
    "user_internet.head(15)"
   ]
  },
  {
   "cell_type": "markdown",
   "metadata": {},
   "source": [
    "**Посчитаем для каждого пользователя помесячную выручку с каждого пользователя.**  \n",
    "Вычтем бесплатный лимит из суммарного количества звонков, сообщений и интернет-трафика; \n",
    "остаток умножим на значение из тарифного плана; \n",
    "прибавим абонентскую плату, соответствующую тарифному плану"
   ]
  },
  {
   "cell_type": "code",
   "execution_count": 38,
   "metadata": {},
   "outputs": [
    {
     "data": {
      "text/html": [
       "<div>\n",
       "<style scoped>\n",
       "    .dataframe tbody tr th:only-of-type {\n",
       "        vertical-align: middle;\n",
       "    }\n",
       "\n",
       "    .dataframe tbody tr th {\n",
       "        vertical-align: top;\n",
       "    }\n",
       "\n",
       "    .dataframe thead th {\n",
       "        text-align: right;\n",
       "    }\n",
       "</style>\n",
       "<table border=\"1\" class=\"dataframe\">\n",
       "  <thead>\n",
       "    <tr style=\"text-align: right;\">\n",
       "      <th></th>\n",
       "      <th>user_id</th>\n",
       "      <th>month</th>\n",
       "      <th>month_calls_duration</th>\n",
       "      <th>calls_total_in_month</th>\n",
       "      <th>sms_total_in_month</th>\n",
       "      <th>mb_total_in_month</th>\n",
       "    </tr>\n",
       "  </thead>\n",
       "  <tbody>\n",
       "    <tr>\n",
       "      <td>0</td>\n",
       "      <td>1000</td>\n",
       "      <td>5</td>\n",
       "      <td>159</td>\n",
       "      <td>22.0</td>\n",
       "      <td>22.0</td>\n",
       "      <td>2253.49</td>\n",
       "    </tr>\n",
       "    <tr>\n",
       "      <td>1</td>\n",
       "      <td>1000</td>\n",
       "      <td>6</td>\n",
       "      <td>172</td>\n",
       "      <td>43.0</td>\n",
       "      <td>60.0</td>\n",
       "      <td>23233.77</td>\n",
       "    </tr>\n",
       "    <tr>\n",
       "      <td>2</td>\n",
       "      <td>1000</td>\n",
       "      <td>7</td>\n",
       "      <td>340</td>\n",
       "      <td>47.0</td>\n",
       "      <td>75.0</td>\n",
       "      <td>14003.64</td>\n",
       "    </tr>\n",
       "    <tr>\n",
       "      <td>3</td>\n",
       "      <td>1000</td>\n",
       "      <td>8</td>\n",
       "      <td>408</td>\n",
       "      <td>52.0</td>\n",
       "      <td>81.0</td>\n",
       "      <td>14055.93</td>\n",
       "    </tr>\n",
       "    <tr>\n",
       "      <td>4</td>\n",
       "      <td>1000</td>\n",
       "      <td>9</td>\n",
       "      <td>466</td>\n",
       "      <td>58.0</td>\n",
       "      <td>57.0</td>\n",
       "      <td>14568.91</td>\n",
       "    </tr>\n",
       "    <tr>\n",
       "      <td>5</td>\n",
       "      <td>1000</td>\n",
       "      <td>10</td>\n",
       "      <td>350</td>\n",
       "      <td>57.0</td>\n",
       "      <td>73.0</td>\n",
       "      <td>14702.49</td>\n",
       "    </tr>\n",
       "    <tr>\n",
       "      <td>6</td>\n",
       "      <td>1000</td>\n",
       "      <td>11</td>\n",
       "      <td>338</td>\n",
       "      <td>43.0</td>\n",
       "      <td>58.0</td>\n",
       "      <td>14756.47</td>\n",
       "    </tr>\n",
       "    <tr>\n",
       "      <td>7</td>\n",
       "      <td>1000</td>\n",
       "      <td>12</td>\n",
       "      <td>333</td>\n",
       "      <td>46.0</td>\n",
       "      <td>70.0</td>\n",
       "      <td>9817.61</td>\n",
       "    </tr>\n",
       "    <tr>\n",
       "      <td>8</td>\n",
       "      <td>1001</td>\n",
       "      <td>11</td>\n",
       "      <td>430</td>\n",
       "      <td>59.0</td>\n",
       "      <td>NaN</td>\n",
       "      <td>18429.34</td>\n",
       "    </tr>\n",
       "    <tr>\n",
       "      <td>9</td>\n",
       "      <td>1001</td>\n",
       "      <td>12</td>\n",
       "      <td>414</td>\n",
       "      <td>63.0</td>\n",
       "      <td>NaN</td>\n",
       "      <td>14036.66</td>\n",
       "    </tr>\n",
       "  </tbody>\n",
       "</table>\n",
       "</div>"
      ],
      "text/plain": [
       "   user_id  month  month_calls_duration  calls_total_in_month  \\\n",
       "0     1000      5                   159                  22.0   \n",
       "1     1000      6                   172                  43.0   \n",
       "2     1000      7                   340                  47.0   \n",
       "3     1000      8                   408                  52.0   \n",
       "4     1000      9                   466                  58.0   \n",
       "5     1000     10                   350                  57.0   \n",
       "6     1000     11                   338                  43.0   \n",
       "7     1000     12                   333                  46.0   \n",
       "8     1001     11                   430                  59.0   \n",
       "9     1001     12                   414                  63.0   \n",
       "\n",
       "   sms_total_in_month  mb_total_in_month  \n",
       "0                22.0            2253.49  \n",
       "1                60.0           23233.77  \n",
       "2                75.0           14003.64  \n",
       "3                81.0           14055.93  \n",
       "4                57.0           14568.91  \n",
       "5                73.0           14702.49  \n",
       "6                58.0           14756.47  \n",
       "7                70.0            9817.61  \n",
       "8                 NaN           18429.34  \n",
       "9                 NaN           14036.66  "
      ]
     },
     "execution_count": 38,
     "metadata": {},
     "output_type": "execute_result"
    }
   ],
   "source": [
    "#Сформируем общую таблицу использования минут, смс и интернета для каждого id (помесячно)\n",
    "df = user_calls.merge(user_messages, on=['user_id','month'], how='outer')\n",
    "df = df.merge(user_internet, on=['user_id','month'], how = 'outer')\n",
    "df.head(10)"
   ]
  },
  {
   "cell_type": "code",
   "execution_count": 39,
   "metadata": {
    "scrolled": true
   },
   "outputs": [
    {
     "data": {
      "text/html": [
       "<div>\n",
       "<style scoped>\n",
       "    .dataframe tbody tr th:only-of-type {\n",
       "        vertical-align: middle;\n",
       "    }\n",
       "\n",
       "    .dataframe tbody tr th {\n",
       "        vertical-align: top;\n",
       "    }\n",
       "\n",
       "    .dataframe thead th {\n",
       "        text-align: right;\n",
       "    }\n",
       "</style>\n",
       "<table border=\"1\" class=\"dataframe\">\n",
       "  <thead>\n",
       "    <tr style=\"text-align: right;\">\n",
       "      <th></th>\n",
       "      <th>user_id</th>\n",
       "      <th>month</th>\n",
       "      <th>month_calls_duration</th>\n",
       "      <th>calls_total_in_month</th>\n",
       "      <th>sms_total_in_month</th>\n",
       "      <th>mb_total_in_month</th>\n",
       "      <th>age</th>\n",
       "      <th>churn_date</th>\n",
       "      <th>city</th>\n",
       "      <th>first_name</th>\n",
       "      <th>last_name</th>\n",
       "      <th>reg_date</th>\n",
       "      <th>tariff</th>\n",
       "    </tr>\n",
       "  </thead>\n",
       "  <tbody>\n",
       "    <tr>\n",
       "      <td>0</td>\n",
       "      <td>1000</td>\n",
       "      <td>5</td>\n",
       "      <td>159</td>\n",
       "      <td>22.0</td>\n",
       "      <td>22.0</td>\n",
       "      <td>2253.49</td>\n",
       "      <td>52</td>\n",
       "      <td>NaT</td>\n",
       "      <td>Краснодар</td>\n",
       "      <td>Рафаил</td>\n",
       "      <td>Верещагин</td>\n",
       "      <td>2018-05-25</td>\n",
       "      <td>ultra</td>\n",
       "    </tr>\n",
       "    <tr>\n",
       "      <td>1</td>\n",
       "      <td>1000</td>\n",
       "      <td>6</td>\n",
       "      <td>172</td>\n",
       "      <td>43.0</td>\n",
       "      <td>60.0</td>\n",
       "      <td>23233.77</td>\n",
       "      <td>52</td>\n",
       "      <td>NaT</td>\n",
       "      <td>Краснодар</td>\n",
       "      <td>Рафаил</td>\n",
       "      <td>Верещагин</td>\n",
       "      <td>2018-05-25</td>\n",
       "      <td>ultra</td>\n",
       "    </tr>\n",
       "    <tr>\n",
       "      <td>2</td>\n",
       "      <td>1000</td>\n",
       "      <td>7</td>\n",
       "      <td>340</td>\n",
       "      <td>47.0</td>\n",
       "      <td>75.0</td>\n",
       "      <td>14003.64</td>\n",
       "      <td>52</td>\n",
       "      <td>NaT</td>\n",
       "      <td>Краснодар</td>\n",
       "      <td>Рафаил</td>\n",
       "      <td>Верещагин</td>\n",
       "      <td>2018-05-25</td>\n",
       "      <td>ultra</td>\n",
       "    </tr>\n",
       "    <tr>\n",
       "      <td>3</td>\n",
       "      <td>1000</td>\n",
       "      <td>8</td>\n",
       "      <td>408</td>\n",
       "      <td>52.0</td>\n",
       "      <td>81.0</td>\n",
       "      <td>14055.93</td>\n",
       "      <td>52</td>\n",
       "      <td>NaT</td>\n",
       "      <td>Краснодар</td>\n",
       "      <td>Рафаил</td>\n",
       "      <td>Верещагин</td>\n",
       "      <td>2018-05-25</td>\n",
       "      <td>ultra</td>\n",
       "    </tr>\n",
       "    <tr>\n",
       "      <td>4</td>\n",
       "      <td>1000</td>\n",
       "      <td>9</td>\n",
       "      <td>466</td>\n",
       "      <td>58.0</td>\n",
       "      <td>57.0</td>\n",
       "      <td>14568.91</td>\n",
       "      <td>52</td>\n",
       "      <td>NaT</td>\n",
       "      <td>Краснодар</td>\n",
       "      <td>Рафаил</td>\n",
       "      <td>Верещагин</td>\n",
       "      <td>2018-05-25</td>\n",
       "      <td>ultra</td>\n",
       "    </tr>\n",
       "    <tr>\n",
       "      <td>5</td>\n",
       "      <td>1000</td>\n",
       "      <td>10</td>\n",
       "      <td>350</td>\n",
       "      <td>57.0</td>\n",
       "      <td>73.0</td>\n",
       "      <td>14702.49</td>\n",
       "      <td>52</td>\n",
       "      <td>NaT</td>\n",
       "      <td>Краснодар</td>\n",
       "      <td>Рафаил</td>\n",
       "      <td>Верещагин</td>\n",
       "      <td>2018-05-25</td>\n",
       "      <td>ultra</td>\n",
       "    </tr>\n",
       "    <tr>\n",
       "      <td>6</td>\n",
       "      <td>1000</td>\n",
       "      <td>11</td>\n",
       "      <td>338</td>\n",
       "      <td>43.0</td>\n",
       "      <td>58.0</td>\n",
       "      <td>14756.47</td>\n",
       "      <td>52</td>\n",
       "      <td>NaT</td>\n",
       "      <td>Краснодар</td>\n",
       "      <td>Рафаил</td>\n",
       "      <td>Верещагин</td>\n",
       "      <td>2018-05-25</td>\n",
       "      <td>ultra</td>\n",
       "    </tr>\n",
       "    <tr>\n",
       "      <td>7</td>\n",
       "      <td>1000</td>\n",
       "      <td>12</td>\n",
       "      <td>333</td>\n",
       "      <td>46.0</td>\n",
       "      <td>70.0</td>\n",
       "      <td>9817.61</td>\n",
       "      <td>52</td>\n",
       "      <td>NaT</td>\n",
       "      <td>Краснодар</td>\n",
       "      <td>Рафаил</td>\n",
       "      <td>Верещагин</td>\n",
       "      <td>2018-05-25</td>\n",
       "      <td>ultra</td>\n",
       "    </tr>\n",
       "    <tr>\n",
       "      <td>8</td>\n",
       "      <td>1001</td>\n",
       "      <td>11</td>\n",
       "      <td>430</td>\n",
       "      <td>59.0</td>\n",
       "      <td>NaN</td>\n",
       "      <td>18429.34</td>\n",
       "      <td>41</td>\n",
       "      <td>NaT</td>\n",
       "      <td>Москва</td>\n",
       "      <td>Иван</td>\n",
       "      <td>Ежов</td>\n",
       "      <td>2018-11-01</td>\n",
       "      <td>smart</td>\n",
       "    </tr>\n",
       "    <tr>\n",
       "      <td>9</td>\n",
       "      <td>1001</td>\n",
       "      <td>12</td>\n",
       "      <td>414</td>\n",
       "      <td>63.0</td>\n",
       "      <td>NaN</td>\n",
       "      <td>14036.66</td>\n",
       "      <td>41</td>\n",
       "      <td>NaT</td>\n",
       "      <td>Москва</td>\n",
       "      <td>Иван</td>\n",
       "      <td>Ежов</td>\n",
       "      <td>2018-11-01</td>\n",
       "      <td>smart</td>\n",
       "    </tr>\n",
       "  </tbody>\n",
       "</table>\n",
       "</div>"
      ],
      "text/plain": [
       "   user_id  month  month_calls_duration  calls_total_in_month  \\\n",
       "0     1000      5                   159                  22.0   \n",
       "1     1000      6                   172                  43.0   \n",
       "2     1000      7                   340                  47.0   \n",
       "3     1000      8                   408                  52.0   \n",
       "4     1000      9                   466                  58.0   \n",
       "5     1000     10                   350                  57.0   \n",
       "6     1000     11                   338                  43.0   \n",
       "7     1000     12                   333                  46.0   \n",
       "8     1001     11                   430                  59.0   \n",
       "9     1001     12                   414                  63.0   \n",
       "\n",
       "   sms_total_in_month  mb_total_in_month  age churn_date       city  \\\n",
       "0                22.0            2253.49   52        NaT  Краснодар   \n",
       "1                60.0           23233.77   52        NaT  Краснодар   \n",
       "2                75.0           14003.64   52        NaT  Краснодар   \n",
       "3                81.0           14055.93   52        NaT  Краснодар   \n",
       "4                57.0           14568.91   52        NaT  Краснодар   \n",
       "5                73.0           14702.49   52        NaT  Краснодар   \n",
       "6                58.0           14756.47   52        NaT  Краснодар   \n",
       "7                70.0            9817.61   52        NaT  Краснодар   \n",
       "8                 NaN           18429.34   41        NaT     Москва   \n",
       "9                 NaN           14036.66   41        NaT     Москва   \n",
       "\n",
       "  first_name  last_name   reg_date tariff  \n",
       "0     Рафаил  Верещагин 2018-05-25  ultra  \n",
       "1     Рафаил  Верещагин 2018-05-25  ultra  \n",
       "2     Рафаил  Верещагин 2018-05-25  ultra  \n",
       "3     Рафаил  Верещагин 2018-05-25  ultra  \n",
       "4     Рафаил  Верещагин 2018-05-25  ultra  \n",
       "5     Рафаил  Верещагин 2018-05-25  ultra  \n",
       "6     Рафаил  Верещагин 2018-05-25  ultra  \n",
       "7     Рафаил  Верещагин 2018-05-25  ultra  \n",
       "8       Иван       Ежов 2018-11-01  smart  \n",
       "9       Иван       Ежов 2018-11-01  smart  "
      ]
     },
     "execution_count": 39,
     "metadata": {},
     "output_type": "execute_result"
    }
   ],
   "source": [
    "#Добавим данные абонентов снова сцепив по 'user_id'\n",
    "df = df.merge(users, on='user_id', how='left')\n",
    "df.head(10)"
   ]
  },
  {
   "cell_type": "code",
   "execution_count": 40,
   "metadata": {
    "scrolled": true
   },
   "outputs": [
    {
     "data": {
      "text/html": [
       "<div>\n",
       "<style scoped>\n",
       "    .dataframe tbody tr th:only-of-type {\n",
       "        vertical-align: middle;\n",
       "    }\n",
       "\n",
       "    .dataframe tbody tr th {\n",
       "        vertical-align: top;\n",
       "    }\n",
       "\n",
       "    .dataframe thead th {\n",
       "        text-align: right;\n",
       "    }\n",
       "</style>\n",
       "<table border=\"1\" class=\"dataframe\">\n",
       "  <thead>\n",
       "    <tr style=\"text-align: right;\">\n",
       "      <th></th>\n",
       "      <th>messages_included</th>\n",
       "      <th>mb_per_month_included</th>\n",
       "      <th>minutes_included</th>\n",
       "      <th>rub_monthly_fee</th>\n",
       "      <th>rub_per_gb</th>\n",
       "      <th>rub_per_message</th>\n",
       "      <th>rub_per_minute</th>\n",
       "      <th>tariff_name</th>\n",
       "    </tr>\n",
       "  </thead>\n",
       "  <tbody>\n",
       "    <tr>\n",
       "      <td>0</td>\n",
       "      <td>50</td>\n",
       "      <td>15360</td>\n",
       "      <td>500</td>\n",
       "      <td>550</td>\n",
       "      <td>200</td>\n",
       "      <td>3</td>\n",
       "      <td>3</td>\n",
       "      <td>smart</td>\n",
       "    </tr>\n",
       "    <tr>\n",
       "      <td>1</td>\n",
       "      <td>1000</td>\n",
       "      <td>30720</td>\n",
       "      <td>3000</td>\n",
       "      <td>1950</td>\n",
       "      <td>150</td>\n",
       "      <td>1</td>\n",
       "      <td>1</td>\n",
       "      <td>ultra</td>\n",
       "    </tr>\n",
       "  </tbody>\n",
       "</table>\n",
       "</div>"
      ],
      "text/plain": [
       "   messages_included  mb_per_month_included  minutes_included  \\\n",
       "0                 50                  15360               500   \n",
       "1               1000                  30720              3000   \n",
       "\n",
       "   rub_monthly_fee  rub_per_gb  rub_per_message  rub_per_minute tariff_name  \n",
       "0              550         200                3               3       smart  \n",
       "1             1950         150                1               1       ultra  "
      ]
     },
     "execution_count": 40,
     "metadata": {},
     "output_type": "execute_result"
    }
   ],
   "source": [
    "tariffs.head()"
   ]
  },
  {
   "cell_type": "markdown",
   "metadata": {},
   "source": [
    "Для дальнейшего объединения таблиц, нам необходимо изменить названия столбца назание тарифа в tariffs."
   ]
  },
  {
   "cell_type": "code",
   "execution_count": 41,
   "metadata": {},
   "outputs": [],
   "source": [
    "tariffs = tariffs.rename(columns={'tariff_name':'tariff'})"
   ]
  },
  {
   "cell_type": "code",
   "execution_count": 42,
   "metadata": {},
   "outputs": [
    {
     "data": {
      "text/html": [
       "<div>\n",
       "<style scoped>\n",
       "    .dataframe tbody tr th:only-of-type {\n",
       "        vertical-align: middle;\n",
       "    }\n",
       "\n",
       "    .dataframe tbody tr th {\n",
       "        vertical-align: top;\n",
       "    }\n",
       "\n",
       "    .dataframe thead th {\n",
       "        text-align: right;\n",
       "    }\n",
       "</style>\n",
       "<table border=\"1\" class=\"dataframe\">\n",
       "  <thead>\n",
       "    <tr style=\"text-align: right;\">\n",
       "      <th></th>\n",
       "      <th>user_id</th>\n",
       "      <th>month</th>\n",
       "      <th>month_calls_duration</th>\n",
       "      <th>calls_total_in_month</th>\n",
       "      <th>sms_total_in_month</th>\n",
       "      <th>mb_total_in_month</th>\n",
       "      <th>age</th>\n",
       "      <th>churn_date</th>\n",
       "      <th>city</th>\n",
       "      <th>first_name</th>\n",
       "      <th>last_name</th>\n",
       "      <th>reg_date</th>\n",
       "      <th>tariff</th>\n",
       "      <th>messages_included</th>\n",
       "      <th>mb_per_month_included</th>\n",
       "      <th>minutes_included</th>\n",
       "      <th>rub_monthly_fee</th>\n",
       "      <th>rub_per_gb</th>\n",
       "      <th>rub_per_message</th>\n",
       "      <th>rub_per_minute</th>\n",
       "    </tr>\n",
       "  </thead>\n",
       "  <tbody>\n",
       "    <tr>\n",
       "      <td>3204</td>\n",
       "      <td>1473</td>\n",
       "      <td>9</td>\n",
       "      <td>NaN</td>\n",
       "      <td>NaN</td>\n",
       "      <td>19.0</td>\n",
       "      <td>17289.85</td>\n",
       "      <td>18</td>\n",
       "      <td>NaT</td>\n",
       "      <td>Красноярск</td>\n",
       "      <td>Николай</td>\n",
       "      <td>Лебедев</td>\n",
       "      <td>2018-08-05</td>\n",
       "      <td>ultra</td>\n",
       "      <td>1000</td>\n",
       "      <td>30720</td>\n",
       "      <td>3000</td>\n",
       "      <td>1950</td>\n",
       "      <td>150</td>\n",
       "      <td>1</td>\n",
       "      <td>1</td>\n",
       "    </tr>\n",
       "    <tr>\n",
       "      <td>3205</td>\n",
       "      <td>1473</td>\n",
       "      <td>10</td>\n",
       "      <td>NaN</td>\n",
       "      <td>NaN</td>\n",
       "      <td>20.0</td>\n",
       "      <td>13688.65</td>\n",
       "      <td>18</td>\n",
       "      <td>NaT</td>\n",
       "      <td>Красноярск</td>\n",
       "      <td>Николай</td>\n",
       "      <td>Лебедев</td>\n",
       "      <td>2018-08-05</td>\n",
       "      <td>ultra</td>\n",
       "      <td>1000</td>\n",
       "      <td>30720</td>\n",
       "      <td>3000</td>\n",
       "      <td>1950</td>\n",
       "      <td>150</td>\n",
       "      <td>1</td>\n",
       "      <td>1</td>\n",
       "    </tr>\n",
       "    <tr>\n",
       "      <td>3206</td>\n",
       "      <td>1473</td>\n",
       "      <td>11</td>\n",
       "      <td>NaN</td>\n",
       "      <td>NaN</td>\n",
       "      <td>14.0</td>\n",
       "      <td>21673.80</td>\n",
       "      <td>18</td>\n",
       "      <td>NaT</td>\n",
       "      <td>Красноярск</td>\n",
       "      <td>Николай</td>\n",
       "      <td>Лебедев</td>\n",
       "      <td>2018-08-05</td>\n",
       "      <td>ultra</td>\n",
       "      <td>1000</td>\n",
       "      <td>30720</td>\n",
       "      <td>3000</td>\n",
       "      <td>1950</td>\n",
       "      <td>150</td>\n",
       "      <td>1</td>\n",
       "      <td>1</td>\n",
       "    </tr>\n",
       "    <tr>\n",
       "      <td>3207</td>\n",
       "      <td>1473</td>\n",
       "      <td>12</td>\n",
       "      <td>NaN</td>\n",
       "      <td>NaN</td>\n",
       "      <td>20.0</td>\n",
       "      <td>18418.26</td>\n",
       "      <td>18</td>\n",
       "      <td>NaT</td>\n",
       "      <td>Красноярск</td>\n",
       "      <td>Николай</td>\n",
       "      <td>Лебедев</td>\n",
       "      <td>2018-08-05</td>\n",
       "      <td>ultra</td>\n",
       "      <td>1000</td>\n",
       "      <td>30720</td>\n",
       "      <td>3000</td>\n",
       "      <td>1950</td>\n",
       "      <td>150</td>\n",
       "      <td>1</td>\n",
       "      <td>1</td>\n",
       "    </tr>\n",
       "    <tr>\n",
       "      <td>3208</td>\n",
       "      <td>1489</td>\n",
       "      <td>8</td>\n",
       "      <td>NaN</td>\n",
       "      <td>NaN</td>\n",
       "      <td>17.0</td>\n",
       "      <td>11050.56</td>\n",
       "      <td>35</td>\n",
       "      <td>NaT</td>\n",
       "      <td>Санкт-Петербург</td>\n",
       "      <td>Павел</td>\n",
       "      <td>Гончаров</td>\n",
       "      <td>2018-08-15</td>\n",
       "      <td>smart</td>\n",
       "      <td>50</td>\n",
       "      <td>15360</td>\n",
       "      <td>500</td>\n",
       "      <td>550</td>\n",
       "      <td>200</td>\n",
       "      <td>3</td>\n",
       "      <td>3</td>\n",
       "    </tr>\n",
       "    <tr>\n",
       "      <td>3209</td>\n",
       "      <td>1489</td>\n",
       "      <td>9</td>\n",
       "      <td>NaN</td>\n",
       "      <td>NaN</td>\n",
       "      <td>32.0</td>\n",
       "      <td>17206.30</td>\n",
       "      <td>35</td>\n",
       "      <td>NaT</td>\n",
       "      <td>Санкт-Петербург</td>\n",
       "      <td>Павел</td>\n",
       "      <td>Гончаров</td>\n",
       "      <td>2018-08-15</td>\n",
       "      <td>smart</td>\n",
       "      <td>50</td>\n",
       "      <td>15360</td>\n",
       "      <td>500</td>\n",
       "      <td>550</td>\n",
       "      <td>200</td>\n",
       "      <td>3</td>\n",
       "      <td>3</td>\n",
       "    </tr>\n",
       "    <tr>\n",
       "      <td>3210</td>\n",
       "      <td>1489</td>\n",
       "      <td>10</td>\n",
       "      <td>NaN</td>\n",
       "      <td>NaN</td>\n",
       "      <td>21.0</td>\n",
       "      <td>19559.44</td>\n",
       "      <td>35</td>\n",
       "      <td>NaT</td>\n",
       "      <td>Санкт-Петербург</td>\n",
       "      <td>Павел</td>\n",
       "      <td>Гончаров</td>\n",
       "      <td>2018-08-15</td>\n",
       "      <td>smart</td>\n",
       "      <td>50</td>\n",
       "      <td>15360</td>\n",
       "      <td>500</td>\n",
       "      <td>550</td>\n",
       "      <td>200</td>\n",
       "      <td>3</td>\n",
       "      <td>3</td>\n",
       "    </tr>\n",
       "    <tr>\n",
       "      <td>3211</td>\n",
       "      <td>1489</td>\n",
       "      <td>11</td>\n",
       "      <td>NaN</td>\n",
       "      <td>NaN</td>\n",
       "      <td>20.0</td>\n",
       "      <td>17491.56</td>\n",
       "      <td>35</td>\n",
       "      <td>NaT</td>\n",
       "      <td>Санкт-Петербург</td>\n",
       "      <td>Павел</td>\n",
       "      <td>Гончаров</td>\n",
       "      <td>2018-08-15</td>\n",
       "      <td>smart</td>\n",
       "      <td>50</td>\n",
       "      <td>15360</td>\n",
       "      <td>500</td>\n",
       "      <td>550</td>\n",
       "      <td>200</td>\n",
       "      <td>3</td>\n",
       "      <td>3</td>\n",
       "    </tr>\n",
       "    <tr>\n",
       "      <td>3212</td>\n",
       "      <td>1489</td>\n",
       "      <td>12</td>\n",
       "      <td>NaN</td>\n",
       "      <td>NaN</td>\n",
       "      <td>35.0</td>\n",
       "      <td>17322.51</td>\n",
       "      <td>35</td>\n",
       "      <td>NaT</td>\n",
       "      <td>Санкт-Петербург</td>\n",
       "      <td>Павел</td>\n",
       "      <td>Гончаров</td>\n",
       "      <td>2018-08-15</td>\n",
       "      <td>smart</td>\n",
       "      <td>50</td>\n",
       "      <td>15360</td>\n",
       "      <td>500</td>\n",
       "      <td>550</td>\n",
       "      <td>200</td>\n",
       "      <td>3</td>\n",
       "      <td>3</td>\n",
       "    </tr>\n",
       "    <tr>\n",
       "      <td>3213</td>\n",
       "      <td>1476</td>\n",
       "      <td>4</td>\n",
       "      <td>NaN</td>\n",
       "      <td>NaN</td>\n",
       "      <td>NaN</td>\n",
       "      <td>530.78</td>\n",
       "      <td>50</td>\n",
       "      <td>NaT</td>\n",
       "      <td>Москва</td>\n",
       "      <td>Валентина</td>\n",
       "      <td>Семенова</td>\n",
       "      <td>2018-04-30</td>\n",
       "      <td>ultra</td>\n",
       "      <td>1000</td>\n",
       "      <td>30720</td>\n",
       "      <td>3000</td>\n",
       "      <td>1950</td>\n",
       "      <td>150</td>\n",
       "      <td>1</td>\n",
       "      <td>1</td>\n",
       "    </tr>\n",
       "  </tbody>\n",
       "</table>\n",
       "</div>"
      ],
      "text/plain": [
       "      user_id  month  month_calls_duration  calls_total_in_month  \\\n",
       "3204     1473      9                   NaN                   NaN   \n",
       "3205     1473     10                   NaN                   NaN   \n",
       "3206     1473     11                   NaN                   NaN   \n",
       "3207     1473     12                   NaN                   NaN   \n",
       "3208     1489      8                   NaN                   NaN   \n",
       "3209     1489      9                   NaN                   NaN   \n",
       "3210     1489     10                   NaN                   NaN   \n",
       "3211     1489     11                   NaN                   NaN   \n",
       "3212     1489     12                   NaN                   NaN   \n",
       "3213     1476      4                   NaN                   NaN   \n",
       "\n",
       "      sms_total_in_month  mb_total_in_month  age churn_date             city  \\\n",
       "3204                19.0           17289.85   18        NaT       Красноярск   \n",
       "3205                20.0           13688.65   18        NaT       Красноярск   \n",
       "3206                14.0           21673.80   18        NaT       Красноярск   \n",
       "3207                20.0           18418.26   18        NaT       Красноярск   \n",
       "3208                17.0           11050.56   35        NaT  Санкт-Петербург   \n",
       "3209                32.0           17206.30   35        NaT  Санкт-Петербург   \n",
       "3210                21.0           19559.44   35        NaT  Санкт-Петербург   \n",
       "3211                20.0           17491.56   35        NaT  Санкт-Петербург   \n",
       "3212                35.0           17322.51   35        NaT  Санкт-Петербург   \n",
       "3213                 NaN             530.78   50        NaT           Москва   \n",
       "\n",
       "     first_name last_name   reg_date tariff  messages_included  \\\n",
       "3204    Николай   Лебедев 2018-08-05  ultra               1000   \n",
       "3205    Николай   Лебедев 2018-08-05  ultra               1000   \n",
       "3206    Николай   Лебедев 2018-08-05  ultra               1000   \n",
       "3207    Николай   Лебедев 2018-08-05  ultra               1000   \n",
       "3208      Павел  Гончаров 2018-08-15  smart                 50   \n",
       "3209      Павел  Гончаров 2018-08-15  smart                 50   \n",
       "3210      Павел  Гончаров 2018-08-15  smart                 50   \n",
       "3211      Павел  Гончаров 2018-08-15  smart                 50   \n",
       "3212      Павел  Гончаров 2018-08-15  smart                 50   \n",
       "3213  Валентина  Семенова 2018-04-30  ultra               1000   \n",
       "\n",
       "      mb_per_month_included  minutes_included  rub_monthly_fee  rub_per_gb  \\\n",
       "3204                  30720              3000             1950         150   \n",
       "3205                  30720              3000             1950         150   \n",
       "3206                  30720              3000             1950         150   \n",
       "3207                  30720              3000             1950         150   \n",
       "3208                  15360               500              550         200   \n",
       "3209                  15360               500              550         200   \n",
       "3210                  15360               500              550         200   \n",
       "3211                  15360               500              550         200   \n",
       "3212                  15360               500              550         200   \n",
       "3213                  30720              3000             1950         150   \n",
       "\n",
       "      rub_per_message  rub_per_minute  \n",
       "3204                1               1  \n",
       "3205                1               1  \n",
       "3206                1               1  \n",
       "3207                1               1  \n",
       "3208                3               3  \n",
       "3209                3               3  \n",
       "3210                3               3  \n",
       "3211                3               3  \n",
       "3212                3               3  \n",
       "3213                1               1  "
      ]
     },
     "execution_count": 42,
     "metadata": {},
     "output_type": "execute_result"
    }
   ],
   "source": [
    "#Добавим к получившейся таблице данные о тарифах (что входит в пакет) сцепив по 'tariff'\n",
    "df = df.merge(tariffs, on='tariff', how='left')\n",
    "df.tail(10)"
   ]
  },
  {
   "cell_type": "markdown",
   "metadata": {},
   "source": [
    "Исправим значения NaN на 0, это допустимо, так как пользователи с NaN по факту использовали в своём тарифе 0 минут, 0 смс, о Гб. Посмотрим, сколько у нас таких абонентов с 0 значениями."
   ]
  },
  {
   "cell_type": "code",
   "execution_count": 43,
   "metadata": {},
   "outputs": [
    {
     "data": {
      "text/plain": [
       "user_id                     0\n",
       "month                       0\n",
       "month_calls_duration       40\n",
       "calls_total_in_month       40\n",
       "sms_total_in_month        497\n",
       "mb_total_in_month          11\n",
       "age                         0\n",
       "churn_date               3027\n",
       "city                        0\n",
       "first_name                  0\n",
       "last_name                   0\n",
       "reg_date                    0\n",
       "tariff                      0\n",
       "messages_included           0\n",
       "mb_per_month_included       0\n",
       "minutes_included            0\n",
       "rub_monthly_fee             0\n",
       "rub_per_gb                  0\n",
       "rub_per_message             0\n",
       "rub_per_minute              0\n",
       "dtype: int64"
      ]
     },
     "execution_count": 43,
     "metadata": {},
     "output_type": "execute_result"
    }
   ],
   "source": [
    "df.isna().sum()"
   ]
  },
  {
   "cell_type": "code",
   "execution_count": 45,
   "metadata": {},
   "outputs": [],
   "source": [
    "df[['sms_total_in_month', 'mb_total_in_month', 'month_calls_duration', 'calls_total_in_month']] = df[['sms_total_in_month', 'mb_total_in_month', 'month_calls_duration', 'calls_total_in_month']].fillna(0)"
   ]
  },
  {
   "cell_type": "code",
   "execution_count": 46,
   "metadata": {},
   "outputs": [
    {
     "data": {
      "text/plain": [
       "user_id                     0\n",
       "month                       0\n",
       "month_calls_duration        0\n",
       "calls_total_in_month        0\n",
       "sms_total_in_month          0\n",
       "mb_total_in_month           0\n",
       "age                         0\n",
       "churn_date               3027\n",
       "city                        0\n",
       "first_name                  0\n",
       "last_name                   0\n",
       "reg_date                    0\n",
       "tariff                      0\n",
       "messages_included           0\n",
       "mb_per_month_included       0\n",
       "minutes_included            0\n",
       "rub_monthly_fee             0\n",
       "rub_per_gb                  0\n",
       "rub_per_message             0\n",
       "rub_per_minute              0\n",
       "dtype: int64"
      ]
     },
     "execution_count": 46,
     "metadata": {},
     "output_type": "execute_result"
    }
   ],
   "source": [
    "#Проверим NaN\n",
    "df.isna().sum()"
   ]
  },
  {
   "cell_type": "code",
   "execution_count": 47,
   "metadata": {},
   "outputs": [
    {
     "data": {
      "text/plain": [
       "0"
      ]
     },
     "execution_count": 47,
     "metadata": {},
     "output_type": "execute_result"
    }
   ],
   "source": [
    "#Проверим еще раз дибликаты, не появились ли они после объединения данных в общую таблицу\n",
    "df.duplicated().sum()"
   ]
  },
  {
   "cell_type": "code",
   "execution_count": 48,
   "metadata": {
    "scrolled": true
   },
   "outputs": [
    {
     "name": "stdout",
     "output_type": "stream",
     "text": [
      "<class 'pandas.core.frame.DataFrame'>\n",
      "Int64Index: 3214 entries, 0 to 3213\n",
      "Data columns (total 20 columns):\n",
      "user_id                  3214 non-null int64\n",
      "month                    3214 non-null int64\n",
      "month_calls_duration     3214 non-null Int64\n",
      "calls_total_in_month     3214 non-null float64\n",
      "sms_total_in_month       3214 non-null float64\n",
      "mb_total_in_month        3214 non-null float64\n",
      "age                      3214 non-null int64\n",
      "churn_date               187 non-null datetime64[ns]\n",
      "city                     3214 non-null object\n",
      "first_name               3214 non-null object\n",
      "last_name                3214 non-null object\n",
      "reg_date                 3214 non-null datetime64[ns]\n",
      "tariff                   3214 non-null object\n",
      "messages_included        3214 non-null int64\n",
      "mb_per_month_included    3214 non-null int64\n",
      "minutes_included         3214 non-null int64\n",
      "rub_monthly_fee          3214 non-null int64\n",
      "rub_per_gb               3214 non-null int64\n",
      "rub_per_message          3214 non-null int64\n",
      "rub_per_minute           3214 non-null int64\n",
      "dtypes: Int64(1), datetime64[ns](2), float64(3), int64(10), object(4)\n",
      "memory usage: 530.4+ KB\n"
     ]
    }
   ],
   "source": [
    "df.info()"
   ]
  },
  {
   "cell_type": "markdown",
   "metadata": {},
   "source": [
    "Так как перерасход начисляется за гигабайты, логичнее весь Интернет трафик перевести в ГБ и переименовать столбцы"
   ]
  },
  {
   "cell_type": "code",
   "execution_count": 49,
   "metadata": {},
   "outputs": [],
   "source": [
    "df['mb_total_in_month'] = np.ceil(df['mb_total_in_month'] / 1024).astype(int)\n",
    "df['mb_per_month_included'] = np.ceil(df['mb_per_month_included'] / 1024).astype(int)\n",
    "\n",
    "df = df.rename(columns={'mb_total_in_month': 'gb_total_in_month'})\n",
    "df = df.rename(columns={'mb_per_month_included': 'gb_per_month_included'})\n"
   ]
  },
  {
   "cell_type": "code",
   "execution_count": 50,
   "metadata": {},
   "outputs": [
    {
     "data": {
      "text/html": [
       "<div>\n",
       "<style scoped>\n",
       "    .dataframe tbody tr th:only-of-type {\n",
       "        vertical-align: middle;\n",
       "    }\n",
       "\n",
       "    .dataframe tbody tr th {\n",
       "        vertical-align: top;\n",
       "    }\n",
       "\n",
       "    .dataframe thead th {\n",
       "        text-align: right;\n",
       "    }\n",
       "</style>\n",
       "<table border=\"1\" class=\"dataframe\">\n",
       "  <thead>\n",
       "    <tr style=\"text-align: right;\">\n",
       "      <th></th>\n",
       "      <th>user_id</th>\n",
       "      <th>month</th>\n",
       "      <th>month_calls_duration</th>\n",
       "      <th>calls_total_in_month</th>\n",
       "      <th>sms_total_in_month</th>\n",
       "      <th>gb_total_in_month</th>\n",
       "      <th>age</th>\n",
       "      <th>churn_date</th>\n",
       "      <th>city</th>\n",
       "      <th>first_name</th>\n",
       "      <th>last_name</th>\n",
       "      <th>reg_date</th>\n",
       "      <th>tariff</th>\n",
       "      <th>messages_included</th>\n",
       "      <th>gb_per_month_included</th>\n",
       "      <th>minutes_included</th>\n",
       "      <th>rub_monthly_fee</th>\n",
       "      <th>rub_per_gb</th>\n",
       "      <th>rub_per_message</th>\n",
       "      <th>rub_per_minute</th>\n",
       "    </tr>\n",
       "  </thead>\n",
       "  <tbody>\n",
       "    <tr>\n",
       "      <td>0</td>\n",
       "      <td>1000</td>\n",
       "      <td>5</td>\n",
       "      <td>159</td>\n",
       "      <td>22.0</td>\n",
       "      <td>22.0</td>\n",
       "      <td>3</td>\n",
       "      <td>52</td>\n",
       "      <td>NaT</td>\n",
       "      <td>Краснодар</td>\n",
       "      <td>Рафаил</td>\n",
       "      <td>Верещагин</td>\n",
       "      <td>2018-05-25</td>\n",
       "      <td>ultra</td>\n",
       "      <td>1000</td>\n",
       "      <td>30</td>\n",
       "      <td>3000</td>\n",
       "      <td>1950</td>\n",
       "      <td>150</td>\n",
       "      <td>1</td>\n",
       "      <td>1</td>\n",
       "    </tr>\n",
       "    <tr>\n",
       "      <td>1</td>\n",
       "      <td>1000</td>\n",
       "      <td>6</td>\n",
       "      <td>172</td>\n",
       "      <td>43.0</td>\n",
       "      <td>60.0</td>\n",
       "      <td>23</td>\n",
       "      <td>52</td>\n",
       "      <td>NaT</td>\n",
       "      <td>Краснодар</td>\n",
       "      <td>Рафаил</td>\n",
       "      <td>Верещагин</td>\n",
       "      <td>2018-05-25</td>\n",
       "      <td>ultra</td>\n",
       "      <td>1000</td>\n",
       "      <td>30</td>\n",
       "      <td>3000</td>\n",
       "      <td>1950</td>\n",
       "      <td>150</td>\n",
       "      <td>1</td>\n",
       "      <td>1</td>\n",
       "    </tr>\n",
       "    <tr>\n",
       "      <td>2</td>\n",
       "      <td>1000</td>\n",
       "      <td>7</td>\n",
       "      <td>340</td>\n",
       "      <td>47.0</td>\n",
       "      <td>75.0</td>\n",
       "      <td>14</td>\n",
       "      <td>52</td>\n",
       "      <td>NaT</td>\n",
       "      <td>Краснодар</td>\n",
       "      <td>Рафаил</td>\n",
       "      <td>Верещагин</td>\n",
       "      <td>2018-05-25</td>\n",
       "      <td>ultra</td>\n",
       "      <td>1000</td>\n",
       "      <td>30</td>\n",
       "      <td>3000</td>\n",
       "      <td>1950</td>\n",
       "      <td>150</td>\n",
       "      <td>1</td>\n",
       "      <td>1</td>\n",
       "    </tr>\n",
       "    <tr>\n",
       "      <td>3</td>\n",
       "      <td>1000</td>\n",
       "      <td>8</td>\n",
       "      <td>408</td>\n",
       "      <td>52.0</td>\n",
       "      <td>81.0</td>\n",
       "      <td>14</td>\n",
       "      <td>52</td>\n",
       "      <td>NaT</td>\n",
       "      <td>Краснодар</td>\n",
       "      <td>Рафаил</td>\n",
       "      <td>Верещагин</td>\n",
       "      <td>2018-05-25</td>\n",
       "      <td>ultra</td>\n",
       "      <td>1000</td>\n",
       "      <td>30</td>\n",
       "      <td>3000</td>\n",
       "      <td>1950</td>\n",
       "      <td>150</td>\n",
       "      <td>1</td>\n",
       "      <td>1</td>\n",
       "    </tr>\n",
       "    <tr>\n",
       "      <td>4</td>\n",
       "      <td>1000</td>\n",
       "      <td>9</td>\n",
       "      <td>466</td>\n",
       "      <td>58.0</td>\n",
       "      <td>57.0</td>\n",
       "      <td>15</td>\n",
       "      <td>52</td>\n",
       "      <td>NaT</td>\n",
       "      <td>Краснодар</td>\n",
       "      <td>Рафаил</td>\n",
       "      <td>Верещагин</td>\n",
       "      <td>2018-05-25</td>\n",
       "      <td>ultra</td>\n",
       "      <td>1000</td>\n",
       "      <td>30</td>\n",
       "      <td>3000</td>\n",
       "      <td>1950</td>\n",
       "      <td>150</td>\n",
       "      <td>1</td>\n",
       "      <td>1</td>\n",
       "    </tr>\n",
       "  </tbody>\n",
       "</table>\n",
       "</div>"
      ],
      "text/plain": [
       "   user_id  month  month_calls_duration  calls_total_in_month  \\\n",
       "0     1000      5                   159                  22.0   \n",
       "1     1000      6                   172                  43.0   \n",
       "2     1000      7                   340                  47.0   \n",
       "3     1000      8                   408                  52.0   \n",
       "4     1000      9                   466                  58.0   \n",
       "\n",
       "   sms_total_in_month  gb_total_in_month  age churn_date       city  \\\n",
       "0                22.0                  3   52        NaT  Краснодар   \n",
       "1                60.0                 23   52        NaT  Краснодар   \n",
       "2                75.0                 14   52        NaT  Краснодар   \n",
       "3                81.0                 14   52        NaT  Краснодар   \n",
       "4                57.0                 15   52        NaT  Краснодар   \n",
       "\n",
       "  first_name  last_name   reg_date tariff  messages_included  \\\n",
       "0     Рафаил  Верещагин 2018-05-25  ultra               1000   \n",
       "1     Рафаил  Верещагин 2018-05-25  ultra               1000   \n",
       "2     Рафаил  Верещагин 2018-05-25  ultra               1000   \n",
       "3     Рафаил  Верещагин 2018-05-25  ultra               1000   \n",
       "4     Рафаил  Верещагин 2018-05-25  ultra               1000   \n",
       "\n",
       "   gb_per_month_included  minutes_included  rub_monthly_fee  rub_per_gb  \\\n",
       "0                     30              3000             1950         150   \n",
       "1                     30              3000             1950         150   \n",
       "2                     30              3000             1950         150   \n",
       "3                     30              3000             1950         150   \n",
       "4                     30              3000             1950         150   \n",
       "\n",
       "   rub_per_message  rub_per_minute  \n",
       "0                1               1  \n",
       "1                1               1  \n",
       "2                1               1  \n",
       "3                1               1  \n",
       "4                1               1  "
      ]
     },
     "execution_count": 50,
     "metadata": {},
     "output_type": "execute_result"
    }
   ],
   "source": [
    "df.head()"
   ]
  },
  {
   "cell_type": "code",
   "execution_count": 51,
   "metadata": {},
   "outputs": [],
   "source": [
    "#Часть столбцов скрывается. Настроим принудительное отображение\n",
    "pd.set_option('display.max_columns', None)"
   ]
  },
  {
   "cell_type": "code",
   "execution_count": 53,
   "metadata": {},
   "outputs": [],
   "source": [
    "df['minutes_overrun']  = [max(x -y, 0) for x, y in zip(df['month_calls_duration'], df['minutes_included'])]\n",
    "df['messages_overrun']  = [max(x -y, 0) for x, y in zip(df['sms_total_in_month'], df['messages_included'])]\n",
    "df['gb_overrun']  = [max(x -y, 0) for x, y in zip(df['gb_total_in_month'], df['gb_per_month_included'])]"
   ]
  },
  {
   "cell_type": "code",
   "execution_count": 54,
   "metadata": {},
   "outputs": [
    {
     "data": {
      "text/html": [
       "<div>\n",
       "<style scoped>\n",
       "    .dataframe tbody tr th:only-of-type {\n",
       "        vertical-align: middle;\n",
       "    }\n",
       "\n",
       "    .dataframe tbody tr th {\n",
       "        vertical-align: top;\n",
       "    }\n",
       "\n",
       "    .dataframe thead th {\n",
       "        text-align: right;\n",
       "    }\n",
       "</style>\n",
       "<table border=\"1\" class=\"dataframe\">\n",
       "  <thead>\n",
       "    <tr style=\"text-align: right;\">\n",
       "      <th></th>\n",
       "      <th>user_id</th>\n",
       "      <th>month</th>\n",
       "      <th>month_calls_duration</th>\n",
       "      <th>calls_total_in_month</th>\n",
       "      <th>sms_total_in_month</th>\n",
       "      <th>gb_total_in_month</th>\n",
       "      <th>age</th>\n",
       "      <th>churn_date</th>\n",
       "      <th>city</th>\n",
       "      <th>first_name</th>\n",
       "      <th>last_name</th>\n",
       "      <th>reg_date</th>\n",
       "      <th>tariff</th>\n",
       "      <th>messages_included</th>\n",
       "      <th>gb_per_month_included</th>\n",
       "      <th>minutes_included</th>\n",
       "      <th>rub_monthly_fee</th>\n",
       "      <th>rub_per_gb</th>\n",
       "      <th>rub_per_message</th>\n",
       "      <th>rub_per_minute</th>\n",
       "      <th>minutes_overrun</th>\n",
       "      <th>messages_overrun</th>\n",
       "      <th>gb_overrun</th>\n",
       "    </tr>\n",
       "  </thead>\n",
       "  <tbody>\n",
       "    <tr>\n",
       "      <td>32</td>\n",
       "      <td>1005</td>\n",
       "      <td>3</td>\n",
       "      <td>606</td>\n",
       "      <td>77.0</td>\n",
       "      <td>56.0</td>\n",
       "      <td>11</td>\n",
       "      <td>67</td>\n",
       "      <td>NaT</td>\n",
       "      <td>Набережные Челны</td>\n",
       "      <td>Афанасий</td>\n",
       "      <td>Горлов</td>\n",
       "      <td>2018-01-25</td>\n",
       "      <td>smart</td>\n",
       "      <td>50</td>\n",
       "      <td>15</td>\n",
       "      <td>500</td>\n",
       "      <td>550</td>\n",
       "      <td>200</td>\n",
       "      <td>3</td>\n",
       "      <td>3</td>\n",
       "      <td>106</td>\n",
       "      <td>6.0</td>\n",
       "      <td>0</td>\n",
       "    </tr>\n",
       "    <tr>\n",
       "      <td>33</td>\n",
       "      <td>1005</td>\n",
       "      <td>4</td>\n",
       "      <td>712</td>\n",
       "      <td>101.0</td>\n",
       "      <td>41.0</td>\n",
       "      <td>10</td>\n",
       "      <td>67</td>\n",
       "      <td>NaT</td>\n",
       "      <td>Набережные Челны</td>\n",
       "      <td>Афанасий</td>\n",
       "      <td>Горлов</td>\n",
       "      <td>2018-01-25</td>\n",
       "      <td>smart</td>\n",
       "      <td>50</td>\n",
       "      <td>15</td>\n",
       "      <td>500</td>\n",
       "      <td>550</td>\n",
       "      <td>200</td>\n",
       "      <td>3</td>\n",
       "      <td>3</td>\n",
       "      <td>212</td>\n",
       "      <td>0.0</td>\n",
       "      <td>0</td>\n",
       "    </tr>\n",
       "    <tr>\n",
       "      <td>34</td>\n",
       "      <td>1005</td>\n",
       "      <td>5</td>\n",
       "      <td>595</td>\n",
       "      <td>73.0</td>\n",
       "      <td>42.0</td>\n",
       "      <td>8</td>\n",
       "      <td>67</td>\n",
       "      <td>NaT</td>\n",
       "      <td>Набережные Челны</td>\n",
       "      <td>Афанасий</td>\n",
       "      <td>Горлов</td>\n",
       "      <td>2018-01-25</td>\n",
       "      <td>smart</td>\n",
       "      <td>50</td>\n",
       "      <td>15</td>\n",
       "      <td>500</td>\n",
       "      <td>550</td>\n",
       "      <td>200</td>\n",
       "      <td>3</td>\n",
       "      <td>3</td>\n",
       "      <td>95</td>\n",
       "      <td>0.0</td>\n",
       "      <td>0</td>\n",
       "    </tr>\n",
       "    <tr>\n",
       "      <td>35</td>\n",
       "      <td>1005</td>\n",
       "      <td>6</td>\n",
       "      <td>612</td>\n",
       "      <td>80.0</td>\n",
       "      <td>47.0</td>\n",
       "      <td>10</td>\n",
       "      <td>67</td>\n",
       "      <td>NaT</td>\n",
       "      <td>Набережные Челны</td>\n",
       "      <td>Афанасий</td>\n",
       "      <td>Горлов</td>\n",
       "      <td>2018-01-25</td>\n",
       "      <td>smart</td>\n",
       "      <td>50</td>\n",
       "      <td>15</td>\n",
       "      <td>500</td>\n",
       "      <td>550</td>\n",
       "      <td>200</td>\n",
       "      <td>3</td>\n",
       "      <td>3</td>\n",
       "      <td>112</td>\n",
       "      <td>0.0</td>\n",
       "      <td>0</td>\n",
       "    </tr>\n",
       "    <tr>\n",
       "      <td>36</td>\n",
       "      <td>1005</td>\n",
       "      <td>7</td>\n",
       "      <td>569</td>\n",
       "      <td>77.0</td>\n",
       "      <td>56.0</td>\n",
       "      <td>8</td>\n",
       "      <td>67</td>\n",
       "      <td>NaT</td>\n",
       "      <td>Набережные Челны</td>\n",
       "      <td>Афанасий</td>\n",
       "      <td>Горлов</td>\n",
       "      <td>2018-01-25</td>\n",
       "      <td>smart</td>\n",
       "      <td>50</td>\n",
       "      <td>15</td>\n",
       "      <td>500</td>\n",
       "      <td>550</td>\n",
       "      <td>200</td>\n",
       "      <td>3</td>\n",
       "      <td>3</td>\n",
       "      <td>69</td>\n",
       "      <td>6.0</td>\n",
       "      <td>0</td>\n",
       "    </tr>\n",
       "    <tr>\n",
       "      <td>37</td>\n",
       "      <td>1005</td>\n",
       "      <td>8</td>\n",
       "      <td>619</td>\n",
       "      <td>71.0</td>\n",
       "      <td>64.0</td>\n",
       "      <td>8</td>\n",
       "      <td>67</td>\n",
       "      <td>NaT</td>\n",
       "      <td>Набережные Челны</td>\n",
       "      <td>Афанасий</td>\n",
       "      <td>Горлов</td>\n",
       "      <td>2018-01-25</td>\n",
       "      <td>smart</td>\n",
       "      <td>50</td>\n",
       "      <td>15</td>\n",
       "      <td>500</td>\n",
       "      <td>550</td>\n",
       "      <td>200</td>\n",
       "      <td>3</td>\n",
       "      <td>3</td>\n",
       "      <td>119</td>\n",
       "      <td>14.0</td>\n",
       "      <td>0</td>\n",
       "    </tr>\n",
       "    <tr>\n",
       "      <td>39</td>\n",
       "      <td>1005</td>\n",
       "      <td>10</td>\n",
       "      <td>723</td>\n",
       "      <td>100.0</td>\n",
       "      <td>44.0</td>\n",
       "      <td>8</td>\n",
       "      <td>67</td>\n",
       "      <td>NaT</td>\n",
       "      <td>Набережные Челны</td>\n",
       "      <td>Афанасий</td>\n",
       "      <td>Горлов</td>\n",
       "      <td>2018-01-25</td>\n",
       "      <td>smart</td>\n",
       "      <td>50</td>\n",
       "      <td>15</td>\n",
       "      <td>500</td>\n",
       "      <td>550</td>\n",
       "      <td>200</td>\n",
       "      <td>3</td>\n",
       "      <td>3</td>\n",
       "      <td>223</td>\n",
       "      <td>0.0</td>\n",
       "      <td>0</td>\n",
       "    </tr>\n",
       "    <tr>\n",
       "      <td>40</td>\n",
       "      <td>1005</td>\n",
       "      <td>11</td>\n",
       "      <td>547</td>\n",
       "      <td>75.0</td>\n",
       "      <td>51.0</td>\n",
       "      <td>13</td>\n",
       "      <td>67</td>\n",
       "      <td>NaT</td>\n",
       "      <td>Набережные Челны</td>\n",
       "      <td>Афанасий</td>\n",
       "      <td>Горлов</td>\n",
       "      <td>2018-01-25</td>\n",
       "      <td>smart</td>\n",
       "      <td>50</td>\n",
       "      <td>15</td>\n",
       "      <td>500</td>\n",
       "      <td>550</td>\n",
       "      <td>200</td>\n",
       "      <td>3</td>\n",
       "      <td>3</td>\n",
       "      <td>47</td>\n",
       "      <td>1.0</td>\n",
       "      <td>0</td>\n",
       "    </tr>\n",
       "    <tr>\n",
       "      <td>41</td>\n",
       "      <td>1005</td>\n",
       "      <td>12</td>\n",
       "      <td>592</td>\n",
       "      <td>84.0</td>\n",
       "      <td>54.0</td>\n",
       "      <td>9</td>\n",
       "      <td>67</td>\n",
       "      <td>NaT</td>\n",
       "      <td>Набережные Челны</td>\n",
       "      <td>Афанасий</td>\n",
       "      <td>Горлов</td>\n",
       "      <td>2018-01-25</td>\n",
       "      <td>smart</td>\n",
       "      <td>50</td>\n",
       "      <td>15</td>\n",
       "      <td>500</td>\n",
       "      <td>550</td>\n",
       "      <td>200</td>\n",
       "      <td>3</td>\n",
       "      <td>3</td>\n",
       "      <td>92</td>\n",
       "      <td>4.0</td>\n",
       "      <td>0</td>\n",
       "    </tr>\n",
       "    <tr>\n",
       "      <td>55</td>\n",
       "      <td>1007</td>\n",
       "      <td>6</td>\n",
       "      <td>545</td>\n",
       "      <td>68.0</td>\n",
       "      <td>26.0</td>\n",
       "      <td>14</td>\n",
       "      <td>65</td>\n",
       "      <td>NaT</td>\n",
       "      <td>Москва</td>\n",
       "      <td>Юна</td>\n",
       "      <td>Березина</td>\n",
       "      <td>2018-04-19</td>\n",
       "      <td>smart</td>\n",
       "      <td>50</td>\n",
       "      <td>15</td>\n",
       "      <td>500</td>\n",
       "      <td>550</td>\n",
       "      <td>200</td>\n",
       "      <td>3</td>\n",
       "      <td>3</td>\n",
       "      <td>45</td>\n",
       "      <td>0.0</td>\n",
       "      <td>0</td>\n",
       "    </tr>\n",
       "  </tbody>\n",
       "</table>\n",
       "</div>"
      ],
      "text/plain": [
       "    user_id  month  month_calls_duration  calls_total_in_month  \\\n",
       "32     1005      3                   606                  77.0   \n",
       "33     1005      4                   712                 101.0   \n",
       "34     1005      5                   595                  73.0   \n",
       "35     1005      6                   612                  80.0   \n",
       "36     1005      7                   569                  77.0   \n",
       "37     1005      8                   619                  71.0   \n",
       "39     1005     10                   723                 100.0   \n",
       "40     1005     11                   547                  75.0   \n",
       "41     1005     12                   592                  84.0   \n",
       "55     1007      6                   545                  68.0   \n",
       "\n",
       "    sms_total_in_month  gb_total_in_month  age churn_date              city  \\\n",
       "32                56.0                 11   67        NaT  Набережные Челны   \n",
       "33                41.0                 10   67        NaT  Набережные Челны   \n",
       "34                42.0                  8   67        NaT  Набережные Челны   \n",
       "35                47.0                 10   67        NaT  Набережные Челны   \n",
       "36                56.0                  8   67        NaT  Набережные Челны   \n",
       "37                64.0                  8   67        NaT  Набережные Челны   \n",
       "39                44.0                  8   67        NaT  Набережные Челны   \n",
       "40                51.0                 13   67        NaT  Набережные Челны   \n",
       "41                54.0                  9   67        NaT  Набережные Челны   \n",
       "55                26.0                 14   65        NaT            Москва   \n",
       "\n",
       "   first_name last_name   reg_date tariff  messages_included  \\\n",
       "32   Афанасий    Горлов 2018-01-25  smart                 50   \n",
       "33   Афанасий    Горлов 2018-01-25  smart                 50   \n",
       "34   Афанасий    Горлов 2018-01-25  smart                 50   \n",
       "35   Афанасий    Горлов 2018-01-25  smart                 50   \n",
       "36   Афанасий    Горлов 2018-01-25  smart                 50   \n",
       "37   Афанасий    Горлов 2018-01-25  smart                 50   \n",
       "39   Афанасий    Горлов 2018-01-25  smart                 50   \n",
       "40   Афанасий    Горлов 2018-01-25  smart                 50   \n",
       "41   Афанасий    Горлов 2018-01-25  smart                 50   \n",
       "55        Юна  Березина 2018-04-19  smart                 50   \n",
       "\n",
       "    gb_per_month_included  minutes_included  rub_monthly_fee  rub_per_gb  \\\n",
       "32                     15               500              550         200   \n",
       "33                     15               500              550         200   \n",
       "34                     15               500              550         200   \n",
       "35                     15               500              550         200   \n",
       "36                     15               500              550         200   \n",
       "37                     15               500              550         200   \n",
       "39                     15               500              550         200   \n",
       "40                     15               500              550         200   \n",
       "41                     15               500              550         200   \n",
       "55                     15               500              550         200   \n",
       "\n",
       "    rub_per_message  rub_per_minute  minutes_overrun  messages_overrun  \\\n",
       "32                3               3              106               6.0   \n",
       "33                3               3              212               0.0   \n",
       "34                3               3               95               0.0   \n",
       "35                3               3              112               0.0   \n",
       "36                3               3               69               6.0   \n",
       "37                3               3              119              14.0   \n",
       "39                3               3              223               0.0   \n",
       "40                3               3               47               1.0   \n",
       "41                3               3               92               4.0   \n",
       "55                3               3               45               0.0   \n",
       "\n",
       "    gb_overrun  \n",
       "32           0  \n",
       "33           0  \n",
       "34           0  \n",
       "35           0  \n",
       "36           0  \n",
       "37           0  \n",
       "39           0  \n",
       "40           0  \n",
       "41           0  \n",
       "55           0  "
      ]
     },
     "execution_count": 54,
     "metadata": {},
     "output_type": "execute_result"
    }
   ],
   "source": [
    "df.query('minutes_overrun != 0').head(10)"
   ]
  },
  {
   "cell_type": "markdown",
   "metadata": {},
   "source": [
    "Напишем функцию, которая считет выручку исходя из тарифа и потребляемых услуг"
   ]
  },
  {
   "cell_type": "code",
   "execution_count": 55,
   "metadata": {},
   "outputs": [],
   "source": [
    "def get_revenue(row):\n",
    "    revenue_by_min = 0\n",
    "    revenue_by_messages = 0\n",
    "    revenue_gb = 0\n",
    "\n",
    "    if row['minutes_overrun'] > 0:\n",
    "        revenue_by_min = row['minutes_overrun'] * row['rub_per_minute'] #стоимость минут потраченных сверх тарифа\n",
    "\n",
    "    if row['messages_overrun'] > 0:\n",
    "        revenue_by_messages = row['messages_overrun'] * row['rub_per_message'] #стоимость сообщений потраченных сверх тарифа\n",
    "        \n",
    "    if row['gb_overrun'] > 0:\n",
    "        revenue_gb = row['gb_overrun'] * row['rub_per_gb'] #стоимость гб потраченных сверх тарифа       \n",
    "\n",
    "    return revenue_by_min + revenue_by_messages + revenue_gb"
   ]
  },
  {
   "cell_type": "code",
   "execution_count": 56,
   "metadata": {},
   "outputs": [],
   "source": [
    "df['revenue'] = df.apply(get_revenue, axis=1)"
   ]
  },
  {
   "cell_type": "code",
   "execution_count": 57,
   "metadata": {},
   "outputs": [
    {
     "data": {
      "text/html": [
       "<div>\n",
       "<style scoped>\n",
       "    .dataframe tbody tr th:only-of-type {\n",
       "        vertical-align: middle;\n",
       "    }\n",
       "\n",
       "    .dataframe tbody tr th {\n",
       "        vertical-align: top;\n",
       "    }\n",
       "\n",
       "    .dataframe thead th {\n",
       "        text-align: right;\n",
       "    }\n",
       "</style>\n",
       "<table border=\"1\" class=\"dataframe\">\n",
       "  <thead>\n",
       "    <tr style=\"text-align: right;\">\n",
       "      <th></th>\n",
       "      <th>user_id</th>\n",
       "      <th>month</th>\n",
       "      <th>month_calls_duration</th>\n",
       "      <th>calls_total_in_month</th>\n",
       "      <th>sms_total_in_month</th>\n",
       "      <th>gb_total_in_month</th>\n",
       "      <th>age</th>\n",
       "      <th>churn_date</th>\n",
       "      <th>city</th>\n",
       "      <th>first_name</th>\n",
       "      <th>last_name</th>\n",
       "      <th>reg_date</th>\n",
       "      <th>tariff</th>\n",
       "      <th>messages_included</th>\n",
       "      <th>gb_per_month_included</th>\n",
       "      <th>minutes_included</th>\n",
       "      <th>rub_monthly_fee</th>\n",
       "      <th>rub_per_gb</th>\n",
       "      <th>rub_per_message</th>\n",
       "      <th>rub_per_minute</th>\n",
       "      <th>minutes_overrun</th>\n",
       "      <th>messages_overrun</th>\n",
       "      <th>gb_overrun</th>\n",
       "      <th>revenue</th>\n",
       "    </tr>\n",
       "  </thead>\n",
       "  <tbody>\n",
       "    <tr>\n",
       "      <td>1884</td>\n",
       "      <td>1300</td>\n",
       "      <td>11</td>\n",
       "      <td>658</td>\n",
       "      <td>88.0</td>\n",
       "      <td>170.0</td>\n",
       "      <td>44</td>\n",
       "      <td>40</td>\n",
       "      <td>NaT</td>\n",
       "      <td>Москва</td>\n",
       "      <td>Тихон</td>\n",
       "      <td>Азерников</td>\n",
       "      <td>2018-07-26</td>\n",
       "      <td>ultra</td>\n",
       "      <td>1000</td>\n",
       "      <td>30</td>\n",
       "      <td>3000</td>\n",
       "      <td>1950</td>\n",
       "      <td>150</td>\n",
       "      <td>1</td>\n",
       "      <td>1</td>\n",
       "      <td>0</td>\n",
       "      <td>0.0</td>\n",
       "      <td>14</td>\n",
       "      <td>2100.0</td>\n",
       "    </tr>\n",
       "    <tr>\n",
       "      <td>3147</td>\n",
       "      <td>1495</td>\n",
       "      <td>9</td>\n",
       "      <td>813</td>\n",
       "      <td>112.0</td>\n",
       "      <td>82.0</td>\n",
       "      <td>33</td>\n",
       "      <td>65</td>\n",
       "      <td>NaT</td>\n",
       "      <td>Иркутск</td>\n",
       "      <td>Авксентий</td>\n",
       "      <td>Фокин</td>\n",
       "      <td>2018-08-28</td>\n",
       "      <td>ultra</td>\n",
       "      <td>1000</td>\n",
       "      <td>30</td>\n",
       "      <td>3000</td>\n",
       "      <td>1950</td>\n",
       "      <td>150</td>\n",
       "      <td>1</td>\n",
       "      <td>1</td>\n",
       "      <td>0</td>\n",
       "      <td>0.0</td>\n",
       "      <td>3</td>\n",
       "      <td>450.0</td>\n",
       "    </tr>\n",
       "    <tr>\n",
       "      <td>3031</td>\n",
       "      <td>1476</td>\n",
       "      <td>6</td>\n",
       "      <td>491</td>\n",
       "      <td>62.0</td>\n",
       "      <td>4.0</td>\n",
       "      <td>15</td>\n",
       "      <td>50</td>\n",
       "      <td>NaT</td>\n",
       "      <td>Москва</td>\n",
       "      <td>Валентина</td>\n",
       "      <td>Семенова</td>\n",
       "      <td>2018-04-30</td>\n",
       "      <td>ultra</td>\n",
       "      <td>1000</td>\n",
       "      <td>30</td>\n",
       "      <td>3000</td>\n",
       "      <td>1950</td>\n",
       "      <td>150</td>\n",
       "      <td>1</td>\n",
       "      <td>1</td>\n",
       "      <td>0</td>\n",
       "      <td>0.0</td>\n",
       "      <td>0</td>\n",
       "      <td>0.0</td>\n",
       "    </tr>\n",
       "    <tr>\n",
       "      <td>588</td>\n",
       "      <td>1094</td>\n",
       "      <td>9</td>\n",
       "      <td>717</td>\n",
       "      <td>105.0</td>\n",
       "      <td>18.0</td>\n",
       "      <td>22</td>\n",
       "      <td>37</td>\n",
       "      <td>NaT</td>\n",
       "      <td>Новосибирск</td>\n",
       "      <td>Даниэла</td>\n",
       "      <td>Пугачева</td>\n",
       "      <td>2018-05-28</td>\n",
       "      <td>ultra</td>\n",
       "      <td>1000</td>\n",
       "      <td>30</td>\n",
       "      <td>3000</td>\n",
       "      <td>1950</td>\n",
       "      <td>150</td>\n",
       "      <td>1</td>\n",
       "      <td>1</td>\n",
       "      <td>0</td>\n",
       "      <td>0.0</td>\n",
       "      <td>0</td>\n",
       "      <td>0.0</td>\n",
       "    </tr>\n",
       "    <tr>\n",
       "      <td>2207</td>\n",
       "      <td>1354</td>\n",
       "      <td>11</td>\n",
       "      <td>300</td>\n",
       "      <td>41.0</td>\n",
       "      <td>90.0</td>\n",
       "      <td>27</td>\n",
       "      <td>56</td>\n",
       "      <td>NaT</td>\n",
       "      <td>Сочи</td>\n",
       "      <td>Лола</td>\n",
       "      <td>Кулагина</td>\n",
       "      <td>2018-08-19</td>\n",
       "      <td>smart</td>\n",
       "      <td>50</td>\n",
       "      <td>15</td>\n",
       "      <td>500</td>\n",
       "      <td>550</td>\n",
       "      <td>200</td>\n",
       "      <td>3</td>\n",
       "      <td>3</td>\n",
       "      <td>0</td>\n",
       "      <td>40.0</td>\n",
       "      <td>12</td>\n",
       "      <td>2520.0</td>\n",
       "    </tr>\n",
       "    <tr>\n",
       "      <td>1499</td>\n",
       "      <td>1240</td>\n",
       "      <td>8</td>\n",
       "      <td>457</td>\n",
       "      <td>54.0</td>\n",
       "      <td>0.0</td>\n",
       "      <td>48</td>\n",
       "      <td>30</td>\n",
       "      <td>NaT</td>\n",
       "      <td>Воронеж</td>\n",
       "      <td>Зинаида</td>\n",
       "      <td>Шарова</td>\n",
       "      <td>2018-02-27</td>\n",
       "      <td>ultra</td>\n",
       "      <td>1000</td>\n",
       "      <td>30</td>\n",
       "      <td>3000</td>\n",
       "      <td>1950</td>\n",
       "      <td>150</td>\n",
       "      <td>1</td>\n",
       "      <td>1</td>\n",
       "      <td>0</td>\n",
       "      <td>0.0</td>\n",
       "      <td>18</td>\n",
       "      <td>2700.0</td>\n",
       "    </tr>\n",
       "    <tr>\n",
       "      <td>2248</td>\n",
       "      <td>1360</td>\n",
       "      <td>7</td>\n",
       "      <td>833</td>\n",
       "      <td>118.0</td>\n",
       "      <td>0.0</td>\n",
       "      <td>13</td>\n",
       "      <td>46</td>\n",
       "      <td>NaT</td>\n",
       "      <td>Санкт-Петербург</td>\n",
       "      <td>Лаура</td>\n",
       "      <td>Макарова</td>\n",
       "      <td>2018-03-18</td>\n",
       "      <td>ultra</td>\n",
       "      <td>1000</td>\n",
       "      <td>30</td>\n",
       "      <td>3000</td>\n",
       "      <td>1950</td>\n",
       "      <td>150</td>\n",
       "      <td>1</td>\n",
       "      <td>1</td>\n",
       "      <td>0</td>\n",
       "      <td>0.0</td>\n",
       "      <td>0</td>\n",
       "      <td>0.0</td>\n",
       "    </tr>\n",
       "    <tr>\n",
       "      <td>515</td>\n",
       "      <td>1081</td>\n",
       "      <td>11</td>\n",
       "      <td>649</td>\n",
       "      <td>94.0</td>\n",
       "      <td>17.0</td>\n",
       "      <td>17</td>\n",
       "      <td>42</td>\n",
       "      <td>NaT</td>\n",
       "      <td>Москва</td>\n",
       "      <td>Софья</td>\n",
       "      <td>Терехова</td>\n",
       "      <td>2018-03-25</td>\n",
       "      <td>ultra</td>\n",
       "      <td>1000</td>\n",
       "      <td>30</td>\n",
       "      <td>3000</td>\n",
       "      <td>1950</td>\n",
       "      <td>150</td>\n",
       "      <td>1</td>\n",
       "      <td>1</td>\n",
       "      <td>0</td>\n",
       "      <td>0.0</td>\n",
       "      <td>0</td>\n",
       "      <td>0.0</td>\n",
       "    </tr>\n",
       "    <tr>\n",
       "      <td>3127</td>\n",
       "      <td>1491</td>\n",
       "      <td>8</td>\n",
       "      <td>611</td>\n",
       "      <td>74.0</td>\n",
       "      <td>49.0</td>\n",
       "      <td>17</td>\n",
       "      <td>56</td>\n",
       "      <td>NaT</td>\n",
       "      <td>Челябинск</td>\n",
       "      <td>Радислав</td>\n",
       "      <td>Андрейкин</td>\n",
       "      <td>2018-04-25</td>\n",
       "      <td>ultra</td>\n",
       "      <td>1000</td>\n",
       "      <td>30</td>\n",
       "      <td>3000</td>\n",
       "      <td>1950</td>\n",
       "      <td>150</td>\n",
       "      <td>1</td>\n",
       "      <td>1</td>\n",
       "      <td>0</td>\n",
       "      <td>0.0</td>\n",
       "      <td>0</td>\n",
       "      <td>0.0</td>\n",
       "    </tr>\n",
       "    <tr>\n",
       "      <td>1274</td>\n",
       "      <td>1202</td>\n",
       "      <td>9</td>\n",
       "      <td>75</td>\n",
       "      <td>11.0</td>\n",
       "      <td>20.0</td>\n",
       "      <td>9</td>\n",
       "      <td>22</td>\n",
       "      <td>NaT</td>\n",
       "      <td>Владивосток</td>\n",
       "      <td>Адам</td>\n",
       "      <td>Адаменко</td>\n",
       "      <td>2018-09-20</td>\n",
       "      <td>smart</td>\n",
       "      <td>50</td>\n",
       "      <td>15</td>\n",
       "      <td>500</td>\n",
       "      <td>550</td>\n",
       "      <td>200</td>\n",
       "      <td>3</td>\n",
       "      <td>3</td>\n",
       "      <td>0</td>\n",
       "      <td>0.0</td>\n",
       "      <td>0</td>\n",
       "      <td>0.0</td>\n",
       "    </tr>\n",
       "  </tbody>\n",
       "</table>\n",
       "</div>"
      ],
      "text/plain": [
       "      user_id  month  month_calls_duration  calls_total_in_month  \\\n",
       "1884     1300     11                   658                  88.0   \n",
       "3147     1495      9                   813                 112.0   \n",
       "3031     1476      6                   491                  62.0   \n",
       "588      1094      9                   717                 105.0   \n",
       "2207     1354     11                   300                  41.0   \n",
       "1499     1240      8                   457                  54.0   \n",
       "2248     1360      7                   833                 118.0   \n",
       "515      1081     11                   649                  94.0   \n",
       "3127     1491      8                   611                  74.0   \n",
       "1274     1202      9                    75                  11.0   \n",
       "\n",
       "      sms_total_in_month  gb_total_in_month  age churn_date             city  \\\n",
       "1884               170.0                 44   40        NaT           Москва   \n",
       "3147                82.0                 33   65        NaT          Иркутск   \n",
       "3031                 4.0                 15   50        NaT           Москва   \n",
       "588                 18.0                 22   37        NaT      Новосибирск   \n",
       "2207                90.0                 27   56        NaT             Сочи   \n",
       "1499                 0.0                 48   30        NaT          Воронеж   \n",
       "2248                 0.0                 13   46        NaT  Санкт-Петербург   \n",
       "515                 17.0                 17   42        NaT           Москва   \n",
       "3127                49.0                 17   56        NaT        Челябинск   \n",
       "1274                20.0                  9   22        NaT      Владивосток   \n",
       "\n",
       "     first_name  last_name   reg_date tariff  messages_included  \\\n",
       "1884      Тихон  Азерников 2018-07-26  ultra               1000   \n",
       "3147  Авксентий      Фокин 2018-08-28  ultra               1000   \n",
       "3031  Валентина   Семенова 2018-04-30  ultra               1000   \n",
       "588     Даниэла   Пугачева 2018-05-28  ultra               1000   \n",
       "2207       Лола   Кулагина 2018-08-19  smart                 50   \n",
       "1499    Зинаида     Шарова 2018-02-27  ultra               1000   \n",
       "2248      Лаура   Макарова 2018-03-18  ultra               1000   \n",
       "515       Софья   Терехова 2018-03-25  ultra               1000   \n",
       "3127   Радислав  Андрейкин 2018-04-25  ultra               1000   \n",
       "1274       Адам   Адаменко 2018-09-20  smart                 50   \n",
       "\n",
       "      gb_per_month_included  minutes_included  rub_monthly_fee  rub_per_gb  \\\n",
       "1884                     30              3000             1950         150   \n",
       "3147                     30              3000             1950         150   \n",
       "3031                     30              3000             1950         150   \n",
       "588                      30              3000             1950         150   \n",
       "2207                     15               500              550         200   \n",
       "1499                     30              3000             1950         150   \n",
       "2248                     30              3000             1950         150   \n",
       "515                      30              3000             1950         150   \n",
       "3127                     30              3000             1950         150   \n",
       "1274                     15               500              550         200   \n",
       "\n",
       "      rub_per_message  rub_per_minute  minutes_overrun  messages_overrun  \\\n",
       "1884                1               1                0               0.0   \n",
       "3147                1               1                0               0.0   \n",
       "3031                1               1                0               0.0   \n",
       "588                 1               1                0               0.0   \n",
       "2207                3               3                0              40.0   \n",
       "1499                1               1                0               0.0   \n",
       "2248                1               1                0               0.0   \n",
       "515                 1               1                0               0.0   \n",
       "3127                1               1                0               0.0   \n",
       "1274                3               3                0               0.0   \n",
       "\n",
       "      gb_overrun  revenue  \n",
       "1884          14   2100.0  \n",
       "3147           3    450.0  \n",
       "3031           0      0.0  \n",
       "588            0      0.0  \n",
       "2207          12   2520.0  \n",
       "1499          18   2700.0  \n",
       "2248           0      0.0  \n",
       "515            0      0.0  \n",
       "3127           0      0.0  \n",
       "1274           0      0.0  "
      ]
     },
     "execution_count": 57,
     "metadata": {},
     "output_type": "execute_result"
    }
   ],
   "source": [
    "df.sample(10)"
   ]
  },
  {
   "cell_type": "markdown",
   "metadata": {},
   "source": [
    "Мы рассчитали переплату за превышение пакетных услуг для каждого пользователя, теперь найдём общую выручку, добавив стоимость абонентской платы за тариф к переплате."
   ]
  },
  {
   "cell_type": "code",
   "execution_count": 58,
   "metadata": {
    "scrolled": true
   },
   "outputs": [
    {
     "data": {
      "text/html": [
       "<div>\n",
       "<style scoped>\n",
       "    .dataframe tbody tr th:only-of-type {\n",
       "        vertical-align: middle;\n",
       "    }\n",
       "\n",
       "    .dataframe tbody tr th {\n",
       "        vertical-align: top;\n",
       "    }\n",
       "\n",
       "    .dataframe thead th {\n",
       "        text-align: right;\n",
       "    }\n",
       "</style>\n",
       "<table border=\"1\" class=\"dataframe\">\n",
       "  <thead>\n",
       "    <tr style=\"text-align: right;\">\n",
       "      <th></th>\n",
       "      <th>user_id</th>\n",
       "      <th>month</th>\n",
       "      <th>month_calls_duration</th>\n",
       "      <th>calls_total_in_month</th>\n",
       "      <th>sms_total_in_month</th>\n",
       "      <th>gb_total_in_month</th>\n",
       "      <th>age</th>\n",
       "      <th>churn_date</th>\n",
       "      <th>city</th>\n",
       "      <th>first_name</th>\n",
       "      <th>last_name</th>\n",
       "      <th>reg_date</th>\n",
       "      <th>tariff</th>\n",
       "      <th>messages_included</th>\n",
       "      <th>gb_per_month_included</th>\n",
       "      <th>minutes_included</th>\n",
       "      <th>rub_monthly_fee</th>\n",
       "      <th>rub_per_gb</th>\n",
       "      <th>rub_per_message</th>\n",
       "      <th>rub_per_minute</th>\n",
       "      <th>minutes_overrun</th>\n",
       "      <th>messages_overrun</th>\n",
       "      <th>gb_overrun</th>\n",
       "      <th>revenue</th>\n",
       "      <th>income</th>\n",
       "    </tr>\n",
       "  </thead>\n",
       "  <tbody>\n",
       "    <tr>\n",
       "      <td>0</td>\n",
       "      <td>1000</td>\n",
       "      <td>5</td>\n",
       "      <td>159</td>\n",
       "      <td>22.0</td>\n",
       "      <td>22.0</td>\n",
       "      <td>3</td>\n",
       "      <td>52</td>\n",
       "      <td>NaT</td>\n",
       "      <td>Краснодар</td>\n",
       "      <td>Рафаил</td>\n",
       "      <td>Верещагин</td>\n",
       "      <td>2018-05-25</td>\n",
       "      <td>ultra</td>\n",
       "      <td>1000</td>\n",
       "      <td>30</td>\n",
       "      <td>3000</td>\n",
       "      <td>1950</td>\n",
       "      <td>150</td>\n",
       "      <td>1</td>\n",
       "      <td>1</td>\n",
       "      <td>0</td>\n",
       "      <td>0.0</td>\n",
       "      <td>0</td>\n",
       "      <td>0.0</td>\n",
       "      <td>1950.0</td>\n",
       "    </tr>\n",
       "    <tr>\n",
       "      <td>1</td>\n",
       "      <td>1000</td>\n",
       "      <td>6</td>\n",
       "      <td>172</td>\n",
       "      <td>43.0</td>\n",
       "      <td>60.0</td>\n",
       "      <td>23</td>\n",
       "      <td>52</td>\n",
       "      <td>NaT</td>\n",
       "      <td>Краснодар</td>\n",
       "      <td>Рафаил</td>\n",
       "      <td>Верещагин</td>\n",
       "      <td>2018-05-25</td>\n",
       "      <td>ultra</td>\n",
       "      <td>1000</td>\n",
       "      <td>30</td>\n",
       "      <td>3000</td>\n",
       "      <td>1950</td>\n",
       "      <td>150</td>\n",
       "      <td>1</td>\n",
       "      <td>1</td>\n",
       "      <td>0</td>\n",
       "      <td>0.0</td>\n",
       "      <td>0</td>\n",
       "      <td>0.0</td>\n",
       "      <td>1950.0</td>\n",
       "    </tr>\n",
       "    <tr>\n",
       "      <td>2</td>\n",
       "      <td>1000</td>\n",
       "      <td>7</td>\n",
       "      <td>340</td>\n",
       "      <td>47.0</td>\n",
       "      <td>75.0</td>\n",
       "      <td>14</td>\n",
       "      <td>52</td>\n",
       "      <td>NaT</td>\n",
       "      <td>Краснодар</td>\n",
       "      <td>Рафаил</td>\n",
       "      <td>Верещагин</td>\n",
       "      <td>2018-05-25</td>\n",
       "      <td>ultra</td>\n",
       "      <td>1000</td>\n",
       "      <td>30</td>\n",
       "      <td>3000</td>\n",
       "      <td>1950</td>\n",
       "      <td>150</td>\n",
       "      <td>1</td>\n",
       "      <td>1</td>\n",
       "      <td>0</td>\n",
       "      <td>0.0</td>\n",
       "      <td>0</td>\n",
       "      <td>0.0</td>\n",
       "      <td>1950.0</td>\n",
       "    </tr>\n",
       "    <tr>\n",
       "      <td>3</td>\n",
       "      <td>1000</td>\n",
       "      <td>8</td>\n",
       "      <td>408</td>\n",
       "      <td>52.0</td>\n",
       "      <td>81.0</td>\n",
       "      <td>14</td>\n",
       "      <td>52</td>\n",
       "      <td>NaT</td>\n",
       "      <td>Краснодар</td>\n",
       "      <td>Рафаил</td>\n",
       "      <td>Верещагин</td>\n",
       "      <td>2018-05-25</td>\n",
       "      <td>ultra</td>\n",
       "      <td>1000</td>\n",
       "      <td>30</td>\n",
       "      <td>3000</td>\n",
       "      <td>1950</td>\n",
       "      <td>150</td>\n",
       "      <td>1</td>\n",
       "      <td>1</td>\n",
       "      <td>0</td>\n",
       "      <td>0.0</td>\n",
       "      <td>0</td>\n",
       "      <td>0.0</td>\n",
       "      <td>1950.0</td>\n",
       "    </tr>\n",
       "    <tr>\n",
       "      <td>4</td>\n",
       "      <td>1000</td>\n",
       "      <td>9</td>\n",
       "      <td>466</td>\n",
       "      <td>58.0</td>\n",
       "      <td>57.0</td>\n",
       "      <td>15</td>\n",
       "      <td>52</td>\n",
       "      <td>NaT</td>\n",
       "      <td>Краснодар</td>\n",
       "      <td>Рафаил</td>\n",
       "      <td>Верещагин</td>\n",
       "      <td>2018-05-25</td>\n",
       "      <td>ultra</td>\n",
       "      <td>1000</td>\n",
       "      <td>30</td>\n",
       "      <td>3000</td>\n",
       "      <td>1950</td>\n",
       "      <td>150</td>\n",
       "      <td>1</td>\n",
       "      <td>1</td>\n",
       "      <td>0</td>\n",
       "      <td>0.0</td>\n",
       "      <td>0</td>\n",
       "      <td>0.0</td>\n",
       "      <td>1950.0</td>\n",
       "    </tr>\n",
       "    <tr>\n",
       "      <td>...</td>\n",
       "      <td>...</td>\n",
       "      <td>...</td>\n",
       "      <td>...</td>\n",
       "      <td>...</td>\n",
       "      <td>...</td>\n",
       "      <td>...</td>\n",
       "      <td>...</td>\n",
       "      <td>...</td>\n",
       "      <td>...</td>\n",
       "      <td>...</td>\n",
       "      <td>...</td>\n",
       "      <td>...</td>\n",
       "      <td>...</td>\n",
       "      <td>...</td>\n",
       "      <td>...</td>\n",
       "      <td>...</td>\n",
       "      <td>...</td>\n",
       "      <td>...</td>\n",
       "      <td>...</td>\n",
       "      <td>...</td>\n",
       "      <td>...</td>\n",
       "      <td>...</td>\n",
       "      <td>...</td>\n",
       "      <td>...</td>\n",
       "      <td>...</td>\n",
       "    </tr>\n",
       "    <tr>\n",
       "      <td>3209</td>\n",
       "      <td>1489</td>\n",
       "      <td>9</td>\n",
       "      <td>0</td>\n",
       "      <td>0.0</td>\n",
       "      <td>32.0</td>\n",
       "      <td>17</td>\n",
       "      <td>35</td>\n",
       "      <td>NaT</td>\n",
       "      <td>Санкт-Петербург</td>\n",
       "      <td>Павел</td>\n",
       "      <td>Гончаров</td>\n",
       "      <td>2018-08-15</td>\n",
       "      <td>smart</td>\n",
       "      <td>50</td>\n",
       "      <td>15</td>\n",
       "      <td>500</td>\n",
       "      <td>550</td>\n",
       "      <td>200</td>\n",
       "      <td>3</td>\n",
       "      <td>3</td>\n",
       "      <td>0</td>\n",
       "      <td>0.0</td>\n",
       "      <td>2</td>\n",
       "      <td>400.0</td>\n",
       "      <td>950.0</td>\n",
       "    </tr>\n",
       "    <tr>\n",
       "      <td>3210</td>\n",
       "      <td>1489</td>\n",
       "      <td>10</td>\n",
       "      <td>0</td>\n",
       "      <td>0.0</td>\n",
       "      <td>21.0</td>\n",
       "      <td>20</td>\n",
       "      <td>35</td>\n",
       "      <td>NaT</td>\n",
       "      <td>Санкт-Петербург</td>\n",
       "      <td>Павел</td>\n",
       "      <td>Гончаров</td>\n",
       "      <td>2018-08-15</td>\n",
       "      <td>smart</td>\n",
       "      <td>50</td>\n",
       "      <td>15</td>\n",
       "      <td>500</td>\n",
       "      <td>550</td>\n",
       "      <td>200</td>\n",
       "      <td>3</td>\n",
       "      <td>3</td>\n",
       "      <td>0</td>\n",
       "      <td>0.0</td>\n",
       "      <td>5</td>\n",
       "      <td>1000.0</td>\n",
       "      <td>1550.0</td>\n",
       "    </tr>\n",
       "    <tr>\n",
       "      <td>3211</td>\n",
       "      <td>1489</td>\n",
       "      <td>11</td>\n",
       "      <td>0</td>\n",
       "      <td>0.0</td>\n",
       "      <td>20.0</td>\n",
       "      <td>18</td>\n",
       "      <td>35</td>\n",
       "      <td>NaT</td>\n",
       "      <td>Санкт-Петербург</td>\n",
       "      <td>Павел</td>\n",
       "      <td>Гончаров</td>\n",
       "      <td>2018-08-15</td>\n",
       "      <td>smart</td>\n",
       "      <td>50</td>\n",
       "      <td>15</td>\n",
       "      <td>500</td>\n",
       "      <td>550</td>\n",
       "      <td>200</td>\n",
       "      <td>3</td>\n",
       "      <td>3</td>\n",
       "      <td>0</td>\n",
       "      <td>0.0</td>\n",
       "      <td>3</td>\n",
       "      <td>600.0</td>\n",
       "      <td>1150.0</td>\n",
       "    </tr>\n",
       "    <tr>\n",
       "      <td>3212</td>\n",
       "      <td>1489</td>\n",
       "      <td>12</td>\n",
       "      <td>0</td>\n",
       "      <td>0.0</td>\n",
       "      <td>35.0</td>\n",
       "      <td>17</td>\n",
       "      <td>35</td>\n",
       "      <td>NaT</td>\n",
       "      <td>Санкт-Петербург</td>\n",
       "      <td>Павел</td>\n",
       "      <td>Гончаров</td>\n",
       "      <td>2018-08-15</td>\n",
       "      <td>smart</td>\n",
       "      <td>50</td>\n",
       "      <td>15</td>\n",
       "      <td>500</td>\n",
       "      <td>550</td>\n",
       "      <td>200</td>\n",
       "      <td>3</td>\n",
       "      <td>3</td>\n",
       "      <td>0</td>\n",
       "      <td>0.0</td>\n",
       "      <td>2</td>\n",
       "      <td>400.0</td>\n",
       "      <td>950.0</td>\n",
       "    </tr>\n",
       "    <tr>\n",
       "      <td>3213</td>\n",
       "      <td>1476</td>\n",
       "      <td>4</td>\n",
       "      <td>0</td>\n",
       "      <td>0.0</td>\n",
       "      <td>0.0</td>\n",
       "      <td>1</td>\n",
       "      <td>50</td>\n",
       "      <td>NaT</td>\n",
       "      <td>Москва</td>\n",
       "      <td>Валентина</td>\n",
       "      <td>Семенова</td>\n",
       "      <td>2018-04-30</td>\n",
       "      <td>ultra</td>\n",
       "      <td>1000</td>\n",
       "      <td>30</td>\n",
       "      <td>3000</td>\n",
       "      <td>1950</td>\n",
       "      <td>150</td>\n",
       "      <td>1</td>\n",
       "      <td>1</td>\n",
       "      <td>0</td>\n",
       "      <td>0.0</td>\n",
       "      <td>0</td>\n",
       "      <td>0.0</td>\n",
       "      <td>1950.0</td>\n",
       "    </tr>\n",
       "  </tbody>\n",
       "</table>\n",
       "<p>3214 rows × 25 columns</p>\n",
       "</div>"
      ],
      "text/plain": [
       "      user_id  month  month_calls_duration  calls_total_in_month  \\\n",
       "0        1000      5                   159                  22.0   \n",
       "1        1000      6                   172                  43.0   \n",
       "2        1000      7                   340                  47.0   \n",
       "3        1000      8                   408                  52.0   \n",
       "4        1000      9                   466                  58.0   \n",
       "...       ...    ...                   ...                   ...   \n",
       "3209     1489      9                     0                   0.0   \n",
       "3210     1489     10                     0                   0.0   \n",
       "3211     1489     11                     0                   0.0   \n",
       "3212     1489     12                     0                   0.0   \n",
       "3213     1476      4                     0                   0.0   \n",
       "\n",
       "      sms_total_in_month  gb_total_in_month  age churn_date             city  \\\n",
       "0                   22.0                  3   52        NaT        Краснодар   \n",
       "1                   60.0                 23   52        NaT        Краснодар   \n",
       "2                   75.0                 14   52        NaT        Краснодар   \n",
       "3                   81.0                 14   52        NaT        Краснодар   \n",
       "4                   57.0                 15   52        NaT        Краснодар   \n",
       "...                  ...                ...  ...        ...              ...   \n",
       "3209                32.0                 17   35        NaT  Санкт-Петербург   \n",
       "3210                21.0                 20   35        NaT  Санкт-Петербург   \n",
       "3211                20.0                 18   35        NaT  Санкт-Петербург   \n",
       "3212                35.0                 17   35        NaT  Санкт-Петербург   \n",
       "3213                 0.0                  1   50        NaT           Москва   \n",
       "\n",
       "     first_name  last_name   reg_date tariff  messages_included  \\\n",
       "0        Рафаил  Верещагин 2018-05-25  ultra               1000   \n",
       "1        Рафаил  Верещагин 2018-05-25  ultra               1000   \n",
       "2        Рафаил  Верещагин 2018-05-25  ultra               1000   \n",
       "3        Рафаил  Верещагин 2018-05-25  ultra               1000   \n",
       "4        Рафаил  Верещагин 2018-05-25  ultra               1000   \n",
       "...         ...        ...        ...    ...                ...   \n",
       "3209      Павел   Гончаров 2018-08-15  smart                 50   \n",
       "3210      Павел   Гончаров 2018-08-15  smart                 50   \n",
       "3211      Павел   Гончаров 2018-08-15  smart                 50   \n",
       "3212      Павел   Гончаров 2018-08-15  smart                 50   \n",
       "3213  Валентина   Семенова 2018-04-30  ultra               1000   \n",
       "\n",
       "      gb_per_month_included  minutes_included  rub_monthly_fee  rub_per_gb  \\\n",
       "0                        30              3000             1950         150   \n",
       "1                        30              3000             1950         150   \n",
       "2                        30              3000             1950         150   \n",
       "3                        30              3000             1950         150   \n",
       "4                        30              3000             1950         150   \n",
       "...                     ...               ...              ...         ...   \n",
       "3209                     15               500              550         200   \n",
       "3210                     15               500              550         200   \n",
       "3211                     15               500              550         200   \n",
       "3212                     15               500              550         200   \n",
       "3213                     30              3000             1950         150   \n",
       "\n",
       "      rub_per_message  rub_per_minute  minutes_overrun  messages_overrun  \\\n",
       "0                   1               1                0               0.0   \n",
       "1                   1               1                0               0.0   \n",
       "2                   1               1                0               0.0   \n",
       "3                   1               1                0               0.0   \n",
       "4                   1               1                0               0.0   \n",
       "...               ...             ...              ...               ...   \n",
       "3209                3               3                0               0.0   \n",
       "3210                3               3                0               0.0   \n",
       "3211                3               3                0               0.0   \n",
       "3212                3               3                0               0.0   \n",
       "3213                1               1                0               0.0   \n",
       "\n",
       "      gb_overrun  revenue  income  \n",
       "0              0      0.0  1950.0  \n",
       "1              0      0.0  1950.0  \n",
       "2              0      0.0  1950.0  \n",
       "3              0      0.0  1950.0  \n",
       "4              0      0.0  1950.0  \n",
       "...          ...      ...     ...  \n",
       "3209           2    400.0   950.0  \n",
       "3210           5   1000.0  1550.0  \n",
       "3211           3    600.0  1150.0  \n",
       "3212           2    400.0   950.0  \n",
       "3213           0      0.0  1950.0  \n",
       "\n",
       "[3214 rows x 25 columns]"
      ]
     },
     "execution_count": 58,
     "metadata": {},
     "output_type": "execute_result"
    }
   ],
   "source": [
    "df['income'] = df['revenue'] + df['rub_monthly_fee']\n",
    "df"
   ]
  },
  {
   "cell_type": "markdown",
   "metadata": {},
   "source": [
    "Мы привели исходные данные к нужным типам, обработали ошибки, объединили данные из нескольких таблиц в одну удобную и рассчитали новые столбцы.\n",
    "Нам удалось выяснить переплату каждого абонента за использование услуг сверх своего тарифного плана и ощую сумму выручки с каждого абонента."
   ]
  },
  {
   "cell_type": "markdown",
   "metadata": {},
   "source": [
    "## Анализ данных"
   ]
  },
  {
   "cell_type": "markdown",
   "metadata": {},
   "source": [
    "Опишем поведение клиентов оператора, исходя из выборки.  \n",
    "1. Сколько минут разговора, сколько сообщений и какой объём интернет-трафика требуется пользователям каждого тарифа в месяц. \n",
    "2. Посчитаем среднее количество, дисперсию и стандартное отклонение.\n",
    "3. Построим гистограммы.\n",
    "4. Опишем распределения."
   ]
  },
  {
   "cell_type": "code",
   "execution_count": 59,
   "metadata": {},
   "outputs": [
    {
     "data": {
      "text/html": [
       "<div>\n",
       "<style scoped>\n",
       "    .dataframe tbody tr th:only-of-type {\n",
       "        vertical-align: middle;\n",
       "    }\n",
       "\n",
       "    .dataframe tbody tr th {\n",
       "        vertical-align: top;\n",
       "    }\n",
       "\n",
       "    .dataframe thead th {\n",
       "        text-align: right;\n",
       "    }\n",
       "</style>\n",
       "<table border=\"1\" class=\"dataframe\">\n",
       "  <thead>\n",
       "    <tr style=\"text-align: right;\">\n",
       "      <th></th>\n",
       "      <th>messages_included</th>\n",
       "      <th>mb_per_month_included</th>\n",
       "      <th>minutes_included</th>\n",
       "      <th>rub_monthly_fee</th>\n",
       "      <th>rub_per_gb</th>\n",
       "      <th>rub_per_message</th>\n",
       "      <th>rub_per_minute</th>\n",
       "      <th>tariff</th>\n",
       "    </tr>\n",
       "  </thead>\n",
       "  <tbody>\n",
       "    <tr>\n",
       "      <td>0</td>\n",
       "      <td>50</td>\n",
       "      <td>15360</td>\n",
       "      <td>500</td>\n",
       "      <td>550</td>\n",
       "      <td>200</td>\n",
       "      <td>3</td>\n",
       "      <td>3</td>\n",
       "      <td>smart</td>\n",
       "    </tr>\n",
       "    <tr>\n",
       "      <td>1</td>\n",
       "      <td>1000</td>\n",
       "      <td>30720</td>\n",
       "      <td>3000</td>\n",
       "      <td>1950</td>\n",
       "      <td>150</td>\n",
       "      <td>1</td>\n",
       "      <td>1</td>\n",
       "      <td>ultra</td>\n",
       "    </tr>\n",
       "  </tbody>\n",
       "</table>\n",
       "</div>"
      ],
      "text/plain": [
       "   messages_included  mb_per_month_included  minutes_included  \\\n",
       "0                 50                  15360               500   \n",
       "1               1000                  30720              3000   \n",
       "\n",
       "   rub_monthly_fee  rub_per_gb  rub_per_message  rub_per_minute tariff  \n",
       "0              550         200                3               3  smart  \n",
       "1             1950         150                1               1  ultra  "
      ]
     },
     "execution_count": 59,
     "metadata": {},
     "output_type": "execute_result"
    }
   ],
   "source": [
    "#вспомним условия тарифов, чтобы сравнить с показателями describe\n",
    "tariffs.head()"
   ]
  },
  {
   "cell_type": "markdown",
   "metadata": {},
   "source": [
    "Для удобства обращения к данным, разделим общую таблицу на 2 по используемую абонентом тарифу Smart и Ultra.  \n",
    "Проанализируем каждую из этих таблиц."
   ]
  },
  {
   "cell_type": "code",
   "execution_count": 60,
   "metadata": {
    "scrolled": true
   },
   "outputs": [
    {
     "data": {
      "text/plain": [
       "smart    2229\n",
       "ultra     985\n",
       "Name: tariff, dtype: int64"
      ]
     },
     "execution_count": 60,
     "metadata": {},
     "output_type": "execute_result"
    }
   ],
   "source": [
    "#Посмотрим количество строк для каждого тарифа\n",
    "df['tariff'].value_counts()"
   ]
  },
  {
   "cell_type": "markdown",
   "metadata": {},
   "source": [
    "### Анализ тарифа 'Smart'\n"
   ]
  },
  {
   "cell_type": "code",
   "execution_count": 61,
   "metadata": {},
   "outputs": [
    {
     "data": {
      "text/html": [
       "<div>\n",
       "<style scoped>\n",
       "    .dataframe tbody tr th:only-of-type {\n",
       "        vertical-align: middle;\n",
       "    }\n",
       "\n",
       "    .dataframe tbody tr th {\n",
       "        vertical-align: top;\n",
       "    }\n",
       "\n",
       "    .dataframe thead th {\n",
       "        text-align: right;\n",
       "    }\n",
       "</style>\n",
       "<table border=\"1\" class=\"dataframe\">\n",
       "  <thead>\n",
       "    <tr style=\"text-align: right;\">\n",
       "      <th></th>\n",
       "      <th>user_id</th>\n",
       "      <th>month</th>\n",
       "      <th>month_calls_duration</th>\n",
       "      <th>calls_total_in_month</th>\n",
       "      <th>sms_total_in_month</th>\n",
       "      <th>gb_total_in_month</th>\n",
       "      <th>age</th>\n",
       "      <th>messages_included</th>\n",
       "      <th>gb_per_month_included</th>\n",
       "      <th>minutes_included</th>\n",
       "      <th>rub_monthly_fee</th>\n",
       "      <th>rub_per_gb</th>\n",
       "      <th>rub_per_message</th>\n",
       "      <th>rub_per_minute</th>\n",
       "      <th>minutes_overrun</th>\n",
       "      <th>messages_overrun</th>\n",
       "      <th>gb_overrun</th>\n",
       "      <th>revenue</th>\n",
       "      <th>income</th>\n",
       "    </tr>\n",
       "  </thead>\n",
       "  <tbody>\n",
       "    <tr>\n",
       "      <td>count</td>\n",
       "      <td>2229.0</td>\n",
       "      <td>2229.0</td>\n",
       "      <td>2229.0</td>\n",
       "      <td>2229.0</td>\n",
       "      <td>2229.0</td>\n",
       "      <td>2229.0</td>\n",
       "      <td>2229.0</td>\n",
       "      <td>2229.0</td>\n",
       "      <td>2229.0</td>\n",
       "      <td>2229.0</td>\n",
       "      <td>2229.0</td>\n",
       "      <td>2229.0</td>\n",
       "      <td>2229.0</td>\n",
       "      <td>2229.0</td>\n",
       "      <td>2229.0</td>\n",
       "      <td>2229.0</td>\n",
       "      <td>2229.0</td>\n",
       "      <td>2229.0</td>\n",
       "      <td>2229.0</td>\n",
       "    </tr>\n",
       "    <tr>\n",
       "      <td>mean</td>\n",
       "      <td>1247.0</td>\n",
       "      <td>8.0</td>\n",
       "      <td>418.0</td>\n",
       "      <td>58.0</td>\n",
       "      <td>33.0</td>\n",
       "      <td>16.0</td>\n",
       "      <td>47.0</td>\n",
       "      <td>50.0</td>\n",
       "      <td>15.0</td>\n",
       "      <td>500.0</td>\n",
       "      <td>550.0</td>\n",
       "      <td>200.0</td>\n",
       "      <td>3.0</td>\n",
       "      <td>3.0</td>\n",
       "      <td>42.0</td>\n",
       "      <td>6.0</td>\n",
       "      <td>3.0</td>\n",
       "      <td>740.0</td>\n",
       "      <td>1290.0</td>\n",
       "    </tr>\n",
       "    <tr>\n",
       "      <td>std</td>\n",
       "      <td>146.0</td>\n",
       "      <td>3.0</td>\n",
       "      <td>190.0</td>\n",
       "      <td>26.0</td>\n",
       "      <td>28.0</td>\n",
       "      <td>6.0</td>\n",
       "      <td>16.0</td>\n",
       "      <td>0.0</td>\n",
       "      <td>0.0</td>\n",
       "      <td>0.0</td>\n",
       "      <td>0.0</td>\n",
       "      <td>0.0</td>\n",
       "      <td>0.0</td>\n",
       "      <td>0.0</td>\n",
       "      <td>85.0</td>\n",
       "      <td>13.0</td>\n",
       "      <td>4.0</td>\n",
       "      <td>818.0</td>\n",
       "      <td>818.0</td>\n",
       "    </tr>\n",
       "    <tr>\n",
       "      <td>min</td>\n",
       "      <td>1001.0</td>\n",
       "      <td>1.0</td>\n",
       "      <td>0.0</td>\n",
       "      <td>0.0</td>\n",
       "      <td>0.0</td>\n",
       "      <td>0.0</td>\n",
       "      <td>18.0</td>\n",
       "      <td>50.0</td>\n",
       "      <td>15.0</td>\n",
       "      <td>500.0</td>\n",
       "      <td>550.0</td>\n",
       "      <td>200.0</td>\n",
       "      <td>3.0</td>\n",
       "      <td>3.0</td>\n",
       "      <td>0.0</td>\n",
       "      <td>0.0</td>\n",
       "      <td>0.0</td>\n",
       "      <td>0.0</td>\n",
       "      <td>550.0</td>\n",
       "    </tr>\n",
       "    <tr>\n",
       "      <td>25%</td>\n",
       "      <td>1121.0</td>\n",
       "      <td>6.0</td>\n",
       "      <td>282.0</td>\n",
       "      <td>40.0</td>\n",
       "      <td>10.0</td>\n",
       "      <td>13.0</td>\n",
       "      <td>32.0</td>\n",
       "      <td>50.0</td>\n",
       "      <td>15.0</td>\n",
       "      <td>500.0</td>\n",
       "      <td>550.0</td>\n",
       "      <td>200.0</td>\n",
       "      <td>3.0</td>\n",
       "      <td>3.0</td>\n",
       "      <td>0.0</td>\n",
       "      <td>0.0</td>\n",
       "      <td>0.0</td>\n",
       "      <td>0.0</td>\n",
       "      <td>550.0</td>\n",
       "    </tr>\n",
       "    <tr>\n",
       "      <td>50%</td>\n",
       "      <td>1239.0</td>\n",
       "      <td>9.0</td>\n",
       "      <td>422.0</td>\n",
       "      <td>60.0</td>\n",
       "      <td>28.0</td>\n",
       "      <td>17.0</td>\n",
       "      <td>47.0</td>\n",
       "      <td>50.0</td>\n",
       "      <td>15.0</td>\n",
       "      <td>500.0</td>\n",
       "      <td>550.0</td>\n",
       "      <td>200.0</td>\n",
       "      <td>3.0</td>\n",
       "      <td>3.0</td>\n",
       "      <td>0.0</td>\n",
       "      <td>0.0</td>\n",
       "      <td>2.0</td>\n",
       "      <td>473.0</td>\n",
       "      <td>1023.0</td>\n",
       "    </tr>\n",
       "    <tr>\n",
       "      <td>75%</td>\n",
       "      <td>1376.0</td>\n",
       "      <td>11.0</td>\n",
       "      <td>545.0</td>\n",
       "      <td>76.0</td>\n",
       "      <td>51.0</td>\n",
       "      <td>20.0</td>\n",
       "      <td>62.0</td>\n",
       "      <td>50.0</td>\n",
       "      <td>15.0</td>\n",
       "      <td>500.0</td>\n",
       "      <td>550.0</td>\n",
       "      <td>200.0</td>\n",
       "      <td>3.0</td>\n",
       "      <td>3.0</td>\n",
       "      <td>45.0</td>\n",
       "      <td>1.0</td>\n",
       "      <td>5.0</td>\n",
       "      <td>1200.0</td>\n",
       "      <td>1750.0</td>\n",
       "    </tr>\n",
       "    <tr>\n",
       "      <td>max</td>\n",
       "      <td>1499.0</td>\n",
       "      <td>12.0</td>\n",
       "      <td>1435.0</td>\n",
       "      <td>198.0</td>\n",
       "      <td>143.0</td>\n",
       "      <td>38.0</td>\n",
       "      <td>75.0</td>\n",
       "      <td>50.0</td>\n",
       "      <td>15.0</td>\n",
       "      <td>500.0</td>\n",
       "      <td>550.0</td>\n",
       "      <td>200.0</td>\n",
       "      <td>3.0</td>\n",
       "      <td>3.0</td>\n",
       "      <td>935.0</td>\n",
       "      <td>93.0</td>\n",
       "      <td>23.0</td>\n",
       "      <td>6220.0</td>\n",
       "      <td>6770.0</td>\n",
       "    </tr>\n",
       "  </tbody>\n",
       "</table>\n",
       "</div>"
      ],
      "text/plain": [
       "       user_id   month  month_calls_duration  calls_total_in_month  \\\n",
       "count   2229.0  2229.0                2229.0                2229.0   \n",
       "mean    1247.0     8.0                 418.0                  58.0   \n",
       "std      146.0     3.0                 190.0                  26.0   \n",
       "min     1001.0     1.0                   0.0                   0.0   \n",
       "25%     1121.0     6.0                 282.0                  40.0   \n",
       "50%     1239.0     9.0                 422.0                  60.0   \n",
       "75%     1376.0    11.0                 545.0                  76.0   \n",
       "max     1499.0    12.0                1435.0                 198.0   \n",
       "\n",
       "       sms_total_in_month  gb_total_in_month     age  messages_included  \\\n",
       "count              2229.0             2229.0  2229.0             2229.0   \n",
       "mean                 33.0               16.0    47.0               50.0   \n",
       "std                  28.0                6.0    16.0                0.0   \n",
       "min                   0.0                0.0    18.0               50.0   \n",
       "25%                  10.0               13.0    32.0               50.0   \n",
       "50%                  28.0               17.0    47.0               50.0   \n",
       "75%                  51.0               20.0    62.0               50.0   \n",
       "max                 143.0               38.0    75.0               50.0   \n",
       "\n",
       "       gb_per_month_included  minutes_included  rub_monthly_fee  rub_per_gb  \\\n",
       "count                 2229.0            2229.0           2229.0      2229.0   \n",
       "mean                    15.0             500.0            550.0       200.0   \n",
       "std                      0.0               0.0              0.0         0.0   \n",
       "min                     15.0             500.0            550.0       200.0   \n",
       "25%                     15.0             500.0            550.0       200.0   \n",
       "50%                     15.0             500.0            550.0       200.0   \n",
       "75%                     15.0             500.0            550.0       200.0   \n",
       "max                     15.0             500.0            550.0       200.0   \n",
       "\n",
       "       rub_per_message  rub_per_minute  minutes_overrun  messages_overrun  \\\n",
       "count           2229.0          2229.0           2229.0            2229.0   \n",
       "mean               3.0             3.0             42.0               6.0   \n",
       "std                0.0             0.0             85.0              13.0   \n",
       "min                3.0             3.0              0.0               0.0   \n",
       "25%                3.0             3.0              0.0               0.0   \n",
       "50%                3.0             3.0              0.0               0.0   \n",
       "75%                3.0             3.0             45.0               1.0   \n",
       "max                3.0             3.0            935.0              93.0   \n",
       "\n",
       "       gb_overrun  revenue  income  \n",
       "count      2229.0   2229.0  2229.0  \n",
       "mean          3.0    740.0  1290.0  \n",
       "std           4.0    818.0   818.0  \n",
       "min           0.0      0.0   550.0  \n",
       "25%           0.0      0.0   550.0  \n",
       "50%           2.0    473.0  1023.0  \n",
       "75%           5.0   1200.0  1750.0  \n",
       "max          23.0   6220.0  6770.0  "
      ]
     },
     "execution_count": 61,
     "metadata": {},
     "output_type": "execute_result"
    }
   ],
   "source": [
    "smart_df=df.query('tariff == \"smart\"')\n",
    "smart_df.describe().round()"
   ]
  },
  {
   "cell_type": "markdown",
   "metadata": {},
   "source": [
    "#### Анализ звонков"
   ]
  },
  {
   "cell_type": "code",
   "execution_count": 62,
   "metadata": {},
   "outputs": [
    {
     "data": {
      "text/plain": [
       "count    2229.0\n",
       "mean      418.0\n",
       "std       190.0\n",
       "min         0.0\n",
       "25%       282.0\n",
       "50%       422.0\n",
       "75%       545.0\n",
       "max      1435.0\n",
       "Name: month_calls_duration, dtype: float64"
      ]
     },
     "execution_count": 62,
     "metadata": {},
     "output_type": "execute_result"
    }
   ],
   "source": [
    "smart_df['month_calls_duration'].describe().round()"
   ]
  },
  {
   "cell_type": "code",
   "execution_count": 63,
   "metadata": {
    "scrolled": true
   },
   "outputs": [
    {
     "name": "stdout",
     "output_type": "stream",
     "text": [
      "Дисперсия:  36219.32\n",
      "Стандартное отклонение:  190.31\n",
      "Среднее количество:  417.93\n"
     ]
    }
   ],
   "source": [
    "variance = np.var(smart_df['month_calls_duration'], ddof=1)\n",
    "print('Дисперсия: ', variance.round(2))\n",
    "print('Стандартное отклонение: ', np.sqrt(variance).round(2))\n",
    "print('Среднее количество: ', smart_df['month_calls_duration'].mean().round(2))"
   ]
  },
  {
   "cell_type": "code",
   "execution_count": 64,
   "metadata": {
    "scrolled": false
   },
   "outputs": [
    {
     "data": {
      "image/png": "[encoded data removed]",
      "text/plain": [
       "<Figure size 432x432 with 1 Axes>"
      ]
     },
     "metadata": {
      "needs_background": "light"
     },
     "output_type": "display_data"
    }
   ],
   "source": [
    "smart_df.boxplot('month_calls_duration', figsize=(6,6))\n",
    "plt.xlabel('Продолжительность звонков Smart');"
   ]
  },
  {
   "cell_type": "code",
   "execution_count": 65,
   "metadata": {},
   "outputs": [],
   "source": [
    "np.warnings.filterwarnings('ignore', category=np.VisibleDeprecationWarning)"
   ]
  },
  {
   "cell_type": "code",
   "execution_count": 66,
   "metadata": {},
   "outputs": [
    {
     "data": {
      "image/png": "[encoded data removed]",
      "text/plain": [
       "<Figure size 720x720 with 1 Axes>"
      ]
     },
     "metadata": {
      "needs_background": "light"
     },
     "output_type": "display_data"
    }
   ],
   "source": [
    "smart_df.boxplot('month_calls_duration', by='month', figsize=(10,10))\n",
    "plt.xlabel('Динамика звонков по месяцам');"
   ]
  },
  {
   "cell_type": "code",
   "execution_count": 67,
   "metadata": {},
   "outputs": [
    {
     "data": {
      "image/png": "[encoded data removed]",
      "text/plain": [
       "<Figure size 432x288 with 1 Axes>"
      ]
     },
     "metadata": {
      "needs_background": "light"
     },
     "output_type": "display_data"
    }
   ],
   "source": [
    "sns.distplot(smart_df['month_calls_duration'], hist=True, \n",
    "             bins=30, color = 'g',\n",
    "             hist_kws={'edgecolor':'b'}).set_title('Анализ звонков Smart')\n",
    "\n",
    "plt.xlabel(\"Минут в месяц\") \n",
    "plt.ylabel(\"Частота\");"
   ]
  },
  {
   "cell_type": "markdown",
   "metadata": {},
   "source": [
    "Распределение нормальное.  \n",
    "Среднее значение и медиана лежат близко друг к другу.\n",
    "Среднее количество минут приближается к тарифному лимиту и при этом среднее отклонение (190мин) составляет 38% от лимита (500мин)- Абоненты не укладываются в лимит и приобретают дополнительные минуты.   "
   ]
  },
  {
   "cell_type": "markdown",
   "metadata": {},
   "source": [
    "Вычислим % отношение выручки от минут сверх тарифного плана к общей выручке        "
   ]
  },
  {
   "cell_type": "code",
   "execution_count": 68,
   "metadata": {
    "scrolled": true
   },
   "outputs": [
    {
     "data": {
      "text/plain": [
       "0.09675931738420805"
      ]
     },
     "execution_count": 68,
     "metadata": {},
     "output_type": "execute_result"
    }
   ],
   "source": [
    "(smart_df.query('minutes_overrun > 0')['minutes_overrun'].sum() * 3) / smart_df['income'].sum()"
   ]
  },
  {
   "cell_type": "markdown",
   "metadata": {},
   "source": [
    "Выручка от минут сверх тарифного плана составляет почти 10% ко всей выручке по тарифу   "
   ]
  },
  {
   "cell_type": "markdown",
   "metadata": {},
   "source": [
    "Посчитаем % отношение выручки от минут сверх тарифного плана к выручке по абон.плате (2229 абонетов по 550 руб.)        \n"
   ]
  },
  {
   "cell_type": "code",
   "execution_count": 69,
   "metadata": {},
   "outputs": [
    {
     "data": {
      "text/plain": [
       "0.2269399241404625"
      ]
     },
     "execution_count": 69,
     "metadata": {},
     "output_type": "execute_result"
    }
   ],
   "source": [
    "(smart_df.query('minutes_overrun > 0')['minutes_overrun'].sum() * 3) / (2229 * 550)"
   ]
  },
  {
   "cell_type": "markdown",
   "metadata": {},
   "source": [
    "Выручка от доп.минут составляет 23% к абоненской плате  "
   ]
  },
  {
   "cell_type": "code",
   "execution_count": 70,
   "metadata": {},
   "outputs": [
    {
     "data": {
      "text/plain": [
       "754"
      ]
     },
     "execution_count": 70,
     "metadata": {},
     "output_type": "execute_result"
    }
   ],
   "source": [
    "smart_df.query('minutes_overrun > 0')['minutes_overrun'].count()"
   ]
  },
  {
   "cell_type": "markdown",
   "metadata": {},
   "source": [
    "754 наблюдения с превышением количества пакетных минут по тарифу Smart.  \n",
    "\n",
    "Посмотрим, есть ли абоненты на Smart, которые использовали бы все 3000 минут на тарифе Ultra"
   ]
  },
  {
   "cell_type": "code",
   "execution_count": 71,
   "metadata": {},
   "outputs": [
    {
     "data": {
      "text/plain": [
       "0"
      ]
     },
     "execution_count": 71,
     "metadata": {},
     "output_type": "execute_result"
    }
   ],
   "source": [
    "smart_df.query('month_calls_duration > 3000')['month_calls_duration'].count()"
   ]
  },
  {
   "cell_type": "markdown",
   "metadata": {},
   "source": [
    "Таких данных не обнаружено"
   ]
  },
  {
   "cell_type": "markdown",
   "metadata": {},
   "source": [
    "#### Анализ интернет-трафика"
   ]
  },
  {
   "cell_type": "code",
   "execution_count": 72,
   "metadata": {
    "scrolled": true
   },
   "outputs": [
    {
     "data": {
      "text/plain": [
       "count    2229.0\n",
       "mean       16.0\n",
       "std         6.0\n",
       "min         0.0\n",
       "25%        13.0\n",
       "50%        17.0\n",
       "75%        20.0\n",
       "max        38.0\n",
       "Name: gb_total_in_month, dtype: float64"
      ]
     },
     "execution_count": 72,
     "metadata": {},
     "output_type": "execute_result"
    }
   ],
   "source": [
    "smart_df['gb_total_in_month'].describe().round()"
   ]
  },
  {
   "cell_type": "code",
   "execution_count": 73,
   "metadata": {
    "scrolled": true
   },
   "outputs": [
    {
     "data": {
      "image/png": "[encoded data removed]",
      "text/plain": [
       "<Figure size 432x432 with 1 Axes>"
      ]
     },
     "metadata": {
      "needs_background": "light"
     },
     "output_type": "display_data"
    }
   ],
   "source": [
    "smart_df.boxplot('gb_total_in_month', figsize=(6,6))\n",
    "plt.xlabel('Объём трафика Smart');"
   ]
  },
  {
   "cell_type": "code",
   "execution_count": 74,
   "metadata": {},
   "outputs": [
    {
     "data": {
      "image/png": "[encoded data removed]",
      "text/plain": [
       "<Figure size 720x720 with 1 Axes>"
      ]
     },
     "metadata": {
      "needs_background": "light"
     },
     "output_type": "display_data"
    }
   ],
   "source": [
    "smart_df.boxplot('gb_total_in_month', by='month', figsize=(10,10))\n",
    "plt.xlabel('Динамика трафика по месяцам');"
   ]
  },
  {
   "cell_type": "code",
   "execution_count": 75,
   "metadata": {},
   "outputs": [
    {
     "name": "stdout",
     "output_type": "stream",
     "text": [
      "Дисперсия:  33.03\n",
      "Стандартное отклонение:  5.75\n",
      "Среднее количество:  16.33\n"
     ]
    }
   ],
   "source": [
    "variance = np.var(smart_df['gb_total_in_month'], ddof=1)\n",
    "print('Дисперсия: ', variance.round(2))\n",
    "print('Стандартное отклонение: ', np.sqrt(variance).round(2))\n",
    "print('Среднее количество: ', smart_df['gb_total_in_month'].mean().round(2))"
   ]
  },
  {
   "cell_type": "code",
   "execution_count": 76,
   "metadata": {},
   "outputs": [
    {
     "data": {
      "image/png": "[encoded data removed]",
      "text/plain": [
       "<Figure size 432x288 with 1 Axes>"
      ]
     },
     "metadata": {
      "needs_background": "light"
     },
     "output_type": "display_data"
    }
   ],
   "source": [
    "sns.distplot(smart_df['gb_total_in_month'], hist=True, \n",
    "             bins=20, color = 'g',\n",
    "             hist_kws={'edgecolor':'b'}).set_title('Анализ интернета-трафика Smart')\n",
    "plt.xlabel(\"Гб в месяц\")\n",
    "plt.ylabel(\"Частота\");"
   ]
  },
  {
   "cell_type": "markdown",
   "metadata": {},
   "source": [
    "Распределение нормальное - 15Гб входящих в пакетное предложение ниже среднего (16.37Гб). Большая часть абонентов платит за доплнительные Гб. Чем ниже среднего лимит, тем больше прибыли получает оператор сотовой связи «Мегалайн»."
   ]
  },
  {
   "cell_type": "code",
   "execution_count": 77,
   "metadata": {
    "scrolled": true
   },
   "outputs": [
    {
     "data": {
      "text/plain": [
       "6662"
      ]
     },
     "execution_count": 77,
     "metadata": {},
     "output_type": "execute_result"
    }
   ],
   "source": [
    "smart_df.query('gb_overrun > 0')['gb_overrun'].sum() #кол-во дополнительных gb"
   ]
  },
  {
   "cell_type": "code",
   "execution_count": 78,
   "metadata": {},
   "outputs": [
    {
     "data": {
      "text/plain": [
       "0"
      ]
     },
     "execution_count": 78,
     "metadata": {},
     "output_type": "execute_result"
    }
   ],
   "source": [
    "smart_df.query('gb_overrun < 0')['gb_overrun'].sum() #кол-во тарифных gb "
   ]
  },
  {
   "cell_type": "code",
   "execution_count": 79,
   "metadata": {},
   "outputs": [
    {
     "data": {
      "text/plain": [
       "46.34"
      ]
     },
     "execution_count": 79,
     "metadata": {},
     "output_type": "execute_result"
    }
   ],
   "source": [
    "(((smart_df.query('gb_overrun > 0')['gb_overrun'].sum() * 200) / smart_df['income'].sum()) * 100).round(2)"
   ]
  },
  {
   "cell_type": "markdown",
   "metadata": {},
   "source": [
    "Выручка от дополнительно купленных Гб интернета составляет 46% от общей выручки по тарифу.  \n",
    "Интересный результат."
   ]
  },
  {
   "cell_type": "code",
   "execution_count": 80,
   "metadata": {},
   "outputs": [
    {
     "data": {
      "text/plain": [
       "108.68"
      ]
     },
     "execution_count": 80,
     "metadata": {},
     "output_type": "execute_result"
    }
   ],
   "source": [
    "((smart_df.query('gb_overrun > 0')['gb_overrun'].sum() * 200) / ((2229 * 550) -1)* 100).round(2)"
   ]
  },
  {
   "cell_type": "markdown",
   "metadata": {},
   "source": [
    "Выручка от дополнительно купленных Гб интернета больше выручки от тарифа по лимиту (2229 наблюдений * 550 руб/мес) почти на 110%\n"
   ]
  },
  {
   "cell_type": "code",
   "execution_count": 81,
   "metadata": {},
   "outputs": [
    {
     "data": {
      "text/plain": [
       "1304"
      ]
     },
     "execution_count": 81,
     "metadata": {},
     "output_type": "execute_result"
    }
   ],
   "source": [
    "smart_15 = smart_df.query('gb_overrun > 0')['gb_overrun'].count()\n",
    "smart_15"
   ]
  },
  {
   "cell_type": "markdown",
   "metadata": {},
   "source": [
    "1310 раз был превышен лимит 15Гб"
   ]
  },
  {
   "cell_type": "code",
   "execution_count": 82,
   "metadata": {},
   "outputs": [
    {
     "data": {
      "text/plain": [
       "0.5850157021085689"
      ]
     },
     "execution_count": 82,
     "metadata": {},
     "output_type": "execute_result"
    }
   ],
   "source": [
    "smart_15/ 2229"
   ]
  },
  {
   "cell_type": "markdown",
   "metadata": {},
   "source": [
    "Почти в 59% наблюдений был превышен пакетный лимит 15Гб     "
   ]
  },
  {
   "cell_type": "code",
   "execution_count": 83,
   "metadata": {},
   "outputs": [
    {
     "data": {
      "text/plain": [
       "18"
      ]
     },
     "execution_count": 83,
     "metadata": {},
     "output_type": "execute_result"
    }
   ],
   "source": [
    "smart_30 = smart_df.query('gb_total_in_month > 30')['gb_total_in_month'].count()\n",
    "smart_30"
   ]
  },
  {
   "cell_type": "markdown",
   "metadata": {},
   "source": [
    "Порог тарифа Ultra 30 Гб был превышен абонентами тарифа Smart 18 раз.     "
   ]
  },
  {
   "cell_type": "markdown",
   "metadata": {},
   "source": [
    "#### Анализ сообщений"
   ]
  },
  {
   "cell_type": "code",
   "execution_count": 84,
   "metadata": {
    "scrolled": true
   },
   "outputs": [
    {
     "data": {
      "text/plain": [
       "count    2229.0\n",
       "mean       33.0\n",
       "std        28.0\n",
       "min         0.0\n",
       "25%        10.0\n",
       "50%        28.0\n",
       "75%        51.0\n",
       "max       143.0\n",
       "Name: sms_total_in_month, dtype: float64"
      ]
     },
     "execution_count": 84,
     "metadata": {},
     "output_type": "execute_result"
    }
   ],
   "source": [
    "smart_df['sms_total_in_month'].describe().round()"
   ]
  },
  {
   "cell_type": "code",
   "execution_count": 85,
   "metadata": {
    "scrolled": true
   },
   "outputs": [
    {
     "data": {
      "image/png": "[encoded data removed]",
      "text/plain": [
       "<Figure size 432x432 with 1 Axes>"
      ]
     },
     "metadata": {
      "needs_background": "light"
     },
     "output_type": "display_data"
    }
   ],
   "source": [
    "smart_df.boxplot('sms_total_in_month', figsize=(6,6))\n",
    "plt.xlabel('Сообщения Smart');"
   ]
  },
  {
   "cell_type": "code",
   "execution_count": 86,
   "metadata": {},
   "outputs": [
    {
     "data": {
      "image/png": "[encoded data removed]",
      "text/plain": [
       "<Figure size 720x720 with 1 Axes>"
      ]
     },
     "metadata": {
      "needs_background": "light"
     },
     "output_type": "display_data"
    }
   ],
   "source": [
    "smart_df.boxplot('sms_total_in_month', by='month', figsize=(10,10))\n",
    "plt.xlabel('Динамика SMS по месяцам');"
   ]
  },
  {
   "cell_type": "code",
   "execution_count": 87,
   "metadata": {},
   "outputs": [
    {
     "name": "stdout",
     "output_type": "stream",
     "text": [
      "Дисперсия:  796.81\n",
      "Стандартное отклонение:  28.23\n",
      "Среднее количество:  33.38\n"
     ]
    }
   ],
   "source": [
    "variance = np.var(smart_df['sms_total_in_month'], ddof=1)\n",
    "print('Дисперсия: ', variance.round(2))\n",
    "print('Стандартное отклонение: ', np.sqrt(variance).round(2))\n",
    "print('Среднее количество: ', smart_df['sms_total_in_month'].mean().round(2))"
   ]
  },
  {
   "cell_type": "code",
   "execution_count": 88,
   "metadata": {},
   "outputs": [
    {
     "data": {
      "image/png": "[encoded data removed]",
      "text/plain": [
       "<Figure size 432x288 with 1 Axes>"
      ]
     },
     "metadata": {
      "needs_background": "light"
     },
     "output_type": "display_data"
    }
   ],
   "source": [
    "sns.distplot(smart_df['sms_total_in_month'], hist=True, \n",
    "             bins=20, color = 'g',\n",
    "             hist_kws={'edgecolor':'b'}).set_title('Анализ сообщений Smart')\n",
    "\n",
    "plt.xlabel(\"Кол-во сообщений в месяц\") # подпись к оси X\n",
    "plt.ylabel(\"Частота\"); # подпись к оси Y"
   ]
  },
  {
   "cell_type": "markdown",
   "metadata": {},
   "source": [
    "Распределение скошено вправо - 25% от всех месяцев использовали менее 10 сообщений.  \n",
    "А 75% абонентов - укладывались в пакетные 50 сообщений.  \n",
    "Только 25% отправляли дополнительные сообщения.  \n",
    "Среднее количество отправляемых сообшений 33 немного больше среднего по лимиту тарифа (т.е. 25 сообщений из 50)"
   ]
  },
  {
   "cell_type": "code",
   "execution_count": 89,
   "metadata": {},
   "outputs": [
    {
     "data": {
      "text/plain": [
       "0.03163587421999266"
      ]
     },
     "execution_count": 89,
     "metadata": {},
     "output_type": "execute_result"
    }
   ],
   "source": [
    "(smart_df.query('messages_overrun > 0')['messages_overrun'].sum() * 3) / (2229 * 550)"
   ]
  },
  {
   "cell_type": "markdown",
   "metadata": {},
   "source": [
    "Выручка от дополнительных сообщений составляет 3% к абонентской плате        "
   ]
  },
  {
   "cell_type": "code",
   "execution_count": 90,
   "metadata": {},
   "outputs": [
    {
     "name": "stdout",
     "output_type": "stream",
     "text": [
      "Кол-во дополнительных сообщений: 12928.0\n"
     ]
    },
    {
     "data": {
      "text/plain": [
       "1.348844019391024"
      ]
     },
     "execution_count": 90,
     "metadata": {},
     "output_type": "execute_result"
    }
   ],
   "source": [
    "print('Кол-во дополнительных сообщений:', smart_df.query('messages_overrun > 0')['messages_overrun'].sum())\n",
    "((smart_df.query('messages_overrun > 0')['messages_overrun'].sum() * 3) / smart_df['income'].sum()) * 100"
   ]
  },
  {
   "cell_type": "markdown",
   "metadata": {},
   "source": [
    "Выручка от дополнительных сообщений составляет всего 0,3% ко всей выручке по тарифу.  \n",
    "Это вполне объяснимо, так как при использовании интернета потребность в SMS практически отпала.      "
   ]
  },
  {
   "cell_type": "markdown",
   "metadata": {},
   "source": [
    "**Выводы:**  \n",
    "\n",
    "В тариф Smart включено 50 сообщений, 15 ГБ, 500 минут, абонент плата - 550 руб.      \n",
    "- 25% абонентов используют дополнительные сообщения.\n",
    "- Больше 75% абонентов используют дополнительный объём интернет-трафика.\n",
    "- Более 25% абонентов используют дополнительные минуты. \n",
    "- Средний ежемесячный платёж в 2 раза превышает абонентскую плату, преимущественно из-за дополнителных Гб. "
   ]
  },
  {
   "cell_type": "markdown",
   "metadata": {},
   "source": [
    "### Анализ тарифа 'Ultra'\n"
   ]
  },
  {
   "cell_type": "code",
   "execution_count": 91,
   "metadata": {
    "scrolled": true
   },
   "outputs": [
    {
     "data": {
      "text/html": [
       "<div>\n",
       "<style scoped>\n",
       "    .dataframe tbody tr th:only-of-type {\n",
       "        vertical-align: middle;\n",
       "    }\n",
       "\n",
       "    .dataframe tbody tr th {\n",
       "        vertical-align: top;\n",
       "    }\n",
       "\n",
       "    .dataframe thead th {\n",
       "        text-align: right;\n",
       "    }\n",
       "</style>\n",
       "<table border=\"1\" class=\"dataframe\">\n",
       "  <thead>\n",
       "    <tr style=\"text-align: right;\">\n",
       "      <th></th>\n",
       "      <th>user_id</th>\n",
       "      <th>month</th>\n",
       "      <th>month_calls_duration</th>\n",
       "      <th>calls_total_in_month</th>\n",
       "      <th>sms_total_in_month</th>\n",
       "      <th>gb_total_in_month</th>\n",
       "      <th>age</th>\n",
       "      <th>messages_included</th>\n",
       "      <th>gb_per_month_included</th>\n",
       "      <th>minutes_included</th>\n",
       "      <th>rub_monthly_fee</th>\n",
       "      <th>rub_per_gb</th>\n",
       "      <th>rub_per_message</th>\n",
       "      <th>rub_per_minute</th>\n",
       "      <th>minutes_overrun</th>\n",
       "      <th>messages_overrun</th>\n",
       "      <th>gb_overrun</th>\n",
       "      <th>revenue</th>\n",
       "      <th>income</th>\n",
       "    </tr>\n",
       "  </thead>\n",
       "  <tbody>\n",
       "    <tr>\n",
       "      <td>count</td>\n",
       "      <td>985.0</td>\n",
       "      <td>985.0</td>\n",
       "      <td>985.0</td>\n",
       "      <td>985.0</td>\n",
       "      <td>985.0</td>\n",
       "      <td>985.0</td>\n",
       "      <td>985.0</td>\n",
       "      <td>985.0</td>\n",
       "      <td>985.0</td>\n",
       "      <td>985.0</td>\n",
       "      <td>985.0</td>\n",
       "      <td>985.0</td>\n",
       "      <td>985.0</td>\n",
       "      <td>985.0</td>\n",
       "      <td>985.0</td>\n",
       "      <td>985.0</td>\n",
       "      <td>985.0</td>\n",
       "      <td>985.0</td>\n",
       "      <td>985.0</td>\n",
       "    </tr>\n",
       "    <tr>\n",
       "      <td>mean</td>\n",
       "      <td>1263.0</td>\n",
       "      <td>8.0</td>\n",
       "      <td>527.0</td>\n",
       "      <td>73.0</td>\n",
       "      <td>49.0</td>\n",
       "      <td>19.0</td>\n",
       "      <td>47.0</td>\n",
       "      <td>1000.0</td>\n",
       "      <td>30.0</td>\n",
       "      <td>3000.0</td>\n",
       "      <td>1950.0</td>\n",
       "      <td>150.0</td>\n",
       "      <td>1.0</td>\n",
       "      <td>1.0</td>\n",
       "      <td>0.0</td>\n",
       "      <td>0.0</td>\n",
       "      <td>1.0</td>\n",
       "      <td>120.0</td>\n",
       "      <td>2070.0</td>\n",
       "    </tr>\n",
       "    <tr>\n",
       "      <td>std</td>\n",
       "      <td>141.0</td>\n",
       "      <td>3.0</td>\n",
       "      <td>318.0</td>\n",
       "      <td>44.0</td>\n",
       "      <td>48.0</td>\n",
       "      <td>10.0</td>\n",
       "      <td>17.0</td>\n",
       "      <td>0.0</td>\n",
       "      <td>0.0</td>\n",
       "      <td>0.0</td>\n",
       "      <td>0.0</td>\n",
       "      <td>0.0</td>\n",
       "      <td>0.0</td>\n",
       "      <td>0.0</td>\n",
       "      <td>0.0</td>\n",
       "      <td>0.0</td>\n",
       "      <td>3.0</td>\n",
       "      <td>376.0</td>\n",
       "      <td>376.0</td>\n",
       "    </tr>\n",
       "    <tr>\n",
       "      <td>min</td>\n",
       "      <td>1000.0</td>\n",
       "      <td>1.0</td>\n",
       "      <td>0.0</td>\n",
       "      <td>0.0</td>\n",
       "      <td>0.0</td>\n",
       "      <td>0.0</td>\n",
       "      <td>18.0</td>\n",
       "      <td>1000.0</td>\n",
       "      <td>30.0</td>\n",
       "      <td>3000.0</td>\n",
       "      <td>1950.0</td>\n",
       "      <td>150.0</td>\n",
       "      <td>1.0</td>\n",
       "      <td>1.0</td>\n",
       "      <td>0.0</td>\n",
       "      <td>0.0</td>\n",
       "      <td>0.0</td>\n",
       "      <td>0.0</td>\n",
       "      <td>1950.0</td>\n",
       "    </tr>\n",
       "    <tr>\n",
       "      <td>25%</td>\n",
       "      <td>1143.0</td>\n",
       "      <td>6.0</td>\n",
       "      <td>284.0</td>\n",
       "      <td>41.0</td>\n",
       "      <td>6.0</td>\n",
       "      <td>12.0</td>\n",
       "      <td>30.0</td>\n",
       "      <td>1000.0</td>\n",
       "      <td>30.0</td>\n",
       "      <td>3000.0</td>\n",
       "      <td>1950.0</td>\n",
       "      <td>150.0</td>\n",
       "      <td>1.0</td>\n",
       "      <td>1.0</td>\n",
       "      <td>0.0</td>\n",
       "      <td>0.0</td>\n",
       "      <td>0.0</td>\n",
       "      <td>0.0</td>\n",
       "      <td>1950.0</td>\n",
       "    </tr>\n",
       "    <tr>\n",
       "      <td>50%</td>\n",
       "      <td>1277.0</td>\n",
       "      <td>9.0</td>\n",
       "      <td>518.0</td>\n",
       "      <td>74.0</td>\n",
       "      <td>38.0</td>\n",
       "      <td>19.0</td>\n",
       "      <td>45.0</td>\n",
       "      <td>1000.0</td>\n",
       "      <td>30.0</td>\n",
       "      <td>3000.0</td>\n",
       "      <td>1950.0</td>\n",
       "      <td>150.0</td>\n",
       "      <td>1.0</td>\n",
       "      <td>1.0</td>\n",
       "      <td>0.0</td>\n",
       "      <td>0.0</td>\n",
       "      <td>0.0</td>\n",
       "      <td>0.0</td>\n",
       "      <td>1950.0</td>\n",
       "    </tr>\n",
       "    <tr>\n",
       "      <td>75%</td>\n",
       "      <td>1381.0</td>\n",
       "      <td>11.0</td>\n",
       "      <td>752.0</td>\n",
       "      <td>104.0</td>\n",
       "      <td>79.0</td>\n",
       "      <td>27.0</td>\n",
       "      <td>63.0</td>\n",
       "      <td>1000.0</td>\n",
       "      <td>30.0</td>\n",
       "      <td>3000.0</td>\n",
       "      <td>1950.0</td>\n",
       "      <td>150.0</td>\n",
       "      <td>1.0</td>\n",
       "      <td>1.0</td>\n",
       "      <td>0.0</td>\n",
       "      <td>0.0</td>\n",
       "      <td>0.0</td>\n",
       "      <td>0.0</td>\n",
       "      <td>1950.0</td>\n",
       "    </tr>\n",
       "    <tr>\n",
       "      <td>max</td>\n",
       "      <td>1495.0</td>\n",
       "      <td>12.0</td>\n",
       "      <td>1673.0</td>\n",
       "      <td>244.0</td>\n",
       "      <td>224.0</td>\n",
       "      <td>49.0</td>\n",
       "      <td>75.0</td>\n",
       "      <td>1000.0</td>\n",
       "      <td>30.0</td>\n",
       "      <td>3000.0</td>\n",
       "      <td>1950.0</td>\n",
       "      <td>150.0</td>\n",
       "      <td>1.0</td>\n",
       "      <td>1.0</td>\n",
       "      <td>0.0</td>\n",
       "      <td>0.0</td>\n",
       "      <td>19.0</td>\n",
       "      <td>2850.0</td>\n",
       "      <td>4800.0</td>\n",
       "    </tr>\n",
       "  </tbody>\n",
       "</table>\n",
       "</div>"
      ],
      "text/plain": [
       "       user_id  month  month_calls_duration  calls_total_in_month  \\\n",
       "count    985.0  985.0                 985.0                 985.0   \n",
       "mean    1263.0    8.0                 527.0                  73.0   \n",
       "std      141.0    3.0                 318.0                  44.0   \n",
       "min     1000.0    1.0                   0.0                   0.0   \n",
       "25%     1143.0    6.0                 284.0                  41.0   \n",
       "50%     1277.0    9.0                 518.0                  74.0   \n",
       "75%     1381.0   11.0                 752.0                 104.0   \n",
       "max     1495.0   12.0                1673.0                 244.0   \n",
       "\n",
       "       sms_total_in_month  gb_total_in_month    age  messages_included  \\\n",
       "count               985.0              985.0  985.0              985.0   \n",
       "mean                 49.0               19.0   47.0             1000.0   \n",
       "std                  48.0               10.0   17.0                0.0   \n",
       "min                   0.0                0.0   18.0             1000.0   \n",
       "25%                   6.0               12.0   30.0             1000.0   \n",
       "50%                  38.0               19.0   45.0             1000.0   \n",
       "75%                  79.0               27.0   63.0             1000.0   \n",
       "max                 224.0               49.0   75.0             1000.0   \n",
       "\n",
       "       gb_per_month_included  minutes_included  rub_monthly_fee  rub_per_gb  \\\n",
       "count                  985.0             985.0            985.0       985.0   \n",
       "mean                    30.0            3000.0           1950.0       150.0   \n",
       "std                      0.0               0.0              0.0         0.0   \n",
       "min                     30.0            3000.0           1950.0       150.0   \n",
       "25%                     30.0            3000.0           1950.0       150.0   \n",
       "50%                     30.0            3000.0           1950.0       150.0   \n",
       "75%                     30.0            3000.0           1950.0       150.0   \n",
       "max                     30.0            3000.0           1950.0       150.0   \n",
       "\n",
       "       rub_per_message  rub_per_minute  minutes_overrun  messages_overrun  \\\n",
       "count            985.0           985.0            985.0             985.0   \n",
       "mean               1.0             1.0              0.0               0.0   \n",
       "std                0.0             0.0              0.0               0.0   \n",
       "min                1.0             1.0              0.0               0.0   \n",
       "25%                1.0             1.0              0.0               0.0   \n",
       "50%                1.0             1.0              0.0               0.0   \n",
       "75%                1.0             1.0              0.0               0.0   \n",
       "max                1.0             1.0              0.0               0.0   \n",
       "\n",
       "       gb_overrun  revenue  income  \n",
       "count       985.0    985.0   985.0  \n",
       "mean          1.0    120.0  2070.0  \n",
       "std           3.0    376.0   376.0  \n",
       "min           0.0      0.0  1950.0  \n",
       "25%           0.0      0.0  1950.0  \n",
       "50%           0.0      0.0  1950.0  \n",
       "75%           0.0      0.0  1950.0  \n",
       "max          19.0   2850.0  4800.0  "
      ]
     },
     "execution_count": 91,
     "metadata": {},
     "output_type": "execute_result"
    }
   ],
   "source": [
    "ultra_df=df.query('tariff == \"ultra\"')\n",
    "ultra_df.describe().round()"
   ]
  },
  {
   "cell_type": "code",
   "execution_count": 92,
   "metadata": {
    "scrolled": false
   },
   "outputs": [
    {
     "data": {
      "text/plain": [
       "<matplotlib.axes._subplots.AxesSubplot at 0x7f90d59382d0>"
      ]
     },
     "execution_count": 92,
     "metadata": {},
     "output_type": "execute_result"
    },
    {
     "data": {
      "image/png": "[encoded data removed]",
      "text/plain": [
       "<Figure size 216x432 with 1 Axes>"
      ]
     },
     "metadata": {
      "needs_background": "light"
     },
     "output_type": "display_data"
    }
   ],
   "source": [
    "ultra_df.boxplot('income', figsize=(3,6))"
   ]
  },
  {
   "cell_type": "code",
   "execution_count": 93,
   "metadata": {
    "scrolled": true
   },
   "outputs": [
    {
     "data": {
      "text/plain": [
       "134"
      ]
     },
     "execution_count": 93,
     "metadata": {},
     "output_type": "execute_result"
    }
   ],
   "source": [
    "#Сколько наблюдений превышают плату за тариф\n",
    "ultra_df.query('income > 1950')['income'].count()"
   ]
  },
  {
   "cell_type": "code",
   "execution_count": 94,
   "metadata": {},
   "outputs": [
    {
     "data": {
      "text/plain": [
       "13.604060913705585"
      ]
     },
     "execution_count": 94,
     "metadata": {},
     "output_type": "execute_result"
    }
   ],
   "source": [
    "#Сколько % наблюдений превышают плату за тариф\n",
    "ultra_df.query('income > 1950')['income'].count() / 985 * 100"
   ]
  },
  {
   "cell_type": "code",
   "execution_count": 95,
   "metadata": {
    "scrolled": true
   },
   "outputs": [
    {
     "data": {
      "text/plain": [
       "1950.0    851\n",
       "2250.0     21\n",
       "2400.0     18\n",
       "2550.0     13\n",
       "2100.0     12\n",
       "2700.0     10\n",
       "3000.0     10\n",
       "3300.0      9\n",
       "3150.0      9\n",
       "3750.0      9\n",
       "2850.0      7\n",
       "3900.0      6\n",
       "3450.0      4\n",
       "3600.0      2\n",
       "4200.0      1\n",
       "4650.0      1\n",
       "4050.0      1\n",
       "4800.0      1\n",
       "Name: income, dtype: int64"
      ]
     },
     "execution_count": 95,
     "metadata": {},
     "output_type": "execute_result"
    }
   ],
   "source": [
    "#Какие суммы платят те, кто выходят за рамки тарифа\n",
    "ultra_df['income'].value_counts()"
   ]
  },
  {
   "cell_type": "markdown",
   "metadata": {},
   "source": [
    "#### Анализ звонков"
   ]
  },
  {
   "cell_type": "code",
   "execution_count": 96,
   "metadata": {},
   "outputs": [
    {
     "data": {
      "text/plain": [
       "count     985.0\n",
       "mean      527.0\n",
       "std       318.0\n",
       "min         0.0\n",
       "25%       284.0\n",
       "50%       518.0\n",
       "75%       752.0\n",
       "max      1673.0\n",
       "Name: month_calls_duration, dtype: float64"
      ]
     },
     "execution_count": 96,
     "metadata": {},
     "output_type": "execute_result"
    }
   ],
   "source": [
    "ultra_df['month_calls_duration'].describe().round()"
   ]
  },
  {
   "cell_type": "code",
   "execution_count": 97,
   "metadata": {},
   "outputs": [
    {
     "data": {
      "image/png": "[encoded data removed]",
      "text/plain": [
       "<Figure size 432x432 with 1 Axes>"
      ]
     },
     "metadata": {
      "needs_background": "light"
     },
     "output_type": "display_data"
    }
   ],
   "source": [
    "ultra_df.boxplot('month_calls_duration', figsize=(6,6))\n",
    "plt.xlabel('Продолжительность звонков Smart');"
   ]
  },
  {
   "cell_type": "code",
   "execution_count": 98,
   "metadata": {},
   "outputs": [
    {
     "data": {
      "image/png": "[encoded data removed]",
      "text/plain": [
       "<Figure size 720x720 with 1 Axes>"
      ]
     },
     "metadata": {
      "needs_background": "light"
     },
     "output_type": "display_data"
    }
   ],
   "source": [
    "ultra_df.boxplot('month_calls_duration', by='month', figsize=(10,10))\n",
    "plt.xlabel('Динамика звонков по месяцам');"
   ]
  },
  {
   "cell_type": "code",
   "execution_count": 99,
   "metadata": {},
   "outputs": [
    {
     "name": "stdout",
     "output_type": "stream",
     "text": [
      "Дисперсия:  100873.63\n",
      "Стандартное отклонение:  317.61\n",
      "Среднее количество:  526.62\n"
     ]
    }
   ],
   "source": [
    "variance = np.var(ultra_df['month_calls_duration'], ddof=1)\n",
    "print('Дисперсия: ', variance.round(2))\n",
    "print('Стандартное отклонение: ', np.sqrt(variance).round(2))\n",
    "print('Среднее количество: ', ultra_df['month_calls_duration'].mean().round(2))"
   ]
  },
  {
   "cell_type": "code",
   "execution_count": 100,
   "metadata": {
    "scrolled": true
   },
   "outputs": [
    {
     "data": {
      "text/html": [
       "<style  type=\"text/css\" >\n",
       "</style><table id=\"T_a3082384_770b_11ec_bc30_02420a394c6d\" ><thead>    <tr>        <th class=\"blank\" ></th>        <th class=\"index_name level0\" >tariff</th>        <th class=\"col_heading level0 col0\" >smart</th>        <th class=\"col_heading level0 col1\" >ultra</th>    </tr></thead><tbody>\n",
       "                <tr>\n",
       "                        <th id=\"T_a3082384_770b_11ec_bc30_02420a394c6dlevel0_row0\" class=\"row_heading level0 row0\" rowspan=3>mean</th>\n",
       "                        <th id=\"T_a3082384_770b_11ec_bc30_02420a394c6dlevel1_row0\" class=\"row_heading level1 row0\" >gb_total_in_month</th>\n",
       "                        <td id=\"T_a3082384_770b_11ec_bc30_02420a394c6drow0_col0\" class=\"data row0 col0\" >16.33</td>\n",
       "                        <td id=\"T_a3082384_770b_11ec_bc30_02420a394c6drow0_col1\" class=\"data row0 col1\" >19.49</td>\n",
       "            </tr>\n",
       "            <tr>\n",
       "                                <th id=\"T_a3082384_770b_11ec_bc30_02420a394c6dlevel1_row1\" class=\"row_heading level1 row1\" >month_calls_duration</th>\n",
       "                        <td id=\"T_a3082384_770b_11ec_bc30_02420a394c6drow1_col0\" class=\"data row1 col0\" >417.93</td>\n",
       "                        <td id=\"T_a3082384_770b_11ec_bc30_02420a394c6drow1_col1\" class=\"data row1 col1\" >526.62</td>\n",
       "            </tr>\n",
       "            <tr>\n",
       "                                <th id=\"T_a3082384_770b_11ec_bc30_02420a394c6dlevel1_row2\" class=\"row_heading level1 row2\" >sms_total_in_month</th>\n",
       "                        <td id=\"T_a3082384_770b_11ec_bc30_02420a394c6drow2_col0\" class=\"data row2 col0\" >33.38</td>\n",
       "                        <td id=\"T_a3082384_770b_11ec_bc30_02420a394c6drow2_col1\" class=\"data row2 col1\" >49.36</td>\n",
       "            </tr>\n",
       "            <tr>\n",
       "                        <th id=\"T_a3082384_770b_11ec_bc30_02420a394c6dlevel0_row3\" class=\"row_heading level0 row3\" rowspan=3>std</th>\n",
       "                        <th id=\"T_a3082384_770b_11ec_bc30_02420a394c6dlevel1_row3\" class=\"row_heading level1 row3\" >gb_total_in_month</th>\n",
       "                        <td id=\"T_a3082384_770b_11ec_bc30_02420a394c6drow3_col0\" class=\"data row3 col0\" >5.75</td>\n",
       "                        <td id=\"T_a3082384_770b_11ec_bc30_02420a394c6drow3_col1\" class=\"data row3 col1\" >9.85</td>\n",
       "            </tr>\n",
       "            <tr>\n",
       "                                <th id=\"T_a3082384_770b_11ec_bc30_02420a394c6dlevel1_row4\" class=\"row_heading level1 row4\" >month_calls_duration</th>\n",
       "                        <td id=\"T_a3082384_770b_11ec_bc30_02420a394c6drow4_col0\" class=\"data row4 col0\" >190.31</td>\n",
       "                        <td id=\"T_a3082384_770b_11ec_bc30_02420a394c6drow4_col1\" class=\"data row4 col1\" >317.61</td>\n",
       "            </tr>\n",
       "            <tr>\n",
       "                                <th id=\"T_a3082384_770b_11ec_bc30_02420a394c6dlevel1_row5\" class=\"row_heading level1 row5\" >sms_total_in_month</th>\n",
       "                        <td id=\"T_a3082384_770b_11ec_bc30_02420a394c6drow5_col0\" class=\"data row5 col0\" >28.23</td>\n",
       "                        <td id=\"T_a3082384_770b_11ec_bc30_02420a394c6drow5_col1\" class=\"data row5 col1\" >47.80</td>\n",
       "            </tr>\n",
       "            <tr>\n",
       "                        <th id=\"T_a3082384_770b_11ec_bc30_02420a394c6dlevel0_row6\" class=\"row_heading level0 row6\" rowspan=3>var</th>\n",
       "                        <th id=\"T_a3082384_770b_11ec_bc30_02420a394c6dlevel1_row6\" class=\"row_heading level1 row6\" >gb_total_in_month</th>\n",
       "                        <td id=\"T_a3082384_770b_11ec_bc30_02420a394c6drow6_col0\" class=\"data row6 col0\" >33.03</td>\n",
       "                        <td id=\"T_a3082384_770b_11ec_bc30_02420a394c6drow6_col1\" class=\"data row6 col1\" >97.09</td>\n",
       "            </tr>\n",
       "            <tr>\n",
       "                                <th id=\"T_a3082384_770b_11ec_bc30_02420a394c6dlevel1_row7\" class=\"row_heading level1 row7\" >month_calls_duration</th>\n",
       "                        <td id=\"T_a3082384_770b_11ec_bc30_02420a394c6drow7_col0\" class=\"data row7 col0\" >36219.32</td>\n",
       "                        <td id=\"T_a3082384_770b_11ec_bc30_02420a394c6drow7_col1\" class=\"data row7 col1\" >100873.63</td>\n",
       "            </tr>\n",
       "            <tr>\n",
       "                                <th id=\"T_a3082384_770b_11ec_bc30_02420a394c6dlevel1_row8\" class=\"row_heading level1 row8\" >sms_total_in_month</th>\n",
       "                        <td id=\"T_a3082384_770b_11ec_bc30_02420a394c6drow8_col0\" class=\"data row8 col0\" >796.81</td>\n",
       "                        <td id=\"T_a3082384_770b_11ec_bc30_02420a394c6drow8_col1\" class=\"data row8 col1\" >2285.27</td>\n",
       "            </tr>\n",
       "    </tbody></table>"
      ],
      "text/plain": [
       "<pandas.io.formats.style.Styler at 0x7f90d4e28950>"
      ]
     },
     "execution_count": 100,
     "metadata": {},
     "output_type": "execute_result"
    }
   ],
   "source": [
    "df.pivot_table(index='tariff',  \n",
    "                 values=['month_calls_duration', 'gb_total_in_month', 'sms_total_in_month'], \n",
    "                 aggfunc=['mean', 'std', 'var']).T.style.format('{:.2f}')"
   ]
  },
  {
   "cell_type": "code",
   "execution_count": 101,
   "metadata": {},
   "outputs": [
    {
     "data": {
      "image/png": "[encoded data removed]",
      "text/plain": [
       "<Figure size 432x288 with 1 Axes>"
      ]
     },
     "metadata": {
      "needs_background": "light"
     },
     "output_type": "display_data"
    }
   ],
   "source": [
    "sns.distplot(ultra_df['month_calls_duration'], hist=True, \n",
    "             bins=30, color = 'g',\n",
    "             hist_kws={'edgecolor':'b'}).set_title('Анализ звонков Ultra')\n",
    "\n",
    "plt.xlabel(\"Минут в месяц\") \n",
    "plt.ylabel(\"Частота\");"
   ]
  },
  {
   "cell_type": "markdown",
   "metadata": {},
   "source": [
    "Распределение чуть скошено влево, распределение умеренно ассиметричное.  \n",
    "Среднее значение и медиана лежат близко друг к другу. \n",
    "Почти половина абонентов используют до 500 минут в месяц из возможных 3000 минут.\n",
    "Высока частота пользователей, которые минимально пользуются минутами.\n",
    "Абонентов превышающих тарифный лимит по минутам не обнаружено, значит нет и дополнительной выручки."
   ]
  },
  {
   "cell_type": "markdown",
   "metadata": {},
   "source": [
    "#### Анализ интернет-трафика"
   ]
  },
  {
   "cell_type": "code",
   "execution_count": 102,
   "metadata": {
    "scrolled": true
   },
   "outputs": [
    {
     "data": {
      "text/plain": [
       "count    985.0\n",
       "mean      19.0\n",
       "std       10.0\n",
       "min        0.0\n",
       "25%       12.0\n",
       "50%       19.0\n",
       "75%       27.0\n",
       "max       49.0\n",
       "Name: gb_total_in_month, dtype: float64"
      ]
     },
     "execution_count": 102,
     "metadata": {},
     "output_type": "execute_result"
    }
   ],
   "source": [
    "ultra_df['gb_total_in_month'].describe().round()"
   ]
  },
  {
   "cell_type": "code",
   "execution_count": 103,
   "metadata": {},
   "outputs": [
    {
     "data": {
      "image/png": "[encoded data removed]",
      "text/plain": [
       "<Figure size 432x432 with 1 Axes>"
      ]
     },
     "metadata": {
      "needs_background": "light"
     },
     "output_type": "display_data"
    }
   ],
   "source": [
    "ultra_df.boxplot('gb_total_in_month', figsize=(6,6))\n",
    "plt.xlabel('Объём трафика');"
   ]
  },
  {
   "cell_type": "code",
   "execution_count": 104,
   "metadata": {},
   "outputs": [
    {
     "data": {
      "image/png": "[encoded data removed]",
      "text/plain": [
       "<Figure size 720x720 with 1 Axes>"
      ]
     },
     "metadata": {
      "needs_background": "light"
     },
     "output_type": "display_data"
    }
   ],
   "source": [
    "ultra_df.boxplot('gb_total_in_month', by='month', figsize=(10,10))\n",
    "plt.xlabel('Динамика трафика по месяцам');"
   ]
  },
  {
   "cell_type": "code",
   "execution_count": 105,
   "metadata": {},
   "outputs": [
    {
     "name": "stdout",
     "output_type": "stream",
     "text": [
      "Дисперсия:  97.09\n",
      "Стандартное отклонение:  9.85\n",
      "Среднее количество:  19.49\n"
     ]
    }
   ],
   "source": [
    "variance = np.var(ultra_df['gb_total_in_month'], ddof=1)\n",
    "print('Дисперсия: ', variance.round(2))\n",
    "print('Стандартное отклонение: ', np.sqrt(variance).round(2))\n",
    "print('Среднее количество: ', ultra_df['gb_total_in_month'].mean().round(2))"
   ]
  },
  {
   "cell_type": "code",
   "execution_count": 106,
   "metadata": {
    "scrolled": true
   },
   "outputs": [
    {
     "data": {
      "image/png": "[encoded data removed]",
      "text/plain": [
       "<Figure size 432x288 with 1 Axes>"
      ]
     },
     "metadata": {
      "needs_background": "light"
     },
     "output_type": "display_data"
    }
   ],
   "source": [
    "sns.distplot(ultra_df['gb_total_in_month'], hist=True, \n",
    "             bins=30, color = 'g',\n",
    "             hist_kws={'edgecolor':'b'}).set_title('Анализ интернета-трафика')\n",
    "plt.xlabel(\"Гб в месяц\")\n",
    "plt.ylabel(\"Частота\");"
   ]
  },
  {
   "cell_type": "markdown",
   "metadata": {},
   "source": [
    "По тарифу Ultra лимит интернета 30Гб.  \n",
    "- Распределение нормальное, т.к. интернетом пользуются полноценно, звонки и сообщения часто через приложения и соответственно при помощи интернета. \n",
    "- Среднее и медиана 19-20 Гб, что очень схоже.\n",
    "- 75% абонентов укладываются в лимит.    "
   ]
  },
  {
   "cell_type": "code",
   "execution_count": 107,
   "metadata": {},
   "outputs": [
    {
     "data": {
      "text/plain": [
       "789"
      ]
     },
     "execution_count": 107,
     "metadata": {},
     "output_type": "execute_result"
    }
   ],
   "source": [
    "ultra_df.query('gb_overrun > 0')['gb_overrun'].sum() #кол-во дополнительных gb"
   ]
  },
  {
   "cell_type": "code",
   "execution_count": 108,
   "metadata": {},
   "outputs": [
    {
     "data": {
      "text/plain": [
       "4.12"
      ]
     },
     "execution_count": 108,
     "metadata": {},
     "output_type": "execute_result"
    }
   ],
   "source": [
    "(((ultra_df.query('gb_overrun > 0')['gb_overrun'].sum() * 150) / smart_df['income'].sum()) * 100).round(2)"
   ]
  },
  {
   "cell_type": "code",
   "execution_count": 109,
   "metadata": {},
   "outputs": [
    {
     "data": {
      "text/plain": [
       "6.16"
      ]
     },
     "execution_count": 109,
     "metadata": {},
     "output_type": "execute_result"
    }
   ],
   "source": [
    "((ultra_df.query('gb_overrun > 0')['gb_overrun'].sum() * 150) / ((985 * 1950) -1)* 100).round(2)"
   ]
  },
  {
   "cell_type": "markdown",
   "metadata": {},
   "source": [
    "Количество дополнительных Гб 795, что составляет 4.13% от общей выручки по тарифу. Выручка за дополнительные Гб на 6.21% больше выручки по тарифу (985 наблюдений * 1950 руб/мес) ."
   ]
  },
  {
   "cell_type": "markdown",
   "metadata": {},
   "source": [
    "#### Анализ сообщений"
   ]
  },
  {
   "cell_type": "code",
   "execution_count": 110,
   "metadata": {
    "scrolled": true
   },
   "outputs": [
    {
     "data": {
      "text/plain": [
       "count    985.0\n",
       "mean      49.0\n",
       "std       48.0\n",
       "min        0.0\n",
       "25%        6.0\n",
       "50%       38.0\n",
       "75%       79.0\n",
       "max      224.0\n",
       "Name: sms_total_in_month, dtype: float64"
      ]
     },
     "execution_count": 110,
     "metadata": {},
     "output_type": "execute_result"
    }
   ],
   "source": [
    "ultra_df['sms_total_in_month'].describe().round()"
   ]
  },
  {
   "cell_type": "code",
   "execution_count": 111,
   "metadata": {},
   "outputs": [
    {
     "data": {
      "image/png": "[encoded data removed]",
      "text/plain": [
       "<Figure size 432x432 with 1 Axes>"
      ]
     },
     "metadata": {
      "needs_background": "light"
     },
     "output_type": "display_data"
    }
   ],
   "source": [
    "ultra_df.boxplot('sms_total_in_month', figsize=(6,6))\n",
    "plt.xlabel('Сообщения Smart');"
   ]
  },
  {
   "cell_type": "code",
   "execution_count": 112,
   "metadata": {},
   "outputs": [
    {
     "data": {
      "image/png": "[encoded data removed]",
      "text/plain": [
       "<Figure size 720x720 with 1 Axes>"
      ]
     },
     "metadata": {
      "needs_background": "light"
     },
     "output_type": "display_data"
    }
   ],
   "source": [
    "ultra_df.boxplot('sms_total_in_month', by='month', figsize=(10,10))\n",
    "plt.xlabel('Динамика SMS по месяцам');"
   ]
  },
  {
   "cell_type": "code",
   "execution_count": 113,
   "metadata": {},
   "outputs": [
    {
     "name": "stdout",
     "output_type": "stream",
     "text": [
      "Дисперсия:  2285.27\n",
      "Стандартное отклонение:  47.8\n",
      "Среднее количество:  49.36\n"
     ]
    }
   ],
   "source": [
    "variance = np.var(ultra_df['sms_total_in_month'], ddof=1)\n",
    "print('Дисперсия: ', variance.round(2))\n",
    "print('Стандартное отклонение: ', np.sqrt(variance).round(2))\n",
    "print('Среднее количество: ', ultra_df['sms_total_in_month'].mean().round(2))"
   ]
  },
  {
   "cell_type": "code",
   "execution_count": 114,
   "metadata": {},
   "outputs": [
    {
     "data": {
      "image/png": "[encoded data removed]",
      "text/plain": [
       "<Figure size 432x288 with 1 Axes>"
      ]
     },
     "metadata": {
      "needs_background": "light"
     },
     "output_type": "display_data"
    }
   ],
   "source": [
    "sns.distplot(ultra_df['sms_total_in_month'], hist=True, \n",
    "             bins=20, color = 'g',\n",
    "             hist_kws={'edgecolor':'b'}).set_title('Анализ сообщений Smart')\n",
    "\n",
    "plt.xlabel(\"Кол-во сообщений в месяц\") # подпись к оси X\n",
    "plt.ylabel(\"Частота\"); # подпись к оси Y"
   ]
  },
  {
   "cell_type": "markdown",
   "metadata": {},
   "source": [
    "В этом тарифе тоже наблюдается правосторонняя асимметрия в распределении по использованию сообщений.  \n",
    "SMS практически изжили себя, и включать в пакет тарифа 1000 SMS довольно выгодно со стороны оператора."
   ]
  },
  {
   "cell_type": "code",
   "execution_count": 115,
   "metadata": {},
   "outputs": [
    {
     "name": "stdout",
     "output_type": "stream",
     "text": [
      "Уложились бы в лимит 50 SMS: 586\n"
     ]
    },
    {
     "data": {
      "text/plain": [
       "59.492385786802025"
      ]
     },
     "execution_count": 115,
     "metadata": {},
     "output_type": "execute_result"
    }
   ],
   "source": [
    "print('Уложились бы в лимит 50 SMS:', ultra_df.query('sms_total_in_month <= 50')['sms_total_in_month'].count())\n",
    "ultra_df.query('sms_total_in_month <= 50')['sms_total_in_month'].count()/ 985 * 100"
   ]
  },
  {
   "cell_type": "markdown",
   "metadata": {},
   "source": [
    "Почти 60% абонентов тарифа Ultra уложились бы в лимит Smart (50 сообщений)."
   ]
  },
  {
   "cell_type": "markdown",
   "metadata": {},
   "source": [
    "**Выводы:**  \n",
    "\n",
    "В тариф Ultra входит 1000 сообщений, 30 гб, 3000 минут, абонет.плата - 1950р. \n",
    "- Максимальное кол-во в месяц сообщений было 224, минут 1673, что не превышает лимит. \n",
    "- А максимальное кол-во Гб в месяц было 49, причем в более чем 75% наблюдений лимит не превышался. \n",
    "- Только 13% наблюдений превышают абонентскую плату за тариф"
   ]
  },
  {
   "cell_type": "markdown",
   "metadata": {},
   "source": [
    "## Проверка гипотез"
   ]
  },
  {
   "cell_type": "markdown",
   "metadata": {},
   "source": [
    "### Проверка гипотезы: средняя выручка пользователей тарифов «Ультра» и «Смарт» различаются"
   ]
  },
  {
   "cell_type": "markdown",
   "metadata": {},
   "source": [
    "Перед проверкой гипотез нужно избавиться от выбросов. Например, методом 3х сигм. Выбросы влияют на распределение t-критерия."
   ]
  },
  {
   "cell_type": "code",
   "execution_count": 116,
   "metadata": {},
   "outputs": [],
   "source": [
    "# Напишем функцию для удаления выбросов\n",
    "\n",
    "def del_outliers(df, column, graphic=0, x = 10, y = 10):\n",
    "    q1 = df[column].quantile(0.25)                 \n",
    "    q3 = df[column].quantile(0.75)\n",
    "    iqr = q3 - q1\n",
    "    iqr_test = (df[column] >= (q1 - 1.5 * iqr)) & (df[column] <= (q3 + 1.5 * iqr))\n",
    "    if graphic == 1:\n",
    "        return df.loc[iqr_test].boxplot([column], figsize=(x,y))\n",
    "    else:\n",
    "        return df.loc[iqr_test]"
   ]
  },
  {
   "cell_type": "code",
   "execution_count": 117,
   "metadata": {},
   "outputs": [],
   "source": [
    "moscow = del_outliers(df.query('city == \"Москва\"'), 'income', 0)\n",
    "moscow = moscow['income']\n",
    "\n",
    "other = del_outliers(df.query('city != \"Москва\"'), 'income', 0)\n",
    "other = other['income']"
   ]
  },
  {
   "cell_type": "code",
   "execution_count": 119,
   "metadata": {},
   "outputs": [],
   "source": [
    "smart = del_outliers(df.query('tariff == \"smart\"'), 'income', 0)\n",
    "smart = smart['income']\n",
    "\n",
    "ultra = del_outliers(df.query('tariff == \"ultra\"'), 'income', 0)\n",
    "ultra = ultra['income']"
   ]
  },
  {
   "cell_type": "code",
   "execution_count": 120,
   "metadata": {
    "scrolled": true
   },
   "outputs": [
    {
     "data": {
      "text/plain": [
       "count    2229.0\n",
       "mean     1290.0\n",
       "std       818.0\n",
       "min       550.0\n",
       "25%       550.0\n",
       "50%      1023.0\n",
       "75%      1750.0\n",
       "max      6770.0\n",
       "Name: income, dtype: float64"
      ]
     },
     "execution_count": 120,
     "metadata": {},
     "output_type": "execute_result"
    }
   ],
   "source": [
    "#Посмотрим выручку по тарифу smart до удаления выбросов\n",
    "df.query('tariff == \"smart\"')['income'].describe().round()"
   ]
  },
  {
   "cell_type": "code",
   "execution_count": 121,
   "metadata": {},
   "outputs": [
    {
     "data": {
      "text/plain": [
       "count    2198.0\n",
       "mean     1246.0\n",
       "std       730.0\n",
       "min       550.0\n",
       "25%       550.0\n",
       "50%      1006.0\n",
       "75%      1750.0\n",
       "max      3550.0\n",
       "Name: income, dtype: float64"
      ]
     },
     "execution_count": 121,
     "metadata": {},
     "output_type": "execute_result"
    }
   ],
   "source": [
    "#Посмотрим выручку по тарифу smart после удаления выбросов\n",
    "smart.describe().round()"
   ]
  },
  {
   "cell_type": "code",
   "execution_count": 122,
   "metadata": {
    "scrolled": true
   },
   "outputs": [
    {
     "data": {
      "text/plain": [
       "count     985.0\n",
       "mean     2070.0\n",
       "std       376.0\n",
       "min      1950.0\n",
       "25%      1950.0\n",
       "50%      1950.0\n",
       "75%      1950.0\n",
       "max      4800.0\n",
       "Name: income, dtype: float64"
      ]
     },
     "execution_count": 122,
     "metadata": {},
     "output_type": "execute_result"
    }
   ],
   "source": [
    "#Посмотрим выручку по тарифу ultra до удаления выбросов\n",
    "df.query('tariff == \"ultra\"')['income'].describe().round()"
   ]
  },
  {
   "cell_type": "code",
   "execution_count": 123,
   "metadata": {
    "scrolled": true
   },
   "outputs": [
    {
     "data": {
      "text/plain": [
       "count     851.0\n",
       "mean     1950.0\n",
       "std         0.0\n",
       "min      1950.0\n",
       "25%      1950.0\n",
       "50%      1950.0\n",
       "75%      1950.0\n",
       "max      1950.0\n",
       "Name: income, dtype: float64"
      ]
     },
     "execution_count": 123,
     "metadata": {},
     "output_type": "execute_result"
    }
   ],
   "source": [
    "#Посмотрим выручку по тарифу ultra после удаления выбросов\n",
    "ultra.describe().round()"
   ]
  },
  {
   "cell_type": "markdown",
   "metadata": {},
   "source": [
    "Средняя выручка по тарифам Смарт и Ультра до удаления выбросов равны 1290 руб. и 2070 руб соответственно.  \n",
    "Средняя выручка по тарифам Смарт и Ультра после удаления выбросов равны 1246 руб. и 1950 руб соответственно.  \n",
    "\n",
    "\n",
    "**Сформулируем гипотезы:**\n",
    "\n",
    "H0: выручка пользователей тарифов «Ультра» и «Смарт» не различается  \n",
    "H1: выручка пользователей тарифов «Ультра» и «Смарт» различается  \n",
    "\n",
    "\n",
    "Используем метод scipy.stats.ttest_ind (array1, array2, equal_var = False). False, потому что дисперсии наших выборок отличаются.\n",
    "Критический уровень значимости 0.01. Пусть вероятность правильности вывода будет 99% и больше"
   ]
  },
  {
   "cell_type": "code",
   "execution_count": 124,
   "metadata": {
    "scrolled": true
   },
   "outputs": [
    {
     "name": "stdout",
     "output_type": "stream",
     "text": [
      "p-значение: 4.2606313931076085e-250\n",
      "Отвергаем нулевую гипотезу\n"
     ]
    }
   ],
   "source": [
    "#до удаления выбросов\n",
    "alpha = 0.01\n",
    "\n",
    "results = st.ttest_ind(df.query('tariff == \"ultra\"')['income'], df.query('tariff == \"smart\"')['income'], equal_var = False)\n",
    "\n",
    "print('p-значение:', results.pvalue)\n",
    "\n",
    "if results.pvalue < alpha:\n",
    "    print('Отвергаем нулевую гипотезу')\n",
    "else:\n",
    "    print('Не получилось отвергнуть нулевую гипотезу') "
   ]
  },
  {
   "cell_type": "markdown",
   "metadata": {},
   "source": [
    "Нулевой гипотезой была гипотеза о неравенстве средних наших выборок и очень маленькое p-value говорит нам о том, вероятность случайного совпадения средних наших выборок ничтожно мало.  \n",
    "Нулевая гипотеза отвергается."
   ]
  },
  {
   "cell_type": "code",
   "execution_count": 125,
   "metadata": {
    "scrolled": false
   },
   "outputs": [
    {
     "name": "stdout",
     "output_type": "stream",
     "text": [
      "p-значение: 4.665521e-316\n",
      "Отвергаем нулевую гипотезу\n"
     ]
    }
   ],
   "source": [
    "#после удаления выбросов\n",
    "alpha = 0.01\n",
    "\n",
    "results = st.ttest_ind(ultra, smart, equal_var = False)\n",
    "\n",
    "print('p-значение:', results.pvalue)\n",
    "\n",
    "if results.pvalue < alpha:\n",
    "    print('Отвергаем нулевую гипотезу')\n",
    "else:\n",
    "    print('Не получилось отвергнуть нулевую гипотезу') "
   ]
  },
  {
   "cell_type": "markdown",
   "metadata": {},
   "source": [
    "**Вывод по гипотезе 1:**\n",
    "\n",
    "Нулевой гипотезой была гипотеза о равенстве средних наших выборок и очень маленькое p-value означает, что вероятность случайного совпадения средних наших выборок ничтожно мало. Нулевая гипотеза отвергается.\n",
    "\n",
    "А значит альтернативная гипотеза о том, что средние наших выборок отличаются, не отвергается!  \n",
    "Выручка между двумя тарифами отличается, но так как гипотеза двухсторонняя, то сама проверка не даёт нам понять в какую именно сторону оно отличается, и что приносит больше выручки.  \n",
    "Но как мы уже выяснили ранее: средняя выручка по тарифам Ультра и Смарт равны 1290 руб. и 2070 руб соответственно. "
   ]
  },
  {
   "cell_type": "markdown",
   "metadata": {},
   "source": [
    "### Проверка гипотезы: средняя выручка пользователей из Москвы отличается от выручки пользователей из других регионов"
   ]
  },
  {
   "cell_type": "code",
   "execution_count": 126,
   "metadata": {},
   "outputs": [
    {
     "name": "stdout",
     "output_type": "stream",
     "text": [
      "Уникальные значения название города\n",
      "Москва             611\n",
      "Санкт-Петербург    270\n",
      "Новосибирск         98\n",
      "Уфа                 95\n",
      "Краснодар           86\n",
      "                  ... \n",
      "Нижневартовск        6\n",
      "Сургут               6\n",
      "Кемерово             5\n",
      "Химки                5\n",
      "Иваново              2\n",
      "Name: city, Length: 76, dtype: int64\n"
     ]
    }
   ],
   "source": [
    "print('Уникальные значения название города')\n",
    "print(df['city'].value_counts())"
   ]
  },
  {
   "cell_type": "code",
   "execution_count": 127,
   "metadata": {
    "scrolled": false
   },
   "outputs": [
    {
     "data": {
      "text/plain": [
       "count     611.0\n",
       "mean     1547.0\n",
       "std       752.0\n",
       "min       550.0\n",
       "25%       780.0\n",
       "50%      1750.0\n",
       "75%      1950.0\n",
       "max      5321.0\n",
       "Name: income, dtype: float64"
      ]
     },
     "execution_count": 127,
     "metadata": {},
     "output_type": "execute_result"
    }
   ],
   "source": [
    "#Посмотрим выручку по Москве до удаления выбросов\n",
    "df.query('city == \"Москва\"')['income'].describe().round()"
   ]
  },
  {
   "cell_type": "code",
   "execution_count": 128,
   "metadata": {},
   "outputs": [
    {
     "data": {
      "text/plain": [
       "count     606.0\n",
       "mean     1525.0\n",
       "std       713.0\n",
       "min       550.0\n",
       "25%       758.0\n",
       "50%      1750.0\n",
       "75%      1950.0\n",
       "max      3450.0\n",
       "Name: income, dtype: float64"
      ]
     },
     "execution_count": 128,
     "metadata": {},
     "output_type": "execute_result"
    }
   ],
   "source": [
    "#Посмотрим выручку по Москве после удаления выбросов\n",
    "moscow.describe().round()"
   ]
  },
  {
   "cell_type": "code",
   "execution_count": 129,
   "metadata": {
    "scrolled": false
   },
   "outputs": [
    {
     "data": {
      "text/plain": [
       "count    2603.0\n",
       "mean     1525.0\n",
       "std       809.0\n",
       "min       550.0\n",
       "25%       750.0\n",
       "50%      1583.0\n",
       "75%      1950.0\n",
       "max      6770.0\n",
       "Name: income, dtype: float64"
      ]
     },
     "execution_count": 129,
     "metadata": {},
     "output_type": "execute_result"
    }
   ],
   "source": [
    "#Посмотрим выручку по другим регионам до удаления выбросов\n",
    "df.query('city != \"Москва\"')['income'].describe().round()"
   ]
  },
  {
   "cell_type": "code",
   "execution_count": 130,
   "metadata": {},
   "outputs": [
    {
     "data": {
      "text/plain": [
       "count    2572.0\n",
       "mean     1490.0\n",
       "std       743.0\n",
       "min       550.0\n",
       "25%       750.0\n",
       "50%      1552.0\n",
       "75%      1950.0\n",
       "max      3750.0\n",
       "Name: income, dtype: float64"
      ]
     },
     "execution_count": 130,
     "metadata": {},
     "output_type": "execute_result"
    }
   ],
   "source": [
    "#Посмотрим выручку по другим регионам до удаления выбросов\n",
    "other.describe().round()"
   ]
  },
  {
   "cell_type": "markdown",
   "metadata": {},
   "source": [
    "Средняя выручка до удаления выбросов пользователей из Москвы и других городов равны 1551 руб. и 1529 руб соответственно. \n",
    "Средняя выручка после удаления выбросов пользователей из Москвы и других городов равны 1529 руб. и 1493 руб соответственно.  \n",
    "Средние выручки практически действительно равны, есть лишь небольшое различие \n",
    "\n",
    "**Сформулируем гипотезы:**\n",
    "\n",
    "H0: средняя выручка пользователей из Москвы не отличается от выручки пользователей из других регионов  \n",
    "H1: средняя выручка пользователей из Москвы отличается от выручки пользователей из других регионов"
   ]
  },
  {
   "cell_type": "code",
   "execution_count": 131,
   "metadata": {},
   "outputs": [
    {
     "name": "stdout",
     "output_type": "stream",
     "text": [
      "p-значение: 0.5440152911670224\n",
      "Не получилось отвергнуть нулевую гипотезу\n"
     ]
    }
   ],
   "source": [
    "#до удаления выбросов\n",
    "alpha = 0.01\n",
    "\n",
    "results = st.ttest_ind(df.query('city == \"Москва\"')['income'], df.query('city != \"Москва\"')['income'])\n",
    "\n",
    "print('p-значение:', results.pvalue)\n",
    "\n",
    "if results.pvalue < alpha:\n",
    "    print('Отвергаем нулевую гипотезу')\n",
    "else:\n",
    "    print('Не получилось отвергнуть нулевую гипотезу') "
   ]
  },
  {
   "cell_type": "code",
   "execution_count": 132,
   "metadata": {},
   "outputs": [
    {
     "name": "stdout",
     "output_type": "stream",
     "text": [
      "p-значение: 0.29404256281786195\n",
      "Не получилось отвергнуть нулевую гипотезу\n"
     ]
    }
   ],
   "source": [
    "#после удаления выбросов\n",
    "alpha = 0.01\n",
    "\n",
    "results = st.ttest_ind(moscow, other)\n",
    "\n",
    "print('p-значение:', results.pvalue)\n",
    "\n",
    "if results.pvalue < alpha:\n",
    "    print('Отвергаем нулевую гипотезу')\n",
    "else:\n",
    "    print('Не получилось отвергнуть нулевую гипотезу') "
   ]
  },
  {
   "cell_type": "markdown",
   "metadata": {},
   "source": [
    "Полученное нами p-value достаточно велик, а значит есть большая вероятность того, что отличие средних значений наших выборок случайно и мы не можем отвергнуть нулевую гипотезу, которая говорит нам о равенстве средних значений.\n",
    "\n",
    "Значит, нашу альтернативную гипотезу о различии средних мы отвергаем!"
   ]
  },
  {
   "cell_type": "markdown",
   "metadata": {},
   "source": [
    "## Результаты исследования"
   ]
  },
  {
   "cell_type": "markdown",
   "metadata": {},
   "source": [
    "### Выводы"
   ]
  },
  {
   "cell_type": "markdown",
   "metadata": {},
   "source": [
    "В ходе исследования тарифов «Смарт» и «Ультра» на небольшой выборке клиентов мы обработали несколько массивов данных.  \n",
    "Мы вывели из предоставленных нам таблиц все необходимые средние значения израсходованных минут, мегабайтов интернет-трафика и сообщений, а также вычислили прибыль по ним по каждому месяцу и посчитали по каждому из клиентов среднюю прибыль для компании. Далее мы разделили всех клиентов по тарифным группам и проверили правильность нашеих гипотез.\n",
    "\n",
    "Самый популярным тарифом оказался Смарт.\n",
    "\n",
    "Оказалось, что средняя выручка по тарифам Смарт и Ультра равны 1290 руб. и 2070 руб соответственно.\n",
    "\n",
    "Мы выяснили, что средние израсходованные количества звонков, сообщений и мегабайт интернет трафика не так сильно отличаются между тарифами, тогда как базовая стоимость тарифов отличается почти в 4 раза.\n",
    "\n",
    "75% абонентов «Смарт» не укладываются в лимит и платит за добольнительный трафик, чем приносит оператору порядка 46% выручки от тарифа. Средний ежемесячный платёж в 2 раза превышает абонентскую плату.\n",
    "\n",
    "Более 25% абонентов «Смарт» используют дополнительные минуты и сообщения. \n",
    "\n",
    "Максимальное кол-во в месяц сообщений минут на тарифе «Ультра» не превышает лимит и не приносит дополнительной выручки. У более чем 75% наблюдений лимит по интернет трафику также не превышался. Только 13% наблюдений превышают абонентскую плату за тариф\n",
    "\n",
    "Средние выручки Москвы и остальных регионов практически равны, есть лишь небольшое различие."
   ]
  },
  {
   "cell_type": "markdown",
   "metadata": {},
   "source": [
    "### Рекомендации"
   ]
  },
  {
   "cell_type": "markdown",
   "metadata": {},
   "source": [
    "Можно рекомендовать оператору скорректировать рекламный бюджет в пользу тарифа Смарт.  \n",
    "Он приносит больше выручки, за счёт того, что его абоненты переплачивают сверх лимита, в отличие от абонентов Ультры, которые крайне редко выбирают свой лимит.  \n",
    "\n",
    "Также по абонентской плате он более привлекателен для абонентов, значит может быть более популярным и будет приносить суммарно бОльшую выручку.  \n",
    "Для привлечения клиентов можно дополнительно уменьшить абонентскую плату на первые месяцы или добавить в этот тариф минуты и сообщения.\n",
    "\n",
    "Но если учитывать, что тариф Ультра приносит выручку на 38% больше, чем Смарт, то стоит оценить стоимость привлечения одного абонента по каждому тарифу. И исходя из сравнения стоимости привлечения делать более точные оценки. "
   ]
  }
 ],
 "metadata": {
  "ExecuteTimeLog": [
   {
    "duration": 316,
    "start_time": "2022-01-11T11:33:58.572Z"
   },
   {
    "duration": 1212,
    "start_time": "2022-01-11T11:34:01.404Z"
   },
   {
    "duration": 431,
    "start_time": "2022-01-11T11:34:04.935Z"
   },
   {
    "duration": 413,
    "start_time": "2022-01-11T11:35:20.008Z"
   },
   {
    "duration": 2,
    "start_time": "2022-01-11T11:36:54.240Z"
   },
   {
    "duration": 155,
    "start_time": "2022-01-11T11:38:22.365Z"
   },
   {
    "duration": 3,
    "start_time": "2022-01-11T11:39:46.512Z"
   },
   {
    "duration": 401,
    "start_time": "2022-01-11T11:39:46.517Z"
   },
   {
    "duration": 3,
    "start_time": "2022-01-11T11:39:46.920Z"
   },
   {
    "duration": 1841,
    "start_time": "2022-01-11T11:39:46.924Z"
   },
   {
    "duration": 3,
    "start_time": "2022-01-11T11:40:54.884Z"
   },
   {
    "duration": 1473,
    "start_time": "2022-01-11T11:40:57.385Z"
   },
   {
    "duration": 1325,
    "start_time": "2022-01-11T11:41:02.789Z"
   },
   {
    "duration": 3,
    "start_time": "2022-01-11T11:53:39.799Z"
   },
   {
    "duration": 390,
    "start_time": "2022-01-11T11:53:39.804Z"
   },
   {
    "duration": 20,
    "start_time": "2022-01-11T11:53:40.196Z"
   },
   {
    "duration": 28,
    "start_time": "2022-01-11T11:53:40.218Z"
   },
   {
    "duration": 11,
    "start_time": "2022-01-11T11:53:40.247Z"
   },
   {
    "duration": 18,
    "start_time": "2022-01-11T11:53:40.260Z"
   },
   {
    "duration": 25,
    "start_time": "2022-01-11T11:53:40.280Z"
   },
   {
    "duration": 35,
    "start_time": "2022-01-11T11:53:40.307Z"
   },
   {
    "duration": 14,
    "start_time": "2022-01-11T11:53:40.345Z"
   },
   {
    "duration": 25,
    "start_time": "2022-01-11T11:53:40.361Z"
   },
   {
    "duration": 18,
    "start_time": "2022-01-11T11:53:40.388Z"
   },
   {
    "duration": 10,
    "start_time": "2022-01-11T11:53:40.407Z"
   },
   {
    "duration": 33,
    "start_time": "2022-01-11T11:53:40.418Z"
   },
   {
    "duration": 8,
    "start_time": "2022-01-11T11:53:40.452Z"
   },
   {
    "duration": 9,
    "start_time": "2022-01-11T11:53:40.462Z"
   },
   {
    "duration": 15,
    "start_time": "2022-01-11T11:53:40.472Z"
   },
   {
    "duration": 9,
    "start_time": "2022-01-11T11:53:40.488Z"
   },
   {
    "duration": 3,
    "start_time": "2022-01-11T11:54:11.193Z"
   },
   {
    "duration": 402,
    "start_time": "2022-01-11T11:54:11.199Z"
   },
   {
    "duration": 20,
    "start_time": "2022-01-11T11:54:11.603Z"
   },
   {
    "duration": 23,
    "start_time": "2022-01-11T11:54:11.626Z"
   },
   {
    "duration": 12,
    "start_time": "2022-01-11T11:54:11.651Z"
   },
   {
    "duration": 19,
    "start_time": "2022-01-11T11:54:11.664Z"
   },
   {
    "duration": 26,
    "start_time": "2022-01-11T11:54:11.684Z"
   },
   {
    "duration": 30,
    "start_time": "2022-01-11T11:54:11.712Z"
   },
   {
    "duration": 13,
    "start_time": "2022-01-11T11:54:11.744Z"
   },
   {
    "duration": 11,
    "start_time": "2022-01-11T11:54:11.760Z"
   },
   {
    "duration": 10,
    "start_time": "2022-01-11T11:54:11.773Z"
   },
   {
    "duration": 8,
    "start_time": "2022-01-11T11:54:11.784Z"
   },
   {
    "duration": 57,
    "start_time": "2022-01-11T11:54:11.793Z"
   },
   {
    "duration": 7,
    "start_time": "2022-01-11T11:54:11.851Z"
   },
   {
    "duration": 11,
    "start_time": "2022-01-11T11:54:11.860Z"
   },
   {
    "duration": 16,
    "start_time": "2022-01-11T11:54:11.873Z"
   },
   {
    "duration": 9,
    "start_time": "2022-01-11T11:54:11.890Z"
   },
   {
    "duration": 1108,
    "start_time": "2022-01-11T11:54:39.491Z"
   },
   {
    "duration": 386,
    "start_time": "2022-01-11T11:54:40.602Z"
   },
   {
    "duration": 22,
    "start_time": "2022-01-11T11:54:40.990Z"
   },
   {
    "duration": 53,
    "start_time": "2022-01-11T11:54:41.014Z"
   },
   {
    "duration": 14,
    "start_time": "2022-01-11T11:54:41.069Z"
   },
   {
    "duration": 29,
    "start_time": "2022-01-11T11:54:41.085Z"
   },
   {
    "duration": 52,
    "start_time": "2022-01-11T11:54:41.116Z"
   },
   {
    "duration": 11,
    "start_time": "2022-01-11T11:54:41.169Z"
   },
   {
    "duration": 46,
    "start_time": "2022-01-11T11:54:41.182Z"
   },
   {
    "duration": 39,
    "start_time": "2022-01-11T11:54:41.230Z"
   },
   {
    "duration": 29,
    "start_time": "2022-01-11T11:54:41.270Z"
   },
   {
    "duration": 19,
    "start_time": "2022-01-11T11:54:41.301Z"
   },
   {
    "duration": 55,
    "start_time": "2022-01-11T11:54:41.321Z"
   },
   {
    "duration": 1188,
    "start_time": "2022-01-11T11:54:41.377Z"
   },
   {
    "duration": 93,
    "start_time": "2022-01-11T11:54:42.473Z"
   },
   {
    "duration": 84,
    "start_time": "2022-01-11T11:54:42.483Z"
   },
   {
    "duration": 73,
    "start_time": "2022-01-11T11:54:42.495Z"
   },
   {
    "duration": 1044,
    "start_time": "2022-01-11T11:55:01.538Z"
   },
   {
    "duration": 9,
    "start_time": "2022-01-11T11:55:25.284Z"
   },
   {
    "duration": 8,
    "start_time": "2022-01-11T11:55:39.266Z"
   },
   {
    "duration": 12,
    "start_time": "2022-01-11T12:03:36.710Z"
   },
   {
    "duration": 6,
    "start_time": "2022-01-11T12:11:33.429Z"
   },
   {
    "duration": 15,
    "start_time": "2022-01-11T12:11:36.694Z"
   },
   {
    "duration": 10,
    "start_time": "2022-01-11T12:11:39.410Z"
   },
   {
    "duration": 31,
    "start_time": "2022-01-11T12:30:22.966Z"
   },
   {
    "duration": 18,
    "start_time": "2022-01-11T12:30:25.297Z"
   },
   {
    "duration": 20,
    "start_time": "2022-01-11T12:30:28.019Z"
   },
   {
    "duration": 7149,
    "start_time": "2022-01-11T12:30:30.836Z"
   },
   {
    "duration": 4,
    "start_time": "2022-01-11T12:30:46.926Z"
   },
   {
    "duration": 65,
    "start_time": "2022-01-11T12:53:16.599Z"
   },
   {
    "duration": 12,
    "start_time": "2022-01-11T12:53:39.853Z"
   },
   {
    "duration": 678,
    "start_time": "2022-01-12T06:46:40.017Z"
   },
   {
    "duration": 2069,
    "start_time": "2022-01-12T06:47:08.212Z"
   },
   {
    "duration": 722,
    "start_time": "2022-01-12T06:47:10.284Z"
   },
   {
    "duration": 43,
    "start_time": "2022-01-12T06:47:11.010Z"
   },
   {
    "duration": 59,
    "start_time": "2022-01-12T06:47:11.057Z"
   },
   {
    "duration": 45,
    "start_time": "2022-01-12T06:47:11.118Z"
   },
   {
    "duration": 35,
    "start_time": "2022-01-12T06:47:11.166Z"
   },
   {
    "duration": 76,
    "start_time": "2022-01-12T06:47:11.204Z"
   },
   {
    "duration": 19,
    "start_time": "2022-01-12T06:47:11.284Z"
   },
   {
    "duration": 23,
    "start_time": "2022-01-12T06:47:11.306Z"
   },
   {
    "duration": 47,
    "start_time": "2022-01-12T06:47:11.332Z"
   },
   {
    "duration": 13,
    "start_time": "2022-01-12T06:47:11.382Z"
   },
   {
    "duration": 16,
    "start_time": "2022-01-12T06:47:11.398Z"
   },
   {
    "duration": 53,
    "start_time": "2022-01-12T06:47:11.417Z"
   },
   {
    "duration": 29,
    "start_time": "2022-01-12T06:47:11.473Z"
   },
   {
    "duration": 33,
    "start_time": "2022-01-12T06:47:11.505Z"
   },
   {
    "duration": 66,
    "start_time": "2022-01-12T06:47:11.564Z"
   },
   {
    "duration": 44,
    "start_time": "2022-01-12T06:47:11.633Z"
   },
   {
    "duration": 32,
    "start_time": "2022-01-12T06:47:11.680Z"
   },
   {
    "duration": 6,
    "start_time": "2022-01-12T06:47:11.715Z"
   },
   {
    "duration": 755,
    "start_time": "2022-01-12T06:47:11.724Z"
   },
   {
    "duration": -17,
    "start_time": "2022-01-12T06:47:12.498Z"
   },
   {
    "duration": -20,
    "start_time": "2022-01-12T06:47:12.503Z"
   },
   {
    "duration": 7,
    "start_time": "2022-01-12T06:47:34.541Z"
   },
   {
    "duration": 28,
    "start_time": "2022-01-12T06:48:29.441Z"
   },
   {
    "duration": 6,
    "start_time": "2022-01-12T06:57:37.202Z"
   },
   {
    "duration": 398,
    "start_time": "2022-01-12T06:57:40.610Z"
   },
   {
    "duration": 1840,
    "start_time": "2022-01-12T06:57:59.123Z"
   },
   {
    "duration": 817,
    "start_time": "2022-01-12T06:58:00.967Z"
   },
   {
    "duration": 47,
    "start_time": "2022-01-12T06:58:01.789Z"
   },
   {
    "duration": 58,
    "start_time": "2022-01-12T06:58:01.839Z"
   },
   {
    "duration": 20,
    "start_time": "2022-01-12T06:58:01.900Z"
   },
   {
    "duration": 50,
    "start_time": "2022-01-12T06:58:01.923Z"
   },
   {
    "duration": 45,
    "start_time": "2022-01-12T06:58:01.977Z"
   },
   {
    "duration": 55,
    "start_time": "2022-01-12T06:58:02.026Z"
   },
   {
    "duration": 21,
    "start_time": "2022-01-12T06:58:02.086Z"
   },
   {
    "duration": 15,
    "start_time": "2022-01-12T06:58:02.110Z"
   },
   {
    "duration": 46,
    "start_time": "2022-01-12T06:58:02.128Z"
   },
   {
    "duration": 16,
    "start_time": "2022-01-12T06:58:02.181Z"
   },
   {
    "duration": 12,
    "start_time": "2022-01-12T06:58:02.199Z"
   },
   {
    "duration": 63,
    "start_time": "2022-01-12T06:58:02.214Z"
   },
   {
    "duration": 22,
    "start_time": "2022-01-12T06:58:02.280Z"
   },
   {
    "duration": 71,
    "start_time": "2022-01-12T06:58:02.305Z"
   },
   {
    "duration": 27,
    "start_time": "2022-01-12T06:58:02.379Z"
   },
   {
    "duration": 54,
    "start_time": "2022-01-12T06:58:02.409Z"
   },
   {
    "duration": 6,
    "start_time": "2022-01-12T06:58:02.466Z"
   },
   {
    "duration": 9,
    "start_time": "2022-01-12T06:58:02.475Z"
   },
   {
    "duration": 9,
    "start_time": "2022-01-12T06:58:02.487Z"
   },
   {
    "duration": 40,
    "start_time": "2022-01-12T06:58:02.499Z"
   },
   {
    "duration": 15,
    "start_time": "2022-01-12T06:59:59.557Z"
   },
   {
    "duration": 21,
    "start_time": "2022-01-12T07:00:10.447Z"
   },
   {
    "duration": 1458,
    "start_time": "2022-01-12T07:00:45.484Z"
   },
   {
    "duration": 529,
    "start_time": "2022-01-12T07:00:46.944Z"
   },
   {
    "duration": 27,
    "start_time": "2022-01-12T07:00:47.476Z"
   },
   {
    "duration": 58,
    "start_time": "2022-01-12T07:00:47.506Z"
   },
   {
    "duration": 21,
    "start_time": "2022-01-12T07:00:47.567Z"
   },
   {
    "duration": 23,
    "start_time": "2022-01-12T07:00:47.590Z"
   },
   {
    "duration": 71,
    "start_time": "2022-01-12T07:00:47.615Z"
   },
   {
    "duration": 16,
    "start_time": "2022-01-12T07:00:47.689Z"
   },
   {
    "duration": 20,
    "start_time": "2022-01-12T07:00:47.709Z"
   },
   {
    "duration": 40,
    "start_time": "2022-01-12T07:00:47.732Z"
   },
   {
    "duration": 9,
    "start_time": "2022-01-12T07:00:47.774Z"
   },
   {
    "duration": 15,
    "start_time": "2022-01-12T07:00:47.786Z"
   },
   {
    "duration": 9,
    "start_time": "2022-01-12T07:00:47.804Z"
   },
   {
    "duration": 64,
    "start_time": "2022-01-12T07:00:47.816Z"
   },
   {
    "duration": 17,
    "start_time": "2022-01-12T07:00:47.883Z"
   },
   {
    "duration": 77,
    "start_time": "2022-01-12T07:00:47.902Z"
   },
   {
    "duration": 27,
    "start_time": "2022-01-12T07:00:47.981Z"
   },
   {
    "duration": 29,
    "start_time": "2022-01-12T07:00:48.010Z"
   },
   {
    "duration": 22,
    "start_time": "2022-01-12T07:00:48.041Z"
   },
   {
    "duration": 8,
    "start_time": "2022-01-12T07:00:48.065Z"
   },
   {
    "duration": 13,
    "start_time": "2022-01-12T07:00:48.075Z"
   },
   {
    "duration": 16,
    "start_time": "2022-01-12T07:00:48.090Z"
   },
   {
    "duration": 14,
    "start_time": "2022-01-12T07:00:48.108Z"
   },
   {
    "duration": 64,
    "start_time": "2022-01-12T07:00:48.125Z"
   },
   {
    "duration": 6,
    "start_time": "2022-01-12T07:01:32.013Z"
   },
   {
    "duration": 13,
    "start_time": "2022-01-12T07:01:40.906Z"
   },
   {
    "duration": 22,
    "start_time": "2022-01-12T07:07:16.870Z"
   },
   {
    "duration": 143,
    "start_time": "2022-01-12T07:07:48.812Z"
   },
   {
    "duration": 77,
    "start_time": "2022-01-12T07:08:25.200Z"
   },
   {
    "duration": 64,
    "start_time": "2022-01-12T07:08:27.385Z"
   },
   {
    "duration": 10,
    "start_time": "2022-01-12T07:08:29.501Z"
   },
   {
    "duration": 12,
    "start_time": "2022-01-12T07:09:47.811Z"
   },
   {
    "duration": 9,
    "start_time": "2022-01-12T07:10:46.796Z"
   },
   {
    "duration": 1578,
    "start_time": "2022-01-12T07:11:49.402Z"
   },
   {
    "duration": 658,
    "start_time": "2022-01-12T07:11:50.983Z"
   },
   {
    "duration": 28,
    "start_time": "2022-01-12T07:11:51.644Z"
   },
   {
    "duration": 44,
    "start_time": "2022-01-12T07:11:51.675Z"
   },
   {
    "duration": 56,
    "start_time": "2022-01-12T07:11:51.722Z"
   },
   {
    "duration": 38,
    "start_time": "2022-01-12T07:11:51.782Z"
   },
   {
    "duration": 68,
    "start_time": "2022-01-12T07:11:51.823Z"
   },
   {
    "duration": 17,
    "start_time": "2022-01-12T07:11:51.893Z"
   },
   {
    "duration": 21,
    "start_time": "2022-01-12T07:11:51.915Z"
   },
   {
    "duration": 15,
    "start_time": "2022-01-12T07:11:51.962Z"
   },
   {
    "duration": 12,
    "start_time": "2022-01-12T07:11:51.980Z"
   },
   {
    "duration": 12,
    "start_time": "2022-01-12T07:11:51.995Z"
   },
   {
    "duration": 56,
    "start_time": "2022-01-12T07:11:52.009Z"
   },
   {
    "duration": 23,
    "start_time": "2022-01-12T07:11:52.069Z"
   },
   {
    "duration": 24,
    "start_time": "2022-01-12T07:11:52.095Z"
   },
   {
    "duration": 74,
    "start_time": "2022-01-12T07:11:52.122Z"
   },
   {
    "duration": 28,
    "start_time": "2022-01-12T07:11:52.198Z"
   },
   {
    "duration": 51,
    "start_time": "2022-01-12T07:11:52.228Z"
   },
   {
    "duration": 6,
    "start_time": "2022-01-12T07:11:52.282Z"
   },
   {
    "duration": 138,
    "start_time": "2022-01-12T07:11:52.290Z"
   },
   {
    "duration": 70,
    "start_time": "2022-01-12T07:11:52.430Z"
   },
   {
    "duration": 99,
    "start_time": "2022-01-12T07:11:52.503Z"
   },
   {
    "duration": 12,
    "start_time": "2022-01-12T07:11:52.605Z"
   },
   {
    "duration": 11,
    "start_time": "2022-01-12T07:11:52.621Z"
   },
   {
    "duration": 32,
    "start_time": "2022-01-12T07:11:52.635Z"
   },
   {
    "duration": 18,
    "start_time": "2022-01-12T07:11:52.671Z"
   },
   {
    "duration": 17,
    "start_time": "2022-01-12T07:11:52.697Z"
   },
   {
    "duration": 53,
    "start_time": "2022-01-12T07:11:52.717Z"
   },
   {
    "duration": 9,
    "start_time": "2022-01-12T07:11:52.773Z"
   },
   {
    "duration": 14,
    "start_time": "2022-01-12T07:11:52.785Z"
   },
   {
    "duration": 68,
    "start_time": "2022-01-12T07:11:52.801Z"
   },
   {
    "duration": 88,
    "start_time": "2022-01-12T07:20:47.978Z"
   },
   {
    "duration": 16,
    "start_time": "2022-01-12T08:12:07.742Z"
   },
   {
    "duration": 16,
    "start_time": "2022-01-12T08:12:17.644Z"
   },
   {
    "duration": 15,
    "start_time": "2022-01-12T08:12:33.192Z"
   },
   {
    "duration": 24,
    "start_time": "2022-01-12T08:12:39.675Z"
   },
   {
    "duration": 18,
    "start_time": "2022-01-12T08:12:45.785Z"
   },
   {
    "duration": 16,
    "start_time": "2022-01-12T08:12:57.927Z"
   },
   {
    "duration": 7,
    "start_time": "2022-01-12T08:14:43.145Z"
   },
   {
    "duration": 1456,
    "start_time": "2022-01-12T08:14:54.295Z"
   },
   {
    "duration": 523,
    "start_time": "2022-01-12T08:14:55.753Z"
   },
   {
    "duration": 28,
    "start_time": "2022-01-12T08:14:56.279Z"
   },
   {
    "duration": 52,
    "start_time": "2022-01-12T08:14:56.310Z"
   },
   {
    "duration": 19,
    "start_time": "2022-01-12T08:14:56.365Z"
   },
   {
    "duration": 22,
    "start_time": "2022-01-12T08:14:56.386Z"
   },
   {
    "duration": 71,
    "start_time": "2022-01-12T08:14:56.410Z"
   },
   {
    "duration": 16,
    "start_time": "2022-01-12T08:14:56.485Z"
   },
   {
    "duration": 23,
    "start_time": "2022-01-12T08:14:56.504Z"
   },
   {
    "duration": 36,
    "start_time": "2022-01-12T08:14:56.530Z"
   },
   {
    "duration": 12,
    "start_time": "2022-01-12T08:14:56.569Z"
   },
   {
    "duration": 13,
    "start_time": "2022-01-12T08:14:56.583Z"
   },
   {
    "duration": 10,
    "start_time": "2022-01-12T08:14:56.598Z"
   },
   {
    "duration": 70,
    "start_time": "2022-01-12T08:14:56.610Z"
   },
   {
    "duration": 15,
    "start_time": "2022-01-12T08:14:56.683Z"
   },
   {
    "duration": 17,
    "start_time": "2022-01-12T08:14:56.700Z"
   },
   {
    "duration": 76,
    "start_time": "2022-01-12T08:14:56.720Z"
   },
   {
    "duration": 26,
    "start_time": "2022-01-12T08:14:56.798Z"
   },
   {
    "duration": 54,
    "start_time": "2022-01-12T08:14:56.827Z"
   },
   {
    "duration": 6,
    "start_time": "2022-01-12T08:14:56.884Z"
   },
   {
    "duration": 9,
    "start_time": "2022-01-12T08:14:56.892Z"
   },
   {
    "duration": 152,
    "start_time": "2022-01-12T08:14:56.903Z"
   },
   {
    "duration": 57,
    "start_time": "2022-01-12T08:14:57.063Z"
   },
   {
    "duration": 108,
    "start_time": "2022-01-12T08:14:57.123Z"
   },
   {
    "duration": 10,
    "start_time": "2022-01-12T08:14:57.233Z"
   },
   {
    "duration": 9,
    "start_time": "2022-01-12T08:14:57.263Z"
   },
   {
    "duration": 8,
    "start_time": "2022-01-12T08:14:57.276Z"
   },
   {
    "duration": 13,
    "start_time": "2022-01-12T08:14:57.287Z"
   },
   {
    "duration": 60,
    "start_time": "2022-01-12T08:14:57.304Z"
   },
   {
    "duration": 16,
    "start_time": "2022-01-12T08:14:57.367Z"
   },
   {
    "duration": 8,
    "start_time": "2022-01-12T08:14:57.386Z"
   },
   {
    "duration": 17,
    "start_time": "2022-01-12T08:14:57.397Z"
   },
   {
    "duration": 70,
    "start_time": "2022-01-12T08:14:57.417Z"
   },
   {
    "duration": 109,
    "start_time": "2022-01-12T08:14:57.490Z"
   },
   {
    "duration": 98,
    "start_time": "2022-01-12T08:37:40.808Z"
   },
   {
    "duration": 51,
    "start_time": "2022-01-12T08:37:52.139Z"
   },
   {
    "duration": 24,
    "start_time": "2022-01-12T08:38:29.895Z"
   },
   {
    "duration": 9,
    "start_time": "2022-01-12T08:38:32.697Z"
   },
   {
    "duration": 335,
    "start_time": "2022-01-12T08:39:08.775Z"
   },
   {
    "duration": 111,
    "start_time": "2022-01-12T08:39:10.451Z"
   },
   {
    "duration": 41,
    "start_time": "2022-01-12T08:39:14.894Z"
   },
   {
    "duration": 10,
    "start_time": "2022-01-12T08:39:16.509Z"
   },
   {
    "duration": 51,
    "start_time": "2022-01-12T08:40:00.162Z"
   },
   {
    "duration": 100,
    "start_time": "2022-01-12T08:40:01.995Z"
   },
   {
    "duration": 45,
    "start_time": "2022-01-12T08:40:03.064Z"
   },
   {
    "duration": 25,
    "start_time": "2022-01-12T08:40:04.563Z"
   },
   {
    "duration": 9,
    "start_time": "2022-01-12T08:40:08.529Z"
   },
   {
    "duration": 30,
    "start_time": "2022-01-12T08:40:50.205Z"
   },
   {
    "duration": 27,
    "start_time": "2022-01-12T08:41:06.131Z"
   },
   {
    "duration": 27,
    "start_time": "2022-01-12T08:41:48.439Z"
   },
   {
    "duration": 17,
    "start_time": "2022-01-12T08:43:06.252Z"
   },
   {
    "duration": 32,
    "start_time": "2022-01-12T08:44:40.454Z"
   },
   {
    "duration": 571,
    "start_time": "2022-01-12T08:52:37.528Z"
   },
   {
    "duration": 32,
    "start_time": "2022-01-12T09:06:09.475Z"
   },
   {
    "duration": 30,
    "start_time": "2022-01-12T09:06:26.406Z"
   },
   {
    "duration": 45,
    "start_time": "2022-01-12T09:06:50.553Z"
   },
   {
    "duration": 31,
    "start_time": "2022-01-12T09:07:18.709Z"
   },
   {
    "duration": 32,
    "start_time": "2022-01-12T09:11:43.018Z"
   },
   {
    "duration": 46,
    "start_time": "2022-01-12T09:11:49.735Z"
   },
   {
    "duration": 298,
    "start_time": "2022-01-12T09:13:53.698Z"
   },
   {
    "duration": 717,
    "start_time": "2022-01-12T09:14:45.896Z"
   },
   {
    "duration": 314,
    "start_time": "2022-01-12T09:14:59.067Z"
   },
   {
    "duration": 333,
    "start_time": "2022-01-12T09:15:21.752Z"
   },
   {
    "duration": 17,
    "start_time": "2022-01-12T09:16:05.257Z"
   },
   {
    "duration": 5,
    "start_time": "2022-01-12T09:19:55.102Z"
   },
   {
    "duration": 294,
    "start_time": "2022-01-12T09:19:57.779Z"
   },
   {
    "duration": 300,
    "start_time": "2022-01-12T09:20:06.802Z"
   },
   {
    "duration": 1523,
    "start_time": "2022-01-12T09:20:22.656Z"
   },
   {
    "duration": 582,
    "start_time": "2022-01-12T09:20:24.182Z"
   },
   {
    "duration": 37,
    "start_time": "2022-01-12T09:20:24.768Z"
   },
   {
    "duration": 80,
    "start_time": "2022-01-12T09:20:24.808Z"
   },
   {
    "duration": 21,
    "start_time": "2022-01-12T09:20:24.891Z"
   },
   {
    "duration": 51,
    "start_time": "2022-01-12T09:20:24.915Z"
   },
   {
    "duration": 41,
    "start_time": "2022-01-12T09:20:24.968Z"
   },
   {
    "duration": 17,
    "start_time": "2022-01-12T09:20:25.014Z"
   },
   {
    "duration": 54,
    "start_time": "2022-01-12T09:20:25.034Z"
   },
   {
    "duration": 14,
    "start_time": "2022-01-12T09:20:25.091Z"
   },
   {
    "duration": 11,
    "start_time": "2022-01-12T09:20:25.107Z"
   },
   {
    "duration": 52,
    "start_time": "2022-01-12T09:20:25.120Z"
   },
   {
    "duration": 13,
    "start_time": "2022-01-12T09:20:25.174Z"
   },
   {
    "duration": 21,
    "start_time": "2022-01-12T09:20:25.189Z"
   },
   {
    "duration": 15,
    "start_time": "2022-01-12T09:20:25.212Z"
   },
   {
    "duration": 55,
    "start_time": "2022-01-12T09:20:25.229Z"
   },
   {
    "duration": 46,
    "start_time": "2022-01-12T09:20:25.288Z"
   },
   {
    "duration": 61,
    "start_time": "2022-01-12T09:20:25.336Z"
   },
   {
    "duration": 32,
    "start_time": "2022-01-12T09:20:25.400Z"
   },
   {
    "duration": 7,
    "start_time": "2022-01-12T09:20:25.435Z"
   },
   {
    "duration": 12,
    "start_time": "2022-01-12T09:20:25.463Z"
   },
   {
    "duration": 142,
    "start_time": "2022-01-12T09:20:25.479Z"
   },
   {
    "duration": 63,
    "start_time": "2022-01-12T09:20:25.626Z"
   },
   {
    "duration": 101,
    "start_time": "2022-01-12T09:20:25.692Z"
   },
   {
    "duration": 9,
    "start_time": "2022-01-12T09:20:25.796Z"
   },
   {
    "duration": 10,
    "start_time": "2022-01-12T09:20:25.808Z"
   },
   {
    "duration": 8,
    "start_time": "2022-01-12T09:20:25.820Z"
   },
   {
    "duration": 43,
    "start_time": "2022-01-12T09:20:25.831Z"
   },
   {
    "duration": 17,
    "start_time": "2022-01-12T09:20:25.881Z"
   },
   {
    "duration": 17,
    "start_time": "2022-01-12T09:20:25.900Z"
   },
   {
    "duration": 53,
    "start_time": "2022-01-12T09:20:25.920Z"
   },
   {
    "duration": 15,
    "start_time": "2022-01-12T09:20:25.976Z"
   },
   {
    "duration": 29,
    "start_time": "2022-01-12T09:20:25.994Z"
   },
   {
    "duration": 109,
    "start_time": "2022-01-12T09:20:26.026Z"
   },
   {
    "duration": 64,
    "start_time": "2022-01-12T09:20:26.137Z"
   },
   {
    "duration": 22,
    "start_time": "2022-01-12T09:20:26.204Z"
   },
   {
    "duration": 9,
    "start_time": "2022-01-12T09:20:26.229Z"
   },
   {
    "duration": 38,
    "start_time": "2022-01-12T09:20:26.263Z"
   },
   {
    "duration": 32,
    "start_time": "2022-01-12T09:20:26.304Z"
   },
   {
    "duration": 55,
    "start_time": "2022-01-12T09:20:26.338Z"
   },
   {
    "duration": 11,
    "start_time": "2022-01-12T09:20:26.396Z"
   },
   {
    "duration": 6,
    "start_time": "2022-01-12T09:20:26.409Z"
   },
   {
    "duration": 65,
    "start_time": "2022-01-12T09:20:26.418Z"
   },
   {
    "duration": 40,
    "start_time": "2022-01-12T09:21:40.990Z"
   },
   {
    "duration": 42,
    "start_time": "2022-01-12T09:21:57.855Z"
   },
   {
    "duration": 3,
    "start_time": "2022-01-12T09:25:12.846Z"
   },
   {
    "duration": 11,
    "start_time": "2022-01-12T09:25:36.733Z"
   },
   {
    "duration": 31,
    "start_time": "2022-01-12T09:28:20.389Z"
   },
   {
    "duration": 1477,
    "start_time": "2022-01-12T09:28:39.963Z"
   },
   {
    "duration": 550,
    "start_time": "2022-01-12T09:28:41.443Z"
   },
   {
    "duration": 36,
    "start_time": "2022-01-12T09:28:41.996Z"
   },
   {
    "duration": 47,
    "start_time": "2022-01-12T09:28:42.035Z"
   },
   {
    "duration": 19,
    "start_time": "2022-01-12T09:28:42.084Z"
   },
   {
    "duration": 24,
    "start_time": "2022-01-12T09:28:42.106Z"
   },
   {
    "duration": 71,
    "start_time": "2022-01-12T09:28:42.132Z"
   },
   {
    "duration": 18,
    "start_time": "2022-01-12T09:28:42.207Z"
   },
   {
    "duration": 50,
    "start_time": "2022-01-12T09:28:42.228Z"
   },
   {
    "duration": 23,
    "start_time": "2022-01-12T09:28:42.281Z"
   },
   {
    "duration": 11,
    "start_time": "2022-01-12T09:28:42.307Z"
   },
   {
    "duration": 48,
    "start_time": "2022-01-12T09:28:42.321Z"
   },
   {
    "duration": 10,
    "start_time": "2022-01-12T09:28:42.373Z"
   },
   {
    "duration": 21,
    "start_time": "2022-01-12T09:28:42.386Z"
   },
   {
    "duration": 15,
    "start_time": "2022-01-12T09:28:42.410Z"
   },
   {
    "duration": 52,
    "start_time": "2022-01-12T09:28:42.428Z"
   },
   {
    "duration": 47,
    "start_time": "2022-01-12T09:28:42.483Z"
   },
   {
    "duration": 50,
    "start_time": "2022-01-12T09:28:42.533Z"
   },
   {
    "duration": 31,
    "start_time": "2022-01-12T09:28:42.585Z"
   },
   {
    "duration": 6,
    "start_time": "2022-01-12T09:28:42.618Z"
   },
   {
    "duration": 47,
    "start_time": "2022-01-12T09:28:42.627Z"
   },
   {
    "duration": 132,
    "start_time": "2022-01-12T09:28:42.679Z"
   },
   {
    "duration": 65,
    "start_time": "2022-01-12T09:28:42.816Z"
   },
   {
    "duration": 101,
    "start_time": "2022-01-12T09:28:42.885Z"
   },
   {
    "duration": 9,
    "start_time": "2022-01-12T09:28:42.989Z"
   },
   {
    "duration": 10,
    "start_time": "2022-01-12T09:28:43.001Z"
   },
   {
    "duration": 8,
    "start_time": "2022-01-12T09:28:43.015Z"
   },
   {
    "duration": 57,
    "start_time": "2022-01-12T09:28:43.025Z"
   },
   {
    "duration": 16,
    "start_time": "2022-01-12T09:28:43.085Z"
   },
   {
    "duration": 14,
    "start_time": "2022-01-12T09:28:43.104Z"
   },
   {
    "duration": 7,
    "start_time": "2022-01-12T09:28:43.121Z"
   },
   {
    "duration": 16,
    "start_time": "2022-01-12T09:28:43.162Z"
   },
   {
    "duration": 34,
    "start_time": "2022-01-12T09:28:43.181Z"
   },
   {
    "duration": 117,
    "start_time": "2022-01-12T09:28:43.218Z"
   },
   {
    "duration": 76,
    "start_time": "2022-01-12T09:28:43.338Z"
   },
   {
    "duration": 29,
    "start_time": "2022-01-12T09:28:43.416Z"
   },
   {
    "duration": 29,
    "start_time": "2022-01-12T09:28:43.448Z"
   },
   {
    "duration": 28,
    "start_time": "2022-01-12T09:28:43.481Z"
   },
   {
    "duration": 70,
    "start_time": "2022-01-12T09:28:43.512Z"
   },
   {
    "duration": 32,
    "start_time": "2022-01-12T09:28:43.584Z"
   },
   {
    "duration": 12,
    "start_time": "2022-01-12T09:28:43.619Z"
   },
   {
    "duration": 32,
    "start_time": "2022-01-12T09:28:43.634Z"
   },
   {
    "duration": 40,
    "start_time": "2022-01-12T09:28:43.669Z"
   },
   {
    "duration": 10,
    "start_time": "2022-01-12T09:28:43.711Z"
   },
   {
    "duration": 12131,
    "start_time": "2022-01-12T09:28:43.723Z"
   },
   {
    "duration": 10,
    "start_time": "2022-01-12T09:29:11.703Z"
   },
   {
    "duration": 8,
    "start_time": "2022-01-12T09:29:52.976Z"
   },
   {
    "duration": 10,
    "start_time": "2022-01-12T09:30:20.954Z"
   },
   {
    "duration": 16,
    "start_time": "2022-01-12T09:30:44.828Z"
   },
   {
    "duration": 15,
    "start_time": "2022-01-12T09:31:23.406Z"
   },
   {
    "duration": 11693,
    "start_time": "2022-01-12T09:55:11.657Z"
   },
   {
    "duration": 10370,
    "start_time": "2022-01-12T10:01:22.727Z"
   },
   {
    "duration": 4,
    "start_time": "2022-01-12T10:02:23.635Z"
   },
   {
    "duration": 35,
    "start_time": "2022-01-12T10:02:34.843Z"
   },
   {
    "duration": 9,
    "start_time": "2022-01-12T10:03:16.064Z"
   },
   {
    "duration": 32,
    "start_time": "2022-01-12T10:03:31.717Z"
   },
   {
    "duration": 290,
    "start_time": "2022-01-12T10:08:42.448Z"
   },
   {
    "duration": 1441,
    "start_time": "2022-01-12T10:08:54.812Z"
   },
   {
    "duration": 585,
    "start_time": "2022-01-12T10:08:56.256Z"
   },
   {
    "duration": 32,
    "start_time": "2022-01-12T10:08:56.844Z"
   },
   {
    "duration": 47,
    "start_time": "2022-01-12T10:08:56.880Z"
   },
   {
    "duration": 49,
    "start_time": "2022-01-12T10:08:56.931Z"
   },
   {
    "duration": 30,
    "start_time": "2022-01-12T10:08:56.983Z"
   },
   {
    "duration": 80,
    "start_time": "2022-01-12T10:08:57.016Z"
   },
   {
    "duration": 26,
    "start_time": "2022-01-12T10:08:57.102Z"
   },
   {
    "duration": 48,
    "start_time": "2022-01-12T10:08:57.133Z"
   },
   {
    "duration": 23,
    "start_time": "2022-01-12T10:08:57.184Z"
   },
   {
    "duration": 10,
    "start_time": "2022-01-12T10:08:57.210Z"
   },
   {
    "duration": 56,
    "start_time": "2022-01-12T10:08:57.223Z"
   },
   {
    "duration": 10,
    "start_time": "2022-01-12T10:08:57.282Z"
   },
   {
    "duration": 26,
    "start_time": "2022-01-12T10:08:57.294Z"
   },
   {
    "duration": 50,
    "start_time": "2022-01-12T10:08:57.323Z"
   },
   {
    "duration": 19,
    "start_time": "2022-01-12T10:08:57.376Z"
   },
   {
    "duration": 69,
    "start_time": "2022-01-12T10:08:57.397Z"
   },
   {
    "duration": 29,
    "start_time": "2022-01-12T10:08:57.469Z"
   },
   {
    "duration": 29,
    "start_time": "2022-01-12T10:08:57.501Z"
   },
   {
    "duration": 7,
    "start_time": "2022-01-12T10:08:57.533Z"
   },
   {
    "duration": 27,
    "start_time": "2022-01-12T10:08:57.542Z"
   },
   {
    "duration": 156,
    "start_time": "2022-01-12T10:08:57.572Z"
   },
   {
    "duration": 73,
    "start_time": "2022-01-12T10:08:57.733Z"
   },
   {
    "duration": 104,
    "start_time": "2022-01-12T10:08:57.809Z"
   },
   {
    "duration": 12,
    "start_time": "2022-01-12T10:08:57.915Z"
   },
   {
    "duration": 33,
    "start_time": "2022-01-12T10:08:57.930Z"
   },
   {
    "duration": 13,
    "start_time": "2022-01-12T10:08:57.967Z"
   },
   {
    "duration": 13,
    "start_time": "2022-01-12T10:08:57.982Z"
   },
   {
    "duration": 18,
    "start_time": "2022-01-12T10:08:57.998Z"
   },
   {
    "duration": 14,
    "start_time": "2022-01-12T10:08:58.018Z"
   },
   {
    "duration": 38,
    "start_time": "2022-01-12T10:08:58.034Z"
   },
   {
    "duration": 32,
    "start_time": "2022-01-12T10:08:58.075Z"
   },
   {
    "duration": 27,
    "start_time": "2022-01-12T10:08:58.109Z"
   },
   {
    "duration": 143,
    "start_time": "2022-01-12T10:08:58.139Z"
   },
   {
    "duration": 51,
    "start_time": "2022-01-12T10:08:58.284Z"
   },
   {
    "duration": 51,
    "start_time": "2022-01-12T10:08:58.337Z"
   },
   {
    "duration": 9,
    "start_time": "2022-01-12T10:08:58.390Z"
   },
   {
    "duration": 31,
    "start_time": "2022-01-12T10:08:58.402Z"
   },
   {
    "duration": 60,
    "start_time": "2022-01-12T10:08:58.435Z"
   },
   {
    "duration": 40,
    "start_time": "2022-01-12T10:08:58.497Z"
   },
   {
    "duration": 18,
    "start_time": "2022-01-12T10:08:58.562Z"
   },
   {
    "duration": 6,
    "start_time": "2022-01-12T10:08:58.582Z"
   },
   {
    "duration": 38,
    "start_time": "2022-01-12T10:08:58.590Z"
   },
   {
    "duration": 44,
    "start_time": "2022-01-12T10:08:58.630Z"
   },
   {
    "duration": 7,
    "start_time": "2022-01-12T10:08:58.676Z"
   },
   {
    "duration": 10,
    "start_time": "2022-01-12T10:08:58.685Z"
   },
   {
    "duration": 16,
    "start_time": "2022-01-12T10:08:58.698Z"
   },
   {
    "duration": 4,
    "start_time": "2022-01-12T10:08:58.717Z"
   },
   {
    "duration": 42,
    "start_time": "2022-01-12T10:08:58.763Z"
   },
   {
    "duration": 9,
    "start_time": "2022-01-12T10:08:58.808Z"
   },
   {
    "duration": 69,
    "start_time": "2022-01-12T10:08:58.820Z"
   },
   {
    "duration": 6,
    "start_time": "2022-01-12T10:08:58.893Z"
   },
   {
    "duration": 840,
    "start_time": "2022-01-12T10:08:58.902Z"
   },
   {
    "duration": 7,
    "start_time": "2022-01-12T10:09:18.168Z"
   },
   {
    "duration": 228,
    "start_time": "2022-01-12T10:09:20.612Z"
   },
   {
    "duration": 38,
    "start_time": "2022-01-12T10:10:00.577Z"
   },
   {
    "duration": 42,
    "start_time": "2022-01-12T10:11:18.432Z"
   },
   {
    "duration": 42,
    "start_time": "2022-01-12T10:12:32.258Z"
   },
   {
    "duration": 34,
    "start_time": "2022-01-12T10:13:33.489Z"
   },
   {
    "duration": 1561,
    "start_time": "2022-01-12T10:13:44.240Z"
   },
   {
    "duration": 562,
    "start_time": "2022-01-12T10:13:45.804Z"
   },
   {
    "duration": 34,
    "start_time": "2022-01-12T10:13:46.370Z"
   },
   {
    "duration": 56,
    "start_time": "2022-01-12T10:13:46.407Z"
   },
   {
    "duration": 25,
    "start_time": "2022-01-12T10:13:46.468Z"
   },
   {
    "duration": 25,
    "start_time": "2022-01-12T10:13:46.495Z"
   },
   {
    "duration": 73,
    "start_time": "2022-01-12T10:13:46.522Z"
   },
   {
    "duration": 17,
    "start_time": "2022-01-12T10:13:46.598Z"
   },
   {
    "duration": 51,
    "start_time": "2022-01-12T10:13:46.620Z"
   },
   {
    "duration": 15,
    "start_time": "2022-01-12T10:13:46.674Z"
   },
   {
    "duration": 9,
    "start_time": "2022-01-12T10:13:46.691Z"
   },
   {
    "duration": 12,
    "start_time": "2022-01-12T10:13:46.703Z"
   },
   {
    "duration": 62,
    "start_time": "2022-01-12T10:13:46.718Z"
   },
   {
    "duration": 23,
    "start_time": "2022-01-12T10:13:46.782Z"
   },
   {
    "duration": 14,
    "start_time": "2022-01-12T10:13:46.807Z"
   },
   {
    "duration": 52,
    "start_time": "2022-01-12T10:13:46.823Z"
   },
   {
    "duration": 48,
    "start_time": "2022-01-12T10:13:46.877Z"
   },
   {
    "duration": 52,
    "start_time": "2022-01-12T10:13:46.928Z"
   },
   {
    "duration": 30,
    "start_time": "2022-01-12T10:13:46.982Z"
   },
   {
    "duration": 6,
    "start_time": "2022-01-12T10:13:47.015Z"
   },
   {
    "duration": 10,
    "start_time": "2022-01-12T10:13:47.023Z"
   },
   {
    "duration": 152,
    "start_time": "2022-01-12T10:13:47.036Z"
   },
   {
    "duration": 71,
    "start_time": "2022-01-12T10:13:47.191Z"
   },
   {
    "duration": 97,
    "start_time": "2022-01-12T10:13:47.269Z"
   },
   {
    "duration": 13,
    "start_time": "2022-01-12T10:13:47.370Z"
   },
   {
    "duration": 10,
    "start_time": "2022-01-12T10:13:47.385Z"
   },
   {
    "duration": 6,
    "start_time": "2022-01-12T10:13:47.400Z"
   },
   {
    "duration": 14,
    "start_time": "2022-01-12T10:13:47.409Z"
   },
   {
    "duration": 17,
    "start_time": "2022-01-12T10:13:47.469Z"
   },
   {
    "duration": 14,
    "start_time": "2022-01-12T10:13:47.489Z"
   },
   {
    "duration": 7,
    "start_time": "2022-01-12T10:13:47.505Z"
   },
   {
    "duration": 20,
    "start_time": "2022-01-12T10:13:47.515Z"
   },
   {
    "duration": 30,
    "start_time": "2022-01-12T10:13:47.570Z"
   },
   {
    "duration": 102,
    "start_time": "2022-01-12T10:13:47.603Z"
   },
   {
    "duration": 62,
    "start_time": "2022-01-12T10:13:47.708Z"
   },
   {
    "duration": 26,
    "start_time": "2022-01-12T10:13:47.773Z"
   },
   {
    "duration": 9,
    "start_time": "2022-01-12T10:13:47.801Z"
   },
   {
    "duration": 65,
    "start_time": "2022-01-12T10:13:47.813Z"
   },
   {
    "duration": 30,
    "start_time": "2022-01-12T10:13:47.882Z"
   },
   {
    "duration": 57,
    "start_time": "2022-01-12T10:13:47.914Z"
   },
   {
    "duration": 13,
    "start_time": "2022-01-12T10:13:47.974Z"
   },
   {
    "duration": 5,
    "start_time": "2022-01-12T10:13:47.989Z"
   },
   {
    "duration": 35,
    "start_time": "2022-01-12T10:13:47.997Z"
   },
   {
    "duration": 50,
    "start_time": "2022-01-12T10:13:48.035Z"
   },
   {
    "duration": 10,
    "start_time": "2022-01-12T10:13:48.088Z"
   },
   {
    "duration": 12,
    "start_time": "2022-01-12T10:13:48.101Z"
   },
   {
    "duration": 63,
    "start_time": "2022-01-12T10:13:48.115Z"
   },
   {
    "duration": 7,
    "start_time": "2022-01-12T10:13:48.181Z"
   },
   {
    "duration": 39,
    "start_time": "2022-01-12T10:13:48.190Z"
   },
   {
    "duration": 8,
    "start_time": "2022-01-12T10:13:48.231Z"
   },
   {
    "duration": 58,
    "start_time": "2022-01-12T10:13:48.242Z"
   },
   {
    "duration": 6,
    "start_time": "2022-01-12T10:13:48.302Z"
   },
   {
    "duration": 249,
    "start_time": "2022-01-12T10:13:48.310Z"
   },
   {
    "duration": 38,
    "start_time": "2022-01-12T10:13:48.562Z"
   },
   {
    "duration": 43,
    "start_time": "2022-01-12T10:15:25.607Z"
   },
   {
    "duration": 82,
    "start_time": "2022-01-12T10:15:42.566Z"
   },
   {
    "duration": 1613,
    "start_time": "2022-01-12T10:29:10.581Z"
   },
   {
    "duration": 591,
    "start_time": "2022-01-12T10:29:12.197Z"
   },
   {
    "duration": 43,
    "start_time": "2022-01-12T10:29:12.791Z"
   },
   {
    "duration": 71,
    "start_time": "2022-01-12T10:29:12.837Z"
   },
   {
    "duration": 21,
    "start_time": "2022-01-12T10:29:12.911Z"
   },
   {
    "duration": 40,
    "start_time": "2022-01-12T10:29:12.935Z"
   },
   {
    "duration": 55,
    "start_time": "2022-01-12T10:29:12.979Z"
   },
   {
    "duration": 50,
    "start_time": "2022-01-12T10:29:13.039Z"
   },
   {
    "duration": 23,
    "start_time": "2022-01-12T10:29:13.093Z"
   },
   {
    "duration": 46,
    "start_time": "2022-01-12T10:29:13.119Z"
   },
   {
    "duration": 19,
    "start_time": "2022-01-12T10:29:13.167Z"
   },
   {
    "duration": 14,
    "start_time": "2022-01-12T10:29:13.189Z"
   },
   {
    "duration": 10,
    "start_time": "2022-01-12T10:29:13.205Z"
   },
   {
    "duration": 63,
    "start_time": "2022-01-12T10:29:13.217Z"
   },
   {
    "duration": 16,
    "start_time": "2022-01-12T10:29:13.283Z"
   },
   {
    "duration": 18,
    "start_time": "2022-01-12T10:29:13.301Z"
   },
   {
    "duration": 83,
    "start_time": "2022-01-12T10:29:13.322Z"
   },
   {
    "duration": 29,
    "start_time": "2022-01-12T10:29:13.408Z"
   },
   {
    "duration": 59,
    "start_time": "2022-01-12T10:29:13.440Z"
   },
   {
    "duration": 7,
    "start_time": "2022-01-12T10:29:13.502Z"
   },
   {
    "duration": 13,
    "start_time": "2022-01-12T10:29:13.512Z"
   },
   {
    "duration": 153,
    "start_time": "2022-01-12T10:29:13.528Z"
   },
   {
    "duration": 52,
    "start_time": "2022-01-12T10:29:13.687Z"
   },
   {
    "duration": 111,
    "start_time": "2022-01-12T10:29:13.742Z"
   },
   {
    "duration": 11,
    "start_time": "2022-01-12T10:29:13.863Z"
   },
   {
    "duration": 12,
    "start_time": "2022-01-12T10:29:13.876Z"
   },
   {
    "duration": 9,
    "start_time": "2022-01-12T10:29:13.890Z"
   },
   {
    "duration": 14,
    "start_time": "2022-01-12T10:29:13.902Z"
   },
   {
    "duration": 50,
    "start_time": "2022-01-12T10:29:13.919Z"
   },
   {
    "duration": 17,
    "start_time": "2022-01-12T10:29:13.972Z"
   },
   {
    "duration": 6,
    "start_time": "2022-01-12T10:29:13.992Z"
   },
   {
    "duration": 19,
    "start_time": "2022-01-12T10:29:14.000Z"
   },
   {
    "duration": 61,
    "start_time": "2022-01-12T10:29:14.022Z"
   },
   {
    "duration": 105,
    "start_time": "2022-01-12T10:29:14.086Z"
   },
   {
    "duration": 52,
    "start_time": "2022-01-12T10:29:14.194Z"
   },
   {
    "duration": 31,
    "start_time": "2022-01-12T10:29:14.262Z"
   },
   {
    "duration": 9,
    "start_time": "2022-01-12T10:29:14.296Z"
   },
   {
    "duration": 63,
    "start_time": "2022-01-12T10:29:14.307Z"
   },
   {
    "duration": 11,
    "start_time": "2022-01-12T10:29:14.372Z"
   },
   {
    "duration": 125,
    "start_time": "2022-01-12T10:29:14.386Z"
   },
   {
    "duration": -420,
    "start_time": "2022-01-12T10:29:14.933Z"
   },
   {
    "duration": -481,
    "start_time": "2022-01-12T10:29:14.996Z"
   },
   {
    "duration": -485,
    "start_time": "2022-01-12T10:29:15.002Z"
   },
   {
    "duration": -489,
    "start_time": "2022-01-12T10:29:15.007Z"
   },
   {
    "duration": -493,
    "start_time": "2022-01-12T10:29:15.013Z"
   },
   {
    "duration": -496,
    "start_time": "2022-01-12T10:29:15.018Z"
   },
   {
    "duration": -500,
    "start_time": "2022-01-12T10:29:15.023Z"
   },
   {
    "duration": -504,
    "start_time": "2022-01-12T10:29:15.029Z"
   },
   {
    "duration": -507,
    "start_time": "2022-01-12T10:29:15.034Z"
   },
   {
    "duration": -511,
    "start_time": "2022-01-12T10:29:15.039Z"
   },
   {
    "duration": -515,
    "start_time": "2022-01-12T10:29:15.045Z"
   },
   {
    "duration": -518,
    "start_time": "2022-01-12T10:29:15.049Z"
   },
   {
    "duration": -522,
    "start_time": "2022-01-12T10:29:15.055Z"
   },
   {
    "duration": -526,
    "start_time": "2022-01-12T10:29:15.060Z"
   },
   {
    "duration": -528,
    "start_time": "2022-01-12T10:29:15.065Z"
   },
   {
    "duration": -532,
    "start_time": "2022-01-12T10:29:15.070Z"
   },
   {
    "duration": 26,
    "start_time": "2022-01-12T10:30:35.722Z"
   },
   {
    "duration": 40,
    "start_time": "2022-01-12T10:32:19.268Z"
   },
   {
    "duration": 65,
    "start_time": "2022-01-12T10:32:19.312Z"
   },
   {
    "duration": 39,
    "start_time": "2022-01-12T10:32:19.381Z"
   },
   {
    "duration": 16,
    "start_time": "2022-01-12T10:32:19.424Z"
   },
   {
    "duration": 43,
    "start_time": "2022-01-12T10:32:19.443Z"
   },
   {
    "duration": 89,
    "start_time": "2022-01-12T10:32:19.492Z"
   },
   {
    "duration": 14,
    "start_time": "2022-01-12T10:32:19.585Z"
   },
   {
    "duration": 10329,
    "start_time": "2022-01-12T10:32:19.602Z"
   },
   {
    "duration": 79,
    "start_time": "2022-01-12T10:32:29.857Z"
   },
   {
    "duration": 68,
    "start_time": "2022-01-12T10:32:29.870Z"
   },
   {
    "duration": 63,
    "start_time": "2022-01-12T10:32:29.877Z"
   },
   {
    "duration": 50,
    "start_time": "2022-01-12T10:32:29.892Z"
   },
   {
    "duration": 38,
    "start_time": "2022-01-12T10:32:29.906Z"
   },
   {
    "duration": 26,
    "start_time": "2022-01-12T10:32:29.920Z"
   },
   {
    "duration": 21,
    "start_time": "2022-01-12T10:32:29.927Z"
   },
   {
    "duration": 18,
    "start_time": "2022-01-12T10:32:29.932Z"
   },
   {
    "duration": 14,
    "start_time": "2022-01-12T10:32:29.938Z"
   },
   {
    "duration": 7,
    "start_time": "2022-01-12T10:32:46.304Z"
   },
   {
    "duration": 9,
    "start_time": "2022-01-12T10:32:54.030Z"
   },
   {
    "duration": 16,
    "start_time": "2022-01-12T10:32:55.581Z"
   },
   {
    "duration": 15,
    "start_time": "2022-01-12T10:33:13.250Z"
   },
   {
    "duration": 34,
    "start_time": "2022-01-12T10:33:16.125Z"
   },
   {
    "duration": 6,
    "start_time": "2022-01-12T10:36:23.979Z"
   },
   {
    "duration": 94,
    "start_time": "2022-01-12T10:38:57.321Z"
   },
   {
    "duration": 107,
    "start_time": "2022-01-12T10:40:19.010Z"
   },
   {
    "duration": 11,
    "start_time": "2022-01-12T10:41:00.440Z"
   },
   {
    "duration": 8,
    "start_time": "2022-01-12T10:41:20.515Z"
   },
   {
    "duration": 14,
    "start_time": "2022-01-12T10:41:23.107Z"
   },
   {
    "duration": 110,
    "start_time": "2022-01-12T10:42:11.617Z"
   },
   {
    "duration": 108,
    "start_time": "2022-01-12T10:42:51.176Z"
   },
   {
    "duration": 11,
    "start_time": "2022-01-12T10:42:58.634Z"
   },
   {
    "duration": 51,
    "start_time": "2022-01-12T10:43:01.849Z"
   },
   {
    "duration": 6,
    "start_time": "2022-01-12T10:43:50.426Z"
   },
   {
    "duration": 438,
    "start_time": "2022-01-12T10:43:52.867Z"
   },
   {
    "duration": 62,
    "start_time": "2022-01-12T10:43:54.683Z"
   },
   {
    "duration": 1579,
    "start_time": "2022-01-12T10:44:22.213Z"
   },
   {
    "duration": 576,
    "start_time": "2022-01-12T10:44:23.795Z"
   },
   {
    "duration": 31,
    "start_time": "2022-01-12T10:44:24.375Z"
   },
   {
    "duration": 69,
    "start_time": "2022-01-12T10:44:24.409Z"
   },
   {
    "duration": 19,
    "start_time": "2022-01-12T10:44:24.482Z"
   },
   {
    "duration": 35,
    "start_time": "2022-01-12T10:44:24.503Z"
   },
   {
    "duration": 57,
    "start_time": "2022-01-12T10:44:24.541Z"
   },
   {
    "duration": 17,
    "start_time": "2022-01-12T10:44:24.605Z"
   },
   {
    "duration": 47,
    "start_time": "2022-01-12T10:44:24.626Z"
   },
   {
    "duration": 16,
    "start_time": "2022-01-12T10:44:24.677Z"
   },
   {
    "duration": 34,
    "start_time": "2022-01-12T10:44:24.696Z"
   },
   {
    "duration": 28,
    "start_time": "2022-01-12T10:44:24.733Z"
   },
   {
    "duration": 23,
    "start_time": "2022-01-12T10:44:24.764Z"
   },
   {
    "duration": 27,
    "start_time": "2022-01-12T10:44:24.789Z"
   },
   {
    "duration": 20,
    "start_time": "2022-01-12T10:44:24.819Z"
   },
   {
    "duration": 41,
    "start_time": "2022-01-12T10:44:24.842Z"
   },
   {
    "duration": 58,
    "start_time": "2022-01-12T10:44:24.886Z"
   },
   {
    "duration": 37,
    "start_time": "2022-01-12T10:44:24.947Z"
   },
   {
    "duration": 31,
    "start_time": "2022-01-12T10:44:24.987Z"
   },
   {
    "duration": 6,
    "start_time": "2022-01-12T10:44:25.021Z"
   },
   {
    "duration": 35,
    "start_time": "2022-01-12T10:44:25.030Z"
   },
   {
    "duration": 139,
    "start_time": "2022-01-12T10:44:25.068Z"
   },
   {
    "duration": 68,
    "start_time": "2022-01-12T10:44:25.213Z"
   },
   {
    "duration": 111,
    "start_time": "2022-01-12T10:44:25.285Z"
   },
   {
    "duration": 13,
    "start_time": "2022-01-12T10:44:25.399Z"
   },
   {
    "duration": 23,
    "start_time": "2022-01-12T10:44:25.415Z"
   },
   {
    "duration": 42,
    "start_time": "2022-01-12T10:44:25.441Z"
   },
   {
    "duration": 49,
    "start_time": "2022-01-12T10:44:25.486Z"
   },
   {
    "duration": 36,
    "start_time": "2022-01-12T10:44:25.538Z"
   },
   {
    "duration": 27,
    "start_time": "2022-01-12T10:44:25.577Z"
   },
   {
    "duration": 29,
    "start_time": "2022-01-12T10:44:25.607Z"
   },
   {
    "duration": 39,
    "start_time": "2022-01-12T10:44:25.639Z"
   },
   {
    "duration": 87,
    "start_time": "2022-01-12T10:44:25.680Z"
   },
   {
    "duration": 197,
    "start_time": "2022-01-12T10:44:25.770Z"
   },
   {
    "duration": 112,
    "start_time": "2022-01-12T10:44:25.974Z"
   },
   {
    "duration": 74,
    "start_time": "2022-01-12T10:44:26.089Z"
   },
   {
    "duration": 17,
    "start_time": "2022-01-12T10:44:26.171Z"
   },
   {
    "duration": 77,
    "start_time": "2022-01-12T10:44:26.191Z"
   },
   {
    "duration": 34,
    "start_time": "2022-01-12T10:44:26.270Z"
   },
   {
    "duration": 158,
    "start_time": "2022-01-12T10:44:26.307Z"
   },
   {
    "duration": 17,
    "start_time": "2022-01-12T10:44:26.470Z"
   },
   {
    "duration": 6,
    "start_time": "2022-01-12T10:44:26.490Z"
   },
   {
    "duration": 79,
    "start_time": "2022-01-12T10:44:26.498Z"
   },
   {
    "duration": 13,
    "start_time": "2022-01-12T10:44:26.580Z"
   },
   {
    "duration": 26,
    "start_time": "2022-01-12T10:44:26.595Z"
   },
   {
    "duration": 37,
    "start_time": "2022-01-12T10:44:26.624Z"
   },
   {
    "duration": 47,
    "start_time": "2022-01-12T10:44:26.665Z"
   },
   {
    "duration": 10,
    "start_time": "2022-01-12T10:44:26.716Z"
   },
   {
    "duration": 88,
    "start_time": "2022-01-12T10:44:26.729Z"
   },
   {
    "duration": 30,
    "start_time": "2022-01-12T10:44:26.819Z"
   },
   {
    "duration": 67,
    "start_time": "2022-01-12T10:44:26.851Z"
   },
   {
    "duration": 5,
    "start_time": "2022-01-12T10:44:26.921Z"
   },
   {
    "duration": 295,
    "start_time": "2022-01-12T10:44:26.929Z"
   },
   {
    "duration": 88,
    "start_time": "2022-01-12T10:44:27.227Z"
   },
   {
    "duration": 13,
    "start_time": "2022-01-12T10:46:03.549Z"
   },
   {
    "duration": 1542,
    "start_time": "2022-01-12T10:46:33.332Z"
   },
   {
    "duration": 564,
    "start_time": "2022-01-12T10:46:34.878Z"
   },
   {
    "duration": 32,
    "start_time": "2022-01-12T10:46:35.445Z"
   },
   {
    "duration": 47,
    "start_time": "2022-01-12T10:46:35.480Z"
   },
   {
    "duration": 48,
    "start_time": "2022-01-12T10:46:35.530Z"
   },
   {
    "duration": 37,
    "start_time": "2022-01-12T10:46:35.581Z"
   },
   {
    "duration": 79,
    "start_time": "2022-01-12T10:46:35.621Z"
   },
   {
    "duration": 17,
    "start_time": "2022-01-12T10:46:35.704Z"
   },
   {
    "duration": 52,
    "start_time": "2022-01-12T10:46:35.723Z"
   },
   {
    "duration": 26,
    "start_time": "2022-01-12T10:46:35.779Z"
   },
   {
    "duration": 14,
    "start_time": "2022-01-12T10:46:35.808Z"
   },
   {
    "duration": 42,
    "start_time": "2022-01-12T10:46:35.825Z"
   },
   {
    "duration": 13,
    "start_time": "2022-01-12T10:46:35.870Z"
   },
   {
    "duration": 31,
    "start_time": "2022-01-12T10:46:35.886Z"
   },
   {
    "duration": 53,
    "start_time": "2022-01-12T10:46:35.920Z"
   },
   {
    "duration": 23,
    "start_time": "2022-01-12T10:46:35.975Z"
   },
   {
    "duration": 76,
    "start_time": "2022-01-12T10:46:36.000Z"
   },
   {
    "duration": 30,
    "start_time": "2022-01-12T10:46:36.078Z"
   },
   {
    "duration": 31,
    "start_time": "2022-01-12T10:46:36.111Z"
   },
   {
    "duration": 8,
    "start_time": "2022-01-12T10:46:36.165Z"
   },
   {
    "duration": 17,
    "start_time": "2022-01-12T10:46:36.176Z"
   },
   {
    "duration": 162,
    "start_time": "2022-01-12T10:46:36.195Z"
   },
   {
    "duration": 64,
    "start_time": "2022-01-12T10:46:36.364Z"
   },
   {
    "duration": 115,
    "start_time": "2022-01-12T10:46:36.432Z"
   },
   {
    "duration": 19,
    "start_time": "2022-01-12T10:46:36.549Z"
   },
   {
    "duration": 34,
    "start_time": "2022-01-12T10:46:36.572Z"
   },
   {
    "duration": 41,
    "start_time": "2022-01-12T10:46:36.609Z"
   },
   {
    "duration": 14,
    "start_time": "2022-01-12T10:46:36.653Z"
   },
   {
    "duration": 24,
    "start_time": "2022-01-12T10:46:36.671Z"
   },
   {
    "duration": 28,
    "start_time": "2022-01-12T10:46:36.698Z"
   },
   {
    "duration": 15,
    "start_time": "2022-01-12T10:46:36.729Z"
   },
   {
    "duration": 44,
    "start_time": "2022-01-12T10:46:36.746Z"
   },
   {
    "duration": 30,
    "start_time": "2022-01-12T10:46:36.793Z"
   },
   {
    "duration": 128,
    "start_time": "2022-01-12T10:46:36.826Z"
   },
   {
    "duration": 87,
    "start_time": "2022-01-12T10:46:36.957Z"
   },
   {
    "duration": 49,
    "start_time": "2022-01-12T10:46:37.047Z"
   },
   {
    "duration": 12,
    "start_time": "2022-01-12T10:46:37.099Z"
   },
   {
    "duration": 59,
    "start_time": "2022-01-12T10:46:37.113Z"
   },
   {
    "duration": 38,
    "start_time": "2022-01-12T10:46:37.175Z"
   },
   {
    "duration": 53,
    "start_time": "2022-01-12T10:46:37.216Z"
   },
   {
    "duration": 15,
    "start_time": "2022-01-12T10:46:37.272Z"
   },
   {
    "duration": 30,
    "start_time": "2022-01-12T10:46:37.290Z"
   },
   {
    "duration": 56,
    "start_time": "2022-01-12T10:46:37.323Z"
   },
   {
    "duration": 12,
    "start_time": "2022-01-12T10:46:37.382Z"
   },
   {
    "duration": 31,
    "start_time": "2022-01-12T10:46:37.397Z"
   },
   {
    "duration": 16,
    "start_time": "2022-01-12T10:46:37.432Z"
   },
   {
    "duration": 45,
    "start_time": "2022-01-12T10:46:37.451Z"
   },
   {
    "duration": 3,
    "start_time": "2022-01-12T10:46:37.499Z"
   },
   {
    "duration": 57,
    "start_time": "2022-01-12T10:46:37.505Z"
   },
   {
    "duration": 49,
    "start_time": "2022-01-12T10:46:37.567Z"
   },
   {
    "duration": 41,
    "start_time": "2022-01-12T10:46:37.618Z"
   },
   {
    "duration": 43,
    "start_time": "2022-01-12T10:46:37.662Z"
   },
   {
    "duration": 8,
    "start_time": "2022-01-12T10:46:37.708Z"
   },
   {
    "duration": 351,
    "start_time": "2022-01-12T10:46:37.719Z"
   },
   {
    "duration": 65,
    "start_time": "2022-01-12T10:46:38.072Z"
   },
   {
    "duration": 8,
    "start_time": "2022-01-12T10:47:45.629Z"
   },
   {
    "duration": 42,
    "start_time": "2022-01-12T10:47:47.449Z"
   },
   {
    "duration": 8,
    "start_time": "2022-01-12T10:47:55.931Z"
   },
   {
    "duration": 48,
    "start_time": "2022-01-12T10:47:57.467Z"
   },
   {
    "duration": 9,
    "start_time": "2022-01-12T10:48:30.980Z"
   },
   {
    "duration": 41,
    "start_time": "2022-01-12T10:48:32.411Z"
   },
   {
    "duration": 558,
    "start_time": "2022-01-12T10:48:57.994Z"
   },
   {
    "duration": 12,
    "start_time": "2022-01-12T10:49:44.465Z"
   },
   {
    "duration": 37,
    "start_time": "2022-01-12T10:49:50.421Z"
   },
   {
    "duration": 8,
    "start_time": "2022-01-12T10:50:03.883Z"
   },
   {
    "duration": 43,
    "start_time": "2022-01-12T10:50:05.451Z"
   },
   {
    "duration": 8,
    "start_time": "2022-01-12T10:50:12.639Z"
   },
   {
    "duration": 35,
    "start_time": "2022-01-12T10:50:14.828Z"
   },
   {
    "duration": 1525,
    "start_time": "2022-01-12T10:50:31.450Z"
   },
   {
    "duration": 553,
    "start_time": "2022-01-12T10:50:32.978Z"
   },
   {
    "duration": 28,
    "start_time": "2022-01-12T10:50:33.534Z"
   },
   {
    "duration": 48,
    "start_time": "2022-01-12T10:50:33.565Z"
   },
   {
    "duration": 20,
    "start_time": "2022-01-12T10:50:33.616Z"
   },
   {
    "duration": 28,
    "start_time": "2022-01-12T10:50:33.664Z"
   },
   {
    "duration": 39,
    "start_time": "2022-01-12T10:50:33.695Z"
   },
   {
    "duration": 20,
    "start_time": "2022-01-12T10:50:33.764Z"
   },
   {
    "duration": 19,
    "start_time": "2022-01-12T10:50:33.788Z"
   },
   {
    "duration": 51,
    "start_time": "2022-01-12T10:50:33.811Z"
   },
   {
    "duration": 13,
    "start_time": "2022-01-12T10:50:33.866Z"
   },
   {
    "duration": 16,
    "start_time": "2022-01-12T10:50:33.883Z"
   },
   {
    "duration": 9,
    "start_time": "2022-01-12T10:50:33.901Z"
   },
   {
    "duration": 62,
    "start_time": "2022-01-12T10:50:33.912Z"
   },
   {
    "duration": 18,
    "start_time": "2022-01-12T10:50:33.977Z"
   },
   {
    "duration": 16,
    "start_time": "2022-01-12T10:50:33.998Z"
   },
   {
    "duration": 81,
    "start_time": "2022-01-12T10:50:34.016Z"
   },
   {
    "duration": 26,
    "start_time": "2022-01-12T10:50:34.100Z"
   },
   {
    "duration": 49,
    "start_time": "2022-01-12T10:50:34.128Z"
   },
   {
    "duration": 7,
    "start_time": "2022-01-12T10:50:34.180Z"
   },
   {
    "duration": 6,
    "start_time": "2022-01-12T10:50:34.191Z"
   },
   {
    "duration": 164,
    "start_time": "2022-01-12T10:50:34.200Z"
   },
   {
    "duration": 73,
    "start_time": "2022-01-12T10:50:34.371Z"
   },
   {
    "duration": 115,
    "start_time": "2022-01-12T10:50:34.449Z"
   },
   {
    "duration": 13,
    "start_time": "2022-01-12T10:50:34.567Z"
   },
   {
    "duration": 8,
    "start_time": "2022-01-12T10:50:34.583Z"
   },
   {
    "duration": 8,
    "start_time": "2022-01-12T10:50:34.594Z"
   },
   {
    "duration": 12,
    "start_time": "2022-01-12T10:50:34.605Z"
   },
   {
    "duration": 8,
    "start_time": "2022-01-12T10:50:34.666Z"
   },
   {
    "duration": 14,
    "start_time": "2022-01-12T10:50:34.676Z"
   },
   {
    "duration": 3,
    "start_time": "2022-01-12T10:50:34.693Z"
   },
   {
    "duration": 12,
    "start_time": "2022-01-12T10:50:34.698Z"
   },
   {
    "duration": 75,
    "start_time": "2022-01-12T10:50:34.713Z"
   },
   {
    "duration": 113,
    "start_time": "2022-01-12T10:50:34.790Z"
   },
   {
    "duration": 60,
    "start_time": "2022-01-12T10:50:34.905Z"
   },
   {
    "duration": 29,
    "start_time": "2022-01-12T10:50:34.968Z"
   },
   {
    "duration": 9,
    "start_time": "2022-01-12T10:50:35.000Z"
   },
   {
    "duration": 72,
    "start_time": "2022-01-12T10:50:35.012Z"
   },
   {
    "duration": 33,
    "start_time": "2022-01-12T10:50:35.086Z"
   },
   {
    "duration": 58,
    "start_time": "2022-01-12T10:50:35.122Z"
   },
   {
    "duration": 13,
    "start_time": "2022-01-12T10:50:35.183Z"
   },
   {
    "duration": 6,
    "start_time": "2022-01-12T10:50:35.198Z"
   },
   {
    "duration": 69,
    "start_time": "2022-01-12T10:50:35.206Z"
   },
   {
    "duration": 10,
    "start_time": "2022-01-12T10:50:35.279Z"
   },
   {
    "duration": 9,
    "start_time": "2022-01-12T10:50:35.291Z"
   },
   {
    "duration": 16,
    "start_time": "2022-01-12T10:50:35.302Z"
   },
   {
    "duration": 52,
    "start_time": "2022-01-12T10:50:35.320Z"
   },
   {
    "duration": 3,
    "start_time": "2022-01-12T10:50:35.375Z"
   },
   {
    "duration": 33,
    "start_time": "2022-01-12T10:50:35.381Z"
   },
   {
    "duration": 12,
    "start_time": "2022-01-12T10:50:35.416Z"
   },
   {
    "duration": 40,
    "start_time": "2022-01-12T10:50:35.431Z"
   },
   {
    "duration": 37,
    "start_time": "2022-01-12T10:50:35.479Z"
   },
   {
    "duration": 8,
    "start_time": "2022-01-12T10:50:35.519Z"
   },
   {
    "duration": 238,
    "start_time": "2022-01-12T10:50:35.530Z"
   },
   {
    "duration": 62,
    "start_time": "2022-01-12T10:50:35.770Z"
   },
   {
    "duration": 46,
    "start_time": "2022-01-12T10:50:48.142Z"
   },
   {
    "duration": 58,
    "start_time": "2022-01-12T10:51:02.306Z"
   },
   {
    "duration": 56,
    "start_time": "2022-01-12T11:03:00.178Z"
   },
   {
    "duration": 9,
    "start_time": "2022-01-12T11:08:42.980Z"
   },
   {
    "duration": 55,
    "start_time": "2022-01-12T11:09:15.180Z"
   },
   {
    "duration": 53,
    "start_time": "2022-01-12T11:09:35.627Z"
   },
   {
    "duration": 48,
    "start_time": "2022-01-12T11:09:41.458Z"
   },
   {
    "duration": 13,
    "start_time": "2022-01-12T11:09:54.039Z"
   },
   {
    "duration": 86,
    "start_time": "2022-01-12T11:10:14.134Z"
   },
   {
    "duration": 597,
    "start_time": "2022-01-12T11:11:19.048Z"
   },
   {
    "duration": 122,
    "start_time": "2022-01-12T11:12:07.970Z"
   },
   {
    "duration": 95,
    "start_time": "2022-01-12T11:12:19.608Z"
   },
   {
    "duration": 62,
    "start_time": "2022-01-12T11:13:39.859Z"
   },
   {
    "duration": 1153,
    "start_time": "2022-01-13T08:22:30.387Z"
   },
   {
    "duration": 410,
    "start_time": "2022-01-13T08:22:31.543Z"
   },
   {
    "duration": 22,
    "start_time": "2022-01-13T08:22:31.956Z"
   },
   {
    "duration": 33,
    "start_time": "2022-01-13T08:22:31.980Z"
   },
   {
    "duration": 15,
    "start_time": "2022-01-13T08:22:32.015Z"
   },
   {
    "duration": 39,
    "start_time": "2022-01-13T08:22:32.032Z"
   },
   {
    "duration": 30,
    "start_time": "2022-01-13T08:22:32.073Z"
   },
   {
    "duration": 13,
    "start_time": "2022-01-13T08:22:32.106Z"
   },
   {
    "duration": 49,
    "start_time": "2022-01-13T08:22:32.121Z"
   },
   {
    "duration": 10,
    "start_time": "2022-01-13T08:22:32.172Z"
   },
   {
    "duration": 8,
    "start_time": "2022-01-13T08:22:32.183Z"
   },
   {
    "duration": 13,
    "start_time": "2022-01-13T08:22:32.192Z"
   },
   {
    "duration": 10,
    "start_time": "2022-01-13T08:22:32.206Z"
   },
   {
    "duration": 17,
    "start_time": "2022-01-13T08:22:32.218Z"
   },
   {
    "duration": 32,
    "start_time": "2022-01-13T08:22:32.237Z"
   },
   {
    "duration": 12,
    "start_time": "2022-01-13T08:22:32.271Z"
   },
   {
    "duration": 37,
    "start_time": "2022-01-13T08:22:32.285Z"
   },
   {
    "duration": 40,
    "start_time": "2022-01-13T08:22:32.324Z"
   },
   {
    "duration": 25,
    "start_time": "2022-01-13T08:22:32.366Z"
   },
   {
    "duration": 4,
    "start_time": "2022-01-13T08:22:32.393Z"
   },
   {
    "duration": 8,
    "start_time": "2022-01-13T08:22:32.399Z"
   },
   {
    "duration": 106,
    "start_time": "2022-01-13T08:22:32.409Z"
   },
   {
    "duration": 47,
    "start_time": "2022-01-13T08:22:32.519Z"
   },
   {
    "duration": 54,
    "start_time": "2022-01-13T08:22:32.568Z"
   },
   {
    "duration": 7,
    "start_time": "2022-01-13T08:22:32.624Z"
   },
   {
    "duration": 31,
    "start_time": "2022-01-13T08:22:32.633Z"
   },
   {
    "duration": 11,
    "start_time": "2022-01-13T08:22:32.666Z"
   },
   {
    "duration": 17,
    "start_time": "2022-01-13T08:22:32.678Z"
   },
   {
    "duration": 7,
    "start_time": "2022-01-13T08:22:32.697Z"
   },
   {
    "duration": 11,
    "start_time": "2022-01-13T08:22:32.706Z"
   },
   {
    "duration": 18,
    "start_time": "2022-01-13T08:22:32.719Z"
   },
   {
    "duration": 83,
    "start_time": "2022-01-13T08:22:32.739Z"
   },
   {
    "duration": 55,
    "start_time": "2022-01-13T08:22:32.823Z"
   },
   {
    "duration": 19,
    "start_time": "2022-01-13T08:22:32.880Z"
   },
   {
    "duration": 7,
    "start_time": "2022-01-13T08:22:32.901Z"
   },
   {
    "duration": 20,
    "start_time": "2022-01-13T08:22:32.910Z"
   },
   {
    "duration": 48,
    "start_time": "2022-01-13T08:22:32.932Z"
   },
   {
    "duration": 22,
    "start_time": "2022-01-13T08:22:32.982Z"
   },
   {
    "duration": 9,
    "start_time": "2022-01-13T08:22:33.006Z"
   },
   {
    "duration": 11,
    "start_time": "2022-01-13T08:22:33.017Z"
   },
   {
    "duration": 51,
    "start_time": "2022-01-13T08:22:33.030Z"
   },
   {
    "duration": 9,
    "start_time": "2022-01-13T08:22:33.084Z"
   },
   {
    "duration": 26,
    "start_time": "2022-01-13T08:22:33.095Z"
   },
   {
    "duration": 21,
    "start_time": "2022-01-13T08:22:33.123Z"
   },
   {
    "duration": 32,
    "start_time": "2022-01-13T08:22:33.146Z"
   },
   {
    "duration": 30,
    "start_time": "2022-01-13T08:22:33.180Z"
   },
   {
    "duration": 19,
    "start_time": "2022-01-13T08:22:33.212Z"
   },
   {
    "duration": 28,
    "start_time": "2022-01-13T08:22:33.232Z"
   },
   {
    "duration": 16,
    "start_time": "2022-01-13T08:22:33.262Z"
   },
   {
    "duration": 142,
    "start_time": "2022-01-13T08:22:33.280Z"
   },
   {
    "duration": 24,
    "start_time": "2022-01-13T08:22:33.424Z"
   },
   {
    "duration": 38,
    "start_time": "2022-01-13T08:22:33.450Z"
   },
   {
    "duration": 19,
    "start_time": "2022-01-13T08:22:33.490Z"
   },
   {
    "duration": 10,
    "start_time": "2022-01-13T08:22:33.511Z"
   },
   {
    "duration": 36,
    "start_time": "2022-01-13T08:22:33.523Z"
   },
   {
    "duration": 7,
    "start_time": "2022-01-13T08:26:04.483Z"
   },
   {
    "duration": 17,
    "start_time": "2022-01-13T08:26:06.718Z"
   },
   {
    "duration": 8,
    "start_time": "2022-01-13T08:33:46.913Z"
   },
   {
    "duration": 7,
    "start_time": "2022-01-13T08:33:58.580Z"
   },
   {
    "duration": 7,
    "start_time": "2022-01-13T08:34:22.820Z"
   },
   {
    "duration": 6,
    "start_time": "2022-01-13T08:34:52.092Z"
   },
   {
    "duration": 8,
    "start_time": "2022-01-13T08:34:57.616Z"
   },
   {
    "duration": 6,
    "start_time": "2022-01-13T08:36:25.637Z"
   },
   {
    "duration": 22,
    "start_time": "2022-01-13T08:50:08.664Z"
   },
   {
    "duration": 35,
    "start_time": "2022-01-13T08:51:10.387Z"
   },
   {
    "duration": 25,
    "start_time": "2022-01-13T08:51:32.296Z"
   },
   {
    "duration": 382,
    "start_time": "2022-01-13T08:51:56.043Z"
   },
   {
    "duration": 25,
    "start_time": "2022-01-13T08:52:08.209Z"
   },
   {
    "duration": 26,
    "start_time": "2022-01-13T08:52:34.916Z"
   },
   {
    "duration": 26,
    "start_time": "2022-01-13T08:52:43.551Z"
   },
   {
    "duration": 278,
    "start_time": "2022-01-13T10:15:37.757Z"
   },
   {
    "duration": 290,
    "start_time": "2022-01-13T10:15:52.581Z"
   },
   {
    "duration": 97,
    "start_time": "2022-01-13T10:16:00.592Z"
   },
   {
    "duration": 258,
    "start_time": "2022-01-13T10:16:08.533Z"
   },
   {
    "duration": 1287,
    "start_time": "2022-01-13T10:25:34.556Z"
   },
   {
    "duration": 433,
    "start_time": "2022-01-13T10:25:35.845Z"
   },
   {
    "duration": 22,
    "start_time": "2022-01-13T10:25:36.281Z"
   },
   {
    "duration": 33,
    "start_time": "2022-01-13T10:25:36.305Z"
   },
   {
    "duration": 25,
    "start_time": "2022-01-13T10:25:36.339Z"
   },
   {
    "duration": 23,
    "start_time": "2022-01-13T10:25:36.366Z"
   },
   {
    "duration": 30,
    "start_time": "2022-01-13T10:25:36.391Z"
   },
   {
    "duration": 12,
    "start_time": "2022-01-13T10:25:36.423Z"
   },
   {
    "duration": 44,
    "start_time": "2022-01-13T10:25:36.438Z"
   },
   {
    "duration": 11,
    "start_time": "2022-01-13T10:25:36.484Z"
   },
   {
    "duration": 10,
    "start_time": "2022-01-13T10:25:36.496Z"
   },
   {
    "duration": 12,
    "start_time": "2022-01-13T10:25:36.508Z"
   },
   {
    "duration": 42,
    "start_time": "2022-01-13T10:25:36.521Z"
   },
   {
    "duration": 19,
    "start_time": "2022-01-13T10:25:36.565Z"
   },
   {
    "duration": 20,
    "start_time": "2022-01-13T10:25:36.585Z"
   },
   {
    "duration": 12,
    "start_time": "2022-01-13T10:25:36.608Z"
   },
   {
    "duration": 60,
    "start_time": "2022-01-13T10:25:36.622Z"
   },
   {
    "duration": 21,
    "start_time": "2022-01-13T10:25:36.684Z"
   },
   {
    "duration": 23,
    "start_time": "2022-01-13T10:25:36.707Z"
   },
   {
    "duration": 4,
    "start_time": "2022-01-13T10:25:36.732Z"
   },
   {
    "duration": 31,
    "start_time": "2022-01-13T10:25:36.738Z"
   },
   {
    "duration": 109,
    "start_time": "2022-01-13T10:25:36.772Z"
   },
   {
    "duration": 43,
    "start_time": "2022-01-13T10:25:36.885Z"
   },
   {
    "duration": 83,
    "start_time": "2022-01-13T10:25:36.930Z"
   },
   {
    "duration": 8,
    "start_time": "2022-01-13T10:25:37.015Z"
   },
   {
    "duration": 10,
    "start_time": "2022-01-13T10:25:37.025Z"
   },
   {
    "duration": 25,
    "start_time": "2022-01-13T10:25:37.036Z"
   },
   {
    "duration": 14,
    "start_time": "2022-01-13T10:25:37.065Z"
   },
   {
    "duration": 7,
    "start_time": "2022-01-13T10:25:37.081Z"
   },
   {
    "duration": 10,
    "start_time": "2022-01-13T10:25:37.090Z"
   },
   {
    "duration": 20,
    "start_time": "2022-01-13T10:25:37.102Z"
   },
   {
    "duration": 101,
    "start_time": "2022-01-13T10:25:37.124Z"
   },
   {
    "duration": 62,
    "start_time": "2022-01-13T10:25:37.227Z"
   },
   {
    "duration": 19,
    "start_time": "2022-01-13T10:25:37.292Z"
   },
   {
    "duration": 15,
    "start_time": "2022-01-13T10:25:37.313Z"
   },
   {
    "duration": 34,
    "start_time": "2022-01-13T10:25:37.330Z"
   },
   {
    "duration": 25,
    "start_time": "2022-01-13T10:25:37.367Z"
   },
   {
    "duration": 20,
    "start_time": "2022-01-13T10:25:37.394Z"
   },
   {
    "duration": 8,
    "start_time": "2022-01-13T10:25:37.416Z"
   },
   {
    "duration": 40,
    "start_time": "2022-01-13T10:25:37.426Z"
   },
   {
    "duration": 33,
    "start_time": "2022-01-13T10:25:37.469Z"
   },
   {
    "duration": 7,
    "start_time": "2022-01-13T10:25:37.504Z"
   },
   {
    "duration": 5,
    "start_time": "2022-01-13T10:25:37.513Z"
   },
   {
    "duration": 13,
    "start_time": "2022-01-13T10:25:37.519Z"
   },
   {
    "duration": 31,
    "start_time": "2022-01-13T10:25:37.534Z"
   },
   {
    "duration": 11,
    "start_time": "2022-01-13T10:25:37.568Z"
   },
   {
    "duration": 11,
    "start_time": "2022-01-13T10:25:37.581Z"
   },
   {
    "duration": 23,
    "start_time": "2022-01-13T10:25:37.594Z"
   },
   {
    "duration": 9,
    "start_time": "2022-01-13T10:25:37.620Z"
   },
   {
    "duration": 157,
    "start_time": "2022-01-13T10:25:37.631Z"
   },
   {
    "duration": 23,
    "start_time": "2022-01-13T10:25:37.789Z"
   },
   {
    "duration": 30,
    "start_time": "2022-01-13T10:25:37.814Z"
   },
   {
    "duration": 10,
    "start_time": "2022-01-13T10:25:37.860Z"
   },
   {
    "duration": 24,
    "start_time": "2022-01-13T10:25:37.873Z"
   },
   {
    "duration": 6,
    "start_time": "2022-01-13T10:25:37.899Z"
   },
   {
    "duration": 9,
    "start_time": "2022-01-13T10:25:37.907Z"
   },
   {
    "duration": 57,
    "start_time": "2022-01-13T10:25:37.918Z"
   },
   {
    "duration": 27,
    "start_time": "2022-01-13T10:25:37.978Z"
   },
   {
    "duration": 292,
    "start_time": "2022-01-13T10:25:38.006Z"
   },
   {
    "duration": 358,
    "start_time": "2022-01-13T10:25:38.300Z"
   },
   {
    "duration": 327,
    "start_time": "2022-01-13T10:26:31.228Z"
   },
   {
    "duration": 2480,
    "start_time": "2022-01-13T10:26:46.030Z"
   },
   {
    "duration": 6637,
    "start_time": "2022-01-13T10:27:58.615Z"
   },
   {
    "duration": 783,
    "start_time": "2022-01-13T10:28:25.381Z"
   },
   {
    "duration": 283,
    "start_time": "2022-01-13T10:28:47.407Z"
   },
   {
    "duration": 243,
    "start_time": "2022-01-13T10:29:15.567Z"
   },
   {
    "duration": 365,
    "start_time": "2022-01-13T10:29:23.710Z"
   },
   {
    "duration": 84,
    "start_time": "2022-01-13T10:29:30.506Z"
   },
   {
    "duration": 87,
    "start_time": "2022-01-13T10:29:45.912Z"
   },
   {
    "duration": 89,
    "start_time": "2022-01-13T10:29:52.766Z"
   },
   {
    "duration": 269,
    "start_time": "2022-01-13T10:30:05.829Z"
   },
   {
    "duration": 195,
    "start_time": "2022-01-13T10:30:21.248Z"
   },
   {
    "duration": 193,
    "start_time": "2022-01-13T10:30:38.796Z"
   },
   {
    "duration": 359,
    "start_time": "2022-01-13T10:30:47.029Z"
   },
   {
    "duration": 28,
    "start_time": "2022-01-13T11:24:22.737Z"
   },
   {
    "duration": 42,
    "start_time": "2022-01-13T11:24:42.176Z"
   },
   {
    "duration": 26,
    "start_time": "2022-01-13T11:25:06.277Z"
   },
   {
    "duration": 29,
    "start_time": "2022-01-13T11:25:20.982Z"
   },
   {
    "duration": 39,
    "start_time": "2022-01-13T11:25:37.681Z"
   },
   {
    "duration": 7958,
    "start_time": "2022-01-13T11:28:10.532Z"
   },
   {
    "duration": 7033,
    "start_time": "2022-01-13T11:28:47.693Z"
   },
   {
    "duration": 39,
    "start_time": "2022-01-13T11:29:17.109Z"
   },
   {
    "duration": 112,
    "start_time": "2022-01-13T11:32:05.025Z"
   },
   {
    "duration": 30,
    "start_time": "2022-01-13T11:32:15.518Z"
   },
   {
    "duration": 77,
    "start_time": "2022-01-13T11:32:27.930Z"
   },
   {
    "duration": 35,
    "start_time": "2022-01-13T11:33:23.115Z"
   },
   {
    "duration": 34,
    "start_time": "2022-01-13T11:33:56.492Z"
   },
   {
    "duration": 313,
    "start_time": "2022-01-13T11:35:57.805Z"
   },
   {
    "duration": 9,
    "start_time": "2022-01-13T11:41:53.538Z"
   },
   {
    "duration": 7,
    "start_time": "2022-01-13T13:06:22.974Z"
   },
   {
    "duration": 9,
    "start_time": "2022-01-13T13:06:49.278Z"
   },
   {
    "duration": 5,
    "start_time": "2022-01-13T13:10:11.674Z"
   },
   {
    "duration": 11,
    "start_time": "2022-01-13T13:10:25.954Z"
   },
   {
    "duration": 10,
    "start_time": "2022-01-13T13:10:43.720Z"
   },
   {
    "duration": 11,
    "start_time": "2022-01-13T13:11:16.406Z"
   },
   {
    "duration": 8,
    "start_time": "2022-01-13T13:11:29.990Z"
   },
   {
    "duration": 65,
    "start_time": "2022-01-13T13:11:47.898Z"
   },
   {
    "duration": 8,
    "start_time": "2022-01-13T13:11:58.470Z"
   },
   {
    "duration": 265,
    "start_time": "2022-01-13T13:12:07.381Z"
   },
   {
    "duration": 78,
    "start_time": "2022-01-13T13:15:02.498Z"
   },
   {
    "duration": 10,
    "start_time": "2022-01-13T13:15:46.835Z"
   },
   {
    "duration": 97,
    "start_time": "2022-01-13T13:16:34.152Z"
   },
   {
    "duration": 86,
    "start_time": "2022-01-13T13:25:14.093Z"
   },
   {
    "duration": 25,
    "start_time": "2022-01-13T13:25:40.486Z"
   },
   {
    "duration": 7,
    "start_time": "2022-01-13T13:27:10.296Z"
   },
   {
    "duration": 24,
    "start_time": "2022-01-13T13:27:12.826Z"
   },
   {
    "duration": 1141,
    "start_time": "2022-01-13T14:06:15.188Z"
   },
   {
    "duration": 395,
    "start_time": "2022-01-13T14:06:16.330Z"
   },
   {
    "duration": 22,
    "start_time": "2022-01-13T14:06:16.727Z"
   },
   {
    "duration": 52,
    "start_time": "2022-01-13T14:06:16.751Z"
   },
   {
    "duration": 25,
    "start_time": "2022-01-13T14:06:16.805Z"
   },
   {
    "duration": 26,
    "start_time": "2022-01-13T14:06:16.832Z"
   },
   {
    "duration": 42,
    "start_time": "2022-01-13T14:06:16.860Z"
   },
   {
    "duration": 28,
    "start_time": "2022-01-13T14:06:16.906Z"
   },
   {
    "duration": 32,
    "start_time": "2022-01-13T14:06:16.936Z"
   },
   {
    "duration": 44,
    "start_time": "2022-01-13T14:06:16.970Z"
   },
   {
    "duration": 42,
    "start_time": "2022-01-13T14:06:17.016Z"
   },
   {
    "duration": 36,
    "start_time": "2022-01-13T14:06:17.061Z"
   },
   {
    "duration": 55,
    "start_time": "2022-01-13T14:06:17.099Z"
   },
   {
    "duration": 70,
    "start_time": "2022-01-13T14:06:17.156Z"
   },
   {
    "duration": 26,
    "start_time": "2022-01-13T14:06:17.228Z"
   },
   {
    "duration": 34,
    "start_time": "2022-01-13T14:06:17.256Z"
   },
   {
    "duration": 69,
    "start_time": "2022-01-13T14:06:17.291Z"
   },
   {
    "duration": 19,
    "start_time": "2022-01-13T14:06:17.361Z"
   },
   {
    "duration": 39,
    "start_time": "2022-01-13T14:06:17.382Z"
   },
   {
    "duration": 17,
    "start_time": "2022-01-13T14:06:17.422Z"
   },
   {
    "duration": 50,
    "start_time": "2022-01-13T14:06:17.440Z"
   },
   {
    "duration": 116,
    "start_time": "2022-01-13T14:06:17.492Z"
   },
   {
    "duration": 49,
    "start_time": "2022-01-13T14:06:17.612Z"
   },
   {
    "duration": 49,
    "start_time": "2022-01-13T14:06:17.664Z"
   },
   {
    "duration": 6,
    "start_time": "2022-01-13T14:06:17.715Z"
   },
   {
    "duration": 34,
    "start_time": "2022-01-13T14:06:17.723Z"
   },
   {
    "duration": 27,
    "start_time": "2022-01-13T14:06:17.758Z"
   },
   {
    "duration": 34,
    "start_time": "2022-01-13T14:06:17.787Z"
   },
   {
    "duration": 26,
    "start_time": "2022-01-13T14:06:17.822Z"
   },
   {
    "duration": 36,
    "start_time": "2022-01-13T14:06:17.850Z"
   },
   {
    "duration": 48,
    "start_time": "2022-01-13T14:06:17.888Z"
   },
   {
    "duration": 84,
    "start_time": "2022-01-13T14:06:17.937Z"
   },
   {
    "duration": 43,
    "start_time": "2022-01-13T14:06:18.023Z"
   },
   {
    "duration": 16,
    "start_time": "2022-01-13T14:06:18.067Z"
   },
   {
    "duration": 32,
    "start_time": "2022-01-13T14:06:18.085Z"
   },
   {
    "duration": 50,
    "start_time": "2022-01-13T14:06:18.118Z"
   },
   {
    "duration": 23,
    "start_time": "2022-01-13T14:06:18.170Z"
   },
   {
    "duration": 26,
    "start_time": "2022-01-13T14:06:18.195Z"
   },
   {
    "duration": 20,
    "start_time": "2022-01-13T14:06:18.223Z"
   },
   {
    "duration": 24,
    "start_time": "2022-01-13T14:06:18.245Z"
   },
   {
    "duration": 48,
    "start_time": "2022-01-13T14:06:18.271Z"
   },
   {
    "duration": 13,
    "start_time": "2022-01-13T14:06:18.321Z"
   },
   {
    "duration": 20,
    "start_time": "2022-01-13T14:06:18.336Z"
   },
   {
    "duration": 36,
    "start_time": "2022-01-13T14:06:18.358Z"
   },
   {
    "duration": 25,
    "start_time": "2022-01-13T14:06:18.396Z"
   },
   {
    "duration": 14,
    "start_time": "2022-01-13T14:06:18.423Z"
   },
   {
    "duration": 32,
    "start_time": "2022-01-13T14:06:18.438Z"
   },
   {
    "duration": 45,
    "start_time": "2022-01-13T14:06:18.471Z"
   },
   {
    "duration": 41,
    "start_time": "2022-01-13T14:06:18.518Z"
   },
   {
    "duration": 7095,
    "start_time": "2022-01-13T14:06:18.561Z"
   },
   {
    "duration": -1243,
    "start_time": "2022-01-13T14:06:26.901Z"
   },
   {
    "duration": -1251,
    "start_time": "2022-01-13T14:06:26.910Z"
   },
   {
    "duration": -1258,
    "start_time": "2022-01-13T14:06:26.918Z"
   },
   {
    "duration": -1273,
    "start_time": "2022-01-13T14:06:26.934Z"
   },
   {
    "duration": -1284,
    "start_time": "2022-01-13T14:06:26.946Z"
   },
   {
    "duration": -1296,
    "start_time": "2022-01-13T14:06:26.959Z"
   },
   {
    "duration": -1303,
    "start_time": "2022-01-13T14:06:26.967Z"
   },
   {
    "duration": -1334,
    "start_time": "2022-01-13T14:06:26.999Z"
   },
   {
    "duration": -1345,
    "start_time": "2022-01-13T14:06:27.010Z"
   },
   {
    "duration": -1353,
    "start_time": "2022-01-13T14:06:27.019Z"
   },
   {
    "duration": -1364,
    "start_time": "2022-01-13T14:06:27.031Z"
   },
   {
    "duration": -1374,
    "start_time": "2022-01-13T14:06:27.042Z"
   },
   {
    "duration": -1383,
    "start_time": "2022-01-13T14:06:27.052Z"
   },
   {
    "duration": -1392,
    "start_time": "2022-01-13T14:06:27.062Z"
   },
   {
    "duration": -1400,
    "start_time": "2022-01-13T14:06:27.071Z"
   },
   {
    "duration": -1409,
    "start_time": "2022-01-13T14:06:27.081Z"
   },
   {
    "duration": -1416,
    "start_time": "2022-01-13T14:06:27.089Z"
   },
   {
    "duration": -1441,
    "start_time": "2022-01-13T14:06:27.115Z"
   },
   {
    "duration": -1453,
    "start_time": "2022-01-13T14:06:27.128Z"
   },
   {
    "duration": -1463,
    "start_time": "2022-01-13T14:06:27.139Z"
   },
   {
    "duration": -1472,
    "start_time": "2022-01-13T14:06:27.148Z"
   },
   {
    "duration": -1481,
    "start_time": "2022-01-13T14:06:27.158Z"
   },
   {
    "duration": -1488,
    "start_time": "2022-01-13T14:06:27.166Z"
   },
   {
    "duration": -1499,
    "start_time": "2022-01-13T14:06:27.178Z"
   },
   {
    "duration": -1507,
    "start_time": "2022-01-13T14:06:27.187Z"
   },
   {
    "duration": -1516,
    "start_time": "2022-01-13T14:06:27.197Z"
   },
   {
    "duration": -1526,
    "start_time": "2022-01-13T14:06:27.207Z"
   },
   {
    "duration": -1551,
    "start_time": "2022-01-13T14:06:27.233Z"
   },
   {
    "duration": -1559,
    "start_time": "2022-01-13T14:06:27.242Z"
   },
   {
    "duration": -1567,
    "start_time": "2022-01-13T14:06:27.252Z"
   },
   {
    "duration": -1574,
    "start_time": "2022-01-13T14:06:27.260Z"
   },
   {
    "duration": -1583,
    "start_time": "2022-01-13T14:06:27.270Z"
   },
   {
    "duration": -1592,
    "start_time": "2022-01-13T14:06:27.280Z"
   },
   {
    "duration": -1600,
    "start_time": "2022-01-13T14:06:27.289Z"
   },
   {
    "duration": -1607,
    "start_time": "2022-01-13T14:06:27.297Z"
   },
   {
    "duration": 6520,
    "start_time": "2022-01-13T14:07:50.225Z"
   },
   {
    "duration": 1200,
    "start_time": "2022-01-13T14:08:03.135Z"
   },
   {
    "duration": 398,
    "start_time": "2022-01-13T14:08:04.337Z"
   },
   {
    "duration": 23,
    "start_time": "2022-01-13T14:08:04.737Z"
   },
   {
    "duration": 33,
    "start_time": "2022-01-13T14:08:04.763Z"
   },
   {
    "duration": 14,
    "start_time": "2022-01-13T14:08:04.798Z"
   },
   {
    "duration": 17,
    "start_time": "2022-01-13T14:08:04.814Z"
   },
   {
    "duration": 52,
    "start_time": "2022-01-13T14:08:04.833Z"
   },
   {
    "duration": 12,
    "start_time": "2022-01-13T14:08:04.888Z"
   },
   {
    "duration": 25,
    "start_time": "2022-01-13T14:08:04.902Z"
   },
   {
    "duration": 10,
    "start_time": "2022-01-13T14:08:04.929Z"
   },
   {
    "duration": 26,
    "start_time": "2022-01-13T14:08:04.940Z"
   },
   {
    "duration": 15,
    "start_time": "2022-01-13T14:08:04.968Z"
   },
   {
    "duration": 11,
    "start_time": "2022-01-13T14:08:04.985Z"
   },
   {
    "duration": 35,
    "start_time": "2022-01-13T14:08:04.997Z"
   },
   {
    "duration": 33,
    "start_time": "2022-01-13T14:08:05.033Z"
   },
   {
    "duration": 32,
    "start_time": "2022-01-13T14:08:05.067Z"
   },
   {
    "duration": 53,
    "start_time": "2022-01-13T14:08:05.101Z"
   },
   {
    "duration": 20,
    "start_time": "2022-01-13T14:08:05.155Z"
   },
   {
    "duration": 42,
    "start_time": "2022-01-13T14:08:05.176Z"
   },
   {
    "duration": 9,
    "start_time": "2022-01-13T14:08:05.220Z"
   },
   {
    "duration": 18,
    "start_time": "2022-01-13T14:08:05.230Z"
   },
   {
    "duration": 114,
    "start_time": "2022-01-13T14:08:05.250Z"
   },
   {
    "duration": 43,
    "start_time": "2022-01-13T14:08:05.368Z"
   },
   {
    "duration": 66,
    "start_time": "2022-01-13T14:08:05.414Z"
   },
   {
    "duration": 7,
    "start_time": "2022-01-13T14:08:05.482Z"
   },
   {
    "duration": 39,
    "start_time": "2022-01-13T14:08:05.490Z"
   },
   {
    "duration": 33,
    "start_time": "2022-01-13T14:08:05.531Z"
   },
   {
    "duration": 24,
    "start_time": "2022-01-13T14:08:05.566Z"
   },
   {
    "duration": 16,
    "start_time": "2022-01-13T14:08:05.592Z"
   },
   {
    "duration": 29,
    "start_time": "2022-01-13T14:08:05.610Z"
   },
   {
    "duration": 33,
    "start_time": "2022-01-13T14:08:05.641Z"
   },
   {
    "duration": 65,
    "start_time": "2022-01-13T14:08:05.675Z"
   },
   {
    "duration": 65,
    "start_time": "2022-01-13T14:08:05.741Z"
   },
   {
    "duration": 23,
    "start_time": "2022-01-13T14:08:05.808Z"
   },
   {
    "duration": 29,
    "start_time": "2022-01-13T14:08:05.833Z"
   },
   {
    "duration": 19,
    "start_time": "2022-01-13T14:08:05.864Z"
   },
   {
    "duration": 24,
    "start_time": "2022-01-13T14:08:05.885Z"
   },
   {
    "duration": 50,
    "start_time": "2022-01-13T14:08:05.911Z"
   },
   {
    "duration": 9,
    "start_time": "2022-01-13T14:08:05.962Z"
   },
   {
    "duration": 19,
    "start_time": "2022-01-13T14:08:05.973Z"
   },
   {
    "duration": 53,
    "start_time": "2022-01-13T14:08:05.994Z"
   },
   {
    "duration": 7,
    "start_time": "2022-01-13T14:08:06.049Z"
   },
   {
    "duration": 27,
    "start_time": "2022-01-13T14:08:06.058Z"
   },
   {
    "duration": 42,
    "start_time": "2022-01-13T14:08:06.086Z"
   },
   {
    "duration": 31,
    "start_time": "2022-01-13T14:08:06.130Z"
   },
   {
    "duration": 34,
    "start_time": "2022-01-13T14:08:06.162Z"
   },
   {
    "duration": 25,
    "start_time": "2022-01-13T14:08:06.198Z"
   },
   {
    "duration": 39,
    "start_time": "2022-01-13T14:08:06.225Z"
   },
   {
    "duration": 26,
    "start_time": "2022-01-13T14:08:06.266Z"
   },
   {
    "duration": 6739,
    "start_time": "2022-01-13T14:08:06.294Z"
   },
   {
    "duration": -1233,
    "start_time": "2022-01-13T14:08:14.269Z"
   },
   {
    "duration": -1243,
    "start_time": "2022-01-13T14:08:14.280Z"
   },
   {
    "duration": -1251,
    "start_time": "2022-01-13T14:08:14.288Z"
   },
   {
    "duration": -1261,
    "start_time": "2022-01-13T14:08:14.299Z"
   },
   {
    "duration": -1288,
    "start_time": "2022-01-13T14:08:14.327Z"
   },
   {
    "duration": -1351,
    "start_time": "2022-01-13T14:08:14.391Z"
   },
   {
    "duration": -1462,
    "start_time": "2022-01-13T14:08:14.503Z"
   },
   {
    "duration": -1497,
    "start_time": "2022-01-13T14:08:14.539Z"
   },
   {
    "duration": -1508,
    "start_time": "2022-01-13T14:08:14.551Z"
   },
   {
    "duration": -1518,
    "start_time": "2022-01-13T14:08:14.562Z"
   },
   {
    "duration": -1528,
    "start_time": "2022-01-13T14:08:14.572Z"
   },
   {
    "duration": -1537,
    "start_time": "2022-01-13T14:08:14.582Z"
   },
   {
    "duration": -1544,
    "start_time": "2022-01-13T14:08:14.590Z"
   },
   {
    "duration": -1554,
    "start_time": "2022-01-13T14:08:14.601Z"
   },
   {
    "duration": -1562,
    "start_time": "2022-01-13T14:08:14.609Z"
   },
   {
    "duration": -1572,
    "start_time": "2022-01-13T14:08:14.620Z"
   },
   {
    "duration": -1607,
    "start_time": "2022-01-13T14:08:14.656Z"
   },
   {
    "duration": -1618,
    "start_time": "2022-01-13T14:08:14.668Z"
   },
   {
    "duration": -1625,
    "start_time": "2022-01-13T14:08:14.676Z"
   },
   {
    "duration": -1634,
    "start_time": "2022-01-13T14:08:14.685Z"
   },
   {
    "duration": -1641,
    "start_time": "2022-01-13T14:08:14.693Z"
   },
   {
    "duration": -1649,
    "start_time": "2022-01-13T14:08:14.702Z"
   },
   {
    "duration": -1655,
    "start_time": "2022-01-13T14:08:14.710Z"
   },
   {
    "duration": -1663,
    "start_time": "2022-01-13T14:08:14.719Z"
   },
   {
    "duration": -1669,
    "start_time": "2022-01-13T14:08:14.726Z"
   },
   {
    "duration": -1680,
    "start_time": "2022-01-13T14:08:14.738Z"
   },
   {
    "duration": -1689,
    "start_time": "2022-01-13T14:08:14.748Z"
   },
   {
    "duration": -1720,
    "start_time": "2022-01-13T14:08:14.780Z"
   },
   {
    "duration": -1730,
    "start_time": "2022-01-13T14:08:14.791Z"
   },
   {
    "duration": -1739,
    "start_time": "2022-01-13T14:08:14.801Z"
   },
   {
    "duration": -1747,
    "start_time": "2022-01-13T14:08:14.809Z"
   },
   {
    "duration": -1756,
    "start_time": "2022-01-13T14:08:14.819Z"
   },
   {
    "duration": -1762,
    "start_time": "2022-01-13T14:08:14.826Z"
   },
   {
    "duration": -1772,
    "start_time": "2022-01-13T14:08:14.837Z"
   },
   {
    "duration": -1779,
    "start_time": "2022-01-13T14:08:14.845Z"
   },
   {
    "duration": 82,
    "start_time": "2022-01-13T14:09:06.197Z"
   },
   {
    "duration": 6,
    "start_time": "2022-01-13T14:09:21.573Z"
   },
   {
    "duration": 22,
    "start_time": "2022-01-13T14:09:26.025Z"
   },
   {
    "duration": 6,
    "start_time": "2022-01-13T14:10:02.075Z"
   },
   {
    "duration": 23,
    "start_time": "2022-01-13T14:10:04.315Z"
   },
   {
    "duration": 4,
    "start_time": "2022-01-13T14:10:10.719Z"
   },
   {
    "duration": 174,
    "start_time": "2022-01-13T14:10:14.372Z"
   },
   {
    "duration": 30,
    "start_time": "2022-01-13T14:10:16.724Z"
   },
   {
    "duration": 44,
    "start_time": "2022-01-13T14:10:25.477Z"
   },
   {
    "duration": 13,
    "start_time": "2022-01-13T14:10:34.215Z"
   },
   {
    "duration": 8,
    "start_time": "2022-01-13T14:10:37.023Z"
   },
   {
    "duration": 69,
    "start_time": "2022-01-13T14:10:40.922Z"
   },
   {
    "duration": 10,
    "start_time": "2022-01-13T14:11:18.956Z"
   },
   {
    "duration": 4,
    "start_time": "2022-01-13T14:11:52.805Z"
   },
   {
    "duration": 325,
    "start_time": "2022-01-13T14:13:29.199Z"
   },
   {
    "duration": 283,
    "start_time": "2022-01-13T14:13:38.064Z"
   },
   {
    "duration": 304,
    "start_time": "2022-01-13T14:14:09.599Z"
   },
   {
    "duration": 4,
    "start_time": "2022-01-13T14:14:24.481Z"
   },
   {
    "duration": 11,
    "start_time": "2022-01-13T14:16:03.176Z"
   },
   {
    "duration": 8,
    "start_time": "2022-01-13T14:16:44.577Z"
   },
   {
    "duration": 7,
    "start_time": "2022-01-13T14:17:02.396Z"
   },
   {
    "duration": 5,
    "start_time": "2022-01-13T14:17:24.745Z"
   },
   {
    "duration": 4,
    "start_time": "2022-01-13T14:18:08.477Z"
   },
   {
    "duration": 1272,
    "start_time": "2022-01-13T14:33:22.768Z"
   },
   {
    "duration": 457,
    "start_time": "2022-01-13T14:33:24.042Z"
   },
   {
    "duration": 22,
    "start_time": "2022-01-13T14:33:24.502Z"
   },
   {
    "duration": 33,
    "start_time": "2022-01-13T14:33:24.526Z"
   },
   {
    "duration": 18,
    "start_time": "2022-01-13T14:33:24.563Z"
   },
   {
    "duration": 18,
    "start_time": "2022-01-13T14:33:24.583Z"
   },
   {
    "duration": 65,
    "start_time": "2022-01-13T14:33:24.603Z"
   },
   {
    "duration": 15,
    "start_time": "2022-01-13T14:33:24.671Z"
   },
   {
    "duration": 17,
    "start_time": "2022-01-13T14:33:24.688Z"
   },
   {
    "duration": 15,
    "start_time": "2022-01-13T14:33:24.707Z"
   },
   {
    "duration": 7,
    "start_time": "2022-01-13T14:33:24.724Z"
   },
   {
    "duration": 41,
    "start_time": "2022-01-13T14:33:24.733Z"
   },
   {
    "duration": 14,
    "start_time": "2022-01-13T14:33:24.777Z"
   },
   {
    "duration": 19,
    "start_time": "2022-01-13T14:33:24.793Z"
   },
   {
    "duration": 14,
    "start_time": "2022-01-13T14:33:24.814Z"
   },
   {
    "duration": 37,
    "start_time": "2022-01-13T14:33:24.830Z"
   },
   {
    "duration": 40,
    "start_time": "2022-01-13T14:33:24.870Z"
   },
   {
    "duration": 22,
    "start_time": "2022-01-13T14:33:24.912Z"
   },
   {
    "duration": 46,
    "start_time": "2022-01-13T14:33:24.936Z"
   },
   {
    "duration": 6,
    "start_time": "2022-01-13T14:33:24.984Z"
   },
   {
    "duration": 11,
    "start_time": "2022-01-13T14:33:24.992Z"
   },
   {
    "duration": 146,
    "start_time": "2022-01-13T14:33:25.005Z"
   },
   {
    "duration": 72,
    "start_time": "2022-01-13T14:33:25.161Z"
   },
   {
    "duration": 100,
    "start_time": "2022-01-13T14:33:25.236Z"
   },
   {
    "duration": 24,
    "start_time": "2022-01-13T14:33:25.338Z"
   },
   {
    "duration": 9,
    "start_time": "2022-01-13T14:33:25.364Z"
   },
   {
    "duration": 49,
    "start_time": "2022-01-13T14:33:25.376Z"
   },
   {
    "duration": 30,
    "start_time": "2022-01-13T14:33:25.428Z"
   },
   {
    "duration": 34,
    "start_time": "2022-01-13T14:33:25.460Z"
   },
   {
    "duration": 28,
    "start_time": "2022-01-13T14:33:25.497Z"
   },
   {
    "duration": 30,
    "start_time": "2022-01-13T14:33:25.528Z"
   },
   {
    "duration": 84,
    "start_time": "2022-01-13T14:33:25.561Z"
   },
   {
    "duration": 50,
    "start_time": "2022-01-13T14:33:25.647Z"
   },
   {
    "duration": 18,
    "start_time": "2022-01-13T14:33:25.699Z"
   },
   {
    "duration": 29,
    "start_time": "2022-01-13T14:33:25.718Z"
   },
   {
    "duration": 46,
    "start_time": "2022-01-13T14:33:25.749Z"
   },
   {
    "duration": 37,
    "start_time": "2022-01-13T14:33:25.797Z"
   },
   {
    "duration": 21,
    "start_time": "2022-01-13T14:33:25.835Z"
   },
   {
    "duration": 20,
    "start_time": "2022-01-13T14:33:25.858Z"
   },
   {
    "duration": 41,
    "start_time": "2022-01-13T14:33:25.880Z"
   },
   {
    "duration": 70,
    "start_time": "2022-01-13T14:33:25.923Z"
   },
   {
    "duration": 10,
    "start_time": "2022-01-13T14:33:25.995Z"
   },
   {
    "duration": 28,
    "start_time": "2022-01-13T14:33:26.007Z"
   },
   {
    "duration": 35,
    "start_time": "2022-01-13T14:33:26.037Z"
   },
   {
    "duration": 39,
    "start_time": "2022-01-13T14:33:26.074Z"
   },
   {
    "duration": 22,
    "start_time": "2022-01-13T14:33:26.115Z"
   },
   {
    "duration": 30,
    "start_time": "2022-01-13T14:33:26.139Z"
   },
   {
    "duration": 25,
    "start_time": "2022-01-13T14:33:26.172Z"
   },
   {
    "duration": 18,
    "start_time": "2022-01-13T14:33:26.199Z"
   },
   {
    "duration": 27,
    "start_time": "2022-01-13T14:33:26.219Z"
   },
   {
    "duration": 45,
    "start_time": "2022-01-13T14:33:26.248Z"
   },
   {
    "duration": 7,
    "start_time": "2022-01-13T14:33:26.295Z"
   },
   {
    "duration": 191,
    "start_time": "2022-01-13T14:33:26.304Z"
   },
   {
    "duration": 24,
    "start_time": "2022-01-13T14:33:26.497Z"
   },
   {
    "duration": 57,
    "start_time": "2022-01-13T14:33:26.523Z"
   },
   {
    "duration": 9,
    "start_time": "2022-01-13T14:33:26.582Z"
   },
   {
    "duration": 26,
    "start_time": "2022-01-13T14:33:26.593Z"
   },
   {
    "duration": 118,
    "start_time": "2022-01-13T14:33:26.621Z"
   },
   {
    "duration": 7,
    "start_time": "2022-01-13T14:33:26.741Z"
   },
   {
    "duration": 346,
    "start_time": "2022-01-13T14:33:26.750Z"
   },
   {
    "duration": 469,
    "start_time": "2022-01-13T14:33:27.098Z"
   },
   {
    "duration": -4878,
    "start_time": "2022-01-13T14:33:32.449Z"
   },
   {
    "duration": -4887,
    "start_time": "2022-01-13T14:33:32.459Z"
   },
   {
    "duration": -4896,
    "start_time": "2022-01-13T14:33:32.469Z"
   },
   {
    "duration": -4937,
    "start_time": "2022-01-13T14:33:32.512Z"
   },
   {
    "duration": -4944,
    "start_time": "2022-01-13T14:33:32.521Z"
   },
   {
    "duration": -4955,
    "start_time": "2022-01-13T14:33:32.533Z"
   },
   {
    "duration": -4964,
    "start_time": "2022-01-13T14:33:32.543Z"
   },
   {
    "duration": -4970,
    "start_time": "2022-01-13T14:33:32.551Z"
   },
   {
    "duration": -4980,
    "start_time": "2022-01-13T14:33:32.562Z"
   },
   {
    "duration": -4987,
    "start_time": "2022-01-13T14:33:32.570Z"
   },
   {
    "duration": -4995,
    "start_time": "2022-01-13T14:33:32.579Z"
   },
   {
    "duration": -5002,
    "start_time": "2022-01-13T14:33:32.587Z"
   },
   {
    "duration": -5010,
    "start_time": "2022-01-13T14:33:32.596Z"
   },
   {
    "duration": -5031,
    "start_time": "2022-01-13T14:33:32.619Z"
   },
   {
    "duration": -5042,
    "start_time": "2022-01-13T14:33:32.631Z"
   },
   {
    "duration": -5049,
    "start_time": "2022-01-13T14:33:32.640Z"
   },
   {
    "duration": -5055,
    "start_time": "2022-01-13T14:33:32.649Z"
   },
   {
    "duration": -5061,
    "start_time": "2022-01-13T14:33:32.657Z"
   },
   {
    "duration": -5069,
    "start_time": "2022-01-13T14:33:32.666Z"
   },
   {
    "duration": -5076,
    "start_time": "2022-01-13T14:33:32.674Z"
   },
   {
    "duration": -5084,
    "start_time": "2022-01-13T14:33:32.683Z"
   },
   {
    "duration": -5093,
    "start_time": "2022-01-13T14:33:32.692Z"
   },
   {
    "duration": -5101,
    "start_time": "2022-01-13T14:33:32.701Z"
   },
   {
    "duration": 7,
    "start_time": "2022-01-13T14:35:32.370Z"
   },
   {
    "duration": 6,
    "start_time": "2022-01-13T14:35:45.814Z"
   },
   {
    "duration": 5,
    "start_time": "2022-01-13T14:36:04.514Z"
   },
   {
    "duration": 228,
    "start_time": "2022-01-13T14:37:20.556Z"
   },
   {
    "duration": 614,
    "start_time": "2022-01-13T14:38:53.601Z"
   },
   {
    "duration": 250,
    "start_time": "2022-01-13T14:39:51.826Z"
   },
   {
    "duration": 1148,
    "start_time": "2022-01-13T14:40:19.831Z"
   },
   {
    "duration": 678,
    "start_time": "2022-01-13T14:40:37.427Z"
   },
   {
    "duration": 719,
    "start_time": "2022-01-13T14:41:59.633Z"
   },
   {
    "duration": 241,
    "start_time": "2022-01-13T14:42:39.028Z"
   },
   {
    "duration": 248,
    "start_time": "2022-01-13T14:42:45.701Z"
   },
   {
    "duration": 178,
    "start_time": "2022-01-13T14:42:54.882Z"
   },
   {
    "duration": 175,
    "start_time": "2022-01-13T14:44:16.315Z"
   },
   {
    "duration": 479,
    "start_time": "2022-01-13T14:44:32.177Z"
   },
   {
    "duration": 296,
    "start_time": "2022-01-13T14:45:33.856Z"
   },
   {
    "duration": 15,
    "start_time": "2022-01-13T14:45:45.043Z"
   },
   {
    "duration": 9,
    "start_time": "2022-01-13T14:48:13.690Z"
   },
   {
    "duration": 8,
    "start_time": "2022-01-13T14:48:38.478Z"
   },
   {
    "duration": 11,
    "start_time": "2022-01-13T14:48:40.444Z"
   },
   {
    "duration": 13,
    "start_time": "2022-01-13T14:51:26.745Z"
   },
   {
    "duration": 127,
    "start_time": "2022-01-13T14:51:48.132Z"
   },
   {
    "duration": 8,
    "start_time": "2022-01-13T14:52:06.836Z"
   },
   {
    "duration": 12,
    "start_time": "2022-01-13T14:53:23.940Z"
   },
   {
    "duration": 15,
    "start_time": "2022-01-13T14:53:46.895Z"
   },
   {
    "duration": 12,
    "start_time": "2022-01-13T14:54:05.586Z"
   },
   {
    "duration": 14,
    "start_time": "2022-01-13T14:54:21.349Z"
   },
   {
    "duration": 9,
    "start_time": "2022-01-13T14:55:53.109Z"
   },
   {
    "duration": 8,
    "start_time": "2022-01-13T14:56:05.174Z"
   },
   {
    "duration": 278,
    "start_time": "2022-01-13T14:56:32.644Z"
   },
   {
    "duration": 11,
    "start_time": "2022-01-13T14:56:59.674Z"
   },
   {
    "duration": 10,
    "start_time": "2022-01-13T14:57:21.346Z"
   },
   {
    "duration": 8,
    "start_time": "2022-01-13T14:57:48.036Z"
   },
   {
    "duration": 8,
    "start_time": "2022-01-13T14:58:17.145Z"
   },
   {
    "duration": 9,
    "start_time": "2022-01-13T15:02:50.812Z"
   },
   {
    "duration": 8,
    "start_time": "2022-01-13T15:03:24.936Z"
   },
   {
    "duration": 32,
    "start_time": "2022-01-13T15:06:25.886Z"
   },
   {
    "duration": 7,
    "start_time": "2022-01-13T15:06:48.330Z"
   },
   {
    "duration": 8,
    "start_time": "2022-01-13T15:07:37.582Z"
   },
   {
    "duration": 6,
    "start_time": "2022-01-13T15:14:01.436Z"
   },
   {
    "duration": 225,
    "start_time": "2022-01-13T15:14:05.270Z"
   },
   {
    "duration": 246,
    "start_time": "2022-01-13T15:15:02.336Z"
   },
   {
    "duration": 207,
    "start_time": "2022-01-13T15:42:08.176Z"
   },
   {
    "duration": 259,
    "start_time": "2022-01-13T15:42:22.895Z"
   },
   {
    "duration": 231,
    "start_time": "2022-01-13T15:42:31.003Z"
   },
   {
    "duration": 221,
    "start_time": "2022-01-13T15:42:39.976Z"
   },
   {
    "duration": 183,
    "start_time": "2022-01-13T15:42:48.561Z"
   },
   {
    "duration": 200,
    "start_time": "2022-01-13T15:42:55.950Z"
   },
   {
    "duration": 220,
    "start_time": "2022-01-13T15:43:14.823Z"
   },
   {
    "duration": 179,
    "start_time": "2022-01-13T15:43:18.376Z"
   },
   {
    "duration": 258,
    "start_time": "2022-01-13T15:43:26.413Z"
   },
   {
    "duration": 320,
    "start_time": "2022-01-13T15:43:34.507Z"
   },
   {
    "duration": 223,
    "start_time": "2022-01-13T15:43:43.848Z"
   },
   {
    "duration": 8,
    "start_time": "2022-01-13T15:44:57.976Z"
   },
   {
    "duration": 217,
    "start_time": "2022-01-13T15:50:40.314Z"
   },
   {
    "duration": 411,
    "start_time": "2022-01-13T15:50:51.167Z"
   },
   {
    "duration": 86,
    "start_time": "2022-01-13T15:53:29.820Z"
   },
   {
    "duration": 210,
    "start_time": "2022-01-13T15:53:41.194Z"
   },
   {
    "duration": 199,
    "start_time": "2022-01-13T15:53:57.291Z"
   },
   {
    "duration": 216,
    "start_time": "2022-01-13T15:54:13.021Z"
   },
   {
    "duration": 10,
    "start_time": "2022-01-13T16:00:22.490Z"
   },
   {
    "duration": 9,
    "start_time": "2022-01-13T16:02:31.191Z"
   },
   {
    "duration": 9,
    "start_time": "2022-01-13T16:03:33.247Z"
   },
   {
    "duration": 8,
    "start_time": "2022-01-13T16:04:38.306Z"
   },
   {
    "duration": 308,
    "start_time": "2022-01-13T16:04:48.909Z"
   },
   {
    "duration": 9,
    "start_time": "2022-01-13T16:04:57.861Z"
   },
   {
    "duration": 8,
    "start_time": "2022-01-13T16:05:09.352Z"
   },
   {
    "duration": 11,
    "start_time": "2022-01-13T16:07:06.602Z"
   },
   {
    "duration": 11,
    "start_time": "2022-01-13T16:07:21.454Z"
   },
   {
    "duration": 8,
    "start_time": "2022-01-13T16:07:39.447Z"
   },
   {
    "duration": 10,
    "start_time": "2022-01-13T16:09:06.501Z"
   },
   {
    "duration": 10,
    "start_time": "2022-01-13T16:09:15.539Z"
   },
   {
    "duration": 12,
    "start_time": "2022-01-13T16:10:34.271Z"
   },
   {
    "duration": 9,
    "start_time": "2022-01-13T16:10:46.599Z"
   },
   {
    "duration": 9,
    "start_time": "2022-01-13T16:11:11.414Z"
   },
   {
    "duration": 8,
    "start_time": "2022-01-13T17:30:06.098Z"
   },
   {
    "duration": 8,
    "start_time": "2022-01-13T17:30:14.938Z"
   },
   {
    "duration": 10,
    "start_time": "2022-01-13T17:30:32.660Z"
   },
   {
    "duration": 9,
    "start_time": "2022-01-13T17:32:24.095Z"
   },
   {
    "duration": 8,
    "start_time": "2022-01-13T17:32:40.580Z"
   },
   {
    "duration": 9,
    "start_time": "2022-01-13T17:33:04.245Z"
   },
   {
    "duration": 9,
    "start_time": "2022-01-13T17:33:59.300Z"
   },
   {
    "duration": 9,
    "start_time": "2022-01-13T17:34:33.002Z"
   },
   {
    "duration": 9,
    "start_time": "2022-01-13T17:34:47.614Z"
   },
   {
    "duration": 9,
    "start_time": "2022-01-13T17:35:10.715Z"
   },
   {
    "duration": 4,
    "start_time": "2022-01-13T17:35:39.278Z"
   },
   {
    "duration": 8,
    "start_time": "2022-01-13T17:35:50.048Z"
   },
   {
    "duration": 5,
    "start_time": "2022-01-13T17:35:55.872Z"
   },
   {
    "duration": 4,
    "start_time": "2022-01-13T17:36:12.785Z"
   },
   {
    "duration": 8,
    "start_time": "2022-01-13T17:39:21.574Z"
   },
   {
    "duration": 6,
    "start_time": "2022-01-13T17:40:00.852Z"
   },
   {
    "duration": 6,
    "start_time": "2022-01-13T17:40:08.574Z"
   },
   {
    "duration": 6,
    "start_time": "2022-01-13T17:40:17.514Z"
   },
   {
    "duration": 5,
    "start_time": "2022-01-13T17:40:28.093Z"
   },
   {
    "duration": 258,
    "start_time": "2022-01-13T17:40:41.204Z"
   },
   {
    "duration": 62,
    "start_time": "2022-01-13T17:41:13.274Z"
   },
   {
    "duration": 9,
    "start_time": "2022-01-13T17:42:30.745Z"
   },
   {
    "duration": 10,
    "start_time": "2022-01-13T17:43:05.736Z"
   },
   {
    "duration": 10,
    "start_time": "2022-01-13T17:43:50.984Z"
   },
   {
    "duration": 8,
    "start_time": "2022-01-13T17:44:20.333Z"
   },
   {
    "duration": 8,
    "start_time": "2022-01-13T17:44:38.674Z"
   },
   {
    "duration": 9,
    "start_time": "2022-01-13T17:45:02.598Z"
   },
   {
    "duration": 9,
    "start_time": "2022-01-13T17:45:11.830Z"
   },
   {
    "duration": 9,
    "start_time": "2022-01-13T17:45:19.406Z"
   },
   {
    "duration": 313,
    "start_time": "2022-01-13T17:45:58.069Z"
   },
   {
    "duration": 275,
    "start_time": "2022-01-13T17:46:04.674Z"
   },
   {
    "duration": 268,
    "start_time": "2022-01-13T17:46:07.773Z"
   },
   {
    "duration": 217,
    "start_time": "2022-01-13T17:50:09.202Z"
   },
   {
    "duration": 214,
    "start_time": "2022-01-13T17:50:25.872Z"
   },
   {
    "duration": 9,
    "start_time": "2022-01-13T17:55:05.785Z"
   },
   {
    "duration": 11,
    "start_time": "2022-01-13T17:56:04.823Z"
   },
   {
    "duration": 12,
    "start_time": "2022-01-13T17:56:46.519Z"
   },
   {
    "duration": 258,
    "start_time": "2022-01-13T18:09:31.359Z"
   },
   {
    "duration": 422,
    "start_time": "2022-01-13T18:10:00.200Z"
   },
   {
    "duration": 156,
    "start_time": "2022-01-13T18:11:03.582Z"
   },
   {
    "duration": 417,
    "start_time": "2022-01-13T18:11:10.422Z"
   },
   {
    "duration": 6,
    "start_time": "2022-01-13T18:11:17.181Z"
   },
   {
    "duration": 8,
    "start_time": "2022-01-13T18:11:25.382Z"
   },
   {
    "duration": 194,
    "start_time": "2022-01-13T18:12:28.684Z"
   },
   {
    "duration": 211,
    "start_time": "2022-01-13T18:19:45.076Z"
   },
   {
    "duration": 259,
    "start_time": "2022-01-13T18:19:58.717Z"
   },
   {
    "duration": 11,
    "start_time": "2022-01-13T18:32:20.205Z"
   },
   {
    "duration": 6,
    "start_time": "2022-01-13T18:35:33.521Z"
   },
   {
    "duration": 139,
    "start_time": "2022-01-13T18:37:41.022Z"
   },
   {
    "duration": 138,
    "start_time": "2022-01-13T18:37:45.793Z"
   },
   {
    "duration": 491,
    "start_time": "2022-01-13T18:37:49.861Z"
   },
   {
    "duration": 5,
    "start_time": "2022-01-13T18:37:55.556Z"
   },
   {
    "duration": 219,
    "start_time": "2022-01-13T18:38:01.766Z"
   },
   {
    "duration": 212,
    "start_time": "2022-01-13T18:38:08.503Z"
   },
   {
    "duration": 8,
    "start_time": "2022-01-13T18:43:34.220Z"
   },
   {
    "duration": 9,
    "start_time": "2022-01-13T18:43:35.546Z"
   },
   {
    "duration": 9,
    "start_time": "2022-01-13T18:43:37.217Z"
   },
   {
    "duration": 8,
    "start_time": "2022-01-13T18:43:38.459Z"
   },
   {
    "duration": 9,
    "start_time": "2022-01-13T18:48:24.806Z"
   },
   {
    "duration": 8,
    "start_time": "2022-01-13T18:48:27.913Z"
   },
   {
    "duration": 6,
    "start_time": "2022-01-13T18:51:26.000Z"
   },
   {
    "duration": 1369,
    "start_time": "2022-01-13T18:52:51.526Z"
   },
   {
    "duration": 392,
    "start_time": "2022-01-13T18:52:52.897Z"
   },
   {
    "duration": 21,
    "start_time": "2022-01-13T18:52:53.291Z"
   },
   {
    "duration": 34,
    "start_time": "2022-01-13T18:52:53.315Z"
   },
   {
    "duration": 15,
    "start_time": "2022-01-13T18:52:53.351Z"
   },
   {
    "duration": 18,
    "start_time": "2022-01-13T18:52:53.367Z"
   },
   {
    "duration": 30,
    "start_time": "2022-01-13T18:52:53.387Z"
   },
   {
    "duration": 12,
    "start_time": "2022-01-13T18:52:53.419Z"
   },
   {
    "duration": 15,
    "start_time": "2022-01-13T18:52:53.460Z"
   },
   {
    "duration": 11,
    "start_time": "2022-01-13T18:52:53.477Z"
   },
   {
    "duration": 9,
    "start_time": "2022-01-13T18:52:53.489Z"
   },
   {
    "duration": 8,
    "start_time": "2022-01-13T18:52:53.499Z"
   },
   {
    "duration": 8,
    "start_time": "2022-01-13T18:52:53.509Z"
   },
   {
    "duration": 43,
    "start_time": "2022-01-13T18:52:53.519Z"
   },
   {
    "duration": 9,
    "start_time": "2022-01-13T18:52:53.564Z"
   },
   {
    "duration": 12,
    "start_time": "2022-01-13T18:52:53.575Z"
   },
   {
    "duration": 33,
    "start_time": "2022-01-13T18:52:53.589Z"
   },
   {
    "duration": 49,
    "start_time": "2022-01-13T18:52:53.624Z"
   },
   {
    "duration": 22,
    "start_time": "2022-01-13T18:52:53.675Z"
   },
   {
    "duration": 4,
    "start_time": "2022-01-13T18:52:53.699Z"
   },
   {
    "duration": 6,
    "start_time": "2022-01-13T18:52:53.704Z"
   },
   {
    "duration": 118,
    "start_time": "2022-01-13T18:52:53.712Z"
   },
   {
    "duration": 48,
    "start_time": "2022-01-13T18:52:53.833Z"
   },
   {
    "duration": 47,
    "start_time": "2022-01-13T18:52:53.884Z"
   },
   {
    "duration": 6,
    "start_time": "2022-01-13T18:52:53.933Z"
   },
   {
    "duration": 22,
    "start_time": "2022-01-13T18:52:53.941Z"
   },
   {
    "duration": 6,
    "start_time": "2022-01-13T18:52:53.965Z"
   },
   {
    "duration": 8,
    "start_time": "2022-01-13T18:52:53.973Z"
   },
   {
    "duration": 6,
    "start_time": "2022-01-13T18:52:53.983Z"
   },
   {
    "duration": 10,
    "start_time": "2022-01-13T18:52:53.991Z"
   },
   {
    "duration": 16,
    "start_time": "2022-01-13T18:52:54.003Z"
   },
   {
    "duration": 94,
    "start_time": "2022-01-13T18:52:54.020Z"
   },
   {
    "duration": 46,
    "start_time": "2022-01-13T18:52:54.116Z"
   },
   {
    "duration": 16,
    "start_time": "2022-01-13T18:52:54.164Z"
   },
   {
    "duration": 7,
    "start_time": "2022-01-13T18:52:54.182Z"
   },
   {
    "duration": 22,
    "start_time": "2022-01-13T18:52:54.190Z"
   },
   {
    "duration": 50,
    "start_time": "2022-01-13T18:52:54.213Z"
   },
   {
    "duration": 21,
    "start_time": "2022-01-13T18:52:54.264Z"
   },
   {
    "duration": 8,
    "start_time": "2022-01-13T18:52:54.286Z"
   },
   {
    "duration": 6,
    "start_time": "2022-01-13T18:52:54.295Z"
   },
   {
    "duration": 26,
    "start_time": "2022-01-13T18:52:54.303Z"
   },
   {
    "duration": 32,
    "start_time": "2022-01-13T18:52:54.331Z"
   },
   {
    "duration": 6,
    "start_time": "2022-01-13T18:52:54.365Z"
   },
   {
    "duration": 9,
    "start_time": "2022-01-13T18:52:54.372Z"
   },
   {
    "duration": 12,
    "start_time": "2022-01-13T18:52:54.383Z"
   },
   {
    "duration": 8,
    "start_time": "2022-01-13T18:52:54.396Z"
   },
   {
    "duration": 13,
    "start_time": "2022-01-13T18:52:54.405Z"
   },
   {
    "duration": 50,
    "start_time": "2022-01-13T18:52:54.419Z"
   },
   {
    "duration": 4,
    "start_time": "2022-01-13T18:52:54.471Z"
   },
   {
    "duration": 7,
    "start_time": "2022-01-13T18:52:54.477Z"
   },
   {
    "duration": 21,
    "start_time": "2022-01-13T18:52:54.486Z"
   },
   {
    "duration": 5,
    "start_time": "2022-01-13T18:52:54.509Z"
   },
   {
    "duration": 155,
    "start_time": "2022-01-13T18:52:54.516Z"
   },
   {
    "duration": 21,
    "start_time": "2022-01-13T18:52:54.673Z"
   },
   {
    "duration": 32,
    "start_time": "2022-01-13T18:52:54.696Z"
   },
   {
    "duration": 7,
    "start_time": "2022-01-13T18:52:54.729Z"
   },
   {
    "duration": 26,
    "start_time": "2022-01-13T18:52:54.737Z"
   },
   {
    "duration": 62,
    "start_time": "2022-01-13T18:52:54.765Z"
   },
   {
    "duration": 8,
    "start_time": "2022-01-13T18:52:54.828Z"
   },
   {
    "duration": 26,
    "start_time": "2022-01-13T18:52:54.838Z"
   },
   {
    "duration": 167,
    "start_time": "2022-01-13T18:52:54.865Z"
   },
   {
    "duration": 434,
    "start_time": "2022-01-13T18:52:55.034Z"
   },
   {
    "duration": 236,
    "start_time": "2022-01-13T18:52:55.469Z"
   },
   {
    "duration": 9,
    "start_time": "2022-01-13T18:52:55.707Z"
   },
   {
    "duration": 10,
    "start_time": "2022-01-13T18:52:55.718Z"
   },
   {
    "duration": 15,
    "start_time": "2022-01-13T18:52:55.730Z"
   },
   {
    "duration": 19,
    "start_time": "2022-01-13T18:52:55.747Z"
   },
   {
    "duration": 7,
    "start_time": "2022-01-13T18:52:55.772Z"
   },
   {
    "duration": 163,
    "start_time": "2022-01-13T18:52:55.781Z"
   },
   {
    "duration": 490,
    "start_time": "2022-01-13T18:52:55.946Z"
   },
   {
    "duration": 6,
    "start_time": "2022-01-13T18:52:56.437Z"
   },
   {
    "duration": 219,
    "start_time": "2022-01-13T18:52:56.444Z"
   },
   {
    "duration": 10,
    "start_time": "2022-01-13T18:52:56.665Z"
   },
   {
    "duration": 8,
    "start_time": "2022-01-13T18:52:56.677Z"
   },
   {
    "duration": 8,
    "start_time": "2022-01-13T18:52:56.687Z"
   },
   {
    "duration": 10,
    "start_time": "2022-01-13T18:52:56.697Z"
   },
   {
    "duration": 9,
    "start_time": "2022-01-13T18:52:56.709Z"
   },
   {
    "duration": 42,
    "start_time": "2022-01-13T18:52:56.719Z"
   },
   {
    "duration": 12,
    "start_time": "2022-01-13T18:52:56.763Z"
   },
   {
    "duration": 22,
    "start_time": "2022-01-13T18:52:56.776Z"
   },
   {
    "duration": 158,
    "start_time": "2022-01-13T18:52:56.800Z"
   },
   {
    "duration": 429,
    "start_time": "2022-01-13T18:52:56.961Z"
   },
   {
    "duration": 7,
    "start_time": "2022-01-13T18:52:57.391Z"
   },
   {
    "duration": 225,
    "start_time": "2022-01-13T18:52:57.399Z"
   },
   {
    "duration": 8,
    "start_time": "2022-01-13T18:52:57.627Z"
   },
   {
    "duration": 29,
    "start_time": "2022-01-13T18:52:57.636Z"
   },
   {
    "duration": 65,
    "start_time": "2022-01-13T18:52:57.666Z"
   },
   {
    "duration": 9,
    "start_time": "2022-01-13T18:52:57.732Z"
   },
   {
    "duration": 166,
    "start_time": "2022-01-13T18:52:57.743Z"
   },
   {
    "duration": 436,
    "start_time": "2022-01-13T18:52:57.911Z"
   },
   {
    "duration": 6,
    "start_time": "2022-01-13T18:52:58.348Z"
   },
   {
    "duration": 225,
    "start_time": "2022-01-13T18:52:58.361Z"
   },
   {
    "duration": 7,
    "start_time": "2022-01-13T18:52:58.588Z"
   },
   {
    "duration": 156,
    "start_time": "2022-01-13T18:52:58.597Z"
   },
   {
    "duration": 512,
    "start_time": "2022-01-13T18:52:58.755Z"
   },
   {
    "duration": 5,
    "start_time": "2022-01-13T18:52:59.269Z"
   },
   {
    "duration": 255,
    "start_time": "2022-01-13T18:52:59.276Z"
   },
   {
    "duration": 8,
    "start_time": "2022-01-13T18:52:59.533Z"
   },
   {
    "duration": 21,
    "start_time": "2022-01-13T18:52:59.543Z"
   },
   {
    "duration": 7,
    "start_time": "2022-01-13T18:52:59.566Z"
   },
   {
    "duration": 10,
    "start_time": "2022-01-13T18:52:59.575Z"
   },
   {
    "duration": 150,
    "start_time": "2022-01-13T18:52:59.587Z"
   },
   {
    "duration": 417,
    "start_time": "2022-01-13T18:52:59.739Z"
   },
   {
    "duration": 6,
    "start_time": "2022-01-13T18:53:00.160Z"
   },
   {
    "duration": 215,
    "start_time": "2022-01-13T18:53:00.168Z"
   },
   {
    "duration": 86,
    "start_time": "2022-01-13T18:53:00.385Z"
   },
   {
    "duration": -4896,
    "start_time": "2022-01-13T18:53:05.369Z"
   },
   {
    "duration": -4907,
    "start_time": "2022-01-13T18:53:05.382Z"
   },
   {
    "duration": -4915,
    "start_time": "2022-01-13T18:53:05.392Z"
   },
   {
    "duration": -4925,
    "start_time": "2022-01-13T18:53:05.403Z"
   },
   {
    "duration": -4934,
    "start_time": "2022-01-13T18:53:05.414Z"
   },
   {
    "duration": -4974,
    "start_time": "2022-01-13T18:53:05.455Z"
   },
   {
    "duration": -4984,
    "start_time": "2022-01-13T18:53:05.467Z"
   },
   {
    "duration": -4997,
    "start_time": "2022-01-13T18:53:05.481Z"
   },
   {
    "duration": -5005,
    "start_time": "2022-01-13T18:53:05.491Z"
   },
   {
    "duration": -5014,
    "start_time": "2022-01-13T18:53:05.502Z"
   },
   {
    "duration": 12,
    "start_time": "2022-01-13T19:03:19.792Z"
   },
   {
    "duration": 12,
    "start_time": "2022-01-13T19:04:02.974Z"
   },
   {
    "duration": 15,
    "start_time": "2022-01-13T19:04:21.629Z"
   },
   {
    "duration": 12,
    "start_time": "2022-01-13T19:04:52.212Z"
   },
   {
    "duration": 16,
    "start_time": "2022-01-13T19:05:08.561Z"
   },
   {
    "duration": 12,
    "start_time": "2022-01-13T19:05:51.604Z"
   },
   {
    "duration": 69,
    "start_time": "2022-01-13T19:08:33.446Z"
   },
   {
    "duration": 152,
    "start_time": "2022-01-13T19:11:46.980Z"
   },
   {
    "duration": 184,
    "start_time": "2022-01-13T19:11:56.736Z"
   },
   {
    "duration": 253,
    "start_time": "2022-01-13T19:12:53.078Z"
   },
   {
    "duration": 183,
    "start_time": "2022-01-13T19:13:02.869Z"
   },
   {
    "duration": 278,
    "start_time": "2022-01-13T19:13:13.015Z"
   },
   {
    "duration": 147,
    "start_time": "2022-01-13T19:13:35.850Z"
   },
   {
    "duration": 11,
    "start_time": "2022-01-13T19:14:58.512Z"
   },
   {
    "duration": 92,
    "start_time": "2022-01-13T19:15:34.217Z"
   },
   {
    "duration": 365,
    "start_time": "2022-01-13T19:15:41.112Z"
   },
   {
    "duration": 6,
    "start_time": "2022-01-13T19:16:51.236Z"
   },
   {
    "duration": 10,
    "start_time": "2022-01-13T19:17:50.203Z"
   },
   {
    "duration": 9,
    "start_time": "2022-01-13T19:17:59.521Z"
   },
   {
    "duration": 3,
    "start_time": "2022-01-13T19:18:47.205Z"
   },
   {
    "duration": 8,
    "start_time": "2022-01-13T19:18:59.412Z"
   },
   {
    "duration": 2,
    "start_time": "2022-01-13T19:19:08.948Z"
   },
   {
    "duration": 8,
    "start_time": "2022-01-13T19:20:02.407Z"
   },
   {
    "duration": 12,
    "start_time": "2022-01-13T19:25:22.002Z"
   },
   {
    "duration": 13,
    "start_time": "2022-01-13T19:25:24.635Z"
   },
   {
    "duration": 11,
    "start_time": "2022-01-13T19:28:47.256Z"
   },
   {
    "duration": 6,
    "start_time": "2022-01-13T19:34:26.884Z"
   },
   {
    "duration": 10,
    "start_time": "2022-01-13T20:23:29.852Z"
   },
   {
    "duration": 12,
    "start_time": "2022-01-13T20:23:42.469Z"
   },
   {
    "duration": 298,
    "start_time": "2022-01-13T20:56:32.173Z"
   },
   {
    "duration": 5,
    "start_time": "2022-01-13T20:56:37.572Z"
   },
   {
    "duration": 52,
    "start_time": "2022-01-13T20:56:39.405Z"
   },
   {
    "duration": 49,
    "start_time": "2022-01-13T20:57:04.314Z"
   },
   {
    "duration": 56,
    "start_time": "2022-01-13T20:57:20.633Z"
   },
   {
    "duration": 56,
    "start_time": "2022-01-13T20:57:36.598Z"
   },
   {
    "duration": 54,
    "start_time": "2022-01-13T20:58:28.328Z"
   },
   {
    "duration": 6,
    "start_time": "2022-01-13T20:58:33.032Z"
   },
   {
    "duration": 8,
    "start_time": "2022-01-13T20:59:20.032Z"
   },
   {
    "duration": 8,
    "start_time": "2022-01-13T20:59:38.465Z"
   },
   {
    "duration": 9,
    "start_time": "2022-01-13T21:00:57.630Z"
   },
   {
    "duration": 2,
    "start_time": "2022-01-13T21:01:04.760Z"
   },
   {
    "duration": 12,
    "start_time": "2022-01-13T21:01:33.601Z"
   },
   {
    "duration": 8,
    "start_time": "2022-01-13T21:01:35.968Z"
   },
   {
    "duration": 62,
    "start_time": "2022-01-13T21:09:50.017Z"
   },
   {
    "duration": 9,
    "start_time": "2022-01-13T21:10:01.589Z"
   },
   {
    "duration": 256,
    "start_time": "2022-01-13T21:10:20.173Z"
   },
   {
    "duration": 18,
    "start_time": "2022-01-13T21:10:35.064Z"
   },
   {
    "duration": 3452,
    "start_time": "2022-01-13T21:10:39.266Z"
   },
   {
    "duration": 9,
    "start_time": "2022-01-13T21:11:14.744Z"
   },
   {
    "duration": 9,
    "start_time": "2022-01-13T21:11:20.814Z"
   },
   {
    "duration": 5,
    "start_time": "2022-01-13T21:15:37.152Z"
   },
   {
    "duration": 11,
    "start_time": "2022-01-13T21:16:23.676Z"
   },
   {
    "duration": 6,
    "start_time": "2022-01-13T21:16:26.526Z"
   },
   {
    "duration": 1350,
    "start_time": "2022-01-13T21:35:01.300Z"
   },
   {
    "duration": 434,
    "start_time": "2022-01-13T21:35:02.652Z"
   },
   {
    "duration": 21,
    "start_time": "2022-01-13T21:35:03.088Z"
   },
   {
    "duration": 33,
    "start_time": "2022-01-13T21:35:03.111Z"
   },
   {
    "duration": 15,
    "start_time": "2022-01-13T21:35:03.146Z"
   },
   {
    "duration": 17,
    "start_time": "2022-01-13T21:35:03.163Z"
   },
   {
    "duration": 28,
    "start_time": "2022-01-13T21:35:03.182Z"
   },
   {
    "duration": 12,
    "start_time": "2022-01-13T21:35:03.214Z"
   },
   {
    "duration": 45,
    "start_time": "2022-01-13T21:35:03.228Z"
   },
   {
    "duration": 16,
    "start_time": "2022-01-13T21:35:03.275Z"
   },
   {
    "duration": 12,
    "start_time": "2022-01-13T21:35:03.293Z"
   },
   {
    "duration": 17,
    "start_time": "2022-01-13T21:35:03.307Z"
   },
   {
    "duration": 14,
    "start_time": "2022-01-13T21:35:03.326Z"
   },
   {
    "duration": 24,
    "start_time": "2022-01-13T21:35:03.341Z"
   },
   {
    "duration": 19,
    "start_time": "2022-01-13T21:35:03.367Z"
   },
   {
    "duration": 12,
    "start_time": "2022-01-13T21:35:03.388Z"
   },
   {
    "duration": 33,
    "start_time": "2022-01-13T21:35:03.402Z"
   },
   {
    "duration": 42,
    "start_time": "2022-01-13T21:35:03.437Z"
   },
   {
    "duration": 23,
    "start_time": "2022-01-13T21:35:03.481Z"
   },
   {
    "duration": 5,
    "start_time": "2022-01-13T21:35:03.505Z"
   },
   {
    "duration": 9,
    "start_time": "2022-01-13T21:35:03.511Z"
   },
   {
    "duration": 123,
    "start_time": "2022-01-13T21:35:03.521Z"
   },
   {
    "duration": 51,
    "start_time": "2022-01-13T21:35:03.648Z"
   },
   {
    "duration": 69,
    "start_time": "2022-01-13T21:35:03.702Z"
   },
   {
    "duration": 6,
    "start_time": "2022-01-13T21:35:03.773Z"
   },
   {
    "duration": 15,
    "start_time": "2022-01-13T21:35:03.781Z"
   },
   {
    "duration": 16,
    "start_time": "2022-01-13T21:35:03.797Z"
   },
   {
    "duration": 11,
    "start_time": "2022-01-13T21:35:03.815Z"
   },
   {
    "duration": 12,
    "start_time": "2022-01-13T21:35:03.828Z"
   },
   {
    "duration": 23,
    "start_time": "2022-01-13T21:35:03.842Z"
   },
   {
    "duration": 37,
    "start_time": "2022-01-13T21:35:03.867Z"
   },
   {
    "duration": 65,
    "start_time": "2022-01-13T21:35:03.906Z"
   },
   {
    "duration": 44,
    "start_time": "2022-01-13T21:35:03.973Z"
   },
   {
    "duration": 18,
    "start_time": "2022-01-13T21:35:04.019Z"
   },
   {
    "duration": 26,
    "start_time": "2022-01-13T21:35:04.039Z"
   },
   {
    "duration": 52,
    "start_time": "2022-01-13T21:35:04.067Z"
   },
   {
    "duration": 23,
    "start_time": "2022-01-13T21:35:04.121Z"
   },
   {
    "duration": 34,
    "start_time": "2022-01-13T21:35:04.145Z"
   },
   {
    "duration": 24,
    "start_time": "2022-01-13T21:35:04.180Z"
   },
   {
    "duration": 18,
    "start_time": "2022-01-13T21:35:04.206Z"
   },
   {
    "duration": 38,
    "start_time": "2022-01-13T21:35:04.225Z"
   },
   {
    "duration": 14,
    "start_time": "2022-01-13T21:35:04.265Z"
   },
   {
    "duration": 32,
    "start_time": "2022-01-13T21:35:04.280Z"
   },
   {
    "duration": 31,
    "start_time": "2022-01-13T21:35:04.314Z"
   },
   {
    "duration": 30,
    "start_time": "2022-01-13T21:35:04.347Z"
   },
   {
    "duration": 37,
    "start_time": "2022-01-13T21:35:04.379Z"
   },
   {
    "duration": 37,
    "start_time": "2022-01-13T21:35:04.418Z"
   },
   {
    "duration": 34,
    "start_time": "2022-01-13T21:35:04.457Z"
   },
   {
    "duration": 25,
    "start_time": "2022-01-13T21:35:04.493Z"
   },
   {
    "duration": 18,
    "start_time": "2022-01-13T21:35:04.520Z"
   },
   {
    "duration": 58,
    "start_time": "2022-01-13T21:35:04.540Z"
   },
   {
    "duration": 4,
    "start_time": "2022-01-13T21:35:04.600Z"
   },
   {
    "duration": 159,
    "start_time": "2022-01-13T21:35:04.606Z"
   },
   {
    "duration": 19,
    "start_time": "2022-01-13T21:35:04.767Z"
   },
   {
    "duration": 30,
    "start_time": "2022-01-13T21:35:04.788Z"
   },
   {
    "duration": 22,
    "start_time": "2022-01-13T21:35:04.820Z"
   },
   {
    "duration": 35,
    "start_time": "2022-01-13T21:35:04.860Z"
   },
   {
    "duration": 76,
    "start_time": "2022-01-13T21:35:04.897Z"
   },
   {
    "duration": 8,
    "start_time": "2022-01-13T21:35:04.975Z"
   },
   {
    "duration": 21,
    "start_time": "2022-01-13T21:35:04.985Z"
   },
   {
    "duration": 175,
    "start_time": "2022-01-13T21:35:05.008Z"
   },
   {
    "duration": 417,
    "start_time": "2022-01-13T21:35:05.184Z"
   },
   {
    "duration": 251,
    "start_time": "2022-01-13T21:35:05.603Z"
   },
   {
    "duration": 10,
    "start_time": "2022-01-13T21:35:05.856Z"
   },
   {
    "duration": 44,
    "start_time": "2022-01-13T21:35:05.868Z"
   },
   {
    "duration": 26,
    "start_time": "2022-01-13T21:35:05.913Z"
   },
   {
    "duration": 37,
    "start_time": "2022-01-13T21:35:05.940Z"
   },
   {
    "duration": 27,
    "start_time": "2022-01-13T21:35:05.984Z"
   },
   {
    "duration": 148,
    "start_time": "2022-01-13T21:35:06.015Z"
   },
   {
    "duration": 508,
    "start_time": "2022-01-13T21:35:06.166Z"
   },
   {
    "duration": 7,
    "start_time": "2022-01-13T21:35:06.676Z"
   },
   {
    "duration": 309,
    "start_time": "2022-01-13T21:35:06.685Z"
   },
   {
    "duration": 9,
    "start_time": "2022-01-13T21:35:06.996Z"
   },
   {
    "duration": 31,
    "start_time": "2022-01-13T21:35:07.008Z"
   },
   {
    "duration": 12,
    "start_time": "2022-01-13T21:35:07.041Z"
   },
   {
    "duration": 41,
    "start_time": "2022-01-13T21:35:07.056Z"
   },
   {
    "duration": 9,
    "start_time": "2022-01-13T21:35:07.099Z"
   },
   {
    "duration": 20,
    "start_time": "2022-01-13T21:35:07.110Z"
   },
   {
    "duration": 23,
    "start_time": "2022-01-13T21:35:07.133Z"
   },
   {
    "duration": 16,
    "start_time": "2022-01-13T21:35:07.158Z"
   },
   {
    "duration": 167,
    "start_time": "2022-01-13T21:35:07.176Z"
   },
   {
    "duration": 507,
    "start_time": "2022-01-13T21:35:07.345Z"
   },
   {
    "duration": 9,
    "start_time": "2022-01-13T21:35:07.853Z"
   },
   {
    "duration": 240,
    "start_time": "2022-01-13T21:35:07.864Z"
   },
   {
    "duration": 8,
    "start_time": "2022-01-13T21:35:08.106Z"
   },
   {
    "duration": 38,
    "start_time": "2022-01-13T21:35:08.116Z"
   },
   {
    "duration": 83,
    "start_time": "2022-01-13T21:35:08.156Z"
   },
   {
    "duration": 125,
    "start_time": "2022-01-13T21:35:08.241Z"
   },
   {
    "duration": 8,
    "start_time": "2022-01-13T21:35:08.368Z"
   },
   {
    "duration": 26,
    "start_time": "2022-01-13T21:35:08.378Z"
   },
   {
    "duration": 52,
    "start_time": "2022-01-13T21:35:08.406Z"
   },
   {
    "duration": 35,
    "start_time": "2022-01-13T21:35:08.460Z"
   },
   {
    "duration": 161,
    "start_time": "2022-01-13T21:35:08.497Z"
   },
   {
    "duration": 418,
    "start_time": "2022-01-13T21:35:08.660Z"
   },
   {
    "duration": 5,
    "start_time": "2022-01-13T21:35:09.080Z"
   },
   {
    "duration": 258,
    "start_time": "2022-01-13T21:35:09.086Z"
   },
   {
    "duration": 15,
    "start_time": "2022-01-13T21:35:09.346Z"
   },
   {
    "duration": 248,
    "start_time": "2022-01-13T21:35:09.363Z"
   },
   {
    "duration": 404,
    "start_time": "2022-01-13T21:35:09.613Z"
   },
   {
    "duration": 6,
    "start_time": "2022-01-13T21:35:10.019Z"
   },
   {
    "duration": 248,
    "start_time": "2022-01-13T21:35:10.026Z"
   },
   {
    "duration": 8,
    "start_time": "2022-01-13T21:35:10.276Z"
   },
   {
    "duration": 56,
    "start_time": "2022-01-13T21:35:10.286Z"
   },
   {
    "duration": 35,
    "start_time": "2022-01-13T21:35:10.344Z"
   },
   {
    "duration": 47,
    "start_time": "2022-01-13T21:35:10.380Z"
   },
   {
    "duration": 171,
    "start_time": "2022-01-13T21:35:10.429Z"
   },
   {
    "duration": 394,
    "start_time": "2022-01-13T21:35:10.602Z"
   },
   {
    "duration": 6,
    "start_time": "2022-01-13T21:35:10.998Z"
   },
   {
    "duration": 223,
    "start_time": "2022-01-13T21:35:11.006Z"
   },
   {
    "duration": 11,
    "start_time": "2022-01-13T21:35:11.231Z"
   },
   {
    "duration": 27,
    "start_time": "2022-01-13T21:35:11.244Z"
   },
   {
    "duration": 39,
    "start_time": "2022-01-13T21:35:11.273Z"
   },
   {
    "duration": 52,
    "start_time": "2022-01-13T21:35:11.314Z"
   },
   {
    "duration": 38,
    "start_time": "2022-01-13T21:35:11.368Z"
   },
   {
    "duration": 24,
    "start_time": "2022-01-13T21:35:11.408Z"
   },
   {
    "duration": 35,
    "start_time": "2022-01-13T21:35:11.433Z"
   },
   {
    "duration": 33,
    "start_time": "2022-01-13T21:35:11.470Z"
   },
   {
    "duration": 31,
    "start_time": "2022-01-13T21:35:11.505Z"
   },
   {
    "duration": 43,
    "start_time": "2022-01-13T21:35:11.537Z"
   },
   {
    "duration": 31,
    "start_time": "2022-01-13T21:35:11.581Z"
   },
   {
    "duration": 55,
    "start_time": "2022-01-13T21:35:11.615Z"
   },
   {
    "duration": 33,
    "start_time": "2022-01-13T21:35:11.672Z"
   },
   {
    "duration": 65,
    "start_time": "2022-01-13T21:35:11.706Z"
   },
   {
    "duration": 42,
    "start_time": "2022-01-13T21:35:11.772Z"
   },
   {
    "duration": 381,
    "start_time": "2022-01-13T21:35:11.815Z"
   },
   {
    "duration": -8461,
    "start_time": "2022-01-13T21:35:20.659Z"
   },
   {
    "duration": -8472,
    "start_time": "2022-01-13T21:35:20.671Z"
   },
   {
    "duration": -8482,
    "start_time": "2022-01-13T21:35:20.682Z"
   },
   {
    "duration": -8495,
    "start_time": "2022-01-13T21:35:20.696Z"
   },
   {
    "duration": -8504,
    "start_time": "2022-01-13T21:35:20.706Z"
   },
   {
    "duration": -8517,
    "start_time": "2022-01-13T21:35:20.720Z"
   },
   {
    "duration": -8526,
    "start_time": "2022-01-13T21:35:20.730Z"
   },
   {
    "duration": -8537,
    "start_time": "2022-01-13T21:35:20.742Z"
   },
   {
    "duration": 5,
    "start_time": "2022-01-13T21:37:43.606Z"
   },
   {
    "duration": 12,
    "start_time": "2022-01-13T21:38:35.914Z"
   },
   {
    "duration": 6,
    "start_time": "2022-01-13T21:42:28.152Z"
   },
   {
    "duration": 6,
    "start_time": "2022-01-13T21:51:52.573Z"
   },
   {
    "duration": 12,
    "start_time": "2022-01-13T21:52:01.050Z"
   },
   {
    "duration": 1182,
    "start_time": "2022-01-16T12:42:53.259Z"
   },
   {
    "duration": 465,
    "start_time": "2022-01-16T12:42:54.443Z"
   },
   {
    "duration": 22,
    "start_time": "2022-01-16T12:42:54.911Z"
   },
   {
    "duration": 32,
    "start_time": "2022-01-16T12:42:54.935Z"
   },
   {
    "duration": 15,
    "start_time": "2022-01-16T12:42:54.970Z"
   },
   {
    "duration": 19,
    "start_time": "2022-01-16T12:42:54.987Z"
   },
   {
    "duration": 59,
    "start_time": "2022-01-16T12:42:55.008Z"
   },
   {
    "duration": 12,
    "start_time": "2022-01-16T12:42:55.071Z"
   },
   {
    "duration": 21,
    "start_time": "2022-01-16T12:42:55.085Z"
   },
   {
    "duration": 34,
    "start_time": "2022-01-16T12:42:55.108Z"
   },
   {
    "duration": 8,
    "start_time": "2022-01-16T12:42:55.144Z"
   },
   {
    "duration": 11,
    "start_time": "2022-01-16T12:42:55.153Z"
   },
   {
    "duration": 9,
    "start_time": "2022-01-16T12:42:55.166Z"
   },
   {
    "duration": 19,
    "start_time": "2022-01-16T12:42:55.177Z"
   },
   {
    "duration": 12,
    "start_time": "2022-01-16T12:42:55.197Z"
   },
   {
    "duration": 38,
    "start_time": "2022-01-16T12:42:55.211Z"
   },
   {
    "duration": 39,
    "start_time": "2022-01-16T12:42:55.251Z"
   },
   {
    "duration": 22,
    "start_time": "2022-01-16T12:42:55.292Z"
   },
   {
    "duration": 48,
    "start_time": "2022-01-16T12:42:55.316Z"
   },
   {
    "duration": 4,
    "start_time": "2022-01-16T12:42:55.366Z"
   },
   {
    "duration": 25,
    "start_time": "2022-01-16T12:42:55.372Z"
   },
   {
    "duration": 108,
    "start_time": "2022-01-16T12:42:55.399Z"
   },
   {
    "duration": 49,
    "start_time": "2022-01-16T12:42:55.511Z"
   },
   {
    "duration": 60,
    "start_time": "2022-01-16T12:42:55.563Z"
   },
   {
    "duration": 23,
    "start_time": "2022-01-16T12:42:55.625Z"
   },
   {
    "duration": 7,
    "start_time": "2022-01-16T12:42:55.650Z"
   },
   {
    "duration": 9,
    "start_time": "2022-01-16T12:42:55.658Z"
   },
   {
    "duration": 12,
    "start_time": "2022-01-16T12:42:55.668Z"
   },
   {
    "duration": 11,
    "start_time": "2022-01-16T12:42:55.682Z"
   },
   {
    "duration": 12,
    "start_time": "2022-01-16T12:42:55.695Z"
   },
   {
    "duration": 44,
    "start_time": "2022-01-16T12:42:55.710Z"
   },
   {
    "duration": 66,
    "start_time": "2022-01-16T12:42:55.756Z"
   },
   {
    "duration": 53,
    "start_time": "2022-01-16T12:42:55.824Z"
   },
   {
    "duration": 16,
    "start_time": "2022-01-16T12:42:55.879Z"
   },
   {
    "duration": 6,
    "start_time": "2022-01-16T12:42:55.897Z"
   },
   {
    "duration": 39,
    "start_time": "2022-01-16T12:42:55.904Z"
   },
   {
    "duration": 20,
    "start_time": "2022-01-16T12:42:55.945Z"
   },
   {
    "duration": 19,
    "start_time": "2022-01-16T12:42:55.967Z"
   },
   {
    "duration": 7,
    "start_time": "2022-01-16T12:42:55.988Z"
   },
   {
    "duration": 6,
    "start_time": "2022-01-16T12:42:55.997Z"
   },
   {
    "duration": 48,
    "start_time": "2022-01-16T12:42:56.005Z"
   },
   {
    "duration": 6,
    "start_time": "2022-01-16T12:42:56.055Z"
   },
   {
    "duration": 8,
    "start_time": "2022-01-16T12:42:56.063Z"
   },
   {
    "duration": 10,
    "start_time": "2022-01-16T12:42:56.073Z"
   },
   {
    "duration": 12,
    "start_time": "2022-01-16T12:42:56.085Z"
   },
   {
    "duration": 6,
    "start_time": "2022-01-16T12:42:56.099Z"
   },
   {
    "duration": 40,
    "start_time": "2022-01-16T12:42:56.107Z"
   },
   {
    "duration": 14,
    "start_time": "2022-01-16T12:42:56.149Z"
   },
   {
    "duration": 6,
    "start_time": "2022-01-16T12:42:56.164Z"
   },
   {
    "duration": 19,
    "start_time": "2022-01-16T12:42:56.172Z"
   },
   {
    "duration": 23,
    "start_time": "2022-01-16T12:42:56.193Z"
   },
   {
    "duration": 9,
    "start_time": "2022-01-16T12:42:56.218Z"
   },
   {
    "duration": 160,
    "start_time": "2022-01-16T12:42:56.228Z"
   },
   {
    "duration": 20,
    "start_time": "2022-01-16T12:42:56.390Z"
   },
   {
    "duration": 42,
    "start_time": "2022-01-16T12:42:56.412Z"
   },
   {
    "duration": 7,
    "start_time": "2022-01-16T12:42:56.456Z"
   },
   {
    "duration": 16,
    "start_time": "2022-01-16T12:42:56.465Z"
   },
   {
    "duration": 88,
    "start_time": "2022-01-16T12:42:56.483Z"
   },
   {
    "duration": 9,
    "start_time": "2022-01-16T12:42:56.572Z"
   },
   {
    "duration": 8,
    "start_time": "2022-01-16T12:42:56.583Z"
   },
   {
    "duration": 165,
    "start_time": "2022-01-16T12:42:56.593Z"
   },
   {
    "duration": 423,
    "start_time": "2022-01-16T12:42:56.759Z"
   },
   {
    "duration": 239,
    "start_time": "2022-01-16T12:42:57.184Z"
   },
   {
    "duration": 17,
    "start_time": "2022-01-16T12:42:57.425Z"
   },
   {
    "duration": 7,
    "start_time": "2022-01-16T12:42:57.444Z"
   },
   {
    "duration": 8,
    "start_time": "2022-01-16T12:42:57.453Z"
   },
   {
    "duration": 8,
    "start_time": "2022-01-16T12:42:57.462Z"
   },
   {
    "duration": 8,
    "start_time": "2022-01-16T12:42:57.476Z"
   },
   {
    "duration": 182,
    "start_time": "2022-01-16T12:42:57.486Z"
   },
   {
    "duration": 484,
    "start_time": "2022-01-16T12:42:57.670Z"
   },
   {
    "duration": 5,
    "start_time": "2022-01-16T12:42:58.155Z"
   },
   {
    "duration": 204,
    "start_time": "2022-01-16T12:42:58.162Z"
   },
   {
    "duration": 8,
    "start_time": "2022-01-16T12:42:58.368Z"
   },
   {
    "duration": 18,
    "start_time": "2022-01-16T12:42:58.377Z"
   },
   {
    "duration": 10,
    "start_time": "2022-01-16T12:42:58.397Z"
   },
   {
    "duration": 7,
    "start_time": "2022-01-16T12:42:58.408Z"
   },
   {
    "duration": 28,
    "start_time": "2022-01-16T12:42:58.417Z"
   },
   {
    "duration": 4,
    "start_time": "2022-01-16T12:42:58.447Z"
   },
   {
    "duration": 9,
    "start_time": "2022-01-16T12:42:58.453Z"
   },
   {
    "duration": 10,
    "start_time": "2022-01-16T12:42:58.464Z"
   },
   {
    "duration": 159,
    "start_time": "2022-01-16T12:42:58.475Z"
   },
   {
    "duration": 388,
    "start_time": "2022-01-16T12:42:58.640Z"
   },
   {
    "duration": 11,
    "start_time": "2022-01-16T12:42:59.030Z"
   },
   {
    "duration": 201,
    "start_time": "2022-01-16T12:42:59.043Z"
   },
   {
    "duration": 7,
    "start_time": "2022-01-16T12:42:59.246Z"
   },
   {
    "duration": 12,
    "start_time": "2022-01-16T12:42:59.255Z"
   },
   {
    "duration": 77,
    "start_time": "2022-01-16T12:42:59.269Z"
   },
   {
    "duration": 126,
    "start_time": "2022-01-16T12:42:59.348Z"
   },
   {
    "duration": 7,
    "start_time": "2022-01-16T12:42:59.475Z"
   },
   {
    "duration": 9,
    "start_time": "2022-01-16T12:42:59.484Z"
   },
   {
    "duration": 8,
    "start_time": "2022-01-16T12:42:59.494Z"
   },
   {
    "duration": 7,
    "start_time": "2022-01-16T12:42:59.503Z"
   },
   {
    "duration": 181,
    "start_time": "2022-01-16T12:42:59.512Z"
   },
   {
    "duration": 396,
    "start_time": "2022-01-16T12:42:59.695Z"
   },
   {
    "duration": 5,
    "start_time": "2022-01-16T12:43:00.092Z"
   },
   {
    "duration": 220,
    "start_time": "2022-01-16T12:43:00.099Z"
   },
   {
    "duration": 9,
    "start_time": "2022-01-16T12:43:00.321Z"
   },
   {
    "duration": 247,
    "start_time": "2022-01-16T12:43:00.341Z"
   },
   {
    "duration": 387,
    "start_time": "2022-01-16T12:43:00.590Z"
   },
   {
    "duration": 5,
    "start_time": "2022-01-16T12:43:00.979Z"
   },
   {
    "duration": 229,
    "start_time": "2022-01-16T12:43:00.986Z"
   },
   {
    "duration": 7,
    "start_time": "2022-01-16T12:43:01.217Z"
   },
   {
    "duration": 19,
    "start_time": "2022-01-16T12:43:01.225Z"
   },
   {
    "duration": 24,
    "start_time": "2022-01-16T12:43:01.246Z"
   },
   {
    "duration": 15,
    "start_time": "2022-01-16T12:43:01.272Z"
   },
   {
    "duration": 148,
    "start_time": "2022-01-16T12:43:01.289Z"
   },
   {
    "duration": 390,
    "start_time": "2022-01-16T12:43:01.439Z"
   },
   {
    "duration": 10,
    "start_time": "2022-01-16T12:43:01.831Z"
   },
   {
    "duration": 219,
    "start_time": "2022-01-16T12:43:01.843Z"
   },
   {
    "duration": 11,
    "start_time": "2022-01-16T12:43:02.064Z"
   },
   {
    "duration": 33,
    "start_time": "2022-01-16T12:43:02.077Z"
   },
   {
    "duration": 20,
    "start_time": "2022-01-16T12:43:02.112Z"
   },
   {
    "duration": 27,
    "start_time": "2022-01-16T12:43:02.134Z"
   },
   {
    "duration": 20,
    "start_time": "2022-01-16T12:43:02.163Z"
   },
   {
    "duration": 25,
    "start_time": "2022-01-16T12:43:02.184Z"
   },
   {
    "duration": 35,
    "start_time": "2022-01-16T12:43:02.211Z"
   },
   {
    "duration": 23,
    "start_time": "2022-01-16T12:43:02.248Z"
   },
   {
    "duration": 37,
    "start_time": "2022-01-16T12:43:02.273Z"
   },
   {
    "duration": 21,
    "start_time": "2022-01-16T12:43:02.311Z"
   },
   {
    "duration": 27,
    "start_time": "2022-01-16T12:43:02.334Z"
   },
   {
    "duration": 44,
    "start_time": "2022-01-16T12:43:02.363Z"
   },
   {
    "duration": 26,
    "start_time": "2022-01-16T12:43:02.409Z"
   },
   {
    "duration": 30,
    "start_time": "2022-01-16T12:43:02.438Z"
   },
   {
    "duration": 14,
    "start_time": "2022-01-16T12:43:02.470Z"
   },
   {
    "duration": 33,
    "start_time": "2022-01-16T12:43:02.486Z"
   },
   {
    "duration": 22,
    "start_time": "2022-01-16T12:43:02.521Z"
   },
   {
    "duration": 21,
    "start_time": "2022-01-16T13:19:08.053Z"
   },
   {
    "duration": 27,
    "start_time": "2022-01-16T13:24:51.964Z"
   },
   {
    "duration": 4,
    "start_time": "2022-01-16T13:25:40.164Z"
   },
   {
    "duration": 43020,
    "start_time": "2022-01-16T13:26:19.981Z"
   },
   {
    "duration": 1306,
    "start_time": "2022-01-16T17:31:00.704Z"
   },
   {
    "duration": 469,
    "start_time": "2022-01-16T17:31:02.011Z"
   },
   {
    "duration": 21,
    "start_time": "2022-01-16T17:31:02.482Z"
   },
   {
    "duration": 38,
    "start_time": "2022-01-16T17:31:02.504Z"
   },
   {
    "duration": 13,
    "start_time": "2022-01-16T17:31:02.543Z"
   },
   {
    "duration": 18,
    "start_time": "2022-01-16T17:31:02.557Z"
   },
   {
    "duration": 35,
    "start_time": "2022-01-16T17:31:02.576Z"
   },
   {
    "duration": 32,
    "start_time": "2022-01-16T17:31:02.613Z"
   },
   {
    "duration": 14,
    "start_time": "2022-01-16T17:31:02.647Z"
   },
   {
    "duration": 24,
    "start_time": "2022-01-16T17:31:02.663Z"
   },
   {
    "duration": 11,
    "start_time": "2022-01-16T17:31:02.689Z"
   },
   {
    "duration": 10,
    "start_time": "2022-01-16T17:31:02.702Z"
   },
   {
    "duration": 9,
    "start_time": "2022-01-16T17:31:02.714Z"
   },
   {
    "duration": 20,
    "start_time": "2022-01-16T17:31:02.725Z"
   },
   {
    "duration": 17,
    "start_time": "2022-01-16T17:31:02.747Z"
   },
   {
    "duration": 15,
    "start_time": "2022-01-16T17:31:02.765Z"
   },
   {
    "duration": 39,
    "start_time": "2022-01-16T17:31:02.782Z"
   },
   {
    "duration": 26,
    "start_time": "2022-01-16T17:31:02.823Z"
   },
   {
    "duration": 22,
    "start_time": "2022-01-16T17:31:02.851Z"
   },
   {
    "duration": 4,
    "start_time": "2022-01-16T17:31:02.874Z"
   },
   {
    "duration": 10,
    "start_time": "2022-01-16T17:31:02.880Z"
   },
   {
    "duration": 113,
    "start_time": "2022-01-16T17:31:02.892Z"
   },
   {
    "duration": 51,
    "start_time": "2022-01-16T17:31:03.009Z"
   },
   {
    "duration": 57,
    "start_time": "2022-01-16T17:31:03.063Z"
   },
   {
    "duration": 234,
    "start_time": "2022-01-16T17:31:03.121Z"
   },
   {
    "duration": 8,
    "start_time": "2022-01-16T17:31:03.357Z"
   },
   {
    "duration": 7,
    "start_time": "2022-01-16T17:31:03.367Z"
   },
   {
    "duration": 9,
    "start_time": "2022-01-16T17:31:03.376Z"
   },
   {
    "duration": 8,
    "start_time": "2022-01-16T17:31:03.387Z"
   },
   {
    "duration": 6,
    "start_time": "2022-01-16T17:31:03.397Z"
   },
   {
    "duration": 42,
    "start_time": "2022-01-16T17:31:03.405Z"
   },
   {
    "duration": 20,
    "start_time": "2022-01-16T17:31:03.449Z"
   },
   {
    "duration": 77,
    "start_time": "2022-01-16T17:31:03.470Z"
   },
   {
    "duration": 43,
    "start_time": "2022-01-16T17:31:03.549Z"
   },
   {
    "duration": 17,
    "start_time": "2022-01-16T17:31:03.593Z"
   },
   {
    "duration": 6,
    "start_time": "2022-01-16T17:31:03.612Z"
   },
   {
    "duration": 36,
    "start_time": "2022-01-16T17:31:03.619Z"
   },
   {
    "duration": 22,
    "start_time": "2022-01-16T17:31:03.656Z"
   },
   {
    "duration": 21,
    "start_time": "2022-01-16T17:31:03.679Z"
   },
   {
    "duration": 44,
    "start_time": "2022-01-16T17:31:03.702Z"
   },
   {
    "duration": 12,
    "start_time": "2022-01-16T17:31:03.748Z"
   },
   {
    "duration": 27,
    "start_time": "2022-01-16T17:31:03.762Z"
   },
   {
    "duration": 11,
    "start_time": "2022-01-16T17:31:03.791Z"
   },
   {
    "duration": 8,
    "start_time": "2022-01-16T17:31:03.804Z"
   },
   {
    "duration": 10,
    "start_time": "2022-01-16T17:31:03.814Z"
   },
   {
    "duration": 11,
    "start_time": "2022-01-16T17:31:03.841Z"
   },
   {
    "duration": 9,
    "start_time": "2022-01-16T17:31:03.854Z"
   },
   {
    "duration": 19,
    "start_time": "2022-01-16T17:31:03.864Z"
   },
   {
    "duration": 14,
    "start_time": "2022-01-16T17:31:03.885Z"
   },
   {
    "duration": 8,
    "start_time": "2022-01-16T17:31:03.901Z"
   },
   {
    "duration": 13,
    "start_time": "2022-01-16T17:31:03.910Z"
   },
   {
    "duration": 34,
    "start_time": "2022-01-16T17:31:03.924Z"
   },
   {
    "duration": 4,
    "start_time": "2022-01-16T17:31:03.960Z"
   },
   {
    "duration": 158,
    "start_time": "2022-01-16T17:31:03.965Z"
   },
   {
    "duration": 20,
    "start_time": "2022-01-16T17:31:04.125Z"
   },
   {
    "duration": 44,
    "start_time": "2022-01-16T17:31:04.147Z"
   },
   {
    "duration": 7,
    "start_time": "2022-01-16T17:31:04.192Z"
   },
   {
    "duration": 33,
    "start_time": "2022-01-16T17:31:04.201Z"
   },
   {
    "duration": 86,
    "start_time": "2022-01-16T17:31:04.235Z"
   },
   {
    "duration": 9,
    "start_time": "2022-01-16T17:31:04.322Z"
   },
   {
    "duration": 23,
    "start_time": "2022-01-16T17:31:04.333Z"
   },
   {
    "duration": 166,
    "start_time": "2022-01-16T17:31:04.357Z"
   },
   {
    "duration": 400,
    "start_time": "2022-01-16T17:31:04.524Z"
   },
   {
    "duration": 229,
    "start_time": "2022-01-16T17:31:04.926Z"
   },
   {
    "duration": 8,
    "start_time": "2022-01-16T17:31:05.156Z"
   },
   {
    "duration": 27,
    "start_time": "2022-01-16T17:31:05.165Z"
   },
   {
    "duration": 25,
    "start_time": "2022-01-16T17:31:05.193Z"
   },
   {
    "duration": 33,
    "start_time": "2022-01-16T17:31:05.223Z"
   },
   {
    "duration": 19,
    "start_time": "2022-01-16T17:31:05.258Z"
   },
   {
    "duration": 158,
    "start_time": "2022-01-16T17:31:05.279Z"
   },
   {
    "duration": 482,
    "start_time": "2022-01-16T17:31:05.440Z"
   },
   {
    "duration": 4,
    "start_time": "2022-01-16T17:31:05.924Z"
   },
   {
    "duration": 218,
    "start_time": "2022-01-16T17:31:05.941Z"
   },
   {
    "duration": 10,
    "start_time": "2022-01-16T17:31:06.161Z"
   },
   {
    "duration": 7,
    "start_time": "2022-01-16T17:31:06.173Z"
   },
   {
    "duration": 8,
    "start_time": "2022-01-16T17:31:06.182Z"
   },
   {
    "duration": 11,
    "start_time": "2022-01-16T17:31:06.191Z"
   },
   {
    "duration": 41,
    "start_time": "2022-01-16T17:31:06.203Z"
   },
   {
    "duration": 14,
    "start_time": "2022-01-16T17:31:06.246Z"
   },
   {
    "duration": 15,
    "start_time": "2022-01-16T17:31:06.262Z"
   },
   {
    "duration": 21,
    "start_time": "2022-01-16T17:31:06.279Z"
   },
   {
    "duration": 157,
    "start_time": "2022-01-16T17:31:06.302Z"
   },
   {
    "duration": 402,
    "start_time": "2022-01-16T17:31:06.460Z"
   },
   {
    "duration": 5,
    "start_time": "2022-01-16T17:31:06.864Z"
   },
   {
    "duration": 209,
    "start_time": "2022-01-16T17:31:06.871Z"
   },
   {
    "duration": 7,
    "start_time": "2022-01-16T17:31:07.082Z"
   },
   {
    "duration": 16,
    "start_time": "2022-01-16T17:31:07.091Z"
   },
   {
    "duration": 84,
    "start_time": "2022-01-16T17:31:07.108Z"
   },
   {
    "duration": 129,
    "start_time": "2022-01-16T17:31:07.194Z"
   },
   {
    "duration": 7,
    "start_time": "2022-01-16T17:31:07.325Z"
   },
   {
    "duration": 7,
    "start_time": "2022-01-16T17:31:07.341Z"
   },
   {
    "duration": 9,
    "start_time": "2022-01-16T17:31:07.350Z"
   },
   {
    "duration": 8,
    "start_time": "2022-01-16T17:31:07.361Z"
   },
   {
    "duration": 168,
    "start_time": "2022-01-16T17:31:07.370Z"
   },
   {
    "duration": 406,
    "start_time": "2022-01-16T17:31:07.540Z"
   },
   {
    "duration": 11,
    "start_time": "2022-01-16T17:31:07.950Z"
   },
   {
    "duration": 871,
    "start_time": "2022-01-16T17:31:07.963Z"
   },
   {
    "duration": 319,
    "start_time": "2022-01-16T17:31:08.836Z"
   },
   {
    "duration": 9,
    "start_time": "2022-01-16T17:31:09.157Z"
   },
   {
    "duration": 154,
    "start_time": "2022-01-16T17:31:09.168Z"
   },
   {
    "duration": 391,
    "start_time": "2022-01-16T17:31:09.325Z"
   },
   {
    "duration": 5,
    "start_time": "2022-01-16T17:31:09.717Z"
   },
   {
    "duration": 226,
    "start_time": "2022-01-16T17:31:09.724Z"
   },
   {
    "duration": 8,
    "start_time": "2022-01-16T17:31:09.951Z"
   },
   {
    "duration": 10,
    "start_time": "2022-01-16T17:31:09.960Z"
   },
   {
    "duration": 13,
    "start_time": "2022-01-16T17:31:09.971Z"
   },
   {
    "duration": 9,
    "start_time": "2022-01-16T17:31:09.985Z"
   },
   {
    "duration": 154,
    "start_time": "2022-01-16T17:31:09.996Z"
   },
   {
    "duration": 395,
    "start_time": "2022-01-16T17:31:10.152Z"
   },
   {
    "duration": 5,
    "start_time": "2022-01-16T17:31:10.550Z"
   },
   {
    "duration": 210,
    "start_time": "2022-01-16T17:31:10.557Z"
   },
   {
    "duration": 13,
    "start_time": "2022-01-16T17:31:10.769Z"
   },
   {
    "duration": 6,
    "start_time": "2022-01-16T17:31:10.783Z"
   },
   {
    "duration": 143,
    "start_time": "2022-01-16T17:31:10.790Z"
   },
   {
    "duration": 20,
    "start_time": "2022-01-16T17:31:10.935Z"
   },
   {
    "duration": 12,
    "start_time": "2022-01-16T17:31:10.957Z"
   },
   {
    "duration": 8,
    "start_time": "2022-01-16T17:31:10.971Z"
   },
   {
    "duration": 9,
    "start_time": "2022-01-16T17:31:10.981Z"
   },
   {
    "duration": 7,
    "start_time": "2022-01-16T17:31:10.991Z"
   },
   {
    "duration": 43,
    "start_time": "2022-01-16T17:31:10.999Z"
   },
   {
    "duration": 5,
    "start_time": "2022-01-16T17:31:11.044Z"
   },
   {
    "duration": 8,
    "start_time": "2022-01-16T17:31:11.051Z"
   },
   {
    "duration": 12,
    "start_time": "2022-01-16T17:31:11.061Z"
   },
   {
    "duration": 7,
    "start_time": "2022-01-16T17:31:11.075Z"
   },
   {
    "duration": 15,
    "start_time": "2022-01-16T17:31:11.084Z"
   },
   {
    "duration": 11,
    "start_time": "2022-01-16T17:31:11.100Z"
   },
   {
    "duration": 12,
    "start_time": "2022-01-16T17:31:11.141Z"
   },
   {
    "duration": 4,
    "start_time": "2022-01-16T17:31:11.155Z"
   },
   {
    "duration": 228,
    "start_time": "2022-01-16T17:32:00.164Z"
   },
   {
    "duration": 192,
    "start_time": "2022-01-16T17:32:29.889Z"
   },
   {
    "duration": 194,
    "start_time": "2022-01-16T17:32:41.357Z"
   },
   {
    "duration": 205,
    "start_time": "2022-01-16T17:33:05.284Z"
   },
   {
    "duration": 192,
    "start_time": "2022-01-16T17:33:15.791Z"
   },
   {
    "duration": 1279,
    "start_time": "2022-01-16T17:45:08.426Z"
   },
   {
    "duration": 435,
    "start_time": "2022-01-16T17:45:09.707Z"
   },
   {
    "duration": 21,
    "start_time": "2022-01-16T17:45:10.144Z"
   },
   {
    "duration": 34,
    "start_time": "2022-01-16T17:45:10.167Z"
   },
   {
    "duration": 13,
    "start_time": "2022-01-16T17:45:10.203Z"
   },
   {
    "duration": 33,
    "start_time": "2022-01-16T17:45:10.218Z"
   },
   {
    "duration": 29,
    "start_time": "2022-01-16T17:45:10.253Z"
   },
   {
    "duration": 10,
    "start_time": "2022-01-16T17:45:10.284Z"
   },
   {
    "duration": 17,
    "start_time": "2022-01-16T17:45:10.296Z"
   },
   {
    "duration": 10,
    "start_time": "2022-01-16T17:45:10.341Z"
   },
   {
    "duration": 9,
    "start_time": "2022-01-16T17:45:10.353Z"
   },
   {
    "duration": 11,
    "start_time": "2022-01-16T17:45:10.363Z"
   },
   {
    "duration": 8,
    "start_time": "2022-01-16T17:45:10.376Z"
   },
   {
    "duration": 15,
    "start_time": "2022-01-16T17:45:10.386Z"
   },
   {
    "duration": 9,
    "start_time": "2022-01-16T17:45:10.403Z"
   },
   {
    "duration": 12,
    "start_time": "2022-01-16T17:45:10.442Z"
   },
   {
    "duration": 38,
    "start_time": "2022-01-16T17:45:10.455Z"
   },
   {
    "duration": 21,
    "start_time": "2022-01-16T17:45:10.494Z"
   },
   {
    "duration": 39,
    "start_time": "2022-01-16T17:45:10.517Z"
   },
   {
    "duration": 5,
    "start_time": "2022-01-16T17:45:10.558Z"
   },
   {
    "duration": 8,
    "start_time": "2022-01-16T17:45:10.565Z"
   },
   {
    "duration": 116,
    "start_time": "2022-01-16T17:45:10.575Z"
   },
   {
    "duration": 54,
    "start_time": "2022-01-16T17:45:10.696Z"
   },
   {
    "duration": 56,
    "start_time": "2022-01-16T17:45:10.752Z"
   },
   {
    "duration": 212,
    "start_time": "2022-01-16T17:45:10.809Z"
   },
   {
    "duration": 7,
    "start_time": "2022-01-16T17:45:11.022Z"
   },
   {
    "duration": 8,
    "start_time": "2022-01-16T17:45:11.042Z"
   },
   {
    "duration": 8,
    "start_time": "2022-01-16T17:45:11.052Z"
   },
   {
    "duration": 10,
    "start_time": "2022-01-16T17:45:11.062Z"
   },
   {
    "duration": 7,
    "start_time": "2022-01-16T17:45:11.074Z"
   },
   {
    "duration": 11,
    "start_time": "2022-01-16T17:45:11.083Z"
   },
   {
    "duration": 48,
    "start_time": "2022-01-16T17:45:11.096Z"
   },
   {
    "duration": 66,
    "start_time": "2022-01-16T17:45:11.146Z"
   },
   {
    "duration": 59,
    "start_time": "2022-01-16T17:45:11.214Z"
   },
   {
    "duration": 18,
    "start_time": "2022-01-16T17:45:11.275Z"
   },
   {
    "duration": 8,
    "start_time": "2022-01-16T17:45:11.294Z"
   },
   {
    "duration": 48,
    "start_time": "2022-01-16T17:45:11.304Z"
   },
   {
    "duration": 23,
    "start_time": "2022-01-16T17:45:11.355Z"
   },
   {
    "duration": 23,
    "start_time": "2022-01-16T17:45:11.380Z"
   },
   {
    "duration": 9,
    "start_time": "2022-01-16T17:45:11.405Z"
   },
   {
    "duration": 4,
    "start_time": "2022-01-16T17:45:11.442Z"
   },
   {
    "duration": 29,
    "start_time": "2022-01-16T17:45:11.449Z"
   },
   {
    "duration": 7,
    "start_time": "2022-01-16T17:45:11.479Z"
   },
   {
    "duration": 2,
    "start_time": "2022-01-16T17:45:11.488Z"
   },
   {
    "duration": 342,
    "start_time": "2022-01-16T17:45:11.492Z"
   },
   {
    "duration": -4462,
    "start_time": "2022-01-16T17:45:16.300Z"
   },
   {
    "duration": -4534,
    "start_time": "2022-01-16T17:45:16.373Z"
   },
   {
    "duration": -4546,
    "start_time": "2022-01-16T17:45:16.386Z"
   },
   {
    "duration": -4558,
    "start_time": "2022-01-16T17:45:16.398Z"
   },
   {
    "duration": -4568,
    "start_time": "2022-01-16T17:45:16.409Z"
   },
   {
    "duration": -4580,
    "start_time": "2022-01-16T17:45:16.422Z"
   },
   {
    "duration": -4591,
    "start_time": "2022-01-16T17:45:16.434Z"
   },
   {
    "duration": -4601,
    "start_time": "2022-01-16T17:45:16.445Z"
   },
   {
    "duration": -4612,
    "start_time": "2022-01-16T17:45:16.458Z"
   },
   {
    "duration": -4645,
    "start_time": "2022-01-16T17:45:16.492Z"
   },
   {
    "duration": -4657,
    "start_time": "2022-01-16T17:45:16.505Z"
   },
   {
    "duration": -4668,
    "start_time": "2022-01-16T17:45:16.517Z"
   },
   {
    "duration": -4678,
    "start_time": "2022-01-16T17:45:16.528Z"
   },
   {
    "duration": -4689,
    "start_time": "2022-01-16T17:45:16.540Z"
   },
   {
    "duration": -4699,
    "start_time": "2022-01-16T17:45:16.551Z"
   },
   {
    "duration": -4710,
    "start_time": "2022-01-16T17:45:16.563Z"
   },
   {
    "duration": -4725,
    "start_time": "2022-01-16T17:45:16.579Z"
   },
   {
    "duration": -4755,
    "start_time": "2022-01-16T17:45:16.610Z"
   },
   {
    "duration": -4764,
    "start_time": "2022-01-16T17:45:16.621Z"
   },
   {
    "duration": -4776,
    "start_time": "2022-01-16T17:45:16.634Z"
   },
   {
    "duration": -4786,
    "start_time": "2022-01-16T17:45:16.645Z"
   },
   {
    "duration": -4797,
    "start_time": "2022-01-16T17:45:16.657Z"
   },
   {
    "duration": -4807,
    "start_time": "2022-01-16T17:45:16.668Z"
   },
   {
    "duration": -4819,
    "start_time": "2022-01-16T17:45:16.681Z"
   },
   {
    "duration": -4828,
    "start_time": "2022-01-16T17:45:16.691Z"
   },
   {
    "duration": -4839,
    "start_time": "2022-01-16T17:45:16.703Z"
   },
   {
    "duration": -4865,
    "start_time": "2022-01-16T17:45:16.730Z"
   },
   {
    "duration": -4877,
    "start_time": "2022-01-16T17:45:16.743Z"
   },
   {
    "duration": -4886,
    "start_time": "2022-01-16T17:45:16.753Z"
   },
   {
    "duration": -4896,
    "start_time": "2022-01-16T17:45:16.765Z"
   },
   {
    "duration": -4904,
    "start_time": "2022-01-16T17:45:16.774Z"
   },
   {
    "duration": -4914,
    "start_time": "2022-01-16T17:45:16.785Z"
   },
   {
    "duration": -4922,
    "start_time": "2022-01-16T17:45:16.794Z"
   },
   {
    "duration": -4932,
    "start_time": "2022-01-16T17:45:16.805Z"
   },
   {
    "duration": -4940,
    "start_time": "2022-01-16T17:45:16.814Z"
   },
   {
    "duration": -4949,
    "start_time": "2022-01-16T17:45:16.824Z"
   },
   {
    "duration": -4970,
    "start_time": "2022-01-16T17:45:16.846Z"
   },
   {
    "duration": -4980,
    "start_time": "2022-01-16T17:45:16.857Z"
   },
   {
    "duration": -4989,
    "start_time": "2022-01-16T17:45:16.868Z"
   },
   {
    "duration": -4998,
    "start_time": "2022-01-16T17:45:16.878Z"
   },
   {
    "duration": -5007,
    "start_time": "2022-01-16T17:45:16.888Z"
   },
   {
    "duration": -5017,
    "start_time": "2022-01-16T17:45:16.898Z"
   },
   {
    "duration": -5025,
    "start_time": "2022-01-16T17:45:16.907Z"
   },
   {
    "duration": -5035,
    "start_time": "2022-01-16T17:45:16.918Z"
   },
   {
    "duration": -5044,
    "start_time": "2022-01-16T17:45:16.927Z"
   },
   {
    "duration": -4996,
    "start_time": "2022-01-16T17:45:16.937Z"
   },
   {
    "duration": -5018,
    "start_time": "2022-01-16T17:45:16.960Z"
   },
   {
    "duration": -5028,
    "start_time": "2022-01-16T17:45:16.971Z"
   },
   {
    "duration": -5036,
    "start_time": "2022-01-16T17:45:16.980Z"
   },
   {
    "duration": -5045,
    "start_time": "2022-01-16T17:45:16.990Z"
   },
   {
    "duration": -5053,
    "start_time": "2022-01-16T17:45:16.999Z"
   },
   {
    "duration": -5063,
    "start_time": "2022-01-16T17:45:17.010Z"
   },
   {
    "duration": -5071,
    "start_time": "2022-01-16T17:45:17.019Z"
   },
   {
    "duration": -5080,
    "start_time": "2022-01-16T17:45:17.029Z"
   },
   {
    "duration": -5089,
    "start_time": "2022-01-16T17:45:17.039Z"
   },
   {
    "duration": -5097,
    "start_time": "2022-01-16T17:45:17.049Z"
   },
   {
    "duration": -5118,
    "start_time": "2022-01-16T17:45:17.071Z"
   },
   {
    "duration": -5127,
    "start_time": "2022-01-16T17:45:17.081Z"
   },
   {
    "duration": -5136,
    "start_time": "2022-01-16T17:45:17.091Z"
   },
   {
    "duration": -5145,
    "start_time": "2022-01-16T17:45:17.101Z"
   },
   {
    "duration": -5153,
    "start_time": "2022-01-16T17:45:17.110Z"
   },
   {
    "duration": -5163,
    "start_time": "2022-01-16T17:45:17.121Z"
   },
   {
    "duration": -5171,
    "start_time": "2022-01-16T17:45:17.130Z"
   },
   {
    "duration": -5180,
    "start_time": "2022-01-16T17:45:17.140Z"
   },
   {
    "duration": -5189,
    "start_time": "2022-01-16T17:45:17.151Z"
   },
   {
    "duration": -5216,
    "start_time": "2022-01-16T17:45:17.179Z"
   },
   {
    "duration": -5225,
    "start_time": "2022-01-16T17:45:17.189Z"
   },
   {
    "duration": -5234,
    "start_time": "2022-01-16T17:45:17.199Z"
   },
   {
    "duration": -5243,
    "start_time": "2022-01-16T17:45:17.209Z"
   },
   {
    "duration": -5253,
    "start_time": "2022-01-16T17:45:17.220Z"
   },
   {
    "duration": -5262,
    "start_time": "2022-01-16T17:45:17.229Z"
   },
   {
    "duration": -5273,
    "start_time": "2022-01-16T17:45:17.241Z"
   },
   {
    "duration": -5283,
    "start_time": "2022-01-16T17:45:17.252Z"
   },
   {
    "duration": -5303,
    "start_time": "2022-01-16T17:45:17.274Z"
   },
   {
    "duration": -5324,
    "start_time": "2022-01-16T17:45:17.295Z"
   },
   {
    "duration": -5334,
    "start_time": "2022-01-16T17:45:17.306Z"
   },
   {
    "duration": -5343,
    "start_time": "2022-01-16T17:45:17.316Z"
   },
   {
    "duration": -5353,
    "start_time": "2022-01-16T17:45:17.327Z"
   },
   {
    "duration": -5361,
    "start_time": "2022-01-16T17:45:17.336Z"
   },
   {
    "duration": -5371,
    "start_time": "2022-01-16T17:45:17.347Z"
   },
   {
    "duration": -5379,
    "start_time": "2022-01-16T17:45:17.356Z"
   },
   {
    "duration": -5392,
    "start_time": "2022-01-16T17:45:17.370Z"
   },
   {
    "duration": -5414,
    "start_time": "2022-01-16T17:45:17.393Z"
   },
   {
    "duration": -5363,
    "start_time": "2022-01-16T17:45:17.404Z"
   },
   {
    "duration": 236,
    "start_time": "2022-01-16T17:46:12.960Z"
   },
   {
    "duration": 426,
    "start_time": "2022-01-16T17:46:55.992Z"
   },
   {
    "duration": 1200,
    "start_time": "2022-01-16T17:47:33.329Z"
   },
   {
    "duration": 414,
    "start_time": "2022-01-16T17:47:34.531Z"
   },
   {
    "duration": 21,
    "start_time": "2022-01-16T17:47:34.948Z"
   },
   {
    "duration": 37,
    "start_time": "2022-01-16T17:47:34.970Z"
   },
   {
    "duration": 14,
    "start_time": "2022-01-16T17:47:35.009Z"
   },
   {
    "duration": 27,
    "start_time": "2022-01-16T17:47:35.024Z"
   },
   {
    "duration": 49,
    "start_time": "2022-01-16T17:47:35.053Z"
   },
   {
    "duration": 11,
    "start_time": "2022-01-16T17:47:35.104Z"
   },
   {
    "duration": 28,
    "start_time": "2022-01-16T17:47:35.117Z"
   },
   {
    "duration": 24,
    "start_time": "2022-01-16T17:47:35.147Z"
   },
   {
    "duration": 15,
    "start_time": "2022-01-16T17:47:35.173Z"
   },
   {
    "duration": 29,
    "start_time": "2022-01-16T17:47:35.189Z"
   },
   {
    "duration": 17,
    "start_time": "2022-01-16T17:47:35.220Z"
   },
   {
    "duration": 26,
    "start_time": "2022-01-16T17:47:35.238Z"
   },
   {
    "duration": 21,
    "start_time": "2022-01-16T17:47:35.265Z"
   },
   {
    "duration": 17,
    "start_time": "2022-01-16T17:47:35.288Z"
   },
   {
    "duration": 42,
    "start_time": "2022-01-16T17:47:35.306Z"
   },
   {
    "duration": 19,
    "start_time": "2022-01-16T17:47:35.350Z"
   },
   {
    "duration": 22,
    "start_time": "2022-01-16T17:47:35.370Z"
   },
   {
    "duration": 17,
    "start_time": "2022-01-16T17:47:35.394Z"
   },
   {
    "duration": 22,
    "start_time": "2022-01-16T17:47:35.413Z"
   },
   {
    "duration": 110,
    "start_time": "2022-01-16T17:47:35.437Z"
   },
   {
    "duration": 38,
    "start_time": "2022-01-16T17:47:35.550Z"
   },
   {
    "duration": 70,
    "start_time": "2022-01-16T17:47:35.590Z"
   },
   {
    "duration": 184,
    "start_time": "2022-01-16T17:47:35.662Z"
   },
   {
    "duration": 5,
    "start_time": "2022-01-16T17:47:35.848Z"
   },
   {
    "duration": 30,
    "start_time": "2022-01-16T17:47:35.855Z"
   },
   {
    "duration": 21,
    "start_time": "2022-01-16T17:47:35.887Z"
   },
   {
    "duration": 25,
    "start_time": "2022-01-16T17:47:35.910Z"
   },
   {
    "duration": 32,
    "start_time": "2022-01-16T17:47:35.937Z"
   },
   {
    "duration": 20,
    "start_time": "2022-01-16T17:47:35.971Z"
   },
   {
    "duration": 40,
    "start_time": "2022-01-16T17:47:35.993Z"
   },
   {
    "duration": 86,
    "start_time": "2022-01-16T17:47:36.035Z"
   },
   {
    "duration": 40,
    "start_time": "2022-01-16T17:47:36.123Z"
   },
   {
    "duration": 17,
    "start_time": "2022-01-16T17:47:36.165Z"
   },
   {
    "duration": 15,
    "start_time": "2022-01-16T17:47:36.184Z"
   },
   {
    "duration": 52,
    "start_time": "2022-01-16T17:47:36.201Z"
   },
   {
    "duration": 19,
    "start_time": "2022-01-16T17:47:36.255Z"
   },
   {
    "duration": 31,
    "start_time": "2022-01-16T17:47:36.275Z"
   },
   {
    "duration": 24,
    "start_time": "2022-01-16T17:47:36.308Z"
   },
   {
    "duration": 36,
    "start_time": "2022-01-16T17:47:36.334Z"
   },
   {
    "duration": 44,
    "start_time": "2022-01-16T17:47:36.372Z"
   },
   {
    "duration": 62,
    "start_time": "2022-01-16T17:47:36.418Z"
   },
   {
    "duration": 27,
    "start_time": "2022-01-16T17:47:36.482Z"
   },
   {
    "duration": 350,
    "start_time": "2022-01-16T17:47:36.511Z"
   },
   {
    "duration": -5226,
    "start_time": "2022-01-16T17:47:42.091Z"
   },
   {
    "duration": -5236,
    "start_time": "2022-01-16T17:47:42.102Z"
   },
   {
    "duration": -5245,
    "start_time": "2022-01-16T17:47:42.112Z"
   },
   {
    "duration": -5254,
    "start_time": "2022-01-16T17:47:42.122Z"
   },
   {
    "duration": -5263,
    "start_time": "2022-01-16T17:47:42.132Z"
   },
   {
    "duration": -5273,
    "start_time": "2022-01-16T17:47:42.143Z"
   },
   {
    "duration": -5284,
    "start_time": "2022-01-16T17:47:42.155Z"
   },
   {
    "duration": -5297,
    "start_time": "2022-01-16T17:47:42.169Z"
   },
   {
    "duration": -5305,
    "start_time": "2022-01-16T17:47:42.178Z"
   },
   {
    "duration": -5350,
    "start_time": "2022-01-16T17:47:42.224Z"
   },
   {
    "duration": -5368,
    "start_time": "2022-01-16T17:47:42.243Z"
   },
   {
    "duration": -5379,
    "start_time": "2022-01-16T17:47:42.255Z"
   },
   {
    "duration": -5389,
    "start_time": "2022-01-16T17:47:42.267Z"
   },
   {
    "duration": -5400,
    "start_time": "2022-01-16T17:47:42.278Z"
   },
   {
    "duration": -5412,
    "start_time": "2022-01-16T17:47:42.291Z"
   },
   {
    "duration": -5422,
    "start_time": "2022-01-16T17:47:42.302Z"
   },
   {
    "duration": -5430,
    "start_time": "2022-01-16T17:47:42.311Z"
   },
   {
    "duration": -5456,
    "start_time": "2022-01-16T17:47:42.339Z"
   },
   {
    "duration": -5467,
    "start_time": "2022-01-16T17:47:42.350Z"
   },
   {
    "duration": -5476,
    "start_time": "2022-01-16T17:47:42.360Z"
   },
   {
    "duration": -5485,
    "start_time": "2022-01-16T17:47:42.370Z"
   },
   {
    "duration": -5494,
    "start_time": "2022-01-16T17:47:42.380Z"
   },
   {
    "duration": -5503,
    "start_time": "2022-01-16T17:47:42.390Z"
   },
   {
    "duration": -5512,
    "start_time": "2022-01-16T17:47:42.400Z"
   },
   {
    "duration": -5521,
    "start_time": "2022-01-16T17:47:42.410Z"
   },
   {
    "duration": -5530,
    "start_time": "2022-01-16T17:47:42.420Z"
   },
   {
    "duration": -5538,
    "start_time": "2022-01-16T17:47:42.429Z"
   },
   {
    "duration": -5575,
    "start_time": "2022-01-16T17:47:42.467Z"
   },
   {
    "duration": -5606,
    "start_time": "2022-01-16T17:47:42.499Z"
   },
   {
    "duration": -5616,
    "start_time": "2022-01-16T17:47:42.510Z"
   },
   {
    "duration": -5625,
    "start_time": "2022-01-16T17:47:42.520Z"
   },
   {
    "duration": -5645,
    "start_time": "2022-01-16T17:47:42.541Z"
   },
   {
    "duration": -5654,
    "start_time": "2022-01-16T17:47:42.551Z"
   },
   {
    "duration": -5674,
    "start_time": "2022-01-16T17:47:42.572Z"
   },
   {
    "duration": -5683,
    "start_time": "2022-01-16T17:47:42.582Z"
   },
   {
    "duration": -5692,
    "start_time": "2022-01-16T17:47:42.592Z"
   },
   {
    "duration": -5662,
    "start_time": "2022-01-16T17:47:42.603Z"
   },
   {
    "duration": -5763,
    "start_time": "2022-01-16T17:47:42.705Z"
   },
   {
    "duration": -5779,
    "start_time": "2022-01-16T17:47:42.722Z"
   },
   {
    "duration": -5790,
    "start_time": "2022-01-16T17:47:42.735Z"
   },
   {
    "duration": -5799,
    "start_time": "2022-01-16T17:47:42.744Z"
   },
   {
    "duration": -5807,
    "start_time": "2022-01-16T17:47:42.753Z"
   },
   {
    "duration": -5815,
    "start_time": "2022-01-16T17:47:42.762Z"
   },
   {
    "duration": -5823,
    "start_time": "2022-01-16T17:47:42.771Z"
   },
   {
    "duration": -5831,
    "start_time": "2022-01-16T17:47:42.780Z"
   },
   {
    "duration": -5838,
    "start_time": "2022-01-16T17:47:42.788Z"
   },
   {
    "duration": -5847,
    "start_time": "2022-01-16T17:47:42.798Z"
   },
   {
    "duration": -5867,
    "start_time": "2022-01-16T17:47:42.819Z"
   },
   {
    "duration": -5877,
    "start_time": "2022-01-16T17:47:42.830Z"
   },
   {
    "duration": -5885,
    "start_time": "2022-01-16T17:47:42.839Z"
   },
   {
    "duration": -5893,
    "start_time": "2022-01-16T17:47:42.848Z"
   },
   {
    "duration": -5900,
    "start_time": "2022-01-16T17:47:42.857Z"
   },
   {
    "duration": -5909,
    "start_time": "2022-01-16T17:47:42.866Z"
   },
   {
    "duration": -5916,
    "start_time": "2022-01-16T17:47:42.875Z"
   },
   {
    "duration": -5924,
    "start_time": "2022-01-16T17:47:42.884Z"
   },
   {
    "duration": -5932,
    "start_time": "2022-01-16T17:47:42.893Z"
   },
   {
    "duration": -5940,
    "start_time": "2022-01-16T17:47:42.902Z"
   },
   {
    "duration": -6079,
    "start_time": "2022-01-16T17:47:43.042Z"
   },
   {
    "duration": -6087,
    "start_time": "2022-01-16T17:47:43.051Z"
   },
   {
    "duration": -6095,
    "start_time": "2022-01-16T17:47:43.060Z"
   },
   {
    "duration": -6103,
    "start_time": "2022-01-16T17:47:43.069Z"
   },
   {
    "duration": -6111,
    "start_time": "2022-01-16T17:47:43.078Z"
   },
   {
    "duration": -6133,
    "start_time": "2022-01-16T17:47:43.101Z"
   },
   {
    "duration": -6140,
    "start_time": "2022-01-16T17:47:43.109Z"
   },
   {
    "duration": -6149,
    "start_time": "2022-01-16T17:47:43.119Z"
   },
   {
    "duration": -6157,
    "start_time": "2022-01-16T17:47:43.128Z"
   },
   {
    "duration": -6165,
    "start_time": "2022-01-16T17:47:43.137Z"
   },
   {
    "duration": -6173,
    "start_time": "2022-01-16T17:47:43.146Z"
   },
   {
    "duration": -6181,
    "start_time": "2022-01-16T17:47:43.155Z"
   },
   {
    "duration": -6189,
    "start_time": "2022-01-16T17:47:43.164Z"
   },
   {
    "duration": -6196,
    "start_time": "2022-01-16T17:47:43.173Z"
   },
   {
    "duration": -6205,
    "start_time": "2022-01-16T17:47:43.182Z"
   },
   {
    "duration": -6213,
    "start_time": "2022-01-16T17:47:43.191Z"
   },
   {
    "duration": -6235,
    "start_time": "2022-01-16T17:47:43.214Z"
   },
   {
    "duration": -6243,
    "start_time": "2022-01-16T17:47:43.223Z"
   },
   {
    "duration": -6191,
    "start_time": "2022-01-16T17:47:43.232Z"
   },
   {
    "duration": -6200,
    "start_time": "2022-01-16T17:47:43.242Z"
   },
   {
    "duration": -6207,
    "start_time": "2022-01-16T17:47:43.250Z"
   },
   {
    "duration": -6216,
    "start_time": "2022-01-16T17:47:43.260Z"
   },
   {
    "duration": -6223,
    "start_time": "2022-01-16T17:47:43.268Z"
   },
   {
    "duration": -6231,
    "start_time": "2022-01-16T17:47:43.277Z"
   },
   {
    "duration": -6239,
    "start_time": "2022-01-16T17:47:43.286Z"
   },
   {
    "duration": -6247,
    "start_time": "2022-01-16T17:47:43.295Z"
   },
   {
    "duration": -6255,
    "start_time": "2022-01-16T17:47:43.304Z"
   },
   {
    "duration": 255,
    "start_time": "2022-01-16T17:48:34.222Z"
   },
   {
    "duration": 233,
    "start_time": "2022-01-16T17:48:51.801Z"
   },
   {
    "duration": 5,
    "start_time": "2022-01-16T17:49:14.074Z"
   },
   {
    "duration": 6,
    "start_time": "2022-01-16T17:49:18.333Z"
   },
   {
    "duration": 6,
    "start_time": "2022-01-16T17:49:36.268Z"
   },
   {
    "duration": 9,
    "start_time": "2022-01-16T17:49:39.303Z"
   },
   {
    "duration": 77,
    "start_time": "2022-01-16T17:51:43.664Z"
   },
   {
    "duration": 20,
    "start_time": "2022-01-16T17:51:47.974Z"
   },
   {
    "duration": 18,
    "start_time": "2022-01-16T17:52:08.694Z"
   },
   {
    "duration": 3,
    "start_time": "2022-01-16T17:55:06.918Z"
   },
   {
    "duration": 16,
    "start_time": "2022-01-16T17:55:09.625Z"
   },
   {
    "duration": 8,
    "start_time": "2022-01-16T17:56:53.253Z"
   },
   {
    "duration": 21,
    "start_time": "2022-01-16T17:56:56.933Z"
   },
   {
    "duration": 25,
    "start_time": "2022-01-16T17:57:40.681Z"
   },
   {
    "duration": 26,
    "start_time": "2022-01-16T17:59:03.232Z"
   },
   {
    "duration": 6459,
    "start_time": "2022-01-16T17:59:06.272Z"
   },
   {
    "duration": 1224,
    "start_time": "2022-01-16T17:59:28.991Z"
   },
   {
    "duration": 426,
    "start_time": "2022-01-16T17:59:30.218Z"
   },
   {
    "duration": 24,
    "start_time": "2022-01-16T17:59:30.647Z"
   },
   {
    "duration": 55,
    "start_time": "2022-01-16T17:59:30.673Z"
   },
   {
    "duration": 14,
    "start_time": "2022-01-16T17:59:30.730Z"
   },
   {
    "duration": 32,
    "start_time": "2022-01-16T17:59:30.746Z"
   },
   {
    "duration": 36,
    "start_time": "2022-01-16T17:59:30.780Z"
   },
   {
    "duration": 21,
    "start_time": "2022-01-16T17:59:30.818Z"
   },
   {
    "duration": 33,
    "start_time": "2022-01-16T17:59:30.841Z"
   },
   {
    "duration": 25,
    "start_time": "2022-01-16T17:59:30.876Z"
   },
   {
    "duration": 9,
    "start_time": "2022-01-16T17:59:30.903Z"
   },
   {
    "duration": 12,
    "start_time": "2022-01-16T17:59:30.914Z"
   },
   {
    "duration": 13,
    "start_time": "2022-01-16T17:59:30.928Z"
   },
   {
    "duration": 19,
    "start_time": "2022-01-16T17:59:30.943Z"
   },
   {
    "duration": 9,
    "start_time": "2022-01-16T17:59:30.963Z"
   },
   {
    "duration": 10,
    "start_time": "2022-01-16T17:59:30.974Z"
   },
   {
    "duration": 59,
    "start_time": "2022-01-16T17:59:30.987Z"
   },
   {
    "duration": 22,
    "start_time": "2022-01-16T17:59:31.048Z"
   },
   {
    "duration": 30,
    "start_time": "2022-01-16T17:59:31.072Z"
   },
   {
    "duration": 5,
    "start_time": "2022-01-16T17:59:31.104Z"
   },
   {
    "duration": 13,
    "start_time": "2022-01-16T17:59:31.111Z"
   },
   {
    "duration": 122,
    "start_time": "2022-01-16T17:59:31.126Z"
   },
   {
    "duration": 47,
    "start_time": "2022-01-16T17:59:31.252Z"
   },
   {
    "duration": 72,
    "start_time": "2022-01-16T17:59:31.302Z"
   },
   {
    "duration": 235,
    "start_time": "2022-01-16T17:59:31.376Z"
   },
   {
    "duration": 32,
    "start_time": "2022-01-16T17:59:31.613Z"
   },
   {
    "duration": 11,
    "start_time": "2022-01-16T17:59:31.648Z"
   },
   {
    "duration": 28,
    "start_time": "2022-01-16T17:59:31.661Z"
   },
   {
    "duration": 21,
    "start_time": "2022-01-16T17:59:31.691Z"
   },
   {
    "duration": 23,
    "start_time": "2022-01-16T17:59:31.714Z"
   },
   {
    "duration": 32,
    "start_time": "2022-01-16T17:59:31.739Z"
   },
   {
    "duration": 44,
    "start_time": "2022-01-16T17:59:31.772Z"
   },
   {
    "duration": 75,
    "start_time": "2022-01-16T17:59:31.818Z"
   },
   {
    "duration": 42,
    "start_time": "2022-01-16T17:59:31.894Z"
   },
   {
    "duration": 17,
    "start_time": "2022-01-16T17:59:31.941Z"
   },
   {
    "duration": 7,
    "start_time": "2022-01-16T17:59:31.960Z"
   },
   {
    "duration": 46,
    "start_time": "2022-01-16T17:59:31.969Z"
   },
   {
    "duration": 26,
    "start_time": "2022-01-16T17:59:32.017Z"
   },
   {
    "duration": 28,
    "start_time": "2022-01-16T17:59:32.044Z"
   },
   {
    "duration": 18,
    "start_time": "2022-01-16T17:59:32.073Z"
   },
   {
    "duration": 21,
    "start_time": "2022-01-16T17:59:32.093Z"
   },
   {
    "duration": 38,
    "start_time": "2022-01-16T17:59:32.116Z"
   },
   {
    "duration": 9,
    "start_time": "2022-01-16T17:59:32.156Z"
   },
   {
    "duration": 47,
    "start_time": "2022-01-16T17:59:32.167Z"
   },
   {
    "duration": 28,
    "start_time": "2022-01-16T17:59:32.216Z"
   },
   {
    "duration": 20,
    "start_time": "2022-01-16T17:59:32.246Z"
   },
   {
    "duration": 47,
    "start_time": "2022-01-16T17:59:32.268Z"
   },
   {
    "duration": 24,
    "start_time": "2022-01-16T17:59:32.317Z"
   },
   {
    "duration": 43,
    "start_time": "2022-01-16T17:59:32.344Z"
   },
   {
    "duration": 33,
    "start_time": "2022-01-16T17:59:32.389Z"
   },
   {
    "duration": 25,
    "start_time": "2022-01-16T17:59:32.424Z"
   },
   {
    "duration": 14,
    "start_time": "2022-01-16T17:59:32.451Z"
   },
   {
    "duration": 39,
    "start_time": "2022-01-16T17:59:32.467Z"
   },
   {
    "duration": 37,
    "start_time": "2022-01-16T17:59:32.508Z"
   },
   {
    "duration": 5,
    "start_time": "2022-01-16T17:59:32.547Z"
   },
   {
    "duration": 217,
    "start_time": "2022-01-16T17:59:32.553Z"
   },
   {
    "duration": 82,
    "start_time": "2022-01-16T17:59:32.772Z"
   },
   {
    "duration": 34,
    "start_time": "2022-01-16T17:59:32.856Z"
   },
   {
    "duration": 7,
    "start_time": "2022-01-16T17:59:32.892Z"
   },
   {
    "duration": 21,
    "start_time": "2022-01-16T17:59:32.901Z"
   },
   {
    "duration": 120,
    "start_time": "2022-01-16T17:59:32.923Z"
   },
   {
    "duration": 8,
    "start_time": "2022-01-16T17:59:33.044Z"
   },
   {
    "duration": 15,
    "start_time": "2022-01-16T17:59:33.054Z"
   },
   {
    "duration": 372,
    "start_time": "2022-01-16T17:59:33.070Z"
   },
   {
    "duration": 398,
    "start_time": "2022-01-16T17:59:33.444Z"
   },
   {
    "duration": 232,
    "start_time": "2022-01-16T17:59:33.844Z"
   },
   {
    "duration": 8,
    "start_time": "2022-01-16T17:59:34.077Z"
   },
   {
    "duration": 28,
    "start_time": "2022-01-16T17:59:34.091Z"
   },
   {
    "duration": 17,
    "start_time": "2022-01-16T17:59:34.122Z"
   },
   {
    "duration": 21,
    "start_time": "2022-01-16T17:59:34.141Z"
   },
   {
    "duration": 19,
    "start_time": "2022-01-16T17:59:34.163Z"
   },
   {
    "duration": 156,
    "start_time": "2022-01-16T17:59:34.184Z"
   },
   {
    "duration": 484,
    "start_time": "2022-01-16T17:59:34.342Z"
   },
   {
    "duration": 6,
    "start_time": "2022-01-16T17:59:34.827Z"
   },
   {
    "duration": 210,
    "start_time": "2022-01-16T17:59:34.834Z"
   },
   {
    "duration": 8,
    "start_time": "2022-01-16T17:59:35.046Z"
   },
   {
    "duration": 15,
    "start_time": "2022-01-16T17:59:35.055Z"
   },
   {
    "duration": 15,
    "start_time": "2022-01-16T17:59:35.072Z"
   },
   {
    "duration": 7,
    "start_time": "2022-01-16T17:59:35.089Z"
   },
   {
    "duration": 9,
    "start_time": "2022-01-16T17:59:35.098Z"
   },
   {
    "duration": 7,
    "start_time": "2022-01-16T17:59:35.109Z"
   },
   {
    "duration": 27,
    "start_time": "2022-01-16T17:59:35.117Z"
   },
   {
    "duration": 17,
    "start_time": "2022-01-16T17:59:35.145Z"
   },
   {
    "duration": 163,
    "start_time": "2022-01-16T17:59:35.164Z"
   },
   {
    "duration": 416,
    "start_time": "2022-01-16T17:59:35.329Z"
   },
   {
    "duration": 5,
    "start_time": "2022-01-16T17:59:35.747Z"
   },
   {
    "duration": 218,
    "start_time": "2022-01-16T17:59:35.754Z"
   },
   {
    "duration": 8,
    "start_time": "2022-01-16T17:59:35.974Z"
   },
   {
    "duration": 13,
    "start_time": "2022-01-16T17:59:35.984Z"
   },
   {
    "duration": 79,
    "start_time": "2022-01-16T17:59:35.999Z"
   },
   {
    "duration": 136,
    "start_time": "2022-01-16T17:59:36.079Z"
   },
   {
    "duration": 8,
    "start_time": "2022-01-16T17:59:36.217Z"
   },
   {
    "duration": 27,
    "start_time": "2022-01-16T17:59:36.226Z"
   },
   {
    "duration": 11,
    "start_time": "2022-01-16T17:59:36.254Z"
   },
   {
    "duration": 11,
    "start_time": "2022-01-16T17:59:36.267Z"
   },
   {
    "duration": 291,
    "start_time": "2022-01-16T17:59:36.280Z"
   },
   {
    "duration": 517,
    "start_time": "2022-01-16T17:59:36.573Z"
   },
   {
    "duration": 6,
    "start_time": "2022-01-16T17:59:37.092Z"
   },
   {
    "duration": 597,
    "start_time": "2022-01-16T17:59:37.101Z"
   },
   {
    "duration": 243,
    "start_time": "2022-01-16T17:59:37.700Z"
   },
   {
    "duration": 13,
    "start_time": "2022-01-16T17:59:37.946Z"
   },
   {
    "duration": 162,
    "start_time": "2022-01-16T17:59:37.962Z"
   },
   {
    "duration": 399,
    "start_time": "2022-01-16T17:59:38.126Z"
   },
   {
    "duration": 5,
    "start_time": "2022-01-16T17:59:38.526Z"
   },
   {
    "duration": 235,
    "start_time": "2022-01-16T17:59:38.541Z"
   },
   {
    "duration": 7,
    "start_time": "2022-01-16T17:59:38.778Z"
   },
   {
    "duration": 9,
    "start_time": "2022-01-16T17:59:38.787Z"
   },
   {
    "duration": 9,
    "start_time": "2022-01-16T17:59:38.797Z"
   },
   {
    "duration": 11,
    "start_time": "2022-01-16T17:59:38.808Z"
   },
   {
    "duration": 139,
    "start_time": "2022-01-16T17:59:38.841Z"
   },
   {
    "duration": 385,
    "start_time": "2022-01-16T17:59:38.982Z"
   },
   {
    "duration": 5,
    "start_time": "2022-01-16T17:59:39.369Z"
   },
   {
    "duration": 205,
    "start_time": "2022-01-16T17:59:39.375Z"
   },
   {
    "duration": 11,
    "start_time": "2022-01-16T17:59:39.582Z"
   },
   {
    "duration": 5,
    "start_time": "2022-01-16T17:59:39.595Z"
   },
   {
    "duration": 142,
    "start_time": "2022-01-16T17:59:39.602Z"
   },
   {
    "duration": 15,
    "start_time": "2022-01-16T17:59:39.746Z"
   },
   {
    "duration": 9,
    "start_time": "2022-01-16T17:59:39.763Z"
   },
   {
    "duration": 7,
    "start_time": "2022-01-16T17:59:39.774Z"
   },
   {
    "duration": 14,
    "start_time": "2022-01-16T17:59:39.783Z"
   },
   {
    "duration": 7,
    "start_time": "2022-01-16T17:59:39.799Z"
   },
   {
    "duration": 41,
    "start_time": "2022-01-16T17:59:39.807Z"
   },
   {
    "duration": 6,
    "start_time": "2022-01-16T17:59:39.850Z"
   },
   {
    "duration": 12,
    "start_time": "2022-01-16T17:59:39.857Z"
   },
   {
    "duration": 14,
    "start_time": "2022-01-16T17:59:39.871Z"
   },
   {
    "duration": 7,
    "start_time": "2022-01-16T17:59:39.887Z"
   },
   {
    "duration": 13,
    "start_time": "2022-01-16T17:59:39.895Z"
   },
   {
    "duration": 32,
    "start_time": "2022-01-16T17:59:39.910Z"
   },
   {
    "duration": 11,
    "start_time": "2022-01-16T17:59:39.944Z"
   },
   {
    "duration": 6,
    "start_time": "2022-01-16T17:59:39.956Z"
   },
   {
    "duration": 3,
    "start_time": "2022-01-16T18:01:27.392Z"
   },
   {
    "duration": 397,
    "start_time": "2022-01-16T18:01:30.721Z"
   },
   {
    "duration": 77,
    "start_time": "2022-01-16T18:02:13.837Z"
   },
   {
    "duration": 366,
    "start_time": "2022-01-16T18:32:59.356Z"
   },
   {
    "duration": 454,
    "start_time": "2022-01-16T18:51:22.463Z"
   },
   {
    "duration": 259,
    "start_time": "2022-01-16T18:52:23.362Z"
   },
   {
    "duration": 81,
    "start_time": "2022-01-16T18:54:03.804Z"
   },
   {
    "duration": 82,
    "start_time": "2022-01-16T18:54:09.672Z"
   },
   {
    "duration": 77,
    "start_time": "2022-01-16T18:54:17.271Z"
   },
   {
    "duration": 245,
    "start_time": "2022-01-16T18:54:46.813Z"
   },
   {
    "duration": 264,
    "start_time": "2022-01-16T18:56:02.693Z"
   },
   {
    "duration": 224,
    "start_time": "2022-01-16T18:57:49.125Z"
   },
   {
    "duration": 250,
    "start_time": "2022-01-16T18:58:01.363Z"
   },
   {
    "duration": 229,
    "start_time": "2022-01-16T18:58:20.395Z"
   },
   {
    "duration": 238,
    "start_time": "2022-01-16T18:59:23.806Z"
   },
   {
    "duration": 238,
    "start_time": "2022-01-16T18:59:27.649Z"
   },
   {
    "duration": 238,
    "start_time": "2022-01-16T19:23:09.418Z"
   },
   {
    "duration": 229,
    "start_time": "2022-01-16T19:23:16.448Z"
   },
   {
    "duration": 240,
    "start_time": "2022-01-16T19:23:30.265Z"
   },
   {
    "duration": 567,
    "start_time": "2022-01-16T19:25:02.536Z"
   },
   {
    "duration": 456,
    "start_time": "2022-01-16T19:25:11.143Z"
   },
   {
    "duration": 371,
    "start_time": "2022-01-16T19:28:08.218Z"
   },
   {
    "duration": 407,
    "start_time": "2022-01-16T19:28:22.258Z"
   },
   {
    "duration": 562,
    "start_time": "2022-01-16T19:30:24.468Z"
   },
   {
    "duration": 234,
    "start_time": "2022-01-16T19:31:06.045Z"
   },
   {
    "duration": 236,
    "start_time": "2022-01-16T19:31:25.375Z"
   },
   {
    "duration": 296,
    "start_time": "2022-01-16T19:37:01.088Z"
   },
   {
    "duration": 389,
    "start_time": "2022-01-16T19:37:10.881Z"
   },
   {
    "duration": 3824,
    "start_time": "2022-01-16T19:39:21.710Z"
   },
   {
    "duration": 4122,
    "start_time": "2022-01-16T19:39:52.446Z"
   },
   {
    "duration": 5357,
    "start_time": "2022-01-16T19:46:03.378Z"
   },
   {
    "duration": 248,
    "start_time": "2022-01-16T19:46:44.156Z"
   },
   {
    "duration": 6447,
    "start_time": "2022-01-16T19:46:58.283Z"
   },
   {
    "duration": 6874,
    "start_time": "2022-01-16T19:47:05.923Z"
   },
   {
    "duration": 6520,
    "start_time": "2022-01-16T19:47:43.141Z"
   },
   {
    "duration": 6756,
    "start_time": "2022-01-16T19:48:25.321Z"
   },
   {
    "duration": 676,
    "start_time": "2022-01-16T19:54:04.026Z"
   },
   {
    "duration": 321,
    "start_time": "2022-01-16T19:54:43.998Z"
   },
   {
    "duration": 348,
    "start_time": "2022-01-16T19:55:11.192Z"
   },
   {
    "duration": 320,
    "start_time": "2022-01-16T19:56:00.335Z"
   },
   {
    "duration": 215,
    "start_time": "2022-01-16T19:57:11.935Z"
   },
   {
    "duration": 211,
    "start_time": "2022-01-16T19:57:27.985Z"
   },
   {
    "duration": 199,
    "start_time": "2022-01-16T19:57:45.208Z"
   },
   {
    "duration": 331,
    "start_time": "2022-01-16T19:57:57.711Z"
   },
   {
    "duration": 649,
    "start_time": "2022-01-16T20:06:18.922Z"
   },
   {
    "duration": 562,
    "start_time": "2022-01-16T20:07:12.976Z"
   },
   {
    "duration": 520,
    "start_time": "2022-01-16T20:07:39.931Z"
   },
   {
    "duration": 526,
    "start_time": "2022-01-16T20:07:55.067Z"
   },
   {
    "duration": 761,
    "start_time": "2022-01-16T20:09:20.648Z"
   },
   {
    "duration": 772,
    "start_time": "2022-01-16T20:09:43.073Z"
   },
   {
    "duration": 822,
    "start_time": "2022-01-16T20:10:00.060Z"
   },
   {
    "duration": 825,
    "start_time": "2022-01-16T20:10:30.496Z"
   },
   {
    "duration": 463,
    "start_time": "2022-01-16T20:11:09.459Z"
   },
   {
    "duration": 503,
    "start_time": "2022-01-16T20:11:23.074Z"
   },
   {
    "duration": 367,
    "start_time": "2022-01-16T20:12:03.930Z"
   },
   {
    "duration": 338,
    "start_time": "2022-01-16T20:12:20.488Z"
   },
   {
    "duration": 652,
    "start_time": "2022-01-16T20:12:30.613Z"
   },
   {
    "duration": 4681,
    "start_time": "2022-01-16T20:12:43.023Z"
   },
   {
    "duration": 4802,
    "start_time": "2022-01-16T20:12:54.789Z"
   },
   {
    "duration": 475,
    "start_time": "2022-01-16T20:13:26.658Z"
   },
   {
    "duration": 84,
    "start_time": "2022-01-16T20:16:12.332Z"
   },
   {
    "duration": 81,
    "start_time": "2022-01-16T20:17:15.173Z"
   },
   {
    "duration": 77,
    "start_time": "2022-01-16T20:17:17.951Z"
   },
   {
    "duration": 139,
    "start_time": "2022-01-16T20:17:26.807Z"
   },
   {
    "duration": 236,
    "start_time": "2022-01-16T20:17:32.669Z"
   },
   {
    "duration": 510,
    "start_time": "2022-01-16T20:17:46.786Z"
   },
   {
    "duration": 517,
    "start_time": "2022-01-16T20:18:22.137Z"
   },
   {
    "duration": 549,
    "start_time": "2022-01-16T20:18:33.600Z"
   },
   {
    "duration": 512,
    "start_time": "2022-01-16T20:18:40.874Z"
   },
   {
    "duration": 514,
    "start_time": "2022-01-16T20:19:41.039Z"
   },
   {
    "duration": 516,
    "start_time": "2022-01-16T20:19:52.307Z"
   },
   {
    "duration": 597,
    "start_time": "2022-01-16T20:20:12.609Z"
   },
   {
    "duration": 564,
    "start_time": "2022-01-16T20:20:23.131Z"
   },
   {
    "duration": 506,
    "start_time": "2022-01-16T20:20:40.655Z"
   },
   {
    "duration": 551,
    "start_time": "2022-01-16T20:22:59.159Z"
   },
   {
    "duration": 409,
    "start_time": "2022-01-16T20:23:14.479Z"
   },
   {
    "duration": 419,
    "start_time": "2022-01-16T20:23:54.137Z"
   },
   {
    "duration": 54765,
    "start_time": "2022-01-16T20:26:01.009Z"
   },
   {
    "duration": 1222,
    "start_time": "2022-01-16T20:28:02.592Z"
   },
   {
    "duration": 415,
    "start_time": "2022-01-16T20:28:03.816Z"
   },
   {
    "duration": 21,
    "start_time": "2022-01-16T20:28:04.233Z"
   },
   {
    "duration": 34,
    "start_time": "2022-01-16T20:28:04.256Z"
   },
   {
    "duration": 15,
    "start_time": "2022-01-16T20:28:04.292Z"
   },
   {
    "duration": 42,
    "start_time": "2022-01-16T20:28:04.308Z"
   },
   {
    "duration": 32,
    "start_time": "2022-01-16T20:28:04.351Z"
   },
   {
    "duration": 12,
    "start_time": "2022-01-16T20:28:04.386Z"
   },
   {
    "duration": 42,
    "start_time": "2022-01-16T20:28:04.400Z"
   },
   {
    "duration": 10,
    "start_time": "2022-01-16T20:28:04.444Z"
   },
   {
    "duration": 8,
    "start_time": "2022-01-16T20:28:04.456Z"
   },
   {
    "duration": 12,
    "start_time": "2022-01-16T20:28:04.465Z"
   },
   {
    "duration": 8,
    "start_time": "2022-01-16T20:28:04.478Z"
   },
   {
    "duration": 20,
    "start_time": "2022-01-16T20:28:04.487Z"
   },
   {
    "duration": 12,
    "start_time": "2022-01-16T20:28:04.542Z"
   },
   {
    "duration": 15,
    "start_time": "2022-01-16T20:28:04.556Z"
   },
   {
    "duration": 34,
    "start_time": "2022-01-16T20:28:04.572Z"
   },
   {
    "duration": 49,
    "start_time": "2022-01-16T20:28:04.608Z"
   },
   {
    "duration": 22,
    "start_time": "2022-01-16T20:28:04.659Z"
   },
   {
    "duration": 4,
    "start_time": "2022-01-16T20:28:04.683Z"
   },
   {
    "duration": 7,
    "start_time": "2022-01-16T20:28:04.689Z"
   },
   {
    "duration": 125,
    "start_time": "2022-01-16T20:28:04.698Z"
   },
   {
    "duration": 50,
    "start_time": "2022-01-16T20:28:04.825Z"
   },
   {
    "duration": 53,
    "start_time": "2022-01-16T20:28:04.876Z"
   },
   {
    "duration": 209,
    "start_time": "2022-01-16T20:28:04.941Z"
   },
   {
    "duration": 6,
    "start_time": "2022-01-16T20:28:05.154Z"
   },
   {
    "duration": 14,
    "start_time": "2022-01-16T20:28:05.163Z"
   },
   {
    "duration": 31,
    "start_time": "2022-01-16T20:28:05.179Z"
   },
   {
    "duration": 24,
    "start_time": "2022-01-16T20:28:05.212Z"
   },
   {
    "duration": 9,
    "start_time": "2022-01-16T20:28:05.238Z"
   },
   {
    "duration": 37,
    "start_time": "2022-01-16T20:28:05.248Z"
   },
   {
    "duration": 35,
    "start_time": "2022-01-16T20:28:05.287Z"
   },
   {
    "duration": 63,
    "start_time": "2022-01-16T20:28:05.324Z"
   },
   {
    "duration": 44,
    "start_time": "2022-01-16T20:28:05.389Z"
   },
   {
    "duration": 22,
    "start_time": "2022-01-16T20:28:05.435Z"
   },
   {
    "duration": 6,
    "start_time": "2022-01-16T20:28:05.459Z"
   },
   {
    "duration": 26,
    "start_time": "2022-01-16T20:28:05.467Z"
   },
   {
    "duration": 22,
    "start_time": "2022-01-16T20:28:05.494Z"
   },
   {
    "duration": 41,
    "start_time": "2022-01-16T20:28:05.518Z"
   },
   {
    "duration": 8,
    "start_time": "2022-01-16T20:28:05.560Z"
   },
   {
    "duration": 7,
    "start_time": "2022-01-16T20:28:05.570Z"
   },
   {
    "duration": 26,
    "start_time": "2022-01-16T20:28:05.578Z"
   },
   {
    "duration": 37,
    "start_time": "2022-01-16T20:28:05.605Z"
   },
   {
    "duration": 2,
    "start_time": "2022-01-16T20:28:05.644Z"
   },
   {
    "duration": 9,
    "start_time": "2022-01-16T20:28:05.648Z"
   },
   {
    "duration": 9,
    "start_time": "2022-01-16T20:28:05.659Z"
   },
   {
    "duration": 12,
    "start_time": "2022-01-16T20:28:05.670Z"
   },
   {
    "duration": 7,
    "start_time": "2022-01-16T20:28:05.684Z"
   },
   {
    "duration": 15,
    "start_time": "2022-01-16T20:28:05.694Z"
   },
   {
    "duration": 48,
    "start_time": "2022-01-16T20:28:05.711Z"
   },
   {
    "duration": 7,
    "start_time": "2022-01-16T20:28:05.761Z"
   },
   {
    "duration": 4,
    "start_time": "2022-01-16T20:28:05.770Z"
   },
   {
    "duration": 24,
    "start_time": "2022-01-16T20:28:05.776Z"
   },
   {
    "duration": 56,
    "start_time": "2022-01-16T20:28:05.802Z"
   },
   {
    "duration": 5,
    "start_time": "2022-01-16T20:28:05.860Z"
   },
   {
    "duration": 147,
    "start_time": "2022-01-16T20:28:05.866Z"
   },
   {
    "duration": 27,
    "start_time": "2022-01-16T20:28:06.015Z"
   },
   {
    "duration": 30,
    "start_time": "2022-01-16T20:28:06.044Z"
   },
   {
    "duration": 7,
    "start_time": "2022-01-16T20:28:06.076Z"
   },
   {
    "duration": 14,
    "start_time": "2022-01-16T20:28:06.085Z"
   },
   {
    "duration": 78,
    "start_time": "2022-01-16T20:28:06.100Z"
   },
   {
    "duration": 8,
    "start_time": "2022-01-16T20:28:06.179Z"
   },
   {
    "duration": 8,
    "start_time": "2022-01-16T20:28:06.189Z"
   },
   {
    "duration": 183,
    "start_time": "2022-01-16T20:28:06.198Z"
   },
   {
    "duration": 3,
    "start_time": "2022-01-16T20:28:06.383Z"
   },
   {
    "duration": 425,
    "start_time": "2022-01-16T20:28:06.388Z"
   },
   {
    "duration": 242,
    "start_time": "2022-01-16T20:28:06.815Z"
   },
   {
    "duration": 9,
    "start_time": "2022-01-16T20:28:07.058Z"
   },
   {
    "duration": 8,
    "start_time": "2022-01-16T20:28:07.069Z"
   },
   {
    "duration": 9,
    "start_time": "2022-01-16T20:28:07.079Z"
   },
   {
    "duration": 8,
    "start_time": "2022-01-16T20:28:07.090Z"
   },
   {
    "duration": 42,
    "start_time": "2022-01-16T20:28:07.101Z"
   },
   {
    "duration": 180,
    "start_time": "2022-01-16T20:28:07.146Z"
   },
   {
    "duration": 488,
    "start_time": "2022-01-16T20:28:07.328Z"
   },
   {
    "duration": 5,
    "start_time": "2022-01-16T20:28:07.818Z"
   },
   {
    "duration": 248,
    "start_time": "2022-01-16T20:28:07.825Z"
   },
   {
    "duration": 9,
    "start_time": "2022-01-16T20:28:08.075Z"
   },
   {
    "duration": 9,
    "start_time": "2022-01-16T20:28:08.085Z"
   },
   {
    "duration": 9,
    "start_time": "2022-01-16T20:28:08.096Z"
   },
   {
    "duration": 33,
    "start_time": "2022-01-16T20:28:08.113Z"
   },
   {
    "duration": 9,
    "start_time": "2022-01-16T20:28:08.149Z"
   },
   {
    "duration": 7,
    "start_time": "2022-01-16T20:28:08.160Z"
   },
   {
    "duration": 13,
    "start_time": "2022-01-16T20:28:08.168Z"
   },
   {
    "duration": 9,
    "start_time": "2022-01-16T20:28:08.183Z"
   },
   {
    "duration": 184,
    "start_time": "2022-01-16T20:28:08.194Z"
   },
   {
    "duration": 468,
    "start_time": "2022-01-16T20:28:08.380Z"
   },
   {
    "duration": 6,
    "start_time": "2022-01-16T20:28:08.851Z"
   },
   {
    "duration": 222,
    "start_time": "2022-01-16T20:28:08.859Z"
   },
   {
    "duration": 8,
    "start_time": "2022-01-16T20:28:09.083Z"
   },
   {
    "duration": 12,
    "start_time": "2022-01-16T20:28:09.093Z"
   },
   {
    "duration": 85,
    "start_time": "2022-01-16T20:28:09.107Z"
   },
   {
    "duration": 144,
    "start_time": "2022-01-16T20:28:09.194Z"
   },
   {
    "duration": 8,
    "start_time": "2022-01-16T20:28:09.340Z"
   },
   {
    "duration": 12,
    "start_time": "2022-01-16T20:28:09.350Z"
   },
   {
    "duration": 9,
    "start_time": "2022-01-16T20:28:09.363Z"
   },
   {
    "duration": 9,
    "start_time": "2022-01-16T20:28:09.374Z"
   },
   {
    "duration": 232,
    "start_time": "2022-01-16T20:28:09.384Z"
   },
   {
    "duration": 447,
    "start_time": "2022-01-16T20:28:09.618Z"
   },
   {
    "duration": 6,
    "start_time": "2022-01-16T20:28:10.067Z"
   },
   {
    "duration": 642,
    "start_time": "2022-01-16T20:28:10.074Z"
   },
   {
    "duration": 230,
    "start_time": "2022-01-16T20:28:10.718Z"
   },
   {
    "duration": 10,
    "start_time": "2022-01-16T20:28:10.951Z"
   },
   {
    "duration": 158,
    "start_time": "2022-01-16T20:28:10.963Z"
   },
   {
    "duration": 400,
    "start_time": "2022-01-16T20:28:11.123Z"
   },
   {
    "duration": 6,
    "start_time": "2022-01-16T20:28:11.525Z"
   },
   {
    "duration": 335,
    "start_time": "2022-01-16T20:28:11.541Z"
   },
   {
    "duration": 11,
    "start_time": "2022-01-16T20:28:11.878Z"
   },
   {
    "duration": 10,
    "start_time": "2022-01-16T20:28:11.891Z"
   },
   {
    "duration": 8,
    "start_time": "2022-01-16T20:28:11.903Z"
   },
   {
    "duration": 33,
    "start_time": "2022-01-16T20:28:11.913Z"
   },
   {
    "duration": 150,
    "start_time": "2022-01-16T20:28:11.948Z"
   },
   {
    "duration": 582,
    "start_time": "2022-01-16T20:28:12.101Z"
   },
   {
    "duration": 7,
    "start_time": "2022-01-16T20:28:12.685Z"
   },
   {
    "duration": 212,
    "start_time": "2022-01-16T20:28:12.694Z"
   },
   {
    "duration": 11,
    "start_time": "2022-01-16T20:28:12.908Z"
   },
   {
    "duration": 4,
    "start_time": "2022-01-16T20:28:12.921Z"
   },
   {
    "duration": 134,
    "start_time": "2022-01-16T20:28:12.942Z"
   },
   {
    "duration": 15,
    "start_time": "2022-01-16T20:28:13.078Z"
   },
   {
    "duration": 10,
    "start_time": "2022-01-16T20:28:13.095Z"
   },
   {
    "duration": 7,
    "start_time": "2022-01-16T20:28:13.106Z"
   },
   {
    "duration": 32,
    "start_time": "2022-01-16T20:28:13.115Z"
   },
   {
    "duration": 10,
    "start_time": "2022-01-16T20:28:13.149Z"
   },
   {
    "duration": 12,
    "start_time": "2022-01-16T20:28:13.161Z"
   },
   {
    "duration": 6,
    "start_time": "2022-01-16T20:28:13.175Z"
   },
   {
    "duration": 13,
    "start_time": "2022-01-16T20:28:13.183Z"
   },
   {
    "duration": 12,
    "start_time": "2022-01-16T20:28:13.197Z"
   },
   {
    "duration": 39,
    "start_time": "2022-01-16T20:28:13.211Z"
   },
   {
    "duration": 20,
    "start_time": "2022-01-16T20:28:13.252Z"
   },
   {
    "duration": 9,
    "start_time": "2022-01-16T20:28:13.275Z"
   },
   {
    "duration": 11,
    "start_time": "2022-01-16T20:28:13.285Z"
   },
   {
    "duration": 6,
    "start_time": "2022-01-16T20:28:13.298Z"
   },
   {
    "duration": 1229,
    "start_time": "2022-01-16T20:33:53.026Z"
   },
   {
    "duration": 417,
    "start_time": "2022-01-16T20:33:54.257Z"
   },
   {
    "duration": 20,
    "start_time": "2022-01-16T20:33:54.676Z"
   },
   {
    "duration": 33,
    "start_time": "2022-01-16T20:33:54.698Z"
   },
   {
    "duration": 13,
    "start_time": "2022-01-16T20:33:54.733Z"
   },
   {
    "duration": 16,
    "start_time": "2022-01-16T20:33:54.747Z"
   },
   {
    "duration": 29,
    "start_time": "2022-01-16T20:33:54.765Z"
   },
   {
    "duration": 11,
    "start_time": "2022-01-16T20:33:54.797Z"
   },
   {
    "duration": 36,
    "start_time": "2022-01-16T20:33:54.810Z"
   },
   {
    "duration": 9,
    "start_time": "2022-01-16T20:33:54.848Z"
   },
   {
    "duration": 7,
    "start_time": "2022-01-16T20:33:54.858Z"
   },
   {
    "duration": 13,
    "start_time": "2022-01-16T20:33:54.866Z"
   },
   {
    "duration": 10,
    "start_time": "2022-01-16T20:33:54.881Z"
   },
   {
    "duration": 19,
    "start_time": "2022-01-16T20:33:54.893Z"
   },
   {
    "duration": 33,
    "start_time": "2022-01-16T20:33:54.913Z"
   },
   {
    "duration": 13,
    "start_time": "2022-01-16T20:33:54.948Z"
   },
   {
    "duration": 34,
    "start_time": "2022-01-16T20:33:54.963Z"
   },
   {
    "duration": 43,
    "start_time": "2022-01-16T20:33:54.998Z"
   },
   {
    "duration": 22,
    "start_time": "2022-01-16T20:33:55.043Z"
   },
   {
    "duration": 4,
    "start_time": "2022-01-16T20:33:55.067Z"
   },
   {
    "duration": 7,
    "start_time": "2022-01-16T20:33:55.073Z"
   },
   {
    "duration": 115,
    "start_time": "2022-01-16T20:33:55.082Z"
   },
   {
    "duration": 51,
    "start_time": "2022-01-16T20:33:55.200Z"
   },
   {
    "duration": 55,
    "start_time": "2022-01-16T20:33:55.254Z"
   },
   {
    "duration": 219,
    "start_time": "2022-01-16T20:33:55.311Z"
   },
   {
    "duration": 13,
    "start_time": "2022-01-16T20:33:55.532Z"
   },
   {
    "duration": 20,
    "start_time": "2022-01-16T20:33:55.547Z"
   },
   {
    "duration": 11,
    "start_time": "2022-01-16T20:33:55.568Z"
   },
   {
    "duration": 8,
    "start_time": "2022-01-16T20:33:55.581Z"
   },
   {
    "duration": 3,
    "start_time": "2022-01-16T20:33:55.591Z"
   },
   {
    "duration": 13,
    "start_time": "2022-01-16T20:33:55.596Z"
   },
   {
    "duration": 23,
    "start_time": "2022-01-16T20:33:55.610Z"
   },
   {
    "duration": 59,
    "start_time": "2022-01-16T20:33:55.641Z"
   },
   {
    "duration": 53,
    "start_time": "2022-01-16T20:33:55.702Z"
   },
   {
    "duration": 17,
    "start_time": "2022-01-16T20:33:55.756Z"
   },
   {
    "duration": 6,
    "start_time": "2022-01-16T20:33:55.774Z"
   },
   {
    "duration": 25,
    "start_time": "2022-01-16T20:33:55.782Z"
   },
   {
    "duration": 36,
    "start_time": "2022-01-16T20:33:55.809Z"
   },
   {
    "duration": 20,
    "start_time": "2022-01-16T20:33:55.846Z"
   },
   {
    "duration": 7,
    "start_time": "2022-01-16T20:33:55.868Z"
   },
   {
    "duration": 7,
    "start_time": "2022-01-16T20:33:55.876Z"
   },
   {
    "duration": 24,
    "start_time": "2022-01-16T20:33:55.885Z"
   },
   {
    "duration": 31,
    "start_time": "2022-01-16T20:33:55.911Z"
   },
   {
    "duration": 2,
    "start_time": "2022-01-16T20:33:55.944Z"
   },
   {
    "duration": 11,
    "start_time": "2022-01-16T20:33:55.947Z"
   },
   {
    "duration": 14,
    "start_time": "2022-01-16T20:33:55.960Z"
   },
   {
    "duration": 15,
    "start_time": "2022-01-16T20:33:55.976Z"
   },
   {
    "duration": 9,
    "start_time": "2022-01-16T20:33:55.992Z"
   },
   {
    "duration": 12,
    "start_time": "2022-01-16T20:33:56.002Z"
   },
   {
    "duration": 33,
    "start_time": "2022-01-16T20:33:56.016Z"
   },
   {
    "duration": 4,
    "start_time": "2022-01-16T20:33:56.051Z"
   },
   {
    "duration": 4,
    "start_time": "2022-01-16T20:33:56.056Z"
   },
   {
    "duration": 15,
    "start_time": "2022-01-16T20:33:56.062Z"
   },
   {
    "duration": 28,
    "start_time": "2022-01-16T20:33:56.079Z"
   },
   {
    "duration": 3,
    "start_time": "2022-01-16T20:33:56.109Z"
   },
   {
    "duration": 132,
    "start_time": "2022-01-16T20:33:56.114Z"
   },
   {
    "duration": 21,
    "start_time": "2022-01-16T20:33:56.247Z"
   },
   {
    "duration": 28,
    "start_time": "2022-01-16T20:33:56.270Z"
   },
   {
    "duration": 7,
    "start_time": "2022-01-16T20:33:56.300Z"
   },
   {
    "duration": 33,
    "start_time": "2022-01-16T20:33:56.309Z"
   },
   {
    "duration": 59,
    "start_time": "2022-01-16T20:33:56.344Z"
   },
   {
    "duration": 8,
    "start_time": "2022-01-16T20:33:56.405Z"
   },
   {
    "duration": 8,
    "start_time": "2022-01-16T20:33:56.414Z"
   },
   {
    "duration": 160,
    "start_time": "2022-01-16T20:33:56.442Z"
   },
   {
    "duration": 2,
    "start_time": "2022-01-16T20:33:56.604Z"
   },
   {
    "duration": 388,
    "start_time": "2022-01-16T20:33:56.608Z"
   },
   {
    "duration": 226,
    "start_time": "2022-01-16T20:33:56.997Z"
   },
   {
    "duration": 16,
    "start_time": "2022-01-16T20:33:57.229Z"
   },
   {
    "duration": 7,
    "start_time": "2022-01-16T20:33:57.247Z"
   },
   {
    "duration": 8,
    "start_time": "2022-01-16T20:33:57.256Z"
   },
   {
    "duration": 7,
    "start_time": "2022-01-16T20:33:57.266Z"
   },
   {
    "duration": 8,
    "start_time": "2022-01-16T20:33:57.275Z"
   },
   {
    "duration": 181,
    "start_time": "2022-01-16T20:33:57.284Z"
   },
   {
    "duration": 466,
    "start_time": "2022-01-16T20:33:57.467Z"
   },
   {
    "duration": 9,
    "start_time": "2022-01-16T20:33:57.935Z"
   },
   {
    "duration": 206,
    "start_time": "2022-01-16T20:33:57.946Z"
   },
   {
    "duration": 7,
    "start_time": "2022-01-16T20:33:58.153Z"
   },
   {
    "duration": 19,
    "start_time": "2022-01-16T20:33:58.162Z"
   },
   {
    "duration": 16,
    "start_time": "2022-01-16T20:33:58.182Z"
   },
   {
    "duration": 41,
    "start_time": "2022-01-16T20:33:58.200Z"
   },
   {
    "duration": 8,
    "start_time": "2022-01-16T20:33:58.243Z"
   },
   {
    "duration": 5,
    "start_time": "2022-01-16T20:33:58.252Z"
   },
   {
    "duration": 8,
    "start_time": "2022-01-16T20:33:58.258Z"
   },
   {
    "duration": 11,
    "start_time": "2022-01-16T20:33:58.267Z"
   },
   {
    "duration": 164,
    "start_time": "2022-01-16T20:33:58.279Z"
   },
   {
    "duration": 382,
    "start_time": "2022-01-16T20:33:58.445Z"
   },
   {
    "duration": 5,
    "start_time": "2022-01-16T20:33:58.829Z"
   },
   {
    "duration": 224,
    "start_time": "2022-01-16T20:33:58.841Z"
   },
   {
    "duration": 8,
    "start_time": "2022-01-16T20:33:59.067Z"
   },
   {
    "duration": 11,
    "start_time": "2022-01-16T20:33:59.077Z"
   },
   {
    "duration": 86,
    "start_time": "2022-01-16T20:33:59.089Z"
   },
   {
    "duration": 131,
    "start_time": "2022-01-16T20:33:59.177Z"
   },
   {
    "duration": 7,
    "start_time": "2022-01-16T20:33:59.310Z"
   },
   {
    "duration": 8,
    "start_time": "2022-01-16T20:33:59.319Z"
   },
   {
    "duration": 6,
    "start_time": "2022-01-16T20:33:59.342Z"
   },
   {
    "duration": 10,
    "start_time": "2022-01-16T20:33:59.349Z"
   },
   {
    "duration": 165,
    "start_time": "2022-01-16T20:33:59.360Z"
   },
   {
    "duration": 391,
    "start_time": "2022-01-16T20:33:59.527Z"
   },
   {
    "duration": 5,
    "start_time": "2022-01-16T20:33:59.919Z"
   },
   {
    "duration": 601,
    "start_time": "2022-01-16T20:33:59.926Z"
   },
   {
    "duration": 212,
    "start_time": "2022-01-16T20:34:00.529Z"
   },
   {
    "duration": 9,
    "start_time": "2022-01-16T20:34:00.742Z"
   },
   {
    "duration": 149,
    "start_time": "2022-01-16T20:34:00.753Z"
   },
   {
    "duration": 390,
    "start_time": "2022-01-16T20:34:00.904Z"
   },
   {
    "duration": 6,
    "start_time": "2022-01-16T20:34:01.295Z"
   },
   {
    "duration": 241,
    "start_time": "2022-01-16T20:34:01.303Z"
   },
   {
    "duration": 8,
    "start_time": "2022-01-16T20:34:01.546Z"
   },
   {
    "duration": 32,
    "start_time": "2022-01-16T20:34:01.556Z"
   },
   {
    "duration": 30,
    "start_time": "2022-01-16T20:34:01.590Z"
   },
   {
    "duration": 35,
    "start_time": "2022-01-16T20:34:01.622Z"
   },
   {
    "duration": 168,
    "start_time": "2022-01-16T20:34:01.659Z"
   },
   {
    "duration": 415,
    "start_time": "2022-01-16T20:34:01.829Z"
   },
   {
    "duration": 6,
    "start_time": "2022-01-16T20:34:02.245Z"
   },
   {
    "duration": 233,
    "start_time": "2022-01-16T20:34:02.253Z"
   },
   {
    "duration": 12,
    "start_time": "2022-01-16T20:34:02.487Z"
   },
   {
    "duration": 6,
    "start_time": "2022-01-16T20:34:02.501Z"
   },
   {
    "duration": 149,
    "start_time": "2022-01-16T20:34:02.509Z"
   },
   {
    "duration": 2,
    "start_time": "2022-01-16T20:34:02.660Z"
   },
   {
    "duration": 31,
    "start_time": "2022-01-16T20:34:02.664Z"
   },
   {
    "duration": 40,
    "start_time": "2022-01-16T20:34:02.697Z"
   },
   {
    "duration": 14,
    "start_time": "2022-01-16T20:34:02.739Z"
   },
   {
    "duration": 14,
    "start_time": "2022-01-16T20:34:02.755Z"
   },
   {
    "duration": 10,
    "start_time": "2022-01-16T20:34:02.771Z"
   },
   {
    "duration": 13,
    "start_time": "2022-01-16T20:34:02.783Z"
   },
   {
    "duration": 7,
    "start_time": "2022-01-16T20:34:02.798Z"
   },
   {
    "duration": 40,
    "start_time": "2022-01-16T20:34:02.807Z"
   },
   {
    "duration": 13,
    "start_time": "2022-01-16T20:34:02.849Z"
   },
   {
    "duration": 19,
    "start_time": "2022-01-16T20:34:02.864Z"
   },
   {
    "duration": 38,
    "start_time": "2022-01-16T20:34:02.885Z"
   },
   {
    "duration": 28,
    "start_time": "2022-01-16T20:34:02.924Z"
   },
   {
    "duration": 28,
    "start_time": "2022-01-16T20:34:02.954Z"
   },
   {
    "duration": 26,
    "start_time": "2022-01-16T20:34:02.983Z"
   }
  ],
  "kernelspec": {
   "display_name": "Python 3 (ipykernel)",
   "language": "python",
   "name": "python3"
  },
  "language_info": {
   "codemirror_mode": {
    "name": "ipython",
    "version": 3
   },
   "file_extension": ".py",
   "mimetype": "text/x-python",
   "name": "python",
   "nbconvert_exporter": "python",
   "pygments_lexer": "ipython3",
   "version": "3.9.7"
  },
  "toc": {
   "base_numbering": 1,
   "nav_menu": {
    "height": "148.993px",
    "width": "224.132px"
   },
   "number_sections": true,
   "sideBar": true,
   "skip_h1_title": true,
   "title_cell": "Table of Contents",
   "title_sidebar": "Contents",
   "toc_cell": false,
   "toc_position": {
    "height": "calc(100% - 180px)",
    "left": "10px",
    "top": "150px",
    "width": "337.969px"
   },
   "toc_section_display": true,
   "toc_window_display": true
  }
 },
 "nbformat": 4,
 "nbformat_minor": 2
}
