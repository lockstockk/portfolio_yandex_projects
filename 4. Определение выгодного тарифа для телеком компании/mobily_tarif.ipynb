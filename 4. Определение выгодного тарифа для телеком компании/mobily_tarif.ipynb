{
 "cells": [
  {
   "cell_type": "code",
   "execution_count": null,
   "metadata": {
    "deletable": false
   },
   "outputs": [],
   "source": [
    "import pandas as pd"
   ]
  },
  {
   "cell_type": "markdown",
   "metadata": {
    "deletable": false,
    "editable": false
   },
   "source": [
    "### Откройте файл с данными и изучите общую информацию"
   ]
  },
  {
   "cell_type": "markdown",
   "metadata": {
    "deletable": false,
    "editable": false,
    "tags": [
     "start_task"
    ]
   },
   "source": [
    "**Задание 1.** Откройте файл `/datasets/calls.csv`, сохраните датафрейм в переменную `calls`."
   ]
  },
  {
   "cell_type": "code",
   "execution_count": null,
   "metadata": {
    "deletable": false
   },
   "outputs": [],
   "source": [
    "import pandas as pd\n",
    "calls = pd.read_csv('/datasets/calls.csv')"
   ]
  },
  {
   "cell_type": "markdown",
   "metadata": {
    "deletable": false,
    "editable": false,
    "tags": [
     "start_task"
    ]
   },
   "source": [
    "**Задание 2.** Выведите первые 5 строк датафрейма `calls`."
   ]
  },
  {
   "cell_type": "code",
   "execution_count": null,
   "metadata": {
    "deletable": false
   },
   "outputs": [],
   "source": [
    "print(calls.head(5))"
   ]
  },
  {
   "cell_type": "markdown",
   "metadata": {
    "deletable": false,
    "editable": false,
    "tags": [
     "start_task"
    ]
   },
   "source": [
    "**Задание 3.** Выведите основную информацию для датафрейма `calls` с помощью метода `info()`."
   ]
  },
  {
   "cell_type": "code",
   "execution_count": null,
   "metadata": {
    "deletable": false
   },
   "outputs": [],
   "source": [
    "calls.info()"
   ]
  },
  {
   "cell_type": "markdown",
   "metadata": {
    "deletable": false,
    "editable": false,
    "tags": [
     "start_task"
    ]
   },
   "source": [
    "**Задание 4.** С помощью метода `hist()` выведите гистограмму для столбца с продолжительностью звонков. Подумайте о том, как распределены данные."
   ]
  },
  {
   "cell_type": "code",
   "execution_count": null,
   "metadata": {
    "deletable": false
   },
   "outputs": [],
   "source": [
    "calls['duration'].hist()"
   ]
  },
  {
   "cell_type": "markdown",
   "metadata": {},
   "source": [
    "Звонки дляться преимущественно от 0 до 4 минут"
   ]
  },
  {
   "cell_type": "markdown",
   "metadata": {
    "deletable": false,
    "editable": false,
    "tags": [
     "start_task"
    ]
   },
   "source": [
    "**Задание 5.** Откройте файл `/datasets/internet.csv`, сохраните датафрейм в переменную `sessions`."
   ]
  },
  {
   "cell_type": "code",
   "execution_count": null,
   "metadata": {
    "deletable": false
   },
   "outputs": [],
   "source": [
    "sessions = pd.read_csv('/datasets/internet.csv')"
   ]
  },
  {
   "cell_type": "markdown",
   "metadata": {
    "deletable": false,
    "editable": false,
    "tags": [
     "start_task"
    ]
   },
   "source": [
    "**Задание 6.** Выведите первые 5 строк датафрейма `sessions`."
   ]
  },
  {
   "cell_type": "code",
   "execution_count": null,
   "metadata": {
    "deletable": false
   },
   "outputs": [],
   "source": [
    "print(sessions.head(5))"
   ]
  },
  {
   "cell_type": "markdown",
   "metadata": {
    "deletable": false,
    "editable": false,
    "tags": [
     "start_task"
    ]
   },
   "source": [
    "**Задание 7.** Выведите основную информацию для датафрейма sessions с помощью метода `info()`. "
   ]
  },
  {
   "cell_type": "code",
   "execution_count": null,
   "metadata": {
    "deletable": false
   },
   "outputs": [],
   "source": [
    "sessions.info()"
   ]
  },
  {
   "cell_type": "markdown",
   "metadata": {
    "deletable": false,
    "editable": false,
    "tags": [
     "start_task"
    ]
   },
   "source": [
    "**Задание 8.** С помощью метода `hist()` выведите гистограмму для столбца с количеством потраченных мегабайт."
   ]
  },
  {
   "cell_type": "code",
   "execution_count": null,
   "metadata": {
    "deletable": false
   },
   "outputs": [],
   "source": [
    "sessions['mb_used'].hist()"
   ]
  },
  {
   "cell_type": "markdown",
   "metadata": {
    "deletable": false,
    "editable": false,
    "tags": [
     "start_task"
    ]
   },
   "source": [
    "**Задание 9.** Откройте файл `/datasets/messages.csv`, сохраните датафрейм в переменную `messages`."
   ]
  },
  {
   "cell_type": "code",
   "execution_count": null,
   "metadata": {
    "deletable": false
   },
   "outputs": [],
   "source": [
    "messages = pd.read_csv('/datasets/messages.csv')"
   ]
  },
  {
   "cell_type": "markdown",
   "metadata": {
    "deletable": false,
    "editable": false,
    "tags": [
     "start_task"
    ]
   },
   "source": [
    "**Задание 10.** Выведите первые 5 строк датафрейма `messages`."
   ]
  },
  {
   "cell_type": "code",
   "execution_count": null,
   "metadata": {
    "deletable": false
   },
   "outputs": [],
   "source": [
    "print(messages.head(5))"
   ]
  },
  {
   "cell_type": "markdown",
   "metadata": {
    "deletable": false,
    "editable": false,
    "tags": [
     "start_task"
    ]
   },
   "source": [
    "**Задание 11.** Выведите основную информацию для датафрейма `messages` с помощью метода `info()`. "
   ]
  },
  {
   "cell_type": "code",
   "execution_count": null,
   "metadata": {
    "deletable": false
   },
   "outputs": [],
   "source": [
    "messages.info()"
   ]
  },
  {
   "cell_type": "markdown",
   "metadata": {
    "deletable": false,
    "editable": false,
    "tags": [
     "start_task"
    ]
   },
   "source": [
    "**Задание 12.** Откройте файл `/datasets/tariffs.csv`, сохраните датафрейм в переменную `tariffs`."
   ]
  },
  {
   "cell_type": "code",
   "execution_count": null,
   "metadata": {
    "deletable": false
   },
   "outputs": [],
   "source": [
    "tariffs = pd.read_csv('/datasets/tariffs.csv')"
   ]
  },
  {
   "cell_type": "markdown",
   "metadata": {
    "deletable": false,
    "editable": false,
    "tags": [
     "start_task"
    ]
   },
   "source": [
    "**Задание 13.** Выведите весь датафрейм `tariffs`."
   ]
  },
  {
   "cell_type": "code",
   "execution_count": null,
   "metadata": {
    "deletable": false
   },
   "outputs": [],
   "source": [
    "print(tariffs)"
   ]
  },
  {
   "cell_type": "markdown",
   "metadata": {
    "deletable": false,
    "editable": false,
    "tags": [
     "start_task"
    ]
   },
   "source": [
    "**Задание 14.** Выведите основную информацию для датафрейма `tariffs` с помощью метода `info()`."
   ]
  },
  {
   "cell_type": "code",
   "execution_count": null,
   "metadata": {
    "deletable": false
   },
   "outputs": [],
   "source": [
    "tariffs.info()"
   ]
  },
  {
   "cell_type": "markdown",
   "metadata": {
    "deletable": false,
    "editable": false,
    "tags": [
     "start_task"
    ]
   },
   "source": [
    "**Задание 15.** Откройте файл `/datasets/users.csv`, сохраните датафрейм в переменную `users`."
   ]
  },
  {
   "cell_type": "code",
   "execution_count": null,
   "metadata": {
    "deletable": false
   },
   "outputs": [],
   "source": [
    "users = pd.read_csv('/datasets/users.csv')"
   ]
  },
  {
   "cell_type": "markdown",
   "metadata": {
    "deletable": false,
    "editable": false,
    "tags": [
     "start_task"
    ]
   },
   "source": [
    "**Задание 16.** Выведите первые 5 строк датафрейма `users`."
   ]
  },
  {
   "cell_type": "code",
   "execution_count": null,
   "metadata": {
    "deletable": false
   },
   "outputs": [],
   "source": [
    "print(users.head(5))"
   ]
  },
  {
   "cell_type": "markdown",
   "metadata": {
    "deletable": false,
    "editable": false,
    "tags": [
     "start_task"
    ]
   },
   "source": [
    "**Задание 17.** Выведите основную информацию для датафрейма `users` с помощью метода `info()`."
   ]
  },
  {
   "cell_type": "code",
   "execution_count": null,
   "metadata": {
    "deletable": false
   },
   "outputs": [],
   "source": [
    "users.info()"
   ]
  },
  {
   "cell_type": "markdown",
   "metadata": {
    "deletable": false,
    "editable": false
   },
   "source": [
    "### Подготовьте данные"
   ]
  },
  {
   "cell_type": "markdown",
   "metadata": {
    "deletable": false,
    "editable": false,
    "tags": [
     "start_task"
    ]
   },
   "source": [
    "**Задание 18.**  Приведите столбцы\n",
    "\n",
    "- `reg_date` из таблицы `users`\n",
    "- `churn_date` из таблицы `users`\n",
    "- `call_date` из таблицы `calls`\n",
    "- `message_date` из таблицы `messages`\n",
    "- `session_date` из таблицы `sessions`\n",
    "\n",
    "к новому типу с помощью метода `to_datetime()`."
   ]
  },
  {
   "cell_type": "code",
   "execution_count": null,
   "metadata": {
    "deletable": false
   },
   "outputs": [],
   "source": [
    "from datetime import datetime\n",
    "# обработка столбца reg_date\n",
    "users['reg_date'] = pd.to_datetime(users['reg_date'], format=\"%Y-%m-%d\")\n",
    "# обработка столбца churn_date\n",
    "users['churn_date'] = pd.to_datetime(users['churn_date'], format=\"%Y-%m-%d\")\n",
    "\n",
    "# обработка столбца call_date\n",
    "calls['call_date'] = pd.to_datetime(calls['call_date'], format=\"%Y-%m-%d\")\n",
    "\n",
    "# обработка столбца message_date\n",
    "messages['message_date'] = pd.to_datetime(messages['message_date'], format=\"%Y-%m-%d\")\n",
    "# обработка столбца session_date\n",
    "sessions['session_date'] = pd.to_datetime(sessions['session_date'], format=\"%Y-%m-%d\")"
   ]
  },
  {
   "cell_type": "markdown",
   "metadata": {
    "deletable": false,
    "editable": false,
    "tags": [
     "start_task"
    ]
   },
   "source": [
    "**Задание 19.** В данных вы найдёте звонки с нулевой продолжительностью. Это не ошибка: нулями обозначены пропущенные звонки, поэтому их не нужно удалять.\n",
    "\n",
    "Однако в столбце `duration` датафрейма `calls` значения дробные. Округлите значения столбца `duration` вверх с помощью метода `numpy.ceil()` и приведите столбец `duration` к типу `int`."
   ]
  },
  {
   "cell_type": "code",
   "execution_count": null,
   "metadata": {
    "deletable": false
   },
   "outputs": [],
   "source": [
    "import numpy as np\n",
    "\n",
    "# округление значений столбца duration с помощью np.ceil() и приведение типа к int\n",
    "calls['duration'] = np.ceil(calls['duration']).astype('int')\n"
   ]
  },
  {
   "cell_type": "markdown",
   "metadata": {
    "deletable": false,
    "editable": false,
    "tags": [
     "start_task"
    ]
   },
   "source": [
    "**Задание 20.** Удалите столбец `Unnamed: 0` из датафрейма `sessions`. Столбец с таким названием возникает, когда данные сохраняют с указанием индекса (`df.to_csv(..., index=column)`). Он сейчас не понадобится."
   ]
  },
  {
   "cell_type": "code",
   "execution_count": null,
   "metadata": {
    "deletable": false
   },
   "outputs": [],
   "source": [
    "sessions.pop('Unnamed: 0')"
   ]
  },
  {
   "cell_type": "markdown",
   "metadata": {
    "deletable": false,
    "editable": false,
    "tags": [
     "start_task"
    ]
   },
   "source": [
    "**Задание 21.** Создайте столбец `month` в датафрейме `calls` с номером месяца из столбца `call_date`."
   ]
  },
  {
   "cell_type": "code",
   "execution_count": null,
   "metadata": {
    "deletable": false
   },
   "outputs": [],
   "source": [
    "calls['month'] = calls['call_date'].dt.month"
   ]
  },
  {
   "cell_type": "markdown",
   "metadata": {
    "deletable": false,
    "editable": false,
    "tags": [
     "start_task"
    ]
   },
   "source": [
    "**Задание 22.** Создайте столбец `month` в датафрейме `messages` с номером месяца из столбца `message_date`."
   ]
  },
  {
   "cell_type": "code",
   "execution_count": null,
   "metadata": {
    "deletable": false
   },
   "outputs": [],
   "source": [
    "messages['month'] = messages['message_date'].dt.month"
   ]
  },
  {
   "cell_type": "markdown",
   "metadata": {
    "deletable": false,
    "editable": false,
    "tags": [
     "start_task"
    ]
   },
   "source": [
    "**Задание 23.** Создайте столбец `month` в датафрейме `sessions` с номером месяца из столбца `session_date`."
   ]
  },
  {
   "cell_type": "code",
   "execution_count": null,
   "metadata": {
    "deletable": false
   },
   "outputs": [],
   "source": [
    "sessions['month'] = sessions['session_date'].dt.month"
   ]
  },
  {
   "cell_type": "markdown",
   "metadata": {
    "deletable": false,
    "editable": false,
    "tags": [
     "start_task"
    ]
   },
   "source": [
    "**Задание 24.** Посчитайте количество сделанных звонков разговора для каждого пользователя по месяцам."
   ]
  },
  {
   "cell_type": "code",
   "execution_count": null,
   "metadata": {
    "deletable": false
   },
   "outputs": [],
   "source": [
    "# подсчёт количества звонков для каждого пользователя по месяцам\n",
    "calls_per_month = calls.groupby(['user_id', 'month']).agg(calls=('duration', 'count'))"
   ]
  },
  {
   "cell_type": "code",
   "execution_count": null,
   "metadata": {
    "deletable": false
   },
   "outputs": [],
   "source": [
    "# вывод 30 первых строк на экран\n",
    "print(calls_per_month.head(30))"
   ]
  },
  {
   "cell_type": "markdown",
   "metadata": {
    "deletable": false,
    "editable": false,
    "tags": [
     "start_task"
    ]
   },
   "source": [
    "**Задание 25.** Посчитайте количество израсходованных минут разговора для каждого пользователя по месяцам и сохраните в переменную `minutes_per_month`. Вам понадобится\n",
    "\n",
    "- сгруппировать датафрейм с информацией о звонках по двум столбцам — с идентификаторами пользователей и номерами месяцев;\n",
    "- после группировки выбрать столбец `duration`\n",
    "- затем применить метод для подсчёта суммы.\n",
    "\n",
    "Выведите первые 30 строчек `minutes_per_month`."
   ]
  },
  {
   "cell_type": "code",
   "execution_count": null,
   "metadata": {
    "deletable": false
   },
   "outputs": [],
   "source": [
    "# подсчёт израсходованных минут для каждого пользователя по месяцам\n",
    "minutes_per_month = calls.groupby(['user_id', 'month']).agg(minutes=('duration', 'sum'))"
   ]
  },
  {
   "cell_type": "code",
   "execution_count": null,
   "metadata": {
    "deletable": false
   },
   "outputs": [],
   "source": [
    "# вывод первых 30 строк на экран\n",
    "print(minutes_per_month.head(30))"
   ]
  },
  {
   "cell_type": "markdown",
   "metadata": {
    "deletable": false,
    "editable": false,
    "tags": [
     "start_task"
    ]
   },
   "source": [
    "**Задание 26.** Посчитайте количество отправленных сообщений по месяцам для каждого пользователя и сохраните в переменную `messages_per_month`. Вам понадобится\n",
    "\n",
    "- сгруппировать датафрейм с информацией о сообщениях по двум столбцам — с идентификаторами пользователей и номерами месяцев;\n",
    "- после группировки выбрать столбец `message_date`;\n",
    "- затем применить метод для подсчёта количества.\n",
    "\n",
    "Выведите первые 30 строчек `messages_per_month`."
   ]
  },
  {
   "cell_type": "code",
   "execution_count": null,
   "metadata": {
    "deletable": false
   },
   "outputs": [],
   "source": [
    "# подсчёт количества отправленных сообщений для каждого пользователя по месяцам\n",
    "messages_per_month = messages.groupby(['user_id', 'month']).agg(messages=('message_date', 'count'))"
   ]
  },
  {
   "cell_type": "code",
   "execution_count": null,
   "metadata": {
    "deletable": false
   },
   "outputs": [],
   "source": [
    "# вывод первых 30 строк на экран\n",
    "print(messages_per_month.head(30))"
   ]
  },
  {
   "cell_type": "markdown",
   "metadata": {
    "deletable": false,
    "editable": false,
    "tags": [
     "start_task"
    ]
   },
   "source": [
    "**Задание 27.** Посчитайте количество потраченных мегабайт по месяцам для каждого пользователя и сохраните в переменную `sessions_per_month`. Вам понадобится\n",
    "\n",
    "- сгруппировать датафрейм с информацией о сообщениях по двум столбцам — с идентификаторами пользователей и номерами месяцев;\n",
    "- затем применить метод для подсчёта суммы: `.agg({'mb_used': 'sum'})`"
   ]
  },
  {
   "cell_type": "code",
   "execution_count": null,
   "metadata": {
    "deletable": false
   },
   "outputs": [],
   "source": [
    "# подсчёт потраченных мегабайт для каждого пользователя по месяцам\n",
    "sessions_per_month = sessions.groupby(['user_id', 'month']).agg({'mb_used': 'sum'})"
   ]
  },
  {
   "cell_type": "code",
   "execution_count": null,
   "metadata": {
    "deletable": false
   },
   "outputs": [],
   "source": [
    "# вывод первых 30 строк на экран\n",
    "print(sessions_per_month.head(30))"
   ]
  },
  {
   "cell_type": "markdown",
   "metadata": {
    "deletable": false,
    "editable": false
   },
   "source": [
    "### Анализ данных и подсчёт выручки"
   ]
  },
  {
   "cell_type": "markdown",
   "metadata": {
    "deletable": false,
    "editable": false
   },
   "source": [
    "Объединяем все посчитанные выше значения в один датафрейм `user_behavior`.\n",
    "Для каждой пары \"пользователь - месяц\" будут доступны информация о тарифе, количестве звонков, сообщений и потраченных мегабайтах."
   ]
  },
  {
   "cell_type": "code",
   "execution_count": null,
   "metadata": {
    "deletable": false
   },
   "outputs": [],
   "source": [
    "users['churn_date'].count() / users['churn_date'].shape[0] * 100"
   ]
  },
  {
   "cell_type": "markdown",
   "metadata": {
    "deletable": false,
    "editable": false
   },
   "source": [
    "Расторгли договор 7.6% клиентов из датасета"
   ]
  },
  {
   "cell_type": "code",
   "execution_count": null,
   "metadata": {
    "deletable": false
   },
   "outputs": [],
   "source": [
    "user_behavior = calls_per_month\\\n",
    "    .merge(messages_per_month, left_index=True, right_index=True, how='outer')\\\n",
    "    .merge(sessions_per_month, left_index=True, right_index=True, how='outer')\\\n",
    "    .merge(minutes_per_month, left_index=True, right_index=True, how='outer')\\\n",
    "    .reset_index()\\\n",
    "    .merge(users, how='left', left_on='user_id', right_on='user_id')\\\n",
    "\n",
    "user_behavior.head()"
   ]
  },
  {
   "cell_type": "markdown",
   "metadata": {
    "deletable": false,
    "editable": false
   },
   "source": [
    "Проверим пропуски в таблице `user_behavior` после объединения:"
   ]
  },
  {
   "cell_type": "code",
   "execution_count": null,
   "metadata": {
    "deletable": false
   },
   "outputs": [],
   "source": [
    "user_behavior.isna().sum()"
   ]
  },
  {
   "cell_type": "markdown",
   "metadata": {
    "deletable": false,
    "editable": false
   },
   "source": [
    "Заполним образовавшиеся пропуски в данных:"
   ]
  },
  {
   "cell_type": "code",
   "execution_count": null,
   "metadata": {
    "deletable": false
   },
   "outputs": [],
   "source": [
    "user_behavior['calls'] = user_behavior['calls'].fillna(0)\n",
    "user_behavior['minutes'] = user_behavior['minutes'].fillna(0)\n",
    "user_behavior['messages'] = user_behavior['messages'].fillna(0)\n",
    "user_behavior['mb_used'] = user_behavior['mb_used'].fillna(0)"
   ]
  },
  {
   "cell_type": "markdown",
   "metadata": {
    "deletable": false,
    "editable": false
   },
   "source": [
    "Присоединяем информацию о тарифах"
   ]
  },
  {
   "cell_type": "code",
   "execution_count": null,
   "metadata": {
    "deletable": false
   },
   "outputs": [],
   "source": [
    "# переименование столбца tariff_name на более простое tariff\n",
    "\n",
    "tariffs = tariffs.rename(\n",
    "    columns={\n",
    "        'tariff_name': 'tariff'\n",
    "    }\n",
    ")"
   ]
  },
  {
   "cell_type": "code",
   "execution_count": null,
   "metadata": {
    "deletable": false
   },
   "outputs": [],
   "source": [
    "user_behavior = user_behavior.merge(tariffs, on='tariff')"
   ]
  },
  {
   "cell_type": "markdown",
   "metadata": {
    "deletable": false,
    "editable": false
   },
   "source": [
    "Считаем количество минут разговора, сообщений и мегабайт, превышающих включенные в тариф\n"
   ]
  },
  {
   "cell_type": "code",
   "execution_count": null,
   "metadata": {
    "deletable": false
   },
   "outputs": [],
   "source": [
    "user_behavior['paid_minutes'] = user_behavior['minutes'] - user_behavior['minutes_included']\n",
    "user_behavior['paid_messages'] = user_behavior['messages'] - user_behavior['messages_included']\n",
    "user_behavior['paid_mb'] = user_behavior['mb_used'] - user_behavior['mb_per_month_included']\n",
    "\n",
    "for col in ['paid_messages', 'paid_minutes', 'paid_mb']:\n",
    "    user_behavior.loc[user_behavior[col] < 0, col] = 0"
   ]
  },
  {
   "cell_type": "markdown",
   "metadata": {
    "deletable": false,
    "editable": false
   },
   "source": [
    "Переводим превышающие тариф мегабайты в гигабайты и сохраняем в столбец `paid_gb`"
   ]
  },
  {
   "cell_type": "code",
   "execution_count": null,
   "metadata": {
    "deletable": false
   },
   "outputs": [],
   "source": [
    "user_behavior['paid_gb'] = np.ceil(user_behavior['paid_mb'] / 1024).astype(int)"
   ]
  },
  {
   "cell_type": "markdown",
   "metadata": {
    "deletable": false,
    "editable": false
   },
   "source": [
    "Считаем выручку за минуты разговора, сообщения и интернет"
   ]
  },
  {
   "cell_type": "code",
   "execution_count": null,
   "metadata": {
    "deletable": false
   },
   "outputs": [],
   "source": [
    "user_behavior['cost_minutes'] = user_behavior['paid_minutes'] * user_behavior['rub_per_minute']\n",
    "user_behavior['cost_messages'] = user_behavior['paid_messages'] * user_behavior['rub_per_message']\n",
    "user_behavior['cost_gb'] = user_behavior['paid_gb'] * user_behavior['rub_per_gb']"
   ]
  },
  {
   "cell_type": "markdown",
   "metadata": {
    "deletable": false,
    "editable": false
   },
   "source": [
    "Считаем помесячную выручку с каждого пользователя, она будет храниться в столбец `total_cost`"
   ]
  },
  {
   "cell_type": "code",
   "execution_count": null,
   "metadata": {
    "deletable": false
   },
   "outputs": [],
   "source": [
    "user_behavior['total_cost'] = \\\n",
    "      user_behavior['rub_monthly_fee']\\\n",
    "    + user_behavior['cost_minutes']\\\n",
    "    + user_behavior['cost_messages']\\\n",
    "    + user_behavior['cost_gb']"
   ]
  },
  {
   "cell_type": "markdown",
   "metadata": {
    "deletable": false,
    "editable": false
   },
   "source": [
    "Датафрейм `stats_df` для каждой пары \"месяц-тариф\" будет хранить основные характеристики"
   ]
  },
  {
   "cell_type": "code",
   "execution_count": null,
   "metadata": {
    "deletable": false
   },
   "outputs": [],
   "source": [
    "# сохранение статистических метрик для каждой пары месяц-тариф\n",
    "# в одной таблице stats_df (среднее значение, стандартное отклонение, медиана)\n",
    "\n",
    "stats_df = user_behavior.pivot_table(\n",
    "            index=['month', 'tariff'],\\\n",
    "            values=['calls', 'minutes', 'messages', 'mb_used'],\\\n",
    "            aggfunc=['mean', 'std', 'median']\\\n",
    ").round(2).reset_index()\n",
    "\n",
    "stats_df.columns=['month', 'tariff', 'calls_mean', 'sessions_mean', 'messages_mean', 'minutes_mean',\n",
    "                                     'calls_std',  'sessions_std', 'messages_std', 'minutes_std', \n",
    "                                     'calls_median', 'sessions_median', 'messages_median',  'minutes_median']\n",
    "\n",
    "stats_df.head(10)"
   ]
  },
  {
   "cell_type": "markdown",
   "metadata": {
    "deletable": false,
    "editable": false
   },
   "source": [
    "Распределение среднего количества звонков по видам тарифов и месяцам"
   ]
  },
  {
   "cell_type": "code",
   "execution_count": null,
   "metadata": {
    "deletable": false
   },
   "outputs": [],
   "source": [
    "import seaborn as sns\n",
    "\n",
    "ax = sns.barplot(x='month',\n",
    "            y='calls_mean',\n",
    "            hue=\"tariff\",\n",
    "            data=stats_df,\n",
    "            palette=['lightblue', 'blue'])\n",
    "\n",
    "ax.set_title('Распределение количества звонков по видам тарифов и месяцам')\n",
    "ax.set(xlabel='Номер месяца', ylabel='Среднее количество звонков');"
   ]
  },
  {
   "cell_type": "code",
   "execution_count": null,
   "metadata": {
    "deletable": false
   },
   "outputs": [],
   "source": [
    "import matplotlib.pyplot as plt\n",
    "\n",
    "user_behavior.groupby('tariff')['calls'].plot(kind='hist', bins=35, alpha=0.5)\n",
    "plt.legend(['Smart', 'Ultra'])\n",
    "plt.xlabel('Количество звонков')\n",
    "plt.ylabel('Количество клиентов')\n",
    "plt.show()"
   ]
  },
  {
   "cell_type": "markdown",
   "metadata": {
    "deletable": false,
    "editable": false
   },
   "source": [
    "Распределение средней продолжительности звонков по видам тарифов и месяцам"
   ]
  },
  {
   "cell_type": "code",
   "execution_count": null,
   "metadata": {
    "deletable": false
   },
   "outputs": [],
   "source": [
    "ax = sns.barplot(x='month',\n",
    "            y='minutes_mean',\n",
    "            hue=\"tariff\",\n",
    "            data=stats_df,\n",
    "            palette=['lightblue', 'blue'])\n",
    "\n",
    "ax.set_title('Распределение продолжительности звонков по видам тарифов и месяцам')\n",
    "ax.set(xlabel='Номер месяца', ylabel='Средняя продолжительность звонков');"
   ]
  },
  {
   "cell_type": "code",
   "execution_count": null,
   "metadata": {
    "deletable": false
   },
   "outputs": [],
   "source": [
    "user_behavior[user_behavior['tariff'] =='smart']['minutes'].hist(bins=35, alpha=0.5, color='green')\n",
    "user_behavior[user_behavior['tariff'] =='ultra']['minutes'].hist(bins=35, alpha=0.5, color='blue');"
   ]
  },
  {
   "cell_type": "markdown",
   "metadata": {
    "deletable": false,
    "editable": false
   },
   "source": [
    "Средняя длительность разговоров у абонентов тарифа Ultra больше, чем у абонентов тарифа Smart. В течение года пользователи обоих тарифов увеличивают среднюю продолжительность своих разговоров. Рост средней длительности разговоров у абонентов тарифа Smart равномерный в течение года. Пользователи тарифа Ultra не проявляют подобной линейной стабильности. Стоит отметить, что феврале у абонентов обоих тарифных планов наблюдались самые низкие показатели."
   ]
  },
  {
   "cell_type": "markdown",
   "metadata": {
    "deletable": false,
    "editable": false
   },
   "source": [
    "Распределение среднего количества сообщений по видам тарифов и месяцам"
   ]
  },
  {
   "cell_type": "code",
   "execution_count": null,
   "metadata": {
    "deletable": false
   },
   "outputs": [],
   "source": [
    "ax = sns.barplot(x='month',\n",
    "            y='messages_mean',\n",
    "            hue=\"tariff\",\n",
    "            data=stats_df,\n",
    "            palette=['lightblue', 'blue']\n",
    ")\n",
    "\n",
    "ax.set_title('Распределение количества сообщений по видам тарифов и месяцам')\n",
    "ax.set(xlabel='Номер месяца', ylabel='Среднее количество сообщений');"
   ]
  },
  {
   "cell_type": "code",
   "execution_count": null,
   "metadata": {
    "deletable": false
   },
   "outputs": [],
   "source": [
    "user_behavior[user_behavior['tariff'] =='smart']['messages'].hist(bins=35, alpha=0.5, color='green')\n",
    "user_behavior[user_behavior['tariff'] =='ultra']['messages'].hist(bins=35, alpha=0.5, color='blue');"
   ]
  },
  {
   "cell_type": "markdown",
   "metadata": {},
   "source": [
    "В среднем количество сообщений пользователи тарифа Ultra отправляют больше - почти на 20 сообщений больше, чем пользователи тарифа Smart. Количество сообщений в течение года на обоих тарифак растет. Динамика по отправке сообщений схожа с тенденциями по длительности разговоров: в феврале отмечено наименьшее количество сообщений за год и пользователи тарифа Ultra также проявляют нелинейную положительную динамику."
   ]
  },
  {
   "cell_type": "code",
   "execution_count": null,
   "metadata": {
    "deletable": false
   },
   "outputs": [],
   "source": [
    "ax = sns.barplot(x='month',\n",
    "            y='sessions_mean',\n",
    "            hue=\"tariff\",\n",
    "            data=stats_df,\n",
    "            palette=['lightblue', 'blue']\n",
    ")\n",
    "\n",
    "ax.set_title('Распределение количества потраченного трафика (Мб) по видам тарифов и месяцам')\n",
    "ax.set(xlabel='Номер месяца', ylabel='Среднее количество мегабайт');"
   ]
  },
  {
   "cell_type": "markdown",
   "metadata": {
    "deletable": false,
    "editable": false
   },
   "source": [
    "Сравнение потраченных мегабайт среди пользователей тарифов Smart и Ultra"
   ]
  },
  {
   "cell_type": "code",
   "execution_count": null,
   "metadata": {
    "deletable": false
   },
   "outputs": [],
   "source": [
    "user_behavior[user_behavior['tariff'] =='smart']['mb_used'].hist(bins=35, alpha=0.5, color='green')\n",
    "user_behavior[user_behavior['tariff'] =='ultra']['mb_used'].hist(bins=35, alpha=0.5, color='blue');"
   ]
  },
  {
   "cell_type": "markdown",
   "metadata": {
    "deletable": false,
    "editable": false
   },
   "source": [
    "Меньше всего пользователи использовали интернет в январе, феврале и апреле. Чаще всего абоненты тарифа Smart тратят 15-17 Гб, а абоненты тарифного плана Ultra - 19-21 ГБ."
   ]
  },
  {
   "cell_type": "markdown",
   "metadata": {
    "deletable": false,
    "editable": false
   },
   "source": [
    "### Проверка гипотез"
   ]
  },
  {
   "cell_type": "markdown",
   "metadata": {
    "deletable": false,
    "editable": false,
    "tags": [
     "start_task"
    ]
   },
   "source": [
    "**Задание 28.** Проверка гипотезы: средняя выручка пользователей тарифов «Ультра» и «Смарт» различаются;\n",
    "\n",
    "```\n",
    "H_0: Выручка (total_cost) пользователей \"Ультра\" = выручка (total_cost) пользователей \"Смарт\"`\n",
    "H_a: Выручка (total_cost) пользователей \"Ультра\" ≠ выручка (total_cost) пользователей \"Смарт\"`\n",
    "alpha = 0.05\n",
    "```"
   ]
  },
  {
   "cell_type": "code",
   "execution_count": null,
   "metadata": {
    "deletable": false
   },
   "outputs": [],
   "source": [
    "from scipy import stats as st"
   ]
  },
  {
   "cell_type": "code",
   "execution_count": null,
   "metadata": {
    "deletable": false
   },
   "outputs": [],
   "source": [
    "# results = вызов метода для проверки гипотезы\n",
    "\n",
    "smart = user_behavior[user_behavior['tariff'] == 'smart']['total_cost']\n",
    "ultra = user_behavior[user_behavior['tariff'] == 'ultra']['total_cost']\n",
    "results = st.ttest_ind(smart, ultra, equal_var = False)\n",
    "# alpha = задайте значение уровня значимости\n",
    "alpha = 0.05\n",
    "# вывод значения p-value на экран \n",
    "# условный оператор с выводом строки с ответом\n",
    "if results.pvalue < alpha:\n",
    "    print(results.pvalue)\n",
    "    print('Отвергаем нулевую гипотезу')\n",
    "else:\n",
    "    print(results.pvalue)\n",
    "    print('Не получилось отвергнуть нулевую гипотезу')"
   ]
  },
  {
   "cell_type": "markdown",
   "metadata": {
    "deletable": false,
    "editable": false,
    "tags": [
     "start_task"
    ]
   },
   "source": [
    "**Задание 29.** Проверка гипотезы: пользователи из Москвы приносят больше выручки, чем пользователи из других городов;\n",
    "\n",
    "```\n",
    "H_0: Выручка (total_cost) пользователей из Москвы = выручка (total_cost) пользователей не из Москвы`\n",
    "H_1: Выручка (total_cost) пользователей из Москвы ≠ выручка (total_cost) пользователей не из Москвы`\n",
    "alpha = 0.05\n",
    "```"
   ]
  },
  {
   "cell_type": "code",
   "execution_count": null,
   "metadata": {
    "deletable": false
   },
   "outputs": [],
   "source": [
    "# results = вызов метода для проверки гипотезы\n",
    "\n",
    "moscow = user_behavior[user_behavior['city'] == 'Москва']['total_cost']\n",
    "not_moscow = user_behavior[user_behavior['city'] != 'Москва']['total_cost']\n",
    "results = st.ttest_ind(moscow, not_moscow, equal_var = False)\n",
    "# alpha = задайте значение уровня значимости\n",
    "alpha = 0.05\n",
    "# вывод значения p-value на экран \n",
    "# условный оператор с выводом строки с ответом\n",
    "if results.pvalue < alpha:\n",
    "    print(results.pvalue)\n",
    "    print('Отвергаем нулевую гипотезу')\n",
    "else:\n",
    "    print(results.pvalue)\n",
    "    print('Не получилось отвергнуть нулевую гипотезу')"
   ]
  }
 ],
 "metadata": {
  "ExecuteTimeLog": [
   {
    "duration": 42,
    "start_time": "2022-10-25T18:23:10.059Z"
   },
   {
    "duration": 368,
    "start_time": "2022-10-25T18:23:27.738Z"
   },
   {
    "duration": 489,
    "start_time": "2022-10-25T18:23:28.108Z"
   },
   {
    "duration": 8,
    "start_time": "2022-10-25T18:23:28.598Z"
   },
   {
    "duration": 3,
    "start_time": "2022-10-25T18:23:28.608Z"
   },
   {
    "duration": 4,
    "start_time": "2022-10-25T18:23:28.613Z"
   },
   {
    "duration": 5,
    "start_time": "2022-10-25T18:23:28.618Z"
   },
   {
    "duration": 4,
    "start_time": "2022-10-25T18:23:28.625Z"
   },
   {
    "duration": 5,
    "start_time": "2022-10-25T18:23:28.631Z"
   },
   {
    "duration": 4,
    "start_time": "2022-10-25T18:23:28.637Z"
   },
   {
    "duration": 4,
    "start_time": "2022-10-25T18:23:28.643Z"
   },
   {
    "duration": 4,
    "start_time": "2022-10-25T18:23:28.649Z"
   },
   {
    "duration": 6,
    "start_time": "2022-10-25T18:23:28.654Z"
   },
   {
    "duration": 6,
    "start_time": "2022-10-25T18:23:28.661Z"
   },
   {
    "duration": 26,
    "start_time": "2022-10-25T18:23:28.669Z"
   },
   {
    "duration": 0,
    "start_time": "2022-10-25T18:23:28.696Z"
   },
   {
    "duration": 0,
    "start_time": "2022-10-25T18:23:28.698Z"
   },
   {
    "duration": 0,
    "start_time": "2022-10-25T18:23:28.699Z"
   },
   {
    "duration": 0,
    "start_time": "2022-10-25T18:23:28.699Z"
   },
   {
    "duration": 0,
    "start_time": "2022-10-25T18:23:28.722Z"
   },
   {
    "duration": 0,
    "start_time": "2022-10-25T18:23:28.723Z"
   },
   {
    "duration": 0,
    "start_time": "2022-10-25T18:23:28.724Z"
   },
   {
    "duration": 0,
    "start_time": "2022-10-25T18:23:28.725Z"
   },
   {
    "duration": 0,
    "start_time": "2022-10-25T18:23:28.726Z"
   },
   {
    "duration": 0,
    "start_time": "2022-10-25T18:23:28.727Z"
   },
   {
    "duration": 0,
    "start_time": "2022-10-25T18:23:28.728Z"
   },
   {
    "duration": 0,
    "start_time": "2022-10-25T18:23:28.729Z"
   },
   {
    "duration": 0,
    "start_time": "2022-10-25T18:23:28.730Z"
   },
   {
    "duration": 0,
    "start_time": "2022-10-25T18:23:28.731Z"
   },
   {
    "duration": 0,
    "start_time": "2022-10-25T18:23:28.732Z"
   },
   {
    "duration": 0,
    "start_time": "2022-10-25T18:23:28.733Z"
   },
   {
    "duration": 0,
    "start_time": "2022-10-25T18:23:28.734Z"
   },
   {
    "duration": 0,
    "start_time": "2022-10-25T18:23:28.735Z"
   },
   {
    "duration": 0,
    "start_time": "2022-10-25T18:23:28.736Z"
   },
   {
    "duration": 0,
    "start_time": "2022-10-25T18:23:28.737Z"
   },
   {
    "duration": 0,
    "start_time": "2022-10-25T18:23:28.738Z"
   },
   {
    "duration": 7,
    "start_time": "2022-10-25T18:25:02.124Z"
   },
   {
    "duration": 2,
    "start_time": "2022-10-25T18:25:04.210Z"
   },
   {
    "duration": 157,
    "start_time": "2022-10-25T18:25:04.214Z"
   },
   {
    "duration": 5,
    "start_time": "2022-10-25T18:25:04.373Z"
   },
   {
    "duration": 25,
    "start_time": "2022-10-25T18:25:04.380Z"
   },
   {
    "duration": 15,
    "start_time": "2022-10-25T18:25:04.407Z"
   },
   {
    "duration": 0,
    "start_time": "2022-10-25T18:25:04.425Z"
   },
   {
    "duration": 0,
    "start_time": "2022-10-25T18:25:04.426Z"
   },
   {
    "duration": 0,
    "start_time": "2022-10-25T18:25:04.427Z"
   },
   {
    "duration": 0,
    "start_time": "2022-10-25T18:25:04.428Z"
   },
   {
    "duration": 0,
    "start_time": "2022-10-25T18:25:04.429Z"
   },
   {
    "duration": 0,
    "start_time": "2022-10-25T18:25:04.430Z"
   },
   {
    "duration": 0,
    "start_time": "2022-10-25T18:25:04.431Z"
   },
   {
    "duration": 0,
    "start_time": "2022-10-25T18:25:04.432Z"
   },
   {
    "duration": 0,
    "start_time": "2022-10-25T18:25:04.433Z"
   },
   {
    "duration": 0,
    "start_time": "2022-10-25T18:25:04.434Z"
   },
   {
    "duration": 0,
    "start_time": "2022-10-25T18:25:04.435Z"
   },
   {
    "duration": 0,
    "start_time": "2022-10-25T18:25:04.436Z"
   },
   {
    "duration": 0,
    "start_time": "2022-10-25T18:25:04.437Z"
   },
   {
    "duration": 0,
    "start_time": "2022-10-25T18:25:04.438Z"
   },
   {
    "duration": 0,
    "start_time": "2022-10-25T18:25:04.439Z"
   },
   {
    "duration": 0,
    "start_time": "2022-10-25T18:25:04.440Z"
   },
   {
    "duration": 0,
    "start_time": "2022-10-25T18:25:04.441Z"
   },
   {
    "duration": 0,
    "start_time": "2022-10-25T18:25:04.442Z"
   },
   {
    "duration": 0,
    "start_time": "2022-10-25T18:25:04.443Z"
   },
   {
    "duration": 0,
    "start_time": "2022-10-25T18:25:04.444Z"
   },
   {
    "duration": 0,
    "start_time": "2022-10-25T18:25:04.445Z"
   },
   {
    "duration": 0,
    "start_time": "2022-10-25T18:25:04.446Z"
   },
   {
    "duration": 0,
    "start_time": "2022-10-25T18:25:04.447Z"
   },
   {
    "duration": 0,
    "start_time": "2022-10-25T18:25:04.448Z"
   },
   {
    "duration": 0,
    "start_time": "2022-10-25T18:25:04.449Z"
   },
   {
    "duration": 0,
    "start_time": "2022-10-25T18:25:04.450Z"
   },
   {
    "duration": 0,
    "start_time": "2022-10-25T18:25:04.451Z"
   },
   {
    "duration": 0,
    "start_time": "2022-10-25T18:25:04.452Z"
   },
   {
    "duration": 0,
    "start_time": "2022-10-25T18:25:04.453Z"
   },
   {
    "duration": 1,
    "start_time": "2022-10-25T18:25:04.453Z"
   },
   {
    "duration": 0,
    "start_time": "2022-10-25T18:25:04.455Z"
   },
   {
    "duration": 0,
    "start_time": "2022-10-25T18:25:04.455Z"
   },
   {
    "duration": 2,
    "start_time": "2022-10-25T18:25:21.057Z"
   },
   {
    "duration": 170,
    "start_time": "2022-10-25T18:25:21.062Z"
   },
   {
    "duration": 5,
    "start_time": "2022-10-25T18:25:21.234Z"
   },
   {
    "duration": 22,
    "start_time": "2022-10-25T18:25:21.240Z"
   },
   {
    "duration": 530,
    "start_time": "2022-10-25T18:25:21.264Z"
   },
   {
    "duration": 2,
    "start_time": "2022-10-25T18:25:21.796Z"
   },
   {
    "duration": 6,
    "start_time": "2022-10-25T18:25:21.799Z"
   },
   {
    "duration": 7,
    "start_time": "2022-10-25T18:25:21.807Z"
   },
   {
    "duration": 2,
    "start_time": "2022-10-25T18:25:21.821Z"
   },
   {
    "duration": 5,
    "start_time": "2022-10-25T18:25:21.825Z"
   },
   {
    "duration": 8,
    "start_time": "2022-10-25T18:25:21.831Z"
   },
   {
    "duration": 9,
    "start_time": "2022-10-25T18:25:21.840Z"
   },
   {
    "duration": 4,
    "start_time": "2022-10-25T18:25:21.851Z"
   },
   {
    "duration": 7,
    "start_time": "2022-10-25T18:25:21.857Z"
   },
   {
    "duration": 5,
    "start_time": "2022-10-25T18:25:21.865Z"
   },
   {
    "duration": 17,
    "start_time": "2022-10-25T18:25:21.871Z"
   },
   {
    "duration": 0,
    "start_time": "2022-10-25T18:25:21.889Z"
   },
   {
    "duration": 0,
    "start_time": "2022-10-25T18:25:21.891Z"
   },
   {
    "duration": 0,
    "start_time": "2022-10-25T18:25:21.891Z"
   },
   {
    "duration": 0,
    "start_time": "2022-10-25T18:25:21.892Z"
   },
   {
    "duration": 0,
    "start_time": "2022-10-25T18:25:21.894Z"
   },
   {
    "duration": 0,
    "start_time": "2022-10-25T18:25:21.895Z"
   },
   {
    "duration": 0,
    "start_time": "2022-10-25T18:25:21.896Z"
   },
   {
    "duration": 0,
    "start_time": "2022-10-25T18:25:21.896Z"
   },
   {
    "duration": 0,
    "start_time": "2022-10-25T18:25:21.897Z"
   },
   {
    "duration": 0,
    "start_time": "2022-10-25T18:25:21.899Z"
   },
   {
    "duration": 0,
    "start_time": "2022-10-25T18:25:21.921Z"
   },
   {
    "duration": 0,
    "start_time": "2022-10-25T18:25:21.922Z"
   },
   {
    "duration": 0,
    "start_time": "2022-10-25T18:25:21.923Z"
   },
   {
    "duration": 0,
    "start_time": "2022-10-25T18:25:21.924Z"
   },
   {
    "duration": 0,
    "start_time": "2022-10-25T18:25:21.925Z"
   },
   {
    "duration": 0,
    "start_time": "2022-10-25T18:25:21.926Z"
   },
   {
    "duration": 0,
    "start_time": "2022-10-25T18:25:21.927Z"
   },
   {
    "duration": 0,
    "start_time": "2022-10-25T18:25:21.928Z"
   },
   {
    "duration": 0,
    "start_time": "2022-10-25T18:25:21.929Z"
   },
   {
    "duration": 0,
    "start_time": "2022-10-25T18:25:21.929Z"
   },
   {
    "duration": 0,
    "start_time": "2022-10-25T18:25:21.930Z"
   },
   {
    "duration": 3,
    "start_time": "2022-10-25T18:34:25.921Z"
   },
   {
    "duration": 181,
    "start_time": "2022-10-25T18:34:25.926Z"
   },
   {
    "duration": 6,
    "start_time": "2022-10-25T18:34:26.110Z"
   },
   {
    "duration": 48,
    "start_time": "2022-10-25T18:34:26.117Z"
   },
   {
    "duration": 150,
    "start_time": "2022-10-25T18:34:26.168Z"
   },
   {
    "duration": 383,
    "start_time": "2022-10-25T18:34:26.321Z"
   },
   {
    "duration": 5,
    "start_time": "2022-10-25T18:34:26.706Z"
   },
   {
    "duration": 26,
    "start_time": "2022-10-25T18:34:26.713Z"
   },
   {
    "duration": 9,
    "start_time": "2022-10-25T18:34:26.741Z"
   },
   {
    "duration": 23,
    "start_time": "2022-10-25T18:34:26.751Z"
   },
   {
    "duration": 20,
    "start_time": "2022-10-25T18:34:26.775Z"
   },
   {
    "duration": 13,
    "start_time": "2022-10-25T18:34:26.797Z"
   },
   {
    "duration": 16,
    "start_time": "2022-10-25T18:34:26.813Z"
   },
   {
    "duration": 17,
    "start_time": "2022-10-25T18:34:26.830Z"
   },
   {
    "duration": 32,
    "start_time": "2022-10-25T18:34:26.848Z"
   },
   {
    "duration": 27,
    "start_time": "2022-10-25T18:34:26.881Z"
   },
   {
    "duration": 18,
    "start_time": "2022-10-25T18:34:26.909Z"
   },
   {
    "duration": 23,
    "start_time": "2022-10-25T18:34:26.928Z"
   },
   {
    "duration": 17,
    "start_time": "2022-10-25T18:34:26.952Z"
   },
   {
    "duration": 0,
    "start_time": "2022-10-25T18:34:26.971Z"
   },
   {
    "duration": 0,
    "start_time": "2022-10-25T18:34:26.972Z"
   },
   {
    "duration": 0,
    "start_time": "2022-10-25T18:34:26.973Z"
   },
   {
    "duration": 0,
    "start_time": "2022-10-25T18:34:26.974Z"
   },
   {
    "duration": 0,
    "start_time": "2022-10-25T18:34:26.975Z"
   },
   {
    "duration": 0,
    "start_time": "2022-10-25T18:34:26.976Z"
   },
   {
    "duration": 0,
    "start_time": "2022-10-25T18:34:26.977Z"
   },
   {
    "duration": 0,
    "start_time": "2022-10-25T18:34:26.978Z"
   },
   {
    "duration": 0,
    "start_time": "2022-10-25T18:34:26.979Z"
   },
   {
    "duration": 0,
    "start_time": "2022-10-25T18:34:26.980Z"
   },
   {
    "duration": 0,
    "start_time": "2022-10-25T18:34:26.981Z"
   },
   {
    "duration": 0,
    "start_time": "2022-10-25T18:34:26.982Z"
   },
   {
    "duration": 0,
    "start_time": "2022-10-25T18:34:26.984Z"
   },
   {
    "duration": 0,
    "start_time": "2022-10-25T18:34:26.985Z"
   },
   {
    "duration": 0,
    "start_time": "2022-10-25T18:34:26.986Z"
   },
   {
    "duration": 0,
    "start_time": "2022-10-25T18:34:26.988Z"
   },
   {
    "duration": 0,
    "start_time": "2022-10-25T18:34:26.989Z"
   },
   {
    "duration": 0,
    "start_time": "2022-10-25T18:34:26.990Z"
   },
   {
    "duration": 0,
    "start_time": "2022-10-25T18:34:26.991Z"
   },
   {
    "duration": 0,
    "start_time": "2022-10-25T18:34:26.992Z"
   },
   {
    "duration": 0,
    "start_time": "2022-10-25T18:34:26.994Z"
   },
   {
    "duration": 3,
    "start_time": "2022-10-25T18:42:12.757Z"
   },
   {
    "duration": 165,
    "start_time": "2022-10-25T18:42:12.761Z"
   },
   {
    "duration": 5,
    "start_time": "2022-10-25T18:42:12.928Z"
   },
   {
    "duration": 36,
    "start_time": "2022-10-25T18:42:12.935Z"
   },
   {
    "duration": 154,
    "start_time": "2022-10-25T18:42:12.973Z"
   },
   {
    "duration": 108,
    "start_time": "2022-10-25T18:42:13.129Z"
   },
   {
    "duration": 5,
    "start_time": "2022-10-25T18:42:13.239Z"
   },
   {
    "duration": 46,
    "start_time": "2022-10-25T18:42:13.245Z"
   },
   {
    "duration": 3,
    "start_time": "2022-10-25T18:42:13.293Z"
   },
   {
    "duration": 11,
    "start_time": "2022-10-25T18:42:13.297Z"
   },
   {
    "duration": 13,
    "start_time": "2022-10-25T18:42:13.309Z"
   },
   {
    "duration": 9,
    "start_time": "2022-10-25T18:42:13.323Z"
   },
   {
    "duration": 14,
    "start_time": "2022-10-25T18:42:13.333Z"
   },
   {
    "duration": 3,
    "start_time": "2022-10-25T18:42:13.350Z"
   },
   {
    "duration": 18,
    "start_time": "2022-10-25T18:42:13.355Z"
   },
   {
    "duration": 8,
    "start_time": "2022-10-25T18:42:13.375Z"
   },
   {
    "duration": 7,
    "start_time": "2022-10-25T18:42:13.385Z"
   },
   {
    "duration": 7,
    "start_time": "2022-10-25T18:42:13.393Z"
   },
   {
    "duration": 9,
    "start_time": "2022-10-25T18:42:13.402Z"
   },
   {
    "duration": 0,
    "start_time": "2022-10-25T18:42:13.413Z"
   },
   {
    "duration": 0,
    "start_time": "2022-10-25T18:42:13.415Z"
   },
   {
    "duration": 0,
    "start_time": "2022-10-25T18:42:13.415Z"
   },
   {
    "duration": 0,
    "start_time": "2022-10-25T18:42:13.416Z"
   },
   {
    "duration": 0,
    "start_time": "2022-10-25T18:42:13.417Z"
   },
   {
    "duration": 0,
    "start_time": "2022-10-25T18:42:13.419Z"
   },
   {
    "duration": 0,
    "start_time": "2022-10-25T18:42:13.420Z"
   },
   {
    "duration": 0,
    "start_time": "2022-10-25T18:42:13.421Z"
   },
   {
    "duration": 0,
    "start_time": "2022-10-25T18:42:13.422Z"
   },
   {
    "duration": 0,
    "start_time": "2022-10-25T18:42:13.423Z"
   },
   {
    "duration": 0,
    "start_time": "2022-10-25T18:42:13.424Z"
   },
   {
    "duration": 0,
    "start_time": "2022-10-25T18:42:13.425Z"
   },
   {
    "duration": 0,
    "start_time": "2022-10-25T18:42:13.426Z"
   },
   {
    "duration": 0,
    "start_time": "2022-10-25T18:42:13.427Z"
   },
   {
    "duration": 0,
    "start_time": "2022-10-25T18:42:13.428Z"
   },
   {
    "duration": 0,
    "start_time": "2022-10-25T18:42:13.428Z"
   },
   {
    "duration": 0,
    "start_time": "2022-10-25T18:42:13.429Z"
   },
   {
    "duration": 0,
    "start_time": "2022-10-25T18:42:13.430Z"
   },
   {
    "duration": 0,
    "start_time": "2022-10-25T18:42:13.431Z"
   },
   {
    "duration": 0,
    "start_time": "2022-10-25T18:42:13.432Z"
   },
   {
    "duration": 0,
    "start_time": "2022-10-25T18:42:13.433Z"
   },
   {
    "duration": 3,
    "start_time": "2022-10-25T18:44:04.652Z"
   },
   {
    "duration": 145,
    "start_time": "2022-10-25T18:44:04.657Z"
   },
   {
    "duration": 5,
    "start_time": "2022-10-25T18:44:04.804Z"
   },
   {
    "duration": 31,
    "start_time": "2022-10-25T18:44:04.811Z"
   },
   {
    "duration": 138,
    "start_time": "2022-10-25T18:44:04.844Z"
   },
   {
    "duration": 114,
    "start_time": "2022-10-25T18:44:04.983Z"
   },
   {
    "duration": 5,
    "start_time": "2022-10-25T18:44:05.098Z"
   },
   {
    "duration": 29,
    "start_time": "2022-10-25T18:44:05.105Z"
   },
   {
    "duration": 2,
    "start_time": "2022-10-25T18:44:05.136Z"
   },
   {
    "duration": 4,
    "start_time": "2022-10-25T18:44:05.140Z"
   },
   {
    "duration": 12,
    "start_time": "2022-10-25T18:44:05.146Z"
   },
   {
    "duration": 8,
    "start_time": "2022-10-25T18:44:05.160Z"
   },
   {
    "duration": 11,
    "start_time": "2022-10-25T18:44:05.170Z"
   },
   {
    "duration": 7,
    "start_time": "2022-10-25T18:44:05.184Z"
   },
   {
    "duration": 8,
    "start_time": "2022-10-25T18:44:05.192Z"
   },
   {
    "duration": 11,
    "start_time": "2022-10-25T18:44:05.202Z"
   },
   {
    "duration": 4,
    "start_time": "2022-10-25T18:44:05.215Z"
   },
   {
    "duration": 7,
    "start_time": "2022-10-25T18:44:05.221Z"
   },
   {
    "duration": 54,
    "start_time": "2022-10-25T18:44:05.229Z"
   },
   {
    "duration": 0,
    "start_time": "2022-10-25T18:44:05.285Z"
   },
   {
    "duration": 0,
    "start_time": "2022-10-25T18:44:05.286Z"
   },
   {
    "duration": 0,
    "start_time": "2022-10-25T18:44:05.287Z"
   },
   {
    "duration": 0,
    "start_time": "2022-10-25T18:44:05.289Z"
   },
   {
    "duration": 0,
    "start_time": "2022-10-25T18:44:05.290Z"
   },
   {
    "duration": 0,
    "start_time": "2022-10-25T18:44:05.291Z"
   },
   {
    "duration": 0,
    "start_time": "2022-10-25T18:44:05.292Z"
   },
   {
    "duration": 0,
    "start_time": "2022-10-25T18:44:05.292Z"
   },
   {
    "duration": 0,
    "start_time": "2022-10-25T18:44:05.293Z"
   },
   {
    "duration": 0,
    "start_time": "2022-10-25T18:44:05.294Z"
   },
   {
    "duration": 0,
    "start_time": "2022-10-25T18:44:05.295Z"
   },
   {
    "duration": 0,
    "start_time": "2022-10-25T18:44:05.296Z"
   },
   {
    "duration": 0,
    "start_time": "2022-10-25T18:44:05.297Z"
   },
   {
    "duration": 0,
    "start_time": "2022-10-25T18:44:05.322Z"
   },
   {
    "duration": 0,
    "start_time": "2022-10-25T18:44:05.323Z"
   },
   {
    "duration": 0,
    "start_time": "2022-10-25T18:44:05.324Z"
   },
   {
    "duration": 0,
    "start_time": "2022-10-25T18:44:05.324Z"
   },
   {
    "duration": 0,
    "start_time": "2022-10-25T18:44:05.325Z"
   },
   {
    "duration": 0,
    "start_time": "2022-10-25T18:44:05.326Z"
   },
   {
    "duration": 0,
    "start_time": "2022-10-25T18:44:05.327Z"
   },
   {
    "duration": 0,
    "start_time": "2022-10-25T18:44:05.328Z"
   },
   {
    "duration": 3,
    "start_time": "2022-10-25T18:44:15.284Z"
   },
   {
    "duration": 150,
    "start_time": "2022-10-25T18:44:15.288Z"
   },
   {
    "duration": 6,
    "start_time": "2022-10-25T18:44:15.439Z"
   },
   {
    "duration": 22,
    "start_time": "2022-10-25T18:44:15.446Z"
   },
   {
    "duration": 153,
    "start_time": "2022-10-25T18:44:15.470Z"
   },
   {
    "duration": 110,
    "start_time": "2022-10-25T18:44:15.624Z"
   },
   {
    "duration": 5,
    "start_time": "2022-10-25T18:44:15.736Z"
   },
   {
    "duration": 20,
    "start_time": "2022-10-25T18:44:15.743Z"
   },
   {
    "duration": 2,
    "start_time": "2022-10-25T18:44:15.764Z"
   },
   {
    "duration": 8,
    "start_time": "2022-10-25T18:44:15.767Z"
   },
   {
    "duration": 4,
    "start_time": "2022-10-25T18:44:15.777Z"
   },
   {
    "duration": 5,
    "start_time": "2022-10-25T18:44:15.782Z"
   },
   {
    "duration": 3,
    "start_time": "2022-10-25T18:44:15.791Z"
   },
   {
    "duration": 5,
    "start_time": "2022-10-25T18:44:15.795Z"
   },
   {
    "duration": 5,
    "start_time": "2022-10-25T18:44:15.801Z"
   },
   {
    "duration": 15,
    "start_time": "2022-10-25T18:44:15.807Z"
   },
   {
    "duration": 7,
    "start_time": "2022-10-25T18:44:15.823Z"
   },
   {
    "duration": 5,
    "start_time": "2022-10-25T18:44:15.831Z"
   },
   {
    "duration": 10,
    "start_time": "2022-10-25T18:44:15.837Z"
   },
   {
    "duration": 0,
    "start_time": "2022-10-25T18:44:15.848Z"
   },
   {
    "duration": 0,
    "start_time": "2022-10-25T18:44:15.849Z"
   },
   {
    "duration": 0,
    "start_time": "2022-10-25T18:44:15.850Z"
   },
   {
    "duration": 0,
    "start_time": "2022-10-25T18:44:15.851Z"
   },
   {
    "duration": 0,
    "start_time": "2022-10-25T18:44:15.852Z"
   },
   {
    "duration": 0,
    "start_time": "2022-10-25T18:44:15.853Z"
   },
   {
    "duration": 0,
    "start_time": "2022-10-25T18:44:15.854Z"
   },
   {
    "duration": 0,
    "start_time": "2022-10-25T18:44:15.855Z"
   },
   {
    "duration": 0,
    "start_time": "2022-10-25T18:44:15.856Z"
   },
   {
    "duration": 0,
    "start_time": "2022-10-25T18:44:15.857Z"
   },
   {
    "duration": 0,
    "start_time": "2022-10-25T18:44:15.858Z"
   },
   {
    "duration": 0,
    "start_time": "2022-10-25T18:44:15.858Z"
   },
   {
    "duration": 0,
    "start_time": "2022-10-25T18:44:15.859Z"
   },
   {
    "duration": 0,
    "start_time": "2022-10-25T18:44:15.860Z"
   },
   {
    "duration": 0,
    "start_time": "2022-10-25T18:44:15.861Z"
   },
   {
    "duration": 0,
    "start_time": "2022-10-25T18:44:15.862Z"
   },
   {
    "duration": 0,
    "start_time": "2022-10-25T18:44:15.863Z"
   },
   {
    "duration": 0,
    "start_time": "2022-10-25T18:44:15.864Z"
   },
   {
    "duration": 0,
    "start_time": "2022-10-25T18:44:15.866Z"
   },
   {
    "duration": 0,
    "start_time": "2022-10-25T18:44:15.867Z"
   },
   {
    "duration": 0,
    "start_time": "2022-10-25T18:44:15.868Z"
   },
   {
    "duration": 2,
    "start_time": "2022-10-25T18:44:30.258Z"
   },
   {
    "duration": 193,
    "start_time": "2022-10-25T18:44:30.262Z"
   },
   {
    "duration": 6,
    "start_time": "2022-10-25T18:44:30.457Z"
   },
   {
    "duration": 39,
    "start_time": "2022-10-25T18:44:30.464Z"
   },
   {
    "duration": 174,
    "start_time": "2022-10-25T18:44:30.505Z"
   },
   {
    "duration": 120,
    "start_time": "2022-10-25T18:44:30.681Z"
   },
   {
    "duration": 6,
    "start_time": "2022-10-25T18:44:30.802Z"
   },
   {
    "duration": 58,
    "start_time": "2022-10-25T18:44:30.809Z"
   },
   {
    "duration": 20,
    "start_time": "2022-10-25T18:44:30.869Z"
   },
   {
    "duration": 65,
    "start_time": "2022-10-25T18:44:30.891Z"
   },
   {
    "duration": 34,
    "start_time": "2022-10-25T18:44:30.958Z"
   },
   {
    "duration": 22,
    "start_time": "2022-10-25T18:44:30.994Z"
   },
   {
    "duration": 12,
    "start_time": "2022-10-25T18:44:31.019Z"
   },
   {
    "duration": 24,
    "start_time": "2022-10-25T18:44:31.033Z"
   },
   {
    "duration": 77,
    "start_time": "2022-10-25T18:44:31.058Z"
   },
   {
    "duration": 17,
    "start_time": "2022-10-25T18:44:31.136Z"
   },
   {
    "duration": 23,
    "start_time": "2022-10-25T18:44:31.155Z"
   },
   {
    "duration": 10,
    "start_time": "2022-10-25T18:44:31.179Z"
   },
   {
    "duration": 26,
    "start_time": "2022-10-25T18:44:31.191Z"
   },
   {
    "duration": 0,
    "start_time": "2022-10-25T18:44:31.219Z"
   },
   {
    "duration": 0,
    "start_time": "2022-10-25T18:44:31.220Z"
   },
   {
    "duration": 0,
    "start_time": "2022-10-25T18:44:31.221Z"
   },
   {
    "duration": 0,
    "start_time": "2022-10-25T18:44:31.222Z"
   },
   {
    "duration": 0,
    "start_time": "2022-10-25T18:44:31.223Z"
   },
   {
    "duration": 0,
    "start_time": "2022-10-25T18:44:31.224Z"
   },
   {
    "duration": 0,
    "start_time": "2022-10-25T18:44:31.225Z"
   },
   {
    "duration": 0,
    "start_time": "2022-10-25T18:44:31.226Z"
   },
   {
    "duration": 0,
    "start_time": "2022-10-25T18:44:31.227Z"
   },
   {
    "duration": 0,
    "start_time": "2022-10-25T18:44:31.228Z"
   },
   {
    "duration": 0,
    "start_time": "2022-10-25T18:44:31.229Z"
   },
   {
    "duration": 1,
    "start_time": "2022-10-25T18:44:31.229Z"
   },
   {
    "duration": 0,
    "start_time": "2022-10-25T18:44:31.230Z"
   },
   {
    "duration": 0,
    "start_time": "2022-10-25T18:44:31.232Z"
   },
   {
    "duration": 0,
    "start_time": "2022-10-25T18:44:31.232Z"
   },
   {
    "duration": 0,
    "start_time": "2022-10-25T18:44:31.233Z"
   },
   {
    "duration": 0,
    "start_time": "2022-10-25T18:44:31.235Z"
   },
   {
    "duration": 0,
    "start_time": "2022-10-25T18:44:31.235Z"
   },
   {
    "duration": 0,
    "start_time": "2022-10-25T18:44:31.236Z"
   },
   {
    "duration": 0,
    "start_time": "2022-10-25T18:44:31.237Z"
   },
   {
    "duration": 0,
    "start_time": "2022-10-25T18:44:31.238Z"
   },
   {
    "duration": 2,
    "start_time": "2022-10-25T18:45:10.877Z"
   },
   {
    "duration": 149,
    "start_time": "2022-10-25T18:45:10.881Z"
   },
   {
    "duration": 6,
    "start_time": "2022-10-25T18:45:11.032Z"
   },
   {
    "duration": 21,
    "start_time": "2022-10-25T18:45:11.039Z"
   },
   {
    "duration": 141,
    "start_time": "2022-10-25T18:45:11.063Z"
   },
   {
    "duration": 112,
    "start_time": "2022-10-25T18:45:11.205Z"
   },
   {
    "duration": 6,
    "start_time": "2022-10-25T18:45:11.318Z"
   },
   {
    "duration": 22,
    "start_time": "2022-10-25T18:45:11.325Z"
   },
   {
    "duration": 2,
    "start_time": "2022-10-25T18:45:11.349Z"
   },
   {
    "duration": 6,
    "start_time": "2022-10-25T18:45:11.352Z"
   },
   {
    "duration": 6,
    "start_time": "2022-10-25T18:45:11.360Z"
   },
   {
    "duration": 10,
    "start_time": "2022-10-25T18:45:11.368Z"
   },
   {
    "duration": 5,
    "start_time": "2022-10-25T18:45:11.379Z"
   },
   {
    "duration": 4,
    "start_time": "2022-10-25T18:45:11.387Z"
   },
   {
    "duration": 6,
    "start_time": "2022-10-25T18:45:11.392Z"
   },
   {
    "duration": 6,
    "start_time": "2022-10-25T18:45:11.399Z"
   },
   {
    "duration": 15,
    "start_time": "2022-10-25T18:45:11.407Z"
   },
   {
    "duration": 7,
    "start_time": "2022-10-25T18:45:11.424Z"
   },
   {
    "duration": 10,
    "start_time": "2022-10-25T18:45:11.432Z"
   },
   {
    "duration": 0,
    "start_time": "2022-10-25T18:45:11.443Z"
   },
   {
    "duration": 0,
    "start_time": "2022-10-25T18:45:11.445Z"
   },
   {
    "duration": 0,
    "start_time": "2022-10-25T18:45:11.446Z"
   },
   {
    "duration": 0,
    "start_time": "2022-10-25T18:45:11.447Z"
   },
   {
    "duration": 0,
    "start_time": "2022-10-25T18:45:11.448Z"
   },
   {
    "duration": 0,
    "start_time": "2022-10-25T18:45:11.449Z"
   },
   {
    "duration": 0,
    "start_time": "2022-10-25T18:45:11.450Z"
   },
   {
    "duration": 0,
    "start_time": "2022-10-25T18:45:11.451Z"
   },
   {
    "duration": 0,
    "start_time": "2022-10-25T18:45:11.452Z"
   },
   {
    "duration": 0,
    "start_time": "2022-10-25T18:45:11.453Z"
   },
   {
    "duration": 0,
    "start_time": "2022-10-25T18:45:11.453Z"
   },
   {
    "duration": 0,
    "start_time": "2022-10-25T18:45:11.454Z"
   },
   {
    "duration": 0,
    "start_time": "2022-10-25T18:45:11.455Z"
   },
   {
    "duration": 0,
    "start_time": "2022-10-25T18:45:11.456Z"
   },
   {
    "duration": 0,
    "start_time": "2022-10-25T18:45:11.457Z"
   },
   {
    "duration": 0,
    "start_time": "2022-10-25T18:45:11.458Z"
   },
   {
    "duration": 0,
    "start_time": "2022-10-25T18:45:11.459Z"
   },
   {
    "duration": 0,
    "start_time": "2022-10-25T18:45:11.460Z"
   },
   {
    "duration": 0,
    "start_time": "2022-10-25T18:45:11.461Z"
   },
   {
    "duration": 0,
    "start_time": "2022-10-25T18:45:11.462Z"
   },
   {
    "duration": 0,
    "start_time": "2022-10-25T18:45:11.463Z"
   },
   {
    "duration": 3,
    "start_time": "2022-10-25T18:46:54.473Z"
   },
   {
    "duration": 154,
    "start_time": "2022-10-25T18:46:54.478Z"
   },
   {
    "duration": 5,
    "start_time": "2022-10-25T18:46:54.634Z"
   },
   {
    "duration": 24,
    "start_time": "2022-10-25T18:46:54.641Z"
   },
   {
    "duration": 155,
    "start_time": "2022-10-25T18:46:54.666Z"
   },
   {
    "duration": 114,
    "start_time": "2022-10-25T18:46:54.823Z"
   },
   {
    "duration": 6,
    "start_time": "2022-10-25T18:46:54.938Z"
   },
   {
    "duration": 21,
    "start_time": "2022-10-25T18:46:54.946Z"
   },
   {
    "duration": 2,
    "start_time": "2022-10-25T18:46:54.969Z"
   },
   {
    "duration": 5,
    "start_time": "2022-10-25T18:46:54.973Z"
   },
   {
    "duration": 5,
    "start_time": "2022-10-25T18:46:54.979Z"
   },
   {
    "duration": 5,
    "start_time": "2022-10-25T18:46:54.986Z"
   },
   {
    "duration": 10,
    "start_time": "2022-10-25T18:46:54.992Z"
   },
   {
    "duration": 7,
    "start_time": "2022-10-25T18:46:55.003Z"
   },
   {
    "duration": 15,
    "start_time": "2022-10-25T18:46:55.011Z"
   },
   {
    "duration": 10,
    "start_time": "2022-10-25T18:46:55.027Z"
   },
   {
    "duration": 6,
    "start_time": "2022-10-25T18:46:55.038Z"
   },
   {
    "duration": 6,
    "start_time": "2022-10-25T18:46:55.045Z"
   },
   {
    "duration": 14,
    "start_time": "2022-10-25T18:46:55.052Z"
   },
   {
    "duration": 0,
    "start_time": "2022-10-25T18:46:55.067Z"
   },
   {
    "duration": 0,
    "start_time": "2022-10-25T18:46:55.068Z"
   },
   {
    "duration": 0,
    "start_time": "2022-10-25T18:46:55.070Z"
   },
   {
    "duration": 0,
    "start_time": "2022-10-25T18:46:55.070Z"
   },
   {
    "duration": 0,
    "start_time": "2022-10-25T18:46:55.071Z"
   },
   {
    "duration": 0,
    "start_time": "2022-10-25T18:46:55.072Z"
   },
   {
    "duration": 0,
    "start_time": "2022-10-25T18:46:55.073Z"
   },
   {
    "duration": 0,
    "start_time": "2022-10-25T18:46:55.074Z"
   },
   {
    "duration": 0,
    "start_time": "2022-10-25T18:46:55.075Z"
   },
   {
    "duration": 0,
    "start_time": "2022-10-25T18:46:55.076Z"
   },
   {
    "duration": 0,
    "start_time": "2022-10-25T18:46:55.077Z"
   },
   {
    "duration": 0,
    "start_time": "2022-10-25T18:46:55.078Z"
   },
   {
    "duration": 0,
    "start_time": "2022-10-25T18:46:55.079Z"
   },
   {
    "duration": 0,
    "start_time": "2022-10-25T18:46:55.080Z"
   },
   {
    "duration": 1,
    "start_time": "2022-10-25T18:46:55.080Z"
   },
   {
    "duration": 0,
    "start_time": "2022-10-25T18:46:55.081Z"
   },
   {
    "duration": 0,
    "start_time": "2022-10-25T18:46:55.082Z"
   },
   {
    "duration": 0,
    "start_time": "2022-10-25T18:46:55.083Z"
   },
   {
    "duration": 0,
    "start_time": "2022-10-25T18:46:55.084Z"
   },
   {
    "duration": 0,
    "start_time": "2022-10-25T18:46:55.085Z"
   },
   {
    "duration": 0,
    "start_time": "2022-10-25T18:46:55.086Z"
   },
   {
    "duration": 364,
    "start_time": "2022-10-25T21:04:44.007Z"
   },
   {
    "duration": 234,
    "start_time": "2022-10-25T21:04:44.373Z"
   },
   {
    "duration": 7,
    "start_time": "2022-10-25T21:04:44.609Z"
   },
   {
    "duration": 27,
    "start_time": "2022-10-25T21:04:44.618Z"
   },
   {
    "duration": 547,
    "start_time": "2022-10-25T21:04:44.648Z"
   },
   {
    "duration": 447,
    "start_time": "2022-10-25T21:04:45.197Z"
   },
   {
    "duration": 7,
    "start_time": "2022-10-25T21:04:45.646Z"
   },
   {
    "duration": 24,
    "start_time": "2022-10-25T21:04:45.655Z"
   },
   {
    "duration": 162,
    "start_time": "2022-10-25T21:04:45.680Z"
   },
   {
    "duration": 330,
    "start_time": "2022-10-25T21:04:45.853Z"
   },
   {
    "duration": 5,
    "start_time": "2022-10-25T21:04:46.185Z"
   },
   {
    "duration": 21,
    "start_time": "2022-10-25T21:04:46.192Z"
   },
   {
    "duration": 66,
    "start_time": "2022-10-25T21:04:46.215Z"
   },
   {
    "duration": 5,
    "start_time": "2022-10-25T21:04:46.284Z"
   },
   {
    "duration": 12,
    "start_time": "2022-10-25T21:04:46.291Z"
   },
   {
    "duration": 66,
    "start_time": "2022-10-25T21:04:46.305Z"
   },
   {
    "duration": 8,
    "start_time": "2022-10-25T21:04:46.373Z"
   },
   {
    "duration": 15,
    "start_time": "2022-10-25T21:04:46.382Z"
   },
   {
    "duration": 85,
    "start_time": "2022-10-25T21:04:46.399Z"
   },
   {
    "duration": 9,
    "start_time": "2022-10-25T21:04:46.486Z"
   },
   {
    "duration": 3,
    "start_time": "2022-10-25T21:04:46.496Z"
   },
   {
    "duration": 5,
    "start_time": "2022-10-25T21:04:46.501Z"
   },
   {
    "duration": 6,
    "start_time": "2022-10-25T21:04:46.508Z"
   },
   {
    "duration": 5,
    "start_time": "2022-10-25T21:04:46.515Z"
   },
   {
    "duration": 5,
    "start_time": "2022-10-25T21:04:46.521Z"
   },
   {
    "duration": 4,
    "start_time": "2022-10-25T21:04:46.528Z"
   },
   {
    "duration": 3,
    "start_time": "2022-10-25T21:04:46.554Z"
   },
   {
    "duration": 8,
    "start_time": "2022-10-25T21:04:46.558Z"
   },
   {
    "duration": 8,
    "start_time": "2022-10-25T21:04:46.567Z"
   },
   {
    "duration": 92,
    "start_time": "2022-10-25T21:04:46.577Z"
   },
   {
    "duration": 0,
    "start_time": "2022-10-25T21:04:46.671Z"
   },
   {
    "duration": 0,
    "start_time": "2022-10-25T21:04:46.673Z"
   },
   {
    "duration": 0,
    "start_time": "2022-10-25T21:04:46.675Z"
   },
   {
    "duration": 0,
    "start_time": "2022-10-25T21:04:46.676Z"
   },
   {
    "duration": 0,
    "start_time": "2022-10-25T21:04:46.677Z"
   },
   {
    "duration": 0,
    "start_time": "2022-10-25T21:04:46.678Z"
   },
   {
    "duration": 0,
    "start_time": "2022-10-25T21:04:46.679Z"
   },
   {
    "duration": 0,
    "start_time": "2022-10-25T21:04:46.680Z"
   },
   {
    "duration": 0,
    "start_time": "2022-10-25T21:04:46.681Z"
   },
   {
    "duration": 0,
    "start_time": "2022-10-25T21:04:46.682Z"
   },
   {
    "duration": 0,
    "start_time": "2022-10-25T21:04:46.684Z"
   },
   {
    "duration": 0,
    "start_time": "2022-10-25T21:04:46.685Z"
   },
   {
    "duration": 0,
    "start_time": "2022-10-25T21:04:46.686Z"
   },
   {
    "duration": 0,
    "start_time": "2022-10-25T21:04:46.687Z"
   },
   {
    "duration": 0,
    "start_time": "2022-10-25T21:04:46.689Z"
   },
   {
    "duration": 0,
    "start_time": "2022-10-25T21:04:46.690Z"
   },
   {
    "duration": 0,
    "start_time": "2022-10-25T21:04:46.693Z"
   },
   {
    "duration": 0,
    "start_time": "2022-10-25T21:04:46.694Z"
   },
   {
    "duration": 0,
    "start_time": "2022-10-25T21:04:46.694Z"
   },
   {
    "duration": 0,
    "start_time": "2022-10-25T21:04:46.696Z"
   },
   {
    "duration": 2,
    "start_time": "2022-10-25T21:17:15.391Z"
   },
   {
    "duration": 186,
    "start_time": "2022-10-25T21:17:15.395Z"
   },
   {
    "duration": 6,
    "start_time": "2022-10-25T21:17:15.583Z"
   },
   {
    "duration": 32,
    "start_time": "2022-10-25T21:17:15.591Z"
   },
   {
    "duration": 170,
    "start_time": "2022-10-25T21:17:15.625Z"
   },
   {
    "duration": 126,
    "start_time": "2022-10-25T21:17:15.796Z"
   },
   {
    "duration": 6,
    "start_time": "2022-10-25T21:17:15.924Z"
   },
   {
    "duration": 29,
    "start_time": "2022-10-25T21:17:15.932Z"
   },
   {
    "duration": 158,
    "start_time": "2022-10-25T21:17:15.963Z"
   },
   {
    "duration": 90,
    "start_time": "2022-10-25T21:17:16.122Z"
   },
   {
    "duration": 6,
    "start_time": "2022-10-25T21:17:16.213Z"
   },
   {
    "duration": 24,
    "start_time": "2022-10-25T21:17:16.220Z"
   },
   {
    "duration": 17,
    "start_time": "2022-10-25T21:17:16.254Z"
   },
   {
    "duration": 5,
    "start_time": "2022-10-25T21:17:16.274Z"
   },
   {
    "duration": 16,
    "start_time": "2022-10-25T21:17:16.280Z"
   },
   {
    "duration": 33,
    "start_time": "2022-10-25T21:17:16.298Z"
   },
   {
    "duration": 6,
    "start_time": "2022-10-25T21:17:16.333Z"
   },
   {
    "duration": 68,
    "start_time": "2022-10-25T21:17:16.340Z"
   },
   {
    "duration": 82,
    "start_time": "2022-10-25T21:17:16.409Z"
   },
   {
    "duration": 5,
    "start_time": "2022-10-25T21:17:16.493Z"
   },
   {
    "duration": 10,
    "start_time": "2022-10-25T21:17:16.500Z"
   },
   {
    "duration": 76,
    "start_time": "2022-10-25T21:17:16.512Z"
   },
   {
    "duration": 39,
    "start_time": "2022-10-25T21:17:16.590Z"
   },
   {
    "duration": 17,
    "start_time": "2022-10-25T21:17:16.631Z"
   },
   {
    "duration": 6,
    "start_time": "2022-10-25T21:17:16.650Z"
   },
   {
    "duration": 8,
    "start_time": "2022-10-25T21:17:16.657Z"
   },
   {
    "duration": 6,
    "start_time": "2022-10-25T21:17:16.667Z"
   },
   {
    "duration": 6,
    "start_time": "2022-10-25T21:17:16.674Z"
   },
   {
    "duration": 8,
    "start_time": "2022-10-25T21:17:16.681Z"
   },
   {
    "duration": 27,
    "start_time": "2022-10-25T21:17:16.690Z"
   },
   {
    "duration": 6,
    "start_time": "2022-10-25T21:17:16.719Z"
   },
   {
    "duration": 7,
    "start_time": "2022-10-25T21:17:16.726Z"
   },
   {
    "duration": 30,
    "start_time": "2022-10-25T21:17:16.734Z"
   },
   {
    "duration": 0,
    "start_time": "2022-10-25T21:17:16.767Z"
   },
   {
    "duration": 0,
    "start_time": "2022-10-25T21:17:16.768Z"
   },
   {
    "duration": 0,
    "start_time": "2022-10-25T21:17:16.770Z"
   },
   {
    "duration": 0,
    "start_time": "2022-10-25T21:17:16.772Z"
   },
   {
    "duration": 0,
    "start_time": "2022-10-25T21:17:16.773Z"
   },
   {
    "duration": 0,
    "start_time": "2022-10-25T21:17:16.775Z"
   },
   {
    "duration": 0,
    "start_time": "2022-10-25T21:17:16.776Z"
   },
   {
    "duration": 0,
    "start_time": "2022-10-25T21:17:16.778Z"
   },
   {
    "duration": 0,
    "start_time": "2022-10-25T21:17:16.779Z"
   },
   {
    "duration": 0,
    "start_time": "2022-10-25T21:17:16.781Z"
   },
   {
    "duration": 0,
    "start_time": "2022-10-25T21:17:16.783Z"
   },
   {
    "duration": 0,
    "start_time": "2022-10-25T21:17:16.784Z"
   },
   {
    "duration": 0,
    "start_time": "2022-10-25T21:17:16.786Z"
   },
   {
    "duration": 0,
    "start_time": "2022-10-25T21:17:16.788Z"
   },
   {
    "duration": 0,
    "start_time": "2022-10-25T21:17:16.789Z"
   },
   {
    "duration": 0,
    "start_time": "2022-10-25T21:17:16.790Z"
   },
   {
    "duration": 0,
    "start_time": "2022-10-25T21:17:16.792Z"
   },
   {
    "duration": 0,
    "start_time": "2022-10-25T21:17:16.793Z"
   },
   {
    "duration": 0,
    "start_time": "2022-10-25T21:17:16.795Z"
   },
   {
    "duration": 0,
    "start_time": "2022-10-25T21:17:16.797Z"
   },
   {
    "duration": 3,
    "start_time": "2022-10-25T22:35:07.686Z"
   },
   {
    "duration": 176,
    "start_time": "2022-10-25T22:35:07.691Z"
   },
   {
    "duration": 6,
    "start_time": "2022-10-25T22:35:07.869Z"
   },
   {
    "duration": 38,
    "start_time": "2022-10-25T22:35:07.876Z"
   },
   {
    "duration": 150,
    "start_time": "2022-10-25T22:35:08.043Z"
   },
   {
    "duration": 129,
    "start_time": "2022-10-25T22:35:08.195Z"
   },
   {
    "duration": 6,
    "start_time": "2022-10-25T22:35:08.326Z"
   },
   {
    "duration": 35,
    "start_time": "2022-10-25T22:35:08.333Z"
   },
   {
    "duration": 148,
    "start_time": "2022-10-25T22:35:08.371Z"
   },
   {
    "duration": 95,
    "start_time": "2022-10-25T22:35:08.521Z"
   },
   {
    "duration": 6,
    "start_time": "2022-10-25T22:35:08.618Z"
   },
   {
    "duration": 32,
    "start_time": "2022-10-25T22:35:08.625Z"
   },
   {
    "duration": 16,
    "start_time": "2022-10-25T22:35:08.659Z"
   },
   {
    "duration": 6,
    "start_time": "2022-10-25T22:35:08.677Z"
   },
   {
    "duration": 16,
    "start_time": "2022-10-25T22:35:08.685Z"
   },
   {
    "duration": 32,
    "start_time": "2022-10-25T22:35:08.703Z"
   },
   {
    "duration": 7,
    "start_time": "2022-10-25T22:35:08.737Z"
   },
   {
    "duration": 11,
    "start_time": "2022-10-25T22:35:08.748Z"
   },
   {
    "duration": 76,
    "start_time": "2022-10-25T22:35:08.761Z"
   },
   {
    "duration": 16,
    "start_time": "2022-10-25T22:35:08.838Z"
   },
   {
    "duration": 11,
    "start_time": "2022-10-25T22:35:08.856Z"
   },
   {
    "duration": 23,
    "start_time": "2022-10-25T22:35:08.869Z"
   },
   {
    "duration": 14,
    "start_time": "2022-10-25T22:35:08.894Z"
   },
   {
    "duration": 17,
    "start_time": "2022-10-25T22:35:08.910Z"
   },
   {
    "duration": 42,
    "start_time": "2022-10-25T22:35:08.929Z"
   },
   {
    "duration": 6,
    "start_time": "2022-10-25T22:35:08.972Z"
   },
   {
    "duration": 21,
    "start_time": "2022-10-25T22:35:08.979Z"
   },
   {
    "duration": 5,
    "start_time": "2022-10-25T22:35:09.001Z"
   },
   {
    "duration": 17,
    "start_time": "2022-10-25T22:35:09.007Z"
   },
   {
    "duration": 28,
    "start_time": "2022-10-25T22:35:09.026Z"
   },
   {
    "duration": 12,
    "start_time": "2022-10-25T22:35:09.056Z"
   },
   {
    "duration": 7,
    "start_time": "2022-10-25T22:35:09.070Z"
   },
   {
    "duration": 6,
    "start_time": "2022-10-25T22:35:09.079Z"
   },
   {
    "duration": 38,
    "start_time": "2022-10-25T22:35:09.087Z"
   },
   {
    "duration": 9,
    "start_time": "2022-10-25T22:35:09.153Z"
   },
   {
    "duration": 11,
    "start_time": "2022-10-25T22:35:09.164Z"
   },
   {
    "duration": 12,
    "start_time": "2022-10-25T22:35:09.176Z"
   },
   {
    "duration": 13,
    "start_time": "2022-10-25T22:35:09.190Z"
   },
   {
    "duration": 16,
    "start_time": "2022-10-25T22:35:09.204Z"
   },
   {
    "duration": 8,
    "start_time": "2022-10-25T22:35:09.223Z"
   },
   {
    "duration": 9,
    "start_time": "2022-10-25T22:35:09.232Z"
   },
   {
    "duration": 12,
    "start_time": "2022-10-25T22:35:09.243Z"
   },
   {
    "duration": 46,
    "start_time": "2022-10-25T22:35:09.258Z"
   },
   {
    "duration": 847,
    "start_time": "2022-10-25T22:35:09.306Z"
   },
   {
    "duration": 245,
    "start_time": "2022-10-25T22:35:10.155Z"
   },
   {
    "duration": 316,
    "start_time": "2022-10-25T22:35:10.401Z"
   },
   {
    "duration": 229,
    "start_time": "2022-10-25T22:35:10.719Z"
   },
   {
    "duration": 265,
    "start_time": "2022-10-25T22:35:10.949Z"
   },
   {
    "duration": 370,
    "start_time": "2022-10-25T22:35:11.216Z"
   },
   {
    "duration": 391,
    "start_time": "2022-10-25T22:35:11.589Z"
   },
   {
    "duration": 211,
    "start_time": "2022-10-25T22:35:11.982Z"
   },
   {
    "duration": 3,
    "start_time": "2022-10-25T22:35:12.195Z"
   },
   {
    "duration": 5,
    "start_time": "2022-10-25T22:35:12.200Z"
   },
   {
    "duration": 7,
    "start_time": "2022-10-25T22:35:12.207Z"
   },
   {
    "duration": 2,
    "start_time": "2022-10-25T22:44:19.604Z"
   },
   {
    "duration": 167,
    "start_time": "2022-10-25T22:44:19.608Z"
   },
   {
    "duration": 6,
    "start_time": "2022-10-25T22:44:19.777Z"
   },
   {
    "duration": 25,
    "start_time": "2022-10-25T22:44:19.785Z"
   },
   {
    "duration": 176,
    "start_time": "2022-10-25T22:44:19.812Z"
   },
   {
    "duration": 138,
    "start_time": "2022-10-25T22:44:19.990Z"
   },
   {
    "duration": 7,
    "start_time": "2022-10-25T22:44:20.129Z"
   },
   {
    "duration": 34,
    "start_time": "2022-10-25T22:44:20.137Z"
   },
   {
    "duration": 155,
    "start_time": "2022-10-25T22:44:20.174Z"
   },
   {
    "duration": 95,
    "start_time": "2022-10-25T22:44:20.331Z"
   },
   {
    "duration": 6,
    "start_time": "2022-10-25T22:44:20.428Z"
   },
   {
    "duration": 26,
    "start_time": "2022-10-25T22:44:20.436Z"
   },
   {
    "duration": 16,
    "start_time": "2022-10-25T22:44:20.464Z"
   },
   {
    "duration": 5,
    "start_time": "2022-10-25T22:44:20.481Z"
   },
   {
    "duration": 12,
    "start_time": "2022-10-25T22:44:20.488Z"
   },
   {
    "duration": 32,
    "start_time": "2022-10-25T22:44:20.501Z"
   },
   {
    "duration": 7,
    "start_time": "2022-10-25T22:44:20.535Z"
   },
   {
    "duration": 13,
    "start_time": "2022-10-25T22:44:20.543Z"
   },
   {
    "duration": 76,
    "start_time": "2022-10-25T22:44:20.558Z"
   },
   {
    "duration": 5,
    "start_time": "2022-10-25T22:44:20.636Z"
   },
   {
    "duration": 8,
    "start_time": "2022-10-25T22:44:20.654Z"
   },
   {
    "duration": 42,
    "start_time": "2022-10-25T22:44:20.664Z"
   },
   {
    "duration": 16,
    "start_time": "2022-10-25T22:44:20.708Z"
   },
   {
    "duration": 17,
    "start_time": "2022-10-25T22:44:20.728Z"
   },
   {
    "duration": 21,
    "start_time": "2022-10-25T22:44:20.754Z"
   },
   {
    "duration": 5,
    "start_time": "2022-10-25T22:44:20.777Z"
   },
   {
    "duration": 27,
    "start_time": "2022-10-25T22:44:20.784Z"
   },
   {
    "duration": 22,
    "start_time": "2022-10-25T22:44:20.813Z"
   },
   {
    "duration": 20,
    "start_time": "2022-10-25T22:44:20.837Z"
   },
   {
    "duration": 4,
    "start_time": "2022-10-25T22:44:20.859Z"
   },
   {
    "duration": 19,
    "start_time": "2022-10-25T22:44:20.865Z"
   },
   {
    "duration": 7,
    "start_time": "2022-10-25T22:44:20.886Z"
   },
   {
    "duration": 6,
    "start_time": "2022-10-25T22:44:20.894Z"
   },
   {
    "duration": 35,
    "start_time": "2022-10-25T22:44:20.901Z"
   },
   {
    "duration": 7,
    "start_time": "2022-10-25T22:44:20.955Z"
   },
   {
    "duration": 12,
    "start_time": "2022-10-25T22:44:20.964Z"
   },
   {
    "duration": 7,
    "start_time": "2022-10-25T22:44:20.977Z"
   },
   {
    "duration": 12,
    "start_time": "2022-10-25T22:44:20.985Z"
   },
   {
    "duration": 10,
    "start_time": "2022-10-25T22:44:20.998Z"
   },
   {
    "duration": 4,
    "start_time": "2022-10-25T22:44:21.010Z"
   },
   {
    "duration": 8,
    "start_time": "2022-10-25T22:44:21.016Z"
   },
   {
    "duration": 8,
    "start_time": "2022-10-25T22:44:21.026Z"
   },
   {
    "duration": 65,
    "start_time": "2022-10-25T22:44:21.035Z"
   },
   {
    "duration": 330,
    "start_time": "2022-10-25T22:44:21.101Z"
   },
   {
    "duration": 438,
    "start_time": "2022-10-25T22:44:21.433Z"
   },
   {
    "duration": 320,
    "start_time": "2022-10-25T22:44:21.873Z"
   },
   {
    "duration": 228,
    "start_time": "2022-10-25T22:44:22.194Z"
   },
   {
    "duration": 281,
    "start_time": "2022-10-25T22:44:22.424Z"
   },
   {
    "duration": 212,
    "start_time": "2022-10-25T22:44:22.706Z"
   },
   {
    "duration": 287,
    "start_time": "2022-10-25T22:44:22.919Z"
   },
   {
    "duration": 320,
    "start_time": "2022-10-25T22:44:23.208Z"
   },
   {
    "duration": 4,
    "start_time": "2022-10-25T22:44:23.529Z"
   },
   {
    "duration": 44,
    "start_time": "2022-10-25T22:44:23.535Z"
   },
   {
    "duration": 0,
    "start_time": "2022-10-25T22:44:23.580Z"
   },
   {
    "duration": 3,
    "start_time": "2022-10-25T22:48:07.920Z"
   },
   {
    "duration": 166,
    "start_time": "2022-10-25T22:48:07.926Z"
   },
   {
    "duration": 6,
    "start_time": "2022-10-25T22:48:08.094Z"
   },
   {
    "duration": 29,
    "start_time": "2022-10-25T22:48:08.101Z"
   },
   {
    "duration": 169,
    "start_time": "2022-10-25T22:48:08.132Z"
   },
   {
    "duration": 134,
    "start_time": "2022-10-25T22:48:08.303Z"
   },
   {
    "duration": 7,
    "start_time": "2022-10-25T22:48:08.439Z"
   },
   {
    "duration": 26,
    "start_time": "2022-10-25T22:48:08.453Z"
   },
   {
    "duration": 170,
    "start_time": "2022-10-25T22:48:08.481Z"
   },
   {
    "duration": 95,
    "start_time": "2022-10-25T22:48:08.653Z"
   },
   {
    "duration": 7,
    "start_time": "2022-10-25T22:48:08.750Z"
   },
   {
    "duration": 21,
    "start_time": "2022-10-25T22:48:08.759Z"
   },
   {
    "duration": 18,
    "start_time": "2022-10-25T22:48:08.782Z"
   },
   {
    "duration": 5,
    "start_time": "2022-10-25T22:48:08.803Z"
   },
   {
    "duration": 19,
    "start_time": "2022-10-25T22:48:08.810Z"
   },
   {
    "duration": 33,
    "start_time": "2022-10-25T22:48:08.830Z"
   },
   {
    "duration": 6,
    "start_time": "2022-10-25T22:48:08.865Z"
   },
   {
    "duration": 14,
    "start_time": "2022-10-25T22:48:08.872Z"
   },
   {
    "duration": 87,
    "start_time": "2022-10-25T22:48:08.888Z"
   },
   {
    "duration": 5,
    "start_time": "2022-10-25T22:48:08.977Z"
   },
   {
    "duration": 27,
    "start_time": "2022-10-25T22:48:08.984Z"
   },
   {
    "duration": 31,
    "start_time": "2022-10-25T22:48:09.013Z"
   },
   {
    "duration": 14,
    "start_time": "2022-10-25T22:48:09.046Z"
   },
   {
    "duration": 31,
    "start_time": "2022-10-25T22:48:09.062Z"
   },
   {
    "duration": 18,
    "start_time": "2022-10-25T22:48:09.095Z"
   },
   {
    "duration": 6,
    "start_time": "2022-10-25T22:48:09.114Z"
   },
   {
    "duration": 35,
    "start_time": "2022-10-25T22:48:09.121Z"
   },
   {
    "duration": 5,
    "start_time": "2022-10-25T22:48:09.157Z"
   },
   {
    "duration": 27,
    "start_time": "2022-10-25T22:48:09.164Z"
   },
   {
    "duration": 6,
    "start_time": "2022-10-25T22:48:09.193Z"
   },
   {
    "duration": 17,
    "start_time": "2022-10-25T22:48:09.201Z"
   },
   {
    "duration": 6,
    "start_time": "2022-10-25T22:48:09.219Z"
   },
   {
    "duration": 30,
    "start_time": "2022-10-25T22:48:09.226Z"
   },
   {
    "duration": 44,
    "start_time": "2022-10-25T22:48:09.257Z"
   },
   {
    "duration": 7,
    "start_time": "2022-10-25T22:48:09.303Z"
   },
   {
    "duration": 6,
    "start_time": "2022-10-25T22:48:09.312Z"
   },
   {
    "duration": 13,
    "start_time": "2022-10-25T22:48:09.319Z"
   },
   {
    "duration": 14,
    "start_time": "2022-10-25T22:48:09.333Z"
   },
   {
    "duration": 21,
    "start_time": "2022-10-25T22:48:09.348Z"
   },
   {
    "duration": 6,
    "start_time": "2022-10-25T22:48:09.371Z"
   },
   {
    "duration": 6,
    "start_time": "2022-10-25T22:48:09.381Z"
   },
   {
    "duration": 14,
    "start_time": "2022-10-25T22:48:09.389Z"
   },
   {
    "duration": 61,
    "start_time": "2022-10-25T22:48:09.405Z"
   },
   {
    "duration": 321,
    "start_time": "2022-10-25T22:48:09.468Z"
   },
   {
    "duration": 260,
    "start_time": "2022-10-25T22:48:09.791Z"
   },
   {
    "duration": 316,
    "start_time": "2022-10-25T22:48:10.054Z"
   },
   {
    "duration": 355,
    "start_time": "2022-10-25T22:48:10.373Z"
   },
   {
    "duration": 263,
    "start_time": "2022-10-25T22:48:10.729Z"
   },
   {
    "duration": 214,
    "start_time": "2022-10-25T22:48:10.994Z"
   },
   {
    "duration": 353,
    "start_time": "2022-10-25T22:48:11.210Z"
   },
   {
    "duration": 266,
    "start_time": "2022-10-25T22:48:11.565Z"
   },
   {
    "duration": 3,
    "start_time": "2022-10-25T22:48:11.832Z"
   },
   {
    "duration": 702,
    "start_time": "2022-10-25T22:48:11.836Z"
   },
   {
    "duration": 0,
    "start_time": "2022-10-25T22:48:12.540Z"
   },
   {
    "duration": 3,
    "start_time": "2022-10-25T22:52:08.560Z"
   },
   {
    "duration": 183,
    "start_time": "2022-10-25T22:52:08.565Z"
   },
   {
    "duration": 6,
    "start_time": "2022-10-25T22:52:08.754Z"
   },
   {
    "duration": 27,
    "start_time": "2022-10-25T22:52:08.762Z"
   },
   {
    "duration": 173,
    "start_time": "2022-10-25T22:52:08.791Z"
   },
   {
    "duration": 133,
    "start_time": "2022-10-25T22:52:08.965Z"
   },
   {
    "duration": 6,
    "start_time": "2022-10-25T22:52:09.100Z"
   },
   {
    "duration": 27,
    "start_time": "2022-10-25T22:52:09.108Z"
   },
   {
    "duration": 287,
    "start_time": "2022-10-25T22:52:09.136Z"
   },
   {
    "duration": 94,
    "start_time": "2022-10-25T22:52:09.425Z"
   },
   {
    "duration": 5,
    "start_time": "2022-10-25T22:52:09.521Z"
   },
   {
    "duration": 29,
    "start_time": "2022-10-25T22:52:09.527Z"
   },
   {
    "duration": 16,
    "start_time": "2022-10-25T22:52:09.559Z"
   },
   {
    "duration": 6,
    "start_time": "2022-10-25T22:52:09.576Z"
   },
   {
    "duration": 12,
    "start_time": "2022-10-25T22:52:09.583Z"
   },
   {
    "duration": 43,
    "start_time": "2022-10-25T22:52:09.597Z"
   },
   {
    "duration": 8,
    "start_time": "2022-10-25T22:52:09.641Z"
   },
   {
    "duration": 14,
    "start_time": "2022-10-25T22:52:09.650Z"
   },
   {
    "duration": 82,
    "start_time": "2022-10-25T22:52:09.666Z"
   },
   {
    "duration": 6,
    "start_time": "2022-10-25T22:52:09.755Z"
   },
   {
    "duration": 10,
    "start_time": "2022-10-25T22:52:09.763Z"
   },
   {
    "duration": 23,
    "start_time": "2022-10-25T22:52:09.775Z"
   },
   {
    "duration": 15,
    "start_time": "2022-10-25T22:52:09.800Z"
   },
   {
    "duration": 43,
    "start_time": "2022-10-25T22:52:09.817Z"
   },
   {
    "duration": 18,
    "start_time": "2022-10-25T22:52:09.862Z"
   },
   {
    "duration": 5,
    "start_time": "2022-10-25T22:52:09.882Z"
   },
   {
    "duration": 21,
    "start_time": "2022-10-25T22:52:09.888Z"
   },
   {
    "duration": 5,
    "start_time": "2022-10-25T22:52:09.911Z"
   },
   {
    "duration": 41,
    "start_time": "2022-10-25T22:52:09.917Z"
   },
   {
    "duration": 20,
    "start_time": "2022-10-25T22:52:09.960Z"
   },
   {
    "duration": 26,
    "start_time": "2022-10-25T22:52:09.982Z"
   },
   {
    "duration": 13,
    "start_time": "2022-10-25T22:52:10.010Z"
   },
   {
    "duration": 22,
    "start_time": "2022-10-25T22:52:10.025Z"
   },
   {
    "duration": 53,
    "start_time": "2022-10-25T22:52:10.049Z"
   },
   {
    "duration": 7,
    "start_time": "2022-10-25T22:52:10.103Z"
   },
   {
    "duration": 15,
    "start_time": "2022-10-25T22:52:10.112Z"
   },
   {
    "duration": 11,
    "start_time": "2022-10-25T22:52:10.130Z"
   },
   {
    "duration": 25,
    "start_time": "2022-10-25T22:52:10.143Z"
   },
   {
    "duration": 19,
    "start_time": "2022-10-25T22:52:10.170Z"
   },
   {
    "duration": 26,
    "start_time": "2022-10-25T22:52:10.191Z"
   },
   {
    "duration": 29,
    "start_time": "2022-10-25T22:52:10.218Z"
   },
   {
    "duration": 16,
    "start_time": "2022-10-25T22:52:10.248Z"
   },
   {
    "duration": 81,
    "start_time": "2022-10-25T22:52:10.266Z"
   },
   {
    "duration": 310,
    "start_time": "2022-10-25T22:52:10.349Z"
   },
   {
    "duration": 267,
    "start_time": "2022-10-25T22:52:10.660Z"
   },
   {
    "duration": 321,
    "start_time": "2022-10-25T22:52:10.929Z"
   },
   {
    "duration": 249,
    "start_time": "2022-10-25T22:52:11.254Z"
   },
   {
    "duration": 357,
    "start_time": "2022-10-25T22:52:11.505Z"
   },
   {
    "duration": 321,
    "start_time": "2022-10-25T22:52:11.864Z"
   },
   {
    "duration": 307,
    "start_time": "2022-10-25T22:52:12.187Z"
   },
   {
    "duration": 212,
    "start_time": "2022-10-25T22:52:12.496Z"
   },
   {
    "duration": 3,
    "start_time": "2022-10-25T22:52:12.710Z"
   },
   {
    "duration": 16,
    "start_time": "2022-10-25T22:52:12.715Z"
   },
   {
    "duration": 6,
    "start_time": "2022-10-25T22:52:12.732Z"
   },
   {
    "duration": 3,
    "start_time": "2022-10-25T22:53:50.138Z"
   },
   {
    "duration": 178,
    "start_time": "2022-10-25T22:53:50.143Z"
   },
   {
    "duration": 6,
    "start_time": "2022-10-25T22:53:50.323Z"
   },
   {
    "duration": 38,
    "start_time": "2022-10-25T22:53:50.331Z"
   },
   {
    "duration": 165,
    "start_time": "2022-10-25T22:53:50.371Z"
   },
   {
    "duration": 153,
    "start_time": "2022-10-25T22:53:50.537Z"
   },
   {
    "duration": 9,
    "start_time": "2022-10-25T22:53:50.692Z"
   },
   {
    "duration": 47,
    "start_time": "2022-10-25T22:53:50.703Z"
   },
   {
    "duration": 161,
    "start_time": "2022-10-25T22:53:50.752Z"
   },
   {
    "duration": 89,
    "start_time": "2022-10-25T22:53:50.914Z"
   },
   {
    "duration": 7,
    "start_time": "2022-10-25T22:53:51.004Z"
   },
   {
    "duration": 21,
    "start_time": "2022-10-25T22:53:51.013Z"
   },
   {
    "duration": 21,
    "start_time": "2022-10-25T22:53:51.036Z"
   },
   {
    "duration": 6,
    "start_time": "2022-10-25T22:53:51.061Z"
   },
   {
    "duration": 15,
    "start_time": "2022-10-25T22:53:51.069Z"
   },
   {
    "duration": 36,
    "start_time": "2022-10-25T22:53:51.086Z"
   },
   {
    "duration": 7,
    "start_time": "2022-10-25T22:53:51.124Z"
   },
   {
    "duration": 15,
    "start_time": "2022-10-25T22:53:51.133Z"
   },
   {
    "duration": 80,
    "start_time": "2022-10-25T22:53:51.150Z"
   },
   {
    "duration": 6,
    "start_time": "2022-10-25T22:53:51.232Z"
   },
   {
    "duration": 16,
    "start_time": "2022-10-25T22:53:51.240Z"
   },
   {
    "duration": 38,
    "start_time": "2022-10-25T22:53:51.258Z"
   },
   {
    "duration": 16,
    "start_time": "2022-10-25T22:53:51.298Z"
   },
   {
    "duration": 18,
    "start_time": "2022-10-25T22:53:51.316Z"
   },
   {
    "duration": 31,
    "start_time": "2022-10-25T22:53:51.335Z"
   },
   {
    "duration": 9,
    "start_time": "2022-10-25T22:53:51.381Z"
   },
   {
    "duration": 39,
    "start_time": "2022-10-25T22:53:51.391Z"
   },
   {
    "duration": 6,
    "start_time": "2022-10-25T22:53:51.432Z"
   },
   {
    "duration": 25,
    "start_time": "2022-10-25T22:53:51.440Z"
   },
   {
    "duration": 6,
    "start_time": "2022-10-25T22:53:51.467Z"
   },
   {
    "duration": 22,
    "start_time": "2022-10-25T22:53:51.475Z"
   },
   {
    "duration": 8,
    "start_time": "2022-10-25T22:53:51.499Z"
   },
   {
    "duration": 14,
    "start_time": "2022-10-25T22:53:51.509Z"
   },
   {
    "duration": 56,
    "start_time": "2022-10-25T22:53:51.525Z"
   },
   {
    "duration": 10,
    "start_time": "2022-10-25T22:53:51.583Z"
   },
   {
    "duration": 12,
    "start_time": "2022-10-25T22:53:51.594Z"
   },
   {
    "duration": 10,
    "start_time": "2022-10-25T22:53:51.609Z"
   },
   {
    "duration": 15,
    "start_time": "2022-10-25T22:53:51.621Z"
   },
   {
    "duration": 27,
    "start_time": "2022-10-25T22:53:51.638Z"
   },
   {
    "duration": 19,
    "start_time": "2022-10-25T22:53:51.667Z"
   },
   {
    "duration": 8,
    "start_time": "2022-10-25T22:53:51.691Z"
   },
   {
    "duration": 21,
    "start_time": "2022-10-25T22:53:51.700Z"
   },
   {
    "duration": 63,
    "start_time": "2022-10-25T22:53:51.723Z"
   },
   {
    "duration": 309,
    "start_time": "2022-10-25T22:53:51.788Z"
   },
   {
    "duration": 378,
    "start_time": "2022-10-25T22:53:52.098Z"
   },
   {
    "duration": 320,
    "start_time": "2022-10-25T22:53:52.478Z"
   },
   {
    "duration": 221,
    "start_time": "2022-10-25T22:53:52.800Z"
   },
   {
    "duration": 256,
    "start_time": "2022-10-25T22:53:53.023Z"
   },
   {
    "duration": 200,
    "start_time": "2022-10-25T22:53:53.280Z"
   },
   {
    "duration": 308,
    "start_time": "2022-10-25T22:53:53.482Z"
   },
   {
    "duration": 347,
    "start_time": "2022-10-25T22:53:53.792Z"
   },
   {
    "duration": 3,
    "start_time": "2022-10-25T22:53:54.140Z"
   },
   {
    "duration": 51,
    "start_time": "2022-10-25T22:53:54.153Z"
   },
   {
    "duration": 0,
    "start_time": "2022-10-25T22:53:54.206Z"
   },
   {
    "duration": 3,
    "start_time": "2022-10-25T22:54:15.364Z"
   },
   {
    "duration": 194,
    "start_time": "2022-10-25T22:54:15.370Z"
   },
   {
    "duration": 8,
    "start_time": "2022-10-25T22:54:15.567Z"
   },
   {
    "duration": 35,
    "start_time": "2022-10-25T22:54:15.578Z"
   },
   {
    "duration": 182,
    "start_time": "2022-10-25T22:54:15.615Z"
   },
   {
    "duration": 134,
    "start_time": "2022-10-25T22:54:15.799Z"
   },
   {
    "duration": 6,
    "start_time": "2022-10-25T22:54:15.935Z"
   },
   {
    "duration": 29,
    "start_time": "2022-10-25T22:54:15.943Z"
   },
   {
    "duration": 163,
    "start_time": "2022-10-25T22:54:15.974Z"
   },
   {
    "duration": 92,
    "start_time": "2022-10-25T22:54:16.140Z"
   },
   {
    "duration": 6,
    "start_time": "2022-10-25T22:54:16.234Z"
   },
   {
    "duration": 26,
    "start_time": "2022-10-25T22:54:16.241Z"
   },
   {
    "duration": 22,
    "start_time": "2022-10-25T22:54:16.268Z"
   },
   {
    "duration": 6,
    "start_time": "2022-10-25T22:54:16.291Z"
   },
   {
    "duration": 13,
    "start_time": "2022-10-25T22:54:16.298Z"
   },
   {
    "duration": 32,
    "start_time": "2022-10-25T22:54:16.314Z"
   },
   {
    "duration": 6,
    "start_time": "2022-10-25T22:54:16.348Z"
   },
   {
    "duration": 16,
    "start_time": "2022-10-25T22:54:16.356Z"
   },
   {
    "duration": 82,
    "start_time": "2022-10-25T22:54:16.374Z"
   },
   {
    "duration": 5,
    "start_time": "2022-10-25T22:54:16.458Z"
   },
   {
    "duration": 10,
    "start_time": "2022-10-25T22:54:16.465Z"
   },
   {
    "duration": 24,
    "start_time": "2022-10-25T22:54:16.477Z"
   },
   {
    "duration": 17,
    "start_time": "2022-10-25T22:54:16.502Z"
   },
   {
    "duration": 42,
    "start_time": "2022-10-25T22:54:16.520Z"
   },
   {
    "duration": 27,
    "start_time": "2022-10-25T22:54:16.564Z"
   },
   {
    "duration": 5,
    "start_time": "2022-10-25T22:54:16.594Z"
   },
   {
    "duration": 32,
    "start_time": "2022-10-25T22:54:16.601Z"
   },
   {
    "duration": 6,
    "start_time": "2022-10-25T22:54:16.653Z"
   },
   {
    "duration": 29,
    "start_time": "2022-10-25T22:54:16.660Z"
   },
   {
    "duration": 6,
    "start_time": "2022-10-25T22:54:16.691Z"
   },
   {
    "duration": 20,
    "start_time": "2022-10-25T22:54:16.699Z"
   },
   {
    "duration": 7,
    "start_time": "2022-10-25T22:54:16.721Z"
   },
   {
    "duration": 25,
    "start_time": "2022-10-25T22:54:16.730Z"
   },
   {
    "duration": 50,
    "start_time": "2022-10-25T22:54:16.757Z"
   },
   {
    "duration": 9,
    "start_time": "2022-10-25T22:54:16.809Z"
   },
   {
    "duration": 10,
    "start_time": "2022-10-25T22:54:16.820Z"
   },
   {
    "duration": 4,
    "start_time": "2022-10-25T22:54:16.832Z"
   },
   {
    "duration": 23,
    "start_time": "2022-10-25T22:54:16.838Z"
   },
   {
    "duration": 10,
    "start_time": "2022-10-25T22:54:16.863Z"
   },
   {
    "duration": 6,
    "start_time": "2022-10-25T22:54:16.875Z"
   },
   {
    "duration": 10,
    "start_time": "2022-10-25T22:54:16.882Z"
   },
   {
    "duration": 7,
    "start_time": "2022-10-25T22:54:16.894Z"
   },
   {
    "duration": 73,
    "start_time": "2022-10-25T22:54:16.903Z"
   },
   {
    "duration": 348,
    "start_time": "2022-10-25T22:54:16.978Z"
   },
   {
    "duration": 286,
    "start_time": "2022-10-25T22:54:17.328Z"
   },
   {
    "duration": 332,
    "start_time": "2022-10-25T22:54:17.616Z"
   },
   {
    "duration": 225,
    "start_time": "2022-10-25T22:54:17.949Z"
   },
   {
    "duration": 268,
    "start_time": "2022-10-25T22:54:18.176Z"
   },
   {
    "duration": 354,
    "start_time": "2022-10-25T22:54:18.446Z"
   },
   {
    "duration": 316,
    "start_time": "2022-10-25T22:54:18.801Z"
   },
   {
    "duration": 224,
    "start_time": "2022-10-25T22:54:19.119Z"
   },
   {
    "duration": 10,
    "start_time": "2022-10-25T22:54:19.344Z"
   },
   {
    "duration": 9,
    "start_time": "2022-10-25T22:54:19.355Z"
   },
   {
    "duration": 7,
    "start_time": "2022-10-25T22:54:19.366Z"
   },
   {
    "duration": 2,
    "start_time": "2022-10-25T22:58:59.953Z"
   },
   {
    "duration": 181,
    "start_time": "2022-10-25T22:58:59.957Z"
   },
   {
    "duration": 17,
    "start_time": "2022-10-25T22:59:00.140Z"
   },
   {
    "duration": 35,
    "start_time": "2022-10-25T22:59:00.159Z"
   },
   {
    "duration": 175,
    "start_time": "2022-10-25T22:59:00.197Z"
   },
   {
    "duration": 133,
    "start_time": "2022-10-25T22:59:00.374Z"
   },
   {
    "duration": 6,
    "start_time": "2022-10-25T22:59:00.509Z"
   },
   {
    "duration": 45,
    "start_time": "2022-10-25T22:59:00.517Z"
   },
   {
    "duration": 166,
    "start_time": "2022-10-25T22:59:00.564Z"
   },
   {
    "duration": 99,
    "start_time": "2022-10-25T22:59:00.732Z"
   },
   {
    "duration": 6,
    "start_time": "2022-10-25T22:59:00.834Z"
   },
   {
    "duration": 64,
    "start_time": "2022-10-25T22:59:00.841Z"
   },
   {
    "duration": 38,
    "start_time": "2022-10-25T22:59:00.908Z"
   },
   {
    "duration": 17,
    "start_time": "2022-10-25T22:59:00.948Z"
   },
   {
    "duration": 42,
    "start_time": "2022-10-25T22:59:00.967Z"
   },
   {
    "duration": 59,
    "start_time": "2022-10-25T22:59:01.011Z"
   },
   {
    "duration": 7,
    "start_time": "2022-10-25T22:59:01.071Z"
   },
   {
    "duration": 23,
    "start_time": "2022-10-25T22:59:01.080Z"
   },
   {
    "duration": 96,
    "start_time": "2022-10-25T22:59:01.105Z"
   },
   {
    "duration": 6,
    "start_time": "2022-10-25T22:59:01.203Z"
   },
   {
    "duration": 33,
    "start_time": "2022-10-25T22:59:01.211Z"
   },
   {
    "duration": 37,
    "start_time": "2022-10-25T22:59:01.245Z"
   },
   {
    "duration": 17,
    "start_time": "2022-10-25T22:59:01.284Z"
   },
   {
    "duration": 31,
    "start_time": "2022-10-25T22:59:01.303Z"
   },
   {
    "duration": 23,
    "start_time": "2022-10-25T22:59:01.336Z"
   },
   {
    "duration": 39,
    "start_time": "2022-10-25T22:59:01.361Z"
   },
   {
    "duration": 55,
    "start_time": "2022-10-25T22:59:01.402Z"
   },
   {
    "duration": 13,
    "start_time": "2022-10-25T22:59:01.460Z"
   },
   {
    "duration": 32,
    "start_time": "2022-10-25T22:59:01.478Z"
   },
   {
    "duration": 33,
    "start_time": "2022-10-25T22:59:01.513Z"
   },
   {
    "duration": 30,
    "start_time": "2022-10-25T22:59:01.548Z"
   },
   {
    "duration": 13,
    "start_time": "2022-10-25T22:59:01.581Z"
   },
   {
    "duration": 24,
    "start_time": "2022-10-25T22:59:01.596Z"
   },
   {
    "duration": 58,
    "start_time": "2022-10-25T22:59:01.622Z"
   },
   {
    "duration": 10,
    "start_time": "2022-10-25T22:59:01.682Z"
   },
   {
    "duration": 20,
    "start_time": "2022-10-25T22:59:01.694Z"
   },
   {
    "duration": 18,
    "start_time": "2022-10-25T22:59:01.716Z"
   },
   {
    "duration": 36,
    "start_time": "2022-10-25T22:59:01.736Z"
   },
   {
    "duration": 18,
    "start_time": "2022-10-25T22:59:01.774Z"
   },
   {
    "duration": 25,
    "start_time": "2022-10-25T22:59:01.794Z"
   },
   {
    "duration": 38,
    "start_time": "2022-10-25T22:59:01.821Z"
   },
   {
    "duration": 29,
    "start_time": "2022-10-25T22:59:01.861Z"
   },
   {
    "duration": 73,
    "start_time": "2022-10-25T22:59:01.891Z"
   },
   {
    "duration": 313,
    "start_time": "2022-10-25T22:59:01.967Z"
   },
   {
    "duration": 375,
    "start_time": "2022-10-25T22:59:02.282Z"
   },
   {
    "duration": 331,
    "start_time": "2022-10-25T22:59:02.660Z"
   },
   {
    "duration": 221,
    "start_time": "2022-10-25T22:59:02.993Z"
   },
   {
    "duration": 260,
    "start_time": "2022-10-25T22:59:03.216Z"
   },
   {
    "duration": 212,
    "start_time": "2022-10-25T22:59:03.477Z"
   },
   {
    "duration": 322,
    "start_time": "2022-10-25T22:59:03.691Z"
   },
   {
    "duration": 226,
    "start_time": "2022-10-25T22:59:04.015Z"
   },
   {
    "duration": 3,
    "start_time": "2022-10-25T22:59:04.242Z"
   },
   {
    "duration": 53,
    "start_time": "2022-10-25T22:59:04.246Z"
   },
   {
    "duration": 0,
    "start_time": "2022-10-25T22:59:04.300Z"
   },
   {
    "duration": 2,
    "start_time": "2022-10-25T23:10:10.774Z"
   },
   {
    "duration": 170,
    "start_time": "2022-10-25T23:10:10.779Z"
   },
   {
    "duration": 6,
    "start_time": "2022-10-25T23:10:10.951Z"
   },
   {
    "duration": 30,
    "start_time": "2022-10-25T23:10:10.959Z"
   },
   {
    "duration": 317,
    "start_time": "2022-10-25T23:10:10.991Z"
   },
   {
    "duration": 144,
    "start_time": "2022-10-25T23:10:11.310Z"
   },
   {
    "duration": 9,
    "start_time": "2022-10-25T23:10:11.456Z"
   },
   {
    "duration": 39,
    "start_time": "2022-10-25T23:10:11.466Z"
   },
   {
    "duration": 216,
    "start_time": "2022-10-25T23:10:11.509Z"
   },
   {
    "duration": 106,
    "start_time": "2022-10-25T23:10:11.727Z"
   },
   {
    "duration": 20,
    "start_time": "2022-10-25T23:10:11.834Z"
   },
   {
    "duration": 19,
    "start_time": "2022-10-25T23:10:11.856Z"
   },
   {
    "duration": 29,
    "start_time": "2022-10-25T23:10:11.877Z"
   },
   {
    "duration": 5,
    "start_time": "2022-10-25T23:10:11.907Z"
   },
   {
    "duration": 13,
    "start_time": "2022-10-25T23:10:11.914Z"
   },
   {
    "duration": 33,
    "start_time": "2022-10-25T23:10:11.928Z"
   },
   {
    "duration": 7,
    "start_time": "2022-10-25T23:10:11.962Z"
   },
   {
    "duration": 17,
    "start_time": "2022-10-25T23:10:11.970Z"
   },
   {
    "duration": 76,
    "start_time": "2022-10-25T23:10:11.989Z"
   },
   {
    "duration": 4,
    "start_time": "2022-10-25T23:10:12.068Z"
   },
   {
    "duration": 9,
    "start_time": "2022-10-25T23:10:12.074Z"
   },
   {
    "duration": 23,
    "start_time": "2022-10-25T23:10:12.085Z"
   },
   {
    "duration": 16,
    "start_time": "2022-10-25T23:10:12.110Z"
   },
   {
    "duration": 36,
    "start_time": "2022-10-25T23:10:12.130Z"
   },
   {
    "duration": 25,
    "start_time": "2022-10-25T23:10:12.168Z"
   },
   {
    "duration": 5,
    "start_time": "2022-10-25T23:10:12.194Z"
   },
   {
    "duration": 35,
    "start_time": "2022-10-25T23:10:12.201Z"
   },
   {
    "duration": 21,
    "start_time": "2022-10-25T23:10:12.238Z"
   },
   {
    "duration": 21,
    "start_time": "2022-10-25T23:10:12.261Z"
   },
   {
    "duration": 8,
    "start_time": "2022-10-25T23:10:12.284Z"
   },
   {
    "duration": 20,
    "start_time": "2022-10-25T23:10:12.293Z"
   },
   {
    "duration": 5,
    "start_time": "2022-10-25T23:10:12.315Z"
   },
   {
    "duration": 11,
    "start_time": "2022-10-25T23:10:12.322Z"
   },
   {
    "duration": 52,
    "start_time": "2022-10-25T23:10:12.335Z"
   },
   {
    "duration": 7,
    "start_time": "2022-10-25T23:10:12.389Z"
   },
   {
    "duration": 8,
    "start_time": "2022-10-25T23:10:12.397Z"
   },
   {
    "duration": 9,
    "start_time": "2022-10-25T23:10:12.407Z"
   },
   {
    "duration": 10,
    "start_time": "2022-10-25T23:10:12.417Z"
   },
   {
    "duration": 30,
    "start_time": "2022-10-25T23:10:12.428Z"
   },
   {
    "duration": 5,
    "start_time": "2022-10-25T23:10:12.460Z"
   },
   {
    "duration": 10,
    "start_time": "2022-10-25T23:10:12.466Z"
   },
   {
    "duration": 10,
    "start_time": "2022-10-25T23:10:12.477Z"
   },
   {
    "duration": 68,
    "start_time": "2022-10-25T23:10:12.489Z"
   },
   {
    "duration": 306,
    "start_time": "2022-10-25T23:10:12.559Z"
   },
   {
    "duration": 247,
    "start_time": "2022-10-25T23:10:12.867Z"
   },
   {
    "duration": 313,
    "start_time": "2022-10-25T23:10:13.116Z"
   },
   {
    "duration": 234,
    "start_time": "2022-10-25T23:10:13.431Z"
   },
   {
    "duration": 263,
    "start_time": "2022-10-25T23:10:13.667Z"
   },
   {
    "duration": 334,
    "start_time": "2022-10-25T23:10:13.931Z"
   },
   {
    "duration": 298,
    "start_time": "2022-10-25T23:10:14.268Z"
   },
   {
    "duration": 211,
    "start_time": "2022-10-25T23:10:14.568Z"
   },
   {
    "duration": 3,
    "start_time": "2022-10-25T23:10:14.781Z"
   },
   {
    "duration": 14,
    "start_time": "2022-10-25T23:10:14.786Z"
   },
   {
    "duration": 14,
    "start_time": "2022-10-25T23:10:14.802Z"
   }
  ],
  "kernelspec": {
   "display_name": "Python 3 (ipykernel)",
   "language": "python",
   "name": "python3"
  },
  "language_info": {
   "codemirror_mode": {
    "name": "ipython",
    "version": 3
   },
   "file_extension": ".py",
   "mimetype": "text/x-python",
   "name": "python",
   "nbconvert_exporter": "python",
   "pygments_lexer": "ipython3",
   "version": "3.9.5"
  },
  "toc": {
   "base_numbering": 1,
   "nav_menu": {},
   "number_sections": true,
   "sideBar": true,
   "skip_h1_title": true,
   "title_cell": "Table of Contents",
   "title_sidebar": "Contents",
   "toc_cell": false,
   "toc_position": {},
   "toc_section_display": true,
   "toc_window_display": false
  }
 },
 "nbformat": 4,
 "nbformat_minor": 2
}
