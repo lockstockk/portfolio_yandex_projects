{
 "cells": [
  {
   "cell_type": "markdown",
   "metadata": {},
   "source": [
    "# Исследование объявлений о продаже квартир\n",
    "\n",
    "В вашем распоряжении данные сервиса Яндекс.Недвижимость — архив объявлений о продаже квартир в Санкт-Петербурге и соседних населённых пунктов за несколько лет. Нужно научиться определять рыночную стоимость объектов недвижимости. Ваша задача — установить параметры. Это позволит построить автоматизированную систему: она отследит аномалии и мошенническую деятельность. \n",
    "\n",
    "По каждой квартире на продажу доступны два вида данных. Первые вписаны пользователем, вторые — получены автоматически на основе картографических данных. Например, расстояние до центра, аэропорта, ближайшего парка и водоёма. \n",
    "\n",
    "Описание данных\n",
    "\n",
    "airports_nearest — расстояние до ближайшего аэропорта в метрах (м)  \n",
    "balcony — число балконов  \n",
    "ceiling_height — высота потолков (м)  \n",
    "cityCenters_nearest — расстояние до центра города (м)  \n",
    "days_exposition — сколько дней было размещено объявление (от публикации до снятия)  \n",
    "first_day_exposition — дата публикации  \n",
    "floor — этаж  \n",
    "floors_total — всего этажей в доме  \n",
    "is_apartment — апартаменты (булев тип)  \n",
    "kitchen_area — площадь кухни в квадратных метрах (м²)  \n",
    "last_price — цена на момент снятия с публикации  \n",
    "living_area — жилая площадь в квадратных метрах (м²)  \n",
    "locality_name — название населённого пункта  \n",
    "open_plan — свободная планировка (булев тип)  \n",
    "parks_around3000 — число парков в радиусе 3 км  \n",
    "parks_nearest — расстояние до ближайшего парка (м)  \n",
    "ponds_around3000 — число водоёмов в радиусе 3 км  \n",
    "ponds_nearest — расстояние до ближайшего водоёма (м)  \n",
    "rooms — число комнат  \n",
    "studio — квартира-студия (булев тип)  \n",
    "total_area — площадь квартиры в квадратных метрах (м²)  \n",
    "total_images — число фотографий квартиры в объявлении  "
   ]
  },
  {
   "cell_type": "markdown",
   "metadata": {},
   "source": [
    "### Открываем файл с данными и изучите общую информацию. "
   ]
  },
  {
   "cell_type": "code",
   "execution_count": 63,
   "metadata": {},
   "outputs": [
    {
     "name": "stdout",
     "output_type": "stream",
     "text": [
      "<class 'pandas.core.frame.DataFrame'>\n",
      "RangeIndex: 23699 entries, 0 to 23698\n",
      "Data columns (total 22 columns):\n",
      " #   Column                Non-Null Count  Dtype  \n",
      "---  ------                --------------  -----  \n",
      " 0   total_images          23699 non-null  int64  \n",
      " 1   last_price            23699 non-null  float64\n",
      " 2   total_area            23699 non-null  float64\n",
      " 3   first_day_exposition  23699 non-null  object \n",
      " 4   rooms                 23699 non-null  int64  \n",
      " 5   ceiling_height        14504 non-null  float64\n",
      " 6   floors_total          23613 non-null  float64\n",
      " 7   living_area           21796 non-null  float64\n",
      " 8   floor                 23699 non-null  int64  \n",
      " 9   is_apartment          2775 non-null   object \n",
      " 10  studio                23699 non-null  bool   \n",
      " 11  open_plan             23699 non-null  bool   \n",
      " 12  kitchen_area          21421 non-null  float64\n",
      " 13  balcony               12180 non-null  float64\n",
      " 14  locality_name         23650 non-null  object \n",
      " 15  airports_nearest      18157 non-null  float64\n",
      " 16  cityCenters_nearest   18180 non-null  float64\n",
      " 17  parks_around3000      18181 non-null  float64\n",
      " 18  parks_nearest         8079 non-null   float64\n",
      " 19  ponds_around3000      18181 non-null  float64\n",
      " 20  ponds_nearest         9110 non-null   float64\n",
      " 21  days_exposition       20518 non-null  float64\n",
      "dtypes: bool(2), float64(14), int64(3), object(3)\n",
      "memory usage: 3.7+ MB\n",
      "   total_images  last_price  total_area first_day_exposition  rooms  \\\n",
      "0            20  13000000.0      108.00  2019-03-07T00:00:00      3   \n",
      "1             7   3350000.0       40.40  2018-12-04T00:00:00      1   \n",
      "2            10   5196000.0       56.00  2015-08-20T00:00:00      2   \n",
      "3             0  64900000.0      159.00  2015-07-24T00:00:00      3   \n",
      "4             2  10000000.0      100.00  2018-06-19T00:00:00      2   \n",
      "5            10   2890000.0       30.40  2018-09-10T00:00:00      1   \n",
      "6             6   3700000.0       37.30  2017-11-02T00:00:00      1   \n",
      "7             5   7915000.0       71.60  2019-04-18T00:00:00      2   \n",
      "8            20   2900000.0       33.16  2018-05-23T00:00:00      1   \n",
      "9            18   5400000.0       61.00  2017-02-26T00:00:00      3   \n",
      "\n",
      "   ceiling_height  floors_total  living_area  floor is_apartment  ...  \\\n",
      "0            2.70          16.0        51.00      8          NaN  ...   \n",
      "1             NaN          11.0        18.60      1          NaN  ...   \n",
      "2             NaN           5.0        34.30      4          NaN  ...   \n",
      "3             NaN          14.0          NaN      9          NaN  ...   \n",
      "4            3.03          14.0        32.00     13          NaN  ...   \n",
      "5             NaN          12.0        14.40      5          NaN  ...   \n",
      "6             NaN          26.0        10.60      6          NaN  ...   \n",
      "7             NaN          24.0          NaN     22          NaN  ...   \n",
      "8             NaN          27.0        15.43     26          NaN  ...   \n",
      "9            2.50           9.0        43.60      7          NaN  ...   \n",
      "\n",
      "   kitchen_area  balcony              locality_name  airports_nearest  \\\n",
      "0         25.00      NaN            Санкт-Петербург           18863.0   \n",
      "1         11.00      2.0             посёлок Шушары           12817.0   \n",
      "2          8.30      0.0            Санкт-Петербург           21741.0   \n",
      "3           NaN      0.0            Санкт-Петербург           28098.0   \n",
      "4         41.00      NaN            Санкт-Петербург           31856.0   \n",
      "5          9.10      NaN  городской посёлок Янино-1               NaN   \n",
      "6         14.40      1.0          посёлок Парголово           52996.0   \n",
      "7         18.90      2.0            Санкт-Петербург           23982.0   \n",
      "8          8.81      NaN             посёлок Мурино               NaN   \n",
      "9          6.50      2.0            Санкт-Петербург           50898.0   \n",
      "\n",
      "  cityCenters_nearest  parks_around3000  parks_nearest  ponds_around3000  \\\n",
      "0             16028.0               1.0          482.0               2.0   \n",
      "1             18603.0               0.0            NaN               0.0   \n",
      "2             13933.0               1.0           90.0               2.0   \n",
      "3              6800.0               2.0           84.0               3.0   \n",
      "4              8098.0               2.0          112.0               1.0   \n",
      "5                 NaN               NaN            NaN               NaN   \n",
      "6             19143.0               0.0            NaN               0.0   \n",
      "7             11634.0               0.0            NaN               0.0   \n",
      "8                 NaN               NaN            NaN               NaN   \n",
      "9             15008.0               0.0            NaN               0.0   \n",
      "\n",
      "   ponds_nearest  days_exposition  \n",
      "0          755.0              NaN  \n",
      "1            NaN             81.0  \n",
      "2          574.0            558.0  \n",
      "3          234.0            424.0  \n",
      "4           48.0            121.0  \n",
      "5            NaN             55.0  \n",
      "6            NaN            155.0  \n",
      "7            NaN              NaN  \n",
      "8            NaN            189.0  \n",
      "9            NaN            289.0  \n",
      "\n",
      "[10 rows x 22 columns]\n"
     ]
    },
    {
     "data": {
      "text/plain": [
       "array([[<AxesSubplot:title={'center':'total_images'}>,\n",
       "        <AxesSubplot:title={'center':'last_price'}>,\n",
       "        <AxesSubplot:title={'center':'total_area'}>,\n",
       "        <AxesSubplot:title={'center':'rooms'}>],\n",
       "       [<AxesSubplot:title={'center':'ceiling_height'}>,\n",
       "        <AxesSubplot:title={'center':'floors_total'}>,\n",
       "        <AxesSubplot:title={'center':'living_area'}>,\n",
       "        <AxesSubplot:title={'center':'floor'}>],\n",
       "       [<AxesSubplot:title={'center':'kitchen_area'}>,\n",
       "        <AxesSubplot:title={'center':'balcony'}>,\n",
       "        <AxesSubplot:title={'center':'airports_nearest'}>,\n",
       "        <AxesSubplot:title={'center':'cityCenters_nearest'}>],\n",
       "       [<AxesSubplot:title={'center':'parks_around3000'}>,\n",
       "        <AxesSubplot:title={'center':'parks_nearest'}>,\n",
       "        <AxesSubplot:title={'center':'ponds_around3000'}>,\n",
       "        <AxesSubplot:title={'center':'ponds_nearest'}>],\n",
       "       [<AxesSubplot:title={'center':'days_exposition'}>, <AxesSubplot:>,\n",
       "        <AxesSubplot:>, <AxesSubplot:>]], dtype=object)"
      ]
     },
     "execution_count": 63,
     "metadata": {},
     "output_type": "execute_result"
    },
    {
     "data": {
      "image/png": "[encoded data removed]",
      "text/plain": [
       "<Figure size 1080x1440 with 20 Axes>"
      ]
     },
     "metadata": {
      "needs_background": "light"
     },
     "output_type": "display_data"
    }
   ],
   "source": [
    "import pandas as pd\n",
    "import numpy as np\n",
    "import matplotlib.pyplot as plt\n",
    "data = pd.read_csv('/datasets/real_estate_data.csv', sep = '\\t')\n",
    "data.info()\n",
    "print(data.head(10))\n",
    "data.hist(figsize=(15, 20))"
   ]
  },
  {
   "cell_type": "markdown",
   "metadata": {},
   "source": [
    "### Предобработка данных"
   ]
  },
  {
   "cell_type": "code",
   "execution_count": 64,
   "metadata": {
    "scrolled": true
   },
   "outputs": [
    {
     "data": {
      "text/plain": [
       "0"
      ]
     },
     "execution_count": 64,
     "metadata": {},
     "output_type": "execute_result"
    }
   ],
   "source": [
    "# balcony  заполним пустые строки 0. Пропусков много, но впролне вероятно что у этих квартир нет балконов\n",
    "data['balcony'].fillna(0, inplace=True)\n",
    "data['balcony'].astype(int)\n",
    "\n",
    "# не заполенные параметры в 'ceiling_height' заполним медианным значением, так как благодаря типовой советской застройке большинство объектов жилого фонда имееит схожие параметры\n",
    "data['ceiling_height'].fillna(data['ceiling_height'].median(), inplace=True)\n",
    "\n",
    "# first_day_exposition переведем в формат даты\n",
    "data[\"first_day_exposition\"] = pd.to_datetime(data[\"first_day_exposition\"],format = '%Y-%m-%dT%H:%M:%S')\n",
    "\n",
    "#floors_total - пропуско не много, поэтому отбросим заполним средним\n",
    "data.dropna(subset=[\"floors_total\"],inplace = True,axis = 0 )\n",
    "# is_appartment заполняем пробелы булевым занчением\n",
    "data['is_apartment'].fillna(False, inplace=True)\n",
    "\n",
    "# kitchen_area - не указано в студиях,заменяем пустые строки на 0\n",
    "data.loc[data[\"kitchen_area\"].isnull(),'studio'] = True\n",
    "data[\"kitchen_area\"] = data[\"kitchen_area\"].where(~data[\"kitchen_area\"].isnull(),0)\n",
    "\n",
    "# living_area\n",
    "\n",
    "data.loc[(data['rooms'] == 0) & (data['studio'] == False), 'rooms'] == 1\n",
    "living_area_percent = data['living_area'].median() / data['total_area'].median()\n",
    "data['living_area'].fillna(0, inplace=True)\n",
    "data['living_area_2'] = data.apply(lambda x:\n",
    "                                                 x['total_area'] * living_area_percent if x['living_area'] == 0\n",
    "                                                 else x['living_area'], axis = 1)\n",
    "data['living_area'] = data['living_area_2']\n",
    "data.drop(['living_area_2'], axis='columns', inplace=True)\n",
    "\n",
    "# locality_name - всего 49 пропусков, так как восстановить потерянные данные нельзя удаляем строки\n",
    "data.dropna(subset=['locality_name'], axis = 0, inplace = True)\n",
    "\n",
    "# kitchen_area - заполняем схожим принципом\n",
    "kitchen_area_percent = data['kitchen_area'].median() / data['total_area'].median()\n",
    "data['kitchen_area_2'] = data.apply(lambda x:\n",
    "                                                 x['total_area'] * kitchen_area_percent if x['kitchen_area'] == 0\n",
    "                                                 else x['kitchen_area'], axis = 1)\n",
    "\n",
    "data['kitchen_area'] = data['kitchen_area_2']\n",
    "data.drop(['kitchen_area_2'], axis='columns', inplace=True)\n",
    "\n",
    "\n",
    "#locality_name - отбрасываем незначительные пропуски и переименовываем \n",
    "data.dropna(subset=['locality_name'],  inplace=True)\n",
    "data['locality_name'] = data['locality_name'].str.replace(\"посёлок\", \"поселок\") \n",
    "\n",
    "# parks_around -Заменяем пустые строки на 0\n",
    "data['parks_around3000'] = data['parks_around3000'].fillna(value=0).astype(int)\n",
    "\n",
    "# Пponds_around - -Заменяем пустые строки на 0 и приводим к целочисленному занчению\n",
    "data['ponds_around3000'] = data['ponds_around3000'].fillna(value=0).astype(int)\n",
    "\n",
    "data['locality_name'] = data['locality_name'].str.lower()\n",
    "data.duplicated().sum()\n"
   ]
  },
  {
   "cell_type": "code",
   "execution_count": 65,
   "metadata": {
    "scrolled": true
   },
   "outputs": [
    {
     "name": "stdout",
     "output_type": "stream",
     "text": [
      "Медианное время: 95 \n",
      "\n"
     ]
    }
   ],
   "source": [
    "\n",
    "# days_exposition - исправленный. \n",
    "data['days_exposition'].fillna(0, inplace=True)\n",
    "data['days_exposition'] = data['days_exposition'].astype('int64')\n",
    "print('Медианное время:', round(data.query('days_exposition != 0')['days_exposition'].median()),'\\n')\n",
    "data['days_exposition'].fillna(95, inplace=True)\n",
    "\n"
   ]
  },
  {
   "cell_type": "markdown",
   "metadata": {},
   "source": [
    "cityCenters_nearest  - отсутствует часть данных, но заполнять медианным или средним значением не имеет смысла, так как это значительно повлияет на стоимость квадратного метра\n",
    "\n",
    "days_exposition - Если предположить что время размещения не указанно так как объявление еще не снято, но временно заменяем на 0, затем считаем медиану не нулевых результатов(логично что квартира не может продасться за 0 дней) и заменяем значение медианным\n",
    "\n",
    "living_area - не заполнено в 1903 строках, это около 9% что является достаточно крупным колличеством, поэтому заполняем средним коэффициентом из разницы жилой площади к площади общей. Так как вычеслить объектиную медиану при нулевых значениях не получиться."
   ]
  },
  {
   "cell_type": "markdown",
   "metadata": {},
   "source": [
    "### Проведим исследовательский анализ данных"
   ]
  },
  {
   "cell_type": "code",
   "execution_count": 66,
   "metadata": {},
   "outputs": [
    {
     "name": "stdout",
     "output_type": "stream",
     "text": [
      "<class 'pandas.core.frame.DataFrame'>\n",
      "Int64Index: 23565 entries, 0 to 23698\n",
      "Data columns (total 28 columns):\n",
      " #   Column                Non-Null Count  Dtype         \n",
      "---  ------                --------------  -----         \n",
      " 0   total_images          23565 non-null  int64         \n",
      " 1   last_price            23565 non-null  float64       \n",
      " 2   total_area            23565 non-null  float64       \n",
      " 3   first_day_exposition  23565 non-null  datetime64[ns]\n",
      " 4   rooms                 23565 non-null  int64         \n",
      " 5   ceiling_height        23565 non-null  float64       \n",
      " 6   floors_total          23565 non-null  float64       \n",
      " 7   living_area           23565 non-null  float64       \n",
      " 8   floor                 23565 non-null  int64         \n",
      " 9   is_apartment          23565 non-null  bool          \n",
      " 10  studio                23565 non-null  bool          \n",
      " 11  open_plan             23565 non-null  bool          \n",
      " 12  kitchen_area          23565 non-null  float64       \n",
      " 13  balcony               23565 non-null  float64       \n",
      " 14  locality_name         23565 non-null  object        \n",
      " 15  airports_nearest      18041 non-null  float64       \n",
      " 16  cityCenters_nearest   18064 non-null  float64       \n",
      " 17  parks_around3000      23565 non-null  int64         \n",
      " 18  parks_nearest         8030 non-null   float64       \n",
      " 19  ponds_around3000      23565 non-null  int64         \n",
      " 20  ponds_nearest         9036 non-null   float64       \n",
      " 21  days_exposition       23565 non-null  int64         \n",
      " 22  metr_price            23565 non-null  float64       \n",
      " 23  weekday               23565 non-null  int64         \n",
      " 24  month                 23565 non-null  int64         \n",
      " 25  year                  23565 non-null  int64         \n",
      " 26  floor_type            23565 non-null  object        \n",
      " 27  center_distance       23565 non-null  int64         \n",
      "dtypes: bool(3), datetime64[ns](1), float64(12), int64(10), object(2)\n",
      "memory usage: 4.7+ MB\n",
      "<class 'pandas.core.frame.DataFrame'>\n",
      "Int64Index: 23565 entries, 0 to 23698\n",
      "Data columns (total 28 columns):\n",
      " #   Column                Non-Null Count  Dtype         \n",
      "---  ------                --------------  -----         \n",
      " 0   total_images          23565 non-null  int64         \n",
      " 1   last_price            21519 non-null  float64       \n",
      " 2   total_area            22326 non-null  float64       \n",
      " 3   first_day_exposition  23565 non-null  datetime64[ns]\n",
      " 4   rooms                 23371 non-null  float64       \n",
      " 5   ceiling_height        20601 non-null  float64       \n",
      " 6   floors_total          23565 non-null  float64       \n",
      " 7   living_area           22678 non-null  float64       \n",
      " 8   floor                 23565 non-null  int64         \n",
      " 9   is_apartment          23565 non-null  bool          \n",
      " 10  studio                23565 non-null  bool          \n",
      " 11  open_plan             23565 non-null  bool          \n",
      " 12  kitchen_area          22255 non-null  float64       \n",
      " 13  balcony               23565 non-null  float64       \n",
      " 14  locality_name         23565 non-null  object        \n",
      " 15  airports_nearest      18041 non-null  float64       \n",
      " 16  cityCenters_nearest   18064 non-null  float64       \n",
      " 17  parks_around3000      23565 non-null  int64         \n",
      " 18  parks_nearest         8030 non-null   float64       \n",
      " 19  ponds_around3000      23565 non-null  int64         \n",
      " 20  ponds_nearest         9036 non-null   float64       \n",
      " 21  days_exposition       21539 non-null  float64       \n",
      " 22  metr_price            23565 non-null  float64       \n",
      " 23  weekday               23565 non-null  int64         \n",
      " 24  month                 23565 non-null  int64         \n",
      " 25  year                  23565 non-null  int64         \n",
      " 26  floor_type            23565 non-null  object        \n",
      " 27  center_distance       23565 non-null  int64         \n",
      "dtypes: bool(3), datetime64[ns](1), float64(14), int64(8), object(2)\n",
      "memory usage: 4.7+ MB\n"
     ]
    }
   ],
   "source": [
    "# стоимость квадратного метра\n",
    "def metr_price (row):\n",
    "    return row['last_price']/row['total_area']\n",
    "data['metr_price'] = data.apply(metr_price,axis = 1)\n",
    "\n",
    "# добавляем столбцы дня недели, месяца и года\n",
    "data['weekday'] = data['first_day_exposition'].dt.weekday\n",
    "data['month'] = data['first_day_exposition'].dt.month\n",
    "data['year'] = data['first_day_exposition'].dt.year\n",
    "\n",
    "# сортируем квартиры по этажам\n",
    "def floor_type(row):\n",
    "    if row['floor'] == 1:\n",
    "        return 'первый'\n",
    "    elif row['floor'] == row['floors_total']:\n",
    "        return 'последний'\n",
    "    else:\n",
    "        return 'другой'\n",
    "data['floor_type'] = data.apply(floor_type, axis=1)\n",
    "\n",
    "# Добавляем столбец с расстоянием до центра в км, округляем до целого\n",
    "data['center_distance'] = data['cityCenters_nearest'] / 1000\n",
    "data['center_distance'] = data['center_distance'].fillna(value=0).astype(int)\n",
    "\n",
    "#удаляем выбросы\n",
    "data.info()\n",
    "def quartile_range(df, column):\n",
    "    q1 = df[column].quantile(0.25)\n",
    "    q3 = df[column].quantile(0.75)\n",
    "    iqr = q3 - q1\n",
    "    dfq = df.loc[(df[column] < q3 + 1.5*iqr) & (df[column] > q1 - 1.5*iqr), column]\n",
    "    return dfq\n",
    "list_features = ['last_price', 'total_area', 'kitchen_area', 'living_area', 'days_exposition', 'ceiling_height', 'rooms']\n",
    "for col in list_features:\n",
    "    data[col] = quartile_range(data, col)\n",
    "data.info()"
   ]
  },
  {
   "cell_type": "code",
   "execution_count": 67,
   "metadata": {},
   "outputs": [
    {
     "name": "stdout",
     "output_type": "stream",
     "text": [
      "50.0\n",
      "54.319703932634596\n"
     ]
    },
    {
     "data": {
      "image/png": "[encoded data removed]",
      "text/plain": [
       "<Figure size 432x288 with 1 Axes>"
      ]
     },
     "metadata": {
      "needs_background": "light"
     },
     "output_type": "display_data"
    }
   ],
   "source": [
    "# изучим общую площадь\n",
    "data['total_area'].hist(bins =30)\n",
    "print(data['total_area'].median())\n",
    "print(data['total_area'].mean())"
   ]
  },
  {
   "cell_type": "markdown",
   "metadata": {},
   "source": [
    "медианое значение:50 среднее значение:54 исходя из графика наиболее распостраненная площадь квартир: 30- 50 метров"
   ]
  },
  {
   "cell_type": "code",
   "execution_count": 68,
   "metadata": {
    "scrolled": false
   },
   "outputs": [
    {
     "name": "stdout",
     "output_type": "stream",
     "text": [
      "30.0\n",
      "31.544201648008574\n"
     ]
    },
    {
     "data": {
      "image/png": "[encoded data removed]",
      "text/plain": [
       "<Figure size 432x288 with 1 Axes>"
      ]
     },
     "metadata": {
      "needs_background": "light"
     },
     "output_type": "display_data"
    }
   ],
   "source": [
    "# изучим жилую площадь\n",
    "data['living_area'].hist(bins =30)\n",
    "print(data['living_area'].median())\n",
    "print(data['living_area'].mean())"
   ]
  },
  {
   "cell_type": "markdown",
   "metadata": {},
   "source": [
    "медианое значение:30 среднее значение:31,5 исходя из графика наиболее распостраненная объемы жилой площади это 15-20 кв.м и 25-30 кв.м. что в соответствуем минимальным стандартам для 1 и 2 комнатных квартир"
   ]
  },
  {
   "cell_type": "code",
   "execution_count": 69,
   "metadata": {
    "scrolled": false
   },
   "outputs": [
    {
     "name": "stdout",
     "output_type": "stream",
     "text": [
      "9.0\n",
      "9.410773585883897\n"
     ]
    },
    {
     "data": {
      "image/png": "[encoded data removed]",
      "text/plain": [
       "<Figure size 432x288 with 1 Axes>"
      ]
     },
     "metadata": {
      "needs_background": "light"
     },
     "output_type": "display_data"
    }
   ],
   "source": [
    "# изучим площадь кухни\n",
    "data['kitchen_area'].hist(bins =30)\n",
    "print(data['kitchen_area'].median())\n",
    "print(data['kitchen_area'].mean())"
   ]
  },
  {
   "cell_type": "markdown",
   "metadata": {},
   "source": [
    "медианое значение:9 среднее значение:9,5 исходя из графика наиболее распостраненная площадь кухонь от 5 до 12 метров"
   ]
  },
  {
   "cell_type": "code",
   "execution_count": 70,
   "metadata": {
    "scrolled": false
   },
   "outputs": [
    {
     "name": "stdout",
     "output_type": "stream",
     "text": [
      "4400000.0\n",
      "4837114.547516149\n"
     ]
    },
    {
     "data": {
      "image/png": "[encoded data removed]",
      "text/plain": [
       "<Figure size 432x288 with 1 Axes>"
      ]
     },
     "metadata": {
      "needs_background": "light"
     },
     "output_type": "display_data"
    }
   ],
   "source": [
    "# изучим цены\n",
    "data['last_price'].hist(bins =30)\n",
    "print(data['last_price'].median())\n",
    "print(data['last_price'].mean())"
   ]
  },
  {
   "cell_type": "markdown",
   "metadata": {},
   "source": [
    "медианое значение:4,4 млн среднее значение:4,8 млн исходя из графика наиболее В основном стоимость квартир - порядка 3,5-4,5 миллионов"
   ]
  },
  {
   "cell_type": "code",
   "execution_count": 71,
   "metadata": {
    "scrolled": false
   },
   "outputs": [
    {
     "name": "stdout",
     "output_type": "stream",
     "text": [
      "2.0\n",
      "2.0302083779042404\n"
     ]
    },
    {
     "data": {
      "image/png": "[encoded data removed]",
      "text/plain": [
       "<Figure size 432x288 with 1 Axes>"
      ]
     },
     "metadata": {
      "needs_background": "light"
     },
     "output_type": "display_data"
    }
   ],
   "source": [
    "# изучим количество комнат\n",
    "data['rooms'].hist(bins =20)\n",
    "print(data['rooms'].median())\n",
    "print(data['rooms'].mean())"
   ]
  },
  {
   "cell_type": "markdown",
   "metadata": {},
   "source": [
    "медианое значение:2 среднее значение:2 исходя из графика наиболее наиболее распостраненны двухкомнатные квартиры, хотя кроичество трехкомнатных уступает не значительно"
   ]
  },
  {
   "cell_type": "code",
   "execution_count": 72,
   "metadata": {
    "scrolled": false
   },
   "outputs": [
    {
     "name": "stdout",
     "output_type": "stream",
     "text": [
      "2.65\n",
      "2.631088782097956\n"
     ]
    },
    {
     "data": {
      "image/png": "[encoded data removed]",
      "text/plain": [
       "<Figure size 432x288 with 1 Axes>"
      ]
     },
     "metadata": {
      "needs_background": "light"
     },
     "output_type": "display_data"
    }
   ],
   "source": [
    "# изучим высотц потолков\n",
    "data['ceiling_height'].hist(bins =30)\n",
    "print(data['ceiling_height'].median())\n",
    "print(data['ceiling_height'].mean())"
   ]
  },
  {
   "cell_type": "markdown",
   "metadata": {},
   "source": [
    "медианое значение:2,65 среднее значение:2,63 исходя из графика наиболее 2,65 м самая популярная высота потолков"
   ]
  },
  {
   "cell_type": "code",
   "execution_count": 73,
   "metadata": {
    "scrolled": false
   },
   "outputs": [
    {
     "name": "stdout",
     "output_type": "stream",
     "text": [
      "4.0\n",
      "5.8781243369403775\n"
     ]
    },
    {
     "data": {
      "image/png": "[encoded data removed]",
      "text/plain": [
       "<Figure size 432x288 with 1 Axes>"
      ]
     },
     "metadata": {
      "needs_background": "light"
     },
     "output_type": "display_data"
    }
   ],
   "source": [
    "# изучим этажи\n",
    "data['floor'].hist(bins =10)\n",
    "print(data['floor'].median())\n",
    "print(data['floor'].mean())"
   ]
  },
  {
   "cell_type": "markdown",
   "metadata": {},
   "source": [
    "медианое значение:4 среднее значение:5.8 исходя из графика наиболее как будет видно в следующей диаграмме объявления о продаже квартир на 1 этаже не так велики,исходя из этого большинство квартир продяются на этажах с 2 по 6"
   ]
  },
  {
   "cell_type": "code",
   "execution_count": 74,
   "metadata": {
    "scrolled": false
   },
   "outputs": [
    {
     "data": {
      "text/plain": [
       "<AxesSubplot:>"
      ]
     },
     "execution_count": 74,
     "metadata": {},
     "output_type": "execute_result"
    },
    {
     "data": {
      "image/png": "[encoded data removed]",
      "text/plain": [
       "<Figure size 432x288 with 1 Axes>"
      ]
     },
     "metadata": {
      "needs_background": "light"
     },
     "output_type": "display_data"
    }
   ],
   "source": [
    "# тип этажа\n",
    "data['floor_type'].hist(bins =30)"
   ]
  },
  {
   "cell_type": "markdown",
   "metadata": {},
   "source": [
    "наибольшинство объявление о продаже квартир не на крайних этажах"
   ]
  },
  {
   "cell_type": "code",
   "execution_count": 75,
   "metadata": {
    "scrolled": false
   },
   "outputs": [
    {
     "name": "stdout",
     "output_type": "stream",
     "text": [
      "9.0\n",
      "10.675875238701463\n"
     ]
    },
    {
     "data": {
      "image/png": "[encoded data removed]",
      "text/plain": [
       "<Figure size 432x288 with 1 Axes>"
      ]
     },
     "metadata": {
      "needs_background": "light"
     },
     "output_type": "display_data"
    }
   ],
   "source": [
    "# изучим кэтажность зданий\n",
    "data['floors_total'].hist(bins =30)\n",
    "print(data['floors_total'].median())\n",
    "print(data['floors_total'].mean())"
   ]
  },
  {
   "cell_type": "markdown",
   "metadata": {},
   "source": [
    "медианое значение:9 среднее значение: с округлением 11 исходя из графика наиболее наиболее распостраненны 5 и 9 этажные дома"
   ]
  },
  {
   "cell_type": "code",
   "execution_count": 76,
   "metadata": {
    "scrolled": true
   },
   "outputs": [
    {
     "name": "stdout",
     "output_type": "stream",
     "text": [
      "13096.5\n",
      "14192.656056244465\n"
     ]
    },
    {
     "data": {
      "image/png": "[encoded data removed]",
      "text/plain": [
       "<Figure size 432x288 with 1 Axes>"
      ]
     },
     "metadata": {
      "needs_background": "light"
     },
     "output_type": "display_data"
    }
   ],
   "source": [
    "# изучим расстояние до центра\n",
    "data['cityCenters_nearest'].hist(bins =30)\n",
    "print(data['cityCenters_nearest'].median())\n",
    "print(data['cityCenters_nearest'].mean())"
   ]
  },
  {
   "cell_type": "markdown",
   "metadata": {},
   "source": [
    "медианое значение:13км среднее значение:14км исходя из графика наиболее наиболее распостраненное расстояние до центра 13-15 км"
   ]
  },
  {
   "cell_type": "code",
   "execution_count": 77,
   "metadata": {
    "scrolled": true
   },
   "outputs": [
    {
     "name": "stdout",
     "output_type": "stream",
     "text": [
      "455.0\n",
      "490.5804483188045\n"
     ]
    },
    {
     "data": {
      "image/png": "[encoded data removed]",
      "text/plain": [
       "<Figure size 432x288 with 1 Axes>"
      ]
     },
     "metadata": {
      "needs_background": "light"
     },
     "output_type": "display_data"
    }
   ],
   "source": [
    "# изучим расстояние до ближайшего парка\n",
    "data['parks_nearest'].hist(bins =30)\n",
    "print(data['parks_nearest'].median())\n",
    "print(data['parks_nearest'].mean())"
   ]
  },
  {
   "cell_type": "markdown",
   "metadata": {},
   "source": [
    "медианое значение:455м среднее значение:490 м исходя из графика наиболее чаще всего расскотяние составляет около 450-500 метров"
   ]
  },
  {
   "cell_type": "code",
   "execution_count": 78,
   "metadata": {
    "scrolled": false
   },
   "outputs": [
    {
     "name": "stdout",
     "output_type": "stream",
     "text": [
      "26757.0\n",
      "28797.082700515493\n"
     ]
    },
    {
     "data": {
      "image/png": "[encoded data removed]",
      "text/plain": [
       "<Figure size 432x288 with 1 Axes>"
      ]
     },
     "metadata": {
      "needs_background": "light"
     },
     "output_type": "display_data"
    }
   ],
   "source": [
    "# изучим расстояние до ближайшего аэропорта\n",
    "data['airports_nearest'].hist(bins =30)\n",
    "print(data['airports_nearest'].median())\n",
    "print(data['airports_nearest'].mean())"
   ]
  },
  {
   "cell_type": "markdown",
   "metadata": {},
   "source": [
    "медианое значение:26,7км среднее значение:28,8 км исходя из графика наиболее  наиболе выделяться расстояния в 25-29 км"
   ]
  },
  {
   "cell_type": "code",
   "execution_count": 79,
   "metadata": {
    "scrolled": false
   },
   "outputs": [
    {
     "name": "stdout",
     "output_type": "stream",
     "text": [
      "6.0\n",
      "6.401570125185657\n"
     ]
    },
    {
     "data": {
      "image/png": "[encoded data removed]",
      "text/plain": [
       "<Figure size 432x288 with 1 Axes>"
      ]
     },
     "metadata": {
      "needs_background": "light"
     },
     "output_type": "display_data"
    }
   ],
   "source": [
    "# изучим месяц публикации объявления\n",
    "data['month'].hist(bins =30)\n",
    "print(data['month'].median())\n",
    "print(data['month'].mean())"
   ]
  },
  {
   "cell_type": "markdown",
   "metadata": {},
   "source": [
    "медианое значение:июль среднее значение:июль исходя из графика наиболее наиболее активные месяца для размещения объявлений это  февраль, март и апрель и ноябрь. По видимому продавцы начинают продажи в началое календарного года или хотят успеть совершить продаж до его завершения, возможно это связанно с налоговыми периодами."
   ]
  },
  {
   "cell_type": "code",
   "execution_count": 80,
   "metadata": {
    "scrolled": true
   },
   "outputs": [
    {
     "name": "stdout",
     "output_type": "stream",
     "text": [
      "3.0\n",
      "2.567366857627838\n"
     ]
    },
    {
     "data": {
      "image/png": "[encoded data removed]",
      "text/plain": [
       "<Figure size 432x288 with 1 Axes>"
      ]
     },
     "metadata": {
      "needs_background": "light"
     },
     "output_type": "display_data"
    }
   ],
   "source": [
    "# изучим месяц публикации объявления\n",
    "data['weekday'].hist(bins =30)\n",
    "print(data['weekday'].median())\n",
    "print(data['weekday'].mean())"
   ]
  },
  {
   "cell_type": "markdown",
   "metadata": {},
   "source": [
    "медианое значение:четверг среднее значение:среда  по графику можно заметить наиболее высокую активность со вторника по пятницу и значительную просадку по выходным, можно предположить что многие объявления публикуются агенствами и риэлторами, которые делают объявления в течении рабочей недели"
   ]
  },
  {
   "cell_type": "code",
   "execution_count": 81,
   "metadata": {
    "scrolled": true
   },
   "outputs": [
    {
     "name": "stdout",
     "output_type": "stream",
     "text": [
      "60.0\n"
     ]
    },
    {
     "data": {
      "text/plain": [
       "count    21539.000000\n",
       "mean       103.573889\n",
       "std        111.664697\n",
       "min          0.000000\n",
       "25%         18.000000\n",
       "50%         60.000000\n",
       "75%        153.000000\n",
       "max        461.000000\n",
       "Name: days_exposition, dtype: float64"
      ]
     },
     "execution_count": 81,
     "metadata": {},
     "output_type": "execute_result"
    },
    {
     "data": {
      "image/png": "[encoded data removed]",
      "text/plain": [
       "<Figure size 432x288 with 1 Axes>"
      ]
     },
     "metadata": {
      "needs_background": "light"
     },
     "output_type": "display_data"
    }
   ],
   "source": [
    "# изучим время продажи\n",
    "data['days_exposition'].hist(bins =10)\n",
    "print(data['days_exposition'].median())\n",
    "data['days_exposition'].describe()"
   ]
  },
  {
   "cell_type": "markdown",
   "metadata": {},
   "source": [
    "медианное всемя продажи составляет 60 дней, среднее около 104. Некоторые объекты могут продаваться по году и болееЮ но скорее всего это связано с особенностями объекта недвижимости(премиум статусом, эксклюзивностью постройки или расположения и т.п.) Исходя из полуенных данным быстрой продажей можно считать продажу за срок до 18 дней, а медленной более 153 дней."
   ]
  },
  {
   "cell_type": "code",
   "execution_count": 82,
   "metadata": {},
   "outputs": [
    {
     "data": {
      "image/png": "[encoded data removed]",
      "text/plain": [
       "<Figure size 360x360 with 1 Axes>"
      ]
     },
     "metadata": {
      "needs_background": "light"
     },
     "output_type": "display_data"
    },
    {
     "name": "stdout",
     "output_type": "stream",
     "text": [
      "Корреляция цены и площади: \n",
      "\n",
      "            last_price  total_area\n",
      "last_price    1.000000    0.905372\n",
      "total_area    0.905372    1.000000 \n",
      "\n"
     ]
    },
    {
     "data": {
      "image/png": "[encoded data removed]",
      "text/plain": [
       "<Figure size 360x360 with 1 Axes>"
      ]
     },
     "metadata": {
      "needs_background": "light"
     },
     "output_type": "display_data"
    },
    {
     "name": "stdout",
     "output_type": "stream",
     "text": [
      "Корреляция цены и числа комнат: \n",
      "\n",
      "            last_price     rooms\n",
      "last_price    1.000000  0.537551\n",
      "rooms         0.537551  1.000000 \n",
      "\n"
     ]
    },
    {
     "data": {
      "image/png": "[encoded data removed]",
      "text/plain": [
       "<Figure size 360x360 with 1 Axes>"
      ]
     },
     "metadata": {
      "needs_background": "light"
     },
     "output_type": "display_data"
    },
    {
     "name": "stdout",
     "output_type": "stream",
     "text": [
      "Корреляция цены и удалённости от центра: \n",
      "\n",
      "                     cityCenters_nearest  last_price\n",
      "cityCenters_nearest             1.000000    0.712077\n",
      "last_price                      0.712077    1.000000 \n",
      "\n"
     ]
    },
    {
     "data": {
      "image/png": "[encoded data removed]",
      "text/plain": [
       "<Figure size 360x360 with 1 Axes>"
      ]
     },
     "metadata": {
      "needs_background": "light"
     },
     "output_type": "display_data"
    },
    {
     "data": {
      "image/png": "[encoded data removed]",
      "text/plain": [
       "<Figure size 360x360 with 1 Axes>"
      ]
     },
     "metadata": {
      "needs_background": "light"
     },
     "output_type": "display_data"
    },
    {
     "name": "stdout",
     "output_type": "stream",
     "text": [
      "Корреляция цены за квадрат и площади: \n",
      "\n",
      "            metr_price  total_area\n",
      "metr_price    1.000000    0.047408\n",
      "total_area    0.047408    1.000000 \n",
      "\n"
     ]
    },
    {
     "data": {
      "image/png": "[encoded data removed]",
      "text/plain": [
       "<Figure size 360x360 with 1 Axes>"
      ]
     },
     "metadata": {
      "needs_background": "light"
     },
     "output_type": "display_data"
    },
    {
     "name": "stdout",
     "output_type": "stream",
     "text": [
      "Корреляция цены за квадрат и числа комнат: \n",
      "\n",
      "            metr_price     rooms\n",
      "metr_price    1.000000 -0.263153\n",
      "rooms        -0.263153  1.000000 \n",
      "\n"
     ]
    },
    {
     "data": {
      "image/png": "[encoded data removed]",
      "text/plain": [
       "<Figure size 360x360 with 1 Axes>"
      ]
     },
     "metadata": {
      "needs_background": "light"
     },
     "output_type": "display_data"
    },
    {
     "data": {
      "image/png": "[encoded data removed]",
      "text/plain": [
       "<Figure size 720x360 with 1 Axes>"
      ]
     },
     "metadata": {
      "needs_background": "light"
     },
     "output_type": "display_data"
    },
    {
     "data": {
      "image/png": "[encoded data removed]",
      "text/plain": [
       "<Figure size 360x360 with 1 Axes>"
      ]
     },
     "metadata": {
      "needs_background": "light"
     },
     "output_type": "display_data"
    }
   ],
   "source": [
    "#коредяция цены\n",
    "# Зависимость цены от площади\n",
    "(\n",
    "    data.pivot_table(index='total_area', values='last_price')\n",
    "    .plot(grid=True, style='o', figsize=(5, 5))\n",
    ")\n",
    "plt.show()\n",
    "print('Корреляция цены и площади:','\\n')\n",
    "print(data.pivot_table(index='floor', values=['total_area', 'last_price']).corr(),'\\n')\n",
    "\n",
    "# Зависимость цены от числа комнат\n",
    "(\n",
    "    data.query('rooms > 0').pivot_table(index='rooms', values='last_price')\n",
    "    .plot(grid=True, style='o-', figsize=(5, 5))\n",
    ")\n",
    "plt.show()\n",
    "print('Корреляция цены и числа комнат:','\\n')\n",
    "print(data.query('rooms > 0').pivot_table(index='floor', values=['rooms', 'last_price']).corr(),'\\n')\n",
    "\n",
    "# Зависимость цены от удалённости от центра\n",
    "(\n",
    "    data.pivot_table(index='cityCenters_nearest', values='last_price')\n",
    "    .plot(grid=True, style='o', figsize=(5, 5))\n",
    ")\n",
    "plt.show()\n",
    "print('Корреляция цены и удалённости от центра:','\\n')\n",
    "print(data.pivot_table(index='floor', values=['cityCenters_nearest', 'last_price']).corr(),'\\n')\n",
    "\n",
    "# Зависимость цены от этажа\n",
    "(\n",
    "    data.pivot_table(index='floor_type', values='last_price', aggfunc='median')\n",
    "    .plot(grid=True, style='o-', figsize=(5, 5))\n",
    ")\n",
    "plt.show()\n",
    "\n",
    "# Зависимость цены за квадрат от площади\n",
    "(\n",
    "    data.pivot_table(index='total_area', values='metr_price')\n",
    "    .plot(grid=True, style='o', figsize=(5, 5))\n",
    ")\n",
    "plt.show()\n",
    "print('Корреляция цены за квадрат и площади:','\\n')\n",
    "print(data.pivot_table(index='floor', values=['total_area', 'metr_price']).corr(),'\\n')\n",
    "\n",
    "\n",
    "# Зависимость цены за квадрат от числа комнат\n",
    "(\n",
    "    data.query('rooms > 0').pivot_table(index='rooms', values='metr_price')\n",
    "    .plot(grid=True, style='o-', figsize=(5, 5))\n",
    ")\n",
    "plt.show()\n",
    "print('Корреляция цены за квадрат и числа комнат:','\\n')\n",
    "print(data.query('rooms > 0').pivot_table(index='floor', values=['rooms', 'metr_price']).corr(),'\\n')\n",
    "\n",
    "# Зависимость от дня размещения\n",
    "(\n",
    "    data.pivot_table(index='weekday', values='last_price')\n",
    "    .plot(grid=True, style='o-', figsize=(5, 5))\n",
    ")\n",
    "plt.show()\n",
    "# Зависимость от месяца размещения\n",
    "(\n",
    "    data.pivot_table(index='month', values='last_price')\n",
    "    .plot(grid=True, style='o-', xlim=(1,12), figsize=(10, 5))\n",
    ")\n",
    "plt.show()\n",
    "# Зависимость от года размещения\n",
    "(\n",
    "    data.pivot_table(index='year', values='last_price')\n",
    "    .plot(grid=True, style='o-', figsize=(5, 5))\n",
    ")\n",
    "plt.show()"
   ]
  },
  {
   "cell_type": "markdown",
   "metadata": {},
   "source": [
    "Зависимость цены и площади крайне велика(0.91), при увеличении площали растет и цена. При этом число комнат влияет на стоимость, но в значительно меньшей степени(0,54). Зависимость цены от удаленности от центра сказывается значительно сильнее(0,71). Можно сделать вывод что квартиры в центре стоят дороже, при этом их площадь (и/или количество комнат) могут быть меньше чем на окраинах.\n",
    "\n",
    "Распложение на последнем и особенно на первом этаже снижают стоимость квартиры\n",
    "\n",
    "Стоимость квадрата обратно пропорциональна числу комнат, наибольшая стоимость у однакомнатных квартир\n",
    "\n",
    "Зависимость времени размещения\n",
    "День недели: дороже всего квартиры, опубликованные в среду, дешевле всего - в субботу.\n",
    "Месяц: дороже всего квартиры, продающиеся с апреля, дешевле всего - с июня, скорее всего это связанно с сезонными отпусками.\n",
    "Годовая зависимость: в 2014-2015 годах квартиры реско подешевели, скорее всего это связано с началом санкции и уходом части банков выдававших ипотеки. С 2018-2019 года начался постепенный рост цен, скорее всего на него повлияло восстановление экономики и реализация программ государственной поддержки."
   ]
  },
  {
   "cell_type": "code",
   "execution_count": 83,
   "metadata": {},
   "outputs": [
    {
     "data": {
      "text/html": [
       "<div>\n",
       "<style scoped>\n",
       "    .dataframe tbody tr th:only-of-type {\n",
       "        vertical-align: middle;\n",
       "    }\n",
       "\n",
       "    .dataframe tbody tr th {\n",
       "        vertical-align: top;\n",
       "    }\n",
       "\n",
       "    .dataframe thead th {\n",
       "        text-align: right;\n",
       "    }\n",
       "</style>\n",
       "<table border=\"1\" class=\"dataframe\">\n",
       "  <thead>\n",
       "    <tr style=\"text-align: right;\">\n",
       "      <th></th>\n",
       "      <th>metr_price</th>\n",
       "    </tr>\n",
       "    <tr>\n",
       "      <th>locality_name</th>\n",
       "      <th></th>\n",
       "    </tr>\n",
       "  </thead>\n",
       "  <tbody>\n",
       "    <tr>\n",
       "      <th>санкт-петербург</th>\n",
       "      <td>114868</td>\n",
       "    </tr>\n",
       "    <tr>\n",
       "      <th>пушкин</th>\n",
       "      <td>103125</td>\n",
       "    </tr>\n",
       "    <tr>\n",
       "      <th>деревня кудрово</th>\n",
       "      <td>92473</td>\n",
       "    </tr>\n",
       "    <tr>\n",
       "      <th>поселок парголово</th>\n",
       "      <td>90175</td>\n",
       "    </tr>\n",
       "    <tr>\n",
       "      <th>поселок мурино</th>\n",
       "      <td>85629</td>\n",
       "    </tr>\n",
       "    <tr>\n",
       "      <th>поселок шушары</th>\n",
       "      <td>78551</td>\n",
       "    </tr>\n",
       "    <tr>\n",
       "      <th>колпино</th>\n",
       "      <td>75424</td>\n",
       "    </tr>\n",
       "    <tr>\n",
       "      <th>гатчина</th>\n",
       "      <td>68746</td>\n",
       "    </tr>\n",
       "    <tr>\n",
       "      <th>всеволожск</th>\n",
       "      <td>68654</td>\n",
       "    </tr>\n",
       "    <tr>\n",
       "      <th>выборг</th>\n",
       "      <td>58141</td>\n",
       "    </tr>\n",
       "  </tbody>\n",
       "</table>\n",
       "</div>"
      ],
      "text/plain": [
       "                   metr_price\n",
       "locality_name                \n",
       "санкт-петербург        114868\n",
       "пушкин                 103125\n",
       "деревня кудрово         92473\n",
       "поселок парголово       90175\n",
       "поселок мурино          85629\n",
       "поселок шушары          78551\n",
       "колпино                 75424\n",
       "гатчина                 68746\n",
       "всеволожск              68654\n",
       "выборг                  58141"
      ]
     },
     "execution_count": 83,
     "metadata": {},
     "output_type": "execute_result"
    }
   ],
   "source": [
    "# сравнение цен в 10 населённых пунктах с наибольшим числом объявлений.\n",
    "top_ten_city = data['locality_name'].value_counts().head(10)\n",
    "top_metr_price = data.query('locality_name in (@top_ten_city.index)').pivot_table(values='metr_price', index='locality_name')\n",
    "top_metr_price = top_metr_price.astype(int)\n",
    "top_metr_price.sort_values('metr_price', ascending=False)"
   ]
  },
  {
   "cell_type": "markdown",
   "metadata": {},
   "source": [
    "Петербург логично самый дорогой город. Далее идут города не сильно удаленные от северной столицы, имеющие парки и прочие привлекальные элементы инфроструктуры."
   ]
  },
  {
   "cell_type": "code",
   "execution_count": 84,
   "metadata": {},
   "outputs": [
    {
     "name": "stdout",
     "output_type": "stream",
     "text": [
      "923974\n"
     ]
    },
    {
     "data": {
      "image/png": "[encoded data removed]",
      "text/plain": [
       "<Figure size 1080x360 with 1 Axes>"
      ]
     },
     "metadata": {
      "needs_background": "light"
     },
     "output_type": "display_data"
    }
   ],
   "source": [
    "# добавим столбец отражающий расстояние в км заместо м\n",
    "data['cityCenters_km'] = data['cityCenters_nearest'] / 1000\n",
    "data['cityCenters_km'] = data['cityCenters_km'].fillna(value=0).astype(int)\n",
    "\n",
    "# стороим график средней стоимости для каждого км Петербурга\n",
    "\n",
    "St_Petersburg = data.query('locality_name\t== \"санкт-петербург\"')\n",
    "cityCenters_km_pivot_table = St_Petersburg.pivot_table(index ='cityCenters_km',\n",
    "                                                        values = 'last_price',aggfunc = 'mean')\n",
    "cityCenters_km_pivot_table = cityCenters_km_pivot_table.astype('int')\n",
    "cityCenters_km_pivot_table['km'] = cityCenters_km_pivot_table.index\n",
    "cityCenters_km_pivot_table.reset_index(drop = True,inplace = True)\n",
    "cityCenters_km_pivot_table.plot(y = \"last_price\",style = 'o',kind = 'bar',figsize = (15,5))\n",
    "cityCenters_km_pivot_table['km_price'] = cityCenters_km_pivot_table['last_price'][1:] / cityCenters_km_pivot_table['km'][1:]\n",
    "print(cityCenters_km_pivot_table['km_price'].mean().astype(int))"
   ]
  },
  {
   "cell_type": "code",
   "execution_count": null,
   "metadata": {},
   "outputs": [],
   "source": []
  },
  {
   "cell_type": "markdown",
   "metadata": {},
   "source": [
    "После 6 км начинается спад, это можно считать приемлемой границей. На расстоянии 20,28 км цена резко повышается повидимо там начинается расположение элитных загородным поселков. В среднем на километр цена снижается на 895039"
   ]
  },
  {
   "cell_type": "markdown",
   "metadata": {},
   "source": [
    "### Общий вывод"
   ]
  },
  {
   "cell_type": "markdown",
   "metadata": {},
   "source": [
    "Среднее время продажи 104 дня, наибольшее количтво объялений это квартиры 2 и 3 комнатные в  9 этажных домах.\n",
    "На стоимость квартир оказывают большое влияние площадь, этажность (первый и последний этажи заметно снижают стоимость) и расстояние до центра\n",
    "Так же на стоимость оказывает общаяя экономическая ситауция приседшая в 2014-2015 годах к значительному снижению стоимости\n"
   ]
  }
 ],
 "metadata": {
  "ExecuteTimeLog": [
   {
    "duration": 675,
    "start_time": "2022-09-27T17:12:46.144Z"
   },
   {
    "duration": 88,
    "start_time": "2022-09-27T17:13:12.204Z"
   },
   {
    "duration": 94,
    "start_time": "2022-09-27T18:00:37.494Z"
   },
   {
    "duration": 621,
    "start_time": "2022-09-27T20:01:09.365Z"
   },
   {
    "duration": 102,
    "start_time": "2022-09-27T20:01:24.343Z"
   },
   {
    "duration": 2748,
    "start_time": "2022-09-28T19:18:27.003Z"
   },
   {
    "duration": 2096,
    "start_time": "2022-09-28T19:31:23.320Z"
   },
   {
    "duration": 3122,
    "start_time": "2022-10-02T18:47:58.738Z"
   },
   {
    "duration": 69,
    "start_time": "2022-10-02T18:48:01.862Z"
   },
   {
    "duration": 2005,
    "start_time": "2022-10-02T18:48:22.325Z"
   },
   {
    "duration": 5,
    "start_time": "2022-10-02T18:48:24.332Z"
   },
   {
    "duration": 3253,
    "start_time": "2022-10-03T17:10:16.278Z"
   },
   {
    "duration": 74,
    "start_time": "2022-10-03T17:10:19.533Z"
   },
   {
    "duration": 2248,
    "start_time": "2022-10-03T17:10:33.515Z"
   },
   {
    "duration": 16,
    "start_time": "2022-10-03T17:10:35.766Z"
   },
   {
    "duration": 2215,
    "start_time": "2022-10-03T17:20:16.511Z"
   },
   {
    "duration": 12,
    "start_time": "2022-10-03T17:20:18.728Z"
   },
   {
    "duration": 2097,
    "start_time": "2022-10-03T17:20:31.703Z"
   },
   {
    "duration": 9,
    "start_time": "2022-10-03T17:20:33.802Z"
   },
   {
    "duration": 2294,
    "start_time": "2022-10-03T17:22:06.419Z"
   },
   {
    "duration": 13,
    "start_time": "2022-10-03T17:22:08.721Z"
   },
   {
    "duration": 2264,
    "start_time": "2022-10-03T17:29:06.338Z"
   },
   {
    "duration": 28,
    "start_time": "2022-10-03T17:29:08.604Z"
   },
   {
    "duration": 2114,
    "start_time": "2022-10-03T17:49:37.591Z"
   },
   {
    "duration": 30,
    "start_time": "2022-10-03T17:49:39.707Z"
   },
   {
    "duration": 2309,
    "start_time": "2022-10-03T17:54:44.171Z"
   },
   {
    "duration": 26,
    "start_time": "2022-10-03T17:54:46.482Z"
   },
   {
    "duration": 2147,
    "start_time": "2022-10-03T17:55:09.475Z"
   },
   {
    "duration": 27,
    "start_time": "2022-10-03T17:55:11.624Z"
   },
   {
    "duration": 317,
    "start_time": "2022-10-03T18:16:38.746Z"
   },
   {
    "duration": 2239,
    "start_time": "2022-10-03T18:18:23.871Z"
   },
   {
    "duration": 45,
    "start_time": "2022-10-03T18:18:26.112Z"
   },
   {
    "duration": 45,
    "start_time": "2022-10-04T14:38:14.614Z"
   },
   {
    "duration": 2621,
    "start_time": "2022-10-04T14:38:16.651Z"
   },
   {
    "duration": 43,
    "start_time": "2022-10-04T14:38:19.274Z"
   },
   {
    "duration": 1773,
    "start_time": "2022-10-04T14:41:23.409Z"
   },
   {
    "duration": 43,
    "start_time": "2022-10-04T14:41:25.184Z"
   },
   {
    "duration": 1882,
    "start_time": "2022-10-04T14:45:26.069Z"
   },
   {
    "duration": 60,
    "start_time": "2022-10-04T14:45:27.953Z"
   },
   {
    "duration": 1702,
    "start_time": "2022-10-04T14:56:40.579Z"
   },
   {
    "duration": 207,
    "start_time": "2022-10-04T14:56:42.283Z"
   },
   {
    "duration": 1683,
    "start_time": "2022-10-04T14:57:23.452Z"
   },
   {
    "duration": 73,
    "start_time": "2022-10-04T14:57:25.136Z"
   },
   {
    "duration": 1888,
    "start_time": "2022-10-04T14:57:43.003Z"
   },
   {
    "duration": 1720,
    "start_time": "2022-10-04T14:57:54.943Z"
   },
   {
    "duration": 10255,
    "start_time": "2022-10-04T14:57:56.665Z"
   },
   {
    "duration": 1710,
    "start_time": "2022-10-04T14:59:21.730Z"
   },
   {
    "duration": 10307,
    "start_time": "2022-10-04T14:59:23.442Z"
   },
   {
    "duration": 1729,
    "start_time": "2022-10-04T15:01:49.439Z"
   },
   {
    "duration": 286,
    "start_time": "2022-10-04T15:01:51.169Z"
   },
   {
    "duration": 1717,
    "start_time": "2022-10-04T15:05:40.658Z"
   },
   {
    "duration": 70,
    "start_time": "2022-10-04T15:05:42.377Z"
   },
   {
    "duration": 1816,
    "start_time": "2022-10-04T15:06:06.718Z"
   },
   {
    "duration": 30,
    "start_time": "2022-10-04T15:06:08.536Z"
   },
   {
    "duration": 1983,
    "start_time": "2022-10-04T15:07:41.864Z"
   },
   {
    "duration": 31,
    "start_time": "2022-10-04T15:07:43.849Z"
   },
   {
    "duration": 1738,
    "start_time": "2022-10-04T15:08:10.504Z"
   },
   {
    "duration": 30,
    "start_time": "2022-10-04T15:08:12.245Z"
   },
   {
    "duration": 1687,
    "start_time": "2022-10-04T15:09:14.320Z"
   },
   {
    "duration": 28,
    "start_time": "2022-10-04T15:09:16.009Z"
   },
   {
    "duration": 2046,
    "start_time": "2022-10-04T15:10:20.852Z"
   },
   {
    "duration": 28,
    "start_time": "2022-10-04T15:10:22.905Z"
   },
   {
    "duration": 1685,
    "start_time": "2022-10-04T15:10:40.228Z"
   },
   {
    "duration": 27,
    "start_time": "2022-10-04T15:10:41.915Z"
   },
   {
    "duration": 1759,
    "start_time": "2022-10-04T15:12:41.311Z"
   },
   {
    "duration": 34,
    "start_time": "2022-10-04T15:12:43.072Z"
   },
   {
    "duration": 2075,
    "start_time": "2022-10-04T15:13:20.780Z"
   },
   {
    "duration": 27,
    "start_time": "2022-10-04T15:13:22.857Z"
   },
   {
    "duration": 1682,
    "start_time": "2022-10-04T17:40:01.985Z"
   },
   {
    "duration": 43,
    "start_time": "2022-10-04T17:40:03.669Z"
   },
   {
    "duration": 1683,
    "start_time": "2022-10-04T17:42:02.772Z"
   },
   {
    "duration": 39,
    "start_time": "2022-10-04T17:42:04.457Z"
   },
   {
    "duration": 1685,
    "start_time": "2022-10-04T17:42:25.621Z"
   },
   {
    "duration": 38,
    "start_time": "2022-10-04T17:42:27.308Z"
   },
   {
    "duration": 1687,
    "start_time": "2022-10-04T17:45:00.663Z"
   },
   {
    "duration": 99,
    "start_time": "2022-10-04T17:45:02.352Z"
   },
   {
    "duration": 2143,
    "start_time": "2022-10-04T17:45:14.544Z"
   },
   {
    "duration": 35,
    "start_time": "2022-10-04T17:45:16.688Z"
   },
   {
    "duration": 1662,
    "start_time": "2022-10-04T17:45:54.256Z"
   },
   {
    "duration": 88,
    "start_time": "2022-10-04T17:45:55.919Z"
   },
   {
    "duration": 1682,
    "start_time": "2022-10-04T17:46:22.403Z"
   },
   {
    "duration": 83,
    "start_time": "2022-10-04T17:46:24.087Z"
   },
   {
    "duration": 1710,
    "start_time": "2022-10-04T17:46:32.780Z"
   },
   {
    "duration": 39,
    "start_time": "2022-10-04T17:46:34.492Z"
   },
   {
    "duration": 1682,
    "start_time": "2022-10-04T17:52:21.551Z"
   },
   {
    "duration": 30,
    "start_time": "2022-10-04T17:52:23.235Z"
   },
   {
    "duration": 2329,
    "start_time": "2022-10-04T17:54:49.826Z"
   },
   {
    "duration": 38,
    "start_time": "2022-10-04T17:54:52.157Z"
   },
   {
    "duration": 1688,
    "start_time": "2022-10-04T17:55:05.119Z"
   },
   {
    "duration": 38,
    "start_time": "2022-10-04T17:55:06.809Z"
   },
   {
    "duration": 1700,
    "start_time": "2022-10-04T17:55:41.374Z"
   },
   {
    "duration": 52,
    "start_time": "2022-10-04T17:55:43.076Z"
   },
   {
    "duration": 1703,
    "start_time": "2022-10-04T18:00:00.873Z"
   },
   {
    "duration": 41,
    "start_time": "2022-10-04T18:00:02.578Z"
   },
   {
    "duration": 1673,
    "start_time": "2022-10-04T18:00:23.545Z"
   },
   {
    "duration": 34,
    "start_time": "2022-10-04T18:00:25.220Z"
   },
   {
    "duration": 1685,
    "start_time": "2022-10-04T18:01:28.464Z"
   },
   {
    "duration": 36,
    "start_time": "2022-10-04T18:01:30.151Z"
   },
   {
    "duration": 2455,
    "start_time": "2022-10-04T18:02:08.041Z"
   },
   {
    "duration": 55,
    "start_time": "2022-10-04T18:02:10.497Z"
   },
   {
    "duration": 1736,
    "start_time": "2022-10-04T18:05:23.431Z"
   },
   {
    "duration": 75,
    "start_time": "2022-10-04T18:05:25.169Z"
   },
   {
    "duration": 1731,
    "start_time": "2022-10-04T18:07:25.910Z"
   },
   {
    "duration": 40,
    "start_time": "2022-10-04T18:07:27.643Z"
   },
   {
    "duration": 1704,
    "start_time": "2022-10-04T18:08:25.851Z"
   },
   {
    "duration": 64,
    "start_time": "2022-10-04T18:08:27.556Z"
   },
   {
    "duration": 1700,
    "start_time": "2022-10-04T18:10:12.315Z"
   },
   {
    "duration": 45,
    "start_time": "2022-10-04T18:10:14.017Z"
   },
   {
    "duration": 1687,
    "start_time": "2022-10-04T18:10:47.870Z"
   },
   {
    "duration": 30,
    "start_time": "2022-10-04T18:10:49.559Z"
   },
   {
    "duration": 1683,
    "start_time": "2022-10-04T18:11:22.518Z"
   },
   {
    "duration": 49,
    "start_time": "2022-10-04T18:11:24.204Z"
   },
   {
    "duration": 1680,
    "start_time": "2022-10-04T18:12:08.486Z"
   },
   {
    "duration": 65,
    "start_time": "2022-10-04T18:12:10.167Z"
   },
   {
    "duration": 2600,
    "start_time": "2022-10-04T18:14:34.705Z"
   },
   {
    "duration": 35,
    "start_time": "2022-10-04T18:14:37.307Z"
   },
   {
    "duration": 1743,
    "start_time": "2022-10-04T18:16:06.893Z"
   },
   {
    "duration": 55,
    "start_time": "2022-10-04T18:16:08.638Z"
   },
   {
    "duration": 1729,
    "start_time": "2022-10-04T18:30:07.858Z"
   },
   {
    "duration": 36,
    "start_time": "2022-10-04T18:30:09.588Z"
   },
   {
    "duration": 1665,
    "start_time": "2022-10-04T18:30:18.266Z"
   },
   {
    "duration": 29,
    "start_time": "2022-10-04T18:30:19.933Z"
   },
   {
    "duration": 1703,
    "start_time": "2022-10-04T18:30:36.246Z"
   },
   {
    "duration": 30,
    "start_time": "2022-10-04T18:30:37.951Z"
   },
   {
    "duration": 1818,
    "start_time": "2022-10-04T18:43:36.106Z"
   },
   {
    "duration": 73,
    "start_time": "2022-10-04T18:43:37.926Z"
   },
   {
    "duration": 1674,
    "start_time": "2022-10-04T18:43:55.681Z"
   },
   {
    "duration": 63,
    "start_time": "2022-10-04T18:43:57.356Z"
   },
   {
    "duration": 1717,
    "start_time": "2022-10-04T18:46:56.569Z"
   },
   {
    "duration": 63,
    "start_time": "2022-10-04T18:46:58.288Z"
   },
   {
    "duration": 1785,
    "start_time": "2022-10-04T18:48:24.422Z"
   },
   {
    "duration": 101,
    "start_time": "2022-10-04T18:48:26.209Z"
   },
   {
    "duration": 2809,
    "start_time": "2022-10-04T18:49:16.178Z"
   },
   {
    "duration": 1199,
    "start_time": "2022-10-04T18:49:18.989Z"
   },
   {
    "duration": 1722,
    "start_time": "2022-10-04T18:51:36.477Z"
   },
   {
    "duration": 1197,
    "start_time": "2022-10-04T18:51:38.201Z"
   },
   {
    "duration": 1696,
    "start_time": "2022-10-04T18:53:09.744Z"
   },
   {
    "duration": 2372,
    "start_time": "2022-10-04T18:53:11.441Z"
   },
   {
    "duration": 1723,
    "start_time": "2022-10-04T18:54:26.565Z"
   },
   {
    "duration": 1205,
    "start_time": "2022-10-04T18:54:28.290Z"
   },
   {
    "duration": 1692,
    "start_time": "2022-10-04T18:56:01.567Z"
   },
   {
    "duration": 2408,
    "start_time": "2022-10-04T18:56:03.261Z"
   },
   {
    "duration": 1675,
    "start_time": "2022-10-04T18:57:29.352Z"
   },
   {
    "duration": 1302,
    "start_time": "2022-10-04T18:57:31.028Z"
   },
   {
    "duration": 1684,
    "start_time": "2022-10-04T18:58:49.403Z"
   },
   {
    "duration": 902,
    "start_time": "2022-10-04T18:58:51.090Z"
   },
   {
    "duration": 1657,
    "start_time": "2022-10-04T18:59:10.580Z"
   },
   {
    "duration": 2474,
    "start_time": "2022-10-04T18:59:12.239Z"
   },
   {
    "duration": 1668,
    "start_time": "2022-10-04T18:59:49.591Z"
   },
   {
    "duration": 1213,
    "start_time": "2022-10-04T18:59:51.261Z"
   },
   {
    "duration": 1698,
    "start_time": "2022-10-04T19:00:08.551Z"
   },
   {
    "duration": 2569,
    "start_time": "2022-10-04T19:00:10.251Z"
   },
   {
    "duration": 1715,
    "start_time": "2022-10-04T19:00:24.996Z"
   },
   {
    "duration": 1198,
    "start_time": "2022-10-04T19:00:26.713Z"
   },
   {
    "duration": 1702,
    "start_time": "2022-10-04T19:07:17.230Z"
   },
   {
    "duration": 1183,
    "start_time": "2022-10-04T19:07:18.934Z"
   },
   {
    "duration": 1715,
    "start_time": "2022-10-04T19:07:47.365Z"
   },
   {
    "duration": 2518,
    "start_time": "2022-10-04T19:07:49.082Z"
   },
   {
    "duration": 1687,
    "start_time": "2022-10-04T19:10:11.492Z"
   },
   {
    "duration": 1157,
    "start_time": "2022-10-04T19:10:13.180Z"
   },
   {
    "duration": 1694,
    "start_time": "2022-10-04T19:10:51.776Z"
   },
   {
    "duration": 1157,
    "start_time": "2022-10-04T19:10:53.472Z"
   },
   {
    "duration": 1713,
    "start_time": "2022-10-04T19:15:07.562Z"
   },
   {
    "duration": 2615,
    "start_time": "2022-10-04T19:15:09.277Z"
   },
   {
    "duration": 1666,
    "start_time": "2022-10-04T19:26:35.482Z"
   },
   {
    "duration": 306,
    "start_time": "2022-10-04T19:26:37.149Z"
   },
   {
    "duration": 284,
    "start_time": "2022-10-04T19:27:50.270Z"
   },
   {
    "duration": 1684,
    "start_time": "2022-10-04T19:27:50.555Z"
   },
   {
    "duration": 1699,
    "start_time": "2022-10-04T19:29:00.089Z"
   },
   {
    "duration": 301,
    "start_time": "2022-10-04T19:29:01.790Z"
   },
   {
    "duration": 308,
    "start_time": "2022-10-04T19:29:32.793Z"
   },
   {
    "duration": 1681,
    "start_time": "2022-10-04T19:29:34.834Z"
   },
   {
    "duration": 297,
    "start_time": "2022-10-04T19:29:36.516Z"
   },
   {
    "duration": 1706,
    "start_time": "2022-10-04T19:34:33.013Z"
   },
   {
    "duration": 542,
    "start_time": "2022-10-04T19:34:34.720Z"
   },
   {
    "duration": 3206,
    "start_time": "2022-10-05T14:39:55.765Z"
   },
   {
    "duration": 624,
    "start_time": "2022-10-05T14:39:58.973Z"
   },
   {
    "duration": 1845,
    "start_time": "2022-10-05T14:42:10.692Z"
   },
   {
    "duration": 668,
    "start_time": "2022-10-05T14:42:12.538Z"
   },
   {
    "duration": 1950,
    "start_time": "2022-10-05T14:42:47.325Z"
   },
   {
    "duration": 553,
    "start_time": "2022-10-05T14:42:49.277Z"
   },
   {
    "duration": 2057,
    "start_time": "2022-10-05T15:23:04.248Z"
   },
   {
    "duration": 743,
    "start_time": "2022-10-05T15:23:06.306Z"
   },
   {
    "duration": 1806,
    "start_time": "2022-10-05T15:25:46.723Z"
   },
   {
    "duration": 718,
    "start_time": "2022-10-05T15:25:48.531Z"
   },
   {
    "duration": 1760,
    "start_time": "2022-10-05T15:26:11.867Z"
   },
   {
    "duration": 770,
    "start_time": "2022-10-05T15:26:13.628Z"
   },
   {
    "duration": 1843,
    "start_time": "2022-10-05T15:27:09.599Z"
   },
   {
    "duration": 758,
    "start_time": "2022-10-05T15:27:11.444Z"
   },
   {
    "duration": 1838,
    "start_time": "2022-10-05T15:27:31.343Z"
   },
   {
    "duration": 67,
    "start_time": "2022-10-05T15:27:33.183Z"
   },
   {
    "duration": 1992,
    "start_time": "2022-10-05T16:16:50.512Z"
   },
   {
    "duration": 57,
    "start_time": "2022-10-05T16:16:52.506Z"
   },
   {
    "duration": 0,
    "start_time": "2022-10-05T16:16:52.564Z"
   },
   {
    "duration": 1764,
    "start_time": "2022-10-05T16:50:36.990Z"
   },
   {
    "duration": 14,
    "start_time": "2022-10-05T16:50:38.756Z"
   },
   {
    "duration": 1,
    "start_time": "2022-10-05T16:50:38.771Z"
   },
   {
    "duration": 1791,
    "start_time": "2022-10-05T16:51:49.662Z"
   },
   {
    "duration": 845,
    "start_time": "2022-10-05T16:51:51.455Z"
   },
   {
    "duration": 277,
    "start_time": "2022-10-05T16:51:52.302Z"
   },
   {
    "duration": 1774,
    "start_time": "2022-10-05T16:52:19.723Z"
   },
   {
    "duration": 593,
    "start_time": "2022-10-05T16:52:21.499Z"
   },
   {
    "duration": 550,
    "start_time": "2022-10-05T16:52:22.094Z"
   },
   {
    "duration": 2201,
    "start_time": "2022-10-05T16:57:40.913Z"
   },
   {
    "duration": 577,
    "start_time": "2022-10-05T16:57:43.115Z"
   },
   {
    "duration": 1276,
    "start_time": "2022-10-05T16:57:43.693Z"
   },
   {
    "duration": 1828,
    "start_time": "2022-10-05T16:58:28.626Z"
   },
   {
    "duration": 945,
    "start_time": "2022-10-05T16:58:30.456Z"
   },
   {
    "duration": 1375,
    "start_time": "2022-10-05T16:58:31.403Z"
   },
   {
    "duration": 1963,
    "start_time": "2022-10-05T16:59:16.942Z"
   },
   {
    "duration": 612,
    "start_time": "2022-10-05T16:59:18.908Z"
   },
   {
    "duration": 1443,
    "start_time": "2022-10-05T16:59:19.521Z"
   },
   {
    "duration": 2115,
    "start_time": "2022-10-05T16:59:35.625Z"
   },
   {
    "duration": 601,
    "start_time": "2022-10-05T16:59:37.742Z"
   },
   {
    "duration": 559,
    "start_time": "2022-10-05T16:59:38.345Z"
   },
   {
    "duration": 3239,
    "start_time": "2022-10-20T18:16:45.306Z"
   },
   {
    "duration": 780,
    "start_time": "2022-10-20T18:16:48.547Z"
   },
   {
    "duration": 663,
    "start_time": "2022-10-20T18:16:49.329Z"
   },
   {
    "duration": 188,
    "start_time": "2022-10-20T18:16:49.994Z"
   },
   {
    "duration": 2311,
    "start_time": "2022-10-20T18:17:21.341Z"
   },
   {
    "duration": 808,
    "start_time": "2022-10-20T18:17:23.655Z"
   },
   {
    "duration": 663,
    "start_time": "2022-10-20T18:17:24.465Z"
   },
   {
    "duration": 173,
    "start_time": "2022-10-20T18:17:25.130Z"
   },
   {
    "duration": 2147,
    "start_time": "2022-10-20T18:25:16.365Z"
   },
   {
    "duration": 661,
    "start_time": "2022-10-20T18:25:18.515Z"
   },
   {
    "duration": 747,
    "start_time": "2022-10-20T18:25:19.178Z"
   },
   {
    "duration": 158,
    "start_time": "2022-10-20T18:25:19.927Z"
   },
   {
    "duration": 2356,
    "start_time": "2022-10-20T18:33:42.471Z"
   },
   {
    "duration": 712,
    "start_time": "2022-10-20T18:33:44.830Z"
   },
   {
    "duration": 860,
    "start_time": "2022-10-20T18:33:45.544Z"
   },
   {
    "duration": 191,
    "start_time": "2022-10-20T18:33:46.406Z"
   },
   {
    "duration": 145,
    "start_time": "2022-10-20T18:35:44.181Z"
   },
   {
    "duration": 2263,
    "start_time": "2022-10-20T18:36:12.799Z"
   },
   {
    "duration": 926,
    "start_time": "2022-10-20T18:36:15.069Z"
   },
   {
    "duration": 714,
    "start_time": "2022-10-20T18:36:15.997Z"
   },
   {
    "duration": 164,
    "start_time": "2022-10-20T18:36:16.713Z"
   },
   {
    "duration": 2552,
    "start_time": "2022-10-20T18:36:30.230Z"
   },
   {
    "duration": 735,
    "start_time": "2022-10-20T18:36:32.785Z"
   },
   {
    "duration": 904,
    "start_time": "2022-10-20T18:36:33.521Z"
   },
   {
    "duration": 141,
    "start_time": "2022-10-20T18:36:34.428Z"
   },
   {
    "duration": 2210,
    "start_time": "2022-10-20T18:36:54.512Z"
   },
   {
    "duration": 746,
    "start_time": "2022-10-20T18:36:56.724Z"
   },
   {
    "duration": 931,
    "start_time": "2022-10-20T18:36:57.472Z"
   },
   {
    "duration": 198,
    "start_time": "2022-10-20T18:36:58.405Z"
   },
   {
    "duration": 2269,
    "start_time": "2022-10-20T18:45:12.537Z"
   },
   {
    "duration": 771,
    "start_time": "2022-10-20T18:45:14.808Z"
   },
   {
    "duration": 1001,
    "start_time": "2022-10-20T18:45:15.582Z"
   },
   {
    "duration": 195,
    "start_time": "2022-10-20T18:45:16.585Z"
   },
   {
    "duration": 2239,
    "start_time": "2022-10-20T18:50:44.776Z"
   },
   {
    "duration": 728,
    "start_time": "2022-10-20T18:50:47.017Z"
   },
   {
    "duration": 1019,
    "start_time": "2022-10-20T18:50:47.748Z"
   },
   {
    "duration": 201,
    "start_time": "2022-10-20T18:50:48.769Z"
   },
   {
    "duration": 2355,
    "start_time": "2022-10-20T18:51:04.718Z"
   },
   {
    "duration": 703,
    "start_time": "2022-10-20T18:51:07.076Z"
   },
   {
    "duration": 687,
    "start_time": "2022-10-20T18:51:07.781Z"
   },
   {
    "duration": 152,
    "start_time": "2022-10-20T18:51:08.470Z"
   },
   {
    "duration": 2490,
    "start_time": "2022-10-20T18:51:21.995Z"
   },
   {
    "duration": 690,
    "start_time": "2022-10-20T18:51:24.488Z"
   },
   {
    "duration": 665,
    "start_time": "2022-10-20T18:51:25.182Z"
   },
   {
    "duration": 180,
    "start_time": "2022-10-20T18:51:25.849Z"
   },
   {
    "duration": 2550,
    "start_time": "2022-10-20T18:51:44.397Z"
   },
   {
    "duration": 710,
    "start_time": "2022-10-20T18:51:46.955Z"
   },
   {
    "duration": 663,
    "start_time": "2022-10-20T18:51:47.667Z"
   },
   {
    "duration": 168,
    "start_time": "2022-10-20T18:51:48.333Z"
   },
   {
    "duration": 3666,
    "start_time": "2022-10-21T09:20:30.347Z"
   },
   {
    "duration": 878,
    "start_time": "2022-10-21T09:20:34.016Z"
   },
   {
    "duration": 827,
    "start_time": "2022-10-21T09:20:34.895Z"
   },
   {
    "duration": 0,
    "start_time": "2022-10-21T09:20:35.724Z"
   },
   {
    "duration": 2591,
    "start_time": "2022-10-21T09:21:41.885Z"
   },
   {
    "duration": 800,
    "start_time": "2022-10-21T09:21:44.478Z"
   },
   {
    "duration": 867,
    "start_time": "2022-10-21T09:21:45.280Z"
   },
   {
    "duration": 0,
    "start_time": "2022-10-21T09:21:46.149Z"
   },
   {
    "duration": 2396,
    "start_time": "2022-10-21T09:22:31.841Z"
   },
   {
    "duration": 756,
    "start_time": "2022-10-21T09:22:34.239Z"
   },
   {
    "duration": 12089,
    "start_time": "2022-10-21T09:22:34.996Z"
   },
   {
    "duration": 200,
    "start_time": "2022-10-21T09:22:47.088Z"
   },
   {
    "duration": 2436,
    "start_time": "2022-10-21T09:23:04.241Z"
   },
   {
    "duration": 751,
    "start_time": "2022-10-21T09:23:06.679Z"
   },
   {
    "duration": 12601,
    "start_time": "2022-10-21T09:23:07.432Z"
   },
   {
    "duration": 164,
    "start_time": "2022-10-21T09:23:20.035Z"
   },
   {
    "duration": 2253,
    "start_time": "2022-10-21T09:23:37.819Z"
   },
   {
    "duration": 940,
    "start_time": "2022-10-21T09:23:40.075Z"
   },
   {
    "duration": 12074,
    "start_time": "2022-10-21T09:23:41.017Z"
   },
   {
    "duration": 166,
    "start_time": "2022-10-21T09:23:53.093Z"
   },
   {
    "duration": 2506,
    "start_time": "2022-10-21T09:24:07.867Z"
   },
   {
    "duration": 741,
    "start_time": "2022-10-21T09:24:10.375Z"
   },
   {
    "duration": 12130,
    "start_time": "2022-10-21T09:24:11.118Z"
   },
   {
    "duration": 175,
    "start_time": "2022-10-21T09:24:23.250Z"
   },
   {
    "duration": 2285,
    "start_time": "2022-10-21T09:27:25.322Z"
   },
   {
    "duration": 678,
    "start_time": "2022-10-21T09:27:27.609Z"
   },
   {
    "duration": 11233,
    "start_time": "2022-10-21T09:27:28.289Z"
   },
   {
    "duration": 177,
    "start_time": "2022-10-21T09:27:39.525Z"
   },
   {
    "duration": 162,
    "start_time": "2022-10-21T09:27:39.704Z"
   },
   {
    "duration": 158,
    "start_time": "2022-10-21T09:27:39.868Z"
   },
   {
    "duration": 156,
    "start_time": "2022-10-21T09:27:40.029Z"
   },
   {
    "duration": 163,
    "start_time": "2022-10-21T09:27:40.187Z"
   },
   {
    "duration": 156,
    "start_time": "2022-10-21T09:31:15.971Z"
   },
   {
    "duration": 2198,
    "start_time": "2022-10-21T09:31:32.521Z"
   },
   {
    "duration": 980,
    "start_time": "2022-10-21T09:31:34.721Z"
   },
   {
    "duration": 11057,
    "start_time": "2022-10-21T09:31:35.703Z"
   },
   {
    "duration": 174,
    "start_time": "2022-10-21T09:31:46.763Z"
   },
   {
    "duration": 160,
    "start_time": "2022-10-21T09:31:46.939Z"
   },
   {
    "duration": 168,
    "start_time": "2022-10-21T09:31:47.101Z"
   },
   {
    "duration": 166,
    "start_time": "2022-10-21T09:31:47.271Z"
   },
   {
    "duration": 164,
    "start_time": "2022-10-21T09:31:47.439Z"
   },
   {
    "duration": 183,
    "start_time": "2022-10-21T09:33:08.654Z"
   },
   {
    "duration": 2385,
    "start_time": "2022-10-21T09:48:09.898Z"
   },
   {
    "duration": 1045,
    "start_time": "2022-10-21T09:48:12.285Z"
   },
   {
    "duration": 11649,
    "start_time": "2022-10-21T09:48:13.332Z"
   },
   {
    "duration": 194,
    "start_time": "2022-10-21T09:48:24.984Z"
   },
   {
    "duration": 166,
    "start_time": "2022-10-21T09:48:25.180Z"
   },
   {
    "duration": 173,
    "start_time": "2022-10-21T09:48:25.348Z"
   },
   {
    "duration": 201,
    "start_time": "2022-10-21T09:48:25.522Z"
   },
   {
    "duration": 179,
    "start_time": "2022-10-21T09:48:25.724Z"
   },
   {
    "duration": 207,
    "start_time": "2022-10-21T09:48:25.905Z"
   },
   {
    "duration": 206,
    "start_time": "2022-10-21T09:48:26.116Z"
   },
   {
    "duration": 163,
    "start_time": "2022-10-21T09:48:26.324Z"
   },
   {
    "duration": 192,
    "start_time": "2022-10-21T09:48:26.489Z"
   },
   {
    "duration": 195,
    "start_time": "2022-10-21T09:48:26.683Z"
   },
   {
    "duration": 190,
    "start_time": "2022-10-21T09:48:26.880Z"
   },
   {
    "duration": 200,
    "start_time": "2022-10-21T09:48:27.072Z"
   },
   {
    "duration": 160,
    "start_time": "2022-10-21T09:48:27.273Z"
   },
   {
    "duration": 212,
    "start_time": "2022-10-21T09:49:02.368Z"
   },
   {
    "duration": 157,
    "start_time": "2022-10-21T09:49:14.410Z"
   },
   {
    "duration": 136,
    "start_time": "2022-10-21T09:49:28.441Z"
   },
   {
    "duration": 152,
    "start_time": "2022-10-21T09:53:22.045Z"
   },
   {
    "duration": 144,
    "start_time": "2022-10-21T09:56:08.706Z"
   },
   {
    "duration": 153,
    "start_time": "2022-10-21T09:56:41.121Z"
   },
   {
    "duration": 218,
    "start_time": "2022-10-21T09:56:58.723Z"
   },
   {
    "duration": 238,
    "start_time": "2022-10-21T09:57:37.647Z"
   },
   {
    "duration": 138,
    "start_time": "2022-10-21T10:02:43.626Z"
   },
   {
    "duration": 135,
    "start_time": "2022-10-21T10:03:05.568Z"
   },
   {
    "duration": 135,
    "start_time": "2022-10-21T10:06:19.170Z"
   },
   {
    "duration": 151,
    "start_time": "2022-10-21T10:06:59.520Z"
   },
   {
    "duration": 2587,
    "start_time": "2022-10-21T10:30:40.238Z"
   },
   {
    "duration": 670,
    "start_time": "2022-10-21T10:30:42.827Z"
   },
   {
    "duration": 10963,
    "start_time": "2022-10-21T10:30:43.499Z"
   },
   {
    "duration": 163,
    "start_time": "2022-10-21T10:30:54.465Z"
   },
   {
    "duration": 170,
    "start_time": "2022-10-21T10:30:54.630Z"
   },
   {
    "duration": 166,
    "start_time": "2022-10-21T10:30:54.802Z"
   },
   {
    "duration": 168,
    "start_time": "2022-10-21T10:30:54.970Z"
   },
   {
    "duration": 155,
    "start_time": "2022-10-21T10:30:55.140Z"
   },
   {
    "duration": 194,
    "start_time": "2022-10-21T10:30:55.297Z"
   },
   {
    "duration": 164,
    "start_time": "2022-10-21T10:30:55.494Z"
   },
   {
    "duration": 162,
    "start_time": "2022-10-21T10:30:55.660Z"
   },
   {
    "duration": 166,
    "start_time": "2022-10-21T10:30:55.824Z"
   },
   {
    "duration": 176,
    "start_time": "2022-10-21T10:30:55.991Z"
   },
   {
    "duration": 174,
    "start_time": "2022-10-21T10:30:56.169Z"
   },
   {
    "duration": 168,
    "start_time": "2022-10-21T10:30:56.345Z"
   },
   {
    "duration": 142,
    "start_time": "2022-10-21T10:30:56.515Z"
   },
   {
    "duration": 15,
    "start_time": "2022-10-21T10:30:56.659Z"
   },
   {
    "duration": 214,
    "start_time": "2022-10-21T10:44:36.567Z"
   },
   {
    "duration": 2641,
    "start_time": "2022-10-21T10:45:22.286Z"
   },
   {
    "duration": 2202,
    "start_time": "2022-10-21T10:46:06.982Z"
   },
   {
    "duration": 705,
    "start_time": "2022-10-21T10:46:09.186Z"
   },
   {
    "duration": 11428,
    "start_time": "2022-10-21T10:46:09.893Z"
   },
   {
    "duration": 254,
    "start_time": "2022-10-21T10:46:21.323Z"
   },
   {
    "duration": 204,
    "start_time": "2022-10-21T10:46:21.579Z"
   },
   {
    "duration": 176,
    "start_time": "2022-10-21T10:46:21.786Z"
   },
   {
    "duration": 174,
    "start_time": "2022-10-21T10:46:21.964Z"
   },
   {
    "duration": 621,
    "start_time": "2022-10-21T10:46:22.140Z"
   },
   {
    "duration": 213,
    "start_time": "2022-10-21T10:46:22.762Z"
   },
   {
    "duration": 155,
    "start_time": "2022-10-21T10:46:22.979Z"
   },
   {
    "duration": 147,
    "start_time": "2022-10-21T10:46:23.137Z"
   },
   {
    "duration": 175,
    "start_time": "2022-10-21T10:46:23.286Z"
   },
   {
    "duration": 180,
    "start_time": "2022-10-21T10:46:23.464Z"
   },
   {
    "duration": 172,
    "start_time": "2022-10-21T10:46:23.646Z"
   },
   {
    "duration": 188,
    "start_time": "2022-10-21T10:46:23.820Z"
   },
   {
    "duration": 146,
    "start_time": "2022-10-21T10:46:24.010Z"
   },
   {
    "duration": 673,
    "start_time": "2022-10-21T10:46:24.158Z"
   },
   {
    "duration": 2801,
    "start_time": "2022-10-21T17:02:36.623Z"
   },
   {
    "duration": 579,
    "start_time": "2022-10-21T17:02:39.426Z"
   },
   {
    "duration": 9500,
    "start_time": "2022-10-21T17:02:40.006Z"
   },
   {
    "duration": 148,
    "start_time": "2022-10-21T17:02:49.508Z"
   },
   {
    "duration": 126,
    "start_time": "2022-10-21T17:02:49.658Z"
   },
   {
    "duration": 144,
    "start_time": "2022-10-21T17:02:49.785Z"
   },
   {
    "duration": 155,
    "start_time": "2022-10-21T17:02:49.930Z"
   },
   {
    "duration": 127,
    "start_time": "2022-10-21T17:02:50.087Z"
   },
   {
    "duration": 244,
    "start_time": "2022-10-21T17:02:50.222Z"
   },
   {
    "duration": 126,
    "start_time": "2022-10-21T17:02:50.469Z"
   },
   {
    "duration": 119,
    "start_time": "2022-10-21T17:02:50.596Z"
   },
   {
    "duration": 157,
    "start_time": "2022-10-21T17:02:50.721Z"
   },
   {
    "duration": 154,
    "start_time": "2022-10-21T17:02:50.880Z"
   },
   {
    "duration": 154,
    "start_time": "2022-10-21T17:02:51.035Z"
   },
   {
    "duration": 149,
    "start_time": "2022-10-21T17:02:51.192Z"
   },
   {
    "duration": 123,
    "start_time": "2022-10-21T17:02:51.342Z"
   },
   {
    "duration": 1270,
    "start_time": "2022-10-21T17:02:51.467Z"
   },
   {
    "duration": 2176,
    "start_time": "2022-10-21T17:19:35.133Z"
   },
   {
    "duration": 582,
    "start_time": "2022-10-21T17:19:37.310Z"
   },
   {
    "duration": 9867,
    "start_time": "2022-10-21T17:19:37.894Z"
   },
   {
    "duration": 149,
    "start_time": "2022-10-21T17:19:47.763Z"
   },
   {
    "duration": 130,
    "start_time": "2022-10-21T17:19:47.914Z"
   },
   {
    "duration": 136,
    "start_time": "2022-10-21T17:19:48.045Z"
   },
   {
    "duration": 158,
    "start_time": "2022-10-21T17:19:48.183Z"
   },
   {
    "duration": 132,
    "start_time": "2022-10-21T17:19:48.343Z"
   },
   {
    "duration": 168,
    "start_time": "2022-10-21T17:19:48.476Z"
   },
   {
    "duration": 125,
    "start_time": "2022-10-21T17:19:48.646Z"
   },
   {
    "duration": 120,
    "start_time": "2022-10-21T17:19:48.773Z"
   },
   {
    "duration": 179,
    "start_time": "2022-10-21T17:19:48.895Z"
   },
   {
    "duration": 170,
    "start_time": "2022-10-21T17:19:49.075Z"
   },
   {
    "duration": 150,
    "start_time": "2022-10-21T17:19:49.247Z"
   },
   {
    "duration": 260,
    "start_time": "2022-10-21T17:19:49.399Z"
   },
   {
    "duration": 144,
    "start_time": "2022-10-21T17:19:49.661Z"
   },
   {
    "duration": 1194,
    "start_time": "2022-10-21T17:19:49.807Z"
   },
   {
    "duration": 2092,
    "start_time": "2022-10-21T17:21:21.256Z"
   },
   {
    "duration": 624,
    "start_time": "2022-10-21T17:21:23.351Z"
   },
   {
    "duration": 10127,
    "start_time": "2022-10-21T17:21:23.977Z"
   },
   {
    "duration": 153,
    "start_time": "2022-10-21T17:21:34.106Z"
   },
   {
    "duration": 125,
    "start_time": "2022-10-21T17:21:34.260Z"
   },
   {
    "duration": 135,
    "start_time": "2022-10-21T17:21:34.387Z"
   },
   {
    "duration": 144,
    "start_time": "2022-10-21T17:21:34.523Z"
   },
   {
    "duration": 172,
    "start_time": "2022-10-21T17:21:34.669Z"
   },
   {
    "duration": 189,
    "start_time": "2022-10-21T17:21:34.843Z"
   },
   {
    "duration": 179,
    "start_time": "2022-10-21T17:21:35.034Z"
   },
   {
    "duration": 184,
    "start_time": "2022-10-21T17:21:35.215Z"
   },
   {
    "duration": 164,
    "start_time": "2022-10-21T17:21:35.402Z"
   },
   {
    "duration": 185,
    "start_time": "2022-10-21T17:21:35.568Z"
   },
   {
    "duration": 201,
    "start_time": "2022-10-21T17:21:35.755Z"
   },
   {
    "duration": 206,
    "start_time": "2022-10-21T17:21:35.958Z"
   },
   {
    "duration": 162,
    "start_time": "2022-10-21T17:21:36.166Z"
   },
   {
    "duration": 875,
    "start_time": "2022-10-21T17:21:36.330Z"
   },
   {
    "duration": 1989,
    "start_time": "2022-10-21T17:22:15.604Z"
   },
   {
    "duration": 577,
    "start_time": "2022-10-21T17:22:17.595Z"
   },
   {
    "duration": 9713,
    "start_time": "2022-10-21T17:22:18.174Z"
   },
   {
    "duration": 143,
    "start_time": "2022-10-21T17:22:27.889Z"
   },
   {
    "duration": 297,
    "start_time": "2022-10-21T17:22:28.033Z"
   },
   {
    "duration": 149,
    "start_time": "2022-10-21T17:22:28.331Z"
   },
   {
    "duration": 142,
    "start_time": "2022-10-21T17:22:28.481Z"
   },
   {
    "duration": 124,
    "start_time": "2022-10-21T17:22:28.625Z"
   },
   {
    "duration": 162,
    "start_time": "2022-10-21T17:22:28.751Z"
   },
   {
    "duration": 131,
    "start_time": "2022-10-21T17:22:28.915Z"
   },
   {
    "duration": 114,
    "start_time": "2022-10-21T17:22:29.047Z"
   },
   {
    "duration": 135,
    "start_time": "2022-10-21T17:22:29.163Z"
   },
   {
    "duration": 152,
    "start_time": "2022-10-21T17:22:29.300Z"
   },
   {
    "duration": 145,
    "start_time": "2022-10-21T17:22:29.454Z"
   },
   {
    "duration": 137,
    "start_time": "2022-10-21T17:22:29.601Z"
   },
   {
    "duration": 124,
    "start_time": "2022-10-21T17:22:29.740Z"
   },
   {
    "duration": 1236,
    "start_time": "2022-10-21T17:22:29.866Z"
   },
   {
    "duration": 2039,
    "start_time": "2022-10-21T17:53:07.828Z"
   },
   {
    "duration": 573,
    "start_time": "2022-10-21T17:53:09.869Z"
   },
   {
    "duration": 9961,
    "start_time": "2022-10-21T17:53:10.444Z"
   },
   {
    "duration": 144,
    "start_time": "2022-10-21T17:53:20.407Z"
   },
   {
    "duration": 140,
    "start_time": "2022-10-21T17:53:20.553Z"
   },
   {
    "duration": 157,
    "start_time": "2022-10-21T17:53:20.694Z"
   },
   {
    "duration": 147,
    "start_time": "2022-10-21T17:53:20.853Z"
   },
   {
    "duration": 149,
    "start_time": "2022-10-21T17:53:21.002Z"
   },
   {
    "duration": 190,
    "start_time": "2022-10-21T17:53:21.152Z"
   },
   {
    "duration": 164,
    "start_time": "2022-10-21T17:53:21.345Z"
   },
   {
    "duration": 145,
    "start_time": "2022-10-21T17:53:21.511Z"
   },
   {
    "duration": 170,
    "start_time": "2022-10-21T17:53:21.657Z"
   },
   {
    "duration": 171,
    "start_time": "2022-10-21T17:53:21.829Z"
   },
   {
    "duration": 173,
    "start_time": "2022-10-21T17:53:22.002Z"
   },
   {
    "duration": 428,
    "start_time": "2022-10-21T17:53:22.177Z"
   },
   {
    "duration": 135,
    "start_time": "2022-10-21T17:53:22.607Z"
   },
   {
    "duration": 2088,
    "start_time": "2022-10-21T17:53:24.202Z"
   },
   {
    "duration": 695,
    "start_time": "2022-10-21T17:53:26.292Z"
   },
   {
    "duration": 10578,
    "start_time": "2022-10-21T17:53:26.989Z"
   },
   {
    "duration": 143,
    "start_time": "2022-10-21T17:53:37.569Z"
   },
   {
    "duration": 140,
    "start_time": "2022-10-21T17:53:37.713Z"
   },
   {
    "duration": 141,
    "start_time": "2022-10-21T17:53:37.855Z"
   },
   {
    "duration": 140,
    "start_time": "2022-10-21T17:53:37.997Z"
   },
   {
    "duration": 121,
    "start_time": "2022-10-21T17:53:38.138Z"
   },
   {
    "duration": 164,
    "start_time": "2022-10-21T17:53:38.260Z"
   },
   {
    "duration": 127,
    "start_time": "2022-10-21T17:53:38.425Z"
   },
   {
    "duration": 144,
    "start_time": "2022-10-21T17:53:38.554Z"
   },
   {
    "duration": 145,
    "start_time": "2022-10-21T17:53:38.699Z"
   },
   {
    "duration": 167,
    "start_time": "2022-10-21T17:53:38.845Z"
   },
   {
    "duration": 146,
    "start_time": "2022-10-21T17:53:39.013Z"
   },
   {
    "duration": 141,
    "start_time": "2022-10-21T17:53:39.161Z"
   },
   {
    "duration": 136,
    "start_time": "2022-10-21T17:53:39.304Z"
   },
   {
    "duration": 1206,
    "start_time": "2022-10-21T17:53:39.442Z"
   },
   {
    "duration": 26,
    "start_time": "2022-10-21T17:53:40.649Z"
   },
   {
    "duration": 1938,
    "start_time": "2022-10-21T18:03:59.950Z"
   },
   {
    "duration": 948,
    "start_time": "2022-10-21T18:04:01.890Z"
   },
   {
    "duration": 10022,
    "start_time": "2022-10-21T18:04:02.841Z"
   },
   {
    "duration": 145,
    "start_time": "2022-10-21T18:04:12.865Z"
   },
   {
    "duration": 139,
    "start_time": "2022-10-21T18:04:13.012Z"
   },
   {
    "duration": 141,
    "start_time": "2022-10-21T18:04:13.153Z"
   },
   {
    "duration": 140,
    "start_time": "2022-10-21T18:04:13.295Z"
   },
   {
    "duration": 121,
    "start_time": "2022-10-21T18:04:13.436Z"
   },
   {
    "duration": 170,
    "start_time": "2022-10-21T18:04:13.559Z"
   },
   {
    "duration": 140,
    "start_time": "2022-10-21T18:04:13.731Z"
   },
   {
    "duration": 118,
    "start_time": "2022-10-21T18:04:13.873Z"
   },
   {
    "duration": 147,
    "start_time": "2022-10-21T18:04:13.993Z"
   },
   {
    "duration": 149,
    "start_time": "2022-10-21T18:04:14.141Z"
   },
   {
    "duration": 178,
    "start_time": "2022-10-21T18:04:14.292Z"
   },
   {
    "duration": 150,
    "start_time": "2022-10-21T18:04:14.471Z"
   },
   {
    "duration": 131,
    "start_time": "2022-10-21T18:04:14.623Z"
   },
   {
    "duration": 1334,
    "start_time": "2022-10-21T18:04:14.756Z"
   },
   {
    "duration": 37,
    "start_time": "2022-10-21T18:04:16.092Z"
   },
   {
    "duration": 29,
    "start_time": "2022-10-21T18:04:16.131Z"
   },
   {
    "duration": 1827,
    "start_time": "2022-10-21T18:06:56.861Z"
   },
   {
    "duration": 966,
    "start_time": "2022-10-21T18:06:58.690Z"
   },
   {
    "duration": 10215,
    "start_time": "2022-10-21T18:06:59.657Z"
   },
   {
    "duration": 139,
    "start_time": "2022-10-21T18:07:09.874Z"
   },
   {
    "duration": 134,
    "start_time": "2022-10-21T18:07:10.021Z"
   },
   {
    "duration": 154,
    "start_time": "2022-10-21T18:07:10.157Z"
   },
   {
    "duration": 148,
    "start_time": "2022-10-21T18:07:10.313Z"
   },
   {
    "duration": 134,
    "start_time": "2022-10-21T18:07:10.463Z"
   },
   {
    "duration": 173,
    "start_time": "2022-10-21T18:07:10.599Z"
   },
   {
    "duration": 127,
    "start_time": "2022-10-21T18:07:10.775Z"
   },
   {
    "duration": 139,
    "start_time": "2022-10-21T18:07:10.904Z"
   },
   {
    "duration": 156,
    "start_time": "2022-10-21T18:07:11.044Z"
   },
   {
    "duration": 157,
    "start_time": "2022-10-21T18:07:11.201Z"
   },
   {
    "duration": 145,
    "start_time": "2022-10-21T18:07:11.360Z"
   },
   {
    "duration": 177,
    "start_time": "2022-10-21T18:07:11.507Z"
   },
   {
    "duration": 137,
    "start_time": "2022-10-21T18:07:11.686Z"
   },
   {
    "duration": 1246,
    "start_time": "2022-10-21T18:07:11.825Z"
   },
   {
    "duration": 22,
    "start_time": "2022-10-21T18:07:13.073Z"
   },
   {
    "duration": 5,
    "start_time": "2022-10-21T18:07:13.096Z"
   },
   {
    "duration": 20,
    "start_time": "2022-10-21T18:07:32.258Z"
   },
   {
    "duration": 30,
    "start_time": "2022-10-21T18:08:00.920Z"
   },
   {
    "duration": 1850,
    "start_time": "2022-10-21T18:08:55.858Z"
   },
   {
    "duration": 1025,
    "start_time": "2022-10-21T18:08:57.710Z"
   },
   {
    "duration": 10272,
    "start_time": "2022-10-21T18:08:58.737Z"
   },
   {
    "duration": 182,
    "start_time": "2022-10-21T18:09:09.011Z"
   },
   {
    "duration": 133,
    "start_time": "2022-10-21T18:09:09.195Z"
   },
   {
    "duration": 156,
    "start_time": "2022-10-21T18:09:09.329Z"
   },
   {
    "duration": 149,
    "start_time": "2022-10-21T18:09:09.487Z"
   },
   {
    "duration": 137,
    "start_time": "2022-10-21T18:09:09.638Z"
   },
   {
    "duration": 171,
    "start_time": "2022-10-21T18:09:09.777Z"
   },
   {
    "duration": 130,
    "start_time": "2022-10-21T18:09:09.950Z"
   },
   {
    "duration": 133,
    "start_time": "2022-10-21T18:09:10.081Z"
   },
   {
    "duration": 145,
    "start_time": "2022-10-21T18:09:10.221Z"
   },
   {
    "duration": 154,
    "start_time": "2022-10-21T18:09:10.368Z"
   },
   {
    "duration": 146,
    "start_time": "2022-10-21T18:09:10.523Z"
   },
   {
    "duration": 144,
    "start_time": "2022-10-21T18:09:10.671Z"
   },
   {
    "duration": 139,
    "start_time": "2022-10-21T18:09:10.821Z"
   },
   {
    "duration": 1337,
    "start_time": "2022-10-21T18:09:10.962Z"
   },
   {
    "duration": 31,
    "start_time": "2022-10-21T18:09:12.300Z"
   },
   {
    "duration": 24,
    "start_time": "2022-10-21T18:09:12.333Z"
   },
   {
    "duration": 35,
    "start_time": "2022-10-21T18:11:47.031Z"
   },
   {
    "duration": 22,
    "start_time": "2022-10-21T18:12:10.958Z"
   },
   {
    "duration": 23,
    "start_time": "2022-10-21T18:12:37.386Z"
   },
   {
    "duration": 19,
    "start_time": "2022-10-21T18:13:51.470Z"
   },
   {
    "duration": 305,
    "start_time": "2022-10-21T18:14:34.298Z"
   },
   {
    "duration": 1810,
    "start_time": "2022-10-21T18:15:28.228Z"
   },
   {
    "duration": 592,
    "start_time": "2022-10-21T18:15:30.040Z"
   },
   {
    "duration": 10205,
    "start_time": "2022-10-21T18:15:30.635Z"
   },
   {
    "duration": 151,
    "start_time": "2022-10-21T18:15:40.842Z"
   },
   {
    "duration": 162,
    "start_time": "2022-10-21T18:15:40.995Z"
   },
   {
    "duration": 190,
    "start_time": "2022-10-21T18:15:41.159Z"
   },
   {
    "duration": 153,
    "start_time": "2022-10-21T18:15:41.350Z"
   },
   {
    "duration": 154,
    "start_time": "2022-10-21T18:15:41.504Z"
   },
   {
    "duration": 202,
    "start_time": "2022-10-21T18:15:41.661Z"
   },
   {
    "duration": 125,
    "start_time": "2022-10-21T18:15:41.866Z"
   },
   {
    "duration": 131,
    "start_time": "2022-10-21T18:15:41.993Z"
   },
   {
    "duration": 169,
    "start_time": "2022-10-21T18:15:42.126Z"
   },
   {
    "duration": 155,
    "start_time": "2022-10-21T18:15:42.297Z"
   },
   {
    "duration": 149,
    "start_time": "2022-10-21T18:15:42.454Z"
   },
   {
    "duration": 149,
    "start_time": "2022-10-21T18:15:42.605Z"
   },
   {
    "duration": 116,
    "start_time": "2022-10-21T18:15:42.755Z"
   },
   {
    "duration": 1739,
    "start_time": "2022-10-21T18:15:42.873Z"
   },
   {
    "duration": 23,
    "start_time": "2022-10-21T18:15:44.613Z"
   },
   {
    "duration": 274,
    "start_time": "2022-10-21T18:15:44.638Z"
   },
   {
    "duration": 258,
    "start_time": "2022-10-21T18:16:56.773Z"
   },
   {
    "duration": 245,
    "start_time": "2022-10-21T19:07:58.102Z"
   },
   {
    "duration": 1944,
    "start_time": "2022-10-21T19:16:54.754Z"
   },
   {
    "duration": 574,
    "start_time": "2022-10-21T19:16:56.700Z"
   },
   {
    "duration": 9739,
    "start_time": "2022-10-21T19:16:57.275Z"
   },
   {
    "duration": 137,
    "start_time": "2022-10-21T19:17:07.015Z"
   },
   {
    "duration": 129,
    "start_time": "2022-10-21T19:17:07.153Z"
   },
   {
    "duration": 150,
    "start_time": "2022-10-21T19:17:07.283Z"
   },
   {
    "duration": 142,
    "start_time": "2022-10-21T19:17:07.434Z"
   },
   {
    "duration": 125,
    "start_time": "2022-10-21T19:17:07.577Z"
   },
   {
    "duration": 177,
    "start_time": "2022-10-21T19:17:07.704Z"
   },
   {
    "duration": 126,
    "start_time": "2022-10-21T19:17:07.883Z"
   },
   {
    "duration": 123,
    "start_time": "2022-10-21T19:17:08.011Z"
   },
   {
    "duration": 145,
    "start_time": "2022-10-21T19:17:08.136Z"
   },
   {
    "duration": 143,
    "start_time": "2022-10-21T19:17:08.283Z"
   },
   {
    "duration": 153,
    "start_time": "2022-10-21T19:17:08.428Z"
   },
   {
    "duration": 144,
    "start_time": "2022-10-21T19:17:08.582Z"
   },
   {
    "duration": 117,
    "start_time": "2022-10-21T19:17:08.728Z"
   },
   {
    "duration": 1241,
    "start_time": "2022-10-21T19:17:08.847Z"
   },
   {
    "duration": 33,
    "start_time": "2022-10-21T19:17:10.089Z"
   },
   {
    "duration": 259,
    "start_time": "2022-10-21T19:17:10.123Z"
   },
   {
    "duration": 1714,
    "start_time": "2022-10-21T19:17:42.860Z"
   },
   {
    "duration": 1142,
    "start_time": "2022-10-21T19:17:44.576Z"
   },
   {
    "duration": 9991,
    "start_time": "2022-10-21T19:17:45.720Z"
   },
   {
    "duration": 169,
    "start_time": "2022-10-21T19:17:55.714Z"
   },
   {
    "duration": 167,
    "start_time": "2022-10-21T19:17:55.884Z"
   },
   {
    "duration": 191,
    "start_time": "2022-10-21T19:17:56.053Z"
   },
   {
    "duration": 148,
    "start_time": "2022-10-21T19:17:56.245Z"
   },
   {
    "duration": 130,
    "start_time": "2022-10-21T19:17:56.395Z"
   },
   {
    "duration": 168,
    "start_time": "2022-10-21T19:17:56.527Z"
   },
   {
    "duration": 123,
    "start_time": "2022-10-21T19:17:56.698Z"
   },
   {
    "duration": 125,
    "start_time": "2022-10-21T19:17:56.823Z"
   },
   {
    "duration": 153,
    "start_time": "2022-10-21T19:17:56.949Z"
   },
   {
    "duration": 152,
    "start_time": "2022-10-21T19:17:57.104Z"
   },
   {
    "duration": 165,
    "start_time": "2022-10-21T19:17:57.258Z"
   },
   {
    "duration": 169,
    "start_time": "2022-10-21T19:17:57.425Z"
   },
   {
    "duration": 126,
    "start_time": "2022-10-21T19:17:57.596Z"
   },
   {
    "duration": 1292,
    "start_time": "2022-10-21T19:17:57.723Z"
   },
   {
    "duration": 20,
    "start_time": "2022-10-21T19:17:59.021Z"
   },
   {
    "duration": 282,
    "start_time": "2022-10-21T19:17:59.043Z"
   },
   {
    "duration": 280,
    "start_time": "2022-10-21T19:18:41.962Z"
   },
   {
    "duration": 1773,
    "start_time": "2022-10-21T19:20:07.584Z"
   },
   {
    "duration": 575,
    "start_time": "2022-10-21T19:20:09.359Z"
   },
   {
    "duration": 9937,
    "start_time": "2022-10-21T19:20:09.936Z"
   },
   {
    "duration": 133,
    "start_time": "2022-10-21T19:20:19.875Z"
   },
   {
    "duration": 131,
    "start_time": "2022-10-21T19:20:20.010Z"
   },
   {
    "duration": 130,
    "start_time": "2022-10-21T19:20:20.142Z"
   },
   {
    "duration": 140,
    "start_time": "2022-10-21T19:20:20.274Z"
   },
   {
    "duration": 116,
    "start_time": "2022-10-21T19:20:20.421Z"
   },
   {
    "duration": 154,
    "start_time": "2022-10-21T19:20:20.539Z"
   },
   {
    "duration": 131,
    "start_time": "2022-10-21T19:20:20.695Z"
   },
   {
    "duration": 116,
    "start_time": "2022-10-21T19:20:20.827Z"
   },
   {
    "duration": 145,
    "start_time": "2022-10-21T19:20:20.945Z"
   },
   {
    "duration": 141,
    "start_time": "2022-10-21T19:20:21.092Z"
   },
   {
    "duration": 141,
    "start_time": "2022-10-21T19:20:21.235Z"
   },
   {
    "duration": 161,
    "start_time": "2022-10-21T19:20:21.378Z"
   },
   {
    "duration": 799,
    "start_time": "2022-10-21T19:20:21.541Z"
   },
   {
    "duration": 1315,
    "start_time": "2022-10-21T19:20:22.343Z"
   },
   {
    "duration": 26,
    "start_time": "2022-10-21T19:20:23.659Z"
   },
   {
    "duration": 457,
    "start_time": "2022-10-21T19:20:23.687Z"
   },
   {
    "duration": 1767,
    "start_time": "2022-10-21T19:25:43.392Z"
   },
   {
    "duration": 562,
    "start_time": "2022-10-21T19:25:45.160Z"
   },
   {
    "duration": 9713,
    "start_time": "2022-10-21T19:25:45.723Z"
   },
   {
    "duration": 162,
    "start_time": "2022-10-21T19:25:55.438Z"
   },
   {
    "duration": 156,
    "start_time": "2022-10-21T19:25:55.602Z"
   },
   {
    "duration": 164,
    "start_time": "2022-10-21T19:25:55.760Z"
   },
   {
    "duration": 189,
    "start_time": "2022-10-21T19:25:55.926Z"
   },
   {
    "duration": 159,
    "start_time": "2022-10-21T19:25:56.117Z"
   },
   {
    "duration": 187,
    "start_time": "2022-10-21T19:25:56.278Z"
   },
   {
    "duration": 124,
    "start_time": "2022-10-21T19:25:56.468Z"
   },
   {
    "duration": 119,
    "start_time": "2022-10-21T19:25:56.593Z"
   },
   {
    "duration": 132,
    "start_time": "2022-10-21T19:25:56.721Z"
   },
   {
    "duration": 145,
    "start_time": "2022-10-21T19:25:56.854Z"
   },
   {
    "duration": 159,
    "start_time": "2022-10-21T19:25:57.001Z"
   },
   {
    "duration": 163,
    "start_time": "2022-10-21T19:25:57.161Z"
   },
   {
    "duration": 143,
    "start_time": "2022-10-21T19:25:57.326Z"
   },
   {
    "duration": 1281,
    "start_time": "2022-10-21T19:25:57.470Z"
   },
   {
    "duration": 22,
    "start_time": "2022-10-21T19:25:58.752Z"
   },
   {
    "duration": 422,
    "start_time": "2022-10-21T19:25:58.776Z"
   },
   {
    "duration": 1823,
    "start_time": "2022-10-21T19:28:20.433Z"
   },
   {
    "duration": 603,
    "start_time": "2022-10-21T19:28:22.258Z"
   },
   {
    "duration": 10750,
    "start_time": "2022-10-21T19:28:22.862Z"
   },
   {
    "duration": 140,
    "start_time": "2022-10-21T19:28:33.614Z"
   },
   {
    "duration": 128,
    "start_time": "2022-10-21T19:28:33.756Z"
   },
   {
    "duration": 138,
    "start_time": "2022-10-21T19:28:33.885Z"
   },
   {
    "duration": 134,
    "start_time": "2022-10-21T19:28:34.025Z"
   },
   {
    "duration": 120,
    "start_time": "2022-10-21T19:28:34.160Z"
   },
   {
    "duration": 161,
    "start_time": "2022-10-21T19:28:34.282Z"
   },
   {
    "duration": 121,
    "start_time": "2022-10-21T19:28:34.445Z"
   },
   {
    "duration": 124,
    "start_time": "2022-10-21T19:28:34.568Z"
   },
   {
    "duration": 148,
    "start_time": "2022-10-21T19:28:34.694Z"
   },
   {
    "duration": 152,
    "start_time": "2022-10-21T19:28:34.844Z"
   },
   {
    "duration": 167,
    "start_time": "2022-10-21T19:28:34.998Z"
   },
   {
    "duration": 156,
    "start_time": "2022-10-21T19:28:35.166Z"
   },
   {
    "duration": 127,
    "start_time": "2022-10-21T19:28:35.324Z"
   },
   {
    "duration": 1357,
    "start_time": "2022-10-21T19:28:35.453Z"
   },
   {
    "duration": 30,
    "start_time": "2022-10-21T19:28:36.812Z"
   },
   {
    "duration": 295,
    "start_time": "2022-10-21T19:28:36.844Z"
   },
   {
    "duration": 1769,
    "start_time": "2022-10-21T19:29:53.595Z"
   },
   {
    "duration": 648,
    "start_time": "2022-10-21T19:29:55.366Z"
   },
   {
    "duration": 9896,
    "start_time": "2022-10-21T19:29:56.016Z"
   },
   {
    "duration": 151,
    "start_time": "2022-10-21T19:30:05.914Z"
   },
   {
    "duration": 161,
    "start_time": "2022-10-21T19:30:06.067Z"
   },
   {
    "duration": 129,
    "start_time": "2022-10-21T19:30:06.230Z"
   },
   {
    "duration": 144,
    "start_time": "2022-10-21T19:30:06.360Z"
   },
   {
    "duration": 118,
    "start_time": "2022-10-21T19:30:06.506Z"
   },
   {
    "duration": 161,
    "start_time": "2022-10-21T19:30:06.626Z"
   },
   {
    "duration": 122,
    "start_time": "2022-10-21T19:30:06.789Z"
   },
   {
    "duration": 113,
    "start_time": "2022-10-21T19:30:06.912Z"
   },
   {
    "duration": 137,
    "start_time": "2022-10-21T19:30:07.027Z"
   },
   {
    "duration": 144,
    "start_time": "2022-10-21T19:30:07.165Z"
   },
   {
    "duration": 152,
    "start_time": "2022-10-21T19:30:07.311Z"
   },
   {
    "duration": 149,
    "start_time": "2022-10-21T19:30:07.465Z"
   },
   {
    "duration": 121,
    "start_time": "2022-10-21T19:30:07.616Z"
   },
   {
    "duration": 1212,
    "start_time": "2022-10-21T19:30:07.738Z"
   },
   {
    "duration": 23,
    "start_time": "2022-10-21T19:30:08.952Z"
   },
   {
    "duration": 271,
    "start_time": "2022-10-21T19:30:08.977Z"
   },
   {
    "duration": 1984,
    "start_time": "2022-10-21T19:30:21.916Z"
   },
   {
    "duration": 620,
    "start_time": "2022-10-21T19:30:23.903Z"
   },
   {
    "duration": 10871,
    "start_time": "2022-10-21T19:30:24.525Z"
   },
   {
    "duration": 160,
    "start_time": "2022-10-21T19:30:35.398Z"
   },
   {
    "duration": 142,
    "start_time": "2022-10-21T19:30:35.559Z"
   },
   {
    "duration": 166,
    "start_time": "2022-10-21T19:30:35.702Z"
   },
   {
    "duration": 168,
    "start_time": "2022-10-21T19:30:35.870Z"
   },
   {
    "duration": 185,
    "start_time": "2022-10-21T19:30:36.041Z"
   },
   {
    "duration": 177,
    "start_time": "2022-10-21T19:30:36.228Z"
   },
   {
    "duration": 137,
    "start_time": "2022-10-21T19:30:36.407Z"
   },
   {
    "duration": 137,
    "start_time": "2022-10-21T19:30:36.546Z"
   },
   {
    "duration": 156,
    "start_time": "2022-10-21T19:30:36.686Z"
   },
   {
    "duration": 162,
    "start_time": "2022-10-21T19:30:36.844Z"
   },
   {
    "duration": 157,
    "start_time": "2022-10-21T19:30:37.007Z"
   },
   {
    "duration": 158,
    "start_time": "2022-10-21T19:30:37.166Z"
   },
   {
    "duration": 129,
    "start_time": "2022-10-21T19:30:37.326Z"
   },
   {
    "duration": 1202,
    "start_time": "2022-10-21T19:30:37.457Z"
   },
   {
    "duration": 22,
    "start_time": "2022-10-21T19:30:38.661Z"
   },
   {
    "duration": 395,
    "start_time": "2022-10-21T19:30:38.684Z"
   },
   {
    "duration": 1798,
    "start_time": "2022-10-21T19:32:16.309Z"
   },
   {
    "duration": 571,
    "start_time": "2022-10-21T19:32:18.109Z"
   },
   {
    "duration": 9969,
    "start_time": "2022-10-21T19:32:18.682Z"
   },
   {
    "duration": 141,
    "start_time": "2022-10-21T19:32:28.653Z"
   },
   {
    "duration": 121,
    "start_time": "2022-10-21T19:32:28.795Z"
   },
   {
    "duration": 136,
    "start_time": "2022-10-21T19:32:28.921Z"
   },
   {
    "duration": 129,
    "start_time": "2022-10-21T19:32:29.059Z"
   },
   {
    "duration": 122,
    "start_time": "2022-10-21T19:32:29.189Z"
   },
   {
    "duration": 163,
    "start_time": "2022-10-21T19:32:29.312Z"
   },
   {
    "duration": 120,
    "start_time": "2022-10-21T19:32:29.477Z"
   },
   {
    "duration": 127,
    "start_time": "2022-10-21T19:32:29.599Z"
   },
   {
    "duration": 144,
    "start_time": "2022-10-21T19:32:29.728Z"
   },
   {
    "duration": 155,
    "start_time": "2022-10-21T19:32:29.873Z"
   },
   {
    "duration": 151,
    "start_time": "2022-10-21T19:32:30.030Z"
   },
   {
    "duration": 154,
    "start_time": "2022-10-21T19:32:30.183Z"
   },
   {
    "duration": 122,
    "start_time": "2022-10-21T19:32:30.338Z"
   },
   {
    "duration": 1221,
    "start_time": "2022-10-21T19:32:30.462Z"
   },
   {
    "duration": 21,
    "start_time": "2022-10-21T19:32:31.685Z"
   },
   {
    "duration": 266,
    "start_time": "2022-10-21T19:32:31.708Z"
   },
   {
    "duration": 1992,
    "start_time": "2022-10-21T19:35:34.659Z"
   },
   {
    "duration": 605,
    "start_time": "2022-10-21T19:35:36.654Z"
   },
   {
    "duration": 9646,
    "start_time": "2022-10-21T19:35:37.260Z"
   },
   {
    "duration": 142,
    "start_time": "2022-10-21T19:35:46.908Z"
   },
   {
    "duration": 124,
    "start_time": "2022-10-21T19:35:47.052Z"
   },
   {
    "duration": 133,
    "start_time": "2022-10-21T19:35:47.178Z"
   },
   {
    "duration": 147,
    "start_time": "2022-10-21T19:35:47.324Z"
   },
   {
    "duration": 1015,
    "start_time": "2022-10-21T19:35:47.473Z"
   },
   {
    "duration": 161,
    "start_time": "2022-10-21T19:35:48.490Z"
   },
   {
    "duration": 125,
    "start_time": "2022-10-21T19:35:48.654Z"
   },
   {
    "duration": 116,
    "start_time": "2022-10-21T19:35:48.780Z"
   },
   {
    "duration": 140,
    "start_time": "2022-10-21T19:35:48.898Z"
   },
   {
    "duration": 170,
    "start_time": "2022-10-21T19:35:49.039Z"
   },
   {
    "duration": 166,
    "start_time": "2022-10-21T19:35:49.211Z"
   },
   {
    "duration": 150,
    "start_time": "2022-10-21T19:35:49.378Z"
   },
   {
    "duration": 109,
    "start_time": "2022-10-21T19:35:49.530Z"
   },
   {
    "duration": 1189,
    "start_time": "2022-10-21T19:35:49.640Z"
   },
   {
    "duration": 22,
    "start_time": "2022-10-21T19:35:50.830Z"
   },
   {
    "duration": 269,
    "start_time": "2022-10-21T19:35:50.854Z"
   },
   {
    "duration": 255,
    "start_time": "2022-10-21T19:35:59.055Z"
   },
   {
    "duration": 243,
    "start_time": "2022-10-21T19:36:14.987Z"
   },
   {
    "duration": 1786,
    "start_time": "2022-10-21T19:36:27.224Z"
   },
   {
    "duration": 568,
    "start_time": "2022-10-21T19:36:29.012Z"
   },
   {
    "duration": 9661,
    "start_time": "2022-10-21T19:36:29.582Z"
   },
   {
    "duration": 142,
    "start_time": "2022-10-21T19:36:39.245Z"
   },
   {
    "duration": 133,
    "start_time": "2022-10-21T19:36:39.390Z"
   },
   {
    "duration": 125,
    "start_time": "2022-10-21T19:36:39.525Z"
   },
   {
    "duration": 129,
    "start_time": "2022-10-21T19:36:39.652Z"
   },
   {
    "duration": 126,
    "start_time": "2022-10-21T19:36:39.783Z"
   },
   {
    "duration": 175,
    "start_time": "2022-10-21T19:36:39.910Z"
   },
   {
    "duration": 117,
    "start_time": "2022-10-21T19:36:40.087Z"
   },
   {
    "duration": 123,
    "start_time": "2022-10-21T19:36:40.205Z"
   },
   {
    "duration": 140,
    "start_time": "2022-10-21T19:36:40.330Z"
   },
   {
    "duration": 150,
    "start_time": "2022-10-21T19:36:40.471Z"
   },
   {
    "duration": 146,
    "start_time": "2022-10-21T19:36:40.624Z"
   },
   {
    "duration": 139,
    "start_time": "2022-10-21T19:36:40.772Z"
   },
   {
    "duration": 121,
    "start_time": "2022-10-21T19:36:40.912Z"
   },
   {
    "duration": 1248,
    "start_time": "2022-10-21T19:36:41.035Z"
   },
   {
    "duration": 21,
    "start_time": "2022-10-21T19:36:42.285Z"
   },
   {
    "duration": 283,
    "start_time": "2022-10-21T19:36:42.307Z"
   },
   {
    "duration": 265,
    "start_time": "2022-10-21T19:37:01.753Z"
   },
   {
    "duration": 1814,
    "start_time": "2022-10-21T19:37:20.273Z"
   },
   {
    "duration": 606,
    "start_time": "2022-10-21T19:37:22.089Z"
   },
   {
    "duration": 9665,
    "start_time": "2022-10-21T19:37:22.697Z"
   },
   {
    "duration": 135,
    "start_time": "2022-10-21T19:37:32.364Z"
   },
   {
    "duration": 129,
    "start_time": "2022-10-21T19:37:32.500Z"
   },
   {
    "duration": 134,
    "start_time": "2022-10-21T19:37:32.631Z"
   },
   {
    "duration": 139,
    "start_time": "2022-10-21T19:37:32.767Z"
   },
   {
    "duration": 130,
    "start_time": "2022-10-21T19:37:32.908Z"
   },
   {
    "duration": 163,
    "start_time": "2022-10-21T19:37:33.039Z"
   },
   {
    "duration": 119,
    "start_time": "2022-10-21T19:37:33.204Z"
   },
   {
    "duration": 120,
    "start_time": "2022-10-21T19:37:33.324Z"
   },
   {
    "duration": 146,
    "start_time": "2022-10-21T19:37:33.445Z"
   },
   {
    "duration": 144,
    "start_time": "2022-10-21T19:37:33.593Z"
   },
   {
    "duration": 148,
    "start_time": "2022-10-21T19:37:33.738Z"
   },
   {
    "duration": 148,
    "start_time": "2022-10-21T19:37:33.887Z"
   },
   {
    "duration": 108,
    "start_time": "2022-10-21T19:37:34.037Z"
   },
   {
    "duration": 1220,
    "start_time": "2022-10-21T19:37:34.146Z"
   },
   {
    "duration": 25,
    "start_time": "2022-10-21T19:37:35.368Z"
   },
   {
    "duration": 303,
    "start_time": "2022-10-21T19:37:35.395Z"
   },
   {
    "duration": 1314,
    "start_time": "2022-10-21T19:37:52.848Z"
   },
   {
    "duration": 1808,
    "start_time": "2022-10-21T19:38:36.583Z"
   },
   {
    "duration": 566,
    "start_time": "2022-10-21T19:38:38.393Z"
   },
   {
    "duration": 9805,
    "start_time": "2022-10-21T19:38:38.961Z"
   },
   {
    "duration": 145,
    "start_time": "2022-10-21T19:38:48.769Z"
   },
   {
    "duration": 137,
    "start_time": "2022-10-21T19:38:48.921Z"
   },
   {
    "duration": 164,
    "start_time": "2022-10-21T19:38:49.059Z"
   },
   {
    "duration": 158,
    "start_time": "2022-10-21T19:38:49.225Z"
   },
   {
    "duration": 121,
    "start_time": "2022-10-21T19:38:49.384Z"
   },
   {
    "duration": 158,
    "start_time": "2022-10-21T19:38:49.506Z"
   },
   {
    "duration": 113,
    "start_time": "2022-10-21T19:38:49.666Z"
   },
   {
    "duration": 121,
    "start_time": "2022-10-21T19:38:49.780Z"
   },
   {
    "duration": 143,
    "start_time": "2022-10-21T19:38:49.903Z"
   },
   {
    "duration": 139,
    "start_time": "2022-10-21T19:38:50.048Z"
   },
   {
    "duration": 149,
    "start_time": "2022-10-21T19:38:50.189Z"
   },
   {
    "duration": 136,
    "start_time": "2022-10-21T19:38:50.339Z"
   },
   {
    "duration": 112,
    "start_time": "2022-10-21T19:38:50.476Z"
   },
   {
    "duration": 1195,
    "start_time": "2022-10-21T19:38:50.589Z"
   },
   {
    "duration": 22,
    "start_time": "2022-10-21T19:38:51.785Z"
   },
   {
    "duration": 259,
    "start_time": "2022-10-21T19:38:51.809Z"
   },
   {
    "duration": 1856,
    "start_time": "2022-10-21T19:39:22.586Z"
   },
   {
    "duration": 598,
    "start_time": "2022-10-21T19:39:24.445Z"
   },
   {
    "duration": 9919,
    "start_time": "2022-10-21T19:39:25.044Z"
   },
   {
    "duration": 164,
    "start_time": "2022-10-21T19:39:34.965Z"
   },
   {
    "duration": 142,
    "start_time": "2022-10-21T19:39:35.130Z"
   },
   {
    "duration": 160,
    "start_time": "2022-10-21T19:39:35.274Z"
   },
   {
    "duration": 168,
    "start_time": "2022-10-21T19:39:35.436Z"
   },
   {
    "duration": 143,
    "start_time": "2022-10-21T19:39:35.606Z"
   },
   {
    "duration": 185,
    "start_time": "2022-10-21T19:39:35.751Z"
   },
   {
    "duration": 169,
    "start_time": "2022-10-21T19:39:35.939Z"
   },
   {
    "duration": 180,
    "start_time": "2022-10-21T19:39:36.110Z"
   },
   {
    "duration": 154,
    "start_time": "2022-10-21T19:39:36.292Z"
   },
   {
    "duration": 157,
    "start_time": "2022-10-21T19:39:36.447Z"
   },
   {
    "duration": 156,
    "start_time": "2022-10-21T19:39:36.605Z"
   },
   {
    "duration": 165,
    "start_time": "2022-10-21T19:39:36.763Z"
   },
   {
    "duration": 134,
    "start_time": "2022-10-21T19:39:36.930Z"
   },
   {
    "duration": 1299,
    "start_time": "2022-10-21T19:39:37.066Z"
   },
   {
    "duration": 22,
    "start_time": "2022-10-21T19:39:38.366Z"
   },
   {
    "duration": 272,
    "start_time": "2022-10-21T19:39:38.390Z"
   },
   {
    "duration": 1785,
    "start_time": "2022-10-21T19:39:52.449Z"
   },
   {
    "duration": 567,
    "start_time": "2022-10-21T19:39:54.236Z"
   },
   {
    "duration": 9766,
    "start_time": "2022-10-21T19:39:54.805Z"
   },
   {
    "duration": 138,
    "start_time": "2022-10-21T19:40:04.573Z"
   },
   {
    "duration": 131,
    "start_time": "2022-10-21T19:40:04.712Z"
   },
   {
    "duration": 135,
    "start_time": "2022-10-21T19:40:04.844Z"
   },
   {
    "duration": 145,
    "start_time": "2022-10-21T19:40:04.981Z"
   },
   {
    "duration": 1277,
    "start_time": "2022-10-21T19:40:05.128Z"
   },
   {
    "duration": 166,
    "start_time": "2022-10-21T19:40:06.407Z"
   },
   {
    "duration": 123,
    "start_time": "2022-10-21T19:40:06.575Z"
   },
   {
    "duration": 115,
    "start_time": "2022-10-21T19:40:06.699Z"
   },
   {
    "duration": 140,
    "start_time": "2022-10-21T19:40:06.821Z"
   },
   {
    "duration": 152,
    "start_time": "2022-10-21T19:40:06.962Z"
   },
   {
    "duration": 137,
    "start_time": "2022-10-21T19:40:07.121Z"
   },
   {
    "duration": 142,
    "start_time": "2022-10-21T19:40:07.260Z"
   },
   {
    "duration": 119,
    "start_time": "2022-10-21T19:40:07.404Z"
   },
   {
    "duration": 1217,
    "start_time": "2022-10-21T19:40:07.525Z"
   },
   {
    "duration": 23,
    "start_time": "2022-10-21T19:40:08.744Z"
   },
   {
    "duration": 268,
    "start_time": "2022-10-21T19:40:08.769Z"
   },
   {
    "duration": 1821,
    "start_time": "2022-10-21T19:40:33.884Z"
   },
   {
    "duration": 744,
    "start_time": "2022-10-21T19:40:35.707Z"
   },
   {
    "duration": 9936,
    "start_time": "2022-10-21T19:40:36.453Z"
   },
   {
    "duration": 139,
    "start_time": "2022-10-21T19:40:46.391Z"
   },
   {
    "duration": 134,
    "start_time": "2022-10-21T19:40:46.531Z"
   },
   {
    "duration": 126,
    "start_time": "2022-10-21T19:40:46.667Z"
   },
   {
    "duration": 148,
    "start_time": "2022-10-21T19:40:46.794Z"
   },
   {
    "duration": 132,
    "start_time": "2022-10-21T19:40:46.944Z"
   },
   {
    "duration": 169,
    "start_time": "2022-10-21T19:40:47.077Z"
   },
   {
    "duration": 127,
    "start_time": "2022-10-21T19:40:47.248Z"
   },
   {
    "duration": 119,
    "start_time": "2022-10-21T19:40:47.376Z"
   },
   {
    "duration": 133,
    "start_time": "2022-10-21T19:40:47.496Z"
   },
   {
    "duration": 148,
    "start_time": "2022-10-21T19:40:47.631Z"
   },
   {
    "duration": 151,
    "start_time": "2022-10-21T19:40:47.781Z"
   },
   {
    "duration": 138,
    "start_time": "2022-10-21T19:40:47.933Z"
   },
   {
    "duration": 108,
    "start_time": "2022-10-21T19:40:48.073Z"
   },
   {
    "duration": 1246,
    "start_time": "2022-10-21T19:40:48.183Z"
   },
   {
    "duration": 21,
    "start_time": "2022-10-21T19:40:49.431Z"
   },
   {
    "duration": 271,
    "start_time": "2022-10-21T19:40:49.453Z"
   },
   {
    "duration": 1758,
    "start_time": "2022-10-21T19:41:05.567Z"
   },
   {
    "duration": 579,
    "start_time": "2022-10-21T19:41:07.326Z"
   },
   {
    "duration": 9649,
    "start_time": "2022-10-21T19:41:07.906Z"
   },
   {
    "duration": 146,
    "start_time": "2022-10-21T19:41:17.557Z"
   },
   {
    "duration": 138,
    "start_time": "2022-10-21T19:41:17.705Z"
   },
   {
    "duration": 153,
    "start_time": "2022-10-21T19:41:17.845Z"
   },
   {
    "duration": 141,
    "start_time": "2022-10-21T19:41:18.000Z"
   },
   {
    "duration": 132,
    "start_time": "2022-10-21T19:41:18.143Z"
   },
   {
    "duration": 158,
    "start_time": "2022-10-21T19:41:18.277Z"
   },
   {
    "duration": 121,
    "start_time": "2022-10-21T19:41:18.437Z"
   },
   {
    "duration": 112,
    "start_time": "2022-10-21T19:41:18.560Z"
   },
   {
    "duration": 142,
    "start_time": "2022-10-21T19:41:18.674Z"
   },
   {
    "duration": 153,
    "start_time": "2022-10-21T19:41:18.822Z"
   },
   {
    "duration": 149,
    "start_time": "2022-10-21T19:41:18.976Z"
   },
   {
    "duration": 143,
    "start_time": "2022-10-21T19:41:19.126Z"
   },
   {
    "duration": 117,
    "start_time": "2022-10-21T19:41:19.270Z"
   },
   {
    "duration": 1175,
    "start_time": "2022-10-21T19:41:19.389Z"
   },
   {
    "duration": 22,
    "start_time": "2022-10-21T19:41:20.565Z"
   },
   {
    "duration": 258,
    "start_time": "2022-10-21T19:41:20.588Z"
   },
   {
    "duration": 271,
    "start_time": "2022-10-21T19:42:44.979Z"
   },
   {
    "duration": 1741,
    "start_time": "2022-10-21T19:43:31.170Z"
   },
   {
    "duration": 586,
    "start_time": "2022-10-21T19:43:32.913Z"
   },
   {
    "duration": 9926,
    "start_time": "2022-10-21T19:43:33.501Z"
   },
   {
    "duration": 142,
    "start_time": "2022-10-21T19:43:43.429Z"
   },
   {
    "duration": 129,
    "start_time": "2022-10-21T19:43:43.573Z"
   },
   {
    "duration": 131,
    "start_time": "2022-10-21T19:43:43.703Z"
   },
   {
    "duration": 1425,
    "start_time": "2022-10-21T19:43:43.835Z"
   },
   {
    "duration": 135,
    "start_time": "2022-10-21T19:43:45.261Z"
   },
   {
    "duration": 158,
    "start_time": "2022-10-21T19:43:45.397Z"
   },
   {
    "duration": 133,
    "start_time": "2022-10-21T19:43:45.557Z"
   },
   {
    "duration": 131,
    "start_time": "2022-10-21T19:43:45.692Z"
   },
   {
    "duration": 142,
    "start_time": "2022-10-21T19:43:45.825Z"
   },
   {
    "duration": 195,
    "start_time": "2022-10-21T19:43:45.969Z"
   },
   {
    "duration": 220,
    "start_time": "2022-10-21T19:43:46.167Z"
   },
   {
    "duration": 156,
    "start_time": "2022-10-21T19:43:46.389Z"
   },
   {
    "duration": 121,
    "start_time": "2022-10-21T19:43:46.547Z"
   },
   {
    "duration": 1322,
    "start_time": "2022-10-21T19:43:46.669Z"
   },
   {
    "duration": 31,
    "start_time": "2022-10-21T19:43:47.992Z"
   },
   {
    "duration": 280,
    "start_time": "2022-10-21T19:43:48.024Z"
   },
   {
    "duration": 1808,
    "start_time": "2022-10-21T19:46:30.390Z"
   },
   {
    "duration": 593,
    "start_time": "2022-10-21T19:46:32.201Z"
   },
   {
    "duration": 10048,
    "start_time": "2022-10-21T19:46:32.796Z"
   },
   {
    "duration": 143,
    "start_time": "2022-10-21T19:46:42.846Z"
   },
   {
    "duration": 123,
    "start_time": "2022-10-21T19:46:42.991Z"
   },
   {
    "duration": 148,
    "start_time": "2022-10-21T19:46:43.115Z"
   },
   {
    "duration": 142,
    "start_time": "2022-10-21T19:46:43.265Z"
   },
   {
    "duration": 129,
    "start_time": "2022-10-21T19:46:43.409Z"
   },
   {
    "duration": 176,
    "start_time": "2022-10-21T19:46:43.540Z"
   },
   {
    "duration": 119,
    "start_time": "2022-10-21T19:46:43.721Z"
   },
   {
    "duration": 118,
    "start_time": "2022-10-21T19:46:43.842Z"
   },
   {
    "duration": 150,
    "start_time": "2022-10-21T19:46:43.962Z"
   },
   {
    "duration": 165,
    "start_time": "2022-10-21T19:46:44.113Z"
   },
   {
    "duration": 155,
    "start_time": "2022-10-21T19:46:44.280Z"
   },
   {
    "duration": 150,
    "start_time": "2022-10-21T19:46:44.437Z"
   },
   {
    "duration": 112,
    "start_time": "2022-10-21T19:46:44.589Z"
   },
   {
    "duration": 1263,
    "start_time": "2022-10-21T19:46:44.702Z"
   },
   {
    "duration": 27,
    "start_time": "2022-10-21T19:46:45.967Z"
   },
   {
    "duration": 339,
    "start_time": "2022-10-21T19:46:45.996Z"
   },
   {
    "duration": 2596,
    "start_time": "2022-10-22T11:30:12.531Z"
   },
   {
    "duration": 656,
    "start_time": "2022-10-22T11:30:15.129Z"
   },
   {
    "duration": 9582,
    "start_time": "2022-10-22T11:30:15.786Z"
   },
   {
    "duration": 3,
    "start_time": "2022-10-22T11:30:25.370Z"
   },
   {
    "duration": 156,
    "start_time": "2022-10-22T11:30:25.375Z"
   },
   {
    "duration": 134,
    "start_time": "2022-10-22T11:30:25.532Z"
   },
   {
    "duration": 152,
    "start_time": "2022-10-22T11:30:25.668Z"
   },
   {
    "duration": 145,
    "start_time": "2022-10-22T11:30:25.822Z"
   },
   {
    "duration": 199,
    "start_time": "2022-10-22T11:30:25.968Z"
   },
   {
    "duration": 162,
    "start_time": "2022-10-22T11:30:26.169Z"
   },
   {
    "duration": 124,
    "start_time": "2022-10-22T11:30:26.332Z"
   },
   {
    "duration": 116,
    "start_time": "2022-10-22T11:30:26.458Z"
   },
   {
    "duration": 142,
    "start_time": "2022-10-22T11:30:26.575Z"
   },
   {
    "duration": 151,
    "start_time": "2022-10-22T11:30:26.718Z"
   },
   {
    "duration": 138,
    "start_time": "2022-10-22T11:30:26.871Z"
   },
   {
    "duration": 154,
    "start_time": "2022-10-22T11:30:27.011Z"
   },
   {
    "duration": 115,
    "start_time": "2022-10-22T11:30:27.167Z"
   },
   {
    "duration": 1367,
    "start_time": "2022-10-22T11:30:27.284Z"
   },
   {
    "duration": 21,
    "start_time": "2022-10-22T11:30:28.653Z"
   },
   {
    "duration": 281,
    "start_time": "2022-10-22T11:30:28.675Z"
   },
   {
    "duration": 3405,
    "start_time": "2022-10-26T17:56:21.983Z"
   },
   {
    "duration": 63,
    "start_time": "2022-10-26T17:56:25.390Z"
   },
   {
    "duration": 0,
    "start_time": "2022-10-26T17:56:25.456Z"
   },
   {
    "duration": 0,
    "start_time": "2022-10-26T17:56:25.457Z"
   },
   {
    "duration": 0,
    "start_time": "2022-10-26T17:56:25.458Z"
   },
   {
    "duration": 0,
    "start_time": "2022-10-26T17:56:25.459Z"
   },
   {
    "duration": 0,
    "start_time": "2022-10-26T17:56:25.460Z"
   },
   {
    "duration": 0,
    "start_time": "2022-10-26T17:56:25.461Z"
   },
   {
    "duration": 0,
    "start_time": "2022-10-26T17:56:25.462Z"
   },
   {
    "duration": 0,
    "start_time": "2022-10-26T17:56:25.464Z"
   },
   {
    "duration": 0,
    "start_time": "2022-10-26T17:56:25.465Z"
   },
   {
    "duration": 0,
    "start_time": "2022-10-26T17:56:25.466Z"
   },
   {
    "duration": 0,
    "start_time": "2022-10-26T17:56:25.467Z"
   },
   {
    "duration": 0,
    "start_time": "2022-10-26T17:56:25.469Z"
   },
   {
    "duration": 0,
    "start_time": "2022-10-26T17:56:25.471Z"
   },
   {
    "duration": 0,
    "start_time": "2022-10-26T17:56:25.472Z"
   },
   {
    "duration": 0,
    "start_time": "2022-10-26T17:56:25.474Z"
   },
   {
    "duration": 0,
    "start_time": "2022-10-26T17:56:25.475Z"
   },
   {
    "duration": 0,
    "start_time": "2022-10-26T17:56:25.477Z"
   },
   {
    "duration": 2166,
    "start_time": "2022-10-26T17:57:18.049Z"
   },
   {
    "duration": 69,
    "start_time": "2022-10-26T17:57:20.216Z"
   },
   {
    "duration": 0,
    "start_time": "2022-10-26T17:57:20.287Z"
   },
   {
    "duration": 0,
    "start_time": "2022-10-26T17:57:20.288Z"
   },
   {
    "duration": 0,
    "start_time": "2022-10-26T17:57:20.289Z"
   },
   {
    "duration": 0,
    "start_time": "2022-10-26T17:57:20.290Z"
   },
   {
    "duration": 0,
    "start_time": "2022-10-26T17:57:20.291Z"
   },
   {
    "duration": 0,
    "start_time": "2022-10-26T17:57:20.292Z"
   },
   {
    "duration": 0,
    "start_time": "2022-10-26T17:57:20.293Z"
   },
   {
    "duration": 0,
    "start_time": "2022-10-26T17:57:20.294Z"
   },
   {
    "duration": 0,
    "start_time": "2022-10-26T17:57:20.295Z"
   },
   {
    "duration": 0,
    "start_time": "2022-10-26T17:57:20.296Z"
   },
   {
    "duration": 0,
    "start_time": "2022-10-26T17:57:20.297Z"
   },
   {
    "duration": 0,
    "start_time": "2022-10-26T17:57:20.298Z"
   },
   {
    "duration": 0,
    "start_time": "2022-10-26T17:57:20.299Z"
   },
   {
    "duration": 0,
    "start_time": "2022-10-26T17:57:20.300Z"
   },
   {
    "duration": 0,
    "start_time": "2022-10-26T17:57:20.301Z"
   },
   {
    "duration": 0,
    "start_time": "2022-10-26T17:57:20.302Z"
   },
   {
    "duration": 0,
    "start_time": "2022-10-26T17:57:20.303Z"
   },
   {
    "duration": 49,
    "start_time": "2022-10-26T17:57:50.017Z"
   },
   {
    "duration": 45,
    "start_time": "2022-10-26T17:58:35.458Z"
   },
   {
    "duration": 50,
    "start_time": "2022-10-26T17:59:02.552Z"
   },
   {
    "duration": 103,
    "start_time": "2022-10-26T18:00:03.983Z"
   },
   {
    "duration": 1951,
    "start_time": "2022-10-26T18:00:37.590Z"
   },
   {
    "duration": 44,
    "start_time": "2022-10-26T18:00:39.542Z"
   },
   {
    "duration": 0,
    "start_time": "2022-10-26T18:00:39.588Z"
   },
   {
    "duration": 0,
    "start_time": "2022-10-26T18:00:39.589Z"
   },
   {
    "duration": 0,
    "start_time": "2022-10-26T18:00:39.590Z"
   },
   {
    "duration": 0,
    "start_time": "2022-10-26T18:00:39.591Z"
   },
   {
    "duration": 0,
    "start_time": "2022-10-26T18:00:39.592Z"
   },
   {
    "duration": 0,
    "start_time": "2022-10-26T18:00:39.594Z"
   },
   {
    "duration": 0,
    "start_time": "2022-10-26T18:00:39.595Z"
   },
   {
    "duration": 0,
    "start_time": "2022-10-26T18:00:39.596Z"
   },
   {
    "duration": 0,
    "start_time": "2022-10-26T18:00:39.597Z"
   },
   {
    "duration": 0,
    "start_time": "2022-10-26T18:00:39.598Z"
   },
   {
    "duration": 0,
    "start_time": "2022-10-26T18:00:39.600Z"
   },
   {
    "duration": 0,
    "start_time": "2022-10-26T18:00:39.601Z"
   },
   {
    "duration": 0,
    "start_time": "2022-10-26T18:00:39.602Z"
   },
   {
    "duration": 0,
    "start_time": "2022-10-26T18:00:39.603Z"
   },
   {
    "duration": 0,
    "start_time": "2022-10-26T18:00:39.605Z"
   },
   {
    "duration": 0,
    "start_time": "2022-10-26T18:00:39.606Z"
   },
   {
    "duration": 0,
    "start_time": "2022-10-26T18:00:39.607Z"
   },
   {
    "duration": 14,
    "start_time": "2022-10-26T18:02:12.227Z"
   },
   {
    "duration": 9,
    "start_time": "2022-10-26T18:02:20.001Z"
   },
   {
    "duration": 1993,
    "start_time": "2022-10-26T18:06:21.132Z"
   },
   {
    "duration": 12,
    "start_time": "2022-10-26T18:06:23.126Z"
   },
   {
    "duration": 225,
    "start_time": "2022-10-26T18:06:23.139Z"
   },
   {
    "duration": 0,
    "start_time": "2022-10-26T18:06:23.367Z"
   },
   {
    "duration": 0,
    "start_time": "2022-10-26T18:06:23.368Z"
   },
   {
    "duration": 0,
    "start_time": "2022-10-26T18:06:23.369Z"
   },
   {
    "duration": 0,
    "start_time": "2022-10-26T18:06:23.370Z"
   },
   {
    "duration": 0,
    "start_time": "2022-10-26T18:06:23.371Z"
   },
   {
    "duration": 0,
    "start_time": "2022-10-26T18:06:23.372Z"
   },
   {
    "duration": 0,
    "start_time": "2022-10-26T18:06:23.374Z"
   },
   {
    "duration": 0,
    "start_time": "2022-10-26T18:06:23.374Z"
   },
   {
    "duration": 0,
    "start_time": "2022-10-26T18:06:23.375Z"
   },
   {
    "duration": 0,
    "start_time": "2022-10-26T18:06:23.376Z"
   },
   {
    "duration": 0,
    "start_time": "2022-10-26T18:06:23.377Z"
   },
   {
    "duration": 0,
    "start_time": "2022-10-26T18:06:23.378Z"
   },
   {
    "duration": 0,
    "start_time": "2022-10-26T18:06:23.380Z"
   },
   {
    "duration": 0,
    "start_time": "2022-10-26T18:06:23.381Z"
   },
   {
    "duration": 0,
    "start_time": "2022-10-26T18:06:23.382Z"
   },
   {
    "duration": 0,
    "start_time": "2022-10-26T18:06:23.383Z"
   },
   {
    "duration": 1817,
    "start_time": "2022-10-26T18:16:40.246Z"
   },
   {
    "duration": 529,
    "start_time": "2022-10-26T18:16:42.065Z"
   },
   {
    "duration": 0,
    "start_time": "2022-10-26T18:16:42.596Z"
   },
   {
    "duration": 0,
    "start_time": "2022-10-26T18:16:42.598Z"
   },
   {
    "duration": 0,
    "start_time": "2022-10-26T18:16:42.599Z"
   },
   {
    "duration": 0,
    "start_time": "2022-10-26T18:16:42.600Z"
   },
   {
    "duration": 0,
    "start_time": "2022-10-26T18:16:42.601Z"
   },
   {
    "duration": 0,
    "start_time": "2022-10-26T18:16:42.602Z"
   },
   {
    "duration": 0,
    "start_time": "2022-10-26T18:16:42.604Z"
   },
   {
    "duration": 0,
    "start_time": "2022-10-26T18:16:42.605Z"
   },
   {
    "duration": 0,
    "start_time": "2022-10-26T18:16:42.606Z"
   },
   {
    "duration": 0,
    "start_time": "2022-10-26T18:16:42.607Z"
   },
   {
    "duration": 0,
    "start_time": "2022-10-26T18:16:42.622Z"
   },
   {
    "duration": 0,
    "start_time": "2022-10-26T18:16:42.623Z"
   },
   {
    "duration": 0,
    "start_time": "2022-10-26T18:16:42.624Z"
   },
   {
    "duration": 0,
    "start_time": "2022-10-26T18:16:42.625Z"
   },
   {
    "duration": 0,
    "start_time": "2022-10-26T18:16:42.626Z"
   },
   {
    "duration": 0,
    "start_time": "2022-10-26T18:16:42.627Z"
   },
   {
    "duration": 0,
    "start_time": "2022-10-26T18:16:42.628Z"
   },
   {
    "duration": 0,
    "start_time": "2022-10-26T18:16:42.629Z"
   },
   {
    "duration": 1806,
    "start_time": "2022-10-26T18:43:25.439Z"
   },
   {
    "duration": 107,
    "start_time": "2022-10-26T18:43:27.246Z"
   },
   {
    "duration": 0,
    "start_time": "2022-10-26T18:43:27.354Z"
   },
   {
    "duration": 0,
    "start_time": "2022-10-26T18:43:27.355Z"
   },
   {
    "duration": 0,
    "start_time": "2022-10-26T18:43:27.356Z"
   },
   {
    "duration": 0,
    "start_time": "2022-10-26T18:43:27.357Z"
   },
   {
    "duration": 0,
    "start_time": "2022-10-26T18:43:27.359Z"
   },
   {
    "duration": 0,
    "start_time": "2022-10-26T18:43:27.360Z"
   },
   {
    "duration": 0,
    "start_time": "2022-10-26T18:43:27.361Z"
   },
   {
    "duration": 0,
    "start_time": "2022-10-26T18:43:27.362Z"
   },
   {
    "duration": 0,
    "start_time": "2022-10-26T18:43:27.363Z"
   },
   {
    "duration": 0,
    "start_time": "2022-10-26T18:43:27.364Z"
   },
   {
    "duration": 0,
    "start_time": "2022-10-26T18:43:27.365Z"
   },
   {
    "duration": 0,
    "start_time": "2022-10-26T18:43:27.366Z"
   },
   {
    "duration": 0,
    "start_time": "2022-10-26T18:43:27.366Z"
   },
   {
    "duration": 0,
    "start_time": "2022-10-26T18:43:27.367Z"
   },
   {
    "duration": 0,
    "start_time": "2022-10-26T18:43:27.368Z"
   },
   {
    "duration": 0,
    "start_time": "2022-10-26T18:43:27.370Z"
   },
   {
    "duration": 0,
    "start_time": "2022-10-26T18:43:27.370Z"
   },
   {
    "duration": 0,
    "start_time": "2022-10-26T18:43:27.371Z"
   },
   {
    "duration": 544,
    "start_time": "2022-10-26T18:44:57.733Z"
   },
   {
    "duration": 567,
    "start_time": "2022-10-26T18:46:41.713Z"
   },
   {
    "duration": 557,
    "start_time": "2022-10-26T18:52:36.152Z"
   },
   {
    "duration": 310,
    "start_time": "2022-10-26T19:20:26.673Z"
   },
   {
    "duration": 1783,
    "start_time": "2022-10-26T19:33:22.108Z"
   },
   {
    "duration": 577,
    "start_time": "2022-10-26T19:33:23.893Z"
   },
   {
    "duration": 12,
    "start_time": "2022-10-26T19:33:24.472Z"
   },
   {
    "duration": 821,
    "start_time": "2022-10-26T19:33:24.486Z"
   },
   {
    "duration": 0,
    "start_time": "2022-10-26T19:33:25.308Z"
   },
   {
    "duration": 0,
    "start_time": "2022-10-26T19:33:25.309Z"
   },
   {
    "duration": 0,
    "start_time": "2022-10-26T19:33:25.311Z"
   },
   {
    "duration": 0,
    "start_time": "2022-10-26T19:33:25.312Z"
   },
   {
    "duration": 0,
    "start_time": "2022-10-26T19:33:25.322Z"
   },
   {
    "duration": 0,
    "start_time": "2022-10-26T19:33:25.323Z"
   },
   {
    "duration": 0,
    "start_time": "2022-10-26T19:33:25.324Z"
   },
   {
    "duration": 0,
    "start_time": "2022-10-26T19:33:25.325Z"
   },
   {
    "duration": 0,
    "start_time": "2022-10-26T19:33:25.326Z"
   },
   {
    "duration": 0,
    "start_time": "2022-10-26T19:33:25.328Z"
   },
   {
    "duration": 0,
    "start_time": "2022-10-26T19:33:25.329Z"
   },
   {
    "duration": 0,
    "start_time": "2022-10-26T19:33:25.330Z"
   },
   {
    "duration": 0,
    "start_time": "2022-10-26T19:33:25.331Z"
   },
   {
    "duration": 0,
    "start_time": "2022-10-26T19:33:25.333Z"
   },
   {
    "duration": 0,
    "start_time": "2022-10-26T19:33:25.334Z"
   },
   {
    "duration": 0,
    "start_time": "2022-10-26T19:33:25.335Z"
   },
   {
    "duration": 649,
    "start_time": "2022-10-26T19:34:47.838Z"
   },
   {
    "duration": 570,
    "start_time": "2022-10-26T19:35:15.329Z"
   },
   {
    "duration": 617,
    "start_time": "2022-10-26T19:40:29.629Z"
   },
   {
    "duration": 3835,
    "start_time": "2022-10-27T09:04:49.470Z"
   },
   {
    "duration": 709,
    "start_time": "2022-10-27T09:04:53.308Z"
   },
   {
    "duration": 14,
    "start_time": "2022-10-27T09:04:54.019Z"
   },
   {
    "duration": 841,
    "start_time": "2022-10-27T09:04:54.036Z"
   },
   {
    "duration": 162,
    "start_time": "2022-10-27T09:04:54.879Z"
   },
   {
    "duration": 198,
    "start_time": "2022-10-27T09:04:55.043Z"
   },
   {
    "duration": 204,
    "start_time": "2022-10-27T09:04:55.244Z"
   },
   {
    "duration": 211,
    "start_time": "2022-10-27T09:04:55.450Z"
   },
   {
    "duration": 178,
    "start_time": "2022-10-27T09:04:55.665Z"
   },
   {
    "duration": 285,
    "start_time": "2022-10-27T09:04:55.846Z"
   },
   {
    "duration": 181,
    "start_time": "2022-10-27T09:04:56.134Z"
   },
   {
    "duration": 209,
    "start_time": "2022-10-27T09:04:56.317Z"
   },
   {
    "duration": 204,
    "start_time": "2022-10-27T09:04:56.528Z"
   },
   {
    "duration": 173,
    "start_time": "2022-10-27T09:04:56.735Z"
   },
   {
    "duration": 191,
    "start_time": "2022-10-27T09:04:56.910Z"
   },
   {
    "duration": 182,
    "start_time": "2022-10-27T09:04:57.103Z"
   },
   {
    "duration": 151,
    "start_time": "2022-10-27T09:04:57.287Z"
   },
   {
    "duration": 1707,
    "start_time": "2022-10-27T09:04:57.440Z"
   },
   {
    "duration": 37,
    "start_time": "2022-10-27T09:04:59.149Z"
   },
   {
    "duration": 341,
    "start_time": "2022-10-27T09:04:59.188Z"
   },
   {
    "duration": 2597,
    "start_time": "2022-10-29T18:54:52.447Z"
   },
   {
    "duration": 557,
    "start_time": "2022-10-29T18:54:55.046Z"
   },
   {
    "duration": 12,
    "start_time": "2022-10-29T18:54:55.605Z"
   },
   {
    "duration": 647,
    "start_time": "2022-10-29T18:54:55.620Z"
   },
   {
    "duration": 130,
    "start_time": "2022-10-29T18:54:56.269Z"
   },
   {
    "duration": 153,
    "start_time": "2022-10-29T18:54:56.400Z"
   },
   {
    "duration": 143,
    "start_time": "2022-10-29T18:54:56.554Z"
   },
   {
    "duration": 155,
    "start_time": "2022-10-29T18:54:56.698Z"
   },
   {
    "duration": 140,
    "start_time": "2022-10-29T18:54:56.854Z"
   },
   {
    "duration": 203,
    "start_time": "2022-10-29T18:54:56.997Z"
   },
   {
    "duration": 145,
    "start_time": "2022-10-29T18:54:57.202Z"
   },
   {
    "duration": 180,
    "start_time": "2022-10-29T18:54:57.349Z"
   },
   {
    "duration": 164,
    "start_time": "2022-10-29T18:54:57.531Z"
   },
   {
    "duration": 154,
    "start_time": "2022-10-29T18:54:57.697Z"
   },
   {
    "duration": 162,
    "start_time": "2022-10-29T18:54:57.852Z"
   },
   {
    "duration": 159,
    "start_time": "2022-10-29T18:54:58.016Z"
   },
   {
    "duration": 121,
    "start_time": "2022-10-29T18:54:58.177Z"
   },
   {
    "duration": 1322,
    "start_time": "2022-10-29T18:54:58.304Z"
   },
   {
    "duration": 22,
    "start_time": "2022-10-29T18:54:59.627Z"
   },
   {
    "duration": 283,
    "start_time": "2022-10-29T18:54:59.650Z"
   },
   {
    "duration": 73,
    "start_time": "2022-10-29T19:40:33.716Z"
   },
   {
    "duration": 250,
    "start_time": "2022-10-29T19:43:11.941Z"
   },
   {
    "duration": 1803,
    "start_time": "2022-10-29T19:43:45.182Z"
   },
   {
    "duration": 721,
    "start_time": "2022-10-29T19:43:46.988Z"
   },
   {
    "duration": 14,
    "start_time": "2022-10-29T19:43:47.711Z"
   },
   {
    "duration": 640,
    "start_time": "2022-10-29T19:43:47.727Z"
   },
   {
    "duration": 119,
    "start_time": "2022-10-29T19:43:48.369Z"
   },
   {
    "duration": 150,
    "start_time": "2022-10-29T19:43:48.490Z"
   },
   {
    "duration": 141,
    "start_time": "2022-10-29T19:43:48.641Z"
   },
   {
    "duration": 150,
    "start_time": "2022-10-29T19:43:48.783Z"
   },
   {
    "duration": 153,
    "start_time": "2022-10-29T19:43:48.935Z"
   },
   {
    "duration": 151,
    "start_time": "2022-10-29T19:43:49.090Z"
   },
   {
    "duration": 130,
    "start_time": "2022-10-29T19:43:49.242Z"
   },
   {
    "duration": 138,
    "start_time": "2022-10-29T19:43:49.373Z"
   },
   {
    "duration": 262,
    "start_time": "2022-10-29T19:43:49.512Z"
   },
   {
    "duration": 147,
    "start_time": "2022-10-29T19:43:49.776Z"
   },
   {
    "duration": 151,
    "start_time": "2022-10-29T19:43:49.925Z"
   },
   {
    "duration": 141,
    "start_time": "2022-10-29T19:43:50.078Z"
   },
   {
    "duration": 220,
    "start_time": "2022-10-29T19:43:50.220Z"
   },
   {
    "duration": 114,
    "start_time": "2022-10-29T19:43:50.447Z"
   },
   {
    "duration": 1232,
    "start_time": "2022-10-29T19:43:50.562Z"
   },
   {
    "duration": 26,
    "start_time": "2022-10-29T19:43:51.796Z"
   },
   {
    "duration": 264,
    "start_time": "2022-10-29T19:43:51.823Z"
   },
   {
    "duration": 1105,
    "start_time": "2022-10-29T19:44:22.502Z"
   },
   {
    "duration": 258,
    "start_time": "2022-10-29T19:44:45.188Z"
   },
   {
    "duration": 130,
    "start_time": "2022-10-29T19:46:37.564Z"
   },
   {
    "duration": 1173,
    "start_time": "2022-10-29T19:50:11.698Z"
   },
   {
    "duration": 311,
    "start_time": "2022-10-29T19:51:00.614Z"
   },
   {
    "duration": 119,
    "start_time": "2022-10-29T19:54:01.633Z"
   },
   {
    "duration": 123,
    "start_time": "2022-10-29T19:54:30.279Z"
   },
   {
    "duration": 1902,
    "start_time": "2022-10-29T20:04:26.343Z"
   },
   {
    "duration": 769,
    "start_time": "2022-10-29T20:04:28.247Z"
   },
   {
    "duration": 14,
    "start_time": "2022-10-29T20:04:29.018Z"
   },
   {
    "duration": 620,
    "start_time": "2022-10-29T20:04:29.035Z"
   },
   {
    "duration": 124,
    "start_time": "2022-10-29T20:04:29.656Z"
   },
   {
    "duration": 159,
    "start_time": "2022-10-29T20:04:29.782Z"
   },
   {
    "duration": 145,
    "start_time": "2022-10-29T20:04:29.942Z"
   },
   {
    "duration": 166,
    "start_time": "2022-10-29T20:04:30.089Z"
   },
   {
    "duration": 143,
    "start_time": "2022-10-29T20:04:30.257Z"
   },
   {
    "duration": 151,
    "start_time": "2022-10-29T20:04:30.405Z"
   },
   {
    "duration": 68,
    "start_time": "2022-10-29T20:04:30.558Z"
   },
   {
    "duration": 0,
    "start_time": "2022-10-29T20:04:30.628Z"
   },
   {
    "duration": 0,
    "start_time": "2022-10-29T20:04:30.629Z"
   },
   {
    "duration": 0,
    "start_time": "2022-10-29T20:04:30.630Z"
   },
   {
    "duration": 0,
    "start_time": "2022-10-29T20:04:30.631Z"
   },
   {
    "duration": 0,
    "start_time": "2022-10-29T20:04:30.632Z"
   },
   {
    "duration": 0,
    "start_time": "2022-10-29T20:04:30.633Z"
   },
   {
    "duration": 0,
    "start_time": "2022-10-29T20:04:30.634Z"
   },
   {
    "duration": 0,
    "start_time": "2022-10-29T20:04:30.635Z"
   },
   {
    "duration": 0,
    "start_time": "2022-10-29T20:04:30.636Z"
   },
   {
    "duration": 0,
    "start_time": "2022-10-29T20:04:30.637Z"
   },
   {
    "duration": 0,
    "start_time": "2022-10-29T20:04:30.638Z"
   },
   {
    "duration": 123,
    "start_time": "2022-10-29T20:10:28.190Z"
   },
   {
    "duration": 2016,
    "start_time": "2022-10-29T20:11:36.435Z"
   },
   {
    "duration": 555,
    "start_time": "2022-10-29T20:11:38.453Z"
   },
   {
    "duration": 12,
    "start_time": "2022-10-29T20:11:39.010Z"
   },
   {
    "duration": 764,
    "start_time": "2022-10-29T20:11:39.024Z"
   },
   {
    "duration": 126,
    "start_time": "2022-10-29T20:11:39.790Z"
   },
   {
    "duration": 159,
    "start_time": "2022-10-29T20:11:39.918Z"
   },
   {
    "duration": 158,
    "start_time": "2022-10-29T20:11:40.079Z"
   },
   {
    "duration": 153,
    "start_time": "2022-10-29T20:11:40.239Z"
   },
   {
    "duration": 137,
    "start_time": "2022-10-29T20:11:40.394Z"
   },
   {
    "duration": 145,
    "start_time": "2022-10-29T20:11:40.533Z"
   },
   {
    "duration": 126,
    "start_time": "2022-10-29T20:11:40.680Z"
   },
   {
    "duration": 125,
    "start_time": "2022-10-29T20:11:40.808Z"
   },
   {
    "duration": 141,
    "start_time": "2022-10-29T20:11:40.934Z"
   },
   {
    "duration": 153,
    "start_time": "2022-10-29T20:11:41.076Z"
   },
   {
    "duration": 175,
    "start_time": "2022-10-29T20:11:41.230Z"
   },
   {
    "duration": 171,
    "start_time": "2022-10-29T20:11:41.407Z"
   },
   {
    "duration": 174,
    "start_time": "2022-10-29T20:11:41.580Z"
   },
   {
    "duration": 166,
    "start_time": "2022-10-29T20:11:41.756Z"
   },
   {
    "duration": 122,
    "start_time": "2022-10-29T20:11:41.923Z"
   },
   {
    "duration": 1288,
    "start_time": "2022-10-29T20:11:42.047Z"
   },
   {
    "duration": 23,
    "start_time": "2022-10-29T20:11:43.336Z"
   },
   {
    "duration": 272,
    "start_time": "2022-10-29T20:11:43.360Z"
   }
  ],
  "kernelspec": {
   "display_name": "Python 3 (ipykernel)",
   "language": "python",
   "name": "python3"
  },
  "language_info": {
   "codemirror_mode": {
    "name": "ipython",
    "version": 3
   },
   "file_extension": ".py",
   "mimetype": "text/x-python",
   "name": "python",
   "nbconvert_exporter": "python",
   "pygments_lexer": "ipython3",
   "version": "3.9.13"
  },
  "toc": {
   "base_numbering": 1,
   "nav_menu": {},
   "number_sections": true,
   "sideBar": true,
   "skip_h1_title": true,
   "title_cell": "Table of Contents",
   "title_sidebar": "Contents",
   "toc_cell": false,
   "toc_position": {},
   "toc_section_display": true,
   "toc_window_display": false
  }
 },
 "nbformat": 4,
 "nbformat_minor": 2
}
