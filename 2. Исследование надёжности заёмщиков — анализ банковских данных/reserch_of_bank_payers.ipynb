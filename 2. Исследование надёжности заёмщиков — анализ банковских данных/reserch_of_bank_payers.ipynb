{
 "cells": [
  {
   "cell_type": "markdown",
   "id": "52c46433",
   "metadata": {
    "deletable": false,
    "editable": false,
    "id": "c81daeeb"
   },
   "source": [
    "# Исследование надежности заемщиков"
   ]
  },
  {
   "cell_type": "markdown",
   "id": "8a624d5f",
   "metadata": {
    "deletable": false,
    "editable": false,
    "id": "-G3EJWzf62s6"
   },
   "source": [
    "Это первая часть проекта, она будет проверена автоматически. Вторую часть проверит ревьюер. "
   ]
  },
  {
   "cell_type": "markdown",
   "id": "490a4d39",
   "metadata": {
    "deletable": false,
    "editable": false,
    "id": "744d7639"
   },
   "source": [
    "## Откройте таблицу и изучите общую информацию о данных"
   ]
  },
  {
   "cell_type": "markdown",
   "id": "72d2e106",
   "metadata": {
    "deletable": false,
    "editable": false,
    "id": "e7a14c31",
    "tags": [
     "start_task"
    ]
   },
   "source": [
    "**Задание 1. Импортируйте библиотеку pandas. Считайте данные из csv-файла в датафрейм и сохраните в переменную `data`. Путь к файлу:**\n",
    "\n",
    "`/datasets/data.csv`"
   ]
  },
  {
   "cell_type": "code",
   "execution_count": 113,
   "id": "a3c9b8c3",
   "metadata": {
    "id": "7bcf75c9"
   },
   "outputs": [],
   "source": [
    "import pandas as pd# импортируйте библиотеку pandas"
   ]
  },
  {
   "cell_type": "code",
   "execution_count": 114,
   "id": "6815de76",
   "metadata": {
    "id": "4d240ee2"
   },
   "outputs": [],
   "source": [
    "data = pd.read_csv('/datasets/data.csv')# прочитайте csv-файл"
   ]
  },
  {
   "cell_type": "markdown",
   "id": "378913c6",
   "metadata": {
    "deletable": false,
    "editable": false,
    "id": "b8038fe3",
    "tags": [
     "start_task"
    ]
   },
   "source": [
    "**Задание 2. Выведите первые 20 строчек датафрейма `data` на экран.**"
   ]
  },
  {
   "cell_type": "code",
   "execution_count": 115,
   "id": "cb7cab7d",
   "metadata": {
    "id": "2a7cab99"
   },
   "outputs": [
    {
     "name": "stdout",
     "output_type": "stream",
     "text": [
      "    children  days_employed  dob_years            education  education_id  \\\n",
      "0          1   -8437.673028         42               высшее             0   \n",
      "1          1   -4024.803754         36              среднее             1   \n",
      "2          0   -5623.422610         33              Среднее             1   \n",
      "3          3   -4124.747207         32              среднее             1   \n",
      "4          0  340266.072047         53              среднее             1   \n",
      "5          0    -926.185831         27               высшее             0   \n",
      "6          0   -2879.202052         43               высшее             0   \n",
      "7          0    -152.779569         50              СРЕДНЕЕ             1   \n",
      "8          2   -6929.865299         35               ВЫСШЕЕ             0   \n",
      "9          0   -2188.756445         41              среднее             1   \n",
      "10         2   -4171.483647         36               высшее             0   \n",
      "11         0    -792.701887         40              среднее             1   \n",
      "12         0            NaN         65              среднее             1   \n",
      "13         0   -1846.641941         54  неоконченное высшее             2   \n",
      "14         0   -1844.956182         56               высшее             0   \n",
      "15         1    -972.364419         26              среднее             1   \n",
      "16         0   -1719.934226         35              среднее             1   \n",
      "17         0   -2369.999720         33               высшее             0   \n",
      "18         0  400281.136913         53              среднее             1   \n",
      "19         0  -10038.818549         48              СРЕДНЕЕ             1   \n",
      "\n",
      "       family_status  family_status_id gender income_type  debt  \\\n",
      "0    женат / замужем                 0      F   сотрудник     0   \n",
      "1    женат / замужем                 0      F   сотрудник     0   \n",
      "2    женат / замужем                 0      M   сотрудник     0   \n",
      "3    женат / замужем                 0      M   сотрудник     0   \n",
      "4   гражданский брак                 1      F   пенсионер     0   \n",
      "5   гражданский брак                 1      M   компаньон     0   \n",
      "6    женат / замужем                 0      F   компаньон     0   \n",
      "7    женат / замужем                 0      M   сотрудник     0   \n",
      "8   гражданский брак                 1      F   сотрудник     0   \n",
      "9    женат / замужем                 0      M   сотрудник     0   \n",
      "10   женат / замужем                 0      M   компаньон     0   \n",
      "11   женат / замужем                 0      F   сотрудник     0   \n",
      "12  гражданский брак                 1      M   пенсионер     0   \n",
      "13   женат / замужем                 0      F   сотрудник     0   \n",
      "14  гражданский брак                 1      F   компаньон     1   \n",
      "15   женат / замужем                 0      F   сотрудник     0   \n",
      "16   женат / замужем                 0      F   сотрудник     0   \n",
      "17  гражданский брак                 1      M   сотрудник     0   \n",
      "18    вдовец / вдова                 2      F   пенсионер     0   \n",
      "19         в разводе                 3      F   сотрудник     0   \n",
      "\n",
      "     total_income                                 purpose  \n",
      "0   253875.639453                           покупка жилья  \n",
      "1   112080.014102                 приобретение автомобиля  \n",
      "2   145885.952297                           покупка жилья  \n",
      "3   267628.550329              дополнительное образование  \n",
      "4   158616.077870                         сыграть свадьбу  \n",
      "5   255763.565419                           покупка жилья  \n",
      "6   240525.971920                       операции с жильем  \n",
      "7   135823.934197                             образование  \n",
      "8    95856.832424                   на проведение свадьбы  \n",
      "9   144425.938277                 покупка жилья для семьи  \n",
      "10  113943.491460                    покупка недвижимости  \n",
      "11   77069.234271       покупка коммерческой недвижимости  \n",
      "12            NaN                         сыграть свадьбу  \n",
      "13  130458.228857                 приобретение автомобиля  \n",
      "14  165127.911772              покупка жилой недвижимости  \n",
      "15  116820.904450  строительство собственной недвижимости  \n",
      "16  289202.704229                            недвижимость  \n",
      "17   90410.586745              строительство недвижимости  \n",
      "18   56823.777243      на покупку подержанного автомобиля  \n",
      "19  242831.107982            на покупку своего автомобиля  \n"
     ]
    }
   ],
   "source": [
    "print(data.head(20))# ваш код здесь"
   ]
  },
  {
   "cell_type": "markdown",
   "id": "66d0424a",
   "metadata": {
    "deletable": false,
    "editable": false,
    "id": "1c12e233",
    "tags": [
     "start_task"
    ]
   },
   "source": [
    "**Задание 3. Выведите основную информацию о датафрейме с помощью метода `info()`.**"
   ]
  },
  {
   "cell_type": "code",
   "execution_count": 116,
   "id": "fc9cbb78",
   "metadata": {
    "id": "2b757bca"
   },
   "outputs": [
    {
     "name": "stdout",
     "output_type": "stream",
     "text": [
      "<class 'pandas.core.frame.DataFrame'>\n",
      "RangeIndex: 21525 entries, 0 to 21524\n",
      "Data columns (total 12 columns):\n",
      " #   Column            Non-Null Count  Dtype  \n",
      "---  ------            --------------  -----  \n",
      " 0   children          21525 non-null  int64  \n",
      " 1   days_employed     19351 non-null  float64\n",
      " 2   dob_years         21525 non-null  int64  \n",
      " 3   education         21525 non-null  object \n",
      " 4   education_id      21525 non-null  int64  \n",
      " 5   family_status     21525 non-null  object \n",
      " 6   family_status_id  21525 non-null  int64  \n",
      " 7   gender            21525 non-null  object \n",
      " 8   income_type       21525 non-null  object \n",
      " 9   debt              21525 non-null  int64  \n",
      " 10  total_income      19351 non-null  float64\n",
      " 11  purpose           21525 non-null  object \n",
      "dtypes: float64(2), int64(5), object(5)\n",
      "memory usage: 2.0+ MB\n"
     ]
    }
   ],
   "source": [
    "data.info()# ваш код здесь"
   ]
  },
  {
   "cell_type": "markdown",
   "id": "809db51d",
   "metadata": {
    "deletable": false,
    "editable": false,
    "id": "333ec665"
   },
   "source": [
    "## Предобработка данных"
   ]
  },
  {
   "cell_type": "markdown",
   "id": "f72c3b08",
   "metadata": {
    "deletable": false,
    "editable": false,
    "id": "02d92d53"
   },
   "source": [
    "### Удаление пропусков"
   ]
  },
  {
   "cell_type": "markdown",
   "id": "d4b2f14b",
   "metadata": {
    "deletable": false,
    "editable": false,
    "id": "cd84967c",
    "tags": [
     "start_task"
    ]
   },
   "source": [
    "**Задание 4. Выведите количество пропущенных значений для каждого столбца. Используйте комбинацию двух методов.**"
   ]
  },
  {
   "cell_type": "code",
   "execution_count": 117,
   "id": "349eb5a7",
   "metadata": {
    "id": "7f9b2309"
   },
   "outputs": [
    {
     "name": "stdout",
     "output_type": "stream",
     "text": [
      "children               0\n",
      "days_employed       2174\n",
      "dob_years              0\n",
      "education              0\n",
      "education_id           0\n",
      "family_status          0\n",
      "family_status_id       0\n",
      "gender                 0\n",
      "income_type            0\n",
      "debt                   0\n",
      "total_income        2174\n",
      "purpose                0\n",
      "dtype: int64\n"
     ]
    }
   ],
   "source": [
    "print(data.isnull().sum())# ваш код здесь"
   ]
  },
  {
   "cell_type": "markdown",
   "id": "eef4e69c",
   "metadata": {
    "deletable": false,
    "editable": false,
    "id": "db86e27b",
    "tags": [
     "start_task"
    ]
   },
   "source": [
    "**Задание 5. В двух столбцах есть пропущенные значения. Один из них — `days_employed`. Пропуски в этом столбце вы обработаете на следующем этапе. Другой столбец с пропущенными значениями — `total_income` — хранит данные о доходах. На сумму дохода сильнее всего влияет тип занятости, поэтому заполнить пропуски в этом столбце нужно медианным значением по каждому типу из столбца `income_type`. Например, у человека с типом занятости `сотрудник` пропуск в столбце `total_income` должен быть заполнен медианным доходом среди всех записей с тем же типом.**"
   ]
  },
  {
   "cell_type": "code",
   "execution_count": 118,
   "id": "1ccc8da7",
   "metadata": {
    "id": "42006a93"
   },
   "outputs": [],
   "source": [
    "median_income = data.groupby('income_type')['total_income'].transform('median')\n",
    "data['total_income'] = data['total_income'].fillna(median_income)"
   ]
  },
  {
   "cell_type": "markdown",
   "id": "08dce5a3",
   "metadata": {
    "deletable": false,
    "editable": false,
    "id": "89da5ece"
   },
   "source": [
    "### Обработка аномальных значений"
   ]
  },
  {
   "cell_type": "markdown",
   "id": "f5cde56a",
   "metadata": {
    "deletable": false,
    "editable": false,
    "id": "57964554",
    "tags": [
     "start_task"
    ]
   },
   "source": [
    "**Задание 6. В данных могут встречаться артефакты (аномалии) — значения, которые не отражают действительность и появились по какой-то ошибке. Таким артефактом будет отрицательное количество дней трудового стажа в столбце `days_employed`. Для реальных данных это нормально. Обработайте значения в этом столбце: замените все отрицательные значения положительными с помощью метода `abs()`.**"
   ]
  },
  {
   "cell_type": "code",
   "execution_count": 119,
   "id": "16816f1b",
   "metadata": {
    "id": "f6f055bf"
   },
   "outputs": [],
   "source": [
    "data['days_employed'] = data['days_employed'].abs()"
   ]
  },
  {
   "cell_type": "markdown",
   "id": "6da6c040",
   "metadata": {
    "deletable": false,
    "editable": false,
    "id": "6107dd2f",
    "tags": [
     "start_task"
    ]
   },
   "source": [
    "**Задание 7. Для каждого типа занятости выведите медианное значение трудового стажа `days_employed` в днях.**"
   ]
  },
  {
   "cell_type": "code",
   "execution_count": 120,
   "id": "90c72f6e",
   "metadata": {
    "id": "85a5faf6"
   },
   "outputs": [
    {
     "name": "stdout",
     "output_type": "stream",
     "text": [
      "income_type\n",
      "безработный        366413.652744\n",
      "в декрете            3296.759962\n",
      "госслужащий          2689.368353\n",
      "компаньон            1547.382223\n",
      "пенсионер          365213.306266\n",
      "предприниматель       520.848083\n",
      "сотрудник            1574.202821\n",
      "студент               578.751554\n",
      "Name: days_employed, dtype: float64\n"
     ]
    }
   ],
   "source": [
    "median_days_employed  = data.groupby('income_type')['days_employed'].median()\n",
    "print(median_days_employed)"
   ]
  },
  {
   "cell_type": "markdown",
   "id": "bbc972d3",
   "metadata": {
    "deletable": false,
    "editable": false,
    "id": "38d1a030"
   },
   "source": [
    "У двух типов (безработные и пенсионеры) получатся аномально большие значения. Исправить такие значения сложно, поэтому оставьте их как есть. Тем более этот столбец не понадобится вам для исследования."
   ]
  },
  {
   "cell_type": "markdown",
   "id": "de799503",
   "metadata": {
    "deletable": false,
    "editable": false,
    "id": "d8a9f147",
    "tags": [
     "start_task"
    ]
   },
   "source": [
    "**Задание 8. Выведите перечень уникальных значений столбца `children`.**"
   ]
  },
  {
   "cell_type": "code",
   "execution_count": 121,
   "id": "a52163c4",
   "metadata": {
    "id": "ef5056eb"
   },
   "outputs": [
    {
     "name": "stdout",
     "output_type": "stream",
     "text": [
      "[ 1  0  3  2 -1  4 20  5]\n"
     ]
    }
   ],
   "source": [
    "children_unique = data['children'].unique()\n",
    "print(children_unique)"
   ]
  },
  {
   "cell_type": "markdown",
   "id": "275df46e",
   "metadata": {
    "deletable": false,
    "editable": false,
    "id": "40b9ebf2",
    "tags": [
     "start_task"
    ]
   },
   "source": [
    "**Задание 9. В столбце `children` есть два аномальных значения. Удалите строки, в которых встречаются такие аномальные значения из датафрейма `data`.**"
   ]
  },
  {
   "cell_type": "code",
   "execution_count": 122,
   "id": "f31f0e78",
   "metadata": {
    "id": "3ff9801d"
   },
   "outputs": [],
   "source": [
    "data=data.drop(data[data['children']==-1].index)\n",
    "data=data.drop(data[data['children']==20].index)"
   ]
  },
  {
   "cell_type": "markdown",
   "id": "a808a133",
   "metadata": {
    "deletable": false,
    "editable": false,
    "id": "bbc4d0ce",
    "tags": [
     "start_task"
    ]
   },
   "source": [
    "**Задание 10. Ещё раз выведите перечень уникальных значений столбца `children`, чтобы убедиться, что артефакты удалены.**"
   ]
  },
  {
   "cell_type": "code",
   "execution_count": 123,
   "id": "4a69e76c",
   "metadata": {
    "id": "ad4fa8b7"
   },
   "outputs": [
    {
     "name": "stdout",
     "output_type": "stream",
     "text": [
      "[1 0 3 2 4 5]\n"
     ]
    }
   ],
   "source": [
    "children_unique = data['children'].unique()\n",
    "print(children_unique)# ваш код здесь"
   ]
  },
  {
   "cell_type": "markdown",
   "id": "34b43052",
   "metadata": {
    "deletable": false,
    "editable": false,
    "id": "75440b63"
   },
   "source": [
    "### Удаление пропусков (продолжение)"
   ]
  },
  {
   "cell_type": "markdown",
   "id": "018cd997",
   "metadata": {
    "deletable": false,
    "editable": false,
    "id": "f4ea573f",
    "tags": [
     "start_task"
    ]
   },
   "source": [
    "**Задание 11. Заполните пропуски в столбце `days_employed` медианными значениями по каждому типу занятости `income_type`.**"
   ]
  },
  {
   "cell_type": "code",
   "execution_count": 124,
   "id": "157a0567",
   "metadata": {
    "id": "af6b1a7e"
   },
   "outputs": [],
   "source": [
    "median_days_employed = data.groupby('income_type')['days_employed'].transform('median')\n",
    "data['days_employed'] = data['days_employed'].fillna(median_days_employed)"
   ]
  },
  {
   "cell_type": "markdown",
   "id": "c056836c",
   "metadata": {
    "deletable": false,
    "editable": false,
    "id": "2753f40d",
    "tags": [
     "start_task"
    ]
   },
   "source": [
    "**Задание 12. Убедитесь, что все пропуски заполнены. Проверьте себя и ещё раз выведите количество пропущенных значений для каждого столбца с помощью двух методов.**"
   ]
  },
  {
   "cell_type": "code",
   "execution_count": 125,
   "id": "cdd9285d",
   "metadata": {
    "id": "55f78bc2"
   },
   "outputs": [
    {
     "data": {
      "text/plain": [
       "children            21402\n",
       "days_employed       21402\n",
       "dob_years           21402\n",
       "education           21402\n",
       "education_id        21402\n",
       "family_status       21402\n",
       "family_status_id    21402\n",
       "gender              21402\n",
       "income_type         21402\n",
       "debt                21402\n",
       "total_income        21402\n",
       "purpose             21402\n",
       "dtype: int64"
      ]
     },
     "execution_count": 125,
     "metadata": {},
     "output_type": "execute_result"
    }
   ],
   "source": [
    "data.isnull().count()\n"
   ]
  },
  {
   "cell_type": "markdown",
   "id": "4c032dc1",
   "metadata": {
    "deletable": false,
    "editable": false,
    "id": "ddc81e43"
   },
   "source": [
    "### Изменение типов данных"
   ]
  },
  {
   "cell_type": "markdown",
   "id": "3375c167",
   "metadata": {
    "deletable": false,
    "editable": false,
    "id": "42d19d24",
    "tags": [
     "start_task"
    ]
   },
   "source": [
    "**Задание 13. Замените вещественный тип данных в столбце `total_income` на целочисленный с помощью метода `astype()`.**"
   ]
  },
  {
   "cell_type": "code",
   "execution_count": 126,
   "id": "4d2cb9ea",
   "metadata": {
    "id": "920b65ad"
   },
   "outputs": [],
   "source": [
    "data['total_income'] = data['total_income'].astype('int') "
   ]
  },
  {
   "cell_type": "markdown",
   "id": "f175e760",
   "metadata": {
    "deletable": false,
    "editable": false,
    "id": "80c420ba"
   },
   "source": [
    "### Обработка дубликатов"
   ]
  },
  {
   "cell_type": "markdown",
   "id": "2c646f98",
   "metadata": {
    "deletable": false,
    "editable": false,
    "tags": [
     "start_task"
    ]
   },
   "source": [
    "**Задание 14. Обработайте неявные дубликаты в столбце `education`. В этом столбце есть одни и те же значения, но записанные по-разному: с использованием заглавных и строчных букв. Приведите их к нижнему регистру. Проверьте остальные столбцы.**"
   ]
  },
  {
   "cell_type": "code",
   "execution_count": 127,
   "id": "6e65c948",
   "metadata": {},
   "outputs": [],
   "source": [
    "data['education']=data['education'].str.lower()"
   ]
  },
  {
   "cell_type": "markdown",
   "id": "e83dbf52",
   "metadata": {
    "deletable": false,
    "editable": false,
    "id": "dc587695",
    "tags": [
     "start_task"
    ]
   },
   "source": [
    "**Задание 15. Выведите на экран количество строк-дубликатов в данных. Если такие строки присутствуют, удалите их.**"
   ]
  },
  {
   "cell_type": "code",
   "execution_count": 128,
   "id": "51b0119b",
   "metadata": {
    "id": "3ee445e4"
   },
   "outputs": [
    {
     "data": {
      "text/plain": [
       "71"
      ]
     },
     "execution_count": 128,
     "metadata": {},
     "output_type": "execute_result"
    }
   ],
   "source": [
    "data.duplicated().sum()"
   ]
  },
  {
   "cell_type": "code",
   "execution_count": 129,
   "id": "52f07ca2",
   "metadata": {
    "id": "8575fe05"
   },
   "outputs": [],
   "source": [
    "data=data.drop_duplicates().reset_index(drop= True)"
   ]
  },
  {
   "cell_type": "markdown",
   "id": "98886406",
   "metadata": {
    "deletable": false,
    "editable": false,
    "id": "9904cf55"
   },
   "source": [
    "### Категоризация данных"
   ]
  },
  {
   "cell_type": "markdown",
   "id": "7adfc769",
   "metadata": {
    "deletable": false,
    "editable": false,
    "id": "72fcc8a2",
    "tags": [
     "start_task"
    ]
   },
   "source": [
    "**Задание 16. На основании диапазонов, указанных ниже, создайте в датафрейме `data` столбец `total_income_category` с категориями:**\n",
    "\n",
    "- 0–30000 — `'E'`;\n",
    "- 30001–50000 — `'D'`;\n",
    "- 50001–200000 — `'C'`;\n",
    "- 200001–1000000 — `'B'`;\n",
    "- 1000001 и выше — `'A'`.\n",
    "\n",
    "\n",
    "**Например, кредитополучателю с доходом 25000 нужно назначить категорию `'E'`, а клиенту, получающему 235000, — `'B'`. Используйте собственную функцию с именем `categorize_income()` и метод `apply()`.**"
   ]
  },
  {
   "cell_type": "code",
   "execution_count": 130,
   "id": "708e727e",
   "metadata": {
    "id": "e1771346"
   },
   "outputs": [],
   "source": [
    "\n",
    "def categorize_income(income):\n",
    "    if 0<=income<=30000:\n",
    "        return 'E'\n",
    "    if 30001<=income<=50000:\n",
    "        return 'D'\n",
    "    if 50001<=income<=200000:\n",
    "        return 'C'\n",
    "    if 200001<=income<=1000000:\n",
    "        return 'B'\n",
    "    return 'A'"
   ]
  },
  {
   "cell_type": "code",
   "execution_count": 131,
   "id": "df6b3c19",
   "metadata": {
    "id": "d5f3586d"
   },
   "outputs": [],
   "source": [
    "data['total_income_category'] = data['total_income'].apply(categorize_income)"
   ]
  },
  {
   "cell_type": "markdown",
   "id": "6407f2a7",
   "metadata": {
    "deletable": false,
    "editable": false,
    "id": "dde49b5c",
    "tags": [
     "start_task"
    ]
   },
   "source": [
    "**Задание 17. Выведите на экран перечень уникальных целей взятия кредита из столбца `purpose`.**"
   ]
  },
  {
   "cell_type": "code",
   "execution_count": 132,
   "id": "e808df6e",
   "metadata": {
    "id": "f67ce9b3"
   },
   "outputs": [
    {
     "data": {
      "text/plain": [
       "array(['покупка жилья', 'приобретение автомобиля',\n",
       "       'дополнительное образование', 'сыграть свадьбу',\n",
       "       'операции с жильем', 'образование', 'на проведение свадьбы',\n",
       "       'покупка жилья для семьи', 'покупка недвижимости',\n",
       "       'покупка коммерческой недвижимости', 'покупка жилой недвижимости',\n",
       "       'строительство собственной недвижимости', 'недвижимость',\n",
       "       'строительство недвижимости', 'на покупку подержанного автомобиля',\n",
       "       'на покупку своего автомобиля',\n",
       "       'операции с коммерческой недвижимостью',\n",
       "       'строительство жилой недвижимости', 'жилье',\n",
       "       'операции со своей недвижимостью', 'автомобили',\n",
       "       'заняться образованием', 'сделка с подержанным автомобилем',\n",
       "       'получение образования', 'автомобиль', 'свадьба',\n",
       "       'получение дополнительного образования', 'покупка своего жилья',\n",
       "       'операции с недвижимостью', 'получение высшего образования',\n",
       "       'свой автомобиль', 'сделка с автомобилем',\n",
       "       'профильное образование', 'высшее образование',\n",
       "       'покупка жилья для сдачи', 'на покупку автомобиля', 'ремонт жилью',\n",
       "       'заняться высшим образованием'], dtype=object)"
      ]
     },
     "execution_count": 132,
     "metadata": {},
     "output_type": "execute_result"
    }
   ],
   "source": [
    "data['purpose'].unique()"
   ]
  },
  {
   "cell_type": "markdown",
   "id": "6b5e18b1",
   "metadata": {
    "deletable": false,
    "editable": false,
    "id": "85d0aef0",
    "tags": [
     "start_task"
    ]
   },
   "source": [
    "**Задание 18. Создайте функцию, которая на основании данных из столбца `purpose` сформирует новый столбец `purpose_category`, в который войдут следующие категории:**\n",
    "\n",
    "- `'операции с автомобилем'`,\n",
    "- `'операции с недвижимостью'`,\n",
    "- `'проведение свадьбы'`,\n",
    "- `'получение образования'`.\n",
    "\n",
    "**Например, если в столбце `purpose` находится подстрока `'на покупку автомобиля'`, то в столбце `purpose_category` должна появиться строка `'операции с автомобилем'`.**\n",
    "\n",
    "**Используйте собственную функцию с именем `categorize_purpose()` и метод `apply()`. Изучите данные в столбце `purpose` и определите, какие подстроки помогут вам правильно определить категорию.**"
   ]
  },
  {
   "cell_type": "code",
   "execution_count": 133,
   "id": "ab73fe74",
   "metadata": {
    "id": "e149fab4"
   },
   "outputs": [],
   "source": [
    "def categorize_purpose(list):\n",
    "    if \"авто\" in list:\n",
    "        return 'операции с автомобилем'\n",
    "    if \"образов\" in list:\n",
    "        return 'получение образования'\n",
    "    if \"свадьб\" in list:\n",
    "        return 'проведение свадьбы'\n",
    "    if \"недвижимость\" or \"жилье\"  in list:\n",
    "        return 'операции с недвижимостью'\n"
   ]
  },
  {
   "cell_type": "code",
   "execution_count": 134,
   "id": "b6d0d245",
   "metadata": {
    "id": "bf36e69b"
   },
   "outputs": [],
   "source": [
    "data['purpose_category'] = data['purpose'].apply(categorize_purpose)\n"
   ]
  },
  {
   "cell_type": "code",
   "execution_count": null,
   "id": "c757f617",
   "metadata": {},
   "outputs": [],
   "source": []
  }
 ],
 "metadata": {
  "ExecuteTimeLog": [
   {
    "duration": 53,
    "start_time": "2022-09-15T17:26:22.993Z"
   },
   {
    "duration": 52,
    "start_time": "2022-09-16T12:56:05.432Z"
   },
   {
    "duration": 6,
    "start_time": "2022-09-16T15:43:50.078Z"
   },
   {
    "duration": 425,
    "start_time": "2022-09-16T15:44:16.632Z"
   },
   {
    "duration": 140,
    "start_time": "2022-09-16T15:44:17.060Z"
   },
   {
    "duration": 11,
    "start_time": "2022-09-16T15:44:17.202Z"
   },
   {
    "duration": 31,
    "start_time": "2022-09-16T15:44:17.215Z"
   },
   {
    "duration": 9,
    "start_time": "2022-09-16T15:44:17.248Z"
   },
   {
    "duration": 17,
    "start_time": "2022-09-16T15:44:17.259Z"
   },
   {
    "duration": 10,
    "start_time": "2022-09-16T15:44:17.278Z"
   },
   {
    "duration": 11,
    "start_time": "2022-09-16T15:44:17.290Z"
   },
   {
    "duration": 5,
    "start_time": "2022-09-16T15:44:17.303Z"
   },
   {
    "duration": 15,
    "start_time": "2022-09-16T15:44:17.310Z"
   },
   {
    "duration": 5,
    "start_time": "2022-09-16T15:44:17.327Z"
   },
   {
    "duration": 15,
    "start_time": "2022-09-16T15:44:17.334Z"
   },
   {
    "duration": 24,
    "start_time": "2022-09-16T15:44:17.351Z"
   },
   {
    "duration": 16,
    "start_time": "2022-09-16T15:44:17.379Z"
   },
   {
    "duration": 28,
    "start_time": "2022-09-16T15:44:17.396Z"
   },
   {
    "duration": 31,
    "start_time": "2022-09-16T15:44:17.426Z"
   },
   {
    "duration": 21,
    "start_time": "2022-09-16T15:44:17.459Z"
   },
   {
    "duration": 6,
    "start_time": "2022-09-16T15:44:17.482Z"
   },
   {
    "duration": 25,
    "start_time": "2022-09-16T15:44:17.489Z"
   },
   {
    "duration": 23,
    "start_time": "2022-09-16T15:44:17.516Z"
   },
   {
    "duration": 5,
    "start_time": "2022-09-16T15:44:17.541Z"
   },
   {
    "duration": 38,
    "start_time": "2022-09-16T15:44:17.548Z"
   },
   {
    "duration": 3,
    "start_time": "2022-09-16T15:44:57.827Z"
   },
   {
    "duration": 75,
    "start_time": "2022-09-16T15:44:57.833Z"
   },
   {
    "duration": 9,
    "start_time": "2022-09-16T15:44:57.909Z"
   },
   {
    "duration": 19,
    "start_time": "2022-09-16T15:44:57.919Z"
   },
   {
    "duration": 9,
    "start_time": "2022-09-16T15:44:57.940Z"
   },
   {
    "duration": 8,
    "start_time": "2022-09-16T15:44:57.951Z"
   },
   {
    "duration": 8,
    "start_time": "2022-09-16T15:44:57.960Z"
   },
   {
    "duration": 28,
    "start_time": "2022-09-16T15:44:57.970Z"
   },
   {
    "duration": 5,
    "start_time": "2022-09-16T15:44:57.999Z"
   },
   {
    "duration": 28,
    "start_time": "2022-09-16T15:44:58.006Z"
   },
   {
    "duration": 3,
    "start_time": "2022-09-16T15:44:58.037Z"
   },
   {
    "duration": 16,
    "start_time": "2022-09-16T15:44:58.042Z"
   },
   {
    "duration": 11,
    "start_time": "2022-09-16T15:44:58.060Z"
   },
   {
    "duration": 4,
    "start_time": "2022-09-16T15:44:58.074Z"
   },
   {
    "duration": 20,
    "start_time": "2022-09-16T15:44:58.095Z"
   },
   {
    "duration": 22,
    "start_time": "2022-09-16T15:44:58.117Z"
   },
   {
    "duration": 23,
    "start_time": "2022-09-16T15:44:58.141Z"
   },
   {
    "duration": 3,
    "start_time": "2022-09-16T15:44:58.165Z"
   },
   {
    "duration": 39,
    "start_time": "2022-09-16T15:44:58.170Z"
   },
   {
    "duration": 10,
    "start_time": "2022-09-16T15:44:58.211Z"
   },
   {
    "duration": 4,
    "start_time": "2022-09-16T15:44:58.223Z"
   },
   {
    "duration": 17,
    "start_time": "2022-09-16T15:44:58.228Z"
   },
   {
    "duration": 3,
    "start_time": "2022-09-16T15:45:43.735Z"
   },
   {
    "duration": 72,
    "start_time": "2022-09-16T15:45:43.740Z"
   },
   {
    "duration": 9,
    "start_time": "2022-09-16T15:45:43.814Z"
   },
   {
    "duration": 15,
    "start_time": "2022-09-16T15:45:43.825Z"
   },
   {
    "duration": 8,
    "start_time": "2022-09-16T15:45:43.842Z"
   },
   {
    "duration": 8,
    "start_time": "2022-09-16T15:45:43.852Z"
   },
   {
    "duration": 4,
    "start_time": "2022-09-16T15:45:43.861Z"
   },
   {
    "duration": 35,
    "start_time": "2022-09-16T15:45:43.866Z"
   },
   {
    "duration": 4,
    "start_time": "2022-09-16T15:45:43.904Z"
   },
   {
    "duration": 12,
    "start_time": "2022-09-16T15:45:43.910Z"
   },
   {
    "duration": 4,
    "start_time": "2022-09-16T15:45:43.924Z"
   },
   {
    "duration": 9,
    "start_time": "2022-09-16T15:45:43.929Z"
   },
   {
    "duration": 11,
    "start_time": "2022-09-16T15:45:43.940Z"
   },
   {
    "duration": 4,
    "start_time": "2022-09-16T15:45:43.952Z"
   },
   {
    "duration": 11,
    "start_time": "2022-09-16T15:45:43.994Z"
   },
   {
    "duration": 22,
    "start_time": "2022-09-16T15:45:44.007Z"
   },
   {
    "duration": 20,
    "start_time": "2022-09-16T15:45:44.031Z"
   },
   {
    "duration": 3,
    "start_time": "2022-09-16T15:45:44.053Z"
   },
   {
    "duration": 12,
    "start_time": "2022-09-16T15:45:44.058Z"
   },
   {
    "duration": 26,
    "start_time": "2022-09-16T15:45:44.072Z"
   },
   {
    "duration": 6,
    "start_time": "2022-09-16T15:45:44.100Z"
   },
   {
    "duration": 24,
    "start_time": "2022-09-16T15:45:44.107Z"
   },
   {
    "duration": 2,
    "start_time": "2022-09-16T15:46:08.144Z"
   },
   {
    "duration": 71,
    "start_time": "2022-09-16T15:46:08.149Z"
   },
   {
    "duration": 8,
    "start_time": "2022-09-16T15:46:08.222Z"
   },
   {
    "duration": 18,
    "start_time": "2022-09-16T15:46:08.232Z"
   },
   {
    "duration": 8,
    "start_time": "2022-09-16T15:46:08.252Z"
   },
   {
    "duration": 7,
    "start_time": "2022-09-16T15:46:08.262Z"
   },
   {
    "duration": 4,
    "start_time": "2022-09-16T15:46:08.294Z"
   },
   {
    "duration": 10,
    "start_time": "2022-09-16T15:46:08.300Z"
   },
   {
    "duration": 6,
    "start_time": "2022-09-16T15:46:08.312Z"
   },
   {
    "duration": 12,
    "start_time": "2022-09-16T15:46:08.320Z"
   },
   {
    "duration": 4,
    "start_time": "2022-09-16T15:46:08.334Z"
   },
   {
    "duration": 27,
    "start_time": "2022-09-16T15:46:08.339Z"
   },
   {
    "duration": 12,
    "start_time": "2022-09-16T15:46:08.368Z"
   },
   {
    "duration": 4,
    "start_time": "2022-09-16T15:46:08.397Z"
   },
   {
    "duration": 12,
    "start_time": "2022-09-16T15:46:08.403Z"
   },
   {
    "duration": 21,
    "start_time": "2022-09-16T15:46:08.417Z"
   },
   {
    "duration": 25,
    "start_time": "2022-09-16T15:46:08.439Z"
   },
   {
    "duration": 31,
    "start_time": "2022-09-16T15:46:08.466Z"
   },
   {
    "duration": 13,
    "start_time": "2022-09-16T15:46:08.499Z"
   },
   {
    "duration": 9,
    "start_time": "2022-09-16T15:46:08.514Z"
   },
   {
    "duration": 4,
    "start_time": "2022-09-16T15:46:08.524Z"
   },
   {
    "duration": 18,
    "start_time": "2022-09-16T15:46:08.530Z"
   },
   {
    "duration": 3,
    "start_time": "2022-09-16T15:46:35.018Z"
   },
   {
    "duration": 83,
    "start_time": "2022-09-16T15:46:35.023Z"
   },
   {
    "duration": 9,
    "start_time": "2022-09-16T15:46:35.108Z"
   },
   {
    "duration": 25,
    "start_time": "2022-09-16T15:46:35.119Z"
   },
   {
    "duration": 13,
    "start_time": "2022-09-16T15:46:35.146Z"
   },
   {
    "duration": 14,
    "start_time": "2022-09-16T15:46:35.161Z"
   },
   {
    "duration": 18,
    "start_time": "2022-09-16T15:46:35.177Z"
   },
   {
    "duration": 19,
    "start_time": "2022-09-16T15:46:35.197Z"
   },
   {
    "duration": 4,
    "start_time": "2022-09-16T15:46:35.218Z"
   },
   {
    "duration": 11,
    "start_time": "2022-09-16T15:46:35.223Z"
   },
   {
    "duration": 5,
    "start_time": "2022-09-16T15:46:35.236Z"
   },
   {
    "duration": 9,
    "start_time": "2022-09-16T15:46:35.242Z"
   },
   {
    "duration": 11,
    "start_time": "2022-09-16T15:46:35.253Z"
   },
   {
    "duration": 4,
    "start_time": "2022-09-16T15:46:35.265Z"
   },
   {
    "duration": 13,
    "start_time": "2022-09-16T15:46:35.296Z"
   },
   {
    "duration": 21,
    "start_time": "2022-09-16T15:46:35.311Z"
   },
   {
    "duration": 21,
    "start_time": "2022-09-16T15:46:35.334Z"
   },
   {
    "duration": 3,
    "start_time": "2022-09-16T15:46:35.357Z"
   },
   {
    "duration": 33,
    "start_time": "2022-09-16T15:46:35.362Z"
   },
   {
    "duration": 8,
    "start_time": "2022-09-16T15:46:35.397Z"
   },
   {
    "duration": 12,
    "start_time": "2022-09-16T15:46:35.407Z"
   },
   {
    "duration": 41,
    "start_time": "2022-09-16T15:46:35.421Z"
   },
   {
    "duration": 2,
    "start_time": "2022-09-16T15:47:34.858Z"
   },
   {
    "duration": 77,
    "start_time": "2022-09-16T15:47:34.862Z"
   },
   {
    "duration": 8,
    "start_time": "2022-09-16T15:47:34.941Z"
   },
   {
    "duration": 17,
    "start_time": "2022-09-16T15:47:34.951Z"
   },
   {
    "duration": 8,
    "start_time": "2022-09-16T15:47:34.970Z"
   },
   {
    "duration": 10,
    "start_time": "2022-09-16T15:47:34.996Z"
   },
   {
    "duration": 3,
    "start_time": "2022-09-16T15:47:35.008Z"
   },
   {
    "duration": 11,
    "start_time": "2022-09-16T15:47:35.013Z"
   },
   {
    "duration": 7,
    "start_time": "2022-09-16T15:47:35.025Z"
   },
   {
    "duration": 13,
    "start_time": "2022-09-16T15:47:35.034Z"
   },
   {
    "duration": 8,
    "start_time": "2022-09-16T15:47:35.049Z"
   },
   {
    "duration": 31,
    "start_time": "2022-09-16T15:47:35.068Z"
   },
   {
    "duration": 11,
    "start_time": "2022-09-16T15:47:35.100Z"
   },
   {
    "duration": 4,
    "start_time": "2022-09-16T15:47:35.113Z"
   },
   {
    "duration": 11,
    "start_time": "2022-09-16T15:47:35.119Z"
   },
   {
    "duration": 25,
    "start_time": "2022-09-16T15:47:35.132Z"
   },
   {
    "duration": 52,
    "start_time": "2022-09-16T15:47:35.159Z"
   },
   {
    "duration": 3,
    "start_time": "2022-09-16T15:47:35.213Z"
   },
   {
    "duration": 13,
    "start_time": "2022-09-16T15:47:35.218Z"
   },
   {
    "duration": 5,
    "start_time": "2022-09-16T15:47:35.233Z"
   },
   {
    "duration": 4,
    "start_time": "2022-09-16T15:47:35.240Z"
   },
   {
    "duration": 11,
    "start_time": "2022-09-16T15:47:35.245Z"
   }
  ],
  "colab": {
   "name": "dpp_template_part1.ipynb",
   "provenance": []
  },
  "kernelspec": {
   "display_name": "Python 3 (ipykernel)",
   "language": "python",
   "name": "python3"
  },
  "language_info": {
   "codemirror_mode": {
    "name": "ipython",
    "version": 3
   },
   "file_extension": ".py",
   "mimetype": "text/x-python",
   "name": "python",
   "nbconvert_exporter": "python",
   "pygments_lexer": "ipython3",
   "version": "3.9.5"
  },
  "toc": {
   "base_numbering": 1,
   "nav_menu": {},
   "number_sections": true,
   "sideBar": true,
   "skip_h1_title": true,
   "title_cell": "Table of Contents",
   "title_sidebar": "Contents",
   "toc_cell": false,
   "toc_position": {},
   "toc_section_display": true,
   "toc_window_display": false
  }
 },
 "nbformat": 4,
 "nbformat_minor": 5
}
