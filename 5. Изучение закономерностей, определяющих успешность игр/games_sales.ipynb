{
 "cells": [
  {
   "cell_type": "markdown",
   "metadata": {},
   "source": [
    "### Изучение закономерностей, определяющих успешность игр"
   ]
  },
  {
   "cell_type": "markdown",
   "metadata": {},
   "source": [
    "Описание проекта  \n",
    "Вы работаете в интернет-магазине «Стримчик», который продаёт по всему миру компьютерные игры. Из открытых источников доступны исторические данные о продажах игр, оценки пользователей и экспертов, жанры и платформы (например, Xbox или PlayStation). Вам нужно выявить определяющие успешность игры закономерности. Это позволит сделать ставку на потенциально популярный продукт и спланировать рекламные кампании.  \n",
    "Перед вами данные до 2016 года. Представим, что сейчас декабрь 2016 г., и вы планируете кампанию на 2017-й. Нужно отработать принцип работы с данными. Неважно, прогнозируете ли вы продажи на 2017 год по данным 2016-го или же 2027-й — по данным 2026 года.  \n",
    "\n",
    "Описание данных  \n",
    "Name — название игры  \n",
    "Platform — платформа  \n",
    "Year_of_Release — год выпуска  \n",
    "Genre — жанр игры  \n",
    "NA_sales — продажи в Северной Америке (миллионы проданных копий)  \n",
    "EU_sales — продажи в Европе (миллионы проданных копий)  \n",
    "JP_sales — продажи в Японии (миллионы проданных копий)  \n",
    "Other_sales — продажи в других странах (миллионы проданных копий)  \n",
    "Critic_Score — оценка критиков (максимум 100)  \n",
    "User_Score — оценка пользователей (максимум 10)  \n",
    "Rating — рейтинг от организации ESRB (англ. Entertainment Software Rating Board). Эта ассоциация определяет рейтинг компьютерных игр и присваивает им подходящую возрастную категорию.  \n",
    "Данные за 2016 год могут быть неполными.  \n",
    "\n",
    "Задачи проекта  \n",
    "Используя исторические данные о продажах компьютерных игр, оценки пользователей и экспертов, жанры и платформы, выявить закономерности, определяющие успешность игры."
   ]
  },
  {
   "cell_type": "code",
   "execution_count": 153,
   "metadata": {},
   "outputs": [
    {
     "name": "stdout",
     "output_type": "stream",
     "text": [
      "                        Name Platform  Year_of_Release         Genre  \\\n",
      "0                 Wii Sports      Wii           2006.0        Sports   \n",
      "1          Super Mario Bros.      NES           1985.0      Platform   \n",
      "2             Mario Kart Wii      Wii           2008.0        Racing   \n",
      "3          Wii Sports Resort      Wii           2009.0        Sports   \n",
      "4   Pokemon Red/Pokemon Blue       GB           1996.0  Role-Playing   \n",
      "5                     Tetris       GB           1989.0        Puzzle   \n",
      "6      New Super Mario Bros.       DS           2006.0      Platform   \n",
      "7                   Wii Play      Wii           2006.0          Misc   \n",
      "8  New Super Mario Bros. Wii      Wii           2009.0      Platform   \n",
      "9                  Duck Hunt      NES           1984.0       Shooter   \n",
      "\n",
      "   NA_sales  EU_sales  JP_sales  Other_sales  Critic_Score User_Score Rating  \n",
      "0     41.36     28.96      3.77         8.45          76.0          8      E  \n",
      "1     29.08      3.58      6.81         0.77           NaN        NaN    NaN  \n",
      "2     15.68     12.76      3.79         3.29          82.0        8.3      E  \n",
      "3     15.61     10.93      3.28         2.95          80.0          8      E  \n",
      "4     11.27      8.89     10.22         1.00           NaN        NaN    NaN  \n",
      "5     23.20      2.26      4.22         0.58           NaN        NaN    NaN  \n",
      "6     11.28      9.14      6.50         2.88          89.0        8.5      E  \n",
      "7     13.96      9.18      2.93         2.84          58.0        6.6      E  \n",
      "8     14.44      6.94      4.70         2.24          87.0        8.4      E  \n",
      "9     26.93      0.63      0.28         0.47           NaN        NaN    NaN  \n",
      "<class 'pandas.core.frame.DataFrame'>\n",
      "RangeIndex: 16715 entries, 0 to 16714\n",
      "Data columns (total 11 columns):\n",
      " #   Column           Non-Null Count  Dtype  \n",
      "---  ------           --------------  -----  \n",
      " 0   Name             16713 non-null  object \n",
      " 1   Platform         16715 non-null  object \n",
      " 2   Year_of_Release  16446 non-null  float64\n",
      " 3   Genre            16713 non-null  object \n",
      " 4   NA_sales         16715 non-null  float64\n",
      " 5   EU_sales         16715 non-null  float64\n",
      " 6   JP_sales         16715 non-null  float64\n",
      " 7   Other_sales      16715 non-null  float64\n",
      " 8   Critic_Score     8137 non-null   float64\n",
      " 9   User_Score       10014 non-null  object \n",
      " 10  Rating           9949 non-null   object \n",
      "dtypes: float64(6), object(5)\n",
      "memory usage: 1.4+ MB\n",
      "0\n"
     ]
    },
    {
     "data": {
      "text/html": [
       "<div>\n",
       "<style scoped>\n",
       "    .dataframe tbody tr th:only-of-type {\n",
       "        vertical-align: middle;\n",
       "    }\n",
       "\n",
       "    .dataframe tbody tr th {\n",
       "        vertical-align: top;\n",
       "    }\n",
       "\n",
       "    .dataframe thead th {\n",
       "        text-align: right;\n",
       "    }\n",
       "</style>\n",
       "<table border=\"1\" class=\"dataframe\">\n",
       "  <thead>\n",
       "    <tr style=\"text-align: right;\">\n",
       "      <th></th>\n",
       "      <th>sum</th>\n",
       "      <th>mean</th>\n",
       "    </tr>\n",
       "  </thead>\n",
       "  <tbody>\n",
       "    <tr>\n",
       "      <th>Name</th>\n",
       "      <td>2.0</td>\n",
       "      <td>0.000120</td>\n",
       "    </tr>\n",
       "    <tr>\n",
       "      <th>Platform</th>\n",
       "      <td>0.0</td>\n",
       "      <td>0.000000</td>\n",
       "    </tr>\n",
       "    <tr>\n",
       "      <th>Year_of_Release</th>\n",
       "      <td>269.0</td>\n",
       "      <td>0.016093</td>\n",
       "    </tr>\n",
       "    <tr>\n",
       "      <th>Genre</th>\n",
       "      <td>2.0</td>\n",
       "      <td>0.000120</td>\n",
       "    </tr>\n",
       "    <tr>\n",
       "      <th>NA_sales</th>\n",
       "      <td>0.0</td>\n",
       "      <td>0.000000</td>\n",
       "    </tr>\n",
       "    <tr>\n",
       "      <th>EU_sales</th>\n",
       "      <td>0.0</td>\n",
       "      <td>0.000000</td>\n",
       "    </tr>\n",
       "    <tr>\n",
       "      <th>JP_sales</th>\n",
       "      <td>0.0</td>\n",
       "      <td>0.000000</td>\n",
       "    </tr>\n",
       "    <tr>\n",
       "      <th>Other_sales</th>\n",
       "      <td>0.0</td>\n",
       "      <td>0.000000</td>\n",
       "    </tr>\n",
       "    <tr>\n",
       "      <th>Critic_Score</th>\n",
       "      <td>8578.0</td>\n",
       "      <td>0.513192</td>\n",
       "    </tr>\n",
       "    <tr>\n",
       "      <th>User_Score</th>\n",
       "      <td>6701.0</td>\n",
       "      <td>0.400897</td>\n",
       "    </tr>\n",
       "    <tr>\n",
       "      <th>Rating</th>\n",
       "      <td>6766.0</td>\n",
       "      <td>0.404786</td>\n",
       "    </tr>\n",
       "  </tbody>\n",
       "</table>\n",
       "</div>"
      ],
      "text/plain": [
       "                    sum      mean\n",
       "Name                2.0  0.000120\n",
       "Platform            0.0  0.000000\n",
       "Year_of_Release   269.0  0.016093\n",
       "Genre               2.0  0.000120\n",
       "NA_sales            0.0  0.000000\n",
       "EU_sales            0.0  0.000000\n",
       "JP_sales            0.0  0.000000\n",
       "Other_sales         0.0  0.000000\n",
       "Critic_Score     8578.0  0.513192\n",
       "User_Score       6701.0  0.400897\n",
       "Rating           6766.0  0.404786"
      ]
     },
     "execution_count": 153,
     "metadata": {},
     "output_type": "execute_result"
    }
   ],
   "source": [
    "#изучаем данные\n",
    "import pandas as pd\n",
    "import numpy as np\n",
    "import matplotlib.pyplot as plt\n",
    "import seaborn\n",
    "from scipy import stats as st\n",
    "\n",
    "data = pd.read_csv('/datasets/games.csv')\n",
    "print(data.head(10))\n",
    "\n",
    "data.info()\n",
    "\n",
    "data.describe()\n",
    "\n",
    "print(data.duplicated().sum())\n",
    "\n",
    "data.isna().agg(['sum', 'mean']).T"
   ]
  },
  {
   "cell_type": "code",
   "execution_count": 154,
   "metadata": {},
   "outputs": [],
   "source": [
    "#подготовка данных\n",
    "# привидем к нижнему регистру\n",
    "data.columns = data.columns.str.lower()"
   ]
  },
  {
   "cell_type": "code",
   "execution_count": 155,
   "metadata": {},
   "outputs": [],
   "source": [
    "# привидем данные к нужным типам\n",
    "\n",
    "data['user_score'].unique()\n",
    "data.loc[data['user_score'] == 'tbd','user_score'] = np.nan\n",
    "data['user_score'] = data['user_score'].astype('float')"
   ]
  },
  {
   "cell_type": "markdown",
   "metadata": {},
   "source": [
    "Год выпуска переводим в формат даты   \n",
    "Что касается пользовательского рейтинга то в нем встречается аббривиатура \"tbd\"(to be determinated) - подлежит определению, заменим аббривиатуру на nan для того чтобы приветси значения к типу float64"
   ]
  },
  {
   "cell_type": "code",
   "execution_count": 156,
   "metadata": {
    "scrolled": true
   },
   "outputs": [],
   "source": [
    "# обрабатываем пропуска\n",
    "data.isna().agg(['sum', 'mean']).T\n",
    "\n",
    "#безымянные, без года выпуска и указания жанра удаляем, так как количество пропусков крайне не велико\n",
    "data.dropna(subset = ['name'], inplace=True)\n",
    "data.dropna(subset = ['genre'], inplace=True)\n",
    "data.dropna(subset = ['year_of_release'], inplace=True)\n"
   ]
  },
  {
   "cell_type": "markdown",
   "metadata": {},
   "source": [
    "Удаление 2 игр без названия и жанра не радикально изменит статистику, игры без года выпуска составляют 1,6% датасета, по видимому это игры независимых разработчиков(которые выпускались крайне долго и без поддержки издательства, соответсвенно не имели официального релиза) или ремейки игр с более архаичных платформ(например игровых автоматов) вышедшие крайне давно, так что их релиз установить невозможно"
   ]
  },
  {
   "cell_type": "code",
   "execution_count": 157,
   "metadata": {
    "scrolled": false
   },
   "outputs": [],
   "source": [
    "# обрабатываем пропуска\n",
    "data['rating'] = data['rating'].fillna('no_rating')\n"
   ]
  },
  {
   "cell_type": "markdown",
   "metadata": {},
   "source": [
    "Колонка с возрастынмрейтином относится к типу object по тому пропуски можно заполнить собственным типом no_rating.Возможно данные игры выходили во времена когда рейтинговая комиссия еще не функционировала полноценно. Более сложная ситуация с пользовательским рейтингом и отзывами критиков: данные данные нельзя восставновить или заполнить средним/медианным значением так как это будет фальсификацией данных. Оставим эти поля пустыми "
   ]
  },
  {
   "cell_type": "code",
   "execution_count": 158,
   "metadata": {},
   "outputs": [],
   "source": [
    "# считаем продажи и добавляем в датасет\n",
    "data['total_sales'] = data['na_sales'] + data['eu_sales'] + data['jp_sales'] + data['other_sales']"
   ]
  },
  {
   "cell_type": "code",
   "execution_count": 159,
   "metadata": {},
   "outputs": [
    {
     "name": "stdout",
     "output_type": "stream",
     "text": [
      "                       name platform  year_of_release         genre  na_sales  \\\n",
      "0                Wii Sports      Wii           2006.0        Sports     41.36   \n",
      "1         Super Mario Bros.      NES           1985.0      Platform     29.08   \n",
      "2            Mario Kart Wii      Wii           2008.0        Racing     15.68   \n",
      "3         Wii Sports Resort      Wii           2009.0        Sports     15.61   \n",
      "4  Pokemon Red/Pokemon Blue       GB           1996.0  Role-Playing     11.27   \n",
      "\n",
      "   eu_sales  jp_sales  other_sales  critic_score  user_score     rating  \\\n",
      "0     28.96      3.77         8.45          76.0         8.0          E   \n",
      "1      3.58      6.81         0.77           NaN         NaN  no_rating   \n",
      "2     12.76      3.79         3.29          82.0         8.3          E   \n",
      "3     10.93      3.28         2.95          80.0         8.0          E   \n",
      "4      8.89     10.22         1.00           NaN         NaN  no_rating   \n",
      "\n",
      "   total_sales  \n",
      "0        82.54  \n",
      "1        40.24  \n",
      "2        35.52  \n",
      "3        32.77  \n",
      "4        31.38  \n"
     ]
    }
   ],
   "source": [
    "# подытожим\n",
    "print(data.head(5))"
   ]
  },
  {
   "cell_type": "markdown",
   "metadata": {},
   "source": [
    "Пропуски в данных восстановить не представляется возможным(медианные или средние значения для названия, годы выпуска или рейтингов лишь исказят даныне) за исключением возрастного рейтинга. Его отсутствие можно объяснить тем что рейтинговая комиссия не смогла присвоить возрастной рейтинг, либо не получала игру на рецензию, по этому чтобы пропуски не смущали заполняем их no_rating.  \n",
    "        Пропуски в жанре, названии и годе выпуска втроем сумарно составляют менее 2%, их удаление не повлетчет за собой существенных изменений.  \n",
    "        Остальнын пропуски оставим без изменений, в случае необходимости дальнейшего анализа (к примеру пользовательского рейтинга) просто удалим пустые строки. Пока пустые строки оставим чтобы использовать информацию из не пустых граф."
   ]
  },
  {
   "cell_type": "code",
   "execution_count": 160,
   "metadata": {
    "scrolled": true
   },
   "outputs": [
    {
     "data": {
      "text/plain": [
       "2007.0"
      ]
     },
     "execution_count": 160,
     "metadata": {},
     "output_type": "execute_result"
    },
    {
     "data": {
      "image/png": "[encoded data removed]",
      "text/plain": [
       "<Figure size 432x288 with 1 Axes>"
      ]
     },
     "metadata": {
      "needs_background": "light"
     },
     "output_type": "display_data"
    }
   ],
   "source": [
    "# Начинаем исследовательский анализ.\n",
    "#Проанализируем годы выпуска\n",
    "data['year_of_release'].plot(kind='hist', bins=45)\n",
    "data['year_of_release'].median()"
   ]
  },
  {
   "cell_type": "code",
   "execution_count": 161,
   "metadata": {},
   "outputs": [
    {
     "data": {
      "image/png": "[encoded data removed]",
      "text/plain": [
       "<Figure size 432x288 with 1 Axes>"
      ]
     },
     "metadata": {
      "needs_background": "light"
     },
     "output_type": "display_data"
    }
   ],
   "source": [
    "# построим линейный график\n",
    "x = data.groupby('year_of_release')['name'].count() \n",
    "plt.plot(x)\n",
    "plt.show()"
   ]
  },
  {
   "cell_type": "markdown",
   "metadata": {},
   "source": [
    "с начала 80х до середины начала 90х игр выпускалось достаточно немного, скорее всего в силу технического развития. А вот появление новых видеоадаптеров и window95 дало заметный толчок индустрии. По графику мы можем заметить скачкообразный активный рост до конца 2010х. Затем ААА игры стали слишком дороги в производстве и количество из релизов снизилось. К тому же рынок ПК, консолей стал теснить мир смартфонов, так что производители стали тчательнее считать деньги на производство, понимаю что прежние прибыли не получить даже при условии роста рынка. К слову это так же убило рынок портаьтвных консолей, который был в коме до пришествия nintendo switch."
   ]
  },
  {
   "cell_type": "code",
   "execution_count": 162,
   "metadata": {
    "scrolled": true
   },
   "outputs": [
    {
     "data": {
      "text/html": [
       "<div>\n",
       "<style scoped>\n",
       "    .dataframe tbody tr th:only-of-type {\n",
       "        vertical-align: middle;\n",
       "    }\n",
       "\n",
       "    .dataframe tbody tr th {\n",
       "        vertical-align: top;\n",
       "    }\n",
       "\n",
       "    .dataframe thead th {\n",
       "        text-align: right;\n",
       "    }\n",
       "</style>\n",
       "<table border=\"1\" class=\"dataframe\">\n",
       "  <thead>\n",
       "    <tr style=\"text-align: right;\">\n",
       "      <th></th>\n",
       "      <th>count</th>\n",
       "      <th>sum</th>\n",
       "    </tr>\n",
       "    <tr>\n",
       "      <th>platform</th>\n",
       "      <th></th>\n",
       "      <th></th>\n",
       "    </tr>\n",
       "  </thead>\n",
       "  <tbody>\n",
       "    <tr>\n",
       "      <th>ps2</th>\n",
       "      <td>2127</td>\n",
       "      <td>1233.56</td>\n",
       "    </tr>\n",
       "    <tr>\n",
       "      <th>x360</th>\n",
       "      <td>1232</td>\n",
       "      <td>961.24</td>\n",
       "    </tr>\n",
       "    <tr>\n",
       "      <th>ps3</th>\n",
       "      <td>1306</td>\n",
       "      <td>931.34</td>\n",
       "    </tr>\n",
       "    <tr>\n",
       "      <th>wii</th>\n",
       "      <td>1286</td>\n",
       "      <td>891.18</td>\n",
       "    </tr>\n",
       "    <tr>\n",
       "      <th>ds</th>\n",
       "      <td>2121</td>\n",
       "      <td>802.78</td>\n",
       "    </tr>\n",
       "    <tr>\n",
       "      <th>ps</th>\n",
       "      <td>1190</td>\n",
       "      <td>727.58</td>\n",
       "    </tr>\n",
       "    <tr>\n",
       "      <th>ps4</th>\n",
       "      <td>392</td>\n",
       "      <td>314.14</td>\n",
       "    </tr>\n",
       "    <tr>\n",
       "      <th>gba</th>\n",
       "      <td>811</td>\n",
       "      <td>312.88</td>\n",
       "    </tr>\n",
       "    <tr>\n",
       "      <th>psp</th>\n",
       "      <td>1193</td>\n",
       "      <td>289.53</td>\n",
       "    </tr>\n",
       "    <tr>\n",
       "      <th>3ds</th>\n",
       "      <td>512</td>\n",
       "      <td>257.81</td>\n",
       "    </tr>\n",
       "  </tbody>\n",
       "</table>\n",
       "</div>"
      ],
      "text/plain": [
       "          count      sum\n",
       "platform                \n",
       "ps2        2127  1233.56\n",
       "x360       1232   961.24\n",
       "ps3        1306   931.34\n",
       "wii        1286   891.18\n",
       "ds         2121   802.78\n",
       "ps         1190   727.58\n",
       "ps4         392   314.14\n",
       "gba         811   312.88\n",
       "psp        1193   289.53\n",
       "3ds         512   257.81"
      ]
     },
     "execution_count": 162,
     "metadata": {},
     "output_type": "execute_result"
    }
   ],
   "source": [
    "#Проанализируем продажи\n",
    "data['platform']= data['platform'].str.lower()\n",
    "\n",
    "top_sales_platform = data.groupby('platform')['total_sales'].agg(['count', 'sum'])\n",
    "top_sales_platform.sort_values('sum', ascending=False).head(10)"
   ]
  },
  {
   "cell_type": "markdown",
   "metadata": {},
   "source": [
    "на всякий случай переделываем названия платформ в нижний регистр. Самой прибыльной платформой является ps2."
   ]
  },
  {
   "cell_type": "code",
   "execution_count": 163,
   "metadata": {
    "scrolled": false
   },
   "outputs": [
    {
     "name": "stdout",
     "output_type": "stream",
     "text": [
      "pc      22.222222\n",
      "x360    10.256410\n",
      "ps2     10.256410\n",
      "psp     10.256410\n",
      "wii      9.401709\n",
      "ds       9.401709\n",
      "ps3      9.401709\n",
      "ps       8.547009\n",
      "gba      6.837607\n",
      "ps4      3.418803\n",
      "Name: platform, dtype: float64\n"
     ]
    },
    {
     "data": {
      "text/plain": [
       "<AxesSubplot:xlabel='year_of_release'>"
      ]
     },
     "execution_count": 163,
     "metadata": {},
     "output_type": "execute_result"
    },
    {
     "data": {
      "image/png": "[encoded data removed]",
      "text/plain": [
       "<Figure size 720x504 with 1 Axes>"
      ]
     },
     "metadata": {
      "needs_background": "light"
     },
     "output_type": "display_data"
    }
   ],
   "source": [
    "#Проанализируем продолжительность жизни платформ\n",
    "top_10_list = ['ps2', 'x360', 'ps3', 'wii', 'ds', 'ps', 'gba', 'ps4', 'psp', 'pc']\n",
    "top_10_sales_platform = data.query('platform in @top_10_list')\n",
    "life_years = top_10_sales_platform.groupby(['platform', 'year_of_release']).agg({'total_sales':'sum'}).reset_index()\n",
    "print(life_years['platform'].value_counts('sum')*100)\n",
    "pd.pivot_table(life_years , index='year_of_release', columns='platform', values='total_sales', aggfunc='sum').plot(figsize=(10,7))"
   ]
  },
  {
   "cell_type": "markdown",
   "metadata": {},
   "source": [
    "Платформы(за исключением пк) пользуются спросом обычно от 9 до 11 лет, при этом пиковые продажи затрагивают только 4-5 лет. Поэтому для прогнозов на 2017 год возьмем данные с 2012 года."
   ]
  },
  {
   "cell_type": "code",
   "execution_count": 164,
   "metadata": {
    "scrolled": false
   },
   "outputs": [
    {
     "data": {
      "text/plain": [
       "<AxesSubplot:xlabel='year_of_release'>"
      ]
     },
     "execution_count": 164,
     "metadata": {},
     "output_type": "execute_result"
    },
    {
     "data": {
      "image/png": "[encoded data removed]",
      "text/plain": [
       "<Figure size 720x504 with 1 Axes>"
      ]
     },
     "metadata": {
      "needs_background": "light"
     },
     "output_type": "display_data"
    }
   ],
   "source": [
    "# рассмотрим по подробнее продажи в топ 10 платформах в период с 2012 года\n",
    "top_10_sales_platform = data.query('year_of_release >= 2012.0')\n",
    "life_years = top_10_sales_platform.groupby(['platform', 'year_of_release']).agg({'total_sales':'sum'})\n",
    "pd.pivot_table(life_years , index='year_of_release', columns='platform', values='total_sales', aggfunc='sum').plot(figsize=(10,7))"
   ]
  },
  {
   "cell_type": "markdown",
   "metadata": {},
   "source": [
    "У всех платформ граффик нисходящий, как было отмечено ранее объем выпускаемых игр в 2010х снизился, поэтому рассмотрим наименее нисходящие тренды. Стабильность показывает платформа ПК, хоть и общий оъем не высок. Так же из графика видно что потенциал есть у двух свежих(на тот момент) платформ: PS4 и XBOX One"
   ]
  },
  {
   "cell_type": "code",
   "execution_count": 165,
   "metadata": {
    "scrolled": false
   },
   "outputs": [
    {
     "data": {
      "image/png": "[encoded data removed]",
      "text/plain": [
       "<Figure size 864x432 with 1 Axes>"
      ]
     },
     "metadata": {
      "needs_background": "light"
     },
     "output_type": "display_data"
    }
   ],
   "source": [
    "#построим ящик с усами, для достоверности на топ 10 платформ\n",
    "plt.figure(figsize=(12,6))\n",
    "seaborn.boxplot(y=top_10_sales_platform['total_sales'], x=top_10_sales_platform['platform'])\n",
    "plt.ylim(0,10)\n",
    "plt.grid()"
   ]
  },
  {
   "cell_type": "markdown",
   "metadata": {},
   "source": [
    "Ассиметричный ящик и большое колличество выбросов говорит о том что игры приносят прибыл крайне не равномерно.Из личного опыта - каждый кто играет на консоли значет что playstation и xbox привлекательны во многом своими эксклюзивами. Эта теория с легкостью графиком доказыветься: огромные выбросы у sony пс4 и пс3, не сильно им уступающий microsoft с xbox one. В тоже время пк финансово прибыльными эксклюзивами похвастаться не может, что и водно на графике."
   ]
  },
  {
   "cell_type": "code",
   "execution_count": 166,
   "metadata": {
    "scrolled": false
   },
   "outputs": [
    {
     "name": "stdout",
     "output_type": "stream",
     "text": [
      "0.406567902061781\n",
      "-0.031957110204556376\n"
     ]
    },
    {
     "data": {
      "image/png": "[encoded data removed]",
      "text/plain": [
       "<Figure size 360x360 with 1 Axes>"
      ]
     },
     "metadata": {
      "needs_background": "light"
     },
     "output_type": "display_data"
    },
    {
     "data": {
      "image/png": "[encoded data removed]",
      "text/plain": [
       "<Figure size 360x360 with 1 Axes>"
      ]
     },
     "metadata": {
      "needs_background": "light"
     },
     "output_type": "display_data"
    }
   ],
   "source": [
    "#посмотрим зависимость продаж от озывов, начнем с ps4\n",
    "ps4_list= ['ps4']\n",
    "ps4 =  data.query('platform in @ps4_list')\n",
    "ps4.plot(kind='scatter', x='critic_score', y='total_sales', figsize=(5,5), color='b', alpha=0.5, grid=True)\n",
    "ps4.plot(kind='scatter', x='user_score', y='total_sales', figsize=(5,5), color='b', alpha=0.5, grid=True)\n",
    "print(ps4['total_sales'].corr(ps4['critic_score']))\n",
    "print(ps4['total_sales'].corr(ps4['user_score']))"
   ]
  },
  {
   "cell_type": "markdown",
   "metadata": {},
   "source": [
    "Судя по графику хорошо могут продаваться игры и с не очень высокими оценками пользователей, что касается отзвывов критиков то они более сопоставимы с продажами, но уровень корреляции все еще не высок."
   ]
  },
  {
   "cell_type": "code",
   "execution_count": 167,
   "metadata": {
    "scrolled": false
   },
   "outputs": [
    {
     "name": "stdout",
     "output_type": "stream",
     "text": [
      "0.41699832800840175\n",
      "-0.06892505328279412\n"
     ]
    },
    {
     "data": {
      "image/png": "[encoded data removed]",
      "text/plain": [
       "<Figure size 360x360 with 1 Axes>"
      ]
     },
     "metadata": {
      "needs_background": "light"
     },
     "output_type": "display_data"
    },
    {
     "data": {
      "image/png": "[encoded data removed]",
      "text/plain": [
       "<Figure size 360x360 with 1 Axes>"
      ]
     },
     "metadata": {
      "needs_background": "light"
     },
     "output_type": "display_data"
    }
   ],
   "source": [
    "# посмотрим чем ответит конкурентам microsoft\n",
    "xboxone_list= ['xone']\n",
    "xboxone=  data.query('platform in @xboxone_list')\n",
    "xboxone.plot(kind='scatter', x='critic_score', y='total_sales', figsize=(5,5), color='g', alpha=0.5, grid=True)\n",
    "xboxone.plot(kind='scatter', x='user_score', y='total_sales', figsize=(5,5), color='g', alpha=0.5, grid=True)\n",
    "print(xboxone['total_sales'].corr(xboxone['critic_score']))\n",
    "print(xboxone['total_sales'].corr(xboxone['user_score']))"
   ]
  },
  {
   "cell_type": "markdown",
   "metadata": {},
   "source": [
    "Результат крайне похож на прямого конкурента"
   ]
  },
  {
   "cell_type": "code",
   "execution_count": 168,
   "metadata": {
    "scrolled": true
   },
   "outputs": [
    {
     "name": "stdout",
     "output_type": "stream",
     "text": [
      "0.25739471840098505\n",
      "0.012904741611451175\n"
     ]
    },
    {
     "data": {
      "image/png": "[encoded data removed]",
      "text/plain": [
       "<Figure size 360x360 with 1 Axes>"
      ]
     },
     "metadata": {
      "needs_background": "light"
     },
     "output_type": "display_data"
    },
    {
     "data": {
      "image/png": "[encoded data removed]",
      "text/plain": [
       "<Figure size 360x360 with 1 Axes>"
      ]
     },
     "metadata": {
      "needs_background": "light"
     },
     "output_type": "display_data"
    }
   ],
   "source": [
    "#посмотрим как дела у пк\n",
    "pc_list= ['pc']\n",
    "pc =  data.query('platform in @pc_list')\n",
    "pc.plot(kind='scatter', x='critic_score', y='total_sales', figsize=(5,5), color='b', alpha=0.5, grid=True)\n",
    "pc.plot(kind='scatter', x='user_score', y='total_sales', figsize=(5,5), color='b', alpha=0.5, grid=True)\n",
    "print(pc['total_sales'].corr(pc['critic_score']))\n",
    "print(pc['total_sales'].corr(pc['user_score']))"
   ]
  },
  {
   "cell_type": "markdown",
   "metadata": {},
   "source": [
    "У пк уровень корреляции с отзывами критиков еще ниже, хотя отзывы пользователей вышли из отрицательной зоны по прежнему можно утверждать что пользовательские оценци и отзывы критиков не оказывают решающего влияния на продажи"
   ]
  },
  {
   "cell_type": "code",
   "execution_count": 169,
   "metadata": {
    "scrolled": true
   },
   "outputs": [
    {
     "name": "stdout",
     "output_type": "stream",
     "text": [
      "0.2453488454741138\n",
      "0.08798399271321648\n"
     ]
    },
    {
     "data": {
      "image/png": "[encoded data removed]",
      "text/plain": [
       "<Figure size 360x360 with 1 Axes>"
      ]
     },
     "metadata": {
      "needs_background": "light"
     },
     "output_type": "display_data"
    },
    {
     "data": {
      "image/png": "[encoded data removed]",
      "text/plain": [
       "<Figure size 360x360 with 1 Axes>"
      ]
     },
     "metadata": {
      "needs_background": "light"
     },
     "output_type": "display_data"
    }
   ],
   "source": [
    "#посмотрим как дела у платформ в целом\n",
    "data.plot(kind='scatter', x='critic_score', y='total_sales', figsize=(5,5), color='b', alpha=0.5, grid=True)\n",
    "data.plot(kind='scatter', x='user_score', y='total_sales', figsize=(5,5), color='b', alpha=0.5, grid=True)\n",
    "print(data['total_sales'].corr(data['critic_score']))\n",
    "print(data['total_sales'].corr(data['user_score']))"
   ]
  },
  {
   "cell_type": "markdown",
   "metadata": {},
   "source": [
    "В целом на рынке ситуация очень схожа с продажами на пк. В этом плане ps4 и xbox one отличаются от рынка в целом - их корреляция почти вдвое больше. Можно сделать общий вывод о том что на наиболеее востребованые в данный момент платформы отзывы критиков оказывают незначительное влияние на продажи игр, тогда как в общем по рынку эта зависимость совсем не велика."
   ]
  },
  {
   "cell_type": "code",
   "execution_count": 180,
   "metadata": {
    "scrolled": true
   },
   "outputs": [
    {
     "name": "stdout",
     "output_type": "stream",
     "text": [
      "total_sales     734.530833\n",
      "name           1370.333333\n",
      "dtype: float64\n"
     ]
    },
    {
     "data": {
      "image/png": "[encoded data removed]",
      "text/plain": [
       "<Figure size 576x288 with 1 Axes>"
      ]
     },
     "metadata": {
      "needs_background": "light"
     },
     "output_type": "display_data"
    }
   ],
   "source": [
    "#проанализируем продажи по жанрам\n",
    "genre_sales=data.query('year_of_release >= 2012.0')\n",
    "genre_sales = data.groupby(['genre']).agg({'total_sales':'sum', 'name':'count'})\n",
    "genre_sales.plot(kind='bar', figsize=(8, 4))"
   ]
  },
  {
   "cell_type": "markdown",
   "metadata": {},
   "source": [
    "Топ 3 самых прибыльных жанра это: action, shooter и sports. При колличество выпускаемых в них игр многочисленно, а значит на каждую отденую игру приходиться меньше выручки. Поэтому наиболее интересным из данных 3 жанров является shooter, хотя action продается в целом значительно лучше. Что касается самых малопродаваемых жанров то это strategy, puzzle и adventure. В последнем еще и крайне велико количество игр, а значит он будет для разработки самым финансово не привлекательным"
   ]
  },
  {
   "cell_type": "code",
   "execution_count": 172,
   "metadata": {
    "scrolled": true
   },
   "outputs": [
    {
     "name": "stdout",
     "output_type": "stream",
     "text": [
      "genre\n",
      "Action          0.519057\n",
      "Adventure       0.180456\n",
      "Fighting        0.528865\n",
      "Misc            0.459204\n",
      "Platform        0.940262\n",
      "Puzzle          0.421599\n",
      "Racing          0.590122\n",
      "Role-Playing    0.628683\n",
      "Shooter         0.803519\n",
      "Simulation      0.452695\n",
      "Sports          0.567940\n",
      "Strategy        0.256419\n",
      "Name: total_sales, dtype: float64\n"
     ]
    },
    {
     "data": {
      "image/png": "[encoded data removed]",
      "text/plain": [
       "<Figure size 576x288 with 1 Axes>"
      ]
     },
     "metadata": {
      "needs_background": "light"
     },
     "output_type": "display_data"
    }
   ],
   "source": [
    "#проанализируем продажи по жанрам среднее\n",
    "genre_sales=data.query('year_of_release >= 2012.0')\n",
    "genre_sales_mean = data.groupby('genre')['total_sales'].mean()\n",
    "genre_sales_mean.plot(kind='bar', figsize=(8, 4))\n",
    "print(genre_sales_mean)"
   ]
  },
  {
   "cell_type": "code",
   "execution_count": 173,
   "metadata": {
    "scrolled": true
   },
   "outputs": [
    {
     "name": "stdout",
     "output_type": "stream",
     "text": [
      "genre\n",
      "Action          0.19\n",
      "Adventure       0.05\n",
      "Fighting        0.21\n",
      "Misc            0.16\n",
      "Platform        0.27\n",
      "Puzzle          0.10\n",
      "Racing          0.19\n",
      "Role-Playing    0.18\n",
      "Shooter         0.24\n",
      "Simulation      0.15\n",
      "Sports          0.22\n",
      "Strategy        0.10\n",
      "Name: total_sales, dtype: float64\n"
     ]
    },
    {
     "data": {
      "image/png": "[encoded data removed]",
      "text/plain": [
       "<Figure size 576x288 with 1 Axes>"
      ]
     },
     "metadata": {
      "needs_background": "light"
     },
     "output_type": "display_data"
    }
   ],
   "source": [
    "#проанализируем продажи по жанрам\n",
    "genre_sales=data.query('year_of_release >= 2012.0')\n",
    "genre_sales_median = data.groupby('genre')['total_sales'].median()\n",
    "genre_sales_median.plot(kind='bar', figsize=(8, 4))\n",
    "print(genre_sales_median)"
   ]
  },
  {
   "cell_type": "markdown",
   "metadata": {},
   "source": [
    "По среднем и медианным продажам к уже названным action, shooter и sports (которые по суммарным показателям значительно выше, а по среднем не очень) можно добавить к итоговой рекомендации жанр platformer: его доля в сумарных продажах достаточно велика и каждая отдельная игра приносить хорошую прибыль. Так же можно отметить неплохие показатели у жанров racing и fighting, но их суммарные проажи находятся на достаточном низком уровне."
   ]
  },
  {
   "cell_type": "code",
   "execution_count": 174,
   "metadata": {
    "scrolled": true
   },
   "outputs": [
    {
     "data": {
      "text/plain": [
       "<AxesSubplot:xlabel='genre'>"
      ]
     },
     "execution_count": 174,
     "metadata": {},
     "output_type": "execute_result"
    },
    {
     "data": {
      "image/png": "[encoded data removed]",
      "text/plain": [
       "<Figure size 432x288 with 1 Axes>"
      ]
     },
     "metadata": {
      "needs_background": "light"
     },
     "output_type": "display_data"
    },
    {
     "data": {
      "image/png": "[encoded data removed]",
      "text/plain": [
       "<Figure size 432x288 with 1 Axes>"
      ]
     },
     "metadata": {
      "needs_background": "light"
     },
     "output_type": "display_data"
    }
   ],
   "source": [
    "#составим портрет пользователя по регионам, начнем с востока\n",
    "after_2012_sales= data.query('year_of_release >= 2012.0')\n",
    "after_2012_sales.groupby(by='platform').agg({'jp_sales':'sum'}).sort_values(by='jp_sales', ascending=False).head(5).plot(kind= 'bar')\n",
    "after_2012_sales.groupby(by='genre').agg({'jp_sales':'sum'}).sort_values(by='jp_sales', ascending=False).head(5).plot(kind='bar')"
   ]
  },
  {
   "cell_type": "markdown",
   "metadata": {},
   "source": [
    "В отличии от общемировой тенденции в Японии с отрывом господствует nintendo 3ds, заней несколько платформ от sony и снова nintendo wii. Microsoft в топ 5 вообще не попал. Так же отличается от глобальных продаж и жанры: Самым популярным с значительным отрывом является role-playing, затем action, остальыне значительно отстают"
   ]
  },
  {
   "cell_type": "code",
   "execution_count": 175,
   "metadata": {
    "scrolled": true
   },
   "outputs": [
    {
     "data": {
      "text/plain": [
       "<AxesSubplot:xlabel='genre'>"
      ]
     },
     "execution_count": 175,
     "metadata": {},
     "output_type": "execute_result"
    },
    {
     "data": {
      "image/png": "[encoded data removed]",
      "text/plain": [
       "<Figure size 432x288 with 1 Axes>"
      ]
     },
     "metadata": {
      "needs_background": "light"
     },
     "output_type": "display_data"
    },
    {
     "data": {
      "image/png": "[encoded data removed]",
      "text/plain": [
       "<Figure size 432x288 with 1 Axes>"
      ]
     },
     "metadata": {
      "needs_background": "light"
     },
     "output_type": "display_data"
    }
   ],
   "source": [
    "#отправляемся в Северную Америку\n",
    "after_2012_sales.groupby(by='platform').agg({'na_sales':'sum'}).sort_values(by='na_sales', ascending=False).head(5).plot(kind= 'bar')\n",
    "after_2012_sales.groupby(by='genre').agg({'na_sales':'sum'}).sort_values(by='na_sales', ascending=False).head(5).plot(kind='bar')"
   ]
  },
  {
   "cell_type": "markdown",
   "metadata": {},
   "source": [
    "Первество за microsoft, но не свежим(на тот момент) xbox one, а 360. За ним идет sony последнего поколения. nintendo занимает в отличии от Японии только 5 место. Жанры схожи с глобальынми продажами топ 3: acnion,shooter и sports."
   ]
  },
  {
   "cell_type": "code",
   "execution_count": 176,
   "metadata": {
    "scrolled": true
   },
   "outputs": [
    {
     "data": {
      "text/plain": [
       "<AxesSubplot:xlabel='genre'>"
      ]
     },
     "execution_count": 176,
     "metadata": {},
     "output_type": "execute_result"
    },
    {
     "data": {
      "image/png": "[encoded data removed]",
      "text/plain": [
       "<Figure size 432x288 with 1 Axes>"
      ]
     },
     "metadata": {
      "needs_background": "light"
     },
     "output_type": "display_data"
    },
    {
     "data": {
      "image/png": "[encoded data removed]",
      "text/plain": [
       "<Figure size 432x288 with 1 Axes>"
      ]
     },
     "metadata": {
      "needs_background": "light"
     },
     "output_type": "display_data"
    }
   ],
   "source": [
    "#обозрим Европу\n",
    "after_2012_sales.groupby(by='platform').agg({'eu_sales':'sum'}).sort_values(by='eu_sales', ascending=False).head(5).plot(kind= 'bar')\n",
    "after_2012_sales.groupby(by='genre').agg({'eu_sales':'sum'}).sort_values(by='eu_sales', ascending=False).head(5).plot(kind='bar')"
   ]
  },
  {
   "cell_type": "markdown",
   "metadata": {},
   "source": [
    "Распределение жанров очень схоже с американским, исключение что в топ 5 на последнюю позицию попали гонки. В платформах пальму перветсва держут sony, затем xbox и только на 5 месте nintendo."
   ]
  },
  {
   "cell_type": "code",
   "execution_count": 177,
   "metadata": {},
   "outputs": [
    {
     "data": {
      "text/plain": [
       "<AxesSubplot:xlabel='rating'>"
      ]
     },
     "execution_count": 177,
     "metadata": {},
     "output_type": "execute_result"
    },
    {
     "data": {
      "image/png": "[encoded data removed]",
      "text/plain": [
       "<Figure size 432x288 with 1 Axes>"
      ]
     },
     "metadata": {
      "needs_background": "light"
     },
     "output_type": "display_data"
    },
    {
     "data": {
      "image/png": "[encoded data removed]",
      "text/plain": [
       "<Figure size 432x288 with 1 Axes>"
      ]
     },
     "metadata": {
      "needs_background": "light"
     },
     "output_type": "display_data"
    },
    {
     "data": {
      "image/png": "[encoded data removed]",
      "text/plain": [
       "<Figure size 432x288 with 1 Axes>"
      ]
     },
     "metadata": {
      "needs_background": "light"
     },
     "output_type": "display_data"
    },
    {
     "data": {
      "image/png": "[encoded data removed]",
      "text/plain": [
       "<Figure size 432x288 with 1 Axes>"
      ]
     },
     "metadata": {
      "needs_background": "light"
     },
     "output_type": "display_data"
    }
   ],
   "source": [
    "#проанализируем возрастной рейтинг\n",
    "after_2012_sales.groupby(by='rating').agg({'total_sales':'sum'}).sort_values(by='total_sales', ascending=False).head(5).plot(kind='bar')\n",
    "after_2012_sales.groupby(by='rating').agg({'jp_sales':'sum'}).sort_values(by='jp_sales', ascending=False).head(5).plot(kind='bar')\n",
    "after_2012_sales.groupby(by='rating').agg({'na_sales':'sum'}).sort_values(by='na_sales', ascending=False).head(5).plot(kind='bar')\n",
    "after_2012_sales.groupby(by='rating').agg({'eu_sales':'sum'}).sort_values(by='eu_sales', ascending=False).head(5).plot(kind='bar')"
   ]
  },
  {
   "cell_type": "markdown",
   "metadata": {},
   "source": [
    "для начала поясним категории рейтинга:\n",
    "Е - для всех возрастов от 6 лет\n",
    "Е10+ - от 10 и старше\n",
    "Т - для подростков от 13 лет\n",
    "М - 17+\n",
    "no_rating - как вы надеюсь помните этот статус присвоили играм без рейтинга , заместо пропусков\n",
    "Американский спрос и Европейский почти полностью совпадают, также они весьма сильно корелируют с общемировыми продажами: на первом месте игры для взрослой аудитории, на втором игры для всех возрастов. Японский рынок радикально отличается, в нем игры взрослой аудитории занимают лишь четвертое место, игры для всех возрастов хоть и на втором, но продаются значительно меньше. Лидируют на японском рынке с отрывом игры, которым критики не смогли присвоить возрастной рейтинг."
   ]
  },
  {
   "cell_type": "markdown",
   "metadata": {},
   "source": [
    "Проверяем гипотезы.\n",
    "Нулевая гипотеза:Средние пользовательские рейтинги платформ Xbox One и PC одинаковые\n",
    "Алтернативная гипотеза: Средние пользовательские рейтинги платформ Xbox One и PC не равны"
   ]
  },
  {
   "cell_type": "code",
   "execution_count": 178,
   "metadata": {
    "scrolled": true
   },
   "outputs": [
    {
     "name": "stdout",
     "output_type": "stream",
     "text": [
      "6.521428571428572\n",
      "7.065960264900661\n",
      "p-value = 1.3037979620149106e-05. Отвергаем нулевую гипотезу\n"
     ]
    }
   ],
   "source": [
    "#отфильтруем данные для гипотезы\n",
    "fitlred_rating= data\n",
    "xboxone = fitlred_rating.query('platform == \"xone\"')['user_score'].dropna()\n",
    "pc = fitlred_rating.query('platform == \"pc\" ')['user_score'].dropna()\n",
    "\n",
    "#посмотрим среднее значение\n",
    "xboxone_mean = xboxone.mean()\n",
    "pc_mean = pc.mean()\n",
    "print(xboxone_mean)\n",
    "print(pc_mean)\n",
    "\n",
    "#проведем тест\n",
    "test = st.ttest_ind(xboxone, pc)\n",
    "alpha = 0.05\n",
    "if test.pvalue < alpha:\n",
    "    print(f'p-value = {test.pvalue}. Отвергаем нулевую гипотезу')\n",
    "else:\n",
    "    print(f'p-value = {test.pvalue}.Не получилось отвергнуть нулевую гипотезу')"
   ]
  },
  {
   "cell_type": "markdown",
   "metadata": {},
   "source": [
    "Отвергаем нулевую гипотезу, результаты теста показывают что различия в отзываъ являются статистически значимыми.\n",
    "Подтверждаем алтернативную гипотезу так как средний пользовательский рейтинг xbox one 6,5, а pc 7.0"
   ]
  },
  {
   "cell_type": "markdown",
   "metadata": {},
   "source": [
    "Проверяем вторую гипотезу.\n",
    "Нулевая гипотеза:Средние пользовательские рейтинги жанров action и sports разные\n",
    "Алтернативная гипотеза: Средние пользовательские рейтинги  жанров action и sports одинаковые"
   ]
  },
  {
   "cell_type": "code",
   "execution_count": 179,
   "metadata": {
    "scrolled": true
   },
   "outputs": [
    {
     "name": "stdout",
     "output_type": "stream",
     "text": [
      "7.058129175946549\n",
      "6.951433857539316\n",
      "p-value = 1.3037979620149106e-05.Не получилось отвергнуть нулевую гипотезу\n"
     ]
    }
   ],
   "source": [
    "#отфильтруем данные для гипотезы\n",
    "fitlred_rating_2= data\n",
    "action = fitlred_rating_2.query('genre == \"Action\"')['user_score'].dropna()\n",
    "sports = fitlred_rating_2.query('genre == \"Sports\" ')['user_score'].dropna()\n",
    "\n",
    "#посмотрим среднее значение\n",
    "action_mean = action.mean()\n",
    "sports_mean = sports.mean()\n",
    "print(action_mean)\n",
    "print(sports_mean)\n",
    "\n",
    "#проведем тест\n",
    "test_2 = st.ttest_ind(action, sports)\n",
    "alpha = 0.05\n",
    "if test_2.pvalue < alpha:\n",
    "    print(f'p-value = {test.pvalue}. Отвергаем нулевую гипотезу')\n",
    "else:\n",
    "    print(f'p-value = {test.pvalue}.Не получилось отвергнуть нулевую гипотезу')"
   ]
  },
  {
   "cell_type": "markdown",
   "metadata": {},
   "source": [
    "Не получилось отвергнуть нулевую гипотезу, результаты теста показывают что различия в отзывах не являются статистически значимыми. Что подстверждается средними значениями 7,05 у action и 6.95 у sports."
   ]
  },
  {
   "cell_type": "markdown",
   "metadata": {},
   "source": [
    "Вывод\n",
    "\n",
    "В ходе исследования были выявлены актуальный период для исследованяи данных о продажах(4-5 лет) и срок жизни платформы(около 11). Наиболее перспективные платформы: ps4 и xbox one. Наиболее прибылные жанры action, shooter и sports. Было установлено что отзывы пользователей и критиков не оказывают значительного влияния на продажи. Была отвергнута гипотеза о равенстве пользовательских отзывов xbox one и pc, подсътверждена гипотеза о равенстве пользовательских рейтингов в жанрах action и sports.Выявлены региональные особенности: в Японии господствует 3ds, уделяется повышенное внимание жанку role-plaing  и безрейтинговым играм. В Северной Америке и Европе господстуют action и shooter, при возрастном рейтинге 17+. Но в Европе более популярны playstation, в Северной Америке xbox.\n",
    "\n",
    "Рекомендации:\n",
    "При планировании в глобальной оценке наиболее востребованными к продаже  будут продукты имеющие рейтинг взрослый либо для все семьи, котрые базируются на платформах ps4 или xbob one, относящиеся к жанрам action, shooter и sports. Так же стабильные показатели при продажах показывает жарн platformer.\n",
    "\n"
   ]
  },
  {
   "cell_type": "code",
   "execution_count": null,
   "metadata": {},
   "outputs": [],
   "source": []
  }
 ],
 "metadata": {
  "ExecuteTimeLog": [
   {
    "duration": 1727,
    "start_time": "2022-10-31T13:36:10.873Z"
   },
   {
    "duration": 59,
    "start_time": "2022-10-31T13:37:25.746Z"
   },
   {
    "duration": 1523,
    "start_time": "2022-11-01T07:01:07.227Z"
   },
   {
    "duration": 75,
    "start_time": "2022-11-01T07:01:59.041Z"
   },
   {
    "duration": 120,
    "start_time": "2022-11-01T07:44:12.823Z"
   },
   {
    "duration": 122,
    "start_time": "2022-11-01T07:45:16.276Z"
   },
   {
    "duration": 113,
    "start_time": "2022-11-01T08:10:12.869Z"
   },
   {
    "duration": 1532,
    "start_time": "2022-11-01T08:12:25.581Z"
   },
   {
    "duration": 1213,
    "start_time": "2022-11-01T08:13:03.653Z"
   },
   {
    "duration": 10,
    "start_time": "2022-11-01T08:13:20.125Z"
   },
   {
    "duration": 112,
    "start_time": "2022-11-01T08:13:22.038Z"
   },
   {
    "duration": 245,
    "start_time": "2022-11-01T08:13:22.152Z"
   },
   {
    "duration": 0,
    "start_time": "2022-11-01T08:13:22.398Z"
   },
   {
    "duration": 0,
    "start_time": "2022-11-01T08:13:22.399Z"
   },
   {
    "duration": 0,
    "start_time": "2022-11-01T08:13:22.400Z"
   },
   {
    "duration": 0,
    "start_time": "2022-11-01T08:13:22.401Z"
   },
   {
    "duration": 114,
    "start_time": "2022-11-01T08:13:59.406Z"
   },
   {
    "duration": 3,
    "start_time": "2022-11-01T08:13:59.522Z"
   },
   {
    "duration": 12,
    "start_time": "2022-11-01T08:13:59.527Z"
   },
   {
    "duration": 14,
    "start_time": "2022-11-01T08:13:59.540Z"
   },
   {
    "duration": 3,
    "start_time": "2022-11-01T08:13:59.556Z"
   },
   {
    "duration": 3,
    "start_time": "2022-11-01T08:13:59.597Z"
   },
   {
    "duration": 9,
    "start_time": "2022-11-01T08:24:21.382Z"
   },
   {
    "duration": 127,
    "start_time": "2022-11-01T08:24:28.198Z"
   },
   {
    "duration": 3,
    "start_time": "2022-11-01T08:24:28.327Z"
   },
   {
    "duration": 871,
    "start_time": "2022-11-01T08:24:28.332Z"
   },
   {
    "duration": 0,
    "start_time": "2022-11-01T08:24:29.205Z"
   },
   {
    "duration": 0,
    "start_time": "2022-11-01T08:24:29.206Z"
   },
   {
    "duration": 0,
    "start_time": "2022-11-01T08:24:29.210Z"
   },
   {
    "duration": 114,
    "start_time": "2022-11-01T08:25:33.359Z"
   },
   {
    "duration": 3,
    "start_time": "2022-11-01T08:25:33.475Z"
   },
   {
    "duration": 15,
    "start_time": "2022-11-01T08:25:33.480Z"
   },
   {
    "duration": 7,
    "start_time": "2022-11-01T08:25:33.497Z"
   },
   {
    "duration": 8,
    "start_time": "2022-11-01T08:25:33.506Z"
   },
   {
    "duration": 3,
    "start_time": "2022-11-01T08:25:33.552Z"
   },
   {
    "duration": 114,
    "start_time": "2022-11-01T08:38:51.031Z"
   },
   {
    "duration": 3,
    "start_time": "2022-11-01T08:38:51.153Z"
   },
   {
    "duration": 29,
    "start_time": "2022-11-01T08:38:51.158Z"
   },
   {
    "duration": 2,
    "start_time": "2022-11-01T08:38:51.189Z"
   },
   {
    "duration": 7,
    "start_time": "2022-11-01T08:38:51.193Z"
   },
   {
    "duration": 3,
    "start_time": "2022-11-01T08:38:51.220Z"
   },
   {
    "duration": 117,
    "start_time": "2022-11-01T08:45:37.866Z"
   },
   {
    "duration": 3,
    "start_time": "2022-11-01T08:45:37.985Z"
   },
   {
    "duration": 18,
    "start_time": "2022-11-01T08:45:37.989Z"
   },
   {
    "duration": 2,
    "start_time": "2022-11-01T08:45:38.009Z"
   },
   {
    "duration": 5,
    "start_time": "2022-11-01T08:45:38.013Z"
   },
   {
    "duration": 2,
    "start_time": "2022-11-01T08:45:38.059Z"
   },
   {
    "duration": 19,
    "start_time": "2022-11-01T08:46:38.694Z"
   },
   {
    "duration": 111,
    "start_time": "2022-11-01T09:03:37.230Z"
   },
   {
    "duration": 2,
    "start_time": "2022-11-01T09:03:37.344Z"
   },
   {
    "duration": 27,
    "start_time": "2022-11-01T09:03:37.354Z"
   },
   {
    "duration": 29,
    "start_time": "2022-11-01T09:03:37.383Z"
   },
   {
    "duration": 2,
    "start_time": "2022-11-01T09:03:37.414Z"
   },
   {
    "duration": 11,
    "start_time": "2022-11-01T09:03:37.418Z"
   },
   {
    "duration": 16,
    "start_time": "2022-11-01T09:03:59.561Z"
   },
   {
    "duration": 115,
    "start_time": "2022-11-01T09:04:12.790Z"
   },
   {
    "duration": 4,
    "start_time": "2022-11-01T09:04:12.907Z"
   },
   {
    "duration": 15,
    "start_time": "2022-11-01T09:04:12.913Z"
   },
   {
    "duration": 36,
    "start_time": "2022-11-01T09:04:12.929Z"
   },
   {
    "duration": 3,
    "start_time": "2022-11-01T09:04:12.967Z"
   },
   {
    "duration": 7,
    "start_time": "2022-11-01T09:04:12.971Z"
   },
   {
    "duration": 130,
    "start_time": "2022-11-01T09:07:08.577Z"
   },
   {
    "duration": 5,
    "start_time": "2022-11-01T09:07:08.709Z"
   },
   {
    "duration": 17,
    "start_time": "2022-11-01T09:07:08.716Z"
   },
   {
    "duration": 25,
    "start_time": "2022-11-01T09:07:08.735Z"
   },
   {
    "duration": 3,
    "start_time": "2022-11-01T09:07:08.769Z"
   },
   {
    "duration": 6,
    "start_time": "2022-11-01T09:07:08.776Z"
   },
   {
    "duration": 33,
    "start_time": "2022-11-01T09:07:53.630Z"
   },
   {
    "duration": 112,
    "start_time": "2022-11-01T09:08:49.213Z"
   },
   {
    "duration": 2,
    "start_time": "2022-11-01T09:08:49.327Z"
   },
   {
    "duration": 14,
    "start_time": "2022-11-01T09:08:49.331Z"
   },
   {
    "duration": 24,
    "start_time": "2022-11-01T09:08:49.354Z"
   },
   {
    "duration": 2,
    "start_time": "2022-11-01T09:08:49.401Z"
   },
   {
    "duration": 10,
    "start_time": "2022-11-01T09:08:49.405Z"
   },
   {
    "duration": 117,
    "start_time": "2022-11-01T09:09:05.636Z"
   },
   {
    "duration": 3,
    "start_time": "2022-11-01T09:09:05.755Z"
   },
   {
    "duration": 14,
    "start_time": "2022-11-01T09:09:05.759Z"
   },
   {
    "duration": 42,
    "start_time": "2022-11-01T09:09:05.775Z"
   },
   {
    "duration": 2,
    "start_time": "2022-11-01T09:09:05.828Z"
   },
   {
    "duration": 26,
    "start_time": "2022-11-01T09:09:05.832Z"
   },
   {
    "duration": 116,
    "start_time": "2022-11-01T09:10:34.965Z"
   },
   {
    "duration": 4,
    "start_time": "2022-11-01T09:10:35.083Z"
   },
   {
    "duration": 20,
    "start_time": "2022-11-01T09:10:35.088Z"
   },
   {
    "duration": 53,
    "start_time": "2022-11-01T09:10:35.110Z"
   },
   {
    "duration": 2,
    "start_time": "2022-11-01T09:10:35.165Z"
   },
   {
    "duration": 24,
    "start_time": "2022-11-01T09:10:35.169Z"
   },
   {
    "duration": 42,
    "start_time": "2022-11-01T09:10:55.608Z"
   },
   {
    "duration": 24,
    "start_time": "2022-11-01T09:11:10.282Z"
   },
   {
    "duration": 25,
    "start_time": "2022-11-01T09:11:58.184Z"
   },
   {
    "duration": 24,
    "start_time": "2022-11-01T09:13:03.808Z"
   },
   {
    "duration": 31,
    "start_time": "2022-11-01T09:13:13.309Z"
   },
   {
    "duration": 29,
    "start_time": "2022-11-01T09:14:22.165Z"
   },
   {
    "duration": 3,
    "start_time": "2022-11-01T09:14:31.663Z"
   },
   {
    "duration": 3,
    "start_time": "2022-11-01T09:14:33.239Z"
   },
   {
    "duration": 42,
    "start_time": "2022-11-01T09:14:38.287Z"
   },
   {
    "duration": 137,
    "start_time": "2022-11-01T09:15:51.588Z"
   },
   {
    "duration": 4,
    "start_time": "2022-11-01T09:15:51.727Z"
   },
   {
    "duration": 44,
    "start_time": "2022-11-01T09:15:51.733Z"
   },
   {
    "duration": 55,
    "start_time": "2022-11-01T09:15:51.778Z"
   },
   {
    "duration": 2,
    "start_time": "2022-11-01T09:15:51.836Z"
   },
   {
    "duration": 31,
    "start_time": "2022-11-01T09:15:51.839Z"
   },
   {
    "duration": 30,
    "start_time": "2022-11-01T09:16:30.542Z"
   },
   {
    "duration": 128,
    "start_time": "2022-11-01T09:17:28.727Z"
   },
   {
    "duration": 3,
    "start_time": "2022-11-01T09:17:28.858Z"
   },
   {
    "duration": 21,
    "start_time": "2022-11-01T09:17:28.863Z"
   },
   {
    "duration": 32,
    "start_time": "2022-11-01T09:17:28.885Z"
   },
   {
    "duration": 2,
    "start_time": "2022-11-01T09:17:28.920Z"
   },
   {
    "duration": 9,
    "start_time": "2022-11-01T09:17:28.924Z"
   },
   {
    "duration": 46,
    "start_time": "2022-11-01T09:17:55.035Z"
   },
   {
    "duration": 114,
    "start_time": "2022-11-01T09:18:08.439Z"
   },
   {
    "duration": 3,
    "start_time": "2022-11-01T09:18:08.555Z"
   },
   {
    "duration": 19,
    "start_time": "2022-11-01T09:18:08.560Z"
   },
   {
    "duration": 34,
    "start_time": "2022-11-01T09:18:08.580Z"
   },
   {
    "duration": 2,
    "start_time": "2022-11-01T09:18:08.630Z"
   },
   {
    "duration": 11,
    "start_time": "2022-11-01T09:18:08.634Z"
   },
   {
    "duration": 118,
    "start_time": "2022-11-01T09:31:05.831Z"
   },
   {
    "duration": 3,
    "start_time": "2022-11-01T09:31:05.954Z"
   },
   {
    "duration": 15,
    "start_time": "2022-11-01T09:31:05.959Z"
   },
   {
    "duration": 26,
    "start_time": "2022-11-01T09:31:05.975Z"
   },
   {
    "duration": 1085,
    "start_time": "2022-11-01T09:31:06.024Z"
   },
   {
    "duration": 0,
    "start_time": "2022-11-01T09:31:07.110Z"
   },
   {
    "duration": 1,
    "start_time": "2022-11-01T09:31:07.111Z"
   },
   {
    "duration": 120,
    "start_time": "2022-11-01T09:31:54.257Z"
   },
   {
    "duration": 3,
    "start_time": "2022-11-01T09:31:54.379Z"
   },
   {
    "duration": 21,
    "start_time": "2022-11-01T09:31:54.384Z"
   },
   {
    "duration": 26,
    "start_time": "2022-11-01T09:31:54.406Z"
   },
   {
    "duration": 20,
    "start_time": "2022-11-01T09:31:54.446Z"
   },
   {
    "duration": 3,
    "start_time": "2022-11-01T09:31:54.468Z"
   },
   {
    "duration": 7,
    "start_time": "2022-11-01T09:31:54.473Z"
   },
   {
    "duration": 117,
    "start_time": "2022-11-01T09:39:49.994Z"
   },
   {
    "duration": 4,
    "start_time": "2022-11-01T09:39:50.113Z"
   },
   {
    "duration": 23,
    "start_time": "2022-11-01T09:39:50.119Z"
   },
   {
    "duration": 32,
    "start_time": "2022-11-01T09:39:50.144Z"
   },
   {
    "duration": 4,
    "start_time": "2022-11-01T09:39:50.185Z"
   },
   {
    "duration": 1107,
    "start_time": "2022-11-01T09:39:50.191Z"
   },
   {
    "duration": 0,
    "start_time": "2022-11-01T09:39:51.300Z"
   },
   {
    "duration": 120,
    "start_time": "2022-11-01T09:43:43.798Z"
   },
   {
    "duration": 3,
    "start_time": "2022-11-01T09:43:43.919Z"
   },
   {
    "duration": 32,
    "start_time": "2022-11-01T09:43:43.924Z"
   },
   {
    "duration": 25,
    "start_time": "2022-11-01T09:43:43.959Z"
   },
   {
    "duration": 4,
    "start_time": "2022-11-01T09:43:43.990Z"
   },
   {
    "duration": 22,
    "start_time": "2022-11-01T09:43:43.995Z"
   },
   {
    "duration": 3,
    "start_time": "2022-11-01T09:43:44.019Z"
   },
   {
    "duration": 16,
    "start_time": "2022-11-01T13:19:48.093Z"
   },
   {
    "duration": 192,
    "start_time": "2022-11-01T13:20:33.384Z"
   },
   {
    "duration": 115,
    "start_time": "2022-11-01T13:21:39.540Z"
   },
   {
    "duration": 3,
    "start_time": "2022-11-01T13:21:39.657Z"
   },
   {
    "duration": 13,
    "start_time": "2022-11-01T13:21:39.662Z"
   },
   {
    "duration": 30,
    "start_time": "2022-11-01T13:21:39.677Z"
   },
   {
    "duration": 4,
    "start_time": "2022-11-01T13:21:39.710Z"
   },
   {
    "duration": 8,
    "start_time": "2022-11-01T13:21:39.716Z"
   },
   {
    "duration": 168,
    "start_time": "2022-11-01T13:21:39.726Z"
   },
   {
    "duration": 116,
    "start_time": "2022-11-01T13:21:59.939Z"
   },
   {
    "duration": 3,
    "start_time": "2022-11-01T13:22:00.057Z"
   },
   {
    "duration": 15,
    "start_time": "2022-11-01T13:22:00.062Z"
   },
   {
    "duration": 26,
    "start_time": "2022-11-01T13:22:00.080Z"
   },
   {
    "duration": 4,
    "start_time": "2022-11-01T13:22:00.109Z"
   },
   {
    "duration": 7,
    "start_time": "2022-11-01T13:22:00.115Z"
   },
   {
    "duration": 233,
    "start_time": "2022-11-01T13:22:00.124Z"
   },
   {
    "duration": 380,
    "start_time": "2022-11-01T13:23:10.806Z"
   },
   {
    "duration": 151,
    "start_time": "2022-11-01T13:23:17.511Z"
   },
   {
    "duration": 181,
    "start_time": "2022-11-01T13:23:24.453Z"
   },
   {
    "duration": 256,
    "start_time": "2022-11-01T13:24:12.830Z"
   },
   {
    "duration": 213,
    "start_time": "2022-11-01T13:25:01.382Z"
   },
   {
    "duration": 168,
    "start_time": "2022-11-01T13:25:26.568Z"
   },
   {
    "duration": 196,
    "start_time": "2022-11-01T13:25:52.397Z"
   },
   {
    "duration": 172,
    "start_time": "2022-11-01T13:30:14.569Z"
   },
   {
    "duration": 166,
    "start_time": "2022-11-01T13:30:29.961Z"
   },
   {
    "duration": 112,
    "start_time": "2022-11-01T13:42:26.278Z"
   },
   {
    "duration": 4,
    "start_time": "2022-11-01T13:42:26.392Z"
   },
   {
    "duration": 22,
    "start_time": "2022-11-01T13:42:26.397Z"
   },
   {
    "duration": 24,
    "start_time": "2022-11-01T13:42:26.420Z"
   },
   {
    "duration": 7,
    "start_time": "2022-11-01T13:42:26.446Z"
   },
   {
    "duration": 15,
    "start_time": "2022-11-01T13:42:26.455Z"
   },
   {
    "duration": 162,
    "start_time": "2022-11-01T13:42:26.472Z"
   },
   {
    "duration": 29,
    "start_time": "2022-11-01T13:42:26.635Z"
   },
   {
    "duration": 25,
    "start_time": "2022-11-01T13:43:58.286Z"
   },
   {
    "duration": 13,
    "start_time": "2022-11-01T13:50:16.175Z"
   },
   {
    "duration": 198,
    "start_time": "2022-11-01T13:52:31.340Z"
   },
   {
    "duration": 3,
    "start_time": "2022-11-01T13:52:31.541Z"
   },
   {
    "duration": 27,
    "start_time": "2022-11-01T13:52:31.546Z"
   },
   {
    "duration": 86,
    "start_time": "2022-11-01T13:52:31.576Z"
   },
   {
    "duration": 14,
    "start_time": "2022-11-01T13:52:31.664Z"
   },
   {
    "duration": 44,
    "start_time": "2022-11-01T13:52:31.680Z"
   },
   {
    "duration": 193,
    "start_time": "2022-11-01T13:52:31.726Z"
   },
   {
    "duration": 34,
    "start_time": "2022-11-01T13:52:31.921Z"
   },
   {
    "duration": 14,
    "start_time": "2022-11-01T13:54:07.585Z"
   },
   {
    "duration": 246,
    "start_time": "2022-11-01T13:54:14.253Z"
   },
   {
    "duration": 232,
    "start_time": "2022-11-01T13:54:29.036Z"
   },
   {
    "duration": 376,
    "start_time": "2022-11-01T13:54:39.516Z"
   },
   {
    "duration": 285,
    "start_time": "2022-11-01T13:54:57.716Z"
   },
   {
    "duration": 20,
    "start_time": "2022-11-01T13:57:23.727Z"
   },
   {
    "duration": 20,
    "start_time": "2022-11-01T13:58:02.276Z"
   },
   {
    "duration": 16,
    "start_time": "2022-11-01T13:58:14.283Z"
   },
   {
    "duration": 18,
    "start_time": "2022-11-01T13:58:21.767Z"
   },
   {
    "duration": 16,
    "start_time": "2022-11-01T13:58:55.421Z"
   },
   {
    "duration": 17,
    "start_time": "2022-11-01T13:59:05.151Z"
   },
   {
    "duration": 117,
    "start_time": "2022-11-01T14:07:09.759Z"
   },
   {
    "duration": 3,
    "start_time": "2022-11-01T14:07:09.878Z"
   },
   {
    "duration": 12,
    "start_time": "2022-11-01T14:07:09.882Z"
   },
   {
    "duration": 29,
    "start_time": "2022-11-01T14:07:09.896Z"
   },
   {
    "duration": 4,
    "start_time": "2022-11-01T14:07:09.928Z"
   },
   {
    "duration": 5,
    "start_time": "2022-11-01T14:07:09.963Z"
   },
   {
    "duration": 170,
    "start_time": "2022-11-01T14:07:09.969Z"
   },
   {
    "duration": 22,
    "start_time": "2022-11-01T14:07:10.141Z"
   },
   {
    "duration": 16,
    "start_time": "2022-11-01T14:07:50.437Z"
   },
   {
    "duration": 20,
    "start_time": "2022-11-01T14:12:59.604Z"
   },
   {
    "duration": 14,
    "start_time": "2022-11-01T14:13:19.967Z"
   },
   {
    "duration": 17,
    "start_time": "2022-11-01T14:14:19.925Z"
   },
   {
    "duration": 17,
    "start_time": "2022-11-01T14:14:27.591Z"
   },
   {
    "duration": 18,
    "start_time": "2022-11-01T14:14:51.046Z"
   },
   {
    "duration": 18,
    "start_time": "2022-11-01T14:15:30.602Z"
   },
   {
    "duration": 48,
    "start_time": "2022-11-01T14:20:33.587Z"
   },
   {
    "duration": 11,
    "start_time": "2022-11-01T14:20:40.362Z"
   },
   {
    "duration": 10,
    "start_time": "2022-11-01T14:20:56.654Z"
   },
   {
    "duration": 9,
    "start_time": "2022-11-01T14:22:04.274Z"
   },
   {
    "duration": 5,
    "start_time": "2022-11-01T14:25:31.357Z"
   },
   {
    "duration": 10,
    "start_time": "2022-11-01T14:26:22.740Z"
   },
   {
    "duration": 12,
    "start_time": "2022-11-01T14:26:38.526Z"
   },
   {
    "duration": 13,
    "start_time": "2022-11-01T14:34:07.321Z"
   },
   {
    "duration": 117,
    "start_time": "2022-11-01T14:34:16.063Z"
   },
   {
    "duration": 3,
    "start_time": "2022-11-01T14:34:16.182Z"
   },
   {
    "duration": 11,
    "start_time": "2022-11-01T14:34:16.186Z"
   },
   {
    "duration": 30,
    "start_time": "2022-11-01T14:34:16.199Z"
   },
   {
    "duration": 5,
    "start_time": "2022-11-01T14:34:16.231Z"
   },
   {
    "duration": 18,
    "start_time": "2022-11-01T14:34:16.237Z"
   },
   {
    "duration": 172,
    "start_time": "2022-11-01T14:34:16.256Z"
   },
   {
    "duration": 13,
    "start_time": "2022-11-01T14:34:16.430Z"
   },
   {
    "duration": 3,
    "start_time": "2022-11-01T14:34:16.453Z"
   },
   {
    "duration": 119,
    "start_time": "2022-11-01T14:34:29.135Z"
   },
   {
    "duration": 4,
    "start_time": "2022-11-01T14:34:29.257Z"
   },
   {
    "duration": 8,
    "start_time": "2022-11-01T14:34:29.360Z"
   },
   {
    "duration": 24,
    "start_time": "2022-11-01T14:34:29.370Z"
   },
   {
    "duration": 4,
    "start_time": "2022-11-01T14:34:29.396Z"
   },
   {
    "duration": 7,
    "start_time": "2022-11-01T14:34:29.401Z"
   },
   {
    "duration": 179,
    "start_time": "2022-11-01T14:34:29.533Z"
   },
   {
    "duration": 13,
    "start_time": "2022-11-01T14:34:29.713Z"
   },
   {
    "duration": 4,
    "start_time": "2022-11-01T14:34:29.727Z"
   },
   {
    "duration": 19,
    "start_time": "2022-11-01T14:34:51.976Z"
   },
   {
    "duration": 64,
    "start_time": "2022-11-01T14:36:13.008Z"
   },
   {
    "duration": 9,
    "start_time": "2022-11-01T14:36:18.909Z"
   },
   {
    "duration": 9,
    "start_time": "2022-11-01T14:36:38.822Z"
   },
   {
    "duration": 10,
    "start_time": "2022-11-01T14:38:02.048Z"
   },
   {
    "duration": 9,
    "start_time": "2022-11-01T14:38:12.394Z"
   },
   {
    "duration": 858,
    "start_time": "2022-11-01T14:39:20.541Z"
   },
   {
    "duration": 9,
    "start_time": "2022-11-01T14:39:42.301Z"
   },
   {
    "duration": 10,
    "start_time": "2022-11-01T14:44:29.919Z"
   },
   {
    "duration": 12,
    "start_time": "2022-11-01T14:45:34.764Z"
   },
   {
    "duration": 549,
    "start_time": "2022-11-01T14:46:26.891Z"
   },
   {
    "duration": 501,
    "start_time": "2022-11-01T14:47:39.194Z"
   },
   {
    "duration": 12,
    "start_time": "2022-11-01T14:48:46.817Z"
   },
   {
    "duration": 12,
    "start_time": "2022-11-01T14:48:52.830Z"
   },
   {
    "duration": 89,
    "start_time": "2022-11-01T14:50:02.997Z"
   },
   {
    "duration": 13,
    "start_time": "2022-11-01T14:50:09.244Z"
   },
   {
    "duration": 608,
    "start_time": "2022-11-01T14:50:18.219Z"
   },
   {
    "duration": 13,
    "start_time": "2022-11-01T15:02:39.977Z"
   },
   {
    "duration": 12,
    "start_time": "2022-11-01T15:02:50.409Z"
   },
   {
    "duration": 13,
    "start_time": "2022-11-01T15:02:56.452Z"
   },
   {
    "duration": 265,
    "start_time": "2022-11-01T15:03:33.853Z"
   },
   {
    "duration": 55,
    "start_time": "2022-11-01T18:32:19.246Z"
   },
   {
    "duration": 8,
    "start_time": "2022-11-01T18:33:05.770Z"
   },
   {
    "duration": 1455,
    "start_time": "2022-11-01T18:33:09.072Z"
   },
   {
    "duration": 4,
    "start_time": "2022-11-01T18:33:10.529Z"
   },
   {
    "duration": 20,
    "start_time": "2022-11-01T18:33:10.534Z"
   },
   {
    "duration": 34,
    "start_time": "2022-11-01T18:33:10.556Z"
   },
   {
    "duration": 5,
    "start_time": "2022-11-01T18:33:10.592Z"
   },
   {
    "duration": 12,
    "start_time": "2022-11-01T18:33:10.598Z"
   },
   {
    "duration": 197,
    "start_time": "2022-11-01T18:33:10.612Z"
   },
   {
    "duration": 26,
    "start_time": "2022-11-01T18:33:10.812Z"
   },
   {
    "duration": 19,
    "start_time": "2022-11-01T18:33:10.840Z"
   },
   {
    "duration": 11,
    "start_time": "2022-11-01T18:33:29.081Z"
   },
   {
    "duration": 74,
    "start_time": "2022-11-01T18:34:08.891Z"
   },
   {
    "duration": 13,
    "start_time": "2022-11-01T18:34:50.573Z"
   },
   {
    "duration": 4,
    "start_time": "2022-11-01T18:37:05.933Z"
   },
   {
    "duration": 11,
    "start_time": "2022-11-01T18:37:14.961Z"
   },
   {
    "duration": 11,
    "start_time": "2022-11-01T18:37:33.936Z"
   },
   {
    "duration": 9,
    "start_time": "2022-11-01T18:37:45.885Z"
   },
   {
    "duration": 18,
    "start_time": "2022-11-01T18:38:19.924Z"
   },
   {
    "duration": 9,
    "start_time": "2022-11-01T18:39:35.988Z"
   },
   {
    "duration": 48,
    "start_time": "2022-11-01T18:40:09.980Z"
   },
   {
    "duration": 7,
    "start_time": "2022-11-01T18:40:31.684Z"
   },
   {
    "duration": 10,
    "start_time": "2022-11-01T18:42:22.920Z"
   },
   {
    "duration": 50,
    "start_time": "2022-11-01T18:43:36.891Z"
   },
   {
    "duration": 51,
    "start_time": "2022-11-01T18:43:49.123Z"
   },
   {
    "duration": 46,
    "start_time": "2022-11-01T18:44:12.979Z"
   },
   {
    "duration": 16,
    "start_time": "2022-11-01T18:45:50.266Z"
   },
   {
    "duration": 13,
    "start_time": "2022-11-01T18:47:33.261Z"
   },
   {
    "duration": 22,
    "start_time": "2022-11-01T18:50:50.936Z"
   },
   {
    "duration": 15,
    "start_time": "2022-11-01T18:51:13.845Z"
   },
   {
    "duration": 13,
    "start_time": "2022-11-01T18:51:48.235Z"
   },
   {
    "duration": 60,
    "start_time": "2022-11-01T18:56:50.313Z"
   },
   {
    "duration": 51,
    "start_time": "2022-11-01T18:57:06.481Z"
   },
   {
    "duration": 154,
    "start_time": "2022-11-01T18:57:15.717Z"
   },
   {
    "duration": 603,
    "start_time": "2022-11-01T18:59:18.998Z"
   },
   {
    "duration": 678,
    "start_time": "2022-11-01T18:59:37.879Z"
   },
   {
    "duration": 1342,
    "start_time": "2022-11-01T19:01:05.385Z"
   },
   {
    "duration": 1160,
    "start_time": "2022-11-01T19:01:16.119Z"
   },
   {
    "duration": 14,
    "start_time": "2022-11-01T19:04:49.334Z"
   },
   {
    "duration": 14,
    "start_time": "2022-11-01T19:05:12.796Z"
   },
   {
    "duration": 13,
    "start_time": "2022-11-01T19:06:41.302Z"
   },
   {
    "duration": 20,
    "start_time": "2022-11-01T19:07:48.321Z"
   },
   {
    "duration": 13,
    "start_time": "2022-11-01T19:08:05.161Z"
   },
   {
    "duration": 15,
    "start_time": "2022-11-01T19:09:14.758Z"
   },
   {
    "duration": 129,
    "start_time": "2022-11-01T19:09:24.119Z"
   },
   {
    "duration": 5,
    "start_time": "2022-11-01T19:09:24.253Z"
   },
   {
    "duration": 17,
    "start_time": "2022-11-01T19:09:24.260Z"
   },
   {
    "duration": 28,
    "start_time": "2022-11-01T19:09:24.279Z"
   },
   {
    "duration": 4,
    "start_time": "2022-11-01T19:09:24.310Z"
   },
   {
    "duration": 9,
    "start_time": "2022-11-01T19:09:24.315Z"
   },
   {
    "duration": 221,
    "start_time": "2022-11-01T19:09:24.326Z"
   },
   {
    "duration": 28,
    "start_time": "2022-11-01T19:09:24.549Z"
   },
   {
    "duration": 19,
    "start_time": "2022-11-01T19:09:24.579Z"
   },
   {
    "duration": 15,
    "start_time": "2022-11-01T19:10:31.781Z"
   },
   {
    "duration": 16,
    "start_time": "2022-11-01T19:10:46.936Z"
   },
   {
    "duration": 19,
    "start_time": "2022-11-01T19:11:14.888Z"
   },
   {
    "duration": 36,
    "start_time": "2022-11-01T19:11:31.904Z"
   },
   {
    "duration": 13,
    "start_time": "2022-11-01T19:16:51.762Z"
   },
   {
    "duration": 15,
    "start_time": "2022-11-01T19:17:04.700Z"
   },
   {
    "duration": 16,
    "start_time": "2022-11-01T19:17:16.806Z"
   },
   {
    "duration": 14,
    "start_time": "2022-11-01T19:19:12.475Z"
   },
   {
    "duration": 41,
    "start_time": "2022-11-01T19:25:20.003Z"
   },
   {
    "duration": 21,
    "start_time": "2022-11-01T19:25:40.410Z"
   },
   {
    "duration": 20,
    "start_time": "2022-11-01T19:26:28.929Z"
   },
   {
    "duration": 18,
    "start_time": "2022-11-01T19:27:40.921Z"
   },
   {
    "duration": 15,
    "start_time": "2022-11-01T19:29:55.117Z"
   },
   {
    "duration": 17,
    "start_time": "2022-11-01T19:30:51.856Z"
   },
   {
    "duration": 26,
    "start_time": "2022-11-01T19:31:52.745Z"
   },
   {
    "duration": 21,
    "start_time": "2022-11-01T19:32:19.159Z"
   },
   {
    "duration": 31,
    "start_time": "2022-11-01T19:33:04.147Z"
   },
   {
    "duration": 18,
    "start_time": "2022-11-01T19:33:33.991Z"
   },
   {
    "duration": 299,
    "start_time": "2022-11-01T19:35:04.650Z"
   },
   {
    "duration": 53,
    "start_time": "2022-11-02T19:34:52.448Z"
   },
   {
    "duration": 1852,
    "start_time": "2022-11-02T19:35:05.380Z"
   },
   {
    "duration": 3,
    "start_time": "2022-11-02T19:35:07.234Z"
   },
   {
    "duration": 14,
    "start_time": "2022-11-02T19:35:07.238Z"
   },
   {
    "duration": 24,
    "start_time": "2022-11-02T19:35:07.254Z"
   },
   {
    "duration": 4,
    "start_time": "2022-11-02T19:35:07.292Z"
   },
   {
    "duration": 8,
    "start_time": "2022-11-02T19:35:07.297Z"
   },
   {
    "duration": 186,
    "start_time": "2022-11-02T19:35:07.306Z"
   },
   {
    "duration": 18,
    "start_time": "2022-11-02T19:35:07.494Z"
   },
   {
    "duration": 314,
    "start_time": "2022-11-02T19:35:07.514Z"
   },
   {
    "duration": 60,
    "start_time": "2022-11-02T19:35:07.830Z"
   },
   {
    "duration": 109,
    "start_time": "2022-11-02T19:35:46.264Z"
   },
   {
    "duration": 3,
    "start_time": "2022-11-02T19:35:46.375Z"
   },
   {
    "duration": 20,
    "start_time": "2022-11-02T19:35:46.380Z"
   },
   {
    "duration": 30,
    "start_time": "2022-11-02T19:35:46.402Z"
   },
   {
    "duration": 5,
    "start_time": "2022-11-02T19:35:46.434Z"
   },
   {
    "duration": 9,
    "start_time": "2022-11-02T19:35:46.440Z"
   },
   {
    "duration": 226,
    "start_time": "2022-11-02T19:35:46.451Z"
   },
   {
    "duration": 28,
    "start_time": "2022-11-02T19:35:46.679Z"
   },
   {
    "duration": 311,
    "start_time": "2022-11-02T19:35:46.709Z"
   },
   {
    "duration": 10,
    "start_time": "2022-11-02T19:35:47.022Z"
   },
   {
    "duration": 253,
    "start_time": "2022-11-02T19:38:01.664Z"
   },
   {
    "duration": 111,
    "start_time": "2022-11-02T19:38:11.277Z"
   },
   {
    "duration": 3,
    "start_time": "2022-11-02T19:38:11.390Z"
   },
   {
    "duration": 9,
    "start_time": "2022-11-02T19:38:11.395Z"
   },
   {
    "duration": 37,
    "start_time": "2022-11-02T19:38:11.406Z"
   },
   {
    "duration": 5,
    "start_time": "2022-11-02T19:38:11.444Z"
   },
   {
    "duration": 10,
    "start_time": "2022-11-02T19:38:11.450Z"
   },
   {
    "duration": 222,
    "start_time": "2022-11-02T19:38:11.461Z"
   },
   {
    "duration": 21,
    "start_time": "2022-11-02T19:38:11.684Z"
   },
   {
    "duration": 287,
    "start_time": "2022-11-02T19:38:11.707Z"
   },
   {
    "duration": 253,
    "start_time": "2022-11-02T19:38:11.996Z"
   },
   {
    "duration": 110,
    "start_time": "2022-11-02T19:38:40.876Z"
   },
   {
    "duration": 3,
    "start_time": "2022-11-02T19:38:40.987Z"
   },
   {
    "duration": 9,
    "start_time": "2022-11-02T19:38:40.992Z"
   },
   {
    "duration": 27,
    "start_time": "2022-11-02T19:38:41.003Z"
   },
   {
    "duration": 5,
    "start_time": "2022-11-02T19:38:41.032Z"
   },
   {
    "duration": 6,
    "start_time": "2022-11-02T19:38:41.039Z"
   },
   {
    "duration": 194,
    "start_time": "2022-11-02T19:38:41.047Z"
   },
   {
    "duration": 17,
    "start_time": "2022-11-02T19:38:41.243Z"
   },
   {
    "duration": 372,
    "start_time": "2022-11-02T19:38:41.262Z"
   },
   {
    "duration": 340,
    "start_time": "2022-11-02T19:38:41.635Z"
   },
   {
    "duration": 310,
    "start_time": "2022-11-02T19:52:18.702Z"
   },
   {
    "duration": 109,
    "start_time": "2022-11-02T19:52:24.904Z"
   },
   {
    "duration": 3,
    "start_time": "2022-11-02T19:52:25.015Z"
   },
   {
    "duration": 10,
    "start_time": "2022-11-02T19:52:25.020Z"
   },
   {
    "duration": 28,
    "start_time": "2022-11-02T19:52:25.032Z"
   },
   {
    "duration": 5,
    "start_time": "2022-11-02T19:52:25.063Z"
   },
   {
    "duration": 26,
    "start_time": "2022-11-02T19:52:25.069Z"
   },
   {
    "duration": 187,
    "start_time": "2022-11-02T19:52:25.097Z"
   },
   {
    "duration": 20,
    "start_time": "2022-11-02T19:52:25.285Z"
   },
   {
    "duration": 264,
    "start_time": "2022-11-02T19:52:25.306Z"
   },
   {
    "duration": 316,
    "start_time": "2022-11-02T19:52:25.571Z"
   },
   {
    "duration": 115,
    "start_time": "2022-11-02T19:53:06.302Z"
   },
   {
    "duration": 4,
    "start_time": "2022-11-02T19:53:06.420Z"
   },
   {
    "duration": 11,
    "start_time": "2022-11-02T19:53:06.425Z"
   },
   {
    "duration": 29,
    "start_time": "2022-11-02T19:53:06.438Z"
   },
   {
    "duration": 4,
    "start_time": "2022-11-02T19:53:06.470Z"
   },
   {
    "duration": 7,
    "start_time": "2022-11-02T19:53:06.490Z"
   },
   {
    "duration": 218,
    "start_time": "2022-11-02T19:53:06.499Z"
   },
   {
    "duration": 16,
    "start_time": "2022-11-02T19:53:06.719Z"
   },
   {
    "duration": 255,
    "start_time": "2022-11-02T19:53:06.737Z"
   },
   {
    "duration": 407,
    "start_time": "2022-11-02T19:53:06.994Z"
   },
   {
    "duration": 113,
    "start_time": "2022-11-02T19:53:29.622Z"
   },
   {
    "duration": 3,
    "start_time": "2022-11-02T19:53:29.737Z"
   },
   {
    "duration": 11,
    "start_time": "2022-11-02T19:53:29.742Z"
   },
   {
    "duration": 45,
    "start_time": "2022-11-02T19:53:29.755Z"
   },
   {
    "duration": 4,
    "start_time": "2022-11-02T19:53:29.802Z"
   },
   {
    "duration": 5,
    "start_time": "2022-11-02T19:53:29.808Z"
   },
   {
    "duration": 168,
    "start_time": "2022-11-02T19:53:29.815Z"
   },
   {
    "duration": 18,
    "start_time": "2022-11-02T19:53:29.991Z"
   },
   {
    "duration": 293,
    "start_time": "2022-11-02T19:53:30.011Z"
   },
   {
    "duration": 317,
    "start_time": "2022-11-02T19:53:30.306Z"
   },
   {
    "duration": 111,
    "start_time": "2022-11-02T19:53:44.189Z"
   },
   {
    "duration": 2,
    "start_time": "2022-11-02T19:53:44.302Z"
   },
   {
    "duration": 9,
    "start_time": "2022-11-02T19:53:44.306Z"
   },
   {
    "duration": 29,
    "start_time": "2022-11-02T19:53:44.317Z"
   },
   {
    "duration": 5,
    "start_time": "2022-11-02T19:53:44.348Z"
   },
   {
    "duration": 8,
    "start_time": "2022-11-02T19:53:44.354Z"
   },
   {
    "duration": 206,
    "start_time": "2022-11-02T19:53:44.363Z"
   },
   {
    "duration": 26,
    "start_time": "2022-11-02T19:53:44.571Z"
   },
   {
    "duration": 256,
    "start_time": "2022-11-02T19:53:44.599Z"
   },
   {
    "duration": 308,
    "start_time": "2022-11-02T19:53:44.857Z"
   },
   {
    "duration": 112,
    "start_time": "2022-11-02T19:54:03.600Z"
   },
   {
    "duration": 3,
    "start_time": "2022-11-02T19:54:03.714Z"
   },
   {
    "duration": 9,
    "start_time": "2022-11-02T19:54:03.719Z"
   },
   {
    "duration": 23,
    "start_time": "2022-11-02T19:54:03.729Z"
   },
   {
    "duration": 4,
    "start_time": "2022-11-02T19:54:03.754Z"
   },
   {
    "duration": 31,
    "start_time": "2022-11-02T19:54:03.760Z"
   },
   {
    "duration": 169,
    "start_time": "2022-11-02T19:54:03.793Z"
   },
   {
    "duration": 28,
    "start_time": "2022-11-02T19:54:03.964Z"
   },
   {
    "duration": 258,
    "start_time": "2022-11-02T19:54:03.994Z"
   },
   {
    "duration": 308,
    "start_time": "2022-11-02T19:54:04.254Z"
   },
   {
    "duration": 289,
    "start_time": "2022-11-02T19:54:04.564Z"
   },
   {
    "duration": 75,
    "start_time": "2022-11-02T19:54:42.408Z"
   },
   {
    "duration": 151,
    "start_time": "2022-11-02T19:54:54.442Z"
   },
   {
    "duration": 9,
    "start_time": "2022-11-02T19:56:19.566Z"
   },
   {
    "duration": 17,
    "start_time": "2022-11-02T19:56:31.103Z"
   },
   {
    "duration": 154,
    "start_time": "2022-11-02T19:57:21.163Z"
   },
   {
    "duration": 173,
    "start_time": "2022-11-02T19:57:30.375Z"
   },
   {
    "duration": 830,
    "start_time": "2022-11-02T19:58:01.762Z"
   },
   {
    "duration": 801,
    "start_time": "2022-11-02T19:58:32.919Z"
   },
   {
    "duration": 41,
    "start_time": "2022-11-02T19:59:35.974Z"
   },
   {
    "duration": 12,
    "start_time": "2022-11-02T20:05:23.016Z"
   },
   {
    "duration": 10,
    "start_time": "2022-11-02T20:06:16.077Z"
   },
   {
    "duration": 10,
    "start_time": "2022-11-02T20:06:48.666Z"
   },
   {
    "duration": 178,
    "start_time": "2022-11-02T20:07:15.173Z"
   },
   {
    "duration": 3,
    "start_time": "2022-11-02T20:07:15.353Z"
   },
   {
    "duration": 14,
    "start_time": "2022-11-02T20:07:15.357Z"
   },
   {
    "duration": 30,
    "start_time": "2022-11-02T20:07:15.373Z"
   },
   {
    "duration": 4,
    "start_time": "2022-11-02T20:07:15.405Z"
   },
   {
    "duration": 8,
    "start_time": "2022-11-02T20:07:15.411Z"
   },
   {
    "duration": 169,
    "start_time": "2022-11-02T20:07:15.421Z"
   },
   {
    "duration": 16,
    "start_time": "2022-11-02T20:07:15.592Z"
   },
   {
    "duration": 266,
    "start_time": "2022-11-02T20:07:15.610Z"
   },
   {
    "duration": 285,
    "start_time": "2022-11-02T20:07:15.878Z"
   },
   {
    "duration": 1046,
    "start_time": "2022-11-02T20:07:16.164Z"
   },
   {
    "duration": 643,
    "start_time": "2022-11-02T20:08:36.791Z"
   },
   {
    "duration": 1060,
    "start_time": "2022-11-02T20:09:04.094Z"
   },
   {
    "duration": 245,
    "start_time": "2022-11-02T20:10:12.350Z"
   },
   {
    "duration": 16,
    "start_time": "2022-11-02T20:27:35.599Z"
   },
   {
    "duration": 26,
    "start_time": "2022-11-02T20:27:48.657Z"
   },
   {
    "duration": 23,
    "start_time": "2022-11-02T20:28:22.786Z"
   },
   {
    "duration": 8,
    "start_time": "2022-11-02T20:29:08.689Z"
   },
   {
    "duration": 8,
    "start_time": "2022-11-02T20:29:31.340Z"
   },
   {
    "duration": 26,
    "start_time": "2022-11-02T20:30:02.908Z"
   },
   {
    "duration": 6,
    "start_time": "2022-11-02T20:30:42.640Z"
   },
   {
    "duration": 147,
    "start_time": "2022-11-02T20:31:36.791Z"
   },
   {
    "duration": 306,
    "start_time": "2022-11-02T20:31:59.482Z"
   },
   {
    "duration": 294,
    "start_time": "2022-11-02T20:36:01.940Z"
   },
   {
    "duration": 278,
    "start_time": "2022-11-02T20:36:14.650Z"
   },
   {
    "duration": 331,
    "start_time": "2022-11-02T20:36:36.517Z"
   },
   {
    "duration": 28,
    "start_time": "2022-11-02T20:43:59.271Z"
   },
   {
    "duration": 290,
    "start_time": "2022-11-02T20:44:11.265Z"
   },
   {
    "duration": 269,
    "start_time": "2022-11-02T20:44:24.581Z"
   },
   {
    "duration": 266,
    "start_time": "2022-11-02T20:44:54.656Z"
   },
   {
    "duration": 294,
    "start_time": "2022-11-02T20:47:08.435Z"
   },
   {
    "duration": 272,
    "start_time": "2022-11-02T20:53:42.742Z"
   },
   {
    "duration": 47,
    "start_time": "2022-11-03T10:21:14.040Z"
   },
   {
    "duration": 1868,
    "start_time": "2022-11-03T10:21:33.994Z"
   },
   {
    "duration": 3,
    "start_time": "2022-11-03T10:21:35.865Z"
   },
   {
    "duration": 12,
    "start_time": "2022-11-03T10:21:35.869Z"
   },
   {
    "duration": 29,
    "start_time": "2022-11-03T10:21:35.891Z"
   },
   {
    "duration": 5,
    "start_time": "2022-11-03T10:21:35.923Z"
   },
   {
    "duration": 6,
    "start_time": "2022-11-03T10:21:35.930Z"
   },
   {
    "duration": 204,
    "start_time": "2022-11-03T10:21:35.938Z"
   },
   {
    "duration": 19,
    "start_time": "2022-11-03T10:21:36.144Z"
   },
   {
    "duration": 323,
    "start_time": "2022-11-03T10:21:36.165Z"
   },
   {
    "duration": 412,
    "start_time": "2022-11-03T10:21:36.491Z"
   },
   {
    "duration": 278,
    "start_time": "2022-11-03T10:21:36.905Z"
   },
   {
    "duration": 307,
    "start_time": "2022-11-03T10:21:37.184Z"
   },
   {
    "duration": 293,
    "start_time": "2022-11-03T10:21:37.492Z"
   },
   {
    "duration": 303,
    "start_time": "2022-11-03T10:21:37.791Z"
   },
   {
    "duration": 287,
    "start_time": "2022-11-03T10:21:38.096Z"
   },
   {
    "duration": 73,
    "start_time": "2022-11-03T10:21:38.390Z"
   },
   {
    "duration": 881,
    "start_time": "2022-11-03T10:22:25.562Z"
   },
   {
    "duration": 125,
    "start_time": "2022-11-03T10:22:35.725Z"
   },
   {
    "duration": 3,
    "start_time": "2022-11-03T10:22:35.852Z"
   },
   {
    "duration": 9,
    "start_time": "2022-11-03T10:22:35.858Z"
   },
   {
    "duration": 47,
    "start_time": "2022-11-03T10:22:35.869Z"
   },
   {
    "duration": 5,
    "start_time": "2022-11-03T10:22:35.918Z"
   },
   {
    "duration": 7,
    "start_time": "2022-11-03T10:22:35.924Z"
   },
   {
    "duration": 280,
    "start_time": "2022-11-03T10:22:35.933Z"
   },
   {
    "duration": 19,
    "start_time": "2022-11-03T10:22:36.215Z"
   },
   {
    "duration": 301,
    "start_time": "2022-11-03T10:22:36.236Z"
   },
   {
    "duration": 417,
    "start_time": "2022-11-03T10:22:36.540Z"
   },
   {
    "duration": 277,
    "start_time": "2022-11-03T10:22:36.959Z"
   },
   {
    "duration": 309,
    "start_time": "2022-11-03T10:22:37.238Z"
   },
   {
    "duration": 316,
    "start_time": "2022-11-03T10:22:37.550Z"
   },
   {
    "duration": 327,
    "start_time": "2022-11-03T10:22:37.867Z"
   },
   {
    "duration": 311,
    "start_time": "2022-11-03T10:22:38.196Z"
   },
   {
    "duration": 837,
    "start_time": "2022-11-03T10:22:38.509Z"
   },
   {
    "duration": 124,
    "start_time": "2022-11-03T10:24:17.241Z"
   },
   {
    "duration": 3,
    "start_time": "2022-11-03T10:24:17.367Z"
   },
   {
    "duration": 22,
    "start_time": "2022-11-03T10:24:17.372Z"
   },
   {
    "duration": 25,
    "start_time": "2022-11-03T10:24:17.396Z"
   },
   {
    "duration": 5,
    "start_time": "2022-11-03T10:24:17.423Z"
   },
   {
    "duration": 9,
    "start_time": "2022-11-03T10:24:17.429Z"
   },
   {
    "duration": 206,
    "start_time": "2022-11-03T10:24:17.440Z"
   },
   {
    "duration": 20,
    "start_time": "2022-11-03T10:24:17.647Z"
   },
   {
    "duration": 293,
    "start_time": "2022-11-03T10:24:17.668Z"
   },
   {
    "duration": 393,
    "start_time": "2022-11-03T10:24:17.963Z"
   },
   {
    "duration": 264,
    "start_time": "2022-11-03T10:24:18.358Z"
   },
   {
    "duration": 304,
    "start_time": "2022-11-03T10:24:18.624Z"
   },
   {
    "duration": 298,
    "start_time": "2022-11-03T10:24:18.929Z"
   },
   {
    "duration": 331,
    "start_time": "2022-11-03T10:24:19.229Z"
   },
   {
    "duration": 311,
    "start_time": "2022-11-03T10:24:19.562Z"
   },
   {
    "duration": 851,
    "start_time": "2022-11-03T10:24:19.875Z"
   },
   {
    "duration": 911,
    "start_time": "2022-11-03T10:24:57.134Z"
   },
   {
    "duration": 9,
    "start_time": "2022-11-03T10:25:33.531Z"
   },
   {
    "duration": 9,
    "start_time": "2022-11-03T10:26:12.624Z"
   },
   {
    "duration": 13,
    "start_time": "2022-11-03T10:27:06.255Z"
   },
   {
    "duration": 17,
    "start_time": "2022-11-03T10:27:22.362Z"
   },
   {
    "duration": 29,
    "start_time": "2022-11-03T10:28:06.246Z"
   },
   {
    "duration": 30,
    "start_time": "2022-11-03T10:28:09.562Z"
   },
   {
    "duration": 39,
    "start_time": "2022-11-03T10:28:23.465Z"
   },
   {
    "duration": 49,
    "start_time": "2022-11-03T10:29:16.694Z"
   },
   {
    "duration": 37,
    "start_time": "2022-11-03T10:29:29.731Z"
   },
   {
    "duration": 410,
    "start_time": "2022-11-03T10:29:38.438Z"
   },
   {
    "duration": 1219,
    "start_time": "2022-11-03T10:30:09.657Z"
   },
   {
    "duration": 394,
    "start_time": "2022-11-03T10:30:28.114Z"
   },
   {
    "duration": 116,
    "start_time": "2022-11-03T10:32:10.537Z"
   },
   {
    "duration": 0,
    "start_time": "2022-11-03T10:32:12.034Z"
   },
   {
    "duration": 0,
    "start_time": "2022-11-03T10:32:12.036Z"
   },
   {
    "duration": 0,
    "start_time": "2022-11-03T10:32:12.039Z"
   },
   {
    "duration": 0,
    "start_time": "2022-11-03T10:32:12.041Z"
   },
   {
    "duration": 0,
    "start_time": "2022-11-03T10:32:12.043Z"
   },
   {
    "duration": 0,
    "start_time": "2022-11-03T10:32:12.045Z"
   },
   {
    "duration": 0,
    "start_time": "2022-11-03T10:32:12.047Z"
   },
   {
    "duration": 0,
    "start_time": "2022-11-03T10:32:12.049Z"
   },
   {
    "duration": 0,
    "start_time": "2022-11-03T10:32:12.051Z"
   },
   {
    "duration": 0,
    "start_time": "2022-11-03T10:32:12.053Z"
   },
   {
    "duration": 0,
    "start_time": "2022-11-03T10:32:12.056Z"
   },
   {
    "duration": 0,
    "start_time": "2022-11-03T10:32:12.058Z"
   },
   {
    "duration": 0,
    "start_time": "2022-11-03T10:32:12.061Z"
   },
   {
    "duration": 0,
    "start_time": "2022-11-03T10:32:12.063Z"
   },
   {
    "duration": 0,
    "start_time": "2022-11-03T10:32:12.066Z"
   },
   {
    "duration": 12,
    "start_time": "2022-11-03T10:32:22.228Z"
   },
   {
    "duration": 12,
    "start_time": "2022-11-03T10:32:32.488Z"
   },
   {
    "duration": 140,
    "start_time": "2022-11-03T10:32:44.365Z"
   },
   {
    "duration": 4,
    "start_time": "2022-11-03T10:32:44.508Z"
   },
   {
    "duration": 12,
    "start_time": "2022-11-03T10:32:44.514Z"
   },
   {
    "duration": 40,
    "start_time": "2022-11-03T10:32:44.528Z"
   },
   {
    "duration": 24,
    "start_time": "2022-11-03T10:32:44.570Z"
   },
   {
    "duration": 6,
    "start_time": "2022-11-03T10:32:44.596Z"
   },
   {
    "duration": 187,
    "start_time": "2022-11-03T10:32:44.604Z"
   },
   {
    "duration": 20,
    "start_time": "2022-11-03T10:32:44.792Z"
   },
   {
    "duration": 277,
    "start_time": "2022-11-03T10:32:44.814Z"
   },
   {
    "duration": 309,
    "start_time": "2022-11-03T10:32:45.092Z"
   },
   {
    "duration": 1837,
    "start_time": "2022-11-03T10:32:45.403Z"
   },
   {
    "duration": 311,
    "start_time": "2022-11-03T10:32:47.242Z"
   },
   {
    "duration": 306,
    "start_time": "2022-11-03T10:32:47.555Z"
   },
   {
    "duration": 320,
    "start_time": "2022-11-03T10:32:47.864Z"
   },
   {
    "duration": 327,
    "start_time": "2022-11-03T10:32:48.186Z"
   },
   {
    "duration": 419,
    "start_time": "2022-11-03T10:32:48.514Z"
   },
   {
    "duration": 131,
    "start_time": "2022-11-03T10:35:56.472Z"
   },
   {
    "duration": 5,
    "start_time": "2022-11-03T10:35:56.612Z"
   },
   {
    "duration": 6,
    "start_time": "2022-11-03T10:35:56.634Z"
   },
   {
    "duration": 33,
    "start_time": "2022-11-03T10:35:56.708Z"
   },
   {
    "duration": 5,
    "start_time": "2022-11-03T10:35:56.750Z"
   },
   {
    "duration": 27,
    "start_time": "2022-11-03T10:35:56.764Z"
   },
   {
    "duration": 162,
    "start_time": "2022-11-03T10:35:56.975Z"
   },
   {
    "duration": 35,
    "start_time": "2022-11-03T10:35:57.157Z"
   },
   {
    "duration": 274,
    "start_time": "2022-11-03T10:35:57.465Z"
   },
   {
    "duration": 331,
    "start_time": "2022-11-03T10:35:58.046Z"
   },
   {
    "duration": 270,
    "start_time": "2022-11-03T10:35:58.715Z"
   },
   {
    "duration": 299,
    "start_time": "2022-11-03T10:35:59.293Z"
   },
   {
    "duration": 290,
    "start_time": "2022-11-03T10:35:59.906Z"
   },
   {
    "duration": 326,
    "start_time": "2022-11-03T10:36:00.535Z"
   },
   {
    "duration": 318,
    "start_time": "2022-11-03T10:36:01.173Z"
   },
   {
    "duration": 399,
    "start_time": "2022-11-03T10:36:02.747Z"
   },
   {
    "duration": 13,
    "start_time": "2022-11-03T10:36:58.452Z"
   },
   {
    "duration": 0,
    "start_time": "2022-11-03T10:39:25.918Z"
   },
   {
    "duration": 0,
    "start_time": "2022-11-03T10:39:25.919Z"
   },
   {
    "duration": 0,
    "start_time": "2022-11-03T10:39:25.921Z"
   },
   {
    "duration": 0,
    "start_time": "2022-11-03T10:39:25.923Z"
   },
   {
    "duration": 0,
    "start_time": "2022-11-03T10:39:25.924Z"
   },
   {
    "duration": 0,
    "start_time": "2022-11-03T10:39:25.926Z"
   },
   {
    "duration": 0,
    "start_time": "2022-11-03T10:39:25.928Z"
   },
   {
    "duration": 0,
    "start_time": "2022-11-03T10:39:25.929Z"
   },
   {
    "duration": 0,
    "start_time": "2022-11-03T10:39:25.931Z"
   },
   {
    "duration": 0,
    "start_time": "2022-11-03T10:39:25.932Z"
   },
   {
    "duration": 1,
    "start_time": "2022-11-03T10:39:25.933Z"
   },
   {
    "duration": 0,
    "start_time": "2022-11-03T10:39:25.935Z"
   },
   {
    "duration": 0,
    "start_time": "2022-11-03T10:39:25.936Z"
   },
   {
    "duration": 0,
    "start_time": "2022-11-03T10:39:25.937Z"
   },
   {
    "duration": 0,
    "start_time": "2022-11-03T10:39:25.938Z"
   },
   {
    "duration": 0,
    "start_time": "2022-11-03T10:39:25.939Z"
   },
   {
    "duration": 99,
    "start_time": "2022-11-03T10:40:13.815Z"
   },
   {
    "duration": 13,
    "start_time": "2022-11-03T10:40:35.315Z"
   },
   {
    "duration": 232,
    "start_time": "2022-11-03T10:40:40.750Z"
   },
   {
    "duration": 50,
    "start_time": "2022-11-03T14:42:19.245Z"
   },
   {
    "duration": 8,
    "start_time": "2022-11-03T14:43:21.522Z"
   },
   {
    "duration": 8,
    "start_time": "2022-11-03T14:43:36.204Z"
   },
   {
    "duration": 1468,
    "start_time": "2022-11-03T14:44:46.466Z"
   },
   {
    "duration": 3,
    "start_time": "2022-11-03T14:44:47.937Z"
   },
   {
    "duration": 13,
    "start_time": "2022-11-03T14:44:47.941Z"
   },
   {
    "duration": 27,
    "start_time": "2022-11-03T14:44:47.956Z"
   },
   {
    "duration": 4,
    "start_time": "2022-11-03T14:44:47.985Z"
   },
   {
    "duration": 8,
    "start_time": "2022-11-03T14:44:47.991Z"
   },
   {
    "duration": 228,
    "start_time": "2022-11-03T14:44:48.000Z"
   },
   {
    "duration": 18,
    "start_time": "2022-11-03T14:44:48.232Z"
   },
   {
    "duration": 369,
    "start_time": "2022-11-03T14:44:48.252Z"
   },
   {
    "duration": 356,
    "start_time": "2022-11-03T14:44:48.624Z"
   },
   {
    "duration": 272,
    "start_time": "2022-11-03T14:44:48.982Z"
   },
   {
    "duration": 306,
    "start_time": "2022-11-03T14:44:49.256Z"
   },
   {
    "duration": 379,
    "start_time": "2022-11-03T14:44:49.564Z"
   },
   {
    "duration": 333,
    "start_time": "2022-11-03T14:44:49.945Z"
   },
   {
    "duration": 311,
    "start_time": "2022-11-03T14:44:50.280Z"
   },
   {
    "duration": 326,
    "start_time": "2022-11-03T14:44:50.593Z"
   },
   {
    "duration": 115,
    "start_time": "2022-11-03T14:45:03.838Z"
   },
   {
    "duration": 4,
    "start_time": "2022-11-03T14:45:03.956Z"
   },
   {
    "duration": 14,
    "start_time": "2022-11-03T14:45:03.962Z"
   },
   {
    "duration": 26,
    "start_time": "2022-11-03T14:45:03.978Z"
   },
   {
    "duration": 5,
    "start_time": "2022-11-03T14:45:04.006Z"
   },
   {
    "duration": 6,
    "start_time": "2022-11-03T14:45:04.035Z"
   },
   {
    "duration": 211,
    "start_time": "2022-11-03T14:45:04.043Z"
   },
   {
    "duration": 26,
    "start_time": "2022-11-03T14:45:04.256Z"
   },
   {
    "duration": 373,
    "start_time": "2022-11-03T14:45:04.284Z"
   },
   {
    "duration": 325,
    "start_time": "2022-11-03T14:45:04.659Z"
   },
   {
    "duration": 289,
    "start_time": "2022-11-03T14:45:04.986Z"
   },
   {
    "duration": 329,
    "start_time": "2022-11-03T14:45:05.277Z"
   },
   {
    "duration": 306,
    "start_time": "2022-11-03T14:45:05.608Z"
   },
   {
    "duration": 357,
    "start_time": "2022-11-03T14:45:05.916Z"
   },
   {
    "duration": 387,
    "start_time": "2022-11-03T14:45:06.275Z"
   },
   {
    "duration": 245,
    "start_time": "2022-11-03T14:45:06.664Z"
   },
   {
    "duration": 300,
    "start_time": "2022-11-03T14:51:32.345Z"
   },
   {
    "duration": 161,
    "start_time": "2022-11-03T14:52:35.936Z"
   },
   {
    "duration": 278,
    "start_time": "2022-11-03T14:53:54.304Z"
   },
   {
    "duration": 90,
    "start_time": "2022-11-03T14:55:29.745Z"
   },
   {
    "duration": 15,
    "start_time": "2022-11-03T14:55:59.412Z"
   },
   {
    "duration": 142,
    "start_time": "2022-11-03T14:56:14.426Z"
   },
   {
    "duration": 4,
    "start_time": "2022-11-03T14:56:14.570Z"
   },
   {
    "duration": 14,
    "start_time": "2022-11-03T14:56:14.576Z"
   },
   {
    "duration": 42,
    "start_time": "2022-11-03T14:56:14.592Z"
   },
   {
    "duration": 6,
    "start_time": "2022-11-03T14:56:14.637Z"
   },
   {
    "duration": 25,
    "start_time": "2022-11-03T14:56:14.644Z"
   },
   {
    "duration": 233,
    "start_time": "2022-11-03T14:56:14.671Z"
   },
   {
    "duration": 28,
    "start_time": "2022-11-03T14:56:14.906Z"
   },
   {
    "duration": 294,
    "start_time": "2022-11-03T14:56:14.936Z"
   },
   {
    "duration": 352,
    "start_time": "2022-11-03T14:56:15.233Z"
   },
   {
    "duration": 297,
    "start_time": "2022-11-03T14:56:15.591Z"
   },
   {
    "duration": 365,
    "start_time": "2022-11-03T14:56:15.890Z"
   },
   {
    "duration": 400,
    "start_time": "2022-11-03T14:56:16.258Z"
   },
   {
    "duration": 337,
    "start_time": "2022-11-03T14:56:16.662Z"
   },
   {
    "duration": 451,
    "start_time": "2022-11-03T14:56:17.001Z"
   },
   {
    "duration": 268,
    "start_time": "2022-11-03T14:56:17.456Z"
   },
   {
    "duration": 15,
    "start_time": "2022-11-03T14:56:17.732Z"
   },
   {
    "duration": 174,
    "start_time": "2022-11-03T14:56:53.881Z"
   },
   {
    "duration": 5,
    "start_time": "2022-11-03T14:56:54.060Z"
   },
   {
    "duration": 14,
    "start_time": "2022-11-03T14:56:54.067Z"
   },
   {
    "duration": 31,
    "start_time": "2022-11-03T14:56:54.082Z"
   },
   {
    "duration": 4,
    "start_time": "2022-11-03T14:56:54.116Z"
   },
   {
    "duration": 20,
    "start_time": "2022-11-03T14:56:54.122Z"
   },
   {
    "duration": 190,
    "start_time": "2022-11-03T14:56:54.143Z"
   },
   {
    "duration": 27,
    "start_time": "2022-11-03T14:56:54.335Z"
   },
   {
    "duration": 306,
    "start_time": "2022-11-03T14:56:54.365Z"
   },
   {
    "duration": 311,
    "start_time": "2022-11-03T14:56:54.673Z"
   },
   {
    "duration": 282,
    "start_time": "2022-11-03T14:56:54.986Z"
   },
   {
    "duration": 318,
    "start_time": "2022-11-03T14:56:55.271Z"
   },
   {
    "duration": 299,
    "start_time": "2022-11-03T14:56:55.592Z"
   },
   {
    "duration": 392,
    "start_time": "2022-11-03T14:56:55.895Z"
   },
   {
    "duration": 416,
    "start_time": "2022-11-03T14:56:56.290Z"
   },
   {
    "duration": 338,
    "start_time": "2022-11-03T14:56:56.708Z"
   },
   {
    "duration": 15,
    "start_time": "2022-11-03T14:56:57.048Z"
   },
   {
    "duration": 122,
    "start_time": "2022-11-03T14:57:14.948Z"
   },
   {
    "duration": 3,
    "start_time": "2022-11-03T14:57:15.073Z"
   },
   {
    "duration": 14,
    "start_time": "2022-11-03T14:57:15.078Z"
   },
   {
    "duration": 52,
    "start_time": "2022-11-03T14:57:15.095Z"
   },
   {
    "duration": 6,
    "start_time": "2022-11-03T14:57:15.150Z"
   },
   {
    "duration": 9,
    "start_time": "2022-11-03T14:57:15.158Z"
   },
   {
    "duration": 194,
    "start_time": "2022-11-03T14:57:15.170Z"
   },
   {
    "duration": 21,
    "start_time": "2022-11-03T14:57:15.366Z"
   },
   {
    "duration": 311,
    "start_time": "2022-11-03T14:57:15.389Z"
   },
   {
    "duration": 338,
    "start_time": "2022-11-03T14:57:15.703Z"
   },
   {
    "duration": 447,
    "start_time": "2022-11-03T14:57:16.043Z"
   },
   {
    "duration": 444,
    "start_time": "2022-11-03T14:57:16.493Z"
   },
   {
    "duration": 470,
    "start_time": "2022-11-03T14:57:16.939Z"
   },
   {
    "duration": 426,
    "start_time": "2022-11-03T14:57:17.413Z"
   },
   {
    "duration": 342,
    "start_time": "2022-11-03T14:57:17.842Z"
   },
   {
    "duration": 250,
    "start_time": "2022-11-03T14:57:18.187Z"
   },
   {
    "duration": 10,
    "start_time": "2022-11-03T14:57:18.439Z"
   },
   {
    "duration": 169,
    "start_time": "2022-11-03T14:57:47.622Z"
   },
   {
    "duration": 4,
    "start_time": "2022-11-03T14:57:47.794Z"
   },
   {
    "duration": 20,
    "start_time": "2022-11-03T14:57:47.800Z"
   },
   {
    "duration": 42,
    "start_time": "2022-11-03T14:57:47.822Z"
   },
   {
    "duration": 7,
    "start_time": "2022-11-03T14:57:47.868Z"
   },
   {
    "duration": 11,
    "start_time": "2022-11-03T14:57:47.877Z"
   },
   {
    "duration": 273,
    "start_time": "2022-11-03T14:57:47.890Z"
   },
   {
    "duration": 27,
    "start_time": "2022-11-03T14:57:48.173Z"
   },
   {
    "duration": 565,
    "start_time": "2022-11-03T14:57:48.203Z"
   },
   {
    "duration": 438,
    "start_time": "2022-11-03T14:57:48.770Z"
   },
   {
    "duration": 385,
    "start_time": "2022-11-03T14:57:49.211Z"
   },
   {
    "duration": 505,
    "start_time": "2022-11-03T14:57:49.601Z"
   },
   {
    "duration": 433,
    "start_time": "2022-11-03T14:57:50.108Z"
   },
   {
    "duration": 473,
    "start_time": "2022-11-03T14:57:50.545Z"
   },
   {
    "duration": 429,
    "start_time": "2022-11-03T14:57:51.020Z"
   },
   {
    "duration": 352,
    "start_time": "2022-11-03T14:57:51.452Z"
   },
   {
    "duration": 14,
    "start_time": "2022-11-03T14:57:51.806Z"
   },
   {
    "duration": 12,
    "start_time": "2022-11-03T15:01:00.729Z"
   },
   {
    "duration": 3,
    "start_time": "2022-11-03T15:01:06.527Z"
   },
   {
    "duration": 7,
    "start_time": "2022-11-03T15:01:12.423Z"
   },
   {
    "duration": 13,
    "start_time": "2022-11-03T15:01:21.011Z"
   },
   {
    "duration": 15,
    "start_time": "2022-11-03T15:01:39.844Z"
   },
   {
    "duration": 237,
    "start_time": "2022-11-03T15:02:14.679Z"
   },
   {
    "duration": 246,
    "start_time": "2022-11-03T15:02:21.273Z"
   },
   {
    "duration": 281,
    "start_time": "2022-11-03T15:02:50.642Z"
   },
   {
    "duration": 13,
    "start_time": "2022-11-03T15:03:27.810Z"
   },
   {
    "duration": 250,
    "start_time": "2022-11-03T15:04:06.751Z"
   },
   {
    "duration": 357,
    "start_time": "2022-11-03T15:04:18.018Z"
   },
   {
    "duration": 155,
    "start_time": "2022-11-03T15:05:21.114Z"
   },
   {
    "duration": 19,
    "start_time": "2022-11-03T15:05:26.183Z"
   },
   {
    "duration": 10,
    "start_time": "2022-11-03T15:06:39.083Z"
   },
   {
    "duration": 82,
    "start_time": "2022-11-03T15:07:27.613Z"
   },
   {
    "duration": 50,
    "start_time": "2022-11-03T15:07:48.453Z"
   },
   {
    "duration": 56,
    "start_time": "2022-11-03T15:08:15.052Z"
   },
   {
    "duration": 61,
    "start_time": "2022-11-03T15:08:23.704Z"
   },
   {
    "duration": 275,
    "start_time": "2022-11-03T15:08:55.289Z"
   },
   {
    "duration": 426,
    "start_time": "2022-11-03T15:09:04.165Z"
   },
   {
    "duration": 50,
    "start_time": "2022-11-03T17:53:27.632Z"
   },
   {
    "duration": 1539,
    "start_time": "2022-11-03T17:53:34.248Z"
   },
   {
    "duration": 3,
    "start_time": "2022-11-03T17:53:35.790Z"
   },
   {
    "duration": 20,
    "start_time": "2022-11-03T17:53:35.795Z"
   },
   {
    "duration": 46,
    "start_time": "2022-11-03T17:53:35.817Z"
   },
   {
    "duration": 5,
    "start_time": "2022-11-03T17:53:35.865Z"
   },
   {
    "duration": 9,
    "start_time": "2022-11-03T17:53:35.872Z"
   },
   {
    "duration": 192,
    "start_time": "2022-11-03T17:53:35.882Z"
   },
   {
    "duration": 19,
    "start_time": "2022-11-03T17:53:36.076Z"
   },
   {
    "duration": 325,
    "start_time": "2022-11-03T17:53:36.097Z"
   },
   {
    "duration": 305,
    "start_time": "2022-11-03T17:53:36.424Z"
   },
   {
    "duration": 278,
    "start_time": "2022-11-03T17:53:36.731Z"
   },
   {
    "duration": 305,
    "start_time": "2022-11-03T17:53:37.011Z"
   },
   {
    "duration": 301,
    "start_time": "2022-11-03T17:53:37.318Z"
   },
   {
    "duration": 319,
    "start_time": "2022-11-03T17:53:37.622Z"
   },
   {
    "duration": 311,
    "start_time": "2022-11-03T17:53:37.943Z"
   },
   {
    "duration": 302,
    "start_time": "2022-11-03T17:53:38.256Z"
   },
   {
    "duration": 265,
    "start_time": "2022-11-03T17:53:38.560Z"
   },
   {
    "duration": 271,
    "start_time": "2022-11-03T17:53:38.827Z"
   },
   {
    "duration": 140,
    "start_time": "2022-11-03T17:59:11.593Z"
   },
   {
    "duration": 4,
    "start_time": "2022-11-03T17:59:11.736Z"
   },
   {
    "duration": 21,
    "start_time": "2022-11-03T17:59:11.753Z"
   },
   {
    "duration": 56,
    "start_time": "2022-11-03T17:59:11.776Z"
   },
   {
    "duration": 20,
    "start_time": "2022-11-03T17:59:11.835Z"
   },
   {
    "duration": 37,
    "start_time": "2022-11-03T17:59:11.857Z"
   },
   {
    "duration": 182,
    "start_time": "2022-11-03T17:59:11.896Z"
   },
   {
    "duration": 17,
    "start_time": "2022-11-03T17:59:12.079Z"
   },
   {
    "duration": 299,
    "start_time": "2022-11-03T17:59:12.098Z"
   },
   {
    "duration": 312,
    "start_time": "2022-11-03T17:59:12.399Z"
   },
   {
    "duration": 249,
    "start_time": "2022-11-03T17:59:12.713Z"
   },
   {
    "duration": 293,
    "start_time": "2022-11-03T17:59:12.964Z"
   },
   {
    "duration": 296,
    "start_time": "2022-11-03T17:59:13.258Z"
   },
   {
    "duration": 315,
    "start_time": "2022-11-03T17:59:13.556Z"
   },
   {
    "duration": 407,
    "start_time": "2022-11-03T17:59:13.873Z"
   },
   {
    "duration": 219,
    "start_time": "2022-11-03T17:59:14.282Z"
   },
   {
    "duration": 261,
    "start_time": "2022-11-03T17:59:14.503Z"
   },
   {
    "duration": 269,
    "start_time": "2022-11-03T17:59:14.766Z"
   },
   {
    "duration": 291,
    "start_time": "2022-11-03T17:59:15.037Z"
   },
   {
    "duration": 50,
    "start_time": "2022-11-03T18:24:46.546Z"
   },
   {
    "duration": 65,
    "start_time": "2022-11-03T18:24:53.153Z"
   },
   {
    "duration": 5,
    "start_time": "2022-11-03T18:25:59.881Z"
   },
   {
    "duration": 7,
    "start_time": "2022-11-03T18:26:32.427Z"
   },
   {
    "duration": 10,
    "start_time": "2022-11-03T18:27:23.637Z"
   },
   {
    "duration": 7,
    "start_time": "2022-11-03T18:27:32.837Z"
   },
   {
    "duration": 10,
    "start_time": "2022-11-03T18:39:51.294Z"
   },
   {
    "duration": 126,
    "start_time": "2022-11-03T18:40:09.391Z"
   },
   {
    "duration": 256,
    "start_time": "2022-11-03T18:41:37.101Z"
   },
   {
    "duration": 533,
    "start_time": "2022-11-03T18:42:53.513Z"
   },
   {
    "duration": 44,
    "start_time": "2022-11-05T18:46:52.618Z"
   },
   {
    "duration": 941,
    "start_time": "2022-11-05T18:46:55.304Z"
   },
   {
    "duration": 3,
    "start_time": "2022-11-05T18:46:56.247Z"
   },
   {
    "duration": 10,
    "start_time": "2022-11-05T18:46:56.252Z"
   },
   {
    "duration": 24,
    "start_time": "2022-11-05T18:46:56.264Z"
   },
   {
    "duration": 5,
    "start_time": "2022-11-05T18:46:56.290Z"
   },
   {
    "duration": 29,
    "start_time": "2022-11-05T18:46:56.296Z"
   },
   {
    "duration": 169,
    "start_time": "2022-11-05T18:46:56.326Z"
   },
   {
    "duration": 26,
    "start_time": "2022-11-05T18:46:56.496Z"
   },
   {
    "duration": 244,
    "start_time": "2022-11-05T18:46:56.524Z"
   },
   {
    "duration": 274,
    "start_time": "2022-11-05T18:46:56.770Z"
   },
   {
    "duration": 39,
    "start_time": "2022-11-05T18:46:57.046Z"
   },
   {
    "duration": 0,
    "start_time": "2022-11-05T18:46:57.087Z"
   },
   {
    "duration": 0,
    "start_time": "2022-11-05T18:46:57.089Z"
   },
   {
    "duration": 0,
    "start_time": "2022-11-05T18:46:57.090Z"
   },
   {
    "duration": 0,
    "start_time": "2022-11-05T18:46:57.092Z"
   },
   {
    "duration": 0,
    "start_time": "2022-11-05T18:46:57.093Z"
   },
   {
    "duration": 0,
    "start_time": "2022-11-05T18:46:57.123Z"
   },
   {
    "duration": 1,
    "start_time": "2022-11-05T18:46:57.124Z"
   },
   {
    "duration": 0,
    "start_time": "2022-11-05T18:46:57.126Z"
   },
   {
    "duration": 0,
    "start_time": "2022-11-05T18:46:57.128Z"
   },
   {
    "duration": 0,
    "start_time": "2022-11-05T18:46:57.129Z"
   },
   {
    "duration": 104,
    "start_time": "2022-11-05T18:47:44.171Z"
   },
   {
    "duration": 3,
    "start_time": "2022-11-05T18:47:44.277Z"
   },
   {
    "duration": 20,
    "start_time": "2022-11-05T18:47:44.282Z"
   },
   {
    "duration": 35,
    "start_time": "2022-11-05T18:47:44.303Z"
   },
   {
    "duration": 4,
    "start_time": "2022-11-05T18:47:44.339Z"
   },
   {
    "duration": 7,
    "start_time": "2022-11-05T18:47:44.345Z"
   },
   {
    "duration": 174,
    "start_time": "2022-11-05T18:47:44.353Z"
   },
   {
    "duration": 18,
    "start_time": "2022-11-05T18:47:44.528Z"
   },
   {
    "duration": 299,
    "start_time": "2022-11-05T18:47:44.548Z"
   },
   {
    "duration": 265,
    "start_time": "2022-11-05T18:47:44.850Z"
   },
   {
    "duration": 10,
    "start_time": "2022-11-05T18:47:45.122Z"
   },
   {
    "duration": 0,
    "start_time": "2022-11-05T18:47:45.133Z"
   },
   {
    "duration": 0,
    "start_time": "2022-11-05T18:47:45.134Z"
   },
   {
    "duration": 0,
    "start_time": "2022-11-05T18:47:45.135Z"
   },
   {
    "duration": 0,
    "start_time": "2022-11-05T18:47:45.137Z"
   },
   {
    "duration": 0,
    "start_time": "2022-11-05T18:47:45.137Z"
   },
   {
    "duration": 0,
    "start_time": "2022-11-05T18:47:45.138Z"
   },
   {
    "duration": 0,
    "start_time": "2022-11-05T18:47:45.139Z"
   },
   {
    "duration": 0,
    "start_time": "2022-11-05T18:47:45.140Z"
   },
   {
    "duration": 0,
    "start_time": "2022-11-05T18:47:45.141Z"
   },
   {
    "duration": 0,
    "start_time": "2022-11-05T18:47:45.142Z"
   },
   {
    "duration": 529,
    "start_time": "2022-11-05T18:48:10.624Z"
   },
   {
    "duration": 3,
    "start_time": "2022-11-05T18:48:11.155Z"
   },
   {
    "duration": 10,
    "start_time": "2022-11-05T18:48:11.159Z"
   },
   {
    "duration": 20,
    "start_time": "2022-11-05T18:48:11.171Z"
   },
   {
    "duration": 4,
    "start_time": "2022-11-05T18:48:11.193Z"
   },
   {
    "duration": 26,
    "start_time": "2022-11-05T18:48:11.198Z"
   },
   {
    "duration": 149,
    "start_time": "2022-11-05T18:48:11.225Z"
   },
   {
    "duration": 17,
    "start_time": "2022-11-05T18:48:11.376Z"
   },
   {
    "duration": 320,
    "start_time": "2022-11-05T18:48:11.394Z"
   },
   {
    "duration": 274,
    "start_time": "2022-11-05T18:48:11.716Z"
   },
   {
    "duration": 251,
    "start_time": "2022-11-05T18:48:11.991Z"
   },
   {
    "duration": 268,
    "start_time": "2022-11-05T18:48:12.244Z"
   },
   {
    "duration": 273,
    "start_time": "2022-11-05T18:48:12.514Z"
   },
   {
    "duration": 281,
    "start_time": "2022-11-05T18:48:12.789Z"
   },
   {
    "duration": 279,
    "start_time": "2022-11-05T18:48:13.072Z"
   },
   {
    "duration": 195,
    "start_time": "2022-11-05T18:48:13.352Z"
   },
   {
    "duration": 242,
    "start_time": "2022-11-05T18:48:13.549Z"
   },
   {
    "duration": 248,
    "start_time": "2022-11-05T18:48:13.793Z"
   },
   {
    "duration": 333,
    "start_time": "2022-11-05T18:48:14.042Z"
   },
   {
    "duration": 475,
    "start_time": "2022-11-05T18:48:14.376Z"
   },
   {
    "duration": 36,
    "start_time": "2022-11-05T18:48:14.853Z"
   },
   {
    "duration": 10,
    "start_time": "2022-11-05T18:48:39.390Z"
   },
   {
    "duration": 13,
    "start_time": "2022-11-05T18:49:01.606Z"
   },
   {
    "duration": 10,
    "start_time": "2022-11-05T18:50:59.429Z"
   },
   {
    "duration": 7,
    "start_time": "2022-11-05T18:51:25.981Z"
   },
   {
    "duration": 106,
    "start_time": "2022-11-05T18:51:30.489Z"
   },
   {
    "duration": 3,
    "start_time": "2022-11-05T18:51:30.598Z"
   },
   {
    "duration": 24,
    "start_time": "2022-11-05T18:51:30.602Z"
   },
   {
    "duration": 31,
    "start_time": "2022-11-05T18:51:30.628Z"
   },
   {
    "duration": 4,
    "start_time": "2022-11-05T18:51:30.661Z"
   },
   {
    "duration": 36,
    "start_time": "2022-11-05T18:51:30.666Z"
   },
   {
    "duration": 178,
    "start_time": "2022-11-05T18:51:30.704Z"
   },
   {
    "duration": 17,
    "start_time": "2022-11-05T18:51:30.884Z"
   },
   {
    "duration": 265,
    "start_time": "2022-11-05T18:51:30.902Z"
   },
   {
    "duration": 275,
    "start_time": "2022-11-05T18:51:31.170Z"
   },
   {
    "duration": 255,
    "start_time": "2022-11-05T18:51:31.447Z"
   },
   {
    "duration": 279,
    "start_time": "2022-11-05T18:51:31.704Z"
   },
   {
    "duration": 273,
    "start_time": "2022-11-05T18:51:31.984Z"
   },
   {
    "duration": 296,
    "start_time": "2022-11-05T18:51:32.258Z"
   },
   {
    "duration": 376,
    "start_time": "2022-11-05T18:51:32.556Z"
   },
   {
    "duration": 220,
    "start_time": "2022-11-05T18:51:32.934Z"
   },
   {
    "duration": 246,
    "start_time": "2022-11-05T18:51:33.156Z"
   },
   {
    "duration": 263,
    "start_time": "2022-11-05T18:51:33.404Z"
   },
   {
    "duration": 257,
    "start_time": "2022-11-05T18:51:33.669Z"
   },
   {
    "duration": 473,
    "start_time": "2022-11-05T18:51:33.928Z"
   },
   {
    "duration": 9,
    "start_time": "2022-11-05T18:51:34.402Z"
   },
   {
    "duration": 1462,
    "start_time": "2022-11-06T13:02:51.358Z"
   },
   {
    "duration": 3,
    "start_time": "2022-11-06T13:02:52.822Z"
   },
   {
    "duration": 11,
    "start_time": "2022-11-06T13:02:52.827Z"
   },
   {
    "duration": 35,
    "start_time": "2022-11-06T13:02:52.839Z"
   },
   {
    "duration": 4,
    "start_time": "2022-11-06T13:02:52.877Z"
   },
   {
    "duration": 9,
    "start_time": "2022-11-06T13:02:52.882Z"
   },
   {
    "duration": 177,
    "start_time": "2022-11-06T13:02:52.892Z"
   },
   {
    "duration": 17,
    "start_time": "2022-11-06T13:02:53.071Z"
   },
   {
    "duration": 287,
    "start_time": "2022-11-06T13:02:53.090Z"
   },
   {
    "duration": 276,
    "start_time": "2022-11-06T13:02:53.379Z"
   },
   {
    "duration": 258,
    "start_time": "2022-11-06T13:02:53.657Z"
   },
   {
    "duration": 294,
    "start_time": "2022-11-06T13:02:53.917Z"
   },
   {
    "duration": 276,
    "start_time": "2022-11-06T13:02:54.213Z"
   },
   {
    "duration": 292,
    "start_time": "2022-11-06T13:02:54.491Z"
   },
   {
    "duration": 352,
    "start_time": "2022-11-06T13:02:54.785Z"
   },
   {
    "duration": 198,
    "start_time": "2022-11-06T13:02:55.139Z"
   },
   {
    "duration": 241,
    "start_time": "2022-11-06T13:02:55.338Z"
   },
   {
    "duration": 258,
    "start_time": "2022-11-06T13:02:55.580Z"
   },
   {
    "duration": 260,
    "start_time": "2022-11-06T13:02:55.840Z"
   },
   {
    "duration": 497,
    "start_time": "2022-11-06T13:02:56.101Z"
   },
   {
    "duration": 14,
    "start_time": "2022-11-06T13:02:56.600Z"
   },
   {
    "duration": 112,
    "start_time": "2022-11-06T13:03:35.307Z"
   },
   {
    "duration": 3,
    "start_time": "2022-11-06T13:03:35.422Z"
   },
   {
    "duration": 13,
    "start_time": "2022-11-06T13:03:35.427Z"
   },
   {
    "duration": 28,
    "start_time": "2022-11-06T13:03:35.443Z"
   },
   {
    "duration": 5,
    "start_time": "2022-11-06T13:03:35.472Z"
   },
   {
    "duration": 7,
    "start_time": "2022-11-06T13:03:35.479Z"
   },
   {
    "duration": 172,
    "start_time": "2022-11-06T13:03:35.488Z"
   },
   {
    "duration": 17,
    "start_time": "2022-11-06T13:03:35.661Z"
   },
   {
    "duration": 257,
    "start_time": "2022-11-06T13:03:35.680Z"
   },
   {
    "duration": 286,
    "start_time": "2022-11-06T13:03:35.941Z"
   },
   {
    "duration": 317,
    "start_time": "2022-11-06T13:03:36.229Z"
   },
   {
    "duration": 287,
    "start_time": "2022-11-06T13:03:36.547Z"
   },
   {
    "duration": 277,
    "start_time": "2022-11-06T13:03:36.836Z"
   },
   {
    "duration": 286,
    "start_time": "2022-11-06T13:03:37.115Z"
   },
   {
    "duration": 297,
    "start_time": "2022-11-06T13:03:37.403Z"
   },
   {
    "duration": 210,
    "start_time": "2022-11-06T13:03:37.701Z"
   },
   {
    "duration": 256,
    "start_time": "2022-11-06T13:03:37.913Z"
   },
   {
    "duration": 269,
    "start_time": "2022-11-06T13:03:38.171Z"
   },
   {
    "duration": 277,
    "start_time": "2022-11-06T13:03:38.442Z"
   },
   {
    "duration": 489,
    "start_time": "2022-11-06T13:03:38.720Z"
   },
   {
    "duration": 8,
    "start_time": "2022-11-06T13:03:39.210Z"
   },
   {
    "duration": 620,
    "start_time": "2022-11-06T13:07:37.961Z"
   },
   {
    "duration": 10,
    "start_time": "2022-11-06T13:08:38.299Z"
   },
   {
    "duration": 11,
    "start_time": "2022-11-06T13:08:50.303Z"
   },
   {
    "duration": 8,
    "start_time": "2022-11-06T13:09:38.577Z"
   },
   {
    "duration": 16,
    "start_time": "2022-11-06T13:11:52.093Z"
   },
   {
    "duration": 12,
    "start_time": "2022-11-06T13:12:40.273Z"
   },
   {
    "duration": 14,
    "start_time": "2022-11-06T13:13:05.523Z"
   },
   {
    "duration": 23,
    "start_time": "2022-11-06T13:13:40.429Z"
   },
   {
    "duration": 22,
    "start_time": "2022-11-06T13:14:08.688Z"
   },
   {
    "duration": 13,
    "start_time": "2022-11-06T13:14:15.708Z"
   },
   {
    "duration": 14,
    "start_time": "2022-11-06T13:14:36.066Z"
   },
   {
    "duration": 14,
    "start_time": "2022-11-06T13:14:47.004Z"
   },
   {
    "duration": 16,
    "start_time": "2022-11-06T13:15:16.032Z"
   },
   {
    "duration": 11,
    "start_time": "2022-11-06T13:15:44.218Z"
   },
   {
    "duration": 16,
    "start_time": "2022-11-06T13:16:02.227Z"
   },
   {
    "duration": 11,
    "start_time": "2022-11-06T13:16:28.592Z"
   },
   {
    "duration": 11,
    "start_time": "2022-11-06T13:16:37.519Z"
   },
   {
    "duration": 134,
    "start_time": "2022-11-06T13:28:51.580Z"
   },
   {
    "duration": 32,
    "start_time": "2022-11-06T13:29:07.809Z"
   },
   {
    "duration": 137,
    "start_time": "2022-11-06T13:29:19.181Z"
   },
   {
    "duration": 3,
    "start_time": "2022-11-06T13:29:19.320Z"
   },
   {
    "duration": 17,
    "start_time": "2022-11-06T13:29:19.324Z"
   },
   {
    "duration": 25,
    "start_time": "2022-11-06T13:29:19.344Z"
   },
   {
    "duration": 5,
    "start_time": "2022-11-06T13:29:19.371Z"
   },
   {
    "duration": 15,
    "start_time": "2022-11-06T13:29:19.377Z"
   },
   {
    "duration": 182,
    "start_time": "2022-11-06T13:29:19.394Z"
   },
   {
    "duration": 33,
    "start_time": "2022-11-06T13:29:19.578Z"
   },
   {
    "duration": 399,
    "start_time": "2022-11-06T13:29:19.613Z"
   },
   {
    "duration": 297,
    "start_time": "2022-11-06T13:29:20.014Z"
   },
   {
    "duration": 265,
    "start_time": "2022-11-06T13:29:20.313Z"
   },
   {
    "duration": 297,
    "start_time": "2022-11-06T13:29:20.580Z"
   },
   {
    "duration": 291,
    "start_time": "2022-11-06T13:29:20.879Z"
   },
   {
    "duration": 302,
    "start_time": "2022-11-06T13:29:21.172Z"
   },
   {
    "duration": 291,
    "start_time": "2022-11-06T13:29:21.476Z"
   },
   {
    "duration": 207,
    "start_time": "2022-11-06T13:29:21.768Z"
   },
   {
    "duration": 256,
    "start_time": "2022-11-06T13:29:21.977Z"
   },
   {
    "duration": 300,
    "start_time": "2022-11-06T13:29:22.236Z"
   },
   {
    "duration": 321,
    "start_time": "2022-11-06T13:29:22.537Z"
   },
   {
    "duration": 600,
    "start_time": "2022-11-06T13:29:22.860Z"
   },
   {
    "duration": 16,
    "start_time": "2022-11-06T13:29:23.461Z"
   },
   {
    "duration": 15,
    "start_time": "2022-11-06T13:29:54.280Z"
   },
   {
    "duration": 25,
    "start_time": "2022-11-06T13:31:10.009Z"
   },
   {
    "duration": 116,
    "start_time": "2022-11-06T13:31:11.952Z"
   },
   {
    "duration": 4,
    "start_time": "2022-11-06T13:31:12.070Z"
   },
   {
    "duration": 11,
    "start_time": "2022-11-06T13:31:12.076Z"
   },
   {
    "duration": 37,
    "start_time": "2022-11-06T13:31:12.089Z"
   },
   {
    "duration": 5,
    "start_time": "2022-11-06T13:31:12.129Z"
   },
   {
    "duration": 11,
    "start_time": "2022-11-06T13:31:12.136Z"
   },
   {
    "duration": 172,
    "start_time": "2022-11-06T13:31:12.149Z"
   },
   {
    "duration": 18,
    "start_time": "2022-11-06T13:31:12.323Z"
   },
   {
    "duration": 306,
    "start_time": "2022-11-06T13:31:12.343Z"
   },
   {
    "duration": 360,
    "start_time": "2022-11-06T13:31:12.652Z"
   },
   {
    "duration": 270,
    "start_time": "2022-11-06T13:31:13.014Z"
   },
   {
    "duration": 306,
    "start_time": "2022-11-06T13:31:13.286Z"
   },
   {
    "duration": 332,
    "start_time": "2022-11-06T13:31:13.594Z"
   },
   {
    "duration": 339,
    "start_time": "2022-11-06T13:31:13.928Z"
   },
   {
    "duration": 322,
    "start_time": "2022-11-06T13:31:14.269Z"
   },
   {
    "duration": 228,
    "start_time": "2022-11-06T13:31:14.593Z"
   },
   {
    "duration": 376,
    "start_time": "2022-11-06T13:31:14.824Z"
   },
   {
    "duration": 279,
    "start_time": "2022-11-06T13:31:15.202Z"
   },
   {
    "duration": 287,
    "start_time": "2022-11-06T13:31:15.482Z"
   },
   {
    "duration": 510,
    "start_time": "2022-11-06T13:31:15.771Z"
   },
   {
    "duration": 36,
    "start_time": "2022-11-06T13:31:16.283Z"
   },
   {
    "duration": 117,
    "start_time": "2022-11-06T13:31:27.361Z"
   },
   {
    "duration": 3,
    "start_time": "2022-11-06T13:31:27.480Z"
   },
   {
    "duration": 14,
    "start_time": "2022-11-06T13:31:27.485Z"
   },
   {
    "duration": 30,
    "start_time": "2022-11-06T13:31:27.502Z"
   },
   {
    "duration": 6,
    "start_time": "2022-11-06T13:31:27.534Z"
   },
   {
    "duration": 9,
    "start_time": "2022-11-06T13:31:27.541Z"
   },
   {
    "duration": 178,
    "start_time": "2022-11-06T13:31:27.551Z"
   },
   {
    "duration": 18,
    "start_time": "2022-11-06T13:31:27.731Z"
   },
   {
    "duration": 285,
    "start_time": "2022-11-06T13:31:27.751Z"
   },
   {
    "duration": 305,
    "start_time": "2022-11-06T13:31:28.038Z"
   },
   {
    "duration": 267,
    "start_time": "2022-11-06T13:31:28.345Z"
   },
   {
    "duration": 297,
    "start_time": "2022-11-06T13:31:28.615Z"
   },
   {
    "duration": 290,
    "start_time": "2022-11-06T13:31:28.913Z"
   },
   {
    "duration": 309,
    "start_time": "2022-11-06T13:31:29.205Z"
   },
   {
    "duration": 404,
    "start_time": "2022-11-06T13:31:29.516Z"
   },
   {
    "duration": 221,
    "start_time": "2022-11-06T13:31:29.923Z"
   },
   {
    "duration": 256,
    "start_time": "2022-11-06T13:31:30.146Z"
   },
   {
    "duration": 290,
    "start_time": "2022-11-06T13:31:30.403Z"
   },
   {
    "duration": 311,
    "start_time": "2022-11-06T13:31:30.696Z"
   },
   {
    "duration": 503,
    "start_time": "2022-11-06T13:31:31.009Z"
   },
   {
    "duration": 14,
    "start_time": "2022-11-06T13:31:31.514Z"
   },
   {
    "duration": 128,
    "start_time": "2022-11-06T13:41:43.010Z"
   },
   {
    "duration": 4,
    "start_time": "2022-11-06T13:41:43.141Z"
   },
   {
    "duration": 17,
    "start_time": "2022-11-06T13:41:43.147Z"
   },
   {
    "duration": 37,
    "start_time": "2022-11-06T13:41:43.165Z"
   },
   {
    "duration": 5,
    "start_time": "2022-11-06T13:41:43.210Z"
   },
   {
    "duration": 20,
    "start_time": "2022-11-06T13:41:43.217Z"
   },
   {
    "duration": 169,
    "start_time": "2022-11-06T13:41:43.239Z"
   },
   {
    "duration": 24,
    "start_time": "2022-11-06T13:41:43.409Z"
   },
   {
    "duration": 269,
    "start_time": "2022-11-06T13:41:43.434Z"
   },
   {
    "duration": 325,
    "start_time": "2022-11-06T13:41:43.705Z"
   },
   {
    "duration": 275,
    "start_time": "2022-11-06T13:41:44.032Z"
   },
   {
    "duration": 317,
    "start_time": "2022-11-06T13:41:44.308Z"
   },
   {
    "duration": 291,
    "start_time": "2022-11-06T13:41:44.627Z"
   },
   {
    "duration": 420,
    "start_time": "2022-11-06T13:41:44.923Z"
   },
   {
    "duration": 297,
    "start_time": "2022-11-06T13:41:45.344Z"
   },
   {
    "duration": 216,
    "start_time": "2022-11-06T13:41:45.643Z"
   },
   {
    "duration": 265,
    "start_time": "2022-11-06T13:41:45.860Z"
   },
   {
    "duration": 275,
    "start_time": "2022-11-06T13:41:46.127Z"
   },
   {
    "duration": 291,
    "start_time": "2022-11-06T13:41:46.404Z"
   },
   {
    "duration": 534,
    "start_time": "2022-11-06T13:41:46.696Z"
   },
   {
    "duration": 12,
    "start_time": "2022-11-06T13:41:47.231Z"
   },
   {
    "duration": 12,
    "start_time": "2022-11-06T13:41:47.244Z"
   },
   {
    "duration": 117,
    "start_time": "2022-11-06T13:42:59.668Z"
   },
   {
    "duration": 3,
    "start_time": "2022-11-06T13:42:59.787Z"
   },
   {
    "duration": 21,
    "start_time": "2022-11-06T13:42:59.792Z"
   },
   {
    "duration": 28,
    "start_time": "2022-11-06T13:42:59.815Z"
   },
   {
    "duration": 4,
    "start_time": "2022-11-06T13:42:59.845Z"
   },
   {
    "duration": 7,
    "start_time": "2022-11-06T13:42:59.850Z"
   },
   {
    "duration": 182,
    "start_time": "2022-11-06T13:42:59.859Z"
   },
   {
    "duration": 18,
    "start_time": "2022-11-06T13:43:00.043Z"
   },
   {
    "duration": 283,
    "start_time": "2022-11-06T13:43:00.062Z"
   },
   {
    "duration": 302,
    "start_time": "2022-11-06T13:43:00.348Z"
   },
   {
    "duration": 271,
    "start_time": "2022-11-06T13:43:00.652Z"
   },
   {
    "duration": 311,
    "start_time": "2022-11-06T13:43:00.927Z"
   },
   {
    "duration": 284,
    "start_time": "2022-11-06T13:43:01.239Z"
   },
   {
    "duration": 324,
    "start_time": "2022-11-06T13:43:01.526Z"
   },
   {
    "duration": 443,
    "start_time": "2022-11-06T13:43:01.852Z"
   },
   {
    "duration": 227,
    "start_time": "2022-11-06T13:43:02.297Z"
   },
   {
    "duration": 330,
    "start_time": "2022-11-06T13:43:02.526Z"
   },
   {
    "duration": 292,
    "start_time": "2022-11-06T13:43:02.858Z"
   },
   {
    "duration": 307,
    "start_time": "2022-11-06T13:43:03.152Z"
   },
   {
    "duration": 536,
    "start_time": "2022-11-06T13:43:03.461Z"
   },
   {
    "duration": 23,
    "start_time": "2022-11-06T13:43:03.998Z"
   },
   {
    "duration": 13,
    "start_time": "2022-11-06T13:43:04.023Z"
   },
   {
    "duration": 111,
    "start_time": "2022-11-06T13:44:05.844Z"
   },
   {
    "duration": 3,
    "start_time": "2022-11-06T13:44:05.957Z"
   },
   {
    "duration": 18,
    "start_time": "2022-11-06T13:44:05.961Z"
   },
   {
    "duration": 28,
    "start_time": "2022-11-06T13:44:05.981Z"
   },
   {
    "duration": 5,
    "start_time": "2022-11-06T13:44:06.011Z"
   },
   {
    "duration": 15,
    "start_time": "2022-11-06T13:44:06.018Z"
   },
   {
    "duration": 162,
    "start_time": "2022-11-06T13:44:06.035Z"
   },
   {
    "duration": 21,
    "start_time": "2022-11-06T13:44:06.199Z"
   },
   {
    "duration": 272,
    "start_time": "2022-11-06T13:44:06.221Z"
   },
   {
    "duration": 313,
    "start_time": "2022-11-06T13:44:06.495Z"
   },
   {
    "duration": 278,
    "start_time": "2022-11-06T13:44:06.810Z"
   },
   {
    "duration": 315,
    "start_time": "2022-11-06T13:44:07.090Z"
   },
   {
    "duration": 301,
    "start_time": "2022-11-06T13:44:07.408Z"
   },
   {
    "duration": 308,
    "start_time": "2022-11-06T13:44:07.712Z"
   },
   {
    "duration": 338,
    "start_time": "2022-11-06T13:44:08.023Z"
   },
   {
    "duration": 216,
    "start_time": "2022-11-06T13:44:08.362Z"
   },
   {
    "duration": 409,
    "start_time": "2022-11-06T13:44:08.580Z"
   },
   {
    "duration": 282,
    "start_time": "2022-11-06T13:44:08.991Z"
   },
   {
    "duration": 282,
    "start_time": "2022-11-06T13:44:09.275Z"
   },
   {
    "duration": 518,
    "start_time": "2022-11-06T13:44:09.559Z"
   },
   {
    "duration": 13,
    "start_time": "2022-11-06T13:44:10.079Z"
   },
   {
    "duration": 25,
    "start_time": "2022-11-06T13:44:10.094Z"
   },
   {
    "duration": 123,
    "start_time": "2022-11-06T13:45:48.748Z"
   },
   {
    "duration": 3,
    "start_time": "2022-11-06T13:45:48.873Z"
   },
   {
    "duration": 11,
    "start_time": "2022-11-06T13:45:48.878Z"
   },
   {
    "duration": 35,
    "start_time": "2022-11-06T13:45:48.890Z"
   },
   {
    "duration": 4,
    "start_time": "2022-11-06T13:45:48.927Z"
   },
   {
    "duration": 7,
    "start_time": "2022-11-06T13:45:48.933Z"
   },
   {
    "duration": 163,
    "start_time": "2022-11-06T13:45:48.942Z"
   },
   {
    "duration": 19,
    "start_time": "2022-11-06T13:45:49.108Z"
   },
   {
    "duration": 276,
    "start_time": "2022-11-06T13:45:49.128Z"
   },
   {
    "duration": 304,
    "start_time": "2022-11-06T13:45:49.409Z"
   },
   {
    "duration": 265,
    "start_time": "2022-11-06T13:45:49.714Z"
   },
   {
    "duration": 330,
    "start_time": "2022-11-06T13:45:49.981Z"
   },
   {
    "duration": 442,
    "start_time": "2022-11-06T13:45:50.314Z"
   },
   {
    "duration": 319,
    "start_time": "2022-11-06T13:45:50.760Z"
   },
   {
    "duration": 311,
    "start_time": "2022-11-06T13:45:51.081Z"
   },
   {
    "duration": 224,
    "start_time": "2022-11-06T13:45:51.394Z"
   },
   {
    "duration": 252,
    "start_time": "2022-11-06T13:45:51.620Z"
   },
   {
    "duration": 270,
    "start_time": "2022-11-06T13:45:51.873Z"
   },
   {
    "duration": 324,
    "start_time": "2022-11-06T13:45:52.145Z"
   },
   {
    "duration": 706,
    "start_time": "2022-11-06T13:45:52.471Z"
   },
   {
    "duration": 12,
    "start_time": "2022-11-06T13:45:53.178Z"
   },
   {
    "duration": 22,
    "start_time": "2022-11-06T13:45:53.192Z"
   },
   {
    "duration": 13,
    "start_time": "2022-11-06T13:46:56.287Z"
   },
   {
    "duration": 110,
    "start_time": "2022-11-06T13:47:22.892Z"
   },
   {
    "duration": 5,
    "start_time": "2022-11-06T13:47:23.004Z"
   },
   {
    "duration": 11,
    "start_time": "2022-11-06T13:47:23.010Z"
   },
   {
    "duration": 31,
    "start_time": "2022-11-06T13:47:23.023Z"
   },
   {
    "duration": 5,
    "start_time": "2022-11-06T13:47:23.056Z"
   },
   {
    "duration": 33,
    "start_time": "2022-11-06T13:47:23.063Z"
   },
   {
    "duration": 178,
    "start_time": "2022-11-06T13:47:23.099Z"
   },
   {
    "duration": 29,
    "start_time": "2022-11-06T13:47:23.279Z"
   },
   {
    "duration": 265,
    "start_time": "2022-11-06T13:47:23.310Z"
   },
   {
    "duration": 297,
    "start_time": "2022-11-06T13:47:23.577Z"
   },
   {
    "duration": 258,
    "start_time": "2022-11-06T13:47:23.876Z"
   },
   {
    "duration": 295,
    "start_time": "2022-11-06T13:47:24.136Z"
   },
   {
    "duration": 277,
    "start_time": "2022-11-06T13:47:24.432Z"
   },
   {
    "duration": 306,
    "start_time": "2022-11-06T13:47:24.713Z"
   },
   {
    "duration": 299,
    "start_time": "2022-11-06T13:47:25.021Z"
   },
   {
    "duration": 210,
    "start_time": "2022-11-06T13:47:25.322Z"
   },
   {
    "duration": 249,
    "start_time": "2022-11-06T13:47:25.534Z"
   },
   {
    "duration": 269,
    "start_time": "2022-11-06T13:47:25.786Z"
   },
   {
    "duration": 274,
    "start_time": "2022-11-06T13:47:26.057Z"
   },
   {
    "duration": 520,
    "start_time": "2022-11-06T13:47:26.333Z"
   },
   {
    "duration": 14,
    "start_time": "2022-11-06T13:47:26.855Z"
   },
   {
    "duration": 41,
    "start_time": "2022-11-06T13:47:26.870Z"
   },
   {
    "duration": 55,
    "start_time": "2022-11-06T14:57:06.370Z"
   },
   {
    "duration": 48,
    "start_time": "2022-11-09T11:38:09.418Z"
   },
   {
    "duration": 1151,
    "start_time": "2022-11-09T11:38:23.094Z"
   },
   {
    "duration": 3,
    "start_time": "2022-11-09T11:38:24.246Z"
   },
   {
    "duration": 13,
    "start_time": "2022-11-09T11:38:24.250Z"
   },
   {
    "duration": 30,
    "start_time": "2022-11-09T11:38:24.264Z"
   },
   {
    "duration": 6,
    "start_time": "2022-11-09T11:38:24.295Z"
   },
   {
    "duration": 8,
    "start_time": "2022-11-09T11:38:24.303Z"
   },
   {
    "duration": 25,
    "start_time": "2022-11-09T11:38:24.313Z"
   },
   {
    "duration": 183,
    "start_time": "2022-11-09T11:38:24.340Z"
   },
   {
    "duration": 19,
    "start_time": "2022-11-09T11:38:24.525Z"
   },
   {
    "duration": 295,
    "start_time": "2022-11-09T11:38:24.546Z"
   },
   {
    "duration": 284,
    "start_time": "2022-11-09T11:38:24.842Z"
   },
   {
    "duration": 256,
    "start_time": "2022-11-09T11:38:25.132Z"
   },
   {
    "duration": 286,
    "start_time": "2022-11-09T11:38:25.390Z"
   },
   {
    "duration": 285,
    "start_time": "2022-11-09T11:38:25.678Z"
   },
   {
    "duration": 319,
    "start_time": "2022-11-09T11:38:25.965Z"
   },
   {
    "duration": 484,
    "start_time": "2022-11-09T11:38:26.285Z"
   },
   {
    "duration": 245,
    "start_time": "2022-11-09T11:38:26.771Z"
   },
   {
    "duration": 249,
    "start_time": "2022-11-09T11:38:27.018Z"
   },
   {
    "duration": 279,
    "start_time": "2022-11-09T11:38:27.269Z"
   },
   {
    "duration": 272,
    "start_time": "2022-11-09T11:38:27.550Z"
   },
   {
    "duration": 510,
    "start_time": "2022-11-09T11:38:27.824Z"
   },
   {
    "duration": 11,
    "start_time": "2022-11-09T11:38:28.336Z"
   },
   {
    "duration": 12,
    "start_time": "2022-11-09T11:38:28.349Z"
   },
   {
    "duration": 119,
    "start_time": "2022-11-09T11:47:51.143Z"
   },
   {
    "duration": 3,
    "start_time": "2022-11-09T11:47:51.264Z"
   },
   {
    "duration": 13,
    "start_time": "2022-11-09T11:47:51.268Z"
   },
   {
    "duration": 27,
    "start_time": "2022-11-09T11:47:51.283Z"
   },
   {
    "duration": 5,
    "start_time": "2022-11-09T11:47:51.311Z"
   },
   {
    "duration": 18,
    "start_time": "2022-11-09T11:47:51.317Z"
   },
   {
    "duration": 18,
    "start_time": "2022-11-09T11:47:51.337Z"
   },
   {
    "duration": 190,
    "start_time": "2022-11-09T11:47:51.356Z"
   },
   {
    "duration": 16,
    "start_time": "2022-11-09T11:47:51.548Z"
   },
   {
    "duration": 276,
    "start_time": "2022-11-09T11:47:51.567Z"
   },
   {
    "duration": 292,
    "start_time": "2022-11-09T11:47:51.844Z"
   },
   {
    "duration": 325,
    "start_time": "2022-11-09T11:47:52.137Z"
   },
   {
    "duration": 303,
    "start_time": "2022-11-09T11:47:52.464Z"
   },
   {
    "duration": 286,
    "start_time": "2022-11-09T11:47:52.769Z"
   },
   {
    "duration": 298,
    "start_time": "2022-11-09T11:47:53.056Z"
   },
   {
    "duration": 295,
    "start_time": "2022-11-09T11:47:53.356Z"
   },
   {
    "duration": 222,
    "start_time": "2022-11-09T11:47:53.653Z"
   },
   {
    "duration": 250,
    "start_time": "2022-11-09T11:47:53.877Z"
   },
   {
    "duration": 264,
    "start_time": "2022-11-09T11:47:54.132Z"
   },
   {
    "duration": 294,
    "start_time": "2022-11-09T11:47:54.397Z"
   },
   {
    "duration": 496,
    "start_time": "2022-11-09T11:47:54.692Z"
   },
   {
    "duration": 12,
    "start_time": "2022-11-09T11:47:55.190Z"
   },
   {
    "duration": 16,
    "start_time": "2022-11-09T11:47:55.203Z"
   },
   {
    "duration": 111,
    "start_time": "2022-11-09T12:01:55.867Z"
   },
   {
    "duration": 3,
    "start_time": "2022-11-09T12:01:55.980Z"
   },
   {
    "duration": 12,
    "start_time": "2022-11-09T12:01:55.985Z"
   },
   {
    "duration": 33,
    "start_time": "2022-11-09T12:01:55.999Z"
   },
   {
    "duration": 5,
    "start_time": "2022-11-09T12:01:56.033Z"
   },
   {
    "duration": 6,
    "start_time": "2022-11-09T12:01:56.040Z"
   },
   {
    "duration": 9,
    "start_time": "2022-11-09T12:01:56.048Z"
   },
   {
    "duration": 202,
    "start_time": "2022-11-09T12:01:56.059Z"
   },
   {
    "duration": 343,
    "start_time": "2022-11-09T12:01:56.262Z"
   },
   {
    "duration": 0,
    "start_time": "2022-11-09T12:01:56.607Z"
   },
   {
    "duration": 0,
    "start_time": "2022-11-09T12:01:56.609Z"
   },
   {
    "duration": 0,
    "start_time": "2022-11-09T12:01:56.610Z"
   },
   {
    "duration": 0,
    "start_time": "2022-11-09T12:01:56.611Z"
   },
   {
    "duration": 0,
    "start_time": "2022-11-09T12:01:56.613Z"
   },
   {
    "duration": 0,
    "start_time": "2022-11-09T12:01:56.614Z"
   },
   {
    "duration": 0,
    "start_time": "2022-11-09T12:01:56.615Z"
   },
   {
    "duration": 0,
    "start_time": "2022-11-09T12:01:56.616Z"
   },
   {
    "duration": 0,
    "start_time": "2022-11-09T12:01:56.617Z"
   },
   {
    "duration": 0,
    "start_time": "2022-11-09T12:01:56.618Z"
   },
   {
    "duration": 0,
    "start_time": "2022-11-09T12:01:56.633Z"
   },
   {
    "duration": 0,
    "start_time": "2022-11-09T12:01:56.633Z"
   },
   {
    "duration": 0,
    "start_time": "2022-11-09T12:01:56.635Z"
   },
   {
    "duration": 0,
    "start_time": "2022-11-09T12:01:56.636Z"
   },
   {
    "duration": 0,
    "start_time": "2022-11-09T12:01:56.637Z"
   },
   {
    "duration": 151,
    "start_time": "2022-11-09T12:02:46.605Z"
   },
   {
    "duration": 3,
    "start_time": "2022-11-09T12:02:46.759Z"
   },
   {
    "duration": 22,
    "start_time": "2022-11-09T12:02:46.764Z"
   },
   {
    "duration": 50,
    "start_time": "2022-11-09T12:02:46.788Z"
   },
   {
    "duration": 13,
    "start_time": "2022-11-09T12:02:46.840Z"
   },
   {
    "duration": 16,
    "start_time": "2022-11-09T12:02:46.855Z"
   },
   {
    "duration": 26,
    "start_time": "2022-11-09T12:02:46.872Z"
   },
   {
    "duration": 191,
    "start_time": "2022-11-09T12:02:46.900Z"
   },
   {
    "duration": 134,
    "start_time": "2022-11-09T12:02:47.092Z"
   },
   {
    "duration": 22,
    "start_time": "2022-11-09T12:02:47.232Z"
   },
   {
    "duration": 276,
    "start_time": "2022-11-09T12:02:47.256Z"
   },
   {
    "duration": 308,
    "start_time": "2022-11-09T12:02:47.534Z"
   },
   {
    "duration": 268,
    "start_time": "2022-11-09T12:02:47.844Z"
   },
   {
    "duration": 312,
    "start_time": "2022-11-09T12:02:48.114Z"
   },
   {
    "duration": 308,
    "start_time": "2022-11-09T12:02:48.433Z"
   },
   {
    "duration": 315,
    "start_time": "2022-11-09T12:02:48.743Z"
   },
   {
    "duration": 289,
    "start_time": "2022-11-09T12:02:49.060Z"
   },
   {
    "duration": 223,
    "start_time": "2022-11-09T12:02:49.351Z"
   },
   {
    "duration": 350,
    "start_time": "2022-11-09T12:02:49.576Z"
   },
   {
    "duration": 275,
    "start_time": "2022-11-09T12:02:49.933Z"
   },
   {
    "duration": 288,
    "start_time": "2022-11-09T12:02:50.210Z"
   },
   {
    "duration": 518,
    "start_time": "2022-11-09T12:02:50.500Z"
   },
   {
    "duration": 19,
    "start_time": "2022-11-09T12:02:51.020Z"
   },
   {
    "duration": 12,
    "start_time": "2022-11-09T12:02:51.041Z"
   },
   {
    "duration": 119,
    "start_time": "2022-11-09T12:04:17.163Z"
   },
   {
    "duration": 116,
    "start_time": "2022-11-09T12:05:25.330Z"
   },
   {
    "duration": 9,
    "start_time": "2022-11-09T12:05:58.373Z"
   },
   {
    "duration": 463,
    "start_time": "2022-11-09T12:06:14.481Z"
   },
   {
    "duration": 119,
    "start_time": "2022-11-09T12:07:13.889Z"
   },
   {
    "duration": 144,
    "start_time": "2022-11-09T12:08:38.001Z"
   },
   {
    "duration": 123,
    "start_time": "2022-11-09T12:09:13.192Z"
   },
   {
    "duration": 434,
    "start_time": "2022-11-09T12:10:02.980Z"
   },
   {
    "duration": 14,
    "start_time": "2022-11-09T12:11:27.520Z"
   },
   {
    "duration": 105,
    "start_time": "2022-11-09T12:12:22.847Z"
   },
   {
    "duration": 112,
    "start_time": "2022-11-09T12:13:22.755Z"
   },
   {
    "duration": 216,
    "start_time": "2022-11-09T12:13:32.366Z"
   },
   {
    "duration": 135,
    "start_time": "2022-11-09T12:15:12.331Z"
   },
   {
    "duration": 105,
    "start_time": "2022-11-09T12:16:51.258Z"
   },
   {
    "duration": 117,
    "start_time": "2022-11-09T12:18:19.237Z"
   },
   {
    "duration": 123,
    "start_time": "2022-11-09T12:18:33.817Z"
   },
   {
    "duration": 390,
    "start_time": "2022-11-09T13:04:03.570Z"
   },
   {
    "duration": 399,
    "start_time": "2022-11-09T13:04:32.850Z"
   },
   {
    "duration": 160,
    "start_time": "2022-11-09T13:06:31.462Z"
   },
   {
    "duration": 152,
    "start_time": "2022-11-09T13:07:40.474Z"
   },
   {
    "duration": 173,
    "start_time": "2022-11-09T13:08:00.833Z"
   },
   {
    "duration": 181,
    "start_time": "2022-11-09T13:09:55.270Z"
   },
   {
    "duration": 221,
    "start_time": "2022-11-09T13:09:59.231Z"
   },
   {
    "duration": 4,
    "start_time": "2022-11-09T13:09:59.454Z"
   },
   {
    "duration": 13,
    "start_time": "2022-11-09T13:09:59.460Z"
   },
   {
    "duration": 28,
    "start_time": "2022-11-09T13:09:59.476Z"
   },
   {
    "duration": 6,
    "start_time": "2022-11-09T13:09:59.505Z"
   },
   {
    "duration": 21,
    "start_time": "2022-11-09T13:09:59.512Z"
   },
   {
    "duration": 15,
    "start_time": "2022-11-09T13:09:59.535Z"
   },
   {
    "duration": 200,
    "start_time": "2022-11-09T13:09:59.551Z"
   },
   {
    "duration": 138,
    "start_time": "2022-11-09T13:09:59.753Z"
   },
   {
    "duration": 18,
    "start_time": "2022-11-09T13:09:59.895Z"
   },
   {
    "duration": 284,
    "start_time": "2022-11-09T13:09:59.915Z"
   },
   {
    "duration": 323,
    "start_time": "2022-11-09T13:10:00.200Z"
   },
   {
    "duration": 283,
    "start_time": "2022-11-09T13:10:00.525Z"
   },
   {
    "duration": 333,
    "start_time": "2022-11-09T13:10:00.810Z"
   },
   {
    "duration": 329,
    "start_time": "2022-11-09T13:10:01.145Z"
   },
   {
    "duration": 318,
    "start_time": "2022-11-09T13:10:01.476Z"
   },
   {
    "duration": 292,
    "start_time": "2022-11-09T13:10:01.795Z"
   },
   {
    "duration": 220,
    "start_time": "2022-11-09T13:10:02.089Z"
   },
   {
    "duration": 188,
    "start_time": "2022-11-09T13:10:02.310Z"
   },
   {
    "duration": 288,
    "start_time": "2022-11-09T13:10:02.500Z"
   },
   {
    "duration": 279,
    "start_time": "2022-11-09T13:10:02.790Z"
   },
   {
    "duration": 411,
    "start_time": "2022-11-09T13:10:03.071Z"
   },
   {
    "duration": 520,
    "start_time": "2022-11-09T13:10:03.485Z"
   },
   {
    "duration": 12,
    "start_time": "2022-11-09T13:10:04.007Z"
   },
   {
    "duration": 12,
    "start_time": "2022-11-09T13:10:04.033Z"
   },
   {
    "duration": 107,
    "start_time": "2022-11-09T13:28:25.188Z"
   },
   {
    "duration": 2,
    "start_time": "2022-11-09T13:28:25.297Z"
   },
   {
    "duration": 24,
    "start_time": "2022-11-09T13:28:25.301Z"
   },
   {
    "duration": 29,
    "start_time": "2022-11-09T13:28:25.327Z"
   },
   {
    "duration": 3,
    "start_time": "2022-11-09T13:28:25.358Z"
   },
   {
    "duration": 14,
    "start_time": "2022-11-09T13:28:25.363Z"
   },
   {
    "duration": 41,
    "start_time": "2022-11-09T13:28:25.378Z"
   },
   {
    "duration": 192,
    "start_time": "2022-11-09T13:28:25.421Z"
   },
   {
    "duration": 128,
    "start_time": "2022-11-09T13:28:25.615Z"
   },
   {
    "duration": 18,
    "start_time": "2022-11-09T13:28:25.745Z"
   },
   {
    "duration": 282,
    "start_time": "2022-11-09T13:28:25.765Z"
   },
   {
    "duration": 303,
    "start_time": "2022-11-09T13:28:26.048Z"
   },
   {
    "duration": 305,
    "start_time": "2022-11-09T13:28:26.353Z"
   },
   {
    "duration": 296,
    "start_time": "2022-11-09T13:28:26.660Z"
   },
   {
    "duration": 282,
    "start_time": "2022-11-09T13:28:26.958Z"
   },
   {
    "duration": 312,
    "start_time": "2022-11-09T13:28:27.242Z"
   },
   {
    "duration": 277,
    "start_time": "2022-11-09T13:28:27.556Z"
   },
   {
    "duration": 207,
    "start_time": "2022-11-09T13:28:27.835Z"
   },
   {
    "duration": 376,
    "start_time": "2022-11-09T13:28:28.043Z"
   },
   {
    "duration": 321,
    "start_time": "2022-11-09T13:28:28.421Z"
   },
   {
    "duration": 297,
    "start_time": "2022-11-09T13:28:28.743Z"
   },
   {
    "duration": 268,
    "start_time": "2022-11-09T13:28:29.042Z"
   },
   {
    "duration": 512,
    "start_time": "2022-11-09T13:28:29.312Z"
   },
   {
    "duration": 17,
    "start_time": "2022-11-09T13:28:29.825Z"
   },
   {
    "duration": 17,
    "start_time": "2022-11-09T13:28:29.843Z"
   },
   {
    "duration": 119,
    "start_time": "2022-11-09T13:31:34.168Z"
   },
   {
    "duration": 3,
    "start_time": "2022-11-09T13:31:34.289Z"
   },
   {
    "duration": 11,
    "start_time": "2022-11-09T13:31:34.294Z"
   },
   {
    "duration": 37,
    "start_time": "2022-11-09T13:31:34.307Z"
   },
   {
    "duration": 5,
    "start_time": "2022-11-09T13:31:34.345Z"
   },
   {
    "duration": 7,
    "start_time": "2022-11-09T13:31:34.351Z"
   },
   {
    "duration": 11,
    "start_time": "2022-11-09T13:31:34.360Z"
   },
   {
    "duration": 205,
    "start_time": "2022-11-09T13:31:34.373Z"
   },
   {
    "duration": 145,
    "start_time": "2022-11-09T13:31:34.580Z"
   },
   {
    "duration": 18,
    "start_time": "2022-11-09T13:31:34.733Z"
   },
   {
    "duration": 264,
    "start_time": "2022-11-09T13:31:34.753Z"
   },
   {
    "duration": 298,
    "start_time": "2022-11-09T13:31:35.019Z"
   },
   {
    "duration": 267,
    "start_time": "2022-11-09T13:31:35.319Z"
   },
   {
    "duration": 321,
    "start_time": "2022-11-09T13:31:35.587Z"
   },
   {
    "duration": 297,
    "start_time": "2022-11-09T13:31:35.910Z"
   },
   {
    "duration": 402,
    "start_time": "2022-11-09T13:31:36.209Z"
   },
   {
    "duration": 348,
    "start_time": "2022-11-09T13:31:36.613Z"
   },
   {
    "duration": 403,
    "start_time": "2022-11-09T13:31:36.963Z"
   },
   {
    "duration": 188,
    "start_time": "2022-11-09T13:31:37.367Z"
   },
   {
    "duration": 170,
    "start_time": "2022-11-09T13:31:37.556Z"
   },
   {
    "duration": 194,
    "start_time": "2022-11-09T13:31:37.732Z"
   },
   {
    "duration": 282,
    "start_time": "2022-11-09T13:31:37.928Z"
   },
   {
    "duration": 277,
    "start_time": "2022-11-09T13:31:38.212Z"
   },
   {
    "duration": 320,
    "start_time": "2022-11-09T13:31:38.490Z"
   },
   {
    "duration": 521,
    "start_time": "2022-11-09T13:31:38.812Z"
   },
   {
    "duration": 13,
    "start_time": "2022-11-09T13:31:39.334Z"
   },
   {
    "duration": 45,
    "start_time": "2022-11-09T13:31:39.349Z"
   },
   {
    "duration": 241,
    "start_time": "2022-11-09T13:40:36.915Z"
   },
   {
    "duration": 5,
    "start_time": "2022-11-09T13:57:08.151Z"
   }
  ],
  "kernelspec": {
   "display_name": "Python 3 (ipykernel)",
   "language": "python",
   "name": "python3"
  },
  "language_info": {
   "codemirror_mode": {
    "name": "ipython",
    "version": 3
   },
   "file_extension": ".py",
   "mimetype": "text/x-python",
   "name": "python",
   "nbconvert_exporter": "python",
   "pygments_lexer": "ipython3",
   "version": "3.9.13"
  },
  "toc": {
   "base_numbering": 1,
   "nav_menu": {},
   "number_sections": true,
   "sideBar": true,
   "skip_h1_title": true,
   "title_cell": "Table of Contents",
   "title_sidebar": "Contents",
   "toc_cell": false,
   "toc_position": {},
   "toc_section_display": true,
   "toc_window_display": false
  }
 },
 "nbformat": 4,
 "nbformat_minor": 2
}
