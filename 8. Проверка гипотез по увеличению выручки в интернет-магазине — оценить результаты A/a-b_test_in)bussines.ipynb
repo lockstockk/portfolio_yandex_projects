{
 "cells": [
  {
   "cell_type": "markdown",
   "metadata": {},
   "source": [
    "# Проверка гипотез по увеличению выручки в интернет-магазине —\n",
    "оценить результаты A/B тест\n",
    "\n",
    "### Описание проекта\n",
    "В крупном интернет-магазине  подготовили список гипотез для увеличения выручки.\n",
    "Приоритизируйте гипотезы, запустите A/B-тест и проанализируйте результаты.  \n",
    "\n",
    "Описание данных  \n",
    "Файл /datasets/hypothesis.csv.  \n",
    "Hypothesis — краткое описание гипотезы;  \n",
    "Reach — охват пользователей по 10-балльной шкале;  \n",
    "Impact — влияние на пользователей по 10-балльной шкале;  \n",
    "Confidence — уверенность в гипотезе по 10-балльной шкале;  \n",
    "Efforts — затраты ресурсов на проверку гипотезы по 10-балльной шкале. Чем больше значение Efforts, тем дороже проверка гипотезы.  \n",
    "Файл /datasets/orders.csv.  \n",
    "transactionId — идентификатор заказа;  \n",
    "visitorId — идентификатор пользователя, совершившего заказ;  \n",
    "date — дата, когда был совершён заказ;  \n",
    "revenue — выручка заказа;  \n",
    "group — группа A/B-теста, в которую попал заказ.  \n",
    "Файл /datasets/visitors.csv.  \n",
    "date — дата;  \n",
    "group — группа A/B-теста;  \n",
    "visitors — количество пользователей в указанную дату в указанной группе A/B-теста  \n",
    "\n",
    "### План:\n",
    "1) Приоритезировать гипотезы: применить фреймворки ICE и  RICE, объяснить разницу в их результатах\n",
    "2) Проанализировать A/B-тесте по \"сырым\" и \"очищенных\" данным, определить границы аномальных заказов, графически сравнить результы групп A и В.\n",
    "3) На основании анализа А/В теста сделать вывод о продожении/прекращении теста."
   ]
  },
  {
   "cell_type": "markdown",
   "metadata": {},
   "source": [
    "# Подготовка"
   ]
  },
  {
   "cell_type": "code",
   "execution_count": 1,
   "metadata": {},
   "outputs": [],
   "source": [
    "#Загружаем библиотеки\n",
    "import pandas as pd\n",
    "import numpy as np\n",
    "import matplotlib.pyplot as plt\n",
    "from datetime import datetime, timedelta\n",
    "import seaborn as sns\n",
    "from pymystem3 import Mystem\n",
    "from collections import Counter\n",
    "import scipy.stats as stats\n",
    "import datetime as dt\n",
    "import math"
   ]
  },
  {
   "cell_type": "code",
   "execution_count": 2,
   "metadata": {},
   "outputs": [],
   "source": [
    "# формируем датасеты\n",
    "hypothesis = pd.read_csv('/datasets/hypothesis.csv')\n",
    "orders = pd.read_csv('/datasets/orders.csv')\n",
    "visitors = pd.read_csv('/datasets/visitors.csv')"
   ]
  },
  {
   "cell_type": "code",
   "execution_count": 3,
   "metadata": {
    "scrolled": false
   },
   "outputs": [
    {
     "data": {
      "text/html": [
       "<div>\n",
       "<style scoped>\n",
       "    .dataframe tbody tr th:only-of-type {\n",
       "        vertical-align: middle;\n",
       "    }\n",
       "\n",
       "    .dataframe tbody tr th {\n",
       "        vertical-align: top;\n",
       "    }\n",
       "\n",
       "    .dataframe thead th {\n",
       "        text-align: right;\n",
       "    }\n",
       "</style>\n",
       "<table border=\"1\" class=\"dataframe\">\n",
       "  <thead>\n",
       "    <tr style=\"text-align: right;\">\n",
       "      <th></th>\n",
       "      <th>Hypothesis</th>\n",
       "      <th>Reach</th>\n",
       "      <th>Impact</th>\n",
       "      <th>Confidence</th>\n",
       "      <th>Efforts</th>\n",
       "    </tr>\n",
       "  </thead>\n",
       "  <tbody>\n",
       "    <tr>\n",
       "      <th>0</th>\n",
       "      <td>Добавить два новых канала привлечения трафика,...</td>\n",
       "      <td>3</td>\n",
       "      <td>10</td>\n",
       "      <td>8</td>\n",
       "      <td>6</td>\n",
       "    </tr>\n",
       "    <tr>\n",
       "      <th>1</th>\n",
       "      <td>Запустить собственную службу доставки, что сок...</td>\n",
       "      <td>2</td>\n",
       "      <td>5</td>\n",
       "      <td>4</td>\n",
       "      <td>10</td>\n",
       "    </tr>\n",
       "    <tr>\n",
       "      <th>2</th>\n",
       "      <td>Добавить блоки рекомендаций товаров на сайт ин...</td>\n",
       "      <td>8</td>\n",
       "      <td>3</td>\n",
       "      <td>7</td>\n",
       "      <td>3</td>\n",
       "    </tr>\n",
       "    <tr>\n",
       "      <th>3</th>\n",
       "      <td>Изменить структура категорий, что увеличит кон...</td>\n",
       "      <td>8</td>\n",
       "      <td>3</td>\n",
       "      <td>3</td>\n",
       "      <td>8</td>\n",
       "    </tr>\n",
       "    <tr>\n",
       "      <th>4</th>\n",
       "      <td>Изменить цвет фона главной страницы, чтобы уве...</td>\n",
       "      <td>3</td>\n",
       "      <td>1</td>\n",
       "      <td>1</td>\n",
       "      <td>1</td>\n",
       "    </tr>\n",
       "    <tr>\n",
       "      <th>5</th>\n",
       "      <td>Добавить страницу отзывов клиентов о магазине,...</td>\n",
       "      <td>3</td>\n",
       "      <td>2</td>\n",
       "      <td>2</td>\n",
       "      <td>3</td>\n",
       "    </tr>\n",
       "    <tr>\n",
       "      <th>6</th>\n",
       "      <td>Показать на главной странице баннеры с актуаль...</td>\n",
       "      <td>5</td>\n",
       "      <td>3</td>\n",
       "      <td>8</td>\n",
       "      <td>3</td>\n",
       "    </tr>\n",
       "    <tr>\n",
       "      <th>7</th>\n",
       "      <td>Добавить форму подписки на все основные страни...</td>\n",
       "      <td>10</td>\n",
       "      <td>7</td>\n",
       "      <td>8</td>\n",
       "      <td>5</td>\n",
       "    </tr>\n",
       "    <tr>\n",
       "      <th>8</th>\n",
       "      <td>Запустить акцию, дающую скидку на товар в день...</td>\n",
       "      <td>1</td>\n",
       "      <td>9</td>\n",
       "      <td>9</td>\n",
       "      <td>5</td>\n",
       "    </tr>\n",
       "  </tbody>\n",
       "</table>\n",
       "</div>"
      ],
      "text/plain": [
       "                                          Hypothesis  Reach  Impact  \\\n",
       "0  Добавить два новых канала привлечения трафика,...      3      10   \n",
       "1  Запустить собственную службу доставки, что сок...      2       5   \n",
       "2  Добавить блоки рекомендаций товаров на сайт ин...      8       3   \n",
       "3  Изменить структура категорий, что увеличит кон...      8       3   \n",
       "4  Изменить цвет фона главной страницы, чтобы уве...      3       1   \n",
       "5  Добавить страницу отзывов клиентов о магазине,...      3       2   \n",
       "6  Показать на главной странице баннеры с актуаль...      5       3   \n",
       "7  Добавить форму подписки на все основные страни...     10       7   \n",
       "8  Запустить акцию, дающую скидку на товар в день...      1       9   \n",
       "\n",
       "   Confidence  Efforts  \n",
       "0           8        6  \n",
       "1           4       10  \n",
       "2           7        3  \n",
       "3           3        8  \n",
       "4           1        1  \n",
       "5           2        3  \n",
       "6           8        3  \n",
       "7           8        5  \n",
       "8           9        5  "
      ]
     },
     "metadata": {},
     "output_type": "display_data"
    }
   ],
   "source": [
    "#pd.set_option('display.max_columns', None)\n",
    "#pd.set_option('display.max_colwidth', None)\n",
    "display(hypothesis)"
   ]
  },
  {
   "cell_type": "code",
   "execution_count": 4,
   "metadata": {},
   "outputs": [
    {
     "data": {
      "text/html": [
       "<div>\n",
       "<style scoped>\n",
       "    .dataframe tbody tr th:only-of-type {\n",
       "        vertical-align: middle;\n",
       "    }\n",
       "\n",
       "    .dataframe tbody tr th {\n",
       "        vertical-align: top;\n",
       "    }\n",
       "\n",
       "    .dataframe thead th {\n",
       "        text-align: right;\n",
       "    }\n",
       "</style>\n",
       "<table border=\"1\" class=\"dataframe\">\n",
       "  <thead>\n",
       "    <tr style=\"text-align: right;\">\n",
       "      <th></th>\n",
       "      <th>transactionId</th>\n",
       "      <th>visitorId</th>\n",
       "      <th>date</th>\n",
       "      <th>revenue</th>\n",
       "      <th>group</th>\n",
       "    </tr>\n",
       "  </thead>\n",
       "  <tbody>\n",
       "    <tr>\n",
       "      <th>0</th>\n",
       "      <td>3667963787</td>\n",
       "      <td>3312258926</td>\n",
       "      <td>2019-08-15</td>\n",
       "      <td>1650</td>\n",
       "      <td>B</td>\n",
       "    </tr>\n",
       "    <tr>\n",
       "      <th>1</th>\n",
       "      <td>2804400009</td>\n",
       "      <td>3642806036</td>\n",
       "      <td>2019-08-15</td>\n",
       "      <td>730</td>\n",
       "      <td>B</td>\n",
       "    </tr>\n",
       "    <tr>\n",
       "      <th>2</th>\n",
       "      <td>2961555356</td>\n",
       "      <td>4069496402</td>\n",
       "      <td>2019-08-15</td>\n",
       "      <td>400</td>\n",
       "      <td>A</td>\n",
       "    </tr>\n",
       "    <tr>\n",
       "      <th>3</th>\n",
       "      <td>3797467345</td>\n",
       "      <td>1196621759</td>\n",
       "      <td>2019-08-15</td>\n",
       "      <td>9759</td>\n",
       "      <td>B</td>\n",
       "    </tr>\n",
       "    <tr>\n",
       "      <th>4</th>\n",
       "      <td>2282983706</td>\n",
       "      <td>2322279887</td>\n",
       "      <td>2019-08-15</td>\n",
       "      <td>2308</td>\n",
       "      <td>B</td>\n",
       "    </tr>\n",
       "    <tr>\n",
       "      <th>5</th>\n",
       "      <td>182168103</td>\n",
       "      <td>935554773</td>\n",
       "      <td>2019-08-15</td>\n",
       "      <td>2210</td>\n",
       "      <td>B</td>\n",
       "    </tr>\n",
       "    <tr>\n",
       "      <th>6</th>\n",
       "      <td>398296753</td>\n",
       "      <td>2900797465</td>\n",
       "      <td>2019-08-15</td>\n",
       "      <td>1860</td>\n",
       "      <td>B</td>\n",
       "    </tr>\n",
       "    <tr>\n",
       "      <th>7</th>\n",
       "      <td>2626614568</td>\n",
       "      <td>78758296</td>\n",
       "      <td>2019-08-15</td>\n",
       "      <td>1044</td>\n",
       "      <td>A</td>\n",
       "    </tr>\n",
       "    <tr>\n",
       "      <th>8</th>\n",
       "      <td>1576988021</td>\n",
       "      <td>295230930</td>\n",
       "      <td>2019-08-15</td>\n",
       "      <td>13710</td>\n",
       "      <td>A</td>\n",
       "    </tr>\n",
       "    <tr>\n",
       "      <th>9</th>\n",
       "      <td>1506739906</td>\n",
       "      <td>1882260405</td>\n",
       "      <td>2019-08-15</td>\n",
       "      <td>1855</td>\n",
       "      <td>B</td>\n",
       "    </tr>\n",
       "  </tbody>\n",
       "</table>\n",
       "</div>"
      ],
      "text/plain": [
       "   transactionId   visitorId        date  revenue group\n",
       "0     3667963787  3312258926  2019-08-15     1650     B\n",
       "1     2804400009  3642806036  2019-08-15      730     B\n",
       "2     2961555356  4069496402  2019-08-15      400     A\n",
       "3     3797467345  1196621759  2019-08-15     9759     B\n",
       "4     2282983706  2322279887  2019-08-15     2308     B\n",
       "5      182168103   935554773  2019-08-15     2210     B\n",
       "6      398296753  2900797465  2019-08-15     1860     B\n",
       "7     2626614568    78758296  2019-08-15     1044     A\n",
       "8     1576988021   295230930  2019-08-15    13710     A\n",
       "9     1506739906  1882260405  2019-08-15     1855     B"
      ]
     },
     "execution_count": 4,
     "metadata": {},
     "output_type": "execute_result"
    }
   ],
   "source": [
    "orders.head(10)"
   ]
  },
  {
   "cell_type": "code",
   "execution_count": 5,
   "metadata": {
    "scrolled": true
   },
   "outputs": [
    {
     "name": "stdout",
     "output_type": "stream",
     "text": [
      "<class 'pandas.core.frame.DataFrame'>\n",
      "RangeIndex: 1197 entries, 0 to 1196\n",
      "Data columns (total 5 columns):\n",
      " #   Column         Non-Null Count  Dtype \n",
      "---  ------         --------------  ----- \n",
      " 0   transactionId  1197 non-null   int64 \n",
      " 1   visitorId      1197 non-null   int64 \n",
      " 2   date           1197 non-null   object\n",
      " 3   revenue        1197 non-null   int64 \n",
      " 4   group          1197 non-null   object\n",
      "dtypes: int64(3), object(2)\n",
      "memory usage: 46.9+ KB\n"
     ]
    },
    {
     "data": {
      "text/plain": [
       "0"
      ]
     },
     "execution_count": 5,
     "metadata": {},
     "output_type": "execute_result"
    }
   ],
   "source": [
    "orders.info()\n",
    "orders.duplicated().sum()"
   ]
  },
  {
   "cell_type": "code",
   "execution_count": 6,
   "metadata": {},
   "outputs": [
    {
     "data": {
      "text/html": [
       "<div>\n",
       "<style scoped>\n",
       "    .dataframe tbody tr th:only-of-type {\n",
       "        vertical-align: middle;\n",
       "    }\n",
       "\n",
       "    .dataframe tbody tr th {\n",
       "        vertical-align: top;\n",
       "    }\n",
       "\n",
       "    .dataframe thead th {\n",
       "        text-align: right;\n",
       "    }\n",
       "</style>\n",
       "<table border=\"1\" class=\"dataframe\">\n",
       "  <thead>\n",
       "    <tr style=\"text-align: right;\">\n",
       "      <th></th>\n",
       "      <th>date</th>\n",
       "      <th>group</th>\n",
       "      <th>visitors</th>\n",
       "    </tr>\n",
       "  </thead>\n",
       "  <tbody>\n",
       "    <tr>\n",
       "      <th>0</th>\n",
       "      <td>2019-08-01</td>\n",
       "      <td>A</td>\n",
       "      <td>719</td>\n",
       "    </tr>\n",
       "    <tr>\n",
       "      <th>1</th>\n",
       "      <td>2019-08-02</td>\n",
       "      <td>A</td>\n",
       "      <td>619</td>\n",
       "    </tr>\n",
       "    <tr>\n",
       "      <th>2</th>\n",
       "      <td>2019-08-03</td>\n",
       "      <td>A</td>\n",
       "      <td>507</td>\n",
       "    </tr>\n",
       "    <tr>\n",
       "      <th>3</th>\n",
       "      <td>2019-08-04</td>\n",
       "      <td>A</td>\n",
       "      <td>717</td>\n",
       "    </tr>\n",
       "    <tr>\n",
       "      <th>4</th>\n",
       "      <td>2019-08-05</td>\n",
       "      <td>A</td>\n",
       "      <td>756</td>\n",
       "    </tr>\n",
       "    <tr>\n",
       "      <th>5</th>\n",
       "      <td>2019-08-06</td>\n",
       "      <td>A</td>\n",
       "      <td>667</td>\n",
       "    </tr>\n",
       "    <tr>\n",
       "      <th>6</th>\n",
       "      <td>2019-08-07</td>\n",
       "      <td>A</td>\n",
       "      <td>644</td>\n",
       "    </tr>\n",
       "    <tr>\n",
       "      <th>7</th>\n",
       "      <td>2019-08-08</td>\n",
       "      <td>A</td>\n",
       "      <td>610</td>\n",
       "    </tr>\n",
       "    <tr>\n",
       "      <th>8</th>\n",
       "      <td>2019-08-09</td>\n",
       "      <td>A</td>\n",
       "      <td>617</td>\n",
       "    </tr>\n",
       "    <tr>\n",
       "      <th>9</th>\n",
       "      <td>2019-08-10</td>\n",
       "      <td>A</td>\n",
       "      <td>406</td>\n",
       "    </tr>\n",
       "  </tbody>\n",
       "</table>\n",
       "</div>"
      ],
      "text/plain": [
       "         date group  visitors\n",
       "0  2019-08-01     A       719\n",
       "1  2019-08-02     A       619\n",
       "2  2019-08-03     A       507\n",
       "3  2019-08-04     A       717\n",
       "4  2019-08-05     A       756\n",
       "5  2019-08-06     A       667\n",
       "6  2019-08-07     A       644\n",
       "7  2019-08-08     A       610\n",
       "8  2019-08-09     A       617\n",
       "9  2019-08-10     A       406"
      ]
     },
     "execution_count": 6,
     "metadata": {},
     "output_type": "execute_result"
    }
   ],
   "source": [
    "visitors.head(10)"
   ]
  },
  {
   "cell_type": "code",
   "execution_count": 7,
   "metadata": {},
   "outputs": [
    {
     "name": "stdout",
     "output_type": "stream",
     "text": [
      "<class 'pandas.core.frame.DataFrame'>\n",
      "RangeIndex: 62 entries, 0 to 61\n",
      "Data columns (total 3 columns):\n",
      " #   Column    Non-Null Count  Dtype \n",
      "---  ------    --------------  ----- \n",
      " 0   date      62 non-null     object\n",
      " 1   group     62 non-null     object\n",
      " 2   visitors  62 non-null     int64 \n",
      "dtypes: int64(1), object(2)\n",
      "memory usage: 1.6+ KB\n"
     ]
    },
    {
     "data": {
      "text/plain": [
       "0"
      ]
     },
     "execution_count": 7,
     "metadata": {},
     "output_type": "execute_result"
    }
   ],
   "source": [
    "visitors.info()\n",
    "visitors.duplicated().sum()"
   ]
  },
  {
   "cell_type": "code",
   "execution_count": 8,
   "metadata": {},
   "outputs": [],
   "source": [
    "# скоректируем формат\n",
    "orders['date'] = pd.to_datetime(orders['date'])\n",
    "visitors['date'] = pd.to_datetime(visitors['date'])\n",
    "hypothesis.columns = map(str.lower, hypothesis.columns)"
   ]
  },
  {
   "cell_type": "markdown",
   "metadata": {},
   "source": [
    "Дубликаты отсутствуют, даты приведены к нужному формату, и столбцы в нижем регистре можно продоложать."
   ]
  },
  {
   "cell_type": "markdown",
   "metadata": {},
   "source": [
    "# Приоритезация гипотез"
   ]
  },
  {
   "cell_type": "markdown",
   "metadata": {},
   "source": [
    "### Применение фреймворка ICE для приоритизации гипотез. "
   ]
  },
  {
   "cell_type": "code",
   "execution_count": 9,
   "metadata": {
    "scrolled": true
   },
   "outputs": [
    {
     "data": {
      "text/html": [
       "<div>\n",
       "<style scoped>\n",
       "    .dataframe tbody tr th:only-of-type {\n",
       "        vertical-align: middle;\n",
       "    }\n",
       "\n",
       "    .dataframe tbody tr th {\n",
       "        vertical-align: top;\n",
       "    }\n",
       "\n",
       "    .dataframe thead th {\n",
       "        text-align: right;\n",
       "    }\n",
       "</style>\n",
       "<table border=\"1\" class=\"dataframe\">\n",
       "  <thead>\n",
       "    <tr style=\"text-align: right;\">\n",
       "      <th></th>\n",
       "      <th>hypothesis</th>\n",
       "      <th>ICE</th>\n",
       "    </tr>\n",
       "  </thead>\n",
       "  <tbody>\n",
       "    <tr>\n",
       "      <th>8</th>\n",
       "      <td>Запустить акцию, дающую скидку на товар в день...</td>\n",
       "      <td>16.20</td>\n",
       "    </tr>\n",
       "    <tr>\n",
       "      <th>0</th>\n",
       "      <td>Добавить два новых канала привлечения трафика,...</td>\n",
       "      <td>13.33</td>\n",
       "    </tr>\n",
       "    <tr>\n",
       "      <th>7</th>\n",
       "      <td>Добавить форму подписки на все основные страни...</td>\n",
       "      <td>11.20</td>\n",
       "    </tr>\n",
       "    <tr>\n",
       "      <th>6</th>\n",
       "      <td>Показать на главной странице баннеры с актуаль...</td>\n",
       "      <td>8.00</td>\n",
       "    </tr>\n",
       "    <tr>\n",
       "      <th>2</th>\n",
       "      <td>Добавить блоки рекомендаций товаров на сайт ин...</td>\n",
       "      <td>7.00</td>\n",
       "    </tr>\n",
       "    <tr>\n",
       "      <th>1</th>\n",
       "      <td>Запустить собственную службу доставки, что сок...</td>\n",
       "      <td>2.00</td>\n",
       "    </tr>\n",
       "    <tr>\n",
       "      <th>5</th>\n",
       "      <td>Добавить страницу отзывов клиентов о магазине,...</td>\n",
       "      <td>1.33</td>\n",
       "    </tr>\n",
       "    <tr>\n",
       "      <th>3</th>\n",
       "      <td>Изменить структура категорий, что увеличит кон...</td>\n",
       "      <td>1.12</td>\n",
       "    </tr>\n",
       "    <tr>\n",
       "      <th>4</th>\n",
       "      <td>Изменить цвет фона главной страницы, чтобы уве...</td>\n",
       "      <td>1.00</td>\n",
       "    </tr>\n",
       "  </tbody>\n",
       "</table>\n",
       "</div>"
      ],
      "text/plain": [
       "                                          hypothesis    ICE\n",
       "8  Запустить акцию, дающую скидку на товар в день...  16.20\n",
       "0  Добавить два новых канала привлечения трафика,...  13.33\n",
       "7  Добавить форму подписки на все основные страни...  11.20\n",
       "6  Показать на главной странице баннеры с актуаль...   8.00\n",
       "2  Добавить блоки рекомендаций товаров на сайт ин...   7.00\n",
       "1  Запустить собственную службу доставки, что сок...   2.00\n",
       "5  Добавить страницу отзывов клиентов о магазине,...   1.33\n",
       "3  Изменить структура категорий, что увеличит кон...   1.12\n",
       "4  Изменить цвет фона главной страницы, чтобы уве...   1.00"
      ]
     },
     "execution_count": 9,
     "metadata": {},
     "output_type": "execute_result"
    }
   ],
   "source": [
    "# Приминяем ICE для гипотез\n",
    "hypothesis['ICE'] = ( hypothesis['impact'] * hypothesis['confidence']) / hypothesis['efforts']\n",
    "hypothesis[['hypothesis', 'ICE']].sort_values(by='ICE', ascending=False).round(2)"
   ]
  },
  {
   "cell_type": "markdown",
   "metadata": {},
   "source": [
    "### Применение фреймворка RICE для приоритизации гипотез."
   ]
  },
  {
   "cell_type": "code",
   "execution_count": 10,
   "metadata": {},
   "outputs": [
    {
     "data": {
      "text/html": [
       "<div>\n",
       "<style scoped>\n",
       "    .dataframe tbody tr th:only-of-type {\n",
       "        vertical-align: middle;\n",
       "    }\n",
       "\n",
       "    .dataframe tbody tr th {\n",
       "        vertical-align: top;\n",
       "    }\n",
       "\n",
       "    .dataframe thead th {\n",
       "        text-align: right;\n",
       "    }\n",
       "</style>\n",
       "<table border=\"1\" class=\"dataframe\">\n",
       "  <thead>\n",
       "    <tr style=\"text-align: right;\">\n",
       "      <th></th>\n",
       "      <th>hypothesis</th>\n",
       "      <th>RICE</th>\n",
       "    </tr>\n",
       "  </thead>\n",
       "  <tbody>\n",
       "    <tr>\n",
       "      <th>7</th>\n",
       "      <td>Добавить форму подписки на все основные страни...</td>\n",
       "      <td>112.0</td>\n",
       "    </tr>\n",
       "    <tr>\n",
       "      <th>2</th>\n",
       "      <td>Добавить блоки рекомендаций товаров на сайт ин...</td>\n",
       "      <td>56.0</td>\n",
       "    </tr>\n",
       "    <tr>\n",
       "      <th>0</th>\n",
       "      <td>Добавить два новых канала привлечения трафика,...</td>\n",
       "      <td>40.0</td>\n",
       "    </tr>\n",
       "    <tr>\n",
       "      <th>6</th>\n",
       "      <td>Показать на главной странице баннеры с актуаль...</td>\n",
       "      <td>40.0</td>\n",
       "    </tr>\n",
       "    <tr>\n",
       "      <th>8</th>\n",
       "      <td>Запустить акцию, дающую скидку на товар в день...</td>\n",
       "      <td>16.2</td>\n",
       "    </tr>\n",
       "    <tr>\n",
       "      <th>3</th>\n",
       "      <td>Изменить структура категорий, что увеличит кон...</td>\n",
       "      <td>9.0</td>\n",
       "    </tr>\n",
       "    <tr>\n",
       "      <th>1</th>\n",
       "      <td>Запустить собственную службу доставки, что сок...</td>\n",
       "      <td>4.0</td>\n",
       "    </tr>\n",
       "    <tr>\n",
       "      <th>5</th>\n",
       "      <td>Добавить страницу отзывов клиентов о магазине,...</td>\n",
       "      <td>4.0</td>\n",
       "    </tr>\n",
       "    <tr>\n",
       "      <th>4</th>\n",
       "      <td>Изменить цвет фона главной страницы, чтобы уве...</td>\n",
       "      <td>3.0</td>\n",
       "    </tr>\n",
       "  </tbody>\n",
       "</table>\n",
       "</div>"
      ],
      "text/plain": [
       "                                          hypothesis   RICE\n",
       "7  Добавить форму подписки на все основные страни...  112.0\n",
       "2  Добавить блоки рекомендаций товаров на сайт ин...   56.0\n",
       "0  Добавить два новых канала привлечения трафика,...   40.0\n",
       "6  Показать на главной странице баннеры с актуаль...   40.0\n",
       "8  Запустить акцию, дающую скидку на товар в день...   16.2\n",
       "3  Изменить структура категорий, что увеличит кон...    9.0\n",
       "1  Запустить собственную службу доставки, что сок...    4.0\n",
       "5  Добавить страницу отзывов клиентов о магазине,...    4.0\n",
       "4  Изменить цвет фона главной страницы, чтобы уве...    3.0"
      ]
     },
     "execution_count": 10,
     "metadata": {},
     "output_type": "execute_result"
    }
   ],
   "source": [
    "# Приминяем RICE для гипотез\n",
    "hypothesis['RICE'] = (hypothesis['reach'] *  hypothesis['impact'] * hypothesis['confidence']) / hypothesis['efforts']\n",
    "hypothesis[['hypothesis', 'RICE']].sort_values(by='RICE', ascending=False).round(2)"
   ]
  },
  {
   "cell_type": "markdown",
   "metadata": {},
   "source": [
    "Подведем промежуточный вывод."
   ]
  },
  {
   "cell_type": "code",
   "execution_count": 11,
   "metadata": {},
   "outputs": [
    {
     "data": {
      "text/html": [
       "<div>\n",
       "<style scoped>\n",
       "    .dataframe tbody tr th:only-of-type {\n",
       "        vertical-align: middle;\n",
       "    }\n",
       "\n",
       "    .dataframe tbody tr th {\n",
       "        vertical-align: top;\n",
       "    }\n",
       "\n",
       "    .dataframe thead th {\n",
       "        text-align: right;\n",
       "    }\n",
       "</style>\n",
       "<table border=\"1\" class=\"dataframe\">\n",
       "  <thead>\n",
       "    <tr style=\"text-align: right;\">\n",
       "      <th></th>\n",
       "      <th>hypothesis</th>\n",
       "      <th>reach</th>\n",
       "      <th>impact</th>\n",
       "      <th>confidence</th>\n",
       "      <th>efforts</th>\n",
       "      <th>ICE</th>\n",
       "      <th>RICE</th>\n",
       "    </tr>\n",
       "  </thead>\n",
       "  <tbody>\n",
       "    <tr>\n",
       "      <th>0</th>\n",
       "      <td>Добавить два новых канала привлечения трафика,...</td>\n",
       "      <td>3</td>\n",
       "      <td>10</td>\n",
       "      <td>8</td>\n",
       "      <td>6</td>\n",
       "      <td>13.333333</td>\n",
       "      <td>40.0</td>\n",
       "    </tr>\n",
       "    <tr>\n",
       "      <th>1</th>\n",
       "      <td>Запустить собственную службу доставки, что сок...</td>\n",
       "      <td>2</td>\n",
       "      <td>5</td>\n",
       "      <td>4</td>\n",
       "      <td>10</td>\n",
       "      <td>2.000000</td>\n",
       "      <td>4.0</td>\n",
       "    </tr>\n",
       "    <tr>\n",
       "      <th>2</th>\n",
       "      <td>Добавить блоки рекомендаций товаров на сайт ин...</td>\n",
       "      <td>8</td>\n",
       "      <td>3</td>\n",
       "      <td>7</td>\n",
       "      <td>3</td>\n",
       "      <td>7.000000</td>\n",
       "      <td>56.0</td>\n",
       "    </tr>\n",
       "    <tr>\n",
       "      <th>3</th>\n",
       "      <td>Изменить структура категорий, что увеличит кон...</td>\n",
       "      <td>8</td>\n",
       "      <td>3</td>\n",
       "      <td>3</td>\n",
       "      <td>8</td>\n",
       "      <td>1.125000</td>\n",
       "      <td>9.0</td>\n",
       "    </tr>\n",
       "    <tr>\n",
       "      <th>4</th>\n",
       "      <td>Изменить цвет фона главной страницы, чтобы уве...</td>\n",
       "      <td>3</td>\n",
       "      <td>1</td>\n",
       "      <td>1</td>\n",
       "      <td>1</td>\n",
       "      <td>1.000000</td>\n",
       "      <td>3.0</td>\n",
       "    </tr>\n",
       "    <tr>\n",
       "      <th>5</th>\n",
       "      <td>Добавить страницу отзывов клиентов о магазине,...</td>\n",
       "      <td>3</td>\n",
       "      <td>2</td>\n",
       "      <td>2</td>\n",
       "      <td>3</td>\n",
       "      <td>1.333333</td>\n",
       "      <td>4.0</td>\n",
       "    </tr>\n",
       "    <tr>\n",
       "      <th>6</th>\n",
       "      <td>Показать на главной странице баннеры с актуаль...</td>\n",
       "      <td>5</td>\n",
       "      <td>3</td>\n",
       "      <td>8</td>\n",
       "      <td>3</td>\n",
       "      <td>8.000000</td>\n",
       "      <td>40.0</td>\n",
       "    </tr>\n",
       "    <tr>\n",
       "      <th>7</th>\n",
       "      <td>Добавить форму подписки на все основные страни...</td>\n",
       "      <td>10</td>\n",
       "      <td>7</td>\n",
       "      <td>8</td>\n",
       "      <td>5</td>\n",
       "      <td>11.200000</td>\n",
       "      <td>112.0</td>\n",
       "    </tr>\n",
       "    <tr>\n",
       "      <th>8</th>\n",
       "      <td>Запустить акцию, дающую скидку на товар в день...</td>\n",
       "      <td>1</td>\n",
       "      <td>9</td>\n",
       "      <td>9</td>\n",
       "      <td>5</td>\n",
       "      <td>16.200000</td>\n",
       "      <td>16.2</td>\n",
       "    </tr>\n",
       "  </tbody>\n",
       "</table>\n",
       "</div>"
      ],
      "text/plain": [
       "                                          hypothesis  reach  impact  \\\n",
       "0  Добавить два новых канала привлечения трафика,...      3      10   \n",
       "1  Запустить собственную службу доставки, что сок...      2       5   \n",
       "2  Добавить блоки рекомендаций товаров на сайт ин...      8       3   \n",
       "3  Изменить структура категорий, что увеличит кон...      8       3   \n",
       "4  Изменить цвет фона главной страницы, чтобы уве...      3       1   \n",
       "5  Добавить страницу отзывов клиентов о магазине,...      3       2   \n",
       "6  Показать на главной странице баннеры с актуаль...      5       3   \n",
       "7  Добавить форму подписки на все основные страни...     10       7   \n",
       "8  Запустить акцию, дающую скидку на товар в день...      1       9   \n",
       "\n",
       "   confidence  efforts        ICE   RICE  \n",
       "0           8        6  13.333333   40.0  \n",
       "1           4       10   2.000000    4.0  \n",
       "2           7        3   7.000000   56.0  \n",
       "3           3        8   1.125000    9.0  \n",
       "4           1        1   1.000000    3.0  \n",
       "5           2        3   1.333333    4.0  \n",
       "6           8        3   8.000000   40.0  \n",
       "7           8        5  11.200000  112.0  \n",
       "8           9        5  16.200000   16.2  "
      ]
     },
     "metadata": {},
     "output_type": "display_data"
    }
   ],
   "source": [
    "pd.set_option('display.max_columns', None)\n",
    "display(hypothesis)"
   ]
  },
  {
   "cell_type": "markdown",
   "metadata": {},
   "source": [
    "Согластно ICE лидирует 8 гипотиза, RICE - 7. При этом в обоих методиках в топ-5 входят гипотезы 0,2,6,7,8. Различие обосновано использование в RICE показателя охвата пользователей,как видно из данных у 7 гипотезы он значительно больше чем у остальных."
   ]
  },
  {
   "cell_type": "markdown",
   "metadata": {},
   "source": [
    "# Анализ A/B-теста"
   ]
  },
  {
   "cell_type": "markdown",
   "metadata": {},
   "source": [
    "### Строим график кумулятивной выручки по группам"
   ]
  },
  {
   "cell_type": "code",
   "execution_count": 12,
   "metadata": {
    "scrolled": false
   },
   "outputs": [
    {
     "data": {
      "image/png": "[encoded data removed]",
      "text/plain": [
       "<Figure size 1080x360 with 1 Axes>"
      ]
     },
     "metadata": {
      "needs_background": "light"
     },
     "output_type": "display_data"
    }
   ],
   "source": [
    "#Создаем массив данных\n",
    "grouped_data = orders[['date','group']].drop_duplicates()\n",
    "\n",
    "#Агрегируем кумулятивные данные\n",
    "agg_orders= grouped_data.apply(lambda x: orders[np.logical_and(orders['date'] <= x['date'], orders['group'] == x['group'])]. \\\n",
    "                                     agg({'date' : 'max', \n",
    "                                          'group' : 'max', \n",
    "                                          'transactionId' : pd.Series.nunique, \n",
    "                                          'visitorId' : pd.Series.nunique, \n",
    "                                          'revenue' : 'sum'}), axis=1).sort_values(by=['date','group'])\n",
    "\n",
    "agg_visitors= grouped_data.apply(lambda x: visitors[np.logical_and(visitors['date'] <= x['date'], visitors['group'] == x['group'])]. \\\n",
    "                                       agg({'date' : 'max', \n",
    "                                            'group' : 'max', \n",
    "                                            'visitors' : 'sum'}), axis=1).sort_values(by=['date','group'])\n",
    "\n",
    "#объединим данные и переименуем столбцы\n",
    "cum_data = agg_orders.merge(agg_visitors, left_on=['date', 'group'], right_on=['date', 'group'])\n",
    "cum_data.columns = ['date', 'group', 'orders', 'buyers', 'revenue', 'visitors']\n",
    "\n",
    "# создаем датафрейм по группам\n",
    "cum_group_a = cum_data[cum_data['group']=='A'][['date','revenue', 'orders']]\n",
    "cum_group_b = cum_data[cum_data['group']=='B'][['date','revenue', 'orders']]\n",
    "\n",
    "from pandas.plotting import register_matplotlib_converters\n",
    "register_matplotlib_converters()\n",
    "\n",
    "#строим граффик\n",
    "plt.figure(figsize=(15,5))\n",
    "plt.plot(cum_group_a['date'], cum_group_a['revenue'], label='Кумулятивная выручка группы A')\n",
    "plt.plot(cum_group_b['date'], cum_group_b['revenue'], label='Кумулятивная выручка группы B')\n",
    "plt.title('График кумулятивной выручки по группам\\n  ')\n",
    "plt.xlabel('\\nДата')\n",
    "plt.ylabel('Выручка\\n')\n",
    "plt.grid()\n",
    "plt.legend() ;"
   ]
  },
  {
   "cell_type": "markdown",
   "metadata": {},
   "source": [
    "Кумулятивная выручка группы В около 19 августа резко возросла, по видимо увеличился какой-то(возможно не один, при дальнейшем анализе узнаем какой именно) показатель продаж."
   ]
  },
  {
   "cell_type": "markdown",
   "metadata": {},
   "source": [
    "### Строим график кумулятивного среднего чека по группам"
   ]
  },
  {
   "cell_type": "code",
   "execution_count": 13,
   "metadata": {},
   "outputs": [
    {
     "data": {
      "image/png": "[encoded data removed]",
      "text/plain": [
       "<Figure size 1080x360 with 1 Axes>"
      ]
     },
     "metadata": {
      "needs_background": "light"
     },
     "output_type": "display_data"
    }
   ],
   "source": [
    "plt.figure(figsize=(15,5))\n",
    "plt.grid()\n",
    "plt.plot(cum_group_a['date'], cum_group_a['revenue']/cum_group_a['orders'], label='A')\n",
    "plt.plot(cum_group_b['date'], cum_group_b['revenue']/cum_group_b['orders'], label='B')\n",
    "plt.title('График кумулятивного среднего чека по группам\\n  ')\n",
    "plt.xlabel('\\nДата')\n",
    "plt.ylabel('Сумма среднего чека\\n')\n",
    "plt.legend() ;"
   ]
  },
  {
   "cell_type": "markdown",
   "metadata": {},
   "source": [
    "Согластно граффику группы кумулятовное значение среднего чека группы В резко изменяется, как и значение кумулятивной выручки, в районе 19 августа, скорее всего в этот день произошел выброс( в дальнейших граффиках он будет фигурировать - покупка в 2000000 при наиболее распостраненных покупках не превышающих 20000). К концу месяца граффики стремяться к среднему с преобладанием группы В над А."
   ]
  },
  {
   "cell_type": "markdown",
   "metadata": {},
   "source": [
    "### Строим график относительного изменения кумулятивного среднего чека группы B к группе A"
   ]
  },
  {
   "cell_type": "code",
   "execution_count": 14,
   "metadata": {},
   "outputs": [
    {
     "data": {
      "image/png": "[encoded data removed]",
      "text/plain": [
       "<Figure size 1080x360 with 1 Axes>"
      ]
     },
     "metadata": {
      "needs_background": "light"
     },
     "output_type": "display_data"
    }
   ],
   "source": [
    "# объединяем данные\n",
    "sum_cum_revenue = cum_group_a.merge(cum_group_b, left_on='date', right_on='date', how='left', suffixes=['A', 'B'])\n",
    "\n",
    "# строим граффик\n",
    "plt.figure(figsize=(15,5))\n",
    "plt.grid()\n",
    "plt.plot(sum_cum_revenue['date'], (sum_cum_revenue['revenueB']/sum_cum_revenue['ordersB'])/(sum_cum_revenue['revenueA']/sum_cum_revenue['ordersA'])-1)\n",
    "plt.title('График относительного изменения кумулятивного среднего чека группы B к группе A\\n  ')\n",
    "plt.xlabel('\\nДата')\n",
    "plt.ylabel('Изменение среденего чека \\n')\n",
    "plt.axhline(y=0, color='black', linestyle='--') ;"
   ]
  },
  {
   "cell_type": "markdown",
   "metadata": {},
   "source": [
    "Граффик достаточно сильно колеблиться в определенных моментах, что схоже с 2 предыдущими графиками. Скорее всего в эти моменты и произошли аномалии."
   ]
  },
  {
   "cell_type": "markdown",
   "metadata": {},
   "source": [
    "### Строим график кумулятивного среднего количества заказов на посетителя по группам"
   ]
  },
  {
   "cell_type": "code",
   "execution_count": 15,
   "metadata": {
    "scrolled": false
   },
   "outputs": [
    {
     "data": {
      "text/plain": [
       "''"
      ]
     },
     "execution_count": 15,
     "metadata": {},
     "output_type": "execute_result"
    },
    {
     "data": {
      "image/png": "[encoded data removed]",
      "text/plain": [
       "<Figure size 1080x360 with 1 Axes>"
      ]
     },
     "metadata": {
      "needs_background": "light"
     },
     "output_type": "display_data"
    }
   ],
   "source": [
    "# считаем кумулятивное среднее количество заказов\n",
    "cum_data['conversion'] = cum_data['orders']/cum_data['visitors']\n",
    "\n",
    "# отделяем группы\n",
    "cum_data_a = cum_data[cum_data['group']=='A']\n",
    "cum_data_b = cum_data[cum_data['group']=='B']\n",
    "\n",
    "# строим графики\n",
    "plt.figure(figsize=(15,5))\n",
    "plt.grid()\n",
    "plt.plot(cum_data_a['date'], cum_data_a['conversion'], label='A')\n",
    "plt.plot(cum_data_b['date'], cum_data_b['conversion'], label='B')\n",
    "plt.legend()\n",
    "plt.title('График кумулятивного количества заказов по группам\\n  ')\n",
    "plt.xlabel('\\nДата')\n",
    "plt.ylabel('Заказы\\n')\n",
    "plt.axis([dt.datetime(2019, 8, 1), dt.datetime(2019, 9, 1), 0, 0.05])\n",
    ";"
   ]
  },
  {
   "cell_type": "markdown",
   "metadata": {},
   "source": [
    "Группа В стабильно показывает немного более высокий уровень заказов, за исключением начала августа"
   ]
  },
  {
   "cell_type": "markdown",
   "metadata": {},
   "source": [
    "### Строим график относительного изменения кумулятивного среднего количества заказов на посетителя группы B к группе A."
   ]
  },
  {
   "cell_type": "code",
   "execution_count": 16,
   "metadata": {},
   "outputs": [
    {
     "data": {
      "image/png": "[encoded data removed]",
      "text/plain": [
       "<Figure size 1080x360 with 1 Axes>"
      ]
     },
     "metadata": {
      "needs_background": "light"
     },
     "output_type": "display_data"
    }
   ],
   "source": [
    "cum_conv_b_to_a = cum_data_a[['date','conversion']].merge(cum_data_b[['date','conversion']], left_on='date', right_on='date', how='left', suffixes=['A', 'B'])\n",
    "plt.figure(figsize=(15,5))\n",
    "plt.grid()\n",
    "plt.plot(cum_conv_b_to_a['date'], cum_conv_b_to_a['conversionB']/cum_conv_b_to_a['conversionA']-1, label=\"Относительный прирост количества группы B относительно группы A\")\n",
    "plt.legend()\n",
    "\n",
    "plt.axhline(y=0, color='black', linestyle='--')\n",
    "plt.axhline(y=0.2, color='grey', linestyle='--')\n",
    "plt.axis([\"2019-08-01\", '2019-09-01', -0.4, 0.4])\n",
    "plt.title('График относительного изменения кумулятивного количества заказов группы B к группе A\\n  ')\n",
    "plt.xlabel('\\nДата')\n",
    "plt.ylabel('Относительне изменение количества заказов\\n') ;"
   ]
  },
  {
   "cell_type": "markdown",
   "metadata": {},
   "source": [
    "Как и в предыдущем граффике за исключением начала августа группа В стабильно лидирует"
   ]
  },
  {
   "cell_type": "markdown",
   "metadata": {},
   "source": [
    "### Строим точечный график количества заказов по пользователям"
   ]
  },
  {
   "cell_type": "code",
   "execution_count": 17,
   "metadata": {
    "scrolled": false
   },
   "outputs": [
    {
     "data": {
      "text/plain": [
       "''"
      ]
     },
     "execution_count": 17,
     "metadata": {},
     "output_type": "execute_result"
    },
    {
     "data": {
      "image/png": "[encoded data removed]",
      "text/plain": [
       "<Figure size 1080x360 with 1 Axes>"
      ]
     },
     "metadata": {
      "needs_background": "light"
     },
     "output_type": "display_data"
    }
   ],
   "source": [
    "orders_by_users = orders.drop(['group', 'revenue', 'date'], axis=1).groupby('visitorId', as_index=False). \\\n",
    "                                                                        agg({'transactionId' : pd.Series.nunique})\n",
    "orders_by_users.columns = ['user_id','orders']\n",
    "\n",
    "orders_by_users.sort_values(by='orders',ascending=False).head(10)\n",
    "\n",
    "plt.figure(figsize=(15,5))\n",
    "plt.grid()\n",
    "plt.title('График количества заказов по пользователям\\n  ')\n",
    "plt.xlabel('\\nКол-во пользователей')\n",
    "plt.ylabel('Кол-во заказов\\n')\n",
    "x_values = pd.Series(range(0, len(orders_by_users)))\n",
    "plt.scatter(x_values, orders_by_users['orders']) \n",
    ";"
   ]
  },
  {
   "cell_type": "markdown",
   "metadata": {},
   "source": [
    "Большинство покупателей ограничились одной покупкой, покупателей совершивших от 2 до 5 покупок встретить значительно тяжелее, но они присутсвуют. Так же можнло заметить 4 выброса."
   ]
  },
  {
   "cell_type": "markdown",
   "metadata": {},
   "source": [
    "<div class=\"alert alert-success\">\n",
    "    <b>✅ Комментарий ревьюера:</b>\n",
    "\n",
    "График построен верно, с выводом согласен.\n",
    "</div>"
   ]
  },
  {
   "cell_type": "markdown",
   "metadata": {},
   "source": [
    "### Посчитайем 95-й и 99-й перцентили количества заказов на пользователя. Выбераем границу для определения аномальных пользователей"
   ]
  },
  {
   "cell_type": "code",
   "execution_count": 18,
   "metadata": {},
   "outputs": [
    {
     "name": "stdout",
     "output_type": "stream",
     "text": [
      "[2. 4.]\n"
     ]
    },
    {
     "data": {
      "text/plain": [
       "user_id    4283872382\n",
       "orders             11\n",
       "dtype: int64"
      ]
     },
     "execution_count": 18,
     "metadata": {},
     "output_type": "execute_result"
    }
   ],
   "source": [
    "print(np.percentile(orders_by_users['orders'], [95, 99]))\n",
    "orders_by_users.max()"
   ]
  },
  {
   "cell_type": "markdown",
   "metadata": {},
   "source": [
    "Максимальное колличество заказов 11, на 99 персентили количество заказов 4, принимаем ёё за границу аномалий."
   ]
  },
  {
   "cell_type": "markdown",
   "metadata": {},
   "source": [
    "### Строим точечный график стоимостей заказов"
   ]
  },
  {
   "cell_type": "code",
   "execution_count": 19,
   "metadata": {},
   "outputs": [
    {
     "data": {
      "image/png": "[encoded data removed]",
      "text/plain": [
       "<Figure size 1080x360 with 1 Axes>"
      ]
     },
     "metadata": {
      "needs_background": "light"
     },
     "output_type": "display_data"
    }
   ],
   "source": [
    "x_values = pd.Series(range(0,len(orders['revenue'])))\n",
    "plt.figure(figsize=(15,5))\n",
    "plt.grid()\n",
    "plt.title('График стоимостей заказов\\n ')\n",
    "plt.xlabel('\\nКол-во пользователей')\n",
    "plt.ylabel('Стоимость заказа\\n')\n",
    "plt.scatter(x_values, orders['revenue'], alpha=0.3);"
   ]
  },
  {
   "cell_type": "markdown",
   "metadata": {},
   "source": [
    "Видна пара аномальных вабросов, остальная масса покупателей весьма умеренна в своих тратах"
   ]
  },
  {
   "cell_type": "markdown",
   "metadata": {},
   "source": [
    "<div class=\"alert alert-warning\">\n",
    "    <b>⚠️ Комментарий ревьюера:</b>\n",
    "    \n",
    "Все верно, из-за двух выбросов график стал неинформативным. Давай сделаем еще один график без выбросов.\n",
    "</div>"
   ]
  },
  {
   "cell_type": "markdown",
   "metadata": {},
   "source": [
    "<div class=\"alert alert-info\">\n",
    "    <b>Добавилл график,отфильстованный по заказам авным или менее 200000, так как на предыдущем графике более этого уровня только 2 выброса</b>"
   ]
  },
  {
   "cell_type": "code",
   "execution_count": 20,
   "metadata": {
    "scrolled": false
   },
   "outputs": [
    {
     "data": {
      "image/png": "[encoded data removed]",
      "text/plain": [
       "<Figure size 1080x360 with 1 Axes>"
      ]
     },
     "metadata": {
      "needs_background": "light"
     },
     "output_type": "display_data"
    }
   ],
   "source": [
    "filtred_orders = orders[orders['revenue']<=200000]['revenue']\n",
    "xn_values = pd.Series(range(0,len(filtred_orders)))\n",
    "plt.figure(figsize=(15,5))\n",
    "plt.grid()\n",
    "plt.title('График стоимостей заказов')\n",
    "plt.xlabel('\\nКол-во пользователей')\n",
    "plt.ylabel('Стоимость заказа\\n')\n",
    "plt.scatter(xn_values, filtred_orders, alpha=0.5);"
   ]
  },
  {
   "cell_type": "markdown",
   "metadata": {},
   "source": [
    "Основная масса заказов не превышает 20000"
   ]
  },
  {
   "cell_type": "markdown",
   "metadata": {},
   "source": [
    "### Считаем 95-й и 99-й перцентили стоимости заказов"
   ]
  },
  {
   "cell_type": "code",
   "execution_count": 21,
   "metadata": {},
   "outputs": [
    {
     "data": {
      "text/plain": [
       "array([28000. , 58233.2])"
      ]
     },
     "execution_count": 21,
     "metadata": {},
     "output_type": "execute_result"
    }
   ],
   "source": [
    "np.percentile(orders['revenue'], [95, 99])"
   ]
  },
  {
   "cell_type": "code",
   "execution_count": 22,
   "metadata": {},
   "outputs": [
    {
     "data": {
      "text/plain": [
       "1294500"
      ]
     },
     "execution_count": 22,
     "metadata": {},
     "output_type": "execute_result"
    }
   ],
   "source": [
    "orders['revenue'].max()"
   ]
  },
  {
   "cell_type": "markdown",
   "metadata": {},
   "source": [
    "Максимальный заказ превышет миллион, установим предельную границу на 99 перцентили в 58233"
   ]
  },
  {
   "cell_type": "markdown",
   "metadata": {},
   "source": [
    "### Считаем статистическую значимость различий в среднем количестве заказов на посетителя между группами по «сырым» данным"
   ]
  },
  {
   "cell_type": "markdown",
   "metadata": {},
   "source": [
    "Формулируем гипотезы:\n",
    "Нулевая - среднее количество заказов групп А  и  В равны\n",
    "Альтернативная - среднее количество заказов группы А не равно группе В"
   ]
  },
  {
   "cell_type": "code",
   "execution_count": 23,
   "metadata": {
    "scrolled": true
   },
   "outputs": [],
   "source": [
    "visitorsADaily = visitors[visitors['group']=='A'][['date', 'visitors']]\n",
    "visitorsADaily.columns = ['date', 'visitorsPerDateA']\n",
    "\n",
    "visitorsACummulative = visitorsADaily.apply(lambda x: visitorsADaily[visitorsADaily['date'] <= x['date']]. \\\n",
    "                                            agg({'date' : 'max', 'visitorsPerDateA' : 'sum'}), axis=1)\n",
    "visitorsACummulative.columns = ['date', 'visitorsCummulativeA']\n",
    "\n",
    "visitorsBDaily = visitors[visitors['group']=='B'][['date', 'visitors']]\n",
    "visitorsBDaily.columns = ['date', 'visitorsPerDateB']\n",
    "\n",
    "visitorsBCummulative = visitorsBDaily.apply(lambda x: visitorsBDaily[visitorsBDaily['date'] <= x['date']]. \\\n",
    "                                            agg({'date' : 'max', 'visitorsPerDateB' : 'sum'}), axis=1)\n",
    "visitorsBCummulative.columns = ['date', 'visitorsCummulativeB']\n",
    "ordersADaily = orders[orders['group']=='A'][['date', 'transactionId', 'visitorId', 'revenue']]\\\n",
    "    .groupby('date', as_index=False)\\\n",
    "    .agg({'transactionId' : pd.Series.nunique, 'revenue' : 'sum'})\n",
    "ordersADaily.columns = ['date', 'ordersPerDateA', 'revenuePerDateA']\n",
    "\n",
    "ordersACummulative = ordersADaily.apply(\n",
    "    lambda x: \\\n",
    "        ordersADaily[ordersADaily['date'] <= x['date']]\\\n",
    "            .agg({\n",
    "                'date' : 'max',\n",
    "                'ordersPerDateA' : 'sum',\n",
    "                'revenuePerDateA' : 'sum'}), axis=1).sort_values(by=['date'])\n",
    "ordersACummulative.columns = ['date', 'ordersCummulativeA', 'revenueCummulativeA']\n",
    "\n",
    "ordersBDaily = orders[orders['group']=='B'][['date', 'transactionId', 'visitorId', 'revenue']]\\\n",
    "    .groupby('date', as_index=False)\\\n",
    "    .agg({'transactionId' : pd.Series.nunique, 'revenue' : 'sum'})\n",
    "ordersBDaily.columns = ['date', 'ordersPerDateB', 'revenuePerDateB']\n",
    "\n",
    "ordersBCummulative = ordersBDaily.apply(\n",
    "    lambda x: \\\n",
    "        ordersBDaily[ordersBDaily['date'] <= x['date']]\\\n",
    "            .agg({\n",
    "                'date' : 'max',\n",
    "                'ordersPerDateB' : 'sum',\n",
    "                'revenuePerDateB' : 'sum'}), axis=1).sort_values(by=['date'])\n",
    "ordersBCummulative.columns = ['date', 'ordersCummulativeB', 'revenueCummulativeB']\n",
    "data = ordersADaily.merge(ordersBDaily, left_on='date', right_on='date', how='left')\\\n",
    "    .merge(ordersACummulative, left_on='date', right_on='date', how='left')\\\n",
    "    .merge(ordersBCummulative, left_on='date', right_on='date', how='left')\\\n",
    "    .merge(visitorsADaily, left_on='date', right_on='date', how='left')\\\n",
    "    .merge(visitorsBDaily, left_on='date', right_on='date', how='left')\\\n",
    "    .merge(visitorsACummulative, left_on='date', right_on='date', how='left')\\\n",
    "    .merge(visitorsBCummulative, left_on='date', right_on='date', how='left')\n",
    "\n",
    "ordersByUsersA = orders[orders['group']=='A'].groupby('visitorId', as_index=False).agg({'transactionId' : pd.Series.nunique})\n",
    "ordersByUsersA.columns = ['userId', 'orders']\n",
    "\n",
    "ordersByUsersB = orders[orders['group']=='B'].groupby('visitorId', as_index=False).agg({'transactionId' : pd.Series.nunique})\n",
    "ordersByUsersB.columns = ['userId', 'orders']\n",
    "sampleA = pd.concat([ordersByUsersA['orders'],pd.Series(0, index=np.arange(data['visitorsPerDateA'].sum() - len(ordersByUsersA['orders'])), name='orders')],axis=0)\n",
    "\n",
    "sampleB = pd.concat([ordersByUsersB['orders'],pd.Series(0, index=np.arange(data['visitorsPerDateB'].sum() - len(ordersByUsersB['orders'])), name='orders')],axis=0)"
   ]
  },
  {
   "cell_type": "code",
   "execution_count": 24,
   "metadata": {
    "scrolled": false
   },
   "outputs": [
    {
     "name": "stdout",
     "output_type": "stream",
     "text": [
      "0.01679\n",
      "0.138\n"
     ]
    }
   ],
   "source": [
    "#проведем тестирование\n",
    "alpha = 0.05\n",
    "print(\"{0:.5f}\".format(stats.mannwhitneyu(sampleA, sampleB)[1]))\n",
    "print(\"{0:.3f}\".format((data['ordersPerDateB'].sum()/data['visitorsPerDateB'].sum())/(data['ordersPerDateA'].sum()/data['visitorsPerDateA'].sum())-1))"
   ]
  },
  {
   "cell_type": "markdown",
   "metadata": {},
   "source": [
    "Значение p-value меньше 0,05 , отвергаем нулевую гипотезу. Различие в заказах между группами составляет 13,8% в пользу группы В"
   ]
  },
  {
   "cell_type": "markdown",
   "metadata": {},
   "source": [
    "### Посчитайем статистическую значимость различий в среднем чеке заказа между группами по «сырым» данным"
   ]
  },
  {
   "cell_type": "markdown",
   "metadata": {},
   "source": [
    "Формулируем гипотезы:\n",
    "Нулевая - средний чек группы А превосходит средний чкк группы В\n",
    "Альтернативная - средний чек группы А не превосходит среднему группы В"
   ]
  },
  {
   "cell_type": "code",
   "execution_count": 25,
   "metadata": {
    "scrolled": false
   },
   "outputs": [
    {
     "name": "stdout",
     "output_type": "stream",
     "text": [
      "0.729\n",
      "0.259\n",
      "Не получилось отвергнуть нулевую гипотезу\n"
     ]
    }
   ],
   "source": [
    "#проведем тестирование\n",
    "alpha = 0.05\n",
    "print('{0:.3f}'.format(stats.mannwhitneyu(orders[orders['group']=='A']['revenue'], orders[orders['group']=='B']['revenue'])[1]))\n",
    "print('{0:.3f}'.format(orders[orders['group']=='B']['revenue'].mean()/orders[orders['group']=='A']['revenue'].mean()-1))\n",
    "results = stats.mannwhitneyu(orders[orders['group']=='A']['revenue'], orders[orders['group']=='B']['revenue'])\n",
    "pvalue = results.pvalue\n",
    "if (pvalue < alpha):\n",
    "    print(\"Отвергаем нулевую гипотезу\")\n",
    "else:\n",
    "    print(\"Не получилось отвергнуть нулевую гипотезу\")"
   ]
  },
  {
   "cell_type": "markdown",
   "metadata": {},
   "source": [
    "Принимаем нулевую гипотезу - значение -value значительно выше 0,05. Средний чек группы А не больше среднего чека группы В.  Разница в среднем чеке группы В на 26% больше"
   ]
  },
  {
   "cell_type": "markdown",
   "metadata": {},
   "source": [
    "### Посчитаем статистическую значимость различий в среднем количестве заказов на посетителя между группами по «очищенным» данным"
   ]
  },
  {
   "cell_type": "code",
   "execution_count": 26,
   "metadata": {},
   "outputs": [],
   "source": [
    "# очистим данные\n",
    "usersWithManyOrders = pd.concat([ordersByUsersA[ordersByUsersA['orders'] > 4]['userId'], ordersByUsersB[ordersByUsersB['orders'] > 4]['userId']], axis = 0)\n",
    "usersWithExpensiveOrders = orders[orders['revenue'] > 58233]['visitorId']\n",
    "abnormalUsers = pd.concat([usersWithManyOrders, usersWithExpensiveOrders], axis = 0).drop_duplicates().sort_values()\n",
    "sampleAFiltered = pd.concat([ordersByUsersA[np.logical_not(ordersByUsersA['userId'].isin(abnormalUsers))]['orders'], \\\n",
    "                             pd.Series(0, index=np.arange(data['visitorsPerDateA'].sum() - len(ordersByUsersA['orders'])), \\\n",
    "                                       name='orders')],axis=0)\n",
    "\n",
    "sampleBFiltered = pd.concat([ordersByUsersB[np.logical_not(ordersByUsersB['userId'].isin(abnormalUsers))]['orders'], \\\n",
    "                             pd.Series(0, index=np.arange(data['visitorsPerDateB'].sum() - len(ordersByUsersB['orders'])), \\\n",
    "                                       name='orders')],axis=0) "
   ]
  },
  {
   "cell_type": "markdown",
   "metadata": {},
   "source": [
    "Формулируем гипотезы:\n",
    "Нулевая - среднее количество заказов группы А  выше группы В\n",
    "Альтернативная - среднее количество заказов группы А не выше группы В"
   ]
  },
  {
   "cell_type": "code",
   "execution_count": 27,
   "metadata": {
    "scrolled": false
   },
   "outputs": [
    {
     "name": "stdout",
     "output_type": "stream",
     "text": [
      "0.01438\n",
      "0.153\n"
     ]
    }
   ],
   "source": [
    "#проведем тестирование\n",
    "alpha = 0.05\n",
    "print('{0:.5f}'.format(stats.mannwhitneyu(sampleAFiltered, sampleBFiltered)[1]))\n",
    "print('{0:.3f}'.format(sampleBFiltered.mean()/sampleAFiltered.mean()-1))"
   ]
  },
  {
   "cell_type": "markdown",
   "metadata": {},
   "source": [
    "Отвергаем нулевую теорию, как и в случае с \"сырыми\" данными группа В лучше, но преводство учеличилось до 15,3%"
   ]
  },
  {
   "cell_type": "markdown",
   "metadata": {},
   "source": [
    "### Посчием статистическую значимость различий в среднем чеке заказа между группами по «очищенным» данным"
   ]
  },
  {
   "cell_type": "markdown",
   "metadata": {},
   "source": [
    "Формулируем гипотезы:\n",
    "Нулевая - статистичекой разницы в средних чеках между группами нет\n",
    "Альтернативная - статистически значимые отличия присутствуют"
   ]
  },
  {
   "cell_type": "code",
   "execution_count": 28,
   "metadata": {},
   "outputs": [
    {
     "name": "stdout",
     "output_type": "stream",
     "text": [
      "0.851\n",
      "-0.006\n"
     ]
    }
   ],
   "source": [
    "#проведем тестирование\n",
    "alpha = 0.05\n",
    "print(\n",
    "    '{0:.3f}'.format(\n",
    "        stats.mannwhitneyu(\n",
    "            orders[\n",
    "                np.logical_and(\n",
    "                    orders['group'] == 'A',\n",
    "                    np.logical_not(orders['visitorId'].isin(abnormalUsers)),\n",
    "                )\n",
    "            ]['revenue'],\n",
    "            orders[\n",
    "                np.logical_and(\n",
    "                    orders['group'] == 'B',\n",
    "                    np.logical_not(orders['visitorId'].isin(abnormalUsers)),\n",
    "                )\n",
    "            ]['revenue'],\n",
    "        )[1]\n",
    "    )\n",
    ")\n",
    "\n",
    "print(\n",
    "    \"{0:.3f}\".format(\n",
    "        orders[\n",
    "            np.logical_and(\n",
    "                orders['group'] == 'B',\n",
    "                np.logical_not(orders['visitorId'].isin(abnormalUsers)),\n",
    "            )\n",
    "        ]['revenue'].mean()\n",
    "        / orders[\n",
    "            np.logical_and(\n",
    "                orders['group'] == 'A',\n",
    "                np.logical_not(orders['visitorId'].isin(abnormalUsers)),\n",
    "            )\n",
    "        ]['revenue'].mean()\n",
    "        - 1\n",
    "    )\n",
    ")"
   ]
  },
  {
   "cell_type": "markdown",
   "metadata": {},
   "source": [
    "Принимаем нулевую гипотезу - разница между среднии чеками незанчителна, средний чек группы В после очистки оказался немного ниже среднего чека группы А, хотя до очистки был значительно больше"
   ]
  },
  {
   "cell_type": "markdown",
   "metadata": {},
   "source": [
    "### Принимаем решение по результатам теста"
   ]
  },
  {
   "cell_type": "markdown",
   "metadata": {},
   "source": [
    "### Решение - остановить тест, зафиксировав победу группы В"
   ]
  },
  {
   "cell_type": "markdown",
   "metadata": {},
   "source": [
    "Обоснование - графики кумулятивных показателей, а так же среднее количество заказов указывают на лидерство группы В. Группа А немного лучше в аспекте среднего чека, но это преобладание не является статистически значимым."
   ]
  },
  {
   "cell_type": "code",
   "execution_count": null,
   "metadata": {},
   "outputs": [],
   "source": []
  }
 ],
 "metadata": {
  "ExecuteTimeLog": [
   {
    "duration": 54,
    "start_time": "2023-01-20T11:08:42.672Z"
   },
   {
    "duration": 6,
    "start_time": "2023-01-20T11:08:54.879Z"
   },
   {
    "duration": 0,
    "start_time": "2023-01-20T11:08:54.886Z"
   },
   {
    "duration": 0,
    "start_time": "2023-01-20T11:08:54.888Z"
   },
   {
    "duration": 0,
    "start_time": "2023-01-20T11:08:54.889Z"
   },
   {
    "duration": 1398,
    "start_time": "2023-01-20T11:09:10.928Z"
   },
   {
    "duration": 196,
    "start_time": "2023-01-20T11:09:12.328Z"
   },
   {
    "duration": 12,
    "start_time": "2023-01-20T11:09:12.525Z"
   },
   {
    "duration": 10,
    "start_time": "2023-01-20T11:09:28.618Z"
   },
   {
    "duration": 5,
    "start_time": "2023-01-20T11:09:58.651Z"
   },
   {
    "duration": 9,
    "start_time": "2023-01-20T11:10:40.168Z"
   },
   {
    "duration": 6,
    "start_time": "2023-01-20T11:10:46.465Z"
   },
   {
    "duration": 16,
    "start_time": "2023-01-20T11:11:20.778Z"
   },
   {
    "duration": 14,
    "start_time": "2023-01-20T11:11:45.421Z"
   },
   {
    "duration": 19,
    "start_time": "2023-01-20T11:14:05.993Z"
   },
   {
    "duration": 21,
    "start_time": "2023-01-20T11:14:29.508Z"
   },
   {
    "duration": 19,
    "start_time": "2023-01-20T11:15:19.692Z"
   },
   {
    "duration": 14,
    "start_time": "2023-01-20T11:15:46.247Z"
   },
   {
    "duration": 17,
    "start_time": "2023-01-20T11:16:37.751Z"
   },
   {
    "duration": 18,
    "start_time": "2023-01-20T11:17:22.192Z"
   },
   {
    "duration": 17,
    "start_time": "2023-01-20T11:18:00.489Z"
   },
   {
    "duration": 4,
    "start_time": "2023-01-20T11:18:47.572Z"
   },
   {
    "duration": 85,
    "start_time": "2023-01-20T11:18:47.578Z"
   },
   {
    "duration": 5,
    "start_time": "2023-01-20T11:18:47.665Z"
   },
   {
    "duration": 31,
    "start_time": "2023-01-20T11:18:47.671Z"
   },
   {
    "duration": 14,
    "start_time": "2023-01-20T11:18:47.704Z"
   },
   {
    "duration": 36,
    "start_time": "2023-01-20T11:18:47.720Z"
   },
   {
    "duration": 14,
    "start_time": "2023-01-20T11:18:47.758Z"
   },
   {
    "duration": 50,
    "start_time": "2023-01-20T16:20:52.992Z"
   },
   {
    "duration": 1452,
    "start_time": "2023-01-20T16:21:06.165Z"
   },
   {
    "duration": 264,
    "start_time": "2023-01-20T16:21:07.619Z"
   },
   {
    "duration": 9,
    "start_time": "2023-01-20T16:21:07.885Z"
   },
   {
    "duration": 13,
    "start_time": "2023-01-20T16:21:07.897Z"
   },
   {
    "duration": 17,
    "start_time": "2023-01-20T16:21:07.911Z"
   },
   {
    "duration": 8,
    "start_time": "2023-01-20T16:21:07.929Z"
   },
   {
    "duration": 15,
    "start_time": "2023-01-20T16:21:07.938Z"
   },
   {
    "duration": 15,
    "start_time": "2023-01-20T16:21:07.966Z"
   },
   {
    "duration": 1311,
    "start_time": "2023-01-20T16:30:51.018Z"
   },
   {
    "duration": 9,
    "start_time": "2023-01-20T16:31:44.265Z"
   },
   {
    "duration": 120,
    "start_time": "2023-01-20T16:31:44.278Z"
   },
   {
    "duration": 5,
    "start_time": "2023-01-20T16:31:44.400Z"
   },
   {
    "duration": 11,
    "start_time": "2023-01-20T16:31:44.407Z"
   },
   {
    "duration": 14,
    "start_time": "2023-01-20T16:31:44.420Z"
   },
   {
    "duration": 8,
    "start_time": "2023-01-20T16:31:44.435Z"
   },
   {
    "duration": 14,
    "start_time": "2023-01-20T16:31:44.444Z"
   },
   {
    "duration": 14,
    "start_time": "2023-01-20T16:31:44.459Z"
   },
   {
    "duration": 36,
    "start_time": "2023-01-20T16:31:44.475Z"
   },
   {
    "duration": 14,
    "start_time": "2023-01-20T16:34:36.408Z"
   },
   {
    "duration": 7,
    "start_time": "2023-01-20T16:37:29.593Z"
   },
   {
    "duration": 6,
    "start_time": "2023-01-20T16:38:12.616Z"
   },
   {
    "duration": 3,
    "start_time": "2023-01-20T16:38:59.644Z"
   },
   {
    "duration": 95,
    "start_time": "2023-01-20T16:38:59.649Z"
   },
   {
    "duration": 5,
    "start_time": "2023-01-20T16:38:59.745Z"
   },
   {
    "duration": 9,
    "start_time": "2023-01-20T16:38:59.752Z"
   },
   {
    "duration": 20,
    "start_time": "2023-01-20T16:38:59.763Z"
   },
   {
    "duration": 20,
    "start_time": "2023-01-20T16:38:59.785Z"
   },
   {
    "duration": 14,
    "start_time": "2023-01-20T16:38:59.806Z"
   },
   {
    "duration": 5,
    "start_time": "2023-01-20T16:38:59.821Z"
   },
   {
    "duration": 11,
    "start_time": "2023-01-20T16:38:59.827Z"
   },
   {
    "duration": 12,
    "start_time": "2023-01-20T16:38:59.840Z"
   },
   {
    "duration": 15,
    "start_time": "2023-01-20T16:38:59.853Z"
   },
   {
    "duration": 3,
    "start_time": "2023-01-20T16:44:29.339Z"
   },
   {
    "duration": 97,
    "start_time": "2023-01-20T16:44:29.344Z"
   },
   {
    "duration": 6,
    "start_time": "2023-01-20T16:44:29.443Z"
   },
   {
    "duration": 12,
    "start_time": "2023-01-20T16:44:29.451Z"
   },
   {
    "duration": 43,
    "start_time": "2023-01-20T16:44:29.465Z"
   },
   {
    "duration": 7,
    "start_time": "2023-01-20T16:44:29.509Z"
   },
   {
    "duration": 13,
    "start_time": "2023-01-20T16:44:29.518Z"
   },
   {
    "duration": 6,
    "start_time": "2023-01-20T16:44:29.533Z"
   },
   {
    "duration": 14,
    "start_time": "2023-01-20T16:44:29.541Z"
   },
   {
    "duration": 30,
    "start_time": "2023-01-20T16:44:29.556Z"
   },
   {
    "duration": 19,
    "start_time": "2023-01-20T16:44:29.587Z"
   },
   {
    "duration": 8,
    "start_time": "2023-01-20T16:45:36.728Z"
   },
   {
    "duration": 6,
    "start_time": "2023-01-20T16:50:36.088Z"
   },
   {
    "duration": 9,
    "start_time": "2023-01-20T16:50:43.877Z"
   },
   {
    "duration": 9,
    "start_time": "2023-01-20T16:50:46.965Z"
   },
   {
    "duration": 143,
    "start_time": "2023-01-20T16:50:46.976Z"
   },
   {
    "duration": 5,
    "start_time": "2023-01-20T16:50:47.121Z"
   },
   {
    "duration": 8,
    "start_time": "2023-01-20T16:50:47.128Z"
   },
   {
    "duration": 13,
    "start_time": "2023-01-20T16:50:47.138Z"
   },
   {
    "duration": 7,
    "start_time": "2023-01-20T16:50:47.153Z"
   },
   {
    "duration": 20,
    "start_time": "2023-01-20T16:50:47.161Z"
   },
   {
    "duration": 7,
    "start_time": "2023-01-20T16:50:47.182Z"
   },
   {
    "duration": 11,
    "start_time": "2023-01-20T16:50:47.190Z"
   },
   {
    "duration": 11,
    "start_time": "2023-01-20T16:50:47.202Z"
   },
   {
    "duration": 11,
    "start_time": "2023-01-20T16:50:47.214Z"
   },
   {
    "duration": 4,
    "start_time": "2023-01-20T16:51:22.393Z"
   },
   {
    "duration": 84,
    "start_time": "2023-01-20T16:51:22.399Z"
   },
   {
    "duration": 5,
    "start_time": "2023-01-20T16:51:22.485Z"
   },
   {
    "duration": 11,
    "start_time": "2023-01-20T16:51:22.492Z"
   },
   {
    "duration": 16,
    "start_time": "2023-01-20T16:51:22.506Z"
   },
   {
    "duration": 8,
    "start_time": "2023-01-20T16:51:22.524Z"
   },
   {
    "duration": 17,
    "start_time": "2023-01-20T16:51:22.533Z"
   },
   {
    "duration": 26,
    "start_time": "2023-01-20T16:51:22.552Z"
   },
   {
    "duration": 14,
    "start_time": "2023-01-20T16:51:22.580Z"
   },
   {
    "duration": 13,
    "start_time": "2023-01-20T16:51:22.596Z"
   },
   {
    "duration": 8,
    "start_time": "2023-01-20T16:51:22.611Z"
   },
   {
    "duration": 7,
    "start_time": "2023-01-20T16:51:42.561Z"
   },
   {
    "duration": 6,
    "start_time": "2023-01-20T16:52:22.330Z"
   },
   {
    "duration": 7,
    "start_time": "2023-01-20T16:53:01.320Z"
   },
   {
    "duration": 7,
    "start_time": "2023-01-20T16:53:11.458Z"
   },
   {
    "duration": 7,
    "start_time": "2023-01-20T16:54:36.696Z"
   },
   {
    "duration": 8,
    "start_time": "2023-01-20T16:54:46.883Z"
   },
   {
    "duration": 325,
    "start_time": "2023-01-20T17:20:10.381Z"
   },
   {
    "duration": 3,
    "start_time": "2023-01-20T17:21:00.147Z"
   },
   {
    "duration": 144,
    "start_time": "2023-01-20T17:21:00.152Z"
   },
   {
    "duration": 6,
    "start_time": "2023-01-20T17:21:00.299Z"
   },
   {
    "duration": 38,
    "start_time": "2023-01-20T17:21:00.308Z"
   },
   {
    "duration": 56,
    "start_time": "2023-01-20T17:21:00.349Z"
   },
   {
    "duration": 33,
    "start_time": "2023-01-20T17:21:00.406Z"
   },
   {
    "duration": 61,
    "start_time": "2023-01-20T17:21:00.441Z"
   },
   {
    "duration": 29,
    "start_time": "2023-01-20T17:21:00.504Z"
   },
   {
    "duration": 44,
    "start_time": "2023-01-20T17:21:00.535Z"
   },
   {
    "duration": 45,
    "start_time": "2023-01-20T17:21:00.581Z"
   },
   {
    "duration": 24,
    "start_time": "2023-01-20T17:21:00.628Z"
   },
   {
    "duration": 683,
    "start_time": "2023-01-20T17:21:00.654Z"
   },
   {
    "duration": 606,
    "start_time": "2023-01-20T17:25:36.598Z"
   },
   {
    "duration": 559,
    "start_time": "2023-01-20T17:25:45.190Z"
   },
   {
    "duration": 285,
    "start_time": "2023-01-20T17:26:50.101Z"
   },
   {
    "duration": 318,
    "start_time": "2023-01-20T17:32:03.116Z"
   },
   {
    "duration": 18,
    "start_time": "2023-01-20T17:36:49.678Z"
   },
   {
    "duration": 326,
    "start_time": "2023-01-20T17:36:58.296Z"
   },
   {
    "duration": 398,
    "start_time": "2023-01-20T19:28:02.644Z"
   },
   {
    "duration": 324,
    "start_time": "2023-01-20T19:31:22.593Z"
   },
   {
    "duration": 270,
    "start_time": "2023-01-20T19:31:38.245Z"
   },
   {
    "duration": 290,
    "start_time": "2023-01-20T19:32:03.645Z"
   },
   {
    "duration": 5,
    "start_time": "2023-01-20T19:33:31.260Z"
   },
   {
    "duration": 56,
    "start_time": "2023-01-21T08:35:25.299Z"
   },
   {
    "duration": 1352,
    "start_time": "2023-01-21T08:36:03.521Z"
   },
   {
    "duration": 238,
    "start_time": "2023-01-21T08:36:04.875Z"
   },
   {
    "duration": 6,
    "start_time": "2023-01-21T08:36:05.115Z"
   },
   {
    "duration": 35,
    "start_time": "2023-01-21T08:36:05.123Z"
   },
   {
    "duration": 26,
    "start_time": "2023-01-21T08:36:05.160Z"
   },
   {
    "duration": 34,
    "start_time": "2023-01-21T08:36:05.188Z"
   },
   {
    "duration": 43,
    "start_time": "2023-01-21T08:36:05.223Z"
   },
   {
    "duration": 23,
    "start_time": "2023-01-21T08:36:05.267Z"
   },
   {
    "duration": 39,
    "start_time": "2023-01-21T08:36:05.292Z"
   },
   {
    "duration": 17,
    "start_time": "2023-01-21T08:36:05.332Z"
   },
   {
    "duration": 37,
    "start_time": "2023-01-21T08:36:05.351Z"
   },
   {
    "duration": 679,
    "start_time": "2023-01-21T08:36:05.390Z"
   },
   {
    "duration": 243,
    "start_time": "2023-01-21T08:36:06.070Z"
   },
   {
    "duration": 414,
    "start_time": "2023-01-21T08:36:06.316Z"
   },
   {
    "duration": 252,
    "start_time": "2023-01-21T08:36:06.732Z"
   },
   {
    "duration": 360,
    "start_time": "2023-01-21T08:36:06.986Z"
   },
   {
    "duration": 320,
    "start_time": "2023-01-21T08:36:07.348Z"
   },
   {
    "duration": 5,
    "start_time": "2023-01-21T08:36:07.669Z"
   },
   {
    "duration": 197,
    "start_time": "2023-01-21T08:36:07.675Z"
   },
   {
    "duration": 5,
    "start_time": "2023-01-21T08:37:55.072Z"
   },
   {
    "duration": 76,
    "start_time": "2023-01-21T08:44:21.452Z"
   },
   {
    "duration": 133,
    "start_time": "2023-01-21T08:44:39.437Z"
   },
   {
    "duration": 55,
    "start_time": "2023-01-21T08:44:56.546Z"
   },
   {
    "duration": 94,
    "start_time": "2023-01-21T08:45:07.448Z"
   },
   {
    "duration": 92,
    "start_time": "2023-01-21T08:45:10.884Z"
   },
   {
    "duration": 49,
    "start_time": "2023-01-21T13:03:16.607Z"
   },
   {
    "duration": 4,
    "start_time": "2023-01-21T13:05:20.543Z"
   },
   {
    "duration": 7,
    "start_time": "2023-01-21T13:05:28.969Z"
   },
   {
    "duration": 1287,
    "start_time": "2023-01-21T13:05:49.292Z"
   },
   {
    "duration": 289,
    "start_time": "2023-01-21T13:05:50.581Z"
   },
   {
    "duration": 6,
    "start_time": "2023-01-21T13:05:50.873Z"
   },
   {
    "duration": 15,
    "start_time": "2023-01-21T13:05:50.881Z"
   },
   {
    "duration": 15,
    "start_time": "2023-01-21T13:05:50.897Z"
   },
   {
    "duration": 13,
    "start_time": "2023-01-21T13:05:50.914Z"
   },
   {
    "duration": 16,
    "start_time": "2023-01-21T13:05:50.928Z"
   },
   {
    "duration": 21,
    "start_time": "2023-01-21T13:05:50.945Z"
   },
   {
    "duration": 31,
    "start_time": "2023-01-21T13:05:50.967Z"
   },
   {
    "duration": 13,
    "start_time": "2023-01-21T13:05:51.001Z"
   },
   {
    "duration": 20,
    "start_time": "2023-01-21T13:05:51.015Z"
   },
   {
    "duration": 597,
    "start_time": "2023-01-21T13:05:51.037Z"
   },
   {
    "duration": 314,
    "start_time": "2023-01-21T13:05:51.636Z"
   },
   {
    "duration": 371,
    "start_time": "2023-01-21T13:05:51.953Z"
   },
   {
    "duration": 248,
    "start_time": "2023-01-21T13:05:52.325Z"
   },
   {
    "duration": 337,
    "start_time": "2023-01-21T13:05:52.576Z"
   },
   {
    "duration": 339,
    "start_time": "2023-01-21T13:05:52.915Z"
   },
   {
    "duration": 4,
    "start_time": "2023-01-21T13:05:53.257Z"
   },
   {
    "duration": 170,
    "start_time": "2023-01-21T13:05:53.263Z"
   },
   {
    "duration": 11,
    "start_time": "2023-01-21T13:05:53.434Z"
   },
   {
    "duration": 11,
    "start_time": "2023-01-21T13:05:53.447Z"
   },
   {
    "duration": 181,
    "start_time": "2023-01-21T13:07:56.837Z"
   },
   {
    "duration": 3,
    "start_time": "2023-01-21T13:09:23.032Z"
   },
   {
    "duration": 80,
    "start_time": "2023-01-21T13:09:23.037Z"
   },
   {
    "duration": 5,
    "start_time": "2023-01-21T13:09:23.118Z"
   },
   {
    "duration": 13,
    "start_time": "2023-01-21T13:09:23.125Z"
   },
   {
    "duration": 15,
    "start_time": "2023-01-21T13:09:23.139Z"
   },
   {
    "duration": 13,
    "start_time": "2023-01-21T13:09:23.156Z"
   },
   {
    "duration": 16,
    "start_time": "2023-01-21T13:09:23.170Z"
   },
   {
    "duration": 16,
    "start_time": "2023-01-21T13:09:23.187Z"
   },
   {
    "duration": 16,
    "start_time": "2023-01-21T13:09:23.205Z"
   },
   {
    "duration": 15,
    "start_time": "2023-01-21T13:09:23.222Z"
   },
   {
    "duration": 15,
    "start_time": "2023-01-21T13:09:23.243Z"
   },
   {
    "duration": 516,
    "start_time": "2023-01-21T13:09:23.261Z"
   },
   {
    "duration": 210,
    "start_time": "2023-01-21T13:09:23.779Z"
   },
   {
    "duration": 295,
    "start_time": "2023-01-21T13:09:23.991Z"
   },
   {
    "duration": 208,
    "start_time": "2023-01-21T13:09:24.287Z"
   },
   {
    "duration": 362,
    "start_time": "2023-01-21T13:09:24.497Z"
   },
   {
    "duration": 286,
    "start_time": "2023-01-21T13:09:24.861Z"
   },
   {
    "duration": 4,
    "start_time": "2023-01-21T13:09:25.149Z"
   },
   {
    "duration": 171,
    "start_time": "2023-01-21T13:09:25.154Z"
   },
   {
    "duration": 5,
    "start_time": "2023-01-21T13:09:25.326Z"
   },
   {
    "duration": 13,
    "start_time": "2023-01-21T13:09:25.344Z"
   },
   {
    "duration": 6,
    "start_time": "2023-01-21T13:12:28.812Z"
   },
   {
    "duration": 9,
    "start_time": "2023-01-21T13:37:19.300Z"
   },
   {
    "duration": 8,
    "start_time": "2023-01-21T14:07:50.909Z"
   },
   {
    "duration": 5,
    "start_time": "2023-01-21T14:08:40.626Z"
   },
   {
    "duration": 6,
    "start_time": "2023-01-21T14:08:43.118Z"
   },
   {
    "duration": 7,
    "start_time": "2023-01-21T14:45:13.203Z"
   },
   {
    "duration": 5,
    "start_time": "2023-01-21T14:50:00.546Z"
   },
   {
    "duration": 5,
    "start_time": "2023-01-21T14:50:20.717Z"
   },
   {
    "duration": 5,
    "start_time": "2023-01-21T14:50:22.861Z"
   },
   {
    "duration": 721,
    "start_time": "2023-01-21T14:56:12.503Z"
   },
   {
    "duration": 10,
    "start_time": "2023-01-21T14:56:23.740Z"
   },
   {
    "duration": 4,
    "start_time": "2023-01-21T14:57:42.304Z"
   },
   {
    "duration": 12,
    "start_time": "2023-01-21T14:58:14.619Z"
   },
   {
    "duration": 17,
    "start_time": "2023-01-21T15:00:14.607Z"
   },
   {
    "duration": 14,
    "start_time": "2023-01-21T15:00:30.963Z"
   },
   {
    "duration": 15,
    "start_time": "2023-01-21T15:00:50.736Z"
   },
   {
    "duration": 3,
    "start_time": "2023-01-21T15:00:53.735Z"
   },
   {
    "duration": 95,
    "start_time": "2023-01-21T15:00:53.740Z"
   },
   {
    "duration": 4,
    "start_time": "2023-01-21T15:00:53.837Z"
   },
   {
    "duration": 17,
    "start_time": "2023-01-21T15:00:53.843Z"
   },
   {
    "duration": 20,
    "start_time": "2023-01-21T15:00:53.862Z"
   },
   {
    "duration": 20,
    "start_time": "2023-01-21T15:00:53.884Z"
   },
   {
    "duration": 14,
    "start_time": "2023-01-21T15:00:53.906Z"
   },
   {
    "duration": 15,
    "start_time": "2023-01-21T15:00:53.922Z"
   },
   {
    "duration": 16,
    "start_time": "2023-01-21T15:00:53.940Z"
   },
   {
    "duration": 15,
    "start_time": "2023-01-21T15:00:53.957Z"
   },
   {
    "duration": 12,
    "start_time": "2023-01-21T15:00:53.974Z"
   },
   {
    "duration": 486,
    "start_time": "2023-01-21T15:00:53.988Z"
   },
   {
    "duration": 208,
    "start_time": "2023-01-21T15:00:54.475Z"
   },
   {
    "duration": 333,
    "start_time": "2023-01-21T15:00:54.689Z"
   },
   {
    "duration": 288,
    "start_time": "2023-01-21T15:00:55.024Z"
   },
   {
    "duration": 398,
    "start_time": "2023-01-21T15:00:55.314Z"
   },
   {
    "duration": 250,
    "start_time": "2023-01-21T15:00:55.713Z"
   },
   {
    "duration": 6,
    "start_time": "2023-01-21T15:00:55.964Z"
   },
   {
    "duration": 162,
    "start_time": "2023-01-21T15:00:55.971Z"
   },
   {
    "duration": 10,
    "start_time": "2023-01-21T15:00:56.135Z"
   },
   {
    "duration": 6,
    "start_time": "2023-01-21T15:00:56.146Z"
   },
   {
    "duration": 14,
    "start_time": "2023-01-21T15:00:56.153Z"
   },
   {
    "duration": 23,
    "start_time": "2023-01-21T15:00:56.168Z"
   },
   {
    "duration": 10,
    "start_time": "2023-01-21T15:00:56.192Z"
   },
   {
    "duration": 8,
    "start_time": "2023-01-21T15:00:56.203Z"
   },
   {
    "duration": 12,
    "start_time": "2023-01-21T15:00:56.212Z"
   },
   {
    "duration": 23,
    "start_time": "2023-01-21T15:00:56.226Z"
   },
   {
    "duration": 12,
    "start_time": "2023-01-21T15:01:17.522Z"
   },
   {
    "duration": 10,
    "start_time": "2023-01-21T15:03:36.892Z"
   },
   {
    "duration": 8,
    "start_time": "2023-01-21T15:03:59.933Z"
   },
   {
    "duration": 6,
    "start_time": "2023-01-21T15:08:12.085Z"
   },
   {
    "duration": 14,
    "start_time": "2023-01-21T15:15:16.055Z"
   },
   {
    "duration": 11,
    "start_time": "2023-01-21T15:16:19.192Z"
   },
   {
    "duration": 10,
    "start_time": "2023-01-21T15:16:38.962Z"
   },
   {
    "duration": 12,
    "start_time": "2023-01-21T15:17:51.717Z"
   },
   {
    "duration": 9,
    "start_time": "2023-01-21T15:17:54.300Z"
   },
   {
    "duration": 6,
    "start_time": "2023-01-21T15:19:02.990Z"
   },
   {
    "duration": 7,
    "start_time": "2023-01-21T15:19:21.682Z"
   },
   {
    "duration": 5,
    "start_time": "2023-01-21T15:19:35.235Z"
   },
   {
    "duration": 6,
    "start_time": "2023-01-21T15:19:42.323Z"
   },
   {
    "duration": 57,
    "start_time": "2023-01-21T15:24:54.750Z"
   },
   {
    "duration": 707,
    "start_time": "2023-01-21T15:33:55.619Z"
   },
   {
    "duration": 6,
    "start_time": "2023-01-21T15:37:46.610Z"
   },
   {
    "duration": 10,
    "start_time": "2023-01-21T15:39:47.358Z"
   },
   {
    "duration": 1084,
    "start_time": "2023-01-21T15:40:02.654Z"
   },
   {
    "duration": 15,
    "start_time": "2023-01-21T15:47:13.074Z"
   },
   {
    "duration": 14,
    "start_time": "2023-01-21T15:47:42.969Z"
   },
   {
    "duration": 134,
    "start_time": "2023-01-21T15:52:25.467Z"
   },
   {
    "duration": 194,
    "start_time": "2023-01-21T15:52:34.584Z"
   },
   {
    "duration": 290,
    "start_time": "2023-01-21T15:53:13.317Z"
   },
   {
    "duration": 279,
    "start_time": "2023-01-21T15:53:28.912Z"
   },
   {
    "duration": 316,
    "start_time": "2023-01-21T15:54:32.327Z"
   },
   {
    "duration": 12,
    "start_time": "2023-01-21T15:54:59.119Z"
   },
   {
    "duration": 359,
    "start_time": "2023-01-21T15:55:05.287Z"
   },
   {
    "duration": 348,
    "start_time": "2023-01-21T15:56:28.246Z"
   },
   {
    "duration": 329,
    "start_time": "2023-01-21T15:57:06.999Z"
   },
   {
    "duration": 127,
    "start_time": "2023-01-21T15:57:45.243Z"
   },
   {
    "duration": 138,
    "start_time": "2023-01-21T15:58:06.121Z"
   },
   {
    "duration": 137,
    "start_time": "2023-01-21T15:58:27.542Z"
   },
   {
    "duration": 11,
    "start_time": "2023-01-21T16:02:17.760Z"
   },
   {
    "duration": 14,
    "start_time": "2023-01-21T16:08:58.767Z"
   },
   {
    "duration": 12,
    "start_time": "2023-01-21T16:10:10.510Z"
   },
   {
    "duration": 12,
    "start_time": "2023-01-21T16:10:39.922Z"
   },
   {
    "duration": 6,
    "start_time": "2023-01-21T16:10:48.725Z"
   },
   {
    "duration": 4,
    "start_time": "2023-01-21T16:14:41.612Z"
   },
   {
    "duration": 15,
    "start_time": "2023-01-21T16:14:56.927Z"
   },
   {
    "duration": 11,
    "start_time": "2023-01-21T16:16:15.233Z"
   },
   {
    "duration": 15,
    "start_time": "2023-01-21T16:16:50.500Z"
   },
   {
    "duration": 15,
    "start_time": "2023-01-21T16:17:08.873Z"
   },
   {
    "duration": 13,
    "start_time": "2023-01-21T16:17:45.301Z"
   },
   {
    "duration": 14,
    "start_time": "2023-01-21T16:18:15.454Z"
   },
   {
    "duration": 14,
    "start_time": "2023-01-21T16:19:08.373Z"
   },
   {
    "duration": 8,
    "start_time": "2023-01-21T16:20:57.209Z"
   },
   {
    "duration": 16,
    "start_time": "2023-01-21T16:21:48.268Z"
   },
   {
    "duration": 8,
    "start_time": "2023-01-21T16:23:28.511Z"
   },
   {
    "duration": 3,
    "start_time": "2023-01-21T16:26:48.726Z"
   },
   {
    "duration": 81,
    "start_time": "2023-01-21T16:26:48.730Z"
   },
   {
    "duration": 5,
    "start_time": "2023-01-21T16:26:48.813Z"
   },
   {
    "duration": 12,
    "start_time": "2023-01-21T16:26:48.819Z"
   },
   {
    "duration": 12,
    "start_time": "2023-01-21T16:26:48.833Z"
   },
   {
    "duration": 8,
    "start_time": "2023-01-21T16:26:48.847Z"
   },
   {
    "duration": 13,
    "start_time": "2023-01-21T16:26:48.857Z"
   },
   {
    "duration": 7,
    "start_time": "2023-01-21T16:26:48.871Z"
   },
   {
    "duration": 13,
    "start_time": "2023-01-21T16:26:48.879Z"
   },
   {
    "duration": 14,
    "start_time": "2023-01-21T16:26:48.894Z"
   },
   {
    "duration": 9,
    "start_time": "2023-01-21T16:26:48.911Z"
   },
   {
    "duration": 466,
    "start_time": "2023-01-21T16:26:48.944Z"
   },
   {
    "duration": 221,
    "start_time": "2023-01-21T16:26:49.412Z"
   },
   {
    "duration": 335,
    "start_time": "2023-01-21T16:26:49.635Z"
   },
   {
    "duration": 205,
    "start_time": "2023-01-21T16:26:49.972Z"
   },
   {
    "duration": 357,
    "start_time": "2023-01-21T16:26:50.178Z"
   },
   {
    "duration": 259,
    "start_time": "2023-01-21T16:26:50.537Z"
   },
   {
    "duration": 8,
    "start_time": "2023-01-21T16:26:50.798Z"
   },
   {
    "duration": 180,
    "start_time": "2023-01-21T16:26:50.808Z"
   },
   {
    "duration": 6,
    "start_time": "2023-01-21T16:26:50.990Z"
   },
   {
    "duration": 8,
    "start_time": "2023-01-21T16:26:50.997Z"
   },
   {
    "duration": 108,
    "start_time": "2023-01-21T16:26:51.006Z"
   },
   {
    "duration": 0,
    "start_time": "2023-01-21T16:26:51.116Z"
   },
   {
    "duration": 0,
    "start_time": "2023-01-21T16:26:51.118Z"
   },
   {
    "duration": 0,
    "start_time": "2023-01-21T16:26:51.120Z"
   },
   {
    "duration": 0,
    "start_time": "2023-01-21T16:26:51.144Z"
   },
   {
    "duration": 0,
    "start_time": "2023-01-21T16:26:51.145Z"
   },
   {
    "duration": 0,
    "start_time": "2023-01-21T16:26:51.146Z"
   },
   {
    "duration": 0,
    "start_time": "2023-01-21T16:26:51.147Z"
   },
   {
    "duration": 0,
    "start_time": "2023-01-21T16:26:51.148Z"
   },
   {
    "duration": 0,
    "start_time": "2023-01-21T16:26:51.149Z"
   },
   {
    "duration": 16,
    "start_time": "2023-01-21T16:28:58.606Z"
   },
   {
    "duration": 42,
    "start_time": "2023-01-21T16:30:40.388Z"
   },
   {
    "duration": 21,
    "start_time": "2023-01-21T16:31:47.013Z"
   },
   {
    "duration": 13,
    "start_time": "2023-01-21T16:32:33.333Z"
   },
   {
    "duration": 4,
    "start_time": "2023-01-21T16:36:13.790Z"
   },
   {
    "duration": 4,
    "start_time": "2023-01-21T16:36:35.704Z"
   },
   {
    "duration": 6,
    "start_time": "2023-01-21T16:36:38.588Z"
   },
   {
    "duration": 12,
    "start_time": "2023-01-21T16:37:00.627Z"
   },
   {
    "duration": 7,
    "start_time": "2023-01-21T16:45:14.139Z"
   },
   {
    "duration": 703,
    "start_time": "2023-01-21T16:45:45.553Z"
   },
   {
    "duration": 11,
    "start_time": "2023-01-21T16:46:00.174Z"
   },
   {
    "duration": 7,
    "start_time": "2023-01-21T16:46:29.354Z"
   },
   {
    "duration": 5,
    "start_time": "2023-01-21T16:47:06.726Z"
   },
   {
    "duration": 4,
    "start_time": "2023-01-21T16:47:08.770Z"
   },
   {
    "duration": 6,
    "start_time": "2023-01-21T16:49:11.656Z"
   },
   {
    "duration": 4,
    "start_time": "2023-01-21T16:49:14.206Z"
   },
   {
    "duration": 90,
    "start_time": "2023-01-21T16:49:14.211Z"
   },
   {
    "duration": 6,
    "start_time": "2023-01-21T16:49:14.303Z"
   },
   {
    "duration": 13,
    "start_time": "2023-01-21T16:49:14.311Z"
   },
   {
    "duration": 17,
    "start_time": "2023-01-21T16:49:14.325Z"
   },
   {
    "duration": 9,
    "start_time": "2023-01-21T16:49:14.343Z"
   },
   {
    "duration": 14,
    "start_time": "2023-01-21T16:49:14.353Z"
   },
   {
    "duration": 6,
    "start_time": "2023-01-21T16:49:14.369Z"
   },
   {
    "duration": 14,
    "start_time": "2023-01-21T16:49:14.376Z"
   },
   {
    "duration": 14,
    "start_time": "2023-01-21T16:49:14.392Z"
   },
   {
    "duration": 40,
    "start_time": "2023-01-21T16:49:14.408Z"
   },
   {
    "duration": 618,
    "start_time": "2023-01-21T16:49:14.450Z"
   },
   {
    "duration": 203,
    "start_time": "2023-01-21T16:49:15.071Z"
   },
   {
    "duration": 294,
    "start_time": "2023-01-21T16:49:15.275Z"
   },
   {
    "duration": 212,
    "start_time": "2023-01-21T16:49:15.572Z"
   },
   {
    "duration": 326,
    "start_time": "2023-01-21T16:49:15.786Z"
   },
   {
    "duration": 307,
    "start_time": "2023-01-21T16:49:16.114Z"
   },
   {
    "duration": 6,
    "start_time": "2023-01-21T16:49:16.423Z"
   },
   {
    "duration": 173,
    "start_time": "2023-01-21T16:49:16.431Z"
   },
   {
    "duration": 5,
    "start_time": "2023-01-21T16:49:16.606Z"
   },
   {
    "duration": 7,
    "start_time": "2023-01-21T16:49:16.613Z"
   },
   {
    "duration": 29,
    "start_time": "2023-01-21T16:49:16.622Z"
   },
   {
    "duration": 20,
    "start_time": "2023-01-21T16:49:16.653Z"
   },
   {
    "duration": 9,
    "start_time": "2023-01-21T16:49:16.675Z"
   },
   {
    "duration": 11,
    "start_time": "2023-01-21T16:49:16.685Z"
   },
   {
    "duration": 5,
    "start_time": "2023-01-21T16:49:16.698Z"
   },
   {
    "duration": 7,
    "start_time": "2023-01-21T16:49:16.704Z"
   },
   {
    "duration": 15,
    "start_time": "2023-01-21T16:49:16.712Z"
   },
   {
    "duration": 15,
    "start_time": "2023-01-21T16:49:16.729Z"
   },
   {
    "duration": 5,
    "start_time": "2023-01-21T16:49:16.745Z"
   },
   {
    "duration": 10,
    "start_time": "2023-01-21T16:49:16.752Z"
   },
   {
    "duration": 15,
    "start_time": "2023-01-21T16:49:16.763Z"
   },
   {
    "duration": 20,
    "start_time": "2023-01-21T16:49:16.779Z"
   },
   {
    "duration": 20,
    "start_time": "2023-01-21T16:49:16.801Z"
   },
   {
    "duration": 1128,
    "start_time": "2023-01-22T00:58:02.037Z"
   },
   {
    "duration": 78,
    "start_time": "2023-01-22T00:58:03.167Z"
   },
   {
    "duration": 6,
    "start_time": "2023-01-22T00:58:03.247Z"
   },
   {
    "duration": 13,
    "start_time": "2023-01-22T00:58:03.255Z"
   },
   {
    "duration": 14,
    "start_time": "2023-01-22T00:58:03.270Z"
   },
   {
    "duration": 11,
    "start_time": "2023-01-22T00:58:03.286Z"
   },
   {
    "duration": 17,
    "start_time": "2023-01-22T00:58:03.299Z"
   },
   {
    "duration": 32,
    "start_time": "2023-01-22T00:58:03.317Z"
   },
   {
    "duration": 17,
    "start_time": "2023-01-22T00:58:03.351Z"
   },
   {
    "duration": 13,
    "start_time": "2023-01-22T00:58:03.371Z"
   },
   {
    "duration": 9,
    "start_time": "2023-01-22T00:58:03.385Z"
   },
   {
    "duration": 594,
    "start_time": "2023-01-22T00:58:03.395Z"
   },
   {
    "duration": 233,
    "start_time": "2023-01-22T00:58:03.991Z"
   },
   {
    "duration": 330,
    "start_time": "2023-01-22T00:58:04.226Z"
   },
   {
    "duration": 215,
    "start_time": "2023-01-22T00:58:04.558Z"
   },
   {
    "duration": 314,
    "start_time": "2023-01-22T00:58:04.775Z"
   },
   {
    "duration": 319,
    "start_time": "2023-01-22T00:58:05.091Z"
   },
   {
    "duration": 7,
    "start_time": "2023-01-22T00:58:05.412Z"
   },
   {
    "duration": 167,
    "start_time": "2023-01-22T00:58:05.421Z"
   },
   {
    "duration": 5,
    "start_time": "2023-01-22T00:58:05.590Z"
   },
   {
    "duration": 6,
    "start_time": "2023-01-22T00:58:05.596Z"
   },
   {
    "duration": 14,
    "start_time": "2023-01-22T00:58:05.604Z"
   },
   {
    "duration": 4,
    "start_time": "2023-01-22T00:58:05.619Z"
   },
   {
    "duration": 27,
    "start_time": "2023-01-22T00:58:05.624Z"
   },
   {
    "duration": 10,
    "start_time": "2023-01-22T00:58:05.652Z"
   },
   {
    "duration": 7,
    "start_time": "2023-01-22T00:58:05.663Z"
   },
   {
    "duration": 7,
    "start_time": "2023-01-22T00:58:05.671Z"
   },
   {
    "duration": 89,
    "start_time": "2023-01-22T00:58:05.680Z"
   },
   {
    "duration": 10,
    "start_time": "2023-01-22T00:58:05.770Z"
   },
   {
    "duration": 6,
    "start_time": "2023-01-22T00:58:05.782Z"
   },
   {
    "duration": 6,
    "start_time": "2023-01-22T00:58:05.790Z"
   },
   {
    "duration": 11,
    "start_time": "2023-01-22T00:58:05.797Z"
   },
   {
    "duration": 5,
    "start_time": "2023-01-22T00:58:05.809Z"
   },
   {
    "duration": 9,
    "start_time": "2023-01-22T00:58:05.815Z"
   },
   {
    "duration": 70,
    "start_time": "2023-01-22T16:18:07.408Z"
   },
   {
    "duration": 1525,
    "start_time": "2023-01-22T16:18:15.310Z"
   },
   {
    "duration": 178,
    "start_time": "2023-01-22T16:18:16.838Z"
   },
   {
    "duration": 9,
    "start_time": "2023-01-22T16:18:17.018Z"
   },
   {
    "duration": 14,
    "start_time": "2023-01-22T16:18:17.029Z"
   },
   {
    "duration": 16,
    "start_time": "2023-01-22T16:18:17.045Z"
   },
   {
    "duration": 9,
    "start_time": "2023-01-22T16:18:17.063Z"
   },
   {
    "duration": 22,
    "start_time": "2023-01-22T16:18:17.074Z"
   },
   {
    "duration": 13,
    "start_time": "2023-01-22T16:18:17.099Z"
   },
   {
    "duration": 17,
    "start_time": "2023-01-22T16:18:17.114Z"
   },
   {
    "duration": 18,
    "start_time": "2023-01-22T16:18:17.133Z"
   },
   {
    "duration": 36,
    "start_time": "2023-01-22T16:18:17.153Z"
   },
   {
    "duration": 723,
    "start_time": "2023-01-22T16:18:17.191Z"
   },
   {
    "duration": 267,
    "start_time": "2023-01-22T16:18:17.917Z"
   },
   {
    "duration": 399,
    "start_time": "2023-01-22T16:18:18.188Z"
   },
   {
    "duration": 245,
    "start_time": "2023-01-22T16:18:18.589Z"
   },
   {
    "duration": 405,
    "start_time": "2023-01-22T16:18:18.836Z"
   },
   {
    "duration": 348,
    "start_time": "2023-01-22T16:18:19.243Z"
   },
   {
    "duration": 16,
    "start_time": "2023-01-22T16:18:19.594Z"
   },
   {
    "duration": 261,
    "start_time": "2023-01-22T16:18:19.612Z"
   },
   {
    "duration": 13,
    "start_time": "2023-01-22T16:18:19.876Z"
   },
   {
    "duration": 15,
    "start_time": "2023-01-22T16:18:19.891Z"
   },
   {
    "duration": 35,
    "start_time": "2023-01-22T16:18:19.908Z"
   },
   {
    "duration": 7,
    "start_time": "2023-01-22T16:18:19.947Z"
   },
   {
    "duration": 18,
    "start_time": "2023-01-22T16:18:19.955Z"
   },
   {
    "duration": 28,
    "start_time": "2023-01-22T16:18:19.983Z"
   },
   {
    "duration": 48,
    "start_time": "2023-01-22T16:18:20.013Z"
   },
   {
    "duration": 25,
    "start_time": "2023-01-22T16:18:20.062Z"
   },
   {
    "duration": 149,
    "start_time": "2023-01-22T16:18:20.089Z"
   },
   {
    "duration": 37,
    "start_time": "2023-01-22T16:18:20.239Z"
   },
   {
    "duration": 54,
    "start_time": "2023-01-22T16:18:20.278Z"
   },
   {
    "duration": 52,
    "start_time": "2023-01-22T16:18:20.334Z"
   },
   {
    "duration": 68,
    "start_time": "2023-01-22T16:18:20.389Z"
   },
   {
    "duration": 62,
    "start_time": "2023-01-22T16:18:20.459Z"
   },
   {
    "duration": 31,
    "start_time": "2023-01-22T16:18:20.523Z"
   },
   {
    "duration": 6,
    "start_time": "2023-01-22T16:27:28.550Z"
   },
   {
    "duration": 5,
    "start_time": "2023-01-22T16:27:39.473Z"
   },
   {
    "duration": 20,
    "start_time": "2023-01-22T16:36:51.020Z"
   },
   {
    "duration": 6,
    "start_time": "2023-01-22T16:37:04.647Z"
   },
   {
    "duration": 1413,
    "start_time": "2023-01-22T16:46:57.385Z"
   },
   {
    "duration": 71,
    "start_time": "2023-01-22T16:46:58.801Z"
   },
   {
    "duration": 12,
    "start_time": "2023-01-22T16:46:58.874Z"
   },
   {
    "duration": 18,
    "start_time": "2023-01-22T16:46:58.890Z"
   },
   {
    "duration": 19,
    "start_time": "2023-01-22T16:46:58.911Z"
   },
   {
    "duration": 13,
    "start_time": "2023-01-22T16:46:58.932Z"
   },
   {
    "duration": 51,
    "start_time": "2023-01-22T16:46:58.948Z"
   },
   {
    "duration": 13,
    "start_time": "2023-01-22T16:46:59.002Z"
   },
   {
    "duration": 25,
    "start_time": "2023-01-22T16:46:59.017Z"
   },
   {
    "duration": 39,
    "start_time": "2023-01-22T16:46:59.045Z"
   },
   {
    "duration": 13,
    "start_time": "2023-01-22T16:46:59.087Z"
   },
   {
    "duration": 1073,
    "start_time": "2023-01-22T16:46:59.103Z"
   },
   {
    "duration": 365,
    "start_time": "2023-01-22T16:47:00.178Z"
   },
   {
    "duration": 485,
    "start_time": "2023-01-22T16:47:00.545Z"
   },
   {
    "duration": 367,
    "start_time": "2023-01-22T16:47:01.033Z"
   },
   {
    "duration": 489,
    "start_time": "2023-01-22T16:47:01.403Z"
   },
   {
    "duration": 395,
    "start_time": "2023-01-22T16:47:01.895Z"
   },
   {
    "duration": 12,
    "start_time": "2023-01-22T16:47:02.293Z"
   },
   {
    "duration": 293,
    "start_time": "2023-01-22T16:47:02.307Z"
   },
   {
    "duration": 7,
    "start_time": "2023-01-22T16:47:02.602Z"
   },
   {
    "duration": 17,
    "start_time": "2023-01-22T16:47:02.611Z"
   },
   {
    "duration": 22,
    "start_time": "2023-01-22T16:47:02.632Z"
   },
   {
    "duration": 11,
    "start_time": "2023-01-22T16:47:02.657Z"
   },
   {
    "duration": 32,
    "start_time": "2023-01-22T16:47:02.669Z"
   },
   {
    "duration": 20,
    "start_time": "2023-01-22T16:47:02.704Z"
   },
   {
    "duration": 21,
    "start_time": "2023-01-22T16:47:02.727Z"
   },
   {
    "duration": 23,
    "start_time": "2023-01-22T16:47:02.751Z"
   },
   {
    "duration": 120,
    "start_time": "2023-01-22T16:47:02.779Z"
   },
   {
    "duration": 18,
    "start_time": "2023-01-22T16:47:02.901Z"
   },
   {
    "duration": 7,
    "start_time": "2023-01-22T16:47:02.921Z"
   },
   {
    "duration": 17,
    "start_time": "2023-01-22T16:47:02.930Z"
   },
   {
    "duration": 20,
    "start_time": "2023-01-22T16:47:02.950Z"
   },
   {
    "duration": 8,
    "start_time": "2023-01-22T16:47:02.985Z"
   },
   {
    "duration": 13,
    "start_time": "2023-01-22T16:47:02.995Z"
   },
   {
    "duration": 47,
    "start_time": "2023-01-23T12:06:48.317Z"
   },
   {
    "duration": 1413,
    "start_time": "2023-01-23T12:06:52.178Z"
   },
   {
    "duration": 261,
    "start_time": "2023-01-23T12:06:53.594Z"
   },
   {
    "duration": 12,
    "start_time": "2023-01-23T12:06:53.857Z"
   },
   {
    "duration": 18,
    "start_time": "2023-01-23T12:06:53.871Z"
   },
   {
    "duration": 35,
    "start_time": "2023-01-23T12:06:53.891Z"
   },
   {
    "duration": 13,
    "start_time": "2023-01-23T12:06:53.928Z"
   },
   {
    "duration": 25,
    "start_time": "2023-01-23T12:06:53.943Z"
   },
   {
    "duration": 7,
    "start_time": "2023-01-23T12:06:53.970Z"
   },
   {
    "duration": 23,
    "start_time": "2023-01-23T12:06:53.979Z"
   },
   {
    "duration": 17,
    "start_time": "2023-01-23T12:06:54.008Z"
   },
   {
    "duration": 22,
    "start_time": "2023-01-23T12:06:54.027Z"
   },
   {
    "duration": 839,
    "start_time": "2023-01-23T12:06:54.051Z"
   },
   {
    "duration": 297,
    "start_time": "2023-01-23T12:06:54.892Z"
   },
   {
    "duration": 433,
    "start_time": "2023-01-23T12:06:55.191Z"
   },
   {
    "duration": 265,
    "start_time": "2023-01-23T12:06:55.626Z"
   },
   {
    "duration": 410,
    "start_time": "2023-01-23T12:06:55.893Z"
   },
   {
    "duration": 395,
    "start_time": "2023-01-23T12:06:56.306Z"
   },
   {
    "duration": 9,
    "start_time": "2023-01-23T12:06:56.703Z"
   },
   {
    "duration": 278,
    "start_time": "2023-01-23T12:06:56.713Z"
   },
   {
    "duration": 8,
    "start_time": "2023-01-23T12:06:56.992Z"
   },
   {
    "duration": 25,
    "start_time": "2023-01-23T12:06:57.002Z"
   },
   {
    "duration": 67,
    "start_time": "2023-01-23T12:06:57.029Z"
   },
   {
    "duration": 28,
    "start_time": "2023-01-23T12:06:57.098Z"
   },
   {
    "duration": 26,
    "start_time": "2023-01-23T12:06:57.128Z"
   },
   {
    "duration": 21,
    "start_time": "2023-01-23T12:06:57.156Z"
   },
   {
    "duration": 16,
    "start_time": "2023-01-23T12:06:57.179Z"
   },
   {
    "duration": 23,
    "start_time": "2023-01-23T12:06:57.197Z"
   },
   {
    "duration": 28,
    "start_time": "2023-01-23T12:06:57.224Z"
   },
   {
    "duration": 57,
    "start_time": "2023-01-23T12:06:57.256Z"
   },
   {
    "duration": 33,
    "start_time": "2023-01-23T12:06:57.317Z"
   },
   {
    "duration": 23,
    "start_time": "2023-01-23T12:06:57.352Z"
   },
   {
    "duration": 45,
    "start_time": "2023-01-23T12:06:57.377Z"
   },
   {
    "duration": 13,
    "start_time": "2023-01-23T12:06:57.425Z"
   },
   {
    "duration": 15,
    "start_time": "2023-01-23T12:06:57.440Z"
   },
   {
    "duration": 11,
    "start_time": "2023-01-23T12:07:24.122Z"
   },
   {
    "duration": 70,
    "start_time": "2023-01-23T12:54:20.547Z"
   },
   {
    "duration": 10,
    "start_time": "2023-01-23T12:54:32.121Z"
   },
   {
    "duration": 207,
    "start_time": "2023-01-23T12:54:40.670Z"
   },
   {
    "duration": 54,
    "start_time": "2023-01-23T13:50:44.738Z"
   },
   {
    "duration": 1396,
    "start_time": "2023-01-23T13:50:53.981Z"
   },
   {
    "duration": 225,
    "start_time": "2023-01-23T13:50:55.379Z"
   },
   {
    "duration": 13,
    "start_time": "2023-01-23T13:50:55.606Z"
   },
   {
    "duration": 10,
    "start_time": "2023-01-23T13:50:55.621Z"
   },
   {
    "duration": 23,
    "start_time": "2023-01-23T13:50:55.634Z"
   },
   {
    "duration": 10,
    "start_time": "2023-01-23T13:50:55.659Z"
   },
   {
    "duration": 19,
    "start_time": "2023-01-23T13:50:55.670Z"
   },
   {
    "duration": 22,
    "start_time": "2023-01-23T13:50:55.690Z"
   },
   {
    "duration": 19,
    "start_time": "2023-01-23T13:50:55.714Z"
   },
   {
    "duration": 16,
    "start_time": "2023-01-23T13:50:55.737Z"
   },
   {
    "duration": 19,
    "start_time": "2023-01-23T13:50:55.755Z"
   },
   {
    "duration": 669,
    "start_time": "2023-01-23T13:50:55.776Z"
   },
   {
    "duration": 258,
    "start_time": "2023-01-23T13:50:56.447Z"
   },
   {
    "duration": 415,
    "start_time": "2023-01-23T13:50:56.709Z"
   },
   {
    "duration": 250,
    "start_time": "2023-01-23T13:50:57.127Z"
   },
   {
    "duration": 361,
    "start_time": "2023-01-23T13:50:57.379Z"
   },
   {
    "duration": 347,
    "start_time": "2023-01-23T13:50:57.741Z"
   },
   {
    "duration": 8,
    "start_time": "2023-01-23T13:50:58.091Z"
   },
   {
    "duration": 205,
    "start_time": "2023-01-23T13:50:58.101Z"
   },
   {
    "duration": 276,
    "start_time": "2023-01-23T13:50:58.307Z"
   },
   {
    "duration": 5,
    "start_time": "2023-01-23T13:50:58.585Z"
   },
   {
    "duration": 23,
    "start_time": "2023-01-23T13:50:58.592Z"
   },
   {
    "duration": 104,
    "start_time": "2023-01-23T13:50:58.617Z"
   },
   {
    "duration": 0,
    "start_time": "2023-01-23T13:50:58.723Z"
   },
   {
    "duration": 0,
    "start_time": "2023-01-23T13:50:58.724Z"
   },
   {
    "duration": 0,
    "start_time": "2023-01-23T13:50:58.725Z"
   },
   {
    "duration": 0,
    "start_time": "2023-01-23T13:50:58.726Z"
   },
   {
    "duration": 0,
    "start_time": "2023-01-23T13:50:58.727Z"
   },
   {
    "duration": 0,
    "start_time": "2023-01-23T13:50:58.728Z"
   },
   {
    "duration": 0,
    "start_time": "2023-01-23T13:50:58.729Z"
   },
   {
    "duration": 0,
    "start_time": "2023-01-23T13:50:58.737Z"
   },
   {
    "duration": 0,
    "start_time": "2023-01-23T13:50:58.738Z"
   },
   {
    "duration": 0,
    "start_time": "2023-01-23T13:50:58.739Z"
   },
   {
    "duration": 0,
    "start_time": "2023-01-23T13:50:58.740Z"
   },
   {
    "duration": 0,
    "start_time": "2023-01-23T13:50:58.741Z"
   },
   {
    "duration": 0,
    "start_time": "2023-01-23T13:50:58.742Z"
   },
   {
    "duration": 16,
    "start_time": "2023-01-23T13:52:23.790Z"
   },
   {
    "duration": 1635,
    "start_time": "2023-01-23T13:52:28.101Z"
   },
   {
    "duration": 21,
    "start_time": "2023-01-23T13:53:11.962Z"
   },
   {
    "duration": 121,
    "start_time": "2023-01-23T13:59:04.337Z"
   },
   {
    "duration": 109,
    "start_time": "2023-01-23T14:28:20.117Z"
   },
   {
    "duration": 715,
    "start_time": "2023-01-23T14:29:44.260Z"
   },
   {
    "duration": 12,
    "start_time": "2023-01-23T14:30:19.905Z"
   },
   {
    "duration": 115,
    "start_time": "2023-01-23T14:31:41.950Z"
   },
   {
    "duration": 88,
    "start_time": "2023-01-23T14:33:02.934Z"
   },
   {
    "duration": 145,
    "start_time": "2023-01-23T14:34:16.958Z"
   },
   {
    "duration": 223,
    "start_time": "2023-01-23T14:34:50.597Z"
   },
   {
    "duration": 207,
    "start_time": "2023-01-23T14:35:32.987Z"
   },
   {
    "duration": 622,
    "start_time": "2023-01-23T14:36:49.713Z"
   },
   {
    "duration": 613,
    "start_time": "2023-01-23T14:38:59.763Z"
   },
   {
    "duration": 4,
    "start_time": "2023-01-23T14:39:14.776Z"
   },
   {
    "duration": 84,
    "start_time": "2023-01-23T14:39:14.782Z"
   },
   {
    "duration": 9,
    "start_time": "2023-01-23T14:39:14.868Z"
   },
   {
    "duration": 44,
    "start_time": "2023-01-23T14:39:14.879Z"
   },
   {
    "duration": 26,
    "start_time": "2023-01-23T14:39:14.925Z"
   },
   {
    "duration": 32,
    "start_time": "2023-01-23T14:39:14.952Z"
   },
   {
    "duration": 44,
    "start_time": "2023-01-23T14:39:14.986Z"
   },
   {
    "duration": 25,
    "start_time": "2023-01-23T14:39:15.032Z"
   },
   {
    "duration": 40,
    "start_time": "2023-01-23T14:39:15.059Z"
   },
   {
    "duration": 36,
    "start_time": "2023-01-23T14:39:15.101Z"
   },
   {
    "duration": 28,
    "start_time": "2023-01-23T14:39:15.139Z"
   },
   {
    "duration": 575,
    "start_time": "2023-01-23T14:39:15.169Z"
   },
   {
    "duration": 246,
    "start_time": "2023-01-23T14:39:15.746Z"
   },
   {
    "duration": 376,
    "start_time": "2023-01-23T14:39:15.996Z"
   },
   {
    "duration": 231,
    "start_time": "2023-01-23T14:39:16.373Z"
   },
   {
    "duration": 415,
    "start_time": "2023-01-23T14:39:16.606Z"
   },
   {
    "duration": 353,
    "start_time": "2023-01-23T14:39:17.023Z"
   },
   {
    "duration": 8,
    "start_time": "2023-01-23T14:39:17.377Z"
   },
   {
    "duration": 205,
    "start_time": "2023-01-23T14:39:17.387Z"
   },
   {
    "duration": 273,
    "start_time": "2023-01-23T14:39:17.593Z"
   },
   {
    "duration": 6,
    "start_time": "2023-01-23T14:39:17.868Z"
   },
   {
    "duration": 12,
    "start_time": "2023-01-23T14:39:17.876Z"
   },
   {
    "duration": 658,
    "start_time": "2023-01-23T14:39:17.890Z"
   },
   {
    "duration": 0,
    "start_time": "2023-01-23T14:39:18.550Z"
   },
   {
    "duration": 0,
    "start_time": "2023-01-23T14:39:18.551Z"
   },
   {
    "duration": 0,
    "start_time": "2023-01-23T14:39:18.552Z"
   },
   {
    "duration": 0,
    "start_time": "2023-01-23T14:39:18.553Z"
   },
   {
    "duration": 0,
    "start_time": "2023-01-23T14:39:18.554Z"
   },
   {
    "duration": 0,
    "start_time": "2023-01-23T14:39:18.557Z"
   },
   {
    "duration": 0,
    "start_time": "2023-01-23T14:39:18.558Z"
   },
   {
    "duration": 0,
    "start_time": "2023-01-23T14:39:18.559Z"
   },
   {
    "duration": 0,
    "start_time": "2023-01-23T14:39:18.561Z"
   },
   {
    "duration": 0,
    "start_time": "2023-01-23T14:39:18.562Z"
   },
   {
    "duration": 0,
    "start_time": "2023-01-23T14:39:18.563Z"
   },
   {
    "duration": 0,
    "start_time": "2023-01-23T14:39:18.564Z"
   },
   {
    "duration": 0,
    "start_time": "2023-01-23T14:39:18.565Z"
   },
   {
    "duration": 4,
    "start_time": "2023-01-23T14:39:37.354Z"
   },
   {
    "duration": 80,
    "start_time": "2023-01-23T14:39:37.361Z"
   },
   {
    "duration": 8,
    "start_time": "2023-01-23T14:39:37.443Z"
   },
   {
    "duration": 25,
    "start_time": "2023-01-23T14:39:37.453Z"
   },
   {
    "duration": 46,
    "start_time": "2023-01-23T14:39:37.481Z"
   },
   {
    "duration": 40,
    "start_time": "2023-01-23T14:39:37.529Z"
   },
   {
    "duration": 25,
    "start_time": "2023-01-23T14:39:37.571Z"
   },
   {
    "duration": 40,
    "start_time": "2023-01-23T14:39:37.598Z"
   },
   {
    "duration": 27,
    "start_time": "2023-01-23T14:39:37.639Z"
   },
   {
    "duration": 51,
    "start_time": "2023-01-23T14:39:37.668Z"
   },
   {
    "duration": 43,
    "start_time": "2023-01-23T14:39:37.721Z"
   },
   {
    "duration": 555,
    "start_time": "2023-01-23T14:39:37.766Z"
   },
   {
    "duration": 213,
    "start_time": "2023-01-23T14:39:38.324Z"
   },
   {
    "duration": 329,
    "start_time": "2023-01-23T14:39:38.539Z"
   },
   {
    "duration": 237,
    "start_time": "2023-01-23T14:39:38.869Z"
   },
   {
    "duration": 374,
    "start_time": "2023-01-23T14:39:39.109Z"
   },
   {
    "duration": 262,
    "start_time": "2023-01-23T14:39:39.484Z"
   },
   {
    "duration": 7,
    "start_time": "2023-01-23T14:39:39.748Z"
   },
   {
    "duration": 182,
    "start_time": "2023-01-23T14:39:39.756Z"
   },
   {
    "duration": 171,
    "start_time": "2023-01-23T14:39:39.939Z"
   },
   {
    "duration": 5,
    "start_time": "2023-01-23T14:39:40.112Z"
   },
   {
    "duration": 24,
    "start_time": "2023-01-23T14:39:40.118Z"
   },
   {
    "duration": 606,
    "start_time": "2023-01-23T14:39:40.143Z"
   },
   {
    "duration": 0,
    "start_time": "2023-01-23T14:39:40.750Z"
   },
   {
    "duration": 0,
    "start_time": "2023-01-23T14:39:40.752Z"
   },
   {
    "duration": 0,
    "start_time": "2023-01-23T14:39:40.752Z"
   },
   {
    "duration": 0,
    "start_time": "2023-01-23T14:39:40.753Z"
   },
   {
    "duration": 0,
    "start_time": "2023-01-23T14:39:40.755Z"
   },
   {
    "duration": 0,
    "start_time": "2023-01-23T14:39:40.756Z"
   },
   {
    "duration": 0,
    "start_time": "2023-01-23T14:39:40.756Z"
   },
   {
    "duration": 0,
    "start_time": "2023-01-23T14:39:40.757Z"
   },
   {
    "duration": 0,
    "start_time": "2023-01-23T14:39:40.758Z"
   },
   {
    "duration": 0,
    "start_time": "2023-01-23T14:39:40.759Z"
   },
   {
    "duration": 0,
    "start_time": "2023-01-23T14:39:40.760Z"
   },
   {
    "duration": 0,
    "start_time": "2023-01-23T14:39:40.761Z"
   },
   {
    "duration": 0,
    "start_time": "2023-01-23T14:39:40.762Z"
   },
   {
    "duration": 624,
    "start_time": "2023-01-23T14:40:37.498Z"
   },
   {
    "duration": 4,
    "start_time": "2023-01-23T14:41:17.875Z"
   },
   {
    "duration": 88,
    "start_time": "2023-01-23T14:41:17.881Z"
   },
   {
    "duration": 9,
    "start_time": "2023-01-23T14:41:17.971Z"
   },
   {
    "duration": 40,
    "start_time": "2023-01-23T14:41:17.982Z"
   },
   {
    "duration": 42,
    "start_time": "2023-01-23T14:41:18.025Z"
   },
   {
    "duration": 27,
    "start_time": "2023-01-23T14:41:18.069Z"
   },
   {
    "duration": 27,
    "start_time": "2023-01-23T14:41:18.098Z"
   },
   {
    "duration": 25,
    "start_time": "2023-01-23T14:41:18.127Z"
   },
   {
    "duration": 36,
    "start_time": "2023-01-23T14:41:18.154Z"
   },
   {
    "duration": 16,
    "start_time": "2023-01-23T14:41:18.192Z"
   },
   {
    "duration": 17,
    "start_time": "2023-01-23T14:41:18.210Z"
   },
   {
    "duration": 536,
    "start_time": "2023-01-23T14:41:18.229Z"
   },
   {
    "duration": 336,
    "start_time": "2023-01-23T14:41:18.767Z"
   },
   {
    "duration": 395,
    "start_time": "2023-01-23T14:41:19.107Z"
   },
   {
    "duration": 250,
    "start_time": "2023-01-23T14:41:19.505Z"
   },
   {
    "duration": 357,
    "start_time": "2023-01-23T14:41:19.758Z"
   },
   {
    "duration": 307,
    "start_time": "2023-01-23T14:41:20.117Z"
   },
   {
    "duration": 17,
    "start_time": "2023-01-23T14:41:20.426Z"
   },
   {
    "duration": 220,
    "start_time": "2023-01-23T14:41:20.445Z"
   },
   {
    "duration": 192,
    "start_time": "2023-01-23T14:41:20.667Z"
   },
   {
    "duration": 7,
    "start_time": "2023-01-23T14:41:20.861Z"
   },
   {
    "duration": 17,
    "start_time": "2023-01-23T14:41:20.870Z"
   },
   {
    "duration": 685,
    "start_time": "2023-01-23T14:41:20.889Z"
   },
   {
    "duration": 2767,
    "start_time": "2023-01-23T14:41:21.576Z"
   },
   {
    "duration": 0,
    "start_time": "2023-01-23T14:41:24.344Z"
   },
   {
    "duration": 0,
    "start_time": "2023-01-23T14:41:24.346Z"
   },
   {
    "duration": 0,
    "start_time": "2023-01-23T14:41:24.347Z"
   },
   {
    "duration": 0,
    "start_time": "2023-01-23T14:41:24.348Z"
   },
   {
    "duration": 0,
    "start_time": "2023-01-23T14:41:24.350Z"
   },
   {
    "duration": 0,
    "start_time": "2023-01-23T14:41:24.351Z"
   },
   {
    "duration": 0,
    "start_time": "2023-01-23T14:41:24.352Z"
   },
   {
    "duration": 0,
    "start_time": "2023-01-23T14:41:24.353Z"
   },
   {
    "duration": 0,
    "start_time": "2023-01-23T14:41:24.355Z"
   },
   {
    "duration": 0,
    "start_time": "2023-01-23T14:41:24.356Z"
   },
   {
    "duration": 0,
    "start_time": "2023-01-23T14:41:24.357Z"
   },
   {
    "duration": 0,
    "start_time": "2023-01-23T14:41:24.358Z"
   },
   {
    "duration": 39,
    "start_time": "2023-01-23T14:44:25.879Z"
   },
   {
    "duration": 1759,
    "start_time": "2023-01-23T14:44:32.477Z"
   },
   {
    "duration": 2729,
    "start_time": "2023-01-23T14:45:00.553Z"
   },
   {
    "duration": 433,
    "start_time": "2023-01-23T14:47:38.634Z"
   },
   {
    "duration": 262,
    "start_time": "2023-01-23T14:48:11.857Z"
   },
   {
    "duration": 141,
    "start_time": "2023-01-23T14:49:32.417Z"
   },
   {
    "duration": 3,
    "start_time": "2023-01-23T14:51:49.921Z"
   },
   {
    "duration": 81,
    "start_time": "2023-01-23T14:51:49.926Z"
   },
   {
    "duration": 9,
    "start_time": "2023-01-23T14:51:50.008Z"
   },
   {
    "duration": 23,
    "start_time": "2023-01-23T14:51:50.019Z"
   },
   {
    "duration": 19,
    "start_time": "2023-01-23T14:51:50.044Z"
   },
   {
    "duration": 28,
    "start_time": "2023-01-23T14:51:50.066Z"
   },
   {
    "duration": 29,
    "start_time": "2023-01-23T14:51:50.096Z"
   },
   {
    "duration": 16,
    "start_time": "2023-01-23T14:51:50.127Z"
   },
   {
    "duration": 40,
    "start_time": "2023-01-23T14:51:50.146Z"
   },
   {
    "duration": 34,
    "start_time": "2023-01-23T14:51:50.188Z"
   },
   {
    "duration": 39,
    "start_time": "2023-01-23T14:51:50.224Z"
   },
   {
    "duration": 606,
    "start_time": "2023-01-23T14:51:50.265Z"
   },
   {
    "duration": 255,
    "start_time": "2023-01-23T14:51:50.873Z"
   },
   {
    "duration": 379,
    "start_time": "2023-01-23T14:51:51.130Z"
   },
   {
    "duration": 324,
    "start_time": "2023-01-23T14:51:51.511Z"
   },
   {
    "duration": 411,
    "start_time": "2023-01-23T14:51:51.837Z"
   },
   {
    "duration": 385,
    "start_time": "2023-01-23T14:51:52.250Z"
   },
   {
    "duration": 8,
    "start_time": "2023-01-23T14:51:52.638Z"
   },
   {
    "duration": 202,
    "start_time": "2023-01-23T14:51:52.647Z"
   },
   {
    "duration": 194,
    "start_time": "2023-01-23T14:51:52.851Z"
   },
   {
    "duration": 5,
    "start_time": "2023-01-23T14:51:53.047Z"
   },
   {
    "duration": 18,
    "start_time": "2023-01-23T14:51:53.053Z"
   },
   {
    "duration": 378,
    "start_time": "2023-01-23T14:51:53.073Z"
   },
   {
    "duration": 27,
    "start_time": "2023-01-23T14:51:53.455Z"
   },
   {
    "duration": 4,
    "start_time": "2023-01-23T14:51:53.484Z"
   },
   {
    "duration": 1688,
    "start_time": "2023-01-23T14:51:53.490Z"
   },
   {
    "duration": 0,
    "start_time": "2023-01-23T14:51:55.180Z"
   },
   {
    "duration": 0,
    "start_time": "2023-01-23T14:51:55.182Z"
   },
   {
    "duration": 0,
    "start_time": "2023-01-23T14:51:55.184Z"
   },
   {
    "duration": 0,
    "start_time": "2023-01-23T14:51:55.185Z"
   },
   {
    "duration": 0,
    "start_time": "2023-01-23T14:51:55.187Z"
   },
   {
    "duration": 0,
    "start_time": "2023-01-23T14:51:55.188Z"
   },
   {
    "duration": 0,
    "start_time": "2023-01-23T14:51:55.190Z"
   },
   {
    "duration": 0,
    "start_time": "2023-01-23T14:51:55.191Z"
   },
   {
    "duration": 0,
    "start_time": "2023-01-23T14:51:55.193Z"
   },
   {
    "duration": 0,
    "start_time": "2023-01-23T14:51:55.194Z"
   },
   {
    "duration": 24,
    "start_time": "2023-01-23T14:52:13.720Z"
   },
   {
    "duration": 13,
    "start_time": "2023-01-23T14:58:49.829Z"
   },
   {
    "duration": 8,
    "start_time": "2023-01-23T15:07:26.555Z"
   },
   {
    "duration": 10,
    "start_time": "2023-01-23T15:08:41.775Z"
   },
   {
    "duration": 14,
    "start_time": "2023-01-23T15:08:50.366Z"
   },
   {
    "duration": 23,
    "start_time": "2023-01-23T15:08:52.978Z"
   },
   {
    "duration": 1210,
    "start_time": "2023-01-23T15:12:54.587Z"
   },
   {
    "duration": 3,
    "start_time": "2023-01-23T15:13:25.168Z"
   },
   {
    "duration": 80,
    "start_time": "2023-01-23T15:13:25.173Z"
   },
   {
    "duration": 8,
    "start_time": "2023-01-23T15:13:25.255Z"
   },
   {
    "duration": 20,
    "start_time": "2023-01-23T15:13:25.264Z"
   },
   {
    "duration": 25,
    "start_time": "2023-01-23T15:13:25.286Z"
   },
   {
    "duration": 8,
    "start_time": "2023-01-23T15:13:25.313Z"
   },
   {
    "duration": 19,
    "start_time": "2023-01-23T15:13:25.322Z"
   },
   {
    "duration": 7,
    "start_time": "2023-01-23T15:13:25.343Z"
   },
   {
    "duration": 19,
    "start_time": "2023-01-23T15:13:25.351Z"
   },
   {
    "duration": 25,
    "start_time": "2023-01-23T15:13:25.372Z"
   },
   {
    "duration": 17,
    "start_time": "2023-01-23T15:13:25.400Z"
   },
   {
    "duration": 506,
    "start_time": "2023-01-23T15:13:25.419Z"
   },
   {
    "duration": 226,
    "start_time": "2023-01-23T15:13:25.927Z"
   },
   {
    "duration": 323,
    "start_time": "2023-01-23T15:13:26.155Z"
   },
   {
    "duration": 229,
    "start_time": "2023-01-23T15:13:26.480Z"
   },
   {
    "duration": 392,
    "start_time": "2023-01-23T15:13:26.711Z"
   },
   {
    "duration": 270,
    "start_time": "2023-01-23T15:13:27.104Z"
   },
   {
    "duration": 8,
    "start_time": "2023-01-23T15:13:27.376Z"
   },
   {
    "duration": 290,
    "start_time": "2023-01-23T15:13:27.386Z"
   },
   {
    "duration": 178,
    "start_time": "2023-01-23T15:13:27.677Z"
   },
   {
    "duration": 5,
    "start_time": "2023-01-23T15:13:27.857Z"
   },
   {
    "duration": 8,
    "start_time": "2023-01-23T15:13:27.864Z"
   },
   {
    "duration": 403,
    "start_time": "2023-01-23T15:13:27.873Z"
   },
   {
    "duration": 24,
    "start_time": "2023-01-23T15:13:28.278Z"
   },
   {
    "duration": 10,
    "start_time": "2023-01-23T15:13:28.303Z"
   },
   {
    "duration": 32,
    "start_time": "2023-01-23T15:13:28.315Z"
   },
   {
    "duration": 29,
    "start_time": "2023-01-23T15:13:28.348Z"
   },
   {
    "duration": 1285,
    "start_time": "2023-01-23T15:13:28.378Z"
   },
   {
    "duration": 4,
    "start_time": "2023-01-23T15:13:59.165Z"
   },
   {
    "duration": 86,
    "start_time": "2023-01-23T15:13:59.171Z"
   },
   {
    "duration": 9,
    "start_time": "2023-01-23T15:13:59.259Z"
   },
   {
    "duration": 35,
    "start_time": "2023-01-23T15:13:59.270Z"
   },
   {
    "duration": 36,
    "start_time": "2023-01-23T15:13:59.308Z"
   },
   {
    "duration": 16,
    "start_time": "2023-01-23T15:13:59.346Z"
   },
   {
    "duration": 32,
    "start_time": "2023-01-23T15:13:59.364Z"
   },
   {
    "duration": 21,
    "start_time": "2023-01-23T15:13:59.398Z"
   },
   {
    "duration": 43,
    "start_time": "2023-01-23T15:13:59.420Z"
   },
   {
    "duration": 50,
    "start_time": "2023-01-23T15:13:59.465Z"
   },
   {
    "duration": 32,
    "start_time": "2023-01-23T15:13:59.517Z"
   },
   {
    "duration": 541,
    "start_time": "2023-01-23T15:13:59.551Z"
   },
   {
    "duration": 226,
    "start_time": "2023-01-23T15:14:00.093Z"
   },
   {
    "duration": 341,
    "start_time": "2023-01-23T15:14:00.322Z"
   },
   {
    "duration": 242,
    "start_time": "2023-01-23T15:14:00.665Z"
   },
   {
    "duration": 391,
    "start_time": "2023-01-23T15:14:00.909Z"
   },
   {
    "duration": 308,
    "start_time": "2023-01-23T15:14:01.302Z"
   },
   {
    "duration": 7,
    "start_time": "2023-01-23T15:14:01.612Z"
   },
   {
    "duration": 220,
    "start_time": "2023-01-23T15:14:01.621Z"
   },
   {
    "duration": 176,
    "start_time": "2023-01-23T15:14:01.843Z"
   },
   {
    "duration": 5,
    "start_time": "2023-01-23T15:14:02.021Z"
   },
   {
    "duration": 19,
    "start_time": "2023-01-23T15:14:02.038Z"
   },
   {
    "duration": 365,
    "start_time": "2023-01-23T15:14:02.059Z"
   },
   {
    "duration": 26,
    "start_time": "2023-01-23T15:14:02.426Z"
   },
   {
    "duration": 10,
    "start_time": "2023-01-23T15:14:02.454Z"
   },
   {
    "duration": 21,
    "start_time": "2023-01-23T15:14:02.466Z"
   },
   {
    "duration": 26,
    "start_time": "2023-01-23T15:14:02.489Z"
   },
   {
    "duration": 1470,
    "start_time": "2023-01-23T15:14:02.517Z"
   },
   {
    "duration": 5,
    "start_time": "2023-01-23T15:15:44.941Z"
   },
   {
    "duration": 83,
    "start_time": "2023-01-23T15:15:44.949Z"
   },
   {
    "duration": 11,
    "start_time": "2023-01-23T15:15:45.035Z"
   },
   {
    "duration": 15,
    "start_time": "2023-01-23T15:15:45.048Z"
   },
   {
    "duration": 22,
    "start_time": "2023-01-23T15:15:45.066Z"
   },
   {
    "duration": 23,
    "start_time": "2023-01-23T15:15:45.090Z"
   },
   {
    "duration": 34,
    "start_time": "2023-01-23T15:15:45.115Z"
   },
   {
    "duration": 32,
    "start_time": "2023-01-23T15:15:45.151Z"
   },
   {
    "duration": 29,
    "start_time": "2023-01-23T15:15:45.185Z"
   },
   {
    "duration": 25,
    "start_time": "2023-01-23T15:15:45.217Z"
   },
   {
    "duration": 18,
    "start_time": "2023-01-23T15:15:45.244Z"
   },
   {
    "duration": 633,
    "start_time": "2023-01-23T15:15:45.264Z"
   },
   {
    "duration": 226,
    "start_time": "2023-01-23T15:15:45.899Z"
   },
   {
    "duration": 371,
    "start_time": "2023-01-23T15:15:46.127Z"
   },
   {
    "duration": 233,
    "start_time": "2023-01-23T15:15:46.500Z"
   },
   {
    "duration": 375,
    "start_time": "2023-01-23T15:15:46.738Z"
   },
   {
    "duration": 313,
    "start_time": "2023-01-23T15:15:47.115Z"
   },
   {
    "duration": 10,
    "start_time": "2023-01-23T15:15:47.429Z"
   },
   {
    "duration": 183,
    "start_time": "2023-01-23T15:15:47.440Z"
   },
   {
    "duration": 176,
    "start_time": "2023-01-23T15:15:47.625Z"
   },
   {
    "duration": 4,
    "start_time": "2023-01-23T15:15:47.803Z"
   },
   {
    "duration": 22,
    "start_time": "2023-01-23T15:15:47.809Z"
   },
   {
    "duration": 373,
    "start_time": "2023-01-23T15:15:47.832Z"
   },
   {
    "duration": 24,
    "start_time": "2023-01-23T15:15:48.207Z"
   },
   {
    "duration": 11,
    "start_time": "2023-01-23T15:15:48.237Z"
   },
   {
    "duration": 17,
    "start_time": "2023-01-23T15:15:48.249Z"
   },
   {
    "duration": 37,
    "start_time": "2023-01-23T15:15:48.268Z"
   },
   {
    "duration": 1371,
    "start_time": "2023-01-23T15:15:48.309Z"
   },
   {
    "duration": 14,
    "start_time": "2023-01-23T15:18:39.529Z"
   },
   {
    "duration": 74,
    "start_time": "2023-01-23T19:51:27.447Z"
   },
   {
    "duration": 10,
    "start_time": "2023-01-23T19:51:44.034Z"
   },
   {
    "duration": 10,
    "start_time": "2023-01-23T19:51:47.004Z"
   },
   {
    "duration": 1365,
    "start_time": "2023-01-23T19:51:58.859Z"
   },
   {
    "duration": 209,
    "start_time": "2023-01-23T19:52:00.226Z"
   },
   {
    "duration": 12,
    "start_time": "2023-01-23T19:52:00.437Z"
   },
   {
    "duration": 28,
    "start_time": "2023-01-23T19:52:00.451Z"
   },
   {
    "duration": 27,
    "start_time": "2023-01-23T19:52:00.482Z"
   },
   {
    "duration": 11,
    "start_time": "2023-01-23T19:52:00.511Z"
   },
   {
    "duration": 20,
    "start_time": "2023-01-23T19:52:00.524Z"
   },
   {
    "duration": 12,
    "start_time": "2023-01-23T19:52:00.546Z"
   },
   {
    "duration": 56,
    "start_time": "2023-01-23T19:52:00.560Z"
   },
   {
    "duration": 26,
    "start_time": "2023-01-23T19:52:00.618Z"
   },
   {
    "duration": 66,
    "start_time": "2023-01-23T19:52:00.646Z"
   },
   {
    "duration": 663,
    "start_time": "2023-01-23T19:52:00.714Z"
   },
   {
    "duration": 252,
    "start_time": "2023-01-23T19:52:01.379Z"
   },
   {
    "duration": 379,
    "start_time": "2023-01-23T19:52:01.639Z"
   },
   {
    "duration": 236,
    "start_time": "2023-01-23T19:52:02.021Z"
   },
   {
    "duration": 352,
    "start_time": "2023-01-23T19:52:02.259Z"
   },
   {
    "duration": 311,
    "start_time": "2023-01-23T19:52:02.613Z"
   },
   {
    "duration": 18,
    "start_time": "2023-01-23T19:52:02.925Z"
   },
   {
    "duration": 207,
    "start_time": "2023-01-23T19:52:02.945Z"
   },
   {
    "duration": 315,
    "start_time": "2023-01-23T19:52:03.154Z"
   },
   {
    "duration": 6,
    "start_time": "2023-01-23T19:52:03.470Z"
   },
   {
    "duration": 25,
    "start_time": "2023-01-23T19:52:03.477Z"
   },
   {
    "duration": 361,
    "start_time": "2023-01-23T19:52:03.504Z"
   },
   {
    "duration": 25,
    "start_time": "2023-01-23T19:52:03.867Z"
   },
   {
    "duration": 25,
    "start_time": "2023-01-23T19:52:03.894Z"
   },
   {
    "duration": 39,
    "start_time": "2023-01-23T19:52:03.921Z"
   },
   {
    "duration": 47,
    "start_time": "2023-01-23T19:52:03.962Z"
   },
   {
    "duration": 39,
    "start_time": "2023-01-23T19:52:04.011Z"
   },
   {
    "duration": 350,
    "start_time": "2023-01-23T19:53:53.460Z"
   },
   {
    "duration": 392,
    "start_time": "2023-01-23T19:54:17.428Z"
   },
   {
    "duration": 48,
    "start_time": "2023-01-24T17:30:27.650Z"
   },
   {
    "duration": 1303,
    "start_time": "2023-01-24T17:30:46.026Z"
   },
   {
    "duration": 227,
    "start_time": "2023-01-24T17:30:47.332Z"
   },
   {
    "duration": 11,
    "start_time": "2023-01-24T17:30:47.560Z"
   },
   {
    "duration": 19,
    "start_time": "2023-01-24T17:30:47.573Z"
   },
   {
    "duration": 31,
    "start_time": "2023-01-24T17:30:47.594Z"
   },
   {
    "duration": 10,
    "start_time": "2023-01-24T17:30:47.627Z"
   },
   {
    "duration": 17,
    "start_time": "2023-01-24T17:30:47.638Z"
   },
   {
    "duration": 23,
    "start_time": "2023-01-24T17:30:47.657Z"
   },
   {
    "duration": 17,
    "start_time": "2023-01-24T17:30:47.682Z"
   },
   {
    "duration": 30,
    "start_time": "2023-01-24T17:30:47.700Z"
   },
   {
    "duration": 25,
    "start_time": "2023-01-24T17:30:47.731Z"
   },
   {
    "duration": 589,
    "start_time": "2023-01-24T17:30:47.758Z"
   },
   {
    "duration": 210,
    "start_time": "2023-01-24T17:30:48.348Z"
   },
   {
    "duration": 338,
    "start_time": "2023-01-24T17:30:48.560Z"
   },
   {
    "duration": 221,
    "start_time": "2023-01-24T17:30:48.899Z"
   },
   {
    "duration": 342,
    "start_time": "2023-01-24T17:30:49.126Z"
   },
   {
    "duration": 289,
    "start_time": "2023-01-24T17:30:49.470Z"
   },
   {
    "duration": 7,
    "start_time": "2023-01-24T17:30:49.761Z"
   },
   {
    "duration": 186,
    "start_time": "2023-01-24T17:30:49.769Z"
   },
   {
    "duration": 247,
    "start_time": "2023-01-24T17:30:49.956Z"
   },
   {
    "duration": 4,
    "start_time": "2023-01-24T17:30:50.205Z"
   },
   {
    "duration": 12,
    "start_time": "2023-01-24T17:30:50.210Z"
   },
   {
    "duration": 419,
    "start_time": "2023-01-24T17:30:50.224Z"
   },
   {
    "duration": 26,
    "start_time": "2023-01-24T17:30:50.644Z"
   },
   {
    "duration": 93,
    "start_time": "2023-01-24T17:30:50.672Z"
   },
   {
    "duration": 0,
    "start_time": "2023-01-24T17:30:50.766Z"
   },
   {
    "duration": 0,
    "start_time": "2023-01-24T17:30:50.767Z"
   },
   {
    "duration": 0,
    "start_time": "2023-01-24T17:30:50.769Z"
   },
   {
    "duration": 16,
    "start_time": "2023-01-24T17:31:05.871Z"
   },
   {
    "duration": 15,
    "start_time": "2023-01-24T17:31:58.730Z"
   },
   {
    "duration": 1432,
    "start_time": "2023-03-19T15:16:42.961Z"
   },
   {
    "duration": 236,
    "start_time": "2023-03-19T15:16:44.395Z"
   },
   {
    "duration": 11,
    "start_time": "2023-03-19T15:16:44.633Z"
   },
   {
    "duration": 15,
    "start_time": "2023-03-19T15:16:44.646Z"
   },
   {
    "duration": 24,
    "start_time": "2023-03-19T15:16:44.663Z"
   },
   {
    "duration": 27,
    "start_time": "2023-03-19T15:16:44.689Z"
   },
   {
    "duration": 18,
    "start_time": "2023-03-19T15:16:44.718Z"
   },
   {
    "duration": 6,
    "start_time": "2023-03-19T15:16:44.737Z"
   },
   {
    "duration": 15,
    "start_time": "2023-03-19T15:16:44.744Z"
   },
   {
    "duration": 13,
    "start_time": "2023-03-19T15:16:44.761Z"
   },
   {
    "duration": 23,
    "start_time": "2023-03-19T15:16:44.776Z"
   },
   {
    "duration": 698,
    "start_time": "2023-03-19T15:16:44.803Z"
   },
   {
    "duration": 252,
    "start_time": "2023-03-19T15:16:45.504Z"
   },
   {
    "duration": 345,
    "start_time": "2023-03-19T15:16:45.759Z"
   },
   {
    "duration": 270,
    "start_time": "2023-03-19T15:16:46.106Z"
   },
   {
    "duration": 390,
    "start_time": "2023-03-19T15:16:46.377Z"
   },
   {
    "duration": 300,
    "start_time": "2023-03-19T15:16:46.768Z"
   },
   {
    "duration": 6,
    "start_time": "2023-03-19T15:16:47.069Z"
   },
   {
    "duration": 207,
    "start_time": "2023-03-19T15:16:47.077Z"
   },
   {
    "duration": 307,
    "start_time": "2023-03-19T15:16:47.285Z"
   },
   {
    "duration": 9,
    "start_time": "2023-03-19T15:16:47.593Z"
   },
   {
    "duration": 16,
    "start_time": "2023-03-19T15:16:47.604Z"
   },
   {
    "duration": 361,
    "start_time": "2023-03-19T15:16:47.622Z"
   },
   {
    "duration": 32,
    "start_time": "2023-03-19T15:16:47.984Z"
   },
   {
    "duration": 14,
    "start_time": "2023-03-19T15:16:48.018Z"
   },
   {
    "duration": 12,
    "start_time": "2023-03-19T15:16:48.033Z"
   },
   {
    "duration": 29,
    "start_time": "2023-03-19T15:16:48.046Z"
   },
   {
    "duration": 17,
    "start_time": "2023-03-19T15:16:48.104Z"
   }
  ],
  "kernelspec": {
   "display_name": "Python 3 (ipykernel)",
   "language": "python",
   "name": "python3"
  },
  "language_info": {
   "codemirror_mode": {
    "name": "ipython",
    "version": 3
   },
   "file_extension": ".py",
   "mimetype": "text/x-python",
   "name": "python",
   "nbconvert_exporter": "python",
   "pygments_lexer": "ipython3",
   "version": "3.9.13"
  },
  "toc": {
   "base_numbering": 1,
   "nav_menu": {},
   "number_sections": true,
   "sideBar": true,
   "skip_h1_title": true,
   "title_cell": "Table of Contents",
   "title_sidebar": "Contents",
   "toc_cell": false,
   "toc_position": {},
   "toc_section_display": true,
   "toc_window_display": false
  }
 },
 "nbformat": 4,
 "nbformat_minor": 2
}
